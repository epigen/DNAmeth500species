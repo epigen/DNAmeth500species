{
 "cells": [
  {
   "cell_type": "code",
   "execution_count": 1,
   "id": "f30c6bbc-e4e8-4143-a25c-ff20e97dd5b6",
   "metadata": {},
   "outputs": [
    {
     "name": "stderr",
     "output_type": "stream",
     "text": [
      "Joining, by = \"species\"\n",
      "\n"
     ]
    }
   ],
   "source": [
    "source(file.path(\"../../src/00.0_init.R\"))"
   ]
  },
  {
   "cell_type": "code",
   "execution_count": 2,
   "id": "359eb288-2edd-4ddc-a80e-2b4e211edf87",
   "metadata": {},
   "outputs": [],
   "source": [
    "wd <- file.path(analysis_dir, \"validation\", \"03_WGBS\", \"03.5_RRBS_test_in_WGBS\")\n",
    "\n",
    "setwd(wd)"
   ]
  },
  {
   "cell_type": "code",
   "execution_count": 3,
   "id": "e4cba190-695e-4aab-83a9-29dbf7a784ff",
   "metadata": {},
   "outputs": [],
   "source": [
    "summary_files = list.files(pattern = \"auc_test\", recursive = TRUE)"
   ]
  },
  {
   "cell_type": "code",
   "execution_count": 4,
   "id": "52177d21-b276-49f6-b245-0ee1454f699e",
   "metadata": {},
   "outputs": [
    {
     "data": {
      "text/html": [
       "577"
      ],
      "text/latex": [
       "577"
      ],
      "text/markdown": [
       "577"
      ],
      "text/plain": [
       "[1] 577"
      ]
     },
     "metadata": {},
     "output_type": "display_data"
    }
   ],
   "source": [
    "length(summary_files)"
   ]
  },
  {
   "cell_type": "code",
   "execution_count": 5,
   "id": "fedd8629-2594-4859-9bca-c09da37a2bcf",
   "metadata": {},
   "outputs": [],
   "source": [
    "summary_auc_list <- sapply(summary_files, fread, simplify = F)"
   ]
  },
  {
   "cell_type": "code",
   "execution_count": 6,
   "id": "6f04aa89-d0db-4b80-8d63-e0d75a375065",
   "metadata": {},
   "outputs": [],
   "source": [
    "summary_auc <- rbindlist(summary_auc_list)"
   ]
  },
  {
   "cell_type": "code",
   "execution_count": 7,
   "id": "c49091ea-2196-4d50-8673-983e6614fcdb",
   "metadata": {},
   "outputs": [
    {
     "data": {
      "text/html": [
       "<table class=\"dataframe\">\n",
       "<caption>A data.table: 6 × 5</caption>\n",
       "<thead>\n",
       "\t<tr><th scope=col>type</th><th scope=col>auc</th><th scope=col>ifRand</th><th scope=col>AUC_train</th><th scope=col>species_train</th></tr>\n",
       "\t<tr><th scope=col>&lt;chr&gt;</th><th scope=col>&lt;dbl&gt;</th><th scope=col>&lt;chr&gt;</th><th scope=col>&lt;dbl&gt;</th><th scope=col>&lt;chr&gt;</th></tr>\n",
       "</thead>\n",
       "<tbody>\n",
       "\t<tr><td>Mus_musculus             </td><td>0.6131550</td><td>noRandTest</td><td>0.700509</td><td>AB</td></tr>\n",
       "\t<tr><td>Gallus_gallus            </td><td>0.7407010</td><td>noRandTest</td><td>0.700509</td><td>AB</td></tr>\n",
       "\t<tr><td>Phascolarctos_cinereus   </td><td>0.7396960</td><td>noRandTest</td><td>0.700509</td><td>AB</td></tr>\n",
       "\t<tr><td>Bos_taurus               </td><td>0.6271619</td><td>noRandTest</td><td>0.700509</td><td>AB</td></tr>\n",
       "\t<tr><td>Danio_rerio_GSE134055    </td><td>0.5294790</td><td>noRandTest</td><td>0.700509</td><td>AB</td></tr>\n",
       "\t<tr><td>Branchiostoma_lanceolatum</td><td>0.4509150</td><td>noRandTest</td><td>0.700509</td><td>AB</td></tr>\n",
       "</tbody>\n",
       "</table>\n"
      ],
      "text/latex": [
       "A data.table: 6 × 5\n",
       "\\begin{tabular}{lllll}\n",
       " type & auc & ifRand & AUC\\_train & species\\_train\\\\\n",
       " <chr> & <dbl> & <chr> & <dbl> & <chr>\\\\\n",
       "\\hline\n",
       "\t Mus\\_musculus              & 0.6131550 & noRandTest & 0.700509 & AB\\\\\n",
       "\t Gallus\\_gallus             & 0.7407010 & noRandTest & 0.700509 & AB\\\\\n",
       "\t Phascolarctos\\_cinereus    & 0.7396960 & noRandTest & 0.700509 & AB\\\\\n",
       "\t Bos\\_taurus                & 0.6271619 & noRandTest & 0.700509 & AB\\\\\n",
       "\t Danio\\_rerio\\_GSE134055     & 0.5294790 & noRandTest & 0.700509 & AB\\\\\n",
       "\t Branchiostoma\\_lanceolatum & 0.4509150 & noRandTest & 0.700509 & AB\\\\\n",
       "\\end{tabular}\n"
      ],
      "text/markdown": [
       "\n",
       "A data.table: 6 × 5\n",
       "\n",
       "| type &lt;chr&gt; | auc &lt;dbl&gt; | ifRand &lt;chr&gt; | AUC_train &lt;dbl&gt; | species_train &lt;chr&gt; |\n",
       "|---|---|---|---|---|\n",
       "| Mus_musculus              | 0.6131550 | noRandTest | 0.700509 | AB |\n",
       "| Gallus_gallus             | 0.7407010 | noRandTest | 0.700509 | AB |\n",
       "| Phascolarctos_cinereus    | 0.7396960 | noRandTest | 0.700509 | AB |\n",
       "| Bos_taurus                | 0.6271619 | noRandTest | 0.700509 | AB |\n",
       "| Danio_rerio_GSE134055     | 0.5294790 | noRandTest | 0.700509 | AB |\n",
       "| Branchiostoma_lanceolatum | 0.4509150 | noRandTest | 0.700509 | AB |\n",
       "\n"
      ],
      "text/plain": [
       "  type                      auc       ifRand     AUC_train species_train\n",
       "1 Mus_musculus              0.6131550 noRandTest 0.700509  AB           \n",
       "2 Gallus_gallus             0.7407010 noRandTest 0.700509  AB           \n",
       "3 Phascolarctos_cinereus    0.7396960 noRandTest 0.700509  AB           \n",
       "4 Bos_taurus                0.6271619 noRandTest 0.700509  AB           \n",
       "5 Danio_rerio_GSE134055     0.5294790 noRandTest 0.700509  AB           \n",
       "6 Branchiostoma_lanceolatum 0.4509150 noRandTest 0.700509  AB           "
      ]
     },
     "metadata": {},
     "output_type": "display_data"
    }
   ],
   "source": [
    "head(summary_auc)"
   ]
  },
  {
   "cell_type": "code",
   "execution_count": 8,
   "id": "8e13b163-2c51-4a08-aa3d-a326b1c07605",
   "metadata": {},
   "outputs": [
    {
     "data": {
      "text/html": [
       "<style>\n",
       ".list-inline {list-style: none; margin:0; padding: 0}\n",
       ".list-inline>li {display: inline-block}\n",
       ".list-inline>li:not(:last-child)::after {content: \"\\00b7\"; padding: 0 .5ex}\n",
       "</style>\n",
       "<ol class=list-inline><li>'ISS'</li><li>'AW'</li><li>'SRP'</li><li>'ET'</li><li>'SQM'</li></ol>\n"
      ],
      "text/latex": [
       "\\begin{enumerate*}\n",
       "\\item 'ISS'\n",
       "\\item 'AW'\n",
       "\\item 'SRP'\n",
       "\\item 'ET'\n",
       "\\item 'SQM'\n",
       "\\end{enumerate*}\n"
      ],
      "text/markdown": [
       "1. 'ISS'\n",
       "2. 'AW'\n",
       "3. 'SRP'\n",
       "4. 'ET'\n",
       "5. 'SQM'\n",
       "\n",
       "\n"
      ],
      "text/plain": [
       "[1] \"ISS\" \"AW\"  \"SRP\" \"ET\"  \"SQM\""
      ]
     },
     "metadata": {},
     "output_type": "display_data"
    }
   ],
   "source": [
    "setdiff(sp_df$species, unique(summary_auc$species_train))"
   ]
  },
  {
   "cell_type": "code",
   "execution_count": 9,
   "id": "c0d8438d-c671-404f-b031-302bc8f9ed3f",
   "metadata": {},
   "outputs": [
    {
     "data": {
      "text/html": [
       "<style>\n",
       ".list-inline {list-style: none; margin:0; padding: 0}\n",
       ".list-inline>li {display: inline-block}\n",
       ".list-inline>li:not(:last-child)::after {content: \"\\00b7\"; padding: 0 .5ex}\n",
       "</style>\n",
       "<ol class=list-inline><li>'Mus_musculus'</li><li>'Gallus_gallus'</li><li>'Phascolarctos_cinereus'</li><li>'Bos_taurus'</li><li>'Danio_rerio_GSE134055'</li><li>'Branchiostoma_lanceolatum'</li><li>'Xenopus_laevis'</li><li>'Chelydra_serpentina'</li></ol>\n"
      ],
      "text/latex": [
       "\\begin{enumerate*}\n",
       "\\item 'Mus\\_musculus'\n",
       "\\item 'Gallus\\_gallus'\n",
       "\\item 'Phascolarctos\\_cinereus'\n",
       "\\item 'Bos\\_taurus'\n",
       "\\item 'Danio\\_rerio\\_GSE134055'\n",
       "\\item 'Branchiostoma\\_lanceolatum'\n",
       "\\item 'Xenopus\\_laevis'\n",
       "\\item 'Chelydra\\_serpentina'\n",
       "\\end{enumerate*}\n"
      ],
      "text/markdown": [
       "1. 'Mus_musculus'\n",
       "2. 'Gallus_gallus'\n",
       "3. 'Phascolarctos_cinereus'\n",
       "4. 'Bos_taurus'\n",
       "5. 'Danio_rerio_GSE134055'\n",
       "6. 'Branchiostoma_lanceolatum'\n",
       "7. 'Xenopus_laevis'\n",
       "8. 'Chelydra_serpentina'\n",
       "\n",
       "\n"
      ],
      "text/plain": [
       "[1] \"Mus_musculus\"              \"Gallus_gallus\"            \n",
       "[3] \"Phascolarctos_cinereus\"    \"Bos_taurus\"               \n",
       "[5] \"Danio_rerio_GSE134055\"     \"Branchiostoma_lanceolatum\"\n",
       "[7] \"Xenopus_laevis\"            \"Chelydra_serpentina\"      "
      ]
     },
     "metadata": {},
     "output_type": "display_data"
    }
   ],
   "source": [
    "unique(summary_auc$type)"
   ]
  },
  {
   "cell_type": "code",
   "execution_count": 10,
   "id": "5535763c-b781-487a-8e34-aabcd8a39e7e",
   "metadata": {},
   "outputs": [],
   "source": [
    "sp_list <- fread(file.path(meta_dir, \"species_list.txt\"), header = F)$V1"
   ]
  },
  {
   "cell_type": "code",
   "execution_count": 11,
   "id": "13e70003-4c6d-449b-9f9a-2e2d61e46032",
   "metadata": {},
   "outputs": [],
   "source": [
    "summary_auc[type == \"Danio_rerio_GSE134055\", type:=\"Danio_rerio\",]"
   ]
  },
  {
   "cell_type": "code",
   "execution_count": 12,
   "id": "e09caafb-d2d2-43b7-824d-e0ad1d93bd8a",
   "metadata": {},
   "outputs": [],
   "source": [
    "summary_auc$type <- gsub(\"_\", \" \", summary_auc$type)"
   ]
  },
  {
   "cell_type": "code",
   "execution_count": 13,
   "id": "4d573c7d-46b0-42b3-ada8-62c91aac78d2",
   "metadata": {},
   "outputs": [],
   "source": [
    "summary_auc <- inner_join(summary_auc, sp_df, by=c(\"species_train\" = \"species\"))"
   ]
  },
  {
   "cell_type": "code",
   "execution_count": 14,
   "id": "97c5be15-bbce-4ddb-9185-1220027721b6",
   "metadata": {},
   "outputs": [
    {
     "data": {
      "text/html": [
       "<table class=\"dataframe\">\n",
       "<caption>A data.table: 0 × 7</caption>\n",
       "<thead>\n",
       "\t<tr><th scope=col>type</th><th scope=col>auc</th><th scope=col>ifRand</th><th scope=col>AUC_train</th><th scope=col>species_train</th><th scope=col>color_class</th><th scope=col>group</th></tr>\n",
       "\t<tr><th scope=col>&lt;chr&gt;</th><th scope=col>&lt;dbl&gt;</th><th scope=col>&lt;chr&gt;</th><th scope=col>&lt;dbl&gt;</th><th scope=col>&lt;chr&gt;</th><th scope=col>&lt;fct&gt;</th><th scope=col>&lt;fct&gt;</th></tr>\n",
       "</thead>\n",
       "<tbody>\n",
       "</tbody>\n",
       "</table>\n"
      ],
      "text/latex": [
       "A data.table: 0 × 7\n",
       "\\begin{tabular}{lllllll}\n",
       " type & auc & ifRand & AUC\\_train & species\\_train & color\\_class & group\\\\\n",
       " <chr> & <dbl> & <chr> & <dbl> & <chr> & <fct> & <fct>\\\\\n",
       "\\hline\n",
       "\\end{tabular}\n"
      ],
      "text/markdown": [
       "\n",
       "A data.table: 0 × 7\n",
       "\n",
       "| type &lt;chr&gt; | auc &lt;dbl&gt; | ifRand &lt;chr&gt; | AUC_train &lt;dbl&gt; | species_train &lt;chr&gt; | color_class &lt;fct&gt; | group &lt;fct&gt; |\n",
       "|---|---|---|---|---|---|---|\n",
       "\n"
      ],
      "text/plain": [
       "     type auc ifRand AUC_train species_train color_class group"
      ]
     },
     "metadata": {},
     "output_type": "display_data"
    }
   ],
   "source": [
    "summary_auc[is.na(summary_auc$group)]"
   ]
  },
  {
   "cell_type": "code",
   "execution_count": 15,
   "id": "f09f2f15-066c-4d2f-b49e-61750d3e90a0",
   "metadata": {},
   "outputs": [
    {
     "name": "stderr",
     "output_type": "stream",
     "text": [
      "`summarise()` has grouped output by 'type'. You can override using the `.groups` argument.\n",
      "\n"
     ]
    }
   ],
   "source": [
    "summary_auc_mean <- summary_auc %>% group_by(type, group) %>% summarize(mean_auc = mean(auc), sd_auc = sd(auc))"
   ]
  },
  {
   "cell_type": "code",
   "execution_count": 16,
   "id": "2e7a97d6-f0bf-457f-9f1d-3a8626a733e4",
   "metadata": {},
   "outputs": [],
   "source": [
    "\n",
    "WGBS_species_order <- c('Branchiostoma lanceolatum','Danio rerio',\n",
    "                        'Xenopus laevis', 'Chelydra serpentina',\n",
    "                        'Gallus gallus', 'Phascolarctos cinereus', 'Mus musculus','Bos taurus')"
   ]
  },
  {
   "cell_type": "code",
   "execution_count": 17,
   "id": "284138e1-be3e-4bba-a1ef-ccacd2e2e5a5",
   "metadata": {},
   "outputs": [
    {
     "data": {
      "text/html": [
       "<table class=\"dataframe\">\n",
       "<caption>A grouped_df: 6 × 4</caption>\n",
       "<thead>\n",
       "\t<tr><th scope=col>type</th><th scope=col>group</th><th scope=col>mean_auc</th><th scope=col>sd_auc</th></tr>\n",
       "\t<tr><th scope=col>&lt;chr&gt;</th><th scope=col>&lt;fct&gt;</th><th scope=col>&lt;dbl&gt;</th><th scope=col>&lt;dbl&gt;</th></tr>\n",
       "</thead>\n",
       "<tbody>\n",
       "\t<tr><td>Bos taurus</td><td>Inv.</td><td>0.5156517</td><td>0.05145334</td></tr>\n",
       "\t<tr><td>Bos taurus</td><td>Ch. </td><td>0.5082216</td><td>0.03211570</td></tr>\n",
       "\t<tr><td>Bos taurus</td><td>Act.</td><td>0.5524110</td><td>0.04946184</td></tr>\n",
       "\t<tr><td>Bos taurus</td><td>Amp.</td><td>0.5164567</td><td>0.03089660</td></tr>\n",
       "\t<tr><td>Bos taurus</td><td>Rep.</td><td>0.6050242</td><td>0.04032922</td></tr>\n",
       "\t<tr><td>Bos taurus</td><td>Av. </td><td>0.6171671</td><td>0.03099294</td></tr>\n",
       "</tbody>\n",
       "</table>\n"
      ],
      "text/latex": [
       "A grouped\\_df: 6 × 4\n",
       "\\begin{tabular}{llll}\n",
       " type & group & mean\\_auc & sd\\_auc\\\\\n",
       " <chr> & <fct> & <dbl> & <dbl>\\\\\n",
       "\\hline\n",
       "\t Bos taurus & Inv. & 0.5156517 & 0.05145334\\\\\n",
       "\t Bos taurus & Ch.  & 0.5082216 & 0.03211570\\\\\n",
       "\t Bos taurus & Act. & 0.5524110 & 0.04946184\\\\\n",
       "\t Bos taurus & Amp. & 0.5164567 & 0.03089660\\\\\n",
       "\t Bos taurus & Rep. & 0.6050242 & 0.04032922\\\\\n",
       "\t Bos taurus & Av.  & 0.6171671 & 0.03099294\\\\\n",
       "\\end{tabular}\n"
      ],
      "text/markdown": [
       "\n",
       "A grouped_df: 6 × 4\n",
       "\n",
       "| type &lt;chr&gt; | group &lt;fct&gt; | mean_auc &lt;dbl&gt; | sd_auc &lt;dbl&gt; |\n",
       "|---|---|---|---|\n",
       "| Bos taurus | Inv. | 0.5156517 | 0.05145334 |\n",
       "| Bos taurus | Ch.  | 0.5082216 | 0.03211570 |\n",
       "| Bos taurus | Act. | 0.5524110 | 0.04946184 |\n",
       "| Bos taurus | Amp. | 0.5164567 | 0.03089660 |\n",
       "| Bos taurus | Rep. | 0.6050242 | 0.04032922 |\n",
       "| Bos taurus | Av.  | 0.6171671 | 0.03099294 |\n",
       "\n"
      ],
      "text/plain": [
       "  type       group mean_auc  sd_auc    \n",
       "1 Bos taurus Inv.  0.5156517 0.05145334\n",
       "2 Bos taurus Ch.   0.5082216 0.03211570\n",
       "3 Bos taurus Act.  0.5524110 0.04946184\n",
       "4 Bos taurus Amp.  0.5164567 0.03089660\n",
       "5 Bos taurus Rep.  0.6050242 0.04032922\n",
       "6 Bos taurus Av.   0.6171671 0.03099294"
      ]
     },
     "metadata": {},
     "output_type": "display_data"
    }
   ],
   "source": [
    "head(summary_auc_mean)"
   ]
  },
  {
   "cell_type": "code",
   "execution_count": 18,
   "id": "382d16f7-0630-4997-9fa1-075439a151db",
   "metadata": {},
   "outputs": [],
   "source": [
    "summary_auc_mean$type <- factor(summary_auc_mean$type, levels = WGBS_species_order)"
   ]
  },
  {
   "cell_type": "code",
   "execution_count": 19,
   "id": "cb431fa9-e632-485f-9c95-a1cd110dbeaa",
   "metadata": {},
   "outputs": [
    {
     "data": {
      "text/html": [
       "<table class=\"dataframe\">\n",
       "<caption>A grouped_df: 6 × 4</caption>\n",
       "<thead>\n",
       "\t<tr><th scope=col>type</th><th scope=col>group</th><th scope=col>mean_auc</th><th scope=col>sd_auc</th></tr>\n",
       "\t<tr><th scope=col>&lt;fct&gt;</th><th scope=col>&lt;fct&gt;</th><th scope=col>&lt;dbl&gt;</th><th scope=col>&lt;dbl&gt;</th></tr>\n",
       "</thead>\n",
       "<tbody>\n",
       "\t<tr><td>Bos taurus</td><td>Inv.</td><td>0.5156517</td><td>0.05145334</td></tr>\n",
       "\t<tr><td>Bos taurus</td><td>Ch. </td><td>0.5082216</td><td>0.03211570</td></tr>\n",
       "\t<tr><td>Bos taurus</td><td>Act.</td><td>0.5524110</td><td>0.04946184</td></tr>\n",
       "\t<tr><td>Bos taurus</td><td>Amp.</td><td>0.5164567</td><td>0.03089660</td></tr>\n",
       "\t<tr><td>Bos taurus</td><td>Rep.</td><td>0.6050242</td><td>0.04032922</td></tr>\n",
       "\t<tr><td>Bos taurus</td><td>Av. </td><td>0.6171671</td><td>0.03099294</td></tr>\n",
       "</tbody>\n",
       "</table>\n"
      ],
      "text/latex": [
       "A grouped\\_df: 6 × 4\n",
       "\\begin{tabular}{llll}\n",
       " type & group & mean\\_auc & sd\\_auc\\\\\n",
       " <fct> & <fct> & <dbl> & <dbl>\\\\\n",
       "\\hline\n",
       "\t Bos taurus & Inv. & 0.5156517 & 0.05145334\\\\\n",
       "\t Bos taurus & Ch.  & 0.5082216 & 0.03211570\\\\\n",
       "\t Bos taurus & Act. & 0.5524110 & 0.04946184\\\\\n",
       "\t Bos taurus & Amp. & 0.5164567 & 0.03089660\\\\\n",
       "\t Bos taurus & Rep. & 0.6050242 & 0.04032922\\\\\n",
       "\t Bos taurus & Av.  & 0.6171671 & 0.03099294\\\\\n",
       "\\end{tabular}\n"
      ],
      "text/markdown": [
       "\n",
       "A grouped_df: 6 × 4\n",
       "\n",
       "| type &lt;fct&gt; | group &lt;fct&gt; | mean_auc &lt;dbl&gt; | sd_auc &lt;dbl&gt; |\n",
       "|---|---|---|---|\n",
       "| Bos taurus | Inv. | 0.5156517 | 0.05145334 |\n",
       "| Bos taurus | Ch.  | 0.5082216 | 0.03211570 |\n",
       "| Bos taurus | Act. | 0.5524110 | 0.04946184 |\n",
       "| Bos taurus | Amp. | 0.5164567 | 0.03089660 |\n",
       "| Bos taurus | Rep. | 0.6050242 | 0.04032922 |\n",
       "| Bos taurus | Av.  | 0.6171671 | 0.03099294 |\n",
       "\n"
      ],
      "text/plain": [
       "  type       group mean_auc  sd_auc    \n",
       "1 Bos taurus Inv.  0.5156517 0.05145334\n",
       "2 Bos taurus Ch.   0.5082216 0.03211570\n",
       "3 Bos taurus Act.  0.5524110 0.04946184\n",
       "4 Bos taurus Amp.  0.5164567 0.03089660\n",
       "5 Bos taurus Rep.  0.6050242 0.04032922\n",
       "6 Bos taurus Av.   0.6171671 0.03099294"
      ]
     },
     "metadata": {},
     "output_type": "display_data"
    }
   ],
   "source": [
    "head(summary_auc_mean)"
   ]
  },
  {
   "cell_type": "code",
   "execution_count": 20,
   "id": "2dbdc2ca-0490-4e5a-8018-065178f04bcc",
   "metadata": {},
   "outputs": [],
   "source": [
    "setDT(summary_auc_mean)"
   ]
  },
  {
   "cell_type": "code",
   "execution_count": 21,
   "id": "7265d1e8-f34b-47ab-966a-d66c1dd94911",
   "metadata": {},
   "outputs": [
    {
     "data": {
      "text/html": [
       "<table class=\"dataframe\">\n",
       "<caption>A data.table: 0 × 4</caption>\n",
       "<thead>\n",
       "\t<tr><th scope=col>type</th><th scope=col>group</th><th scope=col>mean_auc</th><th scope=col>sd_auc</th></tr>\n",
       "\t<tr><th scope=col>&lt;fct&gt;</th><th scope=col>&lt;fct&gt;</th><th scope=col>&lt;dbl&gt;</th><th scope=col>&lt;dbl&gt;</th></tr>\n",
       "</thead>\n",
       "<tbody>\n",
       "</tbody>\n",
       "</table>\n"
      ],
      "text/latex": [
       "A data.table: 0 × 4\n",
       "\\begin{tabular}{llll}\n",
       " type & group & mean\\_auc & sd\\_auc\\\\\n",
       " <fct> & <fct> & <dbl> & <dbl>\\\\\n",
       "\\hline\n",
       "\\end{tabular}\n"
      ],
      "text/markdown": [
       "\n",
       "A data.table: 0 × 4\n",
       "\n",
       "| type &lt;fct&gt; | group &lt;fct&gt; | mean_auc &lt;dbl&gt; | sd_auc &lt;dbl&gt; |\n",
       "|---|---|---|---|\n",
       "\n"
      ],
      "text/plain": [
       "     type group mean_auc sd_auc"
      ]
     },
     "metadata": {},
     "output_type": "display_data"
    }
   ],
   "source": [
    "head(summary_auc_mean[is.na(group)])"
   ]
  },
  {
   "cell_type": "code",
   "execution_count": 22,
   "id": "d2923972-a102-4d5d-9657-8a139e65b5c9",
   "metadata": {},
   "outputs": [
    {
     "data": {
      "image/png": "[encoded data removed]",
      "text/plain": [
       "plot without title"
      ]
     },
     "metadata": {
      "image/png": {
       "height": 420,
       "width": 420
      }
     },
     "output_type": "display_data"
    }
   ],
   "source": [
    "p <- ggplot(summary_auc_mean, aes(x = group, y = type, fill = mean_auc)) + \n",
    "geom_tile() +  \n",
    "scale_fill_gradient2(limits = c(0,1), low = \"#2b83ba\",mid =\"#ffffbf\",  high =\"#d7191c\", midpoint = 0.5 ) + \n",
    "geom_text(aes(label = paste0(round(mean_auc,2), \"\\n± \", round(sd_auc,2))), size = 2) + xlab(\"train\") + ylab(\"test\")\n",
    "p"
   ]
  },
  {
   "cell_type": "code",
   "execution_count": 23,
   "id": "a80ba3a5-4cdc-4a23-93fb-674cbdbf33df",
   "metadata": {},
   "outputs": [],
   "source": [
    "ggsave(\"WGBS_RRBS_summary_heatmap.pdf\", p, width = 6, height = 4)"
   ]
  },
  {
   "cell_type": "code",
   "execution_count": 24,
   "id": "047003c0-05ed-4c54-a59a-551e2b018ea5",
   "metadata": {},
   "outputs": [
    {
     "data": {
      "text/html": [
       "'/binfl/lv71484/droman/DNAmeth500species/results_analysis/validation/03_WGBS/03.5_RRBS_test_in_WGBS'"
      ],
      "text/latex": [
       "'/binfl/lv71484/droman/DNAmeth500species/results\\_analysis/validation/03\\_WGBS/03.5\\_RRBS\\_test\\_in\\_WGBS'"
      ],
      "text/markdown": [
       "'/binfl/lv71484/droman/DNAmeth500species/results_analysis/validation/03_WGBS/03.5_RRBS_test_in_WGBS'"
      ],
      "text/plain": [
       "[1] \"/binfl/lv71484/droman/DNAmeth500species/results_analysis/validation/03_WGBS/03.5_RRBS_test_in_WGBS\""
      ]
     },
     "metadata": {},
     "output_type": "display_data"
    }
   ],
   "source": [
    "getwd()"
   ]
  },
  {
   "cell_type": "code",
   "execution_count": null,
   "id": "a25f9985-43a6-428b-a818-6aaf563df3ec",
   "metadata": {},
   "outputs": [],
   "source": []
  }
 ],
 "metadata": {
  "kernelspec": {
   "display_name": "R_zoo_SVM_41",
   "language": "R",
   "name": "zoo_svm_4.1"
  },
  "language_info": {
   "codemirror_mode": "r",
   "file_extension": ".r",
   "mimetype": "text/x-r-source",
   "name": "R",
   "pygments_lexer": "r",
   "version": "4.1.1"
  }
 },
 "nbformat": 4,
 "nbformat_minor": 5
}
