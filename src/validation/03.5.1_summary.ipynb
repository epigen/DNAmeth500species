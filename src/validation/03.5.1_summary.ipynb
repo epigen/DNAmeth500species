{
 "cells": [
  {
   "cell_type": "code",
   "execution_count": 1,
   "id": "f30c6bbc-e4e8-4143-a25c-ff20e97dd5b6",
   "metadata": {},
   "outputs": [
    {
     "name": "stderr",
     "output_type": "stream",
     "text": [
      "Joining, by = \"species\"\n",
      "\n"
     ]
    }
   ],
   "source": [
    "source(file.path(\"../../src/00.0_init.R\"))"
   ]
  },
  {
   "cell_type": "code",
   "execution_count": 3,
   "id": "359eb288-2edd-4ddc-a80e-2b4e211edf87",
   "metadata": {},
   "outputs": [],
   "source": [
    "wd <- file.path(analysis_dir, \"validation\", \"03_WGBS\", \"03.5_RRBS_test_in_WGBS\")\n",
    "\n",
    "setwd(wd)"
   ]
  },
  {
   "cell_type": "code",
   "execution_count": null,
   "id": "144f0e4f-c596-469c-a467-c1053d78e49c",
   "metadata": {},
   "outputs": [],
   "source": []
  },
  {
   "cell_type": "code",
   "execution_count": 144,
   "id": "e4cba190-695e-4aab-83a9-29dbf7a784ff",
   "metadata": {},
   "outputs": [],
   "source": [
    "summary_files = list.files(pattern = \"auc_test\", recursive = TRUE)"
   ]
  },
  {
   "cell_type": "code",
   "execution_count": 145,
   "id": "613830ee-5abc-47a8-87f4-389d9f3818ec",
   "metadata": {},
   "outputs": [
    {
     "data": {
      "text/html": [
       "<style>\n",
       ".list-inline {list-style: none; margin:0; padding: 0}\n",
       ".list-inline>li {display: inline-block}\n",
       ".list-inline>li:not(:last-child)::after {content: \"\\00b7\"; padding: 0 .5ex}\n",
       "</style>\n",
       "<ol class=list-inline><li>'ANG/auc_test.tsv'</li><li>'AR/auc_test.tsv'</li><li>'ASH/auc_test.tsv'</li><li>'BC/auc_test.tsv'</li><li>'BU/auc_test.tsv'</li><li>'COY/auc_test.tsv'</li><li>'CS/auc_test.tsv'</li><li>'DP/auc_test.tsv'</li><li>'EAB/auc_test.tsv'</li><li>'EPT/auc_test.tsv'</li><li>'ESQ/auc_test.tsv'</li><li>'GLT/auc_test.tsv'</li><li>'GP/auc_test.tsv'</li><li>'JMD/auc_test.tsv'</li><li>'LLA/auc_test.tsv'</li><li>'MA/auc_test.tsv'</li><li>'MOL/auc_test.tsv'</li><li>'PA/auc_test.tsv'</li><li>'PRA/auc_test.tsv'</li><li>'ROA/auc_test.tsv'</li><li>'SOS/auc_test.tsv'</li><li>'SRM/auc_test.tsv'</li><li>'TD/auc_test.tsv'</li><li>'WI/auc_test.tsv'</li><li>'YNM/auc_test.tsv'</li></ol>\n"
      ],
      "text/latex": [
       "\\begin{enumerate*}\n",
       "\\item 'ANG/auc\\_test.tsv'\n",
       "\\item 'AR/auc\\_test.tsv'\n",
       "\\item 'ASH/auc\\_test.tsv'\n",
       "\\item 'BC/auc\\_test.tsv'\n",
       "\\item 'BU/auc\\_test.tsv'\n",
       "\\item 'COY/auc\\_test.tsv'\n",
       "\\item 'CS/auc\\_test.tsv'\n",
       "\\item 'DP/auc\\_test.tsv'\n",
       "\\item 'EAB/auc\\_test.tsv'\n",
       "\\item 'EPT/auc\\_test.tsv'\n",
       "\\item 'ESQ/auc\\_test.tsv'\n",
       "\\item 'GLT/auc\\_test.tsv'\n",
       "\\item 'GP/auc\\_test.tsv'\n",
       "\\item 'JMD/auc\\_test.tsv'\n",
       "\\item 'LLA/auc\\_test.tsv'\n",
       "\\item 'MA/auc\\_test.tsv'\n",
       "\\item 'MOL/auc\\_test.tsv'\n",
       "\\item 'PA/auc\\_test.tsv'\n",
       "\\item 'PRA/auc\\_test.tsv'\n",
       "\\item 'ROA/auc\\_test.tsv'\n",
       "\\item 'SOS/auc\\_test.tsv'\n",
       "\\item 'SRM/auc\\_test.tsv'\n",
       "\\item 'TD/auc\\_test.tsv'\n",
       "\\item 'WI/auc\\_test.tsv'\n",
       "\\item 'YNM/auc\\_test.tsv'\n",
       "\\end{enumerate*}\n"
      ],
      "text/markdown": [
       "1. 'ANG/auc_test.tsv'\n",
       "2. 'AR/auc_test.tsv'\n",
       "3. 'ASH/auc_test.tsv'\n",
       "4. 'BC/auc_test.tsv'\n",
       "5. 'BU/auc_test.tsv'\n",
       "6. 'COY/auc_test.tsv'\n",
       "7. 'CS/auc_test.tsv'\n",
       "8. 'DP/auc_test.tsv'\n",
       "9. 'EAB/auc_test.tsv'\n",
       "10. 'EPT/auc_test.tsv'\n",
       "11. 'ESQ/auc_test.tsv'\n",
       "12. 'GLT/auc_test.tsv'\n",
       "13. 'GP/auc_test.tsv'\n",
       "14. 'JMD/auc_test.tsv'\n",
       "15. 'LLA/auc_test.tsv'\n",
       "16. 'MA/auc_test.tsv'\n",
       "17. 'MOL/auc_test.tsv'\n",
       "18. 'PA/auc_test.tsv'\n",
       "19. 'PRA/auc_test.tsv'\n",
       "20. 'ROA/auc_test.tsv'\n",
       "21. 'SOS/auc_test.tsv'\n",
       "22. 'SRM/auc_test.tsv'\n",
       "23. 'TD/auc_test.tsv'\n",
       "24. 'WI/auc_test.tsv'\n",
       "25. 'YNM/auc_test.tsv'\n",
       "\n",
       "\n"
      ],
      "text/plain": [
       " [1] \"ANG/auc_test.tsv\" \"AR/auc_test.tsv\"  \"ASH/auc_test.tsv\" \"BC/auc_test.tsv\" \n",
       " [5] \"BU/auc_test.tsv\"  \"COY/auc_test.tsv\" \"CS/auc_test.tsv\"  \"DP/auc_test.tsv\" \n",
       " [9] \"EAB/auc_test.tsv\" \"EPT/auc_test.tsv\" \"ESQ/auc_test.tsv\" \"GLT/auc_test.tsv\"\n",
       "[13] \"GP/auc_test.tsv\"  \"JMD/auc_test.tsv\" \"LLA/auc_test.tsv\" \"MA/auc_test.tsv\" \n",
       "[17] \"MOL/auc_test.tsv\" \"PA/auc_test.tsv\"  \"PRA/auc_test.tsv\" \"ROA/auc_test.tsv\"\n",
       "[21] \"SOS/auc_test.tsv\" \"SRM/auc_test.tsv\" \"TD/auc_test.tsv\"  \"WI/auc_test.tsv\" \n",
       "[25] \"YNM/auc_test.tsv\""
      ]
     },
     "metadata": {},
     "output_type": "display_data"
    }
   ],
   "source": [
    "summary_files"
   ]
  },
  {
   "cell_type": "code",
   "execution_count": 146,
   "id": "fedd8629-2594-4859-9bca-c09da37a2bcf",
   "metadata": {},
   "outputs": [],
   "source": [
    "summary_auc_list <- sapply(summary_files, fread, simplify = F)"
   ]
  },
  {
   "cell_type": "code",
   "execution_count": 147,
   "id": "6f04aa89-d0db-4b80-8d63-e0d75a375065",
   "metadata": {},
   "outputs": [],
   "source": [
    "summary_auc <- rbindlist(summary_auc_list)"
   ]
  },
  {
   "cell_type": "code",
   "execution_count": 148,
   "id": "52177d21-b276-49f6-b245-0ee1454f699e",
   "metadata": {},
   "outputs": [
    {
     "data": {
      "text/html": [
       "25"
      ],
      "text/latex": [
       "25"
      ],
      "text/markdown": [
       "25"
      ],
      "text/plain": [
       "[1] 25"
      ]
     },
     "metadata": {},
     "output_type": "display_data"
    }
   ],
   "source": [
    "length(summary_files)"
   ]
  },
  {
   "cell_type": "code",
   "execution_count": 149,
   "id": "c49091ea-2196-4d50-8673-983e6614fcdb",
   "metadata": {},
   "outputs": [
    {
     "data": {
      "text/html": [
       "<table class=\"dataframe\">\n",
       "<caption>A data.table: 6 × 5</caption>\n",
       "<thead>\n",
       "\t<tr><th scope=col>type</th><th scope=col>auc</th><th scope=col>ifRand</th><th scope=col>AUC_train</th><th scope=col>species_train</th></tr>\n",
       "\t<tr><th scope=col>&lt;chr&gt;</th><th scope=col>&lt;dbl&gt;</th><th scope=col>&lt;chr&gt;</th><th scope=col>&lt;dbl&gt;</th><th scope=col>&lt;chr&gt;</th></tr>\n",
       "</thead>\n",
       "<tbody>\n",
       "\t<tr><td>Mus_musculus             </td><td>0.5106540</td><td>noRandTest</td><td>0.656124</td><td>ANG</td></tr>\n",
       "\t<tr><td>Gallus_gallus            </td><td>0.6354400</td><td>noRandTest</td><td>0.656124</td><td>ANG</td></tr>\n",
       "\t<tr><td>Phascolarctos_cinereus   </td><td>0.6301300</td><td>noRandTest</td><td>0.656124</td><td>ANG</td></tr>\n",
       "\t<tr><td>Bos_taurus               </td><td>0.4865502</td><td>noRandTest</td><td>0.656124</td><td>ANG</td></tr>\n",
       "\t<tr><td>Danio_rerio_GSE134055    </td><td>0.5272450</td><td>noRandTest</td><td>0.656124</td><td>ANG</td></tr>\n",
       "\t<tr><td>Branchiostoma_lanceolatum</td><td>0.5655030</td><td>noRandTest</td><td>0.656124</td><td>ANG</td></tr>\n",
       "</tbody>\n",
       "</table>\n"
      ],
      "text/latex": [
       "A data.table: 6 × 5\n",
       "\\begin{tabular}{lllll}\n",
       " type & auc & ifRand & AUC\\_train & species\\_train\\\\\n",
       " <chr> & <dbl> & <chr> & <dbl> & <chr>\\\\\n",
       "\\hline\n",
       "\t Mus\\_musculus              & 0.5106540 & noRandTest & 0.656124 & ANG\\\\\n",
       "\t Gallus\\_gallus             & 0.6354400 & noRandTest & 0.656124 & ANG\\\\\n",
       "\t Phascolarctos\\_cinereus    & 0.6301300 & noRandTest & 0.656124 & ANG\\\\\n",
       "\t Bos\\_taurus                & 0.4865502 & noRandTest & 0.656124 & ANG\\\\\n",
       "\t Danio\\_rerio\\_GSE134055     & 0.5272450 & noRandTest & 0.656124 & ANG\\\\\n",
       "\t Branchiostoma\\_lanceolatum & 0.5655030 & noRandTest & 0.656124 & ANG\\\\\n",
       "\\end{tabular}\n"
      ],
      "text/markdown": [
       "\n",
       "A data.table: 6 × 5\n",
       "\n",
       "| type &lt;chr&gt; | auc &lt;dbl&gt; | ifRand &lt;chr&gt; | AUC_train &lt;dbl&gt; | species_train &lt;chr&gt; |\n",
       "|---|---|---|---|---|\n",
       "| Mus_musculus              | 0.5106540 | noRandTest | 0.656124 | ANG |\n",
       "| Gallus_gallus             | 0.6354400 | noRandTest | 0.656124 | ANG |\n",
       "| Phascolarctos_cinereus    | 0.6301300 | noRandTest | 0.656124 | ANG |\n",
       "| Bos_taurus                | 0.4865502 | noRandTest | 0.656124 | ANG |\n",
       "| Danio_rerio_GSE134055     | 0.5272450 | noRandTest | 0.656124 | ANG |\n",
       "| Branchiostoma_lanceolatum | 0.5655030 | noRandTest | 0.656124 | ANG |\n",
       "\n"
      ],
      "text/plain": [
       "  type                      auc       ifRand     AUC_train species_train\n",
       "1 Mus_musculus              0.5106540 noRandTest 0.656124  ANG          \n",
       "2 Gallus_gallus             0.6354400 noRandTest 0.656124  ANG          \n",
       "3 Phascolarctos_cinereus    0.6301300 noRandTest 0.656124  ANG          \n",
       "4 Bos_taurus                0.4865502 noRandTest 0.656124  ANG          \n",
       "5 Danio_rerio_GSE134055     0.5272450 noRandTest 0.656124  ANG          \n",
       "6 Branchiostoma_lanceolatum 0.5655030 noRandTest 0.656124  ANG          "
      ]
     },
     "metadata": {},
     "output_type": "display_data"
    }
   ],
   "source": [
    "head(summary_auc)"
   ]
  },
  {
   "cell_type": "code",
   "execution_count": 150,
   "id": "13e70003-4c6d-449b-9f9a-2e2d61e46032",
   "metadata": {},
   "outputs": [],
   "source": [
    "summary_auc[type == \"Danio_rerio_GSE134055\", type:=\"Danio_rerio\",]"
   ]
  },
  {
   "cell_type": "code",
   "execution_count": 151,
   "id": "e09caafb-d2d2-43b7-824d-e0ad1d93bd8a",
   "metadata": {},
   "outputs": [],
   "source": [
    "summary_auc$type <- gsub(\"_\", \" \", summary_auc$type)"
   ]
  },
  {
   "cell_type": "code",
   "execution_count": 152,
   "id": "4d573c7d-46b0-42b3-ada8-62c91aac78d2",
   "metadata": {},
   "outputs": [],
   "source": [
    "summary_auc <- left_join(summary_auc, sp_df, by=c(\"species_train\" = \"species\"))"
   ]
  },
  {
   "cell_type": "code",
   "execution_count": 153,
   "id": "f09f2f15-066c-4d2f-b49e-61750d3e90a0",
   "metadata": {},
   "outputs": [
    {
     "name": "stderr",
     "output_type": "stream",
     "text": [
      "`summarise()` has grouped output by 'type'. You can override using the `.groups` argument.\n",
      "\n"
     ]
    }
   ],
   "source": [
    "summary_auc_mean <- summary_auc %>% group_by(type, group) %>% summarize(mean_auc = mean(auc), sd_auc = sd(auc))"
   ]
  },
  {
   "cell_type": "code",
   "execution_count": 154,
   "id": "284138e1-be3e-4bba-a1ef-ccacd2e2e5a5",
   "metadata": {},
   "outputs": [
    {
     "data": {
      "text/html": [
       "<table class=\"dataframe\">\n",
       "<caption>A grouped_df: 6 × 4</caption>\n",
       "<thead>\n",
       "\t<tr><th scope=col>type</th><th scope=col>group</th><th scope=col>mean_auc</th><th scope=col>sd_auc</th></tr>\n",
       "\t<tr><th scope=col>&lt;chr&gt;</th><th scope=col>&lt;fct&gt;</th><th scope=col>&lt;dbl&gt;</th><th scope=col>&lt;dbl&gt;</th></tr>\n",
       "</thead>\n",
       "<tbody>\n",
       "\t<tr><td>Bos taurus</td><td>Inv.</td><td>0.5754485</td><td>0.04047710</td></tr>\n",
       "\t<tr><td>Bos taurus</td><td>Act.</td><td>0.5489090</td><td>0.08818868</td></tr>\n",
       "\t<tr><td>Bos taurus</td><td>Rep.</td><td>0.5946979</td><td>0.01216854</td></tr>\n",
       "\t<tr><td>Bos taurus</td><td>Av. </td><td>0.6127421</td><td>0.02739744</td></tr>\n",
       "\t<tr><td>Bos taurus</td><td>Mar.</td><td>0.6506439</td><td>        NA</td></tr>\n",
       "\t<tr><td>Bos taurus</td><td>Mam.</td><td>0.6331124</td><td>0.02869777</td></tr>\n",
       "</tbody>\n",
       "</table>\n"
      ],
      "text/latex": [
       "A grouped\\_df: 6 × 4\n",
       "\\begin{tabular}{llll}\n",
       " type & group & mean\\_auc & sd\\_auc\\\\\n",
       " <chr> & <fct> & <dbl> & <dbl>\\\\\n",
       "\\hline\n",
       "\t Bos taurus & Inv. & 0.5754485 & 0.04047710\\\\\n",
       "\t Bos taurus & Act. & 0.5489090 & 0.08818868\\\\\n",
       "\t Bos taurus & Rep. & 0.5946979 & 0.01216854\\\\\n",
       "\t Bos taurus & Av.  & 0.6127421 & 0.02739744\\\\\n",
       "\t Bos taurus & Mar. & 0.6506439 &         NA\\\\\n",
       "\t Bos taurus & Mam. & 0.6331124 & 0.02869777\\\\\n",
       "\\end{tabular}\n"
      ],
      "text/markdown": [
       "\n",
       "A grouped_df: 6 × 4\n",
       "\n",
       "| type &lt;chr&gt; | group &lt;fct&gt; | mean_auc &lt;dbl&gt; | sd_auc &lt;dbl&gt; |\n",
       "|---|---|---|---|\n",
       "| Bos taurus | Inv. | 0.5754485 | 0.04047710 |\n",
       "| Bos taurus | Act. | 0.5489090 | 0.08818868 |\n",
       "| Bos taurus | Rep. | 0.5946979 | 0.01216854 |\n",
       "| Bos taurus | Av.  | 0.6127421 | 0.02739744 |\n",
       "| Bos taurus | Mar. | 0.6506439 |         NA |\n",
       "| Bos taurus | Mam. | 0.6331124 | 0.02869777 |\n",
       "\n"
      ],
      "text/plain": [
       "  type       group mean_auc  sd_auc    \n",
       "1 Bos taurus Inv.  0.5754485 0.04047710\n",
       "2 Bos taurus Act.  0.5489090 0.08818868\n",
       "3 Bos taurus Rep.  0.5946979 0.01216854\n",
       "4 Bos taurus Av.   0.6127421 0.02739744\n",
       "5 Bos taurus Mar.  0.6506439         NA\n",
       "6 Bos taurus Mam.  0.6331124 0.02869777"
      ]
     },
     "metadata": {},
     "output_type": "display_data"
    }
   ],
   "source": [
    "head(summary_auc_mean)"
   ]
  },
  {
   "cell_type": "code",
   "execution_count": 155,
   "id": "ce327f1f-93e8-468d-8d8e-32260b4213f0",
   "metadata": {},
   "outputs": [],
   "source": [
    "summary_auc_mean_mtx <- summary_auc_mean[,-4] %>% pivot_wider(names_from = type, values_from = mean_auc)"
   ]
  },
  {
   "cell_type": "code",
   "execution_count": 156,
   "id": "67de76e6-b663-4b1b-8b88-6966c1dfda69",
   "metadata": {},
   "outputs": [],
   "source": [
    "summary_auc_mean_mtx <- as.data.frame(summary_auc_mean_mtx)\n",
    "row.names(summary_auc_mean_mtx) <- summary_auc_mean_mtx$group\n",
    "summary_auc_mean_mtx <- summary_auc_mean_mtx[,-1]"
   ]
  },
  {
   "cell_type": "code",
   "execution_count": 157,
   "id": "2e7a97d6-f0bf-457f-9f1d-3a8626a733e4",
   "metadata": {},
   "outputs": [],
   "source": [
    "WGBS_species_order <- c('Branchiostoma lanceolatum','Danio rerio','Xenopus laevis', 'Gallus gallus', 'Phascolarctos cinereus', 'Mus musculus','Bos taurus')"
   ]
  },
  {
   "cell_type": "code",
   "execution_count": 158,
   "id": "1f042a77-7ad4-498f-a2d1-18e6420096dc",
   "metadata": {},
   "outputs": [
    {
     "data": {
      "text/html": [
       "<style>\n",
       ".list-inline {list-style: none; margin:0; padding: 0}\n",
       ".list-inline>li {display: inline-block}\n",
       ".list-inline>li:not(:last-child)::after {content: \"\\00b7\"; padding: 0 .5ex}\n",
       "</style>\n",
       "<ol class=list-inline><li>'Bos taurus'</li><li>'Branchiostoma lanceolatum'</li><li>'Danio rerio'</li><li>'Gallus gallus'</li><li>'Mus musculus'</li><li>'Phascolarctos cinereus'</li><li>'Xenopus laevis'</li></ol>\n"
      ],
      "text/latex": [
       "\\begin{enumerate*}\n",
       "\\item 'Bos taurus'\n",
       "\\item 'Branchiostoma lanceolatum'\n",
       "\\item 'Danio rerio'\n",
       "\\item 'Gallus gallus'\n",
       "\\item 'Mus musculus'\n",
       "\\item 'Phascolarctos cinereus'\n",
       "\\item 'Xenopus laevis'\n",
       "\\end{enumerate*}\n"
      ],
      "text/markdown": [
       "1. 'Bos taurus'\n",
       "2. 'Branchiostoma lanceolatum'\n",
       "3. 'Danio rerio'\n",
       "4. 'Gallus gallus'\n",
       "5. 'Mus musculus'\n",
       "6. 'Phascolarctos cinereus'\n",
       "7. 'Xenopus laevis'\n",
       "\n",
       "\n"
      ],
      "text/plain": [
       "[1] \"Bos taurus\"                \"Branchiostoma lanceolatum\"\n",
       "[3] \"Danio rerio\"               \"Gallus gallus\"            \n",
       "[5] \"Mus musculus\"              \"Phascolarctos cinereus\"   \n",
       "[7] \"Xenopus laevis\"           "
      ]
     },
     "metadata": {},
     "output_type": "display_data"
    }
   ],
   "source": [
    "colnames(summary_auc_mean_mtx)"
   ]
  },
  {
   "cell_type": "code",
   "execution_count": 159,
   "id": "f0b89dd7-8b28-4418-bb68-7ba4d01d882b",
   "metadata": {},
   "outputs": [
    {
     "data": {
      "text/html": [
       "<table class=\"dataframe\">\n",
       "<caption>A data.frame: 6 × 7</caption>\n",
       "<thead>\n",
       "\t<tr><th></th><th scope=col>Bos taurus</th><th scope=col>Branchiostoma lanceolatum</th><th scope=col>Danio rerio</th><th scope=col>Gallus gallus</th><th scope=col>Mus musculus</th><th scope=col>Phascolarctos cinereus</th><th scope=col>Xenopus laevis</th></tr>\n",
       "\t<tr><th></th><th scope=col>&lt;dbl&gt;</th><th scope=col>&lt;dbl&gt;</th><th scope=col>&lt;dbl&gt;</th><th scope=col>&lt;dbl&gt;</th><th scope=col>&lt;dbl&gt;</th><th scope=col>&lt;dbl&gt;</th><th scope=col>&lt;dbl&gt;</th></tr>\n",
       "</thead>\n",
       "<tbody>\n",
       "\t<tr><th scope=row>Inv.</th><td>0.5754485</td><td>0.5108943</td><td>0.5280897</td><td>0.6475037</td><td>0.5703160</td><td>0.6699183</td><td>0.5083497</td></tr>\n",
       "\t<tr><th scope=row>Act.</th><td>0.5489090</td><td>0.5271395</td><td>0.5327735</td><td>0.6616010</td><td>0.5355305</td><td>0.6636725</td><td>0.5184330</td></tr>\n",
       "\t<tr><th scope=row>Rep.</th><td>0.5946979</td><td>0.4790767</td><td>0.5477490</td><td>0.7281493</td><td>0.6105603</td><td>0.7514080</td><td>0.5146983</td></tr>\n",
       "\t<tr><th scope=row>Av.</th><td>0.6127421</td><td>0.5004649</td><td>0.5490327</td><td>0.7209336</td><td>0.6033244</td><td>0.7074149</td><td>0.5262514</td></tr>\n",
       "\t<tr><th scope=row>Mar.</th><td>0.6506439</td><td>0.4922970</td><td>0.5464070</td><td>0.7257120</td><td>0.6304000</td><td>0.7207650</td><td>0.4958010</td></tr>\n",
       "\t<tr><th scope=row>Mam.</th><td>0.6331124</td><td>0.4700767</td><td>0.5248526</td><td>0.7278417</td><td>0.6484818</td><td>0.7373789</td><td>0.5051709</td></tr>\n",
       "</tbody>\n",
       "</table>\n"
      ],
      "text/latex": [
       "A data.frame: 6 × 7\n",
       "\\begin{tabular}{r|lllllll}\n",
       "  & Bos taurus & Branchiostoma lanceolatum & Danio rerio & Gallus gallus & Mus musculus & Phascolarctos cinereus & Xenopus laevis\\\\\n",
       "  & <dbl> & <dbl> & <dbl> & <dbl> & <dbl> & <dbl> & <dbl>\\\\\n",
       "\\hline\n",
       "\tInv. & 0.5754485 & 0.5108943 & 0.5280897 & 0.6475037 & 0.5703160 & 0.6699183 & 0.5083497\\\\\n",
       "\tAct. & 0.5489090 & 0.5271395 & 0.5327735 & 0.6616010 & 0.5355305 & 0.6636725 & 0.5184330\\\\\n",
       "\tRep. & 0.5946979 & 0.4790767 & 0.5477490 & 0.7281493 & 0.6105603 & 0.7514080 & 0.5146983\\\\\n",
       "\tAv. & 0.6127421 & 0.5004649 & 0.5490327 & 0.7209336 & 0.6033244 & 0.7074149 & 0.5262514\\\\\n",
       "\tMar. & 0.6506439 & 0.4922970 & 0.5464070 & 0.7257120 & 0.6304000 & 0.7207650 & 0.4958010\\\\\n",
       "\tMam. & 0.6331124 & 0.4700767 & 0.5248526 & 0.7278417 & 0.6484818 & 0.7373789 & 0.5051709\\\\\n",
       "\\end{tabular}\n"
      ],
      "text/markdown": [
       "\n",
       "A data.frame: 6 × 7\n",
       "\n",
       "| <!--/--> | Bos taurus &lt;dbl&gt; | Branchiostoma lanceolatum &lt;dbl&gt; | Danio rerio &lt;dbl&gt; | Gallus gallus &lt;dbl&gt; | Mus musculus &lt;dbl&gt; | Phascolarctos cinereus &lt;dbl&gt; | Xenopus laevis &lt;dbl&gt; |\n",
       "|---|---|---|---|---|---|---|---|\n",
       "| Inv. | 0.5754485 | 0.5108943 | 0.5280897 | 0.6475037 | 0.5703160 | 0.6699183 | 0.5083497 |\n",
       "| Act. | 0.5489090 | 0.5271395 | 0.5327735 | 0.6616010 | 0.5355305 | 0.6636725 | 0.5184330 |\n",
       "| Rep. | 0.5946979 | 0.4790767 | 0.5477490 | 0.7281493 | 0.6105603 | 0.7514080 | 0.5146983 |\n",
       "| Av. | 0.6127421 | 0.5004649 | 0.5490327 | 0.7209336 | 0.6033244 | 0.7074149 | 0.5262514 |\n",
       "| Mar. | 0.6506439 | 0.4922970 | 0.5464070 | 0.7257120 | 0.6304000 | 0.7207650 | 0.4958010 |\n",
       "| Mam. | 0.6331124 | 0.4700767 | 0.5248526 | 0.7278417 | 0.6484818 | 0.7373789 | 0.5051709 |\n",
       "\n"
      ],
      "text/plain": [
       "     Bos taurus Branchiostoma lanceolatum Danio rerio Gallus gallus\n",
       "Inv. 0.5754485  0.5108943                 0.5280897   0.6475037    \n",
       "Act. 0.5489090  0.5271395                 0.5327735   0.6616010    \n",
       "Rep. 0.5946979  0.4790767                 0.5477490   0.7281493    \n",
       "Av.  0.6127421  0.5004649                 0.5490327   0.7209336    \n",
       "Mar. 0.6506439  0.4922970                 0.5464070   0.7257120    \n",
       "Mam. 0.6331124  0.4700767                 0.5248526   0.7278417    \n",
       "     Mus musculus Phascolarctos cinereus Xenopus laevis\n",
       "Inv. 0.5703160    0.6699183              0.5083497     \n",
       "Act. 0.5355305    0.6636725              0.5184330     \n",
       "Rep. 0.6105603    0.7514080              0.5146983     \n",
       "Av.  0.6033244    0.7074149              0.5262514     \n",
       "Mar. 0.6304000    0.7207650              0.4958010     \n",
       "Mam. 0.6484818    0.7373789              0.5051709     "
      ]
     },
     "metadata": {},
     "output_type": "display_data"
    }
   ],
   "source": [
    "summary_auc_mean_mtx"
   ]
  },
  {
   "cell_type": "code",
   "execution_count": 160,
   "id": "d44012ee-5850-404c-87c3-674278f81893",
   "metadata": {},
   "outputs": [],
   "source": [
    "annot_row <- unique(sp_df[color_class!=\"Jawless_vertebrate\", c(\"group\", \"color_class\")])"
   ]
  },
  {
   "cell_type": "code",
   "execution_count": 161,
   "id": "713525da-c7d2-41a1-ad7d-5561a6ac33c5",
   "metadata": {},
   "outputs": [
    {
     "data": {
      "text/html": [
       "<table class=\"dataframe\">\n",
       "<caption>A data.table: 8 × 2</caption>\n",
       "<thead>\n",
       "\t<tr><th scope=col>group</th><th scope=col>color_class</th></tr>\n",
       "\t<tr><th scope=col>&lt;fct&gt;</th><th scope=col>&lt;fct&gt;</th></tr>\n",
       "</thead>\n",
       "<tbody>\n",
       "\t<tr><td>Inv.</td><td>Invertebrata  </td></tr>\n",
       "\t<tr><td>Ch. </td><td>Chondrichthyes</td></tr>\n",
       "\t<tr><td>Act.</td><td>Actinopteri   </td></tr>\n",
       "\t<tr><td>Amp.</td><td>Amphibia      </td></tr>\n",
       "\t<tr><td>Rep.</td><td>Reptilia      </td></tr>\n",
       "\t<tr><td>Av. </td><td>Aves          </td></tr>\n",
       "\t<tr><td>Mar.</td><td>Marsupialia   </td></tr>\n",
       "\t<tr><td>Mam.</td><td>Mammalia      </td></tr>\n",
       "</tbody>\n",
       "</table>\n"
      ],
      "text/latex": [
       "A data.table: 8 × 2\n",
       "\\begin{tabular}{ll}\n",
       " group & color\\_class\\\\\n",
       " <fct> & <fct>\\\\\n",
       "\\hline\n",
       "\t Inv. & Invertebrata  \\\\\n",
       "\t Ch.  & Chondrichthyes\\\\\n",
       "\t Act. & Actinopteri   \\\\\n",
       "\t Amp. & Amphibia      \\\\\n",
       "\t Rep. & Reptilia      \\\\\n",
       "\t Av.  & Aves          \\\\\n",
       "\t Mar. & Marsupialia   \\\\\n",
       "\t Mam. & Mammalia      \\\\\n",
       "\\end{tabular}\n"
      ],
      "text/markdown": [
       "\n",
       "A data.table: 8 × 2\n",
       "\n",
       "| group &lt;fct&gt; | color_class &lt;fct&gt; |\n",
       "|---|---|\n",
       "| Inv. | Invertebrata   |\n",
       "| Ch.  | Chondrichthyes |\n",
       "| Act. | Actinopteri    |\n",
       "| Amp. | Amphibia       |\n",
       "| Rep. | Reptilia       |\n",
       "| Av.  | Aves           |\n",
       "| Mar. | Marsupialia    |\n",
       "| Mam. | Mammalia       |\n",
       "\n"
      ],
      "text/plain": [
       "  group color_class   \n",
       "1 Inv.  Invertebrata  \n",
       "2 Ch.   Chondrichthyes\n",
       "3 Act.  Actinopteri   \n",
       "4 Amp.  Amphibia      \n",
       "5 Rep.  Reptilia      \n",
       "6 Av.   Aves          \n",
       "7 Mar.  Marsupialia   \n",
       "8 Mam.  Mammalia      "
      ]
     },
     "metadata": {},
     "output_type": "display_data"
    }
   ],
   "source": [
    "annot_row"
   ]
  },
  {
   "cell_type": "code",
   "execution_count": 162,
   "id": "8774be23-7eb6-4b13-9850-b816b9bdefaf",
   "metadata": {},
   "outputs": [],
   "source": [
    "annot_row <- as.data.frame(annot_row)\n",
    "row.names(annot_row) <- annot_row$group\n",
    "annot_row <- annot_row[, -1, drop = FALSE]"
   ]
  },
  {
   "cell_type": "code",
   "execution_count": 163,
   "id": "625826e2-6ba6-45bc-b367-0e322cd2453e",
   "metadata": {},
   "outputs": [
    {
     "data": {
      "text/html": [
       "<table class=\"dataframe\">\n",
       "<caption>A data.frame: 6 × 7</caption>\n",
       "<thead>\n",
       "\t<tr><th></th><th scope=col>Bos taurus</th><th scope=col>Branchiostoma lanceolatum</th><th scope=col>Danio rerio</th><th scope=col>Gallus gallus</th><th scope=col>Mus musculus</th><th scope=col>Phascolarctos cinereus</th><th scope=col>Xenopus laevis</th></tr>\n",
       "\t<tr><th></th><th scope=col>&lt;dbl&gt;</th><th scope=col>&lt;dbl&gt;</th><th scope=col>&lt;dbl&gt;</th><th scope=col>&lt;dbl&gt;</th><th scope=col>&lt;dbl&gt;</th><th scope=col>&lt;dbl&gt;</th><th scope=col>&lt;dbl&gt;</th></tr>\n",
       "</thead>\n",
       "<tbody>\n",
       "\t<tr><th scope=row>Inv.</th><td>0.5754485</td><td>0.5108943</td><td>0.5280897</td><td>0.6475037</td><td>0.5703160</td><td>0.6699183</td><td>0.5083497</td></tr>\n",
       "\t<tr><th scope=row>Act.</th><td>0.5489090</td><td>0.5271395</td><td>0.5327735</td><td>0.6616010</td><td>0.5355305</td><td>0.6636725</td><td>0.5184330</td></tr>\n",
       "\t<tr><th scope=row>Rep.</th><td>0.5946979</td><td>0.4790767</td><td>0.5477490</td><td>0.7281493</td><td>0.6105603</td><td>0.7514080</td><td>0.5146983</td></tr>\n",
       "\t<tr><th scope=row>Av.</th><td>0.6127421</td><td>0.5004649</td><td>0.5490327</td><td>0.7209336</td><td>0.6033244</td><td>0.7074149</td><td>0.5262514</td></tr>\n",
       "\t<tr><th scope=row>Mar.</th><td>0.6506439</td><td>0.4922970</td><td>0.5464070</td><td>0.7257120</td><td>0.6304000</td><td>0.7207650</td><td>0.4958010</td></tr>\n",
       "\t<tr><th scope=row>Mam.</th><td>0.6331124</td><td>0.4700767</td><td>0.5248526</td><td>0.7278417</td><td>0.6484818</td><td>0.7373789</td><td>0.5051709</td></tr>\n",
       "</tbody>\n",
       "</table>\n"
      ],
      "text/latex": [
       "A data.frame: 6 × 7\n",
       "\\begin{tabular}{r|lllllll}\n",
       "  & Bos taurus & Branchiostoma lanceolatum & Danio rerio & Gallus gallus & Mus musculus & Phascolarctos cinereus & Xenopus laevis\\\\\n",
       "  & <dbl> & <dbl> & <dbl> & <dbl> & <dbl> & <dbl> & <dbl>\\\\\n",
       "\\hline\n",
       "\tInv. & 0.5754485 & 0.5108943 & 0.5280897 & 0.6475037 & 0.5703160 & 0.6699183 & 0.5083497\\\\\n",
       "\tAct. & 0.5489090 & 0.5271395 & 0.5327735 & 0.6616010 & 0.5355305 & 0.6636725 & 0.5184330\\\\\n",
       "\tRep. & 0.5946979 & 0.4790767 & 0.5477490 & 0.7281493 & 0.6105603 & 0.7514080 & 0.5146983\\\\\n",
       "\tAv. & 0.6127421 & 0.5004649 & 0.5490327 & 0.7209336 & 0.6033244 & 0.7074149 & 0.5262514\\\\\n",
       "\tMar. & 0.6506439 & 0.4922970 & 0.5464070 & 0.7257120 & 0.6304000 & 0.7207650 & 0.4958010\\\\\n",
       "\tMam. & 0.6331124 & 0.4700767 & 0.5248526 & 0.7278417 & 0.6484818 & 0.7373789 & 0.5051709\\\\\n",
       "\\end{tabular}\n"
      ],
      "text/markdown": [
       "\n",
       "A data.frame: 6 × 7\n",
       "\n",
       "| <!--/--> | Bos taurus &lt;dbl&gt; | Branchiostoma lanceolatum &lt;dbl&gt; | Danio rerio &lt;dbl&gt; | Gallus gallus &lt;dbl&gt; | Mus musculus &lt;dbl&gt; | Phascolarctos cinereus &lt;dbl&gt; | Xenopus laevis &lt;dbl&gt; |\n",
       "|---|---|---|---|---|---|---|---|\n",
       "| Inv. | 0.5754485 | 0.5108943 | 0.5280897 | 0.6475037 | 0.5703160 | 0.6699183 | 0.5083497 |\n",
       "| Act. | 0.5489090 | 0.5271395 | 0.5327735 | 0.6616010 | 0.5355305 | 0.6636725 | 0.5184330 |\n",
       "| Rep. | 0.5946979 | 0.4790767 | 0.5477490 | 0.7281493 | 0.6105603 | 0.7514080 | 0.5146983 |\n",
       "| Av. | 0.6127421 | 0.5004649 | 0.5490327 | 0.7209336 | 0.6033244 | 0.7074149 | 0.5262514 |\n",
       "| Mar. | 0.6506439 | 0.4922970 | 0.5464070 | 0.7257120 | 0.6304000 | 0.7207650 | 0.4958010 |\n",
       "| Mam. | 0.6331124 | 0.4700767 | 0.5248526 | 0.7278417 | 0.6484818 | 0.7373789 | 0.5051709 |\n",
       "\n"
      ],
      "text/plain": [
       "     Bos taurus Branchiostoma lanceolatum Danio rerio Gallus gallus\n",
       "Inv. 0.5754485  0.5108943                 0.5280897   0.6475037    \n",
       "Act. 0.5489090  0.5271395                 0.5327735   0.6616010    \n",
       "Rep. 0.5946979  0.4790767                 0.5477490   0.7281493    \n",
       "Av.  0.6127421  0.5004649                 0.5490327   0.7209336    \n",
       "Mar. 0.6506439  0.4922970                 0.5464070   0.7257120    \n",
       "Mam. 0.6331124  0.4700767                 0.5248526   0.7278417    \n",
       "     Mus musculus Phascolarctos cinereus Xenopus laevis\n",
       "Inv. 0.5703160    0.6699183              0.5083497     \n",
       "Act. 0.5355305    0.6636725              0.5184330     \n",
       "Rep. 0.6105603    0.7514080              0.5146983     \n",
       "Av.  0.6033244    0.7074149              0.5262514     \n",
       "Mar. 0.6304000    0.7207650              0.4958010     \n",
       "Mam. 0.6484818    0.7373789              0.5051709     "
      ]
     },
     "metadata": {},
     "output_type": "display_data"
    }
   ],
   "source": [
    "summary_auc_mean_mtx"
   ]
  },
  {
   "cell_type": "code",
   "execution_count": 164,
   "id": "2aa7dc74-9170-4bb0-92ff-554c228324e8",
   "metadata": {},
   "outputs": [
    {
     "data": {
      "text/html": [
       "<style>\n",
       ".list-inline {list-style: none; margin:0; padding: 0}\n",
       ".list-inline>li {display: inline-block}\n",
       ".list-inline>li:not(:last-child)::after {content: \"\\00b7\"; padding: 0 .5ex}\n",
       "</style>\n",
       "<ol class=list-inline><li>'Branchiostoma lanceolatum'</li><li>'Danio rerio'</li><li>'Xenopus laevis'</li><li>'Gallus gallus'</li><li>'Phascolarctos cinereus'</li><li>'Mus musculus'</li><li>'Bos taurus'</li></ol>\n"
      ],
      "text/latex": [
       "\\begin{enumerate*}\n",
       "\\item 'Branchiostoma lanceolatum'\n",
       "\\item 'Danio rerio'\n",
       "\\item 'Xenopus laevis'\n",
       "\\item 'Gallus gallus'\n",
       "\\item 'Phascolarctos cinereus'\n",
       "\\item 'Mus musculus'\n",
       "\\item 'Bos taurus'\n",
       "\\end{enumerate*}\n"
      ],
      "text/markdown": [
       "1. 'Branchiostoma lanceolatum'\n",
       "2. 'Danio rerio'\n",
       "3. 'Xenopus laevis'\n",
       "4. 'Gallus gallus'\n",
       "5. 'Phascolarctos cinereus'\n",
       "6. 'Mus musculus'\n",
       "7. 'Bos taurus'\n",
       "\n",
       "\n"
      ],
      "text/plain": [
       "[1] \"Branchiostoma lanceolatum\" \"Danio rerio\"              \n",
       "[3] \"Xenopus laevis\"            \"Gallus gallus\"            \n",
       "[5] \"Phascolarctos cinereus\"    \"Mus musculus\"             \n",
       "[7] \"Bos taurus\"               "
      ]
     },
     "metadata": {},
     "output_type": "display_data"
    }
   ],
   "source": [
    "WGBS_species_order"
   ]
  },
  {
   "cell_type": "code",
   "execution_count": 166,
   "id": "d6cf17ef-0be0-4182-89d5-4c0370b9f1a7",
   "metadata": {},
   "outputs": [
    {
     "data": {
      "image/png": "[encoded data removed]",
      "text/plain": [
       "plot without title"
      ]
     },
     "metadata": {
      "image/png": {
       "height": 420,
       "width": 420
      }
     },
     "output_type": "display_data"
    }
   ],
   "source": [
    "pheatmap(summary_auc_mean_mtx[, WGBS_species_order], \n",
    "         cluster_rows = FALSE, \n",
    "         cluster_cols = FALSE, annotation_row = annot_row,\n",
    "         show_rownames = F,breaks = seq(0, 1, length.out = 100),\n",
    "         annotation_colors = list(color_class = class_colors))"
   ]
  },
  {
   "cell_type": "code",
   "execution_count": 167,
   "id": "6ed312a6-3b3e-474c-8aec-ef342037ece8",
   "metadata": {},
   "outputs": [],
   "source": [
    "### without the grouping"
   ]
  },
  {
   "cell_type": "code",
   "execution_count": 168,
   "id": "baf97d6a-2059-4749-9ae6-0db283cbb047",
   "metadata": {},
   "outputs": [],
   "source": [
    "summary_auc_wide <- summary_auc[,c(\"type\", \"species_train\", \"auc\")] %>% pivot_wider(names_from = type, values_from = auc)"
   ]
  },
  {
   "cell_type": "code",
   "execution_count": 169,
   "id": "a92c481d-c3b4-4f5b-ba6d-a6058a351b1d",
   "metadata": {},
   "outputs": [
    {
     "data": {
      "text/html": [
       "<table class=\"dataframe\">\n",
       "<caption>A tibble: 6 × 8</caption>\n",
       "<thead>\n",
       "\t<tr><th scope=col>species_train</th><th scope=col>Mus musculus</th><th scope=col>Gallus gallus</th><th scope=col>Phascolarctos cinereus</th><th scope=col>Bos taurus</th><th scope=col>Danio rerio</th><th scope=col>Branchiostoma lanceolatum</th><th scope=col>Xenopus laevis</th></tr>\n",
       "\t<tr><th scope=col>&lt;chr&gt;</th><th scope=col>&lt;dbl&gt;</th><th scope=col>&lt;dbl&gt;</th><th scope=col>&lt;dbl&gt;</th><th scope=col>&lt;dbl&gt;</th><th scope=col>&lt;dbl&gt;</th><th scope=col>&lt;dbl&gt;</th><th scope=col>&lt;dbl&gt;</th></tr>\n",
       "</thead>\n",
       "<tbody>\n",
       "\t<tr><td>ANG</td><td>0.510654</td><td>0.635440</td><td>0.630130</td><td>0.4865502</td><td>0.527245</td><td>0.565503</td><td>0.466317</td></tr>\n",
       "\t<tr><td>AR </td><td>0.602812</td><td>0.702654</td><td>0.731050</td><td>0.5986412</td><td>0.519147</td><td>0.469167</td><td>0.527502</td></tr>\n",
       "\t<tr><td>ASH</td><td>0.491265</td><td>0.518542</td><td>0.536756</td><td>0.5299632</td><td>0.496849</td><td>0.519920</td><td>0.520352</td></tr>\n",
       "\t<tr><td>BC </td><td>0.651485</td><td>0.732425</td><td>0.755281</td><td>0.6364336</td><td>0.526837</td><td>0.470064</td><td>0.492608</td></tr>\n",
       "\t<tr><td>BU </td><td>0.572545</td><td>0.724961</td><td>0.705848</td><td>0.6115973</td><td>0.566742</td><td>0.504439</td><td>0.504367</td></tr>\n",
       "\t<tr><td>COY</td><td>0.679732</td><td>0.756447</td><td>0.760663</td><td>0.6696849</td><td>0.518524</td><td>0.448413</td><td>0.513149</td></tr>\n",
       "</tbody>\n",
       "</table>\n"
      ],
      "text/latex": [
       "A tibble: 6 × 8\n",
       "\\begin{tabular}{llllllll}\n",
       " species\\_train & Mus musculus & Gallus gallus & Phascolarctos cinereus & Bos taurus & Danio rerio & Branchiostoma lanceolatum & Xenopus laevis\\\\\n",
       " <chr> & <dbl> & <dbl> & <dbl> & <dbl> & <dbl> & <dbl> & <dbl>\\\\\n",
       "\\hline\n",
       "\t ANG & 0.510654 & 0.635440 & 0.630130 & 0.4865502 & 0.527245 & 0.565503 & 0.466317\\\\\n",
       "\t AR  & 0.602812 & 0.702654 & 0.731050 & 0.5986412 & 0.519147 & 0.469167 & 0.527502\\\\\n",
       "\t ASH & 0.491265 & 0.518542 & 0.536756 & 0.5299632 & 0.496849 & 0.519920 & 0.520352\\\\\n",
       "\t BC  & 0.651485 & 0.732425 & 0.755281 & 0.6364336 & 0.526837 & 0.470064 & 0.492608\\\\\n",
       "\t BU  & 0.572545 & 0.724961 & 0.705848 & 0.6115973 & 0.566742 & 0.504439 & 0.504367\\\\\n",
       "\t COY & 0.679732 & 0.756447 & 0.760663 & 0.6696849 & 0.518524 & 0.448413 & 0.513149\\\\\n",
       "\\end{tabular}\n"
      ],
      "text/markdown": [
       "\n",
       "A tibble: 6 × 8\n",
       "\n",
       "| species_train &lt;chr&gt; | Mus musculus &lt;dbl&gt; | Gallus gallus &lt;dbl&gt; | Phascolarctos cinereus &lt;dbl&gt; | Bos taurus &lt;dbl&gt; | Danio rerio &lt;dbl&gt; | Branchiostoma lanceolatum &lt;dbl&gt; | Xenopus laevis &lt;dbl&gt; |\n",
       "|---|---|---|---|---|---|---|---|\n",
       "| ANG | 0.510654 | 0.635440 | 0.630130 | 0.4865502 | 0.527245 | 0.565503 | 0.466317 |\n",
       "| AR  | 0.602812 | 0.702654 | 0.731050 | 0.5986412 | 0.519147 | 0.469167 | 0.527502 |\n",
       "| ASH | 0.491265 | 0.518542 | 0.536756 | 0.5299632 | 0.496849 | 0.519920 | 0.520352 |\n",
       "| BC  | 0.651485 | 0.732425 | 0.755281 | 0.6364336 | 0.526837 | 0.470064 | 0.492608 |\n",
       "| BU  | 0.572545 | 0.724961 | 0.705848 | 0.6115973 | 0.566742 | 0.504439 | 0.504367 |\n",
       "| COY | 0.679732 | 0.756447 | 0.760663 | 0.6696849 | 0.518524 | 0.448413 | 0.513149 |\n",
       "\n"
      ],
      "text/plain": [
       "  species_train Mus musculus Gallus gallus Phascolarctos cinereus Bos taurus\n",
       "1 ANG           0.510654     0.635440      0.630130               0.4865502 \n",
       "2 AR            0.602812     0.702654      0.731050               0.5986412 \n",
       "3 ASH           0.491265     0.518542      0.536756               0.5299632 \n",
       "4 BC            0.651485     0.732425      0.755281               0.6364336 \n",
       "5 BU            0.572545     0.724961      0.705848               0.6115973 \n",
       "6 COY           0.679732     0.756447      0.760663               0.6696849 \n",
       "  Danio rerio Branchiostoma lanceolatum Xenopus laevis\n",
       "1 0.527245    0.565503                  0.466317      \n",
       "2 0.519147    0.469167                  0.527502      \n",
       "3 0.496849    0.519920                  0.520352      \n",
       "4 0.526837    0.470064                  0.492608      \n",
       "5 0.566742    0.504439                  0.504367      \n",
       "6 0.518524    0.448413                  0.513149      "
      ]
     },
     "metadata": {},
     "output_type": "display_data"
    }
   ],
   "source": [
    "head(summary_auc_wide)"
   ]
  },
  {
   "cell_type": "code",
   "execution_count": 170,
   "id": "ecc3494b-74b8-4f9d-b8f8-738a9a1af9d8",
   "metadata": {},
   "outputs": [],
   "source": [
    "summary_auc_wide <- as.data.frame(summary_auc_wide)\n",
    "row.names(summary_auc_wide) <- summary_auc_wide$species_train\n",
    "summary_auc_wide <- summary_auc_wide[,-1]"
   ]
  },
  {
   "cell_type": "code",
   "execution_count": 171,
   "id": "174278b7-5c16-4960-b98d-5c47a47e69c0",
   "metadata": {},
   "outputs": [],
   "source": [
    "annot_row <- as.data.frame(sp_df[species %in% summary_auc$species_train, -3])"
   ]
  },
  {
   "cell_type": "code",
   "execution_count": 172,
   "id": "355f0aa6-5140-4711-a48f-ac6cfc65c5ec",
   "metadata": {},
   "outputs": [],
   "source": [
    "row.names(annot_row) <- annot_row$species"
   ]
  },
  {
   "cell_type": "code",
   "execution_count": 173,
   "id": "2f374a14-1c09-4722-a05f-65084f2a5108",
   "metadata": {},
   "outputs": [],
   "source": [
    "annot_row <- annot_row[, -1, drop = FALSE]"
   ]
  },
  {
   "cell_type": "code",
   "execution_count": null,
   "id": "c7ba165d-17cd-45d5-a850-a7c598e3ffac",
   "metadata": {},
   "outputs": [],
   "source": []
  },
  {
   "cell_type": "code",
   "execution_count": 175,
   "id": "c0b28bcb-2034-4cb8-884e-33be2ebbe790",
   "metadata": {},
   "outputs": [
    {
     "data": {
      "image/png": "[encoded data removed]",
      "text/plain": [
       "plot without title"
      ]
     },
     "metadata": {
      "image/png": {
       "height": 420,
       "width": 420
      }
     },
     "output_type": "display_data"
    }
   ],
   "source": [
    "pheatmap(summary_auc_wide[row.names(annot_row), WGBS_species_order], \n",
    "         cluster_rows = FALSE, \n",
    "         cluster_cols = FALSE, annotation_row = annot_row,\n",
    "         show_rownames = F,\n",
    "         annotation_colors = list(color_class = class_colors), \n",
    "        breaks = seq(0, 1, length.out = 100))"
   ]
  },
  {
   "cell_type": "code",
   "execution_count": null,
   "id": "3fec87c1-0728-423e-9d27-35d237956247",
   "metadata": {},
   "outputs": [],
   "source": []
  }
 ],
 "metadata": {
  "kernelspec": {
   "display_name": "R_compEpi",
   "language": "R",
   "name": "r_compepi"
  },
  "language_info": {
   "codemirror_mode": "r",
   "file_extension": ".r",
   "mimetype": "text/x-r-source",
   "name": "R",
   "pygments_lexer": "r",
   "version": "3.6.3"
  }
 },
 "nbformat": 4,
 "nbformat_minor": 5
}
