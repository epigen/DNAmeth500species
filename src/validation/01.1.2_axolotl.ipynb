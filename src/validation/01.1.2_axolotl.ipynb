{
 "cells": [
  {
   "cell_type": "markdown",
   "id": "05d9af2c-cd4d-4867-ad1c-02b451af617b",
   "metadata": {},
   "source": [
    "## dealing with axolotl"
   ]
  },
  {
   "cell_type": "code",
   "execution_count": 1,
   "id": "77e6c311-c04e-4495-9a07-faf3c73ad10e",
   "metadata": {},
   "outputs": [
    {
     "name": "stderr",
     "output_type": "stream",
     "text": [
      "Warning message:\n",
      "“package ‘ggrepel’ was built under R version 3.6.3”\n",
      "Warning message:\n",
      "“package ‘ggseqlogo’ was built under R version 3.6.3”\n",
      "Warning message:\n",
      "“package ‘pheatmap’ was built under R version 3.6.3”\n",
      "Joining, by = \"species\"\n",
      "\n"
     ]
    }
   ],
   "source": [
    "source(file.path(Sys.getenv(\"CODEBASE\"),\"DNAmeth500species/src/00.0_init.R\"))"
   ]
  },
  {
   "cell_type": "markdown",
   "id": "13fb9bbc-70af-4eea-ab8b-3c273fe9c2bf",
   "metadata": {},
   "source": [
    "The latest version of the genome and annotation are downloaded from https://www.axolotl-omics.org/assemblies"
   ]
  },
  {
   "cell_type": "code",
   "execution_count": 2,
   "id": "2b67d8e1-a226-460c-8c41-3651a3aa1552",
   "metadata": {},
   "outputs": [],
   "source": [
    "wd = file.path(data_dir, \"resources\", \"reference_genomes\",\"AmexG_v6.0-DD\")\n",
    "setwd(wd)"
   ]
  },
  {
   "cell_type": "code",
   "execution_count": 3,
   "id": "d9261a90-b407-46aa-a743-2905caf2a1d3",
   "metadata": {},
   "outputs": [],
   "source": [
    "full_fasta = readDNAStringSet(\"AmexG_v6.0-DD_full.fa\")"
   ]
  },
  {
   "cell_type": "code",
   "execution_count": 54,
   "id": "f47ce7aa-d891-48c4-8ee0-111a6b7b2adb",
   "metadata": {},
   "outputs": [],
   "source": [
    "df <- fread(\"GCA_002915635.3_AmbMex60DD_assembly_report.txt\", fill = TRUE, skip = 30)"
   ]
  },
  {
   "cell_type": "code",
   "execution_count": 55,
   "id": "a516e614-d0f8-427c-a802-6577d3586e90",
   "metadata": {},
   "outputs": [
    {
     "data": {
      "text/html": [
       "<table class=\"dataframe\">\n",
       "<caption>A data.table: 6 × 10</caption>\n",
       "<thead>\n",
       "\t<tr><th scope=col># Sequence-Name</th><th scope=col>Sequence-Role</th><th scope=col>Assigned-Molecule</th><th scope=col>Assigned-Molecule-Location/Type</th><th scope=col>GenBank-Accn</th><th scope=col>Relationship</th><th scope=col>RefSeq-Accn</th><th scope=col>Assembly-Unit</th><th scope=col>Sequence-Length</th><th scope=col>UCSC-style-name</th></tr>\n",
       "\t<tr><th scope=col>&lt;chr&gt;</th><th scope=col>&lt;chr&gt;</th><th scope=col>&lt;chr&gt;</th><th scope=col>&lt;chr&gt;</th><th scope=col>&lt;chr&gt;</th><th scope=col>&lt;chr&gt;</th><th scope=col>&lt;chr&gt;</th><th scope=col>&lt;chr&gt;</th><th scope=col>&lt;int&gt;</th><th scope=col>&lt;chr&gt;</th></tr>\n",
       "</thead>\n",
       "<tbody>\n",
       "\t<tr><td>chr1p</td><td>assembled-molecule</td><td>1p</td><td>Chromosome</td><td>CM010927.2</td><td>&lt;&gt;</td><td>na</td><td>Primary Assembly</td><td>1417697612</td><td>na</td></tr>\n",
       "\t<tr><td>chr1q</td><td>assembled-molecule</td><td>1q</td><td>Chromosome</td><td>CM010928.2</td><td>&lt;&gt;</td><td>na</td><td>Primary Assembly</td><td>1472437468</td><td>na</td></tr>\n",
       "\t<tr><td>chr2p</td><td>assembled-molecule</td><td>2p</td><td>Chromosome</td><td>CM010929.2</td><td>&lt;&gt;</td><td>na</td><td>Primary Assembly</td><td>1382406544</td><td>na</td></tr>\n",
       "\t<tr><td>chr2q</td><td>assembled-molecule</td><td>2q</td><td>Chromosome</td><td>CM010930.2</td><td>&lt;&gt;</td><td>na</td><td>Primary Assembly</td><td>1414824543</td><td>na</td></tr>\n",
       "\t<tr><td>chr3p</td><td>assembled-molecule</td><td>3p</td><td>Chromosome</td><td>CM010931.2</td><td>&lt;&gt;</td><td>na</td><td>Primary Assembly</td><td> 868269696</td><td>na</td></tr>\n",
       "\t<tr><td>chr3q</td><td>assembled-molecule</td><td>3q</td><td>Chromosome</td><td>CM010932.2</td><td>&lt;&gt;</td><td>na</td><td>Primary Assembly</td><td>1526800552</td><td>na</td></tr>\n",
       "</tbody>\n",
       "</table>\n"
      ],
      "text/latex": [
       "A data.table: 6 × 10\n",
       "\\begin{tabular}{llllllllll}\n",
       " \\# Sequence-Name & Sequence-Role & Assigned-Molecule & Assigned-Molecule-Location/Type & GenBank-Accn & Relationship & RefSeq-Accn & Assembly-Unit & Sequence-Length & UCSC-style-name\\\\\n",
       " <chr> & <chr> & <chr> & <chr> & <chr> & <chr> & <chr> & <chr> & <int> & <chr>\\\\\n",
       "\\hline\n",
       "\t chr1p & assembled-molecule & 1p & Chromosome & CM010927.2 & <> & na & Primary Assembly & 1417697612 & na\\\\\n",
       "\t chr1q & assembled-molecule & 1q & Chromosome & CM010928.2 & <> & na & Primary Assembly & 1472437468 & na\\\\\n",
       "\t chr2p & assembled-molecule & 2p & Chromosome & CM010929.2 & <> & na & Primary Assembly & 1382406544 & na\\\\\n",
       "\t chr2q & assembled-molecule & 2q & Chromosome & CM010930.2 & <> & na & Primary Assembly & 1414824543 & na\\\\\n",
       "\t chr3p & assembled-molecule & 3p & Chromosome & CM010931.2 & <> & na & Primary Assembly &  868269696 & na\\\\\n",
       "\t chr3q & assembled-molecule & 3q & Chromosome & CM010932.2 & <> & na & Primary Assembly & 1526800552 & na\\\\\n",
       "\\end{tabular}\n"
      ],
      "text/markdown": [
       "\n",
       "A data.table: 6 × 10\n",
       "\n",
       "| # Sequence-Name &lt;chr&gt; | Sequence-Role &lt;chr&gt; | Assigned-Molecule &lt;chr&gt; | Assigned-Molecule-Location/Type &lt;chr&gt; | GenBank-Accn &lt;chr&gt; | Relationship &lt;chr&gt; | RefSeq-Accn &lt;chr&gt; | Assembly-Unit &lt;chr&gt; | Sequence-Length &lt;int&gt; | UCSC-style-name &lt;chr&gt; |\n",
       "|---|---|---|---|---|---|---|---|---|---|\n",
       "| chr1p | assembled-molecule | 1p | Chromosome | CM010927.2 | &lt;&gt; | na | Primary Assembly | 1417697612 | na |\n",
       "| chr1q | assembled-molecule | 1q | Chromosome | CM010928.2 | &lt;&gt; | na | Primary Assembly | 1472437468 | na |\n",
       "| chr2p | assembled-molecule | 2p | Chromosome | CM010929.2 | &lt;&gt; | na | Primary Assembly | 1382406544 | na |\n",
       "| chr2q | assembled-molecule | 2q | Chromosome | CM010930.2 | &lt;&gt; | na | Primary Assembly | 1414824543 | na |\n",
       "| chr3p | assembled-molecule | 3p | Chromosome | CM010931.2 | &lt;&gt; | na | Primary Assembly |  868269696 | na |\n",
       "| chr3q | assembled-molecule | 3q | Chromosome | CM010932.2 | &lt;&gt; | na | Primary Assembly | 1526800552 | na |\n",
       "\n"
      ],
      "text/plain": [
       "  # Sequence-Name Sequence-Role      Assigned-Molecule\n",
       "1 chr1p           assembled-molecule 1p               \n",
       "2 chr1q           assembled-molecule 1q               \n",
       "3 chr2p           assembled-molecule 2p               \n",
       "4 chr2q           assembled-molecule 2q               \n",
       "5 chr3p           assembled-molecule 3p               \n",
       "6 chr3q           assembled-molecule 3q               \n",
       "  Assigned-Molecule-Location/Type GenBank-Accn Relationship RefSeq-Accn\n",
       "1 Chromosome                      CM010927.2   <>           na         \n",
       "2 Chromosome                      CM010928.2   <>           na         \n",
       "3 Chromosome                      CM010929.2   <>           na         \n",
       "4 Chromosome                      CM010930.2   <>           na         \n",
       "5 Chromosome                      CM010931.2   <>           na         \n",
       "6 Chromosome                      CM010932.2   <>           na         \n",
       "  Assembly-Unit    Sequence-Length UCSC-style-name\n",
       "1 Primary Assembly 1417697612      na             \n",
       "2 Primary Assembly 1472437468      na             \n",
       "3 Primary Assembly 1382406544      na             \n",
       "4 Primary Assembly 1414824543      na             \n",
       "5 Primary Assembly  868269696      na             \n",
       "6 Primary Assembly 1526800552      na             "
      ]
     },
     "metadata": {},
     "output_type": "display_data"
    }
   ],
   "source": [
    "head(df)"
   ]
  },
  {
   "cell_type": "code",
   "execution_count": 56,
   "id": "640f3486-7313-4855-9045-6f49c7a30b11",
   "metadata": {},
   "outputs": [],
   "source": [
    "df[`Assigned-Molecule-Location/Type`!= \"na\",sequence_name:=paste0(\"chromosome \", `Assigned-Molecule`), by = row.names(df[`Assigned-Molecule-Location/Type`!= \"na\"]) ]"
   ]
  },
  {
   "cell_type": "code",
   "execution_count": 57,
   "id": "26793c57-03cf-4fa6-8074-d73163f7dca4",
   "metadata": {},
   "outputs": [],
   "source": [
    "df[`Assigned-Molecule-Location/Type`== \"na\",sequence_name:=`# Sequence-Name`, by = row.names(df[`Assigned-Molecule-Location/Type`== \"na\"]) ]"
   ]
  },
  {
   "cell_type": "code",
   "execution_count": 58,
   "id": "5194cae6-77eb-4e1e-9e36-a1ac55177fdf",
   "metadata": {},
   "outputs": [
    {
     "data": {
      "text/html": [
       "<table class=\"dataframe\">\n",
       "<caption>A data.table: 6 × 11</caption>\n",
       "<thead>\n",
       "\t<tr><th scope=col># Sequence-Name</th><th scope=col>Sequence-Role</th><th scope=col>Assigned-Molecule</th><th scope=col>Assigned-Molecule-Location/Type</th><th scope=col>GenBank-Accn</th><th scope=col>Relationship</th><th scope=col>RefSeq-Accn</th><th scope=col>Assembly-Unit</th><th scope=col>Sequence-Length</th><th scope=col>UCSC-style-name</th><th scope=col>sequence_name</th></tr>\n",
       "\t<tr><th scope=col>&lt;chr&gt;</th><th scope=col>&lt;chr&gt;</th><th scope=col>&lt;chr&gt;</th><th scope=col>&lt;chr&gt;</th><th scope=col>&lt;chr&gt;</th><th scope=col>&lt;chr&gt;</th><th scope=col>&lt;chr&gt;</th><th scope=col>&lt;chr&gt;</th><th scope=col>&lt;int&gt;</th><th scope=col>&lt;chr&gt;</th><th scope=col>&lt;chr&gt;</th></tr>\n",
       "</thead>\n",
       "<tbody>\n",
       "\t<tr><td>C0128033</td><td>unplaced-scaffold</td><td>na</td><td>na</td><td>PGSH02027152.1</td><td>&lt;&gt;</td><td>na</td><td>Primary Assembly</td><td>57724</td><td>na</td><td>C0128033</td></tr>\n",
       "\t<tr><td>C0128197</td><td>unplaced-scaffold</td><td>na</td><td>na</td><td>PGSH02027153.1</td><td>&lt;&gt;</td><td>na</td><td>Primary Assembly</td><td>34869</td><td>na</td><td>C0128197</td></tr>\n",
       "\t<tr><td>C0128212</td><td>unplaced-scaffold</td><td>na</td><td>na</td><td>PGSH02027154.1</td><td>&lt;&gt;</td><td>na</td><td>Primary Assembly</td><td>69325</td><td>na</td><td>C0128212</td></tr>\n",
       "\t<tr><td>C0128245</td><td>unplaced-scaffold</td><td>na</td><td>na</td><td>PGSH02027155.1</td><td>&lt;&gt;</td><td>na</td><td>Primary Assembly</td><td>26379</td><td>na</td><td>C0128245</td></tr>\n",
       "\t<tr><td>C0128301</td><td>unplaced-scaffold</td><td>na</td><td>na</td><td>PGSH02027156.1</td><td>&lt;&gt;</td><td>na</td><td>Primary Assembly</td><td>14306</td><td>na</td><td>C0128301</td></tr>\n",
       "\t<tr><td>C0128315</td><td>unplaced-scaffold</td><td>na</td><td>na</td><td>PGSH02027157.1</td><td>&lt;&gt;</td><td>na</td><td>Primary Assembly</td><td>23219</td><td>na</td><td>C0128315</td></tr>\n",
       "</tbody>\n",
       "</table>\n"
      ],
      "text/latex": [
       "A data.table: 6 × 11\n",
       "\\begin{tabular}{lllllllllll}\n",
       " \\# Sequence-Name & Sequence-Role & Assigned-Molecule & Assigned-Molecule-Location/Type & GenBank-Accn & Relationship & RefSeq-Accn & Assembly-Unit & Sequence-Length & UCSC-style-name & sequence\\_name\\\\\n",
       " <chr> & <chr> & <chr> & <chr> & <chr> & <chr> & <chr> & <chr> & <int> & <chr> & <chr>\\\\\n",
       "\\hline\n",
       "\t C0128033 & unplaced-scaffold & na & na & PGSH02027152.1 & <> & na & Primary Assembly & 57724 & na & C0128033\\\\\n",
       "\t C0128197 & unplaced-scaffold & na & na & PGSH02027153.1 & <> & na & Primary Assembly & 34869 & na & C0128197\\\\\n",
       "\t C0128212 & unplaced-scaffold & na & na & PGSH02027154.1 & <> & na & Primary Assembly & 69325 & na & C0128212\\\\\n",
       "\t C0128245 & unplaced-scaffold & na & na & PGSH02027155.1 & <> & na & Primary Assembly & 26379 & na & C0128245\\\\\n",
       "\t C0128301 & unplaced-scaffold & na & na & PGSH02027156.1 & <> & na & Primary Assembly & 14306 & na & C0128301\\\\\n",
       "\t C0128315 & unplaced-scaffold & na & na & PGSH02027157.1 & <> & na & Primary Assembly & 23219 & na & C0128315\\\\\n",
       "\\end{tabular}\n"
      ],
      "text/markdown": [
       "\n",
       "A data.table: 6 × 11\n",
       "\n",
       "| # Sequence-Name &lt;chr&gt; | Sequence-Role &lt;chr&gt; | Assigned-Molecule &lt;chr&gt; | Assigned-Molecule-Location/Type &lt;chr&gt; | GenBank-Accn &lt;chr&gt; | Relationship &lt;chr&gt; | RefSeq-Accn &lt;chr&gt; | Assembly-Unit &lt;chr&gt; | Sequence-Length &lt;int&gt; | UCSC-style-name &lt;chr&gt; | sequence_name &lt;chr&gt; |\n",
       "|---|---|---|---|---|---|---|---|---|---|---|\n",
       "| C0128033 | unplaced-scaffold | na | na | PGSH02027152.1 | &lt;&gt; | na | Primary Assembly | 57724 | na | C0128033 |\n",
       "| C0128197 | unplaced-scaffold | na | na | PGSH02027153.1 | &lt;&gt; | na | Primary Assembly | 34869 | na | C0128197 |\n",
       "| C0128212 | unplaced-scaffold | na | na | PGSH02027154.1 | &lt;&gt; | na | Primary Assembly | 69325 | na | C0128212 |\n",
       "| C0128245 | unplaced-scaffold | na | na | PGSH02027155.1 | &lt;&gt; | na | Primary Assembly | 26379 | na | C0128245 |\n",
       "| C0128301 | unplaced-scaffold | na | na | PGSH02027156.1 | &lt;&gt; | na | Primary Assembly | 14306 | na | C0128301 |\n",
       "| C0128315 | unplaced-scaffold | na | na | PGSH02027157.1 | &lt;&gt; | na | Primary Assembly | 23219 | na | C0128315 |\n",
       "\n"
      ],
      "text/plain": [
       "  # Sequence-Name Sequence-Role     Assigned-Molecule\n",
       "1 C0128033        unplaced-scaffold na               \n",
       "2 C0128197        unplaced-scaffold na               \n",
       "3 C0128212        unplaced-scaffold na               \n",
       "4 C0128245        unplaced-scaffold na               \n",
       "5 C0128301        unplaced-scaffold na               \n",
       "6 C0128315        unplaced-scaffold na               \n",
       "  Assigned-Molecule-Location/Type GenBank-Accn   Relationship RefSeq-Accn\n",
       "1 na                              PGSH02027152.1 <>           na         \n",
       "2 na                              PGSH02027153.1 <>           na         \n",
       "3 na                              PGSH02027154.1 <>           na         \n",
       "4 na                              PGSH02027155.1 <>           na         \n",
       "5 na                              PGSH02027156.1 <>           na         \n",
       "6 na                              PGSH02027157.1 <>           na         \n",
       "  Assembly-Unit    Sequence-Length UCSC-style-name sequence_name\n",
       "1 Primary Assembly 57724           na              C0128033     \n",
       "2 Primary Assembly 34869           na              C0128197     \n",
       "3 Primary Assembly 69325           na              C0128212     \n",
       "4 Primary Assembly 26379           na              C0128245     \n",
       "5 Primary Assembly 14306           na              C0128301     \n",
       "6 Primary Assembly 23219           na              C0128315     "
      ]
     },
     "metadata": {},
     "output_type": "display_data"
    }
   ],
   "source": [
    "tail(df)"
   ]
  },
  {
   "cell_type": "code",
   "execution_count": 59,
   "id": "69966d49-eb9b-4c85-94a3-4cf93a81eaff",
   "metadata": {},
   "outputs": [
    {
     "data": {
      "text/html": [
       "27157"
      ],
      "text/latex": [
       "27157"
      ],
      "text/markdown": [
       "27157"
      ],
      "text/plain": [
       "[1] 27157"
      ]
     },
     "metadata": {},
     "output_type": "display_data"
    }
   ],
   "source": [
    "NROW(df)"
   ]
  },
  {
   "cell_type": "code",
   "execution_count": 60,
   "id": "8fa5ca29-9bca-4042-b6f0-fd23a9fc31ee",
   "metadata": {},
   "outputs": [],
   "source": [
    "df$chr = paste0(df$`GenBank-Accn`, \" Ambystoma mexicanum strain DD151 \", df$sequence_name, \", whole genome shotgun sequence\")"
   ]
  },
  {
   "cell_type": "code",
   "execution_count": 61,
   "id": "5e7b70c6-aba0-4b27-80a2-416576a14b1c",
   "metadata": {},
   "outputs": [],
   "source": [
    "write.table(df[, c(\"chr\", \"Sequence-Length\")], \"AmbMex60DD_full.chrom.sizes\", quote = F, row.names = F, col.names = F, sep = \"\\t\")"
   ]
  },
  {
   "cell_type": "markdown",
   "id": "fb03008d-ca18-494b-816b-374f2af8b590",
   "metadata": {},
   "source": [
    "## removing all the small chromosomes"
   ]
  },
  {
   "cell_type": "code",
   "execution_count": 62,
   "id": "9e0123da-e811-4722-97e2-b62e71eb6261",
   "metadata": {},
   "outputs": [],
   "source": [
    "df <- df[`Assigned-Molecule-Location/Type`!= \"na\"]"
   ]
  },
  {
   "cell_type": "code",
   "execution_count": 10,
   "id": "0d48dbb0-a958-40e3-8bec-4c3dd6a67618",
   "metadata": {},
   "outputs": [
    {
     "data": {
      "text/html": [],
      "text/latex": [],
      "text/markdown": [],
      "text/plain": [
       "logical(0)"
      ]
     },
     "metadata": {},
     "output_type": "display_data"
    }
   ],
   "source": [
    "grep(\"chr\", names(full_fasta)[[40]]) == 1"
   ]
  },
  {
   "cell_type": "code",
   "execution_count": 63,
   "id": "2432c2a8-cd3c-4870-84f4-0dd1ffafe199",
   "metadata": {},
   "outputs": [
    {
     "data": {
      "text/html": [
       "28"
      ],
      "text/latex": [
       "28"
      ],
      "text/markdown": [
       "28"
      ],
      "text/plain": [
       "[1] 28"
      ]
     },
     "metadata": {},
     "output_type": "display_data"
    }
   ],
   "source": [
    "NROW(df)"
   ]
  },
  {
   "cell_type": "code",
   "execution_count": 13,
   "id": "f0ec0148-c33d-4b8d-b497-8ddde121ac89",
   "metadata": {},
   "outputs": [
    {
     "name": "stdout",
     "output_type": "stream",
     "text": [
      "[1] \"chr10p\"\n",
      "[1] \"chr10q\"\n",
      "[1] \"chr11p\"\n",
      "[1] \"chr11q\"\n",
      "[1] \"chr12p\"\n",
      "[1] \"chr12q\"\n",
      "[1] \"chr13p\"\n",
      "[1] \"chr13q\"\n",
      "[1] \"chr14p\"\n",
      "[1] \"chr14q\"\n",
      "[1] \"chr1p\"\n",
      "[1] \"chr1q\"\n",
      "[1] \"chr2p\"\n",
      "[1] \"chr2q\"\n",
      "[1] \"chr3p\"\n",
      "[1] \"chr3q\"\n",
      "[1] \"chr4p\"\n",
      "[1] \"chr4q\"\n",
      "[1] \"chr5p\"\n",
      "[1] \"chr5q\"\n",
      "[1] \"chr6p\"\n",
      "[1] \"chr6q\"\n",
      "[1] \"chr7p\"\n",
      "[1] \"chr7q\"\n",
      "[1] \"chr8p\"\n",
      "[1] \"chr8q\"\n",
      "[1] \"chr9p\"\n",
      "[1] \"chr9q\"\n"
     ]
    }
   ],
   "source": [
    "for(nameid in names(full_fasta)){\n",
    "    if(length(grep(\"chr\", nameid)) == 1){\n",
    "        writeXStringSet(full_fasta[nameid], \"AmexG_v6.0-DD.fa\", append=TRUE)\n",
    "        print(nameid)\n",
    "    }\n",
    "}"
   ]
  },
  {
   "cell_type": "code",
   "execution_count": 71,
   "id": "dc56cf4c-c433-4e75-b92f-eba7b42aa216",
   "metadata": {},
   "outputs": [],
   "source": [
    "write.table(df[, c(\"chr\", \"Sequence-Length\")], \"AmbMex60DD.chrom.sizes\", quote = F, row.names = F, col.names = F, sep = \"\\t\")"
   ]
  },
  {
   "cell_type": "markdown",
   "id": "01488e38-80c0-452d-82c4-e200bfa48f73",
   "metadata": {},
   "source": [
    "Annotation file:"
   ]
  },
  {
   "cell_type": "markdown",
   "id": "e5cc0963-a1ed-40be-9959-062670611542",
   "metadata": {},
   "source": [
    "download the gbff file solution doesn't really work\n"
   ]
  },
  {
   "cell_type": "code",
   "execution_count": null,
   "id": "3da202d6-e2e5-484c-a0c9-0f86b2dec743",
   "metadata": {},
   "outputs": [],
   "source": []
  }
 ],
 "metadata": {
  "kernelspec": {
   "display_name": "Zoo_R",
   "language": "R",
   "name": "zoo_r"
  },
  "language_info": {
   "codemirror_mode": "r",
   "file_extension": ".r",
   "mimetype": "text/x-r-source",
   "name": "R",
   "pygments_lexer": "r",
   "version": "3.6.1"
  }
 },
 "nbformat": 4,
 "nbformat_minor": 5
}
