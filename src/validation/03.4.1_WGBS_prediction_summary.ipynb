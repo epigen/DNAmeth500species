{
 "cells": [
  {
   "cell_type": "code",
   "execution_count": 1,
   "id": "cc4a303a",
   "metadata": {},
   "outputs": [
    {
     "name": "stderr",
     "output_type": "stream",
     "text": [
      "Joining, by = \"species\"\n",
      "\n"
     ]
    }
   ],
   "source": [
    "source(file.path(\"../../src/00.0_init.R\"))"
   ]
  },
  {
   "cell_type": "code",
   "execution_count": 2,
   "id": "1e537f9b-54b4-46a0-b501-6e183298dbba",
   "metadata": {},
   "outputs": [
    {
     "name": "stderr",
     "output_type": "stream",
     "text": [
      "Loading required package: kernlab\n",
      "\n",
      "\n",
      "Attaching package: ‘kernlab’\n",
      "\n",
      "\n",
      "The following object is masked from ‘package:ggplot2’:\n",
      "\n",
      "    alpha\n",
      "\n",
      "\n",
      "The following object is masked from ‘package:Biostrings’:\n",
      "\n",
      "    type\n",
      "\n",
      "\n",
      "The following object is masked from ‘package:BiocGenerics’:\n",
      "\n",
      "    type\n",
      "\n",
      "\n",
      "Loading required package: lattice\n",
      "\n",
      "\n",
      "Attaching package: ‘ROCR’\n",
      "\n",
      "\n",
      "The following object is masked from ‘package:kebabs’:\n",
      "\n",
      "    performance\n",
      "\n",
      "\n"
     ]
    }
   ],
   "source": [
    "library(kebabs)\n",
    "library(caret)\n",
    "library(ROCR)"
   ]
  },
  {
   "cell_type": "code",
   "execution_count": 3,
   "id": "266aa247",
   "metadata": {},
   "outputs": [],
   "source": [
    "annot_full <- fread(file.path(analysis_dir, \"validation\", \"03_WGBS\", \"WGBS_prediction_selection.tsv\"))"
   ]
  },
  {
   "cell_type": "code",
   "execution_count": 4,
   "id": "c7d003e4",
   "metadata": {},
   "outputs": [
    {
     "data": {
      "text/html": [
       "<table class=\"dataframe\">\n",
       "<caption>A data.table: 6 × 5</caption>\n",
       "<thead>\n",
       "\t<tr><th scope=col>Species</th><th scope=col>genomeId</th><th scope=col>Species_match</th><th scope=col>data_type</th><th scope=col>thr</th></tr>\n",
       "\t<tr><th scope=col>&lt;chr&gt;</th><th scope=col>&lt;chr&gt;</th><th scope=col>&lt;chr&gt;</th><th scope=col>&lt;chr&gt;</th><th scope=col>&lt;int&gt;</th></tr>\n",
       "</thead>\n",
       "<tbody>\n",
       "\t<tr><td>Mus_musculus             </td><td>mm9             </td><td>MOU</td><td>CpG.calls.txt</td><td>10</td></tr>\n",
       "\t<tr><td>Gallus_gallus            </td><td>galGal5         </td><td>CHK</td><td>cov_and_ratio</td><td>10</td></tr>\n",
       "\t<tr><td>Phascolarctos_cinereus   </td><td>phaCin_unsw_v4.1</td><td>KOA</td><td>CpGreport    </td><td>10</td></tr>\n",
       "\t<tr><td>Bos_taurus               </td><td>bosTau9         </td><td>ANW</td><td>CpGreport    </td><td>10</td></tr>\n",
       "\t<tr><td>Danio_rerio_GSE134055    </td><td>danRer11        </td><td>ZF </td><td>gemBS        </td><td>10</td></tr>\n",
       "\t<tr><td>Branchiostoma_lanceolatum</td><td>Bl71nemr        </td><td>FLA</td><td>Misc         </td><td> 5</td></tr>\n",
       "</tbody>\n",
       "</table>\n"
      ],
      "text/latex": [
       "A data.table: 6 × 5\n",
       "\\begin{tabular}{lllll}\n",
       " Species & genomeId & Species\\_match & data\\_type & thr\\\\\n",
       " <chr> & <chr> & <chr> & <chr> & <int>\\\\\n",
       "\\hline\n",
       "\t Mus\\_musculus              & mm9              & MOU & CpG.calls.txt & 10\\\\\n",
       "\t Gallus\\_gallus             & galGal5          & CHK & cov\\_and\\_ratio & 10\\\\\n",
       "\t Phascolarctos\\_cinereus    & phaCin\\_unsw\\_v4.1 & KOA & CpGreport     & 10\\\\\n",
       "\t Bos\\_taurus                & bosTau9          & ANW & CpGreport     & 10\\\\\n",
       "\t Danio\\_rerio\\_GSE134055     & danRer11         & ZF  & gemBS         & 10\\\\\n",
       "\t Branchiostoma\\_lanceolatum & Bl71nemr         & FLA & Misc          &  5\\\\\n",
       "\\end{tabular}\n"
      ],
      "text/markdown": [
       "\n",
       "A data.table: 6 × 5\n",
       "\n",
       "| Species &lt;chr&gt; | genomeId &lt;chr&gt; | Species_match &lt;chr&gt; | data_type &lt;chr&gt; | thr &lt;int&gt; |\n",
       "|---|---|---|---|---|\n",
       "| Mus_musculus              | mm9              | MOU | CpG.calls.txt | 10 |\n",
       "| Gallus_gallus             | galGal5          | CHK | cov_and_ratio | 10 |\n",
       "| Phascolarctos_cinereus    | phaCin_unsw_v4.1 | KOA | CpGreport     | 10 |\n",
       "| Bos_taurus                | bosTau9          | ANW | CpGreport     | 10 |\n",
       "| Danio_rerio_GSE134055     | danRer11         | ZF  | gemBS         | 10 |\n",
       "| Branchiostoma_lanceolatum | Bl71nemr         | FLA | Misc          |  5 |\n",
       "\n"
      ],
      "text/plain": [
       "  Species                   genomeId         Species_match data_type     thr\n",
       "1 Mus_musculus              mm9              MOU           CpG.calls.txt 10 \n",
       "2 Gallus_gallus             galGal5          CHK           cov_and_ratio 10 \n",
       "3 Phascolarctos_cinereus    phaCin_unsw_v4.1 KOA           CpGreport     10 \n",
       "4 Bos_taurus                bosTau9          ANW           CpGreport     10 \n",
       "5 Danio_rerio_GSE134055     danRer11         ZF            gemBS         10 \n",
       "6 Branchiostoma_lanceolatum Bl71nemr         FLA           Misc           5 "
      ]
     },
     "metadata": {},
     "output_type": "display_data"
    }
   ],
   "source": [
    "head(annot_full)"
   ]
  },
  {
   "cell_type": "code",
   "execution_count": 5,
   "id": "acf3d2c1",
   "metadata": {},
   "outputs": [],
   "source": [
    "path_to_results <- file.path(analysis_dir, \"validation\", \"03_WGBS\", \"03.4_prediction\")"
   ]
  },
  {
   "cell_type": "code",
   "execution_count": 6,
   "id": "58f432a2-3888-4c32-ad2c-7f8cfde63307",
   "metadata": {},
   "outputs": [],
   "source": [
    "setwd(path_to_results)"
   ]
  },
  {
   "cell_type": "code",
   "execution_count": 7,
   "id": "2ae6a655-db9d-4793-826c-a62c601e246f",
   "metadata": {},
   "outputs": [
    {
     "name": "stderr",
     "output_type": "stream",
     "text": [
      "Warning message in dir.create(\"summary\"):\n",
      "“'summary' already exists”\n"
     ]
    }
   ],
   "source": [
    "dir.create(\"summary\")"
   ]
  },
  {
   "cell_type": "code",
   "execution_count": 8,
   "id": "d2be5b2d-362a-4e76-a5a3-643685911681",
   "metadata": {},
   "outputs": [],
   "source": [
    "models = list.files(pattern = \"methPred\", recursive = T) "
   ]
  },
  {
   "cell_type": "code",
   "execution_count": 10,
   "id": "9c59f4bf-421d-4edb-99a4-79fa3e8aa6eb",
   "metadata": {},
   "outputs": [
    {
     "name": "stderr",
     "output_type": "stream",
     "text": [
      "::Loading cache::\tBos_taurus/kebabs_model/RCache//methPred_noRand_uc_1234.RData\n",
      "\n",
      "::Loading cache::\tBos_taurus/kebabs_model/RCache//methPred_noRand_uc_441.RData\n",
      "\n",
      "::Loading cache::\tBos_taurus/kebabs_model/RCache//methPred_noRand_uc_808.RData\n",
      "\n",
      "::Loading cache::\tBos_taurus/kebabs_model/RCache//methPred_Rand_uc_1_1234.RData\n",
      "\n",
      "::Loading cache::\tBos_taurus/kebabs_model/RCache//methPred_Rand_uc_1_441.RData\n",
      "\n"
     ]
    },
    {
     "name": "stdout",
     "output_type": "stream",
     "text": [
      "<simpleError in load(cacheFile): error reading from connection>\n",
      "[1] \"methPred_Rand_uc_1_441.RData\"\n"
     ]
    },
    {
     "name": "stderr",
     "output_type": "stream",
     "text": [
      "::Loading cache::\tBos_taurus/kebabs_model/RCache//methPred_Rand_uc_1_808.RData\n",
      "\n",
      "::Loading cache::\tBos_taurus/kebabs_model/RCache//methPred_Rand_uc_2_1234.RData\n",
      "\n",
      "::Loading cache::\tBos_taurus/kebabs_model/RCache//methPred_Rand_uc_2_441.RData\n",
      "\n",
      "::Loading cache::\tBos_taurus/kebabs_model/RCache//methPred_Rand_uc_2_808.RData\n",
      "\n",
      "::Loading cache::\tBos_taurus/kebabs_model/RCache//methPred_Rand_uc_3_1234.RData\n",
      "\n",
      "::Loading cache::\tBos_taurus/kebabs_model/RCache//methPred_Rand_uc_3_441.RData\n",
      "\n",
      "::Loading cache::\tBos_taurus/kebabs_model/RCache//methPred_Rand_uc_3_808.RData\n",
      "\n",
      "::Loading cache::\tBos_taurus/kebabs_model/RCache//methPred_Rand_uc_4_1234.RData\n",
      "\n",
      "::Loading cache::\tBos_taurus/kebabs_model/RCache//methPred_Rand_uc_4_441.RData\n",
      "\n",
      "::Loading cache::\tBos_taurus/kebabs_model/RCache//methPred_Rand_uc_4_808.RData\n",
      "\n",
      "::Loading cache::\tBos_taurus/kebabs_model/RCache//methPred_Rand_uc_5_1234.RData\n",
      "\n",
      "::Loading cache::\tBos_taurus/kebabs_model/RCache//methPred_Rand_uc_5_441.RData\n",
      "\n",
      "::Loading cache::\tBos_taurus/kebabs_model/RCache//methPred_Rand_uc_5_808.RData\n",
      "\n",
      "::Loading cache::\tBranchiostoma_lanceolatum/kebabs_model/RCache//methPred_noRand_uc_1234.RData\n",
      "\n",
      "::Loading cache::\tBranchiostoma_lanceolatum/kebabs_model/RCache//methPred_noRand_uc_456.RData\n",
      "\n",
      "::Loading cache::\tBranchiostoma_lanceolatum/kebabs_model/RCache//methPred_noRand_uc_502.RData\n",
      "\n",
      "::Loading cache::\tBranchiostoma_lanceolatum/kebabs_model/RCache//methPred_noRand_uc_534.RData\n",
      "\n",
      "::Loading cache::\tBranchiostoma_lanceolatum/kebabs_model/RCache//methPred_Rand_uc_1_1234.RData\n",
      "\n",
      "::Loading cache::\tBranchiostoma_lanceolatum/kebabs_model/RCache//methPred_Rand_uc_1_502.RData\n",
      "\n",
      "::Loading cache::\tBranchiostoma_lanceolatum/kebabs_model/RCache//methPred_Rand_uc_2_1234.RData\n",
      "\n",
      "::Loading cache::\tBranchiostoma_lanceolatum/kebabs_model/RCache//methPred_Rand_uc_2_502.RData\n",
      "\n",
      "::Loading cache::\tBranchiostoma_lanceolatum/kebabs_model/RCache//methPred_Rand_uc_3_1234.RData\n",
      "\n",
      "::Loading cache::\tBranchiostoma_lanceolatum/kebabs_model/RCache//methPred_Rand_uc_3_502.RData\n",
      "\n",
      "::Loading cache::\tBranchiostoma_lanceolatum/kebabs_model/RCache//methPred_Rand_uc_4_1234.RData\n",
      "\n",
      "::Loading cache::\tBranchiostoma_lanceolatum/kebabs_model/RCache//methPred_Rand_uc_4_502.RData\n",
      "\n",
      "::Loading cache::\tBranchiostoma_lanceolatum/kebabs_model/RCache//methPred_Rand_uc_5_1234.RData\n",
      "\n",
      "::Loading cache::\tBranchiostoma_lanceolatum/kebabs_model/RCache//methPred_Rand_uc_5_502.RData\n",
      "\n",
      "::Loading cache::\tDanio_rerio_GSE134055/kebabs_model/RCache//methPred_noRand_uc_1234.RData\n",
      "\n",
      "::Loading cache::\tDanio_rerio_GSE134055/kebabs_model/RCache//methPred_noRand_uc_619.RData\n",
      "\n",
      "::Loading cache::\tDanio_rerio_GSE134055/kebabs_model/RCache//methPred_noRand_uc_783.RData\n",
      "\n",
      "::Loading cache::\tDanio_rerio_GSE134055/kebabs_model/RCache//methPred_Rand_uc_1_1234.RData\n",
      "\n",
      "::Loading cache::\tDanio_rerio_GSE134055/kebabs_model/RCache//methPred_Rand_uc_1_619.RData\n",
      "\n",
      "::Loading cache::\tDanio_rerio_GSE134055/kebabs_model/RCache//methPred_Rand_uc_1_783.RData\n",
      "\n",
      "::Loading cache::\tDanio_rerio_GSE134055/kebabs_model/RCache//methPred_Rand_uc_2_1234.RData\n",
      "\n",
      "::Loading cache::\tDanio_rerio_GSE134055/kebabs_model/RCache//methPred_Rand_uc_2_619.RData\n",
      "\n",
      "::Loading cache::\tDanio_rerio_GSE134055/kebabs_model/RCache//methPred_Rand_uc_2_783.RData\n",
      "\n",
      "::Loading cache::\tDanio_rerio_GSE134055/kebabs_model/RCache//methPred_Rand_uc_3_1234.RData\n",
      "\n",
      "::Loading cache::\tDanio_rerio_GSE134055/kebabs_model/RCache//methPred_Rand_uc_3_619.RData\n",
      "\n",
      "::Loading cache::\tDanio_rerio_GSE134055/kebabs_model/RCache//methPred_Rand_uc_3_783.RData\n",
      "\n",
      "::Loading cache::\tDanio_rerio_GSE134055/kebabs_model/RCache//methPred_Rand_uc_4_1234.RData\n",
      "\n",
      "::Loading cache::\tDanio_rerio_GSE134055/kebabs_model/RCache//methPred_Rand_uc_4_619.RData\n",
      "\n",
      "::Loading cache::\tDanio_rerio_GSE134055/kebabs_model/RCache//methPred_Rand_uc_4_783.RData\n",
      "\n",
      "::Loading cache::\tDanio_rerio_GSE134055/kebabs_model/RCache//methPred_Rand_uc_5_1234.RData\n",
      "\n",
      "::Loading cache::\tDanio_rerio_GSE134055/kebabs_model/RCache//methPred_Rand_uc_5_619.RData\n",
      "\n",
      "::Loading cache::\tDanio_rerio_GSE134055/kebabs_model/RCache//methPred_Rand_uc_5_783.RData\n",
      "\n",
      "::Loading cache::\tGallus_gallus/kebabs_model/RCache//methPred_noRand_uc_1234.RData\n",
      "\n",
      "::Loading cache::\tGallus_gallus/kebabs_model/RCache//methPred_noRand_uc_338.RData\n",
      "\n",
      "::Loading cache::\tGallus_gallus/kebabs_model/RCache//methPred_noRand_uc_41.RData\n",
      "\n",
      "::Loading cache::\tGallus_gallus/kebabs_model/RCache//methPred_Rand_uc_1_1234.RData\n",
      "\n",
      "::Loading cache::\tGallus_gallus/kebabs_model/RCache//methPred_Rand_uc_1_338.RData\n",
      "\n",
      "::Loading cache::\tGallus_gallus/kebabs_model/RCache//methPred_Rand_uc_2_1234.RData\n",
      "\n",
      "::Loading cache::\tGallus_gallus/kebabs_model/RCache//methPred_Rand_uc_2_338.RData\n",
      "\n",
      "::Loading cache::\tGallus_gallus/kebabs_model/RCache//methPred_Rand_uc_3_1234.RData\n",
      "\n",
      "::Loading cache::\tGallus_gallus/kebabs_model/RCache//methPred_Rand_uc_3_338.RData\n",
      "\n",
      "::Loading cache::\tGallus_gallus/kebabs_model/RCache//methPred_Rand_uc_4_1234.RData\n",
      "\n",
      "::Loading cache::\tGallus_gallus/kebabs_model/RCache//methPred_Rand_uc_4_338.RData\n",
      "\n",
      "::Loading cache::\tGallus_gallus/kebabs_model/RCache//methPred_Rand_uc_5_1234.RData\n",
      "\n",
      "::Loading cache::\tGallus_gallus/kebabs_model/RCache//methPred_Rand_uc_5_338.RData\n",
      "\n",
      "::Loading cache::\tMus_musculus/kebabs_model/RCache//methPred_noRand_uc_1234.RData\n",
      "\n",
      "::Loading cache::\tMus_musculus/kebabs_model/RCache//methPred_noRand_uc_398.RData\n",
      "\n",
      "::Loading cache::\tMus_musculus/kebabs_model/RCache//methPred_noRand_uc_539.RData\n",
      "\n",
      "::Loading cache::\tMus_musculus/kebabs_model/RCache//methPred_Rand_uc_1_1234.RData\n",
      "\n",
      "::Loading cache::\tMus_musculus/kebabs_model/RCache//methPred_Rand_uc_1_398.RData\n",
      "\n",
      "::Loading cache::\tMus_musculus/kebabs_model/RCache//methPred_Rand_uc_1_539.RData\n",
      "\n",
      "::Loading cache::\tMus_musculus/kebabs_model/RCache//methPred_Rand_uc_2_1234.RData\n",
      "\n",
      "::Loading cache::\tMus_musculus/kebabs_model/RCache//methPred_Rand_uc_2_398.RData\n",
      "\n",
      "::Loading cache::\tMus_musculus/kebabs_model/RCache//methPred_Rand_uc_2_539.RData\n",
      "\n",
      "::Loading cache::\tMus_musculus/kebabs_model/RCache//methPred_Rand_uc_3_1234.RData\n",
      "\n",
      "::Loading cache::\tMus_musculus/kebabs_model/RCache//methPred_Rand_uc_3_398.RData\n",
      "\n",
      "::Loading cache::\tMus_musculus/kebabs_model/RCache//methPred_Rand_uc_3_539.RData\n",
      "\n",
      "::Loading cache::\tMus_musculus/kebabs_model/RCache//methPred_Rand_uc_4_1234.RData\n",
      "\n",
      "::Loading cache::\tMus_musculus/kebabs_model/RCache//methPred_Rand_uc_4_398.RData\n",
      "\n",
      "::Loading cache::\tMus_musculus/kebabs_model/RCache//methPred_Rand_uc_4_539.RData\n",
      "\n",
      "::Loading cache::\tMus_musculus/kebabs_model/RCache//methPred_Rand_uc_5_1234.RData\n",
      "\n",
      "::Loading cache::\tMus_musculus/kebabs_model/RCache//methPred_Rand_uc_5_398.RData\n",
      "\n",
      "::Loading cache::\tMus_musculus/kebabs_model/RCache//methPred_Rand_uc_5_539.RData\n",
      "\n",
      "::Loading cache::\tPhascolarctos_cinereus/kebabs_model/RCache//methPred_noRand_uc_1234.RData\n",
      "\n",
      "::Loading cache::\tPhascolarctos_cinereus/kebabs_model/RCache//methPred_noRand_uc_146.RData\n",
      "\n",
      "::Loading cache::\tPhascolarctos_cinereus/kebabs_model/RCache//methPred_noRand_uc_74.RData\n",
      "\n",
      "::Loading cache::\tPhascolarctos_cinereus/kebabs_model/RCache//methPred_Rand_uc_1_1234.RData\n",
      "\n",
      "::Loading cache::\tPhascolarctos_cinereus/kebabs_model/RCache//methPred_Rand_uc_1_146.RData\n",
      "\n",
      "::Loading cache::\tPhascolarctos_cinereus/kebabs_model/RCache//methPred_Rand_uc_1_74.RData\n",
      "\n",
      "::Loading cache::\tPhascolarctos_cinereus/kebabs_model/RCache//methPred_Rand_uc_2_1234.RData\n",
      "\n",
      "::Loading cache::\tPhascolarctos_cinereus/kebabs_model/RCache//methPred_Rand_uc_2_146.RData\n",
      "\n",
      "::Loading cache::\tPhascolarctos_cinereus/kebabs_model/RCache//methPred_Rand_uc_2_74.RData\n",
      "\n",
      "::Loading cache::\tPhascolarctos_cinereus/kebabs_model/RCache//methPred_Rand_uc_3_1234.RData\n",
      "\n",
      "::Loading cache::\tPhascolarctos_cinereus/kebabs_model/RCache//methPred_Rand_uc_3_146.RData\n",
      "\n",
      "::Loading cache::\tPhascolarctos_cinereus/kebabs_model/RCache//methPred_Rand_uc_3_74.RData\n",
      "\n",
      "::Loading cache::\tPhascolarctos_cinereus/kebabs_model/RCache//methPred_Rand_uc_4_1234.RData\n",
      "\n",
      "::Loading cache::\tPhascolarctos_cinereus/kebabs_model/RCache//methPred_Rand_uc_4_146.RData\n",
      "\n",
      "::Loading cache::\tPhascolarctos_cinereus/kebabs_model/RCache//methPred_Rand_uc_4_74.RData\n",
      "\n",
      "::Loading cache::\tPhascolarctos_cinereus/kebabs_model/RCache//methPred_Rand_uc_5_1234.RData\n",
      "\n",
      "::Loading cache::\tPhascolarctos_cinereus/kebabs_model/RCache//methPred_Rand_uc_5_146.RData\n",
      "\n",
      "::Loading cache::\tPhascolarctos_cinereus/kebabs_model/RCache//methPred_Rand_uc_5_74.RData\n",
      "\n",
      "::Loading cache::\tXenopus_laevis/kebabs_model/RCache//methPred_noRand_uc_1234.RData\n",
      "\n",
      "::Loading cache::\tXenopus_laevis/kebabs_model/RCache//methPred_noRand_uc_520.RData\n",
      "\n",
      "::Loading cache::\tXenopus_laevis/kebabs_model/RCache//methPred_noRand_uc_932.RData\n",
      "\n",
      "::Loading cache::\tXenopus_laevis/kebabs_model/RCache//methPred_Rand_uc_1_1234.RData\n",
      "\n",
      "::Loading cache::\tXenopus_laevis/kebabs_model/RCache//methPred_Rand_uc_1_520.RData\n",
      "\n",
      "::Loading cache::\tXenopus_laevis/kebabs_model/RCache//methPred_Rand_uc_1_932.RData\n",
      "\n",
      "::Loading cache::\tXenopus_laevis/kebabs_model/RCache//methPred_Rand_uc_2_1234.RData\n",
      "\n",
      "::Loading cache::\tXenopus_laevis/kebabs_model/RCache//methPred_Rand_uc_2_520.RData\n",
      "\n",
      "::Loading cache::\tXenopus_laevis/kebabs_model/RCache//methPred_Rand_uc_2_932.RData\n",
      "\n",
      "::Loading cache::\tXenopus_laevis/kebabs_model/RCache//methPred_Rand_uc_3_1234.RData\n",
      "\n",
      "::Loading cache::\tXenopus_laevis/kebabs_model/RCache//methPred_Rand_uc_3_520.RData\n",
      "\n",
      "::Loading cache::\tXenopus_laevis/kebabs_model/RCache//methPred_Rand_uc_3_932.RData\n",
      "\n",
      "::Loading cache::\tXenopus_laevis/kebabs_model/RCache//methPred_Rand_uc_4_1234.RData\n",
      "\n",
      "::Loading cache::\tXenopus_laevis/kebabs_model/RCache//methPred_Rand_uc_4_520.RData\n",
      "\n",
      "::Loading cache::\tXenopus_laevis/kebabs_model/RCache//methPred_Rand_uc_4_932.RData\n",
      "\n",
      "::Loading cache::\tXenopus_laevis/kebabs_model/RCache//methPred_Rand_uc_5_1234.RData\n",
      "\n",
      "::Loading cache::\tXenopus_laevis/kebabs_model/RCache//methPred_Rand_uc_5_520.RData\n",
      "\n",
      "::Loading cache::\tXenopus_laevis/kebabs_model/RCache//methPred_Rand_uc_5_932.RData\n",
      "\n"
     ]
    }
   ],
   "source": [
    "roc_res_full = data.table()\n",
    "for(model_path in models){\n",
    "    \n",
    "model_name <- strsplit(model_path, \"/\")[[1]][4]\n",
    "    \n",
    "tryCatch({simpleCache(cacheName=gsub(\".RData\", \"\", model_name), instruction={ train_test(x_train=split_ds$x_train,\n",
    "            x_test = split_ds$x_test, y_train = split_ds$y_train, y_test = split_ds$y_test,\n",
    "                                                        ifRand='noRand', k=kmer, runid = 0)},\n",
    "            cacheDir=gsub(model_name, \"\", model_path ), assignToVariable=\"res\", recreate=FALSE)\n",
    "roc_res=res$roc_dt   \n",
    "roc_res$species <- strsplit(model_path, \"/\")[[1]][1]\n",
    "roc_res$model <-model_name\n",
    "roc_res_full <- rbind(roc_res_full, roc_res, fill = TRUE)}, error = function(cond){\n",
    "    print(cond)\n",
    "    print(model_name)\n",
    "})\n",
    "}"
   ]
  },
  {
   "cell_type": "code",
   "execution_count": 11,
   "id": "1af7a826-bc11-4eba-9309-14f7311e9e56",
   "metadata": {},
   "outputs": [],
   "source": [
    "roc_res_full[, seedid:=gsub(\".RData\", \"\",\n",
    "                            strsplit(model, \"_\")[[1]][length(strsplit(model, \"_\")[[1]])]),\n",
    "                            by = row.names(roc_res_full)]\n",
    "    \n",
    "roc_res_full[, unique_run := paste0(run, \"_\", seedid), row.names(roc_res_full)]\n",
    "\n",
    "setDT(roc_res_full)\n",
    "my_wt(roc_res_full, file.path(\"summary\", \"model_results_combined.tsv\"))"
   ]
  },
  {
   "cell_type": "code",
   "execution_count": 145,
   "id": "f2cd5c62-1704-497f-a848-93087c7a830b",
   "metadata": {},
   "outputs": [
    {
     "data": {
      "text/html": [
       "<table class=\"dataframe\">\n",
       "<caption>A data.table: 6 × 11</caption>\n",
       "<thead>\n",
       "\t<tr><th scope=col>fdr</th><th scope=col>tpr</th><th scope=col>auc</th><th scope=col>ifRand</th><th scope=col>k</th><th scope=col>C</th><th scope=col>run</th><th scope=col>species</th><th scope=col>model</th><th scope=col>seedid</th><th scope=col>unique_run</th></tr>\n",
       "\t<tr><th scope=col>&lt;dbl&gt;</th><th scope=col>&lt;dbl&gt;</th><th scope=col>&lt;dbl&gt;</th><th scope=col>&lt;chr&gt;</th><th scope=col>&lt;dbl&gt;</th><th scope=col>&lt;dbl&gt;</th><th scope=col>&lt;dbl&gt;</th><th scope=col>&lt;fct&gt;</th><th scope=col>&lt;chr&gt;</th><th scope=col>&lt;chr&gt;</th><th scope=col>&lt;chr&gt;</th></tr>\n",
       "</thead>\n",
       "<tbody>\n",
       "\t<tr><td>0.00000000</td><td>0.000000000</td><td>0.7790846</td><td>noRand</td><td>4</td><td>10</td><td>0</td><td>Bos taurus</td><td>methPred_noRand_uc_1234.RData</td><td>1234</td><td>0_1234</td></tr>\n",
       "\t<tr><td>0.00000000</td><td>0.001275510</td><td>0.7790846</td><td>noRand</td><td>4</td><td>10</td><td>0</td><td>Bos taurus</td><td>methPred_noRand_uc_1234.RData</td><td>1234</td><td>0_1234</td></tr>\n",
       "\t<tr><td>0.00000000</td><td>0.002551020</td><td>0.7790846</td><td>noRand</td><td>4</td><td>10</td><td>0</td><td>Bos taurus</td><td>methPred_noRand_uc_1234.RData</td><td>1234</td><td>0_1234</td></tr>\n",
       "\t<tr><td>0.00127551</td><td>0.002551020</td><td>0.7790846</td><td>noRand</td><td>4</td><td>10</td><td>0</td><td>Bos taurus</td><td>methPred_noRand_uc_1234.RData</td><td>1234</td><td>0_1234</td></tr>\n",
       "\t<tr><td>0.00127551</td><td>0.003826531</td><td>0.7790846</td><td>noRand</td><td>4</td><td>10</td><td>0</td><td>Bos taurus</td><td>methPred_noRand_uc_1234.RData</td><td>1234</td><td>0_1234</td></tr>\n",
       "\t<tr><td>0.00127551</td><td>0.005102041</td><td>0.7790846</td><td>noRand</td><td>4</td><td>10</td><td>0</td><td>Bos taurus</td><td>methPred_noRand_uc_1234.RData</td><td>1234</td><td>0_1234</td></tr>\n",
       "</tbody>\n",
       "</table>\n"
      ],
      "text/latex": [
       "A data.table: 6 × 11\n",
       "\\begin{tabular}{lllllllllll}\n",
       " fdr & tpr & auc & ifRand & k & C & run & species & model & seedid & unique\\_run\\\\\n",
       " <dbl> & <dbl> & <dbl> & <chr> & <dbl> & <dbl> & <dbl> & <fct> & <chr> & <chr> & <chr>\\\\\n",
       "\\hline\n",
       "\t 0.00000000 & 0.000000000 & 0.7790846 & noRand & 4 & 10 & 0 & Bos taurus & methPred\\_noRand\\_uc\\_1234.RData & 1234 & 0\\_1234\\\\\n",
       "\t 0.00000000 & 0.001275510 & 0.7790846 & noRand & 4 & 10 & 0 & Bos taurus & methPred\\_noRand\\_uc\\_1234.RData & 1234 & 0\\_1234\\\\\n",
       "\t 0.00000000 & 0.002551020 & 0.7790846 & noRand & 4 & 10 & 0 & Bos taurus & methPred\\_noRand\\_uc\\_1234.RData & 1234 & 0\\_1234\\\\\n",
       "\t 0.00127551 & 0.002551020 & 0.7790846 & noRand & 4 & 10 & 0 & Bos taurus & methPred\\_noRand\\_uc\\_1234.RData & 1234 & 0\\_1234\\\\\n",
       "\t 0.00127551 & 0.003826531 & 0.7790846 & noRand & 4 & 10 & 0 & Bos taurus & methPred\\_noRand\\_uc\\_1234.RData & 1234 & 0\\_1234\\\\\n",
       "\t 0.00127551 & 0.005102041 & 0.7790846 & noRand & 4 & 10 & 0 & Bos taurus & methPred\\_noRand\\_uc\\_1234.RData & 1234 & 0\\_1234\\\\\n",
       "\\end{tabular}\n"
      ],
      "text/markdown": [
       "\n",
       "A data.table: 6 × 11\n",
       "\n",
       "| fdr &lt;dbl&gt; | tpr &lt;dbl&gt; | auc &lt;dbl&gt; | ifRand &lt;chr&gt; | k &lt;dbl&gt; | C &lt;dbl&gt; | run &lt;dbl&gt; | species &lt;fct&gt; | model &lt;chr&gt; | seedid &lt;chr&gt; | unique_run &lt;chr&gt; |\n",
       "|---|---|---|---|---|---|---|---|---|---|---|\n",
       "| 0.00000000 | 0.000000000 | 0.7790846 | noRand | 4 | 10 | 0 | Bos taurus | methPred_noRand_uc_1234.RData | 1234 | 0_1234 |\n",
       "| 0.00000000 | 0.001275510 | 0.7790846 | noRand | 4 | 10 | 0 | Bos taurus | methPred_noRand_uc_1234.RData | 1234 | 0_1234 |\n",
       "| 0.00000000 | 0.002551020 | 0.7790846 | noRand | 4 | 10 | 0 | Bos taurus | methPred_noRand_uc_1234.RData | 1234 | 0_1234 |\n",
       "| 0.00127551 | 0.002551020 | 0.7790846 | noRand | 4 | 10 | 0 | Bos taurus | methPred_noRand_uc_1234.RData | 1234 | 0_1234 |\n",
       "| 0.00127551 | 0.003826531 | 0.7790846 | noRand | 4 | 10 | 0 | Bos taurus | methPred_noRand_uc_1234.RData | 1234 | 0_1234 |\n",
       "| 0.00127551 | 0.005102041 | 0.7790846 | noRand | 4 | 10 | 0 | Bos taurus | methPred_noRand_uc_1234.RData | 1234 | 0_1234 |\n",
       "\n"
      ],
      "text/plain": [
       "  fdr        tpr         auc       ifRand k C  run species   \n",
       "1 0.00000000 0.000000000 0.7790846 noRand 4 10 0   Bos taurus\n",
       "2 0.00000000 0.001275510 0.7790846 noRand 4 10 0   Bos taurus\n",
       "3 0.00000000 0.002551020 0.7790846 noRand 4 10 0   Bos taurus\n",
       "4 0.00127551 0.002551020 0.7790846 noRand 4 10 0   Bos taurus\n",
       "5 0.00127551 0.003826531 0.7790846 noRand 4 10 0   Bos taurus\n",
       "6 0.00127551 0.005102041 0.7790846 noRand 4 10 0   Bos taurus\n",
       "  model                         seedid unique_run\n",
       "1 methPred_noRand_uc_1234.RData 1234   0_1234    \n",
       "2 methPred_noRand_uc_1234.RData 1234   0_1234    \n",
       "3 methPred_noRand_uc_1234.RData 1234   0_1234    \n",
       "4 methPred_noRand_uc_1234.RData 1234   0_1234    \n",
       "5 methPred_noRand_uc_1234.RData 1234   0_1234    \n",
       "6 methPred_noRand_uc_1234.RData 1234   0_1234    "
      ]
     },
     "metadata": {},
     "output_type": "display_data"
    }
   ],
   "source": [
    "head(roc_res_full)"
   ]
  },
  {
   "cell_type": "code",
   "execution_count": 147,
   "id": "eb34c369-18fe-419d-8adf-d85ffd93ae16",
   "metadata": {},
   "outputs": [],
   "source": [
    "roc_res_full <-roc_res_full[seedid != \"502\"]"
   ]
  },
  {
   "cell_type": "code",
   "execution_count": 148,
   "id": "361ae65c-82a4-48a7-8a11-bd54b6ab934c",
   "metadata": {},
   "outputs": [
    {
     "name": "stderr",
     "output_type": "stream",
     "text": [
      "`summarise()` has grouped output by 'species'. You can override using the `.groups` argument.\n",
      "\n"
     ]
    }
   ],
   "source": [
    "auc_res <- unique(roc_res_full[ifRand == \"noRand\", c(\"auc\", \"ifRand\", \"run\",\"seedid\", \"species\")]) %>% \n",
    "group_by(species, ifRand) %>% summarise(mean_auc = mean(auc), auc_sd = sd(auc))"
   ]
  },
  {
   "cell_type": "code",
   "execution_count": 149,
   "id": "eb763bfb-6728-447c-82bd-871e69667347",
   "metadata": {},
   "outputs": [
    {
     "data": {
      "text/html": [
       "<table class=\"dataframe\">\n",
       "<caption>A grouped_df: 6 × 4</caption>\n",
       "<thead>\n",
       "\t<tr><th scope=col>species</th><th scope=col>ifRand</th><th scope=col>mean_auc</th><th scope=col>auc_sd</th></tr>\n",
       "\t<tr><th scope=col>&lt;fct&gt;</th><th scope=col>&lt;chr&gt;</th><th scope=col>&lt;dbl&gt;</th><th scope=col>&lt;dbl&gt;</th></tr>\n",
       "</thead>\n",
       "<tbody>\n",
       "\t<tr><td>Branchiostoma lanceolatum</td><td>noRand</td><td>0.6483490</td><td>0.002921144</td></tr>\n",
       "\t<tr><td>Danio rerio              </td><td>noRand</td><td>0.5907067</td><td>0.004477790</td></tr>\n",
       "\t<tr><td>Xenopus laevis           </td><td>noRand</td><td>0.6479843</td><td>0.028863367</td></tr>\n",
       "\t<tr><td>Gallus gallus            </td><td>noRand</td><td>0.8063047</td><td>0.015662643</td></tr>\n",
       "\t<tr><td>Phascolarctos cinereus   </td><td>noRand</td><td>0.7919913</td><td>0.011237456</td></tr>\n",
       "\t<tr><td>Mus musculus             </td><td>noRand</td><td>0.7169543</td><td>0.009860415</td></tr>\n",
       "</tbody>\n",
       "</table>\n"
      ],
      "text/latex": [
       "A grouped\\_df: 6 × 4\n",
       "\\begin{tabular}{llll}\n",
       " species & ifRand & mean\\_auc & auc\\_sd\\\\\n",
       " <fct> & <chr> & <dbl> & <dbl>\\\\\n",
       "\\hline\n",
       "\t Branchiostoma lanceolatum & noRand & 0.6483490 & 0.002921144\\\\\n",
       "\t Danio rerio               & noRand & 0.5907067 & 0.004477790\\\\\n",
       "\t Xenopus laevis            & noRand & 0.6479843 & 0.028863367\\\\\n",
       "\t Gallus gallus             & noRand & 0.8063047 & 0.015662643\\\\\n",
       "\t Phascolarctos cinereus    & noRand & 0.7919913 & 0.011237456\\\\\n",
       "\t Mus musculus              & noRand & 0.7169543 & 0.009860415\\\\\n",
       "\\end{tabular}\n"
      ],
      "text/markdown": [
       "\n",
       "A grouped_df: 6 × 4\n",
       "\n",
       "| species &lt;fct&gt; | ifRand &lt;chr&gt; | mean_auc &lt;dbl&gt; | auc_sd &lt;dbl&gt; |\n",
       "|---|---|---|---|\n",
       "| Branchiostoma lanceolatum | noRand | 0.6483490 | 0.002921144 |\n",
       "| Danio rerio               | noRand | 0.5907067 | 0.004477790 |\n",
       "| Xenopus laevis            | noRand | 0.6479843 | 0.028863367 |\n",
       "| Gallus gallus             | noRand | 0.8063047 | 0.015662643 |\n",
       "| Phascolarctos cinereus    | noRand | 0.7919913 | 0.011237456 |\n",
       "| Mus musculus              | noRand | 0.7169543 | 0.009860415 |\n",
       "\n"
      ],
      "text/plain": [
       "  species                   ifRand mean_auc  auc_sd     \n",
       "1 Branchiostoma lanceolatum noRand 0.6483490 0.002921144\n",
       "2 Danio rerio               noRand 0.5907067 0.004477790\n",
       "3 Xenopus laevis            noRand 0.6479843 0.028863367\n",
       "4 Gallus gallus             noRand 0.8063047 0.015662643\n",
       "5 Phascolarctos cinereus    noRand 0.7919913 0.011237456\n",
       "6 Mus musculus              noRand 0.7169543 0.009860415"
      ]
     },
     "metadata": {},
     "output_type": "display_data"
    }
   ],
   "source": [
    "head(auc_res)"
   ]
  },
  {
   "cell_type": "code",
   "execution_count": 150,
   "id": "91c972f2-39c1-4455-8bba-3c6d39659d3d",
   "metadata": {},
   "outputs": [
    {
     "data": {
      "text/html": [
       "<table class=\"dataframe\">\n",
       "<caption>A data.table: 6 × 5</caption>\n",
       "<thead>\n",
       "\t<tr><th scope=col>Species</th><th scope=col>genomeId</th><th scope=col>Species_match</th><th scope=col>data_type</th><th scope=col>thr</th></tr>\n",
       "\t<tr><th scope=col>&lt;chr&gt;</th><th scope=col>&lt;chr&gt;</th><th scope=col>&lt;chr&gt;</th><th scope=col>&lt;chr&gt;</th><th scope=col>&lt;int&gt;</th></tr>\n",
       "</thead>\n",
       "<tbody>\n",
       "\t<tr><td>Mus musculus             </td><td>mm9             </td><td>MOU</td><td>CpG.calls.txt</td><td>10</td></tr>\n",
       "\t<tr><td>Gallus gallus            </td><td>galGal5         </td><td>CHK</td><td>cov_and_ratio</td><td>10</td></tr>\n",
       "\t<tr><td>Phascolarctos cinereus   </td><td>phaCin_unsw_v4.1</td><td>KOA</td><td>CpGreport    </td><td>10</td></tr>\n",
       "\t<tr><td>Bos taurus               </td><td>bosTau9         </td><td>ANW</td><td>CpGreport    </td><td>10</td></tr>\n",
       "\t<tr><td>Danio rerio              </td><td>danRer11        </td><td>ZF </td><td>gemBS        </td><td>10</td></tr>\n",
       "\t<tr><td>Branchiostoma lanceolatum</td><td>Bl71nemr        </td><td>FLA</td><td>Misc         </td><td> 5</td></tr>\n",
       "</tbody>\n",
       "</table>\n"
      ],
      "text/latex": [
       "A data.table: 6 × 5\n",
       "\\begin{tabular}{lllll}\n",
       " Species & genomeId & Species\\_match & data\\_type & thr\\\\\n",
       " <chr> & <chr> & <chr> & <chr> & <int>\\\\\n",
       "\\hline\n",
       "\t Mus musculus              & mm9              & MOU & CpG.calls.txt & 10\\\\\n",
       "\t Gallus gallus             & galGal5          & CHK & cov\\_and\\_ratio & 10\\\\\n",
       "\t Phascolarctos cinereus    & phaCin\\_unsw\\_v4.1 & KOA & CpGreport     & 10\\\\\n",
       "\t Bos taurus                & bosTau9          & ANW & CpGreport     & 10\\\\\n",
       "\t Danio rerio               & danRer11         & ZF  & gemBS         & 10\\\\\n",
       "\t Branchiostoma lanceolatum & Bl71nemr         & FLA & Misc          &  5\\\\\n",
       "\\end{tabular}\n"
      ],
      "text/markdown": [
       "\n",
       "A data.table: 6 × 5\n",
       "\n",
       "| Species &lt;chr&gt; | genomeId &lt;chr&gt; | Species_match &lt;chr&gt; | data_type &lt;chr&gt; | thr &lt;int&gt; |\n",
       "|---|---|---|---|---|\n",
       "| Mus musculus              | mm9              | MOU | CpG.calls.txt | 10 |\n",
       "| Gallus gallus             | galGal5          | CHK | cov_and_ratio | 10 |\n",
       "| Phascolarctos cinereus    | phaCin_unsw_v4.1 | KOA | CpGreport     | 10 |\n",
       "| Bos taurus                | bosTau9          | ANW | CpGreport     | 10 |\n",
       "| Danio rerio               | danRer11         | ZF  | gemBS         | 10 |\n",
       "| Branchiostoma lanceolatum | Bl71nemr         | FLA | Misc          |  5 |\n",
       "\n"
      ],
      "text/plain": [
       "  Species                   genomeId         Species_match data_type     thr\n",
       "1 Mus musculus              mm9              MOU           CpG.calls.txt 10 \n",
       "2 Gallus gallus             galGal5          CHK           cov_and_ratio 10 \n",
       "3 Phascolarctos cinereus    phaCin_unsw_v4.1 KOA           CpGreport     10 \n",
       "4 Bos taurus                bosTau9          ANW           CpGreport     10 \n",
       "5 Danio rerio               danRer11         ZF            gemBS         10 \n",
       "6 Branchiostoma lanceolatum Bl71nemr         FLA           Misc           5 "
      ]
     },
     "metadata": {},
     "output_type": "display_data"
    }
   ],
   "source": [
    "head(annot_full)"
   ]
  },
  {
   "cell_type": "code",
   "execution_count": 151,
   "id": "d3fcbfe0-603e-49d6-8605-898c3e4bb5fd",
   "metadata": {},
   "outputs": [],
   "source": [
    "annot_full[Species == \"Danio_rerio_GSE134055\",Species:=\"Danio_rerio\",]\n",
    "\n",
    "annot_full$Species<- gsub(\"_\", \" \", annot_full$Species)"
   ]
  },
  {
   "cell_type": "code",
   "execution_count": 152,
   "id": "765ba951-aef2-48f2-bcb9-42f7d4cac29d",
   "metadata": {},
   "outputs": [],
   "source": [
    "auc_res <- left_join(auc_res, annot_full, by = c(\"species\" = \"Species\"))"
   ]
  },
  {
   "cell_type": "code",
   "execution_count": 153,
   "id": "deea3548-dac7-423a-9b22-b994ce183afc",
   "metadata": {},
   "outputs": [
    {
     "data": {
      "text/html": [
       "<table class=\"dataframe\">\n",
       "<caption>A grouped_df: 6 × 8</caption>\n",
       "<thead>\n",
       "\t<tr><th scope=col>species</th><th scope=col>ifRand</th><th scope=col>mean_auc</th><th scope=col>auc_sd</th><th scope=col>genomeId</th><th scope=col>Species_match</th><th scope=col>data_type</th><th scope=col>thr</th></tr>\n",
       "\t<tr><th scope=col>&lt;chr&gt;</th><th scope=col>&lt;chr&gt;</th><th scope=col>&lt;dbl&gt;</th><th scope=col>&lt;dbl&gt;</th><th scope=col>&lt;chr&gt;</th><th scope=col>&lt;chr&gt;</th><th scope=col>&lt;chr&gt;</th><th scope=col>&lt;int&gt;</th></tr>\n",
       "</thead>\n",
       "<tbody>\n",
       "\t<tr><td>Branchiostoma lanceolatum</td><td>noRand</td><td>0.6483490</td><td>0.002921144</td><td>Bl71nemr        </td><td>FLA      </td><td>Misc         </td><td> 5</td></tr>\n",
       "\t<tr><td>Danio rerio              </td><td>noRand</td><td>0.5907067</td><td>0.004477790</td><td>danRer11        </td><td>ZF       </td><td>gemBS        </td><td>10</td></tr>\n",
       "\t<tr><td>Xenopus laevis           </td><td>noRand</td><td>0.6479843</td><td>0.028863367</td><td>Xla.v91         </td><td>ALL FROGS</td><td>Misc         </td><td> 5</td></tr>\n",
       "\t<tr><td>Gallus gallus            </td><td>noRand</td><td>0.8063047</td><td>0.015662643</td><td>galGal5         </td><td>CHK      </td><td>cov_and_ratio</td><td>10</td></tr>\n",
       "\t<tr><td>Phascolarctos cinereus   </td><td>noRand</td><td>0.7919913</td><td>0.011237456</td><td>phaCin_unsw_v4.1</td><td>KOA      </td><td>CpGreport    </td><td>10</td></tr>\n",
       "\t<tr><td>Mus musculus             </td><td>noRand</td><td>0.7169543</td><td>0.009860415</td><td>mm9             </td><td>MOU      </td><td>CpG.calls.txt</td><td>10</td></tr>\n",
       "</tbody>\n",
       "</table>\n"
      ],
      "text/latex": [
       "A grouped\\_df: 6 × 8\n",
       "\\begin{tabular}{llllllll}\n",
       " species & ifRand & mean\\_auc & auc\\_sd & genomeId & Species\\_match & data\\_type & thr\\\\\n",
       " <chr> & <chr> & <dbl> & <dbl> & <chr> & <chr> & <chr> & <int>\\\\\n",
       "\\hline\n",
       "\t Branchiostoma lanceolatum & noRand & 0.6483490 & 0.002921144 & Bl71nemr         & FLA       & Misc          &  5\\\\\n",
       "\t Danio rerio               & noRand & 0.5907067 & 0.004477790 & danRer11         & ZF        & gemBS         & 10\\\\\n",
       "\t Xenopus laevis            & noRand & 0.6479843 & 0.028863367 & Xla.v91          & ALL FROGS & Misc          &  5\\\\\n",
       "\t Gallus gallus             & noRand & 0.8063047 & 0.015662643 & galGal5          & CHK       & cov\\_and\\_ratio & 10\\\\\n",
       "\t Phascolarctos cinereus    & noRand & 0.7919913 & 0.011237456 & phaCin\\_unsw\\_v4.1 & KOA       & CpGreport     & 10\\\\\n",
       "\t Mus musculus              & noRand & 0.7169543 & 0.009860415 & mm9              & MOU       & CpG.calls.txt & 10\\\\\n",
       "\\end{tabular}\n"
      ],
      "text/markdown": [
       "\n",
       "A grouped_df: 6 × 8\n",
       "\n",
       "| species &lt;chr&gt; | ifRand &lt;chr&gt; | mean_auc &lt;dbl&gt; | auc_sd &lt;dbl&gt; | genomeId &lt;chr&gt; | Species_match &lt;chr&gt; | data_type &lt;chr&gt; | thr &lt;int&gt; |\n",
       "|---|---|---|---|---|---|---|---|\n",
       "| Branchiostoma lanceolatum | noRand | 0.6483490 | 0.002921144 | Bl71nemr         | FLA       | Misc          |  5 |\n",
       "| Danio rerio               | noRand | 0.5907067 | 0.004477790 | danRer11         | ZF        | gemBS         | 10 |\n",
       "| Xenopus laevis            | noRand | 0.6479843 | 0.028863367 | Xla.v91          | ALL FROGS | Misc          |  5 |\n",
       "| Gallus gallus             | noRand | 0.8063047 | 0.015662643 | galGal5          | CHK       | cov_and_ratio | 10 |\n",
       "| Phascolarctos cinereus    | noRand | 0.7919913 | 0.011237456 | phaCin_unsw_v4.1 | KOA       | CpGreport     | 10 |\n",
       "| Mus musculus              | noRand | 0.7169543 | 0.009860415 | mm9              | MOU       | CpG.calls.txt | 10 |\n",
       "\n"
      ],
      "text/plain": [
       "  species                   ifRand mean_auc  auc_sd      genomeId        \n",
       "1 Branchiostoma lanceolatum noRand 0.6483490 0.002921144 Bl71nemr        \n",
       "2 Danio rerio               noRand 0.5907067 0.004477790 danRer11        \n",
       "3 Xenopus laevis            noRand 0.6479843 0.028863367 Xla.v91         \n",
       "4 Gallus gallus             noRand 0.8063047 0.015662643 galGal5         \n",
       "5 Phascolarctos cinereus    noRand 0.7919913 0.011237456 phaCin_unsw_v4.1\n",
       "6 Mus musculus              noRand 0.7169543 0.009860415 mm9             \n",
       "  Species_match data_type     thr\n",
       "1 FLA           Misc           5 \n",
       "2 ZF            gemBS         10 \n",
       "3 ALL FROGS     Misc           5 \n",
       "4 CHK           cov_and_ratio 10 \n",
       "5 KOA           CpGreport     10 \n",
       "6 MOU           CpG.calls.txt 10 "
      ]
     },
     "metadata": {},
     "output_type": "display_data"
    }
   ],
   "source": [
    "head(auc_res)"
   ]
  },
  {
   "cell_type": "code",
   "execution_count": 154,
   "id": "7b8b0713-5611-4878-8d39-95acc28e3ded",
   "metadata": {},
   "outputs": [],
   "source": [
    "setDT(auc_res)"
   ]
  },
  {
   "cell_type": "code",
   "execution_count": 155,
   "id": "bfe2a638-dadd-467b-8a3e-b97255c9bff8",
   "metadata": {},
   "outputs": [],
   "source": [
    "auc_rrbs <- fread(file.path(analysis_dir, \"05_predict_meth\", \"05.1_within_species\", \"summary\", \"all_aucs.csv\"))"
   ]
  },
  {
   "cell_type": "code",
   "execution_count": 156,
   "id": "33e6859b-de12-47a6-9fe4-32d8f67dfea4",
   "metadata": {},
   "outputs": [
    {
     "data": {
      "text/html": [
       "<table class=\"dataframe\">\n",
       "<caption>A data.table: 6 × 11</caption>\n",
       "<thead>\n",
       "\t<tr><th scope=col>V1</th><th scope=col>species</th><th scope=col>k</th><th scope=col>k_freq</th><th scope=col>c</th><th scope=col>numSequences</th><th scope=col>AUC</th><th scope=col>f1</th><th scope=col>color_class</th><th scope=col>scientific_name</th><th scope=col>group</th></tr>\n",
       "\t<tr><th scope=col>&lt;int&gt;</th><th scope=col>&lt;chr&gt;</th><th scope=col>&lt;int&gt;</th><th scope=col>&lt;dbl&gt;</th><th scope=col>&lt;dbl&gt;</th><th scope=col>&lt;int&gt;</th><th scope=col>&lt;dbl&gt;</th><th scope=col>&lt;dbl&gt;</th><th scope=col>&lt;chr&gt;</th><th scope=col>&lt;chr&gt;</th><th scope=col>&lt;chr&gt;</th></tr>\n",
       "</thead>\n",
       "<tbody>\n",
       "\t<tr><td>1</td><td>AB </td><td>3</td><td>0.9</td><td> 1</td><td>2000</td><td>0.7005090</td><td>0.6476097</td><td>Reptilia   </td><td>Abronia anzuetoi          </td><td>Rep.</td></tr>\n",
       "\t<tr><td>2</td><td>ABB</td><td>3</td><td>0.5</td><td> 1</td><td>1810</td><td>0.7520430</td><td>0.6972771</td><td>Mammalia   </td><td>Ursus                     </td><td>Mam.</td></tr>\n",
       "\t<tr><td>3</td><td>ABU</td><td>2</td><td>0.7</td><td>10</td><td> 720</td><td>0.6597939</td><td>0.6312925</td><td>Amphibia   </td><td>Hoplobatrachus tigerinus  </td><td>Amp.</td></tr>\n",
       "\t<tr><td>4</td><td>AC </td><td>3</td><td>0.4</td><td> 1</td><td>2000</td><td>0.7644490</td><td>0.7008462</td><td>Aves       </td><td>Serinus                   </td><td>Av. </td></tr>\n",
       "\t<tr><td>5</td><td>ACO</td><td>3</td><td>0.5</td><td> 1</td><td>2000</td><td>0.6021450</td><td>0.5619919</td><td>Actinopteri</td><td>Gadus morhua              </td><td>Act.</td></tr>\n",
       "\t<tr><td>6</td><td>ACT</td><td>4</td><td>0.6</td><td> 1</td><td> 486</td><td>0.7130180</td><td>0.6242300</td><td>Amphibia   </td><td>Duttaphrynus melanostictus</td><td>Amp.</td></tr>\n",
       "</tbody>\n",
       "</table>\n"
      ],
      "text/latex": [
       "A data.table: 6 × 11\n",
       "\\begin{tabular}{lllllllllll}\n",
       " V1 & species & k & k\\_freq & c & numSequences & AUC & f1 & color\\_class & scientific\\_name & group\\\\\n",
       " <int> & <chr> & <int> & <dbl> & <dbl> & <int> & <dbl> & <dbl> & <chr> & <chr> & <chr>\\\\\n",
       "\\hline\n",
       "\t 1 & AB  & 3 & 0.9 &  1 & 2000 & 0.7005090 & 0.6476097 & Reptilia    & Abronia anzuetoi           & Rep.\\\\\n",
       "\t 2 & ABB & 3 & 0.5 &  1 & 1810 & 0.7520430 & 0.6972771 & Mammalia    & Ursus                      & Mam.\\\\\n",
       "\t 3 & ABU & 2 & 0.7 & 10 &  720 & 0.6597939 & 0.6312925 & Amphibia    & Hoplobatrachus tigerinus   & Amp.\\\\\n",
       "\t 4 & AC  & 3 & 0.4 &  1 & 2000 & 0.7644490 & 0.7008462 & Aves        & Serinus                    & Av. \\\\\n",
       "\t 5 & ACO & 3 & 0.5 &  1 & 2000 & 0.6021450 & 0.5619919 & Actinopteri & Gadus morhua               & Act.\\\\\n",
       "\t 6 & ACT & 4 & 0.6 &  1 &  486 & 0.7130180 & 0.6242300 & Amphibia    & Duttaphrynus melanostictus & Amp.\\\\\n",
       "\\end{tabular}\n"
      ],
      "text/markdown": [
       "\n",
       "A data.table: 6 × 11\n",
       "\n",
       "| V1 &lt;int&gt; | species &lt;chr&gt; | k &lt;int&gt; | k_freq &lt;dbl&gt; | c &lt;dbl&gt; | numSequences &lt;int&gt; | AUC &lt;dbl&gt; | f1 &lt;dbl&gt; | color_class &lt;chr&gt; | scientific_name &lt;chr&gt; | group &lt;chr&gt; |\n",
       "|---|---|---|---|---|---|---|---|---|---|---|\n",
       "| 1 | AB  | 3 | 0.9 |  1 | 2000 | 0.7005090 | 0.6476097 | Reptilia    | Abronia anzuetoi           | Rep. |\n",
       "| 2 | ABB | 3 | 0.5 |  1 | 1810 | 0.7520430 | 0.6972771 | Mammalia    | Ursus                      | Mam. |\n",
       "| 3 | ABU | 2 | 0.7 | 10 |  720 | 0.6597939 | 0.6312925 | Amphibia    | Hoplobatrachus tigerinus   | Amp. |\n",
       "| 4 | AC  | 3 | 0.4 |  1 | 2000 | 0.7644490 | 0.7008462 | Aves        | Serinus                    | Av.  |\n",
       "| 5 | ACO | 3 | 0.5 |  1 | 2000 | 0.6021450 | 0.5619919 | Actinopteri | Gadus morhua               | Act. |\n",
       "| 6 | ACT | 4 | 0.6 |  1 |  486 | 0.7130180 | 0.6242300 | Amphibia    | Duttaphrynus melanostictus | Amp. |\n",
       "\n"
      ],
      "text/plain": [
       "  V1 species k k_freq c  numSequences AUC       f1        color_class\n",
       "1 1  AB      3 0.9     1 2000         0.7005090 0.6476097 Reptilia   \n",
       "2 2  ABB     3 0.5     1 1810         0.7520430 0.6972771 Mammalia   \n",
       "3 3  ABU     2 0.7    10  720         0.6597939 0.6312925 Amphibia   \n",
       "4 4  AC      3 0.4     1 2000         0.7644490 0.7008462 Aves       \n",
       "5 5  ACO     3 0.5     1 2000         0.6021450 0.5619919 Actinopteri\n",
       "6 6  ACT     4 0.6     1  486         0.7130180 0.6242300 Amphibia   \n",
       "  scientific_name            group\n",
       "1 Abronia anzuetoi           Rep. \n",
       "2 Ursus                      Mam. \n",
       "3 Hoplobatrachus tigerinus   Amp. \n",
       "4 Serinus                    Av.  \n",
       "5 Gadus morhua               Act. \n",
       "6 Duttaphrynus melanostictus Amp. "
      ]
     },
     "metadata": {},
     "output_type": "display_data"
    }
   ],
   "source": [
    "head(auc_rrbs)"
   ]
  },
  {
   "cell_type": "code",
   "execution_count": 157,
   "id": "4715e401-d6d7-43d4-a83a-0686ec4a75e8",
   "metadata": {},
   "outputs": [
    {
     "data": {
      "text/html": [
       "'/nobackup/lab_bock/projects/DNAmeth500species//results_analysis/05_predict_meth/05.1_within_species/summary/'"
      ],
      "text/latex": [
       "'/nobackup/lab\\_bock/projects/DNAmeth500species//results\\_analysis/05\\_predict\\_meth/05.1\\_within\\_species/summary/'"
      ],
      "text/markdown": [
       "'/nobackup/lab_bock/projects/DNAmeth500species//results_analysis/05_predict_meth/05.1_within_species/summary/'"
      ],
      "text/plain": [
       "[1] \"/nobackup/lab_bock/projects/DNAmeth500species//results_analysis/05_predict_meth/05.1_within_species/summary/\""
      ]
     },
     "metadata": {},
     "output_type": "display_data"
    }
   ],
   "source": [
    "\"/nobackup/lab_bock/projects/DNAmeth500species//results_analysis/05_predict_meth/05.1_within_species/summary/\""
   ]
  },
  {
   "cell_type": "code",
   "execution_count": 158,
   "id": "895f2c9a-962f-42e0-aff9-77bf5ec7bc9b",
   "metadata": {},
   "outputs": [],
   "source": [
    "frogs <- unique(stats_annot[grep(\"frog\", stats_annot$English), c(\"species\", \"English\", \"ncbi_name\")])"
   ]
  },
  {
   "cell_type": "code",
   "execution_count": 159,
   "id": "4175f6a1-fdae-4f6f-ab01-724e1d91d8ff",
   "metadata": {},
   "outputs": [],
   "source": [
    "auc_frogs <- auc_rrbs %>% filter(species %in% frogs$species) %>% group_by(color_class) %>% \n",
    "                summarize(AUC = mean(AUC))\n",
    "auc_frogs$species <- \"ALL FROGS\""
   ]
  },
  {
   "cell_type": "code",
   "execution_count": null,
   "id": "a6790dd9-a1b0-4842-ba62-19377b0451c2",
   "metadata": {},
   "outputs": [],
   "source": []
  },
  {
   "cell_type": "code",
   "execution_count": 160,
   "id": "806b7dd1-f693-41c5-8ade-c749f78aa00b",
   "metadata": {},
   "outputs": [],
   "source": [
    "auc_rrbs <- rbind(auc_rrbs, auc_frogs, fill = TRUE)"
   ]
  },
  {
   "cell_type": "code",
   "execution_count": 161,
   "id": "78dc7fae-0552-4c08-82b9-f00648ba662f",
   "metadata": {},
   "outputs": [],
   "source": [
    "auc_res <- left_join(auc_res, auc_rrbs[, c(\"species\", \"AUC\")], by = c(\"Species_match\" =\"species\"))"
   ]
  },
  {
   "cell_type": "code",
   "execution_count": 162,
   "id": "a4fa3e09-1719-4856-aa51-18a509c5cb82",
   "metadata": {},
   "outputs": [
    {
     "data": {
      "text/html": [
       "<table class=\"dataframe\">\n",
       "<caption>A data.table: 6 × 9</caption>\n",
       "<thead>\n",
       "\t<tr><th scope=col>species</th><th scope=col>ifRand</th><th scope=col>mean_auc</th><th scope=col>auc_sd</th><th scope=col>genomeId</th><th scope=col>Species_match</th><th scope=col>data_type</th><th scope=col>thr</th><th scope=col>AUC</th></tr>\n",
       "\t<tr><th scope=col>&lt;chr&gt;</th><th scope=col>&lt;chr&gt;</th><th scope=col>&lt;dbl&gt;</th><th scope=col>&lt;dbl&gt;</th><th scope=col>&lt;chr&gt;</th><th scope=col>&lt;chr&gt;</th><th scope=col>&lt;chr&gt;</th><th scope=col>&lt;int&gt;</th><th scope=col>&lt;dbl&gt;</th></tr>\n",
       "</thead>\n",
       "<tbody>\n",
       "\t<tr><td>Branchiostoma lanceolatum</td><td>noRand</td><td>0.6483490</td><td>0.002921144</td><td>Bl71nemr        </td><td>FLA      </td><td>Misc         </td><td> 5</td><td>0.5869580</td></tr>\n",
       "\t<tr><td>Danio rerio              </td><td>noRand</td><td>0.5907067</td><td>0.004477790</td><td>danRer11        </td><td>ZF       </td><td>gemBS        </td><td>10</td><td>0.7142750</td></tr>\n",
       "\t<tr><td>Xenopus laevis           </td><td>noRand</td><td>0.6479843</td><td>0.028863367</td><td>Xla.v91         </td><td>ALL FROGS</td><td>Misc         </td><td> 5</td><td>0.6750790</td></tr>\n",
       "\t<tr><td>Gallus gallus            </td><td>noRand</td><td>0.8063047</td><td>0.015662643</td><td>galGal5         </td><td>CHK      </td><td>cov_and_ratio</td><td>10</td><td>0.8542904</td></tr>\n",
       "\t<tr><td>Phascolarctos cinereus   </td><td>noRand</td><td>0.7919913</td><td>0.011237456</td><td>phaCin_unsw_v4.1</td><td>KOA      </td><td>CpGreport    </td><td>10</td><td>0.8672810</td></tr>\n",
       "\t<tr><td>Mus musculus             </td><td>noRand</td><td>0.7169543</td><td>0.009860415</td><td>mm9             </td><td>MOU      </td><td>CpG.calls.txt</td><td>10</td><td>0.8636150</td></tr>\n",
       "</tbody>\n",
       "</table>\n"
      ],
      "text/latex": [
       "A data.table: 6 × 9\n",
       "\\begin{tabular}{lllllllll}\n",
       " species & ifRand & mean\\_auc & auc\\_sd & genomeId & Species\\_match & data\\_type & thr & AUC\\\\\n",
       " <chr> & <chr> & <dbl> & <dbl> & <chr> & <chr> & <chr> & <int> & <dbl>\\\\\n",
       "\\hline\n",
       "\t Branchiostoma lanceolatum & noRand & 0.6483490 & 0.002921144 & Bl71nemr         & FLA       & Misc          &  5 & 0.5869580\\\\\n",
       "\t Danio rerio               & noRand & 0.5907067 & 0.004477790 & danRer11         & ZF        & gemBS         & 10 & 0.7142750\\\\\n",
       "\t Xenopus laevis            & noRand & 0.6479843 & 0.028863367 & Xla.v91          & ALL FROGS & Misc          &  5 & 0.6750790\\\\\n",
       "\t Gallus gallus             & noRand & 0.8063047 & 0.015662643 & galGal5          & CHK       & cov\\_and\\_ratio & 10 & 0.8542904\\\\\n",
       "\t Phascolarctos cinereus    & noRand & 0.7919913 & 0.011237456 & phaCin\\_unsw\\_v4.1 & KOA       & CpGreport     & 10 & 0.8672810\\\\\n",
       "\t Mus musculus              & noRand & 0.7169543 & 0.009860415 & mm9              & MOU       & CpG.calls.txt & 10 & 0.8636150\\\\\n",
       "\\end{tabular}\n"
      ],
      "text/markdown": [
       "\n",
       "A data.table: 6 × 9\n",
       "\n",
       "| species &lt;chr&gt; | ifRand &lt;chr&gt; | mean_auc &lt;dbl&gt; | auc_sd &lt;dbl&gt; | genomeId &lt;chr&gt; | Species_match &lt;chr&gt; | data_type &lt;chr&gt; | thr &lt;int&gt; | AUC &lt;dbl&gt; |\n",
       "|---|---|---|---|---|---|---|---|---|\n",
       "| Branchiostoma lanceolatum | noRand | 0.6483490 | 0.002921144 | Bl71nemr         | FLA       | Misc          |  5 | 0.5869580 |\n",
       "| Danio rerio               | noRand | 0.5907067 | 0.004477790 | danRer11         | ZF        | gemBS         | 10 | 0.7142750 |\n",
       "| Xenopus laevis            | noRand | 0.6479843 | 0.028863367 | Xla.v91          | ALL FROGS | Misc          |  5 | 0.6750790 |\n",
       "| Gallus gallus             | noRand | 0.8063047 | 0.015662643 | galGal5          | CHK       | cov_and_ratio | 10 | 0.8542904 |\n",
       "| Phascolarctos cinereus    | noRand | 0.7919913 | 0.011237456 | phaCin_unsw_v4.1 | KOA       | CpGreport     | 10 | 0.8672810 |\n",
       "| Mus musculus              | noRand | 0.7169543 | 0.009860415 | mm9              | MOU       | CpG.calls.txt | 10 | 0.8636150 |\n",
       "\n"
      ],
      "text/plain": [
       "  species                   ifRand mean_auc  auc_sd      genomeId        \n",
       "1 Branchiostoma lanceolatum noRand 0.6483490 0.002921144 Bl71nemr        \n",
       "2 Danio rerio               noRand 0.5907067 0.004477790 danRer11        \n",
       "3 Xenopus laevis            noRand 0.6479843 0.028863367 Xla.v91         \n",
       "4 Gallus gallus             noRand 0.8063047 0.015662643 galGal5         \n",
       "5 Phascolarctos cinereus    noRand 0.7919913 0.011237456 phaCin_unsw_v4.1\n",
       "6 Mus musculus              noRand 0.7169543 0.009860415 mm9             \n",
       "  Species_match data_type     thr AUC      \n",
       "1 FLA           Misc           5  0.5869580\n",
       "2 ZF            gemBS         10  0.7142750\n",
       "3 ALL FROGS     Misc           5  0.6750790\n",
       "4 CHK           cov_and_ratio 10  0.8542904\n",
       "5 KOA           CpGreport     10  0.8672810\n",
       "6 MOU           CpG.calls.txt 10  0.8636150"
      ]
     },
     "metadata": {},
     "output_type": "display_data"
    }
   ],
   "source": [
    "head(auc_res)"
   ]
  },
  {
   "cell_type": "code",
   "execution_count": 139,
   "id": "1f5a03d7-7f22-4477-9fed-c123680f0d80",
   "metadata": {},
   "outputs": [
    {
     "data": {
      "text/html": [
       "<table class=\"dataframe\">\n",
       "<caption>A data.table: 6 × 11</caption>\n",
       "<thead>\n",
       "\t<tr><th scope=col>fdr</th><th scope=col>tpr</th><th scope=col>auc</th><th scope=col>ifRand</th><th scope=col>k</th><th scope=col>C</th><th scope=col>run</th><th scope=col>species</th><th scope=col>model</th><th scope=col>seedid</th><th scope=col>unique_run</th></tr>\n",
       "\t<tr><th scope=col>&lt;dbl&gt;</th><th scope=col>&lt;dbl&gt;</th><th scope=col>&lt;dbl&gt;</th><th scope=col>&lt;chr&gt;</th><th scope=col>&lt;dbl&gt;</th><th scope=col>&lt;dbl&gt;</th><th scope=col>&lt;dbl&gt;</th><th scope=col>&lt;fct&gt;</th><th scope=col>&lt;chr&gt;</th><th scope=col>&lt;chr&gt;</th><th scope=col>&lt;chr&gt;</th></tr>\n",
       "</thead>\n",
       "<tbody>\n",
       "\t<tr><td>0.00000000</td><td>0.000000000</td><td>0.7790846</td><td>noRand</td><td>4</td><td>10</td><td>0</td><td>Bos taurus</td><td>methPred_noRand_uc_1234.RData</td><td>1234</td><td>0_1234</td></tr>\n",
       "\t<tr><td>0.00000000</td><td>0.001275510</td><td>0.7790846</td><td>noRand</td><td>4</td><td>10</td><td>0</td><td>Bos taurus</td><td>methPred_noRand_uc_1234.RData</td><td>1234</td><td>0_1234</td></tr>\n",
       "\t<tr><td>0.00000000</td><td>0.002551020</td><td>0.7790846</td><td>noRand</td><td>4</td><td>10</td><td>0</td><td>Bos taurus</td><td>methPred_noRand_uc_1234.RData</td><td>1234</td><td>0_1234</td></tr>\n",
       "\t<tr><td>0.00127551</td><td>0.002551020</td><td>0.7790846</td><td>noRand</td><td>4</td><td>10</td><td>0</td><td>Bos taurus</td><td>methPred_noRand_uc_1234.RData</td><td>1234</td><td>0_1234</td></tr>\n",
       "\t<tr><td>0.00127551</td><td>0.003826531</td><td>0.7790846</td><td>noRand</td><td>4</td><td>10</td><td>0</td><td>Bos taurus</td><td>methPred_noRand_uc_1234.RData</td><td>1234</td><td>0_1234</td></tr>\n",
       "\t<tr><td>0.00127551</td><td>0.005102041</td><td>0.7790846</td><td>noRand</td><td>4</td><td>10</td><td>0</td><td>Bos taurus</td><td>methPred_noRand_uc_1234.RData</td><td>1234</td><td>0_1234</td></tr>\n",
       "</tbody>\n",
       "</table>\n"
      ],
      "text/latex": [
       "A data.table: 6 × 11\n",
       "\\begin{tabular}{lllllllllll}\n",
       " fdr & tpr & auc & ifRand & k & C & run & species & model & seedid & unique\\_run\\\\\n",
       " <dbl> & <dbl> & <dbl> & <chr> & <dbl> & <dbl> & <dbl> & <fct> & <chr> & <chr> & <chr>\\\\\n",
       "\\hline\n",
       "\t 0.00000000 & 0.000000000 & 0.7790846 & noRand & 4 & 10 & 0 & Bos taurus & methPred\\_noRand\\_uc\\_1234.RData & 1234 & 0\\_1234\\\\\n",
       "\t 0.00000000 & 0.001275510 & 0.7790846 & noRand & 4 & 10 & 0 & Bos taurus & methPred\\_noRand\\_uc\\_1234.RData & 1234 & 0\\_1234\\\\\n",
       "\t 0.00000000 & 0.002551020 & 0.7790846 & noRand & 4 & 10 & 0 & Bos taurus & methPred\\_noRand\\_uc\\_1234.RData & 1234 & 0\\_1234\\\\\n",
       "\t 0.00127551 & 0.002551020 & 0.7790846 & noRand & 4 & 10 & 0 & Bos taurus & methPred\\_noRand\\_uc\\_1234.RData & 1234 & 0\\_1234\\\\\n",
       "\t 0.00127551 & 0.003826531 & 0.7790846 & noRand & 4 & 10 & 0 & Bos taurus & methPred\\_noRand\\_uc\\_1234.RData & 1234 & 0\\_1234\\\\\n",
       "\t 0.00127551 & 0.005102041 & 0.7790846 & noRand & 4 & 10 & 0 & Bos taurus & methPred\\_noRand\\_uc\\_1234.RData & 1234 & 0\\_1234\\\\\n",
       "\\end{tabular}\n"
      ],
      "text/markdown": [
       "\n",
       "A data.table: 6 × 11\n",
       "\n",
       "| fdr &lt;dbl&gt; | tpr &lt;dbl&gt; | auc &lt;dbl&gt; | ifRand &lt;chr&gt; | k &lt;dbl&gt; | C &lt;dbl&gt; | run &lt;dbl&gt; | species &lt;fct&gt; | model &lt;chr&gt; | seedid &lt;chr&gt; | unique_run &lt;chr&gt; |\n",
       "|---|---|---|---|---|---|---|---|---|---|---|\n",
       "| 0.00000000 | 0.000000000 | 0.7790846 | noRand | 4 | 10 | 0 | Bos taurus | methPred_noRand_uc_1234.RData | 1234 | 0_1234 |\n",
       "| 0.00000000 | 0.001275510 | 0.7790846 | noRand | 4 | 10 | 0 | Bos taurus | methPred_noRand_uc_1234.RData | 1234 | 0_1234 |\n",
       "| 0.00000000 | 0.002551020 | 0.7790846 | noRand | 4 | 10 | 0 | Bos taurus | methPred_noRand_uc_1234.RData | 1234 | 0_1234 |\n",
       "| 0.00127551 | 0.002551020 | 0.7790846 | noRand | 4 | 10 | 0 | Bos taurus | methPred_noRand_uc_1234.RData | 1234 | 0_1234 |\n",
       "| 0.00127551 | 0.003826531 | 0.7790846 | noRand | 4 | 10 | 0 | Bos taurus | methPred_noRand_uc_1234.RData | 1234 | 0_1234 |\n",
       "| 0.00127551 | 0.005102041 | 0.7790846 | noRand | 4 | 10 | 0 | Bos taurus | methPred_noRand_uc_1234.RData | 1234 | 0_1234 |\n",
       "\n"
      ],
      "text/plain": [
       "  fdr        tpr         auc       ifRand k C  run species   \n",
       "1 0.00000000 0.000000000 0.7790846 noRand 4 10 0   Bos taurus\n",
       "2 0.00000000 0.001275510 0.7790846 noRand 4 10 0   Bos taurus\n",
       "3 0.00000000 0.002551020 0.7790846 noRand 4 10 0   Bos taurus\n",
       "4 0.00127551 0.002551020 0.7790846 noRand 4 10 0   Bos taurus\n",
       "5 0.00127551 0.003826531 0.7790846 noRand 4 10 0   Bos taurus\n",
       "6 0.00127551 0.005102041 0.7790846 noRand 4 10 0   Bos taurus\n",
       "  model                         seedid unique_run\n",
       "1 methPred_noRand_uc_1234.RData 1234   0_1234    \n",
       "2 methPred_noRand_uc_1234.RData 1234   0_1234    \n",
       "3 methPred_noRand_uc_1234.RData 1234   0_1234    \n",
       "4 methPred_noRand_uc_1234.RData 1234   0_1234    \n",
       "5 methPred_noRand_uc_1234.RData 1234   0_1234    \n",
       "6 methPred_noRand_uc_1234.RData 1234   0_1234    "
      ]
     },
     "metadata": {},
     "output_type": "display_data"
    }
   ],
   "source": [
    "head(roc_res_full)"
   ]
  },
  {
   "cell_type": "code",
   "execution_count": null,
   "id": "3d1cba96-b9c7-4b2a-82ed-6c6917545bb6",
   "metadata": {},
   "outputs": [],
   "source": [
    "median()"
   ]
  },
  {
   "cell_type": "code",
   "execution_count": 164,
   "id": "51d34e21-be65-48e5-92f4-7fda3205628c",
   "metadata": {},
   "outputs": [],
   "source": [
    "k_res <- unique(roc_res_full[ifRand == \"noRand\", c(\"species\", \"k\", \"seedid\")]) %>% group_by(species) %>% summarise(K = paste(k, collapse = \", \"))"
   ]
  },
  {
   "cell_type": "code",
   "execution_count": 190,
   "id": "6f27c51e-f6d9-4a36-ab03-472e0a3a7ca6",
   "metadata": {},
   "outputs": [
    {
     "data": {
      "text/html": [
       "<table class=\"dataframe\">\n",
       "<caption>A data.frame: 1 × 1</caption>\n",
       "<thead>\n",
       "\t<tr><th scope=col>which.max(k_freq)</th></tr>\n",
       "\t<tr><th scope=col>&lt;int&gt;</th></tr>\n",
       "</thead>\n",
       "<tbody>\n",
       "\t<tr><td>1</td></tr>\n",
       "</tbody>\n",
       "</table>\n"
      ],
      "text/latex": [
       "A data.frame: 1 × 1\n",
       "\\begin{tabular}{l}\n",
       " which.max(k\\_freq)\\\\\n",
       " <int>\\\\\n",
       "\\hline\n",
       "\t 1\\\\\n",
       "\\end{tabular}\n"
      ],
      "text/markdown": [
       "\n",
       "A data.frame: 1 × 1\n",
       "\n",
       "| which.max(k_freq) &lt;int&gt; |\n",
       "|---|\n",
       "| 1 |\n",
       "\n"
      ],
      "text/plain": [
       "  which.max(k_freq)\n",
       "1 1                "
      ]
     },
     "metadata": {},
     "output_type": "display_data"
    }
   ],
   "source": [
    "k_frogs"
   ]
  },
  {
   "cell_type": "code",
   "execution_count": 174,
   "id": "1ac83b68-59da-4371-ad66-46d276445bcb",
   "metadata": {},
   "outputs": [
    {
     "data": {
      "text/html": [
       "<table class=\"dataframe\">\n",
       "<caption>A data.table: 6 × 11</caption>\n",
       "<thead>\n",
       "\t<tr><th scope=col>V1</th><th scope=col>species</th><th scope=col>k</th><th scope=col>k_freq</th><th scope=col>c</th><th scope=col>numSequences</th><th scope=col>AUC</th><th scope=col>f1</th><th scope=col>color_class</th><th scope=col>scientific_name</th><th scope=col>group</th></tr>\n",
       "\t<tr><th scope=col>&lt;int&gt;</th><th scope=col>&lt;chr&gt;</th><th scope=col>&lt;int&gt;</th><th scope=col>&lt;dbl&gt;</th><th scope=col>&lt;dbl&gt;</th><th scope=col>&lt;int&gt;</th><th scope=col>&lt;dbl&gt;</th><th scope=col>&lt;dbl&gt;</th><th scope=col>&lt;chr&gt;</th><th scope=col>&lt;chr&gt;</th><th scope=col>&lt;chr&gt;</th></tr>\n",
       "</thead>\n",
       "<tbody>\n",
       "\t<tr><td>  3</td><td>ABU</td><td>2</td><td>0.7</td><td>10.0</td><td> 720</td><td>0.6597939</td><td>0.6312925</td><td>Amphibia</td><td>Hoplobatrachus tigerinus </td><td>Amp.</td></tr>\n",
       "\t<tr><td> 52</td><td>BF </td><td>7</td><td>0.4</td><td> 1.0</td><td> 424</td><td>0.5995239</td><td>0.5901639</td><td>Amphibia</td><td>Polypedates otilophus    </td><td>Amp.</td></tr>\n",
       "\t<tr><td> 83</td><td>BTF</td><td>7</td><td>0.4</td><td> 1.0</td><td>2000</td><td>0.6354780</td><td>0.5991232</td><td>Amphibia</td><td>Rhacophorus reinwardtii  </td><td>Amp.</td></tr>\n",
       "\t<tr><td>216</td><td>GF </td><td>6</td><td>0.6</td><td> 1.0</td><td> 546</td><td>0.7383451</td><td>0.6847826</td><td>Amphibia</td><td>Heleophrynidae           </td><td>Amp.</td></tr>\n",
       "\t<tr><td>309</td><td>MF </td><td>5</td><td>0.4</td><td> 1.0</td><td> 916</td><td>0.7204191</td><td>0.6607143</td><td>Amphibia</td><td>Theloderma               </td><td>Amp.</td></tr>\n",
       "\t<tr><td>510</td><td>TRF</td><td>4</td><td>0.7</td><td> 0.1</td><td>2000</td><td>0.6969140</td><td>0.6302652</td><td>Amphibia</td><td>Ceratobatrachus guentheri</td><td>Amp.</td></tr>\n",
       "</tbody>\n",
       "</table>\n"
      ],
      "text/latex": [
       "A data.table: 6 × 11\n",
       "\\begin{tabular}{lllllllllll}\n",
       " V1 & species & k & k\\_freq & c & numSequences & AUC & f1 & color\\_class & scientific\\_name & group\\\\\n",
       " <int> & <chr> & <int> & <dbl> & <dbl> & <int> & <dbl> & <dbl> & <chr> & <chr> & <chr>\\\\\n",
       "\\hline\n",
       "\t   3 & ABU & 2 & 0.7 & 10.0 &  720 & 0.6597939 & 0.6312925 & Amphibia & Hoplobatrachus tigerinus  & Amp.\\\\\n",
       "\t  52 & BF  & 7 & 0.4 &  1.0 &  424 & 0.5995239 & 0.5901639 & Amphibia & Polypedates otilophus     & Amp.\\\\\n",
       "\t  83 & BTF & 7 & 0.4 &  1.0 & 2000 & 0.6354780 & 0.5991232 & Amphibia & Rhacophorus reinwardtii   & Amp.\\\\\n",
       "\t 216 & GF  & 6 & 0.6 &  1.0 &  546 & 0.7383451 & 0.6847826 & Amphibia & Heleophrynidae            & Amp.\\\\\n",
       "\t 309 & MF  & 5 & 0.4 &  1.0 &  916 & 0.7204191 & 0.6607143 & Amphibia & Theloderma                & Amp.\\\\\n",
       "\t 510 & TRF & 4 & 0.7 &  0.1 & 2000 & 0.6969140 & 0.6302652 & Amphibia & Ceratobatrachus guentheri & Amp.\\\\\n",
       "\\end{tabular}\n"
      ],
      "text/markdown": [
       "\n",
       "A data.table: 6 × 11\n",
       "\n",
       "| V1 &lt;int&gt; | species &lt;chr&gt; | k &lt;int&gt; | k_freq &lt;dbl&gt; | c &lt;dbl&gt; | numSequences &lt;int&gt; | AUC &lt;dbl&gt; | f1 &lt;dbl&gt; | color_class &lt;chr&gt; | scientific_name &lt;chr&gt; | group &lt;chr&gt; |\n",
       "|---|---|---|---|---|---|---|---|---|---|---|\n",
       "|   3 | ABU | 2 | 0.7 | 10.0 |  720 | 0.6597939 | 0.6312925 | Amphibia | Hoplobatrachus tigerinus  | Amp. |\n",
       "|  52 | BF  | 7 | 0.4 |  1.0 |  424 | 0.5995239 | 0.5901639 | Amphibia | Polypedates otilophus     | Amp. |\n",
       "|  83 | BTF | 7 | 0.4 |  1.0 | 2000 | 0.6354780 | 0.5991232 | Amphibia | Rhacophorus reinwardtii   | Amp. |\n",
       "| 216 | GF  | 6 | 0.6 |  1.0 |  546 | 0.7383451 | 0.6847826 | Amphibia | Heleophrynidae            | Amp. |\n",
       "| 309 | MF  | 5 | 0.4 |  1.0 |  916 | 0.7204191 | 0.6607143 | Amphibia | Theloderma                | Amp. |\n",
       "| 510 | TRF | 4 | 0.7 |  0.1 | 2000 | 0.6969140 | 0.6302652 | Amphibia | Ceratobatrachus guentheri | Amp. |\n",
       "\n"
      ],
      "text/plain": [
       "  V1  species k k_freq c    numSequences AUC       f1        color_class\n",
       "1   3 ABU     2 0.7    10.0  720         0.6597939 0.6312925 Amphibia   \n",
       "2  52 BF      7 0.4     1.0  424         0.5995239 0.5901639 Amphibia   \n",
       "3  83 BTF     7 0.4     1.0 2000         0.6354780 0.5991232 Amphibia   \n",
       "4 216 GF      6 0.6     1.0  546         0.7383451 0.6847826 Amphibia   \n",
       "5 309 MF      5 0.4     1.0  916         0.7204191 0.6607143 Amphibia   \n",
       "6 510 TRF     4 0.7     0.1 2000         0.6969140 0.6302652 Amphibia   \n",
       "  scientific_name           group\n",
       "1 Hoplobatrachus tigerinus  Amp. \n",
       "2 Polypedates otilophus     Amp. \n",
       "3 Rhacophorus reinwardtii   Amp. \n",
       "4 Heleophrynidae            Amp. \n",
       "5 Theloderma                Amp. \n",
       "6 Ceratobatrachus guentheri Amp. "
      ]
     },
     "metadata": {},
     "output_type": "display_data"
    }
   ],
   "source": [
    "auc_rrbs %>% filter(species %in% frogs$species)"
   ]
  },
  {
   "cell_type": "code",
   "execution_count": 191,
   "id": "2714e3f9-251a-433f-85d5-ac1641a8f894",
   "metadata": {},
   "outputs": [
    {
     "data": {
      "text/html": [
       "<table class=\"dataframe\">\n",
       "<caption>A tibble: 1 × 2</caption>\n",
       "<thead>\n",
       "\t<tr><th scope=col>color_class</th><th scope=col>k</th></tr>\n",
       "\t<tr><th scope=col>&lt;chr&gt;</th><th scope=col>&lt;dbl&gt;</th></tr>\n",
       "</thead>\n",
       "<tbody>\n",
       "\t<tr><td>Amphibia</td><td>5.5</td></tr>\n",
       "</tbody>\n",
       "</table>\n"
      ],
      "text/latex": [
       "A tibble: 1 × 2\n",
       "\\begin{tabular}{ll}\n",
       " color\\_class & k\\\\\n",
       " <chr> & <dbl>\\\\\n",
       "\\hline\n",
       "\t Amphibia & 5.5\\\\\n",
       "\\end{tabular}\n"
      ],
      "text/markdown": [
       "\n",
       "A tibble: 1 × 2\n",
       "\n",
       "| color_class &lt;chr&gt; | k &lt;dbl&gt; |\n",
       "|---|---|\n",
       "| Amphibia | 5.5 |\n",
       "\n"
      ],
      "text/plain": [
       "  color_class k  \n",
       "1 Amphibia    5.5"
      ]
     },
     "metadata": {},
     "output_type": "display_data"
    }
   ],
   "source": [
    "k_frogs <- auc_rrbs %>% filter(species %in% frogs$species) %>% group_by(color_class) %>% \n",
    "                summarize(k = median(k))\n",
    "k_frogs"
   ]
  },
  {
   "cell_type": "code",
   "execution_count": 169,
   "id": "3ac182db-08af-48a4-bf6c-852264fc3237",
   "metadata": {},
   "outputs": [
    {
     "data": {
      "text/html": [
       "<table class=\"dataframe\">\n",
       "<caption>A data.table: 6 × 11</caption>\n",
       "<thead>\n",
       "\t<tr><th scope=col>V1</th><th scope=col>species</th><th scope=col>k</th><th scope=col>k_freq</th><th scope=col>c</th><th scope=col>numSequences</th><th scope=col>AUC</th><th scope=col>f1</th><th scope=col>color_class</th><th scope=col>scientific_name</th><th scope=col>group</th></tr>\n",
       "\t<tr><th scope=col>&lt;int&gt;</th><th scope=col>&lt;chr&gt;</th><th scope=col>&lt;int&gt;</th><th scope=col>&lt;dbl&gt;</th><th scope=col>&lt;dbl&gt;</th><th scope=col>&lt;int&gt;</th><th scope=col>&lt;dbl&gt;</th><th scope=col>&lt;dbl&gt;</th><th scope=col>&lt;chr&gt;</th><th scope=col>&lt;chr&gt;</th><th scope=col>&lt;chr&gt;</th></tr>\n",
       "</thead>\n",
       "<tbody>\n",
       "\t<tr><td>575</td><td>YNM      </td><td> 2</td><td>0.9</td><td>10</td><td>2000</td><td>0.866230</td><td>0.7915870</td><td>Mammalia   </td><td>Apodemus flavicollis     </td><td>Mam.</td></tr>\n",
       "\t<tr><td>576</td><td>YS       </td><td> 3</td><td>0.7</td><td>10</td><td>2000</td><td>0.845797</td><td>0.7758535</td><td>Reptilia   </td><td>Trachemys scripta scripta</td><td>Rep.</td></tr>\n",
       "\t<tr><td>577</td><td>YSP      </td><td> 4</td><td>0.6</td><td> 1</td><td>2000</td><td>0.684943</td><td>0.6464548</td><td>Actinopteri</td><td>Parapercis xanthozona    </td><td>Act.</td></tr>\n",
       "\t<tr><td>578</td><td>ZE       </td><td> 3</td><td>0.6</td><td>10</td><td>2000</td><td>0.833953</td><td>0.7737864</td><td>Mammalia   </td><td>Equus zebra              </td><td>Mam.</td></tr>\n",
       "\t<tr><td>579</td><td>ZF       </td><td> 3</td><td>0.6</td><td>10</td><td>2000</td><td>0.714275</td><td>0.6611166</td><td>Actinopteri</td><td>Danio rerio              </td><td>Act.</td></tr>\n",
       "\t<tr><td> NA</td><td>ALL FROGS</td><td>NA</td><td> NA</td><td>NA</td><td>  NA</td><td>0.675079</td><td>       NA</td><td>Amphibia   </td><td>NA                       </td><td>NA  </td></tr>\n",
       "</tbody>\n",
       "</table>\n"
      ],
      "text/latex": [
       "A data.table: 6 × 11\n",
       "\\begin{tabular}{lllllllllll}\n",
       " V1 & species & k & k\\_freq & c & numSequences & AUC & f1 & color\\_class & scientific\\_name & group\\\\\n",
       " <int> & <chr> & <int> & <dbl> & <dbl> & <int> & <dbl> & <dbl> & <chr> & <chr> & <chr>\\\\\n",
       "\\hline\n",
       "\t 575 & YNM       &  2 & 0.9 & 10 & 2000 & 0.866230 & 0.7915870 & Mammalia    & Apodemus flavicollis      & Mam.\\\\\n",
       "\t 576 & YS        &  3 & 0.7 & 10 & 2000 & 0.845797 & 0.7758535 & Reptilia    & Trachemys scripta scripta & Rep.\\\\\n",
       "\t 577 & YSP       &  4 & 0.6 &  1 & 2000 & 0.684943 & 0.6464548 & Actinopteri & Parapercis xanthozona     & Act.\\\\\n",
       "\t 578 & ZE        &  3 & 0.6 & 10 & 2000 & 0.833953 & 0.7737864 & Mammalia    & Equus zebra               & Mam.\\\\\n",
       "\t 579 & ZF        &  3 & 0.6 & 10 & 2000 & 0.714275 & 0.6611166 & Actinopteri & Danio rerio               & Act.\\\\\n",
       "\t  NA & ALL FROGS & NA &  NA & NA &   NA & 0.675079 &        NA & Amphibia    & NA                        & NA  \\\\\n",
       "\\end{tabular}\n"
      ],
      "text/markdown": [
       "\n",
       "A data.table: 6 × 11\n",
       "\n",
       "| V1 &lt;int&gt; | species &lt;chr&gt; | k &lt;int&gt; | k_freq &lt;dbl&gt; | c &lt;dbl&gt; | numSequences &lt;int&gt; | AUC &lt;dbl&gt; | f1 &lt;dbl&gt; | color_class &lt;chr&gt; | scientific_name &lt;chr&gt; | group &lt;chr&gt; |\n",
       "|---|---|---|---|---|---|---|---|---|---|---|\n",
       "| 575 | YNM       |  2 | 0.9 | 10 | 2000 | 0.866230 | 0.7915870 | Mammalia    | Apodemus flavicollis      | Mam. |\n",
       "| 576 | YS        |  3 | 0.7 | 10 | 2000 | 0.845797 | 0.7758535 | Reptilia    | Trachemys scripta scripta | Rep. |\n",
       "| 577 | YSP       |  4 | 0.6 |  1 | 2000 | 0.684943 | 0.6464548 | Actinopteri | Parapercis xanthozona     | Act. |\n",
       "| 578 | ZE        |  3 | 0.6 | 10 | 2000 | 0.833953 | 0.7737864 | Mammalia    | Equus zebra               | Mam. |\n",
       "| 579 | ZF        |  3 | 0.6 | 10 | 2000 | 0.714275 | 0.6611166 | Actinopteri | Danio rerio               | Act. |\n",
       "|  NA | ALL FROGS | NA |  NA | NA |   NA | 0.675079 |        NA | Amphibia    | NA                        | NA   |\n",
       "\n"
      ],
      "text/plain": [
       "  V1  species   k  k_freq c  numSequences AUC      f1        color_class\n",
       "1 575 YNM        2 0.9    10 2000         0.866230 0.7915870 Mammalia   \n",
       "2 576 YS         3 0.7    10 2000         0.845797 0.7758535 Reptilia   \n",
       "3 577 YSP        4 0.6     1 2000         0.684943 0.6464548 Actinopteri\n",
       "4 578 ZE         3 0.6    10 2000         0.833953 0.7737864 Mammalia   \n",
       "5 579 ZF         3 0.6    10 2000         0.714275 0.6611166 Actinopteri\n",
       "6  NA ALL FROGS NA  NA    NA   NA         0.675079        NA Amphibia   \n",
       "  scientific_name           group\n",
       "1 Apodemus flavicollis      Mam. \n",
       "2 Trachemys scripta scripta Rep. \n",
       "3 Parapercis xanthozona     Act. \n",
       "4 Equus zebra               Mam. \n",
       "5 Danio rerio               Act. \n",
       "6 NA                        NA   "
      ]
     },
     "metadata": {},
     "output_type": "display_data"
    }
   ],
   "source": [
    "tail(auc_rrbs)"
   ]
  },
  {
   "cell_type": "code",
   "execution_count": 171,
   "id": "842171b4-c44f-4146-988f-bcc4bf27d6fe",
   "metadata": {},
   "outputs": [],
   "source": [
    "auc_rrbs[species == \"ALL FROGS\"]$k <- k_frogs$k"
   ]
  },
  {
   "cell_type": "code",
   "execution_count": 175,
   "id": "cf5c88b6-2b0f-4e13-8259-80b7f0a8e2d6",
   "metadata": {},
   "outputs": [
    {
     "data": {
      "text/html": [
       "<table class=\"dataframe\">\n",
       "<caption>A tibble: 7 × 6</caption>\n",
       "<thead>\n",
       "\t<tr><th scope=col>species</th><th scope=col>K</th><th scope=col>genomeId</th><th scope=col>Species_match</th><th scope=col>data_type</th><th scope=col>thr</th></tr>\n",
       "\t<tr><th scope=col>&lt;chr&gt;</th><th scope=col>&lt;chr&gt;</th><th scope=col>&lt;chr&gt;</th><th scope=col>&lt;chr&gt;</th><th scope=col>&lt;chr&gt;</th><th scope=col>&lt;int&gt;</th></tr>\n",
       "</thead>\n",
       "<tbody>\n",
       "\t<tr><td>Branchiostoma lanceolatum</td><td>3, 3, 3</td><td>Bl71nemr        </td><td>FLA      </td><td>Misc         </td><td> 5</td></tr>\n",
       "\t<tr><td>Danio rerio              </td><td>4, 3, 9</td><td>danRer11        </td><td>ZF       </td><td>gemBS        </td><td>10</td></tr>\n",
       "\t<tr><td>Xenopus laevis           </td><td>6, 3, 3</td><td>Xla.v91         </td><td>ALL FROGS</td><td>Misc         </td><td> 5</td></tr>\n",
       "\t<tr><td>Gallus gallus            </td><td>4, 3, 3</td><td>galGal5         </td><td>CHK      </td><td>cov_and_ratio</td><td>10</td></tr>\n",
       "\t<tr><td>Phascolarctos cinereus   </td><td>2, 2, 2</td><td>phaCin_unsw_v4.1</td><td>KOA      </td><td>CpGreport    </td><td>10</td></tr>\n",
       "\t<tr><td>Mus musculus             </td><td>5, 4, 4</td><td>mm9             </td><td>MOU      </td><td>CpG.calls.txt</td><td>10</td></tr>\n",
       "\t<tr><td>Bos taurus               </td><td>4, 4, 4</td><td>bosTau9         </td><td>ANW      </td><td>CpGreport    </td><td>10</td></tr>\n",
       "</tbody>\n",
       "</table>\n"
      ],
      "text/latex": [
       "A tibble: 7 × 6\n",
       "\\begin{tabular}{llllll}\n",
       " species & K & genomeId & Species\\_match & data\\_type & thr\\\\\n",
       " <chr> & <chr> & <chr> & <chr> & <chr> & <int>\\\\\n",
       "\\hline\n",
       "\t Branchiostoma lanceolatum & 3, 3, 3 & Bl71nemr         & FLA       & Misc          &  5\\\\\n",
       "\t Danio rerio               & 4, 3, 9 & danRer11         & ZF        & gemBS         & 10\\\\\n",
       "\t Xenopus laevis            & 6, 3, 3 & Xla.v91          & ALL FROGS & Misc          &  5\\\\\n",
       "\t Gallus gallus             & 4, 3, 3 & galGal5          & CHK       & cov\\_and\\_ratio & 10\\\\\n",
       "\t Phascolarctos cinereus    & 2, 2, 2 & phaCin\\_unsw\\_v4.1 & KOA       & CpGreport     & 10\\\\\n",
       "\t Mus musculus              & 5, 4, 4 & mm9              & MOU       & CpG.calls.txt & 10\\\\\n",
       "\t Bos taurus                & 4, 4, 4 & bosTau9          & ANW       & CpGreport     & 10\\\\\n",
       "\\end{tabular}\n"
      ],
      "text/markdown": [
       "\n",
       "A tibble: 7 × 6\n",
       "\n",
       "| species &lt;chr&gt; | K &lt;chr&gt; | genomeId &lt;chr&gt; | Species_match &lt;chr&gt; | data_type &lt;chr&gt; | thr &lt;int&gt; |\n",
       "|---|---|---|---|---|---|\n",
       "| Branchiostoma lanceolatum | 3, 3, 3 | Bl71nemr         | FLA       | Misc          |  5 |\n",
       "| Danio rerio               | 4, 3, 9 | danRer11         | ZF        | gemBS         | 10 |\n",
       "| Xenopus laevis            | 6, 3, 3 | Xla.v91          | ALL FROGS | Misc          |  5 |\n",
       "| Gallus gallus             | 4, 3, 3 | galGal5          | CHK       | cov_and_ratio | 10 |\n",
       "| Phascolarctos cinereus    | 2, 2, 2 | phaCin_unsw_v4.1 | KOA       | CpGreport     | 10 |\n",
       "| Mus musculus              | 5, 4, 4 | mm9              | MOU       | CpG.calls.txt | 10 |\n",
       "| Bos taurus                | 4, 4, 4 | bosTau9          | ANW       | CpGreport     | 10 |\n",
       "\n"
      ],
      "text/plain": [
       "  species                   K       genomeId         Species_match\n",
       "1 Branchiostoma lanceolatum 3, 3, 3 Bl71nemr         FLA          \n",
       "2 Danio rerio               4, 3, 9 danRer11         ZF           \n",
       "3 Xenopus laevis            6, 3, 3 Xla.v91          ALL FROGS    \n",
       "4 Gallus gallus             4, 3, 3 galGal5          CHK          \n",
       "5 Phascolarctos cinereus    2, 2, 2 phaCin_unsw_v4.1 KOA          \n",
       "6 Mus musculus              5, 4, 4 mm9              MOU          \n",
       "7 Bos taurus                4, 4, 4 bosTau9          ANW          \n",
       "  data_type     thr\n",
       "1 Misc           5 \n",
       "2 gemBS         10 \n",
       "3 Misc           5 \n",
       "4 cov_and_ratio 10 \n",
       "5 CpGreport     10 \n",
       "6 CpG.calls.txt 10 \n",
       "7 CpGreport     10 "
      ]
     },
     "metadata": {},
     "output_type": "display_data"
    }
   ],
   "source": [
    "left_join(k_res, annot_full, by = c(\"species\" = \"Species\"))"
   ]
  },
  {
   "cell_type": "code",
   "execution_count": 176,
   "id": "a8eb72a4-04f2-49b6-af77-a3323d696a23",
   "metadata": {},
   "outputs": [],
   "source": [
    "k_res<- left_join(k_res, annot_full, by = c(\"species\" = \"Species\"))"
   ]
  },
  {
   "cell_type": "code",
   "execution_count": 179,
   "id": "6768c087-085a-4816-bc3c-2d6eaff40718",
   "metadata": {},
   "outputs": [],
   "source": [
    "k_res <- left_join(k_res, auc_rrbs[, c(\"species\", \"k\")], by = c(\"Species_match\" =\"species\"))"
   ]
  },
  {
   "cell_type": "code",
   "execution_count": 183,
   "id": "6188955d-96ba-4e15-8f27-df77e4a83def",
   "metadata": {},
   "outputs": [],
   "source": [
    "\n",
    "setDT(k_res)"
   ]
  },
  {
   "cell_type": "code",
   "execution_count": 184,
   "id": "79e65e46-6689-4823-a1db-13120bd0eb0c",
   "metadata": {},
   "outputs": [],
   "source": [
    "k_res[,x:=0.6,]\n",
    "k_res[,y:=0.05,]"
   ]
  },
  {
   "cell_type": "code",
   "execution_count": 125,
   "id": "43f03b98-ebf4-4d33-8dfa-7cfb7ab4ea40",
   "metadata": {},
   "outputs": [],
   "source": [
    "setDT(auc_res)"
   ]
  },
  {
   "cell_type": "code",
   "execution_count": 182,
   "id": "272d1f58-b11a-4f21-b3e2-ed31d56dbc0d",
   "metadata": {},
   "outputs": [],
   "source": [
    "auc_res[,x:=0.6,]\n",
    "auc_res[,y:=0.1,]"
   ]
  },
  {
   "cell_type": "code",
   "execution_count": 127,
   "id": "5f86636e-e6b6-4279-98d0-5d0aefcdf7e5",
   "metadata": {},
   "outputs": [],
   "source": [
    "roc_res_full[species == \"Danio_rerio_GSE134055\",species:=\"Danio_rerio\",]\n",
    "\n",
    "roc_res_full$species<- gsub(\"_\", \" \", roc_res_full$species)"
   ]
  },
  {
   "cell_type": "code",
   "execution_count": 128,
   "id": "7fc8038b-1fd9-45dd-9f90-eacc15300f47",
   "metadata": {},
   "outputs": [],
   "source": [
    "auc_res[species == \"Danio_rerio_GSE134055\",species:=\"Danio_rerio\",]\n",
    "\n",
    "auc_res$species<- gsub(\"_\", \" \", auc_res$species)"
   ]
  },
  {
   "cell_type": "code",
   "execution_count": 129,
   "id": "002d44d3-8c2a-450b-8ed7-100b33cbc6ae",
   "metadata": {},
   "outputs": [],
   "source": [
    "WGBS_species_order <- c('Branchiostoma lanceolatum','Danio rerio','Xenopus laevis', 'Gallus gallus', 'Phascolarctos cinereus', 'Mus musculus','Bos taurus')"
   ]
  },
  {
   "cell_type": "code",
   "execution_count": 130,
   "id": "71259096-f4fb-4971-8a18-66446a1661cd",
   "metadata": {},
   "outputs": [],
   "source": [
    "roc_res_full$species <- factor(roc_res_full$species, levels = WGBS_species_order)"
   ]
  },
  {
   "cell_type": "code",
   "execution_count": 186,
   "id": "7fc20511-c1a8-469c-a8d6-573fdb34fc4f",
   "metadata": {},
   "outputs": [
    {
     "data": {
      "text/html": [
       "<table class=\"dataframe\">\n",
       "<caption>A data.table: 6 × 9</caption>\n",
       "<thead>\n",
       "\t<tr><th scope=col>species</th><th scope=col>K</th><th scope=col>genomeId</th><th scope=col>Species_match</th><th scope=col>data_type</th><th scope=col>thr</th><th scope=col>k</th><th scope=col>x</th><th scope=col>y</th></tr>\n",
       "\t<tr><th scope=col>&lt;chr&gt;</th><th scope=col>&lt;chr&gt;</th><th scope=col>&lt;chr&gt;</th><th scope=col>&lt;chr&gt;</th><th scope=col>&lt;chr&gt;</th><th scope=col>&lt;int&gt;</th><th scope=col>&lt;int&gt;</th><th scope=col>&lt;dbl&gt;</th><th scope=col>&lt;dbl&gt;</th></tr>\n",
       "</thead>\n",
       "<tbody>\n",
       "\t<tr><td>Branchiostoma lanceolatum</td><td>3, 3, 3</td><td>Bl71nemr        </td><td>FLA      </td><td>Misc         </td><td> 5</td><td>3</td><td>0.6</td><td>0.05</td></tr>\n",
       "\t<tr><td>Danio rerio              </td><td>4, 3, 9</td><td>danRer11        </td><td>ZF       </td><td>gemBS        </td><td>10</td><td>3</td><td>0.6</td><td>0.05</td></tr>\n",
       "\t<tr><td>Xenopus laevis           </td><td>6, 3, 3</td><td>Xla.v91         </td><td>ALL FROGS</td><td>Misc         </td><td> 5</td><td>7</td><td>0.6</td><td>0.05</td></tr>\n",
       "\t<tr><td>Gallus gallus            </td><td>4, 3, 3</td><td>galGal5         </td><td>CHK      </td><td>cov_and_ratio</td><td>10</td><td>3</td><td>0.6</td><td>0.05</td></tr>\n",
       "\t<tr><td>Phascolarctos cinereus   </td><td>2, 2, 2</td><td>phaCin_unsw_v4.1</td><td>KOA      </td><td>CpGreport    </td><td>10</td><td>2</td><td>0.6</td><td>0.05</td></tr>\n",
       "\t<tr><td>Mus musculus             </td><td>5, 4, 4</td><td>mm9             </td><td>MOU      </td><td>CpG.calls.txt</td><td>10</td><td>2</td><td>0.6</td><td>0.05</td></tr>\n",
       "</tbody>\n",
       "</table>\n"
      ],
      "text/latex": [
       "A data.table: 6 × 9\n",
       "\\begin{tabular}{lllllllll}\n",
       " species & K & genomeId & Species\\_match & data\\_type & thr & k & x & y\\\\\n",
       " <chr> & <chr> & <chr> & <chr> & <chr> & <int> & <int> & <dbl> & <dbl>\\\\\n",
       "\\hline\n",
       "\t Branchiostoma lanceolatum & 3, 3, 3 & Bl71nemr         & FLA       & Misc          &  5 & 3 & 0.6 & 0.05\\\\\n",
       "\t Danio rerio               & 4, 3, 9 & danRer11         & ZF        & gemBS         & 10 & 3 & 0.6 & 0.05\\\\\n",
       "\t Xenopus laevis            & 6, 3, 3 & Xla.v91          & ALL FROGS & Misc          &  5 & 7 & 0.6 & 0.05\\\\\n",
       "\t Gallus gallus             & 4, 3, 3 & galGal5          & CHK       & cov\\_and\\_ratio & 10 & 3 & 0.6 & 0.05\\\\\n",
       "\t Phascolarctos cinereus    & 2, 2, 2 & phaCin\\_unsw\\_v4.1 & KOA       & CpGreport     & 10 & 2 & 0.6 & 0.05\\\\\n",
       "\t Mus musculus              & 5, 4, 4 & mm9              & MOU       & CpG.calls.txt & 10 & 2 & 0.6 & 0.05\\\\\n",
       "\\end{tabular}\n"
      ],
      "text/markdown": [
       "\n",
       "A data.table: 6 × 9\n",
       "\n",
       "| species &lt;chr&gt; | K &lt;chr&gt; | genomeId &lt;chr&gt; | Species_match &lt;chr&gt; | data_type &lt;chr&gt; | thr &lt;int&gt; | k &lt;int&gt; | x &lt;dbl&gt; | y &lt;dbl&gt; |\n",
       "|---|---|---|---|---|---|---|---|---|\n",
       "| Branchiostoma lanceolatum | 3, 3, 3 | Bl71nemr         | FLA       | Misc          |  5 | 3 | 0.6 | 0.05 |\n",
       "| Danio rerio               | 4, 3, 9 | danRer11         | ZF        | gemBS         | 10 | 3 | 0.6 | 0.05 |\n",
       "| Xenopus laevis            | 6, 3, 3 | Xla.v91          | ALL FROGS | Misc          |  5 | 7 | 0.6 | 0.05 |\n",
       "| Gallus gallus             | 4, 3, 3 | galGal5          | CHK       | cov_and_ratio | 10 | 3 | 0.6 | 0.05 |\n",
       "| Phascolarctos cinereus    | 2, 2, 2 | phaCin_unsw_v4.1 | KOA       | CpGreport     | 10 | 2 | 0.6 | 0.05 |\n",
       "| Mus musculus              | 5, 4, 4 | mm9              | MOU       | CpG.calls.txt | 10 | 2 | 0.6 | 0.05 |\n",
       "\n"
      ],
      "text/plain": [
       "  species                   K       genomeId         Species_match\n",
       "1 Branchiostoma lanceolatum 3, 3, 3 Bl71nemr         FLA          \n",
       "2 Danio rerio               4, 3, 9 danRer11         ZF           \n",
       "3 Xenopus laevis            6, 3, 3 Xla.v91          ALL FROGS    \n",
       "4 Gallus gallus             4, 3, 3 galGal5          CHK          \n",
       "5 Phascolarctos cinereus    2, 2, 2 phaCin_unsw_v4.1 KOA          \n",
       "6 Mus musculus              5, 4, 4 mm9              MOU          \n",
       "  data_type     thr k x   y   \n",
       "1 Misc           5  3 0.6 0.05\n",
       "2 gemBS         10  3 0.6 0.05\n",
       "3 Misc           5  7 0.6 0.05\n",
       "4 cov_and_ratio 10  3 0.6 0.05\n",
       "5 CpGreport     10  2 0.6 0.05\n",
       "6 CpG.calls.txt 10  2 0.6 0.05"
      ]
     },
     "metadata": {},
     "output_type": "display_data"
    }
   ],
   "source": [
    "head(k_res)"
   ]
  },
  {
   "cell_type": "code",
   "execution_count": 189,
   "id": "e34eddfa-1e7f-4675-a907-e2edb1b458ac",
   "metadata": {
    "tags": []
   },
   "outputs": [
    {
     "data": {
      "image/png": "[encoded data removed]",
      "text/plain": [
       "plot without title"
      ]
     },
     "metadata": {
      "image/png": {
       "height": 240,
       "width": 1200
      }
     },
     "output_type": "display_data"
    }
   ],
   "source": [
    "options(repr.plot.width = 20, repr.plot.height = 4)\n",
    "ggplot(roc_res_full, aes(x = fdr, y = tpr, color = ifRand)) + \n",
    "        geom_line(aes(group=unique_run, alpha=ifRand)) +  facet_wrap(.~species, ncol = 7) + \n",
    "    geom_text(data=auc_res,aes(x=x,y=y,\n",
    "                               label=paste0(\"ROC-AUC = \",round(mean_auc,2), \"±\", round(auc_sd, 2), \n",
    "                                            \" (\",round(AUC,2), \")\")), color = \"black\", size = 3)+\n",
    "geom_text(data=k_res,aes(x=x,y=y,\n",
    "                               label=paste0(\"k-mer length = {\",K, \"} (\", k,\")\")), color = \"black\", size = 3)+\n",
    " scale_color_manual(values=c(\"rand\"=\"grey\",\"noRand\"=\"blue\"))+\n",
    "    scale_alpha_manual(values=c(\"rand\"=0.2,\"noRand\"=1)) + \n",
    "    labs(x = \"False discovery rate\", y = \"True positive rate\") +\n",
    "    theme(text = element_text(size = 15)) + \n",
    "facet_grid(.~factor(species, levels = WGBS_species_order))\n",
    "ggsave(\"summary/WGBS_auc.pdf\", width = 20, height = 4)"
   ]
  },
  {
   "cell_type": "code",
   "execution_count": 102,
   "id": "ec0b81e3-becd-4fa6-80cf-db2897f5c1e9",
   "metadata": {},
   "outputs": [
    {
     "data": {
      "text/html": [
       "580"
      ],
      "text/latex": [
       "580"
      ],
      "text/markdown": [
       "580"
      ],
      "text/plain": [
       "[1] 580"
      ]
     },
     "metadata": {},
     "output_type": "display_data"
    }
   ],
   "source": [
    "NROW(sp_df)"
   ]
  },
  {
   "cell_type": "code",
   "execution_count": 103,
   "id": "6da214e7-13e9-48d7-91ab-181a4d313821",
   "metadata": {},
   "outputs": [
    {
     "data": {
      "text/html": [
       "45"
      ],
      "text/latex": [
       "45"
      ],
      "text/markdown": [
       "45"
      ],
      "text/plain": [
       "[1] 45"
      ]
     },
     "metadata": {},
     "output_type": "display_data"
    }
   ],
   "source": [
    "NROW(sp_df[color_class == \"Invertebrata\"])"
   ]
  },
  {
   "cell_type": "code",
   "execution_count": 104,
   "id": "8a97002e-f191-4d2e-9f74-3603bfb6e1d7",
   "metadata": {},
   "outputs": [
    {
     "data": {
      "text/html": [
       "535"
      ],
      "text/latex": [
       "535"
      ],
      "text/markdown": [
       "535"
      ],
      "text/plain": [
       "[1] 535"
      ]
     },
     "metadata": {},
     "output_type": "display_data"
    }
   ],
   "source": [
    "580 - 45"
   ]
  },
  {
   "cell_type": "code",
   "execution_count": 105,
   "id": "efcd1dc2-f8d1-4827-bcb1-654347108914",
   "metadata": {},
   "outputs": [
    {
     "data": {
      "text/html": [
       "<table class=\"dataframe\">\n",
       "<caption>A data.table: 1 × 3</caption>\n",
       "<thead>\n",
       "\t<tr><th scope=col>species</th><th scope=col>color_class</th><th scope=col>group</th></tr>\n",
       "\t<tr><th scope=col>&lt;chr&gt;</th><th scope=col>&lt;fct&gt;</th><th scope=col>&lt;fct&gt;</th></tr>\n",
       "</thead>\n",
       "<tbody>\n",
       "\t<tr><td>JL</td><td>Jawless_vertebrate</td><td>Inv.</td></tr>\n",
       "</tbody>\n",
       "</table>\n"
      ],
      "text/latex": [
       "A data.table: 1 × 3\n",
       "\\begin{tabular}{lll}\n",
       " species & color\\_class & group\\\\\n",
       " <chr> & <fct> & <fct>\\\\\n",
       "\\hline\n",
       "\t JL & Jawless\\_vertebrate & Inv.\\\\\n",
       "\\end{tabular}\n"
      ],
      "text/markdown": [
       "\n",
       "A data.table: 1 × 3\n",
       "\n",
       "| species &lt;chr&gt; | color_class &lt;fct&gt; | group &lt;fct&gt; |\n",
       "|---|---|---|\n",
       "| JL | Jawless_vertebrate | Inv. |\n",
       "\n"
      ],
      "text/plain": [
       "  species color_class        group\n",
       "1 JL      Jawless_vertebrate Inv. "
      ]
     },
     "metadata": {},
     "output_type": "display_data"
    }
   ],
   "source": [
    "sp_df[species == \"JL\"]"
   ]
  },
  {
   "cell_type": "code",
   "execution_count": null,
   "id": "cf51c5ec-2a01-4035-a3bf-f2decf163b61",
   "metadata": {},
   "outputs": [],
   "source": []
  }
 ],
 "metadata": {
  "kernelspec": {
   "display_name": "R_Zoo_SVM_4.1",
   "language": "R",
   "name": "r_zoo_svm_4.1"
  },
  "language_info": {
   "codemirror_mode": "r",
   "file_extension": ".r",
   "mimetype": "text/x-r-source",
   "name": "R",
   "pygments_lexer": "r",
   "version": "4.1.1"
  }
 },
 "nbformat": 4,
 "nbformat_minor": 5
}
