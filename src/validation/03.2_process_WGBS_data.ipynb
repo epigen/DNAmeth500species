{
 "cells": [
  {
   "cell_type": "code",
   "execution_count": 7,
   "id": "40ed4951-d587-4acb-b035-321489589e34",
   "metadata": {},
   "outputs": [],
   "source": [
    "## ---------------------------\n",
    "##\n",
    "## WGBS-based validation\n",
    "##\n",
    "## Downloading the avaliable WGBS data\n",
    "##\n",
    "## Authors: Daria Romanovskaia\n",
    "##\n",
    "## Date Created: 2021-05-20\n",
    "##\n",
    "##\n",
    "## ---------------------------"
   ]
  },
  {
   "cell_type": "code",
   "execution_count": 1,
   "id": "97f3397c-4b1f-4c42-9237-6e5062c4edc6",
   "metadata": {},
   "outputs": [
    {
     "name": "stderr",
     "output_type": "stream",
     "text": [
      "Warning message:\n",
      "“package ‘ggrepel’ was built under R version 3.6.3”\n",
      "Warning message:\n",
      "“package ‘ggseqlogo’ was built under R version 3.6.3”\n",
      "Warning message:\n",
      "“package ‘pheatmap’ was built under R version 3.6.3”\n",
      "Joining, by = \"species\"\n",
      "\n"
     ]
    }
   ],
   "source": [
    "source(file.path(Sys.getenv(\"CODEBASE\"),\"DNAmeth500species/src/00.0_init.R\"))"
   ]
  },
  {
   "cell_type": "code",
   "execution_count": 2,
   "id": "19076496",
   "metadata": {},
   "outputs": [],
   "source": [
    "##needed coverage threshold\n",
    "COV=5"
   ]
  },
  {
   "cell_type": "markdown",
   "id": "5656cef2",
   "metadata": {},
   "source": [
    "universal format: bed file, that has columns:\n",
    "chr start end strand (if exists) coverage meth_ratio "
   ]
  },
  {
   "cell_type": "code",
   "execution_count": 3,
   "id": "881c3465",
   "metadata": {},
   "outputs": [],
   "source": [
    "save_bed <- function(df, path){\n",
    "    colnames(df) <- c(\"chr\", \"start\", \"end\",\"strand\", \"coverage\", \"perc_meth_CpG\")\n",
    "    write.table(df, path, sep = \"\\t\", row.names = F, quote = F)\n",
    "}"
   ]
  },
  {
   "cell_type": "code",
   "execution_count": 4,
   "id": "25802405",
   "metadata": {},
   "outputs": [],
   "source": [
    "save_bed_nostrand <- function(df, path){\n",
    "    colnames(df) <- c(\"chr\", \"start\", \"end\",\"coverage\", \"perc_meth_CpG\")\n",
    "    write.table(df, path, sep = \"\\t\", row.names = F, quote = F)\n",
    "}"
   ]
  },
  {
   "cell_type": "markdown",
   "id": "02a1f16b-f3c3-4e37-900a-b89543a15e6c",
   "metadata": {},
   "source": [
    "all raw data is predownloaded by hand from GEO"
   ]
  },
  {
   "cell_type": "code",
   "execution_count": 5,
   "id": "674c8d8a-67d6-4587-95cc-deab47a94fc5",
   "metadata": {},
   "outputs": [],
   "source": [
    "WGBS_dir <- file.path(data_dir, \"resources\", \"WGBS_public\")"
   ]
  },
  {
   "cell_type": "code",
   "execution_count": 6,
   "id": "a7c50c42-758e-457b-a806-6b77ac41ef7c",
   "metadata": {},
   "outputs": [],
   "source": [
    "WGBS_outdir <- file.path(analysis_dir, \"validation\", \"03_WGBS\")"
   ]
  },
  {
   "cell_type": "code",
   "execution_count": 7,
   "id": "0cd35e99-a551-407a-b986-6e7bc596f152",
   "metadata": {},
   "outputs": [
    {
     "name": "stderr",
     "output_type": "stream",
     "text": [
      "Warning message in dir.create(wd):\n",
      "“'/binfl/lv71484/droman/DNAmeth500species//results_analysis/validation/03_WGBS/03.2_mean_meth' already exists”\n"
     ]
    }
   ],
   "source": [
    "wd <- file.path(WGBS_outdir, \"03.2_mean_meth\")\n",
    "dir.create(wd)\n",
    "setwd(wd)"
   ]
  },
  {
   "cell_type": "code",
   "execution_count": null,
   "id": "47ed1a69-9948-40e7-b072-8a5a578ecb88",
   "metadata": {},
   "outputs": [],
   "source": []
  },
  {
   "cell_type": "code",
   "execution_count": 6,
   "id": "6367120a-70d7-4c78-8940-472ee3145679",
   "metadata": {
    "tags": []
   },
   "outputs": [
    {
     "name": "stderr",
     "output_type": "stream",
     "text": [
      "Warning message in fread(file.path(analysis_dir, \"validation\", \"03_WGBS\", \"WGBS_RRBS_match.txt\")):\n",
      "“Discarded single-line footer: <<ASM1885937v1\tturtle\tChelydra serpentina\t\t1\t3\t3\t\t\t\t>>”\n"
     ]
    },
    {
     "data": {
      "text/html": [
       "<table class=\"dataframe\">\n",
       "<caption>A data.table: 6 × 23</caption>\n",
       "<thead>\n",
       "\t<tr><th scope=col>genome_db</th><th scope=col>organism</th><th scope=col>scientific name</th><th scope=col>n tisssues</th><th scope=col>n samples</th><th scope=col>Individuals</th><th scope=col>meth call</th><th scope=col>study link</th><th scope=col>mean methylation</th><th scope=col>prediction from sequence</th><th scope=col>⋯</th><th scope=col>genome</th><th scope=col>CG call type</th><th scope=col>Species</th><th scope=col>genomeid</th><th scope=col>description of the suppl file</th><th scope=col>meth_ratio</th><th scope=col>comment</th><th scope=col>genome_to_use</th><th scope=col>V22</th><th scope=col>V23</th></tr>\n",
       "\t<tr><th scope=col>&lt;chr&gt;</th><th scope=col>&lt;chr&gt;</th><th scope=col>&lt;chr&gt;</th><th scope=col>&lt;int&gt;</th><th scope=col>&lt;int&gt;</th><th scope=col>&lt;chr&gt;</th><th scope=col>&lt;chr&gt;</th><th scope=col>&lt;chr&gt;</th><th scope=col>&lt;chr&gt;</th><th scope=col>&lt;chr&gt;</th><th scope=col>⋯</th><th scope=col>&lt;chr&gt;</th><th scope=col>&lt;chr&gt;</th><th scope=col>&lt;chr&gt;</th><th scope=col>&lt;chr&gt;</th><th scope=col>&lt;chr&gt;</th><th scope=col>&lt;chr&gt;</th><th scope=col>&lt;chr&gt;</th><th scope=col>&lt;chr&gt;</th><th scope=col>&lt;lgl&gt;</th><th scope=col>&lt;chr&gt;</th></tr>\n",
       "</thead>\n",
       "<tbody>\n",
       "\t<tr><td>          </td><td>zebrafish 1</td><td>Danio rerio              </td><td> 4</td><td> 8</td><td>2 (potentially pooled)</td><td>no (bw)</td><td>GSE149416</td><td>yes</td><td>yes</td><td>⋯</td><td>GRCz11    </td><td>raw           </td><td>ZF </td><td>                           </td><td>                                                                                                                                                                                                                                                                                                                                                                                             </td><td>                                                                           </td><td>                          </td><td>                                                     </td><td>NA</td><td>   </td></tr>\n",
       "\t<tr><td>          </td><td>zebrafish 2</td><td>Danio rerio              </td><td>11</td><td>11</td><td>likely pooled         </td><td>no (bw)</td><td>GSE134055</td><td>yes</td><td>yes</td><td>⋯</td><td>GRCz10    </td><td>raw           </td><td>ZF </td><td>                           </td><td>                                                                                                                                                                                                                                                                                                                                                                                             </td><td>                                                                           </td><td>                          </td><td>                                                     </td><td>NA</td><td>   </td></tr>\n",
       "\t<tr><td><span style=white-space:pre-wrap>bosTau9   </span></td><td><span style=white-space:pre-wrap>cow        </span></td><td><span style=white-space:pre-wrap>bos taurus               </span></td><td>14</td><td>23</td><td><span style=white-space:pre-wrap>3                     </span></td><td><span style=white-space:pre-wrap>yes    </span></td><td>GSE147087</td><td>yes</td><td>yes</td><td>⋯</td><td>ARS-UCD1.2</td><td><span style=white-space:pre-wrap>CpG_report    </span></td><td>ANW</td><td><span style=white-space:pre-wrap>Bos_taurus                 </span></td><td><span style=white-space:pre-wrap>The column names are: chrmosome, position,strand, coverage for methylated cytosine, coverage for unmethylated cytosine, CG type, three bases near the cytosine.                                                                                                                                                                                                                              </span></td><td>filter met_count + unmeth_count &gt; 0, meth_count/(meth_count + unmeth_count)</td><td>not exact match - subgroup</td><td>https://www.ensembl.org/Bos_taurus/Info/Index?db=core</td><td>NA</td><td><span style=white-space:pre-wrap>   </span></td></tr>\n",
       "\t<tr><td><span style=white-space:pre-wrap>mm9       </span></td><td><span style=white-space:pre-wrap>mouse      </span></td><td><span style=white-space:pre-wrap>mus musculus             </span></td><td>17</td><td>17</td><td><span style=white-space:pre-wrap>1                     </span></td><td><span style=white-space:pre-wrap>yes    </span></td><td>GSE42836 </td><td>yes</td><td>yes</td><td>⋯</td><td><span style=white-space:pre-wrap>mm9       </span></td><td><span style=white-space:pre-wrap>CpG.calls     </span></td><td>MOU</td><td><span style=white-space:pre-wrap>Mus_musculus               </span></td><td><span style=white-space:pre-wrap>The processed tables indicate the number of methylated cytosines, total sequencing depth, and %mCG for each CpG dinucleotide, combined over both Watson and Crick strands                                                                                                                                                                                                                    </span></td><td><span style=white-space:pre-wrap>cov &gt;5, use %mC                                                            </span></td><td><span style=white-space:pre-wrap>                          </span></td><td><span style=white-space:pre-wrap>BSgenome.Mmusculus.UCSC.mm9                          </span></td><td>NA</td><td><span style=white-space:pre-wrap>   </span></td></tr>\n",
       "\t<tr><td>Bl71nemr_1</td><td><span style=white-space:pre-wrap>lancet 1   </span></td><td>Branchiostoma lanceolatum</td><td> 1</td><td> 1</td><td><span style=white-space:pre-wrap>1                     </span></td><td><span style=white-space:pre-wrap>yes    </span></td><td>GSE102144</td><td>yes</td><td>yes</td><td>⋯</td><td><span style=white-space:pre-wrap>Bl71nemr  </span></td><td><span style=white-space:pre-wrap>allC          </span></td><td>FLA</td><td>Branchiostoma lanceolatum_1</td><td>Column 1 - assembly (chromosome).column 2 - position: coordinate for the cytosine position on the chromosome (first base of chromosome = 0).column 3 - strand: + or - strand.column 4 - class: context of the cytosine and the two following bases from the same strand.column 5 - mc: number of reads supporting a methylated cytosine.column 6 - h: total number of reads at that position.</td><td><span style=white-space:pre-wrap>filter cov &gt; 5 and the context should be CG*                               </span></td><td><span style=white-space:pre-wrap>not exact match           </span></td><td>https://www.ncbi.nlm.nih.gov/assembly/GCA_900088365.1</td><td>NA</td><td>mou</td></tr>\n",
       "\t<tr><td><span style=white-space:pre-wrap>galGal5   </span></td><td><span style=white-space:pre-wrap>chicken 1  </span></td><td><span style=white-space:pre-wrap>Gallus gallus            </span></td><td> 4</td><td>42</td><td><span style=white-space:pre-wrap>7                     </span></td><td><span style=white-space:pre-wrap>yes    </span></td><td>GSE146620</td><td>yes</td><td>yes</td><td>⋯</td><td><span style=white-space:pre-wrap>galGal5   </span></td><td>cpg &amp; coverage</td><td>CHK</td><td><span style=white-space:pre-wrap>Gallus_gallus              </span></td><td><span style=white-space:pre-wrap>per CpG coverage and methylation ratio                                                                                                                                                                                                                                                                                                                                                       </span></td><td><span style=white-space:pre-wrap>provided, filtered: cov &gt; 5                                                </span></td><td><span style=white-space:pre-wrap>                          </span></td><td><span style=white-space:pre-wrap>BSgenome.Ggallus.UCSC.galGal5\t                      </span></td><td>NA</td><td><span style=white-space:pre-wrap>   </span></td></tr>\n",
       "</tbody>\n",
       "</table>\n"
      ],
      "text/latex": [
       "A data.table: 6 × 23\n",
       "\\begin{tabular}{lllllllllllllllllllll}\n",
       " genome\\_db & organism & scientific name & n tisssues & n samples & Individuals & meth call & study link & mean methylation & prediction from sequence & ⋯ & genome & CG call type & Species & genomeid & description of the suppl file & meth\\_ratio & comment & genome\\_to\\_use & V22 & V23\\\\\n",
       " <chr> & <chr> & <chr> & <int> & <int> & <chr> & <chr> & <chr> & <chr> & <chr> & ⋯ & <chr> & <chr> & <chr> & <chr> & <chr> & <chr> & <chr> & <chr> & <lgl> & <chr>\\\\\n",
       "\\hline\n",
       "\t            & zebrafish 1 & Danio rerio               &  4 &  8 & 2 (potentially pooled) & no (bw) & GSE149416 & yes & yes & ⋯ & GRCz11     & raw            & ZF  &                             &                                                                                                                                                                                                                                                                                                                                                                                               &                                                                             &                            &                                                       & NA &    \\\\\n",
       "\t            & zebrafish 2 & Danio rerio               & 11 & 11 & likely pooled          & no (bw) & GSE134055 & yes & yes & ⋯ & GRCz10     & raw            & ZF  &                             &                                                                                                                                                                                                                                                                                                                                                                                               &                                                                             &                            &                                                       & NA &    \\\\\n",
       "\t bosTau9    & cow         & bos taurus                & 14 & 23 & 3                      & yes     & GSE147087 & yes & yes & ⋯ & ARS-UCD1.2 & CpG\\_report     & ANW & Bos\\_taurus                  & The column names are: chrmosome, position,strand, coverage for methylated cytosine, coverage for unmethylated cytosine, CG type, three bases near the cytosine.                                                                                                                                                                                                                               & filter met\\_count + unmeth\\_count > 0, meth\\_count/(meth\\_count + unmeth\\_count) & not exact match - subgroup & https://www.ensembl.org/Bos\\_taurus/Info/Index?db=core & NA &    \\\\\n",
       "\t mm9        & mouse       & mus musculus              & 17 & 17 & 1                      & yes     & GSE42836  & yes & yes & ⋯ & mm9        & CpG.calls      & MOU & Mus\\_musculus                & The processed tables indicate the number of methylated cytosines, total sequencing depth, and \\%mCG for each CpG dinucleotide, combined over both Watson and Crick strands                                                                                                                                                                                                                     & cov >5, use \\%mC                                                             &                            & BSgenome.Mmusculus.UCSC.mm9                           & NA &    \\\\\n",
       "\t Bl71nemr\\_1 & lancet 1    & Branchiostoma lanceolatum &  1 &  1 & 1                      & yes     & GSE102144 & yes & yes & ⋯ & Bl71nemr   & allC           & FLA & Branchiostoma lanceolatum\\_1 & Column 1 - assembly (chromosome).column 2 - position: coordinate for the cytosine position on the chromosome (first base of chromosome = 0).column 3 - strand: + or - strand.column 4 - class: context of the cytosine and the two following bases from the same strand.column 5 - mc: number of reads supporting a methylated cytosine.column 6 - h: total number of reads at that position. & filter cov > 5 and the context should be CG*                                & not exact match            & https://www.ncbi.nlm.nih.gov/assembly/GCA\\_900088365.1 & NA & mou\\\\\n",
       "\t galGal5    & chicken 1   & Gallus gallus             &  4 & 42 & 7                      & yes     & GSE146620 & yes & yes & ⋯ & galGal5    & cpg \\& coverage & CHK & Gallus\\_gallus               & per CpG coverage and methylation ratio                                                                                                                                                                                                                                                                                                                                                        & provided, filtered: cov > 5                                                 &                            & BSgenome.Ggallus.UCSC.galGal5\t                       & NA &    \\\\\n",
       "\\end{tabular}\n"
      ],
      "text/markdown": [
       "\n",
       "A data.table: 6 × 23\n",
       "\n",
       "| genome_db &lt;chr&gt; | organism &lt;chr&gt; | scientific name &lt;chr&gt; | n tisssues &lt;int&gt; | n samples &lt;int&gt; | Individuals &lt;chr&gt; | meth call &lt;chr&gt; | study link &lt;chr&gt; | mean methylation &lt;chr&gt; | prediction from sequence &lt;chr&gt; | ⋯ ⋯ | genome &lt;chr&gt; | CG call type &lt;chr&gt; | Species &lt;chr&gt; | genomeid &lt;chr&gt; | description of the suppl file &lt;chr&gt; | meth_ratio &lt;chr&gt; | comment &lt;chr&gt; | genome_to_use &lt;chr&gt; | V22 &lt;lgl&gt; | V23 &lt;chr&gt; |\n",
       "|---|---|---|---|---|---|---|---|---|---|---|---|---|---|---|---|---|---|---|---|---|\n",
       "| <!----> | zebrafish 1 | Danio rerio               |  4 |  8 | 2 (potentially pooled) | no (bw) | GSE149416 | yes | yes | ⋯ | GRCz11     | raw            | ZF  | <!----> | <!----> | <!----> | <!----> | <!----> | NA | <!----> |\n",
       "| <!----> | zebrafish 2 | Danio rerio               | 11 | 11 | likely pooled          | no (bw) | GSE134055 | yes | yes | ⋯ | GRCz10     | raw            | ZF  | <!----> | <!----> | <!----> | <!----> | <!----> | NA | <!----> |\n",
       "| bosTau9    | cow         | bos taurus                | 14 | 23 | 3                      | yes     | GSE147087 | yes | yes | ⋯ | ARS-UCD1.2 | CpG_report     | ANW | Bos_taurus                  | The column names are: chrmosome, position,strand, coverage for methylated cytosine, coverage for unmethylated cytosine, CG type, three bases near the cytosine.                                                                                                                                                                                                                               | filter met_count + unmeth_count &gt; 0, meth_count/(meth_count + unmeth_count) | not exact match - subgroup | https://www.ensembl.org/Bos_taurus/Info/Index?db=core | NA | <!----> |\n",
       "| mm9        | mouse       | mus musculus              | 17 | 17 | 1                      | yes     | GSE42836  | yes | yes | ⋯ | mm9        | CpG.calls      | MOU | Mus_musculus                | The processed tables indicate the number of methylated cytosines, total sequencing depth, and %mCG for each CpG dinucleotide, combined over both Watson and Crick strands                                                                                                                                                                                                                     | cov &gt;5, use %mC                                                             | <!----> | BSgenome.Mmusculus.UCSC.mm9                           | NA | <!----> |\n",
       "| Bl71nemr_1 | lancet 1    | Branchiostoma lanceolatum |  1 |  1 | 1                      | yes     | GSE102144 | yes | yes | ⋯ | Bl71nemr   | allC           | FLA | Branchiostoma lanceolatum_1 | Column 1 - assembly (chromosome).column 2 - position: coordinate for the cytosine position on the chromosome (first base of chromosome = 0).column 3 - strand: + or - strand.column 4 - class: context of the cytosine and the two following bases from the same strand.column 5 - mc: number of reads supporting a methylated cytosine.column 6 - h: total number of reads at that position. | filter cov &gt; 5 and the context should be CG*                                | not exact match            | https://www.ncbi.nlm.nih.gov/assembly/GCA_900088365.1 | NA | mou |\n",
       "| galGal5    | chicken 1   | Gallus gallus             |  4 | 42 | 7                      | yes     | GSE146620 | yes | yes | ⋯ | galGal5    | cpg &amp; coverage | CHK | Gallus_gallus               | per CpG coverage and methylation ratio                                                                                                                                                                                                                                                                                                                                                        | provided, filtered: cov &gt; 5                                                 | <!----> | BSgenome.Ggallus.UCSC.galGal5\t                       | NA | <!----> |\n",
       "\n"
      ],
      "text/plain": [
       "  genome_db  organism    scientific name           n tisssues n samples\n",
       "1            zebrafish 1 Danio rerio                4          8       \n",
       "2            zebrafish 2 Danio rerio               11         11       \n",
       "3 bosTau9    cow         bos taurus                14         23       \n",
       "4 mm9        mouse       mus musculus              17         17       \n",
       "5 Bl71nemr_1 lancet 1    Branchiostoma lanceolatum  1          1       \n",
       "6 galGal5    chicken 1   Gallus gallus              4         42       \n",
       "  Individuals            meth call study link mean methylation\n",
       "1 2 (potentially pooled) no (bw)   GSE149416  yes             \n",
       "2 likely pooled          no (bw)   GSE134055  yes             \n",
       "3 3                      yes       GSE147087  yes             \n",
       "4 1                      yes       GSE42836   yes             \n",
       "5 1                      yes       GSE102144  yes             \n",
       "6 7                      yes       GSE146620  yes             \n",
       "  prediction from sequence ⋯ genome     CG call type   Species\n",
       "1 yes                      ⋯ GRCz11     raw            ZF     \n",
       "2 yes                      ⋯ GRCz10     raw            ZF     \n",
       "3 yes                      ⋯ ARS-UCD1.2 CpG_report     ANW    \n",
       "4 yes                      ⋯ mm9        CpG.calls      MOU    \n",
       "5 yes                      ⋯ Bl71nemr   allC           FLA    \n",
       "6 yes                      ⋯ galGal5    cpg & coverage CHK    \n",
       "  genomeid                   \n",
       "1                            \n",
       "2                            \n",
       "3 Bos_taurus                 \n",
       "4 Mus_musculus               \n",
       "5 Branchiostoma lanceolatum_1\n",
       "6 Gallus_gallus              \n",
       "  description of the suppl file                                                                                                                                                                                                                                                                                                                                                                \n",
       "1                                                                                                                                                                                                                                                                                                                                                                                              \n",
       "2                                                                                                                                                                                                                                                                                                                                                                                              \n",
       "3 The column names are: chrmosome, position,strand, coverage for methylated cytosine, coverage for unmethylated cytosine, CG type, three bases near the cytosine.                                                                                                                                                                                                                              \n",
       "4 The processed tables indicate the number of methylated cytosines, total sequencing depth, and %mCG for each CpG dinucleotide, combined over both Watson and Crick strands                                                                                                                                                                                                                    \n",
       "5 Column 1 - assembly (chromosome).column 2 - position: coordinate for the cytosine position on the chromosome (first base of chromosome = 0).column 3 - strand: + or - strand.column 4 - class: context of the cytosine and the two following bases from the same strand.column 5 - mc: number of reads supporting a methylated cytosine.column 6 - h: total number of reads at that position.\n",
       "6 per CpG coverage and methylation ratio                                                                                                                                                                                                                                                                                                                                                       \n",
       "  meth_ratio                                                                 \n",
       "1                                                                            \n",
       "2                                                                            \n",
       "3 filter met_count + unmeth_count > 0, meth_count/(meth_count + unmeth_count)\n",
       "4 cov >5, use %mC                                                            \n",
       "5 filter cov > 5 and the context should be CG*                               \n",
       "6 provided, filtered: cov > 5                                                \n",
       "  comment                   \n",
       "1                           \n",
       "2                           \n",
       "3 not exact match - subgroup\n",
       "4                           \n",
       "5 not exact match           \n",
       "6                           \n",
       "  genome_to_use                                         V22 V23\n",
       "1                                                       NA     \n",
       "2                                                       NA     \n",
       "3 https://www.ensembl.org/Bos_taurus/Info/Index?db=core NA     \n",
       "4 BSgenome.Mmusculus.UCSC.mm9                           NA     \n",
       "5 https://www.ncbi.nlm.nih.gov/assembly/GCA_900088365.1 NA  mou\n",
       "6 BSgenome.Ggallus.UCSC.galGal5\\t                       NA     "
      ]
     },
     "metadata": {},
     "output_type": "display_data"
    }
   ],
   "source": [
    "WGBS_RRBS <- fread(file.path(analysis_dir, \"validation\", \"03_WGBS\", \"WGBS_RRBS_match.txt\")) #hand-created file with available WGBS data\n",
    "head(WGBS_RRBS)"
   ]
  },
  {
   "cell_type": "code",
   "execution_count": 10,
   "id": "463e62e9-1105-4f2d-84dd-58dbc3fc61d1",
   "metadata": {},
   "outputs": [
    {
     "data": {
      "text/html": [
       "<style>\n",
       ".list-inline {list-style: none; margin:0; padding: 0}\n",
       ".list-inline>li {display: inline-block}\n",
       ".list-inline>li:not(:last-child)::after {content: \"\\00b7\"; padding: 0 .5ex}\n",
       "</style>\n",
       "<ol class=list-inline><li>'genome_db'</li><li>'organism'</li><li>'scientific name'</li><li>'n tisssues'</li><li>'n samples'</li><li>'Individuals'</li><li>'meth call'</li><li>'study link'</li><li>'mean methylation'</li><li>'prediction from sequence'</li><li>'individual vs. tissue'</li><li>'match in RRBS'</li><li>'comment'</li><li>'genome'</li><li>'CG call type'</li><li>'Species'</li><li>'genomeid'</li><li>'description of the suppl file'</li><li>'meth_ratio'</li><li>'comment'</li><li>'genome_to_use'</li><li>'V22'</li><li>'V23'</li></ol>\n"
      ],
      "text/latex": [
       "\\begin{enumerate*}\n",
       "\\item 'genome\\_db'\n",
       "\\item 'organism'\n",
       "\\item 'scientific name'\n",
       "\\item 'n tisssues'\n",
       "\\item 'n samples'\n",
       "\\item 'Individuals'\n",
       "\\item 'meth call'\n",
       "\\item 'study link'\n",
       "\\item 'mean methylation'\n",
       "\\item 'prediction from sequence'\n",
       "\\item 'individual vs. tissue'\n",
       "\\item 'match in RRBS'\n",
       "\\item 'comment'\n",
       "\\item 'genome'\n",
       "\\item 'CG call type'\n",
       "\\item 'Species'\n",
       "\\item 'genomeid'\n",
       "\\item 'description of the suppl file'\n",
       "\\item 'meth\\_ratio'\n",
       "\\item 'comment'\n",
       "\\item 'genome\\_to\\_use'\n",
       "\\item 'V22'\n",
       "\\item 'V23'\n",
       "\\end{enumerate*}\n"
      ],
      "text/markdown": [
       "1. 'genome_db'\n",
       "2. 'organism'\n",
       "3. 'scientific name'\n",
       "4. 'n tisssues'\n",
       "5. 'n samples'\n",
       "6. 'Individuals'\n",
       "7. 'meth call'\n",
       "8. 'study link'\n",
       "9. 'mean methylation'\n",
       "10. 'prediction from sequence'\n",
       "11. 'individual vs. tissue'\n",
       "12. 'match in RRBS'\n",
       "13. 'comment'\n",
       "14. 'genome'\n",
       "15. 'CG call type'\n",
       "16. 'Species'\n",
       "17. 'genomeid'\n",
       "18. 'description of the suppl file'\n",
       "19. 'meth_ratio'\n",
       "20. 'comment'\n",
       "21. 'genome_to_use'\n",
       "22. 'V22'\n",
       "23. 'V23'\n",
       "\n",
       "\n"
      ],
      "text/plain": [
       " [1] \"genome_db\"                     \"organism\"                     \n",
       " [3] \"scientific name\"               \"n tisssues\"                   \n",
       " [5] \"n samples\"                     \"Individuals\"                  \n",
       " [7] \"meth call\"                     \"study link\"                   \n",
       " [9] \"mean methylation\"              \"prediction from sequence\"     \n",
       "[11] \"individual vs. tissue\"         \"match in RRBS\"                \n",
       "[13] \"comment\"                       \"genome\"                       \n",
       "[15] \"CG call type\"                  \"Species\"                      \n",
       "[17] \"genomeid\"                      \"description of the suppl file\"\n",
       "[19] \"meth_ratio\"                    \"comment\"                      \n",
       "[21] \"genome_to_use\"                 \"V22\"                          \n",
       "[23] \"V23\"                          "
      ]
     },
     "metadata": {},
     "output_type": "display_data"
    }
   ],
   "source": [
    "colnames(WGBS_RRBS)"
   ]
  },
  {
   "cell_type": "code",
   "execution_count": 7,
   "id": "0ca146ff-344b-49d7-93b8-1dbab53f1568",
   "metadata": {},
   "outputs": [
    {
     "data": {
      "text/html": [
       "<style>\n",
       ".list-inline {list-style: none; margin:0; padding: 0}\n",
       ".list-inline>li {display: inline-block}\n",
       ".list-inline>li:not(:last-child)::after {content: \"\\00b7\"; padding: 0 .5ex}\n",
       "</style>\n",
       "<ol class=list-inline><li>'Danio rerio'</li><li>'bos taurus'</li><li>'mus musculus'</li><li>'Branchiostoma lanceolatum'</li><li>'Gallus gallus'</li><li>'Phascolarctos cinereus'</li><li>'Crassostrea gigas'</li><li>'Xenopus laevis'</li><li>'Xenopus laevis x Xenopus tropicalis'</li><li>'Monodelphis domestica'</li><li>'Ornithorhynchus anatinus'</li><li>'Callorhinchus milii'</li><li>'Lethenteron camtschaticum'</li><li>'Apis mellifera'</li><li>'Octopus bimaculoides'</li></ol>\n"
      ],
      "text/latex": [
       "\\begin{enumerate*}\n",
       "\\item 'Danio rerio'\n",
       "\\item 'bos taurus'\n",
       "\\item 'mus musculus'\n",
       "\\item 'Branchiostoma lanceolatum'\n",
       "\\item 'Gallus gallus'\n",
       "\\item 'Phascolarctos cinereus'\n",
       "\\item 'Crassostrea gigas'\n",
       "\\item 'Xenopus laevis'\n",
       "\\item 'Xenopus laevis x Xenopus tropicalis'\n",
       "\\item 'Monodelphis domestica'\n",
       "\\item 'Ornithorhynchus anatinus'\n",
       "\\item 'Callorhinchus milii'\n",
       "\\item 'Lethenteron camtschaticum'\n",
       "\\item 'Apis mellifera'\n",
       "\\item 'Octopus bimaculoides'\n",
       "\\end{enumerate*}\n"
      ],
      "text/markdown": [
       "1. 'Danio rerio'\n",
       "2. 'bos taurus'\n",
       "3. 'mus musculus'\n",
       "4. 'Branchiostoma lanceolatum'\n",
       "5. 'Gallus gallus'\n",
       "6. 'Phascolarctos cinereus'\n",
       "7. 'Crassostrea gigas'\n",
       "8. 'Xenopus laevis'\n",
       "9. 'Xenopus laevis x Xenopus tropicalis'\n",
       "10. 'Monodelphis domestica'\n",
       "11. 'Ornithorhynchus anatinus'\n",
       "12. 'Callorhinchus milii'\n",
       "13. 'Lethenteron camtschaticum'\n",
       "14. 'Apis mellifera'\n",
       "15. 'Octopus bimaculoides'\n",
       "\n",
       "\n"
      ],
      "text/plain": [
       " [1] \"Danio rerio\"                         \"bos taurus\"                         \n",
       " [3] \"mus musculus\"                        \"Branchiostoma lanceolatum\"          \n",
       " [5] \"Gallus gallus\"                       \"Phascolarctos cinereus\"             \n",
       " [7] \"Crassostrea gigas\"                   \"Xenopus laevis\"                     \n",
       " [9] \"Xenopus laevis x Xenopus tropicalis\" \"Monodelphis domestica\"              \n",
       "[11] \"Ornithorhynchus anatinus\"            \"Callorhinchus milii\"                \n",
       "[13] \"Lethenteron camtschaticum\"           \"Apis mellifera\"                     \n",
       "[15] \"Octopus bimaculoides\"               "
      ]
     },
     "metadata": {},
     "output_type": "display_data"
    }
   ],
   "source": [
    "unique(WGBS_RRBS$`scientific name`)"
   ]
  },
  {
   "cell_type": "code",
   "execution_count": 12,
   "id": "5cbb39c3-0977-4c96-8454-b60eaf0db59a",
   "metadata": {},
   "outputs": [
    {
     "data": {
      "text/html": [
       "<table class=\"dataframe\">\n",
       "<caption>A data.table: 1 × 23</caption>\n",
       "<thead>\n",
       "\t<tr><th scope=col>genome_db</th><th scope=col>organism</th><th scope=col>scientific name</th><th scope=col>n tisssues</th><th scope=col>n samples</th><th scope=col>Individuals</th><th scope=col>meth call</th><th scope=col>study link</th><th scope=col>mean methylation</th><th scope=col>prediction from sequence</th><th scope=col>⋯</th><th scope=col>genome</th><th scope=col>CG call type</th><th scope=col>Species</th><th scope=col>genomeid</th><th scope=col>description of the suppl file</th><th scope=col>meth_ratio</th><th scope=col>comment</th><th scope=col>genome_to_use</th><th scope=col>V22</th><th scope=col>V23</th></tr>\n",
       "\t<tr><th scope=col>&lt;chr&gt;</th><th scope=col>&lt;chr&gt;</th><th scope=col>&lt;chr&gt;</th><th scope=col>&lt;int&gt;</th><th scope=col>&lt;int&gt;</th><th scope=col>&lt;chr&gt;</th><th scope=col>&lt;chr&gt;</th><th scope=col>&lt;chr&gt;</th><th scope=col>&lt;chr&gt;</th><th scope=col>&lt;chr&gt;</th><th scope=col>⋯</th><th scope=col>&lt;chr&gt;</th><th scope=col>&lt;chr&gt;</th><th scope=col>&lt;chr&gt;</th><th scope=col>&lt;chr&gt;</th><th scope=col>&lt;chr&gt;</th><th scope=col>&lt;chr&gt;</th><th scope=col>&lt;chr&gt;</th><th scope=col>&lt;chr&gt;</th><th scope=col>&lt;lgl&gt;</th><th scope=col>&lt;chr&gt;</th></tr>\n",
       "</thead>\n",
       "<tbody>\n",
       "\t<tr><td>oyster.v9</td><td>oyster</td><td>Crassostrea gigas</td><td>1</td><td>2</td><td>2</td><td>yes</td><td>GSE40302</td><td>yes</td><td>yes</td><td>⋯</td><td>NA</td><td>Cdepth</td><td>PAO</td><td>Crassostrea_gigas</td><td>Tab-delimited text file that contains all of the cytosines of the whole genome, one cytosine per line. For additional details on the generation of the Cdepth files, please see the 'GSE40302_Cdepth_readme.txt' file, which is linked to the Series record as a supplementary file.</td><td>cov &gt;5 and CG context. Two replicas with a lot of additional validations are used, that I ignore</td><td></td><td>http://gigadb.org/dataset/100030</td><td>NA</td><td></td></tr>\n",
       "</tbody>\n",
       "</table>\n"
      ],
      "text/latex": [
       "A data.table: 1 × 23\n",
       "\\begin{tabular}{lllllllllllllllllllll}\n",
       " genome\\_db & organism & scientific name & n tisssues & n samples & Individuals & meth call & study link & mean methylation & prediction from sequence & ⋯ & genome & CG call type & Species & genomeid & description of the suppl file & meth\\_ratio & comment & genome\\_to\\_use & V22 & V23\\\\\n",
       " <chr> & <chr> & <chr> & <int> & <int> & <chr> & <chr> & <chr> & <chr> & <chr> & ⋯ & <chr> & <chr> & <chr> & <chr> & <chr> & <chr> & <chr> & <chr> & <lgl> & <chr>\\\\\n",
       "\\hline\n",
       "\t oyster.v9 & oyster & Crassostrea gigas & 1 & 2 & 2 & yes & GSE40302 & yes & yes & ⋯ & NA & Cdepth & PAO & Crassostrea\\_gigas & Tab-delimited text file that contains all of the cytosines of the whole genome, one cytosine per line. For additional details on the generation of the Cdepth files, please see the 'GSE40302\\_Cdepth\\_readme.txt' file, which is linked to the Series record as a supplementary file. & cov >5 and CG context. Two replicas with a lot of additional validations are used, that I ignore &  & http://gigadb.org/dataset/100030 & NA & \\\\\n",
       "\\end{tabular}\n"
      ],
      "text/markdown": [
       "\n",
       "A data.table: 1 × 23\n",
       "\n",
       "| genome_db &lt;chr&gt; | organism &lt;chr&gt; | scientific name &lt;chr&gt; | n tisssues &lt;int&gt; | n samples &lt;int&gt; | Individuals &lt;chr&gt; | meth call &lt;chr&gt; | study link &lt;chr&gt; | mean methylation &lt;chr&gt; | prediction from sequence &lt;chr&gt; | ⋯ ⋯ | genome &lt;chr&gt; | CG call type &lt;chr&gt; | Species &lt;chr&gt; | genomeid &lt;chr&gt; | description of the suppl file &lt;chr&gt; | meth_ratio &lt;chr&gt; | comment &lt;chr&gt; | genome_to_use &lt;chr&gt; | V22 &lt;lgl&gt; | V23 &lt;chr&gt; |\n",
       "|---|---|---|---|---|---|---|---|---|---|---|---|---|---|---|---|---|---|---|---|---|\n",
       "| oyster.v9 | oyster | Crassostrea gigas | 1 | 2 | 2 | yes | GSE40302 | yes | yes | ⋯ | NA | Cdepth | PAO | Crassostrea_gigas | Tab-delimited text file that contains all of the cytosines of the whole genome, one cytosine per line. For additional details on the generation of the Cdepth files, please see the 'GSE40302_Cdepth_readme.txt' file, which is linked to the Series record as a supplementary file. | cov &gt;5 and CG context. Two replicas with a lot of additional validations are used, that I ignore | <!----> | http://gigadb.org/dataset/100030 | NA | <!----> |\n",
       "\n"
      ],
      "text/plain": [
       "  genome_db organism scientific name   n tisssues n samples Individuals\n",
       "1 oyster.v9 oyster   Crassostrea gigas 1          2         2          \n",
       "  meth call study link mean methylation prediction from sequence ⋯ genome\n",
       "1 yes       GSE40302   yes              yes                      ⋯ NA    \n",
       "  CG call type Species genomeid         \n",
       "1 Cdepth       PAO     Crassostrea_gigas\n",
       "  description of the suppl file                                                                                                                                                                                                                                                       \n",
       "1 Tab-delimited text file that contains all of the cytosines of the whole genome, one cytosine per line. For additional details on the generation of the Cdepth files, please see the 'GSE40302_Cdepth_readme.txt' file, which is linked to the Series record as a supplementary file.\n",
       "  meth_ratio                                                                                      \n",
       "1 cov >5 and CG context. Two replicas with a lot of additional validations are used, that I ignore\n",
       "  comment genome_to_use                    V22 V23\n",
       "1         http://gigadb.org/dataset/100030 NA     "
      ]
     },
     "metadata": {},
     "output_type": "display_data"
    }
   ],
   "source": [
    "WGBS_RRBS[`scientific name` == \"Crassostrea gigas\"]"
   ]
  },
  {
   "cell_type": "code",
   "execution_count": null,
   "id": "f031075d-c954-4cdb-8ea5-419be36d3691",
   "metadata": {},
   "outputs": [],
   "source": []
  },
  {
   "cell_type": "markdown",
   "id": "5bf39bf0",
   "metadata": {},
   "source": [
    "## data type 1 - coverage & ratio (Gallus gallus all tissues except brain)"
   ]
  },
  {
   "cell_type": "markdown",
   "id": "e8b9a951",
   "metadata": {},
   "source": [
    "Data format: individual files with coverage and ratio values for each CpG. Tables are merged together based on the CpG location  \n",
    "**Meth. ratio is used directly, CpGs are filtered to those, that have coverage more then 5**"
   ]
  },
  {
   "cell_type": "code",
   "execution_count": 13,
   "id": "8ca72481-5a7f-4c2f-8c22-1c188fa62dca",
   "metadata": {},
   "outputs": [],
   "source": [
    "## data type 1 - coverage & ratio (Gallus gallus all tissues except brain)"
   ]
  },
  {
   "cell_type": "code",
   "execution_count": 28,
   "id": "641c092e-95f8-49e4-b79c-70ce075e8282",
   "metadata": {},
   "outputs": [],
   "source": [
    "if(!file.exists(file.path(WGBS_dir, \"galGal5\", \"WGBS_annot.csv\"))){\n",
    "    files_list <- list.files(file.path(WGBS_dir, \"Gallus_gallus\"), pattern = \"*.tsv\", recursive = T, full.names = T)\n",
    "    ## making the annotation\n",
    "    annot <- data.frame(path = files_list,\n",
    "            path_unif= as.character(sapply(files_list, function(x) gsub(\".tsv\", \".bed\",x))),\n",
    "           tissue = as.character(sapply(files_list, function(x) gsub(\"_tissue\", \"\", strsplit(x, \"/\")[[1]][10]))),\n",
    "                    replica = as.character(sapply(files_list, function(x) strsplit(strsplit(x, \"/\")[[1]][11], \"_\")[[1]][2])), \n",
    "                                                  stringsAsFactors = FALSE)\n",
    "                                           \n",
    "    ## saving the annotation\n",
    "     write.table(annot, file.path(WGBS_dir, \"Gallus_gallus\", \"WGBS_annot.csv\"), row.names = FALSE, quote = FALSE, sep = \";\")\n",
    "                                           \n",
    "}else annot <- fread(file.path(WGBS_dir, \"Gallus_gallus\", \"WGBS_annot.csv\"))\n",
    "                                           \n",
    "meth_file <- \"galGal5_GSE146620.csv\""
   ]
  },
  {
   "cell_type": "code",
   "execution_count": 30,
   "id": "695b9524-1a59-4a23-96a5-9ad512ba90b2",
   "metadata": {},
   "outputs": [
    {
     "data": {
      "text/html": [
       "<table class=\"dataframe\">\n",
       "<caption>A data.frame: 6 × 4</caption>\n",
       "<thead>\n",
       "\t<tr><th></th><th scope=col>path</th><th scope=col>path_unif</th><th scope=col>tissue</th><th scope=col>replica</th></tr>\n",
       "\t<tr><th></th><th scope=col>&lt;chr&gt;</th><th scope=col>&lt;chr&gt;</th><th scope=col>&lt;chr&gt;</th><th scope=col>&lt;chr&gt;</th></tr>\n",
       "</thead>\n",
       "<tbody>\n",
       "\t<tr><th scope=row>1</th><td>/binfl/lv71484/droman/DNAmeth500species//resources/WGBS_public/Gallus_gallus/breast_tissue/Breast_1_d34.tsv</td><td>/binfl/lv71484/droman/DNAmeth500species//resources/WGBS_public/Gallus_gallus/breast_tissue/Breast_1_d34.bed</td><td>breast</td><td>1</td></tr>\n",
       "\t<tr><th scope=row>2</th><td>/binfl/lv71484/droman/DNAmeth500species//resources/WGBS_public/Gallus_gallus/breast_tissue/Breast_2_d34.tsv</td><td>/binfl/lv71484/droman/DNAmeth500species//resources/WGBS_public/Gallus_gallus/breast_tissue/Breast_2_d34.bed</td><td>breast</td><td>2</td></tr>\n",
       "\t<tr><th scope=row>3</th><td>/binfl/lv71484/droman/DNAmeth500species//resources/WGBS_public/Gallus_gallus/breast_tissue/Breast_3_d34.tsv</td><td>/binfl/lv71484/droman/DNAmeth500species//resources/WGBS_public/Gallus_gallus/breast_tissue/Breast_3_d34.bed</td><td>breast</td><td>3</td></tr>\n",
       "\t<tr><th scope=row>4</th><td>/binfl/lv71484/droman/DNAmeth500species//resources/WGBS_public/Gallus_gallus/ileum_tissue/Ile_1_d34.tsv    </td><td>/binfl/lv71484/droman/DNAmeth500species//resources/WGBS_public/Gallus_gallus/ileum_tissue/Ile_1_d34.bed    </td><td>ileum </td><td>1</td></tr>\n",
       "\t<tr><th scope=row>5</th><td>/binfl/lv71484/droman/DNAmeth500species//resources/WGBS_public/Gallus_gallus/ileum_tissue/Ile_2_d34.tsv    </td><td>/binfl/lv71484/droman/DNAmeth500species//resources/WGBS_public/Gallus_gallus/ileum_tissue/Ile_2_d34.bed    </td><td>ileum </td><td>2</td></tr>\n",
       "\t<tr><th scope=row>6</th><td>/binfl/lv71484/droman/DNAmeth500species//resources/WGBS_public/Gallus_gallus/ileum_tissue/Ile_3_d34.tsv    </td><td>/binfl/lv71484/droman/DNAmeth500species//resources/WGBS_public/Gallus_gallus/ileum_tissue/Ile_3_d34.bed    </td><td>ileum </td><td>3</td></tr>\n",
       "</tbody>\n",
       "</table>\n"
      ],
      "text/latex": [
       "A data.frame: 6 × 4\n",
       "\\begin{tabular}{r|llll}\n",
       "  & path & path\\_unif & tissue & replica\\\\\n",
       "  & <chr> & <chr> & <chr> & <chr>\\\\\n",
       "\\hline\n",
       "\t1 & /binfl/lv71484/droman/DNAmeth500species//resources/WGBS\\_public/Gallus\\_gallus/breast\\_tissue/Breast\\_1\\_d34.tsv & /binfl/lv71484/droman/DNAmeth500species//resources/WGBS\\_public/Gallus\\_gallus/breast\\_tissue/Breast\\_1\\_d34.bed & breast & 1\\\\\n",
       "\t2 & /binfl/lv71484/droman/DNAmeth500species//resources/WGBS\\_public/Gallus\\_gallus/breast\\_tissue/Breast\\_2\\_d34.tsv & /binfl/lv71484/droman/DNAmeth500species//resources/WGBS\\_public/Gallus\\_gallus/breast\\_tissue/Breast\\_2\\_d34.bed & breast & 2\\\\\n",
       "\t3 & /binfl/lv71484/droman/DNAmeth500species//resources/WGBS\\_public/Gallus\\_gallus/breast\\_tissue/Breast\\_3\\_d34.tsv & /binfl/lv71484/droman/DNAmeth500species//resources/WGBS\\_public/Gallus\\_gallus/breast\\_tissue/Breast\\_3\\_d34.bed & breast & 3\\\\\n",
       "\t4 & /binfl/lv71484/droman/DNAmeth500species//resources/WGBS\\_public/Gallus\\_gallus/ileum\\_tissue/Ile\\_1\\_d34.tsv     & /binfl/lv71484/droman/DNAmeth500species//resources/WGBS\\_public/Gallus\\_gallus/ileum\\_tissue/Ile\\_1\\_d34.bed     & ileum  & 1\\\\\n",
       "\t5 & /binfl/lv71484/droman/DNAmeth500species//resources/WGBS\\_public/Gallus\\_gallus/ileum\\_tissue/Ile\\_2\\_d34.tsv     & /binfl/lv71484/droman/DNAmeth500species//resources/WGBS\\_public/Gallus\\_gallus/ileum\\_tissue/Ile\\_2\\_d34.bed     & ileum  & 2\\\\\n",
       "\t6 & /binfl/lv71484/droman/DNAmeth500species//resources/WGBS\\_public/Gallus\\_gallus/ileum\\_tissue/Ile\\_3\\_d34.tsv     & /binfl/lv71484/droman/DNAmeth500species//resources/WGBS\\_public/Gallus\\_gallus/ileum\\_tissue/Ile\\_3\\_d34.bed     & ileum  & 3\\\\\n",
       "\\end{tabular}\n"
      ],
      "text/markdown": [
       "\n",
       "A data.frame: 6 × 4\n",
       "\n",
       "| <!--/--> | path &lt;chr&gt; | path_unif &lt;chr&gt; | tissue &lt;chr&gt; | replica &lt;chr&gt; |\n",
       "|---|---|---|---|---|\n",
       "| 1 | /binfl/lv71484/droman/DNAmeth500species//resources/WGBS_public/Gallus_gallus/breast_tissue/Breast_1_d34.tsv | /binfl/lv71484/droman/DNAmeth500species//resources/WGBS_public/Gallus_gallus/breast_tissue/Breast_1_d34.bed | breast | 1 |\n",
       "| 2 | /binfl/lv71484/droman/DNAmeth500species//resources/WGBS_public/Gallus_gallus/breast_tissue/Breast_2_d34.tsv | /binfl/lv71484/droman/DNAmeth500species//resources/WGBS_public/Gallus_gallus/breast_tissue/Breast_2_d34.bed | breast | 2 |\n",
       "| 3 | /binfl/lv71484/droman/DNAmeth500species//resources/WGBS_public/Gallus_gallus/breast_tissue/Breast_3_d34.tsv | /binfl/lv71484/droman/DNAmeth500species//resources/WGBS_public/Gallus_gallus/breast_tissue/Breast_3_d34.bed | breast | 3 |\n",
       "| 4 | /binfl/lv71484/droman/DNAmeth500species//resources/WGBS_public/Gallus_gallus/ileum_tissue/Ile_1_d34.tsv     | /binfl/lv71484/droman/DNAmeth500species//resources/WGBS_public/Gallus_gallus/ileum_tissue/Ile_1_d34.bed     | ileum  | 1 |\n",
       "| 5 | /binfl/lv71484/droman/DNAmeth500species//resources/WGBS_public/Gallus_gallus/ileum_tissue/Ile_2_d34.tsv     | /binfl/lv71484/droman/DNAmeth500species//resources/WGBS_public/Gallus_gallus/ileum_tissue/Ile_2_d34.bed     | ileum  | 2 |\n",
       "| 6 | /binfl/lv71484/droman/DNAmeth500species//resources/WGBS_public/Gallus_gallus/ileum_tissue/Ile_3_d34.tsv     | /binfl/lv71484/droman/DNAmeth500species//resources/WGBS_public/Gallus_gallus/ileum_tissue/Ile_3_d34.bed     | ileum  | 3 |\n",
       "\n"
      ],
      "text/plain": [
       "  path                                                                                                       \n",
       "1 /binfl/lv71484/droman/DNAmeth500species//resources/WGBS_public/Gallus_gallus/breast_tissue/Breast_1_d34.tsv\n",
       "2 /binfl/lv71484/droman/DNAmeth500species//resources/WGBS_public/Gallus_gallus/breast_tissue/Breast_2_d34.tsv\n",
       "3 /binfl/lv71484/droman/DNAmeth500species//resources/WGBS_public/Gallus_gallus/breast_tissue/Breast_3_d34.tsv\n",
       "4 /binfl/lv71484/droman/DNAmeth500species//resources/WGBS_public/Gallus_gallus/ileum_tissue/Ile_1_d34.tsv    \n",
       "5 /binfl/lv71484/droman/DNAmeth500species//resources/WGBS_public/Gallus_gallus/ileum_tissue/Ile_2_d34.tsv    \n",
       "6 /binfl/lv71484/droman/DNAmeth500species//resources/WGBS_public/Gallus_gallus/ileum_tissue/Ile_3_d34.tsv    \n",
       "  path_unif                                                                                                  \n",
       "1 /binfl/lv71484/droman/DNAmeth500species//resources/WGBS_public/Gallus_gallus/breast_tissue/Breast_1_d34.bed\n",
       "2 /binfl/lv71484/droman/DNAmeth500species//resources/WGBS_public/Gallus_gallus/breast_tissue/Breast_2_d34.bed\n",
       "3 /binfl/lv71484/droman/DNAmeth500species//resources/WGBS_public/Gallus_gallus/breast_tissue/Breast_3_d34.bed\n",
       "4 /binfl/lv71484/droman/DNAmeth500species//resources/WGBS_public/Gallus_gallus/ileum_tissue/Ile_1_d34.bed    \n",
       "5 /binfl/lv71484/droman/DNAmeth500species//resources/WGBS_public/Gallus_gallus/ileum_tissue/Ile_2_d34.bed    \n",
       "6 /binfl/lv71484/droman/DNAmeth500species//resources/WGBS_public/Gallus_gallus/ileum_tissue/Ile_3_d34.bed    \n",
       "  tissue replica\n",
       "1 breast 1      \n",
       "2 breast 2      \n",
       "3 breast 3      \n",
       "4 ileum  1      \n",
       "5 ileum  2      \n",
       "6 ileum  3      "
      ]
     },
     "metadata": {},
     "output_type": "display_data"
    }
   ],
   "source": [
    "head(annot)"
   ]
  },
  {
   "cell_type": "code",
   "execution_count": 10,
   "id": "116e3c96",
   "metadata": {
    "tags": []
   },
   "outputs": [],
   "source": [
    "if(!file.exists(meth_file)){\n",
    "mean_ratio = data.table()\n",
    "for(i in c(1:NROW(annot))){\n",
    "    print(annot$path[[i]])\n",
    "    df <- fread(annot$path[[i]])\n",
    "    print(NROW(df))\n",
    "    ### saving the dataframe in the universal format (coverage threshold 0)\n",
    "    save_bed_nostrand(df[cov>0, c(\"chr\", \"start\", \"end\", \"cov\", \"ratio\")], annot$path_unif[[i]])\n",
    "    ## filtering by the COV threshold\n",
    "    df_sub <- df[df$cov > COV, ]\n",
    "    print(NROW(df_sub))\n",
    "    mean_ratio <- rbind(mean_ratio, data.frame(path = as.character(annot$path[[i]]), mean_ratio = mean(df_sub$ratio)))\n",
    "}\n",
    "mean_ratio <- left_join(mean_ratio, annot)\n",
    "write.table(mean_ratio, meth_file, sep = \";\", quote = F, row.names = F)\n",
    "}else mean_ratio <- fread(meth_file)"
   ]
  },
  {
   "cell_type": "code",
   "execution_count": 11,
   "id": "b0028a34-823b-4eed-8341-f88571f0c0e6",
   "metadata": {},
   "outputs": [
    {
     "data": {
      "text/html": [
       "<table class=\"dataframe\">\n",
       "<caption>A data.table: 6 × 5</caption>\n",
       "<thead>\n",
       "\t<tr><th scope=col>path</th><th scope=col>mean_ratio</th><th scope=col>path_unif</th><th scope=col>tissue</th><th scope=col>replica</th></tr>\n",
       "\t<tr><th scope=col>&lt;chr&gt;</th><th scope=col>&lt;dbl&gt;</th><th scope=col>&lt;chr&gt;</th><th scope=col>&lt;chr&gt;</th><th scope=col>&lt;int&gt;</th></tr>\n",
       "</thead>\n",
       "<tbody>\n",
       "\t<tr><td>/binfl/lv71484/droman/DNAmeth500species//resources/WGBS_public/galGal5/breast_tissue/Breast_1_d34.tsv</td><td>0.5531137</td><td>/binfl/lv71484/droman/DNAmeth500species//resources/WGBS_public/galGal5/breast_tissue/Breast_1_d34.bed</td><td>breast</td><td>1</td></tr>\n",
       "\t<tr><td>/binfl/lv71484/droman/DNAmeth500species//resources/WGBS_public/galGal5/breast_tissue/Breast_2_d34.tsv</td><td>0.5488356</td><td>/binfl/lv71484/droman/DNAmeth500species//resources/WGBS_public/galGal5/breast_tissue/Breast_2_d34.bed</td><td>breast</td><td>2</td></tr>\n",
       "\t<tr><td>/binfl/lv71484/droman/DNAmeth500species//resources/WGBS_public/galGal5/breast_tissue/Breast_3_d34.tsv</td><td>0.5383291</td><td>/binfl/lv71484/droman/DNAmeth500species//resources/WGBS_public/galGal5/breast_tissue/Breast_3_d34.bed</td><td>breast</td><td>3</td></tr>\n",
       "\t<tr><td>/binfl/lv71484/droman/DNAmeth500species//resources/WGBS_public/galGal5/ileum_tissue/Ile_1_d34.tsv    </td><td>0.5615610</td><td>/binfl/lv71484/droman/DNAmeth500species//resources/WGBS_public/galGal5/ileum_tissue/Ile_1_d34.bed    </td><td>ileum </td><td>1</td></tr>\n",
       "\t<tr><td>/binfl/lv71484/droman/DNAmeth500species//resources/WGBS_public/galGal5/ileum_tissue/Ile_2_d34.tsv    </td><td>0.5554912</td><td>/binfl/lv71484/droman/DNAmeth500species//resources/WGBS_public/galGal5/ileum_tissue/Ile_2_d34.bed    </td><td>ileum </td><td>2</td></tr>\n",
       "\t<tr><td>/binfl/lv71484/droman/DNAmeth500species//resources/WGBS_public/galGal5/ileum_tissue/Ile_3_d34.tsv    </td><td>0.5545240</td><td>/binfl/lv71484/droman/DNAmeth500species//resources/WGBS_public/galGal5/ileum_tissue/Ile_3_d34.bed    </td><td>ileum </td><td>3</td></tr>\n",
       "</tbody>\n",
       "</table>\n"
      ],
      "text/latex": [
       "A data.table: 6 × 5\n",
       "\\begin{tabular}{lllll}\n",
       " path & mean\\_ratio & path\\_unif & tissue & replica\\\\\n",
       " <chr> & <dbl> & <chr> & <chr> & <int>\\\\\n",
       "\\hline\n",
       "\t /binfl/lv71484/droman/DNAmeth500species//resources/WGBS\\_public/galGal5/breast\\_tissue/Breast\\_1\\_d34.tsv & 0.5531137 & /binfl/lv71484/droman/DNAmeth500species//resources/WGBS\\_public/galGal5/breast\\_tissue/Breast\\_1\\_d34.bed & breast & 1\\\\\n",
       "\t /binfl/lv71484/droman/DNAmeth500species//resources/WGBS\\_public/galGal5/breast\\_tissue/Breast\\_2\\_d34.tsv & 0.5488356 & /binfl/lv71484/droman/DNAmeth500species//resources/WGBS\\_public/galGal5/breast\\_tissue/Breast\\_2\\_d34.bed & breast & 2\\\\\n",
       "\t /binfl/lv71484/droman/DNAmeth500species//resources/WGBS\\_public/galGal5/breast\\_tissue/Breast\\_3\\_d34.tsv & 0.5383291 & /binfl/lv71484/droman/DNAmeth500species//resources/WGBS\\_public/galGal5/breast\\_tissue/Breast\\_3\\_d34.bed & breast & 3\\\\\n",
       "\t /binfl/lv71484/droman/DNAmeth500species//resources/WGBS\\_public/galGal5/ileum\\_tissue/Ile\\_1\\_d34.tsv     & 0.5615610 & /binfl/lv71484/droman/DNAmeth500species//resources/WGBS\\_public/galGal5/ileum\\_tissue/Ile\\_1\\_d34.bed     & ileum  & 1\\\\\n",
       "\t /binfl/lv71484/droman/DNAmeth500species//resources/WGBS\\_public/galGal5/ileum\\_tissue/Ile\\_2\\_d34.tsv     & 0.5554912 & /binfl/lv71484/droman/DNAmeth500species//resources/WGBS\\_public/galGal5/ileum\\_tissue/Ile\\_2\\_d34.bed     & ileum  & 2\\\\\n",
       "\t /binfl/lv71484/droman/DNAmeth500species//resources/WGBS\\_public/galGal5/ileum\\_tissue/Ile\\_3\\_d34.tsv     & 0.5545240 & /binfl/lv71484/droman/DNAmeth500species//resources/WGBS\\_public/galGal5/ileum\\_tissue/Ile\\_3\\_d34.bed     & ileum  & 3\\\\\n",
       "\\end{tabular}\n"
      ],
      "text/markdown": [
       "\n",
       "A data.table: 6 × 5\n",
       "\n",
       "| path &lt;chr&gt; | mean_ratio &lt;dbl&gt; | path_unif &lt;chr&gt; | tissue &lt;chr&gt; | replica &lt;int&gt; |\n",
       "|---|---|---|---|---|\n",
       "| /binfl/lv71484/droman/DNAmeth500species//resources/WGBS_public/galGal5/breast_tissue/Breast_1_d34.tsv | 0.5531137 | /binfl/lv71484/droman/DNAmeth500species//resources/WGBS_public/galGal5/breast_tissue/Breast_1_d34.bed | breast | 1 |\n",
       "| /binfl/lv71484/droman/DNAmeth500species//resources/WGBS_public/galGal5/breast_tissue/Breast_2_d34.tsv | 0.5488356 | /binfl/lv71484/droman/DNAmeth500species//resources/WGBS_public/galGal5/breast_tissue/Breast_2_d34.bed | breast | 2 |\n",
       "| /binfl/lv71484/droman/DNAmeth500species//resources/WGBS_public/galGal5/breast_tissue/Breast_3_d34.tsv | 0.5383291 | /binfl/lv71484/droman/DNAmeth500species//resources/WGBS_public/galGal5/breast_tissue/Breast_3_d34.bed | breast | 3 |\n",
       "| /binfl/lv71484/droman/DNAmeth500species//resources/WGBS_public/galGal5/ileum_tissue/Ile_1_d34.tsv     | 0.5615610 | /binfl/lv71484/droman/DNAmeth500species//resources/WGBS_public/galGal5/ileum_tissue/Ile_1_d34.bed     | ileum  | 1 |\n",
       "| /binfl/lv71484/droman/DNAmeth500species//resources/WGBS_public/galGal5/ileum_tissue/Ile_2_d34.tsv     | 0.5554912 | /binfl/lv71484/droman/DNAmeth500species//resources/WGBS_public/galGal5/ileum_tissue/Ile_2_d34.bed     | ileum  | 2 |\n",
       "| /binfl/lv71484/droman/DNAmeth500species//resources/WGBS_public/galGal5/ileum_tissue/Ile_3_d34.tsv     | 0.5545240 | /binfl/lv71484/droman/DNAmeth500species//resources/WGBS_public/galGal5/ileum_tissue/Ile_3_d34.bed     | ileum  | 3 |\n",
       "\n"
      ],
      "text/plain": [
       "  path                                                                                                 \n",
       "1 /binfl/lv71484/droman/DNAmeth500species//resources/WGBS_public/galGal5/breast_tissue/Breast_1_d34.tsv\n",
       "2 /binfl/lv71484/droman/DNAmeth500species//resources/WGBS_public/galGal5/breast_tissue/Breast_2_d34.tsv\n",
       "3 /binfl/lv71484/droman/DNAmeth500species//resources/WGBS_public/galGal5/breast_tissue/Breast_3_d34.tsv\n",
       "4 /binfl/lv71484/droman/DNAmeth500species//resources/WGBS_public/galGal5/ileum_tissue/Ile_1_d34.tsv    \n",
       "5 /binfl/lv71484/droman/DNAmeth500species//resources/WGBS_public/galGal5/ileum_tissue/Ile_2_d34.tsv    \n",
       "6 /binfl/lv71484/droman/DNAmeth500species//resources/WGBS_public/galGal5/ileum_tissue/Ile_3_d34.tsv    \n",
       "  mean_ratio\n",
       "1 0.5531137 \n",
       "2 0.5488356 \n",
       "3 0.5383291 \n",
       "4 0.5615610 \n",
       "5 0.5554912 \n",
       "6 0.5545240 \n",
       "  path_unif                                                                                            \n",
       "1 /binfl/lv71484/droman/DNAmeth500species//resources/WGBS_public/galGal5/breast_tissue/Breast_1_d34.bed\n",
       "2 /binfl/lv71484/droman/DNAmeth500species//resources/WGBS_public/galGal5/breast_tissue/Breast_2_d34.bed\n",
       "3 /binfl/lv71484/droman/DNAmeth500species//resources/WGBS_public/galGal5/breast_tissue/Breast_3_d34.bed\n",
       "4 /binfl/lv71484/droman/DNAmeth500species//resources/WGBS_public/galGal5/ileum_tissue/Ile_1_d34.bed    \n",
       "5 /binfl/lv71484/droman/DNAmeth500species//resources/WGBS_public/galGal5/ileum_tissue/Ile_2_d34.bed    \n",
       "6 /binfl/lv71484/droman/DNAmeth500species//resources/WGBS_public/galGal5/ileum_tissue/Ile_3_d34.bed    \n",
       "  tissue replica\n",
       "1 breast 1      \n",
       "2 breast 2      \n",
       "3 breast 3      \n",
       "4 ileum  1      \n",
       "5 ileum  2      \n",
       "6 ileum  3      "
      ]
     },
     "metadata": {},
     "output_type": "display_data"
    }
   ],
   "source": [
    "head(mean_ratio)"
   ]
  },
  {
   "cell_type": "code",
   "execution_count": 43,
   "id": "2e6e48ad",
   "metadata": {},
   "outputs": [],
   "source": []
  },
  {
   "cell_type": "code",
   "execution_count": 44,
   "id": "6d1c3abc",
   "metadata": {},
   "outputs": [
    {
     "data": {
      "image/png": "[encoded data removed]",
      "text/plain": [
       "plot without title"
      ]
     },
     "metadata": {
      "image/png": {
       "height": 420,
       "width": 420
      }
     },
     "output_type": "display_data"
    }
   ],
   "source": [
    "ggplot(mean_ratio, aes(x = tissue, y = mean_ratio, color = replica)) + geom_point(size = 5) + theme_bw() + \n",
    "theme(text = element_text(size = 20))\n",
    "ggsave(gsub(\"csv\", \"pdf\", meth_file), width = 6, height = 4)"
   ]
  },
  {
   "cell_type": "markdown",
   "id": "28630090",
   "metadata": {},
   "source": [
    "## data type 2 - CpG reports"
   ]
  },
  {
   "cell_type": "markdown",
   "id": "f971e601",
   "metadata": {},
   "source": [
    "Data format: Bismark cytosine report tab-delimited text files including chromosome, position, strand, methylated read count, unmethylated read count, cytosine context, and trinucleotide context.  **The methylation ratio is calculated as the mehylation count divided by the sum of the methylated and unmethylated counts (total) for each CpG, where total count is > 0.**"
   ]
  },
  {
   "cell_type": "markdown",
   "id": "0ca40e37",
   "metadata": {},
   "source": [
    "### Koala:"
   ]
  },
  {
   "cell_type": "code",
   "execution_count": 68,
   "id": "023981d5",
   "metadata": {},
   "outputs": [],
   "source": [
    "if(!file.exists(file.path(WGBS_dir, \"Phascolarctos_cinereus\", \"WGBS_annot.csv\"))){\n",
    "files_list <- list.files(file.path(WGBS_dir, \"Phascolarctos_cinereus\"), pattern = \"*CpG_report.txt\", recursive = T, full.names = T)\n",
    "annot <- data.frame(path = files_list, \n",
    "            path_unif= as.character(sapply(files_list, function(x) gsub(\"_CpG_report.txt\", \".bed\",x))),\n",
    "           tissue = as.character(sapply(files_list, function(x) strsplit(x, \"/\")[[1]][10])),\n",
    "           replica = as.character(sapply(files_list, function(x) ifelse(length(grep(\"PC\", x))==1, 1,2))), stringsAsFactors = FALSE)\n",
    "write.table(annot, file.path(WGBS_dir, \"Phascolarctos_cinereus\", \"WGBS_annot.csv\"), \n",
    "            row.names = FALSE, quote = FALSE, sep = \";\")\n",
    "}else annot <- fread(file.path(WGBS_dir, \"Phascolarctos_cinereus\", \"WGBS_annot.csv\"))"
   ]
  },
  {
   "cell_type": "markdown",
   "id": "bfd489e3",
   "metadata": {},
   "source": [
    "Labeling the PC koala as replica 1, and the Ben - as replica 2"
   ]
  },
  {
   "cell_type": "code",
   "execution_count": 13,
   "id": "f0fa88cc-1e23-40cf-9e20-ec5063539e2f",
   "metadata": {},
   "outputs": [],
   "source": [
    "meth_file <- \"phaCin_unsw_v4.1_GSE149600.csv\""
   ]
  },
  {
   "cell_type": "code",
   "execution_count": 14,
   "id": "99148f88-81a9-4254-8e8f-9f382e87b163",
   "metadata": {},
   "outputs": [
    {
     "data": {
      "text/html": [
       "TRUE"
      ],
      "text/latex": [
       "TRUE"
      ],
      "text/markdown": [
       "TRUE"
      ],
      "text/plain": [
       "[1] TRUE"
      ]
     },
     "metadata": {},
     "output_type": "display_data"
    }
   ],
   "source": [
    "file.exists(meth_file)"
   ]
  },
  {
   "cell_type": "code",
   "execution_count": 52,
   "id": "1cd7dacc",
   "metadata": {
    "collapsed": true,
    "jupyter": {
     "outputs_hidden": true
    },
    "tags": []
   },
   "outputs": [
    {
     "name": "stdout",
     "output_type": "stream",
     "text": [
      "[1] \"/binfl/lv71484/droman/DNAmeth500species//resources/WGBS_public/phaCin_unsw_v4.1/kidney/GSM4505502_WGM145_06_S3_kidney_PC_CpG_report.txt\"\n",
      "[1] 33523543\n",
      "[1] 16195533\n",
      "[1] \"/binfl/lv71484/droman/DNAmeth500species//resources/WGBS_public/phaCin_unsw_v4.1/kidney/GSM4505503_WGM145_08_S4_kidney_Ben_CpG_report.txt\"\n",
      "[1] 33523543\n",
      "[1] 15700025\n",
      "[1] \"/binfl/lv71484/droman/DNAmeth500species//resources/WGBS_public/phaCin_unsw_v4.1/lung/GSM4505504_WGM145_09_S5_lung_PC_CpG_report.txt\"\n",
      "[1] 33523543\n",
      "[1] 16753744\n",
      "[1] \"/binfl/lv71484/droman/DNAmeth500species//resources/WGBS_public/phaCin_unsw_v4.1/lung/GSM4505505_WGM145_12_S6_lung_Ben_CpG_report.txt\"\n",
      "[1] 33523543\n",
      "[1] 15345066\n",
      "[1] \"/binfl/lv71484/droman/DNAmeth500species//resources/WGBS_public/phaCin_unsw_v4.1/pancreas/GSM4505508_WGM145_19_S9_pancreas_PC_CpG_report.txt\"\n",
      "[1] 33523543\n",
      "[1] 11841532\n",
      "[1] \"/binfl/lv71484/droman/DNAmeth500species//resources/WGBS_public/phaCin_unsw_v4.1/pancreas/GSM4505509_WGM145_20_S10_pancreas_Ben_CpG_report.txt\"\n",
      "[1] 33523543\n",
      "[1] 12816607\n",
      "[1] \"/binfl/lv71484/droman/DNAmeth500species//resources/WGBS_public/phaCin_unsw_v4.1/Right_hemisphere_cerebral_lobe/GSM4505500_WGM145_01_S1_brain_PC_CpG_report.txt\"\n",
      "[1] 33523543\n",
      "[1] 16872004\n",
      "[1] \"/binfl/lv71484/droman/DNAmeth500species//resources/WGBS_public/phaCin_unsw_v4.1/Right_hemisphere_cerebral_lobe/GSM4505501_WGM145_04_S2_brain_Ben_CpG_report.txt\"\n",
      "[1] 33523543\n",
      "[1] 17450493\n",
      "[1] \"/binfl/lv71484/droman/DNAmeth500species//resources/WGBS_public/phaCin_unsw_v4.1/skeletal_muscle/GSM4505506_WGM145_14_S7_skeletal_muscle_PC_CpG_report.txt\"\n",
      "[1] 33523543\n",
      "[1] 13330905\n",
      "[1] \"/binfl/lv71484/droman/DNAmeth500species//resources/WGBS_public/phaCin_unsw_v4.1/skeletal_muscle/GSM4505507_WGM145_16_S8_skeletal_muscle_Ben_CpG_report.txt\"\n",
      "[1] 33523543\n",
      "[1] 13642676\n"
     ]
    },
    {
     "name": "stderr",
     "output_type": "stream",
     "text": [
      "Joining, by = \"path\"\n",
      "\n"
     ]
    }
   ],
   "source": [
    "if(!file.exists(meth_file)){\n",
    "mean_ratio = data.table()\n",
    "for(i in c(1:NROW(annot))){\n",
    "    print(annot$path[[i]])\n",
    "    df <- fread(annot$path[[i]])\n",
    "    print(NROW(df))\n",
    "    colnames(df) <- c(\"chr\", \"position\", \"strand\", \"meth_count\", \"unmeth_count\", \"cytosine_context\", \"trinucleotide_context\")\n",
    "    df <- df[df$cytosine_context == \"CG\", ]\n",
    "    df_f <- df %>% mutate(total_count = meth_count + unmeth_count) %>%\n",
    "        filter(total_count > 0) %>%\n",
    "        mutate(meth_ratio = meth_count/total_count, end = position + 1)\n",
    "    save_bed(df_f[,c(\"chr\", \"position\", \"end\", \"strand\", \"total_count\", \"meth_ratio\")], annot$path_unif[[i]])\n",
    "    df_f <- df_f %>% filter(total_count > COV)\n",
    "    print(NROW(df_f))\n",
    "    mean_ratio <- rbind(mean_ratio, data.frame(path = as.character(annot$path[[i]]), mean_ratio = mean(df_f$meth_ratio, na.rm = T)))\n",
    "}\n",
    "mean_ratio <- left_join(mean_ratio, annot)\n",
    "write.table(mean_ratio, meth_file, sep = \";\", quote = F, row.names = F)\n",
    "}else mean_ratio <- fread(meth_file)"
   ]
  },
  {
   "cell_type": "code",
   "execution_count": 12,
   "id": "3e89efa6",
   "metadata": {},
   "outputs": [
    {
     "data": {
      "image/png": "[encoded data removed]",
      "text/plain": [
       "plot without title"
      ]
     },
     "metadata": {
      "image/png": {
       "height": 420,
       "width": 600
      }
     },
     "output_type": "display_data"
    }
   ],
   "source": [
    "options(repr.plot.width = 10)\n",
    "ggplot(mean_ratio, aes(x = tissue, y = mean_ratio, color = as.factor(replica))) + geom_point(size = 5) + \n",
    "                            theme_bw() + theme(text = element_text(size = 20), axis.text.x = element_text(angle = 45, hjust = 1))\n",
    "ggsave(gsub(\"csv\", \"pdf\", meth_file), width = 6, height = 4)"
   ]
  },
  {
   "cell_type": "markdown",
   "id": "1b361655",
   "metadata": {},
   "source": [
    "### cow"
   ]
  },
  {
   "cell_type": "code",
   "execution_count": 26,
   "id": "c012d845-cb39-4c41-ba9a-9a004914da69",
   "metadata": {},
   "outputs": [],
   "source": [
    "if(!file.exists(file.path(WGBS_dir, \"Bos_taurus\",\"WGBS_annot.csv\"))){\n",
    "    files_list <- list.files(file.path(WGBS_dir, \"Bos_taurus\"), pattern = \"*CpG_report.txt\", recursive = T, full.names = T)\n",
    "    annot <- data.frame(path = files_list, \n",
    "            path_unif= as.character(sapply(files_list, function(x) gsub(\".CpG_report.txt\", \".bed\",x))),\n",
    "           tissue = as.character(sapply(files_list, function(x) strsplit(x, \"/\")[[1]][10])),\n",
    "           replica = as.character(sapply(files_list, function(x) strsplit(x, \"_\")[[1]][4] )), stringsAsFactors = FALSE)\n",
    "    write.table(annot, file.path(WGBS_dir, \"Bos_taurus\",\"WGBS_annot.csv\"), row.names = FALSE, quote = FALSE, sep = \";\")\n",
    "}else annot <- fread(file.path(WGBS_dir, \"Bos_taurus\",\"WGBS_annot.csv\"))\n",
    "                                         \n",
    "meth_file <- \"bosTau9_GSE147087.csv\"                                         "
   ]
  },
  {
   "cell_type": "code",
   "execution_count": 56,
   "id": "bd21f58d-7d5b-454e-8658-fd107f927208",
   "metadata": {},
   "outputs": [],
   "source": [
    "meth_file <- \"bosTau9_GSE147087.csv\""
   ]
  },
  {
   "cell_type": "code",
   "execution_count": 15,
   "id": "0561af05-2dda-4881-b01f-e86a8a322e4f",
   "metadata": {},
   "outputs": [
    {
     "data": {
      "text/html": [
       "TRUE"
      ],
      "text/latex": [
       "TRUE"
      ],
      "text/markdown": [
       "TRUE"
      ],
      "text/plain": [
       "[1] TRUE"
      ]
     },
     "metadata": {},
     "output_type": "display_data"
    }
   ],
   "source": [
    "file.exists(meth_file)"
   ]
  },
  {
   "cell_type": "code",
   "execution_count": null,
   "id": "25041239",
   "metadata": {
    "tags": []
   },
   "outputs": [],
   "source": [
    "if(!file.exists(meth_file)){\n",
    "mean_ratio = data.table()\n",
    "for(i in c(1:NROW(annot))){\n",
    "    print(annot$path[[i]])\n",
    "    df <- fread(annot$path[[i]])\n",
    "    print(NROW(df))\n",
    "    colnames(df) <- c(\"chr\", \"position\", \"strand\", \"meth_count\", \"unmeth_count\", \"cytosine_context\", \"trinucleotide_context\")\n",
    "    df <- df[df$cytosine_context == \"CG\", ]\n",
    "    df_f <- df %>% mutate(total_count = meth_count + unmeth_count) %>%\n",
    "        filter(total_count > 0) %>% ## theoretically can be filtered by 5\n",
    "        mutate(meth_ratio = meth_count/total_count, end = position + 1)\n",
    "    save_bed(df_f[,c(\"chr\", \"position\", \"end\", \"strand\", \"total_count\", \"meth_ratio\")], annot$path_unif[[i]])\n",
    "    df_f <- df_f %>% filter(total_count > COV)\n",
    "    print(NROW(df_f))\n",
    "    mean_ratio <- rbind(mean_ratio, data.frame(path = as.character(annot$path[[i]]), mean_ratio = mean(df_f$meth_ratio, na.rm = T)))\n",
    "}\n",
    "mean_ratio <- left_join(mean_ratio, annot)\n",
    "write.table(mean_ratio, meth_file, sep = \";\", quote = F, row.names = F)\n",
    "}else mean_ratio <- fread(meth_file)"
   ]
  },
  {
   "cell_type": "code",
   "execution_count": 57,
   "id": "a3b3f977-84f0-44e2-b831-c2b7cc7536d8",
   "metadata": {},
   "outputs": [
    {
     "data": {
      "text/html": [
       "'bosTau9_GSE147087.pdf'"
      ],
      "text/latex": [
       "'bosTau9\\_GSE147087.pdf'"
      ],
      "text/markdown": [
       "'bosTau9_GSE147087.pdf'"
      ],
      "text/plain": [
       "[1] \"bosTau9_GSE147087.pdf\""
      ]
     },
     "metadata": {},
     "output_type": "display_data"
    }
   ],
   "source": [
    "gsub(\"csv\", \"pdf\", meth_file)"
   ]
  },
  {
   "cell_type": "code",
   "execution_count": null,
   "id": "e72a4ce3",
   "metadata": {},
   "outputs": [],
   "source": [
    "options(repr.plot.width = 10)\n",
    "ggplot(mean_ratio, aes(x = tissue, y = mean_ratio, color = replica)) + geom_point(size = 5) + \n",
    "                            theme_bw() + theme(text = element_text(size = 20), axis.text.x = element_text(angle = 45, hjust = 1))\n",
    "ggsave(gsub(\"csv\", \"pdf\", meth_file), width = 6, height = 4)"
   ]
  },
  {
   "cell_type": "markdown",
   "id": "6fd89103",
   "metadata": {},
   "source": [
    "## Data type 3 - CpG calls\n",
    "### mouse (only)"
   ]
  },
  {
   "cell_type": "code",
   "execution_count": 34,
   "id": "8969ca4a",
   "metadata": {},
   "outputs": [],
   "source": [
    "if(!file.exists(file.path(WGBS_dir, \"Mus_musculus\", \"WGBS_annot.csv\")){\n",
    "\n",
    "files_list <- list.files(file.path(WGBS_dir, \"Mus_musculus\"), full.names = T,\n",
    "                         pattern = \"*CpG.calls.txt\", recursive = T)\n",
    "    \n",
    "annot <- data.frame(path = files_list, \n",
    "             path_unif= as.character(sapply(files_list, function(x) gsub(\".CpG.calls.txt\", \".bed\",x))),\n",
    "           tissue = as.character(sapply(files_list, function(x) gsub(\"mouse_\", \"\", strsplit(x, \"/\")[[1]][10]))),\n",
    "                    replica = 1, stringsAsFactors = FALSE)\n",
    "                                 \n",
    "write.table(annot, file.path(WGBS_dir, \"Mus_musculus\", \"WGBS_annot.csv\"),\n",
    "            row.names = FALSE, quote = FALSE, sep = \";\")\n",
    "                                 \n",
    "}else annot <- fread(file.path(WGBS_dir, \"Mus_musculus\", \"WGBS_annot.csv\"))"
   ]
  },
  {
   "cell_type": "code",
   "execution_count": null,
   "id": "6fd2e020-1a40-4f9d-9f1b-42cc64709299",
   "metadata": {},
   "outputs": [],
   "source": [
    "meth_file <- \"mm9_GSE42836.csv\""
   ]
  },
  {
   "cell_type": "code",
   "execution_count": 16,
   "id": "c624c8fb",
   "metadata": {
    "collapsed": true,
    "jupyter": {
     "outputs_hidden": true
    },
    "tags": []
   },
   "outputs": [
    {
     "name": "stdout",
     "output_type": "stream",
     "text": [
      "[1] \"../../resources/WGBS_public/Mus_musculus/mouse_bone_marrow/GSM1051150_bone_marrow.CpG.calls.txt\"\n",
      "[1] 16340104\n",
      "[1] 13527880\n",
      "[1] \"../../resources/WGBS_public/Mus_musculus/mouse_cerebellum/GSM1051151_cerebellum.CpG.calls.txt\"\n",
      "[1] 16421937\n",
      "[1] 14845151\n",
      "[1] \"../../resources/WGBS_public/Mus_musculus/mouse_colon/GSM1051152_colon.CpG.calls.txt\"\n",
      "[1] 15688707\n",
      "[1] 13549631\n",
      "[1] \"../../resources/WGBS_public/Mus_musculus/mouse_cortex/GSM1051153_cortex.CpG.calls.txt\"\n",
      "[1] 18193457\n",
      "[1] 17123077\n",
      "[1] \"../../resources/WGBS_public/Mus_musculus/mouse_heart/GSM1051154_heart.CpG.calls.txt\"\n",
      "[1] 18322700\n",
      "[1] 15076675\n",
      "[1] \"../../resources/WGBS_public/Mus_musculus/mouse_intestine/GSM1051155_intestine.CpG.calls.txt\"\n",
      "[1] 16932452\n",
      "[1] 15041450\n",
      "[1] \"../../resources/WGBS_public/Mus_musculus/mouse_kidney/GSM1051156_kidney.CpG.calls.txt\"\n",
      "[1] 16066447\n",
      "[1] 12370615\n",
      "[1] \"../../resources/WGBS_public/Mus_musculus/mouse_liver/GSM1051157_liver.CpG.calls.txt\"\n",
      "[1] 16791805\n",
      "[1] 10484432\n",
      "[1] \"../../resources/WGBS_public/Mus_musculus/mouse_lung/GSM1051158_lung.CpG.calls.txt\"\n",
      "[1] 17357048\n",
      "[1] 14932945\n",
      "[1] \"../../resources/WGBS_public/Mus_musculus/mouse_olfactory_bulb/GSM1051159_olfactory_bulb.CpG.calls.txt\"\n",
      "[1] 17995053\n",
      "[1] 17068440\n",
      "[1] \"../../resources/WGBS_public/Mus_musculus/mouse_pancreas/GSM1051160_pancreas.CpG.calls.txt\"\n",
      "[1] 16615076\n",
      "[1] 14405129\n",
      "[1] \"../../resources/WGBS_public/Mus_musculus/mouse_placenta/GSM1051161_placenta.CpG.calls.txt\"\n",
      "[1] 18242054\n",
      "[1] 16815108\n",
      "[1] \"../../resources/WGBS_public/Mus_musculus/mouse_skin/GSM1051162_skin.CpG.calls.txt\"\n",
      "[1] 17334356\n",
      "[1] 15929280\n",
      "[1] \"../../resources/WGBS_public/Mus_musculus/mouse_spleen/GSM1051163_spleen.CpG.calls.txt\"\n",
      "[1] 17677885\n",
      "[1] 13025679\n",
      "[1] \"../../resources/WGBS_public/Mus_musculus/mouse_stomach/GSM1051164_stomach.CpG.calls.txt\"\n",
      "[1] 15664514\n",
      "[1] 13325511\n",
      "[1] \"../../resources/WGBS_public/Mus_musculus/mouse_thymus/GSM1051165_thymus.CpG.calls.txt\"\n",
      "[1] 17154637\n",
      "[1] 15549766\n",
      "[1] \"../../resources/WGBS_public/Mus_musculus/mouse_uterus/GSM1051166_uterus.CpG.calls.txt\"\n",
      "[1] 16285906\n",
      "[1] 13407026\n"
     ]
    },
    {
     "name": "stderr",
     "output_type": "stream",
     "text": [
      "Joining, by = \"path\"\n",
      "\n"
     ]
    }
   ],
   "source": [
    "if(!file.exists(meth_file)){\n",
    "mean_ratio = data.table()\n",
    "for(i in c(1:NROW(annot))){\n",
    "    print(annot$path[[i]])\n",
    "    df <- fread(as.character(annot$path[[i]]))\n",
    "\n",
    "    print(NROW(df))\n",
    "    colnames(df)[4] <- \"CpG_meth\"\n",
    "    colnames(df)[5] <- \"CpG_seq\"\n",
    "    colnames(df)[6] <- \"CpG_meth_prc\"\n",
    "    df <- df[CpG_seq > 0]\n",
    "    save_bed_nostrand(df[,c(\"chromosome\", \"CpG location left\", \"CpG location right\", \"CpG_seq\", \"CpG_meth_prc\")], annot$path_unif[[i]])\n",
    "    \n",
    "    df_f <- df[CpG_seq > 5]\n",
    "    \n",
    "    print(NROW(df_f))\n",
    "    \n",
    "    mean_ratio <- rbind(mean_ratio, data.frame(path = as.character(annot$path[[i]]), mean_ratio = mean(df_f$CpG_meth_prc, na.rm = T)/100))\n",
    "}\n",
    "mean_ratio <- left_join(mean_ratio, annot)\n",
    "write.table(mean_ratio, meth_file, sep = \";\", quote = F, row.names = F)\n",
    "}else mean_ratio <- fread(meth_file)"
   ]
  },
  {
   "cell_type": "code",
   "execution_count": 17,
   "id": "2f8325d9",
   "metadata": {},
   "outputs": [
    {
     "data": {
      "image/png": "[encoded data removed]",
      "text/plain": [
       "plot without title"
      ]
     },
     "metadata": {
      "image/png": {
       "height": 420,
       "width": 600
      }
     },
     "output_type": "display_data"
    }
   ],
   "source": [
    "options(repr.plot.width = 10)\n",
    "ggplot(mean_ratio, aes(x = tissue, y = mean_ratio, color = replica)) + geom_point(size = 5) + \n",
    "                            theme_bw() + theme(text = element_text(size = 20), axis.text.x = element_text(angle = 45, hjust = 1))\n",
    "ggsave(gsub(\"csv\", \"pdf\", meth_file), width = 7, height = 4)"
   ]
  },
  {
   "cell_type": "markdown",
   "id": "779ffdfb",
   "metadata": {},
   "source": [
    "## Data type 4 - allC\n",
    "### Lancelet-1 (only one sample)"
   ]
  },
  {
   "cell_type": "code",
   "execution_count": 46,
   "id": "224bf6e3",
   "metadata": {},
   "outputs": [],
   "source": [
    "files_list <- list.files(file.path(WGBS_dir, \"Branchiostoma_lanceolatum_1\"), pattern = \"*allC.txt\", recursive = T, full.names = T)"
   ]
  },
  {
   "cell_type": "markdown",
   "id": "cc7765c5",
   "metadata": {},
   "source": [
    "Column 1 - assembly (chromosome).column 2 - position: coordinate for the cytosine position on the chromosome (first base of chromosome = 0).column 3 - strand: + or - strand.column 4 - class: context of the cytosine and the two following bases from the same strand.column 5 - mc: number of reads supporting a methylated cytosine.column 6 - h: total number of reads at that position.  \n",
    "**data is filtered by the coverage value > 5 and "
   ]
  },
  {
   "cell_type": "code",
   "execution_count": 47,
   "id": "6968e27e",
   "metadata": {},
   "outputs": [],
   "source": [
    "df <- fread(files_list[[1]], header = FALSE) #change to fread, way faster\n",
    "head(df)"
   ]
  },
  {
   "cell_type": "code",
   "execution_count": 34,
   "id": "d2af961b",
   "metadata": {},
   "outputs": [],
   "source": [
    "colnames(df) <- c(\"chr\", \"position\", \"strand\", \"threenucl_context\", \"mC_count\", \"coverage\")"
   ]
  },
  {
   "cell_type": "code",
   "execution_count": null,
   "id": "d0f4cb76-c3e5-4e26-96a5-436ce09772c5",
   "metadata": {},
   "outputs": [],
   "source": [
    "#Filtering out non-CpG methylation"
   ]
  },
  {
   "cell_type": "code",
   "execution_count": 36,
   "id": "1c25c081",
   "metadata": {},
   "outputs": [],
   "source": [
    "df <- df[threenucl_context==\"CG\"]"
   ]
  },
  {
   "cell_type": "code",
   "execution_count": 89,
   "id": "7a4e6140",
   "metadata": {},
   "outputs": [
    {
     "data": {
      "image/png": "[encoded data removed]",
      "text/plain": [
       "plot without title"
      ]
     },
     "metadata": {
      "image/png": {
       "height": 600,
       "width": 600
      }
     },
     "output_type": "display_data"
    }
   ],
   "source": [
    "ggplot(df[coverage>2], aes(x = mC_count)) + geom_histogram(bins = 50)"
   ]
  },
  {
   "cell_type": "code",
   "execution_count": 38,
   "id": "aae71fe9",
   "metadata": {},
   "outputs": [],
   "source": [
    "df$meth_ratio = df$mC_count/df$coverage"
   ]
  },
  {
   "cell_type": "code",
   "execution_count": 39,
   "id": "19a342a1",
   "metadata": {},
   "outputs": [],
   "source": [
    "df[,end:=position + 1,]"
   ]
  },
  {
   "cell_type": "code",
   "execution_count": 40,
   "id": "bc01e268",
   "metadata": {},
   "outputs": [
    {
     "data": {
      "image/png": "[encoded data removed]",
      "text/plain": [
       "plot without title"
      ]
     },
     "metadata": {
      "image/png": {
       "height": 420,
       "width": 600
      }
     },
     "output_type": "display_data"
    }
   ],
   "source": [
    "ggplot(df[coverage>2], aes(x = meth_ratio)) + geom_histogram(bins = 50)"
   ]
  },
  {
   "cell_type": "code",
   "execution_count": 41,
   "id": "79f0c280",
   "metadata": {},
   "outputs": [],
   "source": [
    "save_bed(df[,c(\"chr\", \"position\", \"end\", \"strand\", \"coverage\", \"meth_ratio\")], file.path(WGBS_dir, \"Bl71nemr\", \"GSM2728830_liver.bed\")) ## moving the file to the rest of the Bl17nmr "
   ]
  },
  {
   "cell_type": "code",
   "execution_count": 50,
   "id": "2f6d0223",
   "metadata": {},
   "outputs": [],
   "source": [
    "annot_l <- data.frame(path = files_list, \n",
    "           tissue = \"liver\",\n",
    "           replica = \"GSE102144\") ##will be saved later together with the other lancet sample"
   ]
  },
  {
   "cell_type": "code",
   "execution_count": 51,
   "id": "a9d86c30",
   "metadata": {},
   "outputs": [
    {
     "data": {
      "text/html": [
       "<table class=\"dataframe\">\n",
       "<caption>A data.frame: 1 × 3</caption>\n",
       "<thead>\n",
       "\t<tr><th scope=col>path</th><th scope=col>tissue</th><th scope=col>replica</th></tr>\n",
       "\t<tr><th scope=col>&lt;fct&gt;</th><th scope=col>&lt;fct&gt;</th><th scope=col>&lt;fct&gt;</th></tr>\n",
       "</thead>\n",
       "<tbody>\n",
       "\t<tr><td>/binfl/lv71484/droman/DNAmeth500species//resources/WGBS_public/Branchiostoma_lanceolatum_1/liver/GSM2728830_liver_MethylC_seq.allC.txt</td><td>liver</td><td>GSE102144</td></tr>\n",
       "</tbody>\n",
       "</table>\n"
      ],
      "text/latex": [
       "A data.frame: 1 × 3\n",
       "\\begin{tabular}{lll}\n",
       " path & tissue & replica\\\\\n",
       " <fct> & <fct> & <fct>\\\\\n",
       "\\hline\n",
       "\t /binfl/lv71484/droman/DNAmeth500species//resources/WGBS\\_public/Branchiostoma\\_lanceolatum\\_1/liver/GSM2728830\\_liver\\_MethylC\\_seq.allC.txt & liver & GSE102144\\\\\n",
       "\\end{tabular}\n"
      ],
      "text/markdown": [
       "\n",
       "A data.frame: 1 × 3\n",
       "\n",
       "| path &lt;fct&gt; | tissue &lt;fct&gt; | replica &lt;fct&gt; |\n",
       "|---|---|---|\n",
       "| /binfl/lv71484/droman/DNAmeth500species//resources/WGBS_public/Branchiostoma_lanceolatum_1/liver/GSM2728830_liver_MethylC_seq.allC.txt | liver | GSE102144 |\n",
       "\n"
      ],
      "text/plain": [
       "  path                                                                                                                                  \n",
       "1 /binfl/lv71484/droman/DNAmeth500species//resources/WGBS_public/Branchiostoma_lanceolatum_1/liver/GSM2728830_liver_MethylC_seq.allC.txt\n",
       "  tissue replica  \n",
       "1 liver  GSE102144"
      ]
     },
     "metadata": {},
     "output_type": "display_data"
    }
   ],
   "source": [
    "annot_l"
   ]
  },
  {
   "cell_type": "code",
   "execution_count": 44,
   "id": "e596f764",
   "metadata": {},
   "outputs": [],
   "source": [
    "df <- df[coverage > 5, ]"
   ]
  },
  {
   "cell_type": "code",
   "execution_count": 45,
   "id": "1ff9adf9",
   "metadata": {},
   "outputs": [],
   "source": [
    "mean_ratio = data.table(path = files_list[[1]], mean_ratio = mean(df$meth_ratio), replica = 1, tissue = \"liver\", genomeid = \"Bl71nemr_1\")"
   ]
  },
  {
   "cell_type": "code",
   "execution_count": 46,
   "id": "4a56c05b",
   "metadata": {},
   "outputs": [],
   "source": [
    "write.table(mean_ratio, \"Bl71nemr_GSE102144.csv\", sep = \";\", quote = F, row.names = F)"
   ]
  },
  {
   "cell_type": "markdown",
   "id": "dee6440c",
   "metadata": {},
   "source": [
    "## Data type 5 - Cdepth\n",
    "### oyster"
   ]
  },
  {
   "cell_type": "markdown",
   "id": "df6f4d9d",
   "metadata": {},
   "source": [
    " Tab-delimited text file that contains all of the cytosines of the whole genome, one cytosine per line.  \n",
    "###### Format:\n",
    "###### col1: scaffoldID\n",
    "###### col2: position of the cytosine\n",
    "###### col3: context of the cytosine \n",
    "###### col4: type of the cytosine \n",
    "###### col5: strand of the cytosine\n",
    "###### col6: number of unique reads supporting methylation for replicate1\n",
    "###### col7: number of unique reads supporting non-methylaion for replicate1\n",
    "###### col8: number of mismatch for the base following the cytosine for replicate1, just used for filtering mCHGs and mCHHs.\n",
    "###### col9: number of unique reads supporting methylation for replicate2\n",
    "###### col10: number of unique reads supporting non-methylaion for replicate2\n",
    "###### col11: number of mismatch for the base following the cytosine for replicate2, just used for filtering mCHGs and mCHHs.\n",
    "###### col12: p value of binomial distribution before adjusting by FDR for repliate1\n",
    "###### col13: p value of binomial distribution after adjusting by FDR for repliate1\n",
    "###### col14: p value of binomial distribution before adjusting by FDR for repliate2\n",
    "###### col15: p value of binomial distribution after adjusting by FDR for repliate2\n",
    "###### col16: p value of binomial distribution before adjusting by FDR for union\n",
    "###### col17: p value of binomial distribution after adjusting by FDR for union\n",
    "\n",
    "###### Notice:\n",
    "###### For mC detection, a cytosine is detected as mC if the p value of binomial distribution after adjusting by FDR is less than 0.01 ."
   ]
  },
  {
   "cell_type": "code",
   "execution_count": 17,
   "id": "21946c5f",
   "metadata": {},
   "outputs": [],
   "source": [
    "files_list <- list.files(file.path(WGBS_dir, \"oyster.v9\"), pattern = \"*Cdepth.txt\", recursive = T, full.names = T)"
   ]
  },
  {
   "cell_type": "code",
   "execution_count": 18,
   "id": "5b3ee61e",
   "metadata": {},
   "outputs": [
    {
     "data": {
      "text/html": [
       "'/binfl/lv71484/droman/DNAmeth500species//resources/WGBS_public/oyster.v9/mantle_mantle_of_the_inbred_individual/GSM991064_Inbred.Cdepth.txt'"
      ],
      "text/latex": [
       "'/binfl/lv71484/droman/DNAmeth500species//resources/WGBS\\_public/oyster.v9/mantle\\_mantle\\_of\\_the\\_inbred\\_individual/GSM991064\\_Inbred.Cdepth.txt'"
      ],
      "text/markdown": [
       "'/binfl/lv71484/droman/DNAmeth500species//resources/WGBS_public/oyster.v9/mantle_mantle_of_the_inbred_individual/GSM991064_Inbred.Cdepth.txt'"
      ],
      "text/plain": [
       "[1] \"/binfl/lv71484/droman/DNAmeth500species//resources/WGBS_public/oyster.v9/mantle_mantle_of_the_inbred_individual/GSM991064_Inbred.Cdepth.txt\""
      ]
     },
     "metadata": {},
     "output_type": "display_data"
    }
   ],
   "source": [
    "files_list[[1]]"
   ]
  },
  {
   "cell_type": "code",
   "execution_count": 19,
   "id": "1ab2f3d8",
   "metadata": {},
   "outputs": [
    {
     "data": {
      "text/html": [
       "<table class=\"dataframe\">\n",
       "<caption>A data.frame: 2 × 3</caption>\n",
       "<thead>\n",
       "\t<tr><th></th><th scope=col>path</th><th scope=col>tissue</th><th scope=col>replica</th></tr>\n",
       "\t<tr><th></th><th scope=col>&lt;fct&gt;</th><th scope=col>&lt;fct&gt;</th><th scope=col>&lt;fct&gt;</th></tr>\n",
       "</thead>\n",
       "<tbody>\n",
       "\t<tr><th scope=row>1</th><td>/binfl/lv71484/droman/DNAmeth500species//resources/WGBS_public/oyster.v9/mantle_mantle_of_the_inbred_individual/GSM991064_Inbred.Cdepth.txt</td><td>mantle</td><td>Inbred</td></tr>\n",
       "\t<tr><th scope=row>2</th><td>/binfl/lv71484/droman/DNAmeth500species//resources/WGBS_public/oyster.v9/mantle_mantle_of_the_wild_individual/GSM991065_Wild.Cdepth.txt    </td><td>mantle</td><td>Wild  </td></tr>\n",
       "</tbody>\n",
       "</table>\n"
      ],
      "text/latex": [
       "A data.frame: 2 × 3\n",
       "\\begin{tabular}{r|lll}\n",
       "  & path & tissue & replica\\\\\n",
       "  & <fct> & <fct> & <fct>\\\\\n",
       "\\hline\n",
       "\t1 & /binfl/lv71484/droman/DNAmeth500species//resources/WGBS\\_public/oyster.v9/mantle\\_mantle\\_of\\_the\\_inbred\\_individual/GSM991064\\_Inbred.Cdepth.txt & mantle & Inbred\\\\\n",
       "\t2 & /binfl/lv71484/droman/DNAmeth500species//resources/WGBS\\_public/oyster.v9/mantle\\_mantle\\_of\\_the\\_wild\\_individual/GSM991065\\_Wild.Cdepth.txt     & mantle & Wild  \\\\\n",
       "\\end{tabular}\n"
      ],
      "text/markdown": [
       "\n",
       "A data.frame: 2 × 3\n",
       "\n",
       "| <!--/--> | path &lt;fct&gt; | tissue &lt;fct&gt; | replica &lt;fct&gt; |\n",
       "|---|---|---|---|\n",
       "| 1 | /binfl/lv71484/droman/DNAmeth500species//resources/WGBS_public/oyster.v9/mantle_mantle_of_the_inbred_individual/GSM991064_Inbred.Cdepth.txt | mantle | Inbred |\n",
       "| 2 | /binfl/lv71484/droman/DNAmeth500species//resources/WGBS_public/oyster.v9/mantle_mantle_of_the_wild_individual/GSM991065_Wild.Cdepth.txt     | mantle | Wild   |\n",
       "\n"
      ],
      "text/plain": [
       "  path                                                                                                                                       \n",
       "1 /binfl/lv71484/droman/DNAmeth500species//resources/WGBS_public/oyster.v9/mantle_mantle_of_the_inbred_individual/GSM991064_Inbred.Cdepth.txt\n",
       "2 /binfl/lv71484/droman/DNAmeth500species//resources/WGBS_public/oyster.v9/mantle_mantle_of_the_wild_individual/GSM991065_Wild.Cdepth.txt    \n",
       "  tissue replica\n",
       "1 mantle Inbred \n",
       "2 mantle Wild   "
      ]
     },
     "metadata": {},
     "output_type": "display_data"
    }
   ],
   "source": [
    "annot <- data.frame(path = files_list, \n",
    "           tissue = \"mantle\",\n",
    "           replica = gsub(\".Cdepth.txt\", \"\", as.character(sapply(files_list, function(x) strsplit(x, \"_\")[[1]][8] ))))\n",
    "head(annot)"
   ]
  },
  {
   "cell_type": "code",
   "execution_count": 32,
   "id": "5674bb9e-a859-420f-8acb-376eb80909b5",
   "metadata": {},
   "outputs": [],
   "source": [
    "meth_file <- \"oyster.v9_GSE40302.csv\""
   ]
  },
  {
   "cell_type": "code",
   "execution_count": 33,
   "id": "6ff96dd9",
   "metadata": {},
   "outputs": [],
   "source": [
    "### extremly long - running as a script on the side\n",
    "if(!file.exists(meth_file)){\n",
    "mean_ratio = data.table()\n",
    "for(i in c(1:NROW(annot))){\n",
    "    print(annot$path[[i]])\n",
    "    df <- fread(as.character(annot$path[[i]]), skip = 26)\n",
    "    print(NROW(df))\n",
    "    df <- df[type == \"CG\"]\n",
    "    \n",
    "    colnames(df)[6] <- \"mC_dep_rep1\"\n",
    "    colnames(df)[7] <- \"non_mC_dep_rep1\"\n",
    "    \n",
    "    colnames(df)[9] <- \"mC_dep_rep2\"\n",
    "    colnames(df)[10] <- \"non_mC_dep_rep2\"\n",
    "    \n",
    "    df$total_rep1 = df$mC_dep_rep1 + df$non_mC_dep_rep1\n",
    "    df$total_rep2 = df$mC_dep_rep2 + df$non_mC_dep_rep2\n",
    " \n",
    "    \n",
    "    ## mean in repl 1:\n",
    "    df_r1 <- df[total_rep1 > 5]\n",
    "    df_r1$meth_ratio = df_r1$mC_dep_rep1/df_r1$total_rep1\n",
    "   \n",
    "    mean_r1 = mean(df_r1$meth_ratio)\n",
    "    \n",
    "    \n",
    "    \n",
    "    ## mean in repl 2:\n",
    "    df_r2 <- df[total_rep2 > 5]\n",
    "    df_r2$meth_ratio = df_r2$mC_dep_rep2/df_r2$total_rep2\n",
    "   \n",
    "    mean_r2 = mean(df_r2$meth_ratio)\n",
    "    \n",
    "    \n",
    "    mean_ratio <- rbind(mean_ratio, data.frame(path = as.character(annot$path[[i]]), mean_ratio = c(mean_r1, mean_r2), repl = c(1, 2)))\n",
    "}\n",
    "\n",
    "mean_ratio <- left_join(mean_ratio, annot)\n",
    "\n",
    "mean_ratio$replica <- paste0(mean_ratio$replica, \"_\", mean_ratio$repl)\n",
    "write.table(mean_ratio[,-3], meth_file, sep = \";\", quote = F, row.names = F)\n",
    "}else mean_ratio <- fread(meth_file)\n"
   ]
  },
  {
   "cell_type": "code",
   "execution_count": 35,
   "id": "2c9b7ea7-0639-479b-87af-f36fc9315b93",
   "metadata": {},
   "outputs": [
    {
     "data": {
      "text/html": [
       "<table class=\"dataframe\">\n",
       "<caption>A data.table: 4 × 4</caption>\n",
       "<thead>\n",
       "\t<tr><th scope=col>path</th><th scope=col>mean_ratio</th><th scope=col>tissue</th><th scope=col>replica</th></tr>\n",
       "\t<tr><th scope=col>&lt;chr&gt;</th><th scope=col>&lt;dbl&gt;</th><th scope=col>&lt;chr&gt;</th><th scope=col>&lt;chr&gt;</th></tr>\n",
       "</thead>\n",
       "<tbody>\n",
       "\t<tr><td>/binfl/lv71484/droman/DNAmeth500species//resources/WGBS_public/oyster.v9/mantle_mantle_of_the_inbred_individual/GSM991064_Inbred.Cdepth.txt</td><td>0.1108978</td><td>mantle</td><td>Inbred_1</td></tr>\n",
       "\t<tr><td>/binfl/lv71484/droman/DNAmeth500species//resources/WGBS_public/oyster.v9/mantle_mantle_of_the_inbred_individual/GSM991064_Inbred.Cdepth.txt</td><td>0.1207489</td><td>mantle</td><td>Inbred_2</td></tr>\n",
       "\t<tr><td>/binfl/lv71484/droman/DNAmeth500species//resources/WGBS_public/oyster.v9/mantle_mantle_of_the_wild_individual/GSM991065_Wild.Cdepth.txt    </td><td>0.1150189</td><td>mantle</td><td>Wild_1  </td></tr>\n",
       "\t<tr><td>/binfl/lv71484/droman/DNAmeth500species//resources/WGBS_public/oyster.v9/mantle_mantle_of_the_wild_individual/GSM991065_Wild.Cdepth.txt    </td><td>0.1198798</td><td>mantle</td><td>Wild_2  </td></tr>\n",
       "</tbody>\n",
       "</table>\n"
      ],
      "text/latex": [
       "A data.table: 4 × 4\n",
       "\\begin{tabular}{llll}\n",
       " path & mean\\_ratio & tissue & replica\\\\\n",
       " <chr> & <dbl> & <chr> & <chr>\\\\\n",
       "\\hline\n",
       "\t /binfl/lv71484/droman/DNAmeth500species//resources/WGBS\\_public/oyster.v9/mantle\\_mantle\\_of\\_the\\_inbred\\_individual/GSM991064\\_Inbred.Cdepth.txt & 0.1108978 & mantle & Inbred\\_1\\\\\n",
       "\t /binfl/lv71484/droman/DNAmeth500species//resources/WGBS\\_public/oyster.v9/mantle\\_mantle\\_of\\_the\\_inbred\\_individual/GSM991064\\_Inbred.Cdepth.txt & 0.1207489 & mantle & Inbred\\_2\\\\\n",
       "\t /binfl/lv71484/droman/DNAmeth500species//resources/WGBS\\_public/oyster.v9/mantle\\_mantle\\_of\\_the\\_wild\\_individual/GSM991065\\_Wild.Cdepth.txt     & 0.1150189 & mantle & Wild\\_1  \\\\\n",
       "\t /binfl/lv71484/droman/DNAmeth500species//resources/WGBS\\_public/oyster.v9/mantle\\_mantle\\_of\\_the\\_wild\\_individual/GSM991065\\_Wild.Cdepth.txt     & 0.1198798 & mantle & Wild\\_2  \\\\\n",
       "\\end{tabular}\n"
      ],
      "text/markdown": [
       "\n",
       "A data.table: 4 × 4\n",
       "\n",
       "| path &lt;chr&gt; | mean_ratio &lt;dbl&gt; | tissue &lt;chr&gt; | replica &lt;chr&gt; |\n",
       "|---|---|---|---|\n",
       "| /binfl/lv71484/droman/DNAmeth500species//resources/WGBS_public/oyster.v9/mantle_mantle_of_the_inbred_individual/GSM991064_Inbred.Cdepth.txt | 0.1108978 | mantle | Inbred_1 |\n",
       "| /binfl/lv71484/droman/DNAmeth500species//resources/WGBS_public/oyster.v9/mantle_mantle_of_the_inbred_individual/GSM991064_Inbred.Cdepth.txt | 0.1207489 | mantle | Inbred_2 |\n",
       "| /binfl/lv71484/droman/DNAmeth500species//resources/WGBS_public/oyster.v9/mantle_mantle_of_the_wild_individual/GSM991065_Wild.Cdepth.txt     | 0.1150189 | mantle | Wild_1   |\n",
       "| /binfl/lv71484/droman/DNAmeth500species//resources/WGBS_public/oyster.v9/mantle_mantle_of_the_wild_individual/GSM991065_Wild.Cdepth.txt     | 0.1198798 | mantle | Wild_2   |\n",
       "\n"
      ],
      "text/plain": [
       "  path                                                                                                                                       \n",
       "1 /binfl/lv71484/droman/DNAmeth500species//resources/WGBS_public/oyster.v9/mantle_mantle_of_the_inbred_individual/GSM991064_Inbred.Cdepth.txt\n",
       "2 /binfl/lv71484/droman/DNAmeth500species//resources/WGBS_public/oyster.v9/mantle_mantle_of_the_inbred_individual/GSM991064_Inbred.Cdepth.txt\n",
       "3 /binfl/lv71484/droman/DNAmeth500species//resources/WGBS_public/oyster.v9/mantle_mantle_of_the_wild_individual/GSM991065_Wild.Cdepth.txt    \n",
       "4 /binfl/lv71484/droman/DNAmeth500species//resources/WGBS_public/oyster.v9/mantle_mantle_of_the_wild_individual/GSM991065_Wild.Cdepth.txt    \n",
       "  mean_ratio tissue replica \n",
       "1 0.1108978  mantle Inbred_1\n",
       "2 0.1207489  mantle Inbred_2\n",
       "3 0.1150189  mantle Wild_1  \n",
       "4 0.1198798  mantle Wild_2  "
      ]
     },
     "metadata": {},
     "output_type": "display_data"
    }
   ],
   "source": [
    "mean_ratio"
   ]
  },
  {
   "cell_type": "code",
   "execution_count": 37,
   "id": "6dddffe3",
   "metadata": {},
   "outputs": [
    {
     "data": {
      "image/png": "[encoded data removed]",
      "text/plain": [
       "plot without title"
      ]
     },
     "metadata": {
      "image/png": {
       "height": 420,
       "width": 300
      }
     },
     "output_type": "display_data"
    }
   ],
   "source": [
    "options(repr.plot.width = 5)\n",
    "ggplot(mean_ratio, aes(x = tissue, y = mean_ratio, color = replica)) + geom_point(size = 5) + \n",
    "                            theme_bw() + theme(text = element_text(size = 20), axis.text.x = element_text(angle = 45, hjust = 1))\n",
    "ggsave(gsub(\"csv\", \"pdf\", meth_file), width = 3, height = 4)"
   ]
  },
  {
   "cell_type": "markdown",
   "id": "08acece9",
   "metadata": {},
   "source": [
    "## Data type 6 - CGmap\n",
    "### large brain study across animals\n",
    "contain chromosome position, (1) chromosome (2) nucleotide on Watson (+) strand (3) position (4) context (CG/CHG/CHH) (5) dinucleotide-context (CA/CC/CG/CT) (6) methylation-level = #_of_C / (#_of_C + #_of_T). (7) #_of_C (methylated C, the count of reads showing C here) (8) = #_of_C + #_of_T (all Cytosines, the  sum of reads showing C or T in that position)."
   ]
  },
  {
   "cell_type": "code",
   "execution_count": 37,
   "id": "8a8f8c34",
   "metadata": {},
   "outputs": [],
   "source": [
    "files_list <- list.files(WGBS_dir, pattern = \"*.CGmap\", recursive = T, full.names = T) #here we collect across genome folders"
   ]
  },
  {
   "cell_type": "code",
   "execution_count": 38,
   "id": "fdca40e4-6235-4210-b0c1-f80c9ea5c709",
   "metadata": {},
   "outputs": [
    {
     "data": {
      "text/html": [
       "<style>\n",
       ".list-inline {list-style: none; margin:0; padding: 0}\n",
       ".list-inline>li {display: inline-block}\n",
       ".list-inline>li:not(:last-child)::after {content: \"\\00b7\"; padding: 0 .5ex}\n",
       "</style>\n",
       "<ol class=list-inline><li>'/binfl/lv71484/droman/DNAmeth500species//resources/WGBS_public/Apis_mellifera/brain/GSM4209497_mC_brain_queen_honeybee.CGmap'</li><li>'/binfl/lv71484/droman/DNAmeth500species//resources/WGBS_public/Branchiostoma_lanceolatum/Neural_tube/GSM4209500_mC_NeuralTube_amphioxus.CGmap'</li><li>'/binfl/lv71484/droman/DNAmeth500species//resources/WGBS_public/Callorhinchus_milii/brain/GSM4209495_mC_brain_elephant_shark.CGmap'</li><li>'/binfl/lv71484/droman/DNAmeth500species//resources/WGBS_public/Danio_rerio/forebrain/GSM4209494_mC_forebrain_zebrafish.CGmap'</li><li>'/binfl/lv71484/droman/DNAmeth500species//resources/WGBS_public/Gallus_gallus/brain/GSM4209493_mC_brain_chicken.CGmap'</li><li>'/binfl/lv71484/droman/DNAmeth500species//resources/WGBS_public/Lethenteron_camtschaticum/brain/GSM4209496_mC_brain_arctic_lamprey.CGmap'</li><li>'/binfl/lv71484/droman/DNAmeth500species//resources/WGBS_public/Monodelphis_domestica/brain/GSM4209491_mC_brain_opossum.CGmap'</li><li>'/binfl/lv71484/droman/DNAmeth500species//resources/WGBS_public/Octopus_bimaculoides/Subesophageal_brain/GSM4209499_mC_brain_octopus_subesophageal.CGmap'</li><li>'/binfl/lv71484/droman/DNAmeth500species//resources/WGBS_public/Octopus_bimaculoides/Supraesophageal_brain/GSM4209498_mC_brain_octopus_supraesophageal.CGmap'</li><li>'/binfl/lv71484/droman/DNAmeth500species//resources/WGBS_public/Ornithorhynchus_anatinus/frontal_cortex/GSM4209492_mC_brain_platypus.CGmap'</li></ol>\n"
      ],
      "text/latex": [
       "\\begin{enumerate*}\n",
       "\\item '/binfl/lv71484/droman/DNAmeth500species//resources/WGBS\\_public/Apis\\_mellifera/brain/GSM4209497\\_mC\\_brain\\_queen\\_honeybee.CGmap'\n",
       "\\item '/binfl/lv71484/droman/DNAmeth500species//resources/WGBS\\_public/Branchiostoma\\_lanceolatum/Neural\\_tube/GSM4209500\\_mC\\_NeuralTube\\_amphioxus.CGmap'\n",
       "\\item '/binfl/lv71484/droman/DNAmeth500species//resources/WGBS\\_public/Callorhinchus\\_milii/brain/GSM4209495\\_mC\\_brain\\_elephant\\_shark.CGmap'\n",
       "\\item '/binfl/lv71484/droman/DNAmeth500species//resources/WGBS\\_public/Danio\\_rerio/forebrain/GSM4209494\\_mC\\_forebrain\\_zebrafish.CGmap'\n",
       "\\item '/binfl/lv71484/droman/DNAmeth500species//resources/WGBS\\_public/Gallus\\_gallus/brain/GSM4209493\\_mC\\_brain\\_chicken.CGmap'\n",
       "\\item '/binfl/lv71484/droman/DNAmeth500species//resources/WGBS\\_public/Lethenteron\\_camtschaticum/brain/GSM4209496\\_mC\\_brain\\_arctic\\_lamprey.CGmap'\n",
       "\\item '/binfl/lv71484/droman/DNAmeth500species//resources/WGBS\\_public/Monodelphis\\_domestica/brain/GSM4209491\\_mC\\_brain\\_opossum.CGmap'\n",
       "\\item '/binfl/lv71484/droman/DNAmeth500species//resources/WGBS\\_public/Octopus\\_bimaculoides/Subesophageal\\_brain/GSM4209499\\_mC\\_brain\\_octopus\\_subesophageal.CGmap'\n",
       "\\item '/binfl/lv71484/droman/DNAmeth500species//resources/WGBS\\_public/Octopus\\_bimaculoides/Supraesophageal\\_brain/GSM4209498\\_mC\\_brain\\_octopus\\_supraesophageal.CGmap'\n",
       "\\item '/binfl/lv71484/droman/DNAmeth500species//resources/WGBS\\_public/Ornithorhynchus\\_anatinus/frontal\\_cortex/GSM4209492\\_mC\\_brain\\_platypus.CGmap'\n",
       "\\end{enumerate*}\n"
      ],
      "text/markdown": [
       "1. '/binfl/lv71484/droman/DNAmeth500species//resources/WGBS_public/Apis_mellifera/brain/GSM4209497_mC_brain_queen_honeybee.CGmap'\n",
       "2. '/binfl/lv71484/droman/DNAmeth500species//resources/WGBS_public/Branchiostoma_lanceolatum/Neural_tube/GSM4209500_mC_NeuralTube_amphioxus.CGmap'\n",
       "3. '/binfl/lv71484/droman/DNAmeth500species//resources/WGBS_public/Callorhinchus_milii/brain/GSM4209495_mC_brain_elephant_shark.CGmap'\n",
       "4. '/binfl/lv71484/droman/DNAmeth500species//resources/WGBS_public/Danio_rerio/forebrain/GSM4209494_mC_forebrain_zebrafish.CGmap'\n",
       "5. '/binfl/lv71484/droman/DNAmeth500species//resources/WGBS_public/Gallus_gallus/brain/GSM4209493_mC_brain_chicken.CGmap'\n",
       "6. '/binfl/lv71484/droman/DNAmeth500species//resources/WGBS_public/Lethenteron_camtschaticum/brain/GSM4209496_mC_brain_arctic_lamprey.CGmap'\n",
       "7. '/binfl/lv71484/droman/DNAmeth500species//resources/WGBS_public/Monodelphis_domestica/brain/GSM4209491_mC_brain_opossum.CGmap'\n",
       "8. '/binfl/lv71484/droman/DNAmeth500species//resources/WGBS_public/Octopus_bimaculoides/Subesophageal_brain/GSM4209499_mC_brain_octopus_subesophageal.CGmap'\n",
       "9. '/binfl/lv71484/droman/DNAmeth500species//resources/WGBS_public/Octopus_bimaculoides/Supraesophageal_brain/GSM4209498_mC_brain_octopus_supraesophageal.CGmap'\n",
       "10. '/binfl/lv71484/droman/DNAmeth500species//resources/WGBS_public/Ornithorhynchus_anatinus/frontal_cortex/GSM4209492_mC_brain_platypus.CGmap'\n",
       "\n",
       "\n"
      ],
      "text/plain": [
       " [1] \"/binfl/lv71484/droman/DNAmeth500species//resources/WGBS_public/Apis_mellifera/brain/GSM4209497_mC_brain_queen_honeybee.CGmap\"                               \n",
       " [2] \"/binfl/lv71484/droman/DNAmeth500species//resources/WGBS_public/Branchiostoma_lanceolatum/Neural_tube/GSM4209500_mC_NeuralTube_amphioxus.CGmap\"              \n",
       " [3] \"/binfl/lv71484/droman/DNAmeth500species//resources/WGBS_public/Callorhinchus_milii/brain/GSM4209495_mC_brain_elephant_shark.CGmap\"                          \n",
       " [4] \"/binfl/lv71484/droman/DNAmeth500species//resources/WGBS_public/Danio_rerio/forebrain/GSM4209494_mC_forebrain_zebrafish.CGmap\"                               \n",
       " [5] \"/binfl/lv71484/droman/DNAmeth500species//resources/WGBS_public/Gallus_gallus/brain/GSM4209493_mC_brain_chicken.CGmap\"                                       \n",
       " [6] \"/binfl/lv71484/droman/DNAmeth500species//resources/WGBS_public/Lethenteron_camtschaticum/brain/GSM4209496_mC_brain_arctic_lamprey.CGmap\"                    \n",
       " [7] \"/binfl/lv71484/droman/DNAmeth500species//resources/WGBS_public/Monodelphis_domestica/brain/GSM4209491_mC_brain_opossum.CGmap\"                               \n",
       " [8] \"/binfl/lv71484/droman/DNAmeth500species//resources/WGBS_public/Octopus_bimaculoides/Subesophageal_brain/GSM4209499_mC_brain_octopus_subesophageal.CGmap\"    \n",
       " [9] \"/binfl/lv71484/droman/DNAmeth500species//resources/WGBS_public/Octopus_bimaculoides/Supraesophageal_brain/GSM4209498_mC_brain_octopus_supraesophageal.CGmap\"\n",
       "[10] \"/binfl/lv71484/droman/DNAmeth500species//resources/WGBS_public/Ornithorhynchus_anatinus/frontal_cortex/GSM4209492_mC_brain_platypus.CGmap\"                  "
      ]
     },
     "metadata": {},
     "output_type": "display_data"
    }
   ],
   "source": [
    "files_list"
   ]
  },
  {
   "cell_type": "code",
   "execution_count": 39,
   "id": "0fe4afad",
   "metadata": {
    "tags": []
   },
   "outputs": [
    {
     "data": {
      "text/html": [
       "<table class=\"dataframe\">\n",
       "<caption>A data.frame: 6 × 4</caption>\n",
       "<thead>\n",
       "\t<tr><th></th><th scope=col>path</th><th scope=col>organism</th><th scope=col>tissue</th><th scope=col>replica</th></tr>\n",
       "\t<tr><th></th><th scope=col>&lt;fct&gt;</th><th scope=col>&lt;fct&gt;</th><th scope=col>&lt;fct&gt;</th><th scope=col>&lt;dbl&gt;</th></tr>\n",
       "</thead>\n",
       "<tbody>\n",
       "\t<tr><th scope=row>1</th><td>/binfl/lv71484/droman/DNAmeth500species//resources/WGBS_public/Apis_mellifera/brain/GSM4209497_mC_brain_queen_honeybee.CGmap                 </td><td>Apis_mellifera           </td><td>brain      </td><td>1</td></tr>\n",
       "\t<tr><th scope=row>2</th><td>/binfl/lv71484/droman/DNAmeth500species//resources/WGBS_public/Branchiostoma_lanceolatum/Neural_tube/GSM4209500_mC_NeuralTube_amphioxus.CGmap</td><td>Branchiostoma_lanceolatum</td><td>Neural_tube</td><td>1</td></tr>\n",
       "\t<tr><th scope=row>3</th><td>/binfl/lv71484/droman/DNAmeth500species//resources/WGBS_public/Callorhinchus_milii/brain/GSM4209495_mC_brain_elephant_shark.CGmap            </td><td>Callorhinchus_milii      </td><td>brain      </td><td>1</td></tr>\n",
       "\t<tr><th scope=row>4</th><td>/binfl/lv71484/droman/DNAmeth500species//resources/WGBS_public/Danio_rerio/forebrain/GSM4209494_mC_forebrain_zebrafish.CGmap                 </td><td>Danio_rerio              </td><td>forebrain  </td><td>1</td></tr>\n",
       "\t<tr><th scope=row>5</th><td>/binfl/lv71484/droman/DNAmeth500species//resources/WGBS_public/Gallus_gallus/brain/GSM4209493_mC_brain_chicken.CGmap                         </td><td>Gallus_gallus            </td><td>brain      </td><td>1</td></tr>\n",
       "\t<tr><th scope=row>6</th><td>/binfl/lv71484/droman/DNAmeth500species//resources/WGBS_public/Lethenteron_camtschaticum/brain/GSM4209496_mC_brain_arctic_lamprey.CGmap      </td><td>Lethenteron_camtschaticum</td><td>brain      </td><td>1</td></tr>\n",
       "</tbody>\n",
       "</table>\n"
      ],
      "text/latex": [
       "A data.frame: 6 × 4\n",
       "\\begin{tabular}{r|llll}\n",
       "  & path & organism & tissue & replica\\\\\n",
       "  & <fct> & <fct> & <fct> & <dbl>\\\\\n",
       "\\hline\n",
       "\t1 & /binfl/lv71484/droman/DNAmeth500species//resources/WGBS\\_public/Apis\\_mellifera/brain/GSM4209497\\_mC\\_brain\\_queen\\_honeybee.CGmap                  & Apis\\_mellifera            & brain       & 1\\\\\n",
       "\t2 & /binfl/lv71484/droman/DNAmeth500species//resources/WGBS\\_public/Branchiostoma\\_lanceolatum/Neural\\_tube/GSM4209500\\_mC\\_NeuralTube\\_amphioxus.CGmap & Branchiostoma\\_lanceolatum & Neural\\_tube & 1\\\\\n",
       "\t3 & /binfl/lv71484/droman/DNAmeth500species//resources/WGBS\\_public/Callorhinchus\\_milii/brain/GSM4209495\\_mC\\_brain\\_elephant\\_shark.CGmap             & Callorhinchus\\_milii       & brain       & 1\\\\\n",
       "\t4 & /binfl/lv71484/droman/DNAmeth500species//resources/WGBS\\_public/Danio\\_rerio/forebrain/GSM4209494\\_mC\\_forebrain\\_zebrafish.CGmap                  & Danio\\_rerio               & forebrain   & 1\\\\\n",
       "\t5 & /binfl/lv71484/droman/DNAmeth500species//resources/WGBS\\_public/Gallus\\_gallus/brain/GSM4209493\\_mC\\_brain\\_chicken.CGmap                          & Gallus\\_gallus             & brain       & 1\\\\\n",
       "\t6 & /binfl/lv71484/droman/DNAmeth500species//resources/WGBS\\_public/Lethenteron\\_camtschaticum/brain/GSM4209496\\_mC\\_brain\\_arctic\\_lamprey.CGmap       & Lethenteron\\_camtschaticum & brain       & 1\\\\\n",
       "\\end{tabular}\n"
      ],
      "text/markdown": [
       "\n",
       "A data.frame: 6 × 4\n",
       "\n",
       "| <!--/--> | path &lt;fct&gt; | organism &lt;fct&gt; | tissue &lt;fct&gt; | replica &lt;dbl&gt; |\n",
       "|---|---|---|---|---|\n",
       "| 1 | /binfl/lv71484/droman/DNAmeth500species//resources/WGBS_public/Apis_mellifera/brain/GSM4209497_mC_brain_queen_honeybee.CGmap                  | Apis_mellifera            | brain       | 1 |\n",
       "| 2 | /binfl/lv71484/droman/DNAmeth500species//resources/WGBS_public/Branchiostoma_lanceolatum/Neural_tube/GSM4209500_mC_NeuralTube_amphioxus.CGmap | Branchiostoma_lanceolatum | Neural_tube | 1 |\n",
       "| 3 | /binfl/lv71484/droman/DNAmeth500species//resources/WGBS_public/Callorhinchus_milii/brain/GSM4209495_mC_brain_elephant_shark.CGmap             | Callorhinchus_milii       | brain       | 1 |\n",
       "| 4 | /binfl/lv71484/droman/DNAmeth500species//resources/WGBS_public/Danio_rerio/forebrain/GSM4209494_mC_forebrain_zebrafish.CGmap                  | Danio_rerio               | forebrain   | 1 |\n",
       "| 5 | /binfl/lv71484/droman/DNAmeth500species//resources/WGBS_public/Gallus_gallus/brain/GSM4209493_mC_brain_chicken.CGmap                          | Gallus_gallus             | brain       | 1 |\n",
       "| 6 | /binfl/lv71484/droman/DNAmeth500species//resources/WGBS_public/Lethenteron_camtschaticum/brain/GSM4209496_mC_brain_arctic_lamprey.CGmap       | Lethenteron_camtschaticum | brain       | 1 |\n",
       "\n"
      ],
      "text/plain": [
       "  path                                                                                                                                         \n",
       "1 /binfl/lv71484/droman/DNAmeth500species//resources/WGBS_public/Apis_mellifera/brain/GSM4209497_mC_brain_queen_honeybee.CGmap                 \n",
       "2 /binfl/lv71484/droman/DNAmeth500species//resources/WGBS_public/Branchiostoma_lanceolatum/Neural_tube/GSM4209500_mC_NeuralTube_amphioxus.CGmap\n",
       "3 /binfl/lv71484/droman/DNAmeth500species//resources/WGBS_public/Callorhinchus_milii/brain/GSM4209495_mC_brain_elephant_shark.CGmap            \n",
       "4 /binfl/lv71484/droman/DNAmeth500species//resources/WGBS_public/Danio_rerio/forebrain/GSM4209494_mC_forebrain_zebrafish.CGmap                 \n",
       "5 /binfl/lv71484/droman/DNAmeth500species//resources/WGBS_public/Gallus_gallus/brain/GSM4209493_mC_brain_chicken.CGmap                         \n",
       "6 /binfl/lv71484/droman/DNAmeth500species//resources/WGBS_public/Lethenteron_camtschaticum/brain/GSM4209496_mC_brain_arctic_lamprey.CGmap      \n",
       "  organism                  tissue      replica\n",
       "1 Apis_mellifera            brain       1      \n",
       "2 Branchiostoma_lanceolatum Neural_tube 1      \n",
       "3 Callorhinchus_milii       brain       1      \n",
       "4 Danio_rerio               forebrain   1      \n",
       "5 Gallus_gallus             brain       1      \n",
       "6 Lethenteron_camtschaticum brain       1      "
      ]
     },
     "metadata": {},
     "output_type": "display_data"
    }
   ],
   "source": [
    "annot <- data.frame(path = files_list, \n",
    "           organism = as.character(sapply(files_list, function(x) strsplit(x, \"/\")[[1]][9])),\n",
    "           tissue = as.character(sapply(files_list, function(x) strsplit(x, \"/\")[[1]][10])),\n",
    "           replica = 1)\n",
    "head(annot)"
   ]
  },
  {
   "cell_type": "code",
   "execution_count": null,
   "id": "575cdec8-f51d-4d0f-b192-399e42070bf2",
   "metadata": {},
   "outputs": [],
   "source": []
  },
  {
   "cell_type": "markdown",
   "id": "5d05c9a9",
   "metadata": {},
   "source": [
    "### saving annotation indiv. and bed only lancelet :) "
   ]
  },
  {
   "cell_type": "code",
   "execution_count": 40,
   "id": "52902a7b",
   "metadata": {},
   "outputs": [
    {
     "data": {
      "text/html": [
       "'/binfl/lv71484/droman/DNAmeth500species//resources/WGBS_public/Branchiostoma_lanceolatum/Neural_tube/GSM4209500_mC_NeuralTube_amphioxus.CGmap'"
      ],
      "text/latex": [
       "'/binfl/lv71484/droman/DNAmeth500species//resources/WGBS\\_public/Branchiostoma\\_lanceolatum/Neural\\_tube/GSM4209500\\_mC\\_NeuralTube\\_amphioxus.CGmap'"
      ],
      "text/markdown": [
       "'/binfl/lv71484/droman/DNAmeth500species//resources/WGBS_public/Branchiostoma_lanceolatum/Neural_tube/GSM4209500_mC_NeuralTube_amphioxus.CGmap'"
      ],
      "text/plain": [
       "[1] \"/binfl/lv71484/droman/DNAmeth500species//resources/WGBS_public/Branchiostoma_lanceolatum/Neural_tube/GSM4209500_mC_NeuralTube_amphioxus.CGmap\""
      ]
     },
     "metadata": {},
     "output_type": "display_data"
    }
   ],
   "source": [
    "files_list[[2]]"
   ]
  },
  {
   "cell_type": "code",
   "execution_count": 42,
   "id": "6fb20cd0",
   "metadata": {
    "tags": []
   },
   "outputs": [],
   "source": [
    "annot_l1 <- data.frame(path = files_list[[2]], \n",
    "           tissue = \"Neural_tube\",\n",
    "           replica = \"GSE141609\")"
   ]
  },
  {
   "cell_type": "code",
   "execution_count": 53,
   "id": "705d5d38-c4b7-4c55-8ecf-65aa25300289",
   "metadata": {},
   "outputs": [],
   "source": [
    "write.table(rbind(annot_l, annot_l1),file.path(WGBS_dir, \"Branchiostoma_lanceolatum\", \"WGBS_annot.csv\"))"
   ]
  },
  {
   "cell_type": "code",
   "execution_count": 123,
   "id": "d6fd5a11",
   "metadata": {},
   "outputs": [],
   "source": [
    "write.table(annot, \"../../resources/WGBS_public/Branchiostoma_lanceolatum/WGBS_annot.csv\", row.names = FALSE, quote = FALSE, sep = \";\")"
   ]
  },
  {
   "cell_type": "code",
   "execution_count": 119,
   "id": "29fccdcc",
   "metadata": {},
   "outputs": [],
   "source": [
    "i <- 2\n",
    "df <- fread(as.character(files_list[[i]]))\n",
    "colnames(df) <- c(\"chr\", \"nucleotide\", \"position\", \"context\", \"dinucl_context\", \"meth_level\", \"meth_read_count\", \"all_C_count\")\n",
    "df <- df[context==\"CG\"]"
   ]
  },
  {
   "cell_type": "code",
   "execution_count": 120,
   "id": "f9862ebe",
   "metadata": {},
   "outputs": [
    {
     "data": {
      "text/html": [
       "<table class=\"dataframe\">\n",
       "<caption>A data.table: 6 × 8</caption>\n",
       "<thead>\n",
       "\t<tr><th scope=col>chr</th><th scope=col>nucleotide</th><th scope=col>position</th><th scope=col>context</th><th scope=col>dinucl_context</th><th scope=col>meth_level</th><th scope=col>meth_read_count</th><th scope=col>all_C_count</th></tr>\n",
       "\t<tr><th scope=col>&lt;chr&gt;</th><th scope=col>&lt;chr&gt;</th><th scope=col>&lt;int&gt;</th><th scope=col>&lt;chr&gt;</th><th scope=col>&lt;chr&gt;</th><th scope=col>&lt;dbl&gt;</th><th scope=col>&lt;int&gt;</th><th scope=col>&lt;int&gt;</th></tr>\n",
       "</thead>\n",
       "<tbody>\n",
       "\t<tr><td>chrL</td><td>C</td><td> 4</td><td>CG</td><td>CG</td><td>0.00267380</td><td>1</td><td>374</td></tr>\n",
       "\t<tr><td>chrL</td><td>G</td><td> 5</td><td>CG</td><td>CG</td><td>0.00172117</td><td>1</td><td>581</td></tr>\n",
       "\t<tr><td>chrL</td><td>C</td><td> 7</td><td>CG</td><td>CG</td><td>0.00531915</td><td>2</td><td>376</td></tr>\n",
       "\t<tr><td>chrL</td><td>G</td><td> 8</td><td>CG</td><td>CG</td><td>0.00343053</td><td>2</td><td>583</td></tr>\n",
       "\t<tr><td>chrL</td><td>C</td><td>13</td><td>CG</td><td>CG</td><td>0.00522193</td><td>2</td><td>383</td></tr>\n",
       "\t<tr><td>chrL</td><td>G</td><td>14</td><td>CG</td><td>CG</td><td>0.00000000</td><td>0</td><td>592</td></tr>\n",
       "</tbody>\n",
       "</table>\n"
      ],
      "text/latex": [
       "A data.table: 6 × 8\n",
       "\\begin{tabular}{llllllll}\n",
       " chr & nucleotide & position & context & dinucl\\_context & meth\\_level & meth\\_read\\_count & all\\_C\\_count\\\\\n",
       " <chr> & <chr> & <int> & <chr> & <chr> & <dbl> & <int> & <int>\\\\\n",
       "\\hline\n",
       "\t chrL & C &  4 & CG & CG & 0.00267380 & 1 & 374\\\\\n",
       "\t chrL & G &  5 & CG & CG & 0.00172117 & 1 & 581\\\\\n",
       "\t chrL & C &  7 & CG & CG & 0.00531915 & 2 & 376\\\\\n",
       "\t chrL & G &  8 & CG & CG & 0.00343053 & 2 & 583\\\\\n",
       "\t chrL & C & 13 & CG & CG & 0.00522193 & 2 & 383\\\\\n",
       "\t chrL & G & 14 & CG & CG & 0.00000000 & 0 & 592\\\\\n",
       "\\end{tabular}\n"
      ],
      "text/markdown": [
       "\n",
       "A data.table: 6 × 8\n",
       "\n",
       "| chr &lt;chr&gt; | nucleotide &lt;chr&gt; | position &lt;int&gt; | context &lt;chr&gt; | dinucl_context &lt;chr&gt; | meth_level &lt;dbl&gt; | meth_read_count &lt;int&gt; | all_C_count &lt;int&gt; |\n",
       "|---|---|---|---|---|---|---|---|\n",
       "| chrL | C |  4 | CG | CG | 0.00267380 | 1 | 374 |\n",
       "| chrL | G |  5 | CG | CG | 0.00172117 | 1 | 581 |\n",
       "| chrL | C |  7 | CG | CG | 0.00531915 | 2 | 376 |\n",
       "| chrL | G |  8 | CG | CG | 0.00343053 | 2 | 583 |\n",
       "| chrL | C | 13 | CG | CG | 0.00522193 | 2 | 383 |\n",
       "| chrL | G | 14 | CG | CG | 0.00000000 | 0 | 592 |\n",
       "\n"
      ],
      "text/plain": [
       "  chr  nucleotide position context dinucl_context meth_level meth_read_count\n",
       "1 chrL C           4       CG      CG             0.00267380 1              \n",
       "2 chrL G           5       CG      CG             0.00172117 1              \n",
       "3 chrL C           7       CG      CG             0.00531915 2              \n",
       "4 chrL G           8       CG      CG             0.00343053 2              \n",
       "5 chrL C          13       CG      CG             0.00522193 2              \n",
       "6 chrL G          14       CG      CG             0.00000000 0              \n",
       "  all_C_count\n",
       "1 374        \n",
       "2 581        \n",
       "3 376        \n",
       "4 583        \n",
       "5 383        \n",
       "6 592        "
      ]
     },
     "metadata": {},
     "output_type": "display_data"
    }
   ],
   "source": [
    "head(df)"
   ]
  },
  {
   "cell_type": "code",
   "execution_count": 124,
   "id": "ac5491dc",
   "metadata": {},
   "outputs": [],
   "source": [
    "df[, end:=position + 1, ]"
   ]
  },
  {
   "cell_type": "code",
   "execution_count": 127,
   "id": "22191762",
   "metadata": {},
   "outputs": [],
   "source": [
    "save_bed_nostrand(df[,c(\"chr\", \"position\", \"end\", \"all_C_count\", \"meth_level\")], file.path(WGBS_dir, \"Bl71nemr\", \"GSM4209500_mC_NeuralTube.bed\")"
   ]
  },
  {
   "cell_type": "code",
   "execution_count": 41,
   "id": "d91379f6-1c1a-4137-a775-2d0f010aeb2d",
   "metadata": {},
   "outputs": [],
   "source": [
    "meth_file <- \"Combined_study_GSE141609.csv\""
   ]
  },
  {
   "cell_type": "code",
   "execution_count": 52,
   "id": "f3be4586-2e6d-4eb7-ae0d-87614bef5ac7",
   "metadata": {},
   "outputs": [],
   "source": [
    "df <- fread(as.character(annot$path[[2]]))"
   ]
  },
  {
   "cell_type": "code",
   "execution_count": 53,
   "id": "fb472e19-95f9-4980-80a4-8a877aaa2b76",
   "metadata": {},
   "outputs": [
    {
     "data": {
      "text/html": [
       "<table class=\"dataframe\">\n",
       "<caption>A data.table: 6 × 8</caption>\n",
       "<thead>\n",
       "\t<tr><th scope=col>V1</th><th scope=col>V2</th><th scope=col>V3</th><th scope=col>V4</th><th scope=col>V5</th><th scope=col>V6</th><th scope=col>V7</th><th scope=col>V8</th></tr>\n",
       "\t<tr><th scope=col>&lt;chr&gt;</th><th scope=col>&lt;chr&gt;</th><th scope=col>&lt;int&gt;</th><th scope=col>&lt;chr&gt;</th><th scope=col>&lt;chr&gt;</th><th scope=col>&lt;dbl&gt;</th><th scope=col>&lt;int&gt;</th><th scope=col>&lt;int&gt;</th></tr>\n",
       "</thead>\n",
       "<tbody>\n",
       "\t<tr><td>chrL</td><td>G</td><td>1</td><td>-- </td><td>--</td><td>0.01398600</td><td>8</td><td>572</td></tr>\n",
       "\t<tr><td>chrL</td><td>G</td><td>2</td><td>-- </td><td>--</td><td>0.00000000</td><td>0</td><td>578</td></tr>\n",
       "\t<tr><td>chrL</td><td>G</td><td>3</td><td>CHH</td><td>CC</td><td>0.00000000</td><td>0</td><td>580</td></tr>\n",
       "\t<tr><td>chrL</td><td>C</td><td>4</td><td>CG </td><td>CG</td><td>0.00267380</td><td>1</td><td>374</td></tr>\n",
       "\t<tr><td>chrL</td><td>G</td><td>5</td><td>CG </td><td>CG</td><td>0.00172117</td><td>1</td><td>581</td></tr>\n",
       "\t<tr><td>chrL</td><td>G</td><td>6</td><td>CHG</td><td>CC</td><td>0.00343053</td><td>2</td><td>583</td></tr>\n",
       "</tbody>\n",
       "</table>\n"
      ],
      "text/latex": [
       "A data.table: 6 × 8\n",
       "\\begin{tabular}{llllllll}\n",
       " V1 & V2 & V3 & V4 & V5 & V6 & V7 & V8\\\\\n",
       " <chr> & <chr> & <int> & <chr> & <chr> & <dbl> & <int> & <int>\\\\\n",
       "\\hline\n",
       "\t chrL & G & 1 & --  & -- & 0.01398600 & 8 & 572\\\\\n",
       "\t chrL & G & 2 & --  & -- & 0.00000000 & 0 & 578\\\\\n",
       "\t chrL & G & 3 & CHH & CC & 0.00000000 & 0 & 580\\\\\n",
       "\t chrL & C & 4 & CG  & CG & 0.00267380 & 1 & 374\\\\\n",
       "\t chrL & G & 5 & CG  & CG & 0.00172117 & 1 & 581\\\\\n",
       "\t chrL & G & 6 & CHG & CC & 0.00343053 & 2 & 583\\\\\n",
       "\\end{tabular}\n"
      ],
      "text/markdown": [
       "\n",
       "A data.table: 6 × 8\n",
       "\n",
       "| V1 &lt;chr&gt; | V2 &lt;chr&gt; | V3 &lt;int&gt; | V4 &lt;chr&gt; | V5 &lt;chr&gt; | V6 &lt;dbl&gt; | V7 &lt;int&gt; | V8 &lt;int&gt; |\n",
       "|---|---|---|---|---|---|---|---|\n",
       "| chrL | G | 1 | --  | -- | 0.01398600 | 8 | 572 |\n",
       "| chrL | G | 2 | --  | -- | 0.00000000 | 0 | 578 |\n",
       "| chrL | G | 3 | CHH | CC | 0.00000000 | 0 | 580 |\n",
       "| chrL | C | 4 | CG  | CG | 0.00267380 | 1 | 374 |\n",
       "| chrL | G | 5 | CG  | CG | 0.00172117 | 1 | 581 |\n",
       "| chrL | G | 6 | CHG | CC | 0.00343053 | 2 | 583 |\n",
       "\n"
      ],
      "text/plain": [
       "  V1   V2 V3 V4  V5 V6         V7 V8 \n",
       "1 chrL G  1  --  -- 0.01398600 8  572\n",
       "2 chrL G  2  --  -- 0.00000000 0  578\n",
       "3 chrL G  3  CHH CC 0.00000000 0  580\n",
       "4 chrL C  4  CG  CG 0.00267380 1  374\n",
       "5 chrL G  5  CG  CG 0.00172117 1  581\n",
       "6 chrL G  6  CHG CC 0.00343053 2  583"
      ]
     },
     "metadata": {},
     "output_type": "display_data"
    }
   ],
   "source": [
    "head(df)"
   ]
  },
  {
   "cell_type": "code",
   "execution_count": 54,
   "id": "2a2152cd-4af7-4997-a8eb-96ac35be2278",
   "metadata": {},
   "outputs": [],
   "source": [
    "colnames(df) <- c(\"chr\", \"nucleotide\", \"position\", \"context\", \"dinucl_context\", \"meth_level\", \"meth_read_count\", \"all_C_count\")\n",
    "    df <- df[context==\"CG\"]"
   ]
  },
  {
   "cell_type": "code",
   "execution_count": 55,
   "id": "1fd06c88-8435-4edc-9b63-eee5b4d6d30c",
   "metadata": {},
   "outputs": [
    {
     "data": {
      "text/html": [
       "<table class=\"dataframe\">\n",
       "<caption>A data.table: 6 × 8</caption>\n",
       "<thead>\n",
       "\t<tr><th scope=col>chr</th><th scope=col>nucleotide</th><th scope=col>position</th><th scope=col>context</th><th scope=col>dinucl_context</th><th scope=col>meth_level</th><th scope=col>meth_read_count</th><th scope=col>all_C_count</th></tr>\n",
       "\t<tr><th scope=col>&lt;chr&gt;</th><th scope=col>&lt;chr&gt;</th><th scope=col>&lt;int&gt;</th><th scope=col>&lt;chr&gt;</th><th scope=col>&lt;chr&gt;</th><th scope=col>&lt;dbl&gt;</th><th scope=col>&lt;int&gt;</th><th scope=col>&lt;int&gt;</th></tr>\n",
       "</thead>\n",
       "<tbody>\n",
       "\t<tr><td>chrL</td><td>C</td><td> 4</td><td>CG</td><td>CG</td><td>0.00267380</td><td>1</td><td>374</td></tr>\n",
       "\t<tr><td>chrL</td><td>G</td><td> 5</td><td>CG</td><td>CG</td><td>0.00172117</td><td>1</td><td>581</td></tr>\n",
       "\t<tr><td>chrL</td><td>C</td><td> 7</td><td>CG</td><td>CG</td><td>0.00531915</td><td>2</td><td>376</td></tr>\n",
       "\t<tr><td>chrL</td><td>G</td><td> 8</td><td>CG</td><td>CG</td><td>0.00343053</td><td>2</td><td>583</td></tr>\n",
       "\t<tr><td>chrL</td><td>C</td><td>13</td><td>CG</td><td>CG</td><td>0.00522193</td><td>2</td><td>383</td></tr>\n",
       "\t<tr><td>chrL</td><td>G</td><td>14</td><td>CG</td><td>CG</td><td>0.00000000</td><td>0</td><td>592</td></tr>\n",
       "</tbody>\n",
       "</table>\n"
      ],
      "text/latex": [
       "A data.table: 6 × 8\n",
       "\\begin{tabular}{llllllll}\n",
       " chr & nucleotide & position & context & dinucl\\_context & meth\\_level & meth\\_read\\_count & all\\_C\\_count\\\\\n",
       " <chr> & <chr> & <int> & <chr> & <chr> & <dbl> & <int> & <int>\\\\\n",
       "\\hline\n",
       "\t chrL & C &  4 & CG & CG & 0.00267380 & 1 & 374\\\\\n",
       "\t chrL & G &  5 & CG & CG & 0.00172117 & 1 & 581\\\\\n",
       "\t chrL & C &  7 & CG & CG & 0.00531915 & 2 & 376\\\\\n",
       "\t chrL & G &  8 & CG & CG & 0.00343053 & 2 & 583\\\\\n",
       "\t chrL & C & 13 & CG & CG & 0.00522193 & 2 & 383\\\\\n",
       "\t chrL & G & 14 & CG & CG & 0.00000000 & 0 & 592\\\\\n",
       "\\end{tabular}\n"
      ],
      "text/markdown": [
       "\n",
       "A data.table: 6 × 8\n",
       "\n",
       "| chr &lt;chr&gt; | nucleotide &lt;chr&gt; | position &lt;int&gt; | context &lt;chr&gt; | dinucl_context &lt;chr&gt; | meth_level &lt;dbl&gt; | meth_read_count &lt;int&gt; | all_C_count &lt;int&gt; |\n",
       "|---|---|---|---|---|---|---|---|\n",
       "| chrL | C |  4 | CG | CG | 0.00267380 | 1 | 374 |\n",
       "| chrL | G |  5 | CG | CG | 0.00172117 | 1 | 581 |\n",
       "| chrL | C |  7 | CG | CG | 0.00531915 | 2 | 376 |\n",
       "| chrL | G |  8 | CG | CG | 0.00343053 | 2 | 583 |\n",
       "| chrL | C | 13 | CG | CG | 0.00522193 | 2 | 383 |\n",
       "| chrL | G | 14 | CG | CG | 0.00000000 | 0 | 592 |\n",
       "\n"
      ],
      "text/plain": [
       "  chr  nucleotide position context dinucl_context meth_level meth_read_count\n",
       "1 chrL C           4       CG      CG             0.00267380 1              \n",
       "2 chrL G           5       CG      CG             0.00172117 1              \n",
       "3 chrL C           7       CG      CG             0.00531915 2              \n",
       "4 chrL G           8       CG      CG             0.00343053 2              \n",
       "5 chrL C          13       CG      CG             0.00522193 2              \n",
       "6 chrL G          14       CG      CG             0.00000000 0              \n",
       "  all_C_count\n",
       "1 374        \n",
       "2 581        \n",
       "3 376        \n",
       "4 583        \n",
       "5 383        \n",
       "6 592        "
      ]
     },
     "metadata": {},
     "output_type": "display_data"
    }
   ],
   "source": [
    "head(df)"
   ]
  },
  {
   "cell_type": "code",
   "execution_count": 49,
   "id": "f8630007-c8ab-4349-982a-7e2351da6893",
   "metadata": {},
   "outputs": [],
   "source": [
    "#mean_ratio = data.table()"
   ]
  },
  {
   "cell_type": "code",
   "execution_count": 56,
   "id": "99f33706-81d3-4274-9dbb-06ab1687b14c",
   "metadata": {},
   "outputs": [],
   "source": [
    "df <- df[all_C_count > 5]"
   ]
  },
  {
   "cell_type": "code",
   "execution_count": 57,
   "id": "fd757e97-0341-41d5-bd78-06834ee947b4",
   "metadata": {},
   "outputs": [],
   "source": [
    "mean_ratio <- rbind(mean_ratio, data.frame(path = as.character(annot$path[[1]]),\n",
    "                                           mean_ratio = mean(df$meth_level)))"
   ]
  },
  {
   "cell_type": "code",
   "execution_count": 58,
   "id": "c7455e98-3d35-4167-bf19-6d5df06aacb7",
   "metadata": {},
   "outputs": [
    {
     "data": {
      "text/html": [
       "<table class=\"dataframe\">\n",
       "<caption>A data.table: 2 × 2</caption>\n",
       "<thead>\n",
       "\t<tr><th scope=col>path</th><th scope=col>mean_ratio</th></tr>\n",
       "\t<tr><th scope=col>&lt;fct&gt;</th><th scope=col>&lt;dbl&gt;</th></tr>\n",
       "</thead>\n",
       "<tbody>\n",
       "\t<tr><td>/binfl/lv71484/droman/DNAmeth500species//resources/WGBS_public/Apis_mellifera.GCA_000002195.1.31.dna/brain/GSM4209497_mC_brain_queen_honeybee.CGmap</td><td>0.00670899</td></tr>\n",
       "\t<tr><td>/binfl/lv71484/droman/DNAmeth500species//resources/WGBS_public/Apis_mellifera.GCA_000002195.1.31.dna/brain/GSM4209497_mC_brain_queen_honeybee.CGmap</td><td>0.18028377</td></tr>\n",
       "</tbody>\n",
       "</table>\n"
      ],
      "text/latex": [
       "A data.table: 2 × 2\n",
       "\\begin{tabular}{ll}\n",
       " path & mean\\_ratio\\\\\n",
       " <fct> & <dbl>\\\\\n",
       "\\hline\n",
       "\t /binfl/lv71484/droman/DNAmeth500species//resources/WGBS\\_public/Apis\\_mellifera.GCA\\_000002195.1.31.dna/brain/GSM4209497\\_mC\\_brain\\_queen\\_honeybee.CGmap & 0.00670899\\\\\n",
       "\t /binfl/lv71484/droman/DNAmeth500species//resources/WGBS\\_public/Apis\\_mellifera.GCA\\_000002195.1.31.dna/brain/GSM4209497\\_mC\\_brain\\_queen\\_honeybee.CGmap & 0.18028377\\\\\n",
       "\\end{tabular}\n"
      ],
      "text/markdown": [
       "\n",
       "A data.table: 2 × 2\n",
       "\n",
       "| path &lt;fct&gt; | mean_ratio &lt;dbl&gt; |\n",
       "|---|---|\n",
       "| /binfl/lv71484/droman/DNAmeth500species//resources/WGBS_public/Apis_mellifera.GCA_000002195.1.31.dna/brain/GSM4209497_mC_brain_queen_honeybee.CGmap | 0.00670899 |\n",
       "| /binfl/lv71484/droman/DNAmeth500species//resources/WGBS_public/Apis_mellifera.GCA_000002195.1.31.dna/brain/GSM4209497_mC_brain_queen_honeybee.CGmap | 0.18028377 |\n",
       "\n"
      ],
      "text/plain": [
       "  path                                                                                                                                               \n",
       "1 /binfl/lv71484/droman/DNAmeth500species//resources/WGBS_public/Apis_mellifera.GCA_000002195.1.31.dna/brain/GSM4209497_mC_brain_queen_honeybee.CGmap\n",
       "2 /binfl/lv71484/droman/DNAmeth500species//resources/WGBS_public/Apis_mellifera.GCA_000002195.1.31.dna/brain/GSM4209497_mC_brain_queen_honeybee.CGmap\n",
       "  mean_ratio\n",
       "1 0.00670899\n",
       "2 0.18028377"
      ]
     },
     "metadata": {},
     "output_type": "display_data"
    }
   ],
   "source": [
    "mean_ratio"
   ]
  },
  {
   "cell_type": "code",
   "execution_count": null,
   "id": "dc9d9c47",
   "metadata": {},
   "outputs": [],
   "source": [
    "if(!file.exists(meth_file)){\n",
    "mean_ratio = data.table()\n",
    "for(i in c(1:NROW(annot))){\n",
    "    print(annot$path[[i]])\n",
    "    df <- fread(as.character(annot$path[[i]]))\n",
    "    print(NROW(df))\n",
    "    colnames(df) <- c(\"chr\", \"nucleotide\", \"position\", \"context\", \"dinucl_context\", \"meth_level\", \"meth_read_count\", \"all_C_count\")\n",
    "    df <- df[context==\"CG\"]\n",
    "    df <- df[all_C_count > 5]\n",
    "    mean_ratio <- rbind(mean_ratio, data.frame(path = as.character(annot$path[[i]]), mean_ratio = mean(df$meth_level)))\n",
    "}\n",
    "\n",
    "mean_ratio <- left_join(mean_ratio, annot)\n",
    "write.table(mean_ratio, meth_file, sep = \";\", quote = F, row.names = F)\n",
    "}else mean_ratio <- fread(meth_file)"
   ]
  },
  {
   "cell_type": "code",
   "execution_count": null,
   "id": "559e2307",
   "metadata": {},
   "outputs": [],
   "source": [
    "head(mean_ratio)"
   ]
  },
  {
   "cell_type": "code",
   "execution_count": 13,
   "id": "46523c02",
   "metadata": {},
   "outputs": [
    {
     "data": {
      "image/png": "[encoded data removed]",
      "text/plain": [
       "plot without title"
      ]
     },
     "metadata": {
      "image/png": {
       "height": 420,
       "width": 600
      }
     },
     "output_type": "display_data"
    }
   ],
   "source": [
    "options(repr.plot.width = 10)\n",
    "ggplot(mean_ratio, aes(x = organism, y = mean_ratio, color = tissue)) + geom_point(size = 5) + \n",
    "                            theme_bw() + theme(text = element_text(size = 20), axis.text.x = element_text(angle = 45, hjust = 1))\n",
    "ggsave(gsub(\"csv\", \"pdf\", meth_file), width = 10, height = 4)"
   ]
  },
  {
   "cell_type": "markdown",
   "id": "d9463683",
   "metadata": {},
   "source": [
    "## Data type 7 - gemBS output\n",
    "Zebrafish processed from the raw data (gemBS pipeline, ran by Bekir)  \n",
    "File description is at: http://statgen.cnag.cat/GEMBS/UserGuide/_build/html/pipelineExtract.html - ENCODE BED9+5 bedMethyl format\n"
   ]
  },
  {
   "cell_type": "code",
   "execution_count": 54,
   "id": "a669aeba",
   "metadata": {},
   "outputs": [
    {
     "data": {
      "text/html": [
       "<table class=\"dataframe\">\n",
       "<caption>A data.table: 6 × 14</caption>\n",
       "<thead>\n",
       "\t<tr><th scope=col>raw_file_GSM</th><th scope=col>tissue</th><th scope=col>replica</th><th scope=col>sample_name</th><th scope=col>barcode</th><th scope=col>dataset</th><th scope=col>flowcell</th><th scope=col>lane</th><th scope=col>platform</th><th scope=col>center</th><th scope=col>file1</th><th scope=col>file2</th><th scope=col>library</th><th scope=col>type</th></tr>\n",
       "\t<tr><th scope=col>&lt;chr&gt;</th><th scope=col>&lt;chr&gt;</th><th scope=col>&lt;int&gt;</th><th scope=col>&lt;chr&gt;</th><th scope=col>&lt;chr&gt;</th><th scope=col>&lt;chr&gt;</th><th scope=col>&lt;lgl&gt;</th><th scope=col>&lt;lgl&gt;</th><th scope=col>&lt;chr&gt;</th><th scope=col>&lt;chr&gt;</th><th scope=col>&lt;chr&gt;</th><th scope=col>&lt;chr&gt;</th><th scope=col>&lt;chr&gt;</th><th scope=col>&lt;chr&gt;</th></tr>\n",
       "</thead>\n",
       "<tbody>\n",
       "\t<tr><td>GSM4824409</td><td>heart    </td><td>1</td><td>GSM4824409_heart_1    </td><td>SRR12797058</td><td>SRR12797058</td><td>NA</td><td>NA</td><td>HiSeq</td><td>external</td><td>SRR12797058_1.fastq</td><td>SRR12797058_2.fastq</td><td>GSE149416</td><td>Paired</td></tr>\n",
       "\t<tr><td>GSM4824410</td><td>heart    </td><td>2</td><td>GSM4824410_heart_2    </td><td>SRR12797059</td><td>SRR12797059</td><td>NA</td><td>NA</td><td>HiSeq</td><td>external</td><td>SRR12797059_1.fastq</td><td>SRR12797059_2.fastq</td><td>GSE149416</td><td>Paired</td></tr>\n",
       "\t<tr><td>GSM4824411</td><td>intestine</td><td>1</td><td>GSM4824411_intestine_1</td><td>SRR12797060</td><td>SRR12797060</td><td>NA</td><td>NA</td><td>HiSeq</td><td>external</td><td>SRR12797060_1.fastq</td><td>SRR12797060_2.fastq</td><td>GSE149416</td><td>Paired</td></tr>\n",
       "\t<tr><td>GSM4824412</td><td>intestine</td><td>2</td><td>GSM4824412_intestine_2</td><td>SRR12797061</td><td>SRR12797061</td><td>NA</td><td>NA</td><td>HiSeq</td><td>external</td><td>SRR12797061_1.fastq</td><td>SRR12797061_2.fastq</td><td>GSE149416</td><td>Paired</td></tr>\n",
       "\t<tr><td>GSM4824413</td><td>skin     </td><td>1</td><td>GSM4824413_skin_1     </td><td>SRR12797062</td><td>SRR12797062</td><td>NA</td><td>NA</td><td>HiSeq</td><td>external</td><td>SRR12797062_1.fastq</td><td>SRR12797062_2.fastq</td><td>GSE149416</td><td>Paired</td></tr>\n",
       "\t<tr><td>GSM4824414</td><td>skin     </td><td>2</td><td>GSM4824414_skin_2     </td><td>SRR12797063</td><td>SRR12797063</td><td>NA</td><td>NA</td><td>HiSeq</td><td>external</td><td>SRR12797063_1.fastq</td><td>SRR12797063_2.fastq</td><td>GSE149416</td><td>Paired</td></tr>\n",
       "</tbody>\n",
       "</table>\n"
      ],
      "text/latex": [
       "A data.table: 6 × 14\n",
       "\\begin{tabular}{llllllllllllll}\n",
       " raw\\_file\\_GSM & tissue & replica & sample\\_name & barcode & dataset & flowcell & lane & platform & center & file1 & file2 & library & type\\\\\n",
       " <chr> & <chr> & <int> & <chr> & <chr> & <chr> & <lgl> & <lgl> & <chr> & <chr> & <chr> & <chr> & <chr> & <chr>\\\\\n",
       "\\hline\n",
       "\t GSM4824409 & heart     & 1 & GSM4824409\\_heart\\_1     & SRR12797058 & SRR12797058 & NA & NA & HiSeq & external & SRR12797058\\_1.fastq & SRR12797058\\_2.fastq & GSE149416 & Paired\\\\\n",
       "\t GSM4824410 & heart     & 2 & GSM4824410\\_heart\\_2     & SRR12797059 & SRR12797059 & NA & NA & HiSeq & external & SRR12797059\\_1.fastq & SRR12797059\\_2.fastq & GSE149416 & Paired\\\\\n",
       "\t GSM4824411 & intestine & 1 & GSM4824411\\_intestine\\_1 & SRR12797060 & SRR12797060 & NA & NA & HiSeq & external & SRR12797060\\_1.fastq & SRR12797060\\_2.fastq & GSE149416 & Paired\\\\\n",
       "\t GSM4824412 & intestine & 2 & GSM4824412\\_intestine\\_2 & SRR12797061 & SRR12797061 & NA & NA & HiSeq & external & SRR12797061\\_1.fastq & SRR12797061\\_2.fastq & GSE149416 & Paired\\\\\n",
       "\t GSM4824413 & skin      & 1 & GSM4824413\\_skin\\_1      & SRR12797062 & SRR12797062 & NA & NA & HiSeq & external & SRR12797062\\_1.fastq & SRR12797062\\_2.fastq & GSE149416 & Paired\\\\\n",
       "\t GSM4824414 & skin      & 2 & GSM4824414\\_skin\\_2      & SRR12797063 & SRR12797063 & NA & NA & HiSeq & external & SRR12797063\\_1.fastq & SRR12797063\\_2.fastq & GSE149416 & Paired\\\\\n",
       "\\end{tabular}\n"
      ],
      "text/markdown": [
       "\n",
       "A data.table: 6 × 14\n",
       "\n",
       "| raw_file_GSM &lt;chr&gt; | tissue &lt;chr&gt; | replica &lt;int&gt; | sample_name &lt;chr&gt; | barcode &lt;chr&gt; | dataset &lt;chr&gt; | flowcell &lt;lgl&gt; | lane &lt;lgl&gt; | platform &lt;chr&gt; | center &lt;chr&gt; | file1 &lt;chr&gt; | file2 &lt;chr&gt; | library &lt;chr&gt; | type &lt;chr&gt; |\n",
       "|---|---|---|---|---|---|---|---|---|---|---|---|---|---|\n",
       "| GSM4824409 | heart     | 1 | GSM4824409_heart_1     | SRR12797058 | SRR12797058 | NA | NA | HiSeq | external | SRR12797058_1.fastq | SRR12797058_2.fastq | GSE149416 | Paired |\n",
       "| GSM4824410 | heart     | 2 | GSM4824410_heart_2     | SRR12797059 | SRR12797059 | NA | NA | HiSeq | external | SRR12797059_1.fastq | SRR12797059_2.fastq | GSE149416 | Paired |\n",
       "| GSM4824411 | intestine | 1 | GSM4824411_intestine_1 | SRR12797060 | SRR12797060 | NA | NA | HiSeq | external | SRR12797060_1.fastq | SRR12797060_2.fastq | GSE149416 | Paired |\n",
       "| GSM4824412 | intestine | 2 | GSM4824412_intestine_2 | SRR12797061 | SRR12797061 | NA | NA | HiSeq | external | SRR12797061_1.fastq | SRR12797061_2.fastq | GSE149416 | Paired |\n",
       "| GSM4824413 | skin      | 1 | GSM4824413_skin_1      | SRR12797062 | SRR12797062 | NA | NA | HiSeq | external | SRR12797062_1.fastq | SRR12797062_2.fastq | GSE149416 | Paired |\n",
       "| GSM4824414 | skin      | 2 | GSM4824414_skin_2      | SRR12797063 | SRR12797063 | NA | NA | HiSeq | external | SRR12797063_1.fastq | SRR12797063_2.fastq | GSE149416 | Paired |\n",
       "\n"
      ],
      "text/plain": [
       "  raw_file_GSM tissue    replica sample_name            barcode     dataset    \n",
       "1 GSM4824409   heart     1       GSM4824409_heart_1     SRR12797058 SRR12797058\n",
       "2 GSM4824410   heart     2       GSM4824410_heart_2     SRR12797059 SRR12797059\n",
       "3 GSM4824411   intestine 1       GSM4824411_intestine_1 SRR12797060 SRR12797060\n",
       "4 GSM4824412   intestine 2       GSM4824412_intestine_2 SRR12797061 SRR12797061\n",
       "5 GSM4824413   skin      1       GSM4824413_skin_1      SRR12797062 SRR12797062\n",
       "6 GSM4824414   skin      2       GSM4824414_skin_2      SRR12797063 SRR12797063\n",
       "  flowcell lane platform center   file1               file2              \n",
       "1 NA       NA   HiSeq    external SRR12797058_1.fastq SRR12797058_2.fastq\n",
       "2 NA       NA   HiSeq    external SRR12797059_1.fastq SRR12797059_2.fastq\n",
       "3 NA       NA   HiSeq    external SRR12797060_1.fastq SRR12797060_2.fastq\n",
       "4 NA       NA   HiSeq    external SRR12797061_1.fastq SRR12797061_2.fastq\n",
       "5 NA       NA   HiSeq    external SRR12797062_1.fastq SRR12797062_2.fastq\n",
       "6 NA       NA   HiSeq    external SRR12797063_1.fastq SRR12797063_2.fastq\n",
       "  library   type  \n",
       "1 GSE149416 Paired\n",
       "2 GSE149416 Paired\n",
       "3 GSE149416 Paired\n",
       "4 GSE149416 Paired\n",
       "5 GSE149416 Paired\n",
       "6 GSE149416 Paired"
      ]
     },
     "metadata": {},
     "output_type": "display_data"
    }
   ],
   "source": [
    "annot <- fread(file.path(WGBS_dir, \"Danio_rerio_gemBS\", \"BSX_0021_Zebrafish_WGBS_wgbs_gembs_samples.csv\"))\n",
    "head(annot)"
   ]
  },
  {
   "cell_type": "code",
   "execution_count": 55,
   "id": "d6e26fbc",
   "metadata": {},
   "outputs": [],
   "source": [
    "annot[, path:=paste0(file.path(WGBS_dir, \"Danio_rerio_gemBS\",\"extract/\"), dataset, \"_cpg.bed.gz\"),]"
   ]
  },
  {
   "cell_type": "code",
   "execution_count": 56,
   "id": "5fb749d7",
   "metadata": {},
   "outputs": [],
   "source": [
    "annot[, path_bed:=paste0(WGBS_dir, \"/Danio_rerio_\", library,\"/\", sample_name, \".bed\"),]"
   ]
  },
  {
   "cell_type": "code",
   "execution_count": 57,
   "id": "e9ad8dd4",
   "metadata": {},
   "outputs": [],
   "source": [
    "colnames(annot)[16] <- \"path_unif\" "
   ]
  },
  {
   "cell_type": "code",
   "execution_count": 58,
   "id": "89e3e49a",
   "metadata": {},
   "outputs": [
    {
     "data": {
      "text/html": [
       "<table class=\"dataframe\">\n",
       "<caption>A data.table: 6 × 16</caption>\n",
       "<thead>\n",
       "\t<tr><th scope=col>raw_file_GSM</th><th scope=col>tissue</th><th scope=col>replica</th><th scope=col>sample_name</th><th scope=col>barcode</th><th scope=col>dataset</th><th scope=col>flowcell</th><th scope=col>lane</th><th scope=col>platform</th><th scope=col>center</th><th scope=col>file1</th><th scope=col>file2</th><th scope=col>library</th><th scope=col>type</th><th scope=col>path</th><th scope=col>path_unif</th></tr>\n",
       "\t<tr><th scope=col>&lt;chr&gt;</th><th scope=col>&lt;chr&gt;</th><th scope=col>&lt;int&gt;</th><th scope=col>&lt;chr&gt;</th><th scope=col>&lt;chr&gt;</th><th scope=col>&lt;chr&gt;</th><th scope=col>&lt;lgl&gt;</th><th scope=col>&lt;lgl&gt;</th><th scope=col>&lt;chr&gt;</th><th scope=col>&lt;chr&gt;</th><th scope=col>&lt;chr&gt;</th><th scope=col>&lt;chr&gt;</th><th scope=col>&lt;chr&gt;</th><th scope=col>&lt;chr&gt;</th><th scope=col>&lt;chr&gt;</th><th scope=col>&lt;chr&gt;</th></tr>\n",
       "</thead>\n",
       "<tbody>\n",
       "\t<tr><td>GSM4824409</td><td>heart    </td><td>1</td><td>GSM4824409_heart_1    </td><td>SRR12797058</td><td>SRR12797058</td><td>NA</td><td>NA</td><td>HiSeq</td><td>external</td><td>SRR12797058_1.fastq</td><td>SRR12797058_2.fastq</td><td>GSE149416</td><td>Paired</td><td>/binfl/lv71484/droman/DNAmeth500species//resources/WGBS_public/Danio_rerio_gemBS/extract/SRR12797058_cpg.bed.gz</td><td>/binfl/lv71484/droman/DNAmeth500species//resources/WGBS_public/Danio_rerio_GSE149416/GSM4824409_heart_1.bed    </td></tr>\n",
       "\t<tr><td>GSM4824410</td><td>heart    </td><td>2</td><td>GSM4824410_heart_2    </td><td>SRR12797059</td><td>SRR12797059</td><td>NA</td><td>NA</td><td>HiSeq</td><td>external</td><td>SRR12797059_1.fastq</td><td>SRR12797059_2.fastq</td><td>GSE149416</td><td>Paired</td><td>/binfl/lv71484/droman/DNAmeth500species//resources/WGBS_public/Danio_rerio_gemBS/extract/SRR12797059_cpg.bed.gz</td><td>/binfl/lv71484/droman/DNAmeth500species//resources/WGBS_public/Danio_rerio_GSE149416/GSM4824410_heart_2.bed    </td></tr>\n",
       "\t<tr><td>GSM4824411</td><td>intestine</td><td>1</td><td>GSM4824411_intestine_1</td><td>SRR12797060</td><td>SRR12797060</td><td>NA</td><td>NA</td><td>HiSeq</td><td>external</td><td>SRR12797060_1.fastq</td><td>SRR12797060_2.fastq</td><td>GSE149416</td><td>Paired</td><td>/binfl/lv71484/droman/DNAmeth500species//resources/WGBS_public/Danio_rerio_gemBS/extract/SRR12797060_cpg.bed.gz</td><td>/binfl/lv71484/droman/DNAmeth500species//resources/WGBS_public/Danio_rerio_GSE149416/GSM4824411_intestine_1.bed</td></tr>\n",
       "\t<tr><td>GSM4824412</td><td>intestine</td><td>2</td><td>GSM4824412_intestine_2</td><td>SRR12797061</td><td>SRR12797061</td><td>NA</td><td>NA</td><td>HiSeq</td><td>external</td><td>SRR12797061_1.fastq</td><td>SRR12797061_2.fastq</td><td>GSE149416</td><td>Paired</td><td>/binfl/lv71484/droman/DNAmeth500species//resources/WGBS_public/Danio_rerio_gemBS/extract/SRR12797061_cpg.bed.gz</td><td>/binfl/lv71484/droman/DNAmeth500species//resources/WGBS_public/Danio_rerio_GSE149416/GSM4824412_intestine_2.bed</td></tr>\n",
       "\t<tr><td>GSM4824413</td><td>skin     </td><td>1</td><td>GSM4824413_skin_1     </td><td>SRR12797062</td><td>SRR12797062</td><td>NA</td><td>NA</td><td>HiSeq</td><td>external</td><td>SRR12797062_1.fastq</td><td>SRR12797062_2.fastq</td><td>GSE149416</td><td>Paired</td><td>/binfl/lv71484/droman/DNAmeth500species//resources/WGBS_public/Danio_rerio_gemBS/extract/SRR12797062_cpg.bed.gz</td><td>/binfl/lv71484/droman/DNAmeth500species//resources/WGBS_public/Danio_rerio_GSE149416/GSM4824413_skin_1.bed     </td></tr>\n",
       "\t<tr><td>GSM4824414</td><td>skin     </td><td>2</td><td>GSM4824414_skin_2     </td><td>SRR12797063</td><td>SRR12797063</td><td>NA</td><td>NA</td><td>HiSeq</td><td>external</td><td>SRR12797063_1.fastq</td><td>SRR12797063_2.fastq</td><td>GSE149416</td><td>Paired</td><td>/binfl/lv71484/droman/DNAmeth500species//resources/WGBS_public/Danio_rerio_gemBS/extract/SRR12797063_cpg.bed.gz</td><td>/binfl/lv71484/droman/DNAmeth500species//resources/WGBS_public/Danio_rerio_GSE149416/GSM4824414_skin_2.bed     </td></tr>\n",
       "</tbody>\n",
       "</table>\n"
      ],
      "text/latex": [
       "A data.table: 6 × 16\n",
       "\\begin{tabular}{llllllllllllllll}\n",
       " raw\\_file\\_GSM & tissue & replica & sample\\_name & barcode & dataset & flowcell & lane & platform & center & file1 & file2 & library & type & path & path\\_unif\\\\\n",
       " <chr> & <chr> & <int> & <chr> & <chr> & <chr> & <lgl> & <lgl> & <chr> & <chr> & <chr> & <chr> & <chr> & <chr> & <chr> & <chr>\\\\\n",
       "\\hline\n",
       "\t GSM4824409 & heart     & 1 & GSM4824409\\_heart\\_1     & SRR12797058 & SRR12797058 & NA & NA & HiSeq & external & SRR12797058\\_1.fastq & SRR12797058\\_2.fastq & GSE149416 & Paired & /binfl/lv71484/droman/DNAmeth500species//resources/WGBS\\_public/Danio\\_rerio\\_gemBS/extract/SRR12797058\\_cpg.bed.gz & /binfl/lv71484/droman/DNAmeth500species//resources/WGBS\\_public/Danio\\_rerio\\_GSE149416/GSM4824409\\_heart\\_1.bed    \\\\\n",
       "\t GSM4824410 & heart     & 2 & GSM4824410\\_heart\\_2     & SRR12797059 & SRR12797059 & NA & NA & HiSeq & external & SRR12797059\\_1.fastq & SRR12797059\\_2.fastq & GSE149416 & Paired & /binfl/lv71484/droman/DNAmeth500species//resources/WGBS\\_public/Danio\\_rerio\\_gemBS/extract/SRR12797059\\_cpg.bed.gz & /binfl/lv71484/droman/DNAmeth500species//resources/WGBS\\_public/Danio\\_rerio\\_GSE149416/GSM4824410\\_heart\\_2.bed    \\\\\n",
       "\t GSM4824411 & intestine & 1 & GSM4824411\\_intestine\\_1 & SRR12797060 & SRR12797060 & NA & NA & HiSeq & external & SRR12797060\\_1.fastq & SRR12797060\\_2.fastq & GSE149416 & Paired & /binfl/lv71484/droman/DNAmeth500species//resources/WGBS\\_public/Danio\\_rerio\\_gemBS/extract/SRR12797060\\_cpg.bed.gz & /binfl/lv71484/droman/DNAmeth500species//resources/WGBS\\_public/Danio\\_rerio\\_GSE149416/GSM4824411\\_intestine\\_1.bed\\\\\n",
       "\t GSM4824412 & intestine & 2 & GSM4824412\\_intestine\\_2 & SRR12797061 & SRR12797061 & NA & NA & HiSeq & external & SRR12797061\\_1.fastq & SRR12797061\\_2.fastq & GSE149416 & Paired & /binfl/lv71484/droman/DNAmeth500species//resources/WGBS\\_public/Danio\\_rerio\\_gemBS/extract/SRR12797061\\_cpg.bed.gz & /binfl/lv71484/droman/DNAmeth500species//resources/WGBS\\_public/Danio\\_rerio\\_GSE149416/GSM4824412\\_intestine\\_2.bed\\\\\n",
       "\t GSM4824413 & skin      & 1 & GSM4824413\\_skin\\_1      & SRR12797062 & SRR12797062 & NA & NA & HiSeq & external & SRR12797062\\_1.fastq & SRR12797062\\_2.fastq & GSE149416 & Paired & /binfl/lv71484/droman/DNAmeth500species//resources/WGBS\\_public/Danio\\_rerio\\_gemBS/extract/SRR12797062\\_cpg.bed.gz & /binfl/lv71484/droman/DNAmeth500species//resources/WGBS\\_public/Danio\\_rerio\\_GSE149416/GSM4824413\\_skin\\_1.bed     \\\\\n",
       "\t GSM4824414 & skin      & 2 & GSM4824414\\_skin\\_2      & SRR12797063 & SRR12797063 & NA & NA & HiSeq & external & SRR12797063\\_1.fastq & SRR12797063\\_2.fastq & GSE149416 & Paired & /binfl/lv71484/droman/DNAmeth500species//resources/WGBS\\_public/Danio\\_rerio\\_gemBS/extract/SRR12797063\\_cpg.bed.gz & /binfl/lv71484/droman/DNAmeth500species//resources/WGBS\\_public/Danio\\_rerio\\_GSE149416/GSM4824414\\_skin\\_2.bed     \\\\\n",
       "\\end{tabular}\n"
      ],
      "text/markdown": [
       "\n",
       "A data.table: 6 × 16\n",
       "\n",
       "| raw_file_GSM &lt;chr&gt; | tissue &lt;chr&gt; | replica &lt;int&gt; | sample_name &lt;chr&gt; | barcode &lt;chr&gt; | dataset &lt;chr&gt; | flowcell &lt;lgl&gt; | lane &lt;lgl&gt; | platform &lt;chr&gt; | center &lt;chr&gt; | file1 &lt;chr&gt; | file2 &lt;chr&gt; | library &lt;chr&gt; | type &lt;chr&gt; | path &lt;chr&gt; | path_unif &lt;chr&gt; |\n",
       "|---|---|---|---|---|---|---|---|---|---|---|---|---|---|---|---|\n",
       "| GSM4824409 | heart     | 1 | GSM4824409_heart_1     | SRR12797058 | SRR12797058 | NA | NA | HiSeq | external | SRR12797058_1.fastq | SRR12797058_2.fastq | GSE149416 | Paired | /binfl/lv71484/droman/DNAmeth500species//resources/WGBS_public/Danio_rerio_gemBS/extract/SRR12797058_cpg.bed.gz | /binfl/lv71484/droman/DNAmeth500species//resources/WGBS_public/Danio_rerio_GSE149416/GSM4824409_heart_1.bed     |\n",
       "| GSM4824410 | heart     | 2 | GSM4824410_heart_2     | SRR12797059 | SRR12797059 | NA | NA | HiSeq | external | SRR12797059_1.fastq | SRR12797059_2.fastq | GSE149416 | Paired | /binfl/lv71484/droman/DNAmeth500species//resources/WGBS_public/Danio_rerio_gemBS/extract/SRR12797059_cpg.bed.gz | /binfl/lv71484/droman/DNAmeth500species//resources/WGBS_public/Danio_rerio_GSE149416/GSM4824410_heart_2.bed     |\n",
       "| GSM4824411 | intestine | 1 | GSM4824411_intestine_1 | SRR12797060 | SRR12797060 | NA | NA | HiSeq | external | SRR12797060_1.fastq | SRR12797060_2.fastq | GSE149416 | Paired | /binfl/lv71484/droman/DNAmeth500species//resources/WGBS_public/Danio_rerio_gemBS/extract/SRR12797060_cpg.bed.gz | /binfl/lv71484/droman/DNAmeth500species//resources/WGBS_public/Danio_rerio_GSE149416/GSM4824411_intestine_1.bed |\n",
       "| GSM4824412 | intestine | 2 | GSM4824412_intestine_2 | SRR12797061 | SRR12797061 | NA | NA | HiSeq | external | SRR12797061_1.fastq | SRR12797061_2.fastq | GSE149416 | Paired | /binfl/lv71484/droman/DNAmeth500species//resources/WGBS_public/Danio_rerio_gemBS/extract/SRR12797061_cpg.bed.gz | /binfl/lv71484/droman/DNAmeth500species//resources/WGBS_public/Danio_rerio_GSE149416/GSM4824412_intestine_2.bed |\n",
       "| GSM4824413 | skin      | 1 | GSM4824413_skin_1      | SRR12797062 | SRR12797062 | NA | NA | HiSeq | external | SRR12797062_1.fastq | SRR12797062_2.fastq | GSE149416 | Paired | /binfl/lv71484/droman/DNAmeth500species//resources/WGBS_public/Danio_rerio_gemBS/extract/SRR12797062_cpg.bed.gz | /binfl/lv71484/droman/DNAmeth500species//resources/WGBS_public/Danio_rerio_GSE149416/GSM4824413_skin_1.bed      |\n",
       "| GSM4824414 | skin      | 2 | GSM4824414_skin_2      | SRR12797063 | SRR12797063 | NA | NA | HiSeq | external | SRR12797063_1.fastq | SRR12797063_2.fastq | GSE149416 | Paired | /binfl/lv71484/droman/DNAmeth500species//resources/WGBS_public/Danio_rerio_gemBS/extract/SRR12797063_cpg.bed.gz | /binfl/lv71484/droman/DNAmeth500species//resources/WGBS_public/Danio_rerio_GSE149416/GSM4824414_skin_2.bed      |\n",
       "\n"
      ],
      "text/plain": [
       "  raw_file_GSM tissue    replica sample_name            barcode     dataset    \n",
       "1 GSM4824409   heart     1       GSM4824409_heart_1     SRR12797058 SRR12797058\n",
       "2 GSM4824410   heart     2       GSM4824410_heart_2     SRR12797059 SRR12797059\n",
       "3 GSM4824411   intestine 1       GSM4824411_intestine_1 SRR12797060 SRR12797060\n",
       "4 GSM4824412   intestine 2       GSM4824412_intestine_2 SRR12797061 SRR12797061\n",
       "5 GSM4824413   skin      1       GSM4824413_skin_1      SRR12797062 SRR12797062\n",
       "6 GSM4824414   skin      2       GSM4824414_skin_2      SRR12797063 SRR12797063\n",
       "  flowcell lane platform center   file1               file2              \n",
       "1 NA       NA   HiSeq    external SRR12797058_1.fastq SRR12797058_2.fastq\n",
       "2 NA       NA   HiSeq    external SRR12797059_1.fastq SRR12797059_2.fastq\n",
       "3 NA       NA   HiSeq    external SRR12797060_1.fastq SRR12797060_2.fastq\n",
       "4 NA       NA   HiSeq    external SRR12797061_1.fastq SRR12797061_2.fastq\n",
       "5 NA       NA   HiSeq    external SRR12797062_1.fastq SRR12797062_2.fastq\n",
       "6 NA       NA   HiSeq    external SRR12797063_1.fastq SRR12797063_2.fastq\n",
       "  library   type  \n",
       "1 GSE149416 Paired\n",
       "2 GSE149416 Paired\n",
       "3 GSE149416 Paired\n",
       "4 GSE149416 Paired\n",
       "5 GSE149416 Paired\n",
       "6 GSE149416 Paired\n",
       "  path                                                                                                           \n",
       "1 /binfl/lv71484/droman/DNAmeth500species//resources/WGBS_public/Danio_rerio_gemBS/extract/SRR12797058_cpg.bed.gz\n",
       "2 /binfl/lv71484/droman/DNAmeth500species//resources/WGBS_public/Danio_rerio_gemBS/extract/SRR12797059_cpg.bed.gz\n",
       "3 /binfl/lv71484/droman/DNAmeth500species//resources/WGBS_public/Danio_rerio_gemBS/extract/SRR12797060_cpg.bed.gz\n",
       "4 /binfl/lv71484/droman/DNAmeth500species//resources/WGBS_public/Danio_rerio_gemBS/extract/SRR12797061_cpg.bed.gz\n",
       "5 /binfl/lv71484/droman/DNAmeth500species//resources/WGBS_public/Danio_rerio_gemBS/extract/SRR12797062_cpg.bed.gz\n",
       "6 /binfl/lv71484/droman/DNAmeth500species//resources/WGBS_public/Danio_rerio_gemBS/extract/SRR12797063_cpg.bed.gz\n",
       "  path_unif                                                                                                      \n",
       "1 /binfl/lv71484/droman/DNAmeth500species//resources/WGBS_public/Danio_rerio_GSE149416/GSM4824409_heart_1.bed    \n",
       "2 /binfl/lv71484/droman/DNAmeth500species//resources/WGBS_public/Danio_rerio_GSE149416/GSM4824410_heart_2.bed    \n",
       "3 /binfl/lv71484/droman/DNAmeth500species//resources/WGBS_public/Danio_rerio_GSE149416/GSM4824411_intestine_1.bed\n",
       "4 /binfl/lv71484/droman/DNAmeth500species//resources/WGBS_public/Danio_rerio_GSE149416/GSM4824412_intestine_2.bed\n",
       "5 /binfl/lv71484/droman/DNAmeth500species//resources/WGBS_public/Danio_rerio_GSE149416/GSM4824413_skin_1.bed     \n",
       "6 /binfl/lv71484/droman/DNAmeth500species//resources/WGBS_public/Danio_rerio_GSE149416/GSM4824414_skin_2.bed     "
      ]
     },
     "metadata": {},
     "output_type": "display_data"
    }
   ],
   "source": [
    "head(annot)"
   ]
  },
  {
   "cell_type": "code",
   "execution_count": 61,
   "id": "cc1cd7e1",
   "metadata": {},
   "outputs": [],
   "source": [
    "write.table(annot[library == \"GSE149416\",c(\"path\",\"path_unif\",\"tissue\",\"replica\")], paste0(WGBS_dir, \"/Danio_rerio_GSE149416/WGBS_annot.csv\"), row.names = FALSE, quote = FALSE, sep = \";\")"
   ]
  },
  {
   "cell_type": "code",
   "execution_count": 62,
   "id": "602e2e89",
   "metadata": {},
   "outputs": [],
   "source": [
    "write.table(annot[library == \"GSE134055\",c(\"path\",\"path_unif\",\"tissue\",\"replica\")], paste0(WGBS_dir, \"/Danio_rerio_GSE134055/WGBS_annot.csv\"), row.names = FALSE, quote = FALSE, sep = \";\")"
   ]
  },
  {
   "cell_type": "code",
   "execution_count": null,
   "id": "0692e76c-fc75-4a28-a0fa-1b7f69e49f19",
   "metadata": {},
   "outputs": [],
   "source": [
    "meth.file <- \"danRer11_GSE149416.csv\""
   ]
  },
  {
   "cell_type": "code",
   "execution_count": 28,
   "id": "dd8bd026",
   "metadata": {},
   "outputs": [],
   "source": [
    "if(!file.exists(meth.file)){\n",
    "mean_ratio = data.table()\n",
    "for(i in c(1:NROW(annot[library == \"GSE149416\"]) + 1)){  ##processed the first & blood from the second\n",
    "    print(annot$path[[i]])\n",
    "    df <- fread(annot$path[[i]], skip = 1)\n",
    "    save_bed(df[, c(1,2,3,6,10,11)], annot$path_bed[[i]])\n",
    "    mean_r = mean(df[V10 > 5]$V11)\n",
    "    mean_ratio <- rbind(mean_ratio, data.frame(path = annot$path[[i]], mean_ratio = mean_r))\n",
    "    mean_ratio <- left_join(mean_ratio, annot)\n",
    "    write.table(mean_ratio[library == \"GSE149416\",],  \"../validation/WGBS_public/Danio_rerio_GSE149416.csv\", sep = \";\", quote = F, row.names = F)\n",
    "    }   \n",
    "}else mean_ratio <- fread(meth.file)"
   ]
  },
  {
   "cell_type": "markdown",
   "id": "6ff919ac",
   "metadata": {},
   "source": [
    "Here we have two files for each run, making it even more fun!"
   ]
  },
  {
   "cell_type": "code",
   "execution_count": 51,
   "id": "92723b95",
   "metadata": {},
   "outputs": [
    {
     "name": "stderr",
     "output_type": "stream",
     "text": [
      "Joining, by = \"path\"\n",
      "\n"
     ]
    }
   ],
   "source": [
    "mean_ratio <- left_join(mean_ratio, annot)"
   ]
  },
  {
   "cell_type": "code",
   "execution_count": 56,
   "id": "e9ab714c",
   "metadata": {},
   "outputs": [],
   "source": [
    "write.table(mean_ratio[library == \"GSE149416\",],  \"../validation/WGBS_public/Danio_rerio_GSE149416.csv\", sep = \";\", quote = F, row.names = F)"
   ]
  },
  {
   "cell_type": "code",
   "execution_count": 57,
   "id": "052cd14f",
   "metadata": {},
   "outputs": [],
   "source": [
    "mean_ratio <- mean_ratio[library == \"GSE134055\",c(path, mean_ratio)]"
   ]
  },
  {
   "cell_type": "code",
   "execution_count": 61,
   "id": "d3b8edc9",
   "metadata": {},
   "outputs": [
    {
     "data": {
      "text/html": [
       "<table class=\"dataframe\">\n",
       "<caption>A data.table: 1 × 2</caption>\n",
       "<thead>\n",
       "\t<tr><th scope=col>path</th><th scope=col>mean_ratio</th></tr>\n",
       "\t<tr><th scope=col>&lt;fct&gt;</th><th scope=col>&lt;dbl&gt;</th></tr>\n",
       "</thead>\n",
       "<tbody>\n",
       "\t<tr><td>../../resources/WGBS_public/Danio_rerio_gemBS/extract/SRR12173554_cpg.bed.gz</td><td>76.22891</td></tr>\n",
       "</tbody>\n",
       "</table>\n"
      ],
      "text/latex": [
       "A data.table: 1 × 2\n",
       "\\begin{tabular}{ll}\n",
       " path & mean\\_ratio\\\\\n",
       " <fct> & <dbl>\\\\\n",
       "\\hline\n",
       "\t ../../resources/WGBS\\_public/Danio\\_rerio\\_gemBS/extract/SRR12173554\\_cpg.bed.gz & 76.22891\\\\\n",
       "\\end{tabular}\n"
      ],
      "text/markdown": [
       "\n",
       "A data.table: 1 × 2\n",
       "\n",
       "| path &lt;fct&gt; | mean_ratio &lt;dbl&gt; |\n",
       "|---|---|\n",
       "| ../../resources/WGBS_public/Danio_rerio_gemBS/extract/SRR12173554_cpg.bed.gz | 76.22891 |\n",
       "\n"
      ],
      "text/plain": [
       "  path                                                                        \n",
       "1 ../../resources/WGBS_public/Danio_rerio_gemBS/extract/SRR12173554_cpg.bed.gz\n",
       "  mean_ratio\n",
       "1 76.22891  "
      ]
     },
     "metadata": {},
     "output_type": "display_data"
    }
   ],
   "source": [
    "mean_ratio"
   ]
  },
  {
   "cell_type": "code",
   "execution_count": 40,
   "id": "0d659245",
   "metadata": {},
   "outputs": [],
   "source": [
    "annot_double <- annot[c((NROW(annot[library == \"GSE149416\"])+2):NROW(annot))]"
   ]
  },
  {
   "cell_type": "code",
   "execution_count": 66,
   "id": "2e1dda9c",
   "metadata": {},
   "outputs": [],
   "source": [
    "df1 <- fread(annot_double$path[[1]], skip =1)"
   ]
  },
  {
   "cell_type": "code",
   "execution_count": 67,
   "id": "0b0b4c00",
   "metadata": {},
   "outputs": [],
   "source": [
    "df2 <- fread(annot_double$path[[2]], skip = 1)"
   ]
  },
  {
   "cell_type": "code",
   "execution_count": 68,
   "id": "722accf3",
   "metadata": {},
   "outputs": [
    {
     "data": {
      "text/html": [
       "<table class=\"dataframe\">\n",
       "<caption>A data.table: 6 × 14</caption>\n",
       "<thead>\n",
       "\t<tr><th scope=col>V1</th><th scope=col>V2</th><th scope=col>V3</th><th scope=col>V4</th><th scope=col>V5</th><th scope=col>V6</th><th scope=col>V7</th><th scope=col>V8</th><th scope=col>V9</th><th scope=col>V10</th><th scope=col>V11</th><th scope=col>V12</th><th scope=col>V13</th><th scope=col>V14</th></tr>\n",
       "\t<tr><th scope=col>&lt;chr&gt;</th><th scope=col>&lt;int&gt;</th><th scope=col>&lt;int&gt;</th><th scope=col>&lt;chr&gt;</th><th scope=col>&lt;int&gt;</th><th scope=col>&lt;chr&gt;</th><th scope=col>&lt;int&gt;</th><th scope=col>&lt;int&gt;</th><th scope=col>&lt;chr&gt;</th><th scope=col>&lt;int&gt;</th><th scope=col>&lt;int&gt;</th><th scope=col>&lt;chr&gt;</th><th scope=col>&lt;chr&gt;</th><th scope=col>&lt;int&gt;</th></tr>\n",
       "</thead>\n",
       "<tbody>\n",
       "\t<tr><td>chr1</td><td> 81</td><td> 82</td><td>GSM4662071_Brain_1</td><td> 3</td><td>+</td><td> 81</td><td> 82</td><td>255,0,0  </td><td> 3</td><td>100</td><td>CG</td><td>MG</td><td> 2</td></tr>\n",
       "\t<tr><td>chr1</td><td> 82</td><td> 83</td><td>GSM4662071_Brain_1</td><td> 5</td><td>-</td><td> 82</td><td> 83</td><td>255,0,0  </td><td> 5</td><td>100</td><td>CG</td><td>CK</td><td>20</td></tr>\n",
       "\t<tr><td>chr1</td><td> 92</td><td> 93</td><td>GSM4662071_Brain_1</td><td> 3</td><td>+</td><td> 92</td><td> 93</td><td>255,155,0</td><td> 3</td><td> 66</td><td>CG</td><td>CG</td><td>19</td></tr>\n",
       "\t<tr><td>chr1</td><td> 93</td><td> 94</td><td>GSM4662071_Brain_1</td><td> 6</td><td>-</td><td> 93</td><td> 94</td><td>255,105,0</td><td> 6</td><td> 83</td><td>CG</td><td>CG</td><td>16</td></tr>\n",
       "\t<tr><td>chr1</td><td>149</td><td>150</td><td>GSM4662071_Brain_1</td><td>11</td><td>+</td><td>149</td><td>150</td><td>255,55,0 </td><td>11</td><td> 90</td><td>CG</td><td>CG</td><td>42</td></tr>\n",
       "\t<tr><td>chr1</td><td>150</td><td>151</td><td>GSM4662071_Brain_1</td><td> 6</td><td>-</td><td>150</td><td>151</td><td>255,105,0</td><td> 6</td><td> 83</td><td>CG</td><td>CG</td><td>40</td></tr>\n",
       "</tbody>\n",
       "</table>\n"
      ],
      "text/latex": [
       "A data.table: 6 × 14\n",
       "\\begin{tabular}{llllllllllllll}\n",
       " V1 & V2 & V3 & V4 & V5 & V6 & V7 & V8 & V9 & V10 & V11 & V12 & V13 & V14\\\\\n",
       " <chr> & <int> & <int> & <chr> & <int> & <chr> & <int> & <int> & <chr> & <int> & <int> & <chr> & <chr> & <int>\\\\\n",
       "\\hline\n",
       "\t chr1 &  81 &  82 & GSM4662071\\_Brain\\_1 &  3 & + &  81 &  82 & 255,0,0   &  3 & 100 & CG & MG &  2\\\\\n",
       "\t chr1 &  82 &  83 & GSM4662071\\_Brain\\_1 &  5 & - &  82 &  83 & 255,0,0   &  5 & 100 & CG & CK & 20\\\\\n",
       "\t chr1 &  92 &  93 & GSM4662071\\_Brain\\_1 &  3 & + &  92 &  93 & 255,155,0 &  3 &  66 & CG & CG & 19\\\\\n",
       "\t chr1 &  93 &  94 & GSM4662071\\_Brain\\_1 &  6 & - &  93 &  94 & 255,105,0 &  6 &  83 & CG & CG & 16\\\\\n",
       "\t chr1 & 149 & 150 & GSM4662071\\_Brain\\_1 & 11 & + & 149 & 150 & 255,55,0  & 11 &  90 & CG & CG & 42\\\\\n",
       "\t chr1 & 150 & 151 & GSM4662071\\_Brain\\_1 &  6 & - & 150 & 151 & 255,105,0 &  6 &  83 & CG & CG & 40\\\\\n",
       "\\end{tabular}\n"
      ],
      "text/markdown": [
       "\n",
       "A data.table: 6 × 14\n",
       "\n",
       "| V1 &lt;chr&gt; | V2 &lt;int&gt; | V3 &lt;int&gt; | V4 &lt;chr&gt; | V5 &lt;int&gt; | V6 &lt;chr&gt; | V7 &lt;int&gt; | V8 &lt;int&gt; | V9 &lt;chr&gt; | V10 &lt;int&gt; | V11 &lt;int&gt; | V12 &lt;chr&gt; | V13 &lt;chr&gt; | V14 &lt;int&gt; |\n",
       "|---|---|---|---|---|---|---|---|---|---|---|---|---|---|\n",
       "| chr1 |  81 |  82 | GSM4662071_Brain_1 |  3 | + |  81 |  82 | 255,0,0   |  3 | 100 | CG | MG |  2 |\n",
       "| chr1 |  82 |  83 | GSM4662071_Brain_1 |  5 | - |  82 |  83 | 255,0,0   |  5 | 100 | CG | CK | 20 |\n",
       "| chr1 |  92 |  93 | GSM4662071_Brain_1 |  3 | + |  92 |  93 | 255,155,0 |  3 |  66 | CG | CG | 19 |\n",
       "| chr1 |  93 |  94 | GSM4662071_Brain_1 |  6 | - |  93 |  94 | 255,105,0 |  6 |  83 | CG | CG | 16 |\n",
       "| chr1 | 149 | 150 | GSM4662071_Brain_1 | 11 | + | 149 | 150 | 255,55,0  | 11 |  90 | CG | CG | 42 |\n",
       "| chr1 | 150 | 151 | GSM4662071_Brain_1 |  6 | - | 150 | 151 | 255,105,0 |  6 |  83 | CG | CG | 40 |\n",
       "\n"
      ],
      "text/plain": [
       "  V1   V2  V3  V4                 V5 V6 V7  V8  V9        V10 V11 V12 V13 V14\n",
       "1 chr1  81  82 GSM4662071_Brain_1  3 +   81  82 255,0,0    3  100 CG  MG   2 \n",
       "2 chr1  82  83 GSM4662071_Brain_1  5 -   82  83 255,0,0    5  100 CG  CK  20 \n",
       "3 chr1  92  93 GSM4662071_Brain_1  3 +   92  93 255,155,0  3   66 CG  CG  19 \n",
       "4 chr1  93  94 GSM4662071_Brain_1  6 -   93  94 255,105,0  6   83 CG  CG  16 \n",
       "5 chr1 149 150 GSM4662071_Brain_1 11 +  149 150 255,55,0  11   90 CG  CG  42 \n",
       "6 chr1 150 151 GSM4662071_Brain_1  6 -  150 151 255,105,0  6   83 CG  CG  40 "
      ]
     },
     "metadata": {},
     "output_type": "display_data"
    }
   ],
   "source": [
    "head(df1)"
   ]
  },
  {
   "cell_type": "code",
   "execution_count": 69,
   "id": "8739589a",
   "metadata": {},
   "outputs": [
    {
     "data": {
      "text/html": [
       "<table class=\"dataframe\">\n",
       "<caption>A data.table: 6 × 14</caption>\n",
       "<thead>\n",
       "\t<tr><th scope=col>V1</th><th scope=col>V2</th><th scope=col>V3</th><th scope=col>V4</th><th scope=col>V5</th><th scope=col>V6</th><th scope=col>V7</th><th scope=col>V8</th><th scope=col>V9</th><th scope=col>V10</th><th scope=col>V11</th><th scope=col>V12</th><th scope=col>V13</th><th scope=col>V14</th></tr>\n",
       "\t<tr><th scope=col>&lt;chr&gt;</th><th scope=col>&lt;int&gt;</th><th scope=col>&lt;int&gt;</th><th scope=col>&lt;chr&gt;</th><th scope=col>&lt;int&gt;</th><th scope=col>&lt;chr&gt;</th><th scope=col>&lt;int&gt;</th><th scope=col>&lt;int&gt;</th><th scope=col>&lt;chr&gt;</th><th scope=col>&lt;int&gt;</th><th scope=col>&lt;int&gt;</th><th scope=col>&lt;chr&gt;</th><th scope=col>&lt;chr&gt;</th><th scope=col>&lt;int&gt;</th></tr>\n",
       "</thead>\n",
       "<tbody>\n",
       "\t<tr><td>chr1</td><td> 81</td><td> 82</td><td>GSM4662071_Brain_1</td><td>4</td><td>+</td><td> 81</td><td> 82</td><td>255,0,0  </td><td>4</td><td>100</td><td>CG</td><td>CG</td><td>11</td></tr>\n",
       "\t<tr><td>chr1</td><td> 82</td><td> 83</td><td>GSM4662071_Brain_1</td><td>1</td><td>-</td><td> 82</td><td> 83</td><td>255,0,0  </td><td>1</td><td>100</td><td>CG</td><td>CG</td><td>11</td></tr>\n",
       "\t<tr><td>chr1</td><td> 92</td><td> 93</td><td>GSM4662071_Brain_1</td><td>5</td><td>+</td><td> 92</td><td> 93</td><td>255,105,0</td><td>5</td><td> 80</td><td>CG</td><td>CG</td><td> 8</td></tr>\n",
       "\t<tr><td>chr1</td><td> 93</td><td> 94</td><td>GSM4662071_Brain_1</td><td>2</td><td>-</td><td> 93</td><td> 94</td><td>255,255,0</td><td>2</td><td> 50</td><td>CG</td><td>CG</td><td>14</td></tr>\n",
       "\t<tr><td>chr1</td><td>149</td><td>150</td><td>GSM4662071_Brain_1</td><td>5</td><td>+</td><td>149</td><td>150</td><td>255,0,0  </td><td>5</td><td>100</td><td>CG</td><td>CG</td><td>23</td></tr>\n",
       "\t<tr><td>chr1</td><td>150</td><td>151</td><td>GSM4662071_Brain_1</td><td>4</td><td>-</td><td>150</td><td>151</td><td>255,0,0  </td><td>4</td><td>100</td><td>CG</td><td>CG</td><td>26</td></tr>\n",
       "</tbody>\n",
       "</table>\n"
      ],
      "text/latex": [
       "A data.table: 6 × 14\n",
       "\\begin{tabular}{llllllllllllll}\n",
       " V1 & V2 & V3 & V4 & V5 & V6 & V7 & V8 & V9 & V10 & V11 & V12 & V13 & V14\\\\\n",
       " <chr> & <int> & <int> & <chr> & <int> & <chr> & <int> & <int> & <chr> & <int> & <int> & <chr> & <chr> & <int>\\\\\n",
       "\\hline\n",
       "\t chr1 &  81 &  82 & GSM4662071\\_Brain\\_1 & 4 & + &  81 &  82 & 255,0,0   & 4 & 100 & CG & CG & 11\\\\\n",
       "\t chr1 &  82 &  83 & GSM4662071\\_Brain\\_1 & 1 & - &  82 &  83 & 255,0,0   & 1 & 100 & CG & CG & 11\\\\\n",
       "\t chr1 &  92 &  93 & GSM4662071\\_Brain\\_1 & 5 & + &  92 &  93 & 255,105,0 & 5 &  80 & CG & CG &  8\\\\\n",
       "\t chr1 &  93 &  94 & GSM4662071\\_Brain\\_1 & 2 & - &  93 &  94 & 255,255,0 & 2 &  50 & CG & CG & 14\\\\\n",
       "\t chr1 & 149 & 150 & GSM4662071\\_Brain\\_1 & 5 & + & 149 & 150 & 255,0,0   & 5 & 100 & CG & CG & 23\\\\\n",
       "\t chr1 & 150 & 151 & GSM4662071\\_Brain\\_1 & 4 & - & 150 & 151 & 255,0,0   & 4 & 100 & CG & CG & 26\\\\\n",
       "\\end{tabular}\n"
      ],
      "text/markdown": [
       "\n",
       "A data.table: 6 × 14\n",
       "\n",
       "| V1 &lt;chr&gt; | V2 &lt;int&gt; | V3 &lt;int&gt; | V4 &lt;chr&gt; | V5 &lt;int&gt; | V6 &lt;chr&gt; | V7 &lt;int&gt; | V8 &lt;int&gt; | V9 &lt;chr&gt; | V10 &lt;int&gt; | V11 &lt;int&gt; | V12 &lt;chr&gt; | V13 &lt;chr&gt; | V14 &lt;int&gt; |\n",
       "|---|---|---|---|---|---|---|---|---|---|---|---|---|---|\n",
       "| chr1 |  81 |  82 | GSM4662071_Brain_1 | 4 | + |  81 |  82 | 255,0,0   | 4 | 100 | CG | CG | 11 |\n",
       "| chr1 |  82 |  83 | GSM4662071_Brain_1 | 1 | - |  82 |  83 | 255,0,0   | 1 | 100 | CG | CG | 11 |\n",
       "| chr1 |  92 |  93 | GSM4662071_Brain_1 | 5 | + |  92 |  93 | 255,105,0 | 5 |  80 | CG | CG |  8 |\n",
       "| chr1 |  93 |  94 | GSM4662071_Brain_1 | 2 | - |  93 |  94 | 255,255,0 | 2 |  50 | CG | CG | 14 |\n",
       "| chr1 | 149 | 150 | GSM4662071_Brain_1 | 5 | + | 149 | 150 | 255,0,0   | 5 | 100 | CG | CG | 23 |\n",
       "| chr1 | 150 | 151 | GSM4662071_Brain_1 | 4 | - | 150 | 151 | 255,0,0   | 4 | 100 | CG | CG | 26 |\n",
       "\n"
      ],
      "text/plain": [
       "  V1   V2  V3  V4                 V5 V6 V7  V8  V9        V10 V11 V12 V13 V14\n",
       "1 chr1  81  82 GSM4662071_Brain_1 4  +   81  82 255,0,0   4   100 CG  CG  11 \n",
       "2 chr1  82  83 GSM4662071_Brain_1 1  -   82  83 255,0,0   1   100 CG  CG  11 \n",
       "3 chr1  92  93 GSM4662071_Brain_1 5  +   92  93 255,105,0 5    80 CG  CG   8 \n",
       "4 chr1  93  94 GSM4662071_Brain_1 2  -   93  94 255,255,0 2    50 CG  CG  14 \n",
       "5 chr1 149 150 GSM4662071_Brain_1 5  +  149 150 255,0,0   5   100 CG  CG  23 \n",
       "6 chr1 150 151 GSM4662071_Brain_1 4  -  150 151 255,0,0   4   100 CG  CG  26 "
      ]
     },
     "metadata": {},
     "output_type": "display_data"
    }
   ],
   "source": [
    "head(df2)"
   ]
  },
  {
   "cell_type": "code",
   "execution_count": 70,
   "id": "59728696",
   "metadata": {},
   "outputs": [],
   "source": [
    "colnames(df1)[c(1:3)] <- c(\"chr\", \"start\", \"end\")\n",
    "colnames(df2)[c(1:3)] <- c(\"chr\", \"start\", \"end\")"
   ]
  },
  {
   "cell_type": "code",
   "execution_count": 73,
   "id": "35348427",
   "metadata": {},
   "outputs": [],
   "source": [
    "colnames(df1)[6] <- \"strand\"\n",
    "colnames(df2)[6] <- \"strand\""
   ]
  },
  {
   "cell_type": "code",
   "execution_count": 76,
   "id": "38935ea5",
   "metadata": {},
   "outputs": [],
   "source": [
    "colnames(df1)[c(10,11)] <- c(\"coverage_1\", \"perc_1\")\n",
    "colnames(df2)[c(10,11)] <- c(\"coverage_2\", \"perc_2\")"
   ]
  },
  {
   "cell_type": "code",
   "execution_count": 77,
   "id": "a0fbab61",
   "metadata": {},
   "outputs": [
    {
     "name": "stderr",
     "output_type": "stream",
     "text": [
      "Joining, by = c(\"chr\", \"start\", \"end\", \"strand\")\n",
      "\n"
     ]
    }
   ],
   "source": [
    "df <- full_join(df1[, c(\"chr\", \"start\", \"end\",\"strand\", \"coverage_1\", \"perc_1\" )], df2[, c(\"chr\", \"start\", \"end\",\"strand\", \"coverage_2\", \"perc_2\" )])"
   ]
  },
  {
   "cell_type": "code",
   "execution_count": 98,
   "id": "010ae94f",
   "metadata": {},
   "outputs": [
    {
     "data": {
      "text/html": [
       "<table class=\"dataframe\">\n",
       "<caption>A data.table: 6 × 10</caption>\n",
       "<thead>\n",
       "\t<tr><th scope=col>chr</th><th scope=col>start</th><th scope=col>end</th><th scope=col>strand</th><th scope=col>coverage_1</th><th scope=col>perc_1</th><th scope=col>coverage_2</th><th scope=col>perc_2</th><th scope=col>cov_total</th><th scope=col>perc_total</th></tr>\n",
       "\t<tr><th scope=col>&lt;chr&gt;</th><th scope=col>&lt;int&gt;</th><th scope=col>&lt;int&gt;</th><th scope=col>&lt;chr&gt;</th><th scope=col>&lt;int&gt;</th><th scope=col>&lt;int&gt;</th><th scope=col>&lt;int&gt;</th><th scope=col>&lt;int&gt;</th><th scope=col>&lt;int&gt;</th><th scope=col>&lt;dbl&gt;</th></tr>\n",
       "</thead>\n",
       "<tbody>\n",
       "\t<tr><td>chr1</td><td> 81</td><td> 82</td><td>+</td><td> 3</td><td>100</td><td>4</td><td>100</td><td> 7</td><td>100.000</td></tr>\n",
       "\t<tr><td>chr1</td><td> 82</td><td> 83</td><td>-</td><td> 5</td><td>100</td><td>1</td><td>100</td><td> 6</td><td>100.000</td></tr>\n",
       "\t<tr><td>chr1</td><td> 92</td><td> 93</td><td>+</td><td> 3</td><td> 66</td><td>5</td><td> 80</td><td> 8</td><td> 74.750</td></tr>\n",
       "\t<tr><td>chr1</td><td> 93</td><td> 94</td><td>-</td><td> 6</td><td> 83</td><td>2</td><td> 50</td><td> 8</td><td> 74.750</td></tr>\n",
       "\t<tr><td>chr1</td><td>149</td><td>150</td><td>+</td><td>11</td><td> 90</td><td>5</td><td>100</td><td>16</td><td> 93.125</td></tr>\n",
       "\t<tr><td>chr1</td><td>150</td><td>151</td><td>-</td><td> 6</td><td> 83</td><td>4</td><td>100</td><td>10</td><td> 89.800</td></tr>\n",
       "</tbody>\n",
       "</table>\n"
      ],
      "text/latex": [
       "A data.table: 6 × 10\n",
       "\\begin{tabular}{llllllllll}\n",
       " chr & start & end & strand & coverage\\_1 & perc\\_1 & coverage\\_2 & perc\\_2 & cov\\_total & perc\\_total\\\\\n",
       " <chr> & <int> & <int> & <chr> & <int> & <int> & <int> & <int> & <int> & <dbl>\\\\\n",
       "\\hline\n",
       "\t chr1 &  81 &  82 & + &  3 & 100 & 4 & 100 &  7 & 100.000\\\\\n",
       "\t chr1 &  82 &  83 & - &  5 & 100 & 1 & 100 &  6 & 100.000\\\\\n",
       "\t chr1 &  92 &  93 & + &  3 &  66 & 5 &  80 &  8 &  74.750\\\\\n",
       "\t chr1 &  93 &  94 & - &  6 &  83 & 2 &  50 &  8 &  74.750\\\\\n",
       "\t chr1 & 149 & 150 & + & 11 &  90 & 5 & 100 & 16 &  93.125\\\\\n",
       "\t chr1 & 150 & 151 & - &  6 &  83 & 4 & 100 & 10 &  89.800\\\\\n",
       "\\end{tabular}\n"
      ],
      "text/markdown": [
       "\n",
       "A data.table: 6 × 10\n",
       "\n",
       "| chr &lt;chr&gt; | start &lt;int&gt; | end &lt;int&gt; | strand &lt;chr&gt; | coverage_1 &lt;int&gt; | perc_1 &lt;int&gt; | coverage_2 &lt;int&gt; | perc_2 &lt;int&gt; | cov_total &lt;int&gt; | perc_total &lt;dbl&gt; |\n",
       "|---|---|---|---|---|---|---|---|---|---|\n",
       "| chr1 |  81 |  82 | + |  3 | 100 | 4 | 100 |  7 | 100.000 |\n",
       "| chr1 |  82 |  83 | - |  5 | 100 | 1 | 100 |  6 | 100.000 |\n",
       "| chr1 |  92 |  93 | + |  3 |  66 | 5 |  80 |  8 |  74.750 |\n",
       "| chr1 |  93 |  94 | - |  6 |  83 | 2 |  50 |  8 |  74.750 |\n",
       "| chr1 | 149 | 150 | + | 11 |  90 | 5 | 100 | 16 |  93.125 |\n",
       "| chr1 | 150 | 151 | - |  6 |  83 | 4 | 100 | 10 |  89.800 |\n",
       "\n"
      ],
      "text/plain": [
       "  chr  start end strand coverage_1 perc_1 coverage_2 perc_2 cov_total\n",
       "1 chr1  81    82 +       3         100    4          100     7       \n",
       "2 chr1  82    83 -       5         100    1          100     6       \n",
       "3 chr1  92    93 +       3          66    5           80     8       \n",
       "4 chr1  93    94 -       6          83    2           50     8       \n",
       "5 chr1 149   150 +      11          90    5          100    16       \n",
       "6 chr1 150   151 -       6          83    4          100    10       \n",
       "  perc_total\n",
       "1 100.000   \n",
       "2 100.000   \n",
       "3  74.750   \n",
       "4  74.750   \n",
       "5  93.125   \n",
       "6  89.800   "
      ]
     },
     "metadata": {},
     "output_type": "display_data"
    }
   ],
   "source": [
    "head(df)"
   ]
  },
  {
   "cell_type": "code",
   "execution_count": 92,
   "id": "2bddfea9",
   "metadata": {},
   "outputs": [
    {
     "data": {
      "text/html": [
       "100"
      ],
      "text/latex": [
       "100"
      ],
      "text/markdown": [
       "100"
      ],
      "text/plain": [
       "[1] 100"
      ]
     },
     "metadata": {},
     "output_type": "display_data"
    }
   ],
   "source": [
    "weighted.mean(c(100,100), c(3,4))"
   ]
  },
  {
   "cell_type": "code",
   "execution_count": 84,
   "id": "00725b02",
   "metadata": {},
   "outputs": [],
   "source": [
    "df[is.na(coverage_1), coverage_1 :=0, ]"
   ]
  },
  {
   "cell_type": "code",
   "execution_count": 85,
   "id": "1d3f8ee2",
   "metadata": {},
   "outputs": [],
   "source": [
    "df[is.na(coverage_2), coverage_2 :=0, ]"
   ]
  },
  {
   "cell_type": "code",
   "execution_count": 86,
   "id": "c222ee8a",
   "metadata": {},
   "outputs": [],
   "source": [
    "df[, cov_total := coverage_1 + coverage_2, ]"
   ]
  },
  {
   "cell_type": "code",
   "execution_count": 97,
   "id": "60911b0e",
   "metadata": {},
   "outputs": [],
   "source": [
    "df[,perc_total:= weighted.mean(c(perc_1, perc_2), c(coverage_1, coverage_2)), by = list(chr, start, end)]"
   ]
  },
  {
   "cell_type": "code",
   "execution_count": 101,
   "id": "5943a3fd",
   "metadata": {},
   "outputs": [],
   "source": [
    "save_bed(df[,c(\"chr\", \"start\", \"end\", \"strand\", \"cov_total\", \"perc_total\")], annot_double$path_bed[1])"
   ]
  },
  {
   "cell_type": "code",
   "execution_count": 102,
   "id": "5c3db507",
   "metadata": {},
   "outputs": [],
   "source": [
    "mean_r = mean(df$perc_total)"
   ]
  },
  {
   "cell_type": "code",
   "execution_count": 103,
   "id": "0b7436ab",
   "metadata": {},
   "outputs": [
    {
     "data": {
      "text/html": [
       "78.3233556812122"
      ],
      "text/latex": [
       "78.3233556812122"
      ],
      "text/markdown": [
       "78.3233556812122"
      ],
      "text/plain": [
       "[1] 78.32336"
      ]
     },
     "metadata": {},
     "output_type": "display_data"
    }
   ],
   "source": [
    "mean_r"
   ]
  },
  {
   "cell_type": "code",
   "execution_count": 1,
   "id": "6dcff4af",
   "metadata": {},
   "outputs": [
    {
     "ename": "ERROR",
     "evalue": "Error in eval(expr, envir, enclos): object 'mean_ratio' not found\n",
     "output_type": "error",
     "traceback": [
      "Error in eval(expr, envir, enclos): object 'mean_ratio' not found\nTraceback:\n"
     ]
    }
   ],
   "source": [
    "mean_ratio"
   ]
  },
  {
   "cell_type": "code",
   "execution_count": 105,
   "id": "152e2ab8",
   "metadata": {},
   "outputs": [],
   "source": [
    "mean_ratio <- rbind(mean_ratio, data.frame(path = annot_double$path[[1]], mean_ratio = mean_r))"
   ]
  },
  {
   "cell_type": "code",
   "execution_count": null,
   "id": "2c4508d5",
   "metadata": {},
   "outputs": [],
   "source": [
    "for(i in seq(3, NROW(annot_double), 2)){\n",
    "    print(annot_double$path[[i]])\n",
    "    df1 <- fread(annot$path[[i]], skip = 1)\n",
    "    df2 <- fread(annot$path[[i+1]], skip = 1)\n",
    "    ## transforming\n",
    "    colnames(df1)[c(1:3)] <- c(\"chr\", \"start\", \"end\")\n",
    "    colnames(df2)[c(1:3)] <- c(\"chr\", \"start\", \"end\")\n",
    "    \n",
    "    colnames(df1)[6] <- \"strand\"\n",
    "    colnames(df2)[6] <- \"strand\"\n",
    "    \n",
    "    colnames(df1)[c(10,11)] <- c(\"coverage_1\", \"perc_1\")\n",
    "    colnames(df2)[c(10,11)] <- c(\"coverage_2\", \"perc_2\")\n",
    "    \n",
    "    df <- full_join(df1[, c(\"chr\", \"start\", \"end\",\"strand\", \"coverage_1\", \"perc_1\" )], df2[, c(\"chr\", \"start\", \"end\",\"strand\", \"coverage_2\", \"perc_2\" )])\n",
    "    \n",
    "    df[is.na(coverage_1), coverage_1 :=0, ]\n",
    "    df[is.na(coverage_2), coverage_2 :=0, ]\n",
    "    \n",
    "    df[, cov_total := coverage_1 + coverage_2, ]\n",
    "    \n",
    "    df[,perc_total:= weighted.mean(c(perc_1, perc_2), c(coverage_1, coverage_2)), by = list(chr, start, end)]\n",
    "    save_bed(df[,c(\"chr\", \"start\", \"end\", \"strand\", \"cov_total\", \"perc_total\")], annot_double$path_bed[1])\n",
    "    \n",
    "    \n",
    "    mean_r = mean(df$perc_total)\n",
    "    \n",
    "    mean_ratio <- rbind(mean_ratio, data.frame(path = annot_double$path[[i]], mean_ratio = mean_r))\n",
    "}"
   ]
  },
  {
   "cell_type": "markdown",
   "id": "fa8864a2-d346-4f0f-9e4c-4e6112fcbb59",
   "metadata": {},
   "source": [
    "## Data type 8 - allCG"
   ]
  },
  {
   "cell_type": "code",
   "execution_count": 9,
   "id": "c2e55f82-2104-44a9-901c-92338b66e8e8",
   "metadata": {},
   "outputs": [
    {
     "data": {
      "text/html": [
       "'/binfl/lv71484/droman/DNAmeth500species//resources/WGBS_public/Xenopus_laevis//GSM1977638_xl_st10.5_allCG.txt'"
      ],
      "text/latex": [
       "'/binfl/lv71484/droman/DNAmeth500species//resources/WGBS\\_public/Xenopus\\_laevis//GSM1977638\\_xl\\_st10.5\\_allCG.txt'"
      ],
      "text/markdown": [
       "'/binfl/lv71484/droman/DNAmeth500species//resources/WGBS_public/Xenopus_laevis//GSM1977638_xl_st10.5_allCG.txt'"
      ],
      "text/plain": [
       "[1] \"/binfl/lv71484/droman/DNAmeth500species//resources/WGBS_public/Xenopus_laevis//GSM1977638_xl_st10.5_allCG.txt\""
      ]
     },
     "metadata": {},
     "output_type": "display_data"
    }
   ],
   "source": [
    "files_list <- list.files(file.path(WGBS_dir, \"Xenopus_laevis/\"), \n",
    "                         pattern = \"*allCG.txt\", recursive = T, full.names = T)\n",
    "files_list"
   ]
  },
  {
   "cell_type": "code",
   "execution_count": 12,
   "id": "7f692cc4-083b-479d-be7d-1699ff304f0c",
   "metadata": {},
   "outputs": [],
   "source": [
    "annot <- data.frame(path = files_list[[1]],tissue = \"embryo\",\n",
    "           replica = 1, path_unif = gsub(\"_allCG.txt\", \".bed\",files_list[[1]] ))"
   ]
  },
  {
   "cell_type": "code",
   "execution_count": 13,
   "id": "04134ae4-e9e2-4d6a-80fb-a8615f378d12",
   "metadata": {},
   "outputs": [
    {
     "data": {
      "text/html": [
       "<table class=\"dataframe\">\n",
       "<caption>A data.frame: 1 × 4</caption>\n",
       "<thead>\n",
       "\t<tr><th scope=col>path</th><th scope=col>tissue</th><th scope=col>replica</th><th scope=col>path_unif</th></tr>\n",
       "\t<tr><th scope=col>&lt;fct&gt;</th><th scope=col>&lt;fct&gt;</th><th scope=col>&lt;dbl&gt;</th><th scope=col>&lt;fct&gt;</th></tr>\n",
       "</thead>\n",
       "<tbody>\n",
       "\t<tr><td>/binfl/lv71484/droman/DNAmeth500species//resources/WGBS_public/Xenopus_laevis//GSM1977638_xl_st10.5_allCG.txt</td><td>embryo</td><td>1</td><td>/binfl/lv71484/droman/DNAmeth500species//resources/WGBS_public/Xenopus_laevis//GSM1977638_xl_st10.5.bed</td></tr>\n",
       "</tbody>\n",
       "</table>\n"
      ],
      "text/latex": [
       "A data.frame: 1 × 4\n",
       "\\begin{tabular}{llll}\n",
       " path & tissue & replica & path\\_unif\\\\\n",
       " <fct> & <fct> & <dbl> & <fct>\\\\\n",
       "\\hline\n",
       "\t /binfl/lv71484/droman/DNAmeth500species//resources/WGBS\\_public/Xenopus\\_laevis//GSM1977638\\_xl\\_st10.5\\_allCG.txt & embryo & 1 & /binfl/lv71484/droman/DNAmeth500species//resources/WGBS\\_public/Xenopus\\_laevis//GSM1977638\\_xl\\_st10.5.bed\\\\\n",
       "\\end{tabular}\n"
      ],
      "text/markdown": [
       "\n",
       "A data.frame: 1 × 4\n",
       "\n",
       "| path &lt;fct&gt; | tissue &lt;fct&gt; | replica &lt;dbl&gt; | path_unif &lt;fct&gt; |\n",
       "|---|---|---|---|\n",
       "| /binfl/lv71484/droman/DNAmeth500species//resources/WGBS_public/Xenopus_laevis//GSM1977638_xl_st10.5_allCG.txt | embryo | 1 | /binfl/lv71484/droman/DNAmeth500species//resources/WGBS_public/Xenopus_laevis//GSM1977638_xl_st10.5.bed |\n",
       "\n"
      ],
      "text/plain": [
       "  path                                                                                                         \n",
       "1 /binfl/lv71484/droman/DNAmeth500species//resources/WGBS_public/Xenopus_laevis//GSM1977638_xl_st10.5_allCG.txt\n",
       "  tissue replica\n",
       "1 embryo 1      \n",
       "  path_unif                                                                                              \n",
       "1 /binfl/lv71484/droman/DNAmeth500species//resources/WGBS_public/Xenopus_laevis//GSM1977638_xl_st10.5.bed"
      ]
     },
     "metadata": {},
     "output_type": "display_data"
    }
   ],
   "source": [
    "annot"
   ]
  },
  {
   "cell_type": "code",
   "execution_count": 10,
   "id": "087be812-08ea-498f-b1d8-8e5426643a1b",
   "metadata": {},
   "outputs": [
    {
     "data": {
      "text/html": [
       "<table class=\"dataframe\">\n",
       "<caption>A data.table: 6 × 5</caption>\n",
       "<thead>\n",
       "\t<tr><th scope=col>V1</th><th scope=col>V2</th><th scope=col>V3</th><th scope=col>V4</th><th scope=col>V5</th></tr>\n",
       "\t<tr><th scope=col>&lt;chr&gt;</th><th scope=col>&lt;int&gt;</th><th scope=col>&lt;int&gt;</th><th scope=col>&lt;int&gt;</th><th scope=col>&lt;int&gt;</th></tr>\n",
       "</thead>\n",
       "<tbody>\n",
       "\t<tr><td>11</td><td>143</td><td>143</td><td>5</td><td>6</td></tr>\n",
       "\t<tr><td>11</td><td>144</td><td>144</td><td>2</td><td>2</td></tr>\n",
       "\t<tr><td>11</td><td>151</td><td>151</td><td>6</td><td>6</td></tr>\n",
       "\t<tr><td>11</td><td>152</td><td>152</td><td>2</td><td>2</td></tr>\n",
       "\t<tr><td>11</td><td>161</td><td>161</td><td>5</td><td>6</td></tr>\n",
       "\t<tr><td>11</td><td>162</td><td>162</td><td>2</td><td>2</td></tr>\n",
       "</tbody>\n",
       "</table>\n"
      ],
      "text/latex": [
       "A data.table: 6 × 5\n",
       "\\begin{tabular}{lllll}\n",
       " V1 & V2 & V3 & V4 & V5\\\\\n",
       " <chr> & <int> & <int> & <int> & <int>\\\\\n",
       "\\hline\n",
       "\t 11 & 143 & 143 & 5 & 6\\\\\n",
       "\t 11 & 144 & 144 & 2 & 2\\\\\n",
       "\t 11 & 151 & 151 & 6 & 6\\\\\n",
       "\t 11 & 152 & 152 & 2 & 2\\\\\n",
       "\t 11 & 161 & 161 & 5 & 6\\\\\n",
       "\t 11 & 162 & 162 & 2 & 2\\\\\n",
       "\\end{tabular}\n"
      ],
      "text/markdown": [
       "\n",
       "A data.table: 6 × 5\n",
       "\n",
       "| V1 &lt;chr&gt; | V2 &lt;int&gt; | V3 &lt;int&gt; | V4 &lt;int&gt; | V5 &lt;int&gt; |\n",
       "|---|---|---|---|---|\n",
       "| 11 | 143 | 143 | 5 | 6 |\n",
       "| 11 | 144 | 144 | 2 | 2 |\n",
       "| 11 | 151 | 151 | 6 | 6 |\n",
       "| 11 | 152 | 152 | 2 | 2 |\n",
       "| 11 | 161 | 161 | 5 | 6 |\n",
       "| 11 | 162 | 162 | 2 | 2 |\n",
       "\n"
      ],
      "text/plain": [
       "  V1 V2  V3  V4 V5\n",
       "1 11 143 143 5  6 \n",
       "2 11 144 144 2  2 \n",
       "3 11 151 151 6  6 \n",
       "4 11 152 152 2  2 \n",
       "5 11 161 161 5  6 \n",
       "6 11 162 162 2  2 "
      ]
     },
     "metadata": {},
     "output_type": "display_data"
    }
   ],
   "source": [
    "df <- fread(files_list[[1]])\n",
    "head(df)\n",
    "colnames(df) <- c(\"chr\", \"start\", \"end\", \"C_calls\", \"coverage\")\n",
    "\n",
    "df$meth_ratio = df$C_calls/df$coverage\n",
    "\n",
    "df <- df[coverage > 5]\n",
    "\n",
    "\n",
    "\n",
    "mean_ratio = data.table(path = files_list[[1]],\n",
    "                        mean_ratio = mean(df$meth_ratio), \n",
    "                        replica = 2, tissue = \"embryo\", genomeid = \"Xenopus_laevis\")\n",
    "\n",
    "#write.table(mean_ratio, \"Xenopus_laevis_GSM1977638.csv\", sep = \";\", quote = F, row.names = F)"
   ]
  },
  {
   "cell_type": "code",
   "execution_count": 11,
   "id": "d0461b5f-c579-402f-818d-4f222f65825c",
   "metadata": {},
   "outputs": [
    {
     "data": {
      "text/html": [
       "<table class=\"dataframe\">\n",
       "<caption>A data.table: 6 × 6</caption>\n",
       "<thead>\n",
       "\t<tr><th scope=col>chr</th><th scope=col>start</th><th scope=col>end</th><th scope=col>C_calls</th><th scope=col>coverage</th><th scope=col>meth_ratio</th></tr>\n",
       "\t<tr><th scope=col>&lt;chr&gt;</th><th scope=col>&lt;int&gt;</th><th scope=col>&lt;int&gt;</th><th scope=col>&lt;int&gt;</th><th scope=col>&lt;int&gt;</th><th scope=col>&lt;dbl&gt;</th></tr>\n",
       "</thead>\n",
       "<tbody>\n",
       "\t<tr><td>11</td><td>143</td><td>143</td><td> 5</td><td> 6</td><td>0.8333333</td></tr>\n",
       "\t<tr><td>11</td><td>151</td><td>151</td><td> 6</td><td> 6</td><td>1.0000000</td></tr>\n",
       "\t<tr><td>11</td><td>161</td><td>161</td><td> 5</td><td> 6</td><td>0.8333333</td></tr>\n",
       "\t<tr><td>11</td><td>256</td><td>256</td><td>23</td><td>23</td><td>1.0000000</td></tr>\n",
       "\t<tr><td>11</td><td>269</td><td>269</td><td>30</td><td>30</td><td>1.0000000</td></tr>\n",
       "\t<tr><td>11</td><td>270</td><td>270</td><td> 8</td><td> 8</td><td>1.0000000</td></tr>\n",
       "</tbody>\n",
       "</table>\n"
      ],
      "text/latex": [
       "A data.table: 6 × 6\n",
       "\\begin{tabular}{llllll}\n",
       " chr & start & end & C\\_calls & coverage & meth\\_ratio\\\\\n",
       " <chr> & <int> & <int> & <int> & <int> & <dbl>\\\\\n",
       "\\hline\n",
       "\t 11 & 143 & 143 &  5 &  6 & 0.8333333\\\\\n",
       "\t 11 & 151 & 151 &  6 &  6 & 1.0000000\\\\\n",
       "\t 11 & 161 & 161 &  5 &  6 & 0.8333333\\\\\n",
       "\t 11 & 256 & 256 & 23 & 23 & 1.0000000\\\\\n",
       "\t 11 & 269 & 269 & 30 & 30 & 1.0000000\\\\\n",
       "\t 11 & 270 & 270 &  8 &  8 & 1.0000000\\\\\n",
       "\\end{tabular}\n"
      ],
      "text/markdown": [
       "\n",
       "A data.table: 6 × 6\n",
       "\n",
       "| chr &lt;chr&gt; | start &lt;int&gt; | end &lt;int&gt; | C_calls &lt;int&gt; | coverage &lt;int&gt; | meth_ratio &lt;dbl&gt; |\n",
       "|---|---|---|---|---|---|\n",
       "| 11 | 143 | 143 |  5 |  6 | 0.8333333 |\n",
       "| 11 | 151 | 151 |  6 |  6 | 1.0000000 |\n",
       "| 11 | 161 | 161 |  5 |  6 | 0.8333333 |\n",
       "| 11 | 256 | 256 | 23 | 23 | 1.0000000 |\n",
       "| 11 | 269 | 269 | 30 | 30 | 1.0000000 |\n",
       "| 11 | 270 | 270 |  8 |  8 | 1.0000000 |\n",
       "\n"
      ],
      "text/plain": [
       "  chr start end C_calls coverage meth_ratio\n",
       "1 11  143   143  5       6       0.8333333 \n",
       "2 11  151   151  6       6       1.0000000 \n",
       "3 11  161   161  5       6       0.8333333 \n",
       "4 11  256   256 23      23       1.0000000 \n",
       "5 11  269   269 30      30       1.0000000 \n",
       "6 11  270   270  8       8       1.0000000 "
      ]
     },
     "metadata": {},
     "output_type": "display_data"
    }
   ],
   "source": [
    "head(df)"
   ]
  },
  {
   "cell_type": "code",
   "execution_count": 16,
   "id": "df77917a-526f-4f7d-9ad5-278ce2157915",
   "metadata": {},
   "outputs": [],
   "source": [
    "save_bed_nostrand(df[,c(\"chr\", \"start\", \"end\", \"coverage\", \"meth_ratio\")], as.character(annot$path_unif[1]))"
   ]
  },
  {
   "cell_type": "code",
   "execution_count": 15,
   "id": "b4a19c8a-96d5-48ca-b674-6c5073c7bf19",
   "metadata": {},
   "outputs": [
    {
     "data": {
      "text/html": [
       "/binfl/lv71484/droman/DNAmeth500species//resources/WGBS_public/Xenopus_laevis//GSM1977638_xl_st10.5.bed\n",
       "<details>\n",
       "\t<summary style=display:list-item;cursor:pointer>\n",
       "\t\t<strong>Levels</strong>:\n",
       "\t</summary>\n",
       "\t'/binfl/lv71484/droman/DNAmeth500species//resources/WGBS_public/Xenopus_laevis//GSM1977638_xl_st10.5.bed'\n",
       "</details>"
      ],
      "text/latex": [
       "/binfl/lv71484/droman/DNAmeth500species//resources/WGBS\\_public/Xenopus\\_laevis//GSM1977638\\_xl\\_st10.5.bed\n",
       "\\emph{Levels}: '/binfl/lv71484/droman/DNAmeth500species//resources/WGBS\\_public/Xenopus\\_laevis//GSM1977638\\_xl\\_st10.5.bed'"
      ],
      "text/markdown": [
       "/binfl/lv71484/droman/DNAmeth500species//resources/WGBS_public/Xenopus_laevis//GSM1977638_xl_st10.5.bed\n",
       "**Levels**: '/binfl/lv71484/droman/DNAmeth500species//resources/WGBS_public/Xenopus_laevis//GSM1977638_xl_st10.5.bed'"
      ],
      "text/plain": [
       "[1] /binfl/lv71484/droman/DNAmeth500species//resources/WGBS_public/Xenopus_laevis//GSM1977638_xl_st10.5.bed\n",
       "Levels: /binfl/lv71484/droman/DNAmeth500species//resources/WGBS_public/Xenopus_laevis//GSM1977638_xl_st10.5.bed"
      ]
     },
     "metadata": {},
     "output_type": "display_data"
    }
   ],
   "source": [
    "annot$path_unif[1]"
   ]
  },
  {
   "cell_type": "markdown",
   "id": "80f4185f-9699-4558-a5fe-f32cef53d492",
   "metadata": {},
   "source": [
    "## Data type 6 again - allC"
   ]
  },
  {
   "cell_type": "code",
   "execution_count": 36,
   "id": "f9d5d3be-945a-45b1-b45e-10bc41e3d00f",
   "metadata": {},
   "outputs": [],
   "source": [
    "files_list <- list.files(file.path(WGBS_dir, \"Xenopus_laevis/\"), \n",
    "                         pattern = \"*allC.txt\", recursive = T, full.names = T)\n",
    "files_list\n",
    "\n",
    "annot <- rbind(annot, data.frame(path = files_list[[1]],tissue = \"embryo\",\n",
    "           replica = 2, path_unif = gsub(\"allC.txt\", \".bed\",files_list[[1]] )))\n",
    "\n",
    "annot\n",
    "\n",
    "my_wt(annot,file.path(WGBS_dir,\"Xenopus_laevis\", \"WGBS_annot.csv\" ))\n",
    "\n",
    "files_list[[1]]\n",
    "\n",
    "df <- fread(files_list[[1]]) #change to fread, way faster\n",
    "head(df)\n",
    "\n",
    "colnames(df) <- c(\"chr\", \"position\", \"strand\", \"threenucl_context\", \"mC_count\", \"coverage\")\n",
    "\n",
    "#Filtering out non-CpG methylation\n",
    "\n",
    "df <- df[threenucl_context==\"CG\"]\n",
    "\n",
    "df$meth_ratio = df$mC_count/df$coverage\n",
    "\n",
    "df[,end:=position + 1,]\n",
    "\n",
    "save_bed(df[,c(\"chr\", \"position\", \"end\", \"strand\", \"coverage\", \"meth_ratio\")], file.path(WGBS_dir, \"Bl71nemr\", \"GSM2728830_liver.bed\")) ## moving the file to the rest of the Bl17nmr "
   ]
  },
  {
   "cell_type": "markdown",
   "id": "1581b341-5cce-44bc-ab2a-c757d3a1efa6",
   "metadata": {},
   "source": [
    "## the turtle"
   ]
  },
  {
   "cell_type": "code",
   "execution_count": 22,
   "id": "5a09a1f7-2556-4709-8249-a5b4d2e370a2",
   "metadata": {},
   "outputs": [],
   "source": [
    "if(!file.exists(file.path(WGBS_dir,\"Chelydra_serpentina\", \"WGBS_annot.csv\" ))){\n",
    "    files_list <- list.files(file.path(WGBS_dir, \"Chelydra_serpentina\"), \n",
    "                         pattern = \".cov.gz\", recursive = T, full.names = T)\n",
    "    annot <-data.frame(path = files_list,tissue = \"heart\",\n",
    "           replica = seq(1,length(files_list)), path_unif = gsub(\".cov.gz\", \".bed\",files_list))\n",
    "    my_wt(annot,file.path(WGBS_dir,\"Chelydra_serpentina\", \"WGBS_annot.csv\" ))\n",
    "    \n",
    "}else{\n",
    "    annot <- fread(file.path(WGBS_dir,\"Chelydra_serpentina\", \"WGBS_annot.csv\" ))\n",
    "}\n"
   ]
  },
  {
   "cell_type": "code",
   "execution_count": 40,
   "id": "2496c3a9-2ba7-46c4-8d53-441e1498af21",
   "metadata": {},
   "outputs": [],
   "source": [
    "meth_file = \"Chelydra_serpentina.csv\""
   ]
  },
  {
   "cell_type": "code",
   "execution_count": 38,
   "id": "b8797df8-55af-4396-b9ef-ff9968c966c4",
   "metadata": {},
   "outputs": [],
   "source": [
    "if(!file.exists(meth_file)){\n",
    "\n",
    "mean_ratio = data.table()\n",
    "for( i in 1:NROW(annot)){\n",
    "    \n",
    "df <- fread(files_list[[i]]) #change to fread, way faster\n",
    "df[, cov:= V5 + V6, by = row.names(df)]\n",
    "head(df)\n",
    "df <- df[cov > 5]\n",
    "df[, meth_perc:= V4/100, by = row.names(df)]\n",
    "\n",
    "#c(\"chr\", \"start\", \"end\",\"coverage\", \"perc_meth_CpG\")\n",
    "save_bed_nostrand(df = df[,c(\"V1\", \"V2\", \"V3\", \"cov\", \"meth_perc\")], \n",
    "                  path = as.character(annot$path_unif[[i]]))\n",
    "\n",
    "mean_r = mean(df$meth_perc)\n",
    "    \n",
    "mean_ratio <- rbind(mean_ratio, data.frame(path = annot$path[[i]], mean_ratio = mean_r))\n",
    "mean_ratio <- left_join(mean_ratio, annot)\n",
    " write.table(mean_ratio, meth_file, sep = \";\", quote = F, row.names = F)   \n",
    "}\n",
    "    \n",
    "}else{\n",
    "    mean_ratio <- fread(meth_file)\n",
    "}\n"
   ]
  },
  {
   "cell_type": "code",
   "execution_count": 52,
   "id": "4ad50302-bdca-41e2-aff2-361ca6fe21ac",
   "metadata": {},
   "outputs": [
    {
     "data": {
      "image/png": "[encoded data removed]",
      "text/plain": [
       "plot without title"
      ]
     },
     "metadata": {
      "image/png": {
       "height": 420,
       "width": 600
      }
     },
     "output_type": "display_data"
    }
   ],
   "source": [
    "options(repr.plot.width = 10)\n",
    "ggplot(mean_ratio, aes(x = tissue, y = mean_ratio, color = as.factor(replica))) + \n",
    "geom_point(size = 5) +      theme_bw() + \n",
    "theme(text = element_text(size = 20), axis.text.x = element_text(angle = 45, hjust = 1)) + \n",
    "ylim(c(0.7,0.8))\n",
    "ggsave(gsub(\"csv\", \"pdf\", meth_file), width = 10, height = 4)"
   ]
  },
  {
   "cell_type": "markdown",
   "id": "7a81919c-1817-4016-ac6e-6c95359bb45d",
   "metadata": {},
   "source": [
    "## gemBS for Parus Major"
   ]
  },
  {
   "cell_type": "code",
   "execution_count": null,
   "id": "1409c29d-0dd1-4dce-b807-dcc1062e6296",
   "metadata": {},
   "outputs": [],
   "source": []
  },
  {
   "cell_type": "code",
   "execution_count": 8,
   "id": "51d1fc34-e510-4adb-b105-8537e87d4624",
   "metadata": {},
   "outputs": [
    {
     "data": {
      "text/html": [
       "<table class=\"dataframe\">\n",
       "<caption>A data.table: 1 × 14</caption>\n",
       "<thead>\n",
       "\t<tr><th scope=col>raw_file_GSM</th><th scope=col>tissue</th><th scope=col>replica</th><th scope=col>sample_name</th><th scope=col>barcode</th><th scope=col>dataset</th><th scope=col>flowcell</th><th scope=col>lane</th><th scope=col>platform</th><th scope=col>center</th><th scope=col>file1</th><th scope=col>file2</th><th scope=col>library</th><th scope=col>type</th></tr>\n",
       "\t<tr><th scope=col>&lt;chr&gt;</th><th scope=col>&lt;chr&gt;</th><th scope=col>&lt;int&gt;</th><th scope=col>&lt;chr&gt;</th><th scope=col>&lt;chr&gt;</th><th scope=col>&lt;chr&gt;</th><th scope=col>&lt;lgl&gt;</th><th scope=col>&lt;lgl&gt;</th><th scope=col>&lt;chr&gt;</th><th scope=col>&lt;chr&gt;</th><th scope=col>&lt;chr&gt;</th><th scope=col>&lt;chr&gt;</th><th scope=col>&lt;chr&gt;</th><th scope=col>&lt;chr&gt;</th></tr>\n",
       "</thead>\n",
       "<tbody>\n",
       "\t<tr><td>PRJNA574487</td><td>brain</td><td>1</td><td>GSMXXX_brain_1</td><td>SRR2070790</td><td>SRR2070790</td><td>NA</td><td>NA</td><td>HiSeq</td><td>external</td><td>SRR2070790_1.fastq</td><td>SRR2070790_2.fastq</td><td>PRJNA574487</td><td>Paired</td></tr>\n",
       "</tbody>\n",
       "</table>\n"
      ],
      "text/latex": [
       "A data.table: 1 × 14\n",
       "\\begin{tabular}{llllllllllllll}\n",
       " raw\\_file\\_GSM & tissue & replica & sample\\_name & barcode & dataset & flowcell & lane & platform & center & file1 & file2 & library & type\\\\\n",
       " <chr> & <chr> & <int> & <chr> & <chr> & <chr> & <lgl> & <lgl> & <chr> & <chr> & <chr> & <chr> & <chr> & <chr>\\\\\n",
       "\\hline\n",
       "\t PRJNA574487 & brain & 1 & GSMXXX\\_brain\\_1 & SRR2070790 & SRR2070790 & NA & NA & HiSeq & external & SRR2070790\\_1.fastq & SRR2070790\\_2.fastq & PRJNA574487 & Paired\\\\\n",
       "\\end{tabular}\n"
      ],
      "text/markdown": [
       "\n",
       "A data.table: 1 × 14\n",
       "\n",
       "| raw_file_GSM &lt;chr&gt; | tissue &lt;chr&gt; | replica &lt;int&gt; | sample_name &lt;chr&gt; | barcode &lt;chr&gt; | dataset &lt;chr&gt; | flowcell &lt;lgl&gt; | lane &lt;lgl&gt; | platform &lt;chr&gt; | center &lt;chr&gt; | file1 &lt;chr&gt; | file2 &lt;chr&gt; | library &lt;chr&gt; | type &lt;chr&gt; |\n",
       "|---|---|---|---|---|---|---|---|---|---|---|---|---|---|\n",
       "| PRJNA574487 | brain | 1 | GSMXXX_brain_1 | SRR2070790 | SRR2070790 | NA | NA | HiSeq | external | SRR2070790_1.fastq | SRR2070790_2.fastq | PRJNA574487 | Paired |\n",
       "\n"
      ],
      "text/plain": [
       "  raw_file_GSM tissue replica sample_name    barcode    dataset    flowcell\n",
       "1 PRJNA574487  brain  1       GSMXXX_brain_1 SRR2070790 SRR2070790 NA      \n",
       "  lane platform center   file1              file2              library    \n",
       "1 NA   HiSeq    external SRR2070790_1.fastq SRR2070790_2.fastq PRJNA574487\n",
       "  type  \n",
       "1 Paired"
      ]
     },
     "metadata": {},
     "output_type": "display_data"
    }
   ],
   "source": [
    "annot <- fread(file.path(WGBS_dir, \"Parus_major_gemBS\", \"Parus_major_WGBS_wgbs_gembs_samples.csv\"))\n",
    "head(annot)"
   ]
  },
  {
   "cell_type": "code",
   "execution_count": 13,
   "id": "9736aedf-7ab2-4e6a-8251-db49c352d9a7",
   "metadata": {},
   "outputs": [],
   "source": [
    "annot[, path:=paste0(file.path(WGBS_dir, \"Parus_major_gemBS\",\"extract/\"), dataset, \"_cpg.bed.gz\"),]"
   ]
  },
  {
   "cell_type": "code",
   "execution_count": 14,
   "id": "2bcbc854-81d5-4b02-b79b-d3e0aeb077d4",
   "metadata": {},
   "outputs": [],
   "source": [
    "annot[, path_unif:=paste0(WGBS_dir, \"/Parus_major_gemBS/\", sample_name, \".bed\"),]"
   ]
  },
  {
   "cell_type": "code",
   "execution_count": 15,
   "id": "747166bf-c0e7-4ca2-b8c3-79ff699eb277",
   "metadata": {},
   "outputs": [
    {
     "data": {
      "text/html": [
       "<table class=\"dataframe\">\n",
       "<caption>A data.table: 1 × 16</caption>\n",
       "<thead>\n",
       "\t<tr><th scope=col>raw_file_GSM</th><th scope=col>tissue</th><th scope=col>replica</th><th scope=col>sample_name</th><th scope=col>barcode</th><th scope=col>dataset</th><th scope=col>flowcell</th><th scope=col>lane</th><th scope=col>platform</th><th scope=col>center</th><th scope=col>file1</th><th scope=col>file2</th><th scope=col>library</th><th scope=col>type</th><th scope=col>path</th><th scope=col>path_unif</th></tr>\n",
       "\t<tr><th scope=col>&lt;chr&gt;</th><th scope=col>&lt;chr&gt;</th><th scope=col>&lt;int&gt;</th><th scope=col>&lt;chr&gt;</th><th scope=col>&lt;chr&gt;</th><th scope=col>&lt;chr&gt;</th><th scope=col>&lt;lgl&gt;</th><th scope=col>&lt;lgl&gt;</th><th scope=col>&lt;chr&gt;</th><th scope=col>&lt;chr&gt;</th><th scope=col>&lt;chr&gt;</th><th scope=col>&lt;chr&gt;</th><th scope=col>&lt;chr&gt;</th><th scope=col>&lt;chr&gt;</th><th scope=col>&lt;chr&gt;</th><th scope=col>&lt;chr&gt;</th></tr>\n",
       "</thead>\n",
       "<tbody>\n",
       "\t<tr><td>PRJNA574487</td><td>brain</td><td>1</td><td>GSMXXX_brain_1</td><td>SRR2070790</td><td>SRR2070790</td><td>NA</td><td>NA</td><td>HiSeq</td><td>external</td><td>SRR2070790_1.fastq</td><td>SRR2070790_2.fastq</td><td>PRJNA574487</td><td>Paired</td><td>/binfl/lv71484/droman/DNAmeth500species//resources/WGBS_public/Parus_major_gemBS/extract/SRR2070790_cpg.bed.gz</td><td>/binfl/lv71484/droman/DNAmeth500species//resources/WGBS_public/Parus_major_gemBS/GSMXXX_brain_1.bed</td></tr>\n",
       "</tbody>\n",
       "</table>\n"
      ],
      "text/latex": [
       "A data.table: 1 × 16\n",
       "\\begin{tabular}{llllllllllllllll}\n",
       " raw\\_file\\_GSM & tissue & replica & sample\\_name & barcode & dataset & flowcell & lane & platform & center & file1 & file2 & library & type & path & path\\_unif\\\\\n",
       " <chr> & <chr> & <int> & <chr> & <chr> & <chr> & <lgl> & <lgl> & <chr> & <chr> & <chr> & <chr> & <chr> & <chr> & <chr> & <chr>\\\\\n",
       "\\hline\n",
       "\t PRJNA574487 & brain & 1 & GSMXXX\\_brain\\_1 & SRR2070790 & SRR2070790 & NA & NA & HiSeq & external & SRR2070790\\_1.fastq & SRR2070790\\_2.fastq & PRJNA574487 & Paired & /binfl/lv71484/droman/DNAmeth500species//resources/WGBS\\_public/Parus\\_major\\_gemBS/extract/SRR2070790\\_cpg.bed.gz & /binfl/lv71484/droman/DNAmeth500species//resources/WGBS\\_public/Parus\\_major\\_gemBS/GSMXXX\\_brain\\_1.bed\\\\\n",
       "\\end{tabular}\n"
      ],
      "text/markdown": [
       "\n",
       "A data.table: 1 × 16\n",
       "\n",
       "| raw_file_GSM &lt;chr&gt; | tissue &lt;chr&gt; | replica &lt;int&gt; | sample_name &lt;chr&gt; | barcode &lt;chr&gt; | dataset &lt;chr&gt; | flowcell &lt;lgl&gt; | lane &lt;lgl&gt; | platform &lt;chr&gt; | center &lt;chr&gt; | file1 &lt;chr&gt; | file2 &lt;chr&gt; | library &lt;chr&gt; | type &lt;chr&gt; | path &lt;chr&gt; | path_unif &lt;chr&gt; |\n",
       "|---|---|---|---|---|---|---|---|---|---|---|---|---|---|---|---|\n",
       "| PRJNA574487 | brain | 1 | GSMXXX_brain_1 | SRR2070790 | SRR2070790 | NA | NA | HiSeq | external | SRR2070790_1.fastq | SRR2070790_2.fastq | PRJNA574487 | Paired | /binfl/lv71484/droman/DNAmeth500species//resources/WGBS_public/Parus_major_gemBS/extract/SRR2070790_cpg.bed.gz | /binfl/lv71484/droman/DNAmeth500species//resources/WGBS_public/Parus_major_gemBS/GSMXXX_brain_1.bed |\n",
       "\n"
      ],
      "text/plain": [
       "  raw_file_GSM tissue replica sample_name    barcode    dataset    flowcell\n",
       "1 PRJNA574487  brain  1       GSMXXX_brain_1 SRR2070790 SRR2070790 NA      \n",
       "  lane platform center   file1              file2              library    \n",
       "1 NA   HiSeq    external SRR2070790_1.fastq SRR2070790_2.fastq PRJNA574487\n",
       "  type  \n",
       "1 Paired\n",
       "  path                                                                                                          \n",
       "1 /binfl/lv71484/droman/DNAmeth500species//resources/WGBS_public/Parus_major_gemBS/extract/SRR2070790_cpg.bed.gz\n",
       "  path_unif                                                                                          \n",
       "1 /binfl/lv71484/droman/DNAmeth500species//resources/WGBS_public/Parus_major_gemBS/GSMXXX_brain_1.bed"
      ]
     },
     "metadata": {},
     "output_type": "display_data"
    }
   ],
   "source": [
    "annot"
   ]
  },
  {
   "cell_type": "code",
   "execution_count": 16,
   "id": "57323083-e86c-4a5f-9392-3b41b01c2070",
   "metadata": {},
   "outputs": [],
   "source": [
    "df <- fread(annot$path[[1]], skip = 1)"
   ]
  },
  {
   "cell_type": "code",
   "execution_count": 17,
   "id": "5e0ff2ff-43bb-4225-9857-c55f6653c835",
   "metadata": {},
   "outputs": [
    {
     "data": {
      "text/html": [
       "<table class=\"dataframe\">\n",
       "<caption>A data.table: 6 × 14</caption>\n",
       "<thead>\n",
       "\t<tr><th scope=col>V1</th><th scope=col>V2</th><th scope=col>V3</th><th scope=col>V4</th><th scope=col>V5</th><th scope=col>V6</th><th scope=col>V7</th><th scope=col>V8</th><th scope=col>V9</th><th scope=col>V10</th><th scope=col>V11</th><th scope=col>V12</th><th scope=col>V13</th><th scope=col>V14</th></tr>\n",
       "\t<tr><th scope=col>&lt;chr&gt;</th><th scope=col>&lt;int&gt;</th><th scope=col>&lt;int&gt;</th><th scope=col>&lt;chr&gt;</th><th scope=col>&lt;int&gt;</th><th scope=col>&lt;chr&gt;</th><th scope=col>&lt;int&gt;</th><th scope=col>&lt;int&gt;</th><th scope=col>&lt;chr&gt;</th><th scope=col>&lt;int&gt;</th><th scope=col>&lt;int&gt;</th><th scope=col>&lt;chr&gt;</th><th scope=col>&lt;chr&gt;</th><th scope=col>&lt;int&gt;</th></tr>\n",
       "</thead>\n",
       "<tbody>\n",
       "\t<tr><td>NC_031768.1</td><td> 42</td><td> 43</td><td>GSMXXX_brain_1</td><td> 3</td><td>+</td><td> 42</td><td> 43</td><td>255,0,0  </td><td> 3</td><td>100</td><td>CG</td><td>CG</td><td> 62</td></tr>\n",
       "\t<tr><td>NC_031768.1</td><td> 43</td><td> 44</td><td>GSMXXX_brain_1</td><td>20</td><td>-</td><td> 43</td><td> 44</td><td>255,55,0 </td><td>20</td><td> 85</td><td>CG</td><td>CG</td><td> 36</td></tr>\n",
       "\t<tr><td>NC_031768.1</td><td>207</td><td>208</td><td>GSMXXX_brain_1</td><td>12</td><td>+</td><td>207</td><td>208</td><td>255,155,0</td><td>12</td><td> 66</td><td>CG</td><td>CG</td><td>255</td></tr>\n",
       "\t<tr><td>NC_031768.1</td><td>208</td><td>209</td><td>GSMXXX_brain_1</td><td>61</td><td>-</td><td>208</td><td>209</td><td>255,105,0</td><td>61</td><td> 78</td><td>CG</td><td>CG</td><td> 91</td></tr>\n",
       "\t<tr><td>NC_031768.1</td><td>249</td><td>250</td><td>GSMXXX_brain_1</td><td>15</td><td>+</td><td>249</td><td>250</td><td>255,205,0</td><td>15</td><td> 60</td><td>CG</td><td>YG</td><td>255</td></tr>\n",
       "\t<tr><td>NC_031768.1</td><td>250</td><td>251</td><td>GSMXXX_brain_1</td><td>70</td><td>-</td><td>250</td><td>251</td><td>255,205,0</td><td>70</td><td> 64</td><td>CG</td><td>CR</td><td> 60</td></tr>\n",
       "</tbody>\n",
       "</table>\n"
      ],
      "text/latex": [
       "A data.table: 6 × 14\n",
       "\\begin{tabular}{llllllllllllll}\n",
       " V1 & V2 & V3 & V4 & V5 & V6 & V7 & V8 & V9 & V10 & V11 & V12 & V13 & V14\\\\\n",
       " <chr> & <int> & <int> & <chr> & <int> & <chr> & <int> & <int> & <chr> & <int> & <int> & <chr> & <chr> & <int>\\\\\n",
       "\\hline\n",
       "\t NC\\_031768.1 &  42 &  43 & GSMXXX\\_brain\\_1 &  3 & + &  42 &  43 & 255,0,0   &  3 & 100 & CG & CG &  62\\\\\n",
       "\t NC\\_031768.1 &  43 &  44 & GSMXXX\\_brain\\_1 & 20 & - &  43 &  44 & 255,55,0  & 20 &  85 & CG & CG &  36\\\\\n",
       "\t NC\\_031768.1 & 207 & 208 & GSMXXX\\_brain\\_1 & 12 & + & 207 & 208 & 255,155,0 & 12 &  66 & CG & CG & 255\\\\\n",
       "\t NC\\_031768.1 & 208 & 209 & GSMXXX\\_brain\\_1 & 61 & - & 208 & 209 & 255,105,0 & 61 &  78 & CG & CG &  91\\\\\n",
       "\t NC\\_031768.1 & 249 & 250 & GSMXXX\\_brain\\_1 & 15 & + & 249 & 250 & 255,205,0 & 15 &  60 & CG & YG & 255\\\\\n",
       "\t NC\\_031768.1 & 250 & 251 & GSMXXX\\_brain\\_1 & 70 & - & 250 & 251 & 255,205,0 & 70 &  64 & CG & CR &  60\\\\\n",
       "\\end{tabular}\n"
      ],
      "text/markdown": [
       "\n",
       "A data.table: 6 × 14\n",
       "\n",
       "| V1 &lt;chr&gt; | V2 &lt;int&gt; | V3 &lt;int&gt; | V4 &lt;chr&gt; | V5 &lt;int&gt; | V6 &lt;chr&gt; | V7 &lt;int&gt; | V8 &lt;int&gt; | V9 &lt;chr&gt; | V10 &lt;int&gt; | V11 &lt;int&gt; | V12 &lt;chr&gt; | V13 &lt;chr&gt; | V14 &lt;int&gt; |\n",
       "|---|---|---|---|---|---|---|---|---|---|---|---|---|---|\n",
       "| NC_031768.1 |  42 |  43 | GSMXXX_brain_1 |  3 | + |  42 |  43 | 255,0,0   |  3 | 100 | CG | CG |  62 |\n",
       "| NC_031768.1 |  43 |  44 | GSMXXX_brain_1 | 20 | - |  43 |  44 | 255,55,0  | 20 |  85 | CG | CG |  36 |\n",
       "| NC_031768.1 | 207 | 208 | GSMXXX_brain_1 | 12 | + | 207 | 208 | 255,155,0 | 12 |  66 | CG | CG | 255 |\n",
       "| NC_031768.1 | 208 | 209 | GSMXXX_brain_1 | 61 | - | 208 | 209 | 255,105,0 | 61 |  78 | CG | CG |  91 |\n",
       "| NC_031768.1 | 249 | 250 | GSMXXX_brain_1 | 15 | + | 249 | 250 | 255,205,0 | 15 |  60 | CG | YG | 255 |\n",
       "| NC_031768.1 | 250 | 251 | GSMXXX_brain_1 | 70 | - | 250 | 251 | 255,205,0 | 70 |  64 | CG | CR |  60 |\n",
       "\n"
      ],
      "text/plain": [
       "  V1          V2  V3  V4             V5 V6 V7  V8  V9        V10 V11 V12 V13\n",
       "1 NC_031768.1  42  43 GSMXXX_brain_1  3 +   42  43 255,0,0    3  100 CG  CG \n",
       "2 NC_031768.1  43  44 GSMXXX_brain_1 20 -   43  44 255,55,0  20   85 CG  CG \n",
       "3 NC_031768.1 207 208 GSMXXX_brain_1 12 +  207 208 255,155,0 12   66 CG  CG \n",
       "4 NC_031768.1 208 209 GSMXXX_brain_1 61 -  208 209 255,105,0 61   78 CG  CG \n",
       "5 NC_031768.1 249 250 GSMXXX_brain_1 15 +  249 250 255,205,0 15   60 CG  YG \n",
       "6 NC_031768.1 250 251 GSMXXX_brain_1 70 -  250 251 255,205,0 70   64 CG  CR \n",
       "  V14\n",
       "1  62\n",
       "2  36\n",
       "3 255\n",
       "4  91\n",
       "5 255\n",
       "6  60"
      ]
     },
     "metadata": {},
     "output_type": "display_data"
    }
   ],
   "source": [
    "head(df)"
   ]
  },
  {
   "cell_type": "code",
   "execution_count": 18,
   "id": "c9c8ea43-5f04-4d77-8400-5214b229ae3c",
   "metadata": {},
   "outputs": [],
   "source": [
    "save_bed(df[, c(1,2,3,6,10,11)], annot$path_unif[[1]])"
   ]
  },
  {
   "cell_type": "code",
   "execution_count": 20,
   "id": "f2a23d7f-6fdf-4102-a0cd-887c13204425",
   "metadata": {},
   "outputs": [],
   "source": [
    "mean_r = mean(df[V10 > 5]$V11)"
   ]
  },
  {
   "cell_type": "code",
   "execution_count": 21,
   "id": "05a02dd3-0d61-4095-9fde-600b7d094512",
   "metadata": {},
   "outputs": [
    {
     "name": "stderr",
     "output_type": "stream",
     "text": [
      "Joining, by = \"path\"\n",
      "\n"
     ]
    }
   ],
   "source": [
    "mean_ratio <-  data.frame(path = annot$path[[1]], mean_ratio = mean_r)\n",
    "    mean_ratio <- left_join(mean_ratio, annot)"
   ]
  },
  {
   "cell_type": "code",
   "execution_count": 22,
   "id": "6b9b0dd8-6943-4419-adaf-98ba71ff3341",
   "metadata": {},
   "outputs": [
    {
     "data": {
      "text/html": [
       "<table class=\"dataframe\">\n",
       "<caption>A data.frame: 1 × 17</caption>\n",
       "<thead>\n",
       "\t<tr><th scope=col>path</th><th scope=col>mean_ratio</th><th scope=col>raw_file_GSM</th><th scope=col>tissue</th><th scope=col>replica</th><th scope=col>sample_name</th><th scope=col>barcode</th><th scope=col>dataset</th><th scope=col>flowcell</th><th scope=col>lane</th><th scope=col>platform</th><th scope=col>center</th><th scope=col>file1</th><th scope=col>file2</th><th scope=col>library</th><th scope=col>type</th><th scope=col>path_unif</th></tr>\n",
       "\t<tr><th scope=col>&lt;chr&gt;</th><th scope=col>&lt;dbl&gt;</th><th scope=col>&lt;chr&gt;</th><th scope=col>&lt;chr&gt;</th><th scope=col>&lt;int&gt;</th><th scope=col>&lt;chr&gt;</th><th scope=col>&lt;chr&gt;</th><th scope=col>&lt;chr&gt;</th><th scope=col>&lt;lgl&gt;</th><th scope=col>&lt;lgl&gt;</th><th scope=col>&lt;chr&gt;</th><th scope=col>&lt;chr&gt;</th><th scope=col>&lt;chr&gt;</th><th scope=col>&lt;chr&gt;</th><th scope=col>&lt;chr&gt;</th><th scope=col>&lt;chr&gt;</th><th scope=col>&lt;chr&gt;</th></tr>\n",
       "</thead>\n",
       "<tbody>\n",
       "\t<tr><td>/binfl/lv71484/droman/DNAmeth500species//resources/WGBS_public/Parus_major_gemBS/extract/SRR2070790_cpg.bed.gz</td><td>51.06399</td><td>PRJNA574487</td><td>brain</td><td>1</td><td>GSMXXX_brain_1</td><td>SRR2070790</td><td>SRR2070790</td><td>NA</td><td>NA</td><td>HiSeq</td><td>external</td><td>SRR2070790_1.fastq</td><td>SRR2070790_2.fastq</td><td>PRJNA574487</td><td>Paired</td><td>/binfl/lv71484/droman/DNAmeth500species//resources/WGBS_public/Parus_major_gemBS/GSMXXX_brain_1.bed</td></tr>\n",
       "</tbody>\n",
       "</table>\n"
      ],
      "text/latex": [
       "A data.frame: 1 × 17\n",
       "\\begin{tabular}{lllllllllllllllll}\n",
       " path & mean\\_ratio & raw\\_file\\_GSM & tissue & replica & sample\\_name & barcode & dataset & flowcell & lane & platform & center & file1 & file2 & library & type & path\\_unif\\\\\n",
       " <chr> & <dbl> & <chr> & <chr> & <int> & <chr> & <chr> & <chr> & <lgl> & <lgl> & <chr> & <chr> & <chr> & <chr> & <chr> & <chr> & <chr>\\\\\n",
       "\\hline\n",
       "\t /binfl/lv71484/droman/DNAmeth500species//resources/WGBS\\_public/Parus\\_major\\_gemBS/extract/SRR2070790\\_cpg.bed.gz & 51.06399 & PRJNA574487 & brain & 1 & GSMXXX\\_brain\\_1 & SRR2070790 & SRR2070790 & NA & NA & HiSeq & external & SRR2070790\\_1.fastq & SRR2070790\\_2.fastq & PRJNA574487 & Paired & /binfl/lv71484/droman/DNAmeth500species//resources/WGBS\\_public/Parus\\_major\\_gemBS/GSMXXX\\_brain\\_1.bed\\\\\n",
       "\\end{tabular}\n"
      ],
      "text/markdown": [
       "\n",
       "A data.frame: 1 × 17\n",
       "\n",
       "| path &lt;chr&gt; | mean_ratio &lt;dbl&gt; | raw_file_GSM &lt;chr&gt; | tissue &lt;chr&gt; | replica &lt;int&gt; | sample_name &lt;chr&gt; | barcode &lt;chr&gt; | dataset &lt;chr&gt; | flowcell &lt;lgl&gt; | lane &lt;lgl&gt; | platform &lt;chr&gt; | center &lt;chr&gt; | file1 &lt;chr&gt; | file2 &lt;chr&gt; | library &lt;chr&gt; | type &lt;chr&gt; | path_unif &lt;chr&gt; |\n",
       "|---|---|---|---|---|---|---|---|---|---|---|---|---|---|---|---|---|\n",
       "| /binfl/lv71484/droman/DNAmeth500species//resources/WGBS_public/Parus_major_gemBS/extract/SRR2070790_cpg.bed.gz | 51.06399 | PRJNA574487 | brain | 1 | GSMXXX_brain_1 | SRR2070790 | SRR2070790 | NA | NA | HiSeq | external | SRR2070790_1.fastq | SRR2070790_2.fastq | PRJNA574487 | Paired | /binfl/lv71484/droman/DNAmeth500species//resources/WGBS_public/Parus_major_gemBS/GSMXXX_brain_1.bed |\n",
       "\n"
      ],
      "text/plain": [
       "  path                                                                                                          \n",
       "1 /binfl/lv71484/droman/DNAmeth500species//resources/WGBS_public/Parus_major_gemBS/extract/SRR2070790_cpg.bed.gz\n",
       "  mean_ratio raw_file_GSM tissue replica sample_name    barcode    dataset   \n",
       "1 51.06399   PRJNA574487  brain  1       GSMXXX_brain_1 SRR2070790 SRR2070790\n",
       "  flowcell lane platform center   file1              file2             \n",
       "1 NA       NA   HiSeq    external SRR2070790_1.fastq SRR2070790_2.fastq\n",
       "  library     type  \n",
       "1 PRJNA574487 Paired\n",
       "  path_unif                                                                                          \n",
       "1 /binfl/lv71484/droman/DNAmeth500species//resources/WGBS_public/Parus_major_gemBS/GSMXXX_brain_1.bed"
      ]
     },
     "metadata": {},
     "output_type": "display_data"
    }
   ],
   "source": [
    "mean_ratio"
   ]
  },
  {
   "cell_type": "code",
   "execution_count": 24,
   "id": "676bbb22-f876-4f36-9824-7ce70eba7085",
   "metadata": {},
   "outputs": [],
   "source": [
    "write.table(mean_ratio, \"Parus_major_PRJNA574487.csv\", sep = \";\", quote = F, row.names = F)"
   ]
  }
 ],
 "metadata": {
  "kernelspec": {
   "display_name": "Zoo_R",
   "language": "R",
   "name": "zoo_r"
  },
  "language_info": {
   "codemirror_mode": "r",
   "file_extension": ".r",
   "mimetype": "text/x-r-source",
   "name": "R",
   "pygments_lexer": "r",
   "version": "3.6.1"
  }
 },
 "nbformat": 4,
 "nbformat_minor": 5
}
