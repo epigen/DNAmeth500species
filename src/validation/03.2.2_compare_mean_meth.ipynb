{
 "cells": [
  {
   "cell_type": "code",
   "execution_count": null,
   "id": "6a60251e-a4fb-45c8-a29e-c21ec0cad803",
   "metadata": {},
   "outputs": [],
   "source": [
    "## ---------------------------\n",
    "##\n",
    "## WGBS-based validation\n",
    "##\n",
    "## comparing the WGBS and RRBS data\n",
    "##\n",
    "## Authors: Daria Romanovskaia\n",
    "##\n",
    "## Date Created:  2021-05-20\n",
    "##\n",
    "##\n",
    "## ---------------------------"
   ]
  },
  {
   "cell_type": "code",
   "execution_count": null,
   "id": "1ac48a39-5a26-4669-9a40-93b7c205006d",
   "metadata": {},
   "outputs": [],
   "source": [
    "source(file.path(Sys.getenv(\"CODEBASE\"),\"DNAmeth500species/src/00.0_init.R\"))"
   ]
  },
  {
   "cell_type": "code",
   "execution_count": null,
   "id": "19076496",
   "metadata": {},
   "outputs": [],
   "source": [
    "COV=5"
   ]
  },
  {
   "cell_type": "code",
   "execution_count": null,
   "id": "6461978d-299f-4d8b-96e2-e8584a01fe4b",
   "metadata": {},
   "outputs": [],
   "source": [
    "wd=file.path(analysis_dir, \"validation\", \"03_WGBS\", \"03.2_mean_meth\")\n",
    "wd\n",
    "setwd(wd)"
   ]
  },
  {
   "cell_type": "markdown",
   "id": "9043ed27",
   "metadata": {},
   "source": [
    "# RRBS-WGBS comparison\n",
    "### Merge all together"
   ]
  },
  {
   "cell_type": "code",
   "execution_count": null,
   "id": "08a626ec",
   "metadata": {},
   "outputs": [],
   "source": [
    "files_list <-list.files( pattern = \"*.csv\")"
   ]
  },
  {
   "cell_type": "code",
   "execution_count": null,
   "id": "99a8f8ef",
   "metadata": {},
   "outputs": [],
   "source": [
    "files_list"
   ]
  },
  {
   "cell_type": "code",
   "execution_count": null,
   "id": "dc2415de",
   "metadata": {},
   "outputs": [],
   "source": [
    "wgbs_mean = data.table()\n",
    "for(path in files_list){\n",
    "        df <- read.csv(path, sep = \";\")\n",
    "    df$source <- gsub(\".csv\", \"\",path)\n",
    "    wgbs_mean <- rbind(df, wgbs_mean, fill = TRUE)\n",
    "    }\n"
   ]
  },
  {
   "cell_type": "code",
   "execution_count": null,
   "id": "7500f38a",
   "metadata": {},
   "outputs": [],
   "source": [
    "wgbs_mean <- wgbs_mean[, c(\"path\", \"mean_ratio\", \"tissue\",\"replica\", \"source\")]"
   ]
  },
  {
   "cell_type": "code",
   "execution_count": null,
   "id": "2242b1e7",
   "metadata": {},
   "outputs": [],
   "source": [
    "## clean-up of the tissue types\n",
    "wgbs_mean[, latin_name:= sapply(wgbs_mean$path, function(x) strsplit(as.character(x), \"/\")[[1]][5]),]\n",
    "wgbs_mean[latin_name == \"Branchiostoma_lanceolatum_1\", latin_name:= \"Branchiostoma_lanceolatum\",]\n",
    "wgbs_mean[,tissue:=tolower(tissue),]\n",
    "wgbs_mean[,tissue:=as.character(sapply(wgbs_mean$tissue, function(x) ifelse(length(grep(\"brain\", x) > 0), \"brain\", x))),]\n",
    "wgbs_mean[tissue == \"frontal_cortex\",tissue:=\"brain\"]\n",
    "wgbs_mean[tissue == \"cerebellum\",tissue:=\"brain\"]\n",
    "wgbs_mean[tissue == \"right_hemisphere_cerebral_lobe\",tissue:=\"brain\"]\n",
    "wgbs_mean[tissue == \"olfactory_bulb\",tissue:=\"brain\"]                                      "
   ]
  },
  {
   "cell_type": "code",
   "execution_count": null,
   "id": "decde1cd",
   "metadata": {},
   "outputs": [],
   "source": [
    "wgbs_mean[source== \"Danio_rerio_GSE134055\", replica:=3,]"
   ]
  },
  {
   "cell_type": "code",
   "execution_count": null,
   "id": "33de1305",
   "metadata": {},
   "outputs": [],
   "source": [
    "wgbs_mean[latin_name== \"Branchiostoma_lanceolatum\"]"
   ]
  },
  {
   "cell_type": "code",
   "execution_count": null,
   "id": "de5937e7-2a21-4129-83c5-42505f4b310b",
   "metadata": {},
   "outputs": [],
   "source": [
    "wgbs_mean[latin_name== \"Xenopus_laevis\"]"
   ]
  },
  {
   "cell_type": "code",
   "execution_count": null,
   "id": "b7122958",
   "metadata": {},
   "outputs": [],
   "source": [
    "wgbs_mean[latin_name==\"Danio_rerio\",replica:=4]"
   ]
  },
  {
   "cell_type": "code",
   "execution_count": null,
   "id": "80a81792",
   "metadata": {},
   "outputs": [],
   "source": [
    "wgbs_mean[latin_name==\"Danio_rerio_gemBS\", latin_name:=\"Danio_rerio\",]"
   ]
  },
  {
   "cell_type": "code",
   "execution_count": null,
   "id": "aec1f648",
   "metadata": {},
   "outputs": [],
   "source": [
    "wgbs_mean[latin_name==\"Branchiostoma_lanceolatum\" & source == \"Combined_study_GSE141609\", replica:=2,]"
   ]
  },
  {
   "cell_type": "code",
   "execution_count": null,
   "id": "2027d2cf-f8c1-4ea1-9d17-13b41db218d2",
   "metadata": {},
   "outputs": [],
   "source": [
    "## reading in the matches in the RRBS data"
   ]
  },
  {
   "cell_type": "code",
   "execution_count": null,
   "id": "aa155190",
   "metadata": {},
   "outputs": [],
   "source": [
    "match <- fread(file.path(analysis_dir,  \"validation\", \"03_WGBS\",\"WGBS_RRBS_match.txt\"))"
   ]
  },
  {
   "cell_type": "code",
   "execution_count": null,
   "id": "9e683b71",
   "metadata": {},
   "outputs": [],
   "source": [
    "match[,latin_name := sapply(`scientific name`, function(x) paste(strsplit(x, \" \")[[1]], collapse = \"_\")), ]"
   ]
  },
  {
   "cell_type": "code",
   "execution_count": null,
   "id": "dad8f6c5",
   "metadata": {},
   "outputs": [],
   "source": [
    "match[,latin_name :=sapply(latin_name, function(x) paste0(toupper(substr(x, 1,1)), substr(x, 2,nchar(x)))),]"
   ]
  },
  {
   "cell_type": "code",
   "execution_count": null,
   "id": "9db8a3ee-84c1-44e9-a74a-81315f83eb25",
   "metadata": {},
   "outputs": [],
   "source": [
    "match[latin_name== \"Xenopus_laevis\", c(\"latin_name\", \"Species\")]"
   ]
  },
  {
   "cell_type": "code",
   "execution_count": null,
   "id": "fdf85b43-8803-4202-9708-b9d8b2f014f1",
   "metadata": {},
   "outputs": [],
   "source": [
    "match[latin_name== \"Xenopus_laevis\", Species:=\"ALL FROGS\",]"
   ]
  },
  {
   "cell_type": "code",
   "execution_count": null,
   "id": "5913ee86-bde3-45d8-bda0-21ca25022187",
   "metadata": {},
   "outputs": [],
   "source": [
    "# adding frogs for Xenopus"
   ]
  },
  {
   "cell_type": "code",
   "execution_count": null,
   "id": "574aeb2c-134c-4a0c-b7e6-6eba251c3885",
   "metadata": {},
   "outputs": [],
   "source": [
    "frogs <- unique(stats_annot[grep(\"frog\", stats_annot$English), c(\"species\", \"English\", \"ncbi_name\")])"
   ]
  },
  {
   "cell_type": "code",
   "execution_count": null,
   "id": "b6f4c8fe-2080-44f3-95e2-43bf088cfcf5",
   "metadata": {},
   "outputs": [],
   "source": [
    "frogs$latin_name <- \"Xenopus_laevis\""
   ]
  },
  {
   "cell_type": "code",
   "execution_count": null,
   "id": "78b21b89-0117-4c8c-a61d-ed573fa09541",
   "metadata": {},
   "outputs": [],
   "source": [
    "colnames(frogs)[[1]] <- \"Species\""
   ]
  },
  {
   "cell_type": "code",
   "execution_count": null,
   "id": "ec694451",
   "metadata": {},
   "outputs": [],
   "source": [
    "wgbs_mean <- inner_join(wgbs_mean, unique(match[, c(\"latin_name\", \"Species\")]))"
   ]
  },
  {
   "cell_type": "code",
   "execution_count": null,
   "id": "5777473f-7b9e-45c0-98ca-2eebbebc092f",
   "metadata": {},
   "outputs": [],
   "source": [
    "wgbs_mean[latin_name== \"Xenopus_laevis\"]$Species"
   ]
  },
  {
   "cell_type": "code",
   "execution_count": null,
   "id": "02f8a296-f7aa-41b8-805e-8f64bc0c677f",
   "metadata": {},
   "outputs": [],
   "source": [
    "my_wt(wgbs_mean, \"WGBS_mean_per_sample_summary.tsv\")"
   ]
  },
  {
   "cell_type": "code",
   "execution_count": null,
   "id": "5bd02e1b",
   "metadata": {},
   "outputs": [],
   "source": [
    "stats_annot_mean_meth  <- stats_annot %>% filter(conversion_type == \"converted\") %>% group_by(color_class, species, English) %>% \n",
    "                summarize(m_rrbs = mean(CpG_meth), min_rrbs =min(CpG_meth), max_rrbs=max(CpG_meth) ) %>% ungroup()"
   ]
  },
  {
   "cell_type": "code",
   "execution_count": null,
   "id": "f4b8abba-28b9-4035-8f5c-e700d2d433a9",
   "metadata": {},
   "outputs": [],
   "source": [
    "stats_annot_mean_meth_frogs <- stats_annot %>% filter(species %in% frogs$Species & conversion_type == \"converted\") %>% group_by(color_class) %>% \n",
    "                summarize(m_rrbs = mean(CpG_meth), min_rrbs =min(CpG_meth), max_rrbs=max(CpG_meth) ) %>% ungroup()"
   ]
  },
  {
   "cell_type": "code",
   "execution_count": null,
   "id": "d5e943c0-10e3-4551-8d34-009d8fb9590c",
   "metadata": {},
   "outputs": [],
   "source": [
    "head(stats_annot_mean_meth)"
   ]
  },
  {
   "cell_type": "code",
   "execution_count": null,
   "id": "068de70e-c082-4bc1-a25d-2fbd9e5d9566",
   "metadata": {},
   "outputs": [],
   "source": [
    "head(stats_annot_mean_meth_frogs)"
   ]
  },
  {
   "cell_type": "code",
   "execution_count": null,
   "id": "c28e165a-1713-4545-9951-eb34125af0d9",
   "metadata": {},
   "outputs": [],
   "source": [
    "stats_annot_mean_meth_frogs$English <- \"Clawed frog\" ##the English name of the WGBS match\n",
    "stats_annot_mean_meth_frogs$species <- \"ALL FROGS\""
   ]
  },
  {
   "cell_type": "code",
   "execution_count": null,
   "id": "cc6bb0b6-7bb5-44d3-ae12-1d1ac4cae226",
   "metadata": {},
   "outputs": [],
   "source": [
    "stats_annot_mean_meth <- rbind(stats_annot_mean_meth, stats_annot_mean_meth_frogs)"
   ]
  },
  {
   "cell_type": "code",
   "execution_count": null,
   "id": "04c50286-f118-4c7a-b0b6-8f305f44b915",
   "metadata": {},
   "outputs": [],
   "source": [
    "setDT(stats_annot_mean_meth)"
   ]
  },
  {
   "cell_type": "code",
   "execution_count": null,
   "id": "e4d0a8b8-6e8a-41c2-bec4-aae7974b7c25",
   "metadata": {},
   "outputs": [],
   "source": [
    "setDT(wgbs_mean)"
   ]
  },
  {
   "cell_type": "code",
   "execution_count": null,
   "id": "4b261e4d-40b7-47ba-a56b-eba9b41dc236",
   "metadata": {},
   "outputs": [],
   "source": [
    "wgbs_mean[Species == \"ALL FROGS\"]"
   ]
  },
  {
   "cell_type": "code",
   "execution_count": null,
   "id": "8998047d",
   "metadata": {},
   "outputs": [],
   "source": [
    "wgbs_mean <- inner_join(wgbs_mean, stats_annot_mean_meth, by = c(\"Species\" = \"species\"))\n",
    "#ordering by evolutionary classes\n",
    "wgbs_mean$color_class <- factor(wgbs_mean$color_class, levels = names(class_colors))\n",
    "wgbs_mean <- wgbs_mean[order(color_class), ]\n",
    "wgbs_mean$Species <- factor(wgbs_mean$Species, levels = unique(wgbs_mean$Species))\n",
    "wgbs_mean$English <- factor(wgbs_mean$English, levels = unique(wgbs_mean$English))"
   ]
  },
  {
   "cell_type": "code",
   "execution_count": null,
   "id": "5e9cff27",
   "metadata": {},
   "outputs": [],
   "source": [
    "wgbs_mean[mean_ratio > 1, mean_ratio:=mean_ratio/100]"
   ]
  },
  {
   "cell_type": "code",
   "execution_count": null,
   "id": "80fa4845",
   "metadata": {},
   "outputs": [],
   "source": [
    "ggplot(wgbs_mean, aes(x = English, y = mean_ratio, fill = color_class)) + geom_boxplot(outlier.shape =  21) + theme_bw() + \n",
    "theme(text = element_text(size = 20), axis.text.x = element_text(angle = 45, hjust = 1)) + \n",
    "scale_fill_manual(values = class_colors) + labs(x = \"\", y = \"mean WGBS meth. level\", fill = \"class\")\n",
    "ggsave(\"WGBS_boxplot.pdf\", height = 6, width = 8)"
   ]
  },
  {
   "cell_type": "code",
   "execution_count": null,
   "id": "e590fbd8",
   "metadata": {},
   "outputs": [],
   "source": [
    "ggplot(wgbs_mean, aes(x = English, y = mean_ratio)) + geom_boxplot(outlier.shape = NA, aes(color = color_class)) + theme_bw() + \n",
    "geom_jitter(shape = 21, size = 2,aes(fill = tissue)) + scale_color_manual(values = class_colors) + \n",
    "theme(text = element_text(size = 20), axis.text.x = element_text(angle = 45, hjust = 1)) + labs(x = \"\", y = \"mean WGBS meth. level\", color = \"class\")\n",
    "ggsave(\"WGBS_boxplot_tissue.pdf\", height = 8, width = 15)"
   ]
  },
  {
   "cell_type": "code",
   "execution_count": null,
   "id": "febd6e33",
   "metadata": {},
   "outputs": [],
   "source": [
    "wgbs_mean_per_tissue <- wgbs_mean %>% group_by(Species, latin_name, tissue, English) %>% summarize(m = mean(mean_ratio))"
   ]
  },
  {
   "cell_type": "code",
   "execution_count": null,
   "id": "ee35ed40",
   "metadata": {},
   "outputs": [],
   "source": [
    "options(repr.plot.width = 20, repr.plot.height = 10)\n",
    "ggplot(wgbs_mean_per_tissue, aes(x = English, y = tissue,fill = m, size = m)) + geom_point(shape = 21) + \n",
    "    theme_bw()+\n",
    "    theme(text = element_text(size = 20), axis.text.x = element_text(angle = 45, hjust = 1)) + \n",
    "    scale_fill_gradient2(low = \"#3288bd\", mid = \"#ffffbf\", high = \"#9e0142\", midpoint = 0.5) + \n",
    "    labs(x = \"\", y = \"\", fill = \"mean WGBS meth.\", size = \"mean WGBS meth.\" )\n",
    "ggsave(\"WGBS_mean_per_tissue.pdf\", height = 10, width = 10)  "
   ]
  },
  {
   "cell_type": "code",
   "execution_count": null,
   "id": "9fcc9f00",
   "metadata": {},
   "outputs": [],
   "source": [
    "wgbs_mean_per_species <- wgbs_mean %>% filter(tissue!= \"placenta\") %>% group_by(latin_name, Species) %>% summarise(m_wgbs = mean(mean_ratio), min_wgbs = min(mean_ratio),\n",
    "                                                                                                                   max_wgbs=max(mean_ratio), n = n())"
   ]
  },
  {
   "cell_type": "code",
   "execution_count": null,
   "id": "76d5ad21",
   "metadata": {},
   "outputs": [],
   "source": [
    "wgbs_mean_per_species <- inner_join(wgbs_mean_per_species, stats_annot_mean_meth, by = c(\"Species\" = \"species\"))"
   ]
  },
  {
   "cell_type": "code",
   "execution_count": null,
   "id": "d79903ab",
   "metadata": {},
   "outputs": [],
   "source": []
  },
  {
   "cell_type": "code",
   "execution_count": null,
   "id": "4125fbcc",
   "metadata": {},
   "outputs": [],
   "source": [
    "options(repr.plot.width = 10, repr.plot.height = 10)\n",
    "ggplot(wgbs_mean_per_species, aes(x = m_wgbs*100, y = m_rrbs, color = color_class)) + \n",
    "geom_abline(slope = 1, alpha = 0.5, linetype = \"dashed\") +\n",
    "geom_point(aes(size = n))  +\n",
    "theme_bw()+\n",
    "theme(text = element_text(size = 8)) + \n",
    "scale_color_manual(values = class_colors) + \n",
    "xlim(c(0,100)) + ylim(c(0,100)) + coord_equal() + \n",
    "labs(x = \"mean WGBS meth.\", y = \"mean RRBS meth.\", color = \"class\", size = \"number of\\nsamples(WGBS)\")  + \n",
    "ggtitle(paste0(\"corr = \", round(cor(wgbs_mean_per_species$m_rrbs,wgbs_mean_per_species$m_wgbs),2))) + \n",
    " geom_errorbar(aes(xmin=100*min_wgbs, xmax=100*max_wgbs), width=.5,\n",
    "                 position=position_dodge(.9)) +\n",
    "geom_errorbar(aes(ymin=min_rrbs, ymax=max_rrbs), width=.5,\n",
    "                 position=position_dodge(.9))+ geom_text_repel(aes(label = English))\n",
    "ggsave(\"WGBS_RRBS.pdf\", height = 4, width = 5) \n"
   ]
  },
  {
   "cell_type": "code",
   "execution_count": null,
   "id": "be9876f3-2d36-4c97-b088-1d2b2c4c6786",
   "metadata": {},
   "outputs": [],
   "source": [
    "options(repr.plot.width = 10, repr.plot.height = 10)\n",
    "ggplot(wgbs_mean_per_species, aes(x = m_wgbs*100, y = m_rrbs, color = color_class)) + \n",
    "geom_abline(slope = 1, alpha = 0.5, linetype = \"dashed\") +\n",
    "geom_point(aes(size = n))  +\n",
    "theme_bw()+\n",
    "theme(text = element_text(size = 8)) + \n",
    "scale_color_manual(values = class_colors) + \n",
    "xlim(c(0,100)) + ylim(c(0,100)) + coord_equal() + \n",
    "labs(x = \"mean WGBS meth.\", y = \"mean RRBS meth.\", color = \"class\", size = \"number of\\nsamples(WGBS)\")  + \n",
    "ggtitle(paste0(\"corr = \", round(cor(wgbs_mean_per_species$m_rrbs,wgbs_mean_per_species$m_wgbs),2))) + \n",
    " geom_errorbar(aes(xmin=100*min_wgbs, xmax=100*max_wgbs), width=.5,\n",
    "                 position=position_dodge(.9)) +\n",
    "geom_errorbar(aes(ymin=min_rrbs, ymax=max_rrbs), width=.5,\n",
    "                 position=position_dodge(.9))#+ geom_text_repel(aes(label = English))\n",
    "ggsave(\"WGBS_RRBS_nolabels.pdf\", height = 6, width = 6) "
   ]
  },
  {
   "cell_type": "code",
   "execution_count": null,
   "id": "160cc681",
   "metadata": {},
   "outputs": [],
   "source": [
    "my_wt(wgbs_mean_per_tissue, \"WGBS_summary_tissues.csv\")"
   ]
  },
  {
   "cell_type": "code",
   "execution_count": null,
   "id": "c582e2c3",
   "metadata": {},
   "outputs": [],
   "source": [
    "my_wt(wgbs_mean_per_species, \"WGBS_RRBS_summary.csv\")"
   ]
  },
  {
   "cell_type": "code",
   "execution_count": null,
   "id": "05b86344-b46d-40f3-bb23-9fb5cca4fdd9",
   "metadata": {},
   "outputs": [],
   "source": []
  }
 ],
 "metadata": {
  "kernelspec": {
   "display_name": "R_compEpi",
   "language": "R",
   "name": "r_compepi"
  },
  "language_info": {
   "codemirror_mode": "r",
   "file_extension": ".r",
   "mimetype": "text/x-r-source",
   "name": "R",
   "pygments_lexer": "r",
   "version": "3.6.3"
  }
 },
 "nbformat": 4,
 "nbformat_minor": 5
}
