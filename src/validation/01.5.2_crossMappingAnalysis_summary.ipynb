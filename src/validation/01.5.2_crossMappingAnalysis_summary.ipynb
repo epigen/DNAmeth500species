{
 "cells": [
  {
   "cell_type": "code",
   "execution_count": 13,
   "id": "1f886b6f-6844-4ca3-af70-1769bcea1025",
   "metadata": {},
   "outputs": [],
   "source": [
    "## ---------------------------\n",
    "##\n",
    "## cross-mapping analysis\n",
    "##\n",
    "## Summary of the per genome-species pair analysis\n",
    "##\n",
    "## Authors: Daria Romanovskaia\n",
    "##\n",
    "## Date Created: 2021-10-28\n",
    "##\n",
    "##\n",
    "## ---------------------------"
   ]
  },
  {
   "cell_type": "code",
   "execution_count": 14,
   "id": "cae6f45c-845d-4600-83cb-61d26d0299d1",
   "metadata": {},
   "outputs": [
    {
     "name": "stderr",
     "output_type": "stream",
     "text": [
      "Joining, by = \"species\"\n",
      "\n"
     ]
    }
   ],
   "source": [
    "source(file.path(Sys.getenv(\"CODEBASE\"),\"DNAmeth500species/src/00.0_init.R\"))"
   ]
  },
  {
   "cell_type": "code",
   "execution_count": 15,
   "id": "729072af-dc44-489f-98b9-bad5ac839b92",
   "metadata": {},
   "outputs": [],
   "source": [
    "wd = file.path(analysis_dir, \"validation\", \"01_crossMapping\",\"01.5_analysis\")\n",
    "setwd(wd)"
   ]
  },
  {
   "cell_type": "code",
   "execution_count": 16,
   "id": "3d42420e-a792-452f-a43d-263c5d952392",
   "metadata": {},
   "outputs": [
    {
     "name": "stderr",
     "output_type": "stream",
     "text": [
      "Warning message in dir.create(\"summary\"):\n",
      "“'summary' already exists”\n"
     ]
    }
   ],
   "source": [
    "dir.create(\"summary\")"
   ]
  },
  {
   "cell_type": "markdown",
   "id": "80b26afa-5ede-425b-8591-b1426c23b6e5",
   "metadata": {},
   "source": [
    "As a first step we want to only go deeper in the analysis of the best of the genomes, the species was mapped to."
   ]
  },
  {
   "cell_type": "code",
   "execution_count": 17,
   "id": "7a4fb0cc-e1e4-49b4-b827-72daa8040b0b",
   "metadata": {},
   "outputs": [
    {
     "data": {
      "text/html": [
       "<table class=\"dataframe\">\n",
       "<caption>A data.table: 6 × 11</caption>\n",
       "<thead>\n",
       "\t<tr><th scope=col>total_passed.V1</th><th scope=col>total_failed.V3</th><th scope=col>secondary_passed.V1</th><th scope=col>secondary_failed.V3</th><th scope=col>mapped_passed.V1</th><th scope=col>mapped_failed.V3</th><th scope=col>perc_mapped_passed</th><th scope=col>perc_mapped_failed</th><th scope=col>species</th><th scope=col>mapped_genome</th><th scope=col>color_class</th></tr>\n",
       "\t<tr><th scope=col>&lt;int&gt;</th><th scope=col>&lt;int&gt;</th><th scope=col>&lt;int&gt;</th><th scope=col>&lt;int&gt;</th><th scope=col>&lt;int&gt;</th><th scope=col>&lt;int&gt;</th><th scope=col>&lt;dbl&gt;</th><th scope=col>&lt;lgl&gt;</th><th scope=col>&lt;chr&gt;</th><th scope=col>&lt;chr&gt;</th><th scope=col>&lt;chr&gt;</th></tr>\n",
       "</thead>\n",
       "<tbody>\n",
       "\t<tr><td>1677300</td><td>0</td><td>50162</td><td>0</td><td>441133</td><td>0</td><td>26.30</td><td>NA</td><td>ABB</td><td>canFam4</td><td>Mammalia</td></tr>\n",
       "\t<tr><td>1677300</td><td>0</td><td>44708</td><td>0</td><td>482219</td><td>0</td><td>28.75</td><td>NA</td><td>ABB</td><td>musFur1</td><td>Mammalia</td></tr>\n",
       "\t<tr><td>1677300</td><td>0</td><td>46859</td><td>0</td><td>701722</td><td>0</td><td>41.84</td><td>NA</td><td>ABB</td><td>neoSch1</td><td>Mammalia</td></tr>\n",
       "\t<tr><td>1924470</td><td>0</td><td>35377</td><td>0</td><td>156209</td><td>0</td><td> 8.12</td><td>NA</td><td>AB </td><td>anoCar2</td><td>Reptilia</td></tr>\n",
       "\t<tr><td>1924470</td><td>0</td><td>24986</td><td>0</td><td>110258</td><td>0</td><td> 5.73</td><td>NA</td><td>AB </td><td>thaSir1</td><td>Reptilia</td></tr>\n",
       "\t<tr><td>1820594</td><td>0</td><td>92172</td><td>0</td><td>365757</td><td>0</td><td>20.09</td><td>NA</td><td>ABU</td><td>nanPar1</td><td>Amphibia</td></tr>\n",
       "</tbody>\n",
       "</table>\n"
      ],
      "text/latex": [
       "A data.table: 6 × 11\n",
       "\\begin{tabular}{lllllllllll}\n",
       " total\\_passed.V1 & total\\_failed.V3 & secondary\\_passed.V1 & secondary\\_failed.V3 & mapped\\_passed.V1 & mapped\\_failed.V3 & perc\\_mapped\\_passed & perc\\_mapped\\_failed & species & mapped\\_genome & color\\_class\\\\\n",
       " <int> & <int> & <int> & <int> & <int> & <int> & <dbl> & <lgl> & <chr> & <chr> & <chr>\\\\\n",
       "\\hline\n",
       "\t 1677300 & 0 & 50162 & 0 & 441133 & 0 & 26.30 & NA & ABB & canFam4 & Mammalia\\\\\n",
       "\t 1677300 & 0 & 44708 & 0 & 482219 & 0 & 28.75 & NA & ABB & musFur1 & Mammalia\\\\\n",
       "\t 1677300 & 0 & 46859 & 0 & 701722 & 0 & 41.84 & NA & ABB & neoSch1 & Mammalia\\\\\n",
       "\t 1924470 & 0 & 35377 & 0 & 156209 & 0 &  8.12 & NA & AB  & anoCar2 & Reptilia\\\\\n",
       "\t 1924470 & 0 & 24986 & 0 & 110258 & 0 &  5.73 & NA & AB  & thaSir1 & Reptilia\\\\\n",
       "\t 1820594 & 0 & 92172 & 0 & 365757 & 0 & 20.09 & NA & ABU & nanPar1 & Amphibia\\\\\n",
       "\\end{tabular}\n"
      ],
      "text/markdown": [
       "\n",
       "A data.table: 6 × 11\n",
       "\n",
       "| total_passed.V1 &lt;int&gt; | total_failed.V3 &lt;int&gt; | secondary_passed.V1 &lt;int&gt; | secondary_failed.V3 &lt;int&gt; | mapped_passed.V1 &lt;int&gt; | mapped_failed.V3 &lt;int&gt; | perc_mapped_passed &lt;dbl&gt; | perc_mapped_failed &lt;lgl&gt; | species &lt;chr&gt; | mapped_genome &lt;chr&gt; | color_class &lt;chr&gt; |\n",
       "|---|---|---|---|---|---|---|---|---|---|---|\n",
       "| 1677300 | 0 | 50162 | 0 | 441133 | 0 | 26.30 | NA | ABB | canFam4 | Mammalia |\n",
       "| 1677300 | 0 | 44708 | 0 | 482219 | 0 | 28.75 | NA | ABB | musFur1 | Mammalia |\n",
       "| 1677300 | 0 | 46859 | 0 | 701722 | 0 | 41.84 | NA | ABB | neoSch1 | Mammalia |\n",
       "| 1924470 | 0 | 35377 | 0 | 156209 | 0 |  8.12 | NA | AB  | anoCar2 | Reptilia |\n",
       "| 1924470 | 0 | 24986 | 0 | 110258 | 0 |  5.73 | NA | AB  | thaSir1 | Reptilia |\n",
       "| 1820594 | 0 | 92172 | 0 | 365757 | 0 | 20.09 | NA | ABU | nanPar1 | Amphibia |\n",
       "\n"
      ],
      "text/plain": [
       "  total_passed.V1 total_failed.V3 secondary_passed.V1 secondary_failed.V3\n",
       "1 1677300         0               50162               0                  \n",
       "2 1677300         0               44708               0                  \n",
       "3 1677300         0               46859               0                  \n",
       "4 1924470         0               35377               0                  \n",
       "5 1924470         0               24986               0                  \n",
       "6 1820594         0               92172               0                  \n",
       "  mapped_passed.V1 mapped_failed.V3 perc_mapped_passed perc_mapped_failed\n",
       "1 441133           0                26.30              NA                \n",
       "2 482219           0                28.75              NA                \n",
       "3 701722           0                41.84              NA                \n",
       "4 156209           0                 8.12              NA                \n",
       "5 110258           0                 5.73              NA                \n",
       "6 365757           0                20.09              NA                \n",
       "  species mapped_genome color_class\n",
       "1 ABB     canFam4       Mammalia   \n",
       "2 ABB     musFur1       Mammalia   \n",
       "3 ABB     neoSch1       Mammalia   \n",
       "4 AB      anoCar2       Reptilia   \n",
       "5 AB      thaSir1       Reptilia   \n",
       "6 ABU     nanPar1       Amphibia   "
      ]
     },
     "metadata": {},
     "output_type": "display_data"
    }
   ],
   "source": [
    "cm_stats <- fread(\"../01.4_crossMapping_stats/cross_mapping_stats.tsv\")\n",
    "head(cm_stats)"
   ]
  },
  {
   "cell_type": "code",
   "execution_count": 18,
   "id": "218ea5a3-3391-4ba3-9f5a-c262417e6958",
   "metadata": {},
   "outputs": [],
   "source": [
    "cross_mapping_stats_best <- cm_stats %>% arrange(desc(perc_mapped_passed)) %>%\n",
    "group_by(species) %>%\n",
    "filter(perc_mapped_passed == first(perc_mapped_passed))\n",
    "setDT(cross_mapping_stats_best)"
   ]
  },
  {
   "cell_type": "code",
   "execution_count": 19,
   "id": "7b57c868-0d3b-4a6f-afce-09dd7aa7b7e2",
   "metadata": {},
   "outputs": [
    {
     "data": {
      "text/html": [
       "<table class=\"dataframe\">\n",
       "<caption>A data.table: 6 × 11</caption>\n",
       "<thead>\n",
       "\t<tr><th scope=col>total_passed.V1</th><th scope=col>total_failed.V3</th><th scope=col>secondary_passed.V1</th><th scope=col>secondary_failed.V3</th><th scope=col>mapped_passed.V1</th><th scope=col>mapped_failed.V3</th><th scope=col>perc_mapped_passed</th><th scope=col>perc_mapped_failed</th><th scope=col>species</th><th scope=col>mapped_genome</th><th scope=col>color_class</th></tr>\n",
       "\t<tr><th scope=col>&lt;int&gt;</th><th scope=col>&lt;int&gt;</th><th scope=col>&lt;int&gt;</th><th scope=col>&lt;int&gt;</th><th scope=col>&lt;int&gt;</th><th scope=col>&lt;int&gt;</th><th scope=col>&lt;dbl&gt;</th><th scope=col>&lt;lgl&gt;</th><th scope=col>&lt;chr&gt;</th><th scope=col>&lt;chr&gt;</th><th scope=col>&lt;chr&gt;</th></tr>\n",
       "</thead>\n",
       "<tbody>\n",
       "\t<tr><td>1318577</td><td>0</td><td>51861</td><td>0</td><td>1294735</td><td>0</td><td>98.19</td><td>NA</td><td>CM </td><td>calJac4 </td><td>Mammalia</td></tr>\n",
       "\t<tr><td>2387998</td><td>0</td><td>55236</td><td>0</td><td>2341500</td><td>0</td><td>98.05</td><td>NA</td><td>NM </td><td>hetGla2 </td><td>Mammalia</td></tr>\n",
       "\t<tr><td>2301812</td><td>0</td><td>69263</td><td>0</td><td>2252356</td><td>0</td><td>97.85</td><td>NA</td><td>WB </td><td>susScr11</td><td>Mammalia</td></tr>\n",
       "\t<tr><td>1540769</td><td>0</td><td>43629</td><td>0</td><td>1502856</td><td>0</td><td>97.54</td><td>NA</td><td>RAT</td><td>rn7     </td><td>Mammalia</td></tr>\n",
       "\t<tr><td> 986291</td><td>0</td><td>30695</td><td>0</td><td> 960181</td><td>0</td><td>97.35</td><td>NA</td><td>FR </td><td>rn7     </td><td>Mammalia</td></tr>\n",
       "\t<tr><td>1361285</td><td>0</td><td>38209</td><td>0</td><td>1323429</td><td>0</td><td>97.22</td><td>NA</td><td>DOG</td><td>canFam5 </td><td>Mammalia</td></tr>\n",
       "</tbody>\n",
       "</table>\n"
      ],
      "text/latex": [
       "A data.table: 6 × 11\n",
       "\\begin{tabular}{lllllllllll}\n",
       " total\\_passed.V1 & total\\_failed.V3 & secondary\\_passed.V1 & secondary\\_failed.V3 & mapped\\_passed.V1 & mapped\\_failed.V3 & perc\\_mapped\\_passed & perc\\_mapped\\_failed & species & mapped\\_genome & color\\_class\\\\\n",
       " <int> & <int> & <int> & <int> & <int> & <int> & <dbl> & <lgl> & <chr> & <chr> & <chr>\\\\\n",
       "\\hline\n",
       "\t 1318577 & 0 & 51861 & 0 & 1294735 & 0 & 98.19 & NA & CM  & calJac4  & Mammalia\\\\\n",
       "\t 2387998 & 0 & 55236 & 0 & 2341500 & 0 & 98.05 & NA & NM  & hetGla2  & Mammalia\\\\\n",
       "\t 2301812 & 0 & 69263 & 0 & 2252356 & 0 & 97.85 & NA & WB  & susScr11 & Mammalia\\\\\n",
       "\t 1540769 & 0 & 43629 & 0 & 1502856 & 0 & 97.54 & NA & RAT & rn7      & Mammalia\\\\\n",
       "\t  986291 & 0 & 30695 & 0 &  960181 & 0 & 97.35 & NA & FR  & rn7      & Mammalia\\\\\n",
       "\t 1361285 & 0 & 38209 & 0 & 1323429 & 0 & 97.22 & NA & DOG & canFam5  & Mammalia\\\\\n",
       "\\end{tabular}\n"
      ],
      "text/markdown": [
       "\n",
       "A data.table: 6 × 11\n",
       "\n",
       "| total_passed.V1 &lt;int&gt; | total_failed.V3 &lt;int&gt; | secondary_passed.V1 &lt;int&gt; | secondary_failed.V3 &lt;int&gt; | mapped_passed.V1 &lt;int&gt; | mapped_failed.V3 &lt;int&gt; | perc_mapped_passed &lt;dbl&gt; | perc_mapped_failed &lt;lgl&gt; | species &lt;chr&gt; | mapped_genome &lt;chr&gt; | color_class &lt;chr&gt; |\n",
       "|---|---|---|---|---|---|---|---|---|---|---|\n",
       "| 1318577 | 0 | 51861 | 0 | 1294735 | 0 | 98.19 | NA | CM  | calJac4  | Mammalia |\n",
       "| 2387998 | 0 | 55236 | 0 | 2341500 | 0 | 98.05 | NA | NM  | hetGla2  | Mammalia |\n",
       "| 2301812 | 0 | 69263 | 0 | 2252356 | 0 | 97.85 | NA | WB  | susScr11 | Mammalia |\n",
       "| 1540769 | 0 | 43629 | 0 | 1502856 | 0 | 97.54 | NA | RAT | rn7      | Mammalia |\n",
       "|  986291 | 0 | 30695 | 0 |  960181 | 0 | 97.35 | NA | FR  | rn7      | Mammalia |\n",
       "| 1361285 | 0 | 38209 | 0 | 1323429 | 0 | 97.22 | NA | DOG | canFam5  | Mammalia |\n",
       "\n"
      ],
      "text/plain": [
       "  total_passed.V1 total_failed.V3 secondary_passed.V1 secondary_failed.V3\n",
       "1 1318577         0               51861               0                  \n",
       "2 2387998         0               55236               0                  \n",
       "3 2301812         0               69263               0                  \n",
       "4 1540769         0               43629               0                  \n",
       "5  986291         0               30695               0                  \n",
       "6 1361285         0               38209               0                  \n",
       "  mapped_passed.V1 mapped_failed.V3 perc_mapped_passed perc_mapped_failed\n",
       "1 1294735          0                98.19              NA                \n",
       "2 2341500          0                98.05              NA                \n",
       "3 2252356          0                97.85              NA                \n",
       "4 1502856          0                97.54              NA                \n",
       "5  960181          0                97.35              NA                \n",
       "6 1323429          0                97.22              NA                \n",
       "  species mapped_genome color_class\n",
       "1 CM      calJac4       Mammalia   \n",
       "2 NM      hetGla2       Mammalia   \n",
       "3 WB      susScr11      Mammalia   \n",
       "4 RAT     rn7           Mammalia   \n",
       "5 FR      rn7           Mammalia   \n",
       "6 DOG     canFam5       Mammalia   "
      ]
     },
     "metadata": {},
     "output_type": "display_data"
    }
   ],
   "source": [
    "head(cross_mapping_stats_best)"
   ]
  },
  {
   "cell_type": "code",
   "execution_count": 20,
   "id": "66f3d0c8-53d8-4b0e-a080-512558865ab4",
   "metadata": {},
   "outputs": [],
   "source": [
    "cross_mapping_stats_best[, folder:=paste0(species, \"_\", mapped_genome), by = row.names(cross_mapping_stats_best)]"
   ]
  },
  {
   "cell_type": "code",
   "execution_count": 9,
   "id": "a11a2e4d-8e2e-4179-b1e7-630d336673b3",
   "metadata": {},
   "outputs": [
    {
     "name": "stdout",
     "output_type": "stream",
     "text": [
      "Error in fread(file.path(cross_mapping_stats_best$species[[i]], cross_mapping_stats_best$folder[[i]],  : \n",
      "  File 'BSN/BSN_bisBis1/BSN_methylation_profile_stats.tsv' does not exist or is non-readable. getwd()=='/binfl/lv71484/droman/DNAmeth500species/results_analysis/validation/01_crossMapping/01.5_analysis'\n",
      "[1] \"BSN_bisBis1\"\n",
      "Error in fread(file.path(cross_mapping_stats_best$species[[i]], cross_mapping_stats_best$folder[[i]],  : \n",
      "  File 'OS/OS_aptMan1/OS_methylation_profile_stats.tsv' does not exist or is non-readable. getwd()=='/binfl/lv71484/droman/DNAmeth500species/results_analysis/validation/01_crossMapping/01.5_analysis'\n",
      "[1] \"OS_aptMan1\"\n",
      "Error in fread(file.path(cross_mapping_stats_best$species[[i]], cross_mapping_stats_best$folder[[i]],  : \n",
      "  File 'RH/RH_aptMan1/RH_methylation_profile_stats.tsv' does not exist or is non-readable. getwd()=='/binfl/lv71484/droman/DNAmeth500species/results_analysis/validation/01_crossMapping/01.5_analysis'\n",
      "[1] \"RH_aptMan1\"\n",
      "Error in fread(file.path(cross_mapping_stats_best$species[[i]], cross_mapping_stats_best$folder[[i]],  : \n",
      "  File 'ELB/ELB_aptMan1/ELB_methylation_profile_stats.tsv' does not exist or is non-readable. getwd()=='/binfl/lv71484/droman/DNAmeth500species/results_analysis/validation/01_crossMapping/01.5_analysis'\n",
      "[1] \"ELB_aptMan1\"\n",
      "Error in fread(file.path(cross_mapping_stats_best$species[[i]], cross_mapping_stats_best$folder[[i]],  : \n",
      "  File 'YFS/YFS_gasAcu1/YFS_methylation_profile_stats.tsv' does not exist or is non-readable. getwd()=='/binfl/lv71484/droman/DNAmeth500species/results_analysis/validation/01_crossMapping/01.5_analysis'\n",
      "[1] \"YFS_gasAcu1\"\n"
     ]
    }
   ],
   "source": [
    "summary_stats = data.table()\n",
    "for(i in 1:NROW(cross_mapping_stats_best)){\n",
    "    \n",
    "    df <- try(fread(file.path(cross_mapping_stats_best$species[[i]], cross_mapping_stats_best$folder[[i]], \n",
    "                          paste0(cross_mapping_stats_best$species[[i]], \"_methylation_profile_stats.tsv\"))))\n",
    "    if(is.list(df)){\n",
    "    df$mapped_genome <- cross_mapping_stats_best$mapped_genome[[i]]\n",
    "    df$color_class <- cross_mapping_stats_best$color_class[[i]]\n",
    "        \n",
    "    summary_stats <- rbind(summary_stats, df)\n",
    "        \n",
    "    }else{\n",
    "        print(cross_mapping_stats_best$folder[[i]])\n",
    "    }\n",
    "    \n",
    "}"
   ]
  },
  {
   "cell_type": "code",
   "execution_count": 18,
   "id": "c4c1b750-9fdb-4c0f-806c-84e21d2046be",
   "metadata": {},
   "outputs": [
    {
     "data": {
      "text/html": [
       "<table class=\"dataframe\">\n",
       "<caption>A data.table: 6 × 9</caption>\n",
       "<thead>\n",
       "\t<tr><th scope=col>label</th><th scope=col>y95_Downstream</th><th scope=col>y95_Transcript</th><th scope=col>y95_Upstream</th><th scope=col>ymin_Upstream</th><th scope=col>xmin_Upstream</th><th scope=col>mapped_genome</th><th scope=col>color_class</th><th scope=col>species</th></tr>\n",
       "\t<tr><th scope=col>&lt;chr&gt;</th><th scope=col>&lt;dbl&gt;</th><th scope=col>&lt;dbl&gt;</th><th scope=col>&lt;dbl&gt;</th><th scope=col>&lt;dbl&gt;</th><th scope=col>&lt;dbl&gt;</th><th scope=col>&lt;chr&gt;</th><th scope=col>&lt;chr&gt;</th><th scope=col>&lt;chr&gt;</th></tr>\n",
       "</thead>\n",
       "<tbody>\n",
       "\t<tr><td>CM_1_H</td><td>67.66037</td><td>76.99387</td><td>62.68334</td><td>15.023332</td><td>-4.037975</td><td>calJac4</td><td>Mammalia</td><td>CM</td></tr>\n",
       "\t<tr><td>CM_1_L</td><td>67.00738</td><td>76.82105</td><td>62.97616</td><td>13.551712</td><td>-4.037975</td><td>calJac4</td><td>Mammalia</td><td>CM</td></tr>\n",
       "\t<tr><td>CM_2_H</td><td>74.04171</td><td>79.58644</td><td>72.54984</td><td>28.024164</td><td>-4.037975</td><td>calJac4</td><td>Mammalia</td><td>CM</td></tr>\n",
       "\t<tr><td>CM_2_L</td><td>81.41495</td><td>86.27358</td><td>81.88591</td><td>46.122194</td><td>-4.037975</td><td>calJac4</td><td>Mammalia</td><td>CM</td></tr>\n",
       "\t<tr><td>NM_1_H</td><td>58.85295</td><td>70.48016</td><td>57.17615</td><td> 8.447119</td><td>-4.037975</td><td>hetGla2</td><td>Mammalia</td><td>NM</td></tr>\n",
       "\t<tr><td>NM_1_L</td><td>63.46335</td><td>74.42746</td><td>60.43386</td><td>11.219202</td><td>-4.037975</td><td>hetGla2</td><td>Mammalia</td><td>NM</td></tr>\n",
       "</tbody>\n",
       "</table>\n"
      ],
      "text/latex": [
       "A data.table: 6 × 9\n",
       "\\begin{tabular}{lllllllll}\n",
       " label & y95\\_Downstream & y95\\_Transcript & y95\\_Upstream & ymin\\_Upstream & xmin\\_Upstream & mapped\\_genome & color\\_class & species\\\\\n",
       " <chr> & <dbl> & <dbl> & <dbl> & <dbl> & <dbl> & <chr> & <chr> & <chr>\\\\\n",
       "\\hline\n",
       "\t CM\\_1\\_H & 67.66037 & 76.99387 & 62.68334 & 15.023332 & -4.037975 & calJac4 & Mammalia & CM\\\\\n",
       "\t CM\\_1\\_L & 67.00738 & 76.82105 & 62.97616 & 13.551712 & -4.037975 & calJac4 & Mammalia & CM\\\\\n",
       "\t CM\\_2\\_H & 74.04171 & 79.58644 & 72.54984 & 28.024164 & -4.037975 & calJac4 & Mammalia & CM\\\\\n",
       "\t CM\\_2\\_L & 81.41495 & 86.27358 & 81.88591 & 46.122194 & -4.037975 & calJac4 & Mammalia & CM\\\\\n",
       "\t NM\\_1\\_H & 58.85295 & 70.48016 & 57.17615 &  8.447119 & -4.037975 & hetGla2 & Mammalia & NM\\\\\n",
       "\t NM\\_1\\_L & 63.46335 & 74.42746 & 60.43386 & 11.219202 & -4.037975 & hetGla2 & Mammalia & NM\\\\\n",
       "\\end{tabular}\n"
      ],
      "text/markdown": [
       "\n",
       "A data.table: 6 × 9\n",
       "\n",
       "| label &lt;chr&gt; | y95_Downstream &lt;dbl&gt; | y95_Transcript &lt;dbl&gt; | y95_Upstream &lt;dbl&gt; | ymin_Upstream &lt;dbl&gt; | xmin_Upstream &lt;dbl&gt; | mapped_genome &lt;chr&gt; | color_class &lt;chr&gt; | species &lt;chr&gt; |\n",
       "|---|---|---|---|---|---|---|---|---|\n",
       "| CM_1_H | 67.66037 | 76.99387 | 62.68334 | 15.023332 | -4.037975 | calJac4 | Mammalia | CM |\n",
       "| CM_1_L | 67.00738 | 76.82105 | 62.97616 | 13.551712 | -4.037975 | calJac4 | Mammalia | CM |\n",
       "| CM_2_H | 74.04171 | 79.58644 | 72.54984 | 28.024164 | -4.037975 | calJac4 | Mammalia | CM |\n",
       "| CM_2_L | 81.41495 | 86.27358 | 81.88591 | 46.122194 | -4.037975 | calJac4 | Mammalia | CM |\n",
       "| NM_1_H | 58.85295 | 70.48016 | 57.17615 |  8.447119 | -4.037975 | hetGla2 | Mammalia | NM |\n",
       "| NM_1_L | 63.46335 | 74.42746 | 60.43386 | 11.219202 | -4.037975 | hetGla2 | Mammalia | NM |\n",
       "\n"
      ],
      "text/plain": [
       "  label  y95_Downstream y95_Transcript y95_Upstream ymin_Upstream xmin_Upstream\n",
       "1 CM_1_H 67.66037       76.99387       62.68334     15.023332     -4.037975    \n",
       "2 CM_1_L 67.00738       76.82105       62.97616     13.551712     -4.037975    \n",
       "3 CM_2_H 74.04171       79.58644       72.54984     28.024164     -4.037975    \n",
       "4 CM_2_L 81.41495       86.27358       81.88591     46.122194     -4.037975    \n",
       "5 NM_1_H 58.85295       70.48016       57.17615      8.447119     -4.037975    \n",
       "6 NM_1_L 63.46335       74.42746       60.43386     11.219202     -4.037975    \n",
       "  mapped_genome color_class species\n",
       "1 calJac4       Mammalia    CM     \n",
       "2 calJac4       Mammalia    CM     \n",
       "3 calJac4       Mammalia    CM     \n",
       "4 calJac4       Mammalia    CM     \n",
       "5 hetGla2       Mammalia    NM     \n",
       "6 hetGla2       Mammalia    NM     "
      ]
     },
     "metadata": {},
     "output_type": "display_data"
    }
   ],
   "source": [
    "head(summary_stats)"
   ]
  },
  {
   "cell_type": "code",
   "execution_count": 13,
   "id": "865e0b5b-8db2-46f3-906c-7112aea073b8",
   "metadata": {},
   "outputs": [],
   "source": [
    "summary_stats <- summary_stats[label %in% stats_annot$Sample_Name,]"
   ]
  },
  {
   "cell_type": "code",
   "execution_count": 17,
   "id": "bc5a9caf-8cc3-4bd5-b69f-abe862ff4ae0",
   "metadata": {},
   "outputs": [],
   "source": [
    "summary_stats[, species:=strsplit(label, \"_\")[[1]][1], by = row.names(summary_stats)]"
   ]
  },
  {
   "cell_type": "code",
   "execution_count": 16,
   "id": "e7a1e0cf-2d38-450d-ab5f-5dd0ba59db0d",
   "metadata": {},
   "outputs": [
    {
     "data": {
      "text/html": [
       "<table class=\"dataframe\">\n",
       "<caption>A data.table: 6 × 12</caption>\n",
       "<thead>\n",
       "\t<tr><th scope=col>total_passed.V1</th><th scope=col>total_failed.V3</th><th scope=col>secondary_passed.V1</th><th scope=col>secondary_failed.V3</th><th scope=col>mapped_passed.V1</th><th scope=col>mapped_failed.V3</th><th scope=col>perc_mapped_passed</th><th scope=col>perc_mapped_failed</th><th scope=col>species</th><th scope=col>mapped_genome</th><th scope=col>color_class</th><th scope=col>folder</th></tr>\n",
       "\t<tr><th scope=col>&lt;int&gt;</th><th scope=col>&lt;int&gt;</th><th scope=col>&lt;int&gt;</th><th scope=col>&lt;int&gt;</th><th scope=col>&lt;int&gt;</th><th scope=col>&lt;int&gt;</th><th scope=col>&lt;dbl&gt;</th><th scope=col>&lt;lgl&gt;</th><th scope=col>&lt;chr&gt;</th><th scope=col>&lt;chr&gt;</th><th scope=col>&lt;chr&gt;</th><th scope=col>&lt;chr&gt;</th></tr>\n",
       "</thead>\n",
       "<tbody>\n",
       "\t<tr><td>1318577</td><td>0</td><td>51861</td><td>0</td><td>1294735</td><td>0</td><td>98.19</td><td>NA</td><td>CM </td><td>calJac4 </td><td>Mammalia</td><td>CM_calJac4 </td></tr>\n",
       "\t<tr><td>2387998</td><td>0</td><td>55236</td><td>0</td><td>2341500</td><td>0</td><td>98.05</td><td>NA</td><td>NM </td><td>hetGla2 </td><td>Mammalia</td><td>NM_hetGla2 </td></tr>\n",
       "\t<tr><td>2301812</td><td>0</td><td>69263</td><td>0</td><td>2252356</td><td>0</td><td>97.85</td><td>NA</td><td>WB </td><td>susScr11</td><td>Mammalia</td><td>WB_susScr11</td></tr>\n",
       "\t<tr><td>1540769</td><td>0</td><td>43629</td><td>0</td><td>1502856</td><td>0</td><td>97.54</td><td>NA</td><td>RAT</td><td>rn7     </td><td>Mammalia</td><td>RAT_rn7    </td></tr>\n",
       "\t<tr><td> 986291</td><td>0</td><td>30695</td><td>0</td><td> 960181</td><td>0</td><td>97.35</td><td>NA</td><td>FR </td><td>rn7     </td><td>Mammalia</td><td>FR_rn7     </td></tr>\n",
       "\t<tr><td>1361285</td><td>0</td><td>38209</td><td>0</td><td>1323429</td><td>0</td><td>97.22</td><td>NA</td><td>DOG</td><td>canFam5 </td><td>Mammalia</td><td>DOG_canFam5</td></tr>\n",
       "</tbody>\n",
       "</table>\n"
      ],
      "text/latex": [
       "A data.table: 6 × 12\n",
       "\\begin{tabular}{llllllllllll}\n",
       " total\\_passed.V1 & total\\_failed.V3 & secondary\\_passed.V1 & secondary\\_failed.V3 & mapped\\_passed.V1 & mapped\\_failed.V3 & perc\\_mapped\\_passed & perc\\_mapped\\_failed & species & mapped\\_genome & color\\_class & folder\\\\\n",
       " <int> & <int> & <int> & <int> & <int> & <int> & <dbl> & <lgl> & <chr> & <chr> & <chr> & <chr>\\\\\n",
       "\\hline\n",
       "\t 1318577 & 0 & 51861 & 0 & 1294735 & 0 & 98.19 & NA & CM  & calJac4  & Mammalia & CM\\_calJac4 \\\\\n",
       "\t 2387998 & 0 & 55236 & 0 & 2341500 & 0 & 98.05 & NA & NM  & hetGla2  & Mammalia & NM\\_hetGla2 \\\\\n",
       "\t 2301812 & 0 & 69263 & 0 & 2252356 & 0 & 97.85 & NA & WB  & susScr11 & Mammalia & WB\\_susScr11\\\\\n",
       "\t 1540769 & 0 & 43629 & 0 & 1502856 & 0 & 97.54 & NA & RAT & rn7      & Mammalia & RAT\\_rn7    \\\\\n",
       "\t  986291 & 0 & 30695 & 0 &  960181 & 0 & 97.35 & NA & FR  & rn7      & Mammalia & FR\\_rn7     \\\\\n",
       "\t 1361285 & 0 & 38209 & 0 & 1323429 & 0 & 97.22 & NA & DOG & canFam5  & Mammalia & DOG\\_canFam5\\\\\n",
       "\\end{tabular}\n"
      ],
      "text/markdown": [
       "\n",
       "A data.table: 6 × 12\n",
       "\n",
       "| total_passed.V1 &lt;int&gt; | total_failed.V3 &lt;int&gt; | secondary_passed.V1 &lt;int&gt; | secondary_failed.V3 &lt;int&gt; | mapped_passed.V1 &lt;int&gt; | mapped_failed.V3 &lt;int&gt; | perc_mapped_passed &lt;dbl&gt; | perc_mapped_failed &lt;lgl&gt; | species &lt;chr&gt; | mapped_genome &lt;chr&gt; | color_class &lt;chr&gt; | folder &lt;chr&gt; |\n",
       "|---|---|---|---|---|---|---|---|---|---|---|---|\n",
       "| 1318577 | 0 | 51861 | 0 | 1294735 | 0 | 98.19 | NA | CM  | calJac4  | Mammalia | CM_calJac4  |\n",
       "| 2387998 | 0 | 55236 | 0 | 2341500 | 0 | 98.05 | NA | NM  | hetGla2  | Mammalia | NM_hetGla2  |\n",
       "| 2301812 | 0 | 69263 | 0 | 2252356 | 0 | 97.85 | NA | WB  | susScr11 | Mammalia | WB_susScr11 |\n",
       "| 1540769 | 0 | 43629 | 0 | 1502856 | 0 | 97.54 | NA | RAT | rn7      | Mammalia | RAT_rn7     |\n",
       "|  986291 | 0 | 30695 | 0 |  960181 | 0 | 97.35 | NA | FR  | rn7      | Mammalia | FR_rn7      |\n",
       "| 1361285 | 0 | 38209 | 0 | 1323429 | 0 | 97.22 | NA | DOG | canFam5  | Mammalia | DOG_canFam5 |\n",
       "\n"
      ],
      "text/plain": [
       "  total_passed.V1 total_failed.V3 secondary_passed.V1 secondary_failed.V3\n",
       "1 1318577         0               51861               0                  \n",
       "2 2387998         0               55236               0                  \n",
       "3 2301812         0               69263               0                  \n",
       "4 1540769         0               43629               0                  \n",
       "5  986291         0               30695               0                  \n",
       "6 1361285         0               38209               0                  \n",
       "  mapped_passed.V1 mapped_failed.V3 perc_mapped_passed perc_mapped_failed\n",
       "1 1294735          0                98.19              NA                \n",
       "2 2341500          0                98.05              NA                \n",
       "3 2252356          0                97.85              NA                \n",
       "4 1502856          0                97.54              NA                \n",
       "5  960181          0                97.35              NA                \n",
       "6 1323429          0                97.22              NA                \n",
       "  species mapped_genome color_class folder     \n",
       "1 CM      calJac4       Mammalia    CM_calJac4 \n",
       "2 NM      hetGla2       Mammalia    NM_hetGla2 \n",
       "3 WB      susScr11      Mammalia    WB_susScr11\n",
       "4 RAT     rn7           Mammalia    RAT_rn7    \n",
       "5 FR      rn7           Mammalia    FR_rn7     \n",
       "6 DOG     canFam5       Mammalia    DOG_canFam5"
      ]
     },
     "metadata": {},
     "output_type": "display_data"
    }
   ],
   "source": [
    "head(cross_mapping_stats_best)"
   ]
  },
  {
   "cell_type": "code",
   "execution_count": 20,
   "id": "c2c99140-8e8b-4c32-8330-6b8edc0c02bb",
   "metadata": {},
   "outputs": [
    {
     "name": "stderr",
     "output_type": "stream",
     "text": [
      "Joining, by = c(\"mapped_genome\", \"species\")\n",
      "\n"
     ]
    }
   ],
   "source": [
    "summary_stats <- left_join(summary_stats, cross_mapping_stats_best[, c(\"mapped_genome\", \"species\", \"perc_mapped_passed\")])"
   ]
  },
  {
   "cell_type": "code",
   "execution_count": 21,
   "id": "c65ba112-2898-40d8-b52b-71aebdcca90e",
   "metadata": {},
   "outputs": [],
   "source": [
    "my_wt(summary_stats, \"summary/Methylation_profile_stats_summary.tsv\")"
   ]
  },
  {
   "cell_type": "code",
   "execution_count": 22,
   "id": "6910af2e-1411-4055-a3f6-9ca3580fa6d0",
   "metadata": {},
   "outputs": [
    {
     "data": {
      "text/html": [
       "'/binfl/lv71484/droman/DNAmeth500species/results_analysis/validation/01_crossMapping/01.5_analysis'"
      ],
      "text/latex": [
       "'/binfl/lv71484/droman/DNAmeth500species/results\\_analysis/validation/01\\_crossMapping/01.5\\_analysis'"
      ],
      "text/markdown": [
       "'/binfl/lv71484/droman/DNAmeth500species/results_analysis/validation/01_crossMapping/01.5_analysis'"
      ],
      "text/plain": [
       "[1] \"/binfl/lv71484/droman/DNAmeth500species/results_analysis/validation/01_crossMapping/01.5_analysis\""
      ]
     },
     "metadata": {},
     "output_type": "display_data"
    }
   ],
   "source": [
    "getwd()"
   ]
  },
  {
   "cell_type": "code",
   "execution_count": null,
   "id": "cc1fecaf-ad5f-4fa2-bf2d-7420f09b61d7",
   "metadata": {},
   "outputs": [],
   "source": [
    "\"/binfl/lv71484/droman/DNAmeth500species/results_analysis/validation/01_crossMapping/01.5_analysis/CM/CM_calJac4/\""
   ]
  },
  {
   "cell_type": "code",
   "execution_count": 21,
   "id": "035f3db1-c511-4ddd-85b3-757bff6cfac2",
   "metadata": {},
   "outputs": [],
   "source": [
    "full_stats = data.table()\n",
    "for(i in 1:NROW(cross_mapping_stats_best)){\n",
    "    \n",
    "    df <- try(fread(file.path(cross_mapping_stats_best$species[[i]], cross_mapping_stats_best$folder[[i]], \n",
    "                          paste0(cross_mapping_stats_best$species[[i]], \"_methylation_profile.tsv\"))))\n",
    "    if(is.list(df)){\n",
    "    df$mapped_genome <- cross_mapping_stats_best$mapped_genome[[i]]\n",
    "    df$color_class <- cross_mapping_stats_best$color_class[[i]]\n",
    "        \n",
    "    full_stats <- rbind(full_stats, df)\n",
    "        \n",
    "    }else{\n",
    "        print(cross_mapping_stats_best$folder[[i]])\n",
    "    }\n",
    "    \n",
    "}"
   ]
  },
  {
   "cell_type": "code",
   "execution_count": 22,
   "id": "43a2e0b5-70b4-45ed-a3ac-557be2c96497",
   "metadata": {},
   "outputs": [
    {
     "data": {
      "text/plain": [
       "9994393096 bytes"
      ]
     },
     "metadata": {},
     "output_type": "display_data"
    }
   ],
   "source": [
    "object.size(full_stats)"
   ]
  },
  {
   "cell_type": "code",
   "execution_count": 23,
   "id": "edbbdbdf-88d3-4afa-ba31-f1e1cf2d6e1a",
   "metadata": {},
   "outputs": [
    {
     "data": {
      "text/html": [
       "155205634"
      ],
      "text/latex": [
       "155205634"
      ],
      "text/markdown": [
       "155205634"
      ],
      "text/plain": [
       "[1] 155205634"
      ]
     },
     "metadata": {},
     "output_type": "display_data"
    }
   ],
   "source": [
    "NROW(full_stats)"
   ]
  },
  {
   "cell_type": "code",
   "execution_count": 24,
   "id": "109b065a-d153-432c-b2e1-63118c797a96",
   "metadata": {},
   "outputs": [],
   "source": [
    "my_wt(full_stats, \"/binfl/lv71484/droman/DNAmeth500species/results_analysis/validation/01_crossMapping/01.5_analysis/summary/Methylation_profiles_merged.tsv\")"
   ]
  },
  {
   "cell_type": "code",
   "execution_count": null,
   "id": "0bbe9901-93a2-4ac5-9d58-91d15ff35228",
   "metadata": {},
   "outputs": [],
   "source": []
  }
 ],
 "metadata": {
  "kernelspec": {
   "display_name": "Zoo_R",
   "language": "R",
   "name": "zoo_r"
  },
  "language_info": {
   "codemirror_mode": "r",
   "file_extension": ".r",
   "mimetype": "text/x-r-source",
   "name": "R",
   "pygments_lexer": "r",
   "version": "3.6.1"
  }
 },
 "nbformat": 4,
 "nbformat_minor": 5
}
