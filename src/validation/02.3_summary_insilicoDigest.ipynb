{
 "cells": [
  {
   "cell_type": "code",
   "execution_count": 1,
   "metadata": {},
   "outputs": [],
   "source": [
    "## ---------------------------\n",
    "##\n",
    "## Insilico digestion analysis\n",
    "##\n",
    "## Summary of the simulation of the RRBS prototcol insilicos and evaluation of the percentage of CpGs covered in regulatory elements of interest\n",
    "##\n",
    "## Authors: Daria Romanovskaia\n",
    "##\n",
    "## Date Created: 2021-10-28\n",
    "##\n",
    "##\n",
    "## ---------------------------"
   ]
  },
  {
   "cell_type": "markdown",
   "metadata": {},
   "source": [
    "## Summarizing the results of the insilico digestion experiments"
   ]
  },
  {
   "cell_type": "code",
   "execution_count": 56,
   "metadata": {},
   "outputs": [
    {
     "name": "stderr",
     "output_type": "stream",
     "text": [
      "Joining, by = \"species\"\n",
      "\n"
     ]
    }
   ],
   "source": [
    "source(file.path(Sys.getenv(\"CODEBASE\"),\"DNAmeth500species/src/00.0_init.R\"))"
   ]
  },
  {
   "cell_type": "code",
   "execution_count": 3,
   "metadata": {},
   "outputs": [],
   "source": [
    "library(Biostrings)"
   ]
  },
  {
   "cell_type": "code",
   "execution_count": 4,
   "metadata": {},
   "outputs": [],
   "source": [
    "output_dir <- file.path(analysis_dir, \"validation\", \"02_insilico_digest\")"
   ]
  },
  {
   "cell_type": "code",
   "execution_count": 5,
   "metadata": {},
   "outputs": [
    {
     "data": {
      "text/html": [
       "'/binfl/lv71484/droman/DNAmeth500species//results_analysis/validation/02_insilico_digest'"
      ],
      "text/latex": [
       "'/binfl/lv71484/droman/DNAmeth500species//results\\_analysis/validation/02\\_insilico\\_digest'"
      ],
      "text/markdown": [
       "'/binfl/lv71484/droman/DNAmeth500species//results_analysis/validation/02_insilico_digest'"
      ],
      "text/plain": [
       "[1] \"/binfl/lv71484/droman/DNAmeth500species//results_analysis/validation/02_insilico_digest\""
      ]
     },
     "metadata": {},
     "output_type": "display_data"
    }
   ],
   "source": [
    "output_dir"
   ]
  },
  {
   "cell_type": "code",
   "execution_count": 6,
   "metadata": {},
   "outputs": [],
   "source": [
    "file_list = list.files(output_dir, pattern=\"*/*_overlap_stats_final.tsv\", recursive = T, full.names = T)"
   ]
  },
  {
   "cell_type": "code",
   "execution_count": 7,
   "metadata": {},
   "outputs": [
    {
     "data": {
      "text/html": [
       "78"
      ],
      "text/latex": [
       "78"
      ],
      "text/markdown": [
       "78"
      ],
      "text/plain": [
       "[1] 78"
      ]
     },
     "metadata": {},
     "output_type": "display_data"
    }
   ],
   "source": [
    "length(file_list)"
   ]
  },
  {
   "cell_type": "code",
   "execution_count": 8,
   "metadata": {},
   "outputs": [],
   "source": [
    "read_df <- function(file_path){\n",
    "print(file_path)\n",
    "df <- read.table(file_path, sep = \"\\t\")\n",
    "df <- df[, c(-3)]\n",
    "colnames(df) <- c('CpGs','CpGs_in_RRBS')\n",
    "df[\"type\"] <- row.names(df)\n",
    "df[\"genome_id\"] <- strsplit(file_path, \"/\")[[1]][10]\n",
    "return(df)\n",
    "}"
   ]
  },
  {
   "cell_type": "code",
   "execution_count": 9,
   "metadata": {
    "tags": []
   },
   "outputs": [
    {
     "name": "stdout",
     "output_type": "stream",
     "text": [
      "[1] \"/binfl/lv71484/droman/DNAmeth500species//results_analysis/validation/02_insilico_digest/allMis1/allMis1_overlap_stats_final.tsv\"\n",
      "[1] \"/binfl/lv71484/droman/DNAmeth500species//results_analysis/validation/02_insilico_digest/anoCar2/anoCar2_overlap_stats_final.tsv\"\n",
      "[1] \"/binfl/lv71484/droman/DNAmeth500species//results_analysis/validation/02_insilico_digest/aplCal1/aplCal1_overlap_stats_final.tsv\"\n",
      "[1] \"/binfl/lv71484/droman/DNAmeth500species//results_analysis/validation/02_insilico_digest/aptMan1/aptMan1_overlap_stats_final.tsv\"\n",
      "[1] \"/binfl/lv71484/droman/DNAmeth500species//results_analysis/validation/02_insilico_digest/aquChr2/aquChr2_overlap_stats_final.tsv\"\n",
      "[1] \"/binfl/lv71484/droman/DNAmeth500species//results_analysis/validation/02_insilico_digest/bisBis1/bisBis1_overlap_stats_final.tsv\"\n",
      "[1] \"/binfl/lv71484/droman/DNAmeth500species//results_analysis/validation/02_insilico_digest/bosTau9/bosTau9_overlap_stats_final.tsv\"\n",
      "[1] \"/binfl/lv71484/droman/DNAmeth500species//results_analysis/validation/02_insilico_digest/braFlo1/braFlo1_overlap_stats_final.tsv\"\n"
     ]
    },
    {
     "name": "stderr",
     "output_type": "stream",
     "text": [
      "Warning message in read.table(file_path, sep = \"\\t\"):\n",
      "“incomplete final line found by readTableHeader on '/binfl/lv71484/droman/DNAmeth500species//results_analysis/validation/02_insilico_digest/braFlo1/braFlo1_overlap_stats_final.tsv'”\n"
     ]
    },
    {
     "name": "stdout",
     "output_type": "stream",
     "text": [
      "[1] \"/binfl/lv71484/droman/DNAmeth500species//results_analysis/validation/02_insilico_digest/calJac4/calJac4_overlap_stats_final.tsv\"\n",
      "[1] \"/binfl/lv71484/droman/DNAmeth500species//results_analysis/validation/02_insilico_digest/calMil1/calMil1_overlap_stats_final.tsv\"\n",
      "[1] \"/binfl/lv71484/droman/DNAmeth500species//results_analysis/validation/02_insilico_digest/canFam5/canFam5_overlap_stats_final.tsv\"\n",
      "[1] \"/binfl/lv71484/droman/DNAmeth500species//results_analysis/validation/02_insilico_digest/cavPor3/cavPor3_overlap_stats_final.tsv\"\n",
      "[1] \"/binfl/lv71484/droman/DNAmeth500species//results_analysis/validation/02_insilico_digest/cerSim1/cerSim1_overlap_stats_final.tsv\"\n",
      "[1] \"/binfl/lv71484/droman/DNAmeth500species//results_analysis/validation/02_insilico_digest/chlSab2/chlSab2_overlap_stats_final.tsv\"\n",
      "[1] \"/binfl/lv71484/droman/DNAmeth500species//results_analysis/validation/02_insilico_digest/choHof1/choHof1_overlap_stats_final.tsv\"\n",
      "[1] \"/binfl/lv71484/droman/DNAmeth500species//results_analysis/validation/02_insilico_digest/chrPic1/chrPic1_overlap_stats_final.tsv\"\n",
      "[1] \"/binfl/lv71484/droman/DNAmeth500species//results_analysis/validation/02_insilico_digest/ci3/ci3_overlap_stats_final.tsv\"\n",
      "[1] \"/binfl/lv71484/droman/DNAmeth500species//results_analysis/validation/02_insilico_digest/criGri1/criGri1_overlap_stats_final.tsv\"\n",
      "[1] \"/binfl/lv71484/droman/DNAmeth500species//results_analysis/validation/02_insilico_digest/danRer11/danRer11_overlap_stats_final.tsv\"\n",
      "[1] \"/binfl/lv71484/droman/DNAmeth500species//results_analysis/validation/02_insilico_digest/dasNov3/dasNov3_overlap_stats_final.tsv\"\n",
      "[1] \"/binfl/lv71484/droman/DNAmeth500species//results_analysis/validation/02_insilico_digest/dipOrd1/dipOrd1_overlap_stats_final.tsv\"\n",
      "[1] \"/binfl/lv71484/droman/DNAmeth500species//results_analysis/validation/02_insilico_digest/echTel2/echTel2_overlap_stats_final.tsv\"\n",
      "[1] \"/binfl/lv71484/droman/DNAmeth500species//results_analysis/validation/02_insilico_digest/equCab3/equCab3_overlap_stats_final.tsv\"\n",
      "[1] \"/binfl/lv71484/droman/DNAmeth500species//results_analysis/validation/02_insilico_digest/eriEur2/eriEur2_overlap_stats_final.tsv\"\n",
      "[1] \"/binfl/lv71484/droman/DNAmeth500species//results_analysis/validation/02_insilico_digest/felCat9/felCat9_overlap_stats_final.tsv\"\n",
      "[1] \"/binfl/lv71484/droman/DNAmeth500species//results_analysis/validation/02_insilico_digest/fr3/fr3_overlap_stats_final.tsv\"\n",
      "[1] \"/binfl/lv71484/droman/DNAmeth500species//results_analysis/validation/02_insilico_digest/gadMor1/gadMor1_overlap_stats_final.tsv\"\n",
      "[1] \"/binfl/lv71484/droman/DNAmeth500species//results_analysis/validation/02_insilico_digest/galGal6/galGal6_overlap_stats_final.tsv\"\n",
      "[1] \"/binfl/lv71484/droman/DNAmeth500species//results_analysis/validation/02_insilico_digest/gasAcu1/gasAcu1_overlap_stats_final.tsv\"\n"
     ]
    },
    {
     "name": "stderr",
     "output_type": "stream",
     "text": [
      "Warning message in read.table(file_path, sep = \"\\t\"):\n",
      "“incomplete final line found by readTableHeader on '/binfl/lv71484/droman/DNAmeth500species//results_analysis/validation/02_insilico_digest/gasAcu1/gasAcu1_overlap_stats_final.tsv'”\n"
     ]
    },
    {
     "name": "stdout",
     "output_type": "stream",
     "text": [
      "[1] \"/binfl/lv71484/droman/DNAmeth500species//results_analysis/validation/02_insilico_digest/geoFor1/geoFor1_overlap_stats_final.tsv\"\n",
      "[1] \"/binfl/lv71484/droman/DNAmeth500species//results_analysis/validation/02_insilico_digest/gorGor6/gorGor6_overlap_stats_final.tsv\"\n",
      "[1] \"/binfl/lv71484/droman/DNAmeth500species//results_analysis/validation/02_insilico_digest/hetGla2/hetGla2_overlap_stats_final.tsv\"\n",
      "[1] \"/binfl/lv71484/droman/DNAmeth500species//results_analysis/validation/02_insilico_digest/hg38/hg38_overlap_stats_final.tsv\"\n",
      "[1] \"/binfl/lv71484/droman/DNAmeth500species//results_analysis/validation/02_insilico_digest/latCha1/latCha1_overlap_stats_final.tsv\"\n",
      "[1] \"/binfl/lv71484/droman/DNAmeth500species//results_analysis/validation/02_insilico_digest/loxAfr3/loxAfr3_overlap_stats_final.tsv\"\n"
     ]
    },
    {
     "name": "stderr",
     "output_type": "stream",
     "text": [
      "Warning message in read.table(file_path, sep = \"\\t\"):\n",
      "“incomplete final line found by readTableHeader on '/binfl/lv71484/droman/DNAmeth500species//results_analysis/validation/02_insilico_digest/loxAfr3/loxAfr3_overlap_stats_final.tsv'”\n"
     ]
    },
    {
     "name": "stdout",
     "output_type": "stream",
     "text": [
      "[1] \"/binfl/lv71484/droman/DNAmeth500species//results_analysis/validation/02_insilico_digest/macEug2/macEug2_overlap_stats_final.tsv\"\n",
      "[1] \"/binfl/lv71484/droman/DNAmeth500species//results_analysis/validation/02_insilico_digest/macFas5/macFas5_overlap_stats_final.tsv\"\n",
      "[1] \"/binfl/lv71484/droman/DNAmeth500species//results_analysis/validation/02_insilico_digest/melGal5/melGal5_overlap_stats_final.tsv\"\n",
      "[1] \"/binfl/lv71484/droman/DNAmeth500species//results_analysis/validation/02_insilico_digest/melUnd1/melUnd1_overlap_stats_final.tsv\"\n",
      "[1] \"/binfl/lv71484/droman/DNAmeth500species//results_analysis/validation/02_insilico_digest/micMur2/micMur2_overlap_stats_final.tsv\"\n",
      "[1] \"/binfl/lv71484/droman/DNAmeth500species//results_analysis/validation/02_insilico_digest/mm39/mm39_overlap_stats_final.tsv\"\n",
      "[1] \"/binfl/lv71484/droman/DNAmeth500species//results_analysis/validation/02_insilico_digest/monDom5/monDom5_overlap_stats_final.tsv\"\n",
      "[1] \"/binfl/lv71484/droman/DNAmeth500species//results_analysis/validation/02_insilico_digest/musFur1/musFur1_overlap_stats_final.tsv\"\n",
      "[1] \"/binfl/lv71484/droman/DNAmeth500species//results_analysis/validation/02_insilico_digest/myoLuc2/myoLuc2_overlap_stats_final.tsv\"\n",
      "[1] \"/binfl/lv71484/droman/DNAmeth500species//results_analysis/validation/02_insilico_digest/nanPar1/nanPar1_overlap_stats_final.tsv\"\n",
      "[1] \"/binfl/lv71484/droman/DNAmeth500species//results_analysis/validation/02_insilico_digest/nasLar1/nasLar1_overlap_stats_final.tsv\"\n",
      "[1] \"/binfl/lv71484/droman/DNAmeth500species//results_analysis/validation/02_insilico_digest/neoSch1/neoSch1_overlap_stats_final.tsv\"\n",
      "[1] \"/binfl/lv71484/droman/DNAmeth500species//results_analysis/validation/02_insilico_digest/nomLeu3/nomLeu3_overlap_stats_final.tsv\"\n",
      "[1] \"/binfl/lv71484/droman/DNAmeth500species//results_analysis/validation/02_insilico_digest/oldGenomes/canFam4/canFam4_overlap_stats_final.tsv\"\n",
      "[1] \"/binfl/lv71484/droman/DNAmeth500species//results_analysis/validation/02_insilico_digest/oldGenomes/mm10/mm10_overlap_stats_final.tsv\"\n",
      "[1] \"/binfl/lv71484/droman/DNAmeth500species//results_analysis/validation/02_insilico_digest/oreNil2/oreNil2_overlap_stats_final.tsv\"\n",
      "[1] \"/binfl/lv71484/droman/DNAmeth500species//results_analysis/validation/02_insilico_digest/oryCun2/oryCun2_overlap_stats_final.tsv\"\n",
      "[1] \"/binfl/lv71484/droman/DNAmeth500species//results_analysis/validation/02_insilico_digest/oryLat2/oryLat2_overlap_stats_final.tsv\"\n"
     ]
    },
    {
     "name": "stderr",
     "output_type": "stream",
     "text": [
      "Warning message in read.table(file_path, sep = \"\\t\"):\n",
      "“incomplete final line found by readTableHeader on '/binfl/lv71484/droman/DNAmeth500species//results_analysis/validation/02_insilico_digest/oryLat2/oryLat2_overlap_stats_final.tsv'”\n"
     ]
    },
    {
     "name": "stdout",
     "output_type": "stream",
     "text": [
      "[1] \"/binfl/lv71484/droman/DNAmeth500species//results_analysis/validation/02_insilico_digest/oviAri4/oviAri4_overlap_stats_final.tsv\"\n",
      "[1] \"/binfl/lv71484/droman/DNAmeth500species//results_analysis/validation/02_insilico_digest/panPan2/panPan2_overlap_stats_final.tsv\"\n",
      "[1] \"/binfl/lv71484/droman/DNAmeth500species//results_analysis/validation/02_insilico_digest/panTro6/panTro6_overlap_stats_final.tsv\"\n",
      "[1] \"/binfl/lv71484/droman/DNAmeth500species//results_analysis/validation/02_insilico_digest/papAnu4/papAnu4_overlap_stats_final.tsv\"\n",
      "[1] \"/binfl/lv71484/droman/DNAmeth500species//results_analysis/validation/02_insilico_digest/petMar3/petMar3_overlap_stats_final.tsv\"\n",
      "[1] \"/binfl/lv71484/droman/DNAmeth500species//results_analysis/validation/02_insilico_digest/ponAbe3/ponAbe3_overlap_stats_final.tsv\"\n",
      "[1] \"/binfl/lv71484/droman/DNAmeth500species//results_analysis/validation/02_insilico_digest/proCap1/proCap1_overlap_stats_final.tsv\"\n",
      "[1] \"/binfl/lv71484/droman/DNAmeth500species//results_analysis/validation/02_insilico_digest/pteVam1/pteVam1_overlap_stats_final.tsv\"\n",
      "[1] \"/binfl/lv71484/droman/DNAmeth500species//results_analysis/validation/02_insilico_digest/rheMac10/rheMac10_overlap_stats_final.tsv\"\n",
      "[1] \"/binfl/lv71484/droman/DNAmeth500species//results_analysis/validation/02_insilico_digest/rhiRox1/rhiRox1_overlap_stats_final.tsv\"\n",
      "[1] \"/binfl/lv71484/droman/DNAmeth500species//results_analysis/validation/02_insilico_digest/rn7/rn7_overlap_stats_final.tsv\"\n",
      "[1] \"/binfl/lv71484/droman/DNAmeth500species//results_analysis/validation/02_insilico_digest/saiBol1/saiBol1_overlap_stats_final.tsv\"\n",
      "[1] \"/binfl/lv71484/droman/DNAmeth500species//results_analysis/validation/02_insilico_digest/sarHar1/sarHar1_overlap_stats_final.tsv\"\n",
      "[1] \"/binfl/lv71484/droman/DNAmeth500species//results_analysis/validation/02_insilico_digest/sorAra2/sorAra2_overlap_stats_final.tsv\"\n",
      "[1] \"/binfl/lv71484/droman/DNAmeth500species//results_analysis/validation/02_insilico_digest/speTri2/speTri2_overlap_stats_final.tsv\"\n",
      "[1] \"/binfl/lv71484/droman/DNAmeth500species//results_analysis/validation/02_insilico_digest/strPur2/strPur2_overlap_stats_final.tsv\"\n"
     ]
    },
    {
     "name": "stderr",
     "output_type": "stream",
     "text": [
      "Warning message in read.table(file_path, sep = \"\\t\"):\n",
      "“incomplete final line found by readTableHeader on '/binfl/lv71484/droman/DNAmeth500species//results_analysis/validation/02_insilico_digest/strPur2/strPur2_overlap_stats_final.tsv'”\n"
     ]
    },
    {
     "name": "stdout",
     "output_type": "stream",
     "text": [
      "[1] \"/binfl/lv71484/droman/DNAmeth500species//results_analysis/validation/02_insilico_digest/susScr11/susScr11_overlap_stats_final.tsv\"\n",
      "[1] \"/binfl/lv71484/droman/DNAmeth500species//results_analysis/validation/02_insilico_digest/taeGut2/taeGut2_overlap_stats_final.tsv\"\n",
      "[1] \"/binfl/lv71484/droman/DNAmeth500species//results_analysis/validation/02_insilico_digest/tetNig2/tetNig2_overlap_stats_final.tsv\"\n",
      "[1] \"/binfl/lv71484/droman/DNAmeth500species//results_analysis/validation/02_insilico_digest/thaSir1/thaSir1_overlap_stats_final.tsv\"\n",
      "[1] \"/binfl/lv71484/droman/DNAmeth500species//results_analysis/validation/02_insilico_digest/triMan1/triMan1_overlap_stats_final.tsv\"\n",
      "[1] \"/binfl/lv71484/droman/DNAmeth500species//results_analysis/validation/02_insilico_digest/tupBel1/tupBel1_overlap_stats_final.tsv\"\n",
      "[1] \"/binfl/lv71484/droman/DNAmeth500species//results_analysis/validation/02_insilico_digest/vicPac2/vicPac2_overlap_stats_final.tsv\"\n",
      "[1] \"/binfl/lv71484/droman/DNAmeth500species//results_analysis/validation/02_insilico_digest/xenLae2/xenLae2_overlap_stats_final.tsv\"\n",
      "[1] \"/binfl/lv71484/droman/DNAmeth500species//results_analysis/validation/02_insilico_digest/xenTro9/xenTro9_overlap_stats_final.tsv\"\n"
     ]
    }
   ],
   "source": [
    "df_list <- sapply(file_list, read_df, simplify = FALSE)"
   ]
  },
  {
   "cell_type": "code",
   "execution_count": 10,
   "metadata": {},
   "outputs": [],
   "source": [
    "summary_df <- rbindlist(df_list)"
   ]
  },
  {
   "cell_type": "code",
   "execution_count": 11,
   "metadata": {},
   "outputs": [],
   "source": [
    "setDT(summary_df)"
   ]
  },
  {
   "cell_type": "code",
   "execution_count": 12,
   "metadata": {},
   "outputs": [],
   "source": [
    "summary_df[, ratio:=summary_df$CpGs_in_RRBS/summary_df$CpGs,]"
   ]
  },
  {
   "cell_type": "code",
   "execution_count": 13,
   "metadata": {},
   "outputs": [
    {
     "data": {
      "text/html": [
       "<table class=\"dataframe\">\n",
       "<caption>A data.table: 6 × 5</caption>\n",
       "<thead>\n",
       "\t<tr><th scope=col>V1</th><th scope=col>V2</th><th scope=col>V3</th><th scope=col>V4</th><th scope=col>V5</th></tr>\n",
       "\t<tr><th scope=col>&lt;chr&gt;</th><th scope=col>&lt;chr&gt;</th><th scope=col>&lt;chr&gt;</th><th scope=col>&lt;chr&gt;</th><th scope=col>&lt;chr&gt;</th></tr>\n",
       "</thead>\n",
       "<tbody>\n",
       "\t<tr><td>vicPac2</td><td>Alpaca      </td><td>NA          </td><td>NA                     </td><td>Mammalia    </td></tr>\n",
       "\t<tr><td>dasNov3</td><td>Armadillo   </td><td>NA          </td><td>NA                     </td><td>Malacostraca</td></tr>\n",
       "\t<tr><td>gasAcu1</td><td>Stickleback </td><td>NA          </td><td>NA                     </td><td>Actinopteri </td></tr>\n",
       "\t<tr><td>anoCar2</td><td>Lizard      </td><td>Lizard      </td><td>Anolis carolinensis    </td><td>Reptilia    </td></tr>\n",
       "\t<tr><td>melUnd1</td><td>Budgerigar  </td><td>Budgeriger  </td><td>Melopsittacus undulatus</td><td>Aves        </td></tr>\n",
       "\t<tr><td>aquChr2</td><td>Golden eagle</td><td>Golden eagle</td><td>Aquila chrysaetos      </td><td>Aves        </td></tr>\n",
       "</tbody>\n",
       "</table>\n"
      ],
      "text/latex": [
       "A data.table: 6 × 5\n",
       "\\begin{tabular}{lllll}\n",
       " V1 & V2 & V3 & V4 & V5\\\\\n",
       " <chr> & <chr> & <chr> & <chr> & <chr>\\\\\n",
       "\\hline\n",
       "\t vicPac2 & Alpaca       & NA           & NA                      & Mammalia    \\\\\n",
       "\t dasNov3 & Armadillo    & NA           & NA                      & Malacostraca\\\\\n",
       "\t gasAcu1 & Stickleback  & NA           & NA                      & Actinopteri \\\\\n",
       "\t anoCar2 & Lizard       & Lizard       & Anolis carolinensis     & Reptilia    \\\\\n",
       "\t melUnd1 & Budgerigar   & Budgeriger   & Melopsittacus undulatus & Aves        \\\\\n",
       "\t aquChr2 & Golden eagle & Golden eagle & Aquila chrysaetos       & Aves        \\\\\n",
       "\\end{tabular}\n"
      ],
      "text/markdown": [
       "\n",
       "A data.table: 6 × 5\n",
       "\n",
       "| V1 &lt;chr&gt; | V2 &lt;chr&gt; | V3 &lt;chr&gt; | V4 &lt;chr&gt; | V5 &lt;chr&gt; |\n",
       "|---|---|---|---|---|\n",
       "| vicPac2 | Alpaca       | NA           | NA                      | Mammalia     |\n",
       "| dasNov3 | Armadillo    | NA           | NA                      | Malacostraca |\n",
       "| gasAcu1 | Stickleback  | NA           | NA                      | Actinopteri  |\n",
       "| anoCar2 | Lizard       | Lizard       | Anolis carolinensis     | Reptilia     |\n",
       "| melUnd1 | Budgerigar   | Budgeriger   | Melopsittacus undulatus | Aves         |\n",
       "| aquChr2 | Golden eagle | Golden eagle | Aquila chrysaetos       | Aves         |\n",
       "\n"
      ],
      "text/plain": [
       "  V1      V2           V3           V4                      V5          \n",
       "1 vicPac2 Alpaca       NA           NA                      Mammalia    \n",
       "2 dasNov3 Armadillo    NA           NA                      Malacostraca\n",
       "3 gasAcu1 Stickleback  NA           NA                      Actinopteri \n",
       "4 anoCar2 Lizard       Lizard       Anolis carolinensis     Reptilia    \n",
       "5 melUnd1 Budgerigar   Budgeriger   Melopsittacus undulatus Aves        \n",
       "6 aquChr2 Golden eagle Golden eagle Aquila chrysaetos       Aves        "
      ]
     },
     "metadata": {},
     "output_type": "display_data"
    }
   ],
   "source": [
    "annot_df <- fread(file.path(output_dir, \"genomes_to_run.tsv\"))\n",
    "head(annot_df)"
   ]
  },
  {
   "cell_type": "code",
   "execution_count": 14,
   "metadata": {},
   "outputs": [],
   "source": [
    "colnames(annot_df) <- c(\"ucsc_db\", \"ucsc_species\", \"species\", \"scientific_name\", \"class\")"
   ]
  },
  {
   "cell_type": "code",
   "execution_count": 15,
   "metadata": {},
   "outputs": [
    {
     "data": {
      "text/html": [
       "<style>\n",
       ".list-inline {list-style: none; margin:0; padding: 0}\n",
       ".list-inline>li {display: inline-block}\n",
       ".list-inline>li:not(:last-child)::after {content: \"\\00b7\"; padding: 0 .5ex}\n",
       "</style>\n",
       "<ol class=list-inline><li>'Mammalia'</li><li>'Malacostraca'</li><li>'Actinopteri'</li><li>'Reptilia'</li><li>'Aves'</li><li>'Chondrichthyes'</li><li>'Amphibia'</li><li>'Echinoidea'</li><li>'Ascidiacea'</li><li>'Hyperoartia'</li><li>'Invertebrata'</li><li>'Marsupiala'</li></ol>\n"
      ],
      "text/latex": [
       "\\begin{enumerate*}\n",
       "\\item 'Mammalia'\n",
       "\\item 'Malacostraca'\n",
       "\\item 'Actinopteri'\n",
       "\\item 'Reptilia'\n",
       "\\item 'Aves'\n",
       "\\item 'Chondrichthyes'\n",
       "\\item 'Amphibia'\n",
       "\\item 'Echinoidea'\n",
       "\\item 'Ascidiacea'\n",
       "\\item 'Hyperoartia'\n",
       "\\item 'Invertebrata'\n",
       "\\item 'Marsupiala'\n",
       "\\end{enumerate*}\n"
      ],
      "text/markdown": [
       "1. 'Mammalia'\n",
       "2. 'Malacostraca'\n",
       "3. 'Actinopteri'\n",
       "4. 'Reptilia'\n",
       "5. 'Aves'\n",
       "6. 'Chondrichthyes'\n",
       "7. 'Amphibia'\n",
       "8. 'Echinoidea'\n",
       "9. 'Ascidiacea'\n",
       "10. 'Hyperoartia'\n",
       "11. 'Invertebrata'\n",
       "12. 'Marsupiala'\n",
       "\n",
       "\n"
      ],
      "text/plain": [
       " [1] \"Mammalia\"       \"Malacostraca\"   \"Actinopteri\"    \"Reptilia\"      \n",
       " [5] \"Aves\"           \"Chondrichthyes\" \"Amphibia\"       \"Echinoidea\"    \n",
       " [9] \"Ascidiacea\"     \"Hyperoartia\"    \"Invertebrata\"   \"Marsupiala\"    "
      ]
     },
     "metadata": {},
     "output_type": "display_data"
    }
   ],
   "source": [
    "unique(annot_df$class)"
   ]
  },
  {
   "cell_type": "code",
   "execution_count": 16,
   "metadata": {},
   "outputs": [],
   "source": [
    "annot_df[class== \"Ascidiacea\",class := \"Invertebrata\",]\n",
    "\n",
    "annot_df[class== \"Malacostraca\",class := \"Invertebrata\",]\n",
    "\n",
    "annot_df[class== \"Echinoidea\",class := \"Invertebrata\",]"
   ]
  },
  {
   "cell_type": "code",
   "execution_count": 18,
   "metadata": {},
   "outputs": [],
   "source": [
    "annot_df[class== \"Hyperoartia\",class := \"Jawless_vertebrate\",]"
   ]
  },
  {
   "cell_type": "code",
   "execution_count": 19,
   "metadata": {},
   "outputs": [
    {
     "data": {
      "text/html": [
       "<table class=\"dataframe\">\n",
       "<caption>A data.table: 6 × 5</caption>\n",
       "<thead>\n",
       "\t<tr><th scope=col>CpGs</th><th scope=col>CpGs_in_RRBS</th><th scope=col>type</th><th scope=col>genome_id</th><th scope=col>ratio</th></tr>\n",
       "\t<tr><th scope=col>&lt;int&gt;</th><th scope=col>&lt;int&gt;</th><th scope=col>&lt;chr&gt;</th><th scope=col>&lt;chr&gt;</th><th scope=col>&lt;dbl&gt;</th></tr>\n",
       "</thead>\n",
       "<tbody>\n",
       "\t<tr><td>19534881</td><td>4132521</td><td>total            </td><td>allMis1</td><td>0.2115457</td></tr>\n",
       "\t<tr><td> 1554907</td><td> 879288</td><td>cpgIslandExt     </td><td>allMis1</td><td>0.5654923</td></tr>\n",
       "\t<tr><td> 7699670</td><td>1713073</td><td>transcripts      </td><td>allMis1</td><td>0.2224865</td></tr>\n",
       "\t<tr><td>  864228</td><td> 403834</td><td>promoters1000_500</td><td>allMis1</td><td>0.4672772</td></tr>\n",
       "\t<tr><td> 8295261</td><td>1788649</td><td>rmsk             </td><td>allMis1</td><td>0.2156230</td></tr>\n",
       "\t<tr><td>18330396</td><td>4602720</td><td>total            </td><td>anoCar2</td><td>0.2510977</td></tr>\n",
       "</tbody>\n",
       "</table>\n"
      ],
      "text/latex": [
       "A data.table: 6 × 5\n",
       "\\begin{tabular}{lllll}\n",
       " CpGs & CpGs\\_in\\_RRBS & type & genome\\_id & ratio\\\\\n",
       " <int> & <int> & <chr> & <chr> & <dbl>\\\\\n",
       "\\hline\n",
       "\t 19534881 & 4132521 & total             & allMis1 & 0.2115457\\\\\n",
       "\t  1554907 &  879288 & cpgIslandExt      & allMis1 & 0.5654923\\\\\n",
       "\t  7699670 & 1713073 & transcripts       & allMis1 & 0.2224865\\\\\n",
       "\t   864228 &  403834 & promoters1000\\_500 & allMis1 & 0.4672772\\\\\n",
       "\t  8295261 & 1788649 & rmsk              & allMis1 & 0.2156230\\\\\n",
       "\t 18330396 & 4602720 & total             & anoCar2 & 0.2510977\\\\\n",
       "\\end{tabular}\n"
      ],
      "text/markdown": [
       "\n",
       "A data.table: 6 × 5\n",
       "\n",
       "| CpGs &lt;int&gt; | CpGs_in_RRBS &lt;int&gt; | type &lt;chr&gt; | genome_id &lt;chr&gt; | ratio &lt;dbl&gt; |\n",
       "|---|---|---|---|---|\n",
       "| 19534881 | 4132521 | total             | allMis1 | 0.2115457 |\n",
       "|  1554907 |  879288 | cpgIslandExt      | allMis1 | 0.5654923 |\n",
       "|  7699670 | 1713073 | transcripts       | allMis1 | 0.2224865 |\n",
       "|   864228 |  403834 | promoters1000_500 | allMis1 | 0.4672772 |\n",
       "|  8295261 | 1788649 | rmsk              | allMis1 | 0.2156230 |\n",
       "| 18330396 | 4602720 | total             | anoCar2 | 0.2510977 |\n",
       "\n"
      ],
      "text/plain": [
       "  CpGs     CpGs_in_RRBS type              genome_id ratio    \n",
       "1 19534881 4132521      total             allMis1   0.2115457\n",
       "2  1554907  879288      cpgIslandExt      allMis1   0.5654923\n",
       "3  7699670 1713073      transcripts       allMis1   0.2224865\n",
       "4   864228  403834      promoters1000_500 allMis1   0.4672772\n",
       "5  8295261 1788649      rmsk              allMis1   0.2156230\n",
       "6 18330396 4602720      total             anoCar2   0.2510977"
      ]
     },
     "metadata": {},
     "output_type": "display_data"
    }
   ],
   "source": [
    "head(summary_df)"
   ]
  },
  {
   "cell_type": "code",
   "execution_count": 20,
   "metadata": {},
   "outputs": [],
   "source": [
    "summary_df <- inner_join(summary_df, annot_df[, c(\"ucsc_db\", \"ucsc_species\", \"class\")], by = c(\"genome_id\" = \"ucsc_db\"))"
   ]
  },
  {
   "cell_type": "code",
   "execution_count": 21,
   "metadata": {},
   "outputs": [],
   "source": [
    "summary_df <- filter(summary_df, genome_id!=\"bosTau9_noconcat\")"
   ]
  },
  {
   "cell_type": "code",
   "execution_count": 22,
   "metadata": {},
   "outputs": [
    {
     "data": {
      "text/html": [
       "<table class=\"dataframe\">\n",
       "<caption>A tibble: 9 × 2</caption>\n",
       "<thead>\n",
       "\t<tr><th scope=col>class</th><th scope=col>n</th></tr>\n",
       "\t<tr><th scope=col>&lt;chr&gt;</th><th scope=col>&lt;int&gt;</th></tr>\n",
       "</thead>\n",
       "<tbody>\n",
       "\t<tr><td>Actinopteri       </td><td> 8</td></tr>\n",
       "\t<tr><td>Amphibia          </td><td> 3</td></tr>\n",
       "\t<tr><td>Aves              </td><td> 7</td></tr>\n",
       "\t<tr><td>Chondrichthyes    </td><td> 1</td></tr>\n",
       "\t<tr><td>Invertebrata      </td><td> 5</td></tr>\n",
       "\t<tr><td>Jawless_vertebrate</td><td> 1</td></tr>\n",
       "\t<tr><td>Mammalia          </td><td>44</td></tr>\n",
       "\t<tr><td>Marsupiala        </td><td> 3</td></tr>\n",
       "\t<tr><td>Reptilia          </td><td> 4</td></tr>\n",
       "</tbody>\n",
       "</table>\n"
      ],
      "text/latex": [
       "A tibble: 9 × 2\n",
       "\\begin{tabular}{ll}\n",
       " class & n\\\\\n",
       " <chr> & <int>\\\\\n",
       "\\hline\n",
       "\t Actinopteri        &  8\\\\\n",
       "\t Amphibia           &  3\\\\\n",
       "\t Aves               &  7\\\\\n",
       "\t Chondrichthyes     &  1\\\\\n",
       "\t Invertebrata       &  5\\\\\n",
       "\t Jawless\\_vertebrate &  1\\\\\n",
       "\t Mammalia           & 44\\\\\n",
       "\t Marsupiala         &  3\\\\\n",
       "\t Reptilia           &  4\\\\\n",
       "\\end{tabular}\n"
      ],
      "text/markdown": [
       "\n",
       "A tibble: 9 × 2\n",
       "\n",
       "| class &lt;chr&gt; | n &lt;int&gt; |\n",
       "|---|---|\n",
       "| Actinopteri        |  8 |\n",
       "| Amphibia           |  3 |\n",
       "| Aves               |  7 |\n",
       "| Chondrichthyes     |  1 |\n",
       "| Invertebrata       |  5 |\n",
       "| Jawless_vertebrate |  1 |\n",
       "| Mammalia           | 44 |\n",
       "| Marsupiala         |  3 |\n",
       "| Reptilia           |  4 |\n",
       "\n"
      ],
      "text/plain": [
       "  class              n \n",
       "1 Actinopteri         8\n",
       "2 Amphibia            3\n",
       "3 Aves                7\n",
       "4 Chondrichthyes      1\n",
       "5 Invertebrata        5\n",
       "6 Jawless_vertebrate  1\n",
       "7 Mammalia           44\n",
       "8 Marsupiala          3\n",
       "9 Reptilia            4"
      ]
     },
     "metadata": {},
     "output_type": "display_data"
    }
   ],
   "source": [
    "summary_df %>% select(ucsc_species, class) %>% unique %>% group_by(class) %>% summarize(n = n())"
   ]
  },
  {
   "cell_type": "code",
   "execution_count": 23,
   "metadata": {},
   "outputs": [],
   "source": [
    "summary_df[summary_df$class == \"Marsupiala\", class:= \"Marsupialia\",]"
   ]
  },
  {
   "cell_type": "code",
   "execution_count": 24,
   "metadata": {},
   "outputs": [],
   "source": [
    "summary_df[summary_df$type == \"rmsk\", type:= \"repeats\",]\n",
    "summary_df[summary_df$type == \"simpleRepeat\", type:= \"repeats\",]\n",
    "summary_df[summary_df$type == \"cpgIslandExt\", type:= \"CpG Islands\",]\n",
    "summary_df[summary_df$type == \"promoters1000_500\", type:= \"promoters\",]"
   ]
  },
  {
   "cell_type": "code",
   "execution_count": 25,
   "metadata": {},
   "outputs": [
    {
     "data": {
      "text/html": [
       "<style>\n",
       ".list-inline {list-style: none; margin:0; padding: 0}\n",
       ".list-inline>li {display: inline-block}\n",
       ".list-inline>li:not(:last-child)::after {content: \"\\00b7\"; padding: 0 .5ex}\n",
       "</style>\n",
       "<ol class=list-inline><li>'Invertebrata'</li><li>'Jawless_vertebrate'</li><li>'Chondrichthyes'</li><li>'Actinopteri'</li><li>'Amphibia'</li><li>'Reptilia'</li><li>'Aves'</li><li>'Marsupialia'</li><li>'Mammalia'</li></ol>\n"
      ],
      "text/latex": [
       "\\begin{enumerate*}\n",
       "\\item 'Invertebrata'\n",
       "\\item 'Jawless\\_vertebrate'\n",
       "\\item 'Chondrichthyes'\n",
       "\\item 'Actinopteri'\n",
       "\\item 'Amphibia'\n",
       "\\item 'Reptilia'\n",
       "\\item 'Aves'\n",
       "\\item 'Marsupialia'\n",
       "\\item 'Mammalia'\n",
       "\\end{enumerate*}\n"
      ],
      "text/markdown": [
       "1. 'Invertebrata'\n",
       "2. 'Jawless_vertebrate'\n",
       "3. 'Chondrichthyes'\n",
       "4. 'Actinopteri'\n",
       "5. 'Amphibia'\n",
       "6. 'Reptilia'\n",
       "7. 'Aves'\n",
       "8. 'Marsupialia'\n",
       "9. 'Mammalia'\n",
       "\n",
       "\n"
      ],
      "text/plain": [
       "[1] \"Invertebrata\"       \"Jawless_vertebrate\" \"Chondrichthyes\"    \n",
       "[4] \"Actinopteri\"        \"Amphibia\"           \"Reptilia\"          \n",
       "[7] \"Aves\"               \"Marsupialia\"        \"Mammalia\"          "
      ]
     },
     "metadata": {},
     "output_type": "display_data"
    }
   ],
   "source": [
    "names(class_colors)"
   ]
  },
  {
   "cell_type": "code",
   "execution_count": 26,
   "metadata": {},
   "outputs": [],
   "source": [
    "summary_df$class <- factor(summary_df$class, levels = names(class_colors))"
   ]
  },
  {
   "cell_type": "code",
   "execution_count": 27,
   "metadata": {},
   "outputs": [
    {
     "data": {
      "text/html": [
       "<table class=\"dataframe\">\n",
       "<caption>A data.table: 15 × 7</caption>\n",
       "<thead>\n",
       "\t<tr><th scope=col>CpGs</th><th scope=col>CpGs_in_RRBS</th><th scope=col>type</th><th scope=col>genome_id</th><th scope=col>ratio</th><th scope=col>ucsc_species</th><th scope=col>class</th></tr>\n",
       "\t<tr><th scope=col>&lt;int&gt;</th><th scope=col>&lt;int&gt;</th><th scope=col>&lt;chr&gt;</th><th scope=col>&lt;chr&gt;</th><th scope=col>&lt;dbl&gt;</th><th scope=col>&lt;chr&gt;</th><th scope=col>&lt;fct&gt;</th></tr>\n",
       "</thead>\n",
       "<tbody>\n",
       "\t<tr><td>34597960</td><td>9076685</td><td>total      </td><td>nanPar1</td><td>0.2623474</td><td>Tibetan frog       </td><td>Amphibia</td></tr>\n",
       "\t<tr><td>  801673</td><td> 414799</td><td>CpG Islands</td><td>nanPar1</td><td>0.5174167</td><td>Tibetan frog       </td><td>Amphibia</td></tr>\n",
       "\t<tr><td>14904189</td><td>3964430</td><td>transcripts</td><td>nanPar1</td><td>0.2659943</td><td>Tibetan frog       </td><td>Amphibia</td></tr>\n",
       "\t<tr><td>  624956</td><td> 205337</td><td>promoters  </td><td>nanPar1</td><td>0.3285623</td><td>Tibetan frog       </td><td>Amphibia</td></tr>\n",
       "\t<tr><td>  287183</td><td>  64946</td><td>repeats    </td><td>nanPar1</td><td>0.2261485</td><td>Tibetan frog       </td><td>Amphibia</td></tr>\n",
       "\t<tr><td>33724417</td><td>6764350</td><td>total      </td><td>xenLae2</td><td>0.2005772</td><td>African clawed frog</td><td>Amphibia</td></tr>\n",
       "\t<tr><td>  292977</td><td> 133114</td><td>CpG Islands</td><td>xenLae2</td><td>0.4543497</td><td>African clawed frog</td><td>Amphibia</td></tr>\n",
       "\t<tr><td>14008611</td><td>2855074</td><td>transcripts</td><td>xenLae2</td><td>0.2038085</td><td>African clawed frog</td><td>Amphibia</td></tr>\n",
       "\t<tr><td> 1030627</td><td> 282796</td><td>promoters  </td><td>xenLae2</td><td>0.2743922</td><td>African clawed frog</td><td>Amphibia</td></tr>\n",
       "\t<tr><td> 4934835</td><td> 935411</td><td>repeats    </td><td>xenLae2</td><td>0.1895526</td><td>African clawed frog</td><td>Amphibia</td></tr>\n",
       "\t<tr><td>16745415</td><td>2793542</td><td>total      </td><td>xenTro9</td><td>0.1668243</td><td>X. tropicalis      </td><td>Amphibia</td></tr>\n",
       "\t<tr><td>  264038</td><td> 102884</td><td>CpG Islands</td><td>xenTro9</td><td>0.3896560</td><td>X. tropicalis      </td><td>Amphibia</td></tr>\n",
       "\t<tr><td> 7511317</td><td>1314932</td><td>transcripts</td><td>xenTro9</td><td>0.1750601</td><td>X. tropicalis      </td><td>Amphibia</td></tr>\n",
       "\t<tr><td>  601185</td><td> 150606</td><td>promoters  </td><td>xenTro9</td><td>0.2505152</td><td>X. tropicalis      </td><td>Amphibia</td></tr>\n",
       "\t<tr><td> 7992314</td><td>1484215</td><td>repeats    </td><td>xenTro9</td><td>0.1857053</td><td>X. tropicalis      </td><td>Amphibia</td></tr>\n",
       "</tbody>\n",
       "</table>\n"
      ],
      "text/latex": [
       "A data.table: 15 × 7\n",
       "\\begin{tabular}{lllllll}\n",
       " CpGs & CpGs\\_in\\_RRBS & type & genome\\_id & ratio & ucsc\\_species & class\\\\\n",
       " <int> & <int> & <chr> & <chr> & <dbl> & <chr> & <fct>\\\\\n",
       "\\hline\n",
       "\t 34597960 & 9076685 & total       & nanPar1 & 0.2623474 & Tibetan frog        & Amphibia\\\\\n",
       "\t   801673 &  414799 & CpG Islands & nanPar1 & 0.5174167 & Tibetan frog        & Amphibia\\\\\n",
       "\t 14904189 & 3964430 & transcripts & nanPar1 & 0.2659943 & Tibetan frog        & Amphibia\\\\\n",
       "\t   624956 &  205337 & promoters   & nanPar1 & 0.3285623 & Tibetan frog        & Amphibia\\\\\n",
       "\t   287183 &   64946 & repeats     & nanPar1 & 0.2261485 & Tibetan frog        & Amphibia\\\\\n",
       "\t 33724417 & 6764350 & total       & xenLae2 & 0.2005772 & African clawed frog & Amphibia\\\\\n",
       "\t   292977 &  133114 & CpG Islands & xenLae2 & 0.4543497 & African clawed frog & Amphibia\\\\\n",
       "\t 14008611 & 2855074 & transcripts & xenLae2 & 0.2038085 & African clawed frog & Amphibia\\\\\n",
       "\t  1030627 &  282796 & promoters   & xenLae2 & 0.2743922 & African clawed frog & Amphibia\\\\\n",
       "\t  4934835 &  935411 & repeats     & xenLae2 & 0.1895526 & African clawed frog & Amphibia\\\\\n",
       "\t 16745415 & 2793542 & total       & xenTro9 & 0.1668243 & X. tropicalis       & Amphibia\\\\\n",
       "\t   264038 &  102884 & CpG Islands & xenTro9 & 0.3896560 & X. tropicalis       & Amphibia\\\\\n",
       "\t  7511317 & 1314932 & transcripts & xenTro9 & 0.1750601 & X. tropicalis       & Amphibia\\\\\n",
       "\t   601185 &  150606 & promoters   & xenTro9 & 0.2505152 & X. tropicalis       & Amphibia\\\\\n",
       "\t  7992314 & 1484215 & repeats     & xenTro9 & 0.1857053 & X. tropicalis       & Amphibia\\\\\n",
       "\\end{tabular}\n"
      ],
      "text/markdown": [
       "\n",
       "A data.table: 15 × 7\n",
       "\n",
       "| CpGs &lt;int&gt; | CpGs_in_RRBS &lt;int&gt; | type &lt;chr&gt; | genome_id &lt;chr&gt; | ratio &lt;dbl&gt; | ucsc_species &lt;chr&gt; | class &lt;fct&gt; |\n",
       "|---|---|---|---|---|---|---|\n",
       "| 34597960 | 9076685 | total       | nanPar1 | 0.2623474 | Tibetan frog        | Amphibia |\n",
       "|   801673 |  414799 | CpG Islands | nanPar1 | 0.5174167 | Tibetan frog        | Amphibia |\n",
       "| 14904189 | 3964430 | transcripts | nanPar1 | 0.2659943 | Tibetan frog        | Amphibia |\n",
       "|   624956 |  205337 | promoters   | nanPar1 | 0.3285623 | Tibetan frog        | Amphibia |\n",
       "|   287183 |   64946 | repeats     | nanPar1 | 0.2261485 | Tibetan frog        | Amphibia |\n",
       "| 33724417 | 6764350 | total       | xenLae2 | 0.2005772 | African clawed frog | Amphibia |\n",
       "|   292977 |  133114 | CpG Islands | xenLae2 | 0.4543497 | African clawed frog | Amphibia |\n",
       "| 14008611 | 2855074 | transcripts | xenLae2 | 0.2038085 | African clawed frog | Amphibia |\n",
       "|  1030627 |  282796 | promoters   | xenLae2 | 0.2743922 | African clawed frog | Amphibia |\n",
       "|  4934835 |  935411 | repeats     | xenLae2 | 0.1895526 | African clawed frog | Amphibia |\n",
       "| 16745415 | 2793542 | total       | xenTro9 | 0.1668243 | X. tropicalis       | Amphibia |\n",
       "|   264038 |  102884 | CpG Islands | xenTro9 | 0.3896560 | X. tropicalis       | Amphibia |\n",
       "|  7511317 | 1314932 | transcripts | xenTro9 | 0.1750601 | X. tropicalis       | Amphibia |\n",
       "|   601185 |  150606 | promoters   | xenTro9 | 0.2505152 | X. tropicalis       | Amphibia |\n",
       "|  7992314 | 1484215 | repeats     | xenTro9 | 0.1857053 | X. tropicalis       | Amphibia |\n",
       "\n"
      ],
      "text/plain": [
       "   CpGs     CpGs_in_RRBS type        genome_id ratio     ucsc_species       \n",
       "1  34597960 9076685      total       nanPar1   0.2623474 Tibetan frog       \n",
       "2    801673  414799      CpG Islands nanPar1   0.5174167 Tibetan frog       \n",
       "3  14904189 3964430      transcripts nanPar1   0.2659943 Tibetan frog       \n",
       "4    624956  205337      promoters   nanPar1   0.3285623 Tibetan frog       \n",
       "5    287183   64946      repeats     nanPar1   0.2261485 Tibetan frog       \n",
       "6  33724417 6764350      total       xenLae2   0.2005772 African clawed frog\n",
       "7    292977  133114      CpG Islands xenLae2   0.4543497 African clawed frog\n",
       "8  14008611 2855074      transcripts xenLae2   0.2038085 African clawed frog\n",
       "9   1030627  282796      promoters   xenLae2   0.2743922 African clawed frog\n",
       "10  4934835  935411      repeats     xenLae2   0.1895526 African clawed frog\n",
       "11 16745415 2793542      total       xenTro9   0.1668243 X. tropicalis      \n",
       "12   264038  102884      CpG Islands xenTro9   0.3896560 X. tropicalis      \n",
       "13  7511317 1314932      transcripts xenTro9   0.1750601 X. tropicalis      \n",
       "14   601185  150606      promoters   xenTro9   0.2505152 X. tropicalis      \n",
       "15  7992314 1484215      repeats     xenTro9   0.1857053 X. tropicalis      \n",
       "   class   \n",
       "1  Amphibia\n",
       "2  Amphibia\n",
       "3  Amphibia\n",
       "4  Amphibia\n",
       "5  Amphibia\n",
       "6  Amphibia\n",
       "7  Amphibia\n",
       "8  Amphibia\n",
       "9  Amphibia\n",
       "10 Amphibia\n",
       "11 Amphibia\n",
       "12 Amphibia\n",
       "13 Amphibia\n",
       "14 Amphibia\n",
       "15 Amphibia"
      ]
     },
     "metadata": {},
     "output_type": "display_data"
    }
   ],
   "source": [
    "summary_df[summary_df$class == \"Amphibia\",]"
   ]
  },
  {
   "cell_type": "code",
   "execution_count": 28,
   "metadata": {},
   "outputs": [
    {
     "data": {
      "text/html": [
       "<style>\n",
       ".list-inline {list-style: none; margin:0; padding: 0}\n",
       ".list-inline>li {display: inline-block}\n",
       ".list-inline>li:not(:last-child)::after {content: \"\\00b7\"; padding: 0 .5ex}\n",
       "</style>\n",
       "<ol class=list-inline><li>'total'</li><li>'CpG Islands'</li><li>'transcripts'</li><li>'promoters'</li><li>'repeats'</li></ol>\n"
      ],
      "text/latex": [
       "\\begin{enumerate*}\n",
       "\\item 'total'\n",
       "\\item 'CpG Islands'\n",
       "\\item 'transcripts'\n",
       "\\item 'promoters'\n",
       "\\item 'repeats'\n",
       "\\end{enumerate*}\n"
      ],
      "text/markdown": [
       "1. 'total'\n",
       "2. 'CpG Islands'\n",
       "3. 'transcripts'\n",
       "4. 'promoters'\n",
       "5. 'repeats'\n",
       "\n",
       "\n"
      ],
      "text/plain": [
       "[1] \"total\"       \"CpG Islands\" \"transcripts\" \"promoters\"   \"repeats\"    "
      ]
     },
     "metadata": {},
     "output_type": "display_data"
    }
   ],
   "source": [
    "unique(summary_df$type)"
   ]
  },
  {
   "cell_type": "code",
   "execution_count": 29,
   "metadata": {},
   "outputs": [],
   "source": [
    "summary_df <- summary_df[order(summary_df$class),]"
   ]
  },
  {
   "cell_type": "code",
   "execution_count": 30,
   "metadata": {},
   "outputs": [],
   "source": [
    "summary_df$type <- factor(summary_df$type, levels = c(\"total\", \"transcripts\", \"promoters\",\n",
    "                                                      \"repeats\", \"CpG Islands\"))"
   ]
  },
  {
   "cell_type": "code",
   "execution_count": 31,
   "metadata": {},
   "outputs": [
    {
     "data": {
      "text/html": [
       "<table class=\"dataframe\">\n",
       "<caption>A data.table: 5 × 7</caption>\n",
       "<thead>\n",
       "\t<tr><th scope=col>CpGs</th><th scope=col>CpGs_in_RRBS</th><th scope=col>type</th><th scope=col>genome_id</th><th scope=col>ratio</th><th scope=col>ucsc_species</th><th scope=col>class</th></tr>\n",
       "\t<tr><th scope=col>&lt;int&gt;</th><th scope=col>&lt;int&gt;</th><th scope=col>&lt;fct&gt;</th><th scope=col>&lt;chr&gt;</th><th scope=col>&lt;dbl&gt;</th><th scope=col>&lt;chr&gt;</th><th scope=col>&lt;fct&gt;</th></tr>\n",
       "</thead>\n",
       "<tbody>\n",
       "\t<tr><td>41003744</td><td>15610421</td><td>total      </td><td>petMar3</td><td>0.3807072</td><td>Lamprey</td><td>Jawless_vertebrate</td></tr>\n",
       "\t<tr><td> 4874719</td><td> 2559819</td><td>CpG Islands</td><td>petMar3</td><td>0.5251213</td><td>Lamprey</td><td>Jawless_vertebrate</td></tr>\n",
       "\t<tr><td>12953637</td><td> 5546614</td><td>repeats    </td><td>petMar3</td><td>0.4281897</td><td>Lamprey</td><td>Jawless_vertebrate</td></tr>\n",
       "\t<tr><td>11815029</td><td> 4877861</td><td>transcripts</td><td>petMar3</td><td>0.4128522</td><td>Lamprey</td><td>Jawless_vertebrate</td></tr>\n",
       "\t<tr><td> 1499525</td><td>  663266</td><td>promoters  </td><td>petMar3</td><td>0.4423174</td><td>Lamprey</td><td>Jawless_vertebrate</td></tr>\n",
       "</tbody>\n",
       "</table>\n"
      ],
      "text/latex": [
       "A data.table: 5 × 7\n",
       "\\begin{tabular}{lllllll}\n",
       " CpGs & CpGs\\_in\\_RRBS & type & genome\\_id & ratio & ucsc\\_species & class\\\\\n",
       " <int> & <int> & <fct> & <chr> & <dbl> & <chr> & <fct>\\\\\n",
       "\\hline\n",
       "\t 41003744 & 15610421 & total       & petMar3 & 0.3807072 & Lamprey & Jawless\\_vertebrate\\\\\n",
       "\t  4874719 &  2559819 & CpG Islands & petMar3 & 0.5251213 & Lamprey & Jawless\\_vertebrate\\\\\n",
       "\t 12953637 &  5546614 & repeats     & petMar3 & 0.4281897 & Lamprey & Jawless\\_vertebrate\\\\\n",
       "\t 11815029 &  4877861 & transcripts & petMar3 & 0.4128522 & Lamprey & Jawless\\_vertebrate\\\\\n",
       "\t  1499525 &   663266 & promoters   & petMar3 & 0.4423174 & Lamprey & Jawless\\_vertebrate\\\\\n",
       "\\end{tabular}\n"
      ],
      "text/markdown": [
       "\n",
       "A data.table: 5 × 7\n",
       "\n",
       "| CpGs &lt;int&gt; | CpGs_in_RRBS &lt;int&gt; | type &lt;fct&gt; | genome_id &lt;chr&gt; | ratio &lt;dbl&gt; | ucsc_species &lt;chr&gt; | class &lt;fct&gt; |\n",
       "|---|---|---|---|---|---|---|\n",
       "| 41003744 | 15610421 | total       | petMar3 | 0.3807072 | Lamprey | Jawless_vertebrate |\n",
       "|  4874719 |  2559819 | CpG Islands | petMar3 | 0.5251213 | Lamprey | Jawless_vertebrate |\n",
       "| 12953637 |  5546614 | repeats     | petMar3 | 0.4281897 | Lamprey | Jawless_vertebrate |\n",
       "| 11815029 |  4877861 | transcripts | petMar3 | 0.4128522 | Lamprey | Jawless_vertebrate |\n",
       "|  1499525 |   663266 | promoters   | petMar3 | 0.4423174 | Lamprey | Jawless_vertebrate |\n",
       "\n"
      ],
      "text/plain": [
       "  CpGs     CpGs_in_RRBS type        genome_id ratio     ucsc_species\n",
       "1 41003744 15610421     total       petMar3   0.3807072 Lamprey     \n",
       "2  4874719  2559819     CpG Islands petMar3   0.5251213 Lamprey     \n",
       "3 12953637  5546614     repeats     petMar3   0.4281897 Lamprey     \n",
       "4 11815029  4877861     transcripts petMar3   0.4128522 Lamprey     \n",
       "5  1499525   663266     promoters   petMar3   0.4423174 Lamprey     \n",
       "  class             \n",
       "1 Jawless_vertebrate\n",
       "2 Jawless_vertebrate\n",
       "3 Jawless_vertebrate\n",
       "4 Jawless_vertebrate\n",
       "5 Jawless_vertebrate"
      ]
     },
     "metadata": {},
     "output_type": "display_data"
    }
   ],
   "source": [
    "summary_df[ucsc_species == \"Lamprey\"]"
   ]
  },
  {
   "cell_type": "code",
   "execution_count": 32,
   "metadata": {},
   "outputs": [
    {
     "data": {
      "text/html": [
       "<style>\n",
       ".list-inline {list-style: none; margin:0; padding: 0}\n",
       ".list-inline>li {display: inline-block}\n",
       ".list-inline>li:not(:last-child)::after {content: \"\\00b7\"; padding: 0 .5ex}\n",
       "</style>\n",
       "<ol class=list-inline><li>Invertebrata</li><li>Jawless_vertebrate</li><li>Chondrichthyes</li><li>Actinopteri</li><li>Amphibia</li><li>Reptilia</li><li>Aves</li><li>Marsupialia</li><li>Mammalia</li></ol>\n",
       "\n",
       "<details>\n",
       "\t<summary style=display:list-item;cursor:pointer>\n",
       "\t\t<strong>Levels</strong>:\n",
       "\t</summary>\n",
       "\t<style>\n",
       "\t.list-inline {list-style: none; margin:0; padding: 0}\n",
       "\t.list-inline>li {display: inline-block}\n",
       "\t.list-inline>li:not(:last-child)::after {content: \"\\00b7\"; padding: 0 .5ex}\n",
       "\t</style>\n",
       "\t<ol class=list-inline><li>'Invertebrata'</li><li>'Jawless_vertebrate'</li><li>'Chondrichthyes'</li><li>'Actinopteri'</li><li>'Amphibia'</li><li>'Reptilia'</li><li>'Aves'</li><li>'Marsupialia'</li><li>'Mammalia'</li></ol>\n",
       "</details>"
      ],
      "text/latex": [
       "\\begin{enumerate*}\n",
       "\\item Invertebrata\n",
       "\\item Jawless\\_vertebrate\n",
       "\\item Chondrichthyes\n",
       "\\item Actinopteri\n",
       "\\item Amphibia\n",
       "\\item Reptilia\n",
       "\\item Aves\n",
       "\\item Marsupialia\n",
       "\\item Mammalia\n",
       "\\end{enumerate*}\n",
       "\n",
       "\\emph{Levels}: \\begin{enumerate*}\n",
       "\\item 'Invertebrata'\n",
       "\\item 'Jawless\\_vertebrate'\n",
       "\\item 'Chondrichthyes'\n",
       "\\item 'Actinopteri'\n",
       "\\item 'Amphibia'\n",
       "\\item 'Reptilia'\n",
       "\\item 'Aves'\n",
       "\\item 'Marsupialia'\n",
       "\\item 'Mammalia'\n",
       "\\end{enumerate*}\n"
      ],
      "text/markdown": [
       "1. Invertebrata\n",
       "2. Jawless_vertebrate\n",
       "3. Chondrichthyes\n",
       "4. Actinopteri\n",
       "5. Amphibia\n",
       "6. Reptilia\n",
       "7. Aves\n",
       "8. Marsupialia\n",
       "9. Mammalia\n",
       "\n",
       "\n",
       "\n",
       "**Levels**: 1. 'Invertebrata'\n",
       "2. 'Jawless_vertebrate'\n",
       "3. 'Chondrichthyes'\n",
       "4. 'Actinopteri'\n",
       "5. 'Amphibia'\n",
       "6. 'Reptilia'\n",
       "7. 'Aves'\n",
       "8. 'Marsupialia'\n",
       "9. 'Mammalia'\n",
       "\n",
       "\n"
      ],
      "text/plain": [
       "[1] Invertebrata       Jawless_vertebrate Chondrichthyes     Actinopteri       \n",
       "[5] Amphibia           Reptilia           Aves               Marsupialia       \n",
       "[9] Mammalia          \n",
       "9 Levels: Invertebrata Jawless_vertebrate Chondrichthyes ... Mammalia"
      ]
     },
     "metadata": {},
     "output_type": "display_data"
    }
   ],
   "source": [
    "unique(summary_df$class)"
   ]
  },
  {
   "cell_type": "code",
   "execution_count": 33,
   "metadata": {},
   "outputs": [
    {
     "data": {
      "text/html": [
       "<table class=\"dataframe\">\n",
       "<caption>A data.table: 0 × 7</caption>\n",
       "<thead>\n",
       "\t<tr><th scope=col>CpGs</th><th scope=col>CpGs_in_RRBS</th><th scope=col>type</th><th scope=col>genome_id</th><th scope=col>ratio</th><th scope=col>ucsc_species</th><th scope=col>class</th></tr>\n",
       "\t<tr><th scope=col>&lt;int&gt;</th><th scope=col>&lt;int&gt;</th><th scope=col>&lt;fct&gt;</th><th scope=col>&lt;chr&gt;</th><th scope=col>&lt;dbl&gt;</th><th scope=col>&lt;chr&gt;</th><th scope=col>&lt;fct&gt;</th></tr>\n",
       "</thead>\n",
       "<tbody>\n",
       "</tbody>\n",
       "</table>\n"
      ],
      "text/latex": [
       "A data.table: 0 × 7\n",
       "\\begin{tabular}{lllllll}\n",
       " CpGs & CpGs\\_in\\_RRBS & type & genome\\_id & ratio & ucsc\\_species & class\\\\\n",
       " <int> & <int> & <fct> & <chr> & <dbl> & <chr> & <fct>\\\\\n",
       "\\hline\n",
       "\\end{tabular}\n"
      ],
      "text/markdown": [
       "\n",
       "A data.table: 0 × 7\n",
       "\n",
       "| CpGs &lt;int&gt; | CpGs_in_RRBS &lt;int&gt; | type &lt;fct&gt; | genome_id &lt;chr&gt; | ratio &lt;dbl&gt; | ucsc_species &lt;chr&gt; | class &lt;fct&gt; |\n",
       "|---|---|---|---|---|---|---|\n",
       "\n"
      ],
      "text/plain": [
       "     CpGs CpGs_in_RRBS type genome_id ratio ucsc_species class"
      ]
     },
     "metadata": {},
     "output_type": "display_data"
    }
   ],
   "source": [
    "summary_df[is.na(class)]"
   ]
  },
  {
   "cell_type": "code",
   "execution_count": 34,
   "metadata": {},
   "outputs": [
    {
     "data": {
      "text/html": [
       "<table class=\"dataframe\">\n",
       "<caption>A data.table: 0 × 7</caption>\n",
       "<thead>\n",
       "\t<tr><th scope=col>CpGs</th><th scope=col>CpGs_in_RRBS</th><th scope=col>type</th><th scope=col>genome_id</th><th scope=col>ratio</th><th scope=col>ucsc_species</th><th scope=col>class</th></tr>\n",
       "\t<tr><th scope=col>&lt;int&gt;</th><th scope=col>&lt;int&gt;</th><th scope=col>&lt;fct&gt;</th><th scope=col>&lt;chr&gt;</th><th scope=col>&lt;dbl&gt;</th><th scope=col>&lt;chr&gt;</th><th scope=col>&lt;fct&gt;</th></tr>\n",
       "</thead>\n",
       "<tbody>\n",
       "</tbody>\n",
       "</table>\n"
      ],
      "text/latex": [
       "A data.table: 0 × 7\n",
       "\\begin{tabular}{lllllll}\n",
       " CpGs & CpGs\\_in\\_RRBS & type & genome\\_id & ratio & ucsc\\_species & class\\\\\n",
       " <int> & <int> & <fct> & <chr> & <dbl> & <chr> & <fct>\\\\\n",
       "\\hline\n",
       "\\end{tabular}\n"
      ],
      "text/markdown": [
       "\n",
       "A data.table: 0 × 7\n",
       "\n",
       "| CpGs &lt;int&gt; | CpGs_in_RRBS &lt;int&gt; | type &lt;fct&gt; | genome_id &lt;chr&gt; | ratio &lt;dbl&gt; | ucsc_species &lt;chr&gt; | class &lt;fct&gt; |\n",
       "|---|---|---|---|---|---|---|\n",
       "\n"
      ],
      "text/plain": [
       "     CpGs CpGs_in_RRBS type genome_id ratio ucsc_species class"
      ]
     },
     "metadata": {},
     "output_type": "display_data"
    }
   ],
   "source": [
    "summary_df[is.na(summary_df$class),]"
   ]
  },
  {
   "cell_type": "code",
   "execution_count": null,
   "metadata": {},
   "outputs": [],
   "source": [
    "#summary_df[summary_df$species == \"Lamprey\", class:= \"Invertebrata\",]"
   ]
  },
  {
   "cell_type": "code",
   "execution_count": 35,
   "metadata": {},
   "outputs": [],
   "source": [
    "summary_df[, group:=class_short[class],]"
   ]
  },
  {
   "cell_type": "code",
   "execution_count": 36,
   "metadata": {},
   "outputs": [],
   "source": [
    "summary_df$group <- factor(summary_df$group, levels = class_short)"
   ]
  },
  {
   "cell_type": "code",
   "execution_count": 38,
   "metadata": {},
   "outputs": [
    {
     "data": {
      "text/html": [
       "<table class=\"dataframe\">\n",
       "<caption>A data.table: 0 × 8</caption>\n",
       "<thead>\n",
       "\t<tr><th scope=col>CpGs</th><th scope=col>CpGs_in_RRBS</th><th scope=col>type</th><th scope=col>genome_id</th><th scope=col>ratio</th><th scope=col>ucsc_species</th><th scope=col>class</th><th scope=col>group</th></tr>\n",
       "\t<tr><th scope=col>&lt;int&gt;</th><th scope=col>&lt;int&gt;</th><th scope=col>&lt;fct&gt;</th><th scope=col>&lt;chr&gt;</th><th scope=col>&lt;dbl&gt;</th><th scope=col>&lt;chr&gt;</th><th scope=col>&lt;fct&gt;</th><th scope=col>&lt;fct&gt;</th></tr>\n",
       "</thead>\n",
       "<tbody>\n",
       "</tbody>\n",
       "</table>\n"
      ],
      "text/latex": [
       "A data.table: 0 × 8\n",
       "\\begin{tabular}{llllllll}\n",
       " CpGs & CpGs\\_in\\_RRBS & type & genome\\_id & ratio & ucsc\\_species & class & group\\\\\n",
       " <int> & <int> & <fct> & <chr> & <dbl> & <chr> & <fct> & <fct>\\\\\n",
       "\\hline\n",
       "\\end{tabular}\n"
      ],
      "text/markdown": [
       "\n",
       "A data.table: 0 × 8\n",
       "\n",
       "| CpGs &lt;int&gt; | CpGs_in_RRBS &lt;int&gt; | type &lt;fct&gt; | genome_id &lt;chr&gt; | ratio &lt;dbl&gt; | ucsc_species &lt;chr&gt; | class &lt;fct&gt; | group &lt;fct&gt; |\n",
       "|---|---|---|---|---|---|---|---|\n",
       "\n"
      ],
      "text/plain": [
       "     CpGs CpGs_in_RRBS type genome_id ratio ucsc_species class group"
      ]
     },
     "metadata": {},
     "output_type": "display_data"
    }
   ],
   "source": [
    "summary_df[is.na(group)]"
   ]
  },
  {
   "cell_type": "code",
   "execution_count": 41,
   "metadata": {},
   "outputs": [],
   "source": [
    "summary_df[summary_df$ucsc_species == \"Lamprey\",group:=\"Inv.\"]"
   ]
  },
  {
   "cell_type": "code",
   "execution_count": 42,
   "metadata": {},
   "outputs": [
    {
     "data": {
      "text/html": [
       "<table class=\"dataframe\">\n",
       "<caption>A data.table: 0 × 8</caption>\n",
       "<thead>\n",
       "\t<tr><th scope=col>CpGs</th><th scope=col>CpGs_in_RRBS</th><th scope=col>type</th><th scope=col>genome_id</th><th scope=col>ratio</th><th scope=col>ucsc_species</th><th scope=col>class</th><th scope=col>group</th></tr>\n",
       "\t<tr><th scope=col>&lt;int&gt;</th><th scope=col>&lt;int&gt;</th><th scope=col>&lt;fct&gt;</th><th scope=col>&lt;chr&gt;</th><th scope=col>&lt;dbl&gt;</th><th scope=col>&lt;chr&gt;</th><th scope=col>&lt;fct&gt;</th><th scope=col>&lt;fct&gt;</th></tr>\n",
       "</thead>\n",
       "<tbody>\n",
       "</tbody>\n",
       "</table>\n"
      ],
      "text/latex": [
       "A data.table: 0 × 8\n",
       "\\begin{tabular}{llllllll}\n",
       " CpGs & CpGs\\_in\\_RRBS & type & genome\\_id & ratio & ucsc\\_species & class & group\\\\\n",
       " <int> & <int> & <fct> & <chr> & <dbl> & <chr> & <fct> & <fct>\\\\\n",
       "\\hline\n",
       "\\end{tabular}\n"
      ],
      "text/markdown": [
       "\n",
       "A data.table: 0 × 8\n",
       "\n",
       "| CpGs &lt;int&gt; | CpGs_in_RRBS &lt;int&gt; | type &lt;fct&gt; | genome_id &lt;chr&gt; | ratio &lt;dbl&gt; | ucsc_species &lt;chr&gt; | class &lt;fct&gt; | group &lt;fct&gt; |\n",
       "|---|---|---|---|---|---|---|---|\n",
       "\n"
      ],
      "text/plain": [
       "     CpGs CpGs_in_RRBS type genome_id ratio ucsc_species class group"
      ]
     },
     "metadata": {},
     "output_type": "display_data"
    }
   ],
   "source": [
    "summary_df[is.infinite(ratio)]"
   ]
  },
  {
   "cell_type": "code",
   "execution_count": 75,
   "metadata": {},
   "outputs": [
    {
     "data": {
      "text/html": [
       "'/binfl/lv71484/droman/DNAmeth500species//results_analysis/validation/02_insilico_digest'"
      ],
      "text/latex": [
       "'/binfl/lv71484/droman/DNAmeth500species//results\\_analysis/validation/02\\_insilico\\_digest'"
      ],
      "text/markdown": [
       "'/binfl/lv71484/droman/DNAmeth500species//results_analysis/validation/02_insilico_digest'"
      ],
      "text/plain": [
       "[1] \"/binfl/lv71484/droman/DNAmeth500species//results_analysis/validation/02_insilico_digest\""
      ]
     },
     "metadata": {},
     "output_type": "display_data"
    }
   ],
   "source": [
    "output_dir"
   ]
  },
  {
   "cell_type": "code",
   "execution_count": 67,
   "metadata": {},
   "outputs": [
    {
     "name": "stderr",
     "output_type": "stream",
     "text": [
      "Warning message:\n",
      "“Removed 1 rows containing non-finite values (stat_boxplot).”\n",
      "Warning message:\n",
      "“Removed 1 rows containing missing values (geom_point).”\n",
      "Warning message:\n",
      "“Removed 1 rows containing non-finite values (stat_boxplot).”\n",
      "Warning message:\n",
      "“Removed 1 rows containing missing values (geom_point).”\n"
     ]
    },
    {
     "data": {
      "image/png": "[encoded data removed]",
      "text/plain": [
       "plot without title"
      ]
     },
     "metadata": {
      "image/png": {
       "height": 360,
       "width": 900
      }
     },
     "output_type": "display_data"
    }
   ],
   "source": [
    "options(repr.plot.width = 15, repr.plot.height = 6)\n",
    "ggplot(summary_df[class!=\"Jawless_vertebrate\"], aes(x = group, y = ratio, color = class)) + geom_boxplot(outlier.shape = NA) + \n",
    "        geom_jitter(data = summary_df, aes(x = group, y = ratio, color = class), alpha = 0.5) + \n",
    "        facet_wrap(~type, nrow = 1) + \n",
    "        theme_bw() + ylim(c(0,1)) + \n",
    "        theme( legend.position = \"None\") +\n",
    "        scale_color_manual(values = class_colors) + \n",
    "        geom_hline(yintercept = 0.25, linetype = 2, color = \"#bdbdbd\") + \n",
    "        geom_hline(yintercept = 0.5, linetype = 2, color = \"#bdbdbd\") +\n",
    "        geom_hline(yintercept = 0.75, linetype = 2, color = \"#bdbdbd\")\n",
    "ggsave(file.path(output_dir, \"summary_boxplots.pdf\"), width = 12, height = 3 )"
   ]
  },
  {
   "cell_type": "code",
   "execution_count": 68,
   "metadata": {},
   "outputs": [
    {
     "data": {
      "text/html": [
       "<table class=\"dataframe\">\n",
       "<caption>A data.table: 15 × 8</caption>\n",
       "<thead>\n",
       "\t<tr><th scope=col>CpGs</th><th scope=col>CpGs_in_RRBS</th><th scope=col>type</th><th scope=col>genome_id</th><th scope=col>ratio</th><th scope=col>ucsc_species</th><th scope=col>class</th><th scope=col>group</th></tr>\n",
       "\t<tr><th scope=col>&lt;int&gt;</th><th scope=col>&lt;int&gt;</th><th scope=col>&lt;fct&gt;</th><th scope=col>&lt;chr&gt;</th><th scope=col>&lt;dbl&gt;</th><th scope=col>&lt;chr&gt;</th><th scope=col>&lt;fct&gt;</th><th scope=col>&lt;fct&gt;</th></tr>\n",
       "</thead>\n",
       "<tbody>\n",
       "\t<tr><td>26935097</td><td>6094361</td><td>total      </td><td>danRer11</td><td>0.2262610</td><td>Zebrafish</td><td>Actinopteri</td><td>Act.</td></tr>\n",
       "\t<tr><td>  372170</td><td> 161333</td><td>CpG Islands</td><td>danRer11</td><td>0.4334928</td><td>Zebrafish</td><td>Actinopteri</td><td>Act.</td></tr>\n",
       "\t<tr><td>15797613</td><td>3639422</td><td>transcripts</td><td>danRer11</td><td>0.2303780</td><td>Zebrafish</td><td>Actinopteri</td><td>Act.</td></tr>\n",
       "\t<tr><td> 1152063</td><td> 294509</td><td>promoters  </td><td>danRer11</td><td>0.2556362</td><td>Zebrafish</td><td>Actinopteri</td><td>Act.</td></tr>\n",
       "\t<tr><td>15535400</td><td>4043892</td><td>repeats    </td><td>danRer11</td><td>0.2603018</td><td>Zebrafish</td><td>Actinopteri</td><td>Act.</td></tr>\n",
       "\t<tr><td>28304415</td><td>6146787</td><td>total      </td><td>hg38    </td><td>0.2171671</td><td>Human    </td><td>Mammalia   </td><td>Mam.</td></tr>\n",
       "\t<tr><td> 1826759</td><td>1032216</td><td>CpG Islands</td><td>hg38    </td><td>0.5650532</td><td>Human    </td><td>Mammalia   </td><td>Mam.</td></tr>\n",
       "\t<tr><td>16181741</td><td>3872973</td><td>transcripts</td><td>hg38    </td><td>0.2393422</td><td>Human    </td><td>Mammalia   </td><td>Mam.</td></tr>\n",
       "\t<tr><td> 2107647</td><td> 960460</td><td>promoters  </td><td>hg38    </td><td>0.4557025</td><td>Human    </td><td>Mammalia   </td><td>Mam.</td></tr>\n",
       "\t<tr><td>15015320</td><td>3185594</td><td>repeats    </td><td>hg38    </td><td>0.2121563</td><td>Human    </td><td>Mammalia   </td><td>Mam.</td></tr>\n",
       "\t<tr><td>17608300</td><td>3191945</td><td>total      </td><td>mm39    </td><td>0.1812750</td><td>Mouse    </td><td>Mammalia   </td><td>Mam.</td></tr>\n",
       "\t<tr><td>  782188</td><td> 452076</td><td>CpG Islands</td><td>mm39    </td><td>0.5779634</td><td>Mouse    </td><td>Mammalia   </td><td>Mam.</td></tr>\n",
       "\t<tr><td> 9503349</td><td>1870067</td><td>transcripts</td><td>mm39    </td><td>0.1967798</td><td>Mouse    </td><td>Mammalia   </td><td>Mam.</td></tr>\n",
       "\t<tr><td> 1358681</td><td> 549354</td><td>promoters  </td><td>mm39    </td><td>0.4043289</td><td>Mouse    </td><td>Mammalia   </td><td>Mam.</td></tr>\n",
       "\t<tr><td> 6861997</td><td>1320663</td><td>repeats    </td><td>mm39    </td><td>0.1924604</td><td>Mouse    </td><td>Mammalia   </td><td>Mam.</td></tr>\n",
       "</tbody>\n",
       "</table>\n"
      ],
      "text/latex": [
       "A data.table: 15 × 8\n",
       "\\begin{tabular}{llllllll}\n",
       " CpGs & CpGs\\_in\\_RRBS & type & genome\\_id & ratio & ucsc\\_species & class & group\\\\\n",
       " <int> & <int> & <fct> & <chr> & <dbl> & <chr> & <fct> & <fct>\\\\\n",
       "\\hline\n",
       "\t 26935097 & 6094361 & total       & danRer11 & 0.2262610 & Zebrafish & Actinopteri & Act.\\\\\n",
       "\t   372170 &  161333 & CpG Islands & danRer11 & 0.4334928 & Zebrafish & Actinopteri & Act.\\\\\n",
       "\t 15797613 & 3639422 & transcripts & danRer11 & 0.2303780 & Zebrafish & Actinopteri & Act.\\\\\n",
       "\t  1152063 &  294509 & promoters   & danRer11 & 0.2556362 & Zebrafish & Actinopteri & Act.\\\\\n",
       "\t 15535400 & 4043892 & repeats     & danRer11 & 0.2603018 & Zebrafish & Actinopteri & Act.\\\\\n",
       "\t 28304415 & 6146787 & total       & hg38     & 0.2171671 & Human     & Mammalia    & Mam.\\\\\n",
       "\t  1826759 & 1032216 & CpG Islands & hg38     & 0.5650532 & Human     & Mammalia    & Mam.\\\\\n",
       "\t 16181741 & 3872973 & transcripts & hg38     & 0.2393422 & Human     & Mammalia    & Mam.\\\\\n",
       "\t  2107647 &  960460 & promoters   & hg38     & 0.4557025 & Human     & Mammalia    & Mam.\\\\\n",
       "\t 15015320 & 3185594 & repeats     & hg38     & 0.2121563 & Human     & Mammalia    & Mam.\\\\\n",
       "\t 17608300 & 3191945 & total       & mm39     & 0.1812750 & Mouse     & Mammalia    & Mam.\\\\\n",
       "\t   782188 &  452076 & CpG Islands & mm39     & 0.5779634 & Mouse     & Mammalia    & Mam.\\\\\n",
       "\t  9503349 & 1870067 & transcripts & mm39     & 0.1967798 & Mouse     & Mammalia    & Mam.\\\\\n",
       "\t  1358681 &  549354 & promoters   & mm39     & 0.4043289 & Mouse     & Mammalia    & Mam.\\\\\n",
       "\t  6861997 & 1320663 & repeats     & mm39     & 0.1924604 & Mouse     & Mammalia    & Mam.\\\\\n",
       "\\end{tabular}\n"
      ],
      "text/markdown": [
       "\n",
       "A data.table: 15 × 8\n",
       "\n",
       "| CpGs &lt;int&gt; | CpGs_in_RRBS &lt;int&gt; | type &lt;fct&gt; | genome_id &lt;chr&gt; | ratio &lt;dbl&gt; | ucsc_species &lt;chr&gt; | class &lt;fct&gt; | group &lt;fct&gt; |\n",
       "|---|---|---|---|---|---|---|---|\n",
       "| 26935097 | 6094361 | total       | danRer11 | 0.2262610 | Zebrafish | Actinopteri | Act. |\n",
       "|   372170 |  161333 | CpG Islands | danRer11 | 0.4334928 | Zebrafish | Actinopteri | Act. |\n",
       "| 15797613 | 3639422 | transcripts | danRer11 | 0.2303780 | Zebrafish | Actinopteri | Act. |\n",
       "|  1152063 |  294509 | promoters   | danRer11 | 0.2556362 | Zebrafish | Actinopteri | Act. |\n",
       "| 15535400 | 4043892 | repeats     | danRer11 | 0.2603018 | Zebrafish | Actinopteri | Act. |\n",
       "| 28304415 | 6146787 | total       | hg38     | 0.2171671 | Human     | Mammalia    | Mam. |\n",
       "|  1826759 | 1032216 | CpG Islands | hg38     | 0.5650532 | Human     | Mammalia    | Mam. |\n",
       "| 16181741 | 3872973 | transcripts | hg38     | 0.2393422 | Human     | Mammalia    | Mam. |\n",
       "|  2107647 |  960460 | promoters   | hg38     | 0.4557025 | Human     | Mammalia    | Mam. |\n",
       "| 15015320 | 3185594 | repeats     | hg38     | 0.2121563 | Human     | Mammalia    | Mam. |\n",
       "| 17608300 | 3191945 | total       | mm39     | 0.1812750 | Mouse     | Mammalia    | Mam. |\n",
       "|   782188 |  452076 | CpG Islands | mm39     | 0.5779634 | Mouse     | Mammalia    | Mam. |\n",
       "|  9503349 | 1870067 | transcripts | mm39     | 0.1967798 | Mouse     | Mammalia    | Mam. |\n",
       "|  1358681 |  549354 | promoters   | mm39     | 0.4043289 | Mouse     | Mammalia    | Mam. |\n",
       "|  6861997 | 1320663 | repeats     | mm39     | 0.1924604 | Mouse     | Mammalia    | Mam. |\n",
       "\n"
      ],
      "text/plain": [
       "   CpGs     CpGs_in_RRBS type        genome_id ratio     ucsc_species\n",
       "1  26935097 6094361      total       danRer11  0.2262610 Zebrafish   \n",
       "2    372170  161333      CpG Islands danRer11  0.4334928 Zebrafish   \n",
       "3  15797613 3639422      transcripts danRer11  0.2303780 Zebrafish   \n",
       "4   1152063  294509      promoters   danRer11  0.2556362 Zebrafish   \n",
       "5  15535400 4043892      repeats     danRer11  0.2603018 Zebrafish   \n",
       "6  28304415 6146787      total       hg38      0.2171671 Human       \n",
       "7   1826759 1032216      CpG Islands hg38      0.5650532 Human       \n",
       "8  16181741 3872973      transcripts hg38      0.2393422 Human       \n",
       "9   2107647  960460      promoters   hg38      0.4557025 Human       \n",
       "10 15015320 3185594      repeats     hg38      0.2121563 Human       \n",
       "11 17608300 3191945      total       mm39      0.1812750 Mouse       \n",
       "12   782188  452076      CpG Islands mm39      0.5779634 Mouse       \n",
       "13  9503349 1870067      transcripts mm39      0.1967798 Mouse       \n",
       "14  1358681  549354      promoters   mm39      0.4043289 Mouse       \n",
       "15  6861997 1320663      repeats     mm39      0.1924604 Mouse       \n",
       "   class       group\n",
       "1  Actinopteri Act. \n",
       "2  Actinopteri Act. \n",
       "3  Actinopteri Act. \n",
       "4  Actinopteri Act. \n",
       "5  Actinopteri Act. \n",
       "6  Mammalia    Mam. \n",
       "7  Mammalia    Mam. \n",
       "8  Mammalia    Mam. \n",
       "9  Mammalia    Mam. \n",
       "10 Mammalia    Mam. \n",
       "11 Mammalia    Mam. \n",
       "12 Mammalia    Mam. \n",
       "13 Mammalia    Mam. \n",
       "14 Mammalia    Mam. \n",
       "15 Mammalia    Mam. "
      ]
     },
     "metadata": {},
     "output_type": "display_data"
    }
   ],
   "source": [
    "summary_df[ucsc_species %in% c(\"Human\", \"Mouse\", \"Zebrafish\")]"
   ]
  },
  {
   "cell_type": "code",
   "execution_count": 71,
   "metadata": {},
   "outputs": [
    {
     "name": "stderr",
     "output_type": "stream",
     "text": [
      "Warning message:\n",
      "“Removed 1 rows containing non-finite values (stat_boxplot).”\n",
      "Warning message:\n",
      "“Removed 1 rows containing missing values (geom_point).”\n",
      "Warning message:\n",
      "“Removed 1 rows containing non-finite values (stat_boxplot).”\n",
      "Warning message:\n",
      "“Removed 1 rows containing missing values (geom_point).”\n"
     ]
    },
    {
     "data": {
      "image/png": "[encoded data removed]",
      "text/plain": [
       "plot without title"
      ]
     },
     "metadata": {
      "image/png": {
       "height": 360,
       "width": 900
      }
     },
     "output_type": "display_data"
    }
   ],
   "source": [
    "ggplot(summary_df[class!=\"Jawless_vertebrate\"], aes(x = group, y = ratio, color = class)) + geom_boxplot(outlier.shape = NA) + \n",
    "        geom_jitter(data = summary_df, aes(x = group, y = ratio, color = class), alpha = 0.5) + \n",
    "        facet_wrap(~type, nrow = 1) + \n",
    "        theme_bw() + ylim(c(0,1)) + \n",
    "        theme( legend.position = \"None\") +\n",
    "        scale_color_manual(values = class_colors) + \n",
    "        geom_hline(yintercept = 0.25, linetype = 2, color = \"#bdbdbd\") + \n",
    "        geom_hline(yintercept = 0.5, linetype = 2, color = \"#bdbdbd\") +\n",
    "        geom_hline(yintercept = 0.75, linetype = 2, color = \"#bdbdbd\")  + \n",
    "        geom_label_repel(data = summary_df[ucsc_species %in% c(\"Human\", \"Mouse\", \"Zebrafish\")], \n",
    "                        aes(x = group, y = ratio, label = substr(ucsc_species, 1, 1)), color = \"black\", alpha = 0.8)\n",
    "ggsave(file.path(output_dir, \"summary_boxplots_names.pdf\"), width = 12, height = 3 )"
   ]
  },
  {
   "cell_type": "code",
   "execution_count": 73,
   "metadata": {},
   "outputs": [
    {
     "data": {
      "text/html": [
       "<table class=\"dataframe\">\n",
       "<caption>A data.table: 11 × 8</caption>\n",
       "<thead>\n",
       "\t<tr><th scope=col>CpGs</th><th scope=col>CpGs_in_RRBS</th><th scope=col>type</th><th scope=col>genome_id</th><th scope=col>ratio</th><th scope=col>ucsc_species</th><th scope=col>class</th><th scope=col>group</th></tr>\n",
       "\t<tr><th scope=col>&lt;int&gt;</th><th scope=col>&lt;int&gt;</th><th scope=col>&lt;fct&gt;</th><th scope=col>&lt;chr&gt;</th><th scope=col>&lt;dbl&gt;</th><th scope=col>&lt;chr&gt;</th><th scope=col>&lt;fct&gt;</th><th scope=col>&lt;fct&gt;</th></tr>\n",
       "</thead>\n",
       "<tbody>\n",
       "\t<tr><td>     37</td><td>    16</td><td>promoters</td><td>bisBis1</td><td>0.4324324</td><td>Bison           </td><td>Mammalia</td><td>Mam.</td></tr>\n",
       "\t<tr><td>  59511</td><td> 15834</td><td>promoters</td><td>choHof1</td><td>0.2660685</td><td>Sloth           </td><td>Mammalia</td><td>Mam.</td></tr>\n",
       "\t<tr><td>  16490</td><td>  6972</td><td>promoters</td><td>criGri1</td><td>0.4228017</td><td>Chinese hamster </td><td>Mammalia</td><td>Mam.</td></tr>\n",
       "\t<tr><td> 337580</td><td>125852</td><td>promoters</td><td>dipOrd1</td><td>0.3728064</td><td>Kangaroo rat    </td><td>Mammalia</td><td>Mam.</td></tr>\n",
       "\t<tr><td>1358681</td><td>549354</td><td>promoters</td><td>mm39   </td><td>0.4043289</td><td>Mouse           </td><td>Mammalia</td><td>Mam.</td></tr>\n",
       "\t<tr><td>1094796</td><td>362272</td><td>promoters</td><td>nasLar1</td><td>0.3309037</td><td>Proboscis Monkey</td><td>Mammalia</td><td>Mam.</td></tr>\n",
       "\t<tr><td>1793196</td><td>787948</td><td>promoters</td><td>nomLeu3</td><td>0.4394099</td><td>Gibbon          </td><td>Mammalia</td><td>Mam.</td></tr>\n",
       "\t<tr><td> 173547</td><td> 66293</td><td>promoters</td><td>proCap1</td><td>0.3819887</td><td>Rock hyrax      </td><td>Mammalia</td><td>Mam.</td></tr>\n",
       "\t<tr><td>1419877</td><td>568707</td><td>promoters</td><td>pteVam1</td><td>0.4005326</td><td>Megabat         </td><td>Mammalia</td><td>Mam.</td></tr>\n",
       "\t<tr><td>1398993</td><td>564902</td><td>promoters</td><td>rn7    </td><td>0.4037919</td><td>Rat             </td><td>Mammalia</td><td>Mam.</td></tr>\n",
       "\t<tr><td> 900613</td><td>283741</td><td>promoters</td><td>tupBel1</td><td>0.3150532</td><td>Tree shrew      </td><td>Mammalia</td><td>Mam.</td></tr>\n",
       "</tbody>\n",
       "</table>\n"
      ],
      "text/latex": [
       "A data.table: 11 × 8\n",
       "\\begin{tabular}{llllllll}\n",
       " CpGs & CpGs\\_in\\_RRBS & type & genome\\_id & ratio & ucsc\\_species & class & group\\\\\n",
       " <int> & <int> & <fct> & <chr> & <dbl> & <chr> & <fct> & <fct>\\\\\n",
       "\\hline\n",
       "\t      37 &     16 & promoters & bisBis1 & 0.4324324 & Bison            & Mammalia & Mam.\\\\\n",
       "\t   59511 &  15834 & promoters & choHof1 & 0.2660685 & Sloth            & Mammalia & Mam.\\\\\n",
       "\t   16490 &   6972 & promoters & criGri1 & 0.4228017 & Chinese hamster  & Mammalia & Mam.\\\\\n",
       "\t  337580 & 125852 & promoters & dipOrd1 & 0.3728064 & Kangaroo rat     & Mammalia & Mam.\\\\\n",
       "\t 1358681 & 549354 & promoters & mm39    & 0.4043289 & Mouse            & Mammalia & Mam.\\\\\n",
       "\t 1094796 & 362272 & promoters & nasLar1 & 0.3309037 & Proboscis Monkey & Mammalia & Mam.\\\\\n",
       "\t 1793196 & 787948 & promoters & nomLeu3 & 0.4394099 & Gibbon           & Mammalia & Mam.\\\\\n",
       "\t  173547 &  66293 & promoters & proCap1 & 0.3819887 & Rock hyrax       & Mammalia & Mam.\\\\\n",
       "\t 1419877 & 568707 & promoters & pteVam1 & 0.4005326 & Megabat          & Mammalia & Mam.\\\\\n",
       "\t 1398993 & 564902 & promoters & rn7     & 0.4037919 & Rat              & Mammalia & Mam.\\\\\n",
       "\t  900613 & 283741 & promoters & tupBel1 & 0.3150532 & Tree shrew       & Mammalia & Mam.\\\\\n",
       "\\end{tabular}\n"
      ],
      "text/markdown": [
       "\n",
       "A data.table: 11 × 8\n",
       "\n",
       "| CpGs &lt;int&gt; | CpGs_in_RRBS &lt;int&gt; | type &lt;fct&gt; | genome_id &lt;chr&gt; | ratio &lt;dbl&gt; | ucsc_species &lt;chr&gt; | class &lt;fct&gt; | group &lt;fct&gt; |\n",
       "|---|---|---|---|---|---|---|---|\n",
       "|      37 |     16 | promoters | bisBis1 | 0.4324324 | Bison            | Mammalia | Mam. |\n",
       "|   59511 |  15834 | promoters | choHof1 | 0.2660685 | Sloth            | Mammalia | Mam. |\n",
       "|   16490 |   6972 | promoters | criGri1 | 0.4228017 | Chinese hamster  | Mammalia | Mam. |\n",
       "|  337580 | 125852 | promoters | dipOrd1 | 0.3728064 | Kangaroo rat     | Mammalia | Mam. |\n",
       "| 1358681 | 549354 | promoters | mm39    | 0.4043289 | Mouse            | Mammalia | Mam. |\n",
       "| 1094796 | 362272 | promoters | nasLar1 | 0.3309037 | Proboscis Monkey | Mammalia | Mam. |\n",
       "| 1793196 | 787948 | promoters | nomLeu3 | 0.4394099 | Gibbon           | Mammalia | Mam. |\n",
       "|  173547 |  66293 | promoters | proCap1 | 0.3819887 | Rock hyrax       | Mammalia | Mam. |\n",
       "| 1419877 | 568707 | promoters | pteVam1 | 0.4005326 | Megabat          | Mammalia | Mam. |\n",
       "| 1398993 | 564902 | promoters | rn7     | 0.4037919 | Rat              | Mammalia | Mam. |\n",
       "|  900613 | 283741 | promoters | tupBel1 | 0.3150532 | Tree shrew       | Mammalia | Mam. |\n",
       "\n"
      ],
      "text/plain": [
       "   CpGs    CpGs_in_RRBS type      genome_id ratio     ucsc_species     class   \n",
       "1       37     16       promoters bisBis1   0.4324324 Bison            Mammalia\n",
       "2    59511  15834       promoters choHof1   0.2660685 Sloth            Mammalia\n",
       "3    16490   6972       promoters criGri1   0.4228017 Chinese hamster  Mammalia\n",
       "4   337580 125852       promoters dipOrd1   0.3728064 Kangaroo rat     Mammalia\n",
       "5  1358681 549354       promoters mm39      0.4043289 Mouse            Mammalia\n",
       "6  1094796 362272       promoters nasLar1   0.3309037 Proboscis Monkey Mammalia\n",
       "7  1793196 787948       promoters nomLeu3   0.4394099 Gibbon           Mammalia\n",
       "8   173547  66293       promoters proCap1   0.3819887 Rock hyrax       Mammalia\n",
       "9  1419877 568707       promoters pteVam1   0.4005326 Megabat          Mammalia\n",
       "10 1398993 564902       promoters rn7       0.4037919 Rat              Mammalia\n",
       "11  900613 283741       promoters tupBel1   0.3150532 Tree shrew       Mammalia\n",
       "   group\n",
       "1  Mam. \n",
       "2  Mam. \n",
       "3  Mam. \n",
       "4  Mam. \n",
       "5  Mam. \n",
       "6  Mam. \n",
       "7  Mam. \n",
       "8  Mam. \n",
       "9  Mam. \n",
       "10 Mam. \n",
       "11 Mam. "
      ]
     },
     "metadata": {},
     "output_type": "display_data"
    }
   ],
   "source": [
    "summary_df[class==\"Mammalia\" & type == \"promoters\" & ratio < 0.45,]"
   ]
  },
  {
   "cell_type": "code",
   "execution_count": 74,
   "metadata": {},
   "outputs": [],
   "source": [
    "my_wt(summary_df, file.path(output_dir, \"summary_df.tsv\")) "
   ]
  }
 ],
 "metadata": {
  "kernelspec": {
   "display_name": "Zoo_R",
   "language": "R",
   "name": "zoo_r"
  },
  "language_info": {
   "codemirror_mode": "r",
   "file_extension": ".r",
   "mimetype": "text/x-r-source",
   "name": "R",
   "pygments_lexer": "r",
   "version": "3.6.1"
  }
 },
 "nbformat": 4,
 "nbformat_minor": 4
}
