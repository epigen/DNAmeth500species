{
 "cells": [
  {
   "cell_type": "markdown",
   "metadata": {},
   "source": [
    "## Insilico digest preparation\n",
    "Download of the reference data from the UCSC and setting up a BSgenome package for each species for the analysis of the insilico RRBS  \n",
    "Author: Daria Romanovskaia dromanovskaia@cemm.at  \n",
    "Date: 22.12.2020 (upd. 1.02.2021, upd 18.10.2021)"
   ]
  },
  {
   "cell_type": "code",
   "execution_count": 1,
   "metadata": {
    "collapsed": true,
    "jupyter": {
     "outputs_hidden": true
    },
    "tags": []
   },
   "outputs": [
    {
     "name": "stderr",
     "output_type": "stream",
     "text": [
      "Warning message:\n",
      "“package ‘ggrepel’ was built under R version 3.6.3”\n",
      "Warning message:\n",
      "“package ‘ggseqlogo’ was built under R version 3.6.3”\n",
      "Warning message:\n",
      "“package ‘pheatmap’ was built under R version 3.6.3”\n",
      "Joining, by = \"species\"\n",
      "\n"
     ]
    }
   ],
   "source": [
    "source(file.path(Sys.getenv(\"CODEBASE\"),\"DNAmeth500species/src/00.0_init.R\"))"
   ]
  },
  {
   "cell_type": "code",
   "execution_count": 2,
   "metadata": {
    "collapsed": true,
    "jupyter": {
     "outputs_hidden": true
    },
    "tags": []
   },
   "outputs": [
    {
     "name": "stderr",
     "output_type": "stream",
     "text": [
      "Loading required package: GenomicRanges\n",
      "\n",
      "Loading required package: stats4\n",
      "\n",
      "Loading required package: BiocGenerics\n",
      "\n",
      "\n",
      "Attaching package: ‘BiocGenerics’\n",
      "\n",
      "\n",
      "The following objects are masked from ‘package:dplyr’:\n",
      "\n",
      "    combine, intersect, setdiff, union\n",
      "\n",
      "\n",
      "The following objects are masked from ‘package:parallel’:\n",
      "\n",
      "    clusterApply, clusterApplyLB, clusterCall, clusterEvalQ,\n",
      "    clusterExport, clusterMap, parApply, parCapply, parLapply,\n",
      "    parLapplyLB, parRapply, parSapply, parSapplyLB\n",
      "\n",
      "\n",
      "The following objects are masked from ‘package:stats’:\n",
      "\n",
      "    IQR, mad, sd, var, xtabs\n",
      "\n",
      "\n",
      "The following objects are masked from ‘package:base’:\n",
      "\n",
      "    anyDuplicated, append, as.data.frame, basename, cbind, colnames,\n",
      "    dirname, do.call, duplicated, eval, evalq, Filter, Find, get, grep,\n",
      "    grepl, intersect, is.unsorted, lapply, Map, mapply, match, mget,\n",
      "    order, paste, pmax, pmax.int, pmin, pmin.int, Position, rank,\n",
      "    rbind, Reduce, rownames, sapply, setdiff, sort, table, tapply,\n",
      "    union, unique, unsplit, which, which.max, which.min\n",
      "\n",
      "\n",
      "Loading required package: S4Vectors\n",
      "\n",
      "\n",
      "Attaching package: ‘S4Vectors’\n",
      "\n",
      "\n",
      "The following object is masked from ‘package:tidyr’:\n",
      "\n",
      "    expand\n",
      "\n",
      "\n",
      "The following objects are masked from ‘package:dplyr’:\n",
      "\n",
      "    first, rename\n",
      "\n",
      "\n",
      "The following objects are masked from ‘package:data.table’:\n",
      "\n",
      "    first, second\n",
      "\n",
      "\n",
      "The following object is masked from ‘package:base’:\n",
      "\n",
      "    expand.grid\n",
      "\n",
      "\n",
      "Loading required package: IRanges\n",
      "\n",
      "\n",
      "Attaching package: ‘IRanges’\n",
      "\n",
      "\n",
      "The following objects are masked from ‘package:dplyr’:\n",
      "\n",
      "    collapse, desc, slice\n",
      "\n",
      "\n",
      "The following object is masked from ‘package:data.table’:\n",
      "\n",
      "    shift\n",
      "\n",
      "\n",
      "Loading required package: GenomeInfoDb\n",
      "\n"
     ]
    }
   ],
   "source": [
    "library(rtracklayer)"
   ]
  },
  {
   "cell_type": "markdown",
   "metadata": {},
   "source": [
    "## Set of species to analyse:  \n",
    "\n",
    "We want to run the insilico RRBS on all the genomes, we used for the cross-mapping and expand by other possible maches.We have defined a set of speices, that are of potential interest for us as they have avaliable genomes + needed annotation tracks.\n",
    "First version of the validation_species contained only the species name and the class and was further annotated along this notebook"
   ]
  },
  {
   "cell_type": "code",
   "execution_count": 3,
   "metadata": {},
   "outputs": [
    {
     "data": {
      "text/html": [
       "'/home/lv71484/droman/DNAmeth500species/src/validation'"
      ],
      "text/latex": [
       "'/home/lv71484/droman/DNAmeth500species/src/validation'"
      ],
      "text/markdown": [
       "'/home/lv71484/droman/DNAmeth500species/src/validation'"
      ],
      "text/plain": [
       "[1] \"/home/lv71484/droman/DNAmeth500species/src/validation\""
      ]
     },
     "metadata": {},
     "output_type": "display_data"
    }
   ],
   "source": [
    "getwd()"
   ]
  },
  {
   "cell_type": "markdown",
   "metadata": {},
   "source": [
    "species from cross-mapping:"
   ]
  },
  {
   "cell_type": "code",
   "execution_count": 4,
   "metadata": {},
   "outputs": [],
   "source": [
    "df_crossmap <- fread(file.path(analysis_dir,\"validation\", \"01_crossMapping\", \"species_ucsc_matches.tsv\"))\n",
    "df_crossmap <- unique(df_crossmap[!is.na(ucsc_db), c(\"ucsc_species\", \"ucsc_db\", \"class\")])"
   ]
  },
  {
   "cell_type": "code",
   "execution_count": 5,
   "metadata": {},
   "outputs": [],
   "source": [
    "df_crossmap[, downloaded:= TRUE,]"
   ]
  },
  {
   "cell_type": "code",
   "execution_count": 6,
   "metadata": {},
   "outputs": [
    {
     "data": {
      "text/html": [
       "<table class=\"dataframe\">\n",
       "<caption>A data.table: 6 × 4</caption>\n",
       "<thead>\n",
       "\t<tr><th scope=col>ucsc_species</th><th scope=col>ucsc_db</th><th scope=col>class</th><th scope=col>downloaded</th></tr>\n",
       "\t<tr><th scope=col>&lt;chr&gt;</th><th scope=col>&lt;chr&gt;</th><th scope=col>&lt;chr&gt;</th><th scope=col>&lt;lgl&gt;</th></tr>\n",
       "</thead>\n",
       "<tbody>\n",
       "\t<tr><td>Alpaca         </td><td>vicPac2</td><td>Mammalia    </td><td>TRUE</td></tr>\n",
       "\t<tr><td>Armadillo      </td><td>dasNov3</td><td>Malacostraca</td><td>TRUE</td></tr>\n",
       "\t<tr><td>Stickleback    </td><td>gasAcu1</td><td>Actinopteri </td><td>TRUE</td></tr>\n",
       "\t<tr><td>Tasmanian devil</td><td>sarHar1</td><td>Mammalia    </td><td>TRUE</td></tr>\n",
       "\t<tr><td>Lizard         </td><td>anoCar2</td><td>Reptilia    </td><td>TRUE</td></tr>\n",
       "\t<tr><td>Budgerigar     </td><td>melUnd1</td><td>Aves        </td><td>TRUE</td></tr>\n",
       "</tbody>\n",
       "</table>\n"
      ],
      "text/latex": [
       "A data.table: 6 × 4\n",
       "\\begin{tabular}{llll}\n",
       " ucsc\\_species & ucsc\\_db & class & downloaded\\\\\n",
       " <chr> & <chr> & <chr> & <lgl>\\\\\n",
       "\\hline\n",
       "\t Alpaca          & vicPac2 & Mammalia     & TRUE\\\\\n",
       "\t Armadillo       & dasNov3 & Malacostraca & TRUE\\\\\n",
       "\t Stickleback     & gasAcu1 & Actinopteri  & TRUE\\\\\n",
       "\t Tasmanian devil & sarHar1 & Mammalia     & TRUE\\\\\n",
       "\t Lizard          & anoCar2 & Reptilia     & TRUE\\\\\n",
       "\t Budgerigar      & melUnd1 & Aves         & TRUE\\\\\n",
       "\\end{tabular}\n"
      ],
      "text/markdown": [
       "\n",
       "A data.table: 6 × 4\n",
       "\n",
       "| ucsc_species &lt;chr&gt; | ucsc_db &lt;chr&gt; | class &lt;chr&gt; | downloaded &lt;lgl&gt; |\n",
       "|---|---|---|---|\n",
       "| Alpaca          | vicPac2 | Mammalia     | TRUE |\n",
       "| Armadillo       | dasNov3 | Malacostraca | TRUE |\n",
       "| Stickleback     | gasAcu1 | Actinopteri  | TRUE |\n",
       "| Tasmanian devil | sarHar1 | Mammalia     | TRUE |\n",
       "| Lizard          | anoCar2 | Reptilia     | TRUE |\n",
       "| Budgerigar      | melUnd1 | Aves         | TRUE |\n",
       "\n"
      ],
      "text/plain": [
       "  ucsc_species    ucsc_db class        downloaded\n",
       "1 Alpaca          vicPac2 Mammalia     TRUE      \n",
       "2 Armadillo       dasNov3 Malacostraca TRUE      \n",
       "3 Stickleback     gasAcu1 Actinopteri  TRUE      \n",
       "4 Tasmanian devil sarHar1 Mammalia     TRUE      \n",
       "5 Lizard          anoCar2 Reptilia     TRUE      \n",
       "6 Budgerigar      melUnd1 Aves         TRUE      "
      ]
     },
     "metadata": {},
     "output_type": "display_data"
    }
   ],
   "source": [
    "head(df_crossmap)"
   ]
  },
  {
   "cell_type": "code",
   "execution_count": 7,
   "metadata": {},
   "outputs": [
    {
     "data": {
      "text/html": [
       "66"
      ],
      "text/latex": [
       "66"
      ],
      "text/markdown": [
       "66"
      ],
      "text/plain": [
       "[1] 66"
      ]
     },
     "metadata": {},
     "output_type": "display_data"
    }
   ],
   "source": [
    "NROW(df_crossmap)"
   ]
  },
  {
   "cell_type": "markdown",
   "metadata": {},
   "source": [
    "species of interest:"
   ]
  },
  {
   "cell_type": "code",
   "execution_count": 8,
   "metadata": {},
   "outputs": [
    {
     "data": {
      "text/html": [
       "<table class=\"dataframe\">\n",
       "<caption>A data.frame: 6 × 4</caption>\n",
       "<thead>\n",
       "\t<tr><th></th><th scope=col>species</th><th scope=col>ucsc_genome</th><th scope=col>class</th><th scope=col>scientific_name</th></tr>\n",
       "\t<tr><th></th><th scope=col>&lt;fct&gt;</th><th scope=col>&lt;fct&gt;</th><th scope=col>&lt;fct&gt;</th><th scope=col>&lt;fct&gt;</th></tr>\n",
       "</thead>\n",
       "<tbody>\n",
       "\t<tr><th scope=row>1</th><td>Human    </td><td>hg38    </td><td>Mammalia          </td><td>Homo sapiens       </td></tr>\n",
       "\t<tr><th scope=row>2</th><td>Mouse    </td><td>mm10    </td><td>Mammalia          </td><td>Mus musculus       </td></tr>\n",
       "\t<tr><th scope=row>3</th><td>Zebrafish</td><td>danRer11</td><td>Actinopteri       </td><td>Danio rerio        </td></tr>\n",
       "\t<tr><th scope=row>4</th><td>Lancelet </td><td>braFlo1 </td><td>Invertebrata      </td><td>Cephalochordata    </td></tr>\n",
       "\t<tr><th scope=row>5</th><td>Sea Hare </td><td>aplCal1 </td><td>Invertebrata      </td><td>Aplysia californica</td></tr>\n",
       "\t<tr><th scope=row>6</th><td>Lamprey  </td><td>petMar2 </td><td>Jawless Vertebrate</td><td>Petromyzon marinus </td></tr>\n",
       "</tbody>\n",
       "</table>\n"
      ],
      "text/latex": [
       "A data.frame: 6 × 4\n",
       "\\begin{tabular}{r|llll}\n",
       "  & species & ucsc\\_genome & class & scientific\\_name\\\\\n",
       "  & <fct> & <fct> & <fct> & <fct>\\\\\n",
       "\\hline\n",
       "\t1 & Human     & hg38     & Mammalia           & Homo sapiens       \\\\\n",
       "\t2 & Mouse     & mm10     & Mammalia           & Mus musculus       \\\\\n",
       "\t3 & Zebrafish & danRer11 & Actinopteri        & Danio rerio        \\\\\n",
       "\t4 & Lancelet  & braFlo1  & Invertebrata       & Cephalochordata    \\\\\n",
       "\t5 & Sea Hare  & aplCal1  & Invertebrata       & Aplysia californica\\\\\n",
       "\t6 & Lamprey   & petMar2  & Jawless Vertebrate & Petromyzon marinus \\\\\n",
       "\\end{tabular}\n"
      ],
      "text/markdown": [
       "\n",
       "A data.frame: 6 × 4\n",
       "\n",
       "| <!--/--> | species &lt;fct&gt; | ucsc_genome &lt;fct&gt; | class &lt;fct&gt; | scientific_name &lt;fct&gt; |\n",
       "|---|---|---|---|---|\n",
       "| 1 | Human     | hg38     | Mammalia           | Homo sapiens        |\n",
       "| 2 | Mouse     | mm10     | Mammalia           | Mus musculus        |\n",
       "| 3 | Zebrafish | danRer11 | Actinopteri        | Danio rerio         |\n",
       "| 4 | Lancelet  | braFlo1  | Invertebrata       | Cephalochordata     |\n",
       "| 5 | Sea Hare  | aplCal1  | Invertebrata       | Aplysia californica |\n",
       "| 6 | Lamprey   | petMar2  | Jawless Vertebrate | Petromyzon marinus  |\n",
       "\n"
      ],
      "text/plain": [
       "  species   ucsc_genome class              scientific_name    \n",
       "1 Human     hg38        Mammalia           Homo sapiens       \n",
       "2 Mouse     mm10        Mammalia           Mus musculus       \n",
       "3 Zebrafish danRer11    Actinopteri        Danio rerio        \n",
       "4 Lancelet  braFlo1     Invertebrata       Cephalochordata    \n",
       "5 Sea Hare  aplCal1     Invertebrata       Aplysia californica\n",
       "6 Lamprey   petMar2     Jawless Vertebrate Petromyzon marinus "
      ]
     },
     "metadata": {},
     "output_type": "display_data"
    }
   ],
   "source": [
    "df <- read.csv(\"../../validation/meta/validation_species.csv\", sep = \";\")\n",
    "head(df)"
   ]
  },
  {
   "cell_type": "code",
   "execution_count": 9,
   "metadata": {},
   "outputs": [],
   "source": [
    "df_full <- full_join(df_crossmap, df, by = c(\"ucsc_db\" = \"ucsc_genome\", \"class\" = \"class\" ))"
   ]
  },
  {
   "cell_type": "code",
   "execution_count": 10,
   "metadata": {},
   "outputs": [
    {
     "data": {
      "text/html": [
       "81"
      ],
      "text/latex": [
       "81"
      ],
      "text/markdown": [
       "81"
      ],
      "text/plain": [
       "[1] 81"
      ]
     },
     "metadata": {},
     "output_type": "display_data"
    }
   ],
   "source": [
    "NROW(df_full)"
   ]
  },
  {
   "cell_type": "code",
   "execution_count": 11,
   "metadata": {},
   "outputs": [],
   "source": [
    "setDT(df_full)"
   ]
  },
  {
   "cell_type": "code",
   "execution_count": 12,
   "metadata": {},
   "outputs": [
    {
     "data": {
      "text/html": [
       "<table class=\"dataframe\">\n",
       "<caption>A data.table: 3 × 6</caption>\n",
       "<thead>\n",
       "\t<tr><th scope=col>ucsc_species</th><th scope=col>ucsc_db</th><th scope=col>class</th><th scope=col>downloaded</th><th scope=col>species</th><th scope=col>scientific_name</th></tr>\n",
       "\t<tr><th scope=col>&lt;chr&gt;</th><th scope=col>&lt;chr&gt;</th><th scope=col>&lt;chr&gt;</th><th scope=col>&lt;lgl&gt;</th><th scope=col>&lt;fct&gt;</th><th scope=col>&lt;fct&gt;</th></tr>\n",
       "</thead>\n",
       "<tbody>\n",
       "\t<tr><td>Budgerigar    </td><td>melUnd1</td><td>Aves    </td><td>TRUE</td><td>Budgeriger          </td><td>Melopsittacus undulatus</td></tr>\n",
       "\t<tr><td>Naked mole-rat</td><td>hetGla2</td><td>Mammalia</td><td>TRUE</td><td>Naked mole rat      </td><td>Heterocephalus glaber  </td></tr>\n",
       "\t<tr><td>X. tropicalis </td><td>xenTro9</td><td>Amphibia</td><td>TRUE</td><td>Tropical clawed frog</td><td>Xenopus tropicalis     </td></tr>\n",
       "</tbody>\n",
       "</table>\n"
      ],
      "text/latex": [
       "A data.table: 3 × 6\n",
       "\\begin{tabular}{llllll}\n",
       " ucsc\\_species & ucsc\\_db & class & downloaded & species & scientific\\_name\\\\\n",
       " <chr> & <chr> & <chr> & <lgl> & <fct> & <fct>\\\\\n",
       "\\hline\n",
       "\t Budgerigar     & melUnd1 & Aves     & TRUE & Budgeriger           & Melopsittacus undulatus\\\\\n",
       "\t Naked mole-rat & hetGla2 & Mammalia & TRUE & Naked mole rat       & Heterocephalus glaber  \\\\\n",
       "\t X. tropicalis  & xenTro9 & Amphibia & TRUE & Tropical clawed frog & Xenopus tropicalis     \\\\\n",
       "\\end{tabular}\n"
      ],
      "text/markdown": [
       "\n",
       "A data.table: 3 × 6\n",
       "\n",
       "| ucsc_species &lt;chr&gt; | ucsc_db &lt;chr&gt; | class &lt;chr&gt; | downloaded &lt;lgl&gt; | species &lt;fct&gt; | scientific_name &lt;fct&gt; |\n",
       "|---|---|---|---|---|---|\n",
       "| Budgerigar     | melUnd1 | Aves     | TRUE | Budgeriger           | Melopsittacus undulatus |\n",
       "| Naked mole-rat | hetGla2 | Mammalia | TRUE | Naked mole rat       | Heterocephalus glaber   |\n",
       "| X. tropicalis  | xenTro9 | Amphibia | TRUE | Tropical clawed frog | Xenopus tropicalis      |\n",
       "\n"
      ],
      "text/plain": [
       "  ucsc_species   ucsc_db class    downloaded species             \n",
       "1 Budgerigar     melUnd1 Aves     TRUE       Budgeriger          \n",
       "2 Naked mole-rat hetGla2 Mammalia TRUE       Naked mole rat      \n",
       "3 X. tropicalis  xenTro9 Amphibia TRUE       Tropical clawed frog\n",
       "  scientific_name        \n",
       "1 Melopsittacus undulatus\n",
       "2 Heterocephalus glaber  \n",
       "3 Xenopus tropicalis     "
      ]
     },
     "metadata": {},
     "output_type": "display_data"
    }
   ],
   "source": [
    "df_full[species != ucsc_species]"
   ]
  },
  {
   "cell_type": "markdown",
   "metadata": {},
   "source": [
    "-> all the names make sense"
   ]
  },
  {
   "cell_type": "code",
   "execution_count": 13,
   "metadata": {},
   "outputs": [
    {
     "data": {
      "text/html": [
       "<table class=\"dataframe\">\n",
       "<caption>A data.table: 6 × 6</caption>\n",
       "<thead>\n",
       "\t<tr><th scope=col>ucsc_species</th><th scope=col>ucsc_db</th><th scope=col>class</th><th scope=col>downloaded</th><th scope=col>species</th><th scope=col>scientific_name</th></tr>\n",
       "\t<tr><th scope=col>&lt;chr&gt;</th><th scope=col>&lt;chr&gt;</th><th scope=col>&lt;chr&gt;</th><th scope=col>&lt;lgl&gt;</th><th scope=col>&lt;fct&gt;</th><th scope=col>&lt;fct&gt;</th></tr>\n",
       "</thead>\n",
       "<tbody>\n",
       "\t<tr><td>Alpaca         </td><td>vicPac2</td><td>Mammalia    </td><td>TRUE</td><td>NA        </td><td>NA                     </td></tr>\n",
       "\t<tr><td>Armadillo      </td><td>dasNov3</td><td>Malacostraca</td><td>TRUE</td><td>NA        </td><td>NA                     </td></tr>\n",
       "\t<tr><td>Stickleback    </td><td>gasAcu1</td><td>Actinopteri </td><td>TRUE</td><td>NA        </td><td>NA                     </td></tr>\n",
       "\t<tr><td>Tasmanian devil</td><td>sarHar1</td><td>Mammalia    </td><td>TRUE</td><td>NA        </td><td>NA                     </td></tr>\n",
       "\t<tr><td>Lizard         </td><td>anoCar2</td><td>Reptilia    </td><td>TRUE</td><td>Lizard    </td><td>Anolis carolinensis    </td></tr>\n",
       "\t<tr><td>Budgerigar     </td><td>melUnd1</td><td>Aves        </td><td>TRUE</td><td>Budgeriger</td><td>Melopsittacus undulatus</td></tr>\n",
       "</tbody>\n",
       "</table>\n"
      ],
      "text/latex": [
       "A data.table: 6 × 6\n",
       "\\begin{tabular}{llllll}\n",
       " ucsc\\_species & ucsc\\_db & class & downloaded & species & scientific\\_name\\\\\n",
       " <chr> & <chr> & <chr> & <lgl> & <fct> & <fct>\\\\\n",
       "\\hline\n",
       "\t Alpaca          & vicPac2 & Mammalia     & TRUE & NA         & NA                     \\\\\n",
       "\t Armadillo       & dasNov3 & Malacostraca & TRUE & NA         & NA                     \\\\\n",
       "\t Stickleback     & gasAcu1 & Actinopteri  & TRUE & NA         & NA                     \\\\\n",
       "\t Tasmanian devil & sarHar1 & Mammalia     & TRUE & NA         & NA                     \\\\\n",
       "\t Lizard          & anoCar2 & Reptilia     & TRUE & Lizard     & Anolis carolinensis    \\\\\n",
       "\t Budgerigar      & melUnd1 & Aves         & TRUE & Budgeriger & Melopsittacus undulatus\\\\\n",
       "\\end{tabular}\n"
      ],
      "text/markdown": [
       "\n",
       "A data.table: 6 × 6\n",
       "\n",
       "| ucsc_species &lt;chr&gt; | ucsc_db &lt;chr&gt; | class &lt;chr&gt; | downloaded &lt;lgl&gt; | species &lt;fct&gt; | scientific_name &lt;fct&gt; |\n",
       "|---|---|---|---|---|---|\n",
       "| Alpaca          | vicPac2 | Mammalia     | TRUE | NA         | NA                      |\n",
       "| Armadillo       | dasNov3 | Malacostraca | TRUE | NA         | NA                      |\n",
       "| Stickleback     | gasAcu1 | Actinopteri  | TRUE | NA         | NA                      |\n",
       "| Tasmanian devil | sarHar1 | Mammalia     | TRUE | NA         | NA                      |\n",
       "| Lizard          | anoCar2 | Reptilia     | TRUE | Lizard     | Anolis carolinensis     |\n",
       "| Budgerigar      | melUnd1 | Aves         | TRUE | Budgeriger | Melopsittacus undulatus |\n",
       "\n"
      ],
      "text/plain": [
       "  ucsc_species    ucsc_db class        downloaded species   \n",
       "1 Alpaca          vicPac2 Mammalia     TRUE       NA        \n",
       "2 Armadillo       dasNov3 Malacostraca TRUE       NA        \n",
       "3 Stickleback     gasAcu1 Actinopteri  TRUE       NA        \n",
       "4 Tasmanian devil sarHar1 Mammalia     TRUE       NA        \n",
       "5 Lizard          anoCar2 Reptilia     TRUE       Lizard    \n",
       "6 Budgerigar      melUnd1 Aves         TRUE       Budgeriger\n",
       "  scientific_name        \n",
       "1 NA                     \n",
       "2 NA                     \n",
       "3 NA                     \n",
       "4 NA                     \n",
       "5 Anolis carolinensis    \n",
       "6 Melopsittacus undulatus"
      ]
     },
     "metadata": {},
     "output_type": "display_data"
    }
   ],
   "source": [
    "head(df_full)"
   ]
  },
  {
   "cell_type": "code",
   "execution_count": 14,
   "metadata": {},
   "outputs": [],
   "source": [
    "df_full[is.na(ucsc_species),ucsc_species:=species, by = row.names(df_full[is.na(ucsc_species)])]"
   ]
  },
  {
   "cell_type": "code",
   "execution_count": 15,
   "metadata": {},
   "outputs": [
    {
     "name": "stderr",
     "output_type": "stream",
     "text": [
      "Warning message in dir.create(wd):\n",
      "“'/binfl/lv71484/droman/DNAmeth500species//results_analysis/validation/02_insilico_digest' already exists”\n"
     ]
    }
   ],
   "source": [
    "wd <- file.path(analysis_dir,\"validation\", \"02_insilico_digest\")\n",
    "dir.create(wd)\n",
    "setwd(wd)"
   ]
  },
  {
   "cell_type": "markdown",
   "metadata": {},
   "source": [
    "## Download the genome tracks for every selected genome:\n",
    "Takes a while"
   ]
  },
  {
   "cell_type": "code",
   "execution_count": 16,
   "metadata": {},
   "outputs": [],
   "source": [
    "output_dir <- file.path(data_dir, \"resources\", \"reference_genomes\")"
   ]
  },
  {
   "cell_type": "code",
   "execution_count": 18,
   "metadata": {},
   "outputs": [],
   "source": [
    "getTrack <- function(UCSC_session, track_id, dir_out, genome_id){\n",
    "    my_track <- track(ucscTableQuery(UCSC_session, track=UCSCnames[track_id]))\n",
    "    export.bed(my_track, file.path(dir_out, \n",
    "                    paste0(genome_id, \"_\", UCSCnames[track_id],\".bed\")))\n",
    "}"
   ]
  },
  {
   "cell_type": "code",
   "execution_count": 37,
   "metadata": {
    "tags": []
   },
   "outputs": [
    {
     "name": "stdout",
     "output_type": "stream",
     "text": [
      "[1] \"Chimp\"\n"
     ]
    },
    {
     "name": "stderr",
     "output_type": "stream",
     "text": [
      "Warning message in dir.create(dir_out, recursive = TRUE):\n",
      "“'/binfl/lv71484/droman/DNAmeth500species//resources/reference_genomes/panTro6/tracks' already exists”\n"
     ]
    },
    {
     "name": "stdout",
     "output_type": "stream",
     "text": [
      "[1] \"panTro6\"\n",
      "[1] \"Bonobo\"\n",
      "[1] \"panPan2\"\n",
      "[1] \"Shrew\"\n",
      "[1] \"sorAra2\"\n"
     ]
    }
   ],
   "source": [
    "for (i in c(78,79,80)){\n",
    "    print(as.character(df_full[i]$ucsc_species))\n",
    "    #where to save tracks\n",
    "    dir_out <- file.path(output_dir, df_full[i]$ucsc_db,  \"tracks\")\n",
    "    dir.create(dir_out, recursive = TRUE)\n",
    "    \n",
    "    #new rtracklayer seccion\n",
    "    mySession <- browserSession()\n",
    "    genome(mySession) <- df_full[i]$ucsc_db\n",
    "    \n",
    "    ##UCSC browser available tracks\n",
    "    UCSCnames <- trackNames(ucscTableQuery(mySession))\n",
    "    \n",
    "    ## download CpGs:\n",
    "    if(!\"CpG Islands\" %in% names(UCSCnames)) print(paste0(\"CpG islands not available for \",df_full[i]$ucsc_db))\n",
    "    else getTrack(mySession, \"CpG Islands\", dir_out, df_full[i]$ucsc_db)\n",
    "    \n",
    "    ##download repeats:\n",
    "    if(!\"RepeatMasker\" %in% names(UCSCnames)){\n",
    "    print(paste0(\"RepeatMasker not available for \",df_full[i]$ucsc_db))\n",
    "        \n",
    "    if(\"simpleRepeat\" %in% names(UCSCnames)) getTrack(mySession, \"Simple Repeats\", dir_out, df_full[i]$ucsc_db)\n",
    "    else print(\"also no simpleRepeat\")\n",
    "    }\n",
    "    else getTrack(mySession, \"RepeatMasker\", dir_out, df_full[i]$ucsc_db)\n",
    "    \n",
    "    ## gene annotation:\n",
    "    possible_ids <- c(\"NCBI RefSeq\", \"RefSeq Genes\",\"Ensembl Gene\", \"Other RefSeq\", \"AUGUSTUS\", \"Genscan Genes\")\n",
    "    k = 1\n",
    "    while(!possible_ids[k] %in% names(UCSCnames) & k <= length(possible_ids)){\n",
    "        k <- k+1\n",
    "    }\n",
    "    if(k > length(possible_ids)) print(paste0(\"no gene annotation available for \", df_full[i]$ucsc_db))\n",
    "    else{\n",
    "        getTrack(mySession, possible_ids[k], dir_out, df_full[i]$ucsc_db)\n",
    "    }\n",
    "\n",
    "   \n",
    "    print(df_full[i]$ucsc_db)\n",
    "}"
   ]
  },
  {
   "cell_type": "markdown",
   "metadata": {},
   "source": [
    "## saving which information was avaliable for which genome:"
   ]
  },
  {
   "cell_type": "code",
   "execution_count": 72,
   "metadata": {},
   "outputs": [],
   "source": [
    "tracks_list <- sapply(df_full$ucsc_db, function(x) \n",
    "    gsub(\".bed\", \"\", gsub(paste0(x, \"_\"), \"\",\n",
    "                      list.files(file.path(output_dir, x,  \"tracks\")))))"
   ]
  },
  {
   "cell_type": "code",
   "execution_count": 73,
   "metadata": {},
   "outputs": [
    {
     "data": {
      "text/html": [],
      "text/latex": [],
      "text/markdown": [],
      "text/plain": [
       "named integer(0)"
      ]
     },
     "metadata": {},
     "output_type": "display_data"
    }
   ],
   "source": [
    "#where we have nothing (need to check by hand)\n",
    "which(sapply(tracks_list, function(x) length(x)==0))"
   ]
  },
  {
   "cell_type": "code",
   "execution_count": 74,
   "metadata": {},
   "outputs": [],
   "source": [
    "##for other\n",
    "colnames_tracks <- unique(unlist(tracks_list,use.names=FALSE))\n",
    "tracks_present <- setNames(data.table(matrix(nrow = 0, ncol = length(colnames_tracks))),\n",
    "                           colnames_tracks)\n",
    "\n",
    "for(i in seq_along(tracks_list)){\n",
    "temp_dt <- setNames(data.table(matrix(1, nrow = 1, ncol = length(tracks_list[[i]]))),\n",
    "                    tracks_list[[i]])\n",
    "\n",
    "  tracks_present <- rbind(tracks_present, temp_dt, fill = TRUE)\n",
    "}\n",
    "\n",
    "tracks_present[, ucsc_db := names(tracks_list[sapply(tracks_list, function(x) length(x) > 0)]),]\n"
   ]
  },
  {
   "cell_type": "code",
   "execution_count": 75,
   "metadata": {},
   "outputs": [
    {
     "data": {
      "text/html": [
       "<style>\n",
       ".list-inline {list-style: none; margin:0; padding: 0}\n",
       ".list-inline>li {display: inline-block}\n",
       ".list-inline>li:not(:last-child)::after {content: \"\\00b7\"; padding: 0 .5ex}\n",
       "</style>\n",
       "<ol class=list-inline><li>'cpgIslandExt'</li><li>'refGene'</li><li>'rmsk'</li><li>'refSeqComposite'</li><li>'xenoRefGene'</li><li>'simpleRepeat'</li><li>'ucsc_db'</li></ol>\n"
      ],
      "text/latex": [
       "\\begin{enumerate*}\n",
       "\\item 'cpgIslandExt'\n",
       "\\item 'refGene'\n",
       "\\item 'rmsk'\n",
       "\\item 'refSeqComposite'\n",
       "\\item 'xenoRefGene'\n",
       "\\item 'simpleRepeat'\n",
       "\\item 'ucsc\\_db'\n",
       "\\end{enumerate*}\n"
      ],
      "text/markdown": [
       "1. 'cpgIslandExt'\n",
       "2. 'refGene'\n",
       "3. 'rmsk'\n",
       "4. 'refSeqComposite'\n",
       "5. 'xenoRefGene'\n",
       "6. 'simpleRepeat'\n",
       "7. 'ucsc_db'\n",
       "\n",
       "\n"
      ],
      "text/plain": [
       "[1] \"cpgIslandExt\"    \"refGene\"         \"rmsk\"            \"refSeqComposite\"\n",
       "[5] \"xenoRefGene\"     \"simpleRepeat\"    \"ucsc_db\"        "
      ]
     },
     "metadata": {},
     "output_type": "display_data"
    }
   ],
   "source": [
    "colnames(tracks_present)"
   ]
  },
  {
   "cell_type": "code",
   "execution_count": 76,
   "metadata": {},
   "outputs": [
    {
     "data": {
      "text/html": [],
      "text/latex": [],
      "text/markdown": [],
      "text/plain": [
       "character(0)"
      ]
     },
     "metadata": {},
     "output_type": "display_data"
    }
   ],
   "source": [
    "##check if we have gene annotation for all\n",
    " tracks_present[is.na(refSeqComposite) & is.na(refGene) & is.na(xenoRefGene)]$ucsc_db"
   ]
  },
  {
   "cell_type": "code",
   "execution_count": 77,
   "metadata": {},
   "outputs": [
    {
     "data": {
      "text/html": [
       "<table class=\"dataframe\">\n",
       "<caption>A data.table: 0 × 7</caption>\n",
       "<thead>\n",
       "\t<tr><th scope=col>cpgIslandExt</th><th scope=col>refGene</th><th scope=col>rmsk</th><th scope=col>refSeqComposite</th><th scope=col>xenoRefGene</th><th scope=col>simpleRepeat</th><th scope=col>ucsc_db</th></tr>\n",
       "\t<tr><th scope=col>&lt;dbl&gt;</th><th scope=col>&lt;dbl&gt;</th><th scope=col>&lt;dbl&gt;</th><th scope=col>&lt;dbl&gt;</th><th scope=col>&lt;dbl&gt;</th><th scope=col>&lt;dbl&gt;</th><th scope=col>&lt;chr&gt;</th></tr>\n",
       "</thead>\n",
       "<tbody>\n",
       "</tbody>\n",
       "</table>\n"
      ],
      "text/latex": [
       "A data.table: 0 × 7\n",
       "\\begin{tabular}{lllllll}\n",
       " cpgIslandExt & refGene & rmsk & refSeqComposite & xenoRefGene & simpleRepeat & ucsc\\_db\\\\\n",
       " <dbl> & <dbl> & <dbl> & <dbl> & <dbl> & <dbl> & <chr>\\\\\n",
       "\\hline\n",
       "\\end{tabular}\n"
      ],
      "text/markdown": [
       "\n",
       "A data.table: 0 × 7\n",
       "\n",
       "| cpgIslandExt &lt;dbl&gt; | refGene &lt;dbl&gt; | rmsk &lt;dbl&gt; | refSeqComposite &lt;dbl&gt; | xenoRefGene &lt;dbl&gt; | simpleRepeat &lt;dbl&gt; | ucsc_db &lt;chr&gt; |\n",
       "|---|---|---|---|---|---|---|\n",
       "\n"
      ],
      "text/plain": [
       "     cpgIslandExt refGene rmsk refSeqComposite xenoRefGene simpleRepeat ucsc_db"
      ]
     },
     "metadata": {},
     "output_type": "display_data"
    }
   ],
   "source": [
    "## repeats\n",
    " tracks_present[(is.na(rmsk) & is.na(simpleRepeat))]"
   ]
  },
  {
   "cell_type": "code",
   "execution_count": 78,
   "metadata": {},
   "outputs": [
    {
     "data": {
      "text/html": [
       "<table class=\"dataframe\">\n",
       "<caption>A data.table: 7 × 7</caption>\n",
       "<thead>\n",
       "\t<tr><th scope=col>cpgIslandExt</th><th scope=col>refGene</th><th scope=col>rmsk</th><th scope=col>refSeqComposite</th><th scope=col>xenoRefGene</th><th scope=col>simpleRepeat</th><th scope=col>ucsc_db</th></tr>\n",
       "\t<tr><th scope=col>&lt;dbl&gt;</th><th scope=col>&lt;dbl&gt;</th><th scope=col>&lt;dbl&gt;</th><th scope=col>&lt;dbl&gt;</th><th scope=col>&lt;dbl&gt;</th><th scope=col>&lt;dbl&gt;</th><th scope=col>&lt;chr&gt;</th></tr>\n",
       "</thead>\n",
       "<tbody>\n",
       "\t<tr><td>NA</td><td> 1</td><td> 1</td><td>NA</td><td>NA</td><td>NA</td><td>gasAcu1</td></tr>\n",
       "\t<tr><td>NA</td><td>NA</td><td> 1</td><td>NA</td><td> 1</td><td> 1</td><td>macEug2</td></tr>\n",
       "\t<tr><td>NA</td><td>NA</td><td> 1</td><td> 1</td><td>NA</td><td>NA</td><td>loxAfr3</td></tr>\n",
       "\t<tr><td>NA</td><td> 1</td><td> 1</td><td>NA</td><td>NA</td><td>NA</td><td>strPur2</td></tr>\n",
       "\t<tr><td>NA</td><td> 1</td><td> 1</td><td>NA</td><td>NA</td><td>NA</td><td>oryLat2</td></tr>\n",
       "\t<tr><td>NA</td><td>NA</td><td>NA</td><td>NA</td><td> 1</td><td> 1</td><td>braFlo1</td></tr>\n",
       "\t<tr><td>NA</td><td>NA</td><td> 1</td><td>NA</td><td> 1</td><td> 1</td><td>macEug2</td></tr>\n",
       "</tbody>\n",
       "</table>\n"
      ],
      "text/latex": [
       "A data.table: 7 × 7\n",
       "\\begin{tabular}{lllllll}\n",
       " cpgIslandExt & refGene & rmsk & refSeqComposite & xenoRefGene & simpleRepeat & ucsc\\_db\\\\\n",
       " <dbl> & <dbl> & <dbl> & <dbl> & <dbl> & <dbl> & <chr>\\\\\n",
       "\\hline\n",
       "\t NA &  1 &  1 & NA & NA & NA & gasAcu1\\\\\n",
       "\t NA & NA &  1 & NA &  1 &  1 & macEug2\\\\\n",
       "\t NA & NA &  1 &  1 & NA & NA & loxAfr3\\\\\n",
       "\t NA &  1 &  1 & NA & NA & NA & strPur2\\\\\n",
       "\t NA &  1 &  1 & NA & NA & NA & oryLat2\\\\\n",
       "\t NA & NA & NA & NA &  1 &  1 & braFlo1\\\\\n",
       "\t NA & NA &  1 & NA &  1 &  1 & macEug2\\\\\n",
       "\\end{tabular}\n"
      ],
      "text/markdown": [
       "\n",
       "A data.table: 7 × 7\n",
       "\n",
       "| cpgIslandExt &lt;dbl&gt; | refGene &lt;dbl&gt; | rmsk &lt;dbl&gt; | refSeqComposite &lt;dbl&gt; | xenoRefGene &lt;dbl&gt; | simpleRepeat &lt;dbl&gt; | ucsc_db &lt;chr&gt; |\n",
       "|---|---|---|---|---|---|---|\n",
       "| NA |  1 |  1 | NA | NA | NA | gasAcu1 |\n",
       "| NA | NA |  1 | NA |  1 |  1 | macEug2 |\n",
       "| NA | NA |  1 |  1 | NA | NA | loxAfr3 |\n",
       "| NA |  1 |  1 | NA | NA | NA | strPur2 |\n",
       "| NA |  1 |  1 | NA | NA | NA | oryLat2 |\n",
       "| NA | NA | NA | NA |  1 |  1 | braFlo1 |\n",
       "| NA | NA |  1 | NA |  1 |  1 | macEug2 |\n",
       "\n"
      ],
      "text/plain": [
       "  cpgIslandExt refGene rmsk refSeqComposite xenoRefGene simpleRepeat ucsc_db\n",
       "1 NA            1       1   NA              NA          NA           gasAcu1\n",
       "2 NA           NA       1   NA               1           1           macEug2\n",
       "3 NA           NA       1    1              NA          NA           loxAfr3\n",
       "4 NA            1       1   NA              NA          NA           strPur2\n",
       "5 NA            1       1   NA              NA          NA           oryLat2\n",
       "6 NA           NA      NA   NA               1           1           braFlo1\n",
       "7 NA           NA       1   NA               1           1           macEug2"
      ]
     },
     "metadata": {},
     "output_type": "display_data"
    }
   ],
   "source": [
    "## cpg islands\n",
    " tracks_present[is.na(cpgIslandExt)]"
   ]
  },
  {
   "cell_type": "code",
   "execution_count": 82,
   "metadata": {},
   "outputs": [
    {
     "data": {
      "text/html": [
       "'/binfl/lv71484/droman/DNAmeth500species/results_analysis/validation/02_insilico_digest'"
      ],
      "text/latex": [
       "'/binfl/lv71484/droman/DNAmeth500species/results\\_analysis/validation/02\\_insilico\\_digest'"
      ],
      "text/markdown": [
       "'/binfl/lv71484/droman/DNAmeth500species/results_analysis/validation/02_insilico_digest'"
      ],
      "text/plain": [
       "[1] \"/binfl/lv71484/droman/DNAmeth500species/results_analysis/validation/02_insilico_digest\""
      ]
     },
     "metadata": {},
     "output_type": "display_data"
    }
   ],
   "source": [
    "getwd()"
   ]
  },
  {
   "cell_type": "code",
   "execution_count": 81,
   "metadata": {},
   "outputs": [],
   "source": [
    "my_wt(tracks_present, file.path(analysis_dir, \"validation\",\"02_insilico_digest\",\"tracks_present.tsv\"))"
   ]
  },
  {
   "cell_type": "markdown",
   "metadata": {},
   "source": [
    "## Rerunning the concat script to download and concat genomes"
   ]
  },
  {
   "cell_type": "code",
   "execution_count": 47,
   "metadata": {},
   "outputs": [],
   "source": [
    "write.table(df_full[is.na(downloaded), c(\"ucsc_db\", \"ucsc_species\")],\"genomes_ucsc_todownload_for_insilico.tsv\", sep = \"\\t\", row.names = F, col.names = F, quote = F )"
   ]
  },
  {
   "cell_type": "markdown",
   "metadata": {},
   "source": [
    "## Saving the table which genomes to run the insilico digestion on"
   ]
  },
  {
   "cell_type": "code",
   "execution_count": 84,
   "metadata": {},
   "outputs": [],
   "source": [
    "my_wt(df_full[, c(\"ucsc_db\", \"ucsc_species\", \"species\", \"scientific_name\", \"class\")], \"genomes_to_run.tsv\")"
   ]
  },
  {
   "cell_type": "code",
   "execution_count": 85,
   "metadata": {},
   "outputs": [
    {
     "data": {
      "text/html": [
       "81"
      ],
      "text/latex": [
       "81"
      ],
      "text/markdown": [
       "81"
      ],
      "text/plain": [
       "[1] 81"
      ]
     },
     "metadata": {},
     "output_type": "display_data"
    }
   ],
   "source": [
    "NROW(df_full)"
   ]
  }
 ],
 "metadata": {
  "kernelspec": {
   "display_name": "Zoo_R",
   "language": "R",
   "name": "zoo_r"
  },
  "language_info": {
   "codemirror_mode": "r",
   "file_extension": ".r",
   "mimetype": "text/x-r-source",
   "name": "R",
   "pygments_lexer": "r",
   "version": "3.6.1"
  }
 },
 "nbformat": 4,
 "nbformat_minor": 4
}
