{
 "cells": [
  {
   "cell_type": "code",
   "execution_count": 2,
   "metadata": {},
   "outputs": [
    {
     "name": "stderr",
     "output_type": "stream",
     "text": [
      "Joining, by = \"species\"\n",
      "\n"
     ]
    }
   ],
   "source": [
    "source(file.path(Sys.getenv(\"CODEBASE\"),\"DNAmeth500species/src/00.0_init.R\"))\n",
    "library(plyr)\n",
    "library(RColorBrewer)\n",
    "library(pheatmap)\n",
    "\n",
    "\n",
    "wd = file.path(analysis_dir, \"03_motifAnalysis/03.7_AME\")\n",
    "setwd(wd)"
   ]
  },
  {
   "cell_type": "code",
   "execution_count": 4,
   "metadata": {},
   "outputs": [],
   "source": [
    "tf_annot <- read.csv(\"../JASPAR.csv\", sep = \";\")"
   ]
  },
  {
   "cell_type": "code",
   "execution_count": 5,
   "metadata": {},
   "outputs": [
    {
     "data": {
      "text/html": [
       "<table>\n",
       "<caption>A data.frame: 6 × 12</caption>\n",
       "<thead>\n",
       "\t<tr><th></th><th scope=col>ID</th><th scope=col>Name</th><th scope=col>Species</th><th scope=col>Class</th><th scope=col>Family</th><th scope=col>Logo</th><th scope=col>X</th><th scope=col>X.1</th><th scope=col>X.2</th><th scope=col>X.3</th><th scope=col>X.4</th><th scope=col>X.5</th></tr>\n",
       "\t<tr><th></th><th scope=col>&lt;chr&gt;</th><th scope=col>&lt;chr&gt;</th><th scope=col>&lt;chr&gt;</th><th scope=col>&lt;chr&gt;</th><th scope=col>&lt;chr&gt;</th><th scope=col>&lt;lgl&gt;</th><th scope=col>&lt;chr&gt;</th><th scope=col>&lt;chr&gt;</th><th scope=col>&lt;chr&gt;</th><th scope=col>&lt;chr&gt;</th><th scope=col>&lt;chr&gt;</th><th scope=col>&lt;chr&gt;</th></tr>\n",
       "</thead>\n",
       "<tbody>\n",
       "\t<tr><th scope=row>4</th><td>MA0007.2</td><td>AR   </td><td>Homo sapiens</td><td>Nuclear receptors with C4 zinc fingers</td><td>Steroid hormone receptors (NR3)</td><td>NA</td><td></td><td></td><td></td><td></td><td></td><td></td></tr>\n",
       "\t<tr><th scope=row>6</th><td>MA0018.1</td><td>CREB1</td><td>Homo sapiens</td><td>Basic leucine zipper factors (bZIP)   </td><td>CREB-related factors           </td><td>NA</td><td></td><td></td><td></td><td></td><td></td><td></td></tr>\n",
       "\t<tr><th scope=row>8</th><td>MA0018.3</td><td>CREB1</td><td>Homo sapiens</td><td>Basic leucine zipper factors (bZIP)   </td><td>CREB-related factors           </td><td>NA</td><td></td><td></td><td></td><td></td><td></td><td></td></tr>\n",
       "\t<tr><th scope=row>9</th><td>MA0018.4</td><td>CREB1</td><td>Homo sapiens</td><td>Basic leucine zipper factors (bZIP)   </td><td>CREB-related factors           </td><td>NA</td><td></td><td></td><td></td><td></td><td></td><td></td></tr>\n",
       "\t<tr><th scope=row>11</th><td>MA0024.1</td><td>E2F1 </td><td>Homo sapiens</td><td>Fork head / winged helix factors      </td><td>E2F-related factors            </td><td>NA</td><td></td><td></td><td></td><td></td><td></td><td></td></tr>\n",
       "\t<tr><th scope=row>12</th><td>MA0024.2</td><td>E2F1 </td><td>Homo sapiens</td><td>Fork head / winged helix factors      </td><td>E2F-related factors            </td><td>NA</td><td></td><td></td><td></td><td></td><td></td><td></td></tr>\n",
       "</tbody>\n",
       "</table>\n"
      ],
      "text/latex": [
       "A data.frame: 6 × 12\n",
       "\\begin{tabular}{r|llllllllllll}\n",
       "  & ID & Name & Species & Class & Family & Logo & X & X.1 & X.2 & X.3 & X.4 & X.5\\\\\n",
       "  & <chr> & <chr> & <chr> & <chr> & <chr> & <lgl> & <chr> & <chr> & <chr> & <chr> & <chr> & <chr>\\\\\n",
       "\\hline\n",
       "\t4 & MA0007.2 & AR    & Homo sapiens & Nuclear receptors with C4 zinc fingers & Steroid hormone receptors (NR3) & NA &  &  &  &  &  & \\\\\n",
       "\t6 & MA0018.1 & CREB1 & Homo sapiens & Basic leucine zipper factors (bZIP)    & CREB-related factors            & NA &  &  &  &  &  & \\\\\n",
       "\t8 & MA0018.3 & CREB1 & Homo sapiens & Basic leucine zipper factors (bZIP)    & CREB-related factors            & NA &  &  &  &  &  & \\\\\n",
       "\t9 & MA0018.4 & CREB1 & Homo sapiens & Basic leucine zipper factors (bZIP)    & CREB-related factors            & NA &  &  &  &  &  & \\\\\n",
       "\t11 & MA0024.1 & E2F1  & Homo sapiens & Fork head / winged helix factors       & E2F-related factors             & NA &  &  &  &  &  & \\\\\n",
       "\t12 & MA0024.2 & E2F1  & Homo sapiens & Fork head / winged helix factors       & E2F-related factors             & NA &  &  &  &  &  & \\\\\n",
       "\\end{tabular}\n"
      ],
      "text/markdown": [
       "\n",
       "A data.frame: 6 × 12\n",
       "\n",
       "| <!--/--> | ID &lt;chr&gt; | Name &lt;chr&gt; | Species &lt;chr&gt; | Class &lt;chr&gt; | Family &lt;chr&gt; | Logo &lt;lgl&gt; | X &lt;chr&gt; | X.1 &lt;chr&gt; | X.2 &lt;chr&gt; | X.3 &lt;chr&gt; | X.4 &lt;chr&gt; | X.5 &lt;chr&gt; |\n",
       "|---|---|---|---|---|---|---|---|---|---|---|---|---|\n",
       "| 4 | MA0007.2 | AR    | Homo sapiens | Nuclear receptors with C4 zinc fingers | Steroid hormone receptors (NR3) | NA | <!----> | <!----> | <!----> | <!----> | <!----> | <!----> |\n",
       "| 6 | MA0018.1 | CREB1 | Homo sapiens | Basic leucine zipper factors (bZIP)    | CREB-related factors            | NA | <!----> | <!----> | <!----> | <!----> | <!----> | <!----> |\n",
       "| 8 | MA0018.3 | CREB1 | Homo sapiens | Basic leucine zipper factors (bZIP)    | CREB-related factors            | NA | <!----> | <!----> | <!----> | <!----> | <!----> | <!----> |\n",
       "| 9 | MA0018.4 | CREB1 | Homo sapiens | Basic leucine zipper factors (bZIP)    | CREB-related factors            | NA | <!----> | <!----> | <!----> | <!----> | <!----> | <!----> |\n",
       "| 11 | MA0024.1 | E2F1  | Homo sapiens | Fork head / winged helix factors       | E2F-related factors             | NA | <!----> | <!----> | <!----> | <!----> | <!----> | <!----> |\n",
       "| 12 | MA0024.2 | E2F1  | Homo sapiens | Fork head / winged helix factors       | E2F-related factors             | NA | <!----> | <!----> | <!----> | <!----> | <!----> | <!----> |\n",
       "\n"
      ],
      "text/plain": [
       "   ID       Name  Species      Class                                 \n",
       "4  MA0007.2 AR    Homo sapiens Nuclear receptors with C4 zinc fingers\n",
       "6  MA0018.1 CREB1 Homo sapiens Basic leucine zipper factors (bZIP)   \n",
       "8  MA0018.3 CREB1 Homo sapiens Basic leucine zipper factors (bZIP)   \n",
       "9  MA0018.4 CREB1 Homo sapiens Basic leucine zipper factors (bZIP)   \n",
       "11 MA0024.1 E2F1  Homo sapiens Fork head / winged helix factors      \n",
       "12 MA0024.2 E2F1  Homo sapiens Fork head / winged helix factors      \n",
       "   Family                          Logo X X.1 X.2 X.3 X.4 X.5\n",
       "4  Steroid hormone receptors (NR3) NA                        \n",
       "6  CREB-related factors            NA                        \n",
       "8  CREB-related factors            NA                        \n",
       "9  CREB-related factors            NA                        \n",
       "11 E2F-related factors             NA                        \n",
       "12 E2F-related factors             NA                        "
      ]
     },
     "metadata": {},
     "output_type": "display_data"
    }
   ],
   "source": [
    "head(tf_annot[tf_annot$Species == \"Homo sapiens\", ])"
   ]
  },
  {
   "cell_type": "code",
   "execution_count": 6,
   "metadata": {},
   "outputs": [],
   "source": [
    "tf_annot <- unique(tf_annot[tf_annot$Species == \"Homo sapiens\", c(\"Name\", \"Class\", \"Family\")])"
   ]
  },
  {
   "cell_type": "code",
   "execution_count": 7,
   "metadata": {},
   "outputs": [
    {
     "data": {
      "text/html": [
       "638"
      ],
      "text/latex": [
       "638"
      ],
      "text/markdown": [
       "638"
      ],
      "text/plain": [
       "[1] 638"
      ]
     },
     "metadata": {},
     "output_type": "display_data"
    }
   ],
   "source": [
    "NROW(tf_annot)"
   ]
  },
  {
   "cell_type": "code",
   "execution_count": 8,
   "metadata": {},
   "outputs": [],
   "source": [
    "ans <- read.table(\"summary/tf_presence.csv\")"
   ]
  },
  {
   "cell_type": "code",
   "execution_count": 9,
   "metadata": {},
   "outputs": [
    {
     "data": {
      "text/html": [
       "519"
      ],
      "text/latex": [
       "519"
      ],
      "text/markdown": [
       "519"
      ],
      "text/plain": [
       "[1] 519"
      ]
     },
     "metadata": {},
     "output_type": "display_data"
    }
   ],
   "source": [
    "NROW(ans)"
   ]
  },
  {
   "cell_type": "code",
   "execution_count": 10,
   "metadata": {},
   "outputs": [],
   "source": [
    "my_tf_annot <- tf_annot %>% filter(Name %in% row.names(ans))"
   ]
  },
  {
   "cell_type": "code",
   "execution_count": 11,
   "metadata": {},
   "outputs": [
    {
     "data": {
      "text/html": [
       "440"
      ],
      "text/latex": [
       "440"
      ],
      "text/markdown": [
       "440"
      ],
      "text/plain": [
       "[1] 440"
      ]
     },
     "metadata": {},
     "output_type": "display_data"
    }
   ],
   "source": [
    "NROW(my_tf_annot)"
   ]
  },
  {
   "cell_type": "markdown",
   "metadata": {},
   "source": [
    "Expression data: "
   ]
  },
  {
   "cell_type": "code",
   "execution_count": 12,
   "metadata": {},
   "outputs": [],
   "source": [
    "tissue_expression <- read.table(\"../rna_consensus.tsv\", sep = \"\\t\", header = 1)"
   ]
  },
  {
   "cell_type": "code",
   "execution_count": 13,
   "metadata": {},
   "outputs": [
    {
     "data": {
      "text/html": [
       "<table>\n",
       "<caption>A data.frame: 6 × 4</caption>\n",
       "<thead>\n",
       "\t<tr><th></th><th scope=col>Gene</th><th scope=col>Gene.name</th><th scope=col>Tissue</th><th scope=col>NX</th></tr>\n",
       "\t<tr><th></th><th scope=col>&lt;chr&gt;</th><th scope=col>&lt;chr&gt;</th><th scope=col>&lt;chr&gt;</th><th scope=col>&lt;dbl&gt;</th></tr>\n",
       "</thead>\n",
       "<tbody>\n",
       "\t<tr><th scope=row>1</th><td>ENSG00000000003</td><td>TSPAN6</td><td>adipose tissue</td><td>27.0</td></tr>\n",
       "\t<tr><th scope=row>2</th><td>ENSG00000000003</td><td>TSPAN6</td><td>adrenal gland </td><td> 9.8</td></tr>\n",
       "\t<tr><th scope=row>3</th><td>ENSG00000000003</td><td>TSPAN6</td><td>amygdala      </td><td> 7.0</td></tr>\n",
       "\t<tr><th scope=row>4</th><td>ENSG00000000003</td><td>TSPAN6</td><td>appendix      </td><td> 4.4</td></tr>\n",
       "\t<tr><th scope=row>5</th><td>ENSG00000000003</td><td>TSPAN6</td><td>B-cells       </td><td> 0.3</td></tr>\n",
       "\t<tr><th scope=row>6</th><td>ENSG00000000003</td><td>TSPAN6</td><td>basal ganglia </td><td> 6.6</td></tr>\n",
       "</tbody>\n",
       "</table>\n"
      ],
      "text/latex": [
       "A data.frame: 6 × 4\n",
       "\\begin{tabular}{r|llll}\n",
       "  & Gene & Gene.name & Tissue & NX\\\\\n",
       "  & <chr> & <chr> & <chr> & <dbl>\\\\\n",
       "\\hline\n",
       "\t1 & ENSG00000000003 & TSPAN6 & adipose tissue & 27.0\\\\\n",
       "\t2 & ENSG00000000003 & TSPAN6 & adrenal gland  &  9.8\\\\\n",
       "\t3 & ENSG00000000003 & TSPAN6 & amygdala       &  7.0\\\\\n",
       "\t4 & ENSG00000000003 & TSPAN6 & appendix       &  4.4\\\\\n",
       "\t5 & ENSG00000000003 & TSPAN6 & B-cells        &  0.3\\\\\n",
       "\t6 & ENSG00000000003 & TSPAN6 & basal ganglia  &  6.6\\\\\n",
       "\\end{tabular}\n"
      ],
      "text/markdown": [
       "\n",
       "A data.frame: 6 × 4\n",
       "\n",
       "| <!--/--> | Gene &lt;chr&gt; | Gene.name &lt;chr&gt; | Tissue &lt;chr&gt; | NX &lt;dbl&gt; |\n",
       "|---|---|---|---|---|\n",
       "| 1 | ENSG00000000003 | TSPAN6 | adipose tissue | 27.0 |\n",
       "| 2 | ENSG00000000003 | TSPAN6 | adrenal gland  |  9.8 |\n",
       "| 3 | ENSG00000000003 | TSPAN6 | amygdala       |  7.0 |\n",
       "| 4 | ENSG00000000003 | TSPAN6 | appendix       |  4.4 |\n",
       "| 5 | ENSG00000000003 | TSPAN6 | B-cells        |  0.3 |\n",
       "| 6 | ENSG00000000003 | TSPAN6 | basal ganglia  |  6.6 |\n",
       "\n"
      ],
      "text/plain": [
       "  Gene            Gene.name Tissue         NX  \n",
       "1 ENSG00000000003 TSPAN6    adipose tissue 27.0\n",
       "2 ENSG00000000003 TSPAN6    adrenal gland   9.8\n",
       "3 ENSG00000000003 TSPAN6    amygdala        7.0\n",
       "4 ENSG00000000003 TSPAN6    appendix        4.4\n",
       "5 ENSG00000000003 TSPAN6    B-cells         0.3\n",
       "6 ENSG00000000003 TSPAN6    basal ganglia   6.6"
      ]
     },
     "metadata": {},
     "output_type": "display_data"
    }
   ],
   "source": [
    "head(tissue_expression)"
   ]
  },
  {
   "cell_type": "code",
   "execution_count": 112,
   "metadata": {},
   "outputs": [
    {
     "data": {
      "text/html": [
       "<style>\n",
       ".list-inline {list-style: none; margin:0; padding: 0}\n",
       ".list-inline>li {display: inline-block}\n",
       ".list-inline>li:not(:last-child)::after {content: \"\\00b7\"; padding: 0 .5ex}\n",
       "</style>\n",
       "<ol class=list-inline><li>'FOSB::JUN'</li><li>'FOSL1::JUN'</li><li>'FOSL2::JUN'</li><li>'FOSL2::JUN(var.2)'</li><li>'FOS::JUNB'</li><li>'FOSB::JUNB'</li><li>'FOSL1::JUNB'</li><li>'FOSL2::JUNB'</li><li>'FOS::JUND'</li><li>'FOSL1::JUND'</li><li>'FOSL2::JUND'</li><li>'FOSL2::JUND(var.2)'</li><li>'BHLHA15(var.2)'</li><li>'ASCL1(var.2)'</li><li>'BHLHE22(var.2)'</li><li>'CEBPG(var.2)'</li><li>'GATA1::TAL1'</li><li>'JUN::JUNB'</li><li>'HNF4A(var.2)'</li><li>'MEIS1(var.2)'</li><li>'MEIS2(var.2)'</li><li>'MZF1(var.2)'</li><li>'NR1H4::RXRA'</li><li>'NR4A2::RXRA'</li><li>'PPARA::RXRA'</li><li>'RARA::RXRG'</li><li>'NFIX(var.2)'</li><li>'NR2C2(var.2)'</li><li>'NR2F1(var.2)'</li><li>'POU6F1(var.2)'</li><li>'NEUROG2(var.2)'</li><li>'TFAP2A(var.2)'</li><li>'TFAP2B(var.2)'</li><li>'TFAP2B(var.3)'</li><li>'TFAP2C(var.2)'</li><li>'TFAP2C(var.3)'</li><li>'SREBF1(var.2)'</li><li>'TFAP2A(var.3)'</li><li>'RXRB(var.2)'</li><li>'TCF12(var.2)'</li></ol>\n"
      ],
      "text/latex": [
       "\\begin{enumerate*}\n",
       "\\item 'FOSB::JUN'\n",
       "\\item 'FOSL1::JUN'\n",
       "\\item 'FOSL2::JUN'\n",
       "\\item 'FOSL2::JUN(var.2)'\n",
       "\\item 'FOS::JUNB'\n",
       "\\item 'FOSB::JUNB'\n",
       "\\item 'FOSL1::JUNB'\n",
       "\\item 'FOSL2::JUNB'\n",
       "\\item 'FOS::JUND'\n",
       "\\item 'FOSL1::JUND'\n",
       "\\item 'FOSL2::JUND'\n",
       "\\item 'FOSL2::JUND(var.2)'\n",
       "\\item 'BHLHA15(var.2)'\n",
       "\\item 'ASCL1(var.2)'\n",
       "\\item 'BHLHE22(var.2)'\n",
       "\\item 'CEBPG(var.2)'\n",
       "\\item 'GATA1::TAL1'\n",
       "\\item 'JUN::JUNB'\n",
       "\\item 'HNF4A(var.2)'\n",
       "\\item 'MEIS1(var.2)'\n",
       "\\item 'MEIS2(var.2)'\n",
       "\\item 'MZF1(var.2)'\n",
       "\\item 'NR1H4::RXRA'\n",
       "\\item 'NR4A2::RXRA'\n",
       "\\item 'PPARA::RXRA'\n",
       "\\item 'RARA::RXRG'\n",
       "\\item 'NFIX(var.2)'\n",
       "\\item 'NR2C2(var.2)'\n",
       "\\item 'NR2F1(var.2)'\n",
       "\\item 'POU6F1(var.2)'\n",
       "\\item 'NEUROG2(var.2)'\n",
       "\\item 'TFAP2A(var.2)'\n",
       "\\item 'TFAP2B(var.2)'\n",
       "\\item 'TFAP2B(var.3)'\n",
       "\\item 'TFAP2C(var.2)'\n",
       "\\item 'TFAP2C(var.3)'\n",
       "\\item 'SREBF1(var.2)'\n",
       "\\item 'TFAP2A(var.3)'\n",
       "\\item 'RXRB(var.2)'\n",
       "\\item 'TCF12(var.2)'\n",
       "\\end{enumerate*}\n"
      ],
      "text/markdown": [
       "1. 'FOSB::JUN'\n",
       "2. 'FOSL1::JUN'\n",
       "3. 'FOSL2::JUN'\n",
       "4. 'FOSL2::JUN(var.2)'\n",
       "5. 'FOS::JUNB'\n",
       "6. 'FOSB::JUNB'\n",
       "7. 'FOSL1::JUNB'\n",
       "8. 'FOSL2::JUNB'\n",
       "9. 'FOS::JUND'\n",
       "10. 'FOSL1::JUND'\n",
       "11. 'FOSL2::JUND'\n",
       "12. 'FOSL2::JUND(var.2)'\n",
       "13. 'BHLHA15(var.2)'\n",
       "14. 'ASCL1(var.2)'\n",
       "15. 'BHLHE22(var.2)'\n",
       "16. 'CEBPG(var.2)'\n",
       "17. 'GATA1::TAL1'\n",
       "18. 'JUN::JUNB'\n",
       "19. 'HNF4A(var.2)'\n",
       "20. 'MEIS1(var.2)'\n",
       "21. 'MEIS2(var.2)'\n",
       "22. 'MZF1(var.2)'\n",
       "23. 'NR1H4::RXRA'\n",
       "24. 'NR4A2::RXRA'\n",
       "25. 'PPARA::RXRA'\n",
       "26. 'RARA::RXRG'\n",
       "27. 'NFIX(var.2)'\n",
       "28. 'NR2C2(var.2)'\n",
       "29. 'NR2F1(var.2)'\n",
       "30. 'POU6F1(var.2)'\n",
       "31. 'NEUROG2(var.2)'\n",
       "32. 'TFAP2A(var.2)'\n",
       "33. 'TFAP2B(var.2)'\n",
       "34. 'TFAP2B(var.3)'\n",
       "35. 'TFAP2C(var.2)'\n",
       "36. 'TFAP2C(var.3)'\n",
       "37. 'SREBF1(var.2)'\n",
       "38. 'TFAP2A(var.3)'\n",
       "39. 'RXRB(var.2)'\n",
       "40. 'TCF12(var.2)'\n",
       "\n",
       "\n"
      ],
      "text/plain": [
       " [1] \"FOSB::JUN\"          \"FOSL1::JUN\"         \"FOSL2::JUN\"        \n",
       " [4] \"FOSL2::JUN(var.2)\"  \"FOS::JUNB\"          \"FOSB::JUNB\"        \n",
       " [7] \"FOSL1::JUNB\"        \"FOSL2::JUNB\"        \"FOS::JUND\"         \n",
       "[10] \"FOSL1::JUND\"        \"FOSL2::JUND\"        \"FOSL2::JUND(var.2)\"\n",
       "[13] \"BHLHA15(var.2)\"     \"ASCL1(var.2)\"       \"BHLHE22(var.2)\"    \n",
       "[16] \"CEBPG(var.2)\"       \"GATA1::TAL1\"        \"JUN::JUNB\"         \n",
       "[19] \"HNF4A(var.2)\"       \"MEIS1(var.2)\"       \"MEIS2(var.2)\"      \n",
       "[22] \"MZF1(var.2)\"        \"NR1H4::RXRA\"        \"NR4A2::RXRA\"       \n",
       "[25] \"PPARA::RXRA\"        \"RARA::RXRG\"         \"NFIX(var.2)\"       \n",
       "[28] \"NR2C2(var.2)\"       \"NR2F1(var.2)\"       \"POU6F1(var.2)\"     \n",
       "[31] \"NEUROG2(var.2)\"     \"TFAP2A(var.2)\"      \"TFAP2B(var.2)\"     \n",
       "[34] \"TFAP2B(var.3)\"      \"TFAP2C(var.2)\"      \"TFAP2C(var.3)\"     \n",
       "[37] \"SREBF1(var.2)\"      \"TFAP2A(var.3)\"      \"RXRB(var.2)\"       \n",
       "[40] \"TCF12(var.2)\"      "
      ]
     },
     "metadata": {},
     "output_type": "display_data"
    }
   ],
   "source": [
    "setdiff(my_tf_annot$Name, tissue_expression$Gene.name)"
   ]
  },
  {
   "cell_type": "code",
   "execution_count": 14,
   "metadata": {},
   "outputs": [],
   "source": [
    "te <- tissue_expression %>% filter(Gene.name  %in% my_tf_annot$Name) %>%\n",
    "        filter(Tissue %in% c('liver', 'heart muscle'))"
   ]
  },
  {
   "cell_type": "code",
   "execution_count": 15,
   "metadata": {},
   "outputs": [
    {
     "data": {
      "image/png": "[encoded data removed]",
      "text/plain": [
       "plot without title"
      ]
     },
     "metadata": {
      "image/png": {
       "height": 420,
       "width": 420
      }
     },
     "output_type": "display_data"
    }
   ],
   "source": [
    "ggplot(te, aes(x = NX, fill = Tissue)) + geom_density(alpha = 0.5) + geom_vline(xintercept = 1)"
   ]
  },
  {
   "cell_type": "code",
   "execution_count": 16,
   "metadata": {},
   "outputs": [],
   "source": [
    "te_byT <- te %>% spread(Tissue, NX)"
   ]
  },
  {
   "cell_type": "code",
   "execution_count": 18,
   "metadata": {},
   "outputs": [],
   "source": [
    "colnames(te_byT)[3] <- \"heart\""
   ]
  },
  {
   "cell_type": "code",
   "execution_count": 19,
   "metadata": {},
   "outputs": [
    {
     "data": {
      "text/html": [
       "<table>\n",
       "<caption>A data.frame: 6 × 4</caption>\n",
       "<thead>\n",
       "\t<tr><th></th><th scope=col>Gene</th><th scope=col>Gene.name</th><th scope=col>heart</th><th scope=col>liver</th></tr>\n",
       "\t<tr><th></th><th scope=col>&lt;chr&gt;</th><th scope=col>&lt;chr&gt;</th><th scope=col>&lt;dbl&gt;</th><th scope=col>&lt;dbl&gt;</th></tr>\n",
       "</thead>\n",
       "<tbody>\n",
       "\t<tr><th scope=row>1</th><td>ENSG00000005513</td><td>SOX8  </td><td> 1.8</td><td> 1.0</td></tr>\n",
       "\t<tr><th scope=row>2</th><td>ENSG00000006194</td><td>ZNF263</td><td>14.6</td><td>17.1</td></tr>\n",
       "\t<tr><th scope=row>3</th><td>ENSG00000006377</td><td>DLX6  </td><td> 0.5</td><td> 0.3</td></tr>\n",
       "\t<tr><th scope=row>4</th><td>ENSG00000006468</td><td>ETV1  </td><td>18.0</td><td> 2.0</td></tr>\n",
       "\t<tr><th scope=row>5</th><td>ENSG00000007866</td><td>TEAD3 </td><td>16.9</td><td> 8.7</td></tr>\n",
       "\t<tr><th scope=row>6</th><td>ENSG00000008196</td><td>TFAP2B</td><td> 0.1</td><td> 0.0</td></tr>\n",
       "</tbody>\n",
       "</table>\n"
      ],
      "text/latex": [
       "A data.frame: 6 × 4\n",
       "\\begin{tabular}{r|llll}\n",
       "  & Gene & Gene.name & heart & liver\\\\\n",
       "  & <chr> & <chr> & <dbl> & <dbl>\\\\\n",
       "\\hline\n",
       "\t1 & ENSG00000005513 & SOX8   &  1.8 &  1.0\\\\\n",
       "\t2 & ENSG00000006194 & ZNF263 & 14.6 & 17.1\\\\\n",
       "\t3 & ENSG00000006377 & DLX6   &  0.5 &  0.3\\\\\n",
       "\t4 & ENSG00000006468 & ETV1   & 18.0 &  2.0\\\\\n",
       "\t5 & ENSG00000007866 & TEAD3  & 16.9 &  8.7\\\\\n",
       "\t6 & ENSG00000008196 & TFAP2B &  0.1 &  0.0\\\\\n",
       "\\end{tabular}\n"
      ],
      "text/markdown": [
       "\n",
       "A data.frame: 6 × 4\n",
       "\n",
       "| <!--/--> | Gene &lt;chr&gt; | Gene.name &lt;chr&gt; | heart &lt;dbl&gt; | liver &lt;dbl&gt; |\n",
       "|---|---|---|---|---|\n",
       "| 1 | ENSG00000005513 | SOX8   |  1.8 |  1.0 |\n",
       "| 2 | ENSG00000006194 | ZNF263 | 14.6 | 17.1 |\n",
       "| 3 | ENSG00000006377 | DLX6   |  0.5 |  0.3 |\n",
       "| 4 | ENSG00000006468 | ETV1   | 18.0 |  2.0 |\n",
       "| 5 | ENSG00000007866 | TEAD3  | 16.9 |  8.7 |\n",
       "| 6 | ENSG00000008196 | TFAP2B |  0.1 |  0.0 |\n",
       "\n"
      ],
      "text/plain": [
       "  Gene            Gene.name heart liver\n",
       "1 ENSG00000005513 SOX8       1.8   1.0 \n",
       "2 ENSG00000006194 ZNF263    14.6  17.1 \n",
       "3 ENSG00000006377 DLX6       0.5   0.3 \n",
       "4 ENSG00000006468 ETV1      18.0   2.0 \n",
       "5 ENSG00000007866 TEAD3     16.9   8.7 \n",
       "6 ENSG00000008196 TFAP2B     0.1   0.0 "
      ]
     },
     "metadata": {},
     "output_type": "display_data"
    }
   ],
   "source": [
    "head(te_byT)"
   ]
  },
  {
   "cell_type": "code",
   "execution_count": 20,
   "metadata": {},
   "outputs": [
    {
     "data": {
      "image/png": "[encoded data removed]",
      "text/plain": [
       "plot without title"
      ]
     },
     "metadata": {
      "image/png": {
       "height": 420,
       "width": 420
      }
     },
     "output_type": "display_data"
    }
   ],
   "source": [
    "ggplot(te_byT, aes( x=log(liver), y = log(heart))) + geom_point() + \n",
    "    geom_vline(xintercept = 1, color = \"red\") + geom_hline(yintercept = 1, color = \"red\")"
   ]
  },
  {
   "cell_type": "code",
   "execution_count": 21,
   "metadata": {},
   "outputs": [],
   "source": [
    "my_tf_annot <- left_join(my_tf_annot, te_byT[, c(\"Gene.name\", \"heart\", \"liver\")], by = c(\"Name\"=\"Gene.name\"))"
   ]
  },
  {
   "cell_type": "code",
   "execution_count": 22,
   "metadata": {},
   "outputs": [],
   "source": [
    "my_tf_annot_expressed <- my_tf_annot %>% \n",
    "    filter(liver > 1 | heart > 1)"
   ]
  },
  {
   "cell_type": "code",
   "execution_count": 23,
   "metadata": {},
   "outputs": [
    {
     "data": {
      "text/html": [
       "139"
      ],
      "text/latex": [
       "139"
      ],
      "text/markdown": [
       "139"
      ],
      "text/plain": [
       "[1] 139"
      ]
     },
     "metadata": {},
     "output_type": "display_data"
    }
   ],
   "source": [
    "NROW(filter( my_tf_annot, liver < 1 & heart < 1))"
   ]
  },
  {
   "cell_type": "markdown",
   "metadata": {},
   "source": [
    "Now, uploading the selex annotation data:"
   ]
  },
  {
   "cell_type": "code",
   "execution_count": 25,
   "metadata": {},
   "outputs": [],
   "source": [
    "selex <- read.csv(\"SELEX/annotation_TFs.csv\")"
   ]
  },
  {
   "cell_type": "code",
   "execution_count": 26,
   "metadata": {},
   "outputs": [
    {
     "name": "stderr",
     "output_type": "stream",
     "text": [
      "Joining, by = c(\"Name\", \"Class\", \"Family\")\n",
      "\n"
     ]
    }
   ],
   "source": [
    "my_tf_annot_expressed_w_selex <- left_join(my_tf_annot_expressed, selex)"
   ]
  },
  {
   "cell_type": "markdown",
   "metadata": {},
   "source": [
    "Visulaizing it:"
   ]
  },
  {
   "cell_type": "code",
   "execution_count": 27,
   "metadata": {},
   "outputs": [
    {
     "data": {
      "text/html": [
       "<style>\n",
       ".list-inline {list-style: none; margin:0; padding: 0}\n",
       ".list-inline>li {display: inline-block}\n",
       ".list-inline>li:not(:last-child)::after {content: \"\\00b7\"; padding: 0 .5ex}\n",
       "</style>\n",
       "<ol class=list-inline><li>'Tryptophan cluster factors'</li><li>'Fork head / winged helix factors'</li><li>'Basic leucine zipper factors (bZIP)'</li><li>'C2H2 zinc finger factors'</li><li>'Nuclear receptors with C4 zinc fingers'</li><li>'Rel homology region (RHR) factors'</li><li>'Basic helix-loop-helix factors (bHLH)'</li><li>'DM-type intertwined zinc finger factors'</li><li>'Homeo domain factors'</li><li>'T-Box factors'</li><li>'Other C4 zinc finger-type factors'</li><li>'MADS box factors'</li><li>'Heat shock factors'</li><li>'Runt domain factors'</li><li>'SMAD/NF-1 DNA-binding domain factors'</li><li>'Heteromeric CCAAT-binding factors'</li><li>'High-mobility group (HMG) domain factors'</li><li>'TEA domain factors'</li><li>'STAT domain factors'</li><li>'C2CH THAP-type zinc finger factors'</li></ol>\n"
      ],
      "text/latex": [
       "\\begin{enumerate*}\n",
       "\\item 'Tryptophan cluster factors'\n",
       "\\item 'Fork head / winged helix factors'\n",
       "\\item 'Basic leucine zipper factors (bZIP)'\n",
       "\\item 'C2H2 zinc finger factors'\n",
       "\\item 'Nuclear receptors with C4 zinc fingers'\n",
       "\\item 'Rel homology region (RHR) factors'\n",
       "\\item 'Basic helix-loop-helix factors (bHLH)'\n",
       "\\item 'DM-type intertwined zinc finger factors'\n",
       "\\item 'Homeo domain factors'\n",
       "\\item 'T-Box factors'\n",
       "\\item 'Other C4 zinc finger-type factors'\n",
       "\\item 'MADS box factors'\n",
       "\\item 'Heat shock factors'\n",
       "\\item 'Runt domain factors'\n",
       "\\item 'SMAD/NF-1 DNA-binding domain factors'\n",
       "\\item 'Heteromeric CCAAT-binding factors'\n",
       "\\item 'High-mobility group (HMG) domain factors'\n",
       "\\item 'TEA domain factors'\n",
       "\\item 'STAT domain factors'\n",
       "\\item 'C2CH THAP-type zinc finger factors'\n",
       "\\end{enumerate*}\n"
      ],
      "text/markdown": [
       "1. 'Tryptophan cluster factors'\n",
       "2. 'Fork head / winged helix factors'\n",
       "3. 'Basic leucine zipper factors (bZIP)'\n",
       "4. 'C2H2 zinc finger factors'\n",
       "5. 'Nuclear receptors with C4 zinc fingers'\n",
       "6. 'Rel homology region (RHR) factors'\n",
       "7. 'Basic helix-loop-helix factors (bHLH)'\n",
       "8. 'DM-type intertwined zinc finger factors'\n",
       "9. 'Homeo domain factors'\n",
       "10. 'T-Box factors'\n",
       "11. 'Other C4 zinc finger-type factors'\n",
       "12. 'MADS box factors'\n",
       "13. 'Heat shock factors'\n",
       "14. 'Runt domain factors'\n",
       "15. 'SMAD/NF-1 DNA-binding domain factors'\n",
       "16. 'Heteromeric CCAAT-binding factors'\n",
       "17. 'High-mobility group (HMG) domain factors'\n",
       "18. 'TEA domain factors'\n",
       "19. 'STAT domain factors'\n",
       "20. 'C2CH THAP-type zinc finger factors'\n",
       "\n",
       "\n"
      ],
      "text/plain": [
       " [1] \"Tryptophan cluster factors\"              \n",
       " [2] \"Fork head / winged helix factors\"        \n",
       " [3] \"Basic leucine zipper factors (bZIP)\"     \n",
       " [4] \"C2H2 zinc finger factors\"                \n",
       " [5] \"Nuclear receptors with C4 zinc fingers\"  \n",
       " [6] \"Rel homology region (RHR) factors\"       \n",
       " [7] \"Basic helix-loop-helix factors (bHLH)\"   \n",
       " [8] \"DM-type intertwined zinc finger factors\" \n",
       " [9] \"Homeo domain factors\"                    \n",
       "[10] \"T-Box factors\"                           \n",
       "[11] \"Other C4 zinc finger-type factors\"       \n",
       "[12] \"MADS box factors\"                        \n",
       "[13] \"Heat shock factors\"                      \n",
       "[14] \"Runt domain factors\"                     \n",
       "[15] \"SMAD/NF-1 DNA-binding domain factors\"    \n",
       "[16] \"Heteromeric CCAAT-binding factors\"       \n",
       "[17] \"High-mobility group (HMG) domain factors\"\n",
       "[18] \"TEA domain factors\"                      \n",
       "[19] \"STAT domain factors\"                     \n",
       "[20] \"C2CH THAP-type zinc finger factors\"      "
      ]
     },
     "metadata": {},
     "output_type": "display_data"
    }
   ],
   "source": [
    "unique(my_tf_annot_expressed_w_selex$Class)"
   ]
  },
  {
   "cell_type": "code",
   "execution_count": 28,
   "metadata": {},
   "outputs": [
    {
     "data": {
      "text/html": [
       "440"
      ],
      "text/latex": [
       "440"
      ],
      "text/markdown": [
       "440"
      ],
      "text/plain": [
       "[1] 440"
      ]
     },
     "metadata": {},
     "output_type": "display_data"
    }
   ],
   "source": [
    "NROW(my_tf_annot)"
   ]
  },
  {
   "cell_type": "code",
   "execution_count": 29,
   "metadata": {},
   "outputs": [],
   "source": [
    "color=c(tissue_colors[\"L\"], \"#f7f7f7\", tissue_colors[\"H\"])\n",
    "breaks=c(-2, -1,0,1)"
   ]
  },
  {
   "cell_type": "code",
   "execution_count": 30,
   "metadata": {},
   "outputs": [],
   "source": [
    "annot_col = as.data.frame(sp_df$color_class)\n",
    "row.names(annot_col) <- row.names(sp_df)\n",
    "colnames(annot_col) <- c(\"class\")"
   ]
  },
  {
   "cell_type": "code",
   "execution_count": 31,
   "metadata": {},
   "outputs": [],
   "source": [
    "annot_row <- my_tf_annot_expressed_w_selex[, c(\"Name\", \"Class_short\", \"Call_upd\", \"heart\", \"liver\")]\n",
    "row.names(annot_row) <- annot_row$Name\n",
    "annot_row <- annot_row[,c(-1)]"
   ]
  },
  {
   "cell_type": "code",
   "execution_count": 32,
   "metadata": {},
   "outputs": [],
   "source": [
    "df <- read.csv( \"classes_color_annot.csv\")"
   ]
  },
  {
   "cell_type": "code",
   "execution_count": 33,
   "metadata": {},
   "outputs": [],
   "source": [
    "Class_idst_col <- setNames(df$Class_idst_col, df$X)"
   ]
  },
  {
   "cell_type": "code",
   "execution_count": 34,
   "metadata": {},
   "outputs": [],
   "source": [
    "my_tf_annot_expressed_w_selex <- my_tf_annot_expressed_w_selex[order(my_tf_annot_expressed_w_selex$Class_short),]"
   ]
  },
  {
   "cell_type": "code",
   "execution_count": 35,
   "metadata": {},
   "outputs": [],
   "source": [
    "my_colors <- list(class = class_colors, Class_short = Class_idst_col,\n",
    "                  liver = colorRampPalette(c(\"lightblue\",\"red\"))(200),\n",
    "                  heart = colorRampPalette(c(\"lightblue\", \"red\"))(200),\n",
    "                  Call_upd = c(\"MethylPlus\" = \"red\", \"MethylMinus\" = \"#006837\", \"undefined/unknown\" = \"grey\"))"
   ]
  },
  {
   "cell_type": "code",
   "execution_count": 36,
   "metadata": {},
   "outputs": [
    {
     "data": {
      "text/html": [
       "<strong>null device:</strong> 1"
      ],
      "text/latex": [
       "\\textbf{null device:} 1"
      ],
      "text/markdown": [
       "**null device:** 1"
      ],
      "text/plain": [
       "null device \n",
       "          1 "
      ]
     },
     "metadata": {},
     "output_type": "display_data"
    },
    {
     "data": {
      "text/html": [
       "<strong>null device:</strong> 1"
      ],
      "text/latex": [
       "\\textbf{null device:} 1"
      ],
      "text/markdown": [
       "**null device:** 1"
      ],
      "text/plain": [
       "null device \n",
       "          1 "
      ]
     },
     "metadata": {},
     "output_type": "display_data"
    }
   ],
   "source": [
    "dev.off()\n",
    "pdf(\"summary/final_heatmaps/TFBS_presence_with_expression.pdf\", width = 35, height = 12)\n",
    "pheatmap(t(ans[my_tf_annot_expressed_w_selex$Name, sp_df$species[sp_df$species %in% colnames(ans)]]),\n",
    "         annotation_row = annot_col, \n",
    "         annotation_col = annot_row,\n",
    "         annotation_color = my_colors,\n",
    "         show_rownames = F,\n",
    "         cluster_cols = F, \n",
    "         cluster_rows = F,\n",
    "         color = color, \n",
    "         breaks = breaks, \n",
    "        fontsize = 5)\n",
    "dev.off()"
   ]
  },
  {
   "cell_type": "markdown",
   "metadata": {},
   "source": [
    "Now, filter for presence"
   ]
  },
  {
   "cell_type": "code",
   "execution_count": 37,
   "metadata": {},
   "outputs": [],
   "source": [
    "tf_to_keep <- names(rowSums(abs(ans[my_tf_annot_expressed_w_selex$Name,]))[rowSums(abs(ans[my_tf_annot_expressed_w_selex$Name,])) >= 10])\n",
    "ans_f <- ans[tf_to_keep,]"
   ]
  },
  {
   "cell_type": "code",
   "execution_count": 38,
   "metadata": {},
   "outputs": [],
   "source": [
    "sp_to_keep <- names(colSums(abs(ans_f))[colSums(abs(ans_f)) >= 5])\n",
    "ans_f <- ans_f[,sp_to_keep]"
   ]
  },
  {
   "cell_type": "code",
   "execution_count": 39,
   "metadata": {},
   "outputs": [
    {
     "data": {
      "text/html": [
       "<style>\n",
       ".list-inline {list-style: none; margin:0; padding: 0}\n",
       ".list-inline>li {display: inline-block}\n",
       ".list-inline>li:not(:last-child)::after {content: \"\\00b7\"; padding: 0 .5ex}\n",
       "</style>\n",
       "<ol class=list-inline><li>'C2H2 zinc finger factors'</li><li>'Fork head / winged helix factors'</li><li>'Homeo domain factors'</li><li>'Nuclear receptors with C4 zinc fingers'</li><li>'SMAD/NF-1 DNA-binding domain factors'</li><li>'Tryptophan cluster factors'</li></ol>\n"
      ],
      "text/latex": [
       "\\begin{enumerate*}\n",
       "\\item 'C2H2 zinc finger factors'\n",
       "\\item 'Fork head / winged helix factors'\n",
       "\\item 'Homeo domain factors'\n",
       "\\item 'Nuclear receptors with C4 zinc fingers'\n",
       "\\item 'SMAD/NF-1 DNA-binding domain factors'\n",
       "\\item 'Tryptophan cluster factors'\n",
       "\\end{enumerate*}\n"
      ],
      "text/markdown": [
       "1. 'C2H2 zinc finger factors'\n",
       "2. 'Fork head / winged helix factors'\n",
       "3. 'Homeo domain factors'\n",
       "4. 'Nuclear receptors with C4 zinc fingers'\n",
       "5. 'SMAD/NF-1 DNA-binding domain factors'\n",
       "6. 'Tryptophan cluster factors'\n",
       "\n",
       "\n"
      ],
      "text/plain": [
       "[1] \"C2H2 zinc finger factors\"              \n",
       "[2] \"Fork head / winged helix factors\"      \n",
       "[3] \"Homeo domain factors\"                  \n",
       "[4] \"Nuclear receptors with C4 zinc fingers\"\n",
       "[5] \"SMAD/NF-1 DNA-binding domain factors\"  \n",
       "[6] \"Tryptophan cluster factors\"            "
      ]
     },
     "metadata": {},
     "output_type": "display_data"
    }
   ],
   "source": [
    "unique(annot_row[row.names(ans_f),]$Class_short)"
   ]
  },
  {
   "cell_type": "code",
   "execution_count": 232,
   "metadata": {},
   "outputs": [],
   "source": [
    "my_colors <- list(class = class_colors, Class_short = Class_idst_col[names(Class_idst_col) %in% unique(annot_row[row.names(ans_f),]$Class_short)],\n",
    "                  liver = colorRampPalette(c(\"lightblue\",\"red\"))(200),\n",
    "                  heart = colorRampPalette(c(\"lightblue\", \"red\"))(200),\n",
    "                  Call_upd = c(\"MethylPlus\" = \"red\", \"MethylMinus\" = \"#006837\", \"undefined/unknown\" = \"grey\"))"
   ]
  },
  {
   "cell_type": "code",
   "execution_count": 328,
   "metadata": {},
   "outputs": [
    {
     "data": {
      "text/html": [
       "<strong>pdf:</strong> 3"
      ],
      "text/latex": [
       "\\textbf{pdf:} 3"
      ],
      "text/markdown": [
       "**pdf:** 3"
      ],
      "text/plain": [
       "pdf \n",
       "  3 "
      ]
     },
     "metadata": {},
     "output_type": "display_data"
    },
    {
     "data": {
      "text/html": [
       "<strong>pdf:</strong> 3"
      ],
      "text/latex": [
       "\\textbf{pdf:} 3"
      ],
      "text/markdown": [
       "**pdf:** 3"
      ],
      "text/plain": [
       "pdf \n",
       "  3 "
      ]
     },
     "metadata": {},
     "output_type": "display_data"
    }
   ],
   "source": [
    "dev.off()\n",
    "pdf(\"summary/final_heatmaps/TFBS_presence_with_expression_filtered.pdf\", width = 15, height = 10)\n",
    "pheatmap(t(ans_f[, sp_df$species[sp_df$species %in% colnames(ans_f)]]),\n",
    "         annotation_row = annot_col, \n",
    "         annotation_col = annot_row,\n",
    "         annotation_color = my_colors,\n",
    "         show_rownames = F,\n",
    "         cluster_cols = T, \n",
    "         cluster_rows = F,\n",
    "         color = color, \n",
    "         breaks = breaks, \n",
    "        fontsize = 6)\n",
    "dev.off()"
   ]
  },
  {
   "cell_type": "markdown",
   "metadata": {},
   "source": [
    "# Running the GO enrichment"
   ]
  },
  {
   "cell_type": "code",
   "execution_count": 40,
   "metadata": {},
   "outputs": [
    {
     "name": "stderr",
     "output_type": "stream",
     "text": [
      "Loading required package: graph\n",
      "\n",
      "\n",
      "Attaching package: ‘graph’\n",
      "\n",
      "\n",
      "The following object is masked from ‘package:plyr’:\n",
      "\n",
      "    join\n",
      "\n",
      "\n",
      "The following objects are masked from ‘package:ape’:\n",
      "\n",
      "    complement, edges\n",
      "\n",
      "\n",
      "The following object is masked from ‘package:Biostrings’:\n",
      "\n",
      "    complement\n",
      "\n",
      "\n",
      "Loading required package: Biobase\n",
      "\n",
      "Welcome to Bioconductor\n",
      "\n",
      "    Vignettes contain introductory material; view with\n",
      "    'browseVignettes()'. To cite Bioconductor, see\n",
      "    'citation(\"Biobase\")', and for packages 'citation(\"pkgname\")'.\n",
      "\n",
      "\n",
      "Loading required package: GO.db\n",
      "\n",
      "Loading required package: AnnotationDbi\n",
      "\n",
      "\n",
      "Attaching package: ‘AnnotationDbi’\n",
      "\n",
      "\n",
      "The following object is masked from ‘package:dplyr’:\n",
      "\n",
      "    select\n",
      "\n",
      "\n",
      "\n",
      "\n",
      "Loading required package: SparseM\n",
      "\n",
      "\n",
      "Attaching package: ‘SparseM’\n",
      "\n",
      "\n",
      "The following object is masked from ‘package:base’:\n",
      "\n",
      "    backsolve\n",
      "\n",
      "\n",
      "\n",
      "groupGOTerms: \tGOBPTerm, GOMFTerm, GOCCTerm environments built.\n",
      "\n",
      "\n",
      "Attaching package: ‘topGO’\n",
      "\n",
      "\n",
      "The following object is masked from ‘package:IRanges’:\n",
      "\n",
      "    members\n",
      "\n",
      "\n"
     ]
    }
   ],
   "source": [
    "library(topGO)\n",
    "library(biomaRt)"
   ]
  },
  {
   "cell_type": "code",
   "execution_count": 41,
   "metadata": {},
   "outputs": [
    {
     "data": {
      "image/png": "[encoded data removed]",
      "text/plain": [
       "plot without title"
      ]
     },
     "metadata": {
      "image/png": {
       "height": 420,
       "width": 420
      }
     },
     "output_type": "display_data"
    }
   ],
   "source": [
    "ph <- pheatmap(t(ans_f))\n",
    "\n",
    "tf_tree <- ph$tree_col"
   ]
  },
  {
   "cell_type": "code",
   "execution_count": 87,
   "metadata": {},
   "outputs": [],
   "source": [
    "cl <- cutree(tf_tree, k = 2)\n",
    "df <- as.data.frame(cl)\n",
    "df$TF <- row.names(df)\n"
   ]
  },
  {
   "cell_type": "markdown",
   "metadata": {},
   "source": [
    "Reading in annotations:"
   ]
  },
  {
   "cell_type": "code",
   "execution_count": 88,
   "metadata": {},
   "outputs": [
    {
     "data": {
      "text/html": [
       "<table>\n",
       "<caption>A data.frame: 47 × 2</caption>\n",
       "<thead>\n",
       "\t<tr><th></th><th scope=col>cl</th><th scope=col>TF</th></tr>\n",
       "\t<tr><th></th><th scope=col>&lt;int&gt;</th><th scope=col>&lt;chr&gt;</th></tr>\n",
       "</thead>\n",
       "<tbody>\n",
       "\t<tr><th scope=row>EGR1</th><td>1</td><td>EGR1   </td></tr>\n",
       "\t<tr><th scope=row>KLF4</th><td>1</td><td>KLF4   </td></tr>\n",
       "\t<tr><th scope=row>KLF5</th><td>1</td><td>KLF5   </td></tr>\n",
       "\t<tr><th scope=row>KLF16</th><td>1</td><td>KLF16  </td></tr>\n",
       "\t<tr><th scope=row>KLF9</th><td>1</td><td>KLF9   </td></tr>\n",
       "\t<tr><th scope=row>KLF11</th><td>1</td><td>KLF11  </td></tr>\n",
       "\t<tr><th scope=row>KLF2</th><td>1</td><td>KLF2   </td></tr>\n",
       "\t<tr><th scope=row>ZNF263</th><td>1</td><td>ZNF263 </td></tr>\n",
       "\t<tr><th scope=row>SP3</th><td>1</td><td>SP3    </td></tr>\n",
       "\t<tr><th scope=row>ZBTB7A</th><td>1</td><td>ZBTB7A </td></tr>\n",
       "\t<tr><th scope=row>ZNF384</th><td>2</td><td>ZNF384 </td></tr>\n",
       "\t<tr><th scope=row>ZBTB14</th><td>1</td><td>ZBTB14 </td></tr>\n",
       "\t<tr><th scope=row>ZNF148</th><td>1</td><td>ZNF148 </td></tr>\n",
       "\t<tr><th scope=row>ZNF740</th><td>1</td><td>ZNF740 </td></tr>\n",
       "\t<tr><th scope=row>FOXC1</th><td>2</td><td>FOXC1  </td></tr>\n",
       "\t<tr><th scope=row>FOXA2</th><td>2</td><td>FOXA2  </td></tr>\n",
       "\t<tr><th scope=row>FOXA1</th><td>2</td><td>FOXA1  </td></tr>\n",
       "\t<tr><th scope=row>E2F6</th><td>1</td><td>E2F6   </td></tr>\n",
       "\t<tr><th scope=row>FOXC2</th><td>2</td><td>FOXC2  </td></tr>\n",
       "\t<tr><th scope=row>FOXA3</th><td>2</td><td>FOXA3  </td></tr>\n",
       "\t<tr><th scope=row>FOXL1</th><td>2</td><td>FOXL1  </td></tr>\n",
       "\t<tr><th scope=row>FOXP1</th><td>2</td><td>FOXP1  </td></tr>\n",
       "\t<tr><th scope=row>FOXO4</th><td>2</td><td>FOXO4  </td></tr>\n",
       "\t<tr><th scope=row>FOXP3</th><td>2</td><td>FOXP3  </td></tr>\n",
       "\t<tr><th scope=row>FOXK2</th><td>2</td><td>FOXK2  </td></tr>\n",
       "\t<tr><th scope=row>HNF1A</th><td>2</td><td>HNF1A  </td></tr>\n",
       "\t<tr><th scope=row>HNF1B</th><td>2</td><td>HNF1B  </td></tr>\n",
       "\t<tr><th scope=row>ONECUT1</th><td>2</td><td>ONECUT1</td></tr>\n",
       "\t<tr><th scope=row>PRRX1</th><td>2</td><td>PRRX1  </td></tr>\n",
       "\t<tr><th scope=row>VAX2</th><td>2</td><td>VAX2   </td></tr>\n",
       "\t<tr><th scope=row>NR2F2</th><td>2</td><td>NR2F2  </td></tr>\n",
       "\t<tr><th scope=row>NR2C1</th><td>2</td><td>NR2C1  </td></tr>\n",
       "\t<tr><th scope=row>VDR</th><td>2</td><td>VDR    </td></tr>\n",
       "\t<tr><th scope=row>THRB</th><td>2</td><td>THRB   </td></tr>\n",
       "\t<tr><th scope=row>NFIX</th><td>1</td><td>NFIX   </td></tr>\n",
       "\t<tr><th scope=row>ELK4</th><td>1</td><td>ELK4   </td></tr>\n",
       "\t<tr><th scope=row>ETS1</th><td>1</td><td>ETS1   </td></tr>\n",
       "\t<tr><th scope=row>ELF1</th><td>1</td><td>ELF1   </td></tr>\n",
       "\t<tr><th scope=row>ERG</th><td>1</td><td>ERG    </td></tr>\n",
       "\t<tr><th scope=row>EHF</th><td>1</td><td>EHF    </td></tr>\n",
       "\t<tr><th scope=row>ELF3</th><td>1</td><td>ELF3   </td></tr>\n",
       "\t<tr><th scope=row>ETV6</th><td>1</td><td>ETV6   </td></tr>\n",
       "\t<tr><th scope=row>ERF</th><td>1</td><td>ERF    </td></tr>\n",
       "\t<tr><th scope=row>ETV1</th><td>1</td><td>ETV1   </td></tr>\n",
       "\t<tr><th scope=row>ETV4</th><td>1</td><td>ETV4   </td></tr>\n",
       "\t<tr><th scope=row>ETV5</th><td>1</td><td>ETV5   </td></tr>\n",
       "\t<tr><th scope=row>GABPA</th><td>1</td><td>GABPA  </td></tr>\n",
       "</tbody>\n",
       "</table>\n"
      ],
      "text/latex": [
       "A data.frame: 47 × 2\n",
       "\\begin{tabular}{r|ll}\n",
       "  & cl & TF\\\\\n",
       "  & <int> & <chr>\\\\\n",
       "\\hline\n",
       "\tEGR1 & 1 & EGR1   \\\\\n",
       "\tKLF4 & 1 & KLF4   \\\\\n",
       "\tKLF5 & 1 & KLF5   \\\\\n",
       "\tKLF16 & 1 & KLF16  \\\\\n",
       "\tKLF9 & 1 & KLF9   \\\\\n",
       "\tKLF11 & 1 & KLF11  \\\\\n",
       "\tKLF2 & 1 & KLF2   \\\\\n",
       "\tZNF263 & 1 & ZNF263 \\\\\n",
       "\tSP3 & 1 & SP3    \\\\\n",
       "\tZBTB7A & 1 & ZBTB7A \\\\\n",
       "\tZNF384 & 2 & ZNF384 \\\\\n",
       "\tZBTB14 & 1 & ZBTB14 \\\\\n",
       "\tZNF148 & 1 & ZNF148 \\\\\n",
       "\tZNF740 & 1 & ZNF740 \\\\\n",
       "\tFOXC1 & 2 & FOXC1  \\\\\n",
       "\tFOXA2 & 2 & FOXA2  \\\\\n",
       "\tFOXA1 & 2 & FOXA1  \\\\\n",
       "\tE2F6 & 1 & E2F6   \\\\\n",
       "\tFOXC2 & 2 & FOXC2  \\\\\n",
       "\tFOXA3 & 2 & FOXA3  \\\\\n",
       "\tFOXL1 & 2 & FOXL1  \\\\\n",
       "\tFOXP1 & 2 & FOXP1  \\\\\n",
       "\tFOXO4 & 2 & FOXO4  \\\\\n",
       "\tFOXP3 & 2 & FOXP3  \\\\\n",
       "\tFOXK2 & 2 & FOXK2  \\\\\n",
       "\tHNF1A & 2 & HNF1A  \\\\\n",
       "\tHNF1B & 2 & HNF1B  \\\\\n",
       "\tONECUT1 & 2 & ONECUT1\\\\\n",
       "\tPRRX1 & 2 & PRRX1  \\\\\n",
       "\tVAX2 & 2 & VAX2   \\\\\n",
       "\tNR2F2 & 2 & NR2F2  \\\\\n",
       "\tNR2C1 & 2 & NR2C1  \\\\\n",
       "\tVDR & 2 & VDR    \\\\\n",
       "\tTHRB & 2 & THRB   \\\\\n",
       "\tNFIX & 1 & NFIX   \\\\\n",
       "\tELK4 & 1 & ELK4   \\\\\n",
       "\tETS1 & 1 & ETS1   \\\\\n",
       "\tELF1 & 1 & ELF1   \\\\\n",
       "\tERG & 1 & ERG    \\\\\n",
       "\tEHF & 1 & EHF    \\\\\n",
       "\tELF3 & 1 & ELF3   \\\\\n",
       "\tETV6 & 1 & ETV6   \\\\\n",
       "\tERF & 1 & ERF    \\\\\n",
       "\tETV1 & 1 & ETV1   \\\\\n",
       "\tETV4 & 1 & ETV4   \\\\\n",
       "\tETV5 & 1 & ETV5   \\\\\n",
       "\tGABPA & 1 & GABPA  \\\\\n",
       "\\end{tabular}\n"
      ],
      "text/markdown": [
       "\n",
       "A data.frame: 47 × 2\n",
       "\n",
       "| <!--/--> | cl &lt;int&gt; | TF &lt;chr&gt; |\n",
       "|---|---|---|\n",
       "| EGR1 | 1 | EGR1    |\n",
       "| KLF4 | 1 | KLF4    |\n",
       "| KLF5 | 1 | KLF5    |\n",
       "| KLF16 | 1 | KLF16   |\n",
       "| KLF9 | 1 | KLF9    |\n",
       "| KLF11 | 1 | KLF11   |\n",
       "| KLF2 | 1 | KLF2    |\n",
       "| ZNF263 | 1 | ZNF263  |\n",
       "| SP3 | 1 | SP3     |\n",
       "| ZBTB7A | 1 | ZBTB7A  |\n",
       "| ZNF384 | 2 | ZNF384  |\n",
       "| ZBTB14 | 1 | ZBTB14  |\n",
       "| ZNF148 | 1 | ZNF148  |\n",
       "| ZNF740 | 1 | ZNF740  |\n",
       "| FOXC1 | 2 | FOXC1   |\n",
       "| FOXA2 | 2 | FOXA2   |\n",
       "| FOXA1 | 2 | FOXA1   |\n",
       "| E2F6 | 1 | E2F6    |\n",
       "| FOXC2 | 2 | FOXC2   |\n",
       "| FOXA3 | 2 | FOXA3   |\n",
       "| FOXL1 | 2 | FOXL1   |\n",
       "| FOXP1 | 2 | FOXP1   |\n",
       "| FOXO4 | 2 | FOXO4   |\n",
       "| FOXP3 | 2 | FOXP3   |\n",
       "| FOXK2 | 2 | FOXK2   |\n",
       "| HNF1A | 2 | HNF1A   |\n",
       "| HNF1B | 2 | HNF1B   |\n",
       "| ONECUT1 | 2 | ONECUT1 |\n",
       "| PRRX1 | 2 | PRRX1   |\n",
       "| VAX2 | 2 | VAX2    |\n",
       "| NR2F2 | 2 | NR2F2   |\n",
       "| NR2C1 | 2 | NR2C1   |\n",
       "| VDR | 2 | VDR     |\n",
       "| THRB | 2 | THRB    |\n",
       "| NFIX | 1 | NFIX    |\n",
       "| ELK4 | 1 | ELK4    |\n",
       "| ETS1 | 1 | ETS1    |\n",
       "| ELF1 | 1 | ELF1    |\n",
       "| ERG | 1 | ERG     |\n",
       "| EHF | 1 | EHF     |\n",
       "| ELF3 | 1 | ELF3    |\n",
       "| ETV6 | 1 | ETV6    |\n",
       "| ERF | 1 | ERF     |\n",
       "| ETV1 | 1 | ETV1    |\n",
       "| ETV4 | 1 | ETV4    |\n",
       "| ETV5 | 1 | ETV5    |\n",
       "| GABPA | 1 | GABPA   |\n",
       "\n"
      ],
      "text/plain": [
       "        cl TF     \n",
       "EGR1    1  EGR1   \n",
       "KLF4    1  KLF4   \n",
       "KLF5    1  KLF5   \n",
       "KLF16   1  KLF16  \n",
       "KLF9    1  KLF9   \n",
       "KLF11   1  KLF11  \n",
       "KLF2    1  KLF2   \n",
       "ZNF263  1  ZNF263 \n",
       "SP3     1  SP3    \n",
       "ZBTB7A  1  ZBTB7A \n",
       "ZNF384  2  ZNF384 \n",
       "ZBTB14  1  ZBTB14 \n",
       "ZNF148  1  ZNF148 \n",
       "ZNF740  1  ZNF740 \n",
       "FOXC1   2  FOXC1  \n",
       "FOXA2   2  FOXA2  \n",
       "FOXA1   2  FOXA1  \n",
       "E2F6    1  E2F6   \n",
       "FOXC2   2  FOXC2  \n",
       "FOXA3   2  FOXA3  \n",
       "FOXL1   2  FOXL1  \n",
       "FOXP1   2  FOXP1  \n",
       "FOXO4   2  FOXO4  \n",
       "FOXP3   2  FOXP3  \n",
       "FOXK2   2  FOXK2  \n",
       "HNF1A   2  HNF1A  \n",
       "HNF1B   2  HNF1B  \n",
       "ONECUT1 2  ONECUT1\n",
       "PRRX1   2  PRRX1  \n",
       "VAX2    2  VAX2   \n",
       "NR2F2   2  NR2F2  \n",
       "NR2C1   2  NR2C1  \n",
       "VDR     2  VDR    \n",
       "THRB    2  THRB   \n",
       "NFIX    1  NFIX   \n",
       "ELK4    1  ELK4   \n",
       "ETS1    1  ETS1   \n",
       "ELF1    1  ELF1   \n",
       "ERG     1  ERG    \n",
       "EHF     1  EHF    \n",
       "ELF3    1  ELF3   \n",
       "ETV6    1  ETV6   \n",
       "ERF     1  ERF    \n",
       "ETV1    1  ETV1   \n",
       "ETV4    1  ETV4   \n",
       "ETV5    1  ETV5   \n",
       "GABPA   1  GABPA  "
      ]
     },
     "metadata": {},
     "output_type": "display_data"
    }
   ],
   "source": [
    "df"
   ]
  },
  {
   "cell_type": "code",
   "execution_count": 89,
   "metadata": {},
   "outputs": [],
   "source": [
    "df <- left_join(df, my_tf_annot_expressed_w_selex[, c(\"Name\", \"Call_upd\", \"heart\", \"liver\")], by = c(\"TF\" = \"Name\"))"
   ]
  },
  {
   "cell_type": "code",
   "execution_count": 90,
   "metadata": {},
   "outputs": [
    {
     "data": {
      "text/html": [
       "<table>\n",
       "<caption>A data.frame: 6 × 5</caption>\n",
       "<thead>\n",
       "\t<tr><th></th><th scope=col>cl</th><th scope=col>TF</th><th scope=col>Call_upd</th><th scope=col>heart</th><th scope=col>liver</th></tr>\n",
       "\t<tr><th></th><th scope=col>&lt;int&gt;</th><th scope=col>&lt;chr&gt;</th><th scope=col>&lt;chr&gt;</th><th scope=col>&lt;dbl&gt;</th><th scope=col>&lt;dbl&gt;</th></tr>\n",
       "</thead>\n",
       "<tbody>\n",
       "\t<tr><th scope=row>1</th><td>1</td><td>EGR1 </td><td>undefined/unknown</td><td>42.9</td><td>68.8</td></tr>\n",
       "\t<tr><th scope=row>2</th><td>1</td><td>KLF4 </td><td>undefined/unknown</td><td>18.6</td><td> 5.1</td></tr>\n",
       "\t<tr><th scope=row>3</th><td>1</td><td>KLF5 </td><td>undefined/unknown</td><td> 1.3</td><td> 1.2</td></tr>\n",
       "\t<tr><th scope=row>4</th><td>1</td><td>KLF16</td><td>MethylPlus       </td><td> 4.8</td><td>15.1</td></tr>\n",
       "\t<tr><th scope=row>5</th><td>1</td><td>KLF9 </td><td>undefined/unknown</td><td>18.2</td><td>36.7</td></tr>\n",
       "\t<tr><th scope=row>6</th><td>1</td><td>KLF11</td><td>MethylPlus       </td><td>19.4</td><td>27.9</td></tr>\n",
       "</tbody>\n",
       "</table>\n"
      ],
      "text/latex": [
       "A data.frame: 6 × 5\n",
       "\\begin{tabular}{r|lllll}\n",
       "  & cl & TF & Call\\_upd & heart & liver\\\\\n",
       "  & <int> & <chr> & <chr> & <dbl> & <dbl>\\\\\n",
       "\\hline\n",
       "\t1 & 1 & EGR1  & undefined/unknown & 42.9 & 68.8\\\\\n",
       "\t2 & 1 & KLF4  & undefined/unknown & 18.6 &  5.1\\\\\n",
       "\t3 & 1 & KLF5  & undefined/unknown &  1.3 &  1.2\\\\\n",
       "\t4 & 1 & KLF16 & MethylPlus        &  4.8 & 15.1\\\\\n",
       "\t5 & 1 & KLF9  & undefined/unknown & 18.2 & 36.7\\\\\n",
       "\t6 & 1 & KLF11 & MethylPlus        & 19.4 & 27.9\\\\\n",
       "\\end{tabular}\n"
      ],
      "text/markdown": [
       "\n",
       "A data.frame: 6 × 5\n",
       "\n",
       "| <!--/--> | cl &lt;int&gt; | TF &lt;chr&gt; | Call_upd &lt;chr&gt; | heart &lt;dbl&gt; | liver &lt;dbl&gt; |\n",
       "|---|---|---|---|---|---|\n",
       "| 1 | 1 | EGR1  | undefined/unknown | 42.9 | 68.8 |\n",
       "| 2 | 1 | KLF4  | undefined/unknown | 18.6 |  5.1 |\n",
       "| 3 | 1 | KLF5  | undefined/unknown |  1.3 |  1.2 |\n",
       "| 4 | 1 | KLF16 | MethylPlus        |  4.8 | 15.1 |\n",
       "| 5 | 1 | KLF9  | undefined/unknown | 18.2 | 36.7 |\n",
       "| 6 | 1 | KLF11 | MethylPlus        | 19.4 | 27.9 |\n",
       "\n"
      ],
      "text/plain": [
       "  cl TF    Call_upd          heart liver\n",
       "1 1  EGR1  undefined/unknown 42.9  68.8 \n",
       "2 1  KLF4  undefined/unknown 18.6   5.1 \n",
       "3 1  KLF5  undefined/unknown  1.3   1.2 \n",
       "4 1  KLF16 MethylPlus         4.8  15.1 \n",
       "5 1  KLF9  undefined/unknown 18.2  36.7 \n",
       "6 1  KLF11 MethylPlus        19.4  27.9 "
      ]
     },
     "metadata": {},
     "output_type": "display_data"
    }
   ],
   "source": [
    "head(df)"
   ]
  },
  {
   "cell_type": "code",
   "execution_count": 329,
   "metadata": {},
   "outputs": [],
   "source": [
    "write.table(df, \"summary/clusters_and_selex_and_expression.csv\", row.names = F, quote = F)"
   ]
  },
  {
   "cell_type": "markdown",
   "metadata": {},
   "source": [
    "Uploading annotations:"
   ]
  },
  {
   "cell_type": "code",
   "execution_count": 46,
   "metadata": {},
   "outputs": [],
   "source": [
    "##geneID2Symbol\n",
    "geneID2Name <- read.table(\"/scratch/lab_bock/dromanovskaia/resources/NCBI/gene2ID_homo_sapiens\", sep=\";\", fill = F, quote=\"\\\"\")\n",
    "\n",
    "colnames(geneID2Name) <- c(\"id\", \"symbol\")\n",
    "geneName2ID <- setNames(geneID2Name$id, geneID2Name$symbol)"
   ]
  },
  {
   "cell_type": "code",
   "execution_count": 47,
   "metadata": {},
   "outputs": [],
   "source": [
    "human = useMart(\"ensembl\", dataset = \"hsapiens_gene_ensembl\")"
   ]
  },
  {
   "cell_type": "code",
   "execution_count": 91,
   "metadata": {},
   "outputs": [],
   "source": [
    "df$geneID <- geneName2ID[df$TF]"
   ]
  },
  {
   "cell_type": "code",
   "execution_count": 49,
   "metadata": {},
   "outputs": [],
   "source": [
    "all_tfs <- tf_annot$Name"
   ]
  },
  {
   "cell_type": "code",
   "execution_count": 50,
   "metadata": {},
   "outputs": [],
   "source": [
    "all_tfs_id <- geneName2ID[all_tfs] ## the TF universe"
   ]
  },
  {
   "cell_type": "code",
   "execution_count": 51,
   "metadata": {},
   "outputs": [],
   "source": [
    "###uploading gene2go\n",
    "if(!file.exists(\"/scratch/lab_bock/dromanovskaia/resources/NCBI/gene2go_right_format_HS.csv\")){\n",
    "  gene2go <- read.table(\"/scratch/lab_bock/dromanovskaia/resources/NCBI/geneID2go_homo_sapiens\", sep=\"\\t\", fill = F, quote=\"\\\"\")\n",
    "  colnames(gene2go) <- c(\"tax_id\", \"GeneID\",\t\"GO_ID\",\t\"Evidence\", \"Qualifier\",\t\"GO_term\",\t\"PubMed\",\t\"Category\")\n",
    "  gene2gobygene <- gene2go %>%\n",
    "    group_by(GeneID) %>%\n",
    "    summarize(GOS = paste(GO_ID, collapse = \", \"))\n",
    "  write.table(gene2gobygene, \"/scratch/lab_bock/dromanovskaia/resources/NCBI/gene2go_right_format_HS.csv\", sep = \"\\t\", row.names = F, quote = F)\n",
    "}"
   ]
  },
  {
   "cell_type": "code",
   "execution_count": 52,
   "metadata": {},
   "outputs": [],
   "source": [
    "gene2go_list <- readMappings(\"/scratch/lab_bock/dromanovskaia/resources/NCBI/gene2go_right_format_HS.csv\")"
   ]
  },
  {
   "cell_type": "code",
   "execution_count": 53,
   "metadata": {},
   "outputs": [
    {
     "name": "stderr",
     "output_type": "stream",
     "text": [
      "Warning message in dir.create(outdir):\n",
      "“'/scratch/lab_bock/shared/projects/compEpi/results_analysis/03_motifAnalysis/03.7_AME/GO_update' already exists”\n"
     ]
    }
   ],
   "source": [
    "outdir = file.path(wd, \"GO_update\")\n",
    "dir.create(outdir)"
   ]
  },
  {
   "cell_type": "code",
   "execution_count": 54,
   "metadata": {},
   "outputs": [],
   "source": [
    "transform <- function(s){\n",
    "  print(s)\n",
    "  l <- as.integer(length(s)/2)\n",
    "  new_s <- paste(c(paste(s[c(1:l)], collapse = \" \"), paste(s[c((l+1):length(s))], collapse = \" \")), collapse = \"\\n\")\n",
    "  return(new_s)\n",
    "}"
   ]
  },
  {
   "cell_type": "code",
   "execution_count": 100,
   "metadata": {},
   "outputs": [],
   "source": [
    "##desining the gene enricment for each cluster\n",
    "runGOEA <- function(gene_set, NAME, bg_genes = all_tfs_id){\n",
    "  #gene_set <- geneName2ID[toupper(strsplit(as.character(genes), \", \")[[1]])]\n",
    "  ##creating gene universe\n",
    "  geneList <- factor(as.integer(bg_genes %in% gene_set))\n",
    "  names(geneList) <- bg_genes\n",
    "  \n",
    "  ##creating GOdata object\n",
    "  GOdata <- new(\"topGOdata\", ontology = \"BP\", allGenes = geneList, \n",
    "                annot = annFUN.gene2GO, gene2GO = gene2go_list)\n",
    "  ##runiing fisher´s test\n",
    "  resultFisher.elim <- runTest(GOdata, algorithm = \"elim\", statistic = \"fisher\")\n",
    "  df <- as.data.frame(GenTable(GOdata, Fisher = resultFisher.elim))\n",
    "  dTerm_full <- select(GO.db, keys = df$GO.ID, columns = c(\"TERM\"))\n",
    "  dTerm_full$TERM_nice <-sapply(dTerm_full$TERM, function(x) {s<-strsplit(x, \" \")[[1]]; \n",
    "  if(length(s) < 6) {return (x)} else {return (transform(s))}} )\n",
    "  df <- left_join(df, dTerm_full, by = c(\"GO.ID\" = \"GOID\"))\n",
    "  df$Fisher <- as.numeric(df$Fisher)\n",
    "  df$logP <- -log10(df$Fisher)\n",
    "  df <- df[order(df$logP, decreasing = F),]\n",
    "  df$TERM_nice <- factor(df$TERM_nice, levels = df$TERM_nice)\n",
    "  \n",
    "  ## getting the TF names:\n",
    "  AnnotatedGenes = lapply(df$GO.ID, function(x) as.character(unlist(genesInTerm(object = GOdata, whichGO = x))))\n",
    "  SignificantGenes = lapply(AnnotatedGenes, function(x) intersect(x, gene_set)) # where INT.GENES$V1 is your list of interesting genes\n",
    "  df[\"sig_genes\"] <- sapply(SignificantGenes, function(x) {gene_name_list <- geneID2Name[geneID2Name$id %in% x,]$symbol; \n",
    "                                      return(paste0(gene_name_list, collapse = \";\"))})                          \n",
    "                            \n",
    "  ggplot(df, aes(x = as.factor(TERM_nice), y = logP)) + geom_bar(stat = \"identity\") + \n",
    "    coord_flip() + labs(y = \"-log10(p.Value)\", x = \"\") \n",
    "  ggsave(file.path(outdir, paste0(NAME,\"_bars.pdf\")), width = 8, height = 5)\n",
    "                            \n",
    "  write.table(df, \n",
    "              file.path(outdir, paste0(NAME,\".csv\")), quote = F, row.names = F, sep = \"\\t\") \n",
    "                            \n",
    "  pdf(file.path(outdir, paste0(NAME,\".pdf\")), width = 15, height = 15)\n",
    "  showSigOfNodes(GOdata, score(resultFisher.elim), firstSigNodes = 5, useInfo = 'all')\n",
    "  dev.off()\n",
    "  return(1)\n",
    "}"
   ]
  },
  {
   "cell_type": "code",
   "execution_count": 101,
   "metadata": {},
   "outputs": [
    {
     "name": "stderr",
     "output_type": "stream",
     "text": [
      "\n",
      "Building most specific GOs .....\n",
      "\n",
      "\t( 2744 GO terms found. )\n",
      "\n",
      "\n",
      "Build GO DAG topology ..........\n",
      "\n",
      "\t( 5815 GO terms and 13377 relations. )\n",
      "\n",
      "\n",
      "Annotating nodes ...............\n",
      "\n",
      "\t( 554 genes annotated to the GO terms. )\n",
      "\n",
      "\n",
      "\t\t\t -- Elim Algorithm -- \n",
      "\n",
      "\t\t the algorithm is scoring 1588 nontrivial nodes\n",
      "\t\t parameters: \n",
      "\t\t\t test statistic: fisher\n",
      "\t\t\t cutOff: 0.01\n",
      "\n",
      "\n",
      "\t Level 18:\t1 nodes to be scored\t(0 eliminated genes)\n",
      "\n",
      "\n",
      "\t Level 17:\t3 nodes to be scored\t(0 eliminated genes)\n",
      "\n",
      "\n",
      "\t Level 16:\t9 nodes to be scored\t(0 eliminated genes)\n",
      "\n",
      "\n",
      "\t Level 15:\t15 nodes to be scored\t(0 eliminated genes)\n",
      "\n",
      "\n",
      "\t Level 14:\t31 nodes to be scored\t(0 eliminated genes)\n",
      "\n",
      "\n",
      "\t Level 13:\t39 nodes to be scored\t(0 eliminated genes)\n",
      "\n",
      "\n",
      "\t Level 12:\t68 nodes to be scored\t(0 eliminated genes)\n",
      "\n",
      "\n",
      "\t Level 11:\t102 nodes to be scored\t(2 eliminated genes)\n",
      "\n",
      "\n",
      "\t Level 10:\t136 nodes to be scored\t(9 eliminated genes)\n",
      "\n",
      "\n",
      "\t Level 9:\t184 nodes to be scored\t(16 eliminated genes)\n",
      "\n",
      "\n",
      "\t Level 8:\t210 nodes to be scored\t(37 eliminated genes)\n",
      "\n",
      "\n",
      "\t Level 7:\t219 nodes to be scored\t(89 eliminated genes)\n",
      "\n",
      "\n",
      "\t Level 6:\t217 nodes to be scored\t(116 eliminated genes)\n",
      "\n",
      "\n",
      "\t Level 5:\t176 nodes to be scored\t(187 eliminated genes)\n",
      "\n",
      "\n",
      "\t Level 4:\t104 nodes to be scored\t(193 eliminated genes)\n",
      "\n",
      "\n",
      "\t Level 3:\t56 nodes to be scored\t(193 eliminated genes)\n",
      "\n",
      "\n",
      "\t Level 2:\t17 nodes to be scored\t(267 eliminated genes)\n",
      "\n",
      "\n",
      "\t Level 1:\t1 nodes to be scored\t(267 eliminated genes)\n",
      "\n",
      "'select()' returned 1:1 mapping between keys and columns\n",
      "\n"
     ]
    },
    {
     "name": "stdout",
     "output_type": "stream",
     "text": [
      "[1] \"regulation\"    \"of\"            \"apoptotic\"     \"process\"      \n",
      "[5] \"involved\"      \"in\"            \"morphogenesis\"\n",
      "[1] \"positive\"   \"regulation\" \"of\"         \"smoothened\" \"signaling\" \n",
      "[6] \"pathway\"   \n",
      " [1] \"negative\"      \"regulation\"    \"of\"            \"apoptotic\"    \n",
      " [5] \"process\"       \"involved\"      \"in\"            \"outflow\"      \n",
      " [9] \"tract\"         \"morphogenesis\"\n",
      "[1] \"positive\"   \"regulation\" \"of\"         \"cell-cell\"  \"adhesion\"  \n",
      "[6] \"mediated\"   \"by\"         \"cadherin\"  \n"
     ]
    },
    {
     "data": {
      "text/html": [
       "1"
      ],
      "text/latex": [
       "1"
      ],
      "text/markdown": [
       "1"
      ],
      "text/plain": [
       "[1] 1"
      ]
     },
     "metadata": {},
     "output_type": "display_data"
    },
    {
     "name": "stderr",
     "output_type": "stream",
     "text": [
      "\n",
      "Building most specific GOs .....\n",
      "\n",
      "\t( 2744 GO terms found. )\n",
      "\n",
      "\n",
      "Build GO DAG topology ..........\n",
      "\n",
      "\t( 5815 GO terms and 13377 relations. )\n",
      "\n",
      "\n",
      "Annotating nodes ...............\n",
      "\n",
      "\t( 554 genes annotated to the GO terms. )\n",
      "\n",
      "\n",
      "\t\t\t -- Elim Algorithm -- \n",
      "\n",
      "\t\t the algorithm is scoring 1058 nontrivial nodes\n",
      "\t\t parameters: \n",
      "\t\t\t test statistic: fisher\n",
      "\t\t\t cutOff: 0.01\n",
      "\n",
      "\n",
      "\t Level 16:\t1 nodes to be scored\t(0 eliminated genes)\n",
      "\n",
      "\n",
      "\t Level 15:\t2 nodes to be scored\t(0 eliminated genes)\n",
      "\n",
      "\n",
      "\t Level 14:\t12 nodes to be scored\t(0 eliminated genes)\n",
      "\n",
      "\n",
      "\t Level 13:\t23 nodes to be scored\t(0 eliminated genes)\n",
      "\n",
      "\n",
      "\t Level 12:\t35 nodes to be scored\t(0 eliminated genes)\n",
      "\n",
      "\n",
      "\t Level 11:\t60 nodes to be scored\t(2 eliminated genes)\n",
      "\n",
      "\n",
      "\t Level 10:\t78 nodes to be scored\t(2 eliminated genes)\n",
      "\n",
      "\n",
      "\t Level 9:\t102 nodes to be scored\t(2 eliminated genes)\n",
      "\n",
      "\n",
      "\t Level 8:\t118 nodes to be scored\t(7 eliminated genes)\n",
      "\n",
      "\n",
      "\t Level 7:\t154 nodes to be scored\t(13 eliminated genes)\n",
      "\n",
      "\n",
      "\t Level 6:\t163 nodes to be scored\t(13 eliminated genes)\n",
      "\n",
      "\n",
      "\t Level 5:\t152 nodes to be scored\t(14 eliminated genes)\n",
      "\n",
      "\n",
      "\t Level 4:\t94 nodes to be scored\t(15 eliminated genes)\n",
      "\n",
      "\n",
      "\t Level 3:\t46 nodes to be scored\t(15 eliminated genes)\n",
      "\n",
      "\n",
      "\t Level 2:\t17 nodes to be scored\t(15 eliminated genes)\n",
      "\n",
      "\n",
      "\t Level 1:\t1 nodes to be scored\t(15 eliminated genes)\n",
      "\n",
      "'select()' returned 1:1 mapping between keys and columns\n",
      "\n"
     ]
    },
    {
     "name": "stdout",
     "output_type": "stream",
     "text": [
      "[1] \"response\" \"to\"       \"laminar\"  \"fluid\"    \"shear\"    \"stress\"  \n",
      "[1] \"regulation\"  \"of\"          \"leukocyte\"   \"adhesion\"    \"to\"         \n",
      "[6] \"vascular\"    \"endothelial\" \"cell\"       \n",
      "[1] \"positive\"     \"regulation\"   \"of\"           \"nitric\"       \"oxide\"       \n",
      "[6] \"biosynthetic\" \"process\"     \n",
      "[1] \"cellular\" \"response\" \"to\"       \"laminar\"  \"fluid\"    \"shear\"    \"stress\"  \n"
     ]
    },
    {
     "data": {
      "text/html": [
       "1"
      ],
      "text/latex": [
       "1"
      ],
      "text/markdown": [
       "1"
      ],
      "text/plain": [
       "[1] 1"
      ]
     },
     "metadata": {},
     "output_type": "display_data"
    }
   ],
   "source": [
    "runGOEA(df[df$cl == 2,]$geneID, \"liver_act_no_filters\")\n",
    "runGOEA(df[df$cl == 1,]$geneID, \"heart_act_no_filters\")"
   ]
  },
  {
   "cell_type": "code",
   "execution_count": 102,
   "metadata": {},
   "outputs": [
    {
     "name": "stderr",
     "output_type": "stream",
     "text": [
      "\n",
      "Building most specific GOs .....\n",
      "\n",
      "\t( 2744 GO terms found. )\n",
      "\n",
      "\n",
      "Build GO DAG topology ..........\n",
      "\n",
      "\t( 5815 GO terms and 13377 relations. )\n",
      "\n",
      "\n",
      "Annotating nodes ...............\n",
      "\n",
      "\t( 554 genes annotated to the GO terms. )\n",
      "\n",
      "\n",
      "\t\t\t -- Elim Algorithm -- \n",
      "\n",
      "\t\t the algorithm is scoring 1545 nontrivial nodes\n",
      "\t\t parameters: \n",
      "\t\t\t test statistic: fisher\n",
      "\t\t\t cutOff: 0.01\n",
      "\n",
      "\n",
      "\t Level 18:\t1 nodes to be scored\t(0 eliminated genes)\n",
      "\n",
      "\n",
      "\t Level 17:\t3 nodes to be scored\t(0 eliminated genes)\n",
      "\n",
      "\n",
      "\t Level 16:\t9 nodes to be scored\t(0 eliminated genes)\n",
      "\n",
      "\n",
      "\t Level 15:\t15 nodes to be scored\t(0 eliminated genes)\n",
      "\n",
      "\n",
      "\t Level 14:\t29 nodes to be scored\t(0 eliminated genes)\n",
      "\n",
      "\n",
      "\t Level 13:\t37 nodes to be scored\t(0 eliminated genes)\n",
      "\n",
      "\n",
      "\t Level 12:\t65 nodes to be scored\t(0 eliminated genes)\n",
      "\n",
      "\n",
      "\t Level 11:\t95 nodes to be scored\t(2 eliminated genes)\n",
      "\n",
      "\n",
      "\t Level 10:\t132 nodes to be scored\t(9 eliminated genes)\n",
      "\n",
      "\n",
      "\t Level 9:\t181 nodes to be scored\t(16 eliminated genes)\n",
      "\n",
      "\n",
      "\t Level 8:\t204 nodes to be scored\t(49 eliminated genes)\n",
      "\n",
      "\n",
      "\t Level 7:\t213 nodes to be scored\t(85 eliminated genes)\n",
      "\n",
      "\n",
      "\t Level 6:\t211 nodes to be scored\t(121 eliminated genes)\n",
      "\n",
      "\n",
      "\t Level 5:\t173 nodes to be scored\t(127 eliminated genes)\n",
      "\n",
      "\n",
      "\t Level 4:\t103 nodes to be scored\t(135 eliminated genes)\n",
      "\n",
      "\n",
      "\t Level 3:\t56 nodes to be scored\t(135 eliminated genes)\n",
      "\n",
      "\n",
      "\t Level 2:\t17 nodes to be scored\t(250 eliminated genes)\n",
      "\n",
      "\n",
      "\t Level 1:\t1 nodes to be scored\t(250 eliminated genes)\n",
      "\n",
      "'select()' returned 1:1 mapping between keys and columns\n",
      "\n"
     ]
    },
    {
     "name": "stdout",
     "output_type": "stream",
     "text": [
      "[1] \"regulation\"    \"of\"            \"apoptotic\"     \"process\"      \n",
      "[5] \"involved\"      \"in\"            \"morphogenesis\"\n",
      "[1] \"positive\"   \"regulation\" \"of\"         \"smoothened\" \"signaling\" \n",
      "[6] \"pathway\"   \n",
      " [1] \"negative\"      \"regulation\"    \"of\"            \"apoptotic\"    \n",
      " [5] \"process\"       \"involved\"      \"in\"            \"outflow\"      \n",
      " [9] \"tract\"         \"morphogenesis\"\n",
      "[1] \"positive\"   \"regulation\" \"of\"         \"cell-cell\"  \"adhesion\"  \n",
      "[6] \"mediated\"   \"by\"         \"cadherin\"  \n"
     ]
    },
    {
     "data": {
      "text/html": [
       "1"
      ],
      "text/latex": [
       "1"
      ],
      "text/markdown": [
       "1"
      ],
      "text/plain": [
       "[1] 1"
      ]
     },
     "metadata": {},
     "output_type": "display_data"
    },
    {
     "name": "stderr",
     "output_type": "stream",
     "text": [
      "\n",
      "Building most specific GOs .....\n",
      "\n",
      "\t( 2744 GO terms found. )\n",
      "\n",
      "\n",
      "Build GO DAG topology ..........\n",
      "\n",
      "\t( 5815 GO terms and 13377 relations. )\n",
      "\n",
      "\n",
      "Annotating nodes ...............\n",
      "\n",
      "\t( 554 genes annotated to the GO terms. )\n",
      "\n",
      "\n",
      "\t\t\t -- Elim Algorithm -- \n",
      "\n",
      "\t\t the algorithm is scoring 1055 nontrivial nodes\n",
      "\t\t parameters: \n",
      "\t\t\t test statistic: fisher\n",
      "\t\t\t cutOff: 0.01\n",
      "\n",
      "\n",
      "\t Level 16:\t1 nodes to be scored\t(0 eliminated genes)\n",
      "\n",
      "\n",
      "\t Level 15:\t2 nodes to be scored\t(0 eliminated genes)\n",
      "\n",
      "\n",
      "\t Level 14:\t12 nodes to be scored\t(0 eliminated genes)\n",
      "\n",
      "\n",
      "\t Level 13:\t23 nodes to be scored\t(0 eliminated genes)\n",
      "\n",
      "\n",
      "\t Level 12:\t35 nodes to be scored\t(0 eliminated genes)\n",
      "\n",
      "\n",
      "\t Level 11:\t60 nodes to be scored\t(2 eliminated genes)\n",
      "\n",
      "\n",
      "\t Level 10:\t77 nodes to be scored\t(2 eliminated genes)\n",
      "\n",
      "\n",
      "\t Level 9:\t102 nodes to be scored\t(2 eliminated genes)\n",
      "\n",
      "\n",
      "\t Level 8:\t117 nodes to be scored\t(15 eliminated genes)\n",
      "\n",
      "\n",
      "\t Level 7:\t153 nodes to be scored\t(21 eliminated genes)\n",
      "\n",
      "\n",
      "\t Level 6:\t163 nodes to be scored\t(21 eliminated genes)\n",
      "\n",
      "\n",
      "\t Level 5:\t152 nodes to be scored\t(22 eliminated genes)\n",
      "\n",
      "\n",
      "\t Level 4:\t94 nodes to be scored\t(23 eliminated genes)\n",
      "\n",
      "\n",
      "\t Level 3:\t46 nodes to be scored\t(23 eliminated genes)\n",
      "\n",
      "\n",
      "\t Level 2:\t17 nodes to be scored\t(23 eliminated genes)\n",
      "\n",
      "\n",
      "\t Level 1:\t1 nodes to be scored\t(23 eliminated genes)\n",
      "\n",
      "'select()' returned 1:1 mapping between keys and columns\n",
      "\n"
     ]
    },
    {
     "name": "stdout",
     "output_type": "stream",
     "text": [
      "[1] \"response\" \"to\"       \"laminar\"  \"fluid\"    \"shear\"    \"stress\"  \n",
      "[1] \"regulation\"  \"of\"          \"leukocyte\"   \"adhesion\"    \"to\"         \n",
      "[6] \"vascular\"    \"endothelial\" \"cell\"       \n",
      "[1] \"positive\"     \"regulation\"   \"of\"           \"nitric\"       \"oxide\"       \n",
      "[6] \"biosynthetic\" \"process\"     \n",
      "[1] \"cellular\" \"response\" \"to\"       \"laminar\"  \"fluid\"    \"shear\"    \"stress\"  \n"
     ]
    },
    {
     "data": {
      "text/html": [
       "1"
      ],
      "text/latex": [
       "1"
      ],
      "text/markdown": [
       "1"
      ],
      "text/plain": [
       "[1] 1"
      ]
     },
     "metadata": {},
     "output_type": "display_data"
    }
   ],
   "source": [
    "runGOEA(df[df$cl == 2 & df$Call_upd != \"MethylPlus\",]$geneID, \"liver_act_selex_filter\")\n",
    "runGOEA(df[df$cl == 1 & df$Call_upd != \"MethylPlus\",]$geneID, \"heart_act_selex_filter\")"
   ]
  },
  {
   "cell_type": "code",
   "execution_count": 103,
   "metadata": {},
   "outputs": [],
   "source": [
    "all_tf_expressed_in_heart <- tissue_expression %>% filter(Gene.name %in% all_tfs) %>% filter(Tissue == \"heart muscle\") %>% filter(NX > 5) %>% .$Gene.name"
   ]
  },
  {
   "cell_type": "code",
   "execution_count": 104,
   "metadata": {},
   "outputs": [],
   "source": [
    "open_tf_heart <- df %>% filter(cl ==1 & Call_upd != \"MethylPlus\" & heart > 5) %>% .$geneID"
   ]
  },
  {
   "cell_type": "code",
   "execution_count": 105,
   "metadata": {},
   "outputs": [
    {
     "name": "stderr",
     "output_type": "stream",
     "text": [
      "\n",
      "Building most specific GOs .....\n",
      "\n",
      "\t( 1875 GO terms found. )\n",
      "\n",
      "\n",
      "Build GO DAG topology ..........\n",
      "\n",
      "\t( 4679 GO terms and 10725 relations. )\n",
      "\n",
      "\n",
      "Annotating nodes ...............\n",
      "\n",
      "\t( 255 genes annotated to the GO terms. )\n",
      "\n",
      "\n",
      "\t\t\t -- Elim Algorithm -- \n",
      "\n",
      "\t\t the algorithm is scoring 1018 nontrivial nodes\n",
      "\t\t parameters: \n",
      "\t\t\t test statistic: fisher\n",
      "\t\t\t cutOff: 0.01\n",
      "\n",
      "\n",
      "\t Level 16:\t1 nodes to be scored\t(0 eliminated genes)\n",
      "\n",
      "\n",
      "\t Level 15:\t2 nodes to be scored\t(0 eliminated genes)\n",
      "\n",
      "\n",
      "\t Level 14:\t11 nodes to be scored\t(0 eliminated genes)\n",
      "\n",
      "\n",
      "\t Level 13:\t21 nodes to be scored\t(0 eliminated genes)\n",
      "\n",
      "\n",
      "\t Level 12:\t35 nodes to be scored\t(0 eliminated genes)\n",
      "\n",
      "\n",
      "\t Level 11:\t59 nodes to be scored\t(2 eliminated genes)\n",
      "\n",
      "\n",
      "\t Level 10:\t76 nodes to be scored\t(2 eliminated genes)\n",
      "\n",
      "\n",
      "\t Level 9:\t99 nodes to be scored\t(2 eliminated genes)\n",
      "\n",
      "\n",
      "\t Level 8:\t111 nodes to be scored\t(2 eliminated genes)\n",
      "\n",
      "\n",
      "\t Level 7:\t143 nodes to be scored\t(2 eliminated genes)\n",
      "\n",
      "\n",
      "\t Level 6:\t157 nodes to be scored\t(3 eliminated genes)\n",
      "\n",
      "\n",
      "\t Level 5:\t147 nodes to be scored\t(5 eliminated genes)\n",
      "\n",
      "\n",
      "\t Level 4:\t93 nodes to be scored\t(7 eliminated genes)\n",
      "\n",
      "\n",
      "\t Level 3:\t45 nodes to be scored\t(7 eliminated genes)\n",
      "\n",
      "\n",
      "\t Level 2:\t17 nodes to be scored\t(7 eliminated genes)\n",
      "\n",
      "\n",
      "\t Level 1:\t1 nodes to be scored\t(7 eliminated genes)\n",
      "\n",
      "'select()' returned 1:1 mapping between keys and columns\n",
      "\n"
     ]
    },
    {
     "name": "stdout",
     "output_type": "stream",
     "text": [
      "[1] \"response\" \"to\"       \"laminar\"  \"fluid\"    \"shear\"    \"stress\"  \n",
      "[1] \"regulation\"  \"of\"          \"leukocyte\"   \"adhesion\"    \"to\"         \n",
      "[6] \"vascular\"    \"endothelial\" \"cell\"       \n",
      "[1] \"regulation\"   \"of\"           \"nitric\"       \"oxide\"        \"biosynthetic\"\n",
      "[6] \"process\"     \n",
      "[1] \"positive\"     \"regulation\"   \"of\"           \"nitric\"       \"oxide\"       \n",
      "[6] \"biosynthetic\" \"process\"     \n",
      "[1] \"leukocyte\"   \"adhesion\"    \"to\"          \"vascular\"    \"endothelial\"\n",
      "[6] \"cell\"       \n"
     ]
    },
    {
     "data": {
      "text/html": [
       "1"
      ],
      "text/latex": [
       "1"
      ],
      "text/markdown": [
       "1"
      ],
      "text/plain": [
       "[1] 1"
      ]
     },
     "metadata": {},
     "output_type": "display_data"
    }
   ],
   "source": [
    "runGOEA(open_tf_heart, \"heart_act_filtered\", geneName2ID[all_tf_expressed_in_heart])"
   ]
  },
  {
   "cell_type": "code",
   "execution_count": 106,
   "metadata": {},
   "outputs": [],
   "source": [
    "all_tf_expressed_in_liver <- tissue_expression %>% filter(Gene.name %in% all_tfs) %>% filter(Tissue == \"liver\") %>% filter(NX > 5) %>% .$Gene.name"
   ]
  },
  {
   "cell_type": "code",
   "execution_count": 107,
   "metadata": {},
   "outputs": [],
   "source": [
    "open_tf_liver <- df %>% filter(cl ==2 & Call_upd != \"MethylPlus\" & liver > 5) %>% .$geneID"
   ]
  },
  {
   "cell_type": "code",
   "execution_count": 108,
   "metadata": {},
   "outputs": [
    {
     "name": "stderr",
     "output_type": "stream",
     "text": [
      "\n",
      "Building most specific GOs .....\n",
      "\n",
      "\t( 1753 GO terms found. )\n",
      "\n",
      "\n",
      "Build GO DAG topology ..........\n",
      "\n",
      "\t( 4573 GO terms and 10441 relations. )\n",
      "\n",
      "\n",
      "Annotating nodes ...............\n",
      "\n",
      "\t( 236 genes annotated to the GO terms. )\n",
      "\n",
      "\n",
      "\t\t\t -- Elim Algorithm -- \n",
      "\n",
      "\t\t the algorithm is scoring 878 nontrivial nodes\n",
      "\t\t parameters: \n",
      "\t\t\t test statistic: fisher\n",
      "\t\t\t cutOff: 0.01\n",
      "\n",
      "\n",
      "\t Level 17:\t1 nodes to be scored\t(0 eliminated genes)\n",
      "\n",
      "\n",
      "\t Level 16:\t4 nodes to be scored\t(0 eliminated genes)\n",
      "\n",
      "\n",
      "\t Level 15:\t7 nodes to be scored\t(0 eliminated genes)\n",
      "\n",
      "\n",
      "\t Level 14:\t11 nodes to be scored\t(0 eliminated genes)\n",
      "\n",
      "\n",
      "\t Level 13:\t19 nodes to be scored\t(0 eliminated genes)\n",
      "\n",
      "\n",
      "\t Level 12:\t32 nodes to be scored\t(0 eliminated genes)\n",
      "\n",
      "\n",
      "\t Level 11:\t48 nodes to be scored\t(0 eliminated genes)\n",
      "\n",
      "\n",
      "\t Level 10:\t63 nodes to be scored\t(4 eliminated genes)\n",
      "\n",
      "\n",
      "\t Level 9:\t82 nodes to be scored\t(16 eliminated genes)\n",
      "\n",
      "\n",
      "\t Level 8:\t92 nodes to be scored\t(16 eliminated genes)\n",
      "\n",
      "\n",
      "\t Level 7:\t114 nodes to be scored\t(24 eliminated genes)\n",
      "\n",
      "\n",
      "\t Level 6:\t133 nodes to be scored\t(30 eliminated genes)\n",
      "\n",
      "\n",
      "\t Level 5:\t124 nodes to be scored\t(48 eliminated genes)\n",
      "\n",
      "\n",
      "\t Level 4:\t80 nodes to be scored\t(48 eliminated genes)\n",
      "\n",
      "\n",
      "\t Level 3:\t50 nodes to be scored\t(48 eliminated genes)\n",
      "\n",
      "\n",
      "\t Level 2:\t17 nodes to be scored\t(48 eliminated genes)\n",
      "\n",
      "\n",
      "\t Level 1:\t1 nodes to be scored\t(48 eliminated genes)\n",
      "\n",
      "'select()' returned 1:1 mapping between keys and columns\n",
      "\n"
     ]
    },
    {
     "name": "stdout",
     "output_type": "stream",
     "text": [
      "[1] \"positive\"   \"regulation\" \"of\"         \"cell-cell\"  \"adhesion\"  \n",
      "[6] \"mediated\"   \"by\"         \"cadherin\"  \n",
      "[1] \"negative\"    \"regulation\"  \"of\"          \"epithelial\"  \"to\"         \n",
      "[6] \"mesenchymal\" \"transition\" \n"
     ]
    },
    {
     "data": {
      "text/html": [
       "1"
      ],
      "text/latex": [
       "1"
      ],
      "text/markdown": [
       "1"
      ],
      "text/plain": [
       "[1] 1"
      ]
     },
     "metadata": {},
     "output_type": "display_data"
    }
   ],
   "source": [
    "runGOEA(open_tf_liver, \"liver_act_filtered\", geneName2ID[all_tf_expressed_in_liver])"
   ]
  },
  {
   "cell_type": "code",
   "execution_count": 339,
   "metadata": {},
   "outputs": [
    {
     "name": "stderr",
     "output_type": "stream",
     "text": [
      "Joining, by = \"species\"\n",
      "\n"
     ]
    }
   ],
   "source": [
    "annot_engl <- unique(left_join(sp_df[sp_df$species %in% row.names(ans_sub_sub),], stats_annot[, c(\"species\", \"English\")]))"
   ]
  },
  {
   "cell_type": "code",
   "execution_count": 358,
   "metadata": {},
   "outputs": [
    {
     "data": {
      "image/png": "[encoded data removed]",
      "text/plain": [
       "plot without title"
      ]
     },
     "metadata": {
      "image/png": {
       "height": 420,
       "width": 420
      }
     },
     "output_type": "display_data"
    }
   ],
   "source": [
    "###saving presence of FOXO4  and EGR1 nicely\n",
    "ans_sub <- as.data.frame(t(ans[c(\"FOXO4\", \"EGR1\"),]))\n",
    "ans_sub_sub <- ans_sub[ans_sub$FOXO4!=0 | ans_sub$EGR1!=0, ]\n",
    "annot <- sp_df[sp_df$species %in% row.names(ans_sub_sub), \"color_class\", drop = F]\n",
    "col = list(color_class = class_colors)\n",
    "#dev.off()\n",
    "#pdf(\"summary/final_heatmaps/TFBS_selected_upd.pdf\", width = 10, height = 10)\n",
    "pheatmap(ans_sub_sub[row.names(annot),], \n",
    "         cluster_rows = F,\n",
    "          cluster_cols = F,\n",
    "          annotation_row = annot,\n",
    "         annotation_col = annot_row,\n",
    "         annotation_colors = col,\n",
    "         labels_row = annot_engl$English, \n",
    "         fontsize = 10, annotation_legend = T , breaks = breaks, color = color)\n",
    "#dev.off()"
   ]
  },
  {
   "cell_type": "code",
   "execution_count": 326,
   "metadata": {},
   "outputs": [
    {
     "name": "stderr",
     "output_type": "stream",
     "text": [
      "Warning message in melt(df, measure.vars = c(\"heart\", \"liver\")):\n",
      "“The melt generic in data.table has been passed a data.frame and will attempt to redirect to the relevant reshape2 method; please note that reshape2 is deprecated, and this redirection is now deprecated as well. To continue using melt methods from reshape2 while both libraries are attached, e.g. melt.list, you can prepend the namespace like reshape2::melt(df). In the next version, this warning will become an error.”\n"
     ]
    },
    {
     "data": {
      "image/png": "[encoded data removed]",
      "text/plain": [
       "plot without title"
      ]
     },
     "metadata": {
      "image/png": {
       "height": 420,
       "width": 420
      }
     },
     "output_type": "display_data"
    }
   ],
   "source": [
    "ggplot(melt(df, measure.vars= c(\"heart\", \"liver\")), aes(x = value, fill = as.character(cl))) + geom_density(alpha = 0.5) + facet_wrap(~variable)"
   ]
  },
  {
   "cell_type": "code",
   "execution_count": 323,
   "metadata": {},
   "outputs": [
    {
     "name": "stderr",
     "output_type": "stream",
     "text": [
      "Warning message in wilcox.test.default(df[df$cl == 1, ]$heart, df[df$cl == 2, ]$heart):\n",
      "“cannot compute exact p-value with ties”\n"
     ]
    },
    {
     "data": {
      "text/plain": [
       "\n",
       "\tWilcoxon rank sum test with continuity correction\n",
       "\n",
       "data:  df[df$cl == 1, ]$heart and df[df$cl == 2, ]$heart\n",
       "W = 381.5, p-value = 0.0169\n",
       "alternative hypothesis: true location shift is not equal to 0\n"
      ]
     },
     "metadata": {},
     "output_type": "display_data"
    }
   ],
   "source": [
    "wilcox.test(df[df$cl == 1, ]$heart, df[df$cl == 2, ]$heart)"
   ]
  },
  {
   "cell_type": "code",
   "execution_count": 327,
   "metadata": {},
   "outputs": [
    {
     "name": "stderr",
     "output_type": "stream",
     "text": [
      "Warning message in wilcox.test.default(df[df$cl == 1, ]$liver, df[df$cl == 2, ]$liver):\n",
      "“cannot compute exact p-value with ties”\n"
     ]
    },
    {
     "data": {
      "text/plain": [
       "\n",
       "\tWilcoxon rank sum test with continuity correction\n",
       "\n",
       "data:  df[df$cl == 1, ]$liver and df[df$cl == 2, ]$liver\n",
       "W = 290.5, p-value = 0.6669\n",
       "alternative hypothesis: true location shift is not equal to 0\n"
      ]
     },
     "metadata": {},
     "output_type": "display_data"
    }
   ],
   "source": [
    "wilcox.test(df[df$cl == 1, ]$liver, df[df$cl == 2, ]$liver)"
   ]
  },
  {
   "cell_type": "markdown",
   "metadata": {},
   "source": [
    "From the df generating the nodes/edges for the GRN (shortened):"
   ]
  },
  {
   "cell_type": "code",
   "execution_count": 109,
   "metadata": {},
   "outputs": [
    {
     "data": {
      "text/html": [
       "<table>\n",
       "<caption>A data.frame: 6 × 4</caption>\n",
       "<thead>\n",
       "\t<tr><th></th><th scope=col>V1</th><th scope=col>V2</th><th scope=col>V3</th><th scope=col>V4</th></tr>\n",
       "\t<tr><th></th><th scope=col>&lt;chr&gt;</th><th scope=col>&lt;chr&gt;</th><th scope=col>&lt;chr&gt;</th><th scope=col>&lt;chr&gt;</th></tr>\n",
       "</thead>\n",
       "<tbody>\n",
       "\t<tr><th scope=row>1</th><td>AATF</td><td>BAX   </td><td>Repression</td><td>22909821</td></tr>\n",
       "\t<tr><th scope=row>2</th><td>AATF</td><td>CDKN1A</td><td>Unknown   </td><td>17157788</td></tr>\n",
       "\t<tr><th scope=row>3</th><td>AATF</td><td>KLK3  </td><td>Unknown   </td><td>23146908</td></tr>\n",
       "\t<tr><th scope=row>4</th><td>AATF</td><td>MYC   </td><td>Activation</td><td>20549547</td></tr>\n",
       "\t<tr><th scope=row>5</th><td>AATF</td><td>TP53  </td><td>Unknown   </td><td>17157788</td></tr>\n",
       "\t<tr><th scope=row>6</th><td>ABL1</td><td>BAX   </td><td>Activation</td><td>11753601</td></tr>\n",
       "</tbody>\n",
       "</table>\n"
      ],
      "text/latex": [
       "A data.frame: 6 × 4\n",
       "\\begin{tabular}{r|llll}\n",
       "  & V1 & V2 & V3 & V4\\\\\n",
       "  & <chr> & <chr> & <chr> & <chr>\\\\\n",
       "\\hline\n",
       "\t1 & AATF & BAX    & Repression & 22909821\\\\\n",
       "\t2 & AATF & CDKN1A & Unknown    & 17157788\\\\\n",
       "\t3 & AATF & KLK3   & Unknown    & 23146908\\\\\n",
       "\t4 & AATF & MYC    & Activation & 20549547\\\\\n",
       "\t5 & AATF & TP53   & Unknown    & 17157788\\\\\n",
       "\t6 & ABL1 & BAX    & Activation & 11753601\\\\\n",
       "\\end{tabular}\n"
      ],
      "text/markdown": [
       "\n",
       "A data.frame: 6 × 4\n",
       "\n",
       "| <!--/--> | V1 &lt;chr&gt; | V2 &lt;chr&gt; | V3 &lt;chr&gt; | V4 &lt;chr&gt; |\n",
       "|---|---|---|---|---|\n",
       "| 1 | AATF | BAX    | Repression | 22909821 |\n",
       "| 2 | AATF | CDKN1A | Unknown    | 17157788 |\n",
       "| 3 | AATF | KLK3   | Unknown    | 23146908 |\n",
       "| 4 | AATF | MYC    | Activation | 20549547 |\n",
       "| 5 | AATF | TP53   | Unknown    | 17157788 |\n",
       "| 6 | ABL1 | BAX    | Activation | 11753601 |\n",
       "\n"
      ],
      "text/plain": [
       "  V1   V2     V3         V4      \n",
       "1 AATF BAX    Repression 22909821\n",
       "2 AATF CDKN1A Unknown    17157788\n",
       "3 AATF KLK3   Unknown    23146908\n",
       "4 AATF MYC    Activation 20549547\n",
       "5 AATF TP53   Unknown    17157788\n",
       "6 ABL1 BAX    Activation 11753601"
      ]
     },
     "metadata": {},
     "output_type": "display_data"
    }
   ],
   "source": [
    "TF_Target <- read.table(\"trrust_rawdata.human.tsv\")\n",
    "head(TF_Target)\n",
    "colnames(TF_Target) <- c(\"TF\", \"target\", \"action\", \"pmid\")"
   ]
  },
  {
   "cell_type": "code",
   "execution_count": 110,
   "metadata": {},
   "outputs": [],
   "source": [
    "gene_clusters <- df"
   ]
  },
  {
   "cell_type": "code",
   "execution_count": 111,
   "metadata": {},
   "outputs": [
    {
     "data": {
      "text/html": [
       "364"
      ],
      "text/latex": [
       "364"
      ],
      "text/markdown": [
       "364"
      ],
      "text/plain": [
       "[1] 364"
      ]
     },
     "metadata": {},
     "output_type": "display_data"
    },
    {
     "data": {
      "text/html": [
       "130"
      ],
      "text/latex": [
       "130"
      ],
      "text/markdown": [
       "130"
      ],
      "text/plain": [
       "[1] 130"
      ]
     },
     "metadata": {},
     "output_type": "display_data"
    }
   ],
   "source": [
    "gene_clusters$active_in <- c(\"L\")\n",
    "gene_clusters[gene_clusters$cl == 2 & \n",
    "                gene_clusters$Call_upd == \"MethylPlus\",]$active_in <-\"H\"\n",
    "gene_clusters[gene_clusters$cl == 1 & \n",
    "                gene_clusters$Call_upd != \"MethylPlus\",]$active_in <- \"H\"\n",
    "gene_clusters$TF <- as.character(gene_clusters$TF)\n",
    "\n",
    "##identifying the targets of the TFs, that are active in heart/liber\n",
    "H_targets <- unique(TF_Target[TF_Target$TF %in% \n",
    "                  gene_clusters[gene_clusters$active_in == \"H\",]$TF, ]$target)\n",
    "length(H_targets)\n",
    "\n",
    "L_targets <- unique(TF_Target[TF_Target$TF %in% \n",
    "                  gene_clusters[gene_clusters$active_in == \"L\",]$TF, ]$target)\n",
    "length(L_targets)\n",
    "\n",
    "#all targets combined\n",
    "all_targets <- union(L_targets, H_targets)\n",
    "\n",
    "#intersection of targets\n",
    "common_targets <- intersect(H_targets, L_targets)\n",
    "\n",
    "##all the genes, that are targeted by any of the transciption factors and their \n",
    "##regulators\n",
    "\n",
    "#edges\n",
    "sub_tf_t <- TF_Target[TF_Target$TF %in% gene_clusters$TF, c(-4)]\n",
    "\n",
    "colnames(sub_tf_t) <- c(\"source\", \"target\", \"interaction\")\n",
    "write.table(sub_tf_t, \"GRN/edges_full_upd.tsv\", \n",
    "            sep = \"\\t\", quote = F, row.names = F)"
   ]
  },
  {
   "cell_type": "code",
   "execution_count": null,
   "metadata": {},
   "outputs": [],
   "source": []
  },
  {
   "cell_type": "code",
   "execution_count": 113,
   "metadata": {},
   "outputs": [],
   "source": [
    "##nodes\n",
    "nodes <- data.frame(name = unique(union(sub_tf_t$source, sub_tf_t$target)), \n",
    "                   action = c(\"none\"))\n",
    "nodes$action <- as.character(nodes$action)\n",
    "nodes$name <- as.character(nodes$name)\n",
    "nodes[nodes$name %in% \n",
    "        gene_clusters[gene_clusters$active_in == \"H\",]$TF, ]$action <- \"H\"\n",
    "\n",
    "nodes[nodes$name %in% \n",
    "        gene_clusters[gene_clusters$active_in == \"L\",]$TF, ]$action <- \"L\"\n",
    "\n",
    "\n",
    "nodes$role <- c(\"target\")\n",
    "nodes$role <- as.character(nodes$role)\n",
    "nodes[nodes$name %in% TF_Target$TF, ]$role <- \"TF\"\n",
    "\n",
    "write.table(nodes, \"GRN/nodes_full_upd.tsv\", \n",
    "            sep = \"\\t\", quote = F, row.names = F)"
   ]
  },
  {
   "cell_type": "code",
   "execution_count": 148,
   "metadata": {},
   "outputs": [
    {
     "data": {
      "text/html": [
       "<table>\n",
       "<caption>A data.frame: 1 × 3</caption>\n",
       "<thead>\n",
       "\t<tr><th></th><th scope=col>name</th><th scope=col>action</th><th scope=col>role</th></tr>\n",
       "\t<tr><th></th><th scope=col>&lt;chr&gt;</th><th scope=col>&lt;chr&gt;</th><th scope=col>&lt;chr&gt;</th></tr>\n",
       "</thead>\n",
       "<tbody>\n",
       "\t<tr><th scope=row>29</th><td>KLF2</td><td>H</td><td>TF</td></tr>\n",
       "</tbody>\n",
       "</table>\n"
      ],
      "text/latex": [
       "A data.frame: 1 × 3\n",
       "\\begin{tabular}{r|lll}\n",
       "  & name & action & role\\\\\n",
       "  & <chr> & <chr> & <chr>\\\\\n",
       "\\hline\n",
       "\t29 & KLF2 & H & TF\\\\\n",
       "\\end{tabular}\n"
      ],
      "text/markdown": [
       "\n",
       "A data.frame: 1 × 3\n",
       "\n",
       "| <!--/--> | name &lt;chr&gt; | action &lt;chr&gt; | role &lt;chr&gt; |\n",
       "|---|---|---|---|\n",
       "| 29 | KLF2 | H | TF |\n",
       "\n"
      ],
      "text/plain": [
       "   name action role\n",
       "29 KLF2 H      TF  "
      ]
     },
     "metadata": {},
     "output_type": "display_data"
    }
   ],
   "source": [
    "nodes[nodes$name == \"KLF2\",]"
   ]
  },
  {
   "cell_type": "code",
   "execution_count": 139,
   "metadata": {},
   "outputs": [],
   "source": [
    "##subselecting and filtering - only the common actions and known interactions\n",
    "\n",
    "sub_tf_s <- sub_tf_t[sub_tf_t$target %in% common_targets,]\n",
    "sub_tf_s <- sub_tf_s[sub_tf_s$interaction != \"Unknown\", ]\n",
    "\n",
    "#dropping ambigous interactions\n",
    "to_drop_dupl <- as.integer(row.names(sub_tf_s[duplicated(sub_tf_s[, \n",
    "                                                  c(\"source\", \"target\")]),]))\n",
    "to_drop_dupl <- c(to_drop_dupl - 1, to_drop_dupl)\n",
    "sub_tf_s <- sub_tf_s[!row.names(sub_tf_s) %in% as.character(to_drop_dupl),]\n"
   ]
  },
  {
   "cell_type": "code",
   "execution_count": 149,
   "metadata": {},
   "outputs": [
    {
     "data": {
      "text/html": [
       "<style>\n",
       ".list-inline {list-style: none; margin:0; padding: 0}\n",
       ".list-inline>li {display: inline-block}\n",
       ".list-inline>li:not(:last-child)::after {content: \"\\00b7\"; padding: 0 .5ex}\n",
       "</style>\n",
       "<ol class=list-inline><li>'E2F6'</li><li>'EGR1'</li><li>'EGR1'</li><li>'EGR1'</li><li>'EGR1'</li><li>'EGR1'</li><li>'EGR1'</li><li>'EGR1'</li><li>'ERF'</li><li>'ERG'</li><li>'ETS1'</li><li>'ETS1'</li><li>'ETS1'</li><li>'ETS1'</li><li>'ETS1'</li><li>'ETV4'</li><li>'ETV4'</li><li>'ETV6'</li><li>'FOXA1'</li><li>'FOXA1'</li><li>'FOXA2'</li><li>'FOXA2'</li><li>'FOXA2'</li><li>'FOXA2'</li><li>'FOXO4'</li><li>'FOXO4'</li><li>'FOXP1'</li><li>'FOXP3'</li><li>'FOXP3'</li><li>'HNF1A'</li><li>'KLF16'</li><li>'KLF2'</li><li>'KLF4'</li><li>'KLF4'</li><li>'KLF4'</li><li>'KLF4'</li><li>'KLF5'</li><li>'NFIX'</li><li>'NR2F2'</li><li>'SP3'</li><li>'SP3'</li><li>'SP3'</li><li>'SP3'</li><li>'SP3'</li><li>'SP3'</li><li>'ZBTB7A'</li></ol>\n"
      ],
      "text/latex": [
       "\\begin{enumerate*}\n",
       "\\item 'E2F6'\n",
       "\\item 'EGR1'\n",
       "\\item 'EGR1'\n",
       "\\item 'EGR1'\n",
       "\\item 'EGR1'\n",
       "\\item 'EGR1'\n",
       "\\item 'EGR1'\n",
       "\\item 'EGR1'\n",
       "\\item 'ERF'\n",
       "\\item 'ERG'\n",
       "\\item 'ETS1'\n",
       "\\item 'ETS1'\n",
       "\\item 'ETS1'\n",
       "\\item 'ETS1'\n",
       "\\item 'ETS1'\n",
       "\\item 'ETV4'\n",
       "\\item 'ETV4'\n",
       "\\item 'ETV6'\n",
       "\\item 'FOXA1'\n",
       "\\item 'FOXA1'\n",
       "\\item 'FOXA2'\n",
       "\\item 'FOXA2'\n",
       "\\item 'FOXA2'\n",
       "\\item 'FOXA2'\n",
       "\\item 'FOXO4'\n",
       "\\item 'FOXO4'\n",
       "\\item 'FOXP1'\n",
       "\\item 'FOXP3'\n",
       "\\item 'FOXP3'\n",
       "\\item 'HNF1A'\n",
       "\\item 'KLF16'\n",
       "\\item 'KLF2'\n",
       "\\item 'KLF4'\n",
       "\\item 'KLF4'\n",
       "\\item 'KLF4'\n",
       "\\item 'KLF4'\n",
       "\\item 'KLF5'\n",
       "\\item 'NFIX'\n",
       "\\item 'NR2F2'\n",
       "\\item 'SP3'\n",
       "\\item 'SP3'\n",
       "\\item 'SP3'\n",
       "\\item 'SP3'\n",
       "\\item 'SP3'\n",
       "\\item 'SP3'\n",
       "\\item 'ZBTB7A'\n",
       "\\end{enumerate*}\n"
      ],
      "text/markdown": [
       "1. 'E2F6'\n",
       "2. 'EGR1'\n",
       "3. 'EGR1'\n",
       "4. 'EGR1'\n",
       "5. 'EGR1'\n",
       "6. 'EGR1'\n",
       "7. 'EGR1'\n",
       "8. 'EGR1'\n",
       "9. 'ERF'\n",
       "10. 'ERG'\n",
       "11. 'ETS1'\n",
       "12. 'ETS1'\n",
       "13. 'ETS1'\n",
       "14. 'ETS1'\n",
       "15. 'ETS1'\n",
       "16. 'ETV4'\n",
       "17. 'ETV4'\n",
       "18. 'ETV6'\n",
       "19. 'FOXA1'\n",
       "20. 'FOXA1'\n",
       "21. 'FOXA2'\n",
       "22. 'FOXA2'\n",
       "23. 'FOXA2'\n",
       "24. 'FOXA2'\n",
       "25. 'FOXO4'\n",
       "26. 'FOXO4'\n",
       "27. 'FOXP1'\n",
       "28. 'FOXP3'\n",
       "29. 'FOXP3'\n",
       "30. 'HNF1A'\n",
       "31. 'KLF16'\n",
       "32. 'KLF2'\n",
       "33. 'KLF4'\n",
       "34. 'KLF4'\n",
       "35. 'KLF4'\n",
       "36. 'KLF4'\n",
       "37. 'KLF5'\n",
       "38. 'NFIX'\n",
       "39. 'NR2F2'\n",
       "40. 'SP3'\n",
       "41. 'SP3'\n",
       "42. 'SP3'\n",
       "43. 'SP3'\n",
       "44. 'SP3'\n",
       "45. 'SP3'\n",
       "46. 'ZBTB7A'\n",
       "\n",
       "\n"
      ],
      "text/plain": [
       " [1] \"E2F6\"   \"EGR1\"   \"EGR1\"   \"EGR1\"   \"EGR1\"   \"EGR1\"   \"EGR1\"   \"EGR1\"  \n",
       " [9] \"ERF\"    \"ERG\"    \"ETS1\"   \"ETS1\"   \"ETS1\"   \"ETS1\"   \"ETS1\"   \"ETV4\"  \n",
       "[17] \"ETV4\"   \"ETV6\"   \"FOXA1\"  \"FOXA1\"  \"FOXA2\"  \"FOXA2\"  \"FOXA2\"  \"FOXA2\" \n",
       "[25] \"FOXO4\"  \"FOXO4\"  \"FOXP1\"  \"FOXP3\"  \"FOXP3\"  \"HNF1A\"  \"KLF16\"  \"KLF2\"  \n",
       "[33] \"KLF4\"   \"KLF4\"   \"KLF4\"   \"KLF4\"   \"KLF5\"   \"NFIX\"   \"NR2F2\"  \"SP3\"   \n",
       "[41] \"SP3\"    \"SP3\"    \"SP3\"    \"SP3\"    \"SP3\"    \"ZBTB7A\""
      ]
     },
     "metadata": {},
     "output_type": "display_data"
    }
   ],
   "source": [
    "sub_tf_s$source"
   ]
  },
  {
   "cell_type": "code",
   "execution_count": 151,
   "metadata": {},
   "outputs": [],
   "source": [
    "nodes_f <- nodes[nodes$name %in% unique(union(sub_tf_s$source, sub_tf_s$target)), ]"
   ]
  },
  {
   "cell_type": "code",
   "execution_count": 119,
   "metadata": {},
   "outputs": [
    {
     "data": {
      "text/html": [
       "<table>\n",
       "<caption>A data.frame: 6 × 4</caption>\n",
       "<thead>\n",
       "\t<tr><th></th><th scope=col>Gene</th><th scope=col>Gene.name</th><th scope=col>heart</th><th scope=col>liver</th></tr>\n",
       "\t<tr><th></th><th scope=col>&lt;chr&gt;</th><th scope=col>&lt;chr&gt;</th><th scope=col>&lt;dbl&gt;</th><th scope=col>&lt;dbl&gt;</th></tr>\n",
       "</thead>\n",
       "<tbody>\n",
       "\t<tr><th scope=row>1</th><td>ENSG00000005513</td><td>SOX8  </td><td> 1.8</td><td> 1.0</td></tr>\n",
       "\t<tr><th scope=row>2</th><td>ENSG00000006194</td><td>ZNF263</td><td>14.6</td><td>17.1</td></tr>\n",
       "\t<tr><th scope=row>3</th><td>ENSG00000006377</td><td>DLX6  </td><td> 0.5</td><td> 0.3</td></tr>\n",
       "\t<tr><th scope=row>4</th><td>ENSG00000006468</td><td>ETV1  </td><td>18.0</td><td> 2.0</td></tr>\n",
       "\t<tr><th scope=row>5</th><td>ENSG00000007866</td><td>TEAD3 </td><td>16.9</td><td> 8.7</td></tr>\n",
       "\t<tr><th scope=row>6</th><td>ENSG00000008196</td><td>TFAP2B</td><td> 0.1</td><td> 0.0</td></tr>\n",
       "</tbody>\n",
       "</table>\n"
      ],
      "text/latex": [
       "A data.frame: 6 × 4\n",
       "\\begin{tabular}{r|llll}\n",
       "  & Gene & Gene.name & heart & liver\\\\\n",
       "  & <chr> & <chr> & <dbl> & <dbl>\\\\\n",
       "\\hline\n",
       "\t1 & ENSG00000005513 & SOX8   &  1.8 &  1.0\\\\\n",
       "\t2 & ENSG00000006194 & ZNF263 & 14.6 & 17.1\\\\\n",
       "\t3 & ENSG00000006377 & DLX6   &  0.5 &  0.3\\\\\n",
       "\t4 & ENSG00000006468 & ETV1   & 18.0 &  2.0\\\\\n",
       "\t5 & ENSG00000007866 & TEAD3  & 16.9 &  8.7\\\\\n",
       "\t6 & ENSG00000008196 & TFAP2B &  0.1 &  0.0\\\\\n",
       "\\end{tabular}\n"
      ],
      "text/markdown": [
       "\n",
       "A data.frame: 6 × 4\n",
       "\n",
       "| <!--/--> | Gene &lt;chr&gt; | Gene.name &lt;chr&gt; | heart &lt;dbl&gt; | liver &lt;dbl&gt; |\n",
       "|---|---|---|---|---|\n",
       "| 1 | ENSG00000005513 | SOX8   |  1.8 |  1.0 |\n",
       "| 2 | ENSG00000006194 | ZNF263 | 14.6 | 17.1 |\n",
       "| 3 | ENSG00000006377 | DLX6   |  0.5 |  0.3 |\n",
       "| 4 | ENSG00000006468 | ETV1   | 18.0 |  2.0 |\n",
       "| 5 | ENSG00000007866 | TEAD3  | 16.9 |  8.7 |\n",
       "| 6 | ENSG00000008196 | TFAP2B |  0.1 |  0.0 |\n",
       "\n"
      ],
      "text/plain": [
       "  Gene            Gene.name heart liver\n",
       "1 ENSG00000005513 SOX8       1.8   1.0 \n",
       "2 ENSG00000006194 ZNF263    14.6  17.1 \n",
       "3 ENSG00000006377 DLX6       0.5   0.3 \n",
       "4 ENSG00000006468 ETV1      18.0   2.0 \n",
       "5 ENSG00000007866 TEAD3     16.9   8.7 \n",
       "6 ENSG00000008196 TFAP2B     0.1   0.0 "
      ]
     },
     "metadata": {},
     "output_type": "display_data"
    }
   ],
   "source": [
    "head(te_byT)"
   ]
  },
  {
   "cell_type": "code",
   "execution_count": null,
   "metadata": {},
   "outputs": [],
   "source": []
  },
  {
   "cell_type": "code",
   "execution_count": 121,
   "metadata": {},
   "outputs": [],
   "source": [
    "nodes_f_expr <- left_join(nodes_f, te_byT,by = c(\"name\" = \"Gene.name\"))"
   ]
  },
  {
   "cell_type": "code",
   "execution_count": 122,
   "metadata": {},
   "outputs": [],
   "source": [
    "setDT(nodes_f_expr)"
   ]
  },
  {
   "cell_type": "code",
   "execution_count": 126,
   "metadata": {},
   "outputs": [
    {
     "data": {
      "text/html": [
       "<table>\n",
       "<caption>A data.table: 2 × 6</caption>\n",
       "<thead>\n",
       "\t<tr><th scope=col>name</th><th scope=col>action</th><th scope=col>role</th><th scope=col>Gene</th><th scope=col>heart</th><th scope=col>liver</th></tr>\n",
       "\t<tr><th scope=col>&lt;chr&gt;</th><th scope=col>&lt;chr&gt;</th><th scope=col>&lt;chr&gt;</th><th scope=col>&lt;chr&gt;</th><th scope=col>&lt;dbl&gt;</th><th scope=col>&lt;dbl&gt;</th></tr>\n",
       "</thead>\n",
       "<tbody>\n",
       "\t<tr><td>ETV4</td><td>H</td><td>TF</td><td>ENSG00000175832</td><td>2.6</td><td>1.4</td></tr>\n",
       "\t<tr><td>KLF5</td><td>H</td><td>TF</td><td>ENSG00000102554</td><td>1.3</td><td>1.2</td></tr>\n",
       "</tbody>\n",
       "</table>\n"
      ],
      "text/latex": [
       "A data.table: 2 × 6\n",
       "\\begin{tabular}{llllll}\n",
       " name & action & role & Gene & heart & liver\\\\\n",
       " <chr> & <chr> & <chr> & <chr> & <dbl> & <dbl>\\\\\n",
       "\\hline\n",
       "\t ETV4 & H & TF & ENSG00000175832 & 2.6 & 1.4\\\\\n",
       "\t KLF5 & H & TF & ENSG00000102554 & 1.3 & 1.2\\\\\n",
       "\\end{tabular}\n"
      ],
      "text/markdown": [
       "\n",
       "A data.table: 2 × 6\n",
       "\n",
       "| name &lt;chr&gt; | action &lt;chr&gt; | role &lt;chr&gt; | Gene &lt;chr&gt; | heart &lt;dbl&gt; | liver &lt;dbl&gt; |\n",
       "|---|---|---|---|---|---|\n",
       "| ETV4 | H | TF | ENSG00000175832 | 2.6 | 1.4 |\n",
       "| KLF5 | H | TF | ENSG00000102554 | 1.3 | 1.2 |\n",
       "\n"
      ],
      "text/plain": [
       "  name action role Gene            heart liver\n",
       "1 ETV4 H      TF   ENSG00000175832 2.6   1.4  \n",
       "2 KLF5 H      TF   ENSG00000102554 1.3   1.2  "
      ]
     },
     "metadata": {},
     "output_type": "display_data"
    }
   ],
   "source": [
    "nodes_f_expr[action==\"H\" & heart < 5,]"
   ]
  },
  {
   "cell_type": "code",
   "execution_count": 125,
   "metadata": {},
   "outputs": [
    {
     "data": {
      "text/html": [
       "<table>\n",
       "<caption>A data.table: 5 × 6</caption>\n",
       "<thead>\n",
       "\t<tr><th scope=col>name</th><th scope=col>action</th><th scope=col>role</th><th scope=col>Gene</th><th scope=col>heart</th><th scope=col>liver</th></tr>\n",
       "\t<tr><th scope=col>&lt;chr&gt;</th><th scope=col>&lt;chr&gt;</th><th scope=col>&lt;chr&gt;</th><th scope=col>&lt;chr&gt;</th><th scope=col>&lt;dbl&gt;</th><th scope=col>&lt;dbl&gt;</th></tr>\n",
       "</thead>\n",
       "<tbody>\n",
       "\t<tr><td>EGR1  </td><td>H</td><td>TF</td><td>ENSG00000120738</td><td>42.9</td><td>68.8</td></tr>\n",
       "\t<tr><td>ERF   </td><td>H</td><td>TF</td><td>ENSG00000105722</td><td>21.5</td><td>27.2</td></tr>\n",
       "\t<tr><td>ETV6  </td><td>H</td><td>TF</td><td>ENSG00000139083</td><td> 6.7</td><td> 9.6</td></tr>\n",
       "\t<tr><td>SP3   </td><td>H</td><td>TF</td><td>ENSG00000172845</td><td>15.6</td><td>19.2</td></tr>\n",
       "\t<tr><td>ZBTB7A</td><td>H</td><td>TF</td><td>ENSG00000178951</td><td>11.1</td><td>12.2</td></tr>\n",
       "</tbody>\n",
       "</table>\n"
      ],
      "text/latex": [
       "A data.table: 5 × 6\n",
       "\\begin{tabular}{llllll}\n",
       " name & action & role & Gene & heart & liver\\\\\n",
       " <chr> & <chr> & <chr> & <chr> & <dbl> & <dbl>\\\\\n",
       "\\hline\n",
       "\t EGR1   & H & TF & ENSG00000120738 & 42.9 & 68.8\\\\\n",
       "\t ERF    & H & TF & ENSG00000105722 & 21.5 & 27.2\\\\\n",
       "\t ETV6   & H & TF & ENSG00000139083 &  6.7 &  9.6\\\\\n",
       "\t SP3    & H & TF & ENSG00000172845 & 15.6 & 19.2\\\\\n",
       "\t ZBTB7A & H & TF & ENSG00000178951 & 11.1 & 12.2\\\\\n",
       "\\end{tabular}\n"
      ],
      "text/markdown": [
       "\n",
       "A data.table: 5 × 6\n",
       "\n",
       "| name &lt;chr&gt; | action &lt;chr&gt; | role &lt;chr&gt; | Gene &lt;chr&gt; | heart &lt;dbl&gt; | liver &lt;dbl&gt; |\n",
       "|---|---|---|---|---|---|\n",
       "| EGR1   | H | TF | ENSG00000120738 | 42.9 | 68.8 |\n",
       "| ERF    | H | TF | ENSG00000105722 | 21.5 | 27.2 |\n",
       "| ETV6   | H | TF | ENSG00000139083 |  6.7 |  9.6 |\n",
       "| SP3    | H | TF | ENSG00000172845 | 15.6 | 19.2 |\n",
       "| ZBTB7A | H | TF | ENSG00000178951 | 11.1 | 12.2 |\n",
       "\n"
      ],
      "text/plain": [
       "  name   action role Gene            heart liver\n",
       "1 EGR1   H      TF   ENSG00000120738 42.9  68.8 \n",
       "2 ERF    H      TF   ENSG00000105722 21.5  27.2 \n",
       "3 ETV6   H      TF   ENSG00000139083  6.7   9.6 \n",
       "4 SP3    H      TF   ENSG00000172845 15.6  19.2 \n",
       "5 ZBTB7A H      TF   ENSG00000178951 11.1  12.2 "
      ]
     },
     "metadata": {},
     "output_type": "display_data"
    }
   ],
   "source": [
    "nodes_f_expr[action==\"H\" & heart < liver,]"
   ]
  },
  {
   "cell_type": "code",
   "execution_count": 130,
   "metadata": {},
   "outputs": [
    {
     "data": {
      "text/html": [
       "<table>\n",
       "<caption>A data.table: 8 × 6</caption>\n",
       "<thead>\n",
       "\t<tr><th scope=col>name</th><th scope=col>action</th><th scope=col>role</th><th scope=col>Gene</th><th scope=col>heart</th><th scope=col>liver</th></tr>\n",
       "\t<tr><th scope=col>&lt;chr&gt;</th><th scope=col>&lt;chr&gt;</th><th scope=col>&lt;chr&gt;</th><th scope=col>&lt;chr&gt;</th><th scope=col>&lt;dbl&gt;</th><th scope=col>&lt;dbl&gt;</th></tr>\n",
       "</thead>\n",
       "<tbody>\n",
       "\t<tr><td>FOXA1</td><td>L</td><td>TF</td><td>ENSG00000129514</td><td> 0.1</td><td>47.0</td></tr>\n",
       "\t<tr><td>FOXA2</td><td>L</td><td>TF</td><td>ENSG00000125798</td><td> 0.2</td><td>44.4</td></tr>\n",
       "\t<tr><td>FOXO4</td><td>L</td><td>TF</td><td>ENSG00000184481</td><td> 9.7</td><td> 3.6</td></tr>\n",
       "\t<tr><td>FOXP1</td><td>L</td><td>TF</td><td>ENSG00000114861</td><td>15.5</td><td>12.9</td></tr>\n",
       "\t<tr><td>FOXP3</td><td>L</td><td>TF</td><td>ENSG00000049768</td><td> 0.4</td><td> 4.7</td></tr>\n",
       "\t<tr><td>HNF1A</td><td>L</td><td>TF</td><td>ENSG00000135100</td><td> 0.1</td><td>15.6</td></tr>\n",
       "\t<tr><td>KLF16</td><td>L</td><td>TF</td><td>ENSG00000129911</td><td> 4.8</td><td>15.1</td></tr>\n",
       "\t<tr><td>NR2F2</td><td>L</td><td>TF</td><td>ENSG00000185551</td><td>30.1</td><td>15.0</td></tr>\n",
       "</tbody>\n",
       "</table>\n"
      ],
      "text/latex": [
       "A data.table: 8 × 6\n",
       "\\begin{tabular}{llllll}\n",
       " name & action & role & Gene & heart & liver\\\\\n",
       " <chr> & <chr> & <chr> & <chr> & <dbl> & <dbl>\\\\\n",
       "\\hline\n",
       "\t FOXA1 & L & TF & ENSG00000129514 &  0.1 & 47.0\\\\\n",
       "\t FOXA2 & L & TF & ENSG00000125798 &  0.2 & 44.4\\\\\n",
       "\t FOXO4 & L & TF & ENSG00000184481 &  9.7 &  3.6\\\\\n",
       "\t FOXP1 & L & TF & ENSG00000114861 & 15.5 & 12.9\\\\\n",
       "\t FOXP3 & L & TF & ENSG00000049768 &  0.4 &  4.7\\\\\n",
       "\t HNF1A & L & TF & ENSG00000135100 &  0.1 & 15.6\\\\\n",
       "\t KLF16 & L & TF & ENSG00000129911 &  4.8 & 15.1\\\\\n",
       "\t NR2F2 & L & TF & ENSG00000185551 & 30.1 & 15.0\\\\\n",
       "\\end{tabular}\n"
      ],
      "text/markdown": [
       "\n",
       "A data.table: 8 × 6\n",
       "\n",
       "| name &lt;chr&gt; | action &lt;chr&gt; | role &lt;chr&gt; | Gene &lt;chr&gt; | heart &lt;dbl&gt; | liver &lt;dbl&gt; |\n",
       "|---|---|---|---|---|---|\n",
       "| FOXA1 | L | TF | ENSG00000129514 |  0.1 | 47.0 |\n",
       "| FOXA2 | L | TF | ENSG00000125798 |  0.2 | 44.4 |\n",
       "| FOXO4 | L | TF | ENSG00000184481 |  9.7 |  3.6 |\n",
       "| FOXP1 | L | TF | ENSG00000114861 | 15.5 | 12.9 |\n",
       "| FOXP3 | L | TF | ENSG00000049768 |  0.4 |  4.7 |\n",
       "| HNF1A | L | TF | ENSG00000135100 |  0.1 | 15.6 |\n",
       "| KLF16 | L | TF | ENSG00000129911 |  4.8 | 15.1 |\n",
       "| NR2F2 | L | TF | ENSG00000185551 | 30.1 | 15.0 |\n",
       "\n"
      ],
      "text/plain": [
       "  name  action role Gene            heart liver\n",
       "1 FOXA1 L      TF   ENSG00000129514  0.1  47.0 \n",
       "2 FOXA2 L      TF   ENSG00000125798  0.2  44.4 \n",
       "3 FOXO4 L      TF   ENSG00000184481  9.7   3.6 \n",
       "4 FOXP1 L      TF   ENSG00000114861 15.5  12.9 \n",
       "5 FOXP3 L      TF   ENSG00000049768  0.4   4.7 \n",
       "6 HNF1A L      TF   ENSG00000135100  0.1  15.6 \n",
       "7 KLF16 L      TF   ENSG00000129911  4.8  15.1 \n",
       "8 NR2F2 L      TF   ENSG00000185551 30.1  15.0 "
      ]
     },
     "metadata": {},
     "output_type": "display_data"
    }
   ],
   "source": [
    "nodes_f_expr[action==\"L\" & liver > 1,]"
   ]
  },
  {
   "cell_type": "code",
   "execution_count": 128,
   "metadata": {},
   "outputs": [
    {
     "data": {
      "text/html": [
       "<table>\n",
       "<caption>A data.table: 5 × 6</caption>\n",
       "<thead>\n",
       "\t<tr><th scope=col>name</th><th scope=col>action</th><th scope=col>role</th><th scope=col>Gene</th><th scope=col>heart</th><th scope=col>liver</th></tr>\n",
       "\t<tr><th scope=col>&lt;chr&gt;</th><th scope=col>&lt;chr&gt;</th><th scope=col>&lt;chr&gt;</th><th scope=col>&lt;chr&gt;</th><th scope=col>&lt;dbl&gt;</th><th scope=col>&lt;dbl&gt;</th></tr>\n",
       "</thead>\n",
       "<tbody>\n",
       "\t<tr><td>FOXL1</td><td>L</td><td>TF</td><td>ENSG00000176678</td><td> 4.5</td><td> 0.5</td></tr>\n",
       "\t<tr><td>FOXO4</td><td>L</td><td>TF</td><td>ENSG00000184481</td><td> 9.7</td><td> 3.6</td></tr>\n",
       "\t<tr><td>FOXP1</td><td>L</td><td>TF</td><td>ENSG00000114861</td><td>15.5</td><td>12.9</td></tr>\n",
       "\t<tr><td>NR2F2</td><td>L</td><td>TF</td><td>ENSG00000185551</td><td>30.1</td><td>15.0</td></tr>\n",
       "\t<tr><td>VDR  </td><td>L</td><td>TF</td><td>ENSG00000111424</td><td> 1.5</td><td> 0.6</td></tr>\n",
       "</tbody>\n",
       "</table>\n"
      ],
      "text/latex": [
       "A data.table: 5 × 6\n",
       "\\begin{tabular}{llllll}\n",
       " name & action & role & Gene & heart & liver\\\\\n",
       " <chr> & <chr> & <chr> & <chr> & <dbl> & <dbl>\\\\\n",
       "\\hline\n",
       "\t FOXL1 & L & TF & ENSG00000176678 &  4.5 &  0.5\\\\\n",
       "\t FOXO4 & L & TF & ENSG00000184481 &  9.7 &  3.6\\\\\n",
       "\t FOXP1 & L & TF & ENSG00000114861 & 15.5 & 12.9\\\\\n",
       "\t NR2F2 & L & TF & ENSG00000185551 & 30.1 & 15.0\\\\\n",
       "\t VDR   & L & TF & ENSG00000111424 &  1.5 &  0.6\\\\\n",
       "\\end{tabular}\n"
      ],
      "text/markdown": [
       "\n",
       "A data.table: 5 × 6\n",
       "\n",
       "| name &lt;chr&gt; | action &lt;chr&gt; | role &lt;chr&gt; | Gene &lt;chr&gt; | heart &lt;dbl&gt; | liver &lt;dbl&gt; |\n",
       "|---|---|---|---|---|---|\n",
       "| FOXL1 | L | TF | ENSG00000176678 |  4.5 |  0.5 |\n",
       "| FOXO4 | L | TF | ENSG00000184481 |  9.7 |  3.6 |\n",
       "| FOXP1 | L | TF | ENSG00000114861 | 15.5 | 12.9 |\n",
       "| NR2F2 | L | TF | ENSG00000185551 | 30.1 | 15.0 |\n",
       "| VDR   | L | TF | ENSG00000111424 |  1.5 |  0.6 |\n",
       "\n"
      ],
      "text/plain": [
       "  name  action role Gene            heart liver\n",
       "1 FOXL1 L      TF   ENSG00000176678  4.5   0.5 \n",
       "2 FOXO4 L      TF   ENSG00000184481  9.7   3.6 \n",
       "3 FOXP1 L      TF   ENSG00000114861 15.5  12.9 \n",
       "4 NR2F2 L      TF   ENSG00000185551 30.1  15.0 \n",
       "5 VDR   L      TF   ENSG00000111424  1.5   0.6 "
      ]
     },
     "metadata": {},
     "output_type": "display_data"
    }
   ],
   "source": [
    "nodes_f_expr[action==\"L\" & liver < heart,]"
   ]
  },
  {
   "cell_type": "code",
   "execution_count": 152,
   "metadata": {},
   "outputs": [],
   "source": [
    "nodes_f <- nodes_f[!nodes_f$name %in% nodes_f_expr[action==\"L\" & liver < 1,]$name, ]"
   ]
  },
  {
   "cell_type": "code",
   "execution_count": 153,
   "metadata": {},
   "outputs": [],
   "source": [
    "sub_tf_s <- sub_tf_s[! sub_tf_s$source %in% nodes_f_expr[action==\"L\" & liver < 1,]$name , ]\n",
    "write.table(sub_tf_s, \"GRN/edges_short_upd.tsv\", \n",
    "            sep = \"\\t\", quote = F, row.names = F)\n",
    "#nodes_f <- nodes[nodes$name %in% unique(union(sub_tf_s$source, sub_tf_s$target)), ]\n",
    "write.table(nodes_f, \"GRN/nodes_short_upd.tsv\", \n",
    "            sep = \"\\t\", quote = F, row.names = F)"
   ]
  },
  {
   "cell_type": "code",
   "execution_count": 154,
   "metadata": {},
   "outputs": [
    {
     "data": {
      "text/html": [
       "<table>\n",
       "<caption>A data.frame: 1 × 3</caption>\n",
       "<thead>\n",
       "\t<tr><th></th><th scope=col>name</th><th scope=col>action</th><th scope=col>role</th></tr>\n",
       "\t<tr><th></th><th scope=col>&lt;chr&gt;</th><th scope=col>&lt;chr&gt;</th><th scope=col>&lt;chr&gt;</th></tr>\n",
       "</thead>\n",
       "<tbody>\n",
       "\t<tr><th scope=row>268</th><td>MYC</td><td>none</td><td>TF</td></tr>\n",
       "</tbody>\n",
       "</table>\n"
      ],
      "text/latex": [
       "A data.frame: 1 × 3\n",
       "\\begin{tabular}{r|lll}\n",
       "  & name & action & role\\\\\n",
       "  & <chr> & <chr> & <chr>\\\\\n",
       "\\hline\n",
       "\t268 & MYC & none & TF\\\\\n",
       "\\end{tabular}\n"
      ],
      "text/markdown": [
       "\n",
       "A data.frame: 1 × 3\n",
       "\n",
       "| <!--/--> | name &lt;chr&gt; | action &lt;chr&gt; | role &lt;chr&gt; |\n",
       "|---|---|---|---|\n",
       "| 268 | MYC | none | TF |\n",
       "\n"
      ],
      "text/plain": [
       "    name action role\n",
       "268 MYC  none   TF  "
      ]
     },
     "metadata": {},
     "output_type": "display_data"
    }
   ],
   "source": [
    "nodes_f[nodes_f$name == \"MYC\",]"
   ]
  },
  {
   "cell_type": "code",
   "execution_count": 146,
   "metadata": {},
   "outputs": [
    {
     "data": {
      "text/html": [
       "<table>\n",
       "<caption>A data.frame: 1 × 3</caption>\n",
       "<thead>\n",
       "\t<tr><th></th><th scope=col>source</th><th scope=col>target</th><th scope=col>interaction</th></tr>\n",
       "\t<tr><th></th><th scope=col>&lt;chr&gt;</th><th scope=col>&lt;chr&gt;</th><th scope=col>&lt;chr&gt;</th></tr>\n",
       "</thead>\n",
       "<tbody>\n",
       "\t<tr><th scope=row>3673</th><td>KLF2</td><td>CDKN1A</td><td>Activation</td></tr>\n",
       "</tbody>\n",
       "</table>\n"
      ],
      "text/latex": [
       "A data.frame: 1 × 3\n",
       "\\begin{tabular}{r|lll}\n",
       "  & source & target & interaction\\\\\n",
       "  & <chr> & <chr> & <chr>\\\\\n",
       "\\hline\n",
       "\t3673 & KLF2 & CDKN1A & Activation\\\\\n",
       "\\end{tabular}\n"
      ],
      "text/markdown": [
       "\n",
       "A data.frame: 1 × 3\n",
       "\n",
       "| <!--/--> | source &lt;chr&gt; | target &lt;chr&gt; | interaction &lt;chr&gt; |\n",
       "|---|---|---|---|\n",
       "| 3673 | KLF2 | CDKN1A | Activation |\n",
       "\n"
      ],
      "text/plain": [
       "     source target interaction\n",
       "3673 KLF2   CDKN1A Activation "
      ]
     },
     "metadata": {},
     "output_type": "display_data"
    }
   ],
   "source": [
    "sub_tf_s[sub_tf_s$source == \"KLF2\",]"
   ]
  }
 ],
 "metadata": {
  "kernelspec": {
   "display_name": "R",
   "language": "R",
   "name": "ir"
  },
  "language_info": {
   "codemirror_mode": "r",
   "file_extension": ".r",
   "mimetype": "text/x-r-source",
   "name": "R",
   "pygments_lexer": "r",
   "version": "4.0.3"
  }
 },
 "nbformat": 4,
 "nbformat_minor": 4
}
