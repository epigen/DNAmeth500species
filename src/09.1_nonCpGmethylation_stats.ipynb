{
 "cells": [
  {
   "cell_type": "code",
   "execution_count": 42,
   "metadata": {},
   "outputs": [
    {
     "name": "stdout",
     "output_type": "stream",
     "text": [
      "[1] \"stats_annot.RData doesn't exist. Run script 01.2 to create. Only loading basic sample annotation.\"\n"
     ]
    },
    {
     "name": "stderr",
     "output_type": "stream",
     "text": [
      "Joining, by = \"species\"\n",
      "\n"
     ]
    }
   ],
   "source": [
    "source(file.path(Sys.getenv(\"CODEBASE\"),\"DNAmeth500species/src/00.0_init.R\"))"
   ]
  },
  {
   "cell_type": "code",
   "execution_count": 43,
   "metadata": {},
   "outputs": [],
   "source": [
    "stats <- read.table(file.path(analysis_dir, \"01_basicStats\", \"tempStats20210203_upd.tsv\"), sep = \"\\t\", header = T)"
   ]
  },
  {
   "cell_type": "code",
   "execution_count": 44,
   "metadata": {},
   "outputs": [
    {
     "data": {
      "text/html": [
       "<table class=\"dataframe\">\n",
       "<caption>A data.frame: 6 × 60</caption>\n",
       "<thead>\n",
       "\t<tr><th></th><th scope=col>Sample_Name</th><th scope=col>species</th><th scope=col>total_reads</th><th scope=col>mapped_reads</th><th scope=col>mapping_efficiency</th><th scope=col>informative_reads</th><th scope=col>CpG_meth</th><th scope=col>avg_meth</th><th scope=col>CpG_measurements</th><th scope=col>coveredCpGs</th><th scope=col>⋯</th><th scope=col>CpG_measurements_cphpg</th><th scope=col>coveredCpGs_cphpg</th><th scope=col>informative_reads_cphph</th><th scope=col>CpG_meth_cphph</th><th scope=col>avg_meth_cphph</th><th scope=col>CpG_measurements_cphph</th><th scope=col>coveredCpGs_cphph</th><th scope=col>Sample_Name_unif</th><th scope=col>conversion_type</th><th scope=col>res_mapRate_nonMotifReads</th></tr>\n",
       "\t<tr><th></th><th scope=col>&lt;fct&gt;</th><th scope=col>&lt;fct&gt;</th><th scope=col>&lt;int&gt;</th><th scope=col>&lt;int&gt;</th><th scope=col>&lt;dbl&gt;</th><th scope=col>&lt;int&gt;</th><th scope=col>&lt;dbl&gt;</th><th scope=col>&lt;dbl&gt;</th><th scope=col>&lt;int&gt;</th><th scope=col>&lt;int&gt;</th><th scope=col>⋯</th><th scope=col>&lt;int&gt;</th><th scope=col>&lt;int&gt;</th><th scope=col>&lt;int&gt;</th><th scope=col>&lt;dbl&gt;</th><th scope=col>&lt;dbl&gt;</th><th scope=col>&lt;int&gt;</th><th scope=col>&lt;int&gt;</th><th scope=col>&lt;fct&gt;</th><th scope=col>&lt;fct&gt;</th><th scope=col>&lt;dbl&gt;</th></tr>\n",
       "</thead>\n",
       "<tbody>\n",
       "\t<tr><th scope=row>1</th><td>AB_1_H   </td><td>AB </td><td>17915886</td><td>14503179</td><td>80.95</td><td>14212635</td><td>70.10309</td><td>68.80228</td><td>39844139</td><td>3005867</td><td>⋯</td><td>20443924</td><td>1856399</td><td>11119197</td><td> 1.3300147</td><td> 1.186452</td><td> 59799241</td><td>5088253</td><td>AB_1_H </td><td>converted  </td><td>-4.20021428</td></tr>\n",
       "\t<tr><th scope=row>2</th><td>AB_1_L   </td><td>AB </td><td>25820984</td><td>18788076</td><td>72.76</td><td>18242848</td><td>70.13735</td><td>69.83810</td><td>60288099</td><td>2945274</td><td>⋯</td><td>42525091</td><td>2333665</td><td>16933257</td><td> 1.4696023</td><td> 1.185794</td><td>110206190</td><td>6579650</td><td>AB_1_L </td><td>converted  </td><td>-0.59396970</td></tr>\n",
       "\t<tr><th scope=row>3</th><td>AB_2_L   </td><td>AB </td><td>25077071</td><td>15775689</td><td>62.91</td><td>15141710</td><td>71.93492</td><td>70.86057</td><td>47782490</td><td>3468644</td><td>⋯</td><td>34439579</td><td>2728471</td><td>14122753</td><td> 1.3368289</td><td> 1.369762</td><td> 91791481</td><td>7775515</td><td>AB_2_L </td><td>converted  </td><td>-0.62932504</td></tr>\n",
       "\t<tr><th scope=row>4</th><td>AB_2_LU  </td><td>AB </td><td>15347118</td><td>12960012</td><td>84.45</td><td>12752564</td><td>68.42933</td><td>69.02527</td><td>39173102</td><td>3013599</td><td>⋯</td><td>28971829</td><td>2433490</td><td>11876493</td><td> 1.0611154</td><td> 1.045966</td><td> 78646794</td><td>6739596</td><td>AB_2_LU</td><td>converted  </td><td> 0.09192388</td></tr>\n",
       "\t<tr><th scope=row>5</th><td>AB_2_L_uc</td><td>AB </td><td>17768895</td><td>11580889</td><td>65.18</td><td>11366867</td><td>95.05498</td><td>81.55941</td><td>39527823</td><td>2788706</td><td>⋯</td><td>34138779</td><td>2895748</td><td>11446442</td><td>98.1863152</td><td>91.642113</td><td> 91422326</td><td>8253533</td><td>AB_2_L </td><td>unconverted</td><td>-5.15480843</td></tr>\n",
       "\t<tr><th scope=row>6</th><td>ABB_1_H  </td><td>ABB</td><td>15909049</td><td>12791093</td><td>80.40</td><td>12534298</td><td>63.44764</td><td>65.68175</td><td>36772462</td><td>3679371</td><td>⋯</td><td>33308316</td><td>3659487</td><td>11753806</td><td> 0.8858826</td><td> 1.068926</td><td> 83522643</td><td>8629816</td><td>ABB_1_H</td><td>converted  </td><td>-0.08485281</td></tr>\n",
       "</tbody>\n",
       "</table>\n"
      ],
      "text/latex": [
       "A data.frame: 6 × 60\n",
       "\\begin{tabular}{r|lllllllllllllllllllll}\n",
       "  & Sample\\_Name & species & total\\_reads & mapped\\_reads & mapping\\_efficiency & informative\\_reads & CpG\\_meth & avg\\_meth & CpG\\_measurements & coveredCpGs & ⋯ & CpG\\_measurements\\_cphpg & coveredCpGs\\_cphpg & informative\\_reads\\_cphph & CpG\\_meth\\_cphph & avg\\_meth\\_cphph & CpG\\_measurements\\_cphph & coveredCpGs\\_cphph & Sample\\_Name\\_unif & conversion\\_type & res\\_mapRate\\_nonMotifReads\\\\\n",
       "  & <fct> & <fct> & <int> & <int> & <dbl> & <int> & <dbl> & <dbl> & <int> & <int> & ⋯ & <int> & <int> & <int> & <dbl> & <dbl> & <int> & <int> & <fct> & <fct> & <dbl>\\\\\n",
       "\\hline\n",
       "\t1 & AB\\_1\\_H    & AB  & 17915886 & 14503179 & 80.95 & 14212635 & 70.10309 & 68.80228 & 39844139 & 3005867 & ⋯ & 20443924 & 1856399 & 11119197 &  1.3300147 &  1.186452 &  59799241 & 5088253 & AB\\_1\\_H  & converted   & -4.20021428\\\\\n",
       "\t2 & AB\\_1\\_L    & AB  & 25820984 & 18788076 & 72.76 & 18242848 & 70.13735 & 69.83810 & 60288099 & 2945274 & ⋯ & 42525091 & 2333665 & 16933257 &  1.4696023 &  1.185794 & 110206190 & 6579650 & AB\\_1\\_L  & converted   & -0.59396970\\\\\n",
       "\t3 & AB\\_2\\_L    & AB  & 25077071 & 15775689 & 62.91 & 15141710 & 71.93492 & 70.86057 & 47782490 & 3468644 & ⋯ & 34439579 & 2728471 & 14122753 &  1.3368289 &  1.369762 &  91791481 & 7775515 & AB\\_2\\_L  & converted   & -0.62932504\\\\\n",
       "\t4 & AB\\_2\\_LU   & AB  & 15347118 & 12960012 & 84.45 & 12752564 & 68.42933 & 69.02527 & 39173102 & 3013599 & ⋯ & 28971829 & 2433490 & 11876493 &  1.0611154 &  1.045966 &  78646794 & 6739596 & AB\\_2\\_LU & converted   &  0.09192388\\\\\n",
       "\t5 & AB\\_2\\_L\\_uc & AB  & 17768895 & 11580889 & 65.18 & 11366867 & 95.05498 & 81.55941 & 39527823 & 2788706 & ⋯ & 34138779 & 2895748 & 11446442 & 98.1863152 & 91.642113 &  91422326 & 8253533 & AB\\_2\\_L  & unconverted & -5.15480843\\\\\n",
       "\t6 & ABB\\_1\\_H   & ABB & 15909049 & 12791093 & 80.40 & 12534298 & 63.44764 & 65.68175 & 36772462 & 3679371 & ⋯ & 33308316 & 3659487 & 11753806 &  0.8858826 &  1.068926 &  83522643 & 8629816 & ABB\\_1\\_H & converted   & -0.08485281\\\\\n",
       "\\end{tabular}\n"
      ],
      "text/markdown": [
       "\n",
       "A data.frame: 6 × 60\n",
       "\n",
       "| <!--/--> | Sample_Name &lt;fct&gt; | species &lt;fct&gt; | total_reads &lt;int&gt; | mapped_reads &lt;int&gt; | mapping_efficiency &lt;dbl&gt; | informative_reads &lt;int&gt; | CpG_meth &lt;dbl&gt; | avg_meth &lt;dbl&gt; | CpG_measurements &lt;int&gt; | coveredCpGs &lt;int&gt; | ⋯ ⋯ | CpG_measurements_cphpg &lt;int&gt; | coveredCpGs_cphpg &lt;int&gt; | informative_reads_cphph &lt;int&gt; | CpG_meth_cphph &lt;dbl&gt; | avg_meth_cphph &lt;dbl&gt; | CpG_measurements_cphph &lt;int&gt; | coveredCpGs_cphph &lt;int&gt; | Sample_Name_unif &lt;fct&gt; | conversion_type &lt;fct&gt; | res_mapRate_nonMotifReads &lt;dbl&gt; |\n",
       "|---|---|---|---|---|---|---|---|---|---|---|---|---|---|---|---|---|---|---|---|---|---|\n",
       "| 1 | AB_1_H    | AB  | 17915886 | 14503179 | 80.95 | 14212635 | 70.10309 | 68.80228 | 39844139 | 3005867 | ⋯ | 20443924 | 1856399 | 11119197 |  1.3300147 |  1.186452 |  59799241 | 5088253 | AB_1_H  | converted   | -4.20021428 |\n",
       "| 2 | AB_1_L    | AB  | 25820984 | 18788076 | 72.76 | 18242848 | 70.13735 | 69.83810 | 60288099 | 2945274 | ⋯ | 42525091 | 2333665 | 16933257 |  1.4696023 |  1.185794 | 110206190 | 6579650 | AB_1_L  | converted   | -0.59396970 |\n",
       "| 3 | AB_2_L    | AB  | 25077071 | 15775689 | 62.91 | 15141710 | 71.93492 | 70.86057 | 47782490 | 3468644 | ⋯ | 34439579 | 2728471 | 14122753 |  1.3368289 |  1.369762 |  91791481 | 7775515 | AB_2_L  | converted   | -0.62932504 |\n",
       "| 4 | AB_2_LU   | AB  | 15347118 | 12960012 | 84.45 | 12752564 | 68.42933 | 69.02527 | 39173102 | 3013599 | ⋯ | 28971829 | 2433490 | 11876493 |  1.0611154 |  1.045966 |  78646794 | 6739596 | AB_2_LU | converted   |  0.09192388 |\n",
       "| 5 | AB_2_L_uc | AB  | 17768895 | 11580889 | 65.18 | 11366867 | 95.05498 | 81.55941 | 39527823 | 2788706 | ⋯ | 34138779 | 2895748 | 11446442 | 98.1863152 | 91.642113 |  91422326 | 8253533 | AB_2_L  | unconverted | -5.15480843 |\n",
       "| 6 | ABB_1_H   | ABB | 15909049 | 12791093 | 80.40 | 12534298 | 63.44764 | 65.68175 | 36772462 | 3679371 | ⋯ | 33308316 | 3659487 | 11753806 |  0.8858826 |  1.068926 |  83522643 | 8629816 | ABB_1_H | converted   | -0.08485281 |\n",
       "\n"
      ],
      "text/plain": [
       "  Sample_Name species total_reads mapped_reads mapping_efficiency\n",
       "1 AB_1_H      AB      17915886    14503179     80.95             \n",
       "2 AB_1_L      AB      25820984    18788076     72.76             \n",
       "3 AB_2_L      AB      25077071    15775689     62.91             \n",
       "4 AB_2_LU     AB      15347118    12960012     84.45             \n",
       "5 AB_2_L_uc   AB      17768895    11580889     65.18             \n",
       "6 ABB_1_H     ABB     15909049    12791093     80.40             \n",
       "  informative_reads CpG_meth avg_meth CpG_measurements coveredCpGs ⋯\n",
       "1 14212635          70.10309 68.80228 39844139         3005867     ⋯\n",
       "2 18242848          70.13735 69.83810 60288099         2945274     ⋯\n",
       "3 15141710          71.93492 70.86057 47782490         3468644     ⋯\n",
       "4 12752564          68.42933 69.02527 39173102         3013599     ⋯\n",
       "5 11366867          95.05498 81.55941 39527823         2788706     ⋯\n",
       "6 12534298          63.44764 65.68175 36772462         3679371     ⋯\n",
       "  CpG_measurements_cphpg coveredCpGs_cphpg informative_reads_cphph\n",
       "1 20443924               1856399           11119197               \n",
       "2 42525091               2333665           16933257               \n",
       "3 34439579               2728471           14122753               \n",
       "4 28971829               2433490           11876493               \n",
       "5 34138779               2895748           11446442               \n",
       "6 33308316               3659487           11753806               \n",
       "  CpG_meth_cphph avg_meth_cphph CpG_measurements_cphph coveredCpGs_cphph\n",
       "1  1.3300147      1.186452       59799241              5088253          \n",
       "2  1.4696023      1.185794      110206190              6579650          \n",
       "3  1.3368289      1.369762       91791481              7775515          \n",
       "4  1.0611154      1.045966       78646794              6739596          \n",
       "5 98.1863152     91.642113       91422326              8253533          \n",
       "6  0.8858826      1.068926       83522643              8629816          \n",
       "  Sample_Name_unif conversion_type res_mapRate_nonMotifReads\n",
       "1 AB_1_H           converted       -4.20021428              \n",
       "2 AB_1_L           converted       -0.59396970              \n",
       "3 AB_2_L           converted       -0.62932504              \n",
       "4 AB_2_LU          converted        0.09192388              \n",
       "5 AB_2_L           unconverted     -5.15480843              \n",
       "6 ABB_1_H          converted       -0.08485281              "
      ]
     },
     "metadata": {},
     "output_type": "display_data"
    }
   ],
   "source": [
    "head(stats)"
   ]
  },
  {
   "cell_type": "code",
   "execution_count": 45,
   "metadata": {},
   "outputs": [],
   "source": [
    "status_df <-  read.csv(\"../rerun/status_update_20210202.txt\", sep = \",\", row.names = 1)"
   ]
  },
  {
   "cell_type": "code",
   "execution_count": 46,
   "metadata": {},
   "outputs": [],
   "source": [
    "setDT(status_df)"
   ]
  },
  {
   "cell_type": "code",
   "execution_count": 47,
   "metadata": {},
   "outputs": [],
   "source": [
    "stats <- stats[!stats$species %in% status_df[status==\"MISMATCH\", species],]"
   ]
  },
  {
   "cell_type": "code",
   "execution_count": 48,
   "metadata": {},
   "outputs": [
    {
     "data": {
      "text/html": [
       "455"
      ],
      "text/latex": [
       "455"
      ],
      "text/markdown": [
       "455"
      ],
      "text/plain": [
       "[1] 455"
      ]
     },
     "metadata": {},
     "output_type": "display_data"
    }
   ],
   "source": [
    "length(unique(stats$species))"
   ]
  },
  {
   "cell_type": "markdown",
   "metadata": {},
   "source": [
    "annotating species with the class:"
   ]
  },
  {
   "cell_type": "code",
   "execution_count": 53,
   "metadata": {},
   "outputs": [],
   "source": [
    "setDT(stats)"
   ]
  },
  {
   "cell_type": "code",
   "execution_count": 56,
   "metadata": {},
   "outputs": [],
   "source": [
    "exclude <- stats[is.na(CpG_meth_cphph)]$species"
   ]
  },
  {
   "cell_type": "code",
   "execution_count": 57,
   "metadata": {},
   "outputs": [],
   "source": [
    "stats <- stats[!stats$species %in% exclude, ]"
   ]
  },
  {
   "cell_type": "code",
   "execution_count": 49,
   "metadata": {},
   "outputs": [],
   "source": [
    "load(\"/scratch/lab_bock/shared/projects/compEpi/results_analysis/01_basicStats/stats_annot.RData\")"
   ]
  },
  {
   "cell_type": "code",
   "execution_count": 50,
   "metadata": {},
   "outputs": [
    {
     "name": "stderr",
     "output_type": "stream",
     "text": [
      "Joining, by = \"Sample_Name\"\n",
      "\n"
     ]
    }
   ],
   "source": [
    "stats <- left_join(stats, stats_annot[, c(\"Sample_Name\", \"color_class\", \"Tissue\")])"
   ]
  },
  {
   "cell_type": "code",
   "execution_count": 59,
   "metadata": {},
   "outputs": [],
   "source": [
    "stats <- stats[conversion_type == \"converted\", ]"
   ]
  },
  {
   "cell_type": "code",
   "execution_count": 97,
   "metadata": {},
   "outputs": [
    {
     "data": {
      "text/html": [
       "<strong>png:</strong> 2"
      ],
      "text/latex": [
       "\\textbf{png:} 2"
      ],
      "text/markdown": [
       "**png:** 2"
      ],
      "text/plain": [
       "png \n",
       "  2 "
      ]
     },
     "metadata": {},
     "output_type": "display_data"
    }
   ],
   "source": [
    "#CpG methylation\n",
    "pdf(file.path(analysis_dir, \"01_basicStats\",\"noncpg_meth.pdf\"),height=4,width=6)\n",
    "ggplot(stats,aes(x=color_class,y=CpG_meth_cphph,fill=color_class)) +\n",
    "  geom_boxplot(outlier.shape = 21)+scale_fill_manual(values = class_colors)+\n",
    "  stat_summary(fun.data = give.n,fun.args = c(y=0), geom = \"text\",size=4)+\n",
    "  rotate_labels(angle = 60,vjust = 1)+\n",
    "  ylab(\"% DNA methylation (CpHpH)\")+xlab(\"\")+theme(legend.position = \"None\")+\n",
    "  theme(text = element_text(size = 15))\n",
    "\n",
    "ggplot(stats,aes(x=color_class,y=CpG_meth_cphpg,fill=color_class)) +\n",
    "  geom_boxplot(outlier.shape = 21)+scale_fill_manual(values = class_colors)+\n",
    "  stat_summary(fun.data = give.n,fun.args = c(y=0), geom = \"text\",size=4)+\n",
    "  rotate_labels(angle = 60,vjust = 1)+\n",
    "  ylab(\"% DNA methylation (CpHpG)\")+xlab(\"\")+theme(legend.position = \"None\")+\n",
    "  theme(text = element_text(size = 15))\n",
    "dev.off()"
   ]
  },
  {
   "cell_type": "code",
   "execution_count": 98,
   "metadata": {},
   "outputs": [
    {
     "data": {
      "text/html": [
       "<strong>png:</strong> 2"
      ],
      "text/latex": [
       "\\textbf{png:} 2"
      ],
      "text/markdown": [
       "**png:** 2"
      ],
      "text/plain": [
       "png \n",
       "  2 "
      ]
     },
     "metadata": {},
     "output_type": "display_data"
    }
   ],
   "source": [
    "pdf(file.path(analysis_dir, \"01_basicStats\", \"nonCpG_meth_tissue.pdf\"),height=4,width=12)\n",
    "ggplot(stats[Tissue%in%core_vert],aes(x=Tissue,y=CpG_meth_cphph,fill=color_class))+\n",
    "  geom_boxplot()+scale_fill_manual(values = class_colors)+\n",
    "  stat_summary(fun.data = give.n,fun.args = c(y=0), geom = \"text\",size=2.5)+\n",
    "  rotate_labels(angle = 60,vjust = 1)+facet_wrap(~color_class,ncol=4)+\n",
    "  ylab(\"% DNA methylation (CpHpH)\")+xlab(\"\")\n",
    "ggplot(stats[Tissue%in%core_vert],aes(x=Tissue,y=CpG_meth_cphpg,fill=color_class))+\n",
    "  geom_boxplot()+scale_fill_manual(values = class_colors)+\n",
    "  stat_summary(fun.data = give.n,fun.args = c(y=0), geom = \"text\",size=2.5)+\n",
    "  rotate_labels(angle = 60,vjust = 1)+facet_wrap(~color_class,ncol=4)+\n",
    "  ylab(\"% DNA methylation (CpHpG)\")+xlab(\"\")\n",
    "dev.off()"
   ]
  },
  {
   "cell_type": "code",
   "execution_count": 62,
   "metadata": {},
   "outputs": [
    {
     "data": {
      "text/html": [
       "<table class=\"dataframe\">\n",
       "<caption>A data.table: 6 × 62</caption>\n",
       "<thead>\n",
       "\t<tr><th scope=col>Sample_Name</th><th scope=col>species</th><th scope=col>total_reads</th><th scope=col>mapped_reads</th><th scope=col>mapping_efficiency</th><th scope=col>informative_reads</th><th scope=col>CpG_meth</th><th scope=col>avg_meth</th><th scope=col>CpG_measurements</th><th scope=col>coveredCpGs</th><th scope=col>⋯</th><th scope=col>informative_reads_cphph</th><th scope=col>CpG_meth_cphph</th><th scope=col>avg_meth_cphph</th><th scope=col>CpG_measurements_cphph</th><th scope=col>coveredCpGs_cphph</th><th scope=col>Sample_Name_unif</th><th scope=col>conversion_type</th><th scope=col>res_mapRate_nonMotifReads</th><th scope=col>color_class</th><th scope=col>Tissue</th></tr>\n",
       "\t<tr><th scope=col>&lt;chr&gt;</th><th scope=col>&lt;fct&gt;</th><th scope=col>&lt;int&gt;</th><th scope=col>&lt;int&gt;</th><th scope=col>&lt;dbl&gt;</th><th scope=col>&lt;int&gt;</th><th scope=col>&lt;dbl&gt;</th><th scope=col>&lt;dbl&gt;</th><th scope=col>&lt;int&gt;</th><th scope=col>&lt;int&gt;</th><th scope=col>⋯</th><th scope=col>&lt;int&gt;</th><th scope=col>&lt;dbl&gt;</th><th scope=col>&lt;dbl&gt;</th><th scope=col>&lt;int&gt;</th><th scope=col>&lt;int&gt;</th><th scope=col>&lt;fct&gt;</th><th scope=col>&lt;fct&gt;</th><th scope=col>&lt;dbl&gt;</th><th scope=col>&lt;fct&gt;</th><th scope=col>&lt;chr&gt;</th></tr>\n",
       "</thead>\n",
       "<tbody>\n",
       "\t<tr><td>AB_1_H </td><td>AB </td><td>17915886</td><td>14503179</td><td>80.95</td><td>14212635</td><td>70.10309</td><td>68.80228</td><td>39844139</td><td>3005867</td><td>⋯</td><td>11119197</td><td>1.3300147</td><td>1.186452</td><td> 59799241</td><td>5088253</td><td>AB_1_H </td><td>converted</td><td>-4.200214280</td><td>Reptilia</td><td>Heart</td></tr>\n",
       "\t<tr><td>AB_1_L </td><td>AB </td><td>25820984</td><td>18788076</td><td>72.76</td><td>18242848</td><td>70.13735</td><td>69.83810</td><td>60288099</td><td>2945274</td><td>⋯</td><td>16933257</td><td>1.4696023</td><td>1.185794</td><td>110206190</td><td>6579650</td><td>AB_1_L </td><td>converted</td><td>-0.593969696</td><td>Reptilia</td><td>Liver</td></tr>\n",
       "\t<tr><td>AB_2_L </td><td>AB </td><td>25077071</td><td>15775689</td><td>62.91</td><td>15141710</td><td>71.93492</td><td>70.86057</td><td>47782490</td><td>3468644</td><td>⋯</td><td>14122753</td><td>1.3368289</td><td>1.369762</td><td> 91791481</td><td>7775515</td><td>AB_2_L </td><td>converted</td><td>-0.629325035</td><td>Reptilia</td><td>Liver</td></tr>\n",
       "\t<tr><td>AB_2_LU</td><td>AB </td><td>15347118</td><td>12960012</td><td>84.45</td><td>12752564</td><td>68.42933</td><td>69.02527</td><td>39173102</td><td>3013599</td><td>⋯</td><td>11876493</td><td>1.0611154</td><td>1.045966</td><td> 78646794</td><td>6739596</td><td>AB_2_LU</td><td>converted</td><td> 0.091923882</td><td>Reptilia</td><td>Lung </td></tr>\n",
       "\t<tr><td>ABB_1_H</td><td>ABB</td><td>15909049</td><td>12791093</td><td>80.40</td><td>12534298</td><td>63.44764</td><td>65.68175</td><td>36772462</td><td>3679371</td><td>⋯</td><td>11753806</td><td>0.8858826</td><td>1.068926</td><td> 83522643</td><td>8629816</td><td>ABB_1_H</td><td>converted</td><td>-0.084852814</td><td>Mammalia</td><td>Heart</td></tr>\n",
       "\t<tr><td>ABB_1_L</td><td>ABB</td><td>22435644</td><td> 5818906</td><td>25.94</td><td> 4924186</td><td>72.85736</td><td>69.01266</td><td>12915530</td><td>2508836</td><td>⋯</td><td> 4389390</td><td>1.5019083</td><td>1.401004</td><td> 28811061</td><td>5581469</td><td>ABB_1_L</td><td>converted</td><td> 0.007071068</td><td>Mammalia</td><td>Liver</td></tr>\n",
       "</tbody>\n",
       "</table>\n"
      ],
      "text/latex": [
       "A data.table: 6 × 62\n",
       "\\begin{tabular}{lllllllllllllllllllll}\n",
       " Sample\\_Name & species & total\\_reads & mapped\\_reads & mapping\\_efficiency & informative\\_reads & CpG\\_meth & avg\\_meth & CpG\\_measurements & coveredCpGs & ⋯ & informative\\_reads\\_cphph & CpG\\_meth\\_cphph & avg\\_meth\\_cphph & CpG\\_measurements\\_cphph & coveredCpGs\\_cphph & Sample\\_Name\\_unif & conversion\\_type & res\\_mapRate\\_nonMotifReads & color\\_class & Tissue\\\\\n",
       " <chr> & <fct> & <int> & <int> & <dbl> & <int> & <dbl> & <dbl> & <int> & <int> & ⋯ & <int> & <dbl> & <dbl> & <int> & <int> & <fct> & <fct> & <dbl> & <fct> & <chr>\\\\\n",
       "\\hline\n",
       "\t AB\\_1\\_H  & AB  & 17915886 & 14503179 & 80.95 & 14212635 & 70.10309 & 68.80228 & 39844139 & 3005867 & ⋯ & 11119197 & 1.3300147 & 1.186452 &  59799241 & 5088253 & AB\\_1\\_H  & converted & -4.200214280 & Reptilia & Heart\\\\\n",
       "\t AB\\_1\\_L  & AB  & 25820984 & 18788076 & 72.76 & 18242848 & 70.13735 & 69.83810 & 60288099 & 2945274 & ⋯ & 16933257 & 1.4696023 & 1.185794 & 110206190 & 6579650 & AB\\_1\\_L  & converted & -0.593969696 & Reptilia & Liver\\\\\n",
       "\t AB\\_2\\_L  & AB  & 25077071 & 15775689 & 62.91 & 15141710 & 71.93492 & 70.86057 & 47782490 & 3468644 & ⋯ & 14122753 & 1.3368289 & 1.369762 &  91791481 & 7775515 & AB\\_2\\_L  & converted & -0.629325035 & Reptilia & Liver\\\\\n",
       "\t AB\\_2\\_LU & AB  & 15347118 & 12960012 & 84.45 & 12752564 & 68.42933 & 69.02527 & 39173102 & 3013599 & ⋯ & 11876493 & 1.0611154 & 1.045966 &  78646794 & 6739596 & AB\\_2\\_LU & converted &  0.091923882 & Reptilia & Lung \\\\\n",
       "\t ABB\\_1\\_H & ABB & 15909049 & 12791093 & 80.40 & 12534298 & 63.44764 & 65.68175 & 36772462 & 3679371 & ⋯ & 11753806 & 0.8858826 & 1.068926 &  83522643 & 8629816 & ABB\\_1\\_H & converted & -0.084852814 & Mammalia & Heart\\\\\n",
       "\t ABB\\_1\\_L & ABB & 22435644 &  5818906 & 25.94 &  4924186 & 72.85736 & 69.01266 & 12915530 & 2508836 & ⋯ &  4389390 & 1.5019083 & 1.401004 &  28811061 & 5581469 & ABB\\_1\\_L & converted &  0.007071068 & Mammalia & Liver\\\\\n",
       "\\end{tabular}\n"
      ],
      "text/markdown": [
       "\n",
       "A data.table: 6 × 62\n",
       "\n",
       "| Sample_Name &lt;chr&gt; | species &lt;fct&gt; | total_reads &lt;int&gt; | mapped_reads &lt;int&gt; | mapping_efficiency &lt;dbl&gt; | informative_reads &lt;int&gt; | CpG_meth &lt;dbl&gt; | avg_meth &lt;dbl&gt; | CpG_measurements &lt;int&gt; | coveredCpGs &lt;int&gt; | ⋯ ⋯ | informative_reads_cphph &lt;int&gt; | CpG_meth_cphph &lt;dbl&gt; | avg_meth_cphph &lt;dbl&gt; | CpG_measurements_cphph &lt;int&gt; | coveredCpGs_cphph &lt;int&gt; | Sample_Name_unif &lt;fct&gt; | conversion_type &lt;fct&gt; | res_mapRate_nonMotifReads &lt;dbl&gt; | color_class &lt;fct&gt; | Tissue &lt;chr&gt; |\n",
       "|---|---|---|---|---|---|---|---|---|---|---|---|---|---|---|---|---|---|---|---|---|\n",
       "| AB_1_H  | AB  | 17915886 | 14503179 | 80.95 | 14212635 | 70.10309 | 68.80228 | 39844139 | 3005867 | ⋯ | 11119197 | 1.3300147 | 1.186452 |  59799241 | 5088253 | AB_1_H  | converted | -4.200214280 | Reptilia | Heart |\n",
       "| AB_1_L  | AB  | 25820984 | 18788076 | 72.76 | 18242848 | 70.13735 | 69.83810 | 60288099 | 2945274 | ⋯ | 16933257 | 1.4696023 | 1.185794 | 110206190 | 6579650 | AB_1_L  | converted | -0.593969696 | Reptilia | Liver |\n",
       "| AB_2_L  | AB  | 25077071 | 15775689 | 62.91 | 15141710 | 71.93492 | 70.86057 | 47782490 | 3468644 | ⋯ | 14122753 | 1.3368289 | 1.369762 |  91791481 | 7775515 | AB_2_L  | converted | -0.629325035 | Reptilia | Liver |\n",
       "| AB_2_LU | AB  | 15347118 | 12960012 | 84.45 | 12752564 | 68.42933 | 69.02527 | 39173102 | 3013599 | ⋯ | 11876493 | 1.0611154 | 1.045966 |  78646794 | 6739596 | AB_2_LU | converted |  0.091923882 | Reptilia | Lung  |\n",
       "| ABB_1_H | ABB | 15909049 | 12791093 | 80.40 | 12534298 | 63.44764 | 65.68175 | 36772462 | 3679371 | ⋯ | 11753806 | 0.8858826 | 1.068926 |  83522643 | 8629816 | ABB_1_H | converted | -0.084852814 | Mammalia | Heart |\n",
       "| ABB_1_L | ABB | 22435644 |  5818906 | 25.94 |  4924186 | 72.85736 | 69.01266 | 12915530 | 2508836 | ⋯ |  4389390 | 1.5019083 | 1.401004 |  28811061 | 5581469 | ABB_1_L | converted |  0.007071068 | Mammalia | Liver |\n",
       "\n"
      ],
      "text/plain": [
       "  Sample_Name species total_reads mapped_reads mapping_efficiency\n",
       "1 AB_1_H      AB      17915886    14503179     80.95             \n",
       "2 AB_1_L      AB      25820984    18788076     72.76             \n",
       "3 AB_2_L      AB      25077071    15775689     62.91             \n",
       "4 AB_2_LU     AB      15347118    12960012     84.45             \n",
       "5 ABB_1_H     ABB     15909049    12791093     80.40             \n",
       "6 ABB_1_L     ABB     22435644     5818906     25.94             \n",
       "  informative_reads CpG_meth avg_meth CpG_measurements coveredCpGs ⋯\n",
       "1 14212635          70.10309 68.80228 39844139         3005867     ⋯\n",
       "2 18242848          70.13735 69.83810 60288099         2945274     ⋯\n",
       "3 15141710          71.93492 70.86057 47782490         3468644     ⋯\n",
       "4 12752564          68.42933 69.02527 39173102         3013599     ⋯\n",
       "5 12534298          63.44764 65.68175 36772462         3679371     ⋯\n",
       "6  4924186          72.85736 69.01266 12915530         2508836     ⋯\n",
       "  informative_reads_cphph CpG_meth_cphph avg_meth_cphph CpG_measurements_cphph\n",
       "1 11119197                1.3300147      1.186452        59799241             \n",
       "2 16933257                1.4696023      1.185794       110206190             \n",
       "3 14122753                1.3368289      1.369762        91791481             \n",
       "4 11876493                1.0611154      1.045966        78646794             \n",
       "5 11753806                0.8858826      1.068926        83522643             \n",
       "6  4389390                1.5019083      1.401004        28811061             \n",
       "  coveredCpGs_cphph Sample_Name_unif conversion_type res_mapRate_nonMotifReads\n",
       "1 5088253           AB_1_H           converted       -4.200214280             \n",
       "2 6579650           AB_1_L           converted       -0.593969696             \n",
       "3 7775515           AB_2_L           converted       -0.629325035             \n",
       "4 6739596           AB_2_LU          converted        0.091923882             \n",
       "5 8629816           ABB_1_H          converted       -0.084852814             \n",
       "6 5581469           ABB_1_L          converted        0.007071068             \n",
       "  color_class Tissue\n",
       "1 Reptilia    Heart \n",
       "2 Reptilia    Liver \n",
       "3 Reptilia    Liver \n",
       "4 Reptilia    Lung  \n",
       "5 Mammalia    Heart \n",
       "6 Mammalia    Liver "
      ]
     },
     "metadata": {},
     "output_type": "display_data"
    }
   ],
   "source": [
    "head(stats)"
   ]
  },
  {
   "cell_type": "code",
   "execution_count": 84,
   "metadata": {},
   "outputs": [
    {
     "data": {
      "text/html": [
       "<strong>png:</strong> 2"
      ],
      "text/latex": [
       "\\textbf{png:} 2"
      ],
      "text/markdown": [
       "**png:** 2"
      ],
      "text/plain": [
       "png \n",
       "  2 "
      ]
     },
     "metadata": {},
     "output_type": "display_data"
    }
   ],
   "source": [
    "## covered CpH\n",
    "pdf(file.path(analysis_dir, \"01_basicStats\", \"nonCpG_covered.pdf\"),height=4,width=6)\n",
    "ggplot(stats, \n",
    "       aes(x = color_class, y = coveredCpGs_cphph, fill = color_class)) + \n",
    "  geom_boxplot(outlier.shape = 21) + scale_fill_manual(values = class_colors)+\n",
    "  stat_summary(fun.data = give.n,fun.args = c(y=1.01*max(stats_annot$coveredCpGs)),\n",
    "               geom = \"text\",size=3, angle = 90, hjust=0, \n",
    "               position=position_dodge(width=1))+ \n",
    "  ylab(\"number of covered CpHpHs\") + xlab(\"\") + rotate_labels() +\n",
    "  theme(legend.position = \"None\", text = element_text(size = 13)) + \n",
    "  scale_y_continuous(label=scientific_10)\n",
    "\n",
    "ggplot(stats, \n",
    "       aes(x = color_class, y = coveredCpGs_cphpg, fill = color_class)) + \n",
    "  geom_boxplot(outlier.shape = 21) + scale_fill_manual(values = class_colors)+\n",
    "  stat_summary(fun.data = give.n,fun.args = c(y=1.01*max(stats_annot$coveredCpGs)),\n",
    "               geom = \"text\",size=3, angle = 90, hjust=0, \n",
    "               position=position_dodge(width=1))+ \n",
    "  ylab(\"number of covered CpHpGs\") + xlab(\"\") + rotate_labels() +\n",
    "  theme(legend.position = \"None\", text = element_text(size = 13)) + \n",
    "  scale_y_continuous(label=scientific_10)\n",
    "\n",
    "dev.off()"
   ]
  },
  {
   "cell_type": "code",
   "execution_count": 90,
   "metadata": {},
   "outputs": [],
   "source": [
    "stats_summary <-stats %>% \n",
    "group_by(color_class) %>%\n",
    "summarize(mean_CpG_meth_cphph = round(mean(CpG_meth_cphph),3), sd_CpG_meth_cphph = round(sd(CpG_meth_cphph),3),\n",
    "         mean_CpG_meth_cphpg = round(mean(CpG_meth_cphpg),3), sd_CpG_meth_cphpg = round(sd(CpG_meth_cphpg),3),\n",
    "         median_coveredCpGs_cphph = median(coveredCpGs_cphph), median_coveredCpGs_cphpg = median(coveredCpGs_cphpg))"
   ]
  },
  {
   "cell_type": "code",
   "execution_count": 91,
   "metadata": {},
   "outputs": [],
   "source": [
    "write.table(stats_summary, file.path(analysis_dir, \"01_basicStats\", \"nonCpG_stats.tsv\"), sep = \"\\t\", quote = F, row.names = F)"
   ]
  },
  {
   "cell_type": "code",
   "execution_count": 95,
   "metadata": {},
   "outputs": [
    {
     "data": {
      "text/html": [
       "452"
      ],
      "text/latex": [
       "452"
      ],
      "text/markdown": [
       "452"
      ],
      "text/plain": [
       "[1] 452"
      ]
     },
     "metadata": {},
     "output_type": "display_data"
    }
   ],
   "source": [
    "length(unique(stats$species))"
   ]
  },
  {
   "cell_type": "code",
   "execution_count": 96,
   "metadata": {},
   "outputs": [
    {
     "data": {
      "text/html": [
       "0.775300171526587"
      ],
      "text/latex": [
       "0.775300171526587"
      ],
      "text/markdown": [
       "0.775300171526587"
      ],
      "text/plain": [
       "[1] 0.7753002"
      ]
     },
     "metadata": {},
     "output_type": "display_data"
    }
   ],
   "source": [
    "length(unique(stats$species))/583"
   ]
  },
  {
   "cell_type": "code",
   "execution_count": 99,
   "metadata": {},
   "outputs": [
    {
     "data": {
      "text/html": [
       "converted\n",
       "<details>\n",
       "\t<summary style=display:list-item;cursor:pointer>\n",
       "\t\t<strong>Levels</strong>:\n",
       "\t</summary>\n",
       "\t<style>\n",
       "\t.list-inline {list-style: none; margin:0; padding: 0}\n",
       "\t.list-inline>li {display: inline-block}\n",
       "\t.list-inline>li:not(:last-child)::after {content: \"\\00b7\"; padding: 0 .5ex}\n",
       "\t</style>\n",
       "\t<ol class=list-inline><li>'converted'</li><li>'unconverted'</li></ol>\n",
       "</details>"
      ],
      "text/latex": [
       "converted\n",
       "\\emph{Levels}: \\begin{enumerate*}\n",
       "\\item 'converted'\n",
       "\\item 'unconverted'\n",
       "\\end{enumerate*}\n"
      ],
      "text/markdown": [
       "converted\n",
       "**Levels**: 1. 'converted'\n",
       "2. 'unconverted'\n",
       "\n",
       "\n"
      ],
      "text/plain": [
       "[1] converted\n",
       "Levels: converted unconverted"
      ]
     },
     "metadata": {},
     "output_type": "display_data"
    }
   ],
   "source": [
    "unique(stats$conversion_type)"
   ]
  },
  {
   "cell_type": "code",
   "execution_count": 100,
   "metadata": {},
   "outputs": [
    {
     "data": {
      "text/html": [
       "1922240"
      ],
      "text/latex": [
       "1922240"
      ],
      "text/markdown": [
       "1922240"
      ],
      "text/plain": [
       "[1] 1922240"
      ]
     },
     "metadata": {},
     "output_type": "display_data"
    }
   ],
   "source": [
    "median(stats$coveredCpGs_cphpg)"
   ]
  },
  {
   "cell_type": "code",
   "execution_count": 101,
   "metadata": {},
   "outputs": [
    {
     "data": {
      "text/html": [
       "4475223"
      ],
      "text/latex": [
       "4475223"
      ],
      "text/markdown": [
       "4475223"
      ],
      "text/plain": [
       "[1] 4475223"
      ]
     },
     "metadata": {},
     "output_type": "display_data"
    }
   ],
   "source": [
    "median(stats$coveredCpGs_cphph)"
   ]
  }
 ],
 "metadata": {
  "kernelspec": {
   "display_name": "R",
   "language": "R",
   "name": "ir"
  },
  "language_info": {
   "codemirror_mode": "r",
   "file_extension": ".r",
   "mimetype": "text/x-r-source",
   "name": "R",
   "pygments_lexer": "r",
   "version": "3.6.1"
  }
 },
 "nbformat": 4,
 "nbformat_minor": 4
}
