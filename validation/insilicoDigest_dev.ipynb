{
 "cells": [
  {
   "cell_type": "code",
   "execution_count": 1,
   "metadata": {
    "collapsed": true,
    "jupyter": {
     "outputs_hidden": true
    }
   },
   "outputs": [
    {
     "name": "stderr",
     "output_type": "stream",
     "text": [
      "Loading required package: BiocGenerics\n",
      "\n",
      "Loading required package: parallel\n",
      "\n",
      "\n",
      "Attaching package: ‘BiocGenerics’\n",
      "\n",
      "\n",
      "The following objects are masked from ‘package:parallel’:\n",
      "\n",
      "    clusterApply, clusterApplyLB, clusterCall, clusterEvalQ,\n",
      "    clusterExport, clusterMap, parApply, parCapply, parLapply,\n",
      "    parLapplyLB, parRapply, parSapply, parSapplyLB\n",
      "\n",
      "\n",
      "The following objects are masked from ‘package:stats’:\n",
      "\n",
      "    IQR, mad, sd, var, xtabs\n",
      "\n",
      "\n",
      "The following objects are masked from ‘package:base’:\n",
      "\n",
      "    anyDuplicated, append, as.data.frame, basename, cbind, colnames,\n",
      "    dirname, do.call, duplicated, eval, evalq, Filter, Find, get, grep,\n",
      "    grepl, intersect, is.unsorted, lapply, Map, mapply, match, mget,\n",
      "    order, paste, pmax, pmax.int, pmin, pmin.int, Position, rank,\n",
      "    rbind, Reduce, rownames, sapply, setdiff, sort, table, tapply,\n",
      "    union, unique, unsplit, which, which.max, which.min\n",
      "\n",
      "\n",
      "Loading required package: S4Vectors\n",
      "\n",
      "Loading required package: stats4\n",
      "\n",
      "\n",
      "Attaching package: ‘S4Vectors’\n",
      "\n",
      "\n",
      "The following object is masked from ‘package:base’:\n",
      "\n",
      "    expand.grid\n",
      "\n",
      "\n",
      "Loading required package: IRanges\n",
      "\n",
      "Loading required package: XVector\n",
      "\n",
      "Warning message:\n",
      "“no function found corresponding to methods exports from ‘XVector’ for: ‘concatenateObjects’”\n",
      "Warning message:\n",
      "“multiple methods tables found for ‘type’”\n",
      "\n",
      "Attaching package: ‘Biostrings’\n",
      "\n",
      "\n",
      "The following object is masked from ‘package:BiocGenerics’:\n",
      "\n",
      "    type\n",
      "\n",
      "\n",
      "The following object is masked from ‘package:base’:\n",
      "\n",
      "    strsplit\n",
      "\n",
      "\n",
      "\n",
      "Attaching package: ‘data.table’\n",
      "\n",
      "\n",
      "The following object is masked from ‘package:IRanges’:\n",
      "\n",
      "    shift\n",
      "\n",
      "\n",
      "The following objects are masked from ‘package:S4Vectors’:\n",
      "\n",
      "    first, second\n",
      "\n",
      "\n"
     ]
    }
   ],
   "source": [
    "library(Biostrings)\n",
    "library(data.table)\n",
    "library(ggplot2)"
   ]
  },
  {
   "cell_type": "code",
   "execution_count": 2,
   "metadata": {},
   "outputs": [
    {
     "name": "stderr",
     "output_type": "stream",
     "text": [
      "Loading required package: BSgenome\n",
      "\n",
      "Loading required package: GenomeInfoDb\n",
      "\n",
      "Loading required package: GenomicRanges\n",
      "\n",
      "Loading required package: rtracklayer\n",
      "\n",
      "Warning message:\n",
      "“replacing previous import ‘BiocGenerics::dims’ by ‘Biobase::dims’ when loading ‘SummarizedExperiment’”\n",
      "Warning message:\n",
      "“multiple methods tables found for ‘type’”\n",
      "Warning message:\n",
      "“multiple methods tables found for ‘lengths’”\n",
      "Warning message:\n",
      "“multiple methods tables found for ‘rowSums’”\n",
      "Warning message:\n",
      "“multiple methods tables found for ‘colSums’”\n",
      "Warning message:\n",
      "“multiple methods tables found for ‘rowMeans’”\n",
      "Warning message:\n",
      "“multiple methods tables found for ‘colMeans’”\n",
      "Warning message:\n",
      "“multiple methods tables found for ‘splitAsList’”\n",
      "Warning message:\n",
      "“replacing previous import ‘BiocGenerics::type’ by ‘DelayedArray::type’ when loading ‘SummarizedExperiment’”\n",
      "Warning message:\n",
      "“replacing previous import ‘BiocGenerics::type’ by ‘Biostrings::type’ when loading ‘GenomicAlignments’”\n",
      "Warning message:\n",
      "“no function found corresponding to methods exports from ‘GenomicAlignments’ for: ‘concatenateObjects’”\n",
      "Warning message:\n",
      "“replacing previous import ‘BiocGenerics::type’ by ‘Biostrings::type’ when loading ‘BSgenome’”\n"
     ]
    }
   ],
   "source": [
    "library(BSgenome.Mmusculus.UCSC.mm10)"
   ]
  },
  {
   "cell_type": "code",
   "execution_count": 3,
   "metadata": {},
   "outputs": [],
   "source": [
    "output_dir <- \"/scratch/lab_bock/shared/projects/compEpi/validation/insilicoDigest/\""
   ]
  },
  {
   "cell_type": "code",
   "execution_count": 4,
   "metadata": {},
   "outputs": [
    {
     "name": "stderr",
     "output_type": "stream",
     "text": [
      "Warning message in dir.create(output_dir):\n",
      "“cannot create dir '/scratch/lab_bock/shared/projects/compEpi/validation/insilicoDigest', reason 'No such file or directory'”\n"
     ]
    }
   ],
   "source": [
    "dir.create(output_dir)"
   ]
  },
  {
   "cell_type": "code",
   "execution_count": 5,
   "metadata": {},
   "outputs": [],
   "source": [
    "theme_set(theme_bw())"
   ]
  },
  {
   "cell_type": "code",
   "execution_count": 6,
   "metadata": {},
   "outputs": [],
   "source": [
    "get_seq <- function(chr, start, end, genome){\n",
    "    s <- subseq(genome[[chr]], start, end)\n",
    "    return(as.character(s))\n",
    "}"
   ]
  },
  {
   "cell_type": "code",
   "execution_count": 117,
   "metadata": {},
   "outputs": [],
   "source": [
    "# Identify the MspI recongnition sites for each chromosomal entry\n",
    "# Generate a dataframe with the length of MspI digested fragments\n",
    "insilicoRRBS <- function(genome){\n",
    "    genome_set <- get(genome)\n",
    "    mdf=data.frame()\n",
    "    \n",
    "    uniqFragments=data.table()\n",
    "    \n",
    "    ## looking for start positions of RRBS-sp enzymes\n",
    "    for (pattern_seq in c(\"CCGG\", \"TCGA\")){\n",
    "      for (i in seq_along(genome_set)){\n",
    "              if (\"DNAStringSet\"%in%is(genome_set[[i]])) {\n",
    "                        print(length(genome_set[[i]]))\n",
    "                                                    next}\n",
    "          \n",
    "      ##matching the pattern to the genome\n",
    "      m <- matchPattern(pattern_seq, genome_set[[i]])\n",
    "      ##getting everything, EXCEPT the pattern      \n",
    "      frags = gaps(m)\n",
    "            \n",
    "      ##extracting geomic coordinates\n",
    "      starts<-start(frags)\n",
    "      ends<-end(frags)\n",
    "      widths<-width(frags)\n",
    "\n",
    "      ##generating a df and performing coordinate shifts to include that reads to start with CGG/TCG and end with the reverse complement\n",
    "      temp_df<-data.frame(start=starts-3,end=ends+3,width=widths+6,chr=seqnames(genome_set)[i],genome=genome) #actually end = ends\n",
    "          \n",
    "      ##as the first becomes -2 => shifting to 0\n",
    "      temp_df$start<-replace(temp_df$start, temp_df$start == -2, 0)\n",
    "      temp_df$name <- pattern_seq\n",
    "      temp_df<-temp_df[c(\"genome\",\"chr\",\"start\",\"end\",\"width\", \"name\")]\n",
    "      mdf<-rbind(mdf,temp_df)\n",
    "  \n",
    "      #get coordinates of the start and the end for the generated sequences:\n",
    "      \n",
    "      #50 - size-selection(shortest you get via the library prep), but: including the adapters, which we don't account for\n",
    "      #500 - upper threshold for the width of the fragment we are interested in\n",
    "      sub=frags[width(frags)>=50]\n",
    "      \n",
    "      #fragment ends\n",
    "      tail_start=width(sub)-49\n",
    "      tail_end=width(sub)\n",
    "      tail_end_pos=end(sub)+3\n",
    "      tail_start_pos=end(sub)-49+3\n",
    "  \n",
    "      ##fragment starts\n",
    "      front_end_pos=start(sub)+49-3\n",
    "      front_start_pos=start(sub)-3\n",
    "      \n",
    "      ##summary dataframe    \n",
    "      uniqFragments=rbindlist(list(uniqFragments,data.table(genome=genome, pattern = pattern_seq, chr=seqnames(genome_set)[i],\n",
    "                                                            start=c(front_start_pos,tail_start_pos),\n",
    "                                                            end=c(front_end_pos,tail_end_pos),\n",
    "                                                            width=c(width(sub),width(sub)),\n",
    "                                                            origin=c(rep(\"front\",length(front_start_pos)),rep(\"tail\",length(tail_start_pos))))))\n",
    "      }\n",
    "    }\n",
    "    \n",
    "    #uniqFragments[,dupl:=duplicated(seq),by=list(genome, pattern)]\n",
    "    ## adjusting the start of the first fragment to 1:\n",
    "    uniqFragments[uniqFragments$start <= 0, ]$start <- 1\n",
    "    \n",
    "    ##extracting the sequence:\n",
    "    uniqFragments[, seq_exact :=get_seq(chr, start, end, genome_set), by = 1:nrow(uniqFragments)]\n",
    "    \n",
    "    ## we are only interested in the sequences, \n",
    "    ##saving output\n",
    "    output_dir_genome <- paste0(output_dir, genome)\n",
    "    dir.create(output_dir_genome, exisits_ok=TRUE)\n",
    "   \n",
    "    \n",
    "    ##saving stats of fragment length:\n",
    "    mdf=as.data.table(mdf)\n",
    "    print(head(mdf))\n",
    "    \n",
    "    count=mdf[,.N,by=c(\"width\",\"genome\", \"name\")]\n",
    "    \n",
    "    ggplot(count[width>50&width<500],aes(x=width,y=N)) + \n",
    "                                geom_line() +\n",
    "                                facet_wrap(~genome,scale=\"free_y\") +\n",
    "                                    xlab(\"fragment length\") + theme_bw()\n",
    "    \n",
    "    ggsave(file.path(output_dir_genome, \"fragmentLengths.svg\"),width=8,height=5)\n",
    "    \n",
    "\n",
    "     #saving Rdata\n",
    "    save(uniqFragments,file=paste0(output_dir_genome, \"/uniqFragments.RData\"))\n",
    "    save(mdf,file=paste0(output_dir_genome, \"/fragmentLength.RData\"))\n",
    "    \n",
    "    return(uniqFragments)\n",
    "\n",
    "}"
   ]
  },
  {
   "cell_type": "code",
   "execution_count": null,
   "metadata": {},
   "outputs": [],
   "source": [
    "df <- insilicoRRBS(\"Mmusculus\")"
   ]
  },
  {
   "cell_type": "code",
   "execution_count": 8,
   "metadata": {},
   "outputs": [],
   "source": [
    "unF <- df[[1]] ## insilico generated RRBS reads"
   ]
  },
  {
   "cell_type": "code",
   "execution_count": 9,
   "metadata": {},
   "outputs": [],
   "source": [
    "mdf <- df[[2]]"
   ]
  },
  {
   "cell_type": "code",
   "execution_count": 111,
   "metadata": {},
   "outputs": [],
   "source": [
    "unF[unF$start <= 0, ]$start <- 1"
   ]
  },
  {
   "cell_type": "code",
   "execution_count": null,
   "metadata": {},
   "outputs": [],
   "source": []
  },
  {
   "cell_type": "code",
   "execution_count": 112,
   "metadata": {},
   "outputs": [
    {
     "data": {
      "text/html": [
       "<table>\n",
       "<thead><tr><th scope=col>genome</th><th scope=col>pattern</th><th scope=col>chr</th><th scope=col>start</th><th scope=col>end</th><th scope=col>width</th><th scope=col>origin</th><th scope=col>seq</th><th scope=col>dupl</th></tr></thead>\n",
       "<tbody>\n",
       "\t<tr><td>Mmusculus                                         </td><td>CCGG                                              </td><td>chr1                                              </td><td>      1                                           </td><td>     47                                           </td><td>3003896                                           </td><td>front                                             </td><td>NNNNNNNNNNNNNNNNNNNNNNNNNNNNNNNNNNNNNNNNNNNNNNNNNN</td><td>FALSE                                             </td></tr>\n",
       "\t<tr><td>Mmusculus                                         </td><td>CCGG                                              </td><td>chr1                                              </td><td>3003898                                           </td><td>3003947                                           </td><td>   3528                                           </td><td>front                                             </td><td>ATGTCTGGAGCCTGAAACAGGGGTATGTCCCAGACACTGTGTAGCTTCTG</td><td>FALSE                                             </td></tr>\n",
       "\t<tr><td>Mmusculus                                         </td><td>CCGG                                              </td><td>chr1                                              </td><td>3007430                                           </td><td>3007479                                           </td><td>   7177                                           </td><td>front                                             </td><td>AGTTGAGTGTAACTTTTTCCATCAGTTTTAATACATTAAGCAGCTTATCT</td><td>FALSE                                             </td></tr>\n",
       "\t<tr><td>Mmusculus                                         </td><td>CCGG                                              </td><td>chr1                                              </td><td>3014611                                           </td><td>3014660                                           </td><td>    359                                           </td><td>front                                             </td><td>AGACAGCATTAAGGAAGCAGAAAACCAGCCTGACCAGGGTCACAAGTCCC</td><td>FALSE                                             </td></tr>\n",
       "\t<tr><td>Mmusculus                                         </td><td>CCGG                                              </td><td>chr1                                              </td><td>3014974                                           </td><td>3015023                                           </td><td>    707                                           </td><td>front                                             </td><td>GGTACTAGTTAGTTCATATTGTTATTCCACCTATAGGGTTGCAGTTCCCA</td><td>FALSE                                             </td></tr>\n",
       "\t<tr><td>Mmusculus                                         </td><td>CCGG                                              </td><td>chr1                                              </td><td>3015685                                           </td><td>3015734                                           </td><td>    932                                           </td><td>front                                             </td><td>TTGGGACATCTTCTGGATATATGCAAAGGAGAGGTATTGTGGGATCCTTA</td><td>FALSE                                             </td></tr>\n",
       "</tbody>\n",
       "</table>\n"
      ],
      "text/latex": [
       "\\begin{tabular}{r|lllllllll}\n",
       " genome & pattern & chr & start & end & width & origin & seq & dupl\\\\\n",
       "\\hline\n",
       "\t Mmusculus                                          & CCGG                                               & chr1                                               &       1                                            &      47                                            & 3003896                                            & front                                              & NNNNNNNNNNNNNNNNNNNNNNNNNNNNNNNNNNNNNNNNNNNNNNNNNN & FALSE                                             \\\\\n",
       "\t Mmusculus                                          & CCGG                                               & chr1                                               & 3003898                                            & 3003947                                            &    3528                                            & front                                              & ATGTCTGGAGCCTGAAACAGGGGTATGTCCCAGACACTGTGTAGCTTCTG & FALSE                                             \\\\\n",
       "\t Mmusculus                                          & CCGG                                               & chr1                                               & 3007430                                            & 3007479                                            &    7177                                            & front                                              & AGTTGAGTGTAACTTTTTCCATCAGTTTTAATACATTAAGCAGCTTATCT & FALSE                                             \\\\\n",
       "\t Mmusculus                                          & CCGG                                               & chr1                                               & 3014611                                            & 3014660                                            &     359                                            & front                                              & AGACAGCATTAAGGAAGCAGAAAACCAGCCTGACCAGGGTCACAAGTCCC & FALSE                                             \\\\\n",
       "\t Mmusculus                                          & CCGG                                               & chr1                                               & 3014974                                            & 3015023                                            &     707                                            & front                                              & GGTACTAGTTAGTTCATATTGTTATTCCACCTATAGGGTTGCAGTTCCCA & FALSE                                             \\\\\n",
       "\t Mmusculus                                          & CCGG                                               & chr1                                               & 3015685                                            & 3015734                                            &     932                                            & front                                              & TTGGGACATCTTCTGGATATATGCAAAGGAGAGGTATTGTGGGATCCTTA & FALSE                                             \\\\\n",
       "\\end{tabular}\n"
      ],
      "text/markdown": [
       "\n",
       "| genome | pattern | chr | start | end | width | origin | seq | dupl |\n",
       "|---|---|---|---|---|---|---|---|---|\n",
       "| Mmusculus                                          | CCGG                                               | chr1                                               |       1                                            |      47                                            | 3003896                                            | front                                              | NNNNNNNNNNNNNNNNNNNNNNNNNNNNNNNNNNNNNNNNNNNNNNNNNN | FALSE                                              |\n",
       "| Mmusculus                                          | CCGG                                               | chr1                                               | 3003898                                            | 3003947                                            |    3528                                            | front                                              | ATGTCTGGAGCCTGAAACAGGGGTATGTCCCAGACACTGTGTAGCTTCTG | FALSE                                              |\n",
       "| Mmusculus                                          | CCGG                                               | chr1                                               | 3007430                                            | 3007479                                            |    7177                                            | front                                              | AGTTGAGTGTAACTTTTTCCATCAGTTTTAATACATTAAGCAGCTTATCT | FALSE                                              |\n",
       "| Mmusculus                                          | CCGG                                               | chr1                                               | 3014611                                            | 3014660                                            |     359                                            | front                                              | AGACAGCATTAAGGAAGCAGAAAACCAGCCTGACCAGGGTCACAAGTCCC | FALSE                                              |\n",
       "| Mmusculus                                          | CCGG                                               | chr1                                               | 3014974                                            | 3015023                                            |     707                                            | front                                              | GGTACTAGTTAGTTCATATTGTTATTCCACCTATAGGGTTGCAGTTCCCA | FALSE                                              |\n",
       "| Mmusculus                                          | CCGG                                               | chr1                                               | 3015685                                            | 3015734                                            |     932                                            | front                                              | TTGGGACATCTTCTGGATATATGCAAAGGAGAGGTATTGTGGGATCCTTA | FALSE                                              |\n",
       "\n"
      ],
      "text/plain": [
       "  genome    pattern chr  start   end     width   origin\n",
       "1 Mmusculus CCGG    chr1       1      47 3003896 front \n",
       "2 Mmusculus CCGG    chr1 3003898 3003947    3528 front \n",
       "3 Mmusculus CCGG    chr1 3007430 3007479    7177 front \n",
       "4 Mmusculus CCGG    chr1 3014611 3014660     359 front \n",
       "5 Mmusculus CCGG    chr1 3014974 3015023     707 front \n",
       "6 Mmusculus CCGG    chr1 3015685 3015734     932 front \n",
       "  seq                                                dupl \n",
       "1 NNNNNNNNNNNNNNNNNNNNNNNNNNNNNNNNNNNNNNNNNNNNNNNNNN FALSE\n",
       "2 ATGTCTGGAGCCTGAAACAGGGGTATGTCCCAGACACTGTGTAGCTTCTG FALSE\n",
       "3 AGTTGAGTGTAACTTTTTCCATCAGTTTTAATACATTAAGCAGCTTATCT FALSE\n",
       "4 AGACAGCATTAAGGAAGCAGAAAACCAGCCTGACCAGGGTCACAAGTCCC FALSE\n",
       "5 GGTACTAGTTAGTTCATATTGTTATTCCACCTATAGGGTTGCAGTTCCCA FALSE\n",
       "6 TTGGGACATCTTCTGGATATATGCAAAGGAGAGGTATTGTGGGATCCTTA FALSE"
      ]
     },
     "metadata": {},
     "output_type": "display_data"
    }
   ],
   "source": [
    "head(unF)"
   ]
  },
  {
   "cell_type": "code",
   "execution_count": 21,
   "metadata": {},
   "outputs": [
    {
     "data": {
      "text/html": [
       "<table>\n",
       "<thead><tr><th scope=col>genome</th><th scope=col>pattern</th><th scope=col>chr</th><th scope=col>start</th><th scope=col>end</th><th scope=col>width</th><th scope=col>origin</th><th scope=col>seq</th><th scope=col>dupl</th></tr></thead>\n",
       "<tbody>\n",
       "\t<tr><td>Mmusculus                                         </td><td>CCGG                                              </td><td>chr1                                              </td><td>3003850                                           </td><td>3003899                                           </td><td>3003896                                           </td><td>tail                                              </td><td>GGGGGTCAAAGCCCTCCTTGGCAGCCACCTTTTTCAGGCGGAGAAGGTGC</td><td>FALSE                                             </td></tr>\n",
       "\t<tr><td>Mmusculus                                         </td><td>CCGG                                              </td><td>chr1                                              </td><td>3007382                                           </td><td>3007431                                           </td><td>   3528                                           </td><td>tail                                              </td><td>GGAGGTTCTAGGATCCATCACTCTAGCCTTTCCTGAGGATTAGGCTTTTC</td><td>FALSE                                             </td></tr>\n",
       "\t<tr><td>Mmusculus                                         </td><td>CCGG                                              </td><td>chr1                                              </td><td>3014563                                           </td><td>3014612                                           </td><td>   7177                                           </td><td>tail                                              </td><td>TTAGGACCTCCAGTGGAACACAACTTCTGTTCCAATCTAATCGTGCAAGA</td><td>FALSE                                             </td></tr>\n",
       "\t<tr><td>Mmusculus                                         </td><td>CCGG                                              </td><td>chr1                                              </td><td>3014926                                           </td><td>3014975                                           </td><td>    359                                           </td><td>tail                                              </td><td>ATGGCCGACTAGGCCATCTTTTGATACATATGCAGCTAGAGACAAGAGCT</td><td>FALSE                                             </td></tr>\n",
       "\t<tr><td>Mmusculus                                         </td><td>CCGG                                              </td><td>chr1                                              </td><td>3015637                                           </td><td>3015686                                           </td><td>    707                                           </td><td>tail                                              </td><td>CTATTATAAACAAGGCTGCTATGAACACAGTGGAGCATGTGTCCTTCTTA</td><td>FALSE                                             </td></tr>\n",
       "\t<tr><td>Mmusculus                                         </td><td>CCGG                                              </td><td>chr1                                              </td><td>3016573                                           </td><td>3016622                                           </td><td>    932                                           </td><td>tail                                              </td><td>CCAGTACCATGCAGTTTTGATCACAATTGCTCTGTAGTACAGTTTTAGGT</td><td>FALSE                                             </td></tr>\n",
       "</tbody>\n",
       "</table>\n"
      ],
      "text/latex": [
       "\\begin{tabular}{r|lllllllll}\n",
       " genome & pattern & chr & start & end & width & origin & seq & dupl\\\\\n",
       "\\hline\n",
       "\t Mmusculus                                          & CCGG                                               & chr1                                               & 3003850                                            & 3003899                                            & 3003896                                            & tail                                               & GGGGGTCAAAGCCCTCCTTGGCAGCCACCTTTTTCAGGCGGAGAAGGTGC & FALSE                                             \\\\\n",
       "\t Mmusculus                                          & CCGG                                               & chr1                                               & 3007382                                            & 3007431                                            &    3528                                            & tail                                               & GGAGGTTCTAGGATCCATCACTCTAGCCTTTCCTGAGGATTAGGCTTTTC & FALSE                                             \\\\\n",
       "\t Mmusculus                                          & CCGG                                               & chr1                                               & 3014563                                            & 3014612                                            &    7177                                            & tail                                               & TTAGGACCTCCAGTGGAACACAACTTCTGTTCCAATCTAATCGTGCAAGA & FALSE                                             \\\\\n",
       "\t Mmusculus                                          & CCGG                                               & chr1                                               & 3014926                                            & 3014975                                            &     359                                            & tail                                               & ATGGCCGACTAGGCCATCTTTTGATACATATGCAGCTAGAGACAAGAGCT & FALSE                                             \\\\\n",
       "\t Mmusculus                                          & CCGG                                               & chr1                                               & 3015637                                            & 3015686                                            &     707                                            & tail                                               & CTATTATAAACAAGGCTGCTATGAACACAGTGGAGCATGTGTCCTTCTTA & FALSE                                             \\\\\n",
       "\t Mmusculus                                          & CCGG                                               & chr1                                               & 3016573                                            & 3016622                                            &     932                                            & tail                                               & CCAGTACCATGCAGTTTTGATCACAATTGCTCTGTAGTACAGTTTTAGGT & FALSE                                             \\\\\n",
       "\\end{tabular}\n"
      ],
      "text/markdown": [
       "\n",
       "| genome | pattern | chr | start | end | width | origin | seq | dupl |\n",
       "|---|---|---|---|---|---|---|---|---|\n",
       "| Mmusculus                                          | CCGG                                               | chr1                                               | 3003850                                            | 3003899                                            | 3003896                                            | tail                                               | GGGGGTCAAAGCCCTCCTTGGCAGCCACCTTTTTCAGGCGGAGAAGGTGC | FALSE                                              |\n",
       "| Mmusculus                                          | CCGG                                               | chr1                                               | 3007382                                            | 3007431                                            |    3528                                            | tail                                               | GGAGGTTCTAGGATCCATCACTCTAGCCTTTCCTGAGGATTAGGCTTTTC | FALSE                                              |\n",
       "| Mmusculus                                          | CCGG                                               | chr1                                               | 3014563                                            | 3014612                                            |    7177                                            | tail                                               | TTAGGACCTCCAGTGGAACACAACTTCTGTTCCAATCTAATCGTGCAAGA | FALSE                                              |\n",
       "| Mmusculus                                          | CCGG                                               | chr1                                               | 3014926                                            | 3014975                                            |     359                                            | tail                                               | ATGGCCGACTAGGCCATCTTTTGATACATATGCAGCTAGAGACAAGAGCT | FALSE                                              |\n",
       "| Mmusculus                                          | CCGG                                               | chr1                                               | 3015637                                            | 3015686                                            |     707                                            | tail                                               | CTATTATAAACAAGGCTGCTATGAACACAGTGGAGCATGTGTCCTTCTTA | FALSE                                              |\n",
       "| Mmusculus                                          | CCGG                                               | chr1                                               | 3016573                                            | 3016622                                            |     932                                            | tail                                               | CCAGTACCATGCAGTTTTGATCACAATTGCTCTGTAGTACAGTTTTAGGT | FALSE                                              |\n",
       "\n"
      ],
      "text/plain": [
       "  genome    pattern chr  start   end     width   origin\n",
       "1 Mmusculus CCGG    chr1 3003850 3003899 3003896 tail  \n",
       "2 Mmusculus CCGG    chr1 3007382 3007431    3528 tail  \n",
       "3 Mmusculus CCGG    chr1 3014563 3014612    7177 tail  \n",
       "4 Mmusculus CCGG    chr1 3014926 3014975     359 tail  \n",
       "5 Mmusculus CCGG    chr1 3015637 3015686     707 tail  \n",
       "6 Mmusculus CCGG    chr1 3016573 3016622     932 tail  \n",
       "  seq                                                dupl \n",
       "1 GGGGGTCAAAGCCCTCCTTGGCAGCCACCTTTTTCAGGCGGAGAAGGTGC FALSE\n",
       "2 GGAGGTTCTAGGATCCATCACTCTAGCCTTTCCTGAGGATTAGGCTTTTC FALSE\n",
       "3 TTAGGACCTCCAGTGGAACACAACTTCTGTTCCAATCTAATCGTGCAAGA FALSE\n",
       "4 ATGGCCGACTAGGCCATCTTTTGATACATATGCAGCTAGAGACAAGAGCT FALSE\n",
       "5 CTATTATAAACAAGGCTGCTATGAACACAGTGGAGCATGTGTCCTTCTTA FALSE\n",
       "6 CCAGTACCATGCAGTTTTGATCACAATTGCTCTGTAGTACAGTTTTAGGT FALSE"
      ]
     },
     "metadata": {},
     "output_type": "display_data"
    }
   ],
   "source": [
    "head(unF[unF$origin==\"tail\",])"
   ]
  },
  {
   "cell_type": "code",
   "execution_count": 63,
   "metadata": {},
   "outputs": [],
   "source": [
    "sub <- unF[c(2:5), ]"
   ]
  },
  {
   "cell_type": "code",
   "execution_count": 64,
   "metadata": {},
   "outputs": [
    {
     "data": {
      "text/html": [
       "<table>\n",
       "<thead><tr><th scope=col>genome</th><th scope=col>pattern</th><th scope=col>chr</th><th scope=col>start</th><th scope=col>end</th><th scope=col>width</th><th scope=col>origin</th><th scope=col>seq</th><th scope=col>dupl</th></tr></thead>\n",
       "<tbody>\n",
       "\t<tr><td>Mmusculus                                         </td><td>CCGG                                              </td><td>chr1                                              </td><td>3003898                                           </td><td>3003947                                           </td><td>3528                                              </td><td>front                                             </td><td>ATGTCTGGAGCCTGAAACAGGGGTATGTCCCAGACACTGTGTAGCTTCTG</td><td>FALSE                                             </td></tr>\n",
       "\t<tr><td>Mmusculus                                         </td><td>CCGG                                              </td><td>chr1                                              </td><td>3007430                                           </td><td>3007479                                           </td><td>7177                                              </td><td>front                                             </td><td>AGTTGAGTGTAACTTTTTCCATCAGTTTTAATACATTAAGCAGCTTATCT</td><td>FALSE                                             </td></tr>\n",
       "\t<tr><td>Mmusculus                                         </td><td>CCGG                                              </td><td>chr1                                              </td><td>3014611                                           </td><td>3014660                                           </td><td> 359                                              </td><td>front                                             </td><td>AGACAGCATTAAGGAAGCAGAAAACCAGCCTGACCAGGGTCACAAGTCCC</td><td>FALSE                                             </td></tr>\n",
       "\t<tr><td>Mmusculus                                         </td><td>CCGG                                              </td><td>chr1                                              </td><td>3014974                                           </td><td>3015023                                           </td><td> 707                                              </td><td>front                                             </td><td>GGTACTAGTTAGTTCATATTGTTATTCCACCTATAGGGTTGCAGTTCCCA</td><td>FALSE                                             </td></tr>\n",
       "</tbody>\n",
       "</table>\n"
      ],
      "text/latex": [
       "\\begin{tabular}{r|lllllllll}\n",
       " genome & pattern & chr & start & end & width & origin & seq & dupl\\\\\n",
       "\\hline\n",
       "\t Mmusculus                                          & CCGG                                               & chr1                                               & 3003898                                            & 3003947                                            & 3528                                               & front                                              & ATGTCTGGAGCCTGAAACAGGGGTATGTCCCAGACACTGTGTAGCTTCTG & FALSE                                             \\\\\n",
       "\t Mmusculus                                          & CCGG                                               & chr1                                               & 3007430                                            & 3007479                                            & 7177                                               & front                                              & AGTTGAGTGTAACTTTTTCCATCAGTTTTAATACATTAAGCAGCTTATCT & FALSE                                             \\\\\n",
       "\t Mmusculus                                          & CCGG                                               & chr1                                               & 3014611                                            & 3014660                                            &  359                                               & front                                              & AGACAGCATTAAGGAAGCAGAAAACCAGCCTGACCAGGGTCACAAGTCCC & FALSE                                             \\\\\n",
       "\t Mmusculus                                          & CCGG                                               & chr1                                               & 3014974                                            & 3015023                                            &  707                                               & front                                              & GGTACTAGTTAGTTCATATTGTTATTCCACCTATAGGGTTGCAGTTCCCA & FALSE                                             \\\\\n",
       "\\end{tabular}\n"
      ],
      "text/markdown": [
       "\n",
       "| genome | pattern | chr | start | end | width | origin | seq | dupl |\n",
       "|---|---|---|---|---|---|---|---|---|\n",
       "| Mmusculus                                          | CCGG                                               | chr1                                               | 3003898                                            | 3003947                                            | 3528                                               | front                                              | ATGTCTGGAGCCTGAAACAGGGGTATGTCCCAGACACTGTGTAGCTTCTG | FALSE                                              |\n",
       "| Mmusculus                                          | CCGG                                               | chr1                                               | 3007430                                            | 3007479                                            | 7177                                               | front                                              | AGTTGAGTGTAACTTTTTCCATCAGTTTTAATACATTAAGCAGCTTATCT | FALSE                                              |\n",
       "| Mmusculus                                          | CCGG                                               | chr1                                               | 3014611                                            | 3014660                                            |  359                                               | front                                              | AGACAGCATTAAGGAAGCAGAAAACCAGCCTGACCAGGGTCACAAGTCCC | FALSE                                              |\n",
       "| Mmusculus                                          | CCGG                                               | chr1                                               | 3014974                                            | 3015023                                            |  707                                               | front                                              | GGTACTAGTTAGTTCATATTGTTATTCCACCTATAGGGTTGCAGTTCCCA | FALSE                                              |\n",
       "\n"
      ],
      "text/plain": [
       "  genome    pattern chr  start   end     width origin\n",
       "1 Mmusculus CCGG    chr1 3003898 3003947 3528  front \n",
       "2 Mmusculus CCGG    chr1 3007430 3007479 7177  front \n",
       "3 Mmusculus CCGG    chr1 3014611 3014660  359  front \n",
       "4 Mmusculus CCGG    chr1 3014974 3015023  707  front \n",
       "  seq                                                dupl \n",
       "1 ATGTCTGGAGCCTGAAACAGGGGTATGTCCCAGACACTGTGTAGCTTCTG FALSE\n",
       "2 AGTTGAGTGTAACTTTTTCCATCAGTTTTAATACATTAAGCAGCTTATCT FALSE\n",
       "3 AGACAGCATTAAGGAAGCAGAAAACCAGCCTGACCAGGGTCACAAGTCCC FALSE\n",
       "4 GGTACTAGTTAGTTCATATTGTTATTCCACCTATAGGGTTGCAGTTCCCA FALSE"
      ]
     },
     "metadata": {},
     "output_type": "display_data"
    }
   ],
   "source": [
    "head(sub)"
   ]
  },
  {
   "cell_type": "code",
   "execution_count": 109,
   "metadata": {},
   "outputs": [
    {
     "data": {
      "text/plain": [
       "  3-letter \"DNAString\" instance\n",
       "seq: NNN"
      ]
     },
     "metadata": {},
     "output_type": "display_data"
    }
   ],
   "source": [
    "subseq(genome[[\"chr1\"]], 1, 3)"
   ]
  },
  {
   "cell_type": "code",
   "execution_count": 74,
   "metadata": {},
   "outputs": [
    {
     "name": "stdout",
     "output_type": "stream",
     "text": [
      "[1] 3015685\n",
      "[1] 3015734\n"
     ]
    },
    {
     "data": {
      "text/plain": [
       "  50-letter \"DNAString\" instance\n",
       "seq: CGGTTGGGACATCTTCTGGATATATGCAAAGGAGAGGTATTGTGGGATCC"
      ]
     },
     "metadata": {},
     "output_type": "display_data"
    }
   ],
   "source": [
    "get_seq(3015685, 3015734)"
   ]
  },
  {
   "cell_type": "code",
   "execution_count": 79,
   "metadata": {},
   "outputs": [
    {
     "data": {
      "text/html": [
       "<ol class=list-inline>\n",
       "\t<li>1</li>\n",
       "\t<li>2</li>\n",
       "\t<li>3</li>\n",
       "\t<li>4</li>\n",
       "</ol>\n"
      ],
      "text/latex": [
       "\\begin{enumerate*}\n",
       "\\item 1\n",
       "\\item 2\n",
       "\\item 3\n",
       "\\item 4\n",
       "\\end{enumerate*}\n"
      ],
      "text/markdown": [
       "1. 1\n",
       "2. 2\n",
       "3. 3\n",
       "4. 4\n",
       "\n",
       "\n"
      ],
      "text/plain": [
       "[1] 1 2 3 4"
      ]
     },
     "metadata": {},
     "output_type": "display_data"
    }
   ],
   "source": [
    "1:4"
   ]
  },
  {
   "cell_type": "code",
   "execution_count": 105,
   "metadata": {},
   "outputs": [],
   "source": [
    "unF[, seq_exact :=get_seq(chr, start, end), by = 1:nrow(sub)]"
   ]
  },
  {
   "cell_type": "code",
   "execution_count": 106,
   "metadata": {},
   "outputs": [
    {
     "data": {
      "text/html": [
       "<table>\n",
       "<thead><tr><th scope=col>genome</th><th scope=col>pattern</th><th scope=col>chr</th><th scope=col>start</th><th scope=col>end</th><th scope=col>width</th><th scope=col>origin</th><th scope=col>seq</th><th scope=col>dupl</th><th scope=col>seq_exact</th></tr></thead>\n",
       "<tbody>\n",
       "\t<tr><td>Mmusculus                                         </td><td>CCGG                                              </td><td>chr1                                              </td><td>3003898                                           </td><td>3003947                                           </td><td>3528                                              </td><td>front                                             </td><td>ATGTCTGGAGCCTGAAACAGGGGTATGTCCCAGACACTGTGTAGCTTCTG</td><td>FALSE                                             </td><td>CGGATGTCTGGAGCCTGAAACAGGGGTATGTCCCAGACACTGTGTAGCTT</td></tr>\n",
       "\t<tr><td>Mmusculus                                         </td><td>CCGG                                              </td><td>chr1                                              </td><td>3007430                                           </td><td>3007479                                           </td><td>7177                                              </td><td>front                                             </td><td>AGTTGAGTGTAACTTTTTCCATCAGTTTTAATACATTAAGCAGCTTATCT</td><td>FALSE                                             </td><td>CGGAGTTGAGTGTAACTTTTTCCATCAGTTTTAATACATTAAGCAGCTTA</td></tr>\n",
       "\t<tr><td>Mmusculus                                         </td><td>CCGG                                              </td><td>chr1                                              </td><td>3014611                                           </td><td>3014660                                           </td><td> 359                                              </td><td>front                                             </td><td>AGACAGCATTAAGGAAGCAGAAAACCAGCCTGACCAGGGTCACAAGTCCC</td><td>FALSE                                             </td><td>CGGAGACAGCATTAAGGAAGCAGAAAACCAGCCTGACCAGGGTCACAAGT</td></tr>\n",
       "\t<tr><td>Mmusculus                                         </td><td>CCGG                                              </td><td>chr1                                              </td><td>3014974                                           </td><td>3015023                                           </td><td> 707                                              </td><td>front                                             </td><td>GGTACTAGTTAGTTCATATTGTTATTCCACCTATAGGGTTGCAGTTCCCA</td><td>FALSE                                             </td><td>CGGGGTACTAGTTAGTTCATATTGTTATTCCACCTATAGGGTTGCAGTTC</td></tr>\n",
       "</tbody>\n",
       "</table>\n"
      ],
      "text/latex": [
       "\\begin{tabular}{r|llllllllll}\n",
       " genome & pattern & chr & start & end & width & origin & seq & dupl & seq\\_exact\\\\\n",
       "\\hline\n",
       "\t Mmusculus                                          & CCGG                                               & chr1                                               & 3003898                                            & 3003947                                            & 3528                                               & front                                              & ATGTCTGGAGCCTGAAACAGGGGTATGTCCCAGACACTGTGTAGCTTCTG & FALSE                                              & CGGATGTCTGGAGCCTGAAACAGGGGTATGTCCCAGACACTGTGTAGCTT\\\\\n",
       "\t Mmusculus                                          & CCGG                                               & chr1                                               & 3007430                                            & 3007479                                            & 7177                                               & front                                              & AGTTGAGTGTAACTTTTTCCATCAGTTTTAATACATTAAGCAGCTTATCT & FALSE                                              & CGGAGTTGAGTGTAACTTTTTCCATCAGTTTTAATACATTAAGCAGCTTA\\\\\n",
       "\t Mmusculus                                          & CCGG                                               & chr1                                               & 3014611                                            & 3014660                                            &  359                                               & front                                              & AGACAGCATTAAGGAAGCAGAAAACCAGCCTGACCAGGGTCACAAGTCCC & FALSE                                              & CGGAGACAGCATTAAGGAAGCAGAAAACCAGCCTGACCAGGGTCACAAGT\\\\\n",
       "\t Mmusculus                                          & CCGG                                               & chr1                                               & 3014974                                            & 3015023                                            &  707                                               & front                                              & GGTACTAGTTAGTTCATATTGTTATTCCACCTATAGGGTTGCAGTTCCCA & FALSE                                              & CGGGGTACTAGTTAGTTCATATTGTTATTCCACCTATAGGGTTGCAGTTC\\\\\n",
       "\\end{tabular}\n"
      ],
      "text/markdown": [
       "\n",
       "| genome | pattern | chr | start | end | width | origin | seq | dupl | seq_exact |\n",
       "|---|---|---|---|---|---|---|---|---|---|\n",
       "| Mmusculus                                          | CCGG                                               | chr1                                               | 3003898                                            | 3003947                                            | 3528                                               | front                                              | ATGTCTGGAGCCTGAAACAGGGGTATGTCCCAGACACTGTGTAGCTTCTG | FALSE                                              | CGGATGTCTGGAGCCTGAAACAGGGGTATGTCCCAGACACTGTGTAGCTT |\n",
       "| Mmusculus                                          | CCGG                                               | chr1                                               | 3007430                                            | 3007479                                            | 7177                                               | front                                              | AGTTGAGTGTAACTTTTTCCATCAGTTTTAATACATTAAGCAGCTTATCT | FALSE                                              | CGGAGTTGAGTGTAACTTTTTCCATCAGTTTTAATACATTAAGCAGCTTA |\n",
       "| Mmusculus                                          | CCGG                                               | chr1                                               | 3014611                                            | 3014660                                            |  359                                               | front                                              | AGACAGCATTAAGGAAGCAGAAAACCAGCCTGACCAGGGTCACAAGTCCC | FALSE                                              | CGGAGACAGCATTAAGGAAGCAGAAAACCAGCCTGACCAGGGTCACAAGT |\n",
       "| Mmusculus                                          | CCGG                                               | chr1                                               | 3014974                                            | 3015023                                            |  707                                               | front                                              | GGTACTAGTTAGTTCATATTGTTATTCCACCTATAGGGTTGCAGTTCCCA | FALSE                                              | CGGGGTACTAGTTAGTTCATATTGTTATTCCACCTATAGGGTTGCAGTTC |\n",
       "\n"
      ],
      "text/plain": [
       "  genome    pattern chr  start   end     width origin\n",
       "1 Mmusculus CCGG    chr1 3003898 3003947 3528  front \n",
       "2 Mmusculus CCGG    chr1 3007430 3007479 7177  front \n",
       "3 Mmusculus CCGG    chr1 3014611 3014660  359  front \n",
       "4 Mmusculus CCGG    chr1 3014974 3015023  707  front \n",
       "  seq                                                dupl \n",
       "1 ATGTCTGGAGCCTGAAACAGGGGTATGTCCCAGACACTGTGTAGCTTCTG FALSE\n",
       "2 AGTTGAGTGTAACTTTTTCCATCAGTTTTAATACATTAAGCAGCTTATCT FALSE\n",
       "3 AGACAGCATTAAGGAAGCAGAAAACCAGCCTGACCAGGGTCACAAGTCCC FALSE\n",
       "4 GGTACTAGTTAGTTCATATTGTTATTCCACCTATAGGGTTGCAGTTCCCA FALSE\n",
       "  seq_exact                                         \n",
       "1 CGGATGTCTGGAGCCTGAAACAGGGGTATGTCCCAGACACTGTGTAGCTT\n",
       "2 CGGAGTTGAGTGTAACTTTTTCCATCAGTTTTAATACATTAAGCAGCTTA\n",
       "3 CGGAGACAGCATTAAGGAAGCAGAAAACCAGCCTGACCAGGGTCACAAGT\n",
       "4 CGGGGTACTAGTTAGTTCATATTGTTATTCCACCTATAGGGTTGCAGTTC"
      ]
     },
     "metadata": {},
     "output_type": "display_data"
    }
   ],
   "source": [
    "sub"
   ]
  },
  {
   "cell_type": "code",
   "execution_count": 34,
   "metadata": {},
   "outputs": [],
   "source": [
    "genome <- get(\"Mmusculus\")"
   ]
  },
  {
   "cell_type": "code",
   "execution_count": 41,
   "metadata": {},
   "outputs": [
    {
     "name": "stdout",
     "output_type": "stream",
     "text": [
      "Formal class 'BSgenome' [package \"BSgenome\"] with 17 slots\n",
      "  ..@ pkgname           : chr \"BSgenome.Mmusculus.UCSC.mm10\"\n",
      "  ..@ single_sequences  :Formal class 'TwobitNamedSequences' [package \"BSgenome\"] with 1 slot\n",
      "  .. .. ..@ twobitfile:Formal class 'TwoBitFile' [package \"rtracklayer\"] with 1 slot\n",
      "  .. .. .. .. ..@ resource: chr \"/home/dromanovskaia/R/x86_64-conda_cos6-linux-gnu-library/3.6/BSgenome.Mmusculus.UCSC.mm10/extdata/single_sequences.2bit\"\n",
      "  ..@ multiple_sequences:Formal class 'RdaCollection' [package \"XVector\"] with 2 slots\n",
      "  .. .. ..@ dirpath : chr \"/home/dromanovskaia/R/x86_64-conda_cos6-linux-gnu-library/3.6/BSgenome.Mmusculus.UCSC.mm10/extdata\"\n",
      "  .. .. ..@ objnames: chr(0) \n",
      "  ..@ source_url        : chr \"http://hgdownload.cse.ucsc.edu/goldenPath/mm10/chromosomes/\"\n",
      "  ..@ user_seqnames     : Named chr [1:66] \"chr1\" \"chr2\" \"chr3\" \"chr4\" ...\n",
      "  .. ..- attr(*, \"names\")= chr [1:66] \"chr1\" \"chr2\" \"chr3\" \"chr4\" ...\n",
      "  ..@ injectSNPs_handler:Formal class 'InjectSNPsHandler' [package \"BSgenome\"] with 4 slots\n",
      "  .. .. ..@ SNPlocs_pkgname          : chr(0) \n",
      "  .. .. ..@ getSNPcount              :function ()  \n",
      "  .. .. ..@ getSNPlocs               :function ()  \n",
      "  .. .. ..@ seqname_translation_table: chr(0) \n",
      "  ..@ .seqs_cache       :<environment: 0x2aaaf080fa70> \n",
      "  ..@ .link_counts      :<environment: 0x2aaaf080fd48> \n",
      "  ..@ nmask_per_seq     : int 0\n",
      "  ..@ masks             :Formal class 'RdaCollection' [package \"XVector\"] with 2 slots\n",
      "  .. .. ..@ dirpath : chr NA\n",
      "  .. .. ..@ objnames: chr(0) \n",
      "  ..@ organism          : chr \"Mus musculus\"\n",
      "  ..@ common_name       : chr \"Mouse\"\n",
      "  ..@ provider          : chr \"UCSC\"\n",
      "  ..@ provider_version  : chr \"mm10\"\n",
      "  ..@ release_date      : chr \"Dec. 2011\"\n",
      "  ..@ release_name      : chr \"Genome Reference Consortium GRCm38\"\n",
      "  ..@ seqinfo           :Formal class 'Seqinfo' [package \"GenomeInfoDb\"] with 4 slots\n",
      "  .. .. ..@ seqnames   : chr [1:66] \"chr1\" \"chr2\" \"chr3\" \"chr4\" ...\n",
      "  .. .. ..@ seqlengths : int [1:66] 195471971 182113224 160039680 156508116 151834684 149736546 145441459 129401213 124595110 130694993 ...\n",
      "  .. .. ..@ is_circular: logi [1:66] FALSE FALSE FALSE FALSE FALSE FALSE ...\n",
      "  .. .. ..@ genome     : chr [1:66] \"mm10\" \"mm10\" \"mm10\" \"mm10\" ...\n"
     ]
    }
   ],
   "source": [
    "str(genome)"
   ]
  },
  {
   "cell_type": "code",
   "execution_count": 56,
   "metadata": {},
   "outputs": [
    {
     "data": {
      "text/plain": [
       "  195471971-letter \"DNAString\" instance\n",
       "seq: NNNNNNNNNNNNNNNNNNNNNNNNNNNNNNNNNNNN...NNNNNNNNNNNNNNNNNNNNNNNNNNNNNNNNNNNN"
      ]
     },
     "metadata": {},
     "output_type": "display_data"
    }
   ],
   "source": [
    "genome[[\"chr1\"]]"
   ]
  },
  {
   "cell_type": "code",
   "execution_count": 57,
   "metadata": {},
   "outputs": [
    {
     "data": {
      "text/html": [
       "66"
      ],
      "text/latex": [
       "66"
      ],
      "text/markdown": [
       "66"
      ],
      "text/plain": [
       "[1] 66"
      ]
     },
     "metadata": {},
     "output_type": "display_data"
    }
   ],
   "source": [
    "length(genome)"
   ]
  },
  {
   "cell_type": "code",
   "execution_count": 85,
   "metadata": {},
   "outputs": [],
   "source": [
    "s <- subseq(genome[[\"chr1\"]], 3007382, 3007431)"
   ]
  },
  {
   "cell_type": "code",
   "execution_count": 94,
   "metadata": {},
   "outputs": [
    {
     "data": {
      "text/html": [
       "'GGTTCTAGGATCCATCACTCTAGCCTTTCCTGAGGATTAGGCTTTTCCCG'"
      ],
      "text/latex": [
       "'GGTTCTAGGATCCATCACTCTAGCCTTTCCTGAGGATTAGGCTTTTCCCG'"
      ],
      "text/markdown": [
       "'GGTTCTAGGATCCATCACTCTAGCCTTTCCTGAGGATTAGGCTTTTCCCG'"
      ],
      "text/plain": [
       "[1] \"GGTTCTAGGATCCATCACTCTAGCCTTTCCTGAGGATTAGGCTTTTCCCG\""
      ]
     },
     "metadata": {},
     "output_type": "display_data"
    }
   ],
   "source": [
    "as.character(s)"
   ]
  },
  {
   "cell_type": "code",
   "execution_count": null,
   "metadata": {},
   "outputs": [],
   "source": [
    "subseq(genome, )"
   ]
  },
  {
   "cell_type": "code",
   "execution_count": 29,
   "metadata": {},
   "outputs": [],
   "source": [
    "unF[,nchar(seq),by=1:nrow(unF)]"
   ]
  },
  {
   "cell_type": "code",
   "execution_count": 20,
   "metadata": {},
   "outputs": [
    {
     "data": {
      "text/html": [
       "<table>\n",
       "<thead><tr><th scope=col>genome</th><th scope=col>pattern</th><th scope=col>chr</th><th scope=col>start</th><th scope=col>end</th><th scope=col>width</th><th scope=col>origin</th><th scope=col>seq</th><th scope=col>dupl</th></tr></thead>\n",
       "<tbody>\n",
       "\t<tr><td>Mmusculus                                         </td><td>CCGG                                              </td><td>chr1                                              </td><td>     -2                                           </td><td>     47                                           </td><td>3003896                                           </td><td>front                                             </td><td>NNNNNNNNNNNNNNNNNNNNNNNNNNNNNNNNNNNNNNNNNNNNNNNNNN</td><td>FALSE                                             </td></tr>\n",
       "\t<tr><td>Mmusculus                                         </td><td>CCGG                                              </td><td>chr1                                              </td><td>3003898                                           </td><td>3003947                                           </td><td>   3528                                           </td><td>front                                             </td><td>ATGTCTGGAGCCTGAAACAGGGGTATGTCCCAGACACTGTGTAGCTTCTG</td><td>FALSE                                             </td></tr>\n",
       "\t<tr><td>Mmusculus                                         </td><td>CCGG                                              </td><td>chr1                                              </td><td>3007430                                           </td><td>3007479                                           </td><td>   7177                                           </td><td>front                                             </td><td>AGTTGAGTGTAACTTTTTCCATCAGTTTTAATACATTAAGCAGCTTATCT</td><td>FALSE                                             </td></tr>\n",
       "\t<tr><td>Mmusculus                                         </td><td>CCGG                                              </td><td>chr1                                              </td><td>3014611                                           </td><td>3014660                                           </td><td>    359                                           </td><td>front                                             </td><td>AGACAGCATTAAGGAAGCAGAAAACCAGCCTGACCAGGGTCACAAGTCCC</td><td>FALSE                                             </td></tr>\n",
       "\t<tr><td>Mmusculus                                         </td><td>CCGG                                              </td><td>chr1                                              </td><td>3014974                                           </td><td>3015023                                           </td><td>    707                                           </td><td>front                                             </td><td>GGTACTAGTTAGTTCATATTGTTATTCCACCTATAGGGTTGCAGTTCCCA</td><td>FALSE                                             </td></tr>\n",
       "\t<tr><td>Mmusculus                                         </td><td>CCGG                                              </td><td>chr1                                              </td><td>3015685                                           </td><td>3015734                                           </td><td>    932                                           </td><td>front                                             </td><td>TTGGGACATCTTCTGGATATATGCAAAGGAGAGGTATTGTGGGATCCTTA</td><td>FALSE                                             </td></tr>\n",
       "</tbody>\n",
       "</table>\n"
      ],
      "text/latex": [
       "\\begin{tabular}{r|lllllllll}\n",
       " genome & pattern & chr & start & end & width & origin & seq & dupl\\\\\n",
       "\\hline\n",
       "\t Mmusculus                                          & CCGG                                               & chr1                                               &      -2                                            &      47                                            & 3003896                                            & front                                              & NNNNNNNNNNNNNNNNNNNNNNNNNNNNNNNNNNNNNNNNNNNNNNNNNN & FALSE                                             \\\\\n",
       "\t Mmusculus                                          & CCGG                                               & chr1                                               & 3003898                                            & 3003947                                            &    3528                                            & front                                              & ATGTCTGGAGCCTGAAACAGGGGTATGTCCCAGACACTGTGTAGCTTCTG & FALSE                                             \\\\\n",
       "\t Mmusculus                                          & CCGG                                               & chr1                                               & 3007430                                            & 3007479                                            &    7177                                            & front                                              & AGTTGAGTGTAACTTTTTCCATCAGTTTTAATACATTAAGCAGCTTATCT & FALSE                                             \\\\\n",
       "\t Mmusculus                                          & CCGG                                               & chr1                                               & 3014611                                            & 3014660                                            &     359                                            & front                                              & AGACAGCATTAAGGAAGCAGAAAACCAGCCTGACCAGGGTCACAAGTCCC & FALSE                                             \\\\\n",
       "\t Mmusculus                                          & CCGG                                               & chr1                                               & 3014974                                            & 3015023                                            &     707                                            & front                                              & GGTACTAGTTAGTTCATATTGTTATTCCACCTATAGGGTTGCAGTTCCCA & FALSE                                             \\\\\n",
       "\t Mmusculus                                          & CCGG                                               & chr1                                               & 3015685                                            & 3015734                                            &     932                                            & front                                              & TTGGGACATCTTCTGGATATATGCAAAGGAGAGGTATTGTGGGATCCTTA & FALSE                                             \\\\\n",
       "\\end{tabular}\n"
      ],
      "text/markdown": [
       "\n",
       "| genome | pattern | chr | start | end | width | origin | seq | dupl |\n",
       "|---|---|---|---|---|---|---|---|---|\n",
       "| Mmusculus                                          | CCGG                                               | chr1                                               |      -2                                            |      47                                            | 3003896                                            | front                                              | NNNNNNNNNNNNNNNNNNNNNNNNNNNNNNNNNNNNNNNNNNNNNNNNNN | FALSE                                              |\n",
       "| Mmusculus                                          | CCGG                                               | chr1                                               | 3003898                                            | 3003947                                            |    3528                                            | front                                              | ATGTCTGGAGCCTGAAACAGGGGTATGTCCCAGACACTGTGTAGCTTCTG | FALSE                                              |\n",
       "| Mmusculus                                          | CCGG                                               | chr1                                               | 3007430                                            | 3007479                                            |    7177                                            | front                                              | AGTTGAGTGTAACTTTTTCCATCAGTTTTAATACATTAAGCAGCTTATCT | FALSE                                              |\n",
       "| Mmusculus                                          | CCGG                                               | chr1                                               | 3014611                                            | 3014660                                            |     359                                            | front                                              | AGACAGCATTAAGGAAGCAGAAAACCAGCCTGACCAGGGTCACAAGTCCC | FALSE                                              |\n",
       "| Mmusculus                                          | CCGG                                               | chr1                                               | 3014974                                            | 3015023                                            |     707                                            | front                                              | GGTACTAGTTAGTTCATATTGTTATTCCACCTATAGGGTTGCAGTTCCCA | FALSE                                              |\n",
       "| Mmusculus                                          | CCGG                                               | chr1                                               | 3015685                                            | 3015734                                            |     932                                            | front                                              | TTGGGACATCTTCTGGATATATGCAAAGGAGAGGTATTGTGGGATCCTTA | FALSE                                              |\n",
       "\n"
      ],
      "text/plain": [
       "  genome    pattern chr  start   end     width   origin\n",
       "1 Mmusculus CCGG    chr1      -2      47 3003896 front \n",
       "2 Mmusculus CCGG    chr1 3003898 3003947    3528 front \n",
       "3 Mmusculus CCGG    chr1 3007430 3007479    7177 front \n",
       "4 Mmusculus CCGG    chr1 3014611 3014660     359 front \n",
       "5 Mmusculus CCGG    chr1 3014974 3015023     707 front \n",
       "6 Mmusculus CCGG    chr1 3015685 3015734     932 front \n",
       "  seq                                                dupl \n",
       "1 NNNNNNNNNNNNNNNNNNNNNNNNNNNNNNNNNNNNNNNNNNNNNNNNNN FALSE\n",
       "2 ATGTCTGGAGCCTGAAACAGGGGTATGTCCCAGACACTGTGTAGCTTCTG FALSE\n",
       "3 AGTTGAGTGTAACTTTTTCCATCAGTTTTAATACATTAAGCAGCTTATCT FALSE\n",
       "4 AGACAGCATTAAGGAAGCAGAAAACCAGCCTGACCAGGGTCACAAGTCCC FALSE\n",
       "5 GGTACTAGTTAGTTCATATTGTTATTCCACCTATAGGGTTGCAGTTCCCA FALSE\n",
       "6 TTGGGACATCTTCTGGATATATGCAAAGGAGAGGTATTGTGGGATCCTTA FALSE"
      ]
     },
     "metadata": {},
     "output_type": "display_data"
    }
   ],
   "source": [
    "head(unF)"
   ]
  },
  {
   "cell_type": "code",
   "execution_count": 16,
   "metadata": {},
   "outputs": [
    {
     "data": {
      "text/html": [
       "<table>\n",
       "<thead><tr><th scope=col>genome</th><th scope=col>chr</th><th scope=col>start</th><th scope=col>end</th><th scope=col>width</th><th scope=col>name</th></tr></thead>\n",
       "<tbody>\n",
       "\t<tr><td>Mmusculus</td><td>chr1     </td><td>      0  </td><td>3003899  </td><td>3003902  </td><td>CCGG     </td></tr>\n",
       "\t<tr><td>Mmusculus</td><td>chr1     </td><td>3003898  </td><td>3007431  </td><td>   3534  </td><td>CCGG     </td></tr>\n",
       "\t<tr><td>Mmusculus</td><td>chr1     </td><td>3007430  </td><td>3014612  </td><td>   7183  </td><td>CCGG     </td></tr>\n",
       "\t<tr><td>Mmusculus</td><td>chr1     </td><td>3014611  </td><td>3014975  </td><td>    365  </td><td>CCGG     </td></tr>\n",
       "\t<tr><td>Mmusculus</td><td>chr1     </td><td>3014974  </td><td>3015686  </td><td>    713  </td><td>CCGG     </td></tr>\n",
       "\t<tr><td>Mmusculus</td><td>chr1     </td><td>3015685  </td><td>3016622  </td><td>    938  </td><td>CCGG     </td></tr>\n",
       "</tbody>\n",
       "</table>\n"
      ],
      "text/latex": [
       "\\begin{tabular}{r|llllll}\n",
       " genome & chr & start & end & width & name\\\\\n",
       "\\hline\n",
       "\t Mmusculus & chr1      &       0   & 3003899   & 3003902   & CCGG     \\\\\n",
       "\t Mmusculus & chr1      & 3003898   & 3007431   &    3534   & CCGG     \\\\\n",
       "\t Mmusculus & chr1      & 3007430   & 3014612   &    7183   & CCGG     \\\\\n",
       "\t Mmusculus & chr1      & 3014611   & 3014975   &     365   & CCGG     \\\\\n",
       "\t Mmusculus & chr1      & 3014974   & 3015686   &     713   & CCGG     \\\\\n",
       "\t Mmusculus & chr1      & 3015685   & 3016622   &     938   & CCGG     \\\\\n",
       "\\end{tabular}\n"
      ],
      "text/markdown": [
       "\n",
       "| genome | chr | start | end | width | name |\n",
       "|---|---|---|---|---|---|\n",
       "| Mmusculus | chr1      |       0   | 3003899   | 3003902   | CCGG      |\n",
       "| Mmusculus | chr1      | 3003898   | 3007431   |    3534   | CCGG      |\n",
       "| Mmusculus | chr1      | 3007430   | 3014612   |    7183   | CCGG      |\n",
       "| Mmusculus | chr1      | 3014611   | 3014975   |     365   | CCGG      |\n",
       "| Mmusculus | chr1      | 3014974   | 3015686   |     713   | CCGG      |\n",
       "| Mmusculus | chr1      | 3015685   | 3016622   |     938   | CCGG      |\n",
       "\n"
      ],
      "text/plain": [
       "  genome    chr  start   end     width   name\n",
       "1 Mmusculus chr1       0 3003899 3003902 CCGG\n",
       "2 Mmusculus chr1 3003898 3007431    3534 CCGG\n",
       "3 Mmusculus chr1 3007430 3014612    7183 CCGG\n",
       "4 Mmusculus chr1 3014611 3014975     365 CCGG\n",
       "5 Mmusculus chr1 3014974 3015686     713 CCGG\n",
       "6 Mmusculus chr1 3015685 3016622     938 CCGG"
      ]
     },
     "metadata": {},
     "output_type": "display_data"
    }
   ],
   "source": [
    "head(mdf)"
   ]
  },
  {
   "cell_type": "code",
   "execution_count": 17,
   "metadata": {},
   "outputs": [
    {
     "data": {
      "image/png": "[encoded data removed]",
      "text/plain": [
       "plot without title"
      ]
     },
     "metadata": {
      "image/png": {
       "height": 420,
       "width": 420
      }
     },
     "output_type": "display_data"
    }
   ],
   "source": [
    "count=mdf[,.N,by=c(\"width\",\"genome\", \"name\")]\n",
    "ggplot(count[width>50&width<500],aes(x=width,y=N, color = name))+geom_line()+facet_wrap(~genome,scale=\"free_y\")+xlab(\"fragment length\") + theme_bw()"
   ]
  },
  {
   "cell_type": "code",
   "execution_count": 10,
   "metadata": {},
   "outputs": [
    {
     "data": {
      "text/html": [
       "<table>\n",
       "<thead><tr><th scope=col>genome</th><th scope=col>pattern</th><th scope=col>chr</th><th scope=col>start</th><th scope=col>end</th><th scope=col>width</th><th scope=col>origin</th><th scope=col>seq</th><th scope=col>dupl</th></tr></thead>\n",
       "<tbody>\n",
       "\t<tr><td>Mmusculus                                         </td><td>CCGG                                              </td><td>chr1                                              </td><td>     -2                                           </td><td>     47                                           </td><td>3003896                                           </td><td>front                                             </td><td>NNNNNNNNNNNNNNNNNNNNNNNNNNNNNNNNNNNNNNNNNNNNNNNNNN</td><td>FALSE                                             </td></tr>\n",
       "\t<tr><td>Mmusculus                                         </td><td>CCGG                                              </td><td>chr1                                              </td><td>3003898                                           </td><td>3003947                                           </td><td>   3528                                           </td><td>front                                             </td><td>ATGTCTGGAGCCTGAAACAGGGGTATGTCCCAGACACTGTGTAGCTTCTG</td><td>FALSE                                             </td></tr>\n",
       "\t<tr><td>Mmusculus                                         </td><td>CCGG                                              </td><td>chr1                                              </td><td>3007430                                           </td><td>3007479                                           </td><td>   7177                                           </td><td>front                                             </td><td>AGTTGAGTGTAACTTTTTCCATCAGTTTTAATACATTAAGCAGCTTATCT</td><td>FALSE                                             </td></tr>\n",
       "\t<tr><td>Mmusculus                                         </td><td>CCGG                                              </td><td>chr1                                              </td><td>3014611                                           </td><td>3014660                                           </td><td>    359                                           </td><td>front                                             </td><td>AGACAGCATTAAGGAAGCAGAAAACCAGCCTGACCAGGGTCACAAGTCCC</td><td>FALSE                                             </td></tr>\n",
       "\t<tr><td>Mmusculus                                         </td><td>CCGG                                              </td><td>chr1                                              </td><td>3014974                                           </td><td>3015023                                           </td><td>    707                                           </td><td>front                                             </td><td>GGTACTAGTTAGTTCATATTGTTATTCCACCTATAGGGTTGCAGTTCCCA</td><td>FALSE                                             </td></tr>\n",
       "\t<tr><td>Mmusculus                                         </td><td>CCGG                                              </td><td>chr1                                              </td><td>3015685                                           </td><td>3015734                                           </td><td>    932                                           </td><td>front                                             </td><td>TTGGGACATCTTCTGGATATATGCAAAGGAGAGGTATTGTGGGATCCTTA</td><td>FALSE                                             </td></tr>\n",
       "</tbody>\n",
       "</table>\n"
      ],
      "text/latex": [
       "\\begin{tabular}{r|lllllllll}\n",
       " genome & pattern & chr & start & end & width & origin & seq & dupl\\\\\n",
       "\\hline\n",
       "\t Mmusculus                                          & CCGG                                               & chr1                                               &      -2                                            &      47                                            & 3003896                                            & front                                              & NNNNNNNNNNNNNNNNNNNNNNNNNNNNNNNNNNNNNNNNNNNNNNNNNN & FALSE                                             \\\\\n",
       "\t Mmusculus                                          & CCGG                                               & chr1                                               & 3003898                                            & 3003947                                            &    3528                                            & front                                              & ATGTCTGGAGCCTGAAACAGGGGTATGTCCCAGACACTGTGTAGCTTCTG & FALSE                                             \\\\\n",
       "\t Mmusculus                                          & CCGG                                               & chr1                                               & 3007430                                            & 3007479                                            &    7177                                            & front                                              & AGTTGAGTGTAACTTTTTCCATCAGTTTTAATACATTAAGCAGCTTATCT & FALSE                                             \\\\\n",
       "\t Mmusculus                                          & CCGG                                               & chr1                                               & 3014611                                            & 3014660                                            &     359                                            & front                                              & AGACAGCATTAAGGAAGCAGAAAACCAGCCTGACCAGGGTCACAAGTCCC & FALSE                                             \\\\\n",
       "\t Mmusculus                                          & CCGG                                               & chr1                                               & 3014974                                            & 3015023                                            &     707                                            & front                                              & GGTACTAGTTAGTTCATATTGTTATTCCACCTATAGGGTTGCAGTTCCCA & FALSE                                             \\\\\n",
       "\t Mmusculus                                          & CCGG                                               & chr1                                               & 3015685                                            & 3015734                                            &     932                                            & front                                              & TTGGGACATCTTCTGGATATATGCAAAGGAGAGGTATTGTGGGATCCTTA & FALSE                                             \\\\\n",
       "\\end{tabular}\n"
      ],
      "text/markdown": [
       "\n",
       "| genome | pattern | chr | start | end | width | origin | seq | dupl |\n",
       "|---|---|---|---|---|---|---|---|---|\n",
       "| Mmusculus                                          | CCGG                                               | chr1                                               |      -2                                            |      47                                            | 3003896                                            | front                                              | NNNNNNNNNNNNNNNNNNNNNNNNNNNNNNNNNNNNNNNNNNNNNNNNNN | FALSE                                              |\n",
       "| Mmusculus                                          | CCGG                                               | chr1                                               | 3003898                                            | 3003947                                            |    3528                                            | front                                              | ATGTCTGGAGCCTGAAACAGGGGTATGTCCCAGACACTGTGTAGCTTCTG | FALSE                                              |\n",
       "| Mmusculus                                          | CCGG                                               | chr1                                               | 3007430                                            | 3007479                                            |    7177                                            | front                                              | AGTTGAGTGTAACTTTTTCCATCAGTTTTAATACATTAAGCAGCTTATCT | FALSE                                              |\n",
       "| Mmusculus                                          | CCGG                                               | chr1                                               | 3014611                                            | 3014660                                            |     359                                            | front                                              | AGACAGCATTAAGGAAGCAGAAAACCAGCCTGACCAGGGTCACAAGTCCC | FALSE                                              |\n",
       "| Mmusculus                                          | CCGG                                               | chr1                                               | 3014974                                            | 3015023                                            |     707                                            | front                                              | GGTACTAGTTAGTTCATATTGTTATTCCACCTATAGGGTTGCAGTTCCCA | FALSE                                              |\n",
       "| Mmusculus                                          | CCGG                                               | chr1                                               | 3015685                                            | 3015734                                            |     932                                            | front                                              | TTGGGACATCTTCTGGATATATGCAAAGGAGAGGTATTGTGGGATCCTTA | FALSE                                              |\n",
       "\n"
      ],
      "text/plain": [
       "  genome    pattern chr  start   end     width   origin\n",
       "1 Mmusculus CCGG    chr1      -2      47 3003896 front \n",
       "2 Mmusculus CCGG    chr1 3003898 3003947    3528 front \n",
       "3 Mmusculus CCGG    chr1 3007430 3007479    7177 front \n",
       "4 Mmusculus CCGG    chr1 3014611 3014660     359 front \n",
       "5 Mmusculus CCGG    chr1 3014974 3015023     707 front \n",
       "6 Mmusculus CCGG    chr1 3015685 3015734     932 front \n",
       "  seq                                                dupl \n",
       "1 NNNNNNNNNNNNNNNNNNNNNNNNNNNNNNNNNNNNNNNNNNNNNNNNNN FALSE\n",
       "2 ATGTCTGGAGCCTGAAACAGGGGTATGTCCCAGACACTGTGTAGCTTCTG FALSE\n",
       "3 AGTTGAGTGTAACTTTTTCCATCAGTTTTAATACATTAAGCAGCTTATCT FALSE\n",
       "4 AGACAGCATTAAGGAAGCAGAAAACCAGCCTGACCAGGGTCACAAGTCCC FALSE\n",
       "5 GGTACTAGTTAGTTCATATTGTTATTCCACCTATAGGGTTGCAGTTCCCA FALSE\n",
       "6 TTGGGACATCTTCTGGATATATGCAAAGGAGAGGTATTGTGGGATCCTTA FALSE"
      ]
     },
     "metadata": {},
     "output_type": "display_data"
    }
   ],
   "source": [
    "head(unF)"
   ]
  },
  {
   "cell_type": "code",
   "execution_count": 11,
   "metadata": {},
   "outputs": [
    {
     "data": {
      "text/html": [
       "<table>\n",
       "<thead><tr><th scope=col>genome</th><th scope=col>chr</th><th scope=col>start</th><th scope=col>end</th><th scope=col>width</th><th scope=col>name</th></tr></thead>\n",
       "<tbody>\n",
       "\t<tr><td>Mmusculus</td><td>chr1     </td><td>      0  </td><td>3003899  </td><td>3003902  </td><td>CCGG     </td></tr>\n",
       "\t<tr><td>Mmusculus</td><td>chr1     </td><td>3003898  </td><td>3007431  </td><td>   3534  </td><td>CCGG     </td></tr>\n",
       "\t<tr><td>Mmusculus</td><td>chr1     </td><td>3007430  </td><td>3014612  </td><td>   7183  </td><td>CCGG     </td></tr>\n",
       "\t<tr><td>Mmusculus</td><td>chr1     </td><td>3014611  </td><td>3014975  </td><td>    365  </td><td>CCGG     </td></tr>\n",
       "\t<tr><td>Mmusculus</td><td>chr1     </td><td>3014974  </td><td>3015686  </td><td>    713  </td><td>CCGG     </td></tr>\n",
       "\t<tr><td>Mmusculus</td><td>chr1     </td><td>3015685  </td><td>3016622  </td><td>    938  </td><td>CCGG     </td></tr>\n",
       "</tbody>\n",
       "</table>\n"
      ],
      "text/latex": [
       "\\begin{tabular}{r|llllll}\n",
       " genome & chr & start & end & width & name\\\\\n",
       "\\hline\n",
       "\t Mmusculus & chr1      &       0   & 3003899   & 3003902   & CCGG     \\\\\n",
       "\t Mmusculus & chr1      & 3003898   & 3007431   &    3534   & CCGG     \\\\\n",
       "\t Mmusculus & chr1      & 3007430   & 3014612   &    7183   & CCGG     \\\\\n",
       "\t Mmusculus & chr1      & 3014611   & 3014975   &     365   & CCGG     \\\\\n",
       "\t Mmusculus & chr1      & 3014974   & 3015686   &     713   & CCGG     \\\\\n",
       "\t Mmusculus & chr1      & 3015685   & 3016622   &     938   & CCGG     \\\\\n",
       "\\end{tabular}\n"
      ],
      "text/markdown": [
       "\n",
       "| genome | chr | start | end | width | name |\n",
       "|---|---|---|---|---|---|\n",
       "| Mmusculus | chr1      |       0   | 3003899   | 3003902   | CCGG      |\n",
       "| Mmusculus | chr1      | 3003898   | 3007431   |    3534   | CCGG      |\n",
       "| Mmusculus | chr1      | 3007430   | 3014612   |    7183   | CCGG      |\n",
       "| Mmusculus | chr1      | 3014611   | 3014975   |     365   | CCGG      |\n",
       "| Mmusculus | chr1      | 3014974   | 3015686   |     713   | CCGG      |\n",
       "| Mmusculus | chr1      | 3015685   | 3016622   |     938   | CCGG      |\n",
       "\n"
      ],
      "text/plain": [
       "  genome    chr  start   end     width   name\n",
       "1 Mmusculus chr1       0 3003899 3003902 CCGG\n",
       "2 Mmusculus chr1 3003898 3007431    3534 CCGG\n",
       "3 Mmusculus chr1 3007430 3014612    7183 CCGG\n",
       "4 Mmusculus chr1 3014611 3014975     365 CCGG\n",
       "5 Mmusculus chr1 3014974 3015686     713 CCGG\n",
       "6 Mmusculus chr1 3015685 3016622     938 CCGG"
      ]
     },
     "metadata": {},
     "output_type": "display_data"
    }
   ],
   "source": [
    "head(mdf)"
   ]
  },
  {
   "cell_type": "code",
   "execution_count": 24,
   "metadata": {},
   "outputs": [],
   "source": [
    "m <- matchPattern(\"CCGG\", get(\"Mmusculus\")[[1]])"
   ]
  },
  {
   "cell_type": "code",
   "execution_count": 48,
   "metadata": {
    "collapsed": true,
    "jupyter": {
     "outputs_hidden": true
    }
   },
   "outputs": [
    {
     "ename": "ERROR",
     "evalue": "Error in (function (classes, fdef, mtable) : unable to find an inherited method for function ‘matchPattern’ for signature ‘\"BSgenome\"’\n",
     "output_type": "error",
     "traceback": [
      "Error in (function (classes, fdef, mtable) : unable to find an inherited method for function ‘matchPattern’ for signature ‘\"BSgenome\"’\nTraceback:\n",
      "1. matchPattern(\"CG\", genome)",
      "2. (function (classes, fdef, mtable) \n . {\n .     methods <- .findInheritedMethods(classes, fdef, mtable)\n .     if (length(methods) == 1L) \n .         return(methods[[1L]])\n .     else if (length(methods) == 0L) {\n .         cnames <- paste0(\"\\\"\", vapply(classes, as.character, \n .             \"\"), \"\\\"\", collapse = \", \")\n .         stop(gettextf(\"unable to find an inherited method for function %s for signature %s\", \n .             sQuote(fdef@generic), sQuote(cnames)), domain = NA)\n .     }\n .     else stop(\"Internal error in finding inherited methods; didn't return a unique method\", \n .         domain = NA)\n . })(list(structure(\"BSgenome\", package = \"BSgenome\")), new(\"standardGeneric\", \n .     .Data = function (pattern, subject, max.mismatch = 0, min.mismatch = 0, \n .         with.indels = FALSE, fixed = TRUE, algorithm = \"auto\") \n .     standardGeneric(\"matchPattern\"), generic = structure(\"matchPattern\", package = \"Biostrings\"), \n .     package = \"Biostrings\", group = list(), valueClass = character(0), \n .     signature = \"subject\", default = NULL, skeleton = (function (pattern, \n .         subject, max.mismatch = 0, min.mismatch = 0, with.indels = FALSE, \n .         fixed = TRUE, algorithm = \"auto\") \n .     stop(\"invalid call in method dispatch to 'matchPattern' (no default method)\", \n .         domain = NA))(pattern, subject, max.mismatch, min.mismatch, \n .         with.indels, fixed, algorithm)), <environment>)",
      "3. stop(gettextf(\"unable to find an inherited method for function %s for signature %s\", \n .     sQuote(fdef@generic), sQuote(cnames)), domain = NA)"
     ]
    }
   ],
   "source": [
    "CpGs <- matchPattern(\"CG\", genome)"
   ]
  },
  {
   "cell_type": "code",
   "execution_count": 47,
   "metadata": {},
   "outputs": [
    {
     "data": {
      "text/plain": [
       "  Views on a 195471971-letter DNAString subject\n",
       "subject: NNNNNNNNNNNNNNNNNNNNNNNNNNNNNNNNNN...NNNNNNNNNNNNNNNNNNNNNNNNNNNNNNNNNN\n",
       "views:\n",
       "      start     end width\n",
       "[1] 3000827 3000828     2 [CG]\n",
       "[2] 3001007 3001008     2 [CG]\n",
       "[3] 3001018 3001019     2 [CG]\n",
       "[4] 3001277 3001278     2 [CG]\n",
       "[5] 3001629 3001630     2 [CG]\n",
       "[6] 3003226 3003227     2 [CG]"
      ]
     },
     "metadata": {},
     "output_type": "display_data"
    }
   ],
   "source": [
    "head(CpGs)"
   ]
  },
  {
   "cell_type": "code",
   "execution_count": null,
   "metadata": {},
   "outputs": [],
   "source": [
    "### reading the actual RRBS data"
   ]
  },
  {
   "cell_type": "code",
   "execution_count": null,
   "metadata": {},
   "outputs": [],
   "source": [
    "coveredPos <- "
   ]
  },
  {
   "cell_type": "code",
   "execution_count": null,
   "metadata": {},
   "outputs": [],
   "source": [
    "## re"
   ]
  },
  {
   "cell_type": "code",
   "execution_count": 50,
   "metadata": {},
   "outputs": [
    {
     "data": {
      "text/html": [
       "\n",
       "<table width=\"100%\" summary=\"page for findOverlaps-methods {SummarizedExperiment}\"><tr><td>findOverlaps-methods {SummarizedExperiment}</td><td style=\"text-align: right;\">R Documentation</td></tr></table>\n",
       "\n",
       "<h2>Finding overlapping ranges in RangedSummarizedExperiment objects</h2>\n",
       "\n",
       "<h3>Description</h3>\n",
       "\n",
       "<p>This man page documents the <code>findOverlaps</code> methods for\n",
       "RangedSummarizedExperiment objects.\n",
       "</p>\n",
       "<p>RangedSummarizedExperiment objects also support\n",
       "<code>countOverlaps</code>, <code>overlapsAny</code>, and <code>subsetByOverlaps</code>\n",
       "thanks to the default methods defined in the <span class=\"pkg\">IRanges</span> package and\n",
       "to the <code>findOverlaps</code> methods defined in this package and documented\n",
       "below.\n",
       "</p>\n",
       "\n",
       "\n",
       "<h3>Usage</h3>\n",
       "\n",
       "<pre>\n",
       "## S4 method for signature 'RangedSummarizedExperiment,Vector'\n",
       "findOverlaps(query, subject,\n",
       "    maxgap=-1L, minoverlap=0L,\n",
       "    type=c(\"any\", \"start\", \"end\", \"within\", \"equal\"),\n",
       "    select=c(\"all\", \"first\", \"last\", \"arbitrary\"),\n",
       "    ignore.strand=FALSE)\n",
       "## S4 method for signature 'Vector,RangedSummarizedExperiment'\n",
       "findOverlaps(query, subject,\n",
       "    maxgap=-1L, minoverlap=0L,\n",
       "    type=c(\"any\", \"start\", \"end\", \"within\", \"equal\"),\n",
       "    select=c(\"all\", \"first\", \"last\", \"arbitrary\"),\n",
       "    ignore.strand=FALSE)\n",
       "</pre>\n",
       "\n",
       "\n",
       "<h3>Arguments</h3>\n",
       "\n",
       "<table summary=\"R argblock\">\n",
       "<tr valign=\"top\"><td><code>query, subject</code></td>\n",
       "<td>\n",
       "\n",
       "<p>One of these two arguments must be a RangedSummarizedExperiment\n",
       "object.\n",
       "</p>\n",
       "</td></tr>\n",
       "<tr valign=\"top\"><td><code>maxgap, minoverlap, type</code></td>\n",
       "<td>\n",
       "\n",
       "<p>See <code>?findOverlaps</code> in the <span class=\"pkg\">GenomicRanges</span>\n",
       "package.\n",
       "</p>\n",
       "</td></tr>\n",
       "<tr valign=\"top\"><td><code>select, ignore.strand</code></td>\n",
       "<td>\n",
       "\n",
       "<p>See <code>?findOverlaps</code> in the <span class=\"pkg\">GenomicRanges</span>\n",
       "package.\n",
       "</p>\n",
       "</td></tr>\n",
       "</table>\n",
       "\n",
       "\n",
       "<h3>Details</h3>\n",
       "\n",
       "<p>These methods operate on the <code>rowRanges</code> component of the\n",
       "RangedSummarizedExperiment object, which can be a\n",
       "GenomicRanges or GRangesList\n",
       "object.\n",
       "</p>\n",
       "<p>More precisely, if any of the above functions is passed a\n",
       "RangedSummarizedExperiment object thru the <code>query</code> and/or\n",
       "<code>subject</code> argument, then it behaves as if <code>rowRanges(query)</code>\n",
       "and/or <code>rowRanges(subject)</code> had been passed instead.\n",
       "</p>\n",
       "<p>See <code>?findOverlaps</code> in the <span class=\"pkg\">GenomicRanges</span>\n",
       "package for the details of how <code>findOverlaps</code> and family operate on\n",
       "GenomicRanges and GRangesList\n",
       "objects.\n",
       "</p>\n",
       "\n",
       "\n",
       "<h3>Value</h3>\n",
       "\n",
       "<p>See <code>?findOverlaps</code> in the <span class=\"pkg\">GenomicRanges</span>\n",
       "package.\n",
       "</p>\n",
       "\n",
       "\n",
       "<h3>See Also</h3>\n",
       "\n",
       "\n",
       "<ul>\n",
       "<li> <p>RangedSummarizedExperiment objects.\n",
       "</p>\n",
       "</li>\n",
       "<li><p> The findOverlaps man page in the\n",
       "<span class=\"pkg\">GenomicRanges</span> package where the <code>findOverlaps</code> family\n",
       "of methods for GenomicRanges and\n",
       "GRangesList objects is documented.\n",
       "</p>\n",
       "</li></ul>\n",
       "\n",
       "\n",
       "\n",
       "<h3>Examples</h3>\n",
       "\n",
       "<pre>\n",
       "nrows &lt;- 20; ncols &lt;- 6\n",
       "counts &lt;- matrix(runif(nrows * ncols, 1, 1e4), nrows)\n",
       "rowRanges &lt;- GRanges(rep(c(\"chr1\", \"chr2\"), c(5, 15)),\n",
       "                     IRanges(sample(1000L, 20), width=100),\n",
       "                     strand=Rle(c(\"+\", \"-\"), c(12, 8)))\n",
       "colData &lt;- DataFrame(Treatment=rep(c(\"ChIP\", \"Input\"), 3),\n",
       "                     row.names=LETTERS[1:6])\n",
       "rse0 &lt;- SummarizedExperiment(assays=SimpleList(counts=counts),\n",
       "                             rowRanges=rowRanges, colData=colData)\n",
       "rse1 &lt;- shift(rse0, 100)\n",
       "\n",
       "hits &lt;- findOverlaps(rse0, rse1)\n",
       "hits\n",
       "stopifnot(identical(hits, findOverlaps(rowRanges(rse0), rowRanges(rse1))))\n",
       "stopifnot(identical(hits, findOverlaps(rse0, rowRanges(rse1))))\n",
       "stopifnot(identical(hits, findOverlaps(rowRanges(rse0), rse1)))\n",
       "</pre>\n",
       "\n",
       "<hr /><div style=\"text-align: center;\">[Package <em>SummarizedExperiment</em> version 1.10.1 ]</div>"
      ],
      "text/latex": [
       "\\inputencoding{utf8}\n",
       "\\HeaderA{findOverlaps-methods}{Finding overlapping ranges in RangedSummarizedExperiment objects}{findOverlaps.Rdash.methods}\n",
       "\\aliasA{findOverlaps}{findOverlaps-methods}{findOverlaps}\n",
       "\\aliasA{findOverlaps,RangedSummarizedExperiment,RangedSummarizedExperiment-method}{findOverlaps-methods}{findOverlaps,RangedSummarizedExperiment,RangedSummarizedExperiment.Rdash.method}\n",
       "\\aliasA{findOverlaps,RangedSummarizedExperiment,Vector-method}{findOverlaps-methods}{findOverlaps,RangedSummarizedExperiment,Vector.Rdash.method}\n",
       "\\aliasA{findOverlaps,Vector,RangedSummarizedExperiment-method}{findOverlaps-methods}{findOverlaps,Vector,RangedSummarizedExperiment.Rdash.method}\n",
       "\\keyword{methods}{findOverlaps-methods}\n",
       "\\keyword{utilities}{findOverlaps-methods}\n",
       "%\n",
       "\\begin{Description}\\relax\n",
       "This man page documents the \\code{findOverlaps} methods for\n",
       "\\LinkA{RangedSummarizedExperiment}{RangedSummarizedExperiment} objects.\n",
       "\n",
       "\\LinkA{RangedSummarizedExperiment}{RangedSummarizedExperiment} objects also support\n",
       "\\code{countOverlaps}, \\code{overlapsAny}, and \\code{subsetByOverlaps}\n",
       "thanks to the default methods defined in the \\pkg{IRanges} package and\n",
       "to the \\code{findOverlaps} methods defined in this package and documented\n",
       "below.\n",
       "\\end{Description}\n",
       "%\n",
       "\\begin{Usage}\n",
       "\\begin{verbatim}\n",
       "## S4 method for signature 'RangedSummarizedExperiment,Vector'\n",
       "findOverlaps(query, subject,\n",
       "    maxgap=-1L, minoverlap=0L,\n",
       "    type=c(\"any\", \"start\", \"end\", \"within\", \"equal\"),\n",
       "    select=c(\"all\", \"first\", \"last\", \"arbitrary\"),\n",
       "    ignore.strand=FALSE)\n",
       "## S4 method for signature 'Vector,RangedSummarizedExperiment'\n",
       "findOverlaps(query, subject,\n",
       "    maxgap=-1L, minoverlap=0L,\n",
       "    type=c(\"any\", \"start\", \"end\", \"within\", \"equal\"),\n",
       "    select=c(\"all\", \"first\", \"last\", \"arbitrary\"),\n",
       "    ignore.strand=FALSE)\n",
       "\\end{verbatim}\n",
       "\\end{Usage}\n",
       "%\n",
       "\\begin{Arguments}\n",
       "\\begin{ldescription}\n",
       "\\item[\\code{query, subject}] \n",
       "One of these two arguments must be a \\LinkA{RangedSummarizedExperiment}{RangedSummarizedExperiment}\n",
       "object.\n",
       "\n",
       "\\item[\\code{maxgap, minoverlap, type}] \n",
       "See \\code{?\\LinkA{findOverlaps}{findOverlaps}} in the \\pkg{GenomicRanges}\n",
       "package.\n",
       "\n",
       "\\item[\\code{select, ignore.strand}] \n",
       "See \\code{?\\LinkA{findOverlaps}{findOverlaps}} in the \\pkg{GenomicRanges}\n",
       "package.\n",
       "\n",
       "\\end{ldescription}\n",
       "\\end{Arguments}\n",
       "%\n",
       "\\begin{Details}\\relax\n",
       "These methods operate on the \\code{rowRanges} component of the\n",
       "\\LinkA{RangedSummarizedExperiment}{RangedSummarizedExperiment} object, which can be a\n",
       "\\LinkA{GenomicRanges}{GenomicRanges} or \\LinkA{GRangesList}{GRangesList}\n",
       "object.\n",
       "\n",
       "More precisely, if any of the above functions is passed a\n",
       "\\LinkA{RangedSummarizedExperiment}{RangedSummarizedExperiment} object thru the \\code{query} and/or\n",
       "\\code{subject} argument, then it behaves as if \\code{rowRanges(query)}\n",
       "and/or \\code{rowRanges(subject)} had been passed instead.\n",
       "\n",
       "See \\code{?\\LinkA{findOverlaps}{findOverlaps}} in the \\pkg{GenomicRanges}\n",
       "package for the details of how \\code{findOverlaps} and family operate on\n",
       "\\LinkA{GenomicRanges}{GenomicRanges} and \\LinkA{GRangesList}{GRangesList}\n",
       "objects.\n",
       "\\end{Details}\n",
       "%\n",
       "\\begin{Value}\n",
       "See \\code{?\\LinkA{findOverlaps}{findOverlaps}} in the \\pkg{GenomicRanges}\n",
       "package.\n",
       "\\end{Value}\n",
       "%\n",
       "\\begin{SeeAlso}\\relax\n",
       "\\begin{itemize}\n",
       "\n",
       "\\item{} \\LinkA{RangedSummarizedExperiment}{RangedSummarizedExperiment} objects.\n",
       "\n",
       "\\item{} The \\LinkA{findOverlaps}{findOverlaps} man page in the\n",
       "\\pkg{GenomicRanges} package where the \\code{findOverlaps} family\n",
       "of methods for \\LinkA{GenomicRanges}{GenomicRanges} and\n",
       "\\LinkA{GRangesList}{GRangesList} objects is documented.\n",
       "\n",
       "\\end{itemize}\n",
       "\n",
       "\\end{SeeAlso}\n",
       "%\n",
       "\\begin{Examples}\n",
       "\\begin{ExampleCode}\n",
       "nrows <- 20; ncols <- 6\n",
       "counts <- matrix(runif(nrows * ncols, 1, 1e4), nrows)\n",
       "rowRanges <- GRanges(rep(c(\"chr1\", \"chr2\"), c(5, 15)),\n",
       "                     IRanges(sample(1000L, 20), width=100),\n",
       "                     strand=Rle(c(\"+\", \"-\"), c(12, 8)))\n",
       "colData <- DataFrame(Treatment=rep(c(\"ChIP\", \"Input\"), 3),\n",
       "                     row.names=LETTERS[1:6])\n",
       "rse0 <- SummarizedExperiment(assays=SimpleList(counts=counts),\n",
       "                             rowRanges=rowRanges, colData=colData)\n",
       "rse1 <- shift(rse0, 100)\n",
       "\n",
       "hits <- findOverlaps(rse0, rse1)\n",
       "hits\n",
       "stopifnot(identical(hits, findOverlaps(rowRanges(rse0), rowRanges(rse1))))\n",
       "stopifnot(identical(hits, findOverlaps(rse0, rowRanges(rse1))))\n",
       "stopifnot(identical(hits, findOverlaps(rowRanges(rse0), rse1)))\n",
       "\\end{ExampleCode}\n",
       "\\end{Examples}"
      ],
      "text/plain": [
       "findOverlaps-methods   package:SummarizedExperiment    R Documentation\n",
       "\n",
       "_\bF_\bi_\bn_\bd_\bi_\bn_\bg _\bo_\bv_\be_\br_\bl_\ba_\bp_\bp_\bi_\bn_\bg _\br_\ba_\bn_\bg_\be_\bs _\bi_\bn _\bR_\ba_\bn_\bg_\be_\bd_\bS_\bu_\bm_\bm_\ba_\br_\bi_\bz_\be_\bd_\bE_\bx_\bp_\be_\br_\bi_\bm_\be_\bn_\bt _\bo_\bb_\bj_\be_\bc_\bt_\bs\n",
       "\n",
       "_\bD_\be_\bs_\bc_\br_\bi_\bp_\bt_\bi_\bo_\bn:\n",
       "\n",
       "     This man page documents the ‘findOverlaps’ methods for\n",
       "     RangedSummarizedExperiment objects.\n",
       "\n",
       "     RangedSummarizedExperiment objects also support ‘countOverlaps’,\n",
       "     ‘overlapsAny’, and ‘subsetByOverlaps’ thanks to the default\n",
       "     methods defined in the ‘IRanges’ package and to the ‘findOverlaps’\n",
       "     methods defined in this package and documented below.\n",
       "\n",
       "_\bU_\bs_\ba_\bg_\be:\n",
       "\n",
       "     ## S4 method for signature 'RangedSummarizedExperiment,Vector'\n",
       "     findOverlaps(query, subject,\n",
       "         maxgap=-1L, minoverlap=0L,\n",
       "         type=c(\"any\", \"start\", \"end\", \"within\", \"equal\"),\n",
       "         select=c(\"all\", \"first\", \"last\", \"arbitrary\"),\n",
       "         ignore.strand=FALSE)\n",
       "     ## S4 method for signature 'Vector,RangedSummarizedExperiment'\n",
       "     findOverlaps(query, subject,\n",
       "         maxgap=-1L, minoverlap=0L,\n",
       "         type=c(\"any\", \"start\", \"end\", \"within\", \"equal\"),\n",
       "         select=c(\"all\", \"first\", \"last\", \"arbitrary\"),\n",
       "         ignore.strand=FALSE)\n",
       "     \n",
       "_\bA_\br_\bg_\bu_\bm_\be_\bn_\bt_\bs:\n",
       "\n",
       "query, subject: One of these two arguments must be a\n",
       "          RangedSummarizedExperiment object.\n",
       "\n",
       "maxgap, minoverlap, type: See ‘?findOverlaps’ in the ‘GenomicRanges’\n",
       "          package.\n",
       "\n",
       "select, ignore.strand: See ‘?findOverlaps’ in the ‘GenomicRanges’\n",
       "          package.\n",
       "\n",
       "_\bD_\be_\bt_\ba_\bi_\bl_\bs:\n",
       "\n",
       "     These methods operate on the ‘rowRanges’ component of the\n",
       "     RangedSummarizedExperiment object, which can be a GenomicRanges or\n",
       "     GRangesList object.\n",
       "\n",
       "     More precisely, if any of the above functions is passed a\n",
       "     RangedSummarizedExperiment object thru the ‘query’ and/or\n",
       "     ‘subject’ argument, then it behaves as if ‘rowRanges(query)’\n",
       "     and/or ‘rowRanges(subject)’ had been passed instead.\n",
       "\n",
       "     See ‘?findOverlaps’ in the ‘GenomicRanges’ package for the details\n",
       "     of how ‘findOverlaps’ and family operate on GenomicRanges and\n",
       "     GRangesList objects.\n",
       "\n",
       "_\bV_\ba_\bl_\bu_\be:\n",
       "\n",
       "     See ‘?findOverlaps’ in the ‘GenomicRanges’ package.\n",
       "\n",
       "_\bS_\be_\be _\bA_\bl_\bs_\bo:\n",
       "\n",
       "        • RangedSummarizedExperiment objects.\n",
       "\n",
       "        • The findOverlaps man page in the ‘GenomicRanges’ package\n",
       "          where the ‘findOverlaps’ family of methods for GenomicRanges\n",
       "          and GRangesList objects is documented.\n",
       "\n",
       "_\bE_\bx_\ba_\bm_\bp_\bl_\be_\bs:\n",
       "\n",
       "     nrows <- 20; ncols <- 6\n",
       "     counts <- matrix(runif(nrows * ncols, 1, 1e4), nrows)\n",
       "     rowRanges <- GRanges(rep(c(\"chr1\", \"chr2\"), c(5, 15)),\n",
       "                          IRanges(sample(1000L, 20), width=100),\n",
       "                          strand=Rle(c(\"+\", \"-\"), c(12, 8)))\n",
       "     colData <- DataFrame(Treatment=rep(c(\"ChIP\", \"Input\"), 3),\n",
       "                          row.names=LETTERS[1:6])\n",
       "     rse0 <- SummarizedExperiment(assays=SimpleList(counts=counts),\n",
       "                                  rowRanges=rowRanges, colData=colData)\n",
       "     rse1 <- shift(rse0, 100)\n",
       "     \n",
       "     hits <- findOverlaps(rse0, rse1)\n",
       "     hits\n",
       "     stopifnot(identical(hits, findOverlaps(rowRanges(rse0), rowRanges(rse1))))\n",
       "     stopifnot(identical(hits, findOverlaps(rse0, rowRanges(rse1))))\n",
       "     stopifnot(identical(hits, findOverlaps(rowRanges(rse0), rse1)))\n",
       "     "
      ]
     },
     "metadata": {},
     "output_type": "display_data"
    }
   ],
   "source": [
    "?findOverlaps"
   ]
  }
 ],
 "metadata": {
  "kernelspec": {
   "display_name": "R",
   "language": "R",
   "name": "ir"
  },
  "language_info": {
   "codemirror_mode": "r",
   "file_extension": ".r",
   "mimetype": "text/x-r-source",
   "name": "R",
   "pygments_lexer": "r",
   "version": "3.6.1"
  }
 },
 "nbformat": 4,
 "nbformat_minor": 4
}
