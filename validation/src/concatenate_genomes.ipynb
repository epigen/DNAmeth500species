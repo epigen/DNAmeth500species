{
 "cells": [
  {
   "cell_type": "code",
   "execution_count": 1,
   "id": "alpine-spokesman",
   "metadata": {
    "collapsed": true,
    "jupyter": {
     "outputs_hidden": true
    },
    "tags": []
   },
   "outputs": [
    {
     "name": "stderr",
     "output_type": "stream",
     "text": [
      "Loading required package: GenomicRanges\n",
      "\n",
      "Loading required package: stats4\n",
      "\n",
      "Loading required package: BiocGenerics\n",
      "\n",
      "Loading required package: parallel\n",
      "\n",
      "\n",
      "Attaching package: ‘BiocGenerics’\n",
      "\n",
      "\n",
      "The following objects are masked from ‘package:parallel’:\n",
      "\n",
      "    clusterApply, clusterApplyLB, clusterCall, clusterEvalQ,\n",
      "    clusterExport, clusterMap, parApply, parCapply, parLapply,\n",
      "    parLapplyLB, parRapply, parSapply, parSapplyLB\n",
      "\n",
      "\n",
      "The following objects are masked from ‘package:stats’:\n",
      "\n",
      "    IQR, mad, sd, var, xtabs\n",
      "\n",
      "\n",
      "The following objects are masked from ‘package:base’:\n",
      "\n",
      "    anyDuplicated, append, as.data.frame, basename, cbind, colnames,\n",
      "    dirname, do.call, duplicated, eval, evalq, Filter, Find, get, grep,\n",
      "    grepl, intersect, is.unsorted, lapply, Map, mapply, match, mget,\n",
      "    order, paste, pmax, pmax.int, pmin, pmin.int, Position, rank,\n",
      "    rbind, Reduce, rownames, sapply, setdiff, sort, table, tapply,\n",
      "    union, unique, unsplit, which, which.max, which.min\n",
      "\n",
      "\n",
      "Loading required package: S4Vectors\n",
      "\n",
      "\n",
      "Attaching package: ‘S4Vectors’\n",
      "\n",
      "\n",
      "The following object is masked from ‘package:base’:\n",
      "\n",
      "    expand.grid\n",
      "\n",
      "\n",
      "Loading required package: IRanges\n",
      "\n",
      "Loading required package: GenomeInfoDb\n",
      "\n"
     ]
    }
   ],
   "source": [
    "library(rtracklayer)"
   ]
  },
  {
   "cell_type": "code",
   "execution_count": 2,
   "id": "alike-advantage",
   "metadata": {
    "collapsed": true,
    "jupyter": {
     "outputs_hidden": true
    },
    "tags": []
   },
   "outputs": [
    {
     "name": "stderr",
     "output_type": "stream",
     "text": [
      "Loading required package: XVector\n",
      "\n",
      "\n",
      "Attaching package: ‘Biostrings’\n",
      "\n",
      "\n",
      "The following object is masked from ‘package:base’:\n",
      "\n",
      "    strsplit\n",
      "\n",
      "\n"
     ]
    }
   ],
   "source": [
    "library(Biostrings)"
   ]
  },
  {
   "cell_type": "code",
   "execution_count": 16,
   "id": "graphic-thermal",
   "metadata": {
    "tags": []
   },
   "outputs": [
    {
     "name": "stderr",
     "output_type": "stream",
     "text": [
      "\n",
      "Attaching package: ‘data.table’\n",
      "\n",
      "\n",
      "The following object is masked from ‘package:GenomicRanges’:\n",
      "\n",
      "    shift\n",
      "\n",
      "\n",
      "The following object is masked from ‘package:IRanges’:\n",
      "\n",
      "    shift\n",
      "\n",
      "\n",
      "The following objects are masked from ‘package:S4Vectors’:\n",
      "\n",
      "    first, second\n",
      "\n",
      "\n"
     ]
    }
   ],
   "source": [
    "library(data.table)"
   ]
  },
  {
   "cell_type": "code",
   "execution_count": 199,
   "id": "verbal-legislation",
   "metadata": {},
   "outputs": [],
   "source": [
    "genomes_avail <- ucscGenomes()"
   ]
  },
  {
   "cell_type": "code",
   "execution_count": 227,
   "id": "specialized-tumor",
   "metadata": {},
   "outputs": [],
   "source": [
    "test_run_conc <- read.csv(\"../meta/validation_species.csv\", sep = \";\")"
   ]
  },
  {
   "cell_type": "code",
   "execution_count": 228,
   "id": "amateur-validity",
   "metadata": {},
   "outputs": [],
   "source": [
    "test_run_conc <- test_run_conc[test_run_conc$species %in% c(\"Sheep\", \"Chicken\", \"Elephant shark\", \"Tasmanian devil\", \"Wallaby\"),]"
   ]
  },
  {
   "cell_type": "code",
   "execution_count": 229,
   "id": "cutting-adrian",
   "metadata": {},
   "outputs": [
    {
     "data": {
      "text/html": [
       "<table class=\"dataframe\">\n",
       "<caption>A data.frame: 5 × 4</caption>\n",
       "<thead>\n",
       "\t<tr><th></th><th scope=col>species</th><th scope=col>ucsc_genome</th><th scope=col>class</th><th scope=col>scientific_name</th></tr>\n",
       "\t<tr><th></th><th scope=col>&lt;fct&gt;</th><th scope=col>&lt;fct&gt;</th><th scope=col>&lt;fct&gt;</th><th scope=col>&lt;fct&gt;</th></tr>\n",
       "</thead>\n",
       "<tbody>\n",
       "\t<tr><th scope=row>7</th><td>Elephant shark </td><td>calMil1</td><td>Chondrichthyes</td><td>Callorhinchus milii </td></tr>\n",
       "\t<tr><th scope=row>19</th><td>Chicken        </td><td>galGal6</td><td>Aves          </td><td>Gallus gallus       </td></tr>\n",
       "\t<tr><th scope=row>24</th><td>Tasmanian devil</td><td>sarHar1</td><td>Marsupiala    </td><td>Sarcophilus harrisii</td></tr>\n",
       "\t<tr><th scope=row>42</th><td>Sheep          </td><td>oviAri4</td><td>Mammalia      </td><td>Ovis aries          </td></tr>\n",
       "\t<tr><th scope=row>47</th><td>Wallaby        </td><td>macEug2</td><td>Marsupiala    </td><td>Notamacropus eugenii</td></tr>\n",
       "</tbody>\n",
       "</table>\n"
      ],
      "text/latex": [
       "A data.frame: 5 × 4\n",
       "\\begin{tabular}{r|llll}\n",
       "  & species & ucsc\\_genome & class & scientific\\_name\\\\\n",
       "  & <fct> & <fct> & <fct> & <fct>\\\\\n",
       "\\hline\n",
       "\t7 & Elephant shark  & calMil1 & Chondrichthyes & Callorhinchus milii \\\\\n",
       "\t19 & Chicken         & galGal6 & Aves           & Gallus gallus       \\\\\n",
       "\t24 & Tasmanian devil & sarHar1 & Marsupiala     & Sarcophilus harrisii\\\\\n",
       "\t42 & Sheep           & oviAri4 & Mammalia       & Ovis aries          \\\\\n",
       "\t47 & Wallaby         & macEug2 & Marsupiala     & Notamacropus eugenii\\\\\n",
       "\\end{tabular}\n"
      ],
      "text/markdown": [
       "\n",
       "A data.frame: 5 × 4\n",
       "\n",
       "| <!--/--> | species &lt;fct&gt; | ucsc_genome &lt;fct&gt; | class &lt;fct&gt; | scientific_name &lt;fct&gt; |\n",
       "|---|---|---|---|---|\n",
       "| 7 | Elephant shark  | calMil1 | Chondrichthyes | Callorhinchus milii  |\n",
       "| 19 | Chicken         | galGal6 | Aves           | Gallus gallus        |\n",
       "| 24 | Tasmanian devil | sarHar1 | Marsupiala     | Sarcophilus harrisii |\n",
       "| 42 | Sheep           | oviAri4 | Mammalia       | Ovis aries           |\n",
       "| 47 | Wallaby         | macEug2 | Marsupiala     | Notamacropus eugenii |\n",
       "\n"
      ],
      "text/plain": [
       "   species         ucsc_genome class          scientific_name     \n",
       "7  Elephant shark  calMil1     Chondrichthyes Callorhinchus milii \n",
       "19 Chicken         galGal6     Aves           Gallus gallus       \n",
       "24 Tasmanian devil sarHar1     Marsupiala     Sarcophilus harrisii\n",
       "42 Sheep           oviAri4     Mammalia       Ovis aries          \n",
       "47 Wallaby         macEug2     Marsupiala     Notamacropus eugenii"
      ]
     },
     "metadata": {},
     "output_type": "display_data"
    }
   ],
   "source": [
    "test_run_conc"
   ]
  },
  {
   "cell_type": "code",
   "execution_count": 230,
   "id": "corrected-liabilities",
   "metadata": {},
   "outputs": [],
   "source": [
    "a <- as.character(test_run_conc$scientific_name[[1]])"
   ]
  },
  {
   "cell_type": "code",
   "execution_count": 231,
   "id": "intelligent-watson",
   "metadata": {},
   "outputs": [],
   "source": [
    "b <- strsplit(a, \" \")[[1]]"
   ]
  },
  {
   "cell_type": "code",
   "execution_count": 217,
   "id": "wicked-background",
   "metadata": {},
   "outputs": [
    {
     "data": {
      "text/html": [
       "'Cmilii'"
      ],
      "text/latex": [
       "'Cmilii'"
      ],
      "text/markdown": [
       "'Cmilii'"
      ],
      "text/plain": [
       "[1] \"Cmilii\""
      ]
     },
     "metadata": {},
     "output_type": "display_data"
    }
   ],
   "source": [
    "paste0(substr(b[1],1,1), b[2], collapse = \"\")"
   ]
  },
  {
   "cell_type": "code",
   "execution_count": 232,
   "id": "stone-chemical",
   "metadata": {},
   "outputs": [],
   "source": [
    "test_run_conc$genome_id <- sapply(test_run_conc$scientific_name, function(x) {b <- strsplit(as.character(x), \" \")[[1]]; \n",
    "                                                                              id <- paste0(substr(b[1],1,1), b[2], collapse = \"\"); return(id)} )"
   ]
  },
  {
   "cell_type": "code",
   "execution_count": 233,
   "id": "great-horizontal",
   "metadata": {},
   "outputs": [
    {
     "data": {
      "text/html": [
       "<table class=\"dataframe\">\n",
       "<caption>A data.frame: 5 × 5</caption>\n",
       "<thead>\n",
       "\t<tr><th></th><th scope=col>species</th><th scope=col>ucsc_genome</th><th scope=col>class</th><th scope=col>scientific_name</th><th scope=col>genome_id</th></tr>\n",
       "\t<tr><th></th><th scope=col>&lt;fct&gt;</th><th scope=col>&lt;fct&gt;</th><th scope=col>&lt;fct&gt;</th><th scope=col>&lt;fct&gt;</th><th scope=col>&lt;chr&gt;</th></tr>\n",
       "</thead>\n",
       "<tbody>\n",
       "\t<tr><th scope=row>7</th><td>Elephant shark </td><td>calMil1</td><td>Chondrichthyes</td><td>Callorhinchus milii </td><td>Cmilii   </td></tr>\n",
       "\t<tr><th scope=row>19</th><td>Chicken        </td><td>galGal6</td><td>Aves          </td><td>Gallus gallus       </td><td>Ggallus  </td></tr>\n",
       "\t<tr><th scope=row>24</th><td>Tasmanian devil</td><td>sarHar1</td><td>Marsupiala    </td><td>Sarcophilus harrisii</td><td>Sharrisii</td></tr>\n",
       "\t<tr><th scope=row>42</th><td>Sheep          </td><td>oviAri4</td><td>Mammalia      </td><td>Ovis aries          </td><td>Oaries   </td></tr>\n",
       "\t<tr><th scope=row>47</th><td>Wallaby        </td><td>macEug2</td><td>Marsupiala    </td><td>Notamacropus eugenii</td><td>Neugenii </td></tr>\n",
       "</tbody>\n",
       "</table>\n"
      ],
      "text/latex": [
       "A data.frame: 5 × 5\n",
       "\\begin{tabular}{r|lllll}\n",
       "  & species & ucsc\\_genome & class & scientific\\_name & genome\\_id\\\\\n",
       "  & <fct> & <fct> & <fct> & <fct> & <chr>\\\\\n",
       "\\hline\n",
       "\t7 & Elephant shark  & calMil1 & Chondrichthyes & Callorhinchus milii  & Cmilii   \\\\\n",
       "\t19 & Chicken         & galGal6 & Aves           & Gallus gallus        & Ggallus  \\\\\n",
       "\t24 & Tasmanian devil & sarHar1 & Marsupiala     & Sarcophilus harrisii & Sharrisii\\\\\n",
       "\t42 & Sheep           & oviAri4 & Mammalia       & Ovis aries           & Oaries   \\\\\n",
       "\t47 & Wallaby         & macEug2 & Marsupiala     & Notamacropus eugenii & Neugenii \\\\\n",
       "\\end{tabular}\n"
      ],
      "text/markdown": [
       "\n",
       "A data.frame: 5 × 5\n",
       "\n",
       "| <!--/--> | species &lt;fct&gt; | ucsc_genome &lt;fct&gt; | class &lt;fct&gt; | scientific_name &lt;fct&gt; | genome_id &lt;chr&gt; |\n",
       "|---|---|---|---|---|---|\n",
       "| 7 | Elephant shark  | calMil1 | Chondrichthyes | Callorhinchus milii  | Cmilii    |\n",
       "| 19 | Chicken         | galGal6 | Aves           | Gallus gallus        | Ggallus   |\n",
       "| 24 | Tasmanian devil | sarHar1 | Marsupiala     | Sarcophilus harrisii | Sharrisii |\n",
       "| 42 | Sheep           | oviAri4 | Mammalia       | Ovis aries           | Oaries    |\n",
       "| 47 | Wallaby         | macEug2 | Marsupiala     | Notamacropus eugenii | Neugenii  |\n",
       "\n"
      ],
      "text/plain": [
       "   species         ucsc_genome class          scientific_name      genome_id\n",
       "7  Elephant shark  calMil1     Chondrichthyes Callorhinchus milii  Cmilii   \n",
       "19 Chicken         galGal6     Aves           Gallus gallus        Ggallus  \n",
       "24 Tasmanian devil sarHar1     Marsupiala     Sarcophilus harrisii Sharrisii\n",
       "42 Sheep           oviAri4     Mammalia       Ovis aries           Oaries   \n",
       "47 Wallaby         macEug2     Marsupiala     Notamacropus eugenii Neugenii "
      ]
     },
     "metadata": {},
     "output_type": "display_data"
    }
   ],
   "source": [
    "test_run_conc"
   ]
  },
  {
   "cell_type": "code",
   "execution_count": 234,
   "id": "optional-delay",
   "metadata": {},
   "outputs": [],
   "source": [
    "write.table(test_run_conc, \"../meta/genomes_to_concatinate.txt\", sep = \"\\t\", quote = F, row.names = F)"
   ]
  },
  {
   "cell_type": "code",
   "execution_count": 225,
   "id": "theoretical-clark",
   "metadata": {},
   "outputs": [
    {
     "data": {
      "text/html": [
       "TRUE"
      ],
      "text/latex": [
       "TRUE"
      ],
      "text/markdown": [
       "TRUE"
      ],
      "text/plain": [
       "[1] TRUE"
      ]
     },
     "metadata": {},
     "output_type": "display_data"
    }
   ],
   "source": [
    "file.exists(\"/nobackup/lab_bock/projects/DNAmeth500species/resources/reference_genomes/genomes/Oaries/oviAri4.fa\")"
   ]
  },
  {
   "cell_type": "markdown",
   "id": "eastern-cincinnati",
   "metadata": {},
   "source": [
    "## download"
   ]
  },
  {
   "cell_type": "code",
   "execution_count": 28,
   "id": "handy-glenn",
   "metadata": {},
   "outputs": [],
   "source": [
    "cmd = paste0(\"wget http://hgdownload.soe.ucsc.edu/goldenPath/oviAri4/bigZips/oviAri4.fa.gz  -P /nobackup/lab_bock/projects/DNAmeth500species/validation/insilicoDigest/data/genomes/Oaries\")"
   ]
  },
  {
   "cell_type": "code",
   "execution_count": 29,
   "id": "floppy-reservoir",
   "metadata": {},
   "outputs": [],
   "source": [
    "system(cmd)"
   ]
  },
  {
   "cell_type": "code",
   "execution_count": 32,
   "id": "electric-butterfly",
   "metadata": {},
   "outputs": [],
   "source": [
    "cmd = paste0(\"gunzip /nobackup/lab_bock/projects/DNAmeth500species/validation/insilicoDigest/data/genomes/Oaries/oviAri4.fa.gz\")"
   ]
  },
  {
   "cell_type": "code",
   "execution_count": 33,
   "id": "comparable-puppy",
   "metadata": {},
   "outputs": [],
   "source": [
    "system(cmd)"
   ]
  },
  {
   "cell_type": "code",
   "execution_count": 36,
   "id": "african-knowing",
   "metadata": {},
   "outputs": [],
   "source": [
    "cmd = paste0(\"wget http://hgdownload.soe.ucsc.edu/goldenPath/oviAri4/bigZips/oviAri4.chrom.sizes  -P /nobackup/lab_bock/projects/DNAmeth500species/validation/insilicoDigest/data/genomes/Oaries/\")"
   ]
  },
  {
   "cell_type": "code",
   "execution_count": 37,
   "id": "eight-review",
   "metadata": {},
   "outputs": [],
   "source": [
    "system(cmd)"
   ]
  },
  {
   "cell_type": "markdown",
   "id": "public-cincinnati",
   "metadata": {},
   "source": [
    "## upload"
   ]
  },
  {
   "cell_type": "code",
   "execution_count": 4,
   "id": "naked-fraud",
   "metadata": {},
   "outputs": [],
   "source": [
    "chrom_sizes = read.csv(\"/nobackup/lab_bock/projects/DNAmeth500species/validation/insilicoDigest/data/genomes/Oaries/oviAri4.chrom.sizes\", sep = \"\\t\", header = F)"
   ]
  },
  {
   "cell_type": "code",
   "execution_count": 5,
   "id": "theoretical-luxembourg",
   "metadata": {},
   "outputs": [],
   "source": [
    "tile_size = round(sum(chrom_sizes$V2)/20)"
   ]
  },
  {
   "cell_type": "code",
   "execution_count": 6,
   "id": "studied-detection",
   "metadata": {},
   "outputs": [],
   "source": [
    "fa_file <- readDNAStringSet(\"/nobackup/lab_bock/projects/DNAmeth500species/validation/insilicoDigest/data/genomes/Oaries/oviAri4.fa\")"
   ]
  },
  {
   "cell_type": "code",
   "execution_count": 7,
   "id": "fitted-better",
   "metadata": {},
   "outputs": [
    {
     "data": {
      "text/plain": [
       "  A DNAStringSet instance of length 6\n",
       "        width seq                                           names               \n",
       "[1] 275406953 GATAAAAAATAAATAGAAACA...GTGTCTTCCAACCATCTTCCT chr1\n",
       "[2]  86377204 GTCTCCCCAGGGGAGTCAGTC...GGTTAGGGTTAGGGTTAGGGT chr10\n",
       "[3]  62170480 GCCGGGGCCTAAGACTTTGTG...ATTGGAAGGACTGGTTTCCCC chr11\n",
       "[4]  79028859 GATCATAAGAGTATTTGCCTT...CCCGCCGGCCCGCACCCCCCT chr12\n",
       "[5]  82951069 CGTCATATCTGTAAAATAGAA...TTGAAAGTGGCGGGCACAGTA chr13\n",
       "[6]  62568341 AGGTTTCTCTGGAATGGACTG...GTGTGAGTTCTCTGTGGCTTC chr14"
      ]
     },
     "metadata": {},
     "output_type": "display_data"
    }
   ],
   "source": [
    "head(fa_file)"
   ]
  },
  {
   "cell_type": "code",
   "execution_count": 221,
   "id": "european-latino",
   "metadata": {},
   "outputs": [],
   "source": [
    "genome_id <- \"Oaries\""
   ]
  },
  {
   "cell_type": "code",
   "execution_count": 222,
   "id": "enormous-romantic",
   "metadata": {},
   "outputs": [
    {
     "data": {
      "text/html": [
       "'../../resources/reference_genomes/genomes/Oaries/'"
      ],
      "text/latex": [
       "'../../resources/reference\\_genomes/genomes/Oaries/'"
      ],
      "text/markdown": [
       "'../../resources/reference_genomes/genomes/Oaries/'"
      ],
      "text/plain": [
       "[1] \"../../resources/reference_genomes/genomes/Oaries/\""
      ]
     },
     "metadata": {},
     "output_type": "display_data"
    }
   ],
   "source": [
    "paste0(\"../../resources/reference_genomes/genomes/\", genome_id, \"/\")"
   ]
  },
  {
   "cell_type": "code",
   "execution_count": 8,
   "id": "coral-azerbaijan",
   "metadata": {},
   "outputs": [
    {
     "data": {
      "text/html": [
       "5466"
      ],
      "text/latex": [
       "5466"
      ],
      "text/markdown": [
       "5466"
      ],
      "text/plain": [
       "[1] 5466"
      ]
     },
     "metadata": {},
     "output_type": "display_data"
    }
   ],
   "source": [
    "NROW(fa_file)"
   ]
  },
  {
   "cell_type": "code",
   "execution_count": 21,
   "id": "funky-destination",
   "metadata": {},
   "outputs": [],
   "source": [
    "setDT(chrom_sizes)"
   ]
  },
  {
   "cell_type": "code",
   "execution_count": 12,
   "id": "careful-replica",
   "metadata": {},
   "outputs": [
    {
     "data": {
      "text/plain": [
       "NULL"
      ]
     },
     "metadata": {},
     "output_type": "display_data"
    }
   ],
   "source": [
    "sort(chrom_sizes$width)"
   ]
  },
  {
   "cell_type": "code",
   "execution_count": 26,
   "id": "juvenile-profit",
   "metadata": {},
   "outputs": [
    {
     "data": {
      "text/html": [
       "<table class=\"dataframe\">\n",
       "<caption>A data.table: 6 × 2</caption>\n",
       "<thead>\n",
       "\t<tr><th scope=col>V1</th><th scope=col>V2</th></tr>\n",
       "\t<tr><th scope=col>&lt;fct&gt;</th><th scope=col>&lt;int&gt;</th></tr>\n",
       "</thead>\n",
       "<tbody>\n",
       "\t<tr><td>chr1</td><td>275406953</td></tr>\n",
       "\t<tr><td>chr2</td><td>248966461</td></tr>\n",
       "\t<tr><td>chr3</td><td>223996068</td></tr>\n",
       "\t<tr><td>chrX</td><td>135185801</td></tr>\n",
       "\t<tr><td>chr4</td><td>119216639</td></tr>\n",
       "\t<tr><td>chr6</td><td>116888256</td></tr>\n",
       "</tbody>\n",
       "</table>\n"
      ],
      "text/latex": [
       "A data.table: 6 × 2\n",
       "\\begin{tabular}{ll}\n",
       " V1 & V2\\\\\n",
       " <fct> & <int>\\\\\n",
       "\\hline\n",
       "\t chr1 & 275406953\\\\\n",
       "\t chr2 & 248966461\\\\\n",
       "\t chr3 & 223996068\\\\\n",
       "\t chrX & 135185801\\\\\n",
       "\t chr4 & 119216639\\\\\n",
       "\t chr6 & 116888256\\\\\n",
       "\\end{tabular}\n"
      ],
      "text/markdown": [
       "\n",
       "A data.table: 6 × 2\n",
       "\n",
       "| V1 &lt;fct&gt; | V2 &lt;int&gt; |\n",
       "|---|---|\n",
       "| chr1 | 275406953 |\n",
       "| chr2 | 248966461 |\n",
       "| chr3 | 223996068 |\n",
       "| chrX | 135185801 |\n",
       "| chr4 | 119216639 |\n",
       "| chr6 | 116888256 |\n",
       "\n"
      ],
      "text/plain": [
       "  V1   V2       \n",
       "1 chr1 275406953\n",
       "2 chr2 248966461\n",
       "3 chr3 223996068\n",
       "4 chrX 135185801\n",
       "5 chr4 119216639\n",
       "6 chr6 116888256"
      ]
     },
     "metadata": {},
     "output_type": "display_data"
    }
   ],
   "source": [
    "head(chrom_sizes)"
   ]
  },
  {
   "cell_type": "code",
   "execution_count": 25,
   "id": "golden-somewhere",
   "metadata": {},
   "outputs": [],
   "source": [
    "chrom_sizes <- chrom_sizes[order(V2, decreasing = T)]"
   ]
  },
  {
   "cell_type": "code",
   "execution_count": 35,
   "id": "burning-tuition",
   "metadata": {},
   "outputs": [],
   "source": [
    "chrom_leave <- chrom_sizes[V2>0.8*tile_size]"
   ]
  },
  {
   "cell_type": "code",
   "execution_count": 39,
   "id": "simple-appreciation",
   "metadata": {},
   "outputs": [],
   "source": [
    "setDT(chrom_leave)"
   ]
  },
  {
   "cell_type": "code",
   "execution_count": 185,
   "id": "configured-canyon",
   "metadata": {},
   "outputs": [],
   "source": [
    "##first saving the first one (no append=True on purpose!):\n",
    "cat(\">chrArt1\", file = \"../../resources/reference_genomes/genomes/Oaries/oviAri4_concatinated.fa\", sep = \"\\n\")"
   ]
  },
  {
   "cell_type": "code",
   "execution_count": 186,
   "id": "pursuant-debate",
   "metadata": {},
   "outputs": [],
   "source": [
    "cat(as.character(fa_file[[chrom_sizes$V1[[1]]]]), file = \"../../resources/reference_genomes/genomes/Oaries/oviAri4_concatinated.fa\", sep = \"\\n\", append = T)"
   ]
  },
  {
   "cell_type": "code",
   "execution_count": 187,
   "id": "infrared-humor",
   "metadata": {},
   "outputs": [],
   "source": [
    "chrom.map = data.table(new = \"chrArt1\", old = as.character(chrom_sizes$V1[[1]]), width_old = chrom_sizes$V2[[1]], width_new = chrom_sizes$V2[[1]])"
   ]
  },
  {
   "cell_type": "code",
   "execution_count": 188,
   "id": "threatened-revelation",
   "metadata": {},
   "outputs": [
    {
     "name": "stdout",
     "output_type": "stream",
     "text": [
      "[1] 2\n",
      "[1] 3\n",
      "[1] 4\n",
      "[1] 5\n",
      "[1] 6\n",
      "[1] 7\n"
     ]
    }
   ],
   "source": [
    "for(chrom_id in c(2:NROW(chrom_sizes[V2>0.8*tile_size]))){\n",
    "    print(chrom_id)\n",
    "   cat(paste0(\">chrArt\",chrom_id), file = \"../../resources/reference_genomes/genomes/Oaries/oviAri4_concatinated.fa\", sep = \"\\n\", append = T) \n",
    "    cat(as.character(fa_file[[chrom_leave$V1[[chrom_id]]]]), file = \"../../resources/reference_genomes/genomes/Oaries/oviAri4_concatinated.fa\", sep = \"\\n\", append = T)\n",
    "     chrom.map <- rbind(chrom.map, list(\"new\" = paste0(\"chrArt\",chrom_id), \"old\" = as.character(chrom_leave$V1[[chrom_id]])))\n",
    "}"
   ]
  },
  {
   "cell_type": "code",
   "execution_count": 189,
   "id": "assured-instrumentation",
   "metadata": {},
   "outputs": [
    {
     "data": {
      "text/html": [
       "<table class=\"dataframe\">\n",
       "<caption>A data.table: 7 × 2</caption>\n",
       "<thead>\n",
       "\t<tr><th scope=col>new</th><th scope=col>old</th></tr>\n",
       "\t<tr><th scope=col>&lt;chr&gt;</th><th scope=col>&lt;chr&gt;</th></tr>\n",
       "</thead>\n",
       "<tbody>\n",
       "\t<tr><td>chrArt1</td><td>chr1</td></tr>\n",
       "\t<tr><td>chrArt2</td><td>chr2</td></tr>\n",
       "\t<tr><td>chrArt3</td><td>chr3</td></tr>\n",
       "\t<tr><td>chrArt4</td><td>chrX</td></tr>\n",
       "\t<tr><td>chrArt5</td><td>chr4</td></tr>\n",
       "\t<tr><td>chrArt6</td><td>chr6</td></tr>\n",
       "\t<tr><td>chrArt7</td><td>chr5</td></tr>\n",
       "</tbody>\n",
       "</table>\n"
      ],
      "text/latex": [
       "A data.table: 7 × 2\n",
       "\\begin{tabular}{ll}\n",
       " new & old\\\\\n",
       " <chr> & <chr>\\\\\n",
       "\\hline\n",
       "\t chrArt1 & chr1\\\\\n",
       "\t chrArt2 & chr2\\\\\n",
       "\t chrArt3 & chr3\\\\\n",
       "\t chrArt4 & chrX\\\\\n",
       "\t chrArt5 & chr4\\\\\n",
       "\t chrArt6 & chr6\\\\\n",
       "\t chrArt7 & chr5\\\\\n",
       "\\end{tabular}\n"
      ],
      "text/markdown": [
       "\n",
       "A data.table: 7 × 2\n",
       "\n",
       "| new &lt;chr&gt; | old &lt;chr&gt; |\n",
       "|---|---|\n",
       "| chrArt1 | chr1 |\n",
       "| chrArt2 | chr2 |\n",
       "| chrArt3 | chr3 |\n",
       "| chrArt4 | chrX |\n",
       "| chrArt5 | chr4 |\n",
       "| chrArt6 | chr6 |\n",
       "| chrArt7 | chr5 |\n",
       "\n"
      ],
      "text/plain": [
       "  new     old \n",
       "1 chrArt1 chr1\n",
       "2 chrArt2 chr2\n",
       "3 chrArt3 chr3\n",
       "4 chrArt4 chrX\n",
       "5 chrArt5 chr4\n",
       "6 chrArt6 chr6\n",
       "7 chrArt7 chr5"
      ]
     },
     "metadata": {},
     "output_type": "display_data"
    }
   ],
   "source": [
    "chrom.map"
   ]
  },
  {
   "cell_type": "code",
   "execution_count": 190,
   "id": "structural-carrier",
   "metadata": {},
   "outputs": [
    {
     "data": {
      "text/html": [
       "chr7\n",
       "<details>\n",
       "\t<summary style=display:list-item;cursor:pointer>\n",
       "\t\t<strong>Levels</strong>:\n",
       "\t</summary>\n",
       "\t<style>\n",
       "\t.list-inline {list-style: none; margin:0; padding: 0}\n",
       "\t.list-inline>li {display: inline-block}\n",
       "\t.list-inline>li:not(:last-child)::after {content: \"\\00b7\"; padding: 0 .5ex}\n",
       "\t</style>\n",
       "\t<ol class=list-inline><li>'chr1'</li><li>'chr10'</li><li>'chr11'</li><li>'chr12'</li><li>'chr13'</li><li>'chr14'</li><li>'chr15'</li><li>'chr16'</li><li>'chr17'</li><li>'chr18'</li><li>'chr19'</li><li>'chr2'</li><li>'chr20'</li><li>'chr21'</li><li>'chr22'</li><li>'chr23'</li><li>'chr24'</li><li>'chr25'</li><li>'chr26'</li><li>'chr3'</li><li>'chr4'</li><li>'chr5'</li><li>'chr6'</li><li>'chr7'</li><li>'chr8'</li><li>'chr9'</li><li>'chrM'</li><li>'chrUn_NW_014639037v1'</li><li>'chrUn_NW_014639038v1'</li><li>'chrUn_NW_014639039v1'</li><li>'chrUn_NW_014639040v1'</li><li>'chrUn_NW_014639041v1'</li><li>'chrUn_NW_014639042v1'</li><li>'chrUn_NW_014639043v1'</li><li>'chrUn_NW_014639044v1'</li><li>'chrUn_NW_014639045v1'</li><li>'chrUn_NW_014639046v1'</li><li>'chrUn_NW_014639047v1'</li><li>'chrUn_NW_014639048v1'</li><li>'chrUn_NW_014639049v1'</li><li>'chrUn_NW_014639050v1'</li><li>'chrUn_NW_014639051v1'</li><li>'chrUn_NW_014639052v1'</li><li>'chrUn_NW_014639053v1'</li><li>'chrUn_NW_014639054v1'</li><li>'chrUn_NW_014639055v1'</li><li>'chrUn_NW_014639056v1'</li><li>'chrUn_NW_014639057v1'</li><li>'chrUn_NW_014639058v1'</li><li>'chrUn_NW_014639059v1'</li><li>'chrUn_NW_014639060v1'</li><li>'chrUn_NW_014639061v1'</li><li>'chrUn_NW_014639062v1'</li><li>'chrUn_NW_014639063v1'</li><li>'chrUn_NW_014639064v1'</li><li>'chrUn_NW_014639065v1'</li><li>'chrUn_NW_014639066v1'</li><li>'chrUn_NW_014639067v1'</li><li>'chrUn_NW_014639068v1'</li><li>'chrUn_NW_014639069v1'</li><li>'chrUn_NW_014639070v1'</li><li>'chrUn_NW_014639071v1'</li><li>'chrUn_NW_014639072v1'</li><li>'chrUn_NW_014639073v1'</li><li>'chrUn_NW_014639074v1'</li><li>'chrUn_NW_014639075v1'</li><li>'chrUn_NW_014639076v1'</li><li>'chrUn_NW_014639077v1'</li><li>'chrUn_NW_014639078v1'</li><li>'chrUn_NW_014639079v1'</li><li>'chrUn_NW_014639080v1'</li><li>'chrUn_NW_014639081v1'</li><li>'chrUn_NW_014639082v1'</li><li>'chrUn_NW_014639083v1'</li><li>'chrUn_NW_014639084v1'</li><li>'chrUn_NW_014639085v1'</li><li>'chrUn_NW_014639086v1'</li><li>'chrUn_NW_014639087v1'</li><li>'chrUn_NW_014639088v1'</li><li>'chrUn_NW_014639089v1'</li><li>'chrUn_NW_014639090v1'</li><li>'chrUn_NW_014639091v1'</li><li>'chrUn_NW_014639092v1'</li><li>'chrUn_NW_014639093v1'</li><li>'chrUn_NW_014639094v1'</li><li>'chrUn_NW_014639095v1'</li><li>'chrUn_NW_014639096v1'</li><li>'chrUn_NW_014639097v1'</li><li>'chrUn_NW_014639098v1'</li><li>'chrUn_NW_014639099v1'</li><li>'chrUn_NW_014639100v1'</li><li>'chrUn_NW_014639101v1'</li><li>'chrUn_NW_014639102v1'</li><li>'chrUn_NW_014639103v1'</li><li>'chrUn_NW_014639104v1'</li><li>'chrUn_NW_014639105v1'</li><li>'chrUn_NW_014639106v1'</li><li>'chrUn_NW_014639107v1'</li><li>'chrUn_NW_014639108v1'</li><li>'chrUn_NW_014639109v1'</li><li>'chrUn_NW_014639110v1'</li><li>'chrUn_NW_014639111v1'</li><li>'chrUn_NW_014639112v1'</li><li>'chrUn_NW_014639113v1'</li><li>'chrUn_NW_014639114v1'</li><li>'chrUn_NW_014639115v1'</li><li>'chrUn_NW_014639116v1'</li><li>'chrUn_NW_014639117v1'</li><li>'chrUn_NW_014639118v1'</li><li>'chrUn_NW_014639119v1'</li><li>'chrUn_NW_014639120v1'</li><li>'chrUn_NW_014639121v1'</li><li>'chrUn_NW_014639122v1'</li><li>'chrUn_NW_014639123v1'</li><li>'chrUn_NW_014639124v1'</li><li>'chrUn_NW_014639125v1'</li><li>'chrUn_NW_014639126v1'</li><li>'chrUn_NW_014639127v1'</li><li>'chrUn_NW_014639128v1'</li><li>'chrUn_NW_014639129v1'</li><li>'chrUn_NW_014639130v1'</li><li>'chrUn_NW_014639131v1'</li><li>'chrUn_NW_014639132v1'</li><li>'chrUn_NW_014639133v1'</li><li>'chrUn_NW_014639134v1'</li><li>'chrUn_NW_014639135v1'</li><li>'chrUn_NW_014639136v1'</li><li>'chrUn_NW_014639137v1'</li><li>'chrUn_NW_014639138v1'</li><li>'chrUn_NW_014639139v1'</li><li>'chrUn_NW_014639140v1'</li><li>'chrUn_NW_014639141v1'</li><li>'chrUn_NW_014639142v1'</li><li>'chrUn_NW_014639143v1'</li><li>'chrUn_NW_014639144v1'</li><li>'chrUn_NW_014639145v1'</li><li>'chrUn_NW_014639146v1'</li><li>'chrUn_NW_014639147v1'</li><li>'chrUn_NW_014639148v1'</li><li>'chrUn_NW_014639149v1'</li><li>'chrUn_NW_014639150v1'</li><li>'chrUn_NW_014639151v1'</li><li>'chrUn_NW_014639152v1'</li><li>'chrUn_NW_014639153v1'</li><li>'chrUn_NW_014639154v1'</li><li>'chrUn_NW_014639155v1'</li><li>'chrUn_NW_014639156v1'</li><li>'chrUn_NW_014639157v1'</li><li>'chrUn_NW_014639158v1'</li><li>'chrUn_NW_014639159v1'</li><li>'chrUn_NW_014639160v1'</li><li>'chrUn_NW_014639161v1'</li><li>'chrUn_NW_014639162v1'</li><li>'chrUn_NW_014639163v1'</li><li>'chrUn_NW_014639164v1'</li><li>'chrUn_NW_014639165v1'</li><li>'chrUn_NW_014639166v1'</li><li>'chrUn_NW_014639167v1'</li><li>'chrUn_NW_014639168v1'</li><li>'chrUn_NW_014639169v1'</li><li>'chrUn_NW_014639170v1'</li><li>'chrUn_NW_014639171v1'</li><li>'chrUn_NW_014639172v1'</li><li>'chrUn_NW_014639173v1'</li><li>'chrUn_NW_014639174v1'</li><li>'chrUn_NW_014639175v1'</li><li>'chrUn_NW_014639176v1'</li><li>'chrUn_NW_014639177v1'</li><li>'chrUn_NW_014639178v1'</li><li>'chrUn_NW_014639179v1'</li><li>'chrUn_NW_014639180v1'</li><li>'chrUn_NW_014639181v1'</li><li>'chrUn_NW_014639182v1'</li><li>'chrUn_NW_014639183v1'</li><li>'chrUn_NW_014639184v1'</li><li>'chrUn_NW_014639185v1'</li><li>'chrUn_NW_014639186v1'</li><li>'chrUn_NW_014639187v1'</li><li>'chrUn_NW_014639188v1'</li><li>'chrUn_NW_014639189v1'</li><li>'chrUn_NW_014639190v1'</li><li>'chrUn_NW_014639191v1'</li><li>'chrUn_NW_014639192v1'</li><li>'chrUn_NW_014639193v1'</li><li>'chrUn_NW_014639194v1'</li><li>'chrUn_NW_014639195v1'</li><li>'chrUn_NW_014639196v1'</li><li>'chrUn_NW_014639197v1'</li><li>'chrUn_NW_014639198v1'</li><li>'chrUn_NW_014639199v1'</li><li>'chrUn_NW_014639200v1'</li><li>'chrUn_NW_014639201v1'</li><li>'chrUn_NW_014639202v1'</li><li>'chrUn_NW_014639203v1'</li><li>'chrUn_NW_014639204v1'</li><li>'chrUn_NW_014639205v1'</li><li>'chrUn_NW_014639206v1'</li><li>'chrUn_NW_014639207v1'</li><li>'chrUn_NW_014639208v1'</li><li>'chrUn_NW_014639209v1'</li><li>⋯</li><li>'chrUn_NW_014644276v1'</li><li>'chrUn_NW_014644277v1'</li><li>'chrUn_NW_014644278v1'</li><li>'chrUn_NW_014644279v1'</li><li>'chrUn_NW_014644280v1'</li><li>'chrUn_NW_014644281v1'</li><li>'chrUn_NW_014644282v1'</li><li>'chrUn_NW_014644283v1'</li><li>'chrUn_NW_014644284v1'</li><li>'chrUn_NW_014644285v1'</li><li>'chrUn_NW_014644286v1'</li><li>'chrUn_NW_014644287v1'</li><li>'chrUn_NW_014644288v1'</li><li>'chrUn_NW_014644289v1'</li><li>'chrUn_NW_014644290v1'</li><li>'chrUn_NW_014644291v1'</li><li>'chrUn_NW_014644292v1'</li><li>'chrUn_NW_014644293v1'</li><li>'chrUn_NW_014644294v1'</li><li>'chrUn_NW_014644295v1'</li><li>'chrUn_NW_014644296v1'</li><li>'chrUn_NW_014644297v1'</li><li>'chrUn_NW_014644298v1'</li><li>'chrUn_NW_014644299v1'</li><li>'chrUn_NW_014644300v1'</li><li>'chrUn_NW_014644301v1'</li><li>'chrUn_NW_014644302v1'</li><li>'chrUn_NW_014644303v1'</li><li>'chrUn_NW_014644304v1'</li><li>'chrUn_NW_014644305v1'</li><li>'chrUn_NW_014644306v1'</li><li>'chrUn_NW_014644307v1'</li><li>'chrUn_NW_014644308v1'</li><li>'chrUn_NW_014644309v1'</li><li>'chrUn_NW_014644310v1'</li><li>'chrUn_NW_014644311v1'</li><li>'chrUn_NW_014644312v1'</li><li>'chrUn_NW_014644313v1'</li><li>'chrUn_NW_014644314v1'</li><li>'chrUn_NW_014644315v1'</li><li>'chrUn_NW_014644316v1'</li><li>'chrUn_NW_014644317v1'</li><li>'chrUn_NW_014644318v1'</li><li>'chrUn_NW_014644319v1'</li><li>'chrUn_NW_014644320v1'</li><li>'chrUn_NW_014644321v1'</li><li>'chrUn_NW_014644322v1'</li><li>'chrUn_NW_014644323v1'</li><li>'chrUn_NW_014644324v1'</li><li>'chrUn_NW_014644325v1'</li><li>'chrUn_NW_014644326v1'</li><li>'chrUn_NW_014644327v1'</li><li>'chrUn_NW_014644328v1'</li><li>'chrUn_NW_014644329v1'</li><li>'chrUn_NW_014644330v1'</li><li>'chrUn_NW_014644331v1'</li><li>'chrUn_NW_014644332v1'</li><li>'chrUn_NW_014644333v1'</li><li>'chrUn_NW_014644334v1'</li><li>'chrUn_NW_014644335v1'</li><li>'chrUn_NW_014644336v1'</li><li>'chrUn_NW_014644337v1'</li><li>'chrUn_NW_014644338v1'</li><li>'chrUn_NW_014644339v1'</li><li>'chrUn_NW_014644340v1'</li><li>'chrUn_NW_014644341v1'</li><li>'chrUn_NW_014644342v1'</li><li>'chrUn_NW_014644343v1'</li><li>'chrUn_NW_014644344v1'</li><li>'chrUn_NW_014644345v1'</li><li>'chrUn_NW_014644346v1'</li><li>'chrUn_NW_014644347v1'</li><li>'chrUn_NW_014644348v1'</li><li>'chrUn_NW_014644349v1'</li><li>'chrUn_NW_014644350v1'</li><li>'chrUn_NW_014644351v1'</li><li>'chrUn_NW_014644352v1'</li><li>'chrUn_NW_014644353v1'</li><li>'chrUn_NW_014644354v1'</li><li>'chrUn_NW_014644355v1'</li><li>'chrUn_NW_014644356v1'</li><li>'chrUn_NW_014644357v1'</li><li>'chrUn_NW_014644358v1'</li><li>'chrUn_NW_014644359v1'</li><li>'chrUn_NW_014644360v1'</li><li>'chrUn_NW_014644361v1'</li><li>'chrUn_NW_014644362v1'</li><li>'chrUn_NW_014644363v1'</li><li>'chrUn_NW_014644364v1'</li><li>'chrUn_NW_014644365v1'</li><li>'chrUn_NW_014644366v1'</li><li>'chrUn_NW_014644367v1'</li><li>'chrUn_NW_014644368v1'</li><li>'chrUn_NW_014644369v1'</li><li>'chrUn_NW_014644370v1'</li><li>'chrUn_NW_014644371v1'</li><li>'chrUn_NW_014644372v1'</li><li>'chrUn_NW_014644373v1'</li><li>'chrUn_NW_014644374v1'</li><li>'chrUn_NW_014644375v1'</li><li>'chrUn_NW_014644376v1'</li><li>'chrUn_NW_014644377v1'</li><li>'chrUn_NW_014644378v1'</li><li>'chrUn_NW_014644379v1'</li><li>'chrUn_NW_014644380v1'</li><li>'chrUn_NW_014644381v1'</li><li>'chrUn_NW_014644382v1'</li><li>'chrUn_NW_014644383v1'</li><li>'chrUn_NW_014644384v1'</li><li>'chrUn_NW_014644385v1'</li><li>'chrUn_NW_014644386v1'</li><li>'chrUn_NW_014644387v1'</li><li>'chrUn_NW_014644388v1'</li><li>'chrUn_NW_014644389v1'</li><li>'chrUn_NW_014644390v1'</li><li>'chrUn_NW_014644391v1'</li><li>'chrUn_NW_014644392v1'</li><li>'chrUn_NW_014644393v1'</li><li>'chrUn_NW_014644394v1'</li><li>'chrUn_NW_014644395v1'</li><li>'chrUn_NW_014644396v1'</li><li>'chrUn_NW_014644397v1'</li><li>'chrUn_NW_014644398v1'</li><li>'chrUn_NW_014644399v1'</li><li>'chrUn_NW_014644400v1'</li><li>'chrUn_NW_014644401v1'</li><li>'chrUn_NW_014644402v1'</li><li>'chrUn_NW_014644403v1'</li><li>'chrUn_NW_014644404v1'</li><li>'chrUn_NW_014644405v1'</li><li>'chrUn_NW_014644406v1'</li><li>'chrUn_NW_014644407v1'</li><li>'chrUn_NW_014644408v1'</li><li>'chrUn_NW_014644409v1'</li><li>'chrUn_NW_014644410v1'</li><li>'chrUn_NW_014644411v1'</li><li>'chrUn_NW_014644412v1'</li><li>'chrUn_NW_014644413v1'</li><li>'chrUn_NW_014644414v1'</li><li>'chrUn_NW_014644415v1'</li><li>'chrUn_NW_014644416v1'</li><li>'chrUn_NW_014644417v1'</li><li>'chrUn_NW_014644418v1'</li><li>'chrUn_NW_014644419v1'</li><li>'chrUn_NW_014644420v1'</li><li>'chrUn_NW_014644421v1'</li><li>'chrUn_NW_014644422v1'</li><li>'chrUn_NW_014644423v1'</li><li>'chrUn_NW_014644424v1'</li><li>'chrUn_NW_014644425v1'</li><li>'chrUn_NW_014644426v1'</li><li>'chrUn_NW_014644427v1'</li><li>'chrUn_NW_014644428v1'</li><li>'chrUn_NW_014644429v1'</li><li>'chrUn_NW_014644430v1'</li><li>'chrUn_NW_014644431v1'</li><li>'chrUn_NW_014644432v1'</li><li>'chrUn_NW_014644433v1'</li><li>'chrUn_NW_014644434v1'</li><li>'chrUn_NW_014644435v1'</li><li>'chrUn_NW_014644436v1'</li><li>'chrUn_NW_014644437v1'</li><li>'chrUn_NW_014644438v1'</li><li>'chrUn_NW_014644439v1'</li><li>'chrUn_NW_014644440v1'</li><li>'chrUn_NW_014644441v1'</li><li>'chrUn_NW_014644442v1'</li><li>'chrUn_NW_014644443v1'</li><li>'chrUn_NW_014644444v1'</li><li>'chrUn_NW_014644445v1'</li><li>'chrUn_NW_014644446v1'</li><li>'chrUn_NW_014644447v1'</li><li>'chrUn_NW_014644448v1'</li><li>'chrUn_NW_014644449v1'</li><li>'chrUn_NW_014644450v1'</li><li>'chrUn_NW_014644451v1'</li><li>'chrUn_NW_014644452v1'</li><li>'chrUn_NW_014644453v1'</li><li>'chrUn_NW_014644454v1'</li><li>'chrUn_NW_014644455v1'</li><li>'chrUn_NW_014644456v1'</li><li>'chrUn_NW_014644457v1'</li><li>'chrUn_NW_014644458v1'</li><li>'chrUn_NW_014644459v1'</li><li>'chrUn_NW_014644460v1'</li><li>'chrUn_NW_014644461v1'</li><li>'chrUn_NW_014644462v1'</li><li>'chrUn_NW_014644463v1'</li><li>'chrUn_NW_014644464v1'</li><li>'chrUn_NW_014644465v1'</li><li>'chrUn_NW_014644466v1'</li><li>'chrUn_NW_014644467v1'</li><li>'chrUn_NW_014644468v1'</li><li>'chrUn_NW_014644469v1'</li><li>'chrUn_NW_014644470v1'</li><li>'chrUn_NW_014644471v1'</li><li>'chrUn_NW_014644472v1'</li><li>'chrUn_NW_014644473v1'</li><li>'chrUn_NW_014644474v1'</li><li>'chrX'</li></ol>\n",
       "</details>"
      ],
      "text/latex": [
       "chr7\n",
       "\\emph{Levels}: \\begin{enumerate*}\n",
       "\\item 'chr1'\n",
       "\\item 'chr10'\n",
       "\\item 'chr11'\n",
       "\\item 'chr12'\n",
       "\\item 'chr13'\n",
       "\\item 'chr14'\n",
       "\\item 'chr15'\n",
       "\\item 'chr16'\n",
       "\\item 'chr17'\n",
       "\\item 'chr18'\n",
       "\\item 'chr19'\n",
       "\\item 'chr2'\n",
       "\\item 'chr20'\n",
       "\\item 'chr21'\n",
       "\\item 'chr22'\n",
       "\\item 'chr23'\n",
       "\\item 'chr24'\n",
       "\\item 'chr25'\n",
       "\\item 'chr26'\n",
       "\\item 'chr3'\n",
       "\\item 'chr4'\n",
       "\\item 'chr5'\n",
       "\\item 'chr6'\n",
       "\\item 'chr7'\n",
       "\\item 'chr8'\n",
       "\\item 'chr9'\n",
       "\\item 'chrM'\n",
       "\\item 'chrUn\\_NW\\_014639037v1'\n",
       "\\item 'chrUn\\_NW\\_014639038v1'\n",
       "\\item 'chrUn\\_NW\\_014639039v1'\n",
       "\\item 'chrUn\\_NW\\_014639040v1'\n",
       "\\item 'chrUn\\_NW\\_014639041v1'\n",
       "\\item 'chrUn\\_NW\\_014639042v1'\n",
       "\\item 'chrUn\\_NW\\_014639043v1'\n",
       "\\item 'chrUn\\_NW\\_014639044v1'\n",
       "\\item 'chrUn\\_NW\\_014639045v1'\n",
       "\\item 'chrUn\\_NW\\_014639046v1'\n",
       "\\item 'chrUn\\_NW\\_014639047v1'\n",
       "\\item 'chrUn\\_NW\\_014639048v1'\n",
       "\\item 'chrUn\\_NW\\_014639049v1'\n",
       "\\item 'chrUn\\_NW\\_014639050v1'\n",
       "\\item 'chrUn\\_NW\\_014639051v1'\n",
       "\\item 'chrUn\\_NW\\_014639052v1'\n",
       "\\item 'chrUn\\_NW\\_014639053v1'\n",
       "\\item 'chrUn\\_NW\\_014639054v1'\n",
       "\\item 'chrUn\\_NW\\_014639055v1'\n",
       "\\item 'chrUn\\_NW\\_014639056v1'\n",
       "\\item 'chrUn\\_NW\\_014639057v1'\n",
       "\\item 'chrUn\\_NW\\_014639058v1'\n",
       "\\item 'chrUn\\_NW\\_014639059v1'\n",
       "\\item 'chrUn\\_NW\\_014639060v1'\n",
       "\\item 'chrUn\\_NW\\_014639061v1'\n",
       "\\item 'chrUn\\_NW\\_014639062v1'\n",
       "\\item 'chrUn\\_NW\\_014639063v1'\n",
       "\\item 'chrUn\\_NW\\_014639064v1'\n",
       "\\item 'chrUn\\_NW\\_014639065v1'\n",
       "\\item 'chrUn\\_NW\\_014639066v1'\n",
       "\\item 'chrUn\\_NW\\_014639067v1'\n",
       "\\item 'chrUn\\_NW\\_014639068v1'\n",
       "\\item 'chrUn\\_NW\\_014639069v1'\n",
       "\\item 'chrUn\\_NW\\_014639070v1'\n",
       "\\item 'chrUn\\_NW\\_014639071v1'\n",
       "\\item 'chrUn\\_NW\\_014639072v1'\n",
       "\\item 'chrUn\\_NW\\_014639073v1'\n",
       "\\item 'chrUn\\_NW\\_014639074v1'\n",
       "\\item 'chrUn\\_NW\\_014639075v1'\n",
       "\\item 'chrUn\\_NW\\_014639076v1'\n",
       "\\item 'chrUn\\_NW\\_014639077v1'\n",
       "\\item 'chrUn\\_NW\\_014639078v1'\n",
       "\\item 'chrUn\\_NW\\_014639079v1'\n",
       "\\item 'chrUn\\_NW\\_014639080v1'\n",
       "\\item 'chrUn\\_NW\\_014639081v1'\n",
       "\\item 'chrUn\\_NW\\_014639082v1'\n",
       "\\item 'chrUn\\_NW\\_014639083v1'\n",
       "\\item 'chrUn\\_NW\\_014639084v1'\n",
       "\\item 'chrUn\\_NW\\_014639085v1'\n",
       "\\item 'chrUn\\_NW\\_014639086v1'\n",
       "\\item 'chrUn\\_NW\\_014639087v1'\n",
       "\\item 'chrUn\\_NW\\_014639088v1'\n",
       "\\item 'chrUn\\_NW\\_014639089v1'\n",
       "\\item 'chrUn\\_NW\\_014639090v1'\n",
       "\\item 'chrUn\\_NW\\_014639091v1'\n",
       "\\item 'chrUn\\_NW\\_014639092v1'\n",
       "\\item 'chrUn\\_NW\\_014639093v1'\n",
       "\\item 'chrUn\\_NW\\_014639094v1'\n",
       "\\item 'chrUn\\_NW\\_014639095v1'\n",
       "\\item 'chrUn\\_NW\\_014639096v1'\n",
       "\\item 'chrUn\\_NW\\_014639097v1'\n",
       "\\item 'chrUn\\_NW\\_014639098v1'\n",
       "\\item 'chrUn\\_NW\\_014639099v1'\n",
       "\\item 'chrUn\\_NW\\_014639100v1'\n",
       "\\item 'chrUn\\_NW\\_014639101v1'\n",
       "\\item 'chrUn\\_NW\\_014639102v1'\n",
       "\\item 'chrUn\\_NW\\_014639103v1'\n",
       "\\item 'chrUn\\_NW\\_014639104v1'\n",
       "\\item 'chrUn\\_NW\\_014639105v1'\n",
       "\\item 'chrUn\\_NW\\_014639106v1'\n",
       "\\item 'chrUn\\_NW\\_014639107v1'\n",
       "\\item 'chrUn\\_NW\\_014639108v1'\n",
       "\\item 'chrUn\\_NW\\_014639109v1'\n",
       "\\item 'chrUn\\_NW\\_014639110v1'\n",
       "\\item 'chrUn\\_NW\\_014639111v1'\n",
       "\\item 'chrUn\\_NW\\_014639112v1'\n",
       "\\item 'chrUn\\_NW\\_014639113v1'\n",
       "\\item 'chrUn\\_NW\\_014639114v1'\n",
       "\\item 'chrUn\\_NW\\_014639115v1'\n",
       "\\item 'chrUn\\_NW\\_014639116v1'\n",
       "\\item 'chrUn\\_NW\\_014639117v1'\n",
       "\\item 'chrUn\\_NW\\_014639118v1'\n",
       "\\item 'chrUn\\_NW\\_014639119v1'\n",
       "\\item 'chrUn\\_NW\\_014639120v1'\n",
       "\\item 'chrUn\\_NW\\_014639121v1'\n",
       "\\item 'chrUn\\_NW\\_014639122v1'\n",
       "\\item 'chrUn\\_NW\\_014639123v1'\n",
       "\\item 'chrUn\\_NW\\_014639124v1'\n",
       "\\item 'chrUn\\_NW\\_014639125v1'\n",
       "\\item 'chrUn\\_NW\\_014639126v1'\n",
       "\\item 'chrUn\\_NW\\_014639127v1'\n",
       "\\item 'chrUn\\_NW\\_014639128v1'\n",
       "\\item 'chrUn\\_NW\\_014639129v1'\n",
       "\\item 'chrUn\\_NW\\_014639130v1'\n",
       "\\item 'chrUn\\_NW\\_014639131v1'\n",
       "\\item 'chrUn\\_NW\\_014639132v1'\n",
       "\\item 'chrUn\\_NW\\_014639133v1'\n",
       "\\item 'chrUn\\_NW\\_014639134v1'\n",
       "\\item 'chrUn\\_NW\\_014639135v1'\n",
       "\\item 'chrUn\\_NW\\_014639136v1'\n",
       "\\item 'chrUn\\_NW\\_014639137v1'\n",
       "\\item 'chrUn\\_NW\\_014639138v1'\n",
       "\\item 'chrUn\\_NW\\_014639139v1'\n",
       "\\item 'chrUn\\_NW\\_014639140v1'\n",
       "\\item 'chrUn\\_NW\\_014639141v1'\n",
       "\\item 'chrUn\\_NW\\_014639142v1'\n",
       "\\item 'chrUn\\_NW\\_014639143v1'\n",
       "\\item 'chrUn\\_NW\\_014639144v1'\n",
       "\\item 'chrUn\\_NW\\_014639145v1'\n",
       "\\item 'chrUn\\_NW\\_014639146v1'\n",
       "\\item 'chrUn\\_NW\\_014639147v1'\n",
       "\\item 'chrUn\\_NW\\_014639148v1'\n",
       "\\item 'chrUn\\_NW\\_014639149v1'\n",
       "\\item 'chrUn\\_NW\\_014639150v1'\n",
       "\\item 'chrUn\\_NW\\_014639151v1'\n",
       "\\item 'chrUn\\_NW\\_014639152v1'\n",
       "\\item 'chrUn\\_NW\\_014639153v1'\n",
       "\\item 'chrUn\\_NW\\_014639154v1'\n",
       "\\item 'chrUn\\_NW\\_014639155v1'\n",
       "\\item 'chrUn\\_NW\\_014639156v1'\n",
       "\\item 'chrUn\\_NW\\_014639157v1'\n",
       "\\item 'chrUn\\_NW\\_014639158v1'\n",
       "\\item 'chrUn\\_NW\\_014639159v1'\n",
       "\\item 'chrUn\\_NW\\_014639160v1'\n",
       "\\item 'chrUn\\_NW\\_014639161v1'\n",
       "\\item 'chrUn\\_NW\\_014639162v1'\n",
       "\\item 'chrUn\\_NW\\_014639163v1'\n",
       "\\item 'chrUn\\_NW\\_014639164v1'\n",
       "\\item 'chrUn\\_NW\\_014639165v1'\n",
       "\\item 'chrUn\\_NW\\_014639166v1'\n",
       "\\item 'chrUn\\_NW\\_014639167v1'\n",
       "\\item 'chrUn\\_NW\\_014639168v1'\n",
       "\\item 'chrUn\\_NW\\_014639169v1'\n",
       "\\item 'chrUn\\_NW\\_014639170v1'\n",
       "\\item 'chrUn\\_NW\\_014639171v1'\n",
       "\\item 'chrUn\\_NW\\_014639172v1'\n",
       "\\item 'chrUn\\_NW\\_014639173v1'\n",
       "\\item 'chrUn\\_NW\\_014639174v1'\n",
       "\\item 'chrUn\\_NW\\_014639175v1'\n",
       "\\item 'chrUn\\_NW\\_014639176v1'\n",
       "\\item 'chrUn\\_NW\\_014639177v1'\n",
       "\\item 'chrUn\\_NW\\_014639178v1'\n",
       "\\item 'chrUn\\_NW\\_014639179v1'\n",
       "\\item 'chrUn\\_NW\\_014639180v1'\n",
       "\\item 'chrUn\\_NW\\_014639181v1'\n",
       "\\item 'chrUn\\_NW\\_014639182v1'\n",
       "\\item 'chrUn\\_NW\\_014639183v1'\n",
       "\\item 'chrUn\\_NW\\_014639184v1'\n",
       "\\item 'chrUn\\_NW\\_014639185v1'\n",
       "\\item 'chrUn\\_NW\\_014639186v1'\n",
       "\\item 'chrUn\\_NW\\_014639187v1'\n",
       "\\item 'chrUn\\_NW\\_014639188v1'\n",
       "\\item 'chrUn\\_NW\\_014639189v1'\n",
       "\\item 'chrUn\\_NW\\_014639190v1'\n",
       "\\item 'chrUn\\_NW\\_014639191v1'\n",
       "\\item 'chrUn\\_NW\\_014639192v1'\n",
       "\\item 'chrUn\\_NW\\_014639193v1'\n",
       "\\item 'chrUn\\_NW\\_014639194v1'\n",
       "\\item 'chrUn\\_NW\\_014639195v1'\n",
       "\\item 'chrUn\\_NW\\_014639196v1'\n",
       "\\item 'chrUn\\_NW\\_014639197v1'\n",
       "\\item 'chrUn\\_NW\\_014639198v1'\n",
       "\\item 'chrUn\\_NW\\_014639199v1'\n",
       "\\item 'chrUn\\_NW\\_014639200v1'\n",
       "\\item 'chrUn\\_NW\\_014639201v1'\n",
       "\\item 'chrUn\\_NW\\_014639202v1'\n",
       "\\item 'chrUn\\_NW\\_014639203v1'\n",
       "\\item 'chrUn\\_NW\\_014639204v1'\n",
       "\\item 'chrUn\\_NW\\_014639205v1'\n",
       "\\item 'chrUn\\_NW\\_014639206v1'\n",
       "\\item 'chrUn\\_NW\\_014639207v1'\n",
       "\\item 'chrUn\\_NW\\_014639208v1'\n",
       "\\item 'chrUn\\_NW\\_014639209v1'\n",
       "\\item ⋯\n",
       "\\item 'chrUn\\_NW\\_014644276v1'\n",
       "\\item 'chrUn\\_NW\\_014644277v1'\n",
       "\\item 'chrUn\\_NW\\_014644278v1'\n",
       "\\item 'chrUn\\_NW\\_014644279v1'\n",
       "\\item 'chrUn\\_NW\\_014644280v1'\n",
       "\\item 'chrUn\\_NW\\_014644281v1'\n",
       "\\item 'chrUn\\_NW\\_014644282v1'\n",
       "\\item 'chrUn\\_NW\\_014644283v1'\n",
       "\\item 'chrUn\\_NW\\_014644284v1'\n",
       "\\item 'chrUn\\_NW\\_014644285v1'\n",
       "\\item 'chrUn\\_NW\\_014644286v1'\n",
       "\\item 'chrUn\\_NW\\_014644287v1'\n",
       "\\item 'chrUn\\_NW\\_014644288v1'\n",
       "\\item 'chrUn\\_NW\\_014644289v1'\n",
       "\\item 'chrUn\\_NW\\_014644290v1'\n",
       "\\item 'chrUn\\_NW\\_014644291v1'\n",
       "\\item 'chrUn\\_NW\\_014644292v1'\n",
       "\\item 'chrUn\\_NW\\_014644293v1'\n",
       "\\item 'chrUn\\_NW\\_014644294v1'\n",
       "\\item 'chrUn\\_NW\\_014644295v1'\n",
       "\\item 'chrUn\\_NW\\_014644296v1'\n",
       "\\item 'chrUn\\_NW\\_014644297v1'\n",
       "\\item 'chrUn\\_NW\\_014644298v1'\n",
       "\\item 'chrUn\\_NW\\_014644299v1'\n",
       "\\item 'chrUn\\_NW\\_014644300v1'\n",
       "\\item 'chrUn\\_NW\\_014644301v1'\n",
       "\\item 'chrUn\\_NW\\_014644302v1'\n",
       "\\item 'chrUn\\_NW\\_014644303v1'\n",
       "\\item 'chrUn\\_NW\\_014644304v1'\n",
       "\\item 'chrUn\\_NW\\_014644305v1'\n",
       "\\item 'chrUn\\_NW\\_014644306v1'\n",
       "\\item 'chrUn\\_NW\\_014644307v1'\n",
       "\\item 'chrUn\\_NW\\_014644308v1'\n",
       "\\item 'chrUn\\_NW\\_014644309v1'\n",
       "\\item 'chrUn\\_NW\\_014644310v1'\n",
       "\\item 'chrUn\\_NW\\_014644311v1'\n",
       "\\item 'chrUn\\_NW\\_014644312v1'\n",
       "\\item 'chrUn\\_NW\\_014644313v1'\n",
       "\\item 'chrUn\\_NW\\_014644314v1'\n",
       "\\item 'chrUn\\_NW\\_014644315v1'\n",
       "\\item 'chrUn\\_NW\\_014644316v1'\n",
       "\\item 'chrUn\\_NW\\_014644317v1'\n",
       "\\item 'chrUn\\_NW\\_014644318v1'\n",
       "\\item 'chrUn\\_NW\\_014644319v1'\n",
       "\\item 'chrUn\\_NW\\_014644320v1'\n",
       "\\item 'chrUn\\_NW\\_014644321v1'\n",
       "\\item 'chrUn\\_NW\\_014644322v1'\n",
       "\\item 'chrUn\\_NW\\_014644323v1'\n",
       "\\item 'chrUn\\_NW\\_014644324v1'\n",
       "\\item 'chrUn\\_NW\\_014644325v1'\n",
       "\\item 'chrUn\\_NW\\_014644326v1'\n",
       "\\item 'chrUn\\_NW\\_014644327v1'\n",
       "\\item 'chrUn\\_NW\\_014644328v1'\n",
       "\\item 'chrUn\\_NW\\_014644329v1'\n",
       "\\item 'chrUn\\_NW\\_014644330v1'\n",
       "\\item 'chrUn\\_NW\\_014644331v1'\n",
       "\\item 'chrUn\\_NW\\_014644332v1'\n",
       "\\item 'chrUn\\_NW\\_014644333v1'\n",
       "\\item 'chrUn\\_NW\\_014644334v1'\n",
       "\\item 'chrUn\\_NW\\_014644335v1'\n",
       "\\item 'chrUn\\_NW\\_014644336v1'\n",
       "\\item 'chrUn\\_NW\\_014644337v1'\n",
       "\\item 'chrUn\\_NW\\_014644338v1'\n",
       "\\item 'chrUn\\_NW\\_014644339v1'\n",
       "\\item 'chrUn\\_NW\\_014644340v1'\n",
       "\\item 'chrUn\\_NW\\_014644341v1'\n",
       "\\item 'chrUn\\_NW\\_014644342v1'\n",
       "\\item 'chrUn\\_NW\\_014644343v1'\n",
       "\\item 'chrUn\\_NW\\_014644344v1'\n",
       "\\item 'chrUn\\_NW\\_014644345v1'\n",
       "\\item 'chrUn\\_NW\\_014644346v1'\n",
       "\\item 'chrUn\\_NW\\_014644347v1'\n",
       "\\item 'chrUn\\_NW\\_014644348v1'\n",
       "\\item 'chrUn\\_NW\\_014644349v1'\n",
       "\\item 'chrUn\\_NW\\_014644350v1'\n",
       "\\item 'chrUn\\_NW\\_014644351v1'\n",
       "\\item 'chrUn\\_NW\\_014644352v1'\n",
       "\\item 'chrUn\\_NW\\_014644353v1'\n",
       "\\item 'chrUn\\_NW\\_014644354v1'\n",
       "\\item 'chrUn\\_NW\\_014644355v1'\n",
       "\\item 'chrUn\\_NW\\_014644356v1'\n",
       "\\item 'chrUn\\_NW\\_014644357v1'\n",
       "\\item 'chrUn\\_NW\\_014644358v1'\n",
       "\\item 'chrUn\\_NW\\_014644359v1'\n",
       "\\item 'chrUn\\_NW\\_014644360v1'\n",
       "\\item 'chrUn\\_NW\\_014644361v1'\n",
       "\\item 'chrUn\\_NW\\_014644362v1'\n",
       "\\item 'chrUn\\_NW\\_014644363v1'\n",
       "\\item 'chrUn\\_NW\\_014644364v1'\n",
       "\\item 'chrUn\\_NW\\_014644365v1'\n",
       "\\item 'chrUn\\_NW\\_014644366v1'\n",
       "\\item 'chrUn\\_NW\\_014644367v1'\n",
       "\\item 'chrUn\\_NW\\_014644368v1'\n",
       "\\item 'chrUn\\_NW\\_014644369v1'\n",
       "\\item 'chrUn\\_NW\\_014644370v1'\n",
       "\\item 'chrUn\\_NW\\_014644371v1'\n",
       "\\item 'chrUn\\_NW\\_014644372v1'\n",
       "\\item 'chrUn\\_NW\\_014644373v1'\n",
       "\\item 'chrUn\\_NW\\_014644374v1'\n",
       "\\item 'chrUn\\_NW\\_014644375v1'\n",
       "\\item 'chrUn\\_NW\\_014644376v1'\n",
       "\\item 'chrUn\\_NW\\_014644377v1'\n",
       "\\item 'chrUn\\_NW\\_014644378v1'\n",
       "\\item 'chrUn\\_NW\\_014644379v1'\n",
       "\\item 'chrUn\\_NW\\_014644380v1'\n",
       "\\item 'chrUn\\_NW\\_014644381v1'\n",
       "\\item 'chrUn\\_NW\\_014644382v1'\n",
       "\\item 'chrUn\\_NW\\_014644383v1'\n",
       "\\item 'chrUn\\_NW\\_014644384v1'\n",
       "\\item 'chrUn\\_NW\\_014644385v1'\n",
       "\\item 'chrUn\\_NW\\_014644386v1'\n",
       "\\item 'chrUn\\_NW\\_014644387v1'\n",
       "\\item 'chrUn\\_NW\\_014644388v1'\n",
       "\\item 'chrUn\\_NW\\_014644389v1'\n",
       "\\item 'chrUn\\_NW\\_014644390v1'\n",
       "\\item 'chrUn\\_NW\\_014644391v1'\n",
       "\\item 'chrUn\\_NW\\_014644392v1'\n",
       "\\item 'chrUn\\_NW\\_014644393v1'\n",
       "\\item 'chrUn\\_NW\\_014644394v1'\n",
       "\\item 'chrUn\\_NW\\_014644395v1'\n",
       "\\item 'chrUn\\_NW\\_014644396v1'\n",
       "\\item 'chrUn\\_NW\\_014644397v1'\n",
       "\\item 'chrUn\\_NW\\_014644398v1'\n",
       "\\item 'chrUn\\_NW\\_014644399v1'\n",
       "\\item 'chrUn\\_NW\\_014644400v1'\n",
       "\\item 'chrUn\\_NW\\_014644401v1'\n",
       "\\item 'chrUn\\_NW\\_014644402v1'\n",
       "\\item 'chrUn\\_NW\\_014644403v1'\n",
       "\\item 'chrUn\\_NW\\_014644404v1'\n",
       "\\item 'chrUn\\_NW\\_014644405v1'\n",
       "\\item 'chrUn\\_NW\\_014644406v1'\n",
       "\\item 'chrUn\\_NW\\_014644407v1'\n",
       "\\item 'chrUn\\_NW\\_014644408v1'\n",
       "\\item 'chrUn\\_NW\\_014644409v1'\n",
       "\\item 'chrUn\\_NW\\_014644410v1'\n",
       "\\item 'chrUn\\_NW\\_014644411v1'\n",
       "\\item 'chrUn\\_NW\\_014644412v1'\n",
       "\\item 'chrUn\\_NW\\_014644413v1'\n",
       "\\item 'chrUn\\_NW\\_014644414v1'\n",
       "\\item 'chrUn\\_NW\\_014644415v1'\n",
       "\\item 'chrUn\\_NW\\_014644416v1'\n",
       "\\item 'chrUn\\_NW\\_014644417v1'\n",
       "\\item 'chrUn\\_NW\\_014644418v1'\n",
       "\\item 'chrUn\\_NW\\_014644419v1'\n",
       "\\item 'chrUn\\_NW\\_014644420v1'\n",
       "\\item 'chrUn\\_NW\\_014644421v1'\n",
       "\\item 'chrUn\\_NW\\_014644422v1'\n",
       "\\item 'chrUn\\_NW\\_014644423v1'\n",
       "\\item 'chrUn\\_NW\\_014644424v1'\n",
       "\\item 'chrUn\\_NW\\_014644425v1'\n",
       "\\item 'chrUn\\_NW\\_014644426v1'\n",
       "\\item 'chrUn\\_NW\\_014644427v1'\n",
       "\\item 'chrUn\\_NW\\_014644428v1'\n",
       "\\item 'chrUn\\_NW\\_014644429v1'\n",
       "\\item 'chrUn\\_NW\\_014644430v1'\n",
       "\\item 'chrUn\\_NW\\_014644431v1'\n",
       "\\item 'chrUn\\_NW\\_014644432v1'\n",
       "\\item 'chrUn\\_NW\\_014644433v1'\n",
       "\\item 'chrUn\\_NW\\_014644434v1'\n",
       "\\item 'chrUn\\_NW\\_014644435v1'\n",
       "\\item 'chrUn\\_NW\\_014644436v1'\n",
       "\\item 'chrUn\\_NW\\_014644437v1'\n",
       "\\item 'chrUn\\_NW\\_014644438v1'\n",
       "\\item 'chrUn\\_NW\\_014644439v1'\n",
       "\\item 'chrUn\\_NW\\_014644440v1'\n",
       "\\item 'chrUn\\_NW\\_014644441v1'\n",
       "\\item 'chrUn\\_NW\\_014644442v1'\n",
       "\\item 'chrUn\\_NW\\_014644443v1'\n",
       "\\item 'chrUn\\_NW\\_014644444v1'\n",
       "\\item 'chrUn\\_NW\\_014644445v1'\n",
       "\\item 'chrUn\\_NW\\_014644446v1'\n",
       "\\item 'chrUn\\_NW\\_014644447v1'\n",
       "\\item 'chrUn\\_NW\\_014644448v1'\n",
       "\\item 'chrUn\\_NW\\_014644449v1'\n",
       "\\item 'chrUn\\_NW\\_014644450v1'\n",
       "\\item 'chrUn\\_NW\\_014644451v1'\n",
       "\\item 'chrUn\\_NW\\_014644452v1'\n",
       "\\item 'chrUn\\_NW\\_014644453v1'\n",
       "\\item 'chrUn\\_NW\\_014644454v1'\n",
       "\\item 'chrUn\\_NW\\_014644455v1'\n",
       "\\item 'chrUn\\_NW\\_014644456v1'\n",
       "\\item 'chrUn\\_NW\\_014644457v1'\n",
       "\\item 'chrUn\\_NW\\_014644458v1'\n",
       "\\item 'chrUn\\_NW\\_014644459v1'\n",
       "\\item 'chrUn\\_NW\\_014644460v1'\n",
       "\\item 'chrUn\\_NW\\_014644461v1'\n",
       "\\item 'chrUn\\_NW\\_014644462v1'\n",
       "\\item 'chrUn\\_NW\\_014644463v1'\n",
       "\\item 'chrUn\\_NW\\_014644464v1'\n",
       "\\item 'chrUn\\_NW\\_014644465v1'\n",
       "\\item 'chrUn\\_NW\\_014644466v1'\n",
       "\\item 'chrUn\\_NW\\_014644467v1'\n",
       "\\item 'chrUn\\_NW\\_014644468v1'\n",
       "\\item 'chrUn\\_NW\\_014644469v1'\n",
       "\\item 'chrUn\\_NW\\_014644470v1'\n",
       "\\item 'chrUn\\_NW\\_014644471v1'\n",
       "\\item 'chrUn\\_NW\\_014644472v1'\n",
       "\\item 'chrUn\\_NW\\_014644473v1'\n",
       "\\item 'chrUn\\_NW\\_014644474v1'\n",
       "\\item 'chrX'\n",
       "\\end{enumerate*}\n"
      ],
      "text/markdown": [
       "chr7\n",
       "**Levels**: 1. 'chr1'\n",
       "2. 'chr10'\n",
       "3. 'chr11'\n",
       "4. 'chr12'\n",
       "5. 'chr13'\n",
       "6. 'chr14'\n",
       "7. 'chr15'\n",
       "8. 'chr16'\n",
       "9. 'chr17'\n",
       "10. 'chr18'\n",
       "11. 'chr19'\n",
       "12. 'chr2'\n",
       "13. 'chr20'\n",
       "14. 'chr21'\n",
       "15. 'chr22'\n",
       "16. 'chr23'\n",
       "17. 'chr24'\n",
       "18. 'chr25'\n",
       "19. 'chr26'\n",
       "20. 'chr3'\n",
       "21. 'chr4'\n",
       "22. 'chr5'\n",
       "23. 'chr6'\n",
       "24. 'chr7'\n",
       "25. 'chr8'\n",
       "26. 'chr9'\n",
       "27. 'chrM'\n",
       "28. 'chrUn_NW_014639037v1'\n",
       "29. 'chrUn_NW_014639038v1'\n",
       "30. 'chrUn_NW_014639039v1'\n",
       "31. 'chrUn_NW_014639040v1'\n",
       "32. 'chrUn_NW_014639041v1'\n",
       "33. 'chrUn_NW_014639042v1'\n",
       "34. 'chrUn_NW_014639043v1'\n",
       "35. 'chrUn_NW_014639044v1'\n",
       "36. 'chrUn_NW_014639045v1'\n",
       "37. 'chrUn_NW_014639046v1'\n",
       "38. 'chrUn_NW_014639047v1'\n",
       "39. 'chrUn_NW_014639048v1'\n",
       "40. 'chrUn_NW_014639049v1'\n",
       "41. 'chrUn_NW_014639050v1'\n",
       "42. 'chrUn_NW_014639051v1'\n",
       "43. 'chrUn_NW_014639052v1'\n",
       "44. 'chrUn_NW_014639053v1'\n",
       "45. 'chrUn_NW_014639054v1'\n",
       "46. 'chrUn_NW_014639055v1'\n",
       "47. 'chrUn_NW_014639056v1'\n",
       "48. 'chrUn_NW_014639057v1'\n",
       "49. 'chrUn_NW_014639058v1'\n",
       "50. 'chrUn_NW_014639059v1'\n",
       "51. 'chrUn_NW_014639060v1'\n",
       "52. 'chrUn_NW_014639061v1'\n",
       "53. 'chrUn_NW_014639062v1'\n",
       "54. 'chrUn_NW_014639063v1'\n",
       "55. 'chrUn_NW_014639064v1'\n",
       "56. 'chrUn_NW_014639065v1'\n",
       "57. 'chrUn_NW_014639066v1'\n",
       "58. 'chrUn_NW_014639067v1'\n",
       "59. 'chrUn_NW_014639068v1'\n",
       "60. 'chrUn_NW_014639069v1'\n",
       "61. 'chrUn_NW_014639070v1'\n",
       "62. 'chrUn_NW_014639071v1'\n",
       "63. 'chrUn_NW_014639072v1'\n",
       "64. 'chrUn_NW_014639073v1'\n",
       "65. 'chrUn_NW_014639074v1'\n",
       "66. 'chrUn_NW_014639075v1'\n",
       "67. 'chrUn_NW_014639076v1'\n",
       "68. 'chrUn_NW_014639077v1'\n",
       "69. 'chrUn_NW_014639078v1'\n",
       "70. 'chrUn_NW_014639079v1'\n",
       "71. 'chrUn_NW_014639080v1'\n",
       "72. 'chrUn_NW_014639081v1'\n",
       "73. 'chrUn_NW_014639082v1'\n",
       "74. 'chrUn_NW_014639083v1'\n",
       "75. 'chrUn_NW_014639084v1'\n",
       "76. 'chrUn_NW_014639085v1'\n",
       "77. 'chrUn_NW_014639086v1'\n",
       "78. 'chrUn_NW_014639087v1'\n",
       "79. 'chrUn_NW_014639088v1'\n",
       "80. 'chrUn_NW_014639089v1'\n",
       "81. 'chrUn_NW_014639090v1'\n",
       "82. 'chrUn_NW_014639091v1'\n",
       "83. 'chrUn_NW_014639092v1'\n",
       "84. 'chrUn_NW_014639093v1'\n",
       "85. 'chrUn_NW_014639094v1'\n",
       "86. 'chrUn_NW_014639095v1'\n",
       "87. 'chrUn_NW_014639096v1'\n",
       "88. 'chrUn_NW_014639097v1'\n",
       "89. 'chrUn_NW_014639098v1'\n",
       "90. 'chrUn_NW_014639099v1'\n",
       "91. 'chrUn_NW_014639100v1'\n",
       "92. 'chrUn_NW_014639101v1'\n",
       "93. 'chrUn_NW_014639102v1'\n",
       "94. 'chrUn_NW_014639103v1'\n",
       "95. 'chrUn_NW_014639104v1'\n",
       "96. 'chrUn_NW_014639105v1'\n",
       "97. 'chrUn_NW_014639106v1'\n",
       "98. 'chrUn_NW_014639107v1'\n",
       "99. 'chrUn_NW_014639108v1'\n",
       "100. 'chrUn_NW_014639109v1'\n",
       "101. 'chrUn_NW_014639110v1'\n",
       "102. 'chrUn_NW_014639111v1'\n",
       "103. 'chrUn_NW_014639112v1'\n",
       "104. 'chrUn_NW_014639113v1'\n",
       "105. 'chrUn_NW_014639114v1'\n",
       "106. 'chrUn_NW_014639115v1'\n",
       "107. 'chrUn_NW_014639116v1'\n",
       "108. 'chrUn_NW_014639117v1'\n",
       "109. 'chrUn_NW_014639118v1'\n",
       "110. 'chrUn_NW_014639119v1'\n",
       "111. 'chrUn_NW_014639120v1'\n",
       "112. 'chrUn_NW_014639121v1'\n",
       "113. 'chrUn_NW_014639122v1'\n",
       "114. 'chrUn_NW_014639123v1'\n",
       "115. 'chrUn_NW_014639124v1'\n",
       "116. 'chrUn_NW_014639125v1'\n",
       "117. 'chrUn_NW_014639126v1'\n",
       "118. 'chrUn_NW_014639127v1'\n",
       "119. 'chrUn_NW_014639128v1'\n",
       "120. 'chrUn_NW_014639129v1'\n",
       "121. 'chrUn_NW_014639130v1'\n",
       "122. 'chrUn_NW_014639131v1'\n",
       "123. 'chrUn_NW_014639132v1'\n",
       "124. 'chrUn_NW_014639133v1'\n",
       "125. 'chrUn_NW_014639134v1'\n",
       "126. 'chrUn_NW_014639135v1'\n",
       "127. 'chrUn_NW_014639136v1'\n",
       "128. 'chrUn_NW_014639137v1'\n",
       "129. 'chrUn_NW_014639138v1'\n",
       "130. 'chrUn_NW_014639139v1'\n",
       "131. 'chrUn_NW_014639140v1'\n",
       "132. 'chrUn_NW_014639141v1'\n",
       "133. 'chrUn_NW_014639142v1'\n",
       "134. 'chrUn_NW_014639143v1'\n",
       "135. 'chrUn_NW_014639144v1'\n",
       "136. 'chrUn_NW_014639145v1'\n",
       "137. 'chrUn_NW_014639146v1'\n",
       "138. 'chrUn_NW_014639147v1'\n",
       "139. 'chrUn_NW_014639148v1'\n",
       "140. 'chrUn_NW_014639149v1'\n",
       "141. 'chrUn_NW_014639150v1'\n",
       "142. 'chrUn_NW_014639151v1'\n",
       "143. 'chrUn_NW_014639152v1'\n",
       "144. 'chrUn_NW_014639153v1'\n",
       "145. 'chrUn_NW_014639154v1'\n",
       "146. 'chrUn_NW_014639155v1'\n",
       "147. 'chrUn_NW_014639156v1'\n",
       "148. 'chrUn_NW_014639157v1'\n",
       "149. 'chrUn_NW_014639158v1'\n",
       "150. 'chrUn_NW_014639159v1'\n",
       "151. 'chrUn_NW_014639160v1'\n",
       "152. 'chrUn_NW_014639161v1'\n",
       "153. 'chrUn_NW_014639162v1'\n",
       "154. 'chrUn_NW_014639163v1'\n",
       "155. 'chrUn_NW_014639164v1'\n",
       "156. 'chrUn_NW_014639165v1'\n",
       "157. 'chrUn_NW_014639166v1'\n",
       "158. 'chrUn_NW_014639167v1'\n",
       "159. 'chrUn_NW_014639168v1'\n",
       "160. 'chrUn_NW_014639169v1'\n",
       "161. 'chrUn_NW_014639170v1'\n",
       "162. 'chrUn_NW_014639171v1'\n",
       "163. 'chrUn_NW_014639172v1'\n",
       "164. 'chrUn_NW_014639173v1'\n",
       "165. 'chrUn_NW_014639174v1'\n",
       "166. 'chrUn_NW_014639175v1'\n",
       "167. 'chrUn_NW_014639176v1'\n",
       "168. 'chrUn_NW_014639177v1'\n",
       "169. 'chrUn_NW_014639178v1'\n",
       "170. 'chrUn_NW_014639179v1'\n",
       "171. 'chrUn_NW_014639180v1'\n",
       "172. 'chrUn_NW_014639181v1'\n",
       "173. 'chrUn_NW_014639182v1'\n",
       "174. 'chrUn_NW_014639183v1'\n",
       "175. 'chrUn_NW_014639184v1'\n",
       "176. 'chrUn_NW_014639185v1'\n",
       "177. 'chrUn_NW_014639186v1'\n",
       "178. 'chrUn_NW_014639187v1'\n",
       "179. 'chrUn_NW_014639188v1'\n",
       "180. 'chrUn_NW_014639189v1'\n",
       "181. 'chrUn_NW_014639190v1'\n",
       "182. 'chrUn_NW_014639191v1'\n",
       "183. 'chrUn_NW_014639192v1'\n",
       "184. 'chrUn_NW_014639193v1'\n",
       "185. 'chrUn_NW_014639194v1'\n",
       "186. 'chrUn_NW_014639195v1'\n",
       "187. 'chrUn_NW_014639196v1'\n",
       "188. 'chrUn_NW_014639197v1'\n",
       "189. 'chrUn_NW_014639198v1'\n",
       "190. 'chrUn_NW_014639199v1'\n",
       "191. 'chrUn_NW_014639200v1'\n",
       "192. 'chrUn_NW_014639201v1'\n",
       "193. 'chrUn_NW_014639202v1'\n",
       "194. 'chrUn_NW_014639203v1'\n",
       "195. 'chrUn_NW_014639204v1'\n",
       "196. 'chrUn_NW_014639205v1'\n",
       "197. 'chrUn_NW_014639206v1'\n",
       "198. 'chrUn_NW_014639207v1'\n",
       "199. 'chrUn_NW_014639208v1'\n",
       "200. 'chrUn_NW_014639209v1'\n",
       "201. ⋯\n",
       "202. 'chrUn_NW_014644276v1'\n",
       "203. 'chrUn_NW_014644277v1'\n",
       "204. 'chrUn_NW_014644278v1'\n",
       "205. 'chrUn_NW_014644279v1'\n",
       "206. 'chrUn_NW_014644280v1'\n",
       "207. 'chrUn_NW_014644281v1'\n",
       "208. 'chrUn_NW_014644282v1'\n",
       "209. 'chrUn_NW_014644283v1'\n",
       "210. 'chrUn_NW_014644284v1'\n",
       "211. 'chrUn_NW_014644285v1'\n",
       "212. 'chrUn_NW_014644286v1'\n",
       "213. 'chrUn_NW_014644287v1'\n",
       "214. 'chrUn_NW_014644288v1'\n",
       "215. 'chrUn_NW_014644289v1'\n",
       "216. 'chrUn_NW_014644290v1'\n",
       "217. 'chrUn_NW_014644291v1'\n",
       "218. 'chrUn_NW_014644292v1'\n",
       "219. 'chrUn_NW_014644293v1'\n",
       "220. 'chrUn_NW_014644294v1'\n",
       "221. 'chrUn_NW_014644295v1'\n",
       "222. 'chrUn_NW_014644296v1'\n",
       "223. 'chrUn_NW_014644297v1'\n",
       "224. 'chrUn_NW_014644298v1'\n",
       "225. 'chrUn_NW_014644299v1'\n",
       "226. 'chrUn_NW_014644300v1'\n",
       "227. 'chrUn_NW_014644301v1'\n",
       "228. 'chrUn_NW_014644302v1'\n",
       "229. 'chrUn_NW_014644303v1'\n",
       "230. 'chrUn_NW_014644304v1'\n",
       "231. 'chrUn_NW_014644305v1'\n",
       "232. 'chrUn_NW_014644306v1'\n",
       "233. 'chrUn_NW_014644307v1'\n",
       "234. 'chrUn_NW_014644308v1'\n",
       "235. 'chrUn_NW_014644309v1'\n",
       "236. 'chrUn_NW_014644310v1'\n",
       "237. 'chrUn_NW_014644311v1'\n",
       "238. 'chrUn_NW_014644312v1'\n",
       "239. 'chrUn_NW_014644313v1'\n",
       "240. 'chrUn_NW_014644314v1'\n",
       "241. 'chrUn_NW_014644315v1'\n",
       "242. 'chrUn_NW_014644316v1'\n",
       "243. 'chrUn_NW_014644317v1'\n",
       "244. 'chrUn_NW_014644318v1'\n",
       "245. 'chrUn_NW_014644319v1'\n",
       "246. 'chrUn_NW_014644320v1'\n",
       "247. 'chrUn_NW_014644321v1'\n",
       "248. 'chrUn_NW_014644322v1'\n",
       "249. 'chrUn_NW_014644323v1'\n",
       "250. 'chrUn_NW_014644324v1'\n",
       "251. 'chrUn_NW_014644325v1'\n",
       "252. 'chrUn_NW_014644326v1'\n",
       "253. 'chrUn_NW_014644327v1'\n",
       "254. 'chrUn_NW_014644328v1'\n",
       "255. 'chrUn_NW_014644329v1'\n",
       "256. 'chrUn_NW_014644330v1'\n",
       "257. 'chrUn_NW_014644331v1'\n",
       "258. 'chrUn_NW_014644332v1'\n",
       "259. 'chrUn_NW_014644333v1'\n",
       "260. 'chrUn_NW_014644334v1'\n",
       "261. 'chrUn_NW_014644335v1'\n",
       "262. 'chrUn_NW_014644336v1'\n",
       "263. 'chrUn_NW_014644337v1'\n",
       "264. 'chrUn_NW_014644338v1'\n",
       "265. 'chrUn_NW_014644339v1'\n",
       "266. 'chrUn_NW_014644340v1'\n",
       "267. 'chrUn_NW_014644341v1'\n",
       "268. 'chrUn_NW_014644342v1'\n",
       "269. 'chrUn_NW_014644343v1'\n",
       "270. 'chrUn_NW_014644344v1'\n",
       "271. 'chrUn_NW_014644345v1'\n",
       "272. 'chrUn_NW_014644346v1'\n",
       "273. 'chrUn_NW_014644347v1'\n",
       "274. 'chrUn_NW_014644348v1'\n",
       "275. 'chrUn_NW_014644349v1'\n",
       "276. 'chrUn_NW_014644350v1'\n",
       "277. 'chrUn_NW_014644351v1'\n",
       "278. 'chrUn_NW_014644352v1'\n",
       "279. 'chrUn_NW_014644353v1'\n",
       "280. 'chrUn_NW_014644354v1'\n",
       "281. 'chrUn_NW_014644355v1'\n",
       "282. 'chrUn_NW_014644356v1'\n",
       "283. 'chrUn_NW_014644357v1'\n",
       "284. 'chrUn_NW_014644358v1'\n",
       "285. 'chrUn_NW_014644359v1'\n",
       "286. 'chrUn_NW_014644360v1'\n",
       "287. 'chrUn_NW_014644361v1'\n",
       "288. 'chrUn_NW_014644362v1'\n",
       "289. 'chrUn_NW_014644363v1'\n",
       "290. 'chrUn_NW_014644364v1'\n",
       "291. 'chrUn_NW_014644365v1'\n",
       "292. 'chrUn_NW_014644366v1'\n",
       "293. 'chrUn_NW_014644367v1'\n",
       "294. 'chrUn_NW_014644368v1'\n",
       "295. 'chrUn_NW_014644369v1'\n",
       "296. 'chrUn_NW_014644370v1'\n",
       "297. 'chrUn_NW_014644371v1'\n",
       "298. 'chrUn_NW_014644372v1'\n",
       "299. 'chrUn_NW_014644373v1'\n",
       "300. 'chrUn_NW_014644374v1'\n",
       "301. 'chrUn_NW_014644375v1'\n",
       "302. 'chrUn_NW_014644376v1'\n",
       "303. 'chrUn_NW_014644377v1'\n",
       "304. 'chrUn_NW_014644378v1'\n",
       "305. 'chrUn_NW_014644379v1'\n",
       "306. 'chrUn_NW_014644380v1'\n",
       "307. 'chrUn_NW_014644381v1'\n",
       "308. 'chrUn_NW_014644382v1'\n",
       "309. 'chrUn_NW_014644383v1'\n",
       "310. 'chrUn_NW_014644384v1'\n",
       "311. 'chrUn_NW_014644385v1'\n",
       "312. 'chrUn_NW_014644386v1'\n",
       "313. 'chrUn_NW_014644387v1'\n",
       "314. 'chrUn_NW_014644388v1'\n",
       "315. 'chrUn_NW_014644389v1'\n",
       "316. 'chrUn_NW_014644390v1'\n",
       "317. 'chrUn_NW_014644391v1'\n",
       "318. 'chrUn_NW_014644392v1'\n",
       "319. 'chrUn_NW_014644393v1'\n",
       "320. 'chrUn_NW_014644394v1'\n",
       "321. 'chrUn_NW_014644395v1'\n",
       "322. 'chrUn_NW_014644396v1'\n",
       "323. 'chrUn_NW_014644397v1'\n",
       "324. 'chrUn_NW_014644398v1'\n",
       "325. 'chrUn_NW_014644399v1'\n",
       "326. 'chrUn_NW_014644400v1'\n",
       "327. 'chrUn_NW_014644401v1'\n",
       "328. 'chrUn_NW_014644402v1'\n",
       "329. 'chrUn_NW_014644403v1'\n",
       "330. 'chrUn_NW_014644404v1'\n",
       "331. 'chrUn_NW_014644405v1'\n",
       "332. 'chrUn_NW_014644406v1'\n",
       "333. 'chrUn_NW_014644407v1'\n",
       "334. 'chrUn_NW_014644408v1'\n",
       "335. 'chrUn_NW_014644409v1'\n",
       "336. 'chrUn_NW_014644410v1'\n",
       "337. 'chrUn_NW_014644411v1'\n",
       "338. 'chrUn_NW_014644412v1'\n",
       "339. 'chrUn_NW_014644413v1'\n",
       "340. 'chrUn_NW_014644414v1'\n",
       "341. 'chrUn_NW_014644415v1'\n",
       "342. 'chrUn_NW_014644416v1'\n",
       "343. 'chrUn_NW_014644417v1'\n",
       "344. 'chrUn_NW_014644418v1'\n",
       "345. 'chrUn_NW_014644419v1'\n",
       "346. 'chrUn_NW_014644420v1'\n",
       "347. 'chrUn_NW_014644421v1'\n",
       "348. 'chrUn_NW_014644422v1'\n",
       "349. 'chrUn_NW_014644423v1'\n",
       "350. 'chrUn_NW_014644424v1'\n",
       "351. 'chrUn_NW_014644425v1'\n",
       "352. 'chrUn_NW_014644426v1'\n",
       "353. 'chrUn_NW_014644427v1'\n",
       "354. 'chrUn_NW_014644428v1'\n",
       "355. 'chrUn_NW_014644429v1'\n",
       "356. 'chrUn_NW_014644430v1'\n",
       "357. 'chrUn_NW_014644431v1'\n",
       "358. 'chrUn_NW_014644432v1'\n",
       "359. 'chrUn_NW_014644433v1'\n",
       "360. 'chrUn_NW_014644434v1'\n",
       "361. 'chrUn_NW_014644435v1'\n",
       "362. 'chrUn_NW_014644436v1'\n",
       "363. 'chrUn_NW_014644437v1'\n",
       "364. 'chrUn_NW_014644438v1'\n",
       "365. 'chrUn_NW_014644439v1'\n",
       "366. 'chrUn_NW_014644440v1'\n",
       "367. 'chrUn_NW_014644441v1'\n",
       "368. 'chrUn_NW_014644442v1'\n",
       "369. 'chrUn_NW_014644443v1'\n",
       "370. 'chrUn_NW_014644444v1'\n",
       "371. 'chrUn_NW_014644445v1'\n",
       "372. 'chrUn_NW_014644446v1'\n",
       "373. 'chrUn_NW_014644447v1'\n",
       "374. 'chrUn_NW_014644448v1'\n",
       "375. 'chrUn_NW_014644449v1'\n",
       "376. 'chrUn_NW_014644450v1'\n",
       "377. 'chrUn_NW_014644451v1'\n",
       "378. 'chrUn_NW_014644452v1'\n",
       "379. 'chrUn_NW_014644453v1'\n",
       "380. 'chrUn_NW_014644454v1'\n",
       "381. 'chrUn_NW_014644455v1'\n",
       "382. 'chrUn_NW_014644456v1'\n",
       "383. 'chrUn_NW_014644457v1'\n",
       "384. 'chrUn_NW_014644458v1'\n",
       "385. 'chrUn_NW_014644459v1'\n",
       "386. 'chrUn_NW_014644460v1'\n",
       "387. 'chrUn_NW_014644461v1'\n",
       "388. 'chrUn_NW_014644462v1'\n",
       "389. 'chrUn_NW_014644463v1'\n",
       "390. 'chrUn_NW_014644464v1'\n",
       "391. 'chrUn_NW_014644465v1'\n",
       "392. 'chrUn_NW_014644466v1'\n",
       "393. 'chrUn_NW_014644467v1'\n",
       "394. 'chrUn_NW_014644468v1'\n",
       "395. 'chrUn_NW_014644469v1'\n",
       "396. 'chrUn_NW_014644470v1'\n",
       "397. 'chrUn_NW_014644471v1'\n",
       "398. 'chrUn_NW_014644472v1'\n",
       "399. 'chrUn_NW_014644473v1'\n",
       "400. 'chrUn_NW_014644474v1'\n",
       "401. 'chrX'\n",
       "\n",
       "\n"
      ],
      "text/plain": [
       "[1] chr7\n",
       "5466 Levels: chr1 chr10 chr11 chr12 chr13 chr14 chr15 chr16 chr17 chr18 ... chrX"
      ]
     },
     "metadata": {},
     "output_type": "display_data"
    }
   ],
   "source": [
    "chrom_sizes[chrom_id + 1]$V1"
   ]
  },
  {
   "cell_type": "code",
   "execution_count": 191,
   "id": "medium-philadelphia",
   "metadata": {
    "tags": []
   },
   "outputs": [
    {
     "name": "stdout",
     "output_type": "stream",
     "text": [
      "[1] 8\n",
      "[1] \"chr7\"\n",
      "[1] 10\n",
      "[1] \"chr8\"\n",
      "[1] 12\n",
      "[1] \"chr13\"\n",
      "[1] 14\n",
      "[1] \"chr12\"\n",
      "[1] 16\n",
      "[1] \"chr16\"\n",
      "[1] 18\n",
      "[1] \"chr14\"\n",
      "[1] 21\n",
      "[1] \"chr19\"\n",
      "[1] 24\n",
      "[1] \"chr21\"\n",
      "[1] 27\n",
      "[1] \"chr24\"\n",
      "[1] 5467\n"
     ]
    }
   ],
   "source": [
    "chrom_id = chrom_id + 1\n",
    "j = chrom_id ##first row of the leftover\n",
    "\n",
    "print(j)\n",
    "while(j < NROW(chrom_sizes)){\n",
    "    i = j ## getting the moving count\n",
    "    used_length = chrom_sizes[i]$V2\n",
    "    print(as.character(chrom_sizes[i]$V1))\n",
    "    while(used_length < tile_size && i  < NROW(chrom_sizes)){\n",
    "        i = i+1\n",
    "        used_length = used_length + chrom_sizes[i]$V2 ## next chromosome to add\n",
    "    }\n",
    "    chrom.map <- rbind(chrom.map, list(\"new\" = paste0(\"chrArt\",chrom_id), \"old\" = paste(as.character(chrom_sizes[c(j:i)]$V1), collapse = \";\")))\n",
    "    cat(paste0(\">chrArt\",chrom_id), file = \"../../resources/reference_genomes/genomes/Oaries/oviAri4_concatinated.fa\", sep = \"\\n\", append = T) \n",
    "    cat(paste(as.character(fa_file[chrom_sizes[c(j:i)]$V1]), collapse = linker), file = \"../../resources/reference_genomes/genomes/Oaries/oviAri4_concatinated.fa\", sep = \"\\n\", append = T)\n",
    "    j = i + 1 ## moving on to the next chromosome(that is not included yet)\n",
    "    print(j)\n",
    "    chrom_id <- chrom_id + 1  ## starting the new artificial chromosome\n",
    "}"
   ]
  },
  {
   "cell_type": "code",
   "execution_count": 192,
   "id": "constant-justice",
   "metadata": {},
   "outputs": [
    {
     "data": {
      "text/html": [
       "<table class=\"dataframe\">\n",
       "<caption>A data.table: 1 × 2</caption>\n",
       "<thead>\n",
       "\t<tr><th scope=col>V1</th><th scope=col>V2</th></tr>\n",
       "\t<tr><th scope=col>&lt;fct&gt;</th><th scope=col>&lt;int&gt;</th></tr>\n",
       "</thead>\n",
       "<tbody>\n",
       "\t<tr><td>chr7</td><td>100009711</td></tr>\n",
       "</tbody>\n",
       "</table>\n"
      ],
      "text/latex": [
       "A data.table: 1 × 2\n",
       "\\begin{tabular}{ll}\n",
       " V1 & V2\\\\\n",
       " <fct> & <int>\\\\\n",
       "\\hline\n",
       "\t chr7 & 100009711\\\\\n",
       "\\end{tabular}\n"
      ],
      "text/markdown": [
       "\n",
       "A data.table: 1 × 2\n",
       "\n",
       "| V1 &lt;fct&gt; | V2 &lt;int&gt; |\n",
       "|---|---|\n",
       "| chr7 | 100009711 |\n",
       "\n"
      ],
      "text/plain": [
       "  V1   V2       \n",
       "1 chr7 100009711"
      ]
     },
     "metadata": {},
     "output_type": "display_data"
    }
   ],
   "source": [
    "chrom_sizes[8]"
   ]
  },
  {
   "cell_type": "code",
   "execution_count": 193,
   "id": "attached-specification",
   "metadata": {},
   "outputs": [
    {
     "data": {
      "text/html": [
       "<table class=\"dataframe\">\n",
       "<caption>A data.table: 15 × 2</caption>\n",
       "<thead>\n",
       "\t<tr><th scope=col>new</th><th scope=col>old</th></tr>\n",
       "\t<tr><th scope=col>&lt;chr&gt;</th><th scope=col>&lt;chr&gt;</th></tr>\n",
       "</thead>\n",
       "<tbody>\n",
       "\t<tr><td>chrArt1 </td><td>chr1             </td></tr>\n",
       "\t<tr><td>chrArt2 </td><td>chr2             </td></tr>\n",
       "\t<tr><td>chrArt3 </td><td>chr3             </td></tr>\n",
       "\t<tr><td>chrArt4 </td><td>chrX             </td></tr>\n",
       "\t<tr><td>chrArt5 </td><td>chr4             </td></tr>\n",
       "\t<tr><td>chrArt6 </td><td>chr6             </td></tr>\n",
       "\t<tr><td>chrArt7 </td><td>chr5             </td></tr>\n",
       "\t<tr><td>chrArt8 </td><td>chr7;chr9        </td></tr>\n",
       "\t<tr><td>chrArt9 </td><td>chr8;chr10       </td></tr>\n",
       "\t<tr><td>chrArt10</td><td>chr13;chr15      </td></tr>\n",
       "\t<tr><td>chrArt11</td><td>chr12;chr17      </td></tr>\n",
       "\t<tr><td>chrArt12</td><td>chr16;chr18      </td></tr>\n",
       "\t<tr><td>chrArt13</td><td>chr14;chr23;chr11</td></tr>\n",
       "\t<tr><td>chrArt14</td><td>chr19;chr20;chr22</td></tr>\n",
       "\t<tr><td>chrArt15</td><td>chr21;chr25;chr26</td></tr>\n",
       "</tbody>\n",
       "</table>\n"
      ],
      "text/latex": [
       "A data.table: 15 × 2\n",
       "\\begin{tabular}{ll}\n",
       " new & old\\\\\n",
       " <chr> & <chr>\\\\\n",
       "\\hline\n",
       "\t chrArt1  & chr1             \\\\\n",
       "\t chrArt2  & chr2             \\\\\n",
       "\t chrArt3  & chr3             \\\\\n",
       "\t chrArt4  & chrX             \\\\\n",
       "\t chrArt5  & chr4             \\\\\n",
       "\t chrArt6  & chr6             \\\\\n",
       "\t chrArt7  & chr5             \\\\\n",
       "\t chrArt8  & chr7;chr9        \\\\\n",
       "\t chrArt9  & chr8;chr10       \\\\\n",
       "\t chrArt10 & chr13;chr15      \\\\\n",
       "\t chrArt11 & chr12;chr17      \\\\\n",
       "\t chrArt12 & chr16;chr18      \\\\\n",
       "\t chrArt13 & chr14;chr23;chr11\\\\\n",
       "\t chrArt14 & chr19;chr20;chr22\\\\\n",
       "\t chrArt15 & chr21;chr25;chr26\\\\\n",
       "\\end{tabular}\n"
      ],
      "text/markdown": [
       "\n",
       "A data.table: 15 × 2\n",
       "\n",
       "| new &lt;chr&gt; | old &lt;chr&gt; |\n",
       "|---|---|\n",
       "| chrArt1  | chr1              |\n",
       "| chrArt2  | chr2              |\n",
       "| chrArt3  | chr3              |\n",
       "| chrArt4  | chrX              |\n",
       "| chrArt5  | chr4              |\n",
       "| chrArt6  | chr6              |\n",
       "| chrArt7  | chr5              |\n",
       "| chrArt8  | chr7;chr9         |\n",
       "| chrArt9  | chr8;chr10        |\n",
       "| chrArt10 | chr13;chr15       |\n",
       "| chrArt11 | chr12;chr17       |\n",
       "| chrArt12 | chr16;chr18       |\n",
       "| chrArt13 | chr14;chr23;chr11 |\n",
       "| chrArt14 | chr19;chr20;chr22 |\n",
       "| chrArt15 | chr21;chr25;chr26 |\n",
       "\n"
      ],
      "text/plain": [
       "   new      old              \n",
       "1  chrArt1  chr1             \n",
       "2  chrArt2  chr2             \n",
       "3  chrArt3  chr3             \n",
       "4  chrArt4  chrX             \n",
       "5  chrArt5  chr4             \n",
       "6  chrArt6  chr6             \n",
       "7  chrArt7  chr5             \n",
       "8  chrArt8  chr7;chr9        \n",
       "9  chrArt9  chr8;chr10       \n",
       "10 chrArt10 chr13;chr15      \n",
       "11 chrArt11 chr12;chr17      \n",
       "12 chrArt12 chr16;chr18      \n",
       "13 chrArt13 chr14;chr23;chr11\n",
       "14 chrArt14 chr19;chr20;chr22\n",
       "15 chrArt15 chr21;chr25;chr26"
      ]
     },
     "metadata": {},
     "output_type": "display_data"
    }
   ],
   "source": [
    "head(chrom.map, n = 15)"
   ]
  },
  {
   "cell_type": "code",
   "execution_count": 197,
   "id": "rubber-money",
   "metadata": {},
   "outputs": [],
   "source": [
    "write.table(chrom.map, \"../../resources/reference_genomes/genomes//Oaries/oviAri4_chrom_mapping.tsv\", sep = \"\\t\", row.names = F, quote = F)"
   ]
  },
  {
   "cell_type": "code",
   "execution_count": 63,
   "id": "hollywood-style",
   "metadata": {},
   "outputs": [],
   "source": [
    "linker = paste(rep(\"N\", 100), collapse = \"\")"
   ]
  }
 ],
 "metadata": {
  "kernelspec": {
   "display_name": "R_crossSp_361",
   "language": "R",
   "name": "r_crosssp"
  },
  "language_info": {
   "codemirror_mode": "r",
   "file_extension": ".r",
   "mimetype": "text/x-r-source",
   "name": "R",
   "pygments_lexer": "r",
   "version": "3.6.1"
  }
 },
 "nbformat": 4,
 "nbformat_minor": 5
}
