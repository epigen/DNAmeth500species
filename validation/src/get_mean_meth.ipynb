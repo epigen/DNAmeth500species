{
 "cells": [
  {
   "cell_type": "code",
   "execution_count": 47,
   "id": "e2a592a8",
   "metadata": {},
   "outputs": [
    {
     "name": "stderr",
     "output_type": "stream",
     "text": [
      "\n",
      "Attaching package: ‘dplyr’\n",
      "\n",
      "\n",
      "The following objects are masked from ‘package:data.table’:\n",
      "\n",
      "    between, first, last\n",
      "\n",
      "\n",
      "The following objects are masked from ‘package:stats’:\n",
      "\n",
      "    filter, lag\n",
      "\n",
      "\n",
      "The following objects are masked from ‘package:base’:\n",
      "\n",
      "    intersect, setdiff, setequal, union\n",
      "\n",
      "\n"
     ]
    }
   ],
   "source": [
    "library(ggplot2)\n",
    "library(data.table)\n",
    "library(dplyr)"
   ]
  },
  {
   "cell_type": "markdown",
   "id": "b6cd08a8",
   "metadata": {},
   "source": [
    "## data type 1 - coverage & ratio (Gallus gallus all tissues except brain))"
   ]
  },
  {
   "cell_type": "code",
   "execution_count": 9,
   "id": "b51c489e",
   "metadata": {},
   "outputs": [],
   "source": [
    "files_list <- paste0(\"../../resources/WGBS_public/Gallus_gallus/\", list.files(\"../../resources/WGBS_public/Gallus_gallus/\", pattern = \"*.tsv\", recursive = T))"
   ]
  },
  {
   "cell_type": "code",
   "execution_count": 16,
   "id": "c77b7b77",
   "metadata": {},
   "outputs": [
    {
     "data": {
      "text/html": [
       "<style>\n",
       ".list-inline {list-style: none; margin:0; padding: 0}\n",
       ".list-inline>li {display: inline-block}\n",
       ".list-inline>li:not(:last-child)::after {content: \"\\00b7\"; padding: 0 .5ex}\n",
       "</style>\n",
       "<ol class=list-inline><li>'../../resources/WGBS_public/Gallus_gallus/breast_tissue/Breast_1_d34.tsv'</li><li>'../../resources/WGBS_public/Gallus_gallus/breast_tissue/Breast_2_d34.tsv'</li><li>'../../resources/WGBS_public/Gallus_gallus/breast_tissue/Breast_3_d34.tsv'</li><li>'../../resources/WGBS_public/Gallus_gallus/ileum_tissue/Ile_1_d34.tsv'</li><li>'../../resources/WGBS_public/Gallus_gallus/ileum_tissue/Ile_2_d34.tsv'</li><li>'../../resources/WGBS_public/Gallus_gallus/ileum_tissue/Ile_3_d34.tsv'</li><li>'../../resources/WGBS_public/Gallus_gallus/jejunum_tissue/Jejunum_1_d35_cont.tsv'</li><li>'../../resources/WGBS_public/Gallus_gallus/jejunum_tissue/Jejunum_2_d35_cont.tsv'</li><li>'../../resources/WGBS_public/Gallus_gallus/jejunum_tissue/Jejunum_3_d35_cont.tsv'</li><li>'../../resources/WGBS_public/Gallus_gallus/spleen_tissue/Spleen_1_d34.tsv'</li><li>'../../resources/WGBS_public/Gallus_gallus/spleen_tissue/Spleen_2_d34.tsv'</li><li>'../../resources/WGBS_public/Gallus_gallus/spleen_tissue/Spleen_3_d34.tsv'</li></ol>\n"
      ],
      "text/latex": [
       "\\begin{enumerate*}\n",
       "\\item '../../resources/WGBS\\_public/Gallus\\_gallus/breast\\_tissue/Breast\\_1\\_d34.tsv'\n",
       "\\item '../../resources/WGBS\\_public/Gallus\\_gallus/breast\\_tissue/Breast\\_2\\_d34.tsv'\n",
       "\\item '../../resources/WGBS\\_public/Gallus\\_gallus/breast\\_tissue/Breast\\_3\\_d34.tsv'\n",
       "\\item '../../resources/WGBS\\_public/Gallus\\_gallus/ileum\\_tissue/Ile\\_1\\_d34.tsv'\n",
       "\\item '../../resources/WGBS\\_public/Gallus\\_gallus/ileum\\_tissue/Ile\\_2\\_d34.tsv'\n",
       "\\item '../../resources/WGBS\\_public/Gallus\\_gallus/ileum\\_tissue/Ile\\_3\\_d34.tsv'\n",
       "\\item '../../resources/WGBS\\_public/Gallus\\_gallus/jejunum\\_tissue/Jejunum\\_1\\_d35\\_cont.tsv'\n",
       "\\item '../../resources/WGBS\\_public/Gallus\\_gallus/jejunum\\_tissue/Jejunum\\_2\\_d35\\_cont.tsv'\n",
       "\\item '../../resources/WGBS\\_public/Gallus\\_gallus/jejunum\\_tissue/Jejunum\\_3\\_d35\\_cont.tsv'\n",
       "\\item '../../resources/WGBS\\_public/Gallus\\_gallus/spleen\\_tissue/Spleen\\_1\\_d34.tsv'\n",
       "\\item '../../resources/WGBS\\_public/Gallus\\_gallus/spleen\\_tissue/Spleen\\_2\\_d34.tsv'\n",
       "\\item '../../resources/WGBS\\_public/Gallus\\_gallus/spleen\\_tissue/Spleen\\_3\\_d34.tsv'\n",
       "\\end{enumerate*}\n"
      ],
      "text/markdown": [
       "1. '../../resources/WGBS_public/Gallus_gallus/breast_tissue/Breast_1_d34.tsv'\n",
       "2. '../../resources/WGBS_public/Gallus_gallus/breast_tissue/Breast_2_d34.tsv'\n",
       "3. '../../resources/WGBS_public/Gallus_gallus/breast_tissue/Breast_3_d34.tsv'\n",
       "4. '../../resources/WGBS_public/Gallus_gallus/ileum_tissue/Ile_1_d34.tsv'\n",
       "5. '../../resources/WGBS_public/Gallus_gallus/ileum_tissue/Ile_2_d34.tsv'\n",
       "6. '../../resources/WGBS_public/Gallus_gallus/ileum_tissue/Ile_3_d34.tsv'\n",
       "7. '../../resources/WGBS_public/Gallus_gallus/jejunum_tissue/Jejunum_1_d35_cont.tsv'\n",
       "8. '../../resources/WGBS_public/Gallus_gallus/jejunum_tissue/Jejunum_2_d35_cont.tsv'\n",
       "9. '../../resources/WGBS_public/Gallus_gallus/jejunum_tissue/Jejunum_3_d35_cont.tsv'\n",
       "10. '../../resources/WGBS_public/Gallus_gallus/spleen_tissue/Spleen_1_d34.tsv'\n",
       "11. '../../resources/WGBS_public/Gallus_gallus/spleen_tissue/Spleen_2_d34.tsv'\n",
       "12. '../../resources/WGBS_public/Gallus_gallus/spleen_tissue/Spleen_3_d34.tsv'\n",
       "\n",
       "\n"
      ],
      "text/plain": [
       " [1] \"../../resources/WGBS_public/Gallus_gallus/breast_tissue/Breast_1_d34.tsv\"       \n",
       " [2] \"../../resources/WGBS_public/Gallus_gallus/breast_tissue/Breast_2_d34.tsv\"       \n",
       " [3] \"../../resources/WGBS_public/Gallus_gallus/breast_tissue/Breast_3_d34.tsv\"       \n",
       " [4] \"../../resources/WGBS_public/Gallus_gallus/ileum_tissue/Ile_1_d34.tsv\"           \n",
       " [5] \"../../resources/WGBS_public/Gallus_gallus/ileum_tissue/Ile_2_d34.tsv\"           \n",
       " [6] \"../../resources/WGBS_public/Gallus_gallus/ileum_tissue/Ile_3_d34.tsv\"           \n",
       " [7] \"../../resources/WGBS_public/Gallus_gallus/jejunum_tissue/Jejunum_1_d35_cont.tsv\"\n",
       " [8] \"../../resources/WGBS_public/Gallus_gallus/jejunum_tissue/Jejunum_2_d35_cont.tsv\"\n",
       " [9] \"../../resources/WGBS_public/Gallus_gallus/jejunum_tissue/Jejunum_3_d35_cont.tsv\"\n",
       "[10] \"../../resources/WGBS_public/Gallus_gallus/spleen_tissue/Spleen_1_d34.tsv\"       \n",
       "[11] \"../../resources/WGBS_public/Gallus_gallus/spleen_tissue/Spleen_2_d34.tsv\"       \n",
       "[12] \"../../resources/WGBS_public/Gallus_gallus/spleen_tissue/Spleen_3_d34.tsv\"       "
      ]
     },
     "metadata": {},
     "output_type": "display_data"
    }
   ],
   "source": [
    "files_list"
   ]
  },
  {
   "cell_type": "code",
   "execution_count": 38,
   "id": "e0166869",
   "metadata": {},
   "outputs": [],
   "source": [
    "annot <- data.frame(path = files_list, \n",
    "           tissue = as.character(sapply(files_list, function(x) gsub(\"_tissue\", \"\", strsplit(x, \"/\")[[1]][6]))),\n",
    "                    replica = as.character(sapply(files_list, function(x) strsplit(strsplit(x, \"/\")[[1]][7], \"_\")[[1]][2])))"
   ]
  },
  {
   "cell_type": "code",
   "execution_count": 43,
   "id": "33e3503e",
   "metadata": {
    "collapsed": true,
    "jupyter": {
     "outputs_hidden": true
    },
    "tags": []
   },
   "outputs": [
    {
     "name": "stdout",
     "output_type": "stream",
     "text": [
      "[1] ../../resources/WGBS_public/Gallus_gallus/breast_tissue/Breast_1_d34.tsv\n",
      "12 Levels: ../../resources/WGBS_public/Gallus_gallus/breast_tissue/Breast_1_d34.tsv ...\n",
      "[1] 22806028\n",
      "[1] 12949318\n",
      "[1] ../../resources/WGBS_public/Gallus_gallus/breast_tissue/Breast_2_d34.tsv\n",
      "12 Levels: ../../resources/WGBS_public/Gallus_gallus/breast_tissue/Breast_1_d34.tsv ...\n",
      "[1] 22806028\n",
      "[1] 13410610\n",
      "[1] ../../resources/WGBS_public/Gallus_gallus/breast_tissue/Breast_3_d34.tsv\n",
      "12 Levels: ../../resources/WGBS_public/Gallus_gallus/breast_tissue/Breast_1_d34.tsv ...\n",
      "[1] 22806028\n",
      "[1] 11635054\n",
      "[1] ../../resources/WGBS_public/Gallus_gallus/ileum_tissue/Ile_1_d34.tsv\n",
      "12 Levels: ../../resources/WGBS_public/Gallus_gallus/breast_tissue/Breast_1_d34.tsv ...\n",
      "[1] 22806028\n",
      "[1] 13601000\n",
      "[1] ../../resources/WGBS_public/Gallus_gallus/ileum_tissue/Ile_2_d34.tsv\n",
      "12 Levels: ../../resources/WGBS_public/Gallus_gallus/breast_tissue/Breast_1_d34.tsv ...\n",
      "[1] 22806028\n",
      "[1] 14111048\n",
      "[1] ../../resources/WGBS_public/Gallus_gallus/ileum_tissue/Ile_3_d34.tsv\n",
      "12 Levels: ../../resources/WGBS_public/Gallus_gallus/breast_tissue/Breast_1_d34.tsv ...\n",
      "[1] 22806028\n",
      "[1] 16409284\n",
      "[1] ../../resources/WGBS_public/Gallus_gallus/jejunum_tissue/Jejunum_1_d35_cont.tsv\n",
      "12 Levels: ../../resources/WGBS_public/Gallus_gallus/breast_tissue/Breast_1_d34.tsv ...\n",
      "[1] 22806028\n",
      "[1] 16199533\n",
      "[1] ../../resources/WGBS_public/Gallus_gallus/jejunum_tissue/Jejunum_2_d35_cont.tsv\n",
      "12 Levels: ../../resources/WGBS_public/Gallus_gallus/breast_tissue/Breast_1_d34.tsv ...\n",
      "[1] 22806028\n",
      "[1] 16222285\n",
      "[1] ../../resources/WGBS_public/Gallus_gallus/jejunum_tissue/Jejunum_3_d35_cont.tsv\n",
      "12 Levels: ../../resources/WGBS_public/Gallus_gallus/breast_tissue/Breast_1_d34.tsv ...\n",
      "[1] 22806028\n",
      "[1] 15646125\n",
      "[1] ../../resources/WGBS_public/Gallus_gallus/spleen_tissue/Spleen_1_d34.tsv\n",
      "12 Levels: ../../resources/WGBS_public/Gallus_gallus/breast_tissue/Breast_1_d34.tsv ...\n",
      "[1] 22806028\n",
      "[1] 13195179\n",
      "[1] ../../resources/WGBS_public/Gallus_gallus/spleen_tissue/Spleen_2_d34.tsv\n",
      "12 Levels: ../../resources/WGBS_public/Gallus_gallus/breast_tissue/Breast_1_d34.tsv ...\n",
      "[1] 22806028\n",
      "[1] 12041181\n",
      "[1] ../../resources/WGBS_public/Gallus_gallus/spleen_tissue/Spleen_3_d34.tsv\n",
      "12 Levels: ../../resources/WGBS_public/Gallus_gallus/breast_tissue/Breast_1_d34.tsv ...\n",
      "[1] 22806028\n",
      "[1] 12947288\n"
     ]
    }
   ],
   "source": [
    "mean_ratio = data.table()\n",
    "for(i in c(1:NROW(annot))){\n",
    "    print(annot$path[[i]])\n",
    "    df <- read.csv(as.character(annot$path[[i]]), sep = \"\\t\")\n",
    "    print(NROW(df))\n",
    "    df_sub <- df[df$ratio > 0 & df$cov > 5, ]\n",
    "    print(NROW(df_sub))\n",
    "    mean_ratio <- rbind(mean_ratio, data.frame(path = as.character(annot$path[[i]]), mean_ratio = mean(df_sub$ratio)))\n",
    "}"
   ]
  },
  {
   "cell_type": "code",
   "execution_count": 49,
   "id": "eeb34d07",
   "metadata": {},
   "outputs": [
    {
     "name": "stderr",
     "output_type": "stream",
     "text": [
      "Joining, by = \"path\"\n",
      "\n"
     ]
    }
   ],
   "source": [
    "mean_ratio <- left_join(mean_ratio, annot)"
   ]
  },
  {
   "cell_type": "code",
   "execution_count": 51,
   "id": "8fcbbbce",
   "metadata": {},
   "outputs": [],
   "source": [
    "write.table(mean_ratio, \"../validation/WGBS_public/Gallus_gallus_GSE146620.csv\", sep = \";\", quote = F, row.names = F)"
   ]
  },
  {
   "cell_type": "code",
   "execution_count": 54,
   "id": "05c2e9fc",
   "metadata": {},
   "outputs": [
    {
     "data": {
      "image/png": "[encoded data removed]",
      "text/plain": [
       "plot without title"
      ]
     },
     "metadata": {
      "image/png": {
       "height": 420,
       "width": 420
      }
     },
     "output_type": "display_data"
    }
   ],
   "source": [
    "ggplot(mean_ratio, aes(x = tissue, y = mean_ratio, color = replica)) + geom_point()"
   ]
  },
  {
   "cell_type": "markdown",
   "id": "1535eee5",
   "metadata": {},
   "source": [
    "## data type 2 - CpG reports"
   ]
  },
  {
   "cell_type": "code",
   "execution_count": null,
   "id": "7ec28854",
   "metadata": {},
   "outputs": [],
   "source": []
  }
 ],
 "metadata": {
  "kernelspec": {
   "display_name": "R_crossSp_361",
   "language": "R",
   "name": "r_crosssp"
  },
  "language_info": {
   "codemirror_mode": "r",
   "file_extension": ".r",
   "mimetype": "text/x-r-source",
   "name": "R",
   "pygments_lexer": "r",
   "version": "3.6.1"
  }
 },
 "nbformat": 4,
 "nbformat_minor": 5
}
