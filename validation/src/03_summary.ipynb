{
 "cells": [
  {
   "cell_type": "code",
   "execution_count": 2,
   "metadata": {},
   "outputs": [],
   "source": [
    "library(Biostrings)\n",
    "library(data.table)\n",
    "library(ggplot2)\n",
    "library(dplyr)\n",
    "library(ggrepel)"
   ]
  },
  {
   "cell_type": "code",
   "execution_count": 3,
   "metadata": {},
   "outputs": [],
   "source": [
    "output_dir = \"/scratch/lab_bock/shared/projects/compEpi/validation/insilicoDigest/model/\""
   ]
  },
  {
   "cell_type": "code",
   "execution_count": 4,
   "metadata": {},
   "outputs": [],
   "source": [
    "file_list = list.files(output_dir, pattern=\"*/*_overlap_stats_final.tsv\", recursive = T)"
   ]
  },
  {
   "cell_type": "code",
   "execution_count": 5,
   "metadata": {},
   "outputs": [],
   "source": [
    "read_df <- function(file_path){\n",
    "print(file_path)\n",
    "df <- read.table(file.path(output_dir, file_path), sep = \"\\t\")\n",
    "df <- df[, c(-3)]\n",
    "colnames(df) <- c('CpGs','CpGs_in_RRBS')\n",
    "df[\"type\"] <- row.names(df)\n",
    "df[\"genome_id\"] <- strsplit(file_path, \"/\")[[1]][1]\n",
    "return(df)\n",
    "}"
   ]
  },
  {
   "cell_type": "code",
   "execution_count": 6,
   "metadata": {},
   "outputs": [
    {
     "name": "stdout",
     "output_type": "stream",
     "text": [
      "[1] \"Acalifornica/aplCal1_overlap_stats_final.tsv\"\n",
      "[1] \"Acarolinensis/anoCar2_overlap_stats_final.tsv\"\n",
      "[1] \"Achrysaetos/aquChr2_overlap_stats_final.tsv\"\n",
      "[1] \"Amississippiensis/allMis1_overlap_stats_final.tsv\"\n",
      "[1] \"Btaurus/bosTau9_overlap_stats_final.tsv\"\n",
      "[1] \"Cephalochordata/braFlo1_overlap_stats_final.tsv\"\n"
     ]
    },
    {
     "name": "stderr",
     "output_type": "stream",
     "text": [
      "Warning message in read.table(file.path(output_dir, file_path), sep = \"\\t\"):\n",
      "“incomplete final line found by readTableHeader on '/scratch/lab_bock/shared/projects/compEpi/validation/insilicoDigest/model//Cephalochordata/braFlo1_overlap_stats_final.tsv'”\n"
     ]
    },
    {
     "name": "stdout",
     "output_type": "stream",
     "text": [
      "[1] \"Cfamiliaris/canFam3_overlap_stats_final.tsv\"\n",
      "[1] \"Cmilii/calMil1_overlap_stats_final.tsv\"\n",
      "[1] \"Csabaeus/chlSab2_overlap_stats_final.tsv\"\n",
      "[1] \"Csimum/cerSim1_overlap_stats_final.tsv\"\n",
      "[1] \"Drerio/danRer11_overlap_stats_final.tsv\"\n",
      "[1] \"Fcatus/felCat9_overlap_stats_final.tsv\"\n",
      "[1] \"Gfortis/geoFor1_overlap_stats_final.tsv\"\n",
      "[1] \"Ggallus/galGal6_overlap_stats_final.tsv\"\n",
      "[1] \"Ggorilla/gorGor6_overlap_stats_final.tsv\"\n",
      "[1] \"Hglaber/hetGla2_overlap_stats_final.tsv\"\n",
      "[1] \"Hsapiens/hg38_overlap_stats_final.tsv\"\n",
      "[1] \"Itridecemlineatus/speTri2_overlap_stats_final.tsv\"\n",
      "[1] \"Mdomestica/monDom5_overlap_stats_final.tsv\"\n",
      "[1] \"Mfuro/musFur1_overlap_stats_final.tsv\"\n",
      "[1] \"Mmulatta/rheMac10_overlap_stats_final.tsv\"\n",
      "[1] \"Mmusculus/mm10_overlap_stats_final.tsv\"\n",
      "[1] \"Mundulatus/melUnd1_overlap_stats_final.tsv\"\n",
      "[1] \"Oaries/oviAri4_overlap_stats_final.tsv\"\n",
      "[1] \"Ocuniculus/oryCun2_overlap_stats_final.tsv\"\n",
      "[1] \"Oniloticus/oreNil2_overlap_stats_final.tsv\"\n",
      "[1] \"Pabelii/ponAbe3_overlap_stats_final.tsv\"\n",
      "[1] \"Pmarinus/petMar2_overlap_stats_final.tsv\"\n",
      "[1] \"Ppaniscus/panPan2_overlap_stats_final.tsv\"\n",
      "[1] \"Ptroglodytes/panTro6_overlap_stats_final.tsv\"\n",
      "[1] \"Sboliviensis/saiBol1_overlap_stats_final.tsv\"\n",
      "[1] \"Sscrofa/susScr11_overlap_stats_final.tsv\"\n",
      "[1] \"Tguttata/taeGut2_overlap_stats_final.tsv\"\n",
      "[1] \"Trubripes/fr3_overlap_stats_final.tsv\"\n",
      "[1] \"Tsirtalis/thaSir1_overlap_stats_final.tsv\"\n",
      "[1] \"Xtropicalis/xenTro9_overlap_stats_final.tsv\"\n"
     ]
    }
   ],
   "source": [
    "df_list <- sapply(file_list, read_df, simplify = FALSE)"
   ]
  },
  {
   "cell_type": "code",
   "execution_count": 7,
   "metadata": {},
   "outputs": [],
   "source": [
    "summary_df <- rbindlist(df_list)"
   ]
  },
  {
   "cell_type": "code",
   "execution_count": 8,
   "metadata": {},
   "outputs": [],
   "source": [
    "setDT(summary_df)"
   ]
  },
  {
   "cell_type": "code",
   "execution_count": 9,
   "metadata": {},
   "outputs": [],
   "source": [
    "summary_df[, ratio:=summary_df$CpGs_in_RRBS/summary_df$CpGs,]"
   ]
  },
  {
   "cell_type": "code",
   "execution_count": 10,
   "metadata": {},
   "outputs": [
    {
     "data": {
      "text/html": [
       "<table>\n",
       "<thead><tr><th scope=col>species</th><th scope=col>ucsc_genome</th><th scope=col>class</th><th scope=col>scientific_name</th><th scope=col>date</th><th scope=col>name</th><th scope=col>BSlibrary</th><th scope=col>genome_id</th><th scope=col>provider</th></tr></thead>\n",
       "<tbody>\n",
       "\t<tr><td>Human                             </td><td>hg38                              </td><td>Mammalia                          </td><td>Homo sapiens                      </td><td>Dec. 2013                         </td><td>Genome Reference Consortium GRCm38</td><td>BSgenome.Hsapiens.UCSC.hg38       </td><td>Hsapiens                          </td><td>UCSC                              </td></tr>\n",
       "\t<tr><td>Mouse                             </td><td>mm10                              </td><td>Mammalia                          </td><td>Mus musculus                      </td><td>Dec. 2011                         </td><td>Genome Reference Consortium GRCm38</td><td>BSgenome.Mmusculus.UCSC.mm10      </td><td>Mmusculus                         </td><td>UCSC                              </td></tr>\n",
       "\t<tr><td>Zebrafish                         </td><td>danRer11                          </td><td>Actinopteri                       </td><td>Danio rerio                       </td><td>May 2017                          </td><td>Genome Reference Consortium GRCz11</td><td>BSgenome.Drerio.UCSC.danRer11     </td><td>Drerio                            </td><td>UCSC                              </td></tr>\n",
       "\t<tr><td>Chicken                           </td><td>galGal6                           </td><td>Aves                              </td><td>Gallus gallus                     </td><td>Mar. 2018                         </td><td>GRCg6 Gallus-gallus-6.0           </td><td>BSgenome.Ggallus.UCSC.galGal6     </td><td>Ggallus                           </td><td>UCSC                              </td></tr>\n",
       "\t<tr><td>Zebra finch                       </td><td>taeGut2                           </td><td>Aves                              </td><td>Taeniopygia guttata               </td><td>Feb. 2013                         </td><td>WashU taeGut324                   </td><td>BSgenome.Tguttata.UCSC.taeGut2    </td><td>Tguttata                          </td><td>UCSC                              </td></tr>\n",
       "\t<tr><td>Opossum                           </td><td>monDom5                           </td><td>Marsupiala                        </td><td>Monodelphis domestica             </td><td>Oct. 2006                         </td><td>Broad Institute release MonDom5   </td><td>BSgenome.Mdomestica.UCSC.monDom5  </td><td>Mdomestica                        </td><td>UCSC                              </td></tr>\n",
       "</tbody>\n",
       "</table>\n"
      ],
      "text/latex": [
       "\\begin{tabular}{r|lllllllll}\n",
       " species & ucsc\\_genome & class & scientific\\_name & date & name & BSlibrary & genome\\_id & provider\\\\\n",
       "\\hline\n",
       "\t Human                              & hg38                               & Mammalia                           & Homo sapiens                       & Dec. 2013                          & Genome Reference Consortium GRCm38 & BSgenome.Hsapiens.UCSC.hg38        & Hsapiens                           & UCSC                              \\\\\n",
       "\t Mouse                              & mm10                               & Mammalia                           & Mus musculus                       & Dec. 2011                          & Genome Reference Consortium GRCm38 & BSgenome.Mmusculus.UCSC.mm10       & Mmusculus                          & UCSC                              \\\\\n",
       "\t Zebrafish                          & danRer11                           & Actinopteri                        & Danio rerio                        & May 2017                           & Genome Reference Consortium GRCz11 & BSgenome.Drerio.UCSC.danRer11      & Drerio                             & UCSC                              \\\\\n",
       "\t Chicken                            & galGal6                            & Aves                               & Gallus gallus                      & Mar. 2018                          & GRCg6 Gallus-gallus-6.0            & BSgenome.Ggallus.UCSC.galGal6      & Ggallus                            & UCSC                              \\\\\n",
       "\t Zebra finch                        & taeGut2                            & Aves                               & Taeniopygia guttata                & Feb. 2013                          & WashU taeGut324                    & BSgenome.Tguttata.UCSC.taeGut2     & Tguttata                           & UCSC                              \\\\\n",
       "\t Opossum                            & monDom5                            & Marsupiala                         & Monodelphis domestica              & Oct. 2006                          & Broad Institute release MonDom5    & BSgenome.Mdomestica.UCSC.monDom5   & Mdomestica                         & UCSC                              \\\\\n",
       "\\end{tabular}\n"
      ],
      "text/markdown": [
       "\n",
       "| species | ucsc_genome | class | scientific_name | date | name | BSlibrary | genome_id | provider |\n",
       "|---|---|---|---|---|---|---|---|---|\n",
       "| Human                              | hg38                               | Mammalia                           | Homo sapiens                       | Dec. 2013                          | Genome Reference Consortium GRCm38 | BSgenome.Hsapiens.UCSC.hg38        | Hsapiens                           | UCSC                               |\n",
       "| Mouse                              | mm10                               | Mammalia                           | Mus musculus                       | Dec. 2011                          | Genome Reference Consortium GRCm38 | BSgenome.Mmusculus.UCSC.mm10       | Mmusculus                          | UCSC                               |\n",
       "| Zebrafish                          | danRer11                           | Actinopteri                        | Danio rerio                        | May 2017                           | Genome Reference Consortium GRCz11 | BSgenome.Drerio.UCSC.danRer11      | Drerio                             | UCSC                               |\n",
       "| Chicken                            | galGal6                            | Aves                               | Gallus gallus                      | Mar. 2018                          | GRCg6 Gallus-gallus-6.0            | BSgenome.Ggallus.UCSC.galGal6      | Ggallus                            | UCSC                               |\n",
       "| Zebra finch                        | taeGut2                            | Aves                               | Taeniopygia guttata                | Feb. 2013                          | WashU taeGut324                    | BSgenome.Tguttata.UCSC.taeGut2     | Tguttata                           | UCSC                               |\n",
       "| Opossum                            | monDom5                            | Marsupiala                         | Monodelphis domestica              | Oct. 2006                          | Broad Institute release MonDom5    | BSgenome.Mdomestica.UCSC.monDom5   | Mdomestica                         | UCSC                               |\n",
       "\n"
      ],
      "text/plain": [
       "  species     ucsc_genome class       scientific_name       date     \n",
       "1 Human       hg38        Mammalia    Homo sapiens          Dec. 2013\n",
       "2 Mouse       mm10        Mammalia    Mus musculus          Dec. 2011\n",
       "3 Zebrafish   danRer11    Actinopteri Danio rerio           May 2017 \n",
       "4 Chicken     galGal6     Aves        Gallus gallus         Mar. 2018\n",
       "5 Zebra finch taeGut2     Aves        Taeniopygia guttata   Feb. 2013\n",
       "6 Opossum     monDom5     Marsupiala  Monodelphis domestica Oct. 2006\n",
       "  name                               BSlibrary                       \n",
       "1 Genome Reference Consortium GRCm38 BSgenome.Hsapiens.UCSC.hg38     \n",
       "2 Genome Reference Consortium GRCm38 BSgenome.Mmusculus.UCSC.mm10    \n",
       "3 Genome Reference Consortium GRCz11 BSgenome.Drerio.UCSC.danRer11   \n",
       "4 GRCg6 Gallus-gallus-6.0            BSgenome.Ggallus.UCSC.galGal6   \n",
       "5 WashU taeGut324                    BSgenome.Tguttata.UCSC.taeGut2  \n",
       "6 Broad Institute release MonDom5    BSgenome.Mdomestica.UCSC.monDom5\n",
       "  genome_id  provider\n",
       "1 Hsapiens   UCSC    \n",
       "2 Mmusculus  UCSC    \n",
       "3 Drerio     UCSC    \n",
       "4 Ggallus    UCSC    \n",
       "5 Tguttata   UCSC    \n",
       "6 Mdomestica UCSC    "
      ]
     },
     "metadata": {},
     "output_type": "display_data"
    }
   ],
   "source": [
    "annot_df <- read.table(\"../meta//validation_species_resources.csv\",sep = \";\", header = 1, stringsAsFactors = FALSE)\n",
    "head(annot_df)"
   ]
  },
  {
   "cell_type": "code",
   "execution_count": 10,
   "metadata": {},
   "outputs": [
    {
     "data": {
      "text/html": [
       "<table>\n",
       "<caption>A data.frame: 3 × 9</caption>\n",
       "<thead>\n",
       "\t<tr><th></th><th scope=col>species</th><th scope=col>ucsc_genome</th><th scope=col>class</th><th scope=col>scientific_name</th><th scope=col>date</th><th scope=col>name</th><th scope=col>BSlibrary</th><th scope=col>genome_id</th><th scope=col>provider</th></tr>\n",
       "\t<tr><th></th><th scope=col>&lt;chr&gt;</th><th scope=col>&lt;chr&gt;</th><th scope=col>&lt;chr&gt;</th><th scope=col>&lt;chr&gt;</th><th scope=col>&lt;chr&gt;</th><th scope=col>&lt;chr&gt;</th><th scope=col>&lt;chr&gt;</th><th scope=col>&lt;chr&gt;</th><th scope=col>&lt;chr&gt;</th></tr>\n",
       "</thead>\n",
       "<tbody>\n",
       "\t<tr><th scope=row>15</th><td>Lamprey   </td><td>petMar2</td><td>Jawless Vertebrate</td><td>Petromyzon marinus        </td><td>Sep. 2010</td><td>WUGSC 7.0                </td><td>BSgenome.Pmarinus.UCSC.petMar2         </td><td>Pmarinus         </td><td>custom_from_UCSC</td></tr>\n",
       "\t<tr><th scope=row>20</th><td>Coelacanth</td><td>latCha1</td><td>Actinopteri       </td><td>Latimeria chalumnae       </td><td>Aug. 2011</td><td>Broad Institute LatCha1  </td><td>BSgenome.Lchalumnae.UCSC.latCha1       </td><td>Lchalumnae       </td><td>custom_from_UCSC</td></tr>\n",
       "\t<tr><th scope=row>43</th><td>Squirrel  </td><td>speTri2</td><td>Mammalia          </td><td>Ictidomys tridecemlineatus</td><td>Nov. 2011</td><td>Broad Institute SpeTri2.0</td><td>BSgenome.Itridecemlineatus.UCSC.speTri2</td><td>Itridecemlineatus</td><td>custom_from_UCSC</td></tr>\n",
       "</tbody>\n",
       "</table>\n"
      ],
      "text/latex": [
       "A data.frame: 3 × 9\n",
       "\\begin{tabular}{r|lllllllll}\n",
       "  & species & ucsc\\_genome & class & scientific\\_name & date & name & BSlibrary & genome\\_id & provider\\\\\n",
       "  & <chr> & <chr> & <chr> & <chr> & <chr> & <chr> & <chr> & <chr> & <chr>\\\\\n",
       "\\hline\n",
       "\t15 & Lamprey    & petMar2 & Jawless Vertebrate & Petromyzon marinus         & Sep. 2010 & WUGSC 7.0                 & BSgenome.Pmarinus.UCSC.petMar2          & Pmarinus          & custom\\_from\\_UCSC\\\\\n",
       "\t20 & Coelacanth & latCha1 & Actinopteri        & Latimeria chalumnae        & Aug. 2011 & Broad Institute LatCha1   & BSgenome.Lchalumnae.UCSC.latCha1        & Lchalumnae        & custom\\_from\\_UCSC\\\\\n",
       "\t43 & Squirrel   & speTri2 & Mammalia           & Ictidomys tridecemlineatus & Nov. 2011 & Broad Institute SpeTri2.0 & BSgenome.Itridecemlineatus.UCSC.speTri2 & Itridecemlineatus & custom\\_from\\_UCSC\\\\\n",
       "\\end{tabular}\n"
      ],
      "text/markdown": [
       "\n",
       "A data.frame: 3 × 9\n",
       "\n",
       "| <!--/--> | species &lt;chr&gt; | ucsc_genome &lt;chr&gt; | class &lt;chr&gt; | scientific_name &lt;chr&gt; | date &lt;chr&gt; | name &lt;chr&gt; | BSlibrary &lt;chr&gt; | genome_id &lt;chr&gt; | provider &lt;chr&gt; |\n",
       "|---|---|---|---|---|---|---|---|---|---|\n",
       "| 15 | Lamprey    | petMar2 | Jawless Vertebrate | Petromyzon marinus         | Sep. 2010 | WUGSC 7.0                 | BSgenome.Pmarinus.UCSC.petMar2          | Pmarinus          | custom_from_UCSC |\n",
       "| 20 | Coelacanth | latCha1 | Actinopteri        | Latimeria chalumnae        | Aug. 2011 | Broad Institute LatCha1   | BSgenome.Lchalumnae.UCSC.latCha1        | Lchalumnae        | custom_from_UCSC |\n",
       "| 43 | Squirrel   | speTri2 | Mammalia           | Ictidomys tridecemlineatus | Nov. 2011 | Broad Institute SpeTri2.0 | BSgenome.Itridecemlineatus.UCSC.speTri2 | Itridecemlineatus | custom_from_UCSC |\n",
       "\n"
      ],
      "text/plain": [
       "   species    ucsc_genome class              scientific_name           \n",
       "15 Lamprey    petMar2     Jawless Vertebrate Petromyzon marinus        \n",
       "20 Coelacanth latCha1     Actinopteri        Latimeria chalumnae       \n",
       "43 Squirrel   speTri2     Mammalia           Ictidomys tridecemlineatus\n",
       "   date      name                      BSlibrary                              \n",
       "15 Sep. 2010 WUGSC 7.0                 BSgenome.Pmarinus.UCSC.petMar2         \n",
       "20 Aug. 2011 Broad Institute LatCha1   BSgenome.Lchalumnae.UCSC.latCha1       \n",
       "43 Nov. 2011 Broad Institute SpeTri2.0 BSgenome.Itridecemlineatus.UCSC.speTri2\n",
       "   genome_id         provider        \n",
       "15 Pmarinus          custom_from_UCSC\n",
       "20 Lchalumnae        custom_from_UCSC\n",
       "43 Itridecemlineatus custom_from_UCSC"
      ]
     },
     "metadata": {},
     "output_type": "display_data"
    }
   ],
   "source": [
    "annot_df[annot_df$genome_id %in% c(\"Lchalumnae\", \"Itridecemlineatus\",\"Pmarinus\"), ]"
   ]
  },
  {
   "cell_type": "code",
   "execution_count": 11,
   "metadata": {},
   "outputs": [
    {
     "name": "stderr",
     "output_type": "stream",
     "text": [
      "Joining, by = \"genome_id\"\n",
      "\n"
     ]
    }
   ],
   "source": [
    "summary_df <- left_join(summary_df, annot_df[, c(\"genome_id\", \"species\", \"class\")])"
   ]
  },
  {
   "cell_type": "code",
   "execution_count": 12,
   "metadata": {},
   "outputs": [],
   "source": [
    "class_colors <- c(\"Invertebrata\" = \"#cfcfcf\",\n",
    "                  \"Chondrichthyes\" = \"#F68383\", \n",
    "                  \"Actinopteri\" = \"#EA4142\",\n",
    "                  \"Amphibia\" = \"#5AB349\",\n",
    "                  \"Reptilia\" = \"#8761AC\",\n",
    "                  \"Aves\"=\"#FE9222\",\n",
    "                  \"Marsupialia\"=\"#8EBFDA\",\n",
    "                  \"Mammalia\"=\"#4892C2\")"
   ]
  },
  {
   "cell_type": "code",
   "execution_count": 13,
   "metadata": {},
   "outputs": [
    {
     "data": {
      "text/html": [
       "<table>\n",
       "<caption>A data.table: 6 × 7</caption>\n",
       "<thead>\n",
       "\t<tr><th scope=col>CpGs</th><th scope=col>CpGs_in_RRBS</th><th scope=col>type</th><th scope=col>genome_id</th><th scope=col>ratio</th><th scope=col>species</th><th scope=col>class</th></tr>\n",
       "\t<tr><th scope=col>&lt;int&gt;</th><th scope=col>&lt;int&gt;</th><th scope=col>&lt;chr&gt;</th><th scope=col>&lt;chr&gt;</th><th scope=col>&lt;dbl&gt;</th><th scope=col>&lt;chr&gt;</th><th scope=col>&lt;chr&gt;</th></tr>\n",
       "</thead>\n",
       "<tbody>\n",
       "\t<tr><td>15636750</td><td>4818189</td><td>total            </td><td>Acalifornica </td><td>0.3081324</td><td>Sea Hare</td><td>Invertebrata</td></tr>\n",
       "\t<tr><td>  721754</td><td> 353752</td><td>cpgIslandExt     </td><td>Acalifornica </td><td>0.4901282</td><td>Sea Hare</td><td>Invertebrata</td></tr>\n",
       "\t<tr><td>  629491</td><td>  66575</td><td>rmsk             </td><td>Acalifornica </td><td>0.1057601</td><td>Sea Hare</td><td>Invertebrata</td></tr>\n",
       "\t<tr><td> 7241163</td><td>2250323</td><td>transcripts      </td><td>Acalifornica </td><td>0.3107682</td><td>Sea Hare</td><td>Invertebrata</td></tr>\n",
       "\t<tr><td>  727623</td><td> 220061</td><td>promoters1000_500</td><td>Acalifornica </td><td>0.3024382</td><td>Sea Hare</td><td>Invertebrata</td></tr>\n",
       "\t<tr><td>20209348</td><td>5260595</td><td>total            </td><td>Acarolinensis</td><td>0.2603050</td><td>Lizard  </td><td>Reptilia    </td></tr>\n",
       "</tbody>\n",
       "</table>\n"
      ],
      "text/latex": [
       "A data.table: 6 × 7\n",
       "\\begin{tabular}{lllllll}\n",
       " CpGs & CpGs\\_in\\_RRBS & type & genome\\_id & ratio & species & class\\\\\n",
       " <int> & <int> & <chr> & <chr> & <dbl> & <chr> & <chr>\\\\\n",
       "\\hline\n",
       "\t 15636750 & 4818189 & total             & Acalifornica  & 0.3081324 & Sea Hare & Invertebrata\\\\\n",
       "\t   721754 &  353752 & cpgIslandExt      & Acalifornica  & 0.4901282 & Sea Hare & Invertebrata\\\\\n",
       "\t   629491 &   66575 & rmsk              & Acalifornica  & 0.1057601 & Sea Hare & Invertebrata\\\\\n",
       "\t  7241163 & 2250323 & transcripts       & Acalifornica  & 0.3107682 & Sea Hare & Invertebrata\\\\\n",
       "\t   727623 &  220061 & promoters1000\\_500 & Acalifornica  & 0.3024382 & Sea Hare & Invertebrata\\\\\n",
       "\t 20209348 & 5260595 & total             & Acarolinensis & 0.2603050 & Lizard   & Reptilia    \\\\\n",
       "\\end{tabular}\n"
      ],
      "text/markdown": [
       "\n",
       "A data.table: 6 × 7\n",
       "\n",
       "| CpGs &lt;int&gt; | CpGs_in_RRBS &lt;int&gt; | type &lt;chr&gt; | genome_id &lt;chr&gt; | ratio &lt;dbl&gt; | species &lt;chr&gt; | class &lt;chr&gt; |\n",
       "|---|---|---|---|---|---|---|\n",
       "| 15636750 | 4818189 | total             | Acalifornica  | 0.3081324 | Sea Hare | Invertebrata |\n",
       "|   721754 |  353752 | cpgIslandExt      | Acalifornica  | 0.4901282 | Sea Hare | Invertebrata |\n",
       "|   629491 |   66575 | rmsk              | Acalifornica  | 0.1057601 | Sea Hare | Invertebrata |\n",
       "|  7241163 | 2250323 | transcripts       | Acalifornica  | 0.3107682 | Sea Hare | Invertebrata |\n",
       "|   727623 |  220061 | promoters1000_500 | Acalifornica  | 0.3024382 | Sea Hare | Invertebrata |\n",
       "| 20209348 | 5260595 | total             | Acarolinensis | 0.2603050 | Lizard   | Reptilia     |\n",
       "\n"
      ],
      "text/plain": [
       "  CpGs     CpGs_in_RRBS type              genome_id     ratio     species \n",
       "1 15636750 4818189      total             Acalifornica  0.3081324 Sea Hare\n",
       "2   721754  353752      cpgIslandExt      Acalifornica  0.4901282 Sea Hare\n",
       "3   629491   66575      rmsk              Acalifornica  0.1057601 Sea Hare\n",
       "4  7241163 2250323      transcripts       Acalifornica  0.3107682 Sea Hare\n",
       "5   727623  220061      promoters1000_500 Acalifornica  0.3024382 Sea Hare\n",
       "6 20209348 5260595      total             Acarolinensis 0.2603050 Lizard  \n",
       "  class       \n",
       "1 Invertebrata\n",
       "2 Invertebrata\n",
       "3 Invertebrata\n",
       "4 Invertebrata\n",
       "5 Invertebrata\n",
       "6 Reptilia    "
      ]
     },
     "metadata": {},
     "output_type": "display_data"
    }
   ],
   "source": [
    "head(summary_df)"
   ]
  },
  {
   "cell_type": "code",
   "execution_count": 20,
   "metadata": {},
   "outputs": [
    {
     "data": {
      "text/plain": [
       "\n",
       "To cite rr2 in publications use:\n",
       "\n",
       "  Anthony R. Ives (2018). R^2s for Correlated Data: Phylogenetic\n",
       "  Models, LMMs, and GLMMs. Systematic Biology, syy060.\n",
       "  https://doi.org/10.1093/sysbio/syy060\n",
       "\n",
       "  Anthony R. Ives and Daijiang Li (2018). rr2: An R package to\n",
       "  calculate R^2s for regression models. The Journal of Open Source\n",
       "  Software, 3(30), 1028. https://doi.org/10.21105/joss.01028\n",
       "\n",
       "To see these entries in BibTeX format, use 'print(<citation>,\n",
       "bibtex=TRUE)', 'toBibtex(.)', or set\n",
       "'options(citation.bibtex.max=999)'.\n"
      ]
     },
     "metadata": {},
     "output_type": "display_data"
    }
   ],
   "source": [
    "citation(\"rr2\")"
   ]
  },
  {
   "cell_type": "code",
   "execution_count": 17,
   "metadata": {},
   "outputs": [
    {
     "name": "stderr",
     "output_type": "stream",
     "text": [
      "`summarise()` ungrouping output (override with `.groups` argument)\n",
      "\n"
     ]
    },
    {
     "data": {
      "text/html": [
       "<table>\n",
       "<caption>A tibble: 9 × 2</caption>\n",
       "<thead>\n",
       "\t<tr><th scope=col>class</th><th scope=col>n</th></tr>\n",
       "\t<tr><th scope=col>&lt;chr&gt;</th><th scope=col>&lt;int&gt;</th></tr>\n",
       "</thead>\n",
       "<tbody>\n",
       "\t<tr><td>Actinopteri       </td><td> 3</td></tr>\n",
       "\t<tr><td>Amphibia          </td><td> 1</td></tr>\n",
       "\t<tr><td>Aves              </td><td> 5</td></tr>\n",
       "\t<tr><td>Chondrichthyes    </td><td> 1</td></tr>\n",
       "\t<tr><td>Invertebrata      </td><td> 2</td></tr>\n",
       "\t<tr><td>Jawless Vertebrate</td><td> 1</td></tr>\n",
       "\t<tr><td>Mammalia          </td><td>19</td></tr>\n",
       "\t<tr><td>Marsupiala        </td><td> 1</td></tr>\n",
       "\t<tr><td>Reptilia          </td><td> 3</td></tr>\n",
       "</tbody>\n",
       "</table>\n"
      ],
      "text/latex": [
       "A tibble: 9 × 2\n",
       "\\begin{tabular}{ll}\n",
       " class & n\\\\\n",
       " <chr> & <int>\\\\\n",
       "\\hline\n",
       "\t Actinopteri        &  3\\\\\n",
       "\t Amphibia           &  1\\\\\n",
       "\t Aves               &  5\\\\\n",
       "\t Chondrichthyes     &  1\\\\\n",
       "\t Invertebrata       &  2\\\\\n",
       "\t Jawless Vertebrate &  1\\\\\n",
       "\t Mammalia           & 19\\\\\n",
       "\t Marsupiala         &  1\\\\\n",
       "\t Reptilia           &  3\\\\\n",
       "\\end{tabular}\n"
      ],
      "text/markdown": [
       "\n",
       "A tibble: 9 × 2\n",
       "\n",
       "| class &lt;chr&gt; | n &lt;int&gt; |\n",
       "|---|---|\n",
       "| Actinopteri        |  3 |\n",
       "| Amphibia           |  1 |\n",
       "| Aves               |  5 |\n",
       "| Chondrichthyes     |  1 |\n",
       "| Invertebrata       |  2 |\n",
       "| Jawless Vertebrate |  1 |\n",
       "| Mammalia           | 19 |\n",
       "| Marsupiala         |  1 |\n",
       "| Reptilia           |  3 |\n",
       "\n"
      ],
      "text/plain": [
       "  class              n \n",
       "1 Actinopteri         3\n",
       "2 Amphibia            1\n",
       "3 Aves                5\n",
       "4 Chondrichthyes      1\n",
       "5 Invertebrata        2\n",
       "6 Jawless Vertebrate  1\n",
       "7 Mammalia           19\n",
       "8 Marsupiala          1\n",
       "9 Reptilia            3"
      ]
     },
     "metadata": {},
     "output_type": "display_data"
    }
   ],
   "source": [
    "summary_df %>% select(species, class) %>% unique %>% group_by(class) %>% summarize(n = n())"
   ]
  },
  {
   "cell_type": "code",
   "execution_count": 14,
   "metadata": {},
   "outputs": [],
   "source": [
    "summary_df[summary_df$class == \"Marsupiala\", class:= \"Marsupialia\",]"
   ]
  },
  {
   "cell_type": "code",
   "execution_count": 15,
   "metadata": {},
   "outputs": [],
   "source": [
    "summary_df[summary_df$type == \"rmsk\", type:= \"repeats\",]\n",
    "summary_df[summary_df$type == \"simpleRepeat\", type:= \"repeats\",]\n",
    "summary_df[summary_df$type == \"cpgIslandExt\", type:= \"CpG Islands\",]\n",
    "summary_df[summary_df$type == \"promoters1000_500\", type:= \"promoters\",]"
   ]
  },
  {
   "cell_type": "code",
   "execution_count": 16,
   "metadata": {},
   "outputs": [],
   "source": [
    "summary_df$class <- factor(summary_df$class, levels = names(class_colors))"
   ]
  },
  {
   "cell_type": "code",
   "execution_count": 17,
   "metadata": {},
   "outputs": [
    {
     "data": {
      "text/html": [
       "<table>\n",
       "<caption>A data.table: 5 × 7</caption>\n",
       "<thead>\n",
       "\t<tr><th scope=col>CpGs</th><th scope=col>CpGs_in_RRBS</th><th scope=col>type</th><th scope=col>genome_id</th><th scope=col>ratio</th><th scope=col>species</th><th scope=col>class</th></tr>\n",
       "\t<tr><th scope=col>&lt;int&gt;</th><th scope=col>&lt;int&gt;</th><th scope=col>&lt;chr&gt;</th><th scope=col>&lt;chr&gt;</th><th scope=col>&lt;dbl&gt;</th><th scope=col>&lt;chr&gt;</th><th scope=col>&lt;fct&gt;</th></tr>\n",
       "</thead>\n",
       "<tbody>\n",
       "\t<tr><td>18702552</td><td>3288567</td><td>total      </td><td>Xtropicalis</td><td>0.1758352</td><td>Tropical clawed frog</td><td>Amphibia</td></tr>\n",
       "\t<tr><td>  374988</td><td> 146482</td><td>CpG Islands</td><td>Xtropicalis</td><td>0.3906312</td><td>Tropical clawed frog</td><td>Amphibia</td></tr>\n",
       "\t<tr><td> 8173015</td><td>1499445</td><td>transcripts</td><td>Xtropicalis</td><td>0.1834629</td><td>Tropical clawed frog</td><td>Amphibia</td></tr>\n",
       "\t<tr><td>  700341</td><td> 182344</td><td>promoters  </td><td>Xtropicalis</td><td>0.2603646</td><td>Tropical clawed frog</td><td>Amphibia</td></tr>\n",
       "\t<tr><td> 8711489</td><td>1658201</td><td>repeats    </td><td>Xtropicalis</td><td>0.1903464</td><td>Tropical clawed frog</td><td>Amphibia</td></tr>\n",
       "</tbody>\n",
       "</table>\n"
      ],
      "text/latex": [
       "A data.table: 5 × 7\n",
       "\\begin{tabular}{lllllll}\n",
       " CpGs & CpGs\\_in\\_RRBS & type & genome\\_id & ratio & species & class\\\\\n",
       " <int> & <int> & <chr> & <chr> & <dbl> & <chr> & <fct>\\\\\n",
       "\\hline\n",
       "\t 18702552 & 3288567 & total       & Xtropicalis & 0.1758352 & Tropical clawed frog & Amphibia\\\\\n",
       "\t   374988 &  146482 & CpG Islands & Xtropicalis & 0.3906312 & Tropical clawed frog & Amphibia\\\\\n",
       "\t  8173015 & 1499445 & transcripts & Xtropicalis & 0.1834629 & Tropical clawed frog & Amphibia\\\\\n",
       "\t   700341 &  182344 & promoters   & Xtropicalis & 0.2603646 & Tropical clawed frog & Amphibia\\\\\n",
       "\t  8711489 & 1658201 & repeats     & Xtropicalis & 0.1903464 & Tropical clawed frog & Amphibia\\\\\n",
       "\\end{tabular}\n"
      ],
      "text/markdown": [
       "\n",
       "A data.table: 5 × 7\n",
       "\n",
       "| CpGs &lt;int&gt; | CpGs_in_RRBS &lt;int&gt; | type &lt;chr&gt; | genome_id &lt;chr&gt; | ratio &lt;dbl&gt; | species &lt;chr&gt; | class &lt;fct&gt; |\n",
       "|---|---|---|---|---|---|---|\n",
       "| 18702552 | 3288567 | total       | Xtropicalis | 0.1758352 | Tropical clawed frog | Amphibia |\n",
       "|   374988 |  146482 | CpG Islands | Xtropicalis | 0.3906312 | Tropical clawed frog | Amphibia |\n",
       "|  8173015 | 1499445 | transcripts | Xtropicalis | 0.1834629 | Tropical clawed frog | Amphibia |\n",
       "|   700341 |  182344 | promoters   | Xtropicalis | 0.2603646 | Tropical clawed frog | Amphibia |\n",
       "|  8711489 | 1658201 | repeats     | Xtropicalis | 0.1903464 | Tropical clawed frog | Amphibia |\n",
       "\n"
      ],
      "text/plain": [
       "  CpGs     CpGs_in_RRBS type        genome_id   ratio     species             \n",
       "1 18702552 3288567      total       Xtropicalis 0.1758352 Tropical clawed frog\n",
       "2   374988  146482      CpG Islands Xtropicalis 0.3906312 Tropical clawed frog\n",
       "3  8173015 1499445      transcripts Xtropicalis 0.1834629 Tropical clawed frog\n",
       "4   700341  182344      promoters   Xtropicalis 0.2603646 Tropical clawed frog\n",
       "5  8711489 1658201      repeats     Xtropicalis 0.1903464 Tropical clawed frog\n",
       "  class   \n",
       "1 Amphibia\n",
       "2 Amphibia\n",
       "3 Amphibia\n",
       "4 Amphibia\n",
       "5 Amphibia"
      ]
     },
     "metadata": {},
     "output_type": "display_data"
    }
   ],
   "source": [
    "summary_df[summary_df$class == \"Amphibia\",]"
   ]
  },
  {
   "cell_type": "code",
   "execution_count": 18,
   "metadata": {},
   "outputs": [
    {
     "data": {
      "text/html": [
       "<style>\n",
       ".list-inline {list-style: none; margin:0; padding: 0}\n",
       ".list-inline>li {display: inline-block}\n",
       ".list-inline>li:not(:last-child)::after {content: \"\\00b7\"; padding: 0 .5ex}\n",
       "</style>\n",
       "<ol class=list-inline><li>'total'</li><li>'CpG Islands'</li><li>'repeats'</li><li>'transcripts'</li><li>'promoters'</li></ol>\n"
      ],
      "text/latex": [
       "\\begin{enumerate*}\n",
       "\\item 'total'\n",
       "\\item 'CpG Islands'\n",
       "\\item 'repeats'\n",
       "\\item 'transcripts'\n",
       "\\item 'promoters'\n",
       "\\end{enumerate*}\n"
      ],
      "text/markdown": [
       "1. 'total'\n",
       "2. 'CpG Islands'\n",
       "3. 'repeats'\n",
       "4. 'transcripts'\n",
       "5. 'promoters'\n",
       "\n",
       "\n"
      ],
      "text/plain": [
       "[1] \"total\"       \"CpG Islands\" \"repeats\"     \"transcripts\" \"promoters\"  "
      ]
     },
     "metadata": {},
     "output_type": "display_data"
    }
   ],
   "source": [
    "unique(summary_df$type)"
   ]
  },
  {
   "cell_type": "code",
   "execution_count": 19,
   "metadata": {},
   "outputs": [],
   "source": [
    "summary_df <- summary_df[order(summary_df$class),]"
   ]
  },
  {
   "cell_type": "code",
   "execution_count": 20,
   "metadata": {},
   "outputs": [],
   "source": [
    "summary_df$type <- factor(summary_df$type, levels = c(\"total\", \"transcripts\", \"promoters\",\n",
    "                                                      \"repeats\", \"CpG Islands\"))"
   ]
  },
  {
   "cell_type": "code",
   "execution_count": 21,
   "metadata": {},
   "outputs": [],
   "source": [
    "##abbreviations for plotting\n",
    "class_short <- c(\"Invertebrata\" = \"Inv.\", \"Chondrichthyes\" = \"Ch.\",\n",
    "                 \"Actinopteri\" = \"Act.\", \"Amphibia\" = \"Amp.\", \n",
    "                 \"Reptilia\" = \"Rep.\", \"Aves\" = \"Av.\", \n",
    "                 \"Marsupialia\" = \"Mar.\", \"Mammalia\" = \"Mam.\")"
   ]
  },
  {
   "cell_type": "code",
   "execution_count": 22,
   "metadata": {},
   "outputs": [
    {
     "data": {
      "text/html": [
       "<style>\n",
       ".list-inline {list-style: none; margin:0; padding: 0}\n",
       ".list-inline>li {display: inline-block}\n",
       ".list-inline>li:not(:last-child)::after {content: \"\\00b7\"; padding: 0 .5ex}\n",
       "</style>\n",
       "<ol class=list-inline><li>Invertebrata</li><li>Chondrichthyes</li><li>Actinopteri</li><li>Amphibia</li><li>Reptilia</li><li>Aves</li><li>Marsupialia</li><li>Mammalia</li><li>&lt;NA&gt;</li></ol>\n",
       "\n",
       "<details>\n",
       "\t<summary style=display:list-item;cursor:pointer>\n",
       "\t\t<strong>Levels</strong>:\n",
       "\t</summary>\n",
       "\t<style>\n",
       "\t.list-inline {list-style: none; margin:0; padding: 0}\n",
       "\t.list-inline>li {display: inline-block}\n",
       "\t.list-inline>li:not(:last-child)::after {content: \"\\00b7\"; padding: 0 .5ex}\n",
       "\t</style>\n",
       "\t<ol class=list-inline><li>'Invertebrata'</li><li>'Chondrichthyes'</li><li>'Actinopteri'</li><li>'Amphibia'</li><li>'Reptilia'</li><li>'Aves'</li><li>'Marsupialia'</li><li>'Mammalia'</li></ol>\n",
       "</details>"
      ],
      "text/latex": [
       "\\begin{enumerate*}\n",
       "\\item Invertebrata\n",
       "\\item Chondrichthyes\n",
       "\\item Actinopteri\n",
       "\\item Amphibia\n",
       "\\item Reptilia\n",
       "\\item Aves\n",
       "\\item Marsupialia\n",
       "\\item Mammalia\n",
       "\\item <NA>\n",
       "\\end{enumerate*}\n",
       "\n",
       "\\emph{Levels}: \\begin{enumerate*}\n",
       "\\item 'Invertebrata'\n",
       "\\item 'Chondrichthyes'\n",
       "\\item 'Actinopteri'\n",
       "\\item 'Amphibia'\n",
       "\\item 'Reptilia'\n",
       "\\item 'Aves'\n",
       "\\item 'Marsupialia'\n",
       "\\item 'Mammalia'\n",
       "\\end{enumerate*}\n"
      ],
      "text/markdown": [
       "1. Invertebrata\n",
       "2. Chondrichthyes\n",
       "3. Actinopteri\n",
       "4. Amphibia\n",
       "5. Reptilia\n",
       "6. Aves\n",
       "7. Marsupialia\n",
       "8. Mammalia\n",
       "9. &lt;NA&gt;\n",
       "\n",
       "\n",
       "\n",
       "**Levels**: 1. 'Invertebrata'\n",
       "2. 'Chondrichthyes'\n",
       "3. 'Actinopteri'\n",
       "4. 'Amphibia'\n",
       "5. 'Reptilia'\n",
       "6. 'Aves'\n",
       "7. 'Marsupialia'\n",
       "8. 'Mammalia'\n",
       "\n",
       "\n"
      ],
      "text/plain": [
       "[1] Invertebrata   Chondrichthyes Actinopteri    Amphibia       Reptilia      \n",
       "[6] Aves           Marsupialia    Mammalia       <NA>          \n",
       "8 Levels: Invertebrata Chondrichthyes Actinopteri Amphibia Reptilia ... Mammalia"
      ]
     },
     "metadata": {},
     "output_type": "display_data"
    }
   ],
   "source": [
    "unique(summary_df$class)"
   ]
  },
  {
   "cell_type": "code",
   "execution_count": 23,
   "metadata": {},
   "outputs": [
    {
     "data": {
      "text/html": [
       "<table>\n",
       "<caption>A data.table: 5 × 7</caption>\n",
       "<thead>\n",
       "\t<tr><th scope=col>CpGs</th><th scope=col>CpGs_in_RRBS</th><th scope=col>type</th><th scope=col>genome_id</th><th scope=col>ratio</th><th scope=col>species</th><th scope=col>class</th></tr>\n",
       "\t<tr><th scope=col>&lt;int&gt;</th><th scope=col>&lt;int&gt;</th><th scope=col>&lt;fct&gt;</th><th scope=col>&lt;chr&gt;</th><th scope=col>&lt;dbl&gt;</th><th scope=col>&lt;chr&gt;</th><th scope=col>&lt;fct&gt;</th></tr>\n",
       "</thead>\n",
       "<tbody>\n",
       "\t<tr><td>27449514</td><td>10313485</td><td>total      </td><td>Pmarinus</td><td>0.3757256</td><td>Lamprey</td><td>NA</td></tr>\n",
       "\t<tr><td> 3496508</td><td> 1797614</td><td>CpG Islands</td><td>Pmarinus</td><td>0.5141169</td><td>Lamprey</td><td>NA</td></tr>\n",
       "\t<tr><td> 7342580</td><td> 2884431</td><td>transcripts</td><td>Pmarinus</td><td>0.3928362</td><td>Lamprey</td><td>NA</td></tr>\n",
       "\t<tr><td> 1513578</td><td>  645812</td><td>promoters  </td><td>Pmarinus</td><td>0.4266790</td><td>Lamprey</td><td>NA</td></tr>\n",
       "\t<tr><td> 3048003</td><td>  964718</td><td>repeats    </td><td>Pmarinus</td><td>0.3165082</td><td>Lamprey</td><td>NA</td></tr>\n",
       "</tbody>\n",
       "</table>\n"
      ],
      "text/latex": [
       "A data.table: 5 × 7\n",
       "\\begin{tabular}{lllllll}\n",
       " CpGs & CpGs\\_in\\_RRBS & type & genome\\_id & ratio & species & class\\\\\n",
       " <int> & <int> & <fct> & <chr> & <dbl> & <chr> & <fct>\\\\\n",
       "\\hline\n",
       "\t 27449514 & 10313485 & total       & Pmarinus & 0.3757256 & Lamprey & NA\\\\\n",
       "\t  3496508 &  1797614 & CpG Islands & Pmarinus & 0.5141169 & Lamprey & NA\\\\\n",
       "\t  7342580 &  2884431 & transcripts & Pmarinus & 0.3928362 & Lamprey & NA\\\\\n",
       "\t  1513578 &   645812 & promoters   & Pmarinus & 0.4266790 & Lamprey & NA\\\\\n",
       "\t  3048003 &   964718 & repeats     & Pmarinus & 0.3165082 & Lamprey & NA\\\\\n",
       "\\end{tabular}\n"
      ],
      "text/markdown": [
       "\n",
       "A data.table: 5 × 7\n",
       "\n",
       "| CpGs &lt;int&gt; | CpGs_in_RRBS &lt;int&gt; | type &lt;fct&gt; | genome_id &lt;chr&gt; | ratio &lt;dbl&gt; | species &lt;chr&gt; | class &lt;fct&gt; |\n",
       "|---|---|---|---|---|---|---|\n",
       "| 27449514 | 10313485 | total       | Pmarinus | 0.3757256 | Lamprey | NA |\n",
       "|  3496508 |  1797614 | CpG Islands | Pmarinus | 0.5141169 | Lamprey | NA |\n",
       "|  7342580 |  2884431 | transcripts | Pmarinus | 0.3928362 | Lamprey | NA |\n",
       "|  1513578 |   645812 | promoters   | Pmarinus | 0.4266790 | Lamprey | NA |\n",
       "|  3048003 |   964718 | repeats     | Pmarinus | 0.3165082 | Lamprey | NA |\n",
       "\n"
      ],
      "text/plain": [
       "  CpGs     CpGs_in_RRBS type        genome_id ratio     species class\n",
       "1 27449514 10313485     total       Pmarinus  0.3757256 Lamprey NA   \n",
       "2  3496508  1797614     CpG Islands Pmarinus  0.5141169 Lamprey NA   \n",
       "3  7342580  2884431     transcripts Pmarinus  0.3928362 Lamprey NA   \n",
       "4  1513578   645812     promoters   Pmarinus  0.4266790 Lamprey NA   \n",
       "5  3048003   964718     repeats     Pmarinus  0.3165082 Lamprey NA   "
      ]
     },
     "metadata": {},
     "output_type": "display_data"
    }
   ],
   "source": [
    "summary_df[is.na(summary_df$class),]"
   ]
  },
  {
   "cell_type": "code",
   "execution_count": 24,
   "metadata": {},
   "outputs": [],
   "source": [
    "summary_df[summary_df$species == \"Lamprey\", class:= \"Invertebrata\",]"
   ]
  },
  {
   "cell_type": "code",
   "execution_count": 25,
   "metadata": {},
   "outputs": [],
   "source": [
    "summary_df[, group:=class_short[class],]"
   ]
  },
  {
   "cell_type": "code",
   "execution_count": 26,
   "metadata": {},
   "outputs": [],
   "source": [
    "summary_df$group <- factor(summary_df$group, levels = class_short)"
   ]
  },
  {
   "cell_type": "code",
   "execution_count": 27,
   "metadata": {},
   "outputs": [
    {
     "data": {
      "image/png": "[encoded data removed]",
      "text/plain": [
       "plot without title"
      ]
     },
     "metadata": {
      "image/png": {
       "height": 420,
       "width": 420
      }
     },
     "output_type": "display_data"
    }
   ],
   "source": [
    "ggplot(summary_df, aes(x = group, y = ratio, color = class)) + geom_boxplot(outlier.shape = NA) + \n",
    "geom_jitter(alpha = 0.5) + facet_wrap(~type, nrow = 1) + \n",
    "        theme_bw() + ylim(c(0,1)) + \n",
    "        theme( legend.position = \"None\") +\n",
    "        scale_color_manual(values = class_colors) \n",
    "ggsave(file.path(output_dir, \"summary_boxplots.pdf\"), width = 12, height = 3 )"
   ]
  },
  {
   "cell_type": "code",
   "execution_count": 41,
   "metadata": {},
   "outputs": [
    {
     "data": {
      "image/png": "[encoded data removed]",
      "text/plain": [
       "plot without title"
      ]
     },
     "metadata": {
      "image/png": {
       "height": 420,
       "width": 420
      }
     },
     "output_type": "display_data"
    }
   ],
   "source": [
    "ggplot(summary_df, aes(x = group, y = ratio, color = class)) + geom_boxplot(outlier.shape = NA) + \n",
    "geom_jitter(alpha = 0.5) + facet_wrap(~type, nrow = 1) + \n",
    "        theme_bw() + ylim(c(0,1)) + \n",
    "        theme( legend.position = \"None\") +\n",
    "        scale_color_manual(values = class_colors)  + \n",
    "        geom_label_repel(data = summary_df[species %in% c(\"Human\", \"Mouse\", \"Zebrafish\")], \n",
    "                        aes(x = group, y = ratio, label = substr(species, 1, 1)), color = \"black\", alpha = 0.8)\n",
    "ggsave(file.path(output_dir, \"summary_boxplots_names.pdf\"), width = 12, height = 3 )"
   ]
  },
  {
   "cell_type": "code",
   "execution_count": null,
   "metadata": {},
   "outputs": [],
   "source": [
    "viz_sp = c(\"Mmusculus\",)"
   ]
  },
  {
   "cell_type": "code",
   "execution_count": null,
   "metadata": {},
   "outputs": [],
   "source": [
    "ggplot(summary_df, aes(x = group, y = ratio, color = class)) + geom_boxplot(outlier.shape = NA) + \n",
    "geom_jitter(alpha = 0.5) + facet_wrap(~type, nrow = 1) + \n",
    "        theme_bw() + ylim(c(0,1)) + \n",
    "        theme( legend.position = \"None\") +\n",
    "        scale_color_manual(values = class_colors) + geom_text(data = summary_df)"
   ]
  },
  {
   "cell_type": "code",
   "execution_count": 56,
   "metadata": {},
   "outputs": [
    {
     "data": {
      "text/html": [
       "<table>\n",
       "<caption>A data.table: 2 × 8</caption>\n",
       "<thead>\n",
       "\t<tr><th scope=col>CpGs</th><th scope=col>CpGs_in_RRBS</th><th scope=col>type</th><th scope=col>genome_id</th><th scope=col>ratio</th><th scope=col>species</th><th scope=col>class</th><th scope=col>group</th></tr>\n",
       "\t<tr><th scope=col>&lt;int&gt;</th><th scope=col>&lt;int&gt;</th><th scope=col>&lt;fct&gt;</th><th scope=col>&lt;chr&gt;</th><th scope=col>&lt;dbl&gt;</th><th scope=col>&lt;chr&gt;</th><th scope=col>&lt;fct&gt;</th><th scope=col>&lt;fct&gt;</th></tr>\n",
       "</thead>\n",
       "<tbody>\n",
       "\t<tr><td>    254</td><td>    65</td><td>promoters</td><td>Csabaeus </td><td>0.2559055</td><td>Green Monkey</td><td>Mammalia</td><td>Mam.</td></tr>\n",
       "\t<tr><td>1591393</td><td>654376</td><td>promoters</td><td>Mmusculus</td><td>0.4111970</td><td>Mouse       </td><td>Mammalia</td><td>Mam.</td></tr>\n",
       "</tbody>\n",
       "</table>\n"
      ],
      "text/latex": [
       "A data.table: 2 × 8\n",
       "\\begin{tabular}{llllllll}\n",
       " CpGs & CpGs\\_in\\_RRBS & type & genome\\_id & ratio & species & class & group\\\\\n",
       " <int> & <int> & <fct> & <chr> & <dbl> & <chr> & <fct> & <fct>\\\\\n",
       "\\hline\n",
       "\t     254 &     65 & promoters & Csabaeus  & 0.2559055 & Green Monkey & Mammalia & Mam.\\\\\n",
       "\t 1591393 & 654376 & promoters & Mmusculus & 0.4111970 & Mouse        & Mammalia & Mam.\\\\\n",
       "\\end{tabular}\n"
      ],
      "text/markdown": [
       "\n",
       "A data.table: 2 × 8\n",
       "\n",
       "| CpGs &lt;int&gt; | CpGs_in_RRBS &lt;int&gt; | type &lt;fct&gt; | genome_id &lt;chr&gt; | ratio &lt;dbl&gt; | species &lt;chr&gt; | class &lt;fct&gt; | group &lt;fct&gt; |\n",
       "|---|---|---|---|---|---|---|---|\n",
       "|     254 |     65 | promoters | Csabaeus  | 0.2559055 | Green Monkey | Mammalia | Mam. |\n",
       "| 1591393 | 654376 | promoters | Mmusculus | 0.4111970 | Mouse        | Mammalia | Mam. |\n",
       "\n"
      ],
      "text/plain": [
       "  CpGs    CpGs_in_RRBS type      genome_id ratio     species      class   \n",
       "1     254     65       promoters Csabaeus  0.2559055 Green Monkey Mammalia\n",
       "2 1591393 654376       promoters Mmusculus 0.4111970 Mouse        Mammalia\n",
       "  group\n",
       "1 Mam. \n",
       "2 Mam. "
      ]
     },
     "metadata": {},
     "output_type": "display_data"
    }
   ],
   "source": [
    "summary_df[class==\"Mammalia\" & type == \"promoters\" & ratio < 0.45,]"
   ]
  },
  {
   "cell_type": "code",
   "execution_count": 57,
   "metadata": {},
   "outputs": [],
   "source": [
    "write.table(summary_df, file.path(output_dir, \"summary_df.tsv\"), quote = F, row.names = F, sep = \";\") "
   ]
  },
  {
   "cell_type": "markdown",
   "metadata": {},
   "source": [
    "### Chrecking which species faled"
   ]
  },
  {
   "cell_type": "code",
   "execution_count": 16,
   "metadata": {},
   "outputs": [],
   "source": [
    "chrLengthStats <- read.table(\"/scratch/lab_bock/shared/projects/compEpi/validation/insilicoDigest/chromSizeStats.tsv\", sep = \"\\t\")"
   ]
  },
  {
   "cell_type": "code",
   "execution_count": 18,
   "metadata": {},
   "outputs": [],
   "source": [
    "setDT(chrLengthStats)"
   ]
  },
  {
   "cell_type": "code",
   "execution_count": 21,
   "metadata": {},
   "outputs": [
    {
     "data": {
      "text/html": [
       "<table>\n",
       "<thead><tr><th scope=col>Name</th><th scope=col>genome</th><th scope=col>nchr</th><th scope=col>chrSumLength</th><th scope=col>chrSumLength_100</th></tr></thead>\n",
       "<tbody>\n",
       "\t<tr><td>Human      </td><td>hg38       </td><td>  455      </td><td>3209286105 </td><td>3171759732 </td></tr>\n",
       "\t<tr><td>Mouse      </td><td>mm10       </td><td>   66      </td><td>2730871774 </td><td>2730871774 </td></tr>\n",
       "\t<tr><td>Zebrafish  </td><td>danRer11   </td><td> 1923      </td><td>1679203469 </td><td>1390091111 </td></tr>\n",
       "\t<tr><td>Chicken    </td><td>galGal6    </td><td>  464      </td><td>1065365425 </td><td>1062298020 </td></tr>\n",
       "\t<tr><td>Zebra finch</td><td>taeGut2    </td><td>37096      </td><td>1232135591 </td><td>1047003328 </td></tr>\n",
       "\t<tr><td>Opossum    </td><td>monDom5    </td><td>   11      </td><td>3605631728 </td><td>3605631728 </td></tr>\n",
       "</tbody>\n",
       "</table>\n"
      ],
      "text/latex": [
       "\\begin{tabular}{r|lllll}\n",
       " Name & genome & nchr & chrSumLength & chrSumLength\\_100\\\\\n",
       "\\hline\n",
       "\t Human       & hg38        &   455       & 3209286105  & 3171759732 \\\\\n",
       "\t Mouse       & mm10        &    66       & 2730871774  & 2730871774 \\\\\n",
       "\t Zebrafish   & danRer11    &  1923       & 1679203469  & 1390091111 \\\\\n",
       "\t Chicken     & galGal6     &   464       & 1065365425  & 1062298020 \\\\\n",
       "\t Zebra finch & taeGut2     & 37096       & 1232135591  & 1047003328 \\\\\n",
       "\t Opossum     & monDom5     &    11       & 3605631728  & 3605631728 \\\\\n",
       "\\end{tabular}\n"
      ],
      "text/markdown": [
       "\n",
       "| Name | genome | nchr | chrSumLength | chrSumLength_100 |\n",
       "|---|---|---|---|---|\n",
       "| Human       | hg38        |   455       | 3209286105  | 3171759732  |\n",
       "| Mouse       | mm10        |    66       | 2730871774  | 2730871774  |\n",
       "| Zebrafish   | danRer11    |  1923       | 1679203469  | 1390091111  |\n",
       "| Chicken     | galGal6     |   464       | 1065365425  | 1062298020  |\n",
       "| Zebra finch | taeGut2     | 37096       | 1232135591  | 1047003328  |\n",
       "| Opossum     | monDom5     |    11       | 3605631728  | 3605631728  |\n",
       "\n"
      ],
      "text/plain": [
       "  Name        genome   nchr  chrSumLength chrSumLength_100\n",
       "1 Human       hg38       455 3209286105   3171759732      \n",
       "2 Mouse       mm10        66 2730871774   2730871774      \n",
       "3 Zebrafish   danRer11  1923 1679203469   1390091111      \n",
       "4 Chicken     galGal6    464 1065365425   1062298020      \n",
       "5 Zebra finch taeGut2  37096 1232135591   1047003328      \n",
       "6 Opossum     monDom5     11 3605631728   3605631728      "
      ]
     },
     "metadata": {},
     "output_type": "display_data"
    }
   ],
   "source": [
    "head(chrLengthStats)"
   ]
  },
  {
   "cell_type": "code",
   "execution_count": 25,
   "metadata": {},
   "outputs": [
    {
     "data": {
      "text/html": [
       "12"
      ],
      "text/latex": [
       "12"
      ],
      "text/markdown": [
       "12"
      ],
      "text/plain": [
       "[1] 12"
      ]
     },
     "metadata": {},
     "output_type": "display_data"
    }
   ],
   "source": [
    "length(setdiff(chrLengthStats$Name, summary_df$species))"
   ]
  },
  {
   "cell_type": "code",
   "execution_count": 28,
   "metadata": {},
   "outputs": [],
   "source": [
    "chrLengthStats[, failed:=ifelse(chrLengthStats$Name %in% summary_df$species, \"success\", \"fail\"),]"
   ]
  },
  {
   "cell_type": "code",
   "execution_count": 27,
   "metadata": {},
   "outputs": [
    {
     "data": {
      "text/html": [
       "<ol class=list-inline>\n",
       "\t<li>TRUE</li>\n",
       "\t<li>TRUE</li>\n",
       "\t<li>TRUE</li>\n",
       "\t<li>TRUE</li>\n",
       "\t<li>TRUE</li>\n",
       "\t<li>TRUE</li>\n",
       "\t<li>TRUE</li>\n",
       "\t<li>TRUE</li>\n",
       "\t<li>TRUE</li>\n",
       "\t<li>TRUE</li>\n",
       "\t<li>TRUE</li>\n",
       "\t<li>TRUE</li>\n",
       "\t<li>TRUE</li>\n",
       "\t<li>TRUE</li>\n",
       "\t<li>TRUE</li>\n",
       "\t<li>TRUE</li>\n",
       "\t<li>FALSE</li>\n",
       "\t<li>TRUE</li>\n",
       "\t<li>TRUE</li>\n",
       "\t<li>FALSE</li>\n",
       "\t<li>TRUE</li>\n",
       "\t<li>FALSE</li>\n",
       "\t<li>FALSE</li>\n",
       "\t<li>TRUE</li>\n",
       "\t<li>TRUE</li>\n",
       "\t<li>TRUE</li>\n",
       "\t<li>FALSE</li>\n",
       "\t<li>TRUE</li>\n",
       "\t<li>TRUE</li>\n",
       "\t<li>TRUE</li>\n",
       "\t<li>FALSE</li>\n",
       "\t<li>TRUE</li>\n",
       "\t<li>FALSE</li>\n",
       "\t<li>TRUE</li>\n",
       "\t<li>TRUE</li>\n",
       "\t<li>TRUE</li>\n",
       "\t<li>FALSE</li>\n",
       "\t<li>FALSE</li>\n",
       "\t<li>TRUE</li>\n",
       "\t<li>TRUE</li>\n",
       "\t<li>TRUE</li>\n",
       "\t<li>TRUE</li>\n",
       "\t<li>TRUE</li>\n",
       "\t<li>TRUE</li>\n",
       "\t<li>FALSE</li>\n",
       "\t<li>FALSE</li>\n",
       "\t<li>FALSE</li>\n",
       "\t<li>TRUE</li>\n",
       "</ol>\n"
      ],
      "text/latex": [
       "\\begin{enumerate*}\n",
       "\\item TRUE\n",
       "\\item TRUE\n",
       "\\item TRUE\n",
       "\\item TRUE\n",
       "\\item TRUE\n",
       "\\item TRUE\n",
       "\\item TRUE\n",
       "\\item TRUE\n",
       "\\item TRUE\n",
       "\\item TRUE\n",
       "\\item TRUE\n",
       "\\item TRUE\n",
       "\\item TRUE\n",
       "\\item TRUE\n",
       "\\item TRUE\n",
       "\\item TRUE\n",
       "\\item FALSE\n",
       "\\item TRUE\n",
       "\\item TRUE\n",
       "\\item FALSE\n",
       "\\item TRUE\n",
       "\\item FALSE\n",
       "\\item FALSE\n",
       "\\item TRUE\n",
       "\\item TRUE\n",
       "\\item TRUE\n",
       "\\item FALSE\n",
       "\\item TRUE\n",
       "\\item TRUE\n",
       "\\item TRUE\n",
       "\\item FALSE\n",
       "\\item TRUE\n",
       "\\item FALSE\n",
       "\\item TRUE\n",
       "\\item TRUE\n",
       "\\item TRUE\n",
       "\\item FALSE\n",
       "\\item FALSE\n",
       "\\item TRUE\n",
       "\\item TRUE\n",
       "\\item TRUE\n",
       "\\item TRUE\n",
       "\\item TRUE\n",
       "\\item TRUE\n",
       "\\item FALSE\n",
       "\\item FALSE\n",
       "\\item FALSE\n",
       "\\item TRUE\n",
       "\\end{enumerate*}\n"
      ],
      "text/markdown": [
       "1. TRUE\n",
       "2. TRUE\n",
       "3. TRUE\n",
       "4. TRUE\n",
       "5. TRUE\n",
       "6. TRUE\n",
       "7. TRUE\n",
       "8. TRUE\n",
       "9. TRUE\n",
       "10. TRUE\n",
       "11. TRUE\n",
       "12. TRUE\n",
       "13. TRUE\n",
       "14. TRUE\n",
       "15. TRUE\n",
       "16. TRUE\n",
       "17. FALSE\n",
       "18. TRUE\n",
       "19. TRUE\n",
       "20. FALSE\n",
       "21. TRUE\n",
       "22. FALSE\n",
       "23. FALSE\n",
       "24. TRUE\n",
       "25. TRUE\n",
       "26. TRUE\n",
       "27. FALSE\n",
       "28. TRUE\n",
       "29. TRUE\n",
       "30. TRUE\n",
       "31. FALSE\n",
       "32. TRUE\n",
       "33. FALSE\n",
       "34. TRUE\n",
       "35. TRUE\n",
       "36. TRUE\n",
       "37. FALSE\n",
       "38. FALSE\n",
       "39. TRUE\n",
       "40. TRUE\n",
       "41. TRUE\n",
       "42. TRUE\n",
       "43. TRUE\n",
       "44. TRUE\n",
       "45. FALSE\n",
       "46. FALSE\n",
       "47. FALSE\n",
       "48. TRUE\n",
       "\n",
       "\n"
      ],
      "text/plain": [
       " [1]  TRUE  TRUE  TRUE  TRUE  TRUE  TRUE  TRUE  TRUE  TRUE  TRUE  TRUE  TRUE\n",
       "[13]  TRUE  TRUE  TRUE  TRUE FALSE  TRUE  TRUE FALSE  TRUE FALSE FALSE  TRUE\n",
       "[25]  TRUE  TRUE FALSE  TRUE  TRUE  TRUE FALSE  TRUE FALSE  TRUE  TRUE  TRUE\n",
       "[37] FALSE FALSE  TRUE  TRUE  TRUE  TRUE  TRUE  TRUE FALSE FALSE FALSE  TRUE"
      ]
     },
     "metadata": {},
     "output_type": "display_data"
    }
   ],
   "source": [
    "chrLengthStats$Name %in% summary_df$species"
   ]
  },
  {
   "cell_type": "code",
   "execution_count": 30,
   "metadata": {},
   "outputs": [
    {
     "data": {
      "text/html": [
       "<table>\n",
       "<thead><tr><th scope=col>Name</th><th scope=col>genome</th><th scope=col>nchr</th><th scope=col>chrSumLength</th><th scope=col>chrSumLength_100</th><th scope=col>failed</th></tr></thead>\n",
       "<tbody>\n",
       "\t<tr><td>Human               </td><td>hg38                </td><td>   455              </td><td>3209286105          </td><td>3171759732          </td><td>success             </td></tr>\n",
       "\t<tr><td>Mouse               </td><td>mm10                </td><td>    66              </td><td>2730871774          </td><td>2730871774          </td><td>success             </td></tr>\n",
       "\t<tr><td>Zebrafish           </td><td>danRer11            </td><td>  1923              </td><td>1679203469          </td><td>1390091111          </td><td>success             </td></tr>\n",
       "\t<tr><td>Chicken             </td><td>galGal6             </td><td>   464              </td><td>1065365425          </td><td>1062298020          </td><td>success             </td></tr>\n",
       "\t<tr><td>Zebra finch         </td><td>taeGut2             </td><td> 37096              </td><td>1232135591          </td><td>1047003328          </td><td>success             </td></tr>\n",
       "\t<tr><td>Opossum             </td><td>monDom5             </td><td>    11              </td><td>3605631728          </td><td>3605631728          </td><td>success             </td></tr>\n",
       "\t<tr><td>Cow                 </td><td>bosTau9             </td><td>  2211              </td><td>2715853792          </td><td>2657896138          </td><td>success             </td></tr>\n",
       "\t<tr><td>Dog                 </td><td>canFam3             </td><td>  3268              </td><td>2410976875          </td><td>2356725059          </td><td>success             </td></tr>\n",
       "\t<tr><td>Ferret              </td><td>musFur1             </td><td>  7741              </td><td>2410758013          </td><td>1458360456          </td><td>success             </td></tr>\n",
       "\t<tr><td>Chimp               </td><td>panTro6             </td><td>  4346              </td><td>3050398082          </td><td>2888958340          </td><td>success             </td></tr>\n",
       "\t<tr><td>Pig                 </td><td>susScr11            </td><td>   613              </td><td>2501912388          </td><td>2475593126          </td><td>success             </td></tr>\n",
       "\t<tr><td>Rhesus              </td><td>rheMac10            </td><td>  2939              </td><td>2971331530          </td><td>2877905456          </td><td>success             </td></tr>\n",
       "\t<tr><td>Lancelet            </td><td>braFlo1             </td><td>     2              </td><td> 926386587          </td><td> 926386587          </td><td>success             </td></tr>\n",
       "\t<tr><td>Sea Hare            </td><td>aplCal1             </td><td>  8767              </td><td> 715806041          </td><td>  89582376          </td><td>success             </td></tr>\n",
       "\t<tr><td>Lamprey             </td><td>petMar2             </td><td> 25006              </td><td> 885550958          </td><td> 109348046          </td><td>success             </td></tr>\n",
       "\t<tr><td>Elephant shark      </td><td>calMil1             </td><td> 21204              </td><td> 974498586          </td><td> 638515969          </td><td>success             </td></tr>\n",
       "\t<tr><td>Atlantic cod        </td><td>gadMor1             </td><td>427428              </td><td> 824327835          </td><td> 199448216          </td><td>fail                </td></tr>\n",
       "\t<tr><td>Nile tilapia        </td><td>oreNil2             </td><td>  5678              </td><td> 927696114          </td><td> 784022008          </td><td>success             </td></tr>\n",
       "\t<tr><td>Fugu                </td><td>fr3                 </td><td>  6835              </td><td> 391484715          </td><td> 308944832          </td><td>success             </td></tr>\n",
       "\t<tr><td>Coelacanth          </td><td>latCha1             </td><td> 22819              </td><td>2860591921          </td><td> 375225220          </td><td>fail                </td></tr>\n",
       "\t<tr><td>Tropical clawed frog</td><td>xenTro9             </td><td>  6822              </td><td>1440398454          </td><td>1343881952          </td><td>success             </td></tr>\n",
       "\t<tr><td>African clawed frog </td><td>xenLae2             </td><td>108033              </td><td>2718433805          </td><td>2645391720          </td><td>fail                </td></tr>\n",
       "\t<tr><td>Tibetan frog        </td><td>nanPar1             </td><td> 25187              </td><td>2053849526          </td><td> 337425731          </td><td>fail                </td></tr>\n",
       "\t<tr><td>American alligator  </td><td>allMis1             </td><td> 14645              </td><td>2174259888          </td><td> 200330421          </td><td>success             </td></tr>\n",
       "\t<tr><td>Garter snake        </td><td>thaSir1             </td><td>  7930              </td><td>1424897867          </td><td> 196576440          </td><td>success             </td></tr>\n",
       "\t<tr><td>Lizard              </td><td>anoCar2             </td><td>  6457              </td><td>1799143587          </td><td>1342092644          </td><td>success             </td></tr>\n",
       "\t<tr><td>Painted turtle      </td><td>chrPic1             </td><td> 80984              </td><td>2589745704          </td><td>1017560360          </td><td>fail                </td></tr>\n",
       "\t<tr><td>Medium ground finch </td><td>geoFor1             </td><td> 27239              </td><td>1065292181          </td><td> 706642168          </td><td>success             </td></tr>\n",
       "\t<tr><td>Budgeriger          </td><td>melUnd1             </td><td> 25212              </td><td>1117373619          </td><td> 916424259          </td><td>success             </td></tr>\n",
       "\t<tr><td>Golden eagle        </td><td>aquChr2             </td><td>  1141              </td><td>1192725744          </td><td> 968623067          </td><td>success             </td></tr>\n",
       "\t<tr><td>Tasmanian devil     </td><td>sarHar1             </td><td> 35974              </td><td>3174693010          </td><td> 448039337          </td><td>fail                </td></tr>\n",
       "\t<tr><td>Cat                 </td><td>felCat9             </td><td>  4508              </td><td>2521863845          </td><td>2466876021          </td><td>success             </td></tr>\n",
       "\t<tr><td>Gibbon              </td><td>nomLeu3             </td><td> 17492              </td><td>2962077449          </td><td>2827681089          </td><td>fail                </td></tr>\n",
       "\t<tr><td>Gorilla             </td><td>gorGor6             </td><td>  5486              </td><td>3044872214          </td><td>2810559693          </td><td>success             </td></tr>\n",
       "\t<tr><td>Bonobo              </td><td>panPan2             </td><td> 10274              </td><td>3286643896          </td><td>3258583518          </td><td>success             </td></tr>\n",
       "\t<tr><td>Green Monkey        </td><td>chlSab2             </td><td>  2004              </td><td>2789656328          </td><td>2774810371          </td><td>success             </td></tr>\n",
       "\t<tr><td>Megabat             </td><td>pteVam1             </td><td> 96944              </td><td>1996076410          </td><td>  64264133          </td><td>fail                </td></tr>\n",
       "\t<tr><td>Microbat            </td><td>myoLuc2             </td><td> 11654              </td><td>2034575300          </td><td> 993500656          </td><td>fail                </td></tr>\n",
       "\t<tr><td>Naked mole rat      </td><td>hetGla2             </td><td>  4229              </td><td>2618204639          </td><td>2085625605          </td><td>success             </td></tr>\n",
       "\t<tr><td>Orangutan           </td><td>ponAbe3             </td><td>  5261              </td><td>3065052215          </td><td>2876814468          </td><td>success             </td></tr>\n",
       "\t<tr><td>Rabbit              </td><td>oryCun2             </td><td>  3242              </td><td>2737490501          </td><td>2496087104          </td><td>success             </td></tr>\n",
       "\t<tr><td>Sheep               </td><td>oviAri4             </td><td>  5466              </td><td>2615516299          </td><td>2588893310          </td><td>success             </td></tr>\n",
       "\t<tr><td>Squirrel            </td><td>speTri2             </td><td> 12483              </td><td>2478393770          </td><td>1396094084          </td><td>success             </td></tr>\n",
       "\t<tr><td>Squirrel monkey     </td><td>saiBol1             </td><td>  2685              </td><td>2608572064          </td><td>2088596900          </td><td>success             </td></tr>\n",
       "\t<tr><td>Shrew               </td><td>sorAra2             </td><td> 12845              </td><td>2423158183          </td><td>1993014356          </td><td>fail                </td></tr>\n",
       "\t<tr><td>Tree shrew          </td><td>tupBel1             </td><td>150851              </td><td>3660774957          </td><td>  70380856          </td><td>fail                </td></tr>\n",
       "\t<tr><td>Wallaby             </td><td>macEug2             </td><td>277711              </td><td>3075184024          </td><td>  23864414          </td><td>fail                </td></tr>\n",
       "\t<tr><td>White rhinoceros    </td><td>cerSim1             </td><td>  3087              </td><td>2464367180          </td><td>2255613433          </td><td>success             </td></tr>\n",
       "</tbody>\n",
       "</table>\n"
      ],
      "text/latex": [
       "\\begin{tabular}{r|llllll}\n",
       " Name & genome & nchr & chrSumLength & chrSumLength\\_100 & failed\\\\\n",
       "\\hline\n",
       "\t Human                & hg38                 &    455               & 3209286105           & 3171759732           & success             \\\\\n",
       "\t Mouse                & mm10                 &     66               & 2730871774           & 2730871774           & success             \\\\\n",
       "\t Zebrafish            & danRer11             &   1923               & 1679203469           & 1390091111           & success             \\\\\n",
       "\t Chicken              & galGal6              &    464               & 1065365425           & 1062298020           & success             \\\\\n",
       "\t Zebra finch          & taeGut2              &  37096               & 1232135591           & 1047003328           & success             \\\\\n",
       "\t Opossum              & monDom5              &     11               & 3605631728           & 3605631728           & success             \\\\\n",
       "\t Cow                  & bosTau9              &   2211               & 2715853792           & 2657896138           & success             \\\\\n",
       "\t Dog                  & canFam3              &   3268               & 2410976875           & 2356725059           & success             \\\\\n",
       "\t Ferret               & musFur1              &   7741               & 2410758013           & 1458360456           & success             \\\\\n",
       "\t Chimp                & panTro6              &   4346               & 3050398082           & 2888958340           & success             \\\\\n",
       "\t Pig                  & susScr11             &    613               & 2501912388           & 2475593126           & success             \\\\\n",
       "\t Rhesus               & rheMac10             &   2939               & 2971331530           & 2877905456           & success             \\\\\n",
       "\t Lancelet             & braFlo1              &      2               &  926386587           &  926386587           & success             \\\\\n",
       "\t Sea Hare             & aplCal1              &   8767               &  715806041           &   89582376           & success             \\\\\n",
       "\t Lamprey              & petMar2              &  25006               &  885550958           &  109348046           & success             \\\\\n",
       "\t Elephant shark       & calMil1              &  21204               &  974498586           &  638515969           & success             \\\\\n",
       "\t Atlantic cod         & gadMor1              & 427428               &  824327835           &  199448216           & fail                \\\\\n",
       "\t Nile tilapia         & oreNil2              &   5678               &  927696114           &  784022008           & success             \\\\\n",
       "\t Fugu                 & fr3                  &   6835               &  391484715           &  308944832           & success             \\\\\n",
       "\t Coelacanth           & latCha1              &  22819               & 2860591921           &  375225220           & fail                \\\\\n",
       "\t Tropical clawed frog & xenTro9              &   6822               & 1440398454           & 1343881952           & success             \\\\\n",
       "\t African clawed frog  & xenLae2              & 108033               & 2718433805           & 2645391720           & fail                \\\\\n",
       "\t Tibetan frog         & nanPar1              &  25187               & 2053849526           &  337425731           & fail                \\\\\n",
       "\t American alligator   & allMis1              &  14645               & 2174259888           &  200330421           & success             \\\\\n",
       "\t Garter snake         & thaSir1              &   7930               & 1424897867           &  196576440           & success             \\\\\n",
       "\t Lizard               & anoCar2              &   6457               & 1799143587           & 1342092644           & success             \\\\\n",
       "\t Painted turtle       & chrPic1              &  80984               & 2589745704           & 1017560360           & fail                \\\\\n",
       "\t Medium ground finch  & geoFor1              &  27239               & 1065292181           &  706642168           & success             \\\\\n",
       "\t Budgeriger           & melUnd1              &  25212               & 1117373619           &  916424259           & success             \\\\\n",
       "\t Golden eagle         & aquChr2              &   1141               & 1192725744           &  968623067           & success             \\\\\n",
       "\t Tasmanian devil      & sarHar1              &  35974               & 3174693010           &  448039337           & fail                \\\\\n",
       "\t Cat                  & felCat9              &   4508               & 2521863845           & 2466876021           & success             \\\\\n",
       "\t Gibbon               & nomLeu3              &  17492               & 2962077449           & 2827681089           & fail                \\\\\n",
       "\t Gorilla              & gorGor6              &   5486               & 3044872214           & 2810559693           & success             \\\\\n",
       "\t Bonobo               & panPan2              &  10274               & 3286643896           & 3258583518           & success             \\\\\n",
       "\t Green Monkey         & chlSab2              &   2004               & 2789656328           & 2774810371           & success             \\\\\n",
       "\t Megabat              & pteVam1              &  96944               & 1996076410           &   64264133           & fail                \\\\\n",
       "\t Microbat             & myoLuc2              &  11654               & 2034575300           &  993500656           & fail                \\\\\n",
       "\t Naked mole rat       & hetGla2              &   4229               & 2618204639           & 2085625605           & success             \\\\\n",
       "\t Orangutan            & ponAbe3              &   5261               & 3065052215           & 2876814468           & success             \\\\\n",
       "\t Rabbit               & oryCun2              &   3242               & 2737490501           & 2496087104           & success             \\\\\n",
       "\t Sheep                & oviAri4              &   5466               & 2615516299           & 2588893310           & success             \\\\\n",
       "\t Squirrel             & speTri2              &  12483               & 2478393770           & 1396094084           & success             \\\\\n",
       "\t Squirrel monkey      & saiBol1              &   2685               & 2608572064           & 2088596900           & success             \\\\\n",
       "\t Shrew                & sorAra2              &  12845               & 2423158183           & 1993014356           & fail                \\\\\n",
       "\t Tree shrew           & tupBel1              & 150851               & 3660774957           &   70380856           & fail                \\\\\n",
       "\t Wallaby              & macEug2              & 277711               & 3075184024           &   23864414           & fail                \\\\\n",
       "\t White rhinoceros     & cerSim1              &   3087               & 2464367180           & 2255613433           & success             \\\\\n",
       "\\end{tabular}\n"
      ],
      "text/markdown": [
       "\n",
       "| Name | genome | nchr | chrSumLength | chrSumLength_100 | failed |\n",
       "|---|---|---|---|---|---|\n",
       "| Human                | hg38                 |    455               | 3209286105           | 3171759732           | success              |\n",
       "| Mouse                | mm10                 |     66               | 2730871774           | 2730871774           | success              |\n",
       "| Zebrafish            | danRer11             |   1923               | 1679203469           | 1390091111           | success              |\n",
       "| Chicken              | galGal6              |    464               | 1065365425           | 1062298020           | success              |\n",
       "| Zebra finch          | taeGut2              |  37096               | 1232135591           | 1047003328           | success              |\n",
       "| Opossum              | monDom5              |     11               | 3605631728           | 3605631728           | success              |\n",
       "| Cow                  | bosTau9              |   2211               | 2715853792           | 2657896138           | success              |\n",
       "| Dog                  | canFam3              |   3268               | 2410976875           | 2356725059           | success              |\n",
       "| Ferret               | musFur1              |   7741               | 2410758013           | 1458360456           | success              |\n",
       "| Chimp                | panTro6              |   4346               | 3050398082           | 2888958340           | success              |\n",
       "| Pig                  | susScr11             |    613               | 2501912388           | 2475593126           | success              |\n",
       "| Rhesus               | rheMac10             |   2939               | 2971331530           | 2877905456           | success              |\n",
       "| Lancelet             | braFlo1              |      2               |  926386587           |  926386587           | success              |\n",
       "| Sea Hare             | aplCal1              |   8767               |  715806041           |   89582376           | success              |\n",
       "| Lamprey              | petMar2              |  25006               |  885550958           |  109348046           | success              |\n",
       "| Elephant shark       | calMil1              |  21204               |  974498586           |  638515969           | success              |\n",
       "| Atlantic cod         | gadMor1              | 427428               |  824327835           |  199448216           | fail                 |\n",
       "| Nile tilapia         | oreNil2              |   5678               |  927696114           |  784022008           | success              |\n",
       "| Fugu                 | fr3                  |   6835               |  391484715           |  308944832           | success              |\n",
       "| Coelacanth           | latCha1              |  22819               | 2860591921           |  375225220           | fail                 |\n",
       "| Tropical clawed frog | xenTro9              |   6822               | 1440398454           | 1343881952           | success              |\n",
       "| African clawed frog  | xenLae2              | 108033               | 2718433805           | 2645391720           | fail                 |\n",
       "| Tibetan frog         | nanPar1              |  25187               | 2053849526           |  337425731           | fail                 |\n",
       "| American alligator   | allMis1              |  14645               | 2174259888           |  200330421           | success              |\n",
       "| Garter snake         | thaSir1              |   7930               | 1424897867           |  196576440           | success              |\n",
       "| Lizard               | anoCar2              |   6457               | 1799143587           | 1342092644           | success              |\n",
       "| Painted turtle       | chrPic1              |  80984               | 2589745704           | 1017560360           | fail                 |\n",
       "| Medium ground finch  | geoFor1              |  27239               | 1065292181           |  706642168           | success              |\n",
       "| Budgeriger           | melUnd1              |  25212               | 1117373619           |  916424259           | success              |\n",
       "| Golden eagle         | aquChr2              |   1141               | 1192725744           |  968623067           | success              |\n",
       "| Tasmanian devil      | sarHar1              |  35974               | 3174693010           |  448039337           | fail                 |\n",
       "| Cat                  | felCat9              |   4508               | 2521863845           | 2466876021           | success              |\n",
       "| Gibbon               | nomLeu3              |  17492               | 2962077449           | 2827681089           | fail                 |\n",
       "| Gorilla              | gorGor6              |   5486               | 3044872214           | 2810559693           | success              |\n",
       "| Bonobo               | panPan2              |  10274               | 3286643896           | 3258583518           | success              |\n",
       "| Green Monkey         | chlSab2              |   2004               | 2789656328           | 2774810371           | success              |\n",
       "| Megabat              | pteVam1              |  96944               | 1996076410           |   64264133           | fail                 |\n",
       "| Microbat             | myoLuc2              |  11654               | 2034575300           |  993500656           | fail                 |\n",
       "| Naked mole rat       | hetGla2              |   4229               | 2618204639           | 2085625605           | success              |\n",
       "| Orangutan            | ponAbe3              |   5261               | 3065052215           | 2876814468           | success              |\n",
       "| Rabbit               | oryCun2              |   3242               | 2737490501           | 2496087104           | success              |\n",
       "| Sheep                | oviAri4              |   5466               | 2615516299           | 2588893310           | success              |\n",
       "| Squirrel             | speTri2              |  12483               | 2478393770           | 1396094084           | success              |\n",
       "| Squirrel monkey      | saiBol1              |   2685               | 2608572064           | 2088596900           | success              |\n",
       "| Shrew                | sorAra2              |  12845               | 2423158183           | 1993014356           | fail                 |\n",
       "| Tree shrew           | tupBel1              | 150851               | 3660774957           |   70380856           | fail                 |\n",
       "| Wallaby              | macEug2              | 277711               | 3075184024           |   23864414           | fail                 |\n",
       "| White rhinoceros     | cerSim1              |   3087               | 2464367180           | 2255613433           | success              |\n",
       "\n"
      ],
      "text/plain": [
       "   Name                 genome   nchr   chrSumLength chrSumLength_100 failed \n",
       "1  Human                hg38        455 3209286105   3171759732       success\n",
       "2  Mouse                mm10         66 2730871774   2730871774       success\n",
       "3  Zebrafish            danRer11   1923 1679203469   1390091111       success\n",
       "4  Chicken              galGal6     464 1065365425   1062298020       success\n",
       "5  Zebra finch          taeGut2   37096 1232135591   1047003328       success\n",
       "6  Opossum              monDom5      11 3605631728   3605631728       success\n",
       "7  Cow                  bosTau9    2211 2715853792   2657896138       success\n",
       "8  Dog                  canFam3    3268 2410976875   2356725059       success\n",
       "9  Ferret               musFur1    7741 2410758013   1458360456       success\n",
       "10 Chimp                panTro6    4346 3050398082   2888958340       success\n",
       "11 Pig                  susScr11    613 2501912388   2475593126       success\n",
       "12 Rhesus               rheMac10   2939 2971331530   2877905456       success\n",
       "13 Lancelet             braFlo1       2  926386587    926386587       success\n",
       "14 Sea Hare             aplCal1    8767  715806041     89582376       success\n",
       "15 Lamprey              petMar2   25006  885550958    109348046       success\n",
       "16 Elephant shark       calMil1   21204  974498586    638515969       success\n",
       "17 Atlantic cod         gadMor1  427428  824327835    199448216       fail   \n",
       "18 Nile tilapia         oreNil2    5678  927696114    784022008       success\n",
       "19 Fugu                 fr3        6835  391484715    308944832       success\n",
       "20 Coelacanth           latCha1   22819 2860591921    375225220       fail   \n",
       "21 Tropical clawed frog xenTro9    6822 1440398454   1343881952       success\n",
       "22 African clawed frog  xenLae2  108033 2718433805   2645391720       fail   \n",
       "23 Tibetan frog         nanPar1   25187 2053849526    337425731       fail   \n",
       "24 American alligator   allMis1   14645 2174259888    200330421       success\n",
       "25 Garter snake         thaSir1    7930 1424897867    196576440       success\n",
       "26 Lizard               anoCar2    6457 1799143587   1342092644       success\n",
       "27 Painted turtle       chrPic1   80984 2589745704   1017560360       fail   \n",
       "28 Medium ground finch  geoFor1   27239 1065292181    706642168       success\n",
       "29 Budgeriger           melUnd1   25212 1117373619    916424259       success\n",
       "30 Golden eagle         aquChr2    1141 1192725744    968623067       success\n",
       "31 Tasmanian devil      sarHar1   35974 3174693010    448039337       fail   \n",
       "32 Cat                  felCat9    4508 2521863845   2466876021       success\n",
       "33 Gibbon               nomLeu3   17492 2962077449   2827681089       fail   \n",
       "34 Gorilla              gorGor6    5486 3044872214   2810559693       success\n",
       "35 Bonobo               panPan2   10274 3286643896   3258583518       success\n",
       "36 Green Monkey         chlSab2    2004 2789656328   2774810371       success\n",
       "37 Megabat              pteVam1   96944 1996076410     64264133       fail   \n",
       "38 Microbat             myoLuc2   11654 2034575300    993500656       fail   \n",
       "39 Naked mole rat       hetGla2    4229 2618204639   2085625605       success\n",
       "40 Orangutan            ponAbe3    5261 3065052215   2876814468       success\n",
       "41 Rabbit               oryCun2    3242 2737490501   2496087104       success\n",
       "42 Sheep                oviAri4    5466 2615516299   2588893310       success\n",
       "43 Squirrel             speTri2   12483 2478393770   1396094084       success\n",
       "44 Squirrel monkey      saiBol1    2685 2608572064   2088596900       success\n",
       "45 Shrew                sorAra2   12845 2423158183   1993014356       fail   \n",
       "46 Tree shrew           tupBel1  150851 3660774957     70380856       fail   \n",
       "47 Wallaby              macEug2  277711 3075184024     23864414       fail   \n",
       "48 White rhinoceros     cerSim1    3087 2464367180   2255613433       success"
      ]
     },
     "metadata": {},
     "output_type": "display_data"
    }
   ],
   "source": [
    "chrLengthStats"
   ]
  },
  {
   "cell_type": "code",
   "execution_count": 32,
   "metadata": {},
   "outputs": [
    {
     "data": {
      "text/html": [
       "12"
      ],
      "text/latex": [
       "12"
      ],
      "text/markdown": [
       "12"
      ],
      "text/plain": [
       "[1] 12"
      ]
     },
     "metadata": {},
     "output_type": "display_data"
    }
   ],
   "source": [
    "NROW(chrLengthStats[failed == \"fail\"])"
   ]
  },
  {
   "cell_type": "code",
   "execution_count": 38,
   "metadata": {},
   "outputs": [
    {
     "name": "stderr",
     "output_type": "stream",
     "text": [
      "`stat_bin()` using `bins = 30`. Pick better value with `binwidth`.\n",
      "\n"
     ]
    },
    {
     "data": {
      "image/png": "[encoded data removed]",
      "text/plain": [
       "plot without title"
      ]
     },
     "metadata": {
      "image/png": {
       "height": 420,
       "width": 420
      }
     },
     "output_type": "display_data"
    }
   ],
   "source": [
    "ggplot(chrLengthStats, aes(x = nchr, fill = failed)) + geom_histogram(position = \"identity\", alpha = 0.5)"
   ]
  },
  {
   "cell_type": "code",
   "execution_count": 39,
   "metadata": {},
   "outputs": [],
   "source": [
    "chrLengthStats[, ratioL:= chrSumLength_100/chrSumLength, ]"
   ]
  },
  {
   "cell_type": "code",
   "execution_count": 44,
   "metadata": {},
   "outputs": [],
   "source": [
    "library(ggrepel)"
   ]
  },
  {
   "cell_type": "code",
   "execution_count": 51,
   "metadata": {},
   "outputs": [
    {
     "data": {
      "text/html": [
       "<strong>png:</strong> 2"
      ],
      "text/latex": [
       "\\textbf{png:} 2"
      ],
      "text/markdown": [
       "**png:** 2"
      ],
      "text/plain": [
       "png \n",
       "  2 "
      ]
     },
     "metadata": {},
     "output_type": "display_data"
    }
   ],
   "source": [
    "pdf(file.path(output_dir, \"failedStats.pdf\"), width = 6, height = 5)\n",
    "ggplot(chrLengthStats, aes(x = ratioL, y = nchr, color = failed)) + geom_point() + \n",
    "geom_label_repel(data = chrLengthStats[failed == \"fail\"], aes(x = ratioL, y = nchr, color = failed, label = Name)) + theme_bw()\n",
    "ggplot(chrLengthStats, aes(x = chrSumLength, y = nchr, color = failed)) + geom_point() + \n",
    "geom_label_repel(data = chrLengthStats[failed == \"fail\"], aes(x = chrSumLength, y = nchr,color = failed, label = Name)) + theme_bw()\n",
    "ggplot(chrLengthStats, aes(x = chrSumLength, y = chrSumLength_100, color = failed)) + geom_point() + \n",
    "geom_label_repel(data = chrLengthStats[failed == \"fail\"], aes(x = chrSumLength, y = chrSumLength_100,color = failed, label = Name)) + theme_bw()\n",
    "dev.off()"
   ]
  },
  {
   "cell_type": "code",
   "execution_count": 53,
   "metadata": {},
   "outputs": [
    {
     "data": {
      "text/html": [
       "<table>\n",
       "<thead><tr><th scope=col>failed</th><th scope=col>medianL</th><th scope=col>medianN</th></tr></thead>\n",
       "<tbody>\n",
       "\t<tr><td>fail      </td><td>2654089754</td><td>58479.0   </td></tr>\n",
       "\t<tr><td>success   </td><td>2437672028</td><td> 4884.5   </td></tr>\n",
       "</tbody>\n",
       "</table>\n"
      ],
      "text/latex": [
       "\\begin{tabular}{r|lll}\n",
       " failed & medianL & medianN\\\\\n",
       "\\hline\n",
       "\t fail       & 2654089754 & 58479.0   \\\\\n",
       "\t success    & 2437672028 &  4884.5   \\\\\n",
       "\\end{tabular}\n"
      ],
      "text/markdown": [
       "\n",
       "| failed | medianL | medianN |\n",
       "|---|---|---|\n",
       "| fail       | 2654089754 | 58479.0    |\n",
       "| success    | 2437672028 |  4884.5    |\n",
       "\n"
      ],
      "text/plain": [
       "  failed  medianL    medianN\n",
       "1 fail    2654089754 58479.0\n",
       "2 success 2437672028  4884.5"
      ]
     },
     "metadata": {},
     "output_type": "display_data"
    }
   ],
   "source": [
    "chrLengthStats %>% group_by(failed) %>% summarise(medianL = median(chrSumLength), medianN = median(nchr))"
   ]
  },
  {
   "cell_type": "code",
   "execution_count": 54,
   "metadata": {},
   "outputs": [
    {
     "data": {
      "text/html": [
       "6828.5"
      ],
      "text/latex": [
       "6828.5"
      ],
      "text/markdown": [
       "6828.5"
      ],
      "text/plain": [
       "[1] 6828.5"
      ]
     },
     "metadata": {},
     "output_type": "display_data"
    }
   ],
   "source": [
    "median(chrLengthStats$nchr)"
   ]
  },
  {
   "cell_type": "code",
   "execution_count": 48,
   "metadata": {},
   "outputs": [
    {
     "data": {
      "image/png": "[encoded data removed]",
      "text/plain": [
       "plot without title"
      ]
     },
     "metadata": {
      "image/png": {
       "height": 420,
       "width": 420
      }
     },
     "output_type": "display_data"
    }
   ],
   "source": [
    "ggplot(chrLengthStats, aes(x = chrSumLength, y = nchr, color = failed)) + geom_point() + \n",
    "geom_label_repel(data = chrLengthStats[failed == \"fail\"], aes(x = chrSumLength, y = nchr,color = failed, label = Name)) + theme_bw()"
   ]
  }
 ],
 "metadata": {
  "kernelspec": {
   "display_name": "R",
   "language": "R",
   "name": "ir"
  },
  "language_info": {
   "codemirror_mode": "r",
   "file_extension": ".r",
   "mimetype": "text/x-r-source",
   "name": "R",
   "pygments_lexer": "r",
   "version": "3.6.1"
  }
 },
 "nbformat": 4,
 "nbformat_minor": 4
}
