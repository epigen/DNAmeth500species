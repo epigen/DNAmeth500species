{
 "cells": [
  {
   "cell_type": "markdown",
   "metadata": {},
   "source": [
    "## Insilico digest preparation\n",
    "Download of the reference data from the UCSC and setting up a BSgenome package for each species for the analysis of the insilico RRBS  \n",
    "Author: Daria Romanovskaia dromanovskaia@cemm.at  \n",
    "Date: 22.12.2020 (upd. 1.02.2021)"
   ]
  },
  {
   "cell_type": "code",
   "execution_count": 24,
   "metadata": {
    "collapsed": true,
    "jupyter": {
     "outputs_hidden": true
    }
   },
   "outputs": [
    {
     "name": "stderr",
     "output_type": "stream",
     "text": [
      "Loading required package: BiocGenerics\n",
      "\n",
      "Loading required package: parallel\n",
      "\n",
      "\n",
      "Attaching package: ‘BiocGenerics’\n",
      "\n",
      "\n",
      "The following objects are masked from ‘package:parallel’:\n",
      "\n",
      "    clusterApply, clusterApplyLB, clusterCall, clusterEvalQ,\n",
      "    clusterExport, clusterMap, parApply, parCapply, parLapply,\n",
      "    parLapplyLB, parRapply, parSapply, parSapplyLB\n",
      "\n",
      "\n",
      "The following objects are masked from ‘package:stats’:\n",
      "\n",
      "    IQR, mad, sd, var, xtabs\n",
      "\n",
      "\n",
      "The following objects are masked from ‘package:base’:\n",
      "\n",
      "    anyDuplicated, append, as.data.frame, basename, cbind, colnames,\n",
      "    dirname, do.call, duplicated, eval, evalq, Filter, Find, get, grep,\n",
      "    grepl, intersect, is.unsorted, lapply, Map, mapply, match, mget,\n",
      "    order, paste, pmax, pmax.int, pmin, pmin.int, Position, rank,\n",
      "    rbind, Reduce, rownames, sapply, setdiff, sort, table, tapply,\n",
      "    union, unique, unsplit, which, which.max, which.min\n",
      "\n",
      "\n",
      "Loading required package: S4Vectors\n",
      "\n",
      "Loading required package: stats4\n",
      "\n",
      "\n",
      "Attaching package: ‘S4Vectors’\n",
      "\n",
      "\n",
      "The following object is masked from ‘package:base’:\n",
      "\n",
      "    expand.grid\n",
      "\n",
      "\n",
      "Loading required package: IRanges\n",
      "\n",
      "Loading required package: XVector\n",
      "\n",
      "Warning message:\n",
      "“no function found corresponding to methods exports from ‘XVector’ for: ‘concatenateObjects’”\n",
      "Warning message:\n",
      "“multiple methods tables found for ‘type’”\n",
      "\n",
      "Attaching package: ‘Biostrings’\n",
      "\n",
      "\n",
      "The following object is masked from ‘package:BiocGenerics’:\n",
      "\n",
      "    type\n",
      "\n",
      "\n",
      "The following object is masked from ‘package:base’:\n",
      "\n",
      "    strsplit\n",
      "\n",
      "\n",
      "Loading required package: GenomicRanges\n",
      "\n",
      "Loading required package: GenomeInfoDb\n",
      "\n",
      "Warning message:\n",
      "“replacing previous import ‘BiocGenerics::dims’ by ‘Biobase::dims’ when loading ‘SummarizedExperiment’”\n",
      "Warning message:\n",
      "“replacing previous import ‘Biobase::dims’ by ‘DelayedArray::dims’ when loading ‘SummarizedExperiment’”\n",
      "Warning message:\n",
      "“replacing previous import ‘BiocGenerics::type’ by ‘Biostrings::type’ when loading ‘GenomicAlignments’”\n",
      "Warning message:\n",
      "“no function found corresponding to methods exports from ‘GenomicAlignments’ for: ‘concatenateObjects’”\n",
      "Warning message:\n",
      "“replacing previous import ‘BiocGenerics::type’ by ‘Biostrings::type’ when loading ‘BSgenome’”\n",
      "\n",
      "Attaching package: ‘dplyr’\n",
      "\n",
      "\n",
      "The following objects are masked from ‘package:GenomicRanges’:\n",
      "\n",
      "    intersect, setdiff, union\n",
      "\n",
      "\n",
      "The following object is masked from ‘package:GenomeInfoDb’:\n",
      "\n",
      "    intersect\n",
      "\n",
      "\n",
      "The following objects are masked from ‘package:Biostrings’:\n",
      "\n",
      "    collapse, intersect, setdiff, setequal, union\n",
      "\n",
      "\n",
      "The following object is masked from ‘package:XVector’:\n",
      "\n",
      "    slice\n",
      "\n",
      "\n",
      "The following objects are masked from ‘package:IRanges’:\n",
      "\n",
      "    collapse, desc, intersect, setdiff, slice, union\n",
      "\n",
      "\n",
      "The following objects are masked from ‘package:S4Vectors’:\n",
      "\n",
      "    first, intersect, rename, setdiff, setequal, union\n",
      "\n",
      "\n",
      "The following objects are masked from ‘package:BiocGenerics’:\n",
      "\n",
      "    combine, intersect, setdiff, union\n",
      "\n",
      "\n",
      "The following objects are masked from ‘package:stats’:\n",
      "\n",
      "    filter, lag\n",
      "\n",
      "\n",
      "The following objects are masked from ‘package:base’:\n",
      "\n",
      "    intersect, setdiff, setequal, union\n",
      "\n",
      "\n",
      "\n",
      "Attaching package: ‘data.table’\n",
      "\n",
      "\n",
      "The following objects are masked from ‘package:dplyr’:\n",
      "\n",
      "    between, first, last\n",
      "\n",
      "\n",
      "The following object is masked from ‘package:GenomicRanges’:\n",
      "\n",
      "    shift\n",
      "\n",
      "\n",
      "The following object is masked from ‘package:IRanges’:\n",
      "\n",
      "    shift\n",
      "\n",
      "\n",
      "The following objects are masked from ‘package:S4Vectors’:\n",
      "\n",
      "    first, second\n",
      "\n",
      "\n"
     ]
    }
   ],
   "source": [
    "library(Biostrings)\n",
    "library(rtracklayer)\n",
    "library(BSgenome)\n",
    "library(dplyr)\n",
    "library(ggplot2)\n",
    "library(data.table)"
   ]
  },
  {
   "cell_type": "markdown",
   "metadata": {},
   "source": [
    "## Set of species to analyse:  \n",
    "\n",
    "We have defined a set of speices, that are of potential interest for us as they have avaliable genomes + needed annotation tracks.\n",
    "First version of the validation_species contained only the species name and the class and was further annotated along this notebook"
   ]
  },
  {
   "cell_type": "code",
   "execution_count": 6,
   "metadata": {},
   "outputs": [
    {
     "data": {
      "text/html": [
       "'/data/groups/lab_bock/dromanovskaia/projects/DNAmeth500species/validation/src'"
      ],
      "text/latex": [
       "'/data/groups/lab\\_bock/dromanovskaia/projects/DNAmeth500species/validation/src'"
      ],
      "text/markdown": [
       "'/data/groups/lab_bock/dromanovskaia/projects/DNAmeth500species/validation/src'"
      ],
      "text/plain": [
       "[1] \"/data/groups/lab_bock/dromanovskaia/projects/DNAmeth500species/validation/src\""
      ]
     },
     "metadata": {},
     "output_type": "display_data"
    }
   ],
   "source": [
    "getwd()"
   ]
  },
  {
   "cell_type": "code",
   "execution_count": 27,
   "metadata": {},
   "outputs": [
    {
     "data": {
      "text/html": [
       "<table>\n",
       "<caption>A data.frame: 6 × 4</caption>\n",
       "<thead>\n",
       "\t<tr><th></th><th scope=col>species</th><th scope=col>ucsc_genome</th><th scope=col>class</th><th scope=col>scientific_name</th></tr>\n",
       "\t<tr><th></th><th scope=col>&lt;chr&gt;</th><th scope=col>&lt;chr&gt;</th><th scope=col>&lt;chr&gt;</th><th scope=col>&lt;chr&gt;</th></tr>\n",
       "</thead>\n",
       "<tbody>\n",
       "\t<tr><th scope=row>1</th><td>Human    </td><td>hg38    </td><td>Mammalia          </td><td>Homo sapiens       </td></tr>\n",
       "\t<tr><th scope=row>2</th><td>Mouse    </td><td>mm10    </td><td>Mammalia          </td><td>Mus musculus       </td></tr>\n",
       "\t<tr><th scope=row>3</th><td>Zebrafish</td><td>danRer11</td><td>Actinopteri       </td><td>Danio rerio        </td></tr>\n",
       "\t<tr><th scope=row>4</th><td>Lancelet </td><td>braFlo1 </td><td>Invertebrata      </td><td>Cephalochordata    </td></tr>\n",
       "\t<tr><th scope=row>5</th><td>Sea Hare </td><td>aplCal1 </td><td>Invertebrata      </td><td>Aplysia californica</td></tr>\n",
       "\t<tr><th scope=row>6</th><td>Lamprey  </td><td>petMar2 </td><td>Jawless Vertebrate</td><td>Petromyzon marinus </td></tr>\n",
       "</tbody>\n",
       "</table>\n"
      ],
      "text/latex": [
       "A data.frame: 6 × 4\n",
       "\\begin{tabular}{r|llll}\n",
       "  & species & ucsc\\_genome & class & scientific\\_name\\\\\n",
       "  & <chr> & <chr> & <chr> & <chr>\\\\\n",
       "\\hline\n",
       "\t1 & Human     & hg38     & Mammalia           & Homo sapiens       \\\\\n",
       "\t2 & Mouse     & mm10     & Mammalia           & Mus musculus       \\\\\n",
       "\t3 & Zebrafish & danRer11 & Actinopteri        & Danio rerio        \\\\\n",
       "\t4 & Lancelet  & braFlo1  & Invertebrata       & Cephalochordata    \\\\\n",
       "\t5 & Sea Hare  & aplCal1  & Invertebrata       & Aplysia californica\\\\\n",
       "\t6 & Lamprey   & petMar2  & Jawless Vertebrate & Petromyzon marinus \\\\\n",
       "\\end{tabular}\n"
      ],
      "text/markdown": [
       "\n",
       "A data.frame: 6 × 4\n",
       "\n",
       "| <!--/--> | species &lt;chr&gt; | ucsc_genome &lt;chr&gt; | class &lt;chr&gt; | scientific_name &lt;chr&gt; |\n",
       "|---|---|---|---|---|\n",
       "| 1 | Human     | hg38     | Mammalia           | Homo sapiens        |\n",
       "| 2 | Mouse     | mm10     | Mammalia           | Mus musculus        |\n",
       "| 3 | Zebrafish | danRer11 | Actinopteri        | Danio rerio         |\n",
       "| 4 | Lancelet  | braFlo1  | Invertebrata       | Cephalochordata     |\n",
       "| 5 | Sea Hare  | aplCal1  | Invertebrata       | Aplysia californica |\n",
       "| 6 | Lamprey   | petMar2  | Jawless Vertebrate | Petromyzon marinus  |\n",
       "\n"
      ],
      "text/plain": [
       "  species   ucsc_genome class              scientific_name    \n",
       "1 Human     hg38        Mammalia           Homo sapiens       \n",
       "2 Mouse     mm10        Mammalia           Mus musculus       \n",
       "3 Zebrafish danRer11    Actinopteri        Danio rerio        \n",
       "4 Lancelet  braFlo1     Invertebrata       Cephalochordata    \n",
       "5 Sea Hare  aplCal1     Invertebrata       Aplysia californica\n",
       "6 Lamprey   petMar2     Jawless Vertebrate Petromyzon marinus "
      ]
     },
     "metadata": {},
     "output_type": "display_data"
    }
   ],
   "source": [
    "df <- read.csv(\"../meta/validation_species.csv\", sep = \";\")\n",
    "head(df)"
   ]
  },
  {
   "cell_type": "code",
   "execution_count": 75,
   "metadata": {},
   "outputs": [],
   "source": [
    "output_dir <- \"/scratch/lab_bock/shared/projects/compEpi/validation/insilicoDigest/\""
   ]
  },
  {
   "cell_type": "markdown",
   "metadata": {},
   "source": [
    "## Adding information from BSgenome and UCSC\n",
    "\n",
    "#### Pre-existing genome packages"
   ]
  },
  {
   "cell_type": "markdown",
   "metadata": {},
   "source": [
    "Step 1: figuring out which genomes are available"
   ]
  },
  {
   "cell_type": "code",
   "execution_count": 29,
   "metadata": {},
   "outputs": [
    {
     "data": {
      "text/plain": [
       "\n",
       "      Alyrata    Amellifera  Aofficinalis     Athaliana       Btaurus \n",
       "            1             4             1             2             8 \n",
       "   Carietinum      Celegans   Cfamiliaris      Cjacchus  Creinhardtii \n",
       "            1             4             4             1             1 \n",
       "Dmelanogaster        Drerio      Dvirilis         Ecoli    Gaculeatus \n",
       "            5             8             1             1             2 \n",
       "      Ggallus      Hsapiens    Mdomestica Mfascicularis         Mfuro \n",
       "            6            10             1             1             1 \n",
       "     Mmulatta     Mmusculus       Osativa     Ppaniscus  Ptroglodytes \n",
       "            6             6             1             2             6 \n",
       "  Rnorvegicus   Scerevisiae       Sscrofa       Tgondii      Tguttata \n",
       "            5             3             3             1             3 \n",
       "    Vvinifera \n",
       "            3 "
      ]
     },
     "metadata": {},
     "output_type": "display_data"
    }
   ],
   "source": [
    "av_gen <- available.genomes(splitNameParts=TRUE)\n",
    "table(av_gen$organism)"
   ]
  },
  {
   "cell_type": "markdown",
   "metadata": {},
   "source": [
    "Using rtacklayer we generate a dataframe of genomes, avaliable at UCSC:"
   ]
  },
  {
   "cell_type": "code",
   "execution_count": 30,
   "metadata": {},
   "outputs": [],
   "source": [
    "genomes_avail <- ucscGenomes()"
   ]
  },
  {
   "cell_type": "markdown",
   "metadata": {},
   "source": [
    "Being paranoid, I have manually selected the genome versions for each species. Just subsetting the dataframe, preordered by the time (to take the latest) qould also do."
   ]
  },
  {
   "cell_type": "code",
   "execution_count": 31,
   "metadata": {},
   "outputs": [
    {
     "data": {
      "text/html": [
       "<table>\n",
       "<caption>A data.frame: 6 × 4</caption>\n",
       "<thead>\n",
       "\t<tr><th></th><th scope=col>db</th><th scope=col>species</th><th scope=col>date</th><th scope=col>name</th></tr>\n",
       "\t<tr><th></th><th scope=col>&lt;chr&gt;</th><th scope=col>&lt;chr&gt;</th><th scope=col>&lt;chr&gt;</th><th scope=col>&lt;chr&gt;</th></tr>\n",
       "</thead>\n",
       "<tbody>\n",
       "\t<tr><th scope=row>1</th><td>hg38   </td><td>Human </td><td>Dec. 2013</td><td>Genome Reference Consortium GRCh38 </td></tr>\n",
       "\t<tr><th scope=row>2</th><td>hg19   </td><td>Human </td><td>Feb. 2009</td><td>Genome Reference Consortium GRCh37 </td></tr>\n",
       "\t<tr><th scope=row>3</th><td>hg18   </td><td>Human </td><td>Mar. 2006</td><td>NCBI Build 36.1                    </td></tr>\n",
       "\t<tr><th scope=row>4</th><td>hg17   </td><td>Human </td><td>May 2004 </td><td>NCBI Build 35                      </td></tr>\n",
       "\t<tr><th scope=row>5</th><td>hg16   </td><td>Human </td><td>Jul. 2003</td><td>NCBI Build 34                      </td></tr>\n",
       "\t<tr><th scope=row>6</th><td>vicPac2</td><td>Alpaca</td><td>Mar. 2013</td><td>Broad Institute Vicugna_pacos-2.0.1</td></tr>\n",
       "</tbody>\n",
       "</table>\n"
      ],
      "text/latex": [
       "A data.frame: 6 × 4\n",
       "\\begin{tabular}{r|llll}\n",
       "  & db & species & date & name\\\\\n",
       "  & <chr> & <chr> & <chr> & <chr>\\\\\n",
       "\\hline\n",
       "\t1 & hg38    & Human  & Dec. 2013 & Genome Reference Consortium GRCh38 \\\\\n",
       "\t2 & hg19    & Human  & Feb. 2009 & Genome Reference Consortium GRCh37 \\\\\n",
       "\t3 & hg18    & Human  & Mar. 2006 & NCBI Build 36.1                    \\\\\n",
       "\t4 & hg17    & Human  & May 2004  & NCBI Build 35                      \\\\\n",
       "\t5 & hg16    & Human  & Jul. 2003 & NCBI Build 34                      \\\\\n",
       "\t6 & vicPac2 & Alpaca & Mar. 2013 & Broad Institute Vicugna\\_pacos-2.0.1\\\\\n",
       "\\end{tabular}\n"
      ],
      "text/markdown": [
       "\n",
       "A data.frame: 6 × 4\n",
       "\n",
       "| <!--/--> | db &lt;chr&gt; | species &lt;chr&gt; | date &lt;chr&gt; | name &lt;chr&gt; |\n",
       "|---|---|---|---|---|\n",
       "| 1 | hg38    | Human  | Dec. 2013 | Genome Reference Consortium GRCh38  |\n",
       "| 2 | hg19    | Human  | Feb. 2009 | Genome Reference Consortium GRCh37  |\n",
       "| 3 | hg18    | Human  | Mar. 2006 | NCBI Build 36.1                     |\n",
       "| 4 | hg17    | Human  | May 2004  | NCBI Build 35                       |\n",
       "| 5 | hg16    | Human  | Jul. 2003 | NCBI Build 34                       |\n",
       "| 6 | vicPac2 | Alpaca | Mar. 2013 | Broad Institute Vicugna_pacos-2.0.1 |\n",
       "\n"
      ],
      "text/plain": [
       "  db      species date      name                               \n",
       "1 hg38    Human   Dec. 2013 Genome Reference Consortium GRCh38 \n",
       "2 hg19    Human   Feb. 2009 Genome Reference Consortium GRCh37 \n",
       "3 hg18    Human   Mar. 2006 NCBI Build 36.1                    \n",
       "4 hg17    Human   May 2004  NCBI Build 35                      \n",
       "5 hg16    Human   Jul. 2003 NCBI Build 34                      \n",
       "6 vicPac2 Alpaca  Mar. 2013 Broad Institute Vicugna_pacos-2.0.1"
      ]
     },
     "metadata": {},
     "output_type": "display_data"
    }
   ],
   "source": [
    "head(genomes_avail)"
   ]
  },
  {
   "cell_type": "markdown",
   "metadata": {},
   "source": [
    "Adding the information about the official name and the release name"
   ]
  },
  {
   "cell_type": "code",
   "execution_count": 32,
   "metadata": {},
   "outputs": [],
   "source": [
    "df <- left_join(df, genomes_avail[genomes_avail$db %in% df$ucsc_genome,], by = c(\"ucsc_genome\" = \"db\", \"species\" = \"species\") )"
   ]
  },
  {
   "cell_type": "code",
   "execution_count": 33,
   "metadata": {},
   "outputs": [
    {
     "data": {
      "text/html": [
       "<table>\n",
       "<caption>A data.frame: 6 × 6</caption>\n",
       "<thead>\n",
       "\t<tr><th></th><th scope=col>species</th><th scope=col>ucsc_genome</th><th scope=col>class</th><th scope=col>scientific_name</th><th scope=col>date</th><th scope=col>name</th></tr>\n",
       "\t<tr><th></th><th scope=col>&lt;chr&gt;</th><th scope=col>&lt;chr&gt;</th><th scope=col>&lt;chr&gt;</th><th scope=col>&lt;chr&gt;</th><th scope=col>&lt;chr&gt;</th><th scope=col>&lt;chr&gt;</th></tr>\n",
       "</thead>\n",
       "<tbody>\n",
       "\t<tr><th scope=row>1</th><td>Human    </td><td>hg38    </td><td>Mammalia          </td><td>Homo sapiens       </td><td>Dec. 2013</td><td>Genome Reference Consortium GRCh38</td></tr>\n",
       "\t<tr><th scope=row>2</th><td>Mouse    </td><td>mm10    </td><td>Mammalia          </td><td>Mus musculus       </td><td>Dec. 2011</td><td>Genome Reference Consortium GRCm38</td></tr>\n",
       "\t<tr><th scope=row>3</th><td>Zebrafish</td><td>danRer11</td><td>Actinopteri       </td><td>Danio rerio        </td><td>May 2017 </td><td>Genome Reference Consortium GRCz11</td></tr>\n",
       "\t<tr><th scope=row>4</th><td>Lancelet </td><td>braFlo1 </td><td>Invertebrata      </td><td>Cephalochordata    </td><td>Mar. 2006</td><td>JGI v1.0                          </td></tr>\n",
       "\t<tr><th scope=row>5</th><td>Sea Hare </td><td>aplCal1 </td><td>Invertebrata      </td><td>Aplysia californica</td><td>Sep. 2008</td><td>Broad Release Aplcal2.0           </td></tr>\n",
       "\t<tr><th scope=row>6</th><td>Lamprey  </td><td>petMar2 </td><td>Jawless Vertebrate</td><td>Petromyzon marinus </td><td>Sep. 2010</td><td>WUGSC 7.0                         </td></tr>\n",
       "</tbody>\n",
       "</table>\n"
      ],
      "text/latex": [
       "A data.frame: 6 × 6\n",
       "\\begin{tabular}{r|llllll}\n",
       "  & species & ucsc\\_genome & class & scientific\\_name & date & name\\\\\n",
       "  & <chr> & <chr> & <chr> & <chr> & <chr> & <chr>\\\\\n",
       "\\hline\n",
       "\t1 & Human     & hg38     & Mammalia           & Homo sapiens        & Dec. 2013 & Genome Reference Consortium GRCh38\\\\\n",
       "\t2 & Mouse     & mm10     & Mammalia           & Mus musculus        & Dec. 2011 & Genome Reference Consortium GRCm38\\\\\n",
       "\t3 & Zebrafish & danRer11 & Actinopteri        & Danio rerio         & May 2017  & Genome Reference Consortium GRCz11\\\\\n",
       "\t4 & Lancelet  & braFlo1  & Invertebrata       & Cephalochordata     & Mar. 2006 & JGI v1.0                          \\\\\n",
       "\t5 & Sea Hare  & aplCal1  & Invertebrata       & Aplysia californica & Sep. 2008 & Broad Release Aplcal2.0           \\\\\n",
       "\t6 & Lamprey   & petMar2  & Jawless Vertebrate & Petromyzon marinus  & Sep. 2010 & WUGSC 7.0                         \\\\\n",
       "\\end{tabular}\n"
      ],
      "text/markdown": [
       "\n",
       "A data.frame: 6 × 6\n",
       "\n",
       "| <!--/--> | species &lt;chr&gt; | ucsc_genome &lt;chr&gt; | class &lt;chr&gt; | scientific_name &lt;chr&gt; | date &lt;chr&gt; | name &lt;chr&gt; |\n",
       "|---|---|---|---|---|---|---|\n",
       "| 1 | Human     | hg38     | Mammalia           | Homo sapiens        | Dec. 2013 | Genome Reference Consortium GRCh38 |\n",
       "| 2 | Mouse     | mm10     | Mammalia           | Mus musculus        | Dec. 2011 | Genome Reference Consortium GRCm38 |\n",
       "| 3 | Zebrafish | danRer11 | Actinopteri        | Danio rerio         | May 2017  | Genome Reference Consortium GRCz11 |\n",
       "| 4 | Lancelet  | braFlo1  | Invertebrata       | Cephalochordata     | Mar. 2006 | JGI v1.0                           |\n",
       "| 5 | Sea Hare  | aplCal1  | Invertebrata       | Aplysia californica | Sep. 2008 | Broad Release Aplcal2.0            |\n",
       "| 6 | Lamprey   | petMar2  | Jawless Vertebrate | Petromyzon marinus  | Sep. 2010 | WUGSC 7.0                          |\n",
       "\n"
      ],
      "text/plain": [
       "  species   ucsc_genome class              scientific_name     date     \n",
       "1 Human     hg38        Mammalia           Homo sapiens        Dec. 2013\n",
       "2 Mouse     mm10        Mammalia           Mus musculus        Dec. 2011\n",
       "3 Zebrafish danRer11    Actinopteri        Danio rerio         May 2017 \n",
       "4 Lancelet  braFlo1     Invertebrata       Cephalochordata     Mar. 2006\n",
       "5 Sea Hare  aplCal1     Invertebrata       Aplysia californica Sep. 2008\n",
       "6 Lamprey   petMar2     Jawless Vertebrate Petromyzon marinus  Sep. 2010\n",
       "  name                              \n",
       "1 Genome Reference Consortium GRCh38\n",
       "2 Genome Reference Consortium GRCm38\n",
       "3 Genome Reference Consortium GRCz11\n",
       "4 JGI v1.0                          \n",
       "5 Broad Release Aplcal2.0           \n",
       "6 WUGSC 7.0                         "
      ]
     },
     "metadata": {},
     "output_type": "display_data"
    }
   ],
   "source": [
    "head(df)"
   ]
  },
  {
   "cell_type": "code",
   "execution_count": 36,
   "metadata": {},
   "outputs": [],
   "source": [
    "packages <- av_gen[av_gen$genome %in% df$ucsc_genome,]"
   ]
  },
  {
   "cell_type": "code",
   "execution_count": 38,
   "metadata": {},
   "outputs": [],
   "source": [
    "colnames(packages) <- c(\"BSlibrary\", \"genome_id\", \"provider\", \"ucsc_genome\", \"masked\")"
   ]
  },
  {
   "cell_type": "code",
   "execution_count": 39,
   "metadata": {},
   "outputs": [
    {
     "data": {
      "text/html": [
       "<table>\n",
       "<caption>A data.frame: 6 × 6</caption>\n",
       "<thead>\n",
       "\t<tr><th></th><th scope=col>species</th><th scope=col>ucsc_genome</th><th scope=col>class</th><th scope=col>scientific_name</th><th scope=col>date</th><th scope=col>name</th></tr>\n",
       "\t<tr><th></th><th scope=col>&lt;chr&gt;</th><th scope=col>&lt;chr&gt;</th><th scope=col>&lt;chr&gt;</th><th scope=col>&lt;chr&gt;</th><th scope=col>&lt;chr&gt;</th><th scope=col>&lt;chr&gt;</th></tr>\n",
       "</thead>\n",
       "<tbody>\n",
       "\t<tr><th scope=row>1</th><td>Human    </td><td>hg38    </td><td>Mammalia          </td><td>Homo sapiens       </td><td>Dec. 2013</td><td>Genome Reference Consortium GRCh38</td></tr>\n",
       "\t<tr><th scope=row>2</th><td>Mouse    </td><td>mm10    </td><td>Mammalia          </td><td>Mus musculus       </td><td>Dec. 2011</td><td>Genome Reference Consortium GRCm38</td></tr>\n",
       "\t<tr><th scope=row>3</th><td>Zebrafish</td><td>danRer11</td><td>Actinopteri       </td><td>Danio rerio        </td><td>May 2017 </td><td>Genome Reference Consortium GRCz11</td></tr>\n",
       "\t<tr><th scope=row>4</th><td>Lancelet </td><td>braFlo1 </td><td>Invertebrata      </td><td>Cephalochordata    </td><td>Mar. 2006</td><td>JGI v1.0                          </td></tr>\n",
       "\t<tr><th scope=row>5</th><td>Sea Hare </td><td>aplCal1 </td><td>Invertebrata      </td><td>Aplysia californica</td><td>Sep. 2008</td><td>Broad Release Aplcal2.0           </td></tr>\n",
       "\t<tr><th scope=row>6</th><td>Lamprey  </td><td>petMar2 </td><td>Jawless Vertebrate</td><td>Petromyzon marinus </td><td>Sep. 2010</td><td>WUGSC 7.0                         </td></tr>\n",
       "</tbody>\n",
       "</table>\n"
      ],
      "text/latex": [
       "A data.frame: 6 × 6\n",
       "\\begin{tabular}{r|llllll}\n",
       "  & species & ucsc\\_genome & class & scientific\\_name & date & name\\\\\n",
       "  & <chr> & <chr> & <chr> & <chr> & <chr> & <chr>\\\\\n",
       "\\hline\n",
       "\t1 & Human     & hg38     & Mammalia           & Homo sapiens        & Dec. 2013 & Genome Reference Consortium GRCh38\\\\\n",
       "\t2 & Mouse     & mm10     & Mammalia           & Mus musculus        & Dec. 2011 & Genome Reference Consortium GRCm38\\\\\n",
       "\t3 & Zebrafish & danRer11 & Actinopteri        & Danio rerio         & May 2017  & Genome Reference Consortium GRCz11\\\\\n",
       "\t4 & Lancelet  & braFlo1  & Invertebrata       & Cephalochordata     & Mar. 2006 & JGI v1.0                          \\\\\n",
       "\t5 & Sea Hare  & aplCal1  & Invertebrata       & Aplysia californica & Sep. 2008 & Broad Release Aplcal2.0           \\\\\n",
       "\t6 & Lamprey   & petMar2  & Jawless Vertebrate & Petromyzon marinus  & Sep. 2010 & WUGSC 7.0                         \\\\\n",
       "\\end{tabular}\n"
      ],
      "text/markdown": [
       "\n",
       "A data.frame: 6 × 6\n",
       "\n",
       "| <!--/--> | species &lt;chr&gt; | ucsc_genome &lt;chr&gt; | class &lt;chr&gt; | scientific_name &lt;chr&gt; | date &lt;chr&gt; | name &lt;chr&gt; |\n",
       "|---|---|---|---|---|---|---|\n",
       "| 1 | Human     | hg38     | Mammalia           | Homo sapiens        | Dec. 2013 | Genome Reference Consortium GRCh38 |\n",
       "| 2 | Mouse     | mm10     | Mammalia           | Mus musculus        | Dec. 2011 | Genome Reference Consortium GRCm38 |\n",
       "| 3 | Zebrafish | danRer11 | Actinopteri        | Danio rerio         | May 2017  | Genome Reference Consortium GRCz11 |\n",
       "| 4 | Lancelet  | braFlo1  | Invertebrata       | Cephalochordata     | Mar. 2006 | JGI v1.0                           |\n",
       "| 5 | Sea Hare  | aplCal1  | Invertebrata       | Aplysia californica | Sep. 2008 | Broad Release Aplcal2.0            |\n",
       "| 6 | Lamprey   | petMar2  | Jawless Vertebrate | Petromyzon marinus  | Sep. 2010 | WUGSC 7.0                          |\n",
       "\n"
      ],
      "text/plain": [
       "  species   ucsc_genome class              scientific_name     date     \n",
       "1 Human     hg38        Mammalia           Homo sapiens        Dec. 2013\n",
       "2 Mouse     mm10        Mammalia           Mus musculus        Dec. 2011\n",
       "3 Zebrafish danRer11    Actinopteri        Danio rerio         May 2017 \n",
       "4 Lancelet  braFlo1     Invertebrata       Cephalochordata     Mar. 2006\n",
       "5 Sea Hare  aplCal1     Invertebrata       Aplysia californica Sep. 2008\n",
       "6 Lamprey   petMar2     Jawless Vertebrate Petromyzon marinus  Sep. 2010\n",
       "  name                              \n",
       "1 Genome Reference Consortium GRCh38\n",
       "2 Genome Reference Consortium GRCm38\n",
       "3 Genome Reference Consortium GRCz11\n",
       "4 JGI v1.0                          \n",
       "5 Broad Release Aplcal2.0           \n",
       "6 WUGSC 7.0                         "
      ]
     },
     "metadata": {},
     "output_type": "display_data"
    }
   ],
   "source": [
    "head(df)"
   ]
  },
  {
   "cell_type": "code",
   "execution_count": 42,
   "metadata": {},
   "outputs": [
    {
     "name": "stderr",
     "output_type": "stream",
     "text": [
      "Joining, by = \"ucsc_genome\"\n",
      "\n"
     ]
    },
    {
     "data": {
      "text/html": [
       "<table>\n",
       "<caption>A data.frame: 6 × 9</caption>\n",
       "<thead>\n",
       "\t<tr><th></th><th scope=col>species</th><th scope=col>ucsc_genome</th><th scope=col>class</th><th scope=col>scientific_name</th><th scope=col>date</th><th scope=col>name</th><th scope=col>BSlibrary</th><th scope=col>genome_id</th><th scope=col>provider</th></tr>\n",
       "\t<tr><th></th><th scope=col>&lt;chr&gt;</th><th scope=col>&lt;chr&gt;</th><th scope=col>&lt;chr&gt;</th><th scope=col>&lt;chr&gt;</th><th scope=col>&lt;chr&gt;</th><th scope=col>&lt;chr&gt;</th><th scope=col>&lt;chr&gt;</th><th scope=col>&lt;fct&gt;</th><th scope=col>&lt;fct&gt;</th></tr>\n",
       "</thead>\n",
       "<tbody>\n",
       "\t<tr><th scope=row>1</th><td>Human    </td><td>hg38    </td><td>Mammalia          </td><td>Homo sapiens       </td><td>Dec. 2013</td><td>Genome Reference Consortium GRCh38</td><td>BSgenome.Hsapiens.UCSC.hg38  </td><td>Hsapiens </td><td>UCSC</td></tr>\n",
       "\t<tr><th scope=row>2</th><td>Mouse    </td><td>mm10    </td><td>Mammalia          </td><td>Mus musculus       </td><td>Dec. 2011</td><td>Genome Reference Consortium GRCm38</td><td>BSgenome.Mmusculus.UCSC.mm10 </td><td>Mmusculus</td><td>UCSC</td></tr>\n",
       "\t<tr><th scope=row>3</th><td>Zebrafish</td><td>danRer11</td><td>Actinopteri       </td><td>Danio rerio        </td><td>May 2017 </td><td>Genome Reference Consortium GRCz11</td><td>BSgenome.Drerio.UCSC.danRer11</td><td>Drerio   </td><td>UCSC</td></tr>\n",
       "\t<tr><th scope=row>4</th><td>Lancelet </td><td>braFlo1 </td><td>Invertebrata      </td><td>Cephalochordata    </td><td>Mar. 2006</td><td>JGI v1.0                          </td><td>NA                           </td><td>NA       </td><td>NA  </td></tr>\n",
       "\t<tr><th scope=row>5</th><td>Sea Hare </td><td>aplCal1 </td><td>Invertebrata      </td><td>Aplysia californica</td><td>Sep. 2008</td><td>Broad Release Aplcal2.0           </td><td>NA                           </td><td>NA       </td><td>NA  </td></tr>\n",
       "\t<tr><th scope=row>6</th><td>Lamprey  </td><td>petMar2 </td><td>Jawless Vertebrate</td><td>Petromyzon marinus </td><td>Sep. 2010</td><td>WUGSC 7.0                         </td><td>NA                           </td><td>NA       </td><td>NA  </td></tr>\n",
       "</tbody>\n",
       "</table>\n"
      ],
      "text/latex": [
       "A data.frame: 6 × 9\n",
       "\\begin{tabular}{r|lllllllll}\n",
       "  & species & ucsc\\_genome & class & scientific\\_name & date & name & BSlibrary & genome\\_id & provider\\\\\n",
       "  & <chr> & <chr> & <chr> & <chr> & <chr> & <chr> & <chr> & <fct> & <fct>\\\\\n",
       "\\hline\n",
       "\t1 & Human     & hg38     & Mammalia           & Homo sapiens        & Dec. 2013 & Genome Reference Consortium GRCh38 & BSgenome.Hsapiens.UCSC.hg38   & Hsapiens  & UCSC\\\\\n",
       "\t2 & Mouse     & mm10     & Mammalia           & Mus musculus        & Dec. 2011 & Genome Reference Consortium GRCm38 & BSgenome.Mmusculus.UCSC.mm10  & Mmusculus & UCSC\\\\\n",
       "\t3 & Zebrafish & danRer11 & Actinopteri        & Danio rerio         & May 2017  & Genome Reference Consortium GRCz11 & BSgenome.Drerio.UCSC.danRer11 & Drerio    & UCSC\\\\\n",
       "\t4 & Lancelet  & braFlo1  & Invertebrata       & Cephalochordata     & Mar. 2006 & JGI v1.0                           & NA                            & NA        & NA  \\\\\n",
       "\t5 & Sea Hare  & aplCal1  & Invertebrata       & Aplysia californica & Sep. 2008 & Broad Release Aplcal2.0            & NA                            & NA        & NA  \\\\\n",
       "\t6 & Lamprey   & petMar2  & Jawless Vertebrate & Petromyzon marinus  & Sep. 2010 & WUGSC 7.0                          & NA                            & NA        & NA  \\\\\n",
       "\\end{tabular}\n"
      ],
      "text/markdown": [
       "\n",
       "A data.frame: 6 × 9\n",
       "\n",
       "| <!--/--> | species &lt;chr&gt; | ucsc_genome &lt;chr&gt; | class &lt;chr&gt; | scientific_name &lt;chr&gt; | date &lt;chr&gt; | name &lt;chr&gt; | BSlibrary &lt;chr&gt; | genome_id &lt;fct&gt; | provider &lt;fct&gt; |\n",
       "|---|---|---|---|---|---|---|---|---|---|\n",
       "| 1 | Human     | hg38     | Mammalia           | Homo sapiens        | Dec. 2013 | Genome Reference Consortium GRCh38 | BSgenome.Hsapiens.UCSC.hg38   | Hsapiens  | UCSC |\n",
       "| 2 | Mouse     | mm10     | Mammalia           | Mus musculus        | Dec. 2011 | Genome Reference Consortium GRCm38 | BSgenome.Mmusculus.UCSC.mm10  | Mmusculus | UCSC |\n",
       "| 3 | Zebrafish | danRer11 | Actinopteri        | Danio rerio         | May 2017  | Genome Reference Consortium GRCz11 | BSgenome.Drerio.UCSC.danRer11 | Drerio    | UCSC |\n",
       "| 4 | Lancelet  | braFlo1  | Invertebrata       | Cephalochordata     | Mar. 2006 | JGI v1.0                           | NA                            | NA        | NA   |\n",
       "| 5 | Sea Hare  | aplCal1  | Invertebrata       | Aplysia californica | Sep. 2008 | Broad Release Aplcal2.0            | NA                            | NA        | NA   |\n",
       "| 6 | Lamprey   | petMar2  | Jawless Vertebrate | Petromyzon marinus  | Sep. 2010 | WUGSC 7.0                          | NA                            | NA        | NA   |\n",
       "\n"
      ],
      "text/plain": [
       "  species   ucsc_genome class              scientific_name     date     \n",
       "1 Human     hg38        Mammalia           Homo sapiens        Dec. 2013\n",
       "2 Mouse     mm10        Mammalia           Mus musculus        Dec. 2011\n",
       "3 Zebrafish danRer11    Actinopteri        Danio rerio         May 2017 \n",
       "4 Lancelet  braFlo1     Invertebrata       Cephalochordata     Mar. 2006\n",
       "5 Sea Hare  aplCal1     Invertebrata       Aplysia californica Sep. 2008\n",
       "6 Lamprey   petMar2     Jawless Vertebrate Petromyzon marinus  Sep. 2010\n",
       "  name                               BSlibrary                     genome_id\n",
       "1 Genome Reference Consortium GRCh38 BSgenome.Hsapiens.UCSC.hg38   Hsapiens \n",
       "2 Genome Reference Consortium GRCm38 BSgenome.Mmusculus.UCSC.mm10  Mmusculus\n",
       "3 Genome Reference Consortium GRCz11 BSgenome.Drerio.UCSC.danRer11 Drerio   \n",
       "4 JGI v1.0                           NA                            NA       \n",
       "5 Broad Release Aplcal2.0            NA                            NA       \n",
       "6 WUGSC 7.0                          NA                            NA       \n",
       "  provider\n",
       "1 UCSC    \n",
       "2 UCSC    \n",
       "3 UCSC    \n",
       "4 NA      \n",
       "5 NA      \n",
       "6 NA      "
      ]
     },
     "metadata": {},
     "output_type": "display_data"
    }
   ],
   "source": [
    "annot_full <- full_join(df, packages[!packages$masked, c(1:4)])\n",
    "head(annot_full)"
   ]
  },
  {
   "cell_type": "code",
   "execution_count": 43,
   "metadata": {},
   "outputs": [],
   "source": [
    "write.table(annot_full, \"validation_species_resources.csv\", sep = \";\", quote = F, row.names = F)"
   ]
  },
  {
   "cell_type": "markdown",
   "metadata": {},
   "source": [
    "## Preparing the setup\n",
    "For each of the species we need to prepare a BSGenome package and download all the tracks"
   ]
  },
  {
   "cell_type": "markdown",
   "metadata": {},
   "source": [
    "### BSGenomes:"
   ]
  },
  {
   "cell_type": "markdown",
   "metadata": {},
   "source": [
    "Checking if we need to install missing BSGenome packages:"
   ]
  },
  {
   "cell_type": "code",
   "execution_count": 1,
   "metadata": {},
   "outputs": [],
   "source": [
    "df <- read.csv(\"validation_species_resources.csv\", sep = \";\", stringsAsFactors = FALSE)"
   ]
  },
  {
   "cell_type": "code",
   "execution_count": 2,
   "metadata": {},
   "outputs": [
    {
     "data": {
      "text/html": [
       "<table>\n",
       "<thead><tr><th scope=col>species</th><th scope=col>ucsc_genome</th><th scope=col>class</th><th scope=col>scientific_name</th><th scope=col>date</th><th scope=col>name</th><th scope=col>BSlibrary</th><th scope=col>genome_id</th><th scope=col>provider</th></tr></thead>\n",
       "<tbody>\n",
       "\t<tr><td>Human                             </td><td>hg38                              </td><td>Mammalia                          </td><td>Homo sapiens                      </td><td>Dec. 2013                         </td><td>Genome Reference Consortium GRCh38</td><td>BSgenome.Hsapiens.UCSC.hg38       </td><td>Hsapiens                          </td><td>UCSC                              </td></tr>\n",
       "\t<tr><td>Mouse                             </td><td>mm10                              </td><td>Mammalia                          </td><td>Mus musculus                      </td><td>Dec. 2011                         </td><td>Genome Reference Consortium GRCm38</td><td>BSgenome.Mmusculus.UCSC.mm10      </td><td>Mmusculus                         </td><td>UCSC                              </td></tr>\n",
       "\t<tr><td>Zebrafish                         </td><td>danRer11                          </td><td>Actinopteri                       </td><td>Danio rerio                       </td><td>May 2017                          </td><td>Genome Reference Consortium GRCz11</td><td>BSgenome.Drerio.UCSC.danRer11     </td><td>Drerio                            </td><td>UCSC                              </td></tr>\n",
       "\t<tr><td>Lancelet                          </td><td>braFlo1                           </td><td>Invertebrata                      </td><td>Cephalochordata                   </td><td>Mar. 2006                         </td><td>JGI v1.0                          </td><td>NA                                </td><td>NA                                </td><td>NA                                </td></tr>\n",
       "\t<tr><td>Sea Hare                          </td><td>aplCal1                           </td><td>Invertebrata                      </td><td>Aplysia californica               </td><td>Sep. 2008                         </td><td>Broad Release Aplcal2.0           </td><td>NA                                </td><td>NA                                </td><td>NA                                </td></tr>\n",
       "\t<tr><td>Lamprey                           </td><td>petMar2                           </td><td>Jawless Vertebrate                </td><td>Petromyzon marinus                </td><td>Sep. 2010                         </td><td>WUGSC 7.0                         </td><td>NA                                </td><td>NA                                </td><td>NA                                </td></tr>\n",
       "</tbody>\n",
       "</table>\n"
      ],
      "text/latex": [
       "\\begin{tabular}{r|lllllllll}\n",
       " species & ucsc\\_genome & class & scientific\\_name & date & name & BSlibrary & genome\\_id & provider\\\\\n",
       "\\hline\n",
       "\t Human                              & hg38                               & Mammalia                           & Homo sapiens                       & Dec. 2013                          & Genome Reference Consortium GRCh38 & BSgenome.Hsapiens.UCSC.hg38        & Hsapiens                           & UCSC                              \\\\\n",
       "\t Mouse                              & mm10                               & Mammalia                           & Mus musculus                       & Dec. 2011                          & Genome Reference Consortium GRCm38 & BSgenome.Mmusculus.UCSC.mm10       & Mmusculus                          & UCSC                              \\\\\n",
       "\t Zebrafish                          & danRer11                           & Actinopteri                        & Danio rerio                        & May 2017                           & Genome Reference Consortium GRCz11 & BSgenome.Drerio.UCSC.danRer11      & Drerio                             & UCSC                              \\\\\n",
       "\t Lancelet                           & braFlo1                            & Invertebrata                       & Cephalochordata                    & Mar. 2006                          & JGI v1.0                           & NA                                 & NA                                 & NA                                \\\\\n",
       "\t Sea Hare                           & aplCal1                            & Invertebrata                       & Aplysia californica                & Sep. 2008                          & Broad Release Aplcal2.0            & NA                                 & NA                                 & NA                                \\\\\n",
       "\t Lamprey                            & petMar2                            & Jawless Vertebrate                 & Petromyzon marinus                 & Sep. 2010                          & WUGSC 7.0                          & NA                                 & NA                                 & NA                                \\\\\n",
       "\\end{tabular}\n"
      ],
      "text/markdown": [
       "\n",
       "| species | ucsc_genome | class | scientific_name | date | name | BSlibrary | genome_id | provider |\n",
       "|---|---|---|---|---|---|---|---|---|\n",
       "| Human                              | hg38                               | Mammalia                           | Homo sapiens                       | Dec. 2013                          | Genome Reference Consortium GRCh38 | BSgenome.Hsapiens.UCSC.hg38        | Hsapiens                           | UCSC                               |\n",
       "| Mouse                              | mm10                               | Mammalia                           | Mus musculus                       | Dec. 2011                          | Genome Reference Consortium GRCm38 | BSgenome.Mmusculus.UCSC.mm10       | Mmusculus                          | UCSC                               |\n",
       "| Zebrafish                          | danRer11                           | Actinopteri                        | Danio rerio                        | May 2017                           | Genome Reference Consortium GRCz11 | BSgenome.Drerio.UCSC.danRer11      | Drerio                             | UCSC                               |\n",
       "| Lancelet                           | braFlo1                            | Invertebrata                       | Cephalochordata                    | Mar. 2006                          | JGI v1.0                           | NA                                 | NA                                 | NA                                 |\n",
       "| Sea Hare                           | aplCal1                            | Invertebrata                       | Aplysia californica                | Sep. 2008                          | Broad Release Aplcal2.0            | NA                                 | NA                                 | NA                                 |\n",
       "| Lamprey                            | petMar2                            | Jawless Vertebrate                 | Petromyzon marinus                 | Sep. 2010                          | WUGSC 7.0                          | NA                                 | NA                                 | NA                                 |\n",
       "\n"
      ],
      "text/plain": [
       "  species   ucsc_genome class              scientific_name     date     \n",
       "1 Human     hg38        Mammalia           Homo sapiens        Dec. 2013\n",
       "2 Mouse     mm10        Mammalia           Mus musculus        Dec. 2011\n",
       "3 Zebrafish danRer11    Actinopteri        Danio rerio         May 2017 \n",
       "4 Lancelet  braFlo1     Invertebrata       Cephalochordata     Mar. 2006\n",
       "5 Sea Hare  aplCal1     Invertebrata       Aplysia californica Sep. 2008\n",
       "6 Lamprey   petMar2     Jawless Vertebrate Petromyzon marinus  Sep. 2010\n",
       "  name                               BSlibrary                     genome_id\n",
       "1 Genome Reference Consortium GRCh38 BSgenome.Hsapiens.UCSC.hg38   Hsapiens \n",
       "2 Genome Reference Consortium GRCm38 BSgenome.Mmusculus.UCSC.mm10  Mmusculus\n",
       "3 Genome Reference Consortium GRCz11 BSgenome.Drerio.UCSC.danRer11 Drerio   \n",
       "4 JGI v1.0                           NA                            NA       \n",
       "5 Broad Release Aplcal2.0            NA                            NA       \n",
       "6 WUGSC 7.0                          NA                            NA       \n",
       "  provider\n",
       "1 UCSC    \n",
       "2 UCSC    \n",
       "3 UCSC    \n",
       "4 NA      \n",
       "5 NA      \n",
       "6 NA      "
      ]
     },
     "metadata": {},
     "output_type": "display_data"
    }
   ],
   "source": [
    "head(df)"
   ]
  },
  {
   "cell_type": "code",
   "execution_count": 45,
   "metadata": {
    "collapsed": true,
    "jupyter": {
     "outputs_hidden": true
    }
   },
   "outputs": [
    {
     "name": "stdout",
     "output_type": "stream",
     "text": [
      "[1] \"installing missing package BSgenome.Hsapiens.UCSC.hg38\"\n"
     ]
    },
    {
     "name": "stderr",
     "output_type": "stream",
     "text": [
      "Bioconductor version 3.12 (BiocManager 1.30.10), R 4.0.3 (2020-10-10)\n",
      "\n",
      "Installing package(s) 'BSgenome.Hsapiens.UCSC.hg38'\n",
      "\n",
      "Installation path not writeable, unable to update packages: actuar, affy,\n",
      "  affyio, akima, ALL, alpaca, amap, AmesHousing, annotate, AnnotationDbi, ape,\n",
      "  arm, arules, ascii, backports, bibtex, bife, biglm, Biobase, BiocGenerics,\n",
      "  BiocParallel, BiocStyle, Biostrings, bit, bit64, bladderbatch, bookdown,\n",
      "  boot, brglm, bst, Cairo, callr, candisc, car, carData, caTools, CDM,\n",
      "  checkmate, chron, class, classInt, cli, cliapp, clipr, clubSandwich, clue,\n",
      "  clValid, cmprsk, coda, codetools, colorspace, colourpicker, cowplot,\n",
      "  crosstalk, cubature, DAAG, dada2, data.tree, dbplyr, DelayedArray, deldir,\n",
      "  dendextend, Deriv, deSolve, devEMF, dfoptim, DiceKriging, diffobj, digest,\n",
      "  directlabels, dismo, doMC, doParallel, dplyr, DT, dtplyr, dtw, DynDoc, e1071,\n",
      "  earth, edgeR, effects, eha, elasticnet, ellipse, ellipsis, emmeans, emoa,\n",
      "  expm, extraDistr, FactoMineR, fBasics, fda, ff, ffbase, fGarch, fields,\n",
      "  fit.models, fitdistrplus, flare, flexdashboard, flexmix, foreach, foreign,\n",
      "  Formula, fpc, fs, FSelectorRcpp, gam, gamlss, gamlss.dist, gamm4, gbm,\n",
      "  genefilter, geneplotter, generics, GenomeInfoDb, GenomeInfoDbData,\n",
      "  GenomicAlignments, GenomicRanges, GGally, ggrepel, git2r, glmmML, glmmTMB,\n",
      "  glmnet, glmnetUtils, GlobalAncova, globaltest, glue, gmm, GO.db, golubEsets,\n",
      "  googleVis, gower, gplots, graph, gridGraphics, GSEABase, gss, gtools, h2o,\n",
      "  haven, heplots, here, Hmisc, HSAUR2, HSAUR3, htmlTable, htmltools,\n",
      "  htmlwidgets, httpuv, huge, hunspell, huxtable, ibdreg, igraph, illuminaio,\n",
      "  import, impute, inline, irace, IRanges, ISOcodes, iterators, joineR, jomo,\n",
      "  jsonlite, kableExtra, KEGG.db, KEGGgraph, KernSmooth, knitr, koRpus,\n",
      "  labeling, LaF, Lahman, lasso2, later, lattice, latticeExtra, lava, lavaan,\n",
      "  lhs, limma, lme4, lmerTest, lmtest, locfit, logspline, lokern, loo, lsa,\n",
      "  lsei, lubridate, lungExpression, magrittr, maptools, MASS, Matrix,\n",
      "  matrixStats, maxLik, mclust, mco, mda, mdmb, mediation, metafor, mets, mgcv,\n",
      "  misc3d, mlmRev, mnormt, modeldata, ModelMetrics, modeltools, mstate,\n",
      "  multcomp, multtest, MuMIn, mvtnorm, neighbr, netrankr, network, nlme, nloptr,\n",
      "  NLP, nnet, npsurv, OAIHarvester, officer, openxlsx, optimx, ordinalCont,\n",
      "  org.Hs.eg.db, orientlib, pasilla, patchwork, pbapply, pbdZMQ, pbkrtest, pbv,\n",
      "  pcaMethods, pillar, pingr, pinp, pkgbuild, pkgKitten, pkgload, PKI, plotmo,\n",
      "  plotrix, pls, plumber, pmml, polspline, pool, preprocessCore, prettydoc,\n",
      "  prim, pROC, processx, profvis, progressr, promises, proxy, ps, pscl, psych,\n",
      "  psychotools, psychTools, purrr, purrrlyr, pwr, quantreg, questionr, qvalue,\n",
      "  R.methodsS3, R.oo, R.utils, R2OpenBUGS, R6, RankAggreg, raster, rasterVis,\n",
      "  RBGL, Rcpp, RcppArmadillo, RcppEigen, RcppParallel, Rcsdp, RCurl, reactlog,\n",
      "  readr, RefManageR, remotes, reshape2, reticulate, rex, rFerns, Rgraphviz,\n",
      "  RhpcBLASctl, RInside, rJava, Rmagic, RMariaDB, rmarkdown, RMySQL, RNetCDF,\n",
      "  robustbase, ROC, ROCR, rpart.plot, rprojroot, Rsamtools, rsm, RSQLite,\n",
      "  rstantools, rstudioapi, rsvg, rticles, rucrdtw, Runuran, rversions, RWiener,\n",
      "  S4Vectors, sampleSelection, sandwich, sass, scico, servr, sfsmisc,\n",
      "  shinydashboardPlus, ShortRead, siggenes, SimDesign, slam, smcfcs, sn, sna,\n",
      "  SnowballC, sp, spam, spam64, spatial, spData, spelling, SPIA, splines2,\n",
      "  SQUAREM, SSPA, statmod, statnet.common, stopwords, stringdist, stringi,\n",
      "  subselect, SummarizedExperiment, superpc, survey, survival, sva, svs, sylly,\n",
      "  tables, TAM, tclust, TeachingDemos, testit, testthat, texreg, textdata,\n",
      "  tibble, tidygraph, tidyselect, tidytext, tikzDevice, timereg, tinytest,\n",
      "  tinytex, tkWidgets, tm, TMB, tripack, TSA, TSP, tufte, unitizer, units,\n",
      "  uroot, usethis, vcd, vctrs, vdiffr, VGAM, VGAMdata, vip, vsn, wbstats,\n",
      "  webutils, widgetTools, withr, WrightMap, xfun, xgboost, XML, xml2, xts,\n",
      "  XVector, zebrafishRNASeq, zip, zlibbioc, zoo\n",
      "\n",
      "Old packages: 'data.table', 'ggplot2', 'rlang'\n",
      "\n",
      "Bioconductor version 3.12 (BiocManager 1.30.10), R 4.0.3 (2020-10-10)\n",
      "\n",
      "Installing package(s) 'BSgenome.Hsapiens.UCSC.hg38'\n",
      "\n",
      "Installation path not writeable, unable to update packages: actuar, affy,\n",
      "  affyio, akima, ALL, alpaca, amap, AmesHousing, annotate, AnnotationDbi, ape,\n",
      "  arm, arules, ascii, backports, bibtex, bife, biglm, Biobase, BiocGenerics,\n",
      "  BiocParallel, BiocStyle, Biostrings, bit, bit64, bladderbatch, bookdown,\n",
      "  boot, brglm, bst, Cairo, callr, candisc, car, carData, caTools, CDM,\n",
      "  checkmate, chron, class, classInt, cli, cliapp, clipr, clubSandwich, clue,\n",
      "  clValid, cmprsk, coda, codetools, colorspace, colourpicker, cowplot,\n",
      "  crosstalk, cubature, DAAG, dada2, data.tree, dbplyr, DelayedArray, deldir,\n",
      "  dendextend, Deriv, deSolve, devEMF, dfoptim, DiceKriging, diffobj, digest,\n",
      "  directlabels, dismo, doMC, doParallel, dplyr, DT, dtplyr, dtw, DynDoc, e1071,\n",
      "  earth, edgeR, effects, eha, elasticnet, ellipse, ellipsis, emmeans, emoa,\n",
      "  expm, extraDistr, FactoMineR, fBasics, fda, ff, ffbase, fGarch, fields,\n",
      "  fit.models, fitdistrplus, flare, flexdashboard, flexmix, foreach, foreign,\n",
      "  Formula, fpc, fs, FSelectorRcpp, gam, gamlss, gamlss.dist, gamm4, gbm,\n",
      "  genefilter, geneplotter, generics, GenomeInfoDb, GenomeInfoDbData,\n",
      "  GenomicAlignments, GenomicRanges, GGally, ggrepel, git2r, glmmML, glmmTMB,\n",
      "  glmnet, glmnetUtils, GlobalAncova, globaltest, glue, gmm, GO.db, golubEsets,\n",
      "  googleVis, gower, gplots, graph, gridGraphics, GSEABase, gss, gtools, h2o,\n",
      "  haven, heplots, here, Hmisc, HSAUR2, HSAUR3, htmlTable, htmltools,\n",
      "  htmlwidgets, httpuv, huge, hunspell, huxtable, ibdreg, igraph, illuminaio,\n",
      "  import, impute, inline, irace, IRanges, ISOcodes, iterators, joineR, jomo,\n",
      "  jsonlite, kableExtra, KEGG.db, KEGGgraph, KernSmooth, knitr, koRpus,\n",
      "  labeling, LaF, Lahman, lasso2, later, lattice, latticeExtra, lava, lavaan,\n",
      "  lhs, limma, lme4, lmerTest, lmtest, locfit, logspline, lokern, loo, lsa,\n",
      "  lsei, lubridate, lungExpression, magrittr, maptools, MASS, Matrix,\n",
      "  matrixStats, maxLik, mclust, mco, mda, mdmb, mediation, metafor, mets, mgcv,\n",
      "  misc3d, mlmRev, mnormt, modeldata, ModelMetrics, modeltools, mstate,\n",
      "  multcomp, multtest, MuMIn, mvtnorm, neighbr, netrankr, network, nlme, nloptr,\n",
      "  NLP, nnet, npsurv, OAIHarvester, officer, openxlsx, optimx, ordinalCont,\n",
      "  org.Hs.eg.db, orientlib, pasilla, patchwork, pbapply, pbdZMQ, pbkrtest, pbv,\n",
      "  pcaMethods, pillar, pingr, pinp, pkgbuild, pkgKitten, pkgload, PKI, plotmo,\n",
      "  plotrix, pls, plumber, pmml, polspline, pool, preprocessCore, prettydoc,\n",
      "  prim, pROC, processx, profvis, progressr, promises, proxy, ps, pscl, psych,\n",
      "  psychotools, psychTools, purrr, purrrlyr, pwr, quantreg, questionr, qvalue,\n",
      "  R.methodsS3, R.oo, R.utils, R2OpenBUGS, R6, RankAggreg, raster, rasterVis,\n",
      "  RBGL, Rcpp, RcppArmadillo, RcppEigen, RcppParallel, Rcsdp, RCurl, reactlog,\n",
      "  readr, RefManageR, remotes, reshape2, reticulate, rex, rFerns, Rgraphviz,\n",
      "  RhpcBLASctl, RInside, rJava, Rmagic, RMariaDB, rmarkdown, RMySQL, RNetCDF,\n",
      "  robustbase, ROC, ROCR, rpart.plot, rprojroot, Rsamtools, rsm, RSQLite,\n",
      "  rstantools, rstudioapi, rsvg, rticles, rucrdtw, Runuran, rversions, RWiener,\n",
      "  S4Vectors, sampleSelection, sandwich, sass, scico, servr, sfsmisc,\n",
      "  shinydashboardPlus, ShortRead, siggenes, SimDesign, slam, smcfcs, sn, sna,\n",
      "  SnowballC, sp, spam, spam64, spatial, spData, spelling, SPIA, splines2,\n",
      "  SQUAREM, SSPA, statmod, statnet.common, stopwords, stringdist, stringi,\n",
      "  subselect, SummarizedExperiment, superpc, survey, survival, sva, svs, sylly,\n",
      "  tables, TAM, tclust, TeachingDemos, testit, testthat, texreg, textdata,\n",
      "  tibble, tidygraph, tidyselect, tidytext, tikzDevice, timereg, tinytest,\n",
      "  tinytex, tkWidgets, tm, TMB, tripack, TSA, TSP, tufte, unitizer, units,\n",
      "  uroot, usethis, vcd, vctrs, vdiffr, VGAM, VGAMdata, vip, vsn, wbstats,\n",
      "  webutils, widgetTools, withr, WrightMap, xfun, xgboost, XML, xml2, xts,\n",
      "  XVector, zebrafishRNASeq, zip, zlibbioc, zoo\n",
      "\n",
      "Old packages: 'data.table', 'ggplot2', 'rlang'\n",
      "\n"
     ]
    },
    {
     "name": "stdout",
     "output_type": "stream",
     "text": [
      "[1] \"package installed BSgenome.Hsapiens.UCSC.hg38\"\n",
      "[1] \"installing missing package BSgenome.Mmusculus.UCSC.mm10\"\n"
     ]
    },
    {
     "name": "stderr",
     "output_type": "stream",
     "text": [
      "Bioconductor version 3.12 (BiocManager 1.30.10), R 4.0.3 (2020-10-10)\n",
      "\n",
      "Installing package(s) 'BSgenome.Mmusculus.UCSC.mm10'\n",
      "\n",
      "Warning message in install.packages(...):\n",
      "“installation of package ‘BSgenome.Mmusculus.UCSC.mm10’ had non-zero exit status”\n",
      "Installation path not writeable, unable to update packages: actuar, affy,\n",
      "  affyio, akima, ALL, alpaca, amap, AmesHousing, annotate, AnnotationDbi, ape,\n",
      "  arm, arules, ascii, backports, bibtex, bife, biglm, Biobase, BiocGenerics,\n",
      "  BiocParallel, BiocStyle, Biostrings, bit, bit64, bladderbatch, bookdown,\n",
      "  boot, brglm, bst, Cairo, callr, candisc, car, carData, caTools, CDM,\n",
      "  checkmate, chron, class, classInt, cli, cliapp, clipr, clubSandwich, clue,\n",
      "  clValid, cmprsk, coda, codetools, colorspace, colourpicker, cowplot,\n",
      "  crosstalk, cubature, DAAG, dada2, data.tree, dbplyr, DelayedArray, deldir,\n",
      "  dendextend, Deriv, deSolve, devEMF, dfoptim, DiceKriging, diffobj, digest,\n",
      "  directlabels, dismo, doMC, doParallel, dplyr, DT, dtplyr, dtw, DynDoc, e1071,\n",
      "  earth, edgeR, effects, eha, elasticnet, ellipse, ellipsis, emmeans, emoa,\n",
      "  expm, extraDistr, FactoMineR, fBasics, fda, ff, ffbase, fGarch, fields,\n",
      "  fit.models, fitdistrplus, flare, flexdashboard, flexmix, foreach, foreign,\n",
      "  Formula, fpc, fs, FSelectorRcpp, gam, gamlss, gamlss.dist, gamm4, gbm,\n",
      "  genefilter, geneplotter, generics, GenomeInfoDb, GenomeInfoDbData,\n",
      "  GenomicAlignments, GenomicRanges, GGally, ggrepel, git2r, glmmML, glmmTMB,\n",
      "  glmnet, glmnetUtils, GlobalAncova, globaltest, glue, gmm, GO.db, golubEsets,\n",
      "  googleVis, gower, gplots, graph, gridGraphics, GSEABase, gss, gtools, h2o,\n",
      "  haven, heplots, here, Hmisc, HSAUR2, HSAUR3, htmlTable, htmltools,\n",
      "  htmlwidgets, httpuv, huge, hunspell, huxtable, ibdreg, igraph, illuminaio,\n",
      "  import, impute, inline, irace, IRanges, ISOcodes, iterators, joineR, jomo,\n",
      "  jsonlite, kableExtra, KEGG.db, KEGGgraph, KernSmooth, knitr, koRpus,\n",
      "  labeling, LaF, Lahman, lasso2, later, lattice, latticeExtra, lava, lavaan,\n",
      "  lhs, limma, lme4, lmerTest, lmtest, locfit, logspline, lokern, loo, lsa,\n",
      "  lsei, lubridate, lungExpression, magrittr, maptools, MASS, Matrix,\n",
      "  matrixStats, maxLik, mclust, mco, mda, mdmb, mediation, metafor, mets, mgcv,\n",
      "  misc3d, mlmRev, mnormt, modeldata, ModelMetrics, modeltools, mstate,\n",
      "  multcomp, multtest, MuMIn, mvtnorm, neighbr, netrankr, network, nlme, nloptr,\n",
      "  NLP, nnet, npsurv, OAIHarvester, officer, openxlsx, optimx, ordinalCont,\n",
      "  org.Hs.eg.db, orientlib, pasilla, patchwork, pbapply, pbdZMQ, pbkrtest, pbv,\n",
      "  pcaMethods, pillar, pingr, pinp, pkgbuild, pkgKitten, pkgload, PKI, plotmo,\n",
      "  plotrix, pls, plumber, pmml, polspline, pool, preprocessCore, prettydoc,\n",
      "  prim, pROC, processx, profvis, progressr, promises, proxy, ps, pscl, psych,\n",
      "  psychotools, psychTools, purrr, purrrlyr, pwr, quantreg, questionr, qvalue,\n",
      "  R.methodsS3, R.oo, R.utils, R2OpenBUGS, R6, RankAggreg, raster, rasterVis,\n",
      "  RBGL, Rcpp, RcppArmadillo, RcppEigen, RcppParallel, Rcsdp, RCurl, reactlog,\n",
      "  readr, RefManageR, remotes, reshape2, reticulate, rex, rFerns, Rgraphviz,\n",
      "  RhpcBLASctl, RInside, rJava, Rmagic, RMariaDB, rmarkdown, RMySQL, RNetCDF,\n",
      "  robustbase, ROC, ROCR, rpart.plot, rprojroot, Rsamtools, rsm, RSQLite,\n",
      "  rstantools, rstudioapi, rsvg, rticles, rucrdtw, Runuran, rversions, RWiener,\n",
      "  S4Vectors, sampleSelection, sandwich, sass, scico, servr, sfsmisc,\n",
      "  shinydashboardPlus, ShortRead, siggenes, SimDesign, slam, smcfcs, sn, sna,\n",
      "  SnowballC, sp, spam, spam64, spatial, spData, spelling, SPIA, splines2,\n",
      "  SQUAREM, SSPA, statmod, statnet.common, stopwords, stringdist, stringi,\n",
      "  subselect, SummarizedExperiment, superpc, survey, survival, sva, svs, sylly,\n",
      "  tables, TAM, tclust, TeachingDemos, testit, testthat, texreg, textdata,\n",
      "  tibble, tidygraph, tidyselect, tidytext, tikzDevice, timereg, tinytest,\n",
      "  tinytex, tkWidgets, tm, TMB, tripack, TSA, TSP, tufte, unitizer, units,\n",
      "  uroot, usethis, vcd, vctrs, vdiffr, VGAM, VGAMdata, vip, vsn, wbstats,\n",
      "  webutils, widgetTools, withr, WrightMap, xfun, xgboost, XML, xml2, xts,\n",
      "  XVector, zebrafishRNASeq, zip, zlibbioc, zoo\n",
      "\n",
      "Old packages: 'data.table', 'ggplot2', 'rlang'\n",
      "\n",
      "Bioconductor version 3.12 (BiocManager 1.30.10), R 4.0.3 (2020-10-10)\n",
      "\n",
      "Installing package(s) 'BSgenome.Mmusculus.UCSC.mm10'\n",
      "\n",
      "Warning message in install.packages(...):\n",
      "“installation of package ‘BSgenome.Mmusculus.UCSC.mm10’ had non-zero exit status”\n",
      "Installation path not writeable, unable to update packages: actuar, affy,\n",
      "  affyio, akima, ALL, alpaca, amap, AmesHousing, annotate, AnnotationDbi, ape,\n",
      "  arm, arules, ascii, backports, bibtex, bife, biglm, Biobase, BiocGenerics,\n",
      "  BiocParallel, BiocStyle, Biostrings, bit, bit64, bladderbatch, bookdown,\n",
      "  boot, brglm, bst, Cairo, callr, candisc, car, carData, caTools, CDM,\n",
      "  checkmate, chron, class, classInt, cli, cliapp, clipr, clubSandwich, clue,\n",
      "  clValid, cmprsk, coda, codetools, colorspace, colourpicker, cowplot,\n",
      "  crosstalk, cubature, DAAG, dada2, data.tree, dbplyr, DelayedArray, deldir,\n",
      "  dendextend, Deriv, deSolve, devEMF, dfoptim, DiceKriging, diffobj, digest,\n",
      "  directlabels, dismo, doMC, doParallel, dplyr, DT, dtplyr, dtw, DynDoc, e1071,\n",
      "  earth, edgeR, effects, eha, elasticnet, ellipse, ellipsis, emmeans, emoa,\n",
      "  expm, extraDistr, FactoMineR, fBasics, fda, ff, ffbase, fGarch, fields,\n",
      "  fit.models, fitdistrplus, flare, flexdashboard, flexmix, foreach, foreign,\n",
      "  Formula, fpc, fs, FSelectorRcpp, gam, gamlss, gamlss.dist, gamm4, gbm,\n",
      "  genefilter, geneplotter, generics, GenomeInfoDb, GenomeInfoDbData,\n",
      "  GenomicAlignments, GenomicRanges, GGally, ggrepel, git2r, glmmML, glmmTMB,\n",
      "  glmnet, glmnetUtils, GlobalAncova, globaltest, glue, gmm, GO.db, golubEsets,\n",
      "  googleVis, gower, gplots, graph, gridGraphics, GSEABase, gss, gtools, h2o,\n",
      "  haven, heplots, here, Hmisc, HSAUR2, HSAUR3, htmlTable, htmltools,\n",
      "  htmlwidgets, httpuv, huge, hunspell, huxtable, ibdreg, igraph, illuminaio,\n",
      "  import, impute, inline, irace, IRanges, ISOcodes, iterators, joineR, jomo,\n",
      "  jsonlite, kableExtra, KEGG.db, KEGGgraph, KernSmooth, knitr, koRpus,\n",
      "  labeling, LaF, Lahman, lasso2, later, lattice, latticeExtra, lava, lavaan,\n",
      "  lhs, limma, lme4, lmerTest, lmtest, locfit, logspline, lokern, loo, lsa,\n",
      "  lsei, lubridate, lungExpression, magrittr, maptools, MASS, Matrix,\n",
      "  matrixStats, maxLik, mclust, mco, mda, mdmb, mediation, metafor, mets, mgcv,\n",
      "  misc3d, mlmRev, mnormt, modeldata, ModelMetrics, modeltools, mstate,\n",
      "  multcomp, multtest, MuMIn, mvtnorm, neighbr, netrankr, network, nlme, nloptr,\n",
      "  NLP, nnet, npsurv, OAIHarvester, officer, openxlsx, optimx, ordinalCont,\n",
      "  org.Hs.eg.db, orientlib, pasilla, patchwork, pbapply, pbdZMQ, pbkrtest, pbv,\n",
      "  pcaMethods, pillar, pingr, pinp, pkgbuild, pkgKitten, pkgload, PKI, plotmo,\n",
      "  plotrix, pls, plumber, pmml, polspline, pool, preprocessCore, prettydoc,\n",
      "  prim, pROC, processx, profvis, progressr, promises, proxy, ps, pscl, psych,\n",
      "  psychotools, psychTools, purrr, purrrlyr, pwr, quantreg, questionr, qvalue,\n",
      "  R.methodsS3, R.oo, R.utils, R2OpenBUGS, R6, RankAggreg, raster, rasterVis,\n",
      "  RBGL, Rcpp, RcppArmadillo, RcppEigen, RcppParallel, Rcsdp, RCurl, reactlog,\n",
      "  readr, RefManageR, remotes, reshape2, reticulate, rex, rFerns, Rgraphviz,\n",
      "  RhpcBLASctl, RInside, rJava, Rmagic, RMariaDB, rmarkdown, RMySQL, RNetCDF,\n",
      "  robustbase, ROC, ROCR, rpart.plot, rprojroot, Rsamtools, rsm, RSQLite,\n",
      "  rstantools, rstudioapi, rsvg, rticles, rucrdtw, Runuran, rversions, RWiener,\n",
      "  S4Vectors, sampleSelection, sandwich, sass, scico, servr, sfsmisc,\n",
      "  shinydashboardPlus, ShortRead, siggenes, SimDesign, slam, smcfcs, sn, sna,\n",
      "  SnowballC, sp, spam, spam64, spatial, spData, spelling, SPIA, splines2,\n",
      "  SQUAREM, SSPA, statmod, statnet.common, stopwords, stringdist, stringi,\n",
      "  subselect, SummarizedExperiment, superpc, survey, survival, sva, svs, sylly,\n",
      "  tables, TAM, tclust, TeachingDemos, testit, testthat, texreg, textdata,\n",
      "  tibble, tidygraph, tidyselect, tidytext, tikzDevice, timereg, tinytest,\n",
      "  tinytex, tkWidgets, tm, TMB, tripack, TSA, TSP, tufte, unitizer, units,\n",
      "  uroot, usethis, vcd, vctrs, vdiffr, VGAM, VGAMdata, vip, vsn, wbstats,\n",
      "  webutils, widgetTools, withr, WrightMap, xfun, xgboost, XML, xml2, xts,\n",
      "  XVector, zebrafishRNASeq, zip, zlibbioc, zoo\n",
      "\n",
      "Old packages: 'data.table', 'ggplot2', 'rlang'\n",
      "\n"
     ]
    },
    {
     "ename": "ERROR",
     "evalue": "Error in library(BSlibrary, character.only = TRUE): there is no package called ‘BSgenome.Mmusculus.UCSC.mm10’\n",
     "output_type": "error",
     "traceback": [
      "Error in library(BSlibrary, character.only = TRUE): there is no package called ‘BSgenome.Mmusculus.UCSC.mm10’\nTraceback:\n",
      "1. tryCatch({\n .     library(BSlibrary, character.only = TRUE)\n . }, warning = function(w) {\n .     print(\"some warnings there\")\n . }, error = function(e) {\n .     print(paste0(\"installing missing package \", BSlibrary))\n .     BiocManager::install(BiocManager::install(BSlibrary, character.only = TRUE))\n .     library(BSlibrary, character.only = TRUE)\n . }, finally = {\n .     print(paste0(\"package installed \", BSlibrary))\n . })",
      "2. tryCatchList(expr, classes, parentenv, handlers)",
      "3. tryCatchOne(tryCatchList(expr, names[-nh], parentenv, handlers[-nh]), \n .     names[nh], parentenv, handlers[[nh]])",
      "4. value[[3L]](cond)",
      "5. library(BSlibrary, character.only = TRUE)"
     ]
    },
    {
     "name": "stdout",
     "output_type": "stream",
     "text": [
      "[1] \"package installed BSgenome.Mmusculus.UCSC.mm10\"\n"
     ]
    }
   ],
   "source": [
    "for (BSlibrary in na.omit(df$BSlibrary)) {\n",
    "    result <- tryCatch({\n",
    "    library(BSlibrary, character.only = TRUE)\n",
    "        }, warning = function(w) {\n",
    "    print(\"some warnings there\")\n",
    "        }, error = function(e) {\n",
    "        print(paste0(\"installing missing package \", BSlibrary))\n",
    "        BiocManager::install(BiocManager::install(BSlibrary, character.only = TRUE))\n",
    "        library(BSlibrary, character.only = TRUE)\n",
    "    }, finally = {\n",
    "    print(paste0(\"package installed \", BSlibrary))\n",
    "    })\n",
    "    }"
   ]
  },
  {
   "cell_type": "markdown",
   "metadata": {},
   "source": [
    "### Self-making the non-provided packages"
   ]
  },
  {
   "cell_type": "markdown",
   "metadata": {},
   "source": [
    "For the non-existing genomes we will forge the BSgenomes from the sequences, downloaded from UCSC  \n",
    "Detailed explanation can be found here: https://bioconductor.org/packages/release/bioc/vignettes/BSgenome/inst/doc/BSgenomeForge.pdf"
   ]
  },
  {
   "cell_type": "code",
   "execution_count": 24,
   "metadata": {},
   "outputs": [
    {
     "data": {
      "text/html": [
       "<table>\n",
       "<thead><tr><th scope=col>species</th><th scope=col>ucsc_genome</th><th scope=col>class</th><th scope=col>scientific_name</th><th scope=col>date</th><th scope=col>name</th><th scope=col>BSlibrary</th><th scope=col>genome_id</th><th scope=col>provider</th></tr></thead>\n",
       "<tbody>\n",
       "\t<tr><td>Mouse                             </td><td>mm10                              </td><td>Mammalia                          </td><td>Mus musculus                      </td><td>Dec. 2011                         </td><td>Genome Reference Consortium GRCm38</td><td>BSgenome.Mmusculus.UCSC.mm10      </td><td>Mmusculus                         </td><td>UCSC                              </td></tr>\n",
       "\t<tr><td>Zebrafish                         </td><td>danRer11                          </td><td>Actinopteri                       </td><td>Danio rerio                       </td><td>May 2017                          </td><td>Genome Reference Consortium GRCz11</td><td>BSgenome.Drerio.UCSC.danRer11     </td><td>Drerio                            </td><td>UCSC                              </td></tr>\n",
       "\t<tr><td>Lancelet                          </td><td>braFlo1                           </td><td>Invertebrata                      </td><td>Cephalochordata                   </td><td>Mar. 2006                         </td><td>JGI v1.0                          </td><td>NA                                </td><td>NA                                </td><td>NA                                </td></tr>\n",
       "\t<tr><td>Sea Hare                          </td><td>aplCal1                           </td><td>Invertebrata                      </td><td>Aplysia californica               </td><td>Sep. 2008                         </td><td>Broad Release Aplcal2.0           </td><td>NA                                </td><td>NA                                </td><td>NA                                </td></tr>\n",
       "\t<tr><td>Lamprey                           </td><td>petMar2                           </td><td>Jawless Vertebrate                </td><td>Petromyzon marinus                </td><td>Sep. 2010                         </td><td>WUGSC 7.0                         </td><td>NA                                </td><td>NA                                </td><td>NA                                </td></tr>\n",
       "\t<tr><td>Elephant shark                    </td><td>calMil1                           </td><td>Chondrichthyes                    </td><td>Callorhinchus milii               </td><td>Dec. 2013                         </td><td>IMCB Callorhinchus_milli_6.1.3    </td><td>NA                                </td><td>NA                                </td><td>NA                                </td></tr>\n",
       "</tbody>\n",
       "</table>\n"
      ],
      "text/latex": [
       "\\begin{tabular}{r|lllllllll}\n",
       " species & ucsc\\_genome & class & scientific\\_name & date & name & BSlibrary & genome\\_id & provider\\\\\n",
       "\\hline\n",
       "\t Mouse                              & mm10                               & Mammalia                           & Mus musculus                       & Dec. 2011                          & Genome Reference Consortium GRCm38 & BSgenome.Mmusculus.UCSC.mm10       & Mmusculus                          & UCSC                              \\\\\n",
       "\t Zebrafish                          & danRer11                           & Actinopteri                        & Danio rerio                        & May 2017                           & Genome Reference Consortium GRCz11 & BSgenome.Drerio.UCSC.danRer11      & Drerio                             & UCSC                              \\\\\n",
       "\t Lancelet                           & braFlo1                            & Invertebrata                       & Cephalochordata                    & Mar. 2006                          & JGI v1.0                           & NA                                 & NA                                 & NA                                \\\\\n",
       "\t Sea Hare                           & aplCal1                            & Invertebrata                       & Aplysia californica                & Sep. 2008                          & Broad Release Aplcal2.0            & NA                                 & NA                                 & NA                                \\\\\n",
       "\t Lamprey                            & petMar2                            & Jawless Vertebrate                 & Petromyzon marinus                 & Sep. 2010                          & WUGSC 7.0                          & NA                                 & NA                                 & NA                                \\\\\n",
       "\t Elephant shark                         & calMil1                                & Chondrichthyes                         & Callorhinchus milii                    & Dec. 2013                              & IMCB Callorhinchus\\_milli\\_6.1.3     & NA                                     & NA                                     & NA                                    \\\\\n",
       "\\end{tabular}\n"
      ],
      "text/markdown": [
       "\n",
       "| species | ucsc_genome | class | scientific_name | date | name | BSlibrary | genome_id | provider |\n",
       "|---|---|---|---|---|---|---|---|---|\n",
       "| Mouse                              | mm10                               | Mammalia                           | Mus musculus                       | Dec. 2011                          | Genome Reference Consortium GRCm38 | BSgenome.Mmusculus.UCSC.mm10       | Mmusculus                          | UCSC                               |\n",
       "| Zebrafish                          | danRer11                           | Actinopteri                        | Danio rerio                        | May 2017                           | Genome Reference Consortium GRCz11 | BSgenome.Drerio.UCSC.danRer11      | Drerio                             | UCSC                               |\n",
       "| Lancelet                           | braFlo1                            | Invertebrata                       | Cephalochordata                    | Mar. 2006                          | JGI v1.0                           | NA                                 | NA                                 | NA                                 |\n",
       "| Sea Hare                           | aplCal1                            | Invertebrata                       | Aplysia californica                | Sep. 2008                          | Broad Release Aplcal2.0            | NA                                 | NA                                 | NA                                 |\n",
       "| Lamprey                            | petMar2                            | Jawless Vertebrate                 | Petromyzon marinus                 | Sep. 2010                          | WUGSC 7.0                          | NA                                 | NA                                 | NA                                 |\n",
       "| Elephant shark                     | calMil1                            | Chondrichthyes                     | Callorhinchus milii                | Dec. 2013                          | IMCB Callorhinchus_milli_6.1.3     | NA                                 | NA                                 | NA                                 |\n",
       "\n"
      ],
      "text/plain": [
       "  species        ucsc_genome class              scientific_name     date     \n",
       "1 Mouse          mm10        Mammalia           Mus musculus        Dec. 2011\n",
       "2 Zebrafish      danRer11    Actinopteri        Danio rerio         May 2017 \n",
       "3 Lancelet       braFlo1     Invertebrata       Cephalochordata     Mar. 2006\n",
       "4 Sea Hare       aplCal1     Invertebrata       Aplysia californica Sep. 2008\n",
       "5 Lamprey        petMar2     Jawless Vertebrate Petromyzon marinus  Sep. 2010\n",
       "6 Elephant shark calMil1     Chondrichthyes     Callorhinchus milii Dec. 2013\n",
       "  name                               BSlibrary                     genome_id\n",
       "1 Genome Reference Consortium GRCm38 BSgenome.Mmusculus.UCSC.mm10  Mmusculus\n",
       "2 Genome Reference Consortium GRCz11 BSgenome.Drerio.UCSC.danRer11 Drerio   \n",
       "3 JGI v1.0                           NA                            NA       \n",
       "4 Broad Release Aplcal2.0            NA                            NA       \n",
       "5 WUGSC 7.0                          NA                            NA       \n",
       "6 IMCB Callorhinchus_milli_6.1.3     NA                            NA       \n",
       "  provider\n",
       "1 UCSC    \n",
       "2 UCSC    \n",
       "3 NA      \n",
       "4 NA      \n",
       "5 NA      \n",
       "6 NA      "
      ]
     },
     "metadata": {},
     "output_type": "display_data"
    }
   ],
   "source": [
    "head(df)"
   ]
  },
  {
   "cell_type": "code",
   "execution_count": 25,
   "metadata": {},
   "outputs": [],
   "source": [
    "df_toforge <- df[is.na(df$BSlibrary),]"
   ]
  },
  {
   "cell_type": "code",
   "execution_count": 26,
   "metadata": {},
   "outputs": [],
   "source": [
    "setDT(df_toforge)"
   ]
  },
  {
   "cell_type": "code",
   "execution_count": 27,
   "metadata": {},
   "outputs": [],
   "source": [
    "df_toforge[,provider:=\"custom_from_UCSC\",]"
   ]
  },
  {
   "cell_type": "markdown",
   "metadata": {},
   "source": [
    "#### Step 1: download the genome sequences\n",
    "\n",
    "We will download the 2bit files from the bigZip repository of the UCSC and place them into data/genome/genome_id \n",
    "The wget link is designed as http://hgdownload.soe.ucsc.edu/goldenPath/uscs_genome/bigZips/ucsc_genome.2bit  \n",
    "\n",
    "The genome_id is combined as the first letter of the first word of the latin names plus the last"
   ]
  },
  {
   "cell_type": "code",
   "execution_count": 20,
   "metadata": {},
   "outputs": [],
   "source": [
    "generate_genome_id <- function(id){\n",
    "    print(id)\n",
    "    id_split <- strsplit(as.character(id), split = \" \")[[1]]\n",
    "    l <- length(id_split)\n",
    "    print(id_split[1])\n",
    "    if( l == 1 ){\n",
    "        return(id_split[1])\n",
    "    }else if( l > 1 ){\n",
    "        genome_id <- paste0(substr(id_split[1],1,1), id_split[l])\n",
    "        print(genome_id)\n",
    "        return(genome_id)\n",
    "    }else{\n",
    "        print(\"no latin name passed!\")\n",
    "        return(\"0\")\n",
    "    }\n",
    "}"
   ]
  },
  {
   "cell_type": "code",
   "execution_count": 21,
   "metadata": {},
   "outputs": [],
   "source": [
    "df_toforge$genome_id <- as.character(df_toforge$genome_id)"
   ]
  },
  {
   "cell_type": "code",
   "execution_count": 28,
   "metadata": {
    "collapsed": true,
    "jupyter": {
     "outputs_hidden": true
    }
   },
   "outputs": [
    {
     "name": "stdout",
     "output_type": "stream",
     "text": [
      "[1] \"Cephalochordata\"\n",
      "[1] \"Cephalochordata\"\n",
      "[1] \"Aplysia californica\"\n",
      "[1] \"Aplysia\"\n",
      "[1] \"Acalifornica\"\n",
      "[1] \"Petromyzon marinus\"\n",
      "[1] \"Petromyzon\"\n",
      "[1] \"Pmarinus\"\n",
      "[1] \"Callorhinchus milii\"\n",
      "[1] \"Callorhinchus\"\n",
      "[1] \"Cmilii\"\n",
      "[1] \"Gadus morhua\"\n",
      "[1] \"Gadus\"\n",
      "[1] \"Gmorhua\"\n",
      "[1] \"Oreochromis niloticus\"\n",
      "[1] \"Oreochromis\"\n",
      "[1] \"Oniloticus\"\n",
      "[1] \"Takifugu rubripes\"\n",
      "[1] \"Takifugu\"\n",
      "[1] \"Trubripes\"\n",
      "[1] \"Latimeria chalumnae\"\n",
      "[1] \"Latimeria\"\n",
      "[1] \"Lchalumnae\"\n",
      "[1] \"Xenopus tropicalis \"\n",
      "[1] \"Xenopus\"\n",
      "[1] \"Xtropicalis\"\n",
      "[1] \"Xenopus laevis\"\n",
      "[1] \"Xenopus\"\n",
      "[1] \"Xlaevis\"\n",
      "[1] \"Nanorana parkeri\"\n",
      "[1] \"Nanorana\"\n",
      "[1] \"Nparkeri\"\n",
      "[1] \"Alligator mississippiensis\"\n",
      "[1] \"Alligator\"\n",
      "[1] \"Amississippiensis\"\n",
      "[1] \"Thamnophis sirtalis\"\n",
      "[1] \"Thamnophis\"\n",
      "[1] \"Tsirtalis\"\n",
      "[1] \"Anolis carolinensis\"\n",
      "[1] \"Anolis\"\n",
      "[1] \"Acarolinensis\"\n",
      "[1] \"Chrysemys picta\"\n",
      "[1] \"Chrysemys\"\n",
      "[1] \"Cpicta\"\n",
      "[1] \"Geospiza fortis\"\n",
      "[1] \"Geospiza\"\n",
      "[1] \"Gfortis\"\n",
      "[1] \"Melopsittacus undulatus\"\n",
      "[1] \"Melopsittacus\"\n",
      "[1] \"Mundulatus\"\n",
      "[1] \"Aquila chrysaetos\"\n",
      "[1] \"Aquila\"\n",
      "[1] \"Achrysaetos\"\n",
      "[1] \"Sarcophilus harrisii\"\n",
      "[1] \"Sarcophilus\"\n",
      "[1] \"Sharrisii\"\n",
      "[1] \"Felis catus\"\n",
      "[1] \"Felis\"\n",
      "[1] \"Fcatus\"\n",
      "[1] \"Nomascus leucogenys\"\n",
      "[1] \"Nomascus\"\n",
      "[1] \"Nleucogenys\"\n",
      "[1] \"Gorilla gorilla\"\n",
      "[1] \"Gorilla\"\n",
      "[1] \"Ggorilla\"\n",
      "[1] \"Pan paniscus\"\n",
      "[1] \"Pan\"\n",
      "[1] \"Ppaniscus\"\n",
      "[1] \"Chlorocebus sabaeus\"\n",
      "[1] \"Chlorocebus\"\n",
      "[1] \"Csabaeus\"\n",
      "[1] \"Pteropus vampyrus\"\n",
      "[1] \"Pteropus\"\n",
      "[1] \"Pvampyrus\"\n",
      "[1] \"Myotis lucifugus\"\n",
      "[1] \"Myotis\"\n",
      "[1] \"Mlucifugus\"\n",
      "[1] \"Heterocephalus glaber\"\n",
      "[1] \"Heterocephalus\"\n",
      "[1] \"Hglaber\"\n",
      "[1] \"Pongo abelii\"\n",
      "[1] \"Pongo\"\n",
      "[1] \"Pabelii\"\n",
      "[1] \"Oryctolagus cuniculus\"\n",
      "[1] \"Oryctolagus\"\n",
      "[1] \"Ocuniculus\"\n",
      "[1] \"Ovis aries\"\n",
      "[1] \"Ovis\"\n",
      "[1] \"Oaries\"\n",
      "[1] \"Ictidomys tridecemlineatus\"\n",
      "[1] \"Ictidomys\"\n",
      "[1] \"Itridecemlineatus\"\n",
      "[1] \"Saimiri boliviensis boliviensis\"\n",
      "[1] \"Saimiri\"\n",
      "[1] \"Sboliviensis\"\n",
      "[1] \"Sorex araneus\"\n",
      "[1] \"Sorex\"\n",
      "[1] \"Saraneus\"\n",
      "[1] \"Tupaia belangeri\"\n",
      "[1] \"Tupaia\"\n",
      "[1] \"Tbelangeri\"\n",
      "[1] \"Notamacropus eugenii\"\n",
      "[1] \"Notamacropus\"\n",
      "[1] \"Neugenii\"\n",
      "[1] \"Ceratotherium simum\"\n",
      "[1] \"Ceratotherium\"\n",
      "[1] \"Csimum\"\n"
     ]
    }
   ],
   "source": [
    "df_toforge[, genome_id:=generate_genome_id(scientific_name),by = 1:NROW(df_toforge)]"
   ]
  },
  {
   "cell_type": "markdown",
   "metadata": {},
   "source": [
    "Downloading all the nessesary genomes from UCSC:  \n",
    "run once!"
   ]
  },
  {
   "cell_type": "code",
   "execution_count": 174,
   "metadata": {
    "collapsed": true,
    "jupyter": {
     "outputs_hidden": true
    }
   },
   "outputs": [
    {
     "name": "stdout",
     "output_type": "stream",
     "text": [
      "[1] Elephant shark\n",
      "47 Levels: African clawed frog American alligator Atlantic cod ... Zebrafish\n",
      "[1] Atlantic cod\n",
      "47 Levels: African clawed frog American alligator Atlantic cod ... Zebrafish\n",
      "[1] Nile tilapia\n",
      "47 Levels: African clawed frog American alligator Atlantic cod ... Zebrafish\n",
      "[1] Fugu\n",
      "47 Levels: African clawed frog American alligator Atlantic cod ... Zebrafish\n",
      "[1] Coelacanth\n",
      "47 Levels: African clawed frog American alligator Atlantic cod ... Zebrafish\n",
      "[1] Tropical clawed frog\n",
      "47 Levels: African clawed frog American alligator Atlantic cod ... Zebrafish\n",
      "[1] African clawed frog\n",
      "47 Levels: African clawed frog American alligator Atlantic cod ... Zebrafish\n",
      "[1] Tibetan frog\n",
      "47 Levels: African clawed frog American alligator Atlantic cod ... Zebrafish\n",
      "[1] American alligator\n",
      "47 Levels: African clawed frog American alligator Atlantic cod ... Zebrafish\n",
      "[1] Garter snake\n",
      "47 Levels: African clawed frog American alligator Atlantic cod ... Zebrafish\n",
      "[1] Lizard\n",
      "47 Levels: African clawed frog American alligator Atlantic cod ... Zebrafish\n",
      "[1] Painted turtle\n",
      "47 Levels: African clawed frog American alligator Atlantic cod ... Zebrafish\n",
      "[1] Medium ground finch\n",
      "47 Levels: African clawed frog American alligator Atlantic cod ... Zebrafish\n",
      "[1] Budgeriger\n",
      "47 Levels: African clawed frog American alligator Atlantic cod ... Zebrafish\n",
      "[1] Golden eagle\n",
      "47 Levels: African clawed frog American alligator Atlantic cod ... Zebrafish\n",
      "[1] Tasmanian devil\n",
      "47 Levels: African clawed frog American alligator Atlantic cod ... Zebrafish\n",
      "[1] Cat\n",
      "47 Levels: African clawed frog American alligator Atlantic cod ... Zebrafish\n",
      "[1] Gibbon\n",
      "47 Levels: African clawed frog American alligator Atlantic cod ... Zebrafish\n",
      "[1] Gorilla\n",
      "47 Levels: African clawed frog American alligator Atlantic cod ... Zebrafish\n",
      "[1] Bonobo\n",
      "47 Levels: African clawed frog American alligator Atlantic cod ... Zebrafish\n",
      "[1] Green Monkey\n",
      "47 Levels: African clawed frog American alligator Atlantic cod ... Zebrafish\n",
      "[1] Megabat\n",
      "47 Levels: African clawed frog American alligator Atlantic cod ... Zebrafish\n",
      "[1] Microbat\n",
      "47 Levels: African clawed frog American alligator Atlantic cod ... Zebrafish\n",
      "[1] Naked mole rat\n",
      "47 Levels: African clawed frog American alligator Atlantic cod ... Zebrafish\n",
      "[1] Orangutan\n",
      "47 Levels: African clawed frog American alligator Atlantic cod ... Zebrafish\n",
      "[1] Rabbit\n",
      "47 Levels: African clawed frog American alligator Atlantic cod ... Zebrafish\n",
      "[1] Sheep\n",
      "47 Levels: African clawed frog American alligator Atlantic cod ... Zebrafish\n",
      "[1] Squirrel\n",
      "47 Levels: African clawed frog American alligator Atlantic cod ... Zebrafish\n",
      "[1] Squirrel monkey\n",
      "47 Levels: African clawed frog American alligator Atlantic cod ... Zebrafish\n",
      "[1] Shrew\n",
      "47 Levels: African clawed frog American alligator Atlantic cod ... Zebrafish\n",
      "[1] Tree shrew\n",
      "47 Levels: African clawed frog American alligator Atlantic cod ... Zebrafish\n",
      "[1] Wallaby\n",
      "47 Levels: African clawed frog American alligator Atlantic cod ... Zebrafish\n",
      "[1] White rhinoceros\n",
      "47 Levels: African clawed frog American alligator Atlantic cod ... Zebrafish\n"
     ]
    }
   ],
   "source": [
    "for (i in 1:NROW(df_toforge)){\n",
    "    dir.create(file.path(output_dir, \"data\", \"genomes\", df_toforge[i, ]$genome_id))\n",
    "    cmd = paste0(\"wget http://hgdownload.soe.ucsc.edu/goldenPath/\", df_toforge[i, ]$ucsc_genome, \n",
    "                 \"/bigZips/\", df_toforge[i, ]$ucsc_genome, \".2bit  -P \", \n",
    "                 file.path(output_dir, \"data\", \"genomes\", df_toforge[i, ]$genome_id))\n",
    "    system(cmd)\n",
    "    print(df_toforge[i, ]$species)\n",
    "\n",
    "}"
   ]
  },
  {
   "cell_type": "markdown",
   "metadata": {},
   "source": [
    "#### prepare instruction files and compile packages\n",
    "\n",
    "Example seed file:  \n",
    "Package: BSgenome.Mfuro.UCSC.musFur1 -> BSGenome +  genome_id + UCSC + ucsc_genome  \n",
    "Title: Full genome sequences for Mustela putorius furo (UCSC version musFur1)  \n",
    "Description: Full genome sequences for Mustela putorius furo (Ferret) as provided by UCSC (musFur1, Apr. 2011) and stored in Biostrings objects.  \n",
    "Version: 1.4.2  \n",
    "organism: Mustela putorius furo  \n",
    "common_name: Ferret  \n",
    "provider: UCSC  \n",
    "provider_version: musFur1  \n",
    "release_date: Apr. 2011  \n",
    "release_name: Ferret Genome Sequencing Consortium MusPutFur1.0  \n",
    "source_url: http://hgdownload.soe.ucsc.edu/goldenPath/musFur1/bigZips/  \n",
    "organism_biocview: Mustela_furo  \n",
    "BSgenomeObjname: Mfuro  \n",
    "SrcDataFiles: musFur1.2bit from http://hgdownload.soe.ucsc.edu/goldenPath/musFur1/bigZips/  \n",
    "PkgExamples: genome$GL896898 # same as genome[[\"GL896898\"]] -> not needed  \n",
    "seqs_srcdir: /fh/fast/morgan_m/BioC/BSgenomeForge/srcdata/BSgenome.Mfuro.UCSC.musFur1/seqs  \n",
    "seqfile_name: musFur1.2bit  "
   ]
  },
  {
   "cell_type": "code",
   "execution_count": 29,
   "metadata": {},
   "outputs": [],
   "source": [
    "i = 1"
   ]
  },
  {
   "cell_type": "code",
   "execution_count": 192,
   "metadata": {},
   "outputs": [
    {
     "data": {
      "text/html": [
       "<table>\n",
       "<thead><tr><th scope=col>species</th><th scope=col>ucsc_genome</th><th scope=col>class</th><th scope=col>scientific_name</th><th scope=col>date</th><th scope=col>name</th><th scope=col>BSlibrary</th><th scope=col>genome_id</th><th scope=col>provider</th></tr></thead>\n",
       "<tbody>\n",
       "\t<tr><td>Lancelet        </td><td>braFlo1         </td><td>Invertebrata    </td><td>Cephalochordata </td><td>Mar. 2006       </td><td>JGI v1.0        </td><td>NA              </td><td>Cephalochordata </td><td>custom_from_UCSC</td></tr>\n",
       "</tbody>\n",
       "</table>\n"
      ],
      "text/latex": [
       "\\begin{tabular}{r|lllllllll}\n",
       " species & ucsc\\_genome & class & scientific\\_name & date & name & BSlibrary & genome\\_id & provider\\\\\n",
       "\\hline\n",
       "\t Lancelet             & braFlo1              & Invertebrata         & Cephalochordata      & Mar. 2006            & JGI v1.0             & NA                   & Cephalochordata      & custom\\_from\\_UCSC\\\\\n",
       "\\end{tabular}\n"
      ],
      "text/markdown": [
       "\n",
       "| species | ucsc_genome | class | scientific_name | date | name | BSlibrary | genome_id | provider |\n",
       "|---|---|---|---|---|---|---|---|---|\n",
       "| Lancelet         | braFlo1          | Invertebrata     | Cephalochordata  | Mar. 2006        | JGI v1.0         | NA               | Cephalochordata  | custom_from_UCSC |\n",
       "\n"
      ],
      "text/plain": [
       "  species  ucsc_genome class        scientific_name date      name    \n",
       "1 Lancelet braFlo1     Invertebrata Cephalochordata Mar. 2006 JGI v1.0\n",
       "  BSlibrary genome_id       provider        \n",
       "1 NA        Cephalochordata custom_from_UCSC"
      ]
     },
     "metadata": {},
     "output_type": "display_data"
    }
   ],
   "source": [
    "df_toforge[i,]"
   ]
  },
  {
   "cell_type": "code",
   "execution_count": 183,
   "metadata": {},
   "outputs": [],
   "source": [
    "df_toforge$ucsc_genome <- as.character(df_toforge$ucsc_genome)"
   ]
  },
  {
   "cell_type": "code",
   "execution_count": 186,
   "metadata": {},
   "outputs": [],
   "source": [
    "df_toforge$scientific_name <- as.character(df_toforge$scientific_name)"
   ]
  },
  {
   "cell_type": "code",
   "execution_count": 207,
   "metadata": {},
   "outputs": [],
   "source": [
    "df_toforge$species <- as.character(df_toforge$species)\n",
    "df_toforge$date <- as.character(df_toforge$date)\n",
    "df_toforge$name <- as.character(df_toforge$name)"
   ]
  },
  {
   "cell_type": "code",
   "execution_count": 211,
   "metadata": {},
   "outputs": [
    {
     "data": {
      "text/html": [
       "'Aplysia_californica'"
      ],
      "text/latex": [
       "'Aplysia\\_californica'"
      ],
      "text/markdown": [
       "'Aplysia_californica'"
      ],
      "text/plain": [
       "[1] \"Aplysia_californica\""
      ]
     },
     "metadata": {},
     "output_type": "display_data"
    }
   ],
   "source": [
    "gsub(\" \", \"_\",df_toforge[2,]$scientific_name)"
   ]
  },
  {
   "cell_type": "code",
   "execution_count": 30,
   "metadata": {},
   "outputs": [],
   "source": [
    "package_name = paste(c(\"BSgenome\", df_toforge[i,]$genome_id, \"UCSC\", df_toforge[i,]$ucsc_genome), collapse=\".\")"
   ]
  },
  {
   "cell_type": "code",
   "execution_count": 50,
   "metadata": {},
   "outputs": [
    {
     "name": "stdout",
     "output_type": "stream",
     "text": [
      "[1] \"1 Cephalochordata\"\n",
      "[1] \"package installed BSgenome.Cephalochordata.UCSC.braFlo1\"\n",
      "[1] \"2 Acalifornica\"\n",
      "[1] \"package installed BSgenome.Acalifornica.UCSC.aplCal1\"\n",
      "[1] \"3 Pmarinus\"\n",
      "[1] \"package installed BSgenome.Pmarinus.UCSC.petMar2\"\n",
      "[1] \"4 Cmilii\"\n",
      "[1] \"package installed BSgenome.Cmilii.UCSC.calMil1\"\n",
      "[1] \"5 Gmorhua\"\n",
      "[1] \"package installed BSgenome.Gmorhua.UCSC.gadMor1\"\n",
      "[1] \"6 Oniloticus\"\n",
      "[1] \"package installed BSgenome.Oniloticus.UCSC.oreNil2\"\n",
      "[1] \"7 Trubripes\"\n",
      "[1] \"package installed BSgenome.Trubripes.UCSC.fr3\"\n",
      "[1] \"8 Lchalumnae\"\n",
      "[1] \"package installed BSgenome.Lchalumnae.UCSC.latCha1\"\n",
      "[1] \"9 Xtropicalis\"\n",
      "[1] \"package installed BSgenome.Xtropicalis.UCSC.xenTro9\"\n",
      "[1] \"10 Xlaevis\"\n",
      "[1] \"package installed BSgenome.Xlaevis.UCSC.xenLae2\"\n",
      "[1] \"11 Nparkeri\"\n",
      "[1] \"package installed BSgenome.Nparkeri.UCSC.nanPar1\"\n",
      "[1] \"12 Amississippiensis\"\n",
      "[1] \"package installed BSgenome.Amississippiensis.UCSC.allMis1\"\n",
      "[1] \"13 Tsirtalis\"\n",
      "[1] \"package installed BSgenome.Tsirtalis.UCSC.thaSir1\"\n",
      "[1] \"14 Acarolinensis\"\n",
      "[1] \"package installed BSgenome.Acarolinensis.UCSC.anoCar2\"\n",
      "[1] \"15 Cpicta\"\n",
      "[1] \"package installed BSgenome.Cpicta.UCSC.chrPic1\"\n",
      "[1] \"16 Gfortis\"\n",
      "[1] \"package installed BSgenome.Gfortis.UCSC.geoFor1\"\n",
      "[1] \"17 Mundulatus\"\n",
      "[1] \"package installed BSgenome.Mundulatus.UCSC.melUnd1\"\n",
      "[1] \"18 Achrysaetos\"\n",
      "[1] \"package installed BSgenome.Achrysaetos.UCSC.aquChr2\"\n",
      "[1] \"19 Sharrisii\"\n",
      "[1] \"package installed BSgenome.Sharrisii.UCSC.sarHar1\"\n",
      "[1] \"20 Fcatus\"\n",
      "[1] \"package installed BSgenome.Fcatus.UCSC.felCat9\"\n",
      "[1] \"21 Nleucogenys\"\n",
      "[1] \"package installed BSgenome.Nleucogenys.UCSC.nomLeu3\"\n",
      "[1] \"22 Ggorilla\"\n",
      "[1] \"package installed BSgenome.Ggorilla.UCSC.gorGor6\"\n",
      "[1] \"23 Ppaniscus\"\n",
      "[1] \"package installed BSgenome.Ppaniscus.UCSC.panPan2\"\n",
      "[1] \"24 Csabaeus\"\n",
      "[1] \"package installed BSgenome.Csabaeus.UCSC.chlSab2\"\n",
      "[1] \"25 Pvampyrus\"\n",
      "[1] \"package installed BSgenome.Pvampyrus.UCSC.pteVam1\"\n",
      "[1] \"26 Mlucifugus\"\n",
      "[1] \"package installed BSgenome.Mlucifugus.UCSC.myoLuc2\"\n",
      "[1] \"27 Hglaber\"\n",
      "[1] \"package installed BSgenome.Hglaber.UCSC.hetGla2\"\n",
      "[1] \"28 Pabelii\"\n",
      "[1] \"package installed BSgenome.Pabelii.UCSC.ponAbe3\"\n",
      "[1] \"29 Ocuniculus\"\n",
      "[1] \"package installed BSgenome.Ocuniculus.UCSC.oryCun2\"\n",
      "[1] \"30 Oaries\"\n",
      "[1] \"package installed BSgenome.Oaries.UCSC.oviAri4\"\n",
      "[1] \"31 Itridecemlineatus\"\n",
      "[1] \"settung up the genome for Itridecemlineatus\"\n",
      "Creating package in /scratch/lab_bock/shared/projects/compEpi/validation/insilicoDigest//data/genomes/Itridecemlineatus/BSgenome.Itridecemlineatus.UCSC.speTri2 \n",
      "Copying '/scratch/lab_bock/shared/projects/compEpi/validation/insilicoDigest//data/genomes/Itridecemlineatus/speTri2.2bit' to '/scratch/lab_bock/shared/projects/compEpi/validation/insilicoDigest//data/genomes/Itridecemlineatus/BSgenome.Itridecemlineatus.UCSC.speTri2/inst/extdata/single_sequences.2bit' ... DONE\n"
     ]
    },
    {
     "name": "stderr",
     "output_type": "stream",
     "text": [
      "Installing package into ‘/home/dromanovskaia/R/x86_64-conda_cos6-linux-gnu-library/3.6’\n",
      "(as ‘lib’ is unspecified)\n",
      "\n",
      "inferring 'repos = NULL' from 'pkgs'\n",
      "\n"
     ]
    },
    {
     "name": "stdout",
     "output_type": "stream",
     "text": [
      "[1] \"package installed BSgenome.Itridecemlineatus.UCSC.speTri2\"\n",
      "[1] \"32 Sboliviensis\"\n",
      "[1] \"settung up the genome for Sboliviensis\"\n",
      "Creating package in /scratch/lab_bock/shared/projects/compEpi/validation/insilicoDigest//data/genomes/Sboliviensis/BSgenome.Sboliviensis.UCSC.saiBol1 \n",
      "Copying '/scratch/lab_bock/shared/projects/compEpi/validation/insilicoDigest//data/genomes/Sboliviensis/saiBol1.2bit' to '/scratch/lab_bock/shared/projects/compEpi/validation/insilicoDigest//data/genomes/Sboliviensis/BSgenome.Sboliviensis.UCSC.saiBol1/inst/extdata/single_sequences.2bit' ... DONE\n"
     ]
    },
    {
     "name": "stderr",
     "output_type": "stream",
     "text": [
      "Installing package into ‘/home/dromanovskaia/R/x86_64-conda_cos6-linux-gnu-library/3.6’\n",
      "(as ‘lib’ is unspecified)\n",
      "\n",
      "inferring 'repos = NULL' from 'pkgs'\n",
      "\n"
     ]
    },
    {
     "name": "stdout",
     "output_type": "stream",
     "text": [
      "[1] \"package installed BSgenome.Sboliviensis.UCSC.saiBol1\"\n",
      "[1] \"33 Saraneus\"\n",
      "[1] \"settung up the genome for Saraneus\"\n",
      "Creating package in /scratch/lab_bock/shared/projects/compEpi/validation/insilicoDigest//data/genomes/Saraneus/BSgenome.Saraneus.UCSC.sorAra2 \n",
      "Copying '/scratch/lab_bock/shared/projects/compEpi/validation/insilicoDigest//data/genomes/Saraneus/sorAra2.2bit' to '/scratch/lab_bock/shared/projects/compEpi/validation/insilicoDigest//data/genomes/Saraneus/BSgenome.Saraneus.UCSC.sorAra2/inst/extdata/single_sequences.2bit' ... DONE\n"
     ]
    },
    {
     "name": "stderr",
     "output_type": "stream",
     "text": [
      "Installing package into ‘/home/dromanovskaia/R/x86_64-conda_cos6-linux-gnu-library/3.6’\n",
      "(as ‘lib’ is unspecified)\n",
      "\n",
      "inferring 'repos = NULL' from 'pkgs'\n",
      "\n"
     ]
    },
    {
     "name": "stdout",
     "output_type": "stream",
     "text": [
      "[1] \"package installed BSgenome.Saraneus.UCSC.sorAra2\"\n",
      "[1] \"34 Tbelangeri\"\n",
      "[1] \"settung up the genome for Tbelangeri\"\n",
      "Creating package in /scratch/lab_bock/shared/projects/compEpi/validation/insilicoDigest//data/genomes/Tbelangeri/BSgenome.Tbelangeri.UCSC.tupBel1 \n",
      "Copying '/scratch/lab_bock/shared/projects/compEpi/validation/insilicoDigest//data/genomes/Tbelangeri/tupBel1.2bit' to '/scratch/lab_bock/shared/projects/compEpi/validation/insilicoDigest//data/genomes/Tbelangeri/BSgenome.Tbelangeri.UCSC.tupBel1/inst/extdata/single_sequences.2bit' ... DONE\n"
     ]
    },
    {
     "name": "stderr",
     "output_type": "stream",
     "text": [
      "Installing package into ‘/home/dromanovskaia/R/x86_64-conda_cos6-linux-gnu-library/3.6’\n",
      "(as ‘lib’ is unspecified)\n",
      "\n",
      "inferring 'repos = NULL' from 'pkgs'\n",
      "\n"
     ]
    },
    {
     "name": "stdout",
     "output_type": "stream",
     "text": [
      "[1] \"package installed BSgenome.Tbelangeri.UCSC.tupBel1\"\n",
      "[1] \"35 Neugenii\"\n",
      "[1] \"settung up the genome for Neugenii\"\n",
      "Creating package in /scratch/lab_bock/shared/projects/compEpi/validation/insilicoDigest//data/genomes/Neugenii/BSgenome.Neugenii.UCSC.macEug2 \n",
      "Copying '/scratch/lab_bock/shared/projects/compEpi/validation/insilicoDigest//data/genomes/Neugenii/macEug2.2bit' to '/scratch/lab_bock/shared/projects/compEpi/validation/insilicoDigest//data/genomes/Neugenii/BSgenome.Neugenii.UCSC.macEug2/inst/extdata/single_sequences.2bit' ... DONE\n"
     ]
    },
    {
     "name": "stderr",
     "output_type": "stream",
     "text": [
      "Installing package into ‘/home/dromanovskaia/R/x86_64-conda_cos6-linux-gnu-library/3.6’\n",
      "(as ‘lib’ is unspecified)\n",
      "\n",
      "inferring 'repos = NULL' from 'pkgs'\n",
      "\n"
     ]
    },
    {
     "name": "stdout",
     "output_type": "stream",
     "text": [
      "[1] \"package installed BSgenome.Neugenii.UCSC.macEug2\"\n",
      "[1] \"36 Csimum\"\n",
      "[1] \"settung up the genome for Csimum\"\n",
      "Creating package in /scratch/lab_bock/shared/projects/compEpi/validation/insilicoDigest//data/genomes/Csimum/BSgenome.Csimum.UCSC.cerSim1 \n",
      "Copying '/scratch/lab_bock/shared/projects/compEpi/validation/insilicoDigest//data/genomes/Csimum/cerSim1.2bit' to '/scratch/lab_bock/shared/projects/compEpi/validation/insilicoDigest//data/genomes/Csimum/BSgenome.Csimum.UCSC.cerSim1/inst/extdata/single_sequences.2bit' ... DONE\n"
     ]
    },
    {
     "name": "stderr",
     "output_type": "stream",
     "text": [
      "Installing package into ‘/home/dromanovskaia/R/x86_64-conda_cos6-linux-gnu-library/3.6’\n",
      "(as ‘lib’ is unspecified)\n",
      "\n",
      "inferring 'repos = NULL' from 'pkgs'\n",
      "\n"
     ]
    },
    {
     "name": "stdout",
     "output_type": "stream",
     "text": [
      "[1] \"package installed BSgenome.Csimum.UCSC.cerSim1\"\n"
     ]
    }
   ],
   "source": [
    "for (i in 1:NROW(df_toforge)){\n",
    "    \n",
    "    print(paste0(i,\" \", df_toforge[i, ]$genome_id))\n",
    "    \n",
    "    ###where to save the output\n",
    "    seed_dir = file.path(output_dir, \"data\", \"genomes\", df_toforge[i, ]$genome_id)\n",
    "    seed_file = file.path(seed_dir, paste0(df_toforge[i,]$ucsc_genome, \"_seed.txt\"))\n",
    "\n",
    "    package_name = paste(c(\"BSgenome\", df_toforge[i,]$genome_id, \"UCSC\", df_toforge[i,]$ucsc_genome), collapse=\".\")\n",
    "    \n",
    "    #as we run several time - first check, maybe it is already installed\n",
    "    result <- tryCatch( { library(package_name, character.only = TRUE)  }, \n",
    "                       warning = function(w) {\n",
    "                        print(\"w\")}, \n",
    "                       error = function(e) { # if unavaliable - set it up \n",
    "                        print(paste0(\"settung up the genome for \", df_toforge[i, ]$genome_id))\n",
    "                           #generating seed file\n",
    "                        cat(c(paste0(\"Package: \", package_name), \n",
    "                        paste(c(\"Title: Full genome sequences for \", df_toforge[i,]$scientific_name, \" (UCSC version \", df_toforge[i,]$ucsc_genome, \")\"), collapse=\"\" ),\n",
    "                        paste(c(\"Description: Full genome sequences for \",  df_toforge[i,]$scientific_name, \" (\", df_toforge[i,]$species, \") as provided by UCSC (\", \n",
    "                                  df_toforge[i,]$ucsc_genome, \", \", df_toforge[i,]$date, \") and stored in Biostrings objects.\"   ), collapse=\"\"),\n",
    "                        \"Version: 1.1.1\",\n",
    "                        paste(c(\"organism: \", df_toforge[i,]$scientific_name), collapse=\"\"),\n",
    "                        paste(c(\"common_name: \", df_toforge[i,]$species), collapse=\"\"),\n",
    "                        \"provider: UCSC\",\n",
    "                        paste(c(\"provider_version: \", df_toforge[i,]$ucsc_genome), collapse=\"\"),\n",
    "                        paste(c(\"release_date: \",df_toforge[i,]$date ), collapse=\"\"),\n",
    "                        paste(c(\"release_name: \", df_toforge[i,]$name), collapse=\"\"),\n",
    "                        paste(c(\"source_url: \", paste0(\"http://hgdownload.soe.ucsc.edu/goldenPath/\", df_toforge[i, ]$ucsc_genome, \"/bigZips/\")), collapse=\"\"),\n",
    "                        paste(c(\"organism_biocview: \", gsub(\" \", \"_\",df_toforge[2,]$scientific_name)), collapse=\"\"),\n",
    "                        paste(c(\"BSgenomeObjname: \", df_toforge[i,]$genome_id), collapse=\"\"),\n",
    "                        paste(c(\"seqs_srcdir: \", file.path(output_dir, \"data\", \"genomes\", df_toforge[i, ]$genome_id)), collapse=\"\"),\n",
    "                        paste(c(\"seqfile_name: \",df_toforge[i,]$ucsc_genome, \".2bit\" ), collapse=\"\")),\n",
    "                        sep = \"\\n\",  \n",
    "                        file = seed_file)\n",
    "                           \n",
    "                        ##forge BSgenome \n",
    "                        forgeBSgenomeDataPkg(seed_file, destdir = seed_dir) \n",
    "                           \n",
    "                        ##building (from CMD & the required directory)\n",
    "                        system(paste0(\"cd \", seed_dir, \"; R CMD build \", package_name))\n",
    "                        ##checkng\n",
    "                         system(paste0(\"cd \", seed_dir, \"; R CMD check \", package_name, \"_1.1.1.tar.gz\"))\n",
    "                        \n",
    "                           ##installing a new package (just to test)\n",
    "                        install.packages(file.path(seed_dir, paste0(package_name, \"_1.1.1.tar.gz\")), type = \"source\")\n",
    "                       }, finally = {\n",
    "                        print(paste0(\"package installed \", package_name))\n",
    "                        })\n",
    "    ##update the data\n",
    "    df_toforge[i, BSlibrary:=package_name,]\n",
    "}\n",
    "\n"
   ]
  },
  {
   "cell_type": "code",
   "execution_count": 52,
   "metadata": {},
   "outputs": [
    {
     "data": {
      "text/html": [
       "<table>\n",
       "<thead><tr><th scope=col>species</th><th scope=col>ucsc_genome</th><th scope=col>class</th><th scope=col>scientific_name</th><th scope=col>date</th><th scope=col>name</th><th scope=col>BSlibrary</th><th scope=col>genome_id</th><th scope=col>provider</th></tr></thead>\n",
       "<tbody>\n",
       "\t<tr><td>Lancelet                                                                                          </td><td>braFlo1                                                                                           </td><td>Invertebrata                                                                                      </td><td>Cephalochordata                                                                                   </td><td>Mar. 2006                                                                                         </td><td>JGI v1.0                                                                                          </td><td>BSgenome.Cephalochordata.UCSC.braFlo1                                                             </td><td>Cephalochordata                                                                                   </td><td>custom_from_UCSC                                                                                  </td></tr>\n",
       "\t<tr><td>Sea Hare                                                                                          </td><td>aplCal1                                                                                           </td><td>Invertebrata                                                                                      </td><td>Aplysia californica                                                                               </td><td>Sep. 2008                                                                                         </td><td>Broad Release Aplcal2.0                                                                           </td><td>BSgenome.Acalifornica.UCSC.aplCal1                                                                </td><td>Acalifornica                                                                                      </td><td>custom_from_UCSC                                                                                  </td></tr>\n",
       "\t<tr><td>Lamprey                                                                                           </td><td>petMar2                                                                                           </td><td>Jawless Vertebrate                                                                                </td><td>Petromyzon marinus                                                                                </td><td>Sep. 2010                                                                                         </td><td>WUGSC 7.0                                                                                         </td><td>BSgenome.Pmarinus.UCSC.petMar2                                                                    </td><td>Pmarinus                                                                                          </td><td>custom_from_UCSC                                                                                  </td></tr>\n",
       "\t<tr><td>Elephant shark                                                                                    </td><td>calMil1                                                                                           </td><td>Chondrichthyes                                                                                    </td><td>Callorhinchus milii                                                                               </td><td>Dec. 2013                                                                                         </td><td>IMCB Callorhinchus_milli_6.1.3                                                                    </td><td>BSgenome.Cmilii.UCSC.calMil1                                                                      </td><td>Cmilii                                                                                            </td><td>custom_from_UCSC                                                                                  </td></tr>\n",
       "\t<tr><td>Atlantic cod                                                                                      </td><td>gadMor1                                                                                           </td><td>Actinopteri                                                                                       </td><td>Gadus morhua                                                                                      </td><td>May 2010                                                                                          </td><td>Genofisk GadMor_May2010                                                                           </td><td>BSgenome.Gmorhua.UCSC.gadMor1                                                                     </td><td>Gmorhua                                                                                           </td><td>custom_from_UCSC                                                                                  </td></tr>\n",
       "\t<tr><td>Nile tilapia                                                                                      </td><td>oreNil2                                                                                           </td><td>Actinopteri                                                                                       </td><td>Oreochromis niloticus                                                                             </td><td>Jan. 2011                                                                                         </td><td>Broad Institute Release OreNil1.1                                                                 </td><td>BSgenome.Oniloticus.UCSC.oreNil2                                                                  </td><td>Oniloticus                                                                                        </td><td>custom_from_UCSC                                                                                  </td></tr>\n",
       "\t<tr><td>Fugu                                                                                              </td><td>fr3                                                                                               </td><td>Actinopteri                                                                                       </td><td>Takifugu rubripes                                                                                 </td><td>Oct. 2011                                                                                         </td><td>JGI v5.0                                                                                          </td><td>BSgenome.Trubripes.UCSC.fr3                                                                       </td><td>Trubripes                                                                                         </td><td>custom_from_UCSC                                                                                  </td></tr>\n",
       "\t<tr><td>Coelacanth                                                                                        </td><td>latCha1                                                                                           </td><td>Actinopteri                                                                                       </td><td>Latimeria chalumnae                                                                               </td><td>Aug. 2011                                                                                         </td><td>Broad Institute LatCha1                                                                           </td><td>BSgenome.Lchalumnae.UCSC.latCha1                                                                  </td><td>Lchalumnae                                                                                        </td><td>custom_from_UCSC                                                                                  </td></tr>\n",
       "\t<tr><td>Tropical clawed frog                                                                              </td><td>xenTro9                                                                                           </td><td>Amphibia                                                                                          </td><td>Xenopus tropicalis                                                                                </td><td>NA                                                                                                </td><td>NA                                                                                                </td><td>BSgenome.Xtropicalis.UCSC.xenTro9                                                                 </td><td>Xtropicalis                                                                                       </td><td>custom_from_UCSC                                                                                  </td></tr>\n",
       "\t<tr><td>African clawed frog                                                                               </td><td>xenLae2                                                                                           </td><td>Amphibia                                                                                          </td><td>Xenopus laevis                                                                                    </td><td>Aug. 2016                                                                                         </td><td>Int. Xenopus Sequencing Consortium                                                                </td><td>BSgenome.Xlaevis.UCSC.xenLae2                                                                     </td><td>Xlaevis                                                                                           </td><td>custom_from_UCSC                                                                                  </td></tr>\n",
       "\t<tr><td>Tibetan frog                                                                                      </td><td>nanPar1                                                                                           </td><td>Amphibia                                                                                          </td><td>Nanorana parkeri                                                                                  </td><td>Mar. 2015                                                                                         </td><td>Beijing Genomics Institute BGI_ZX_20015                                                           </td><td>BSgenome.Nparkeri.UCSC.nanPar1                                                                    </td><td>Nparkeri                                                                                          </td><td>custom_from_UCSC                                                                                  </td></tr>\n",
       "\t<tr><td>American alligator                                                                                </td><td>allMis1                                                                                           </td><td>Reptilia                                                                                          </td><td>Alligator mississippiensis                                                                        </td><td>Aug. 2012                                                                                         </td><td>Int. Crocodilian Genomes Working Group allMis0.2                                                  </td><td>BSgenome.Amississippiensis.UCSC.allMis1                                                           </td><td>Amississippiensis                                                                                 </td><td>custom_from_UCSC                                                                                  </td></tr>\n",
       "\t<tr><td>Garter snake                                                                                      </td><td>thaSir1                                                                                           </td><td>Reptilia                                                                                          </td><td>Thamnophis sirtalis                                                                               </td><td>Jun. 2015                                                                                         </td><td>Washington University Thamnophis_sirtalis-6.0                                                     </td><td>BSgenome.Tsirtalis.UCSC.thaSir1                                                                   </td><td>Tsirtalis                                                                                         </td><td>custom_from_UCSC                                                                                  </td></tr>\n",
       "\t<tr><td>Lizard                                                                                            </td><td>anoCar2                                                                                           </td><td>Reptilia                                                                                          </td><td>Anolis carolinensis                                                                               </td><td>May 2010                                                                                          </td><td>Broad Institute AnoCar2                                                                           </td><td>BSgenome.Acarolinensis.UCSC.anoCar2                                                               </td><td>Acarolinensis                                                                                     </td><td>custom_from_UCSC                                                                                  </td></tr>\n",
       "\t<tr><td>Painted turtle                                                                                    </td><td>chrPic1                                                                                           </td><td>Reptilia                                                                                          </td><td>Chrysemys picta                                                                                   </td><td>Dec. 2011                                                                                         </td><td>IPTGSC Chrysemys_picta_bellii-3.0.1                                                               </td><td>BSgenome.Cpicta.UCSC.chrPic1                                                                      </td><td>Cpicta                                                                                            </td><td>custom_from_UCSC                                                                                  </td></tr>\n",
       "\t<tr><td>Medium ground finch                                                                               </td><td>geoFor1                                                                                           </td><td>Aves                                                                                              </td><td>Geospiza fortis                                                                                   </td><td>Apr. 2012                                                                                         </td><td>BGI GeoFor_1.0 / NCBI 13302                                                                       </td><td>BSgenome.Gfortis.UCSC.geoFor1                                                                     </td><td>Gfortis                                                                                           </td><td>custom_from_UCSC                                                                                  </td></tr>\n",
       "\t<tr><td>Budgeriger                                                                                        </td><td>melUnd1                                                                                           </td><td>Aves                                                                                              </td><td>Melopsittacus undulatus                                                                           </td><td>NA                                                                                                </td><td>NA                                                                                                </td><td>BSgenome.Mundulatus.UCSC.melUnd1                                                                  </td><td>Mundulatus                                                                                        </td><td>custom_from_UCSC                                                                                  </td></tr>\n",
       "\t<tr><td>Golden eagle                                                                                      </td><td>aquChr2                                                                                           </td><td>Aves                                                                                              </td><td>Aquila chrysaetos                                                                                 </td><td>Oct. 2014                                                                                         </td><td>University of Washington aquChr2-1.0.2                                                            </td><td>BSgenome.Achrysaetos.UCSC.aquChr2                                                                 </td><td>Achrysaetos                                                                                       </td><td>custom_from_UCSC                                                                                  </td></tr>\n",
       "\t<tr><td>Tasmanian devil                                                                                   </td><td>sarHar1                                                                                           </td><td>Marsupiala                                                                                        </td><td>Sarcophilus harrisii                                                                              </td><td>Feb. 2011                                                                                         </td><td>Wellcome Trust Sanger Institute Devil_refv7.0                                                     </td><td>BSgenome.Sharrisii.UCSC.sarHar1                                                                   </td><td>Sharrisii                                                                                         </td><td>custom_from_UCSC                                                                                  </td></tr>\n",
       "\t<tr><td>Cat                                                                                               </td><td>felCat9                                                                                           </td><td>Mammalia                                                                                          </td><td>Felis catus                                                                                       </td><td>Nov. 2017                                                                                         </td><td>Genome Sequencing Center (GSC) at Washington University (WashU) School of Medicine Felis_catus_9.0</td><td>BSgenome.Fcatus.UCSC.felCat9                                                                      </td><td>Fcatus                                                                                            </td><td>custom_from_UCSC                                                                                  </td></tr>\n",
       "\t<tr><td>Gibbon                                                                                            </td><td>nomLeu3                                                                                           </td><td>Mammalia                                                                                          </td><td>Nomascus leucogenys                                                                               </td><td>Oct. 2012                                                                                         </td><td>Gibbon Genome Sequencing Consortium Nleu3.0                                                       </td><td>BSgenome.Nleucogenys.UCSC.nomLeu3                                                                 </td><td>Nleucogenys                                                                                       </td><td>custom_from_UCSC                                                                                  </td></tr>\n",
       "\t<tr><td>Gorilla                                                                                           </td><td>gorGor6                                                                                           </td><td>Mammalia                                                                                          </td><td>Gorilla gorilla                                                                                   </td><td>Aug. 2019                                                                                         </td><td>University of Washington                                                                          </td><td>BSgenome.Ggorilla.UCSC.gorGor6                                                                    </td><td>Ggorilla                                                                                          </td><td>custom_from_UCSC                                                                                  </td></tr>\n",
       "\t<tr><td>Bonobo                                                                                            </td><td>panPan2                                                                                           </td><td>Mammalia                                                                                          </td><td>Pan paniscus                                                                                      </td><td>Dec. 2015                                                                                         </td><td>Max-Planck Institute for Evolutionary Anthropology panpan1.1                                      </td><td>BSgenome.Ppaniscus.UCSC.panPan2                                                                   </td><td>Ppaniscus                                                                                         </td><td>custom_from_UCSC                                                                                  </td></tr>\n",
       "\t<tr><td>Green Monkey                                                                                      </td><td>chlSab2                                                                                           </td><td>Mammalia                                                                                          </td><td>Chlorocebus sabaeus                                                                               </td><td>Mar. 2014                                                                                         </td><td>Vervet Genomics Consortium 1.1                                                                    </td><td>BSgenome.Csabaeus.UCSC.chlSab2                                                                    </td><td>Csabaeus                                                                                          </td><td>custom_from_UCSC                                                                                  </td></tr>\n",
       "\t<tr><td>Megabat                                                                                           </td><td>pteVam1                                                                                           </td><td>Mammalia                                                                                          </td><td>Pteropus vampyrus                                                                                 </td><td>Jul. 2008                                                                                         </td><td>Broad Institute Ptevap1.0                                                                         </td><td>BSgenome.Pvampyrus.UCSC.pteVam1                                                                   </td><td>Pvampyrus                                                                                         </td><td>custom_from_UCSC                                                                                  </td></tr>\n",
       "\t<tr><td>Microbat                                                                                          </td><td>myoLuc2                                                                                           </td><td>Mammalia                                                                                          </td><td>Myotis lucifugus                                                                                  </td><td>Jul. 2010                                                                                         </td><td>Broad Institute MyoLuc2.0                                                                         </td><td>BSgenome.Mlucifugus.UCSC.myoLuc2                                                                  </td><td>Mlucifugus                                                                                        </td><td>custom_from_UCSC                                                                                  </td></tr>\n",
       "\t<tr><td>Naked mole rat                                                                                    </td><td>hetGla2                                                                                           </td><td>Mammalia                                                                                          </td><td>Heterocephalus glaber                                                                             </td><td>NA                                                                                                </td><td>NA                                                                                                </td><td>BSgenome.Hglaber.UCSC.hetGla2                                                                     </td><td>Hglaber                                                                                           </td><td>custom_from_UCSC                                                                                  </td></tr>\n",
       "\t<tr><td>Orangutan                                                                                         </td><td>ponAbe3                                                                                           </td><td>Mammalia                                                                                          </td><td>Pongo abelii                                                                                      </td><td>Jan. 2018                                                                                         </td><td>Susie_PABv2/ponAbe3                                                                               </td><td>BSgenome.Pabelii.UCSC.ponAbe3                                                                     </td><td>Pabelii                                                                                           </td><td>custom_from_UCSC                                                                                  </td></tr>\n",
       "\t<tr><td>Rabbit                                                                                            </td><td>oryCun2                                                                                           </td><td>Mammalia                                                                                          </td><td>Oryctolagus cuniculus                                                                             </td><td>Apr. 2009                                                                                         </td><td>Broad Institute release OryCun2                                                                   </td><td>BSgenome.Ocuniculus.UCSC.oryCun2                                                                  </td><td>Ocuniculus                                                                                        </td><td>custom_from_UCSC                                                                                  </td></tr>\n",
       "\t<tr><td>Sheep                                                                                             </td><td>oviAri4                                                                                           </td><td>Mammalia                                                                                          </td><td>Ovis aries                                                                                        </td><td>Dec. 2015                                                                                         </td><td>ISGC Oar_v4.0                                                                                     </td><td>BSgenome.Oaries.UCSC.oviAri4                                                                      </td><td>Oaries                                                                                            </td><td>custom_from_UCSC                                                                                  </td></tr>\n",
       "\t<tr><td>Squirrel                                                                                          </td><td>speTri2                                                                                           </td><td>Mammalia                                                                                          </td><td>Ictidomys tridecemlineatus                                                                        </td><td>Nov. 2011                                                                                         </td><td>Broad Institute SpeTri2.0                                                                         </td><td>BSgenome.Itridecemlineatus.UCSC.speTri2                                                           </td><td>Itridecemlineatus                                                                                 </td><td>custom_from_UCSC                                                                                  </td></tr>\n",
       "\t<tr><td>Squirrel monkey                                                                                   </td><td>saiBol1                                                                                           </td><td>Mammalia                                                                                          </td><td>Saimiri boliviensis boliviensis                                                                   </td><td>Oct. 2011                                                                                         </td><td>Broad Institute SaiBol1.0                                                                         </td><td>BSgenome.Sboliviensis.UCSC.saiBol1                                                                </td><td>Sboliviensis                                                                                      </td><td>custom_from_UCSC                                                                                  </td></tr>\n",
       "\t<tr><td>Shrew                                                                                             </td><td>sorAra2                                                                                           </td><td>Mammalia                                                                                          </td><td>Sorex araneus                                                                                     </td><td>Aug. 2008                                                                                         </td><td>Broad Institute SorAra2.0                                                                         </td><td>BSgenome.Saraneus.UCSC.sorAra2                                                                    </td><td>Saraneus                                                                                          </td><td>custom_from_UCSC                                                                                  </td></tr>\n",
       "\t<tr><td>Tree shrew                                                                                        </td><td>tupBel1                                                                                           </td><td>Mammalia                                                                                          </td><td>Tupaia belangeri                                                                                  </td><td>Dec. 2006                                                                                         </td><td>Broad Institute Tupbel1.0                                                                         </td><td>BSgenome.Tbelangeri.UCSC.tupBel1                                                                  </td><td>Tbelangeri                                                                                        </td><td>custom_from_UCSC                                                                                  </td></tr>\n",
       "\t<tr><td>Wallaby                                                                                           </td><td>macEug2                                                                                           </td><td>Marsupiala                                                                                        </td><td>Notamacropus eugenii                                                                              </td><td>Sep. 2009                                                                                         </td><td>Tammar Wallaby Genome Sequencing Consortium Meug_1.1                                              </td><td>BSgenome.Neugenii.UCSC.macEug2                                                                    </td><td>Neugenii                                                                                          </td><td>custom_from_UCSC                                                                                  </td></tr>\n",
       "\t<tr><td>White rhinoceros                                                                                  </td><td>cerSim1                                                                                           </td><td>Mammalia                                                                                          </td><td>Ceratotherium simum                                                                               </td><td>May 2012                                                                                          </td><td>Broad Institute CerSimSim1.0                                                                      </td><td>BSgenome.Csimum.UCSC.cerSim1                                                                      </td><td>Csimum                                                                                            </td><td>custom_from_UCSC                                                                                  </td></tr>\n",
       "</tbody>\n",
       "</table>\n"
      ],
      "text/latex": [
       "\\begin{tabular}{r|lllllllll}\n",
       " species & ucsc\\_genome & class & scientific\\_name & date & name & BSlibrary & genome\\_id & provider\\\\\n",
       "\\hline\n",
       "\t Lancelet                                                                                           & braFlo1                                                                                            & Invertebrata                                                                                       & Cephalochordata                                                                                    & Mar. 2006                                                                                          & JGI v1.0                                                                                           & BSgenome.Cephalochordata.UCSC.braFlo1                                                              & Cephalochordata                                                                                    & custom\\_from\\_UCSC                                                                              \\\\\n",
       "\t Sea Hare                                                                                           & aplCal1                                                                                            & Invertebrata                                                                                       & Aplysia californica                                                                                & Sep. 2008                                                                                          & Broad Release Aplcal2.0                                                                            & BSgenome.Acalifornica.UCSC.aplCal1                                                                 & Acalifornica                                                                                       & custom\\_from\\_UCSC                                                                              \\\\\n",
       "\t Lamprey                                                                                            & petMar2                                                                                            & Jawless Vertebrate                                                                                 & Petromyzon marinus                                                                                 & Sep. 2010                                                                                          & WUGSC 7.0                                                                                          & BSgenome.Pmarinus.UCSC.petMar2                                                                     & Pmarinus                                                                                           & custom\\_from\\_UCSC                                                                              \\\\\n",
       "\t Elephant shark                                                                                         & calMil1                                                                                                & Chondrichthyes                                                                                         & Callorhinchus milii                                                                                    & Dec. 2013                                                                                              & IMCB Callorhinchus\\_milli\\_6.1.3                                                                     & BSgenome.Cmilii.UCSC.calMil1                                                                           & Cmilii                                                                                                 & custom\\_from\\_UCSC                                                                                  \\\\\n",
       "\t Atlantic cod                                                                                         & gadMor1                                                                                              & Actinopteri                                                                                          & Gadus morhua                                                                                         & May 2010                                                                                             & Genofisk GadMor\\_May2010                                                                            & BSgenome.Gmorhua.UCSC.gadMor1                                                                        & Gmorhua                                                                                              & custom\\_from\\_UCSC                                                                                \\\\\n",
       "\t Nile tilapia                                                                                       & oreNil2                                                                                            & Actinopteri                                                                                        & Oreochromis niloticus                                                                              & Jan. 2011                                                                                          & Broad Institute Release OreNil1.1                                                                  & BSgenome.Oniloticus.UCSC.oreNil2                                                                   & Oniloticus                                                                                         & custom\\_from\\_UCSC                                                                              \\\\\n",
       "\t Fugu                                                                                               & fr3                                                                                                & Actinopteri                                                                                        & Takifugu rubripes                                                                                  & Oct. 2011                                                                                          & JGI v5.0                                                                                           & BSgenome.Trubripes.UCSC.fr3                                                                        & Trubripes                                                                                          & custom\\_from\\_UCSC                                                                              \\\\\n",
       "\t Coelacanth                                                                                         & latCha1                                                                                            & Actinopteri                                                                                        & Latimeria chalumnae                                                                                & Aug. 2011                                                                                          & Broad Institute LatCha1                                                                            & BSgenome.Lchalumnae.UCSC.latCha1                                                                   & Lchalumnae                                                                                         & custom\\_from\\_UCSC                                                                              \\\\\n",
       "\t Tropical clawed frog                                                                               & xenTro9                                                                                            & Amphibia                                                                                           & Xenopus tropicalis                                                                                 & NA                                                                                                 & NA                                                                                                 & BSgenome.Xtropicalis.UCSC.xenTro9                                                                  & Xtropicalis                                                                                        & custom\\_from\\_UCSC                                                                              \\\\\n",
       "\t African clawed frog                                                                                & xenLae2                                                                                            & Amphibia                                                                                           & Xenopus laevis                                                                                     & Aug. 2016                                                                                          & Int. Xenopus Sequencing Consortium                                                                 & BSgenome.Xlaevis.UCSC.xenLae2                                                                      & Xlaevis                                                                                            & custom\\_from\\_UCSC                                                                              \\\\\n",
       "\t Tibetan frog                                                                                           & nanPar1                                                                                                & Amphibia                                                                                               & Nanorana parkeri                                                                                       & Mar. 2015                                                                                              & Beijing Genomics Institute BGI\\_ZX\\_20015                                                            & BSgenome.Nparkeri.UCSC.nanPar1                                                                         & Nparkeri                                                                                               & custom\\_from\\_UCSC                                                                                  \\\\\n",
       "\t American alligator                                                                                 & allMis1                                                                                            & Reptilia                                                                                           & Alligator mississippiensis                                                                         & Aug. 2012                                                                                          & Int. Crocodilian Genomes Working Group allMis0.2                                                   & BSgenome.Amississippiensis.UCSC.allMis1                                                            & Amississippiensis                                                                                  & custom\\_from\\_UCSC                                                                              \\\\\n",
       "\t Garter snake                                                                                         & thaSir1                                                                                              & Reptilia                                                                                             & Thamnophis sirtalis                                                                                  & Jun. 2015                                                                                            & Washington University Thamnophis\\_sirtalis-6.0                                                      & BSgenome.Tsirtalis.UCSC.thaSir1                                                                      & Tsirtalis                                                                                            & custom\\_from\\_UCSC                                                                                \\\\\n",
       "\t Lizard                                                                                             & anoCar2                                                                                            & Reptilia                                                                                           & Anolis carolinensis                                                                                & May 2010                                                                                           & Broad Institute AnoCar2                                                                            & BSgenome.Acarolinensis.UCSC.anoCar2                                                                & Acarolinensis                                                                                      & custom\\_from\\_UCSC                                                                              \\\\\n",
       "\t Painted turtle                                                                                         & chrPic1                                                                                                & Reptilia                                                                                               & Chrysemys picta                                                                                        & Dec. 2011                                                                                              & IPTGSC Chrysemys\\_picta\\_bellii-3.0.1                                                                & BSgenome.Cpicta.UCSC.chrPic1                                                                           & Cpicta                                                                                                 & custom\\_from\\_UCSC                                                                                  \\\\\n",
       "\t Medium ground finch                                                                                  & geoFor1                                                                                              & Aves                                                                                                 & Geospiza fortis                                                                                      & Apr. 2012                                                                                            & BGI GeoFor\\_1.0 / NCBI 13302                                                                        & BSgenome.Gfortis.UCSC.geoFor1                                                                        & Gfortis                                                                                              & custom\\_from\\_UCSC                                                                                \\\\\n",
       "\t Budgeriger                                                                                         & melUnd1                                                                                            & Aves                                                                                               & Melopsittacus undulatus                                                                            & NA                                                                                                 & NA                                                                                                 & BSgenome.Mundulatus.UCSC.melUnd1                                                                   & Mundulatus                                                                                         & custom\\_from\\_UCSC                                                                              \\\\\n",
       "\t Golden eagle                                                                                       & aquChr2                                                                                            & Aves                                                                                               & Aquila chrysaetos                                                                                  & Oct. 2014                                                                                          & University of Washington aquChr2-1.0.2                                                             & BSgenome.Achrysaetos.UCSC.aquChr2                                                                  & Achrysaetos                                                                                        & custom\\_from\\_UCSC                                                                              \\\\\n",
       "\t Tasmanian devil                                                                                      & sarHar1                                                                                              & Marsupiala                                                                                           & Sarcophilus harrisii                                                                                 & Feb. 2011                                                                                            & Wellcome Trust Sanger Institute Devil\\_refv7.0                                                      & BSgenome.Sharrisii.UCSC.sarHar1                                                                      & Sharrisii                                                                                            & custom\\_from\\_UCSC                                                                                \\\\\n",
       "\t Cat                                                                                                    & felCat9                                                                                                & Mammalia                                                                                               & Felis catus                                                                                            & Nov. 2017                                                                                              & Genome Sequencing Center (GSC) at Washington University (WashU) School of Medicine Felis\\_catus\\_9.0 & BSgenome.Fcatus.UCSC.felCat9                                                                           & Fcatus                                                                                                 & custom\\_from\\_UCSC                                                                                  \\\\\n",
       "\t Gibbon                                                                                             & nomLeu3                                                                                            & Mammalia                                                                                           & Nomascus leucogenys                                                                                & Oct. 2012                                                                                          & Gibbon Genome Sequencing Consortium Nleu3.0                                                        & BSgenome.Nleucogenys.UCSC.nomLeu3                                                                  & Nleucogenys                                                                                        & custom\\_from\\_UCSC                                                                              \\\\\n",
       "\t Gorilla                                                                                            & gorGor6                                                                                            & Mammalia                                                                                           & Gorilla gorilla                                                                                    & Aug. 2019                                                                                          & University of Washington                                                                           & BSgenome.Ggorilla.UCSC.gorGor6                                                                     & Ggorilla                                                                                           & custom\\_from\\_UCSC                                                                              \\\\\n",
       "\t Bonobo                                                                                             & panPan2                                                                                            & Mammalia                                                                                           & Pan paniscus                                                                                       & Dec. 2015                                                                                          & Max-Planck Institute for Evolutionary Anthropology panpan1.1                                       & BSgenome.Ppaniscus.UCSC.panPan2                                                                    & Ppaniscus                                                                                          & custom\\_from\\_UCSC                                                                              \\\\\n",
       "\t Green Monkey                                                                                       & chlSab2                                                                                            & Mammalia                                                                                           & Chlorocebus sabaeus                                                                                & Mar. 2014                                                                                          & Vervet Genomics Consortium 1.1                                                                     & BSgenome.Csabaeus.UCSC.chlSab2                                                                     & Csabaeus                                                                                           & custom\\_from\\_UCSC                                                                              \\\\\n",
       "\t Megabat                                                                                            & pteVam1                                                                                            & Mammalia                                                                                           & Pteropus vampyrus                                                                                  & Jul. 2008                                                                                          & Broad Institute Ptevap1.0                                                                          & BSgenome.Pvampyrus.UCSC.pteVam1                                                                    & Pvampyrus                                                                                          & custom\\_from\\_UCSC                                                                              \\\\\n",
       "\t Microbat                                                                                           & myoLuc2                                                                                            & Mammalia                                                                                           & Myotis lucifugus                                                                                   & Jul. 2010                                                                                          & Broad Institute MyoLuc2.0                                                                          & BSgenome.Mlucifugus.UCSC.myoLuc2                                                                   & Mlucifugus                                                                                         & custom\\_from\\_UCSC                                                                              \\\\\n",
       "\t Naked mole rat                                                                                     & hetGla2                                                                                            & Mammalia                                                                                           & Heterocephalus glaber                                                                              & NA                                                                                                 & NA                                                                                                 & BSgenome.Hglaber.UCSC.hetGla2                                                                      & Hglaber                                                                                            & custom\\_from\\_UCSC                                                                              \\\\\n",
       "\t Orangutan                                                                                            & ponAbe3                                                                                              & Mammalia                                                                                             & Pongo abelii                                                                                         & Jan. 2018                                                                                            & Susie\\_PABv2/ponAbe3                                                                                & BSgenome.Pabelii.UCSC.ponAbe3                                                                        & Pabelii                                                                                              & custom\\_from\\_UCSC                                                                                \\\\\n",
       "\t Rabbit                                                                                             & oryCun2                                                                                            & Mammalia                                                                                           & Oryctolagus cuniculus                                                                              & Apr. 2009                                                                                          & Broad Institute release OryCun2                                                                    & BSgenome.Ocuniculus.UCSC.oryCun2                                                                   & Ocuniculus                                                                                         & custom\\_from\\_UCSC                                                                              \\\\\n",
       "\t Sheep                                                                                                & oviAri4                                                                                              & Mammalia                                                                                             & Ovis aries                                                                                           & Dec. 2015                                                                                            & ISGC Oar\\_v4.0                                                                                      & BSgenome.Oaries.UCSC.oviAri4                                                                         & Oaries                                                                                               & custom\\_from\\_UCSC                                                                                \\\\\n",
       "\t Squirrel                                                                                           & speTri2                                                                                            & Mammalia                                                                                           & Ictidomys tridecemlineatus                                                                         & Nov. 2011                                                                                          & Broad Institute SpeTri2.0                                                                          & BSgenome.Itridecemlineatus.UCSC.speTri2                                                            & Itridecemlineatus                                                                                  & custom\\_from\\_UCSC                                                                              \\\\\n",
       "\t Squirrel monkey                                                                                    & saiBol1                                                                                            & Mammalia                                                                                           & Saimiri boliviensis boliviensis                                                                    & Oct. 2011                                                                                          & Broad Institute SaiBol1.0                                                                          & BSgenome.Sboliviensis.UCSC.saiBol1                                                                 & Sboliviensis                                                                                       & custom\\_from\\_UCSC                                                                              \\\\\n",
       "\t Shrew                                                                                              & sorAra2                                                                                            & Mammalia                                                                                           & Sorex araneus                                                                                      & Aug. 2008                                                                                          & Broad Institute SorAra2.0                                                                          & BSgenome.Saraneus.UCSC.sorAra2                                                                     & Saraneus                                                                                           & custom\\_from\\_UCSC                                                                              \\\\\n",
       "\t Tree shrew                                                                                         & tupBel1                                                                                            & Mammalia                                                                                           & Tupaia belangeri                                                                                   & Dec. 2006                                                                                          & Broad Institute Tupbel1.0                                                                          & BSgenome.Tbelangeri.UCSC.tupBel1                                                                   & Tbelangeri                                                                                         & custom\\_from\\_UCSC                                                                              \\\\\n",
       "\t Wallaby                                                                                              & macEug2                                                                                              & Marsupiala                                                                                           & Notamacropus eugenii                                                                                 & Sep. 2009                                                                                            & Tammar Wallaby Genome Sequencing Consortium Meug\\_1.1                                               & BSgenome.Neugenii.UCSC.macEug2                                                                       & Neugenii                                                                                             & custom\\_from\\_UCSC                                                                                \\\\\n",
       "\t White rhinoceros                                                                                   & cerSim1                                                                                            & Mammalia                                                                                           & Ceratotherium simum                                                                                & May 2012                                                                                           & Broad Institute CerSimSim1.0                                                                       & BSgenome.Csimum.UCSC.cerSim1                                                                       & Csimum                                                                                             & custom\\_from\\_UCSC                                                                              \\\\\n",
       "\\end{tabular}\n"
      ],
      "text/markdown": [
       "\n",
       "| species | ucsc_genome | class | scientific_name | date | name | BSlibrary | genome_id | provider |\n",
       "|---|---|---|---|---|---|---|---|---|\n",
       "| Lancelet                                                                                           | braFlo1                                                                                            | Invertebrata                                                                                       | Cephalochordata                                                                                    | Mar. 2006                                                                                          | JGI v1.0                                                                                           | BSgenome.Cephalochordata.UCSC.braFlo1                                                              | Cephalochordata                                                                                    | custom_from_UCSC                                                                                   |\n",
       "| Sea Hare                                                                                           | aplCal1                                                                                            | Invertebrata                                                                                       | Aplysia californica                                                                                | Sep. 2008                                                                                          | Broad Release Aplcal2.0                                                                            | BSgenome.Acalifornica.UCSC.aplCal1                                                                 | Acalifornica                                                                                       | custom_from_UCSC                                                                                   |\n",
       "| Lamprey                                                                                            | petMar2                                                                                            | Jawless Vertebrate                                                                                 | Petromyzon marinus                                                                                 | Sep. 2010                                                                                          | WUGSC 7.0                                                                                          | BSgenome.Pmarinus.UCSC.petMar2                                                                     | Pmarinus                                                                                           | custom_from_UCSC                                                                                   |\n",
       "| Elephant shark                                                                                     | calMil1                                                                                            | Chondrichthyes                                                                                     | Callorhinchus milii                                                                                | Dec. 2013                                                                                          | IMCB Callorhinchus_milli_6.1.3                                                                     | BSgenome.Cmilii.UCSC.calMil1                                                                       | Cmilii                                                                                             | custom_from_UCSC                                                                                   |\n",
       "| Atlantic cod                                                                                       | gadMor1                                                                                            | Actinopteri                                                                                        | Gadus morhua                                                                                       | May 2010                                                                                           | Genofisk GadMor_May2010                                                                            | BSgenome.Gmorhua.UCSC.gadMor1                                                                      | Gmorhua                                                                                            | custom_from_UCSC                                                                                   |\n",
       "| Nile tilapia                                                                                       | oreNil2                                                                                            | Actinopteri                                                                                        | Oreochromis niloticus                                                                              | Jan. 2011                                                                                          | Broad Institute Release OreNil1.1                                                                  | BSgenome.Oniloticus.UCSC.oreNil2                                                                   | Oniloticus                                                                                         | custom_from_UCSC                                                                                   |\n",
       "| Fugu                                                                                               | fr3                                                                                                | Actinopteri                                                                                        | Takifugu rubripes                                                                                  | Oct. 2011                                                                                          | JGI v5.0                                                                                           | BSgenome.Trubripes.UCSC.fr3                                                                        | Trubripes                                                                                          | custom_from_UCSC                                                                                   |\n",
       "| Coelacanth                                                                                         | latCha1                                                                                            | Actinopteri                                                                                        | Latimeria chalumnae                                                                                | Aug. 2011                                                                                          | Broad Institute LatCha1                                                                            | BSgenome.Lchalumnae.UCSC.latCha1                                                                   | Lchalumnae                                                                                         | custom_from_UCSC                                                                                   |\n",
       "| Tropical clawed frog                                                                               | xenTro9                                                                                            | Amphibia                                                                                           | Xenopus tropicalis                                                                                 | NA                                                                                                 | NA                                                                                                 | BSgenome.Xtropicalis.UCSC.xenTro9                                                                  | Xtropicalis                                                                                        | custom_from_UCSC                                                                                   |\n",
       "| African clawed frog                                                                                | xenLae2                                                                                            | Amphibia                                                                                           | Xenopus laevis                                                                                     | Aug. 2016                                                                                          | Int. Xenopus Sequencing Consortium                                                                 | BSgenome.Xlaevis.UCSC.xenLae2                                                                      | Xlaevis                                                                                            | custom_from_UCSC                                                                                   |\n",
       "| Tibetan frog                                                                                       | nanPar1                                                                                            | Amphibia                                                                                           | Nanorana parkeri                                                                                   | Mar. 2015                                                                                          | Beijing Genomics Institute BGI_ZX_20015                                                            | BSgenome.Nparkeri.UCSC.nanPar1                                                                     | Nparkeri                                                                                           | custom_from_UCSC                                                                                   |\n",
       "| American alligator                                                                                 | allMis1                                                                                            | Reptilia                                                                                           | Alligator mississippiensis                                                                         | Aug. 2012                                                                                          | Int. Crocodilian Genomes Working Group allMis0.2                                                   | BSgenome.Amississippiensis.UCSC.allMis1                                                            | Amississippiensis                                                                                  | custom_from_UCSC                                                                                   |\n",
       "| Garter snake                                                                                       | thaSir1                                                                                            | Reptilia                                                                                           | Thamnophis sirtalis                                                                                | Jun. 2015                                                                                          | Washington University Thamnophis_sirtalis-6.0                                                      | BSgenome.Tsirtalis.UCSC.thaSir1                                                                    | Tsirtalis                                                                                          | custom_from_UCSC                                                                                   |\n",
       "| Lizard                                                                                             | anoCar2                                                                                            | Reptilia                                                                                           | Anolis carolinensis                                                                                | May 2010                                                                                           | Broad Institute AnoCar2                                                                            | BSgenome.Acarolinensis.UCSC.anoCar2                                                                | Acarolinensis                                                                                      | custom_from_UCSC                                                                                   |\n",
       "| Painted turtle                                                                                     | chrPic1                                                                                            | Reptilia                                                                                           | Chrysemys picta                                                                                    | Dec. 2011                                                                                          | IPTGSC Chrysemys_picta_bellii-3.0.1                                                                | BSgenome.Cpicta.UCSC.chrPic1                                                                       | Cpicta                                                                                             | custom_from_UCSC                                                                                   |\n",
       "| Medium ground finch                                                                                | geoFor1                                                                                            | Aves                                                                                               | Geospiza fortis                                                                                    | Apr. 2012                                                                                          | BGI GeoFor_1.0 / NCBI 13302                                                                        | BSgenome.Gfortis.UCSC.geoFor1                                                                      | Gfortis                                                                                            | custom_from_UCSC                                                                                   |\n",
       "| Budgeriger                                                                                         | melUnd1                                                                                            | Aves                                                                                               | Melopsittacus undulatus                                                                            | NA                                                                                                 | NA                                                                                                 | BSgenome.Mundulatus.UCSC.melUnd1                                                                   | Mundulatus                                                                                         | custom_from_UCSC                                                                                   |\n",
       "| Golden eagle                                                                                       | aquChr2                                                                                            | Aves                                                                                               | Aquila chrysaetos                                                                                  | Oct. 2014                                                                                          | University of Washington aquChr2-1.0.2                                                             | BSgenome.Achrysaetos.UCSC.aquChr2                                                                  | Achrysaetos                                                                                        | custom_from_UCSC                                                                                   |\n",
       "| Tasmanian devil                                                                                    | sarHar1                                                                                            | Marsupiala                                                                                         | Sarcophilus harrisii                                                                               | Feb. 2011                                                                                          | Wellcome Trust Sanger Institute Devil_refv7.0                                                      | BSgenome.Sharrisii.UCSC.sarHar1                                                                    | Sharrisii                                                                                          | custom_from_UCSC                                                                                   |\n",
       "| Cat                                                                                                | felCat9                                                                                            | Mammalia                                                                                           | Felis catus                                                                                        | Nov. 2017                                                                                          | Genome Sequencing Center (GSC) at Washington University (WashU) School of Medicine Felis_catus_9.0 | BSgenome.Fcatus.UCSC.felCat9                                                                       | Fcatus                                                                                             | custom_from_UCSC                                                                                   |\n",
       "| Gibbon                                                                                             | nomLeu3                                                                                            | Mammalia                                                                                           | Nomascus leucogenys                                                                                | Oct. 2012                                                                                          | Gibbon Genome Sequencing Consortium Nleu3.0                                                        | BSgenome.Nleucogenys.UCSC.nomLeu3                                                                  | Nleucogenys                                                                                        | custom_from_UCSC                                                                                   |\n",
       "| Gorilla                                                                                            | gorGor6                                                                                            | Mammalia                                                                                           | Gorilla gorilla                                                                                    | Aug. 2019                                                                                          | University of Washington                                                                           | BSgenome.Ggorilla.UCSC.gorGor6                                                                     | Ggorilla                                                                                           | custom_from_UCSC                                                                                   |\n",
       "| Bonobo                                                                                             | panPan2                                                                                            | Mammalia                                                                                           | Pan paniscus                                                                                       | Dec. 2015                                                                                          | Max-Planck Institute for Evolutionary Anthropology panpan1.1                                       | BSgenome.Ppaniscus.UCSC.panPan2                                                                    | Ppaniscus                                                                                          | custom_from_UCSC                                                                                   |\n",
       "| Green Monkey                                                                                       | chlSab2                                                                                            | Mammalia                                                                                           | Chlorocebus sabaeus                                                                                | Mar. 2014                                                                                          | Vervet Genomics Consortium 1.1                                                                     | BSgenome.Csabaeus.UCSC.chlSab2                                                                     | Csabaeus                                                                                           | custom_from_UCSC                                                                                   |\n",
       "| Megabat                                                                                            | pteVam1                                                                                            | Mammalia                                                                                           | Pteropus vampyrus                                                                                  | Jul. 2008                                                                                          | Broad Institute Ptevap1.0                                                                          | BSgenome.Pvampyrus.UCSC.pteVam1                                                                    | Pvampyrus                                                                                          | custom_from_UCSC                                                                                   |\n",
       "| Microbat                                                                                           | myoLuc2                                                                                            | Mammalia                                                                                           | Myotis lucifugus                                                                                   | Jul. 2010                                                                                          | Broad Institute MyoLuc2.0                                                                          | BSgenome.Mlucifugus.UCSC.myoLuc2                                                                   | Mlucifugus                                                                                         | custom_from_UCSC                                                                                   |\n",
       "| Naked mole rat                                                                                     | hetGla2                                                                                            | Mammalia                                                                                           | Heterocephalus glaber                                                                              | NA                                                                                                 | NA                                                                                                 | BSgenome.Hglaber.UCSC.hetGla2                                                                      | Hglaber                                                                                            | custom_from_UCSC                                                                                   |\n",
       "| Orangutan                                                                                          | ponAbe3                                                                                            | Mammalia                                                                                           | Pongo abelii                                                                                       | Jan. 2018                                                                                          | Susie_PABv2/ponAbe3                                                                                | BSgenome.Pabelii.UCSC.ponAbe3                                                                      | Pabelii                                                                                            | custom_from_UCSC                                                                                   |\n",
       "| Rabbit                                                                                             | oryCun2                                                                                            | Mammalia                                                                                           | Oryctolagus cuniculus                                                                              | Apr. 2009                                                                                          | Broad Institute release OryCun2                                                                    | BSgenome.Ocuniculus.UCSC.oryCun2                                                                   | Ocuniculus                                                                                         | custom_from_UCSC                                                                                   |\n",
       "| Sheep                                                                                              | oviAri4                                                                                            | Mammalia                                                                                           | Ovis aries                                                                                         | Dec. 2015                                                                                          | ISGC Oar_v4.0                                                                                      | BSgenome.Oaries.UCSC.oviAri4                                                                       | Oaries                                                                                             | custom_from_UCSC                                                                                   |\n",
       "| Squirrel                                                                                           | speTri2                                                                                            | Mammalia                                                                                           | Ictidomys tridecemlineatus                                                                         | Nov. 2011                                                                                          | Broad Institute SpeTri2.0                                                                          | BSgenome.Itridecemlineatus.UCSC.speTri2                                                            | Itridecemlineatus                                                                                  | custom_from_UCSC                                                                                   |\n",
       "| Squirrel monkey                                                                                    | saiBol1                                                                                            | Mammalia                                                                                           | Saimiri boliviensis boliviensis                                                                    | Oct. 2011                                                                                          | Broad Institute SaiBol1.0                                                                          | BSgenome.Sboliviensis.UCSC.saiBol1                                                                 | Sboliviensis                                                                                       | custom_from_UCSC                                                                                   |\n",
       "| Shrew                                                                                              | sorAra2                                                                                            | Mammalia                                                                                           | Sorex araneus                                                                                      | Aug. 2008                                                                                          | Broad Institute SorAra2.0                                                                          | BSgenome.Saraneus.UCSC.sorAra2                                                                     | Saraneus                                                                                           | custom_from_UCSC                                                                                   |\n",
       "| Tree shrew                                                                                         | tupBel1                                                                                            | Mammalia                                                                                           | Tupaia belangeri                                                                                   | Dec. 2006                                                                                          | Broad Institute Tupbel1.0                                                                          | BSgenome.Tbelangeri.UCSC.tupBel1                                                                   | Tbelangeri                                                                                         | custom_from_UCSC                                                                                   |\n",
       "| Wallaby                                                                                            | macEug2                                                                                            | Marsupiala                                                                                         | Notamacropus eugenii                                                                               | Sep. 2009                                                                                          | Tammar Wallaby Genome Sequencing Consortium Meug_1.1                                               | BSgenome.Neugenii.UCSC.macEug2                                                                     | Neugenii                                                                                           | custom_from_UCSC                                                                                   |\n",
       "| White rhinoceros                                                                                   | cerSim1                                                                                            | Mammalia                                                                                           | Ceratotherium simum                                                                                | May 2012                                                                                           | Broad Institute CerSimSim1.0                                                                       | BSgenome.Csimum.UCSC.cerSim1                                                                       | Csimum                                                                                             | custom_from_UCSC                                                                                   |\n",
       "\n"
      ],
      "text/plain": [
       "   species              ucsc_genome class             \n",
       "1  Lancelet             braFlo1     Invertebrata      \n",
       "2  Sea Hare             aplCal1     Invertebrata      \n",
       "3  Lamprey              petMar2     Jawless Vertebrate\n",
       "4  Elephant shark       calMil1     Chondrichthyes    \n",
       "5  Atlantic cod         gadMor1     Actinopteri       \n",
       "6  Nile tilapia         oreNil2     Actinopteri       \n",
       "7  Fugu                 fr3         Actinopteri       \n",
       "8  Coelacanth           latCha1     Actinopteri       \n",
       "9  Tropical clawed frog xenTro9     Amphibia          \n",
       "10 African clawed frog  xenLae2     Amphibia          \n",
       "11 Tibetan frog         nanPar1     Amphibia          \n",
       "12 American alligator   allMis1     Reptilia          \n",
       "13 Garter snake         thaSir1     Reptilia          \n",
       "14 Lizard               anoCar2     Reptilia          \n",
       "15 Painted turtle       chrPic1     Reptilia          \n",
       "16 Medium ground finch  geoFor1     Aves              \n",
       "17 Budgeriger           melUnd1     Aves              \n",
       "18 Golden eagle         aquChr2     Aves              \n",
       "19 Tasmanian devil      sarHar1     Marsupiala        \n",
       "20 Cat                  felCat9     Mammalia          \n",
       "21 Gibbon               nomLeu3     Mammalia          \n",
       "22 Gorilla              gorGor6     Mammalia          \n",
       "23 Bonobo               panPan2     Mammalia          \n",
       "24 Green Monkey         chlSab2     Mammalia          \n",
       "25 Megabat              pteVam1     Mammalia          \n",
       "26 Microbat             myoLuc2     Mammalia          \n",
       "27 Naked mole rat       hetGla2     Mammalia          \n",
       "28 Orangutan            ponAbe3     Mammalia          \n",
       "29 Rabbit               oryCun2     Mammalia          \n",
       "30 Sheep                oviAri4     Mammalia          \n",
       "31 Squirrel             speTri2     Mammalia          \n",
       "32 Squirrel monkey      saiBol1     Mammalia          \n",
       "33 Shrew                sorAra2     Mammalia          \n",
       "34 Tree shrew           tupBel1     Mammalia          \n",
       "35 Wallaby              macEug2     Marsupiala        \n",
       "36 White rhinoceros     cerSim1     Mammalia          \n",
       "   scientific_name                 date     \n",
       "1  Cephalochordata                 Mar. 2006\n",
       "2  Aplysia californica             Sep. 2008\n",
       "3  Petromyzon marinus              Sep. 2010\n",
       "4  Callorhinchus milii             Dec. 2013\n",
       "5  Gadus morhua                    May 2010 \n",
       "6  Oreochromis niloticus           Jan. 2011\n",
       "7  Takifugu rubripes               Oct. 2011\n",
       "8  Latimeria chalumnae             Aug. 2011\n",
       "9  Xenopus tropicalis              NA       \n",
       "10 Xenopus laevis                  Aug. 2016\n",
       "11 Nanorana parkeri                Mar. 2015\n",
       "12 Alligator mississippiensis      Aug. 2012\n",
       "13 Thamnophis sirtalis             Jun. 2015\n",
       "14 Anolis carolinensis             May 2010 \n",
       "15 Chrysemys picta                 Dec. 2011\n",
       "16 Geospiza fortis                 Apr. 2012\n",
       "17 Melopsittacus undulatus         NA       \n",
       "18 Aquila chrysaetos               Oct. 2014\n",
       "19 Sarcophilus harrisii            Feb. 2011\n",
       "20 Felis catus                     Nov. 2017\n",
       "21 Nomascus leucogenys             Oct. 2012\n",
       "22 Gorilla gorilla                 Aug. 2019\n",
       "23 Pan paniscus                    Dec. 2015\n",
       "24 Chlorocebus sabaeus             Mar. 2014\n",
       "25 Pteropus vampyrus               Jul. 2008\n",
       "26 Myotis lucifugus                Jul. 2010\n",
       "27 Heterocephalus glaber           NA       \n",
       "28 Pongo abelii                    Jan. 2018\n",
       "29 Oryctolagus cuniculus           Apr. 2009\n",
       "30 Ovis aries                      Dec. 2015\n",
       "31 Ictidomys tridecemlineatus      Nov. 2011\n",
       "32 Saimiri boliviensis boliviensis Oct. 2011\n",
       "33 Sorex araneus                   Aug. 2008\n",
       "34 Tupaia belangeri                Dec. 2006\n",
       "35 Notamacropus eugenii            Sep. 2009\n",
       "36 Ceratotherium simum             May 2012 \n",
       "   name                                                                                              \n",
       "1  JGI v1.0                                                                                          \n",
       "2  Broad Release Aplcal2.0                                                                           \n",
       "3  WUGSC 7.0                                                                                         \n",
       "4  IMCB Callorhinchus_milli_6.1.3                                                                    \n",
       "5  Genofisk GadMor_May2010                                                                           \n",
       "6  Broad Institute Release OreNil1.1                                                                 \n",
       "7  JGI v5.0                                                                                          \n",
       "8  Broad Institute LatCha1                                                                           \n",
       "9  NA                                                                                                \n",
       "10 Int. Xenopus Sequencing Consortium                                                                \n",
       "11 Beijing Genomics Institute BGI_ZX_20015                                                           \n",
       "12 Int. Crocodilian Genomes Working Group allMis0.2                                                  \n",
       "13 Washington University Thamnophis_sirtalis-6.0                                                     \n",
       "14 Broad Institute AnoCar2                                                                           \n",
       "15 IPTGSC Chrysemys_picta_bellii-3.0.1                                                               \n",
       "16 BGI GeoFor_1.0 / NCBI 13302                                                                       \n",
       "17 NA                                                                                                \n",
       "18 University of Washington aquChr2-1.0.2                                                            \n",
       "19 Wellcome Trust Sanger Institute Devil_refv7.0                                                     \n",
       "20 Genome Sequencing Center (GSC) at Washington University (WashU) School of Medicine Felis_catus_9.0\n",
       "21 Gibbon Genome Sequencing Consortium Nleu3.0                                                       \n",
       "22 University of Washington                                                                          \n",
       "23 Max-Planck Institute for Evolutionary Anthropology panpan1.1                                      \n",
       "24 Vervet Genomics Consortium 1.1                                                                    \n",
       "25 Broad Institute Ptevap1.0                                                                         \n",
       "26 Broad Institute MyoLuc2.0                                                                         \n",
       "27 NA                                                                                                \n",
       "28 Susie_PABv2/ponAbe3                                                                               \n",
       "29 Broad Institute release OryCun2                                                                   \n",
       "30 ISGC Oar_v4.0                                                                                     \n",
       "31 Broad Institute SpeTri2.0                                                                         \n",
       "32 Broad Institute SaiBol1.0                                                                         \n",
       "33 Broad Institute SorAra2.0                                                                         \n",
       "34 Broad Institute Tupbel1.0                                                                         \n",
       "35 Tammar Wallaby Genome Sequencing Consortium Meug_1.1                                              \n",
       "36 Broad Institute CerSimSim1.0                                                                      \n",
       "   BSlibrary                               genome_id         provider        \n",
       "1  BSgenome.Cephalochordata.UCSC.braFlo1   Cephalochordata   custom_from_UCSC\n",
       "2  BSgenome.Acalifornica.UCSC.aplCal1      Acalifornica      custom_from_UCSC\n",
       "3  BSgenome.Pmarinus.UCSC.petMar2          Pmarinus          custom_from_UCSC\n",
       "4  BSgenome.Cmilii.UCSC.calMil1            Cmilii            custom_from_UCSC\n",
       "5  BSgenome.Gmorhua.UCSC.gadMor1           Gmorhua           custom_from_UCSC\n",
       "6  BSgenome.Oniloticus.UCSC.oreNil2        Oniloticus        custom_from_UCSC\n",
       "7  BSgenome.Trubripes.UCSC.fr3             Trubripes         custom_from_UCSC\n",
       "8  BSgenome.Lchalumnae.UCSC.latCha1        Lchalumnae        custom_from_UCSC\n",
       "9  BSgenome.Xtropicalis.UCSC.xenTro9       Xtropicalis       custom_from_UCSC\n",
       "10 BSgenome.Xlaevis.UCSC.xenLae2           Xlaevis           custom_from_UCSC\n",
       "11 BSgenome.Nparkeri.UCSC.nanPar1          Nparkeri          custom_from_UCSC\n",
       "12 BSgenome.Amississippiensis.UCSC.allMis1 Amississippiensis custom_from_UCSC\n",
       "13 BSgenome.Tsirtalis.UCSC.thaSir1         Tsirtalis         custom_from_UCSC\n",
       "14 BSgenome.Acarolinensis.UCSC.anoCar2     Acarolinensis     custom_from_UCSC\n",
       "15 BSgenome.Cpicta.UCSC.chrPic1            Cpicta            custom_from_UCSC\n",
       "16 BSgenome.Gfortis.UCSC.geoFor1           Gfortis           custom_from_UCSC\n",
       "17 BSgenome.Mundulatus.UCSC.melUnd1        Mundulatus        custom_from_UCSC\n",
       "18 BSgenome.Achrysaetos.UCSC.aquChr2       Achrysaetos       custom_from_UCSC\n",
       "19 BSgenome.Sharrisii.UCSC.sarHar1         Sharrisii         custom_from_UCSC\n",
       "20 BSgenome.Fcatus.UCSC.felCat9            Fcatus            custom_from_UCSC\n",
       "21 BSgenome.Nleucogenys.UCSC.nomLeu3       Nleucogenys       custom_from_UCSC\n",
       "22 BSgenome.Ggorilla.UCSC.gorGor6          Ggorilla          custom_from_UCSC\n",
       "23 BSgenome.Ppaniscus.UCSC.panPan2         Ppaniscus         custom_from_UCSC\n",
       "24 BSgenome.Csabaeus.UCSC.chlSab2          Csabaeus          custom_from_UCSC\n",
       "25 BSgenome.Pvampyrus.UCSC.pteVam1         Pvampyrus         custom_from_UCSC\n",
       "26 BSgenome.Mlucifugus.UCSC.myoLuc2        Mlucifugus        custom_from_UCSC\n",
       "27 BSgenome.Hglaber.UCSC.hetGla2           Hglaber           custom_from_UCSC\n",
       "28 BSgenome.Pabelii.UCSC.ponAbe3           Pabelii           custom_from_UCSC\n",
       "29 BSgenome.Ocuniculus.UCSC.oryCun2        Ocuniculus        custom_from_UCSC\n",
       "30 BSgenome.Oaries.UCSC.oviAri4            Oaries            custom_from_UCSC\n",
       "31 BSgenome.Itridecemlineatus.UCSC.speTri2 Itridecemlineatus custom_from_UCSC\n",
       "32 BSgenome.Sboliviensis.UCSC.saiBol1      Sboliviensis      custom_from_UCSC\n",
       "33 BSgenome.Saraneus.UCSC.sorAra2          Saraneus          custom_from_UCSC\n",
       "34 BSgenome.Tbelangeri.UCSC.tupBel1        Tbelangeri        custom_from_UCSC\n",
       "35 BSgenome.Neugenii.UCSC.macEug2          Neugenii          custom_from_UCSC\n",
       "36 BSgenome.Csimum.UCSC.cerSim1            Csimum            custom_from_UCSC"
      ]
     },
     "metadata": {},
     "output_type": "display_data"
    }
   ],
   "source": [
    "df_toforge"
   ]
  },
  {
   "cell_type": "code",
   "execution_count": 54,
   "metadata": {},
   "outputs": [
    {
     "data": {
      "text/html": [
       "<table>\n",
       "<thead><tr><th scope=col>species</th><th scope=col>ucsc_genome</th><th scope=col>class</th><th scope=col>scientific_name</th><th scope=col>date</th><th scope=col>name</th><th scope=col>BSlibrary</th><th scope=col>genome_id</th><th scope=col>provider</th></tr></thead>\n",
       "<tbody>\n",
       "\t<tr><td>Mouse                             </td><td>mm10                              </td><td>Mammalia                          </td><td>Mus musculus                      </td><td>Dec. 2011                         </td><td>Genome Reference Consortium GRCm38</td><td>BSgenome.Mmusculus.UCSC.mm10      </td><td>Mmusculus                         </td><td>UCSC                              </td></tr>\n",
       "\t<tr><td>Zebrafish                         </td><td>danRer11                          </td><td>Actinopteri                       </td><td>Danio rerio                       </td><td>May 2017                          </td><td>Genome Reference Consortium GRCz11</td><td>BSgenome.Drerio.UCSC.danRer11     </td><td>Drerio                            </td><td>UCSC                              </td></tr>\n",
       "\t<tr><td>Chicken                           </td><td>galGal6                           </td><td>Aves                              </td><td>Gallus gallus                     </td><td>Mar. 2018                         </td><td>GRCg6 Gallus-gallus-6.0           </td><td>BSgenome.Ggallus.UCSC.galGal6     </td><td>Ggallus                           </td><td>UCSC                              </td></tr>\n",
       "\t<tr><td>Zebra finch                       </td><td>taeGut2                           </td><td>Aves                              </td><td>Taeniopygia guttata               </td><td>Feb. 2013                         </td><td>WashU taeGut324                   </td><td>BSgenome.Tguttata.UCSC.taeGut2    </td><td>Tguttata                          </td><td>UCSC                              </td></tr>\n",
       "\t<tr><td>Opossum                           </td><td>monDom5                           </td><td>Marsupiala                        </td><td>Monodelphis domestica             </td><td>Oct. 2006                         </td><td>Broad Institute release MonDom5   </td><td>BSgenome.Mdomestica.UCSC.monDom5  </td><td>Mdomestica                        </td><td>UCSC                              </td></tr>\n",
       "\t<tr><td>Cow                               </td><td>bosTau9                           </td><td>Mammalia                          </td><td>Bos taurus                        </td><td>Apr. 2018                         </td><td>USDA ARS                          </td><td>BSgenome.Btaurus.UCSC.bosTau9     </td><td>Btaurus                           </td><td>UCSC                              </td></tr>\n",
       "</tbody>\n",
       "</table>\n"
      ],
      "text/latex": [
       "\\begin{tabular}{r|lllllllll}\n",
       " species & ucsc\\_genome & class & scientific\\_name & date & name & BSlibrary & genome\\_id & provider\\\\\n",
       "\\hline\n",
       "\t Mouse                              & mm10                               & Mammalia                           & Mus musculus                       & Dec. 2011                          & Genome Reference Consortium GRCm38 & BSgenome.Mmusculus.UCSC.mm10       & Mmusculus                          & UCSC                              \\\\\n",
       "\t Zebrafish                          & danRer11                           & Actinopteri                        & Danio rerio                        & May 2017                           & Genome Reference Consortium GRCz11 & BSgenome.Drerio.UCSC.danRer11      & Drerio                             & UCSC                              \\\\\n",
       "\t Chicken                            & galGal6                            & Aves                               & Gallus gallus                      & Mar. 2018                          & GRCg6 Gallus-gallus-6.0            & BSgenome.Ggallus.UCSC.galGal6      & Ggallus                            & UCSC                              \\\\\n",
       "\t Zebra finch                        & taeGut2                            & Aves                               & Taeniopygia guttata                & Feb. 2013                          & WashU taeGut324                    & BSgenome.Tguttata.UCSC.taeGut2     & Tguttata                           & UCSC                              \\\\\n",
       "\t Opossum                            & monDom5                            & Marsupiala                         & Monodelphis domestica              & Oct. 2006                          & Broad Institute release MonDom5    & BSgenome.Mdomestica.UCSC.monDom5   & Mdomestica                         & UCSC                              \\\\\n",
       "\t Cow                                & bosTau9                            & Mammalia                           & Bos taurus                         & Apr. 2018                          & USDA ARS                           & BSgenome.Btaurus.UCSC.bosTau9      & Btaurus                            & UCSC                              \\\\\n",
       "\\end{tabular}\n"
      ],
      "text/markdown": [
       "\n",
       "| species | ucsc_genome | class | scientific_name | date | name | BSlibrary | genome_id | provider |\n",
       "|---|---|---|---|---|---|---|---|---|\n",
       "| Mouse                              | mm10                               | Mammalia                           | Mus musculus                       | Dec. 2011                          | Genome Reference Consortium GRCm38 | BSgenome.Mmusculus.UCSC.mm10       | Mmusculus                          | UCSC                               |\n",
       "| Zebrafish                          | danRer11                           | Actinopteri                        | Danio rerio                        | May 2017                           | Genome Reference Consortium GRCz11 | BSgenome.Drerio.UCSC.danRer11      | Drerio                             | UCSC                               |\n",
       "| Chicken                            | galGal6                            | Aves                               | Gallus gallus                      | Mar. 2018                          | GRCg6 Gallus-gallus-6.0            | BSgenome.Ggallus.UCSC.galGal6      | Ggallus                            | UCSC                               |\n",
       "| Zebra finch                        | taeGut2                            | Aves                               | Taeniopygia guttata                | Feb. 2013                          | WashU taeGut324                    | BSgenome.Tguttata.UCSC.taeGut2     | Tguttata                           | UCSC                               |\n",
       "| Opossum                            | monDom5                            | Marsupiala                         | Monodelphis domestica              | Oct. 2006                          | Broad Institute release MonDom5    | BSgenome.Mdomestica.UCSC.monDom5   | Mdomestica                         | UCSC                               |\n",
       "| Cow                                | bosTau9                            | Mammalia                           | Bos taurus                         | Apr. 2018                          | USDA ARS                           | BSgenome.Btaurus.UCSC.bosTau9      | Btaurus                            | UCSC                               |\n",
       "\n"
      ],
      "text/plain": [
       "  species     ucsc_genome class       scientific_name       date     \n",
       "1 Mouse       mm10        Mammalia    Mus musculus          Dec. 2011\n",
       "2 Zebrafish   danRer11    Actinopteri Danio rerio           May 2017 \n",
       "3 Chicken     galGal6     Aves        Gallus gallus         Mar. 2018\n",
       "4 Zebra finch taeGut2     Aves        Taeniopygia guttata   Feb. 2013\n",
       "5 Opossum     monDom5     Marsupiala  Monodelphis domestica Oct. 2006\n",
       "6 Cow         bosTau9     Mammalia    Bos taurus            Apr. 2018\n",
       "  name                               BSlibrary                       \n",
       "1 Genome Reference Consortium GRCm38 BSgenome.Mmusculus.UCSC.mm10    \n",
       "2 Genome Reference Consortium GRCz11 BSgenome.Drerio.UCSC.danRer11   \n",
       "3 GRCg6 Gallus-gallus-6.0            BSgenome.Ggallus.UCSC.galGal6   \n",
       "4 WashU taeGut324                    BSgenome.Tguttata.UCSC.taeGut2  \n",
       "5 Broad Institute release MonDom5    BSgenome.Mdomestica.UCSC.monDom5\n",
       "6 USDA ARS                           BSgenome.Btaurus.UCSC.bosTau9   \n",
       "  genome_id  provider\n",
       "1 Mmusculus  UCSC    \n",
       "2 Drerio     UCSC    \n",
       "3 Ggallus    UCSC    \n",
       "4 Tguttata   UCSC    \n",
       "5 Mdomestica UCSC    \n",
       "6 Btaurus    UCSC    "
      ]
     },
     "metadata": {},
     "output_type": "display_data"
    }
   ],
   "source": [
    "df_full <- rbind(df[!is.na(df$BSlibrary),], df_toforge)\n",
    "head(df_full)"
   ]
  },
  {
   "cell_type": "code",
   "execution_count": 55,
   "metadata": {},
   "outputs": [
    {
     "data": {
      "text/html": [
       "<table>\n",
       "<thead><tr><th scope=col>species</th><th scope=col>ucsc_genome</th><th scope=col>class</th><th scope=col>scientific_name</th><th scope=col>date</th><th scope=col>name</th><th scope=col>BSlibrary</th><th scope=col>genome_id</th><th scope=col>provider</th></tr></thead>\n",
       "<tbody>\n",
       "\t<tr><td>Squirrel                                            </td><td>speTri2                                             </td><td>Mammalia                                            </td><td>Ictidomys tridecemlineatus                          </td><td>Nov. 2011                                           </td><td>Broad Institute SpeTri2.0                           </td><td>BSgenome.Itridecemlineatus.UCSC.speTri2             </td><td>Itridecemlineatus                                   </td><td>custom_from_UCSC                                    </td></tr>\n",
       "\t<tr><td>Squirrel monkey                                     </td><td>saiBol1                                             </td><td>Mammalia                                            </td><td>Saimiri boliviensis boliviensis                     </td><td>Oct. 2011                                           </td><td>Broad Institute SaiBol1.0                           </td><td>BSgenome.Sboliviensis.UCSC.saiBol1                  </td><td>Sboliviensis                                        </td><td>custom_from_UCSC                                    </td></tr>\n",
       "\t<tr><td>Shrew                                               </td><td>sorAra2                                             </td><td>Mammalia                                            </td><td>Sorex araneus                                       </td><td>Aug. 2008                                           </td><td>Broad Institute SorAra2.0                           </td><td>BSgenome.Saraneus.UCSC.sorAra2                      </td><td>Saraneus                                            </td><td>custom_from_UCSC                                    </td></tr>\n",
       "\t<tr><td>Tree shrew                                          </td><td>tupBel1                                             </td><td>Mammalia                                            </td><td>Tupaia belangeri                                    </td><td>Dec. 2006                                           </td><td>Broad Institute Tupbel1.0                           </td><td>BSgenome.Tbelangeri.UCSC.tupBel1                    </td><td>Tbelangeri                                          </td><td>custom_from_UCSC                                    </td></tr>\n",
       "\t<tr><td>Wallaby                                             </td><td>macEug2                                             </td><td>Marsupiala                                          </td><td>Notamacropus eugenii                                </td><td>Sep. 2009                                           </td><td>Tammar Wallaby Genome Sequencing Consortium Meug_1.1</td><td>BSgenome.Neugenii.UCSC.macEug2                      </td><td>Neugenii                                            </td><td>custom_from_UCSC                                    </td></tr>\n",
       "\t<tr><td>White rhinoceros                                    </td><td>cerSim1                                             </td><td>Mammalia                                            </td><td>Ceratotherium simum                                 </td><td>May 2012                                            </td><td>Broad Institute CerSimSim1.0                        </td><td>BSgenome.Csimum.UCSC.cerSim1                        </td><td>Csimum                                              </td><td>custom_from_UCSC                                    </td></tr>\n",
       "</tbody>\n",
       "</table>\n"
      ],
      "text/latex": [
       "\\begin{tabular}{r|lllllllll}\n",
       " species & ucsc\\_genome & class & scientific\\_name & date & name & BSlibrary & genome\\_id & provider\\\\\n",
       "\\hline\n",
       "\t Squirrel                                             & speTri2                                              & Mammalia                                             & Ictidomys tridecemlineatus                           & Nov. 2011                                            & Broad Institute SpeTri2.0                            & BSgenome.Itridecemlineatus.UCSC.speTri2              & Itridecemlineatus                                    & custom\\_from\\_UCSC                                \\\\\n",
       "\t Squirrel monkey                                      & saiBol1                                              & Mammalia                                             & Saimiri boliviensis boliviensis                      & Oct. 2011                                            & Broad Institute SaiBol1.0                            & BSgenome.Sboliviensis.UCSC.saiBol1                   & Sboliviensis                                         & custom\\_from\\_UCSC                                \\\\\n",
       "\t Shrew                                                & sorAra2                                              & Mammalia                                             & Sorex araneus                                        & Aug. 2008                                            & Broad Institute SorAra2.0                            & BSgenome.Saraneus.UCSC.sorAra2                       & Saraneus                                             & custom\\_from\\_UCSC                                \\\\\n",
       "\t Tree shrew                                           & tupBel1                                              & Mammalia                                             & Tupaia belangeri                                     & Dec. 2006                                            & Broad Institute Tupbel1.0                            & BSgenome.Tbelangeri.UCSC.tupBel1                     & Tbelangeri                                           & custom\\_from\\_UCSC                                \\\\\n",
       "\t Wallaby                                                & macEug2                                                & Marsupiala                                             & Notamacropus eugenii                                   & Sep. 2009                                              & Tammar Wallaby Genome Sequencing Consortium Meug\\_1.1 & BSgenome.Neugenii.UCSC.macEug2                         & Neugenii                                               & custom\\_from\\_UCSC                                  \\\\\n",
       "\t White rhinoceros                                     & cerSim1                                              & Mammalia                                             & Ceratotherium simum                                  & May 2012                                             & Broad Institute CerSimSim1.0                         & BSgenome.Csimum.UCSC.cerSim1                         & Csimum                                               & custom\\_from\\_UCSC                                \\\\\n",
       "\\end{tabular}\n"
      ],
      "text/markdown": [
       "\n",
       "| species | ucsc_genome | class | scientific_name | date | name | BSlibrary | genome_id | provider |\n",
       "|---|---|---|---|---|---|---|---|---|\n",
       "| Squirrel                                             | speTri2                                              | Mammalia                                             | Ictidomys tridecemlineatus                           | Nov. 2011                                            | Broad Institute SpeTri2.0                            | BSgenome.Itridecemlineatus.UCSC.speTri2              | Itridecemlineatus                                    | custom_from_UCSC                                     |\n",
       "| Squirrel monkey                                      | saiBol1                                              | Mammalia                                             | Saimiri boliviensis boliviensis                      | Oct. 2011                                            | Broad Institute SaiBol1.0                            | BSgenome.Sboliviensis.UCSC.saiBol1                   | Sboliviensis                                         | custom_from_UCSC                                     |\n",
       "| Shrew                                                | sorAra2                                              | Mammalia                                             | Sorex araneus                                        | Aug. 2008                                            | Broad Institute SorAra2.0                            | BSgenome.Saraneus.UCSC.sorAra2                       | Saraneus                                             | custom_from_UCSC                                     |\n",
       "| Tree shrew                                           | tupBel1                                              | Mammalia                                             | Tupaia belangeri                                     | Dec. 2006                                            | Broad Institute Tupbel1.0                            | BSgenome.Tbelangeri.UCSC.tupBel1                     | Tbelangeri                                           | custom_from_UCSC                                     |\n",
       "| Wallaby                                              | macEug2                                              | Marsupiala                                           | Notamacropus eugenii                                 | Sep. 2009                                            | Tammar Wallaby Genome Sequencing Consortium Meug_1.1 | BSgenome.Neugenii.UCSC.macEug2                       | Neugenii                                             | custom_from_UCSC                                     |\n",
       "| White rhinoceros                                     | cerSim1                                              | Mammalia                                             | Ceratotherium simum                                  | May 2012                                             | Broad Institute CerSimSim1.0                         | BSgenome.Csimum.UCSC.cerSim1                         | Csimum                                               | custom_from_UCSC                                     |\n",
       "\n"
      ],
      "text/plain": [
       "  species          ucsc_genome class      scientific_name                \n",
       "1 Squirrel         speTri2     Mammalia   Ictidomys tridecemlineatus     \n",
       "2 Squirrel monkey  saiBol1     Mammalia   Saimiri boliviensis boliviensis\n",
       "3 Shrew            sorAra2     Mammalia   Sorex araneus                  \n",
       "4 Tree shrew       tupBel1     Mammalia   Tupaia belangeri               \n",
       "5 Wallaby          macEug2     Marsupiala Notamacropus eugenii           \n",
       "6 White rhinoceros cerSim1     Mammalia   Ceratotherium simum            \n",
       "  date      name                                                \n",
       "1 Nov. 2011 Broad Institute SpeTri2.0                           \n",
       "2 Oct. 2011 Broad Institute SaiBol1.0                           \n",
       "3 Aug. 2008 Broad Institute SorAra2.0                           \n",
       "4 Dec. 2006 Broad Institute Tupbel1.0                           \n",
       "5 Sep. 2009 Tammar Wallaby Genome Sequencing Consortium Meug_1.1\n",
       "6 May 2012  Broad Institute CerSimSim1.0                        \n",
       "  BSlibrary                               genome_id         provider        \n",
       "1 BSgenome.Itridecemlineatus.UCSC.speTri2 Itridecemlineatus custom_from_UCSC\n",
       "2 BSgenome.Sboliviensis.UCSC.saiBol1      Sboliviensis      custom_from_UCSC\n",
       "3 BSgenome.Saraneus.UCSC.sorAra2          Saraneus          custom_from_UCSC\n",
       "4 BSgenome.Tbelangeri.UCSC.tupBel1        Tbelangeri        custom_from_UCSC\n",
       "5 BSgenome.Neugenii.UCSC.macEug2          Neugenii          custom_from_UCSC\n",
       "6 BSgenome.Csimum.UCSC.cerSim1            Csimum            custom_from_UCSC"
      ]
     },
     "metadata": {},
     "output_type": "display_data"
    }
   ],
   "source": [
    "tail(df_full)"
   ]
  },
  {
   "cell_type": "code",
   "execution_count": 60,
   "metadata": {},
   "outputs": [],
   "source": [
    "write.table(df_full, \"meta/validation_species_resources.csv\", sep = \";\", quote = F, row.names = F)"
   ]
  },
  {
   "cell_type": "code",
   "execution_count": null,
   "metadata": {},
   "outputs": [],
   "source": []
  },
  {
   "cell_type": "code",
   "execution_count": 57,
   "metadata": {},
   "outputs": [
    {
     "data": {
      "text/html": [
       "47"
      ],
      "text/latex": [
       "47"
      ],
      "text/markdown": [
       "47"
      ],
      "text/plain": [
       "[1] 47"
      ]
     },
     "metadata": {},
     "output_type": "display_data"
    }
   ],
   "source": [
    "NROW(df)"
   ]
  },
  {
   "cell_type": "markdown",
   "metadata": {},
   "source": [
    "## Rtracklayer to extract annotations"
   ]
  },
  {
   "cell_type": "code",
   "execution_count": 30,
   "metadata": {},
   "outputs": [
    {
     "data": {
      "text/html": [
       "<table>\n",
       "<thead><tr><th scope=col>species</th><th scope=col>ucsc_genome</th><th scope=col>class</th><th scope=col>BSlibrary</th><th scope=col>genome_id</th><th scope=col>provider</th></tr></thead>\n",
       "<tbody>\n",
       "\t<tr><td>Mouse                        </td><td>mm10                         </td><td>Mammalia                     </td><td>BSgenome.Mmusculus.UCSC.mm10 </td><td>Mmusculus                    </td><td>UCSC                         </td></tr>\n",
       "\t<tr><td>Zebrafish                    </td><td>danRer11                     </td><td>Actinopteri                  </td><td>BSgenome.Drerio.UCSC.danRer11</td><td>Drerio                       </td><td>UCSC                         </td></tr>\n",
       "\t<tr><td>Lancelet                     </td><td>braFlo1                      </td><td>Invertebrata                 </td><td>NA                           </td><td>NA                           </td><td>NA                           </td></tr>\n",
       "\t<tr><td>Sea Hare                     </td><td>aplCal1                      </td><td>Invertebrata                 </td><td>NA                           </td><td>NA                           </td><td>NA                           </td></tr>\n",
       "\t<tr><td>Lamprey                      </td><td>petMar3                      </td><td>Jawless Vertebrate           </td><td>NA                           </td><td>NA                           </td><td>NA                           </td></tr>\n",
       "\t<tr><td>Elephant shark               </td><td>calMil1                      </td><td>Chondrichthyes               </td><td>NA                           </td><td>NA                           </td><td>NA                           </td></tr>\n",
       "</tbody>\n",
       "</table>\n"
      ],
      "text/latex": [
       "\\begin{tabular}{r|llllll}\n",
       " species & ucsc\\_genome & class & BSlibrary & genome\\_id & provider\\\\\n",
       "\\hline\n",
       "\t Mouse                         & mm10                          & Mammalia                      & BSgenome.Mmusculus.UCSC.mm10  & Mmusculus                     & UCSC                         \\\\\n",
       "\t Zebrafish                     & danRer11                      & Actinopteri                   & BSgenome.Drerio.UCSC.danRer11 & Drerio                        & UCSC                         \\\\\n",
       "\t Lancelet                      & braFlo1                       & Invertebrata                  & NA                            & NA                            & NA                           \\\\\n",
       "\t Sea Hare                      & aplCal1                       & Invertebrata                  & NA                            & NA                            & NA                           \\\\\n",
       "\t Lamprey                       & petMar3                       & Jawless Vertebrate            & NA                            & NA                            & NA                           \\\\\n",
       "\t Elephant shark                & calMil1                       & Chondrichthyes                & NA                            & NA                            & NA                           \\\\\n",
       "\\end{tabular}\n"
      ],
      "text/markdown": [
       "\n",
       "| species | ucsc_genome | class | BSlibrary | genome_id | provider |\n",
       "|---|---|---|---|---|---|\n",
       "| Mouse                         | mm10                          | Mammalia                      | BSgenome.Mmusculus.UCSC.mm10  | Mmusculus                     | UCSC                          |\n",
       "| Zebrafish                     | danRer11                      | Actinopteri                   | BSgenome.Drerio.UCSC.danRer11 | Drerio                        | UCSC                          |\n",
       "| Lancelet                      | braFlo1                       | Invertebrata                  | NA                            | NA                            | NA                            |\n",
       "| Sea Hare                      | aplCal1                       | Invertebrata                  | NA                            | NA                            | NA                            |\n",
       "| Lamprey                       | petMar3                       | Jawless Vertebrate            | NA                            | NA                            | NA                            |\n",
       "| Elephant shark                | calMil1                       | Chondrichthyes                | NA                            | NA                            | NA                            |\n",
       "\n"
      ],
      "text/plain": [
       "  species        ucsc_genome class              BSlibrary                    \n",
       "1 Mouse          mm10        Mammalia           BSgenome.Mmusculus.UCSC.mm10 \n",
       "2 Zebrafish      danRer11    Actinopteri        BSgenome.Drerio.UCSC.danRer11\n",
       "3 Lancelet       braFlo1     Invertebrata       NA                           \n",
       "4 Sea Hare       aplCal1     Invertebrata       NA                           \n",
       "5 Lamprey        petMar3     Jawless Vertebrate NA                           \n",
       "6 Elephant shark calMil1     Chondrichthyes     NA                           \n",
       "  genome_id provider\n",
       "1 Mmusculus UCSC    \n",
       "2 Drerio    UCSC    \n",
       "3 NA        NA      \n",
       "4 NA        NA      \n",
       "5 NA        NA      \n",
       "6 NA        NA      "
      ]
     },
     "metadata": {},
     "output_type": "display_data"
    }
   ],
   "source": [
    "head(annot_full)"
   ]
  },
  {
   "cell_type": "markdown",
   "metadata": {},
   "source": [
    "### Annotation tracks"
   ]
  },
  {
   "cell_type": "code",
   "execution_count": 14,
   "metadata": {},
   "outputs": [],
   "source": [
    "mySession <- browserSession()\n",
    "genome(mySession) <- \"braFlo1\""
   ]
  },
  {
   "cell_type": "code",
   "execution_count": 15,
   "metadata": {},
   "outputs": [],
   "source": [
    "tracknames <- trackNames(ucscTableQuery(mySession))"
   ]
  },
  {
   "cell_type": "code",
   "execution_count": 16,
   "metadata": {},
   "outputs": [
    {
     "data": {
      "text/html": [
       "<dl class=dl-horizontal>\n",
       "\t<dt>AUGUSTUS</dt>\n",
       "\t\t<dd>'augustusGene'</dd>\n",
       "\t<dt>Chicken Chain/Net</dt>\n",
       "\t\t<dd>'chainNetGalGal3'</dd>\n",
       "\t<dt>Conservation</dt>\n",
       "\t\t<dd>'cons5way'</dd>\n",
       "\t<dt>GC Percent</dt>\n",
       "\t\t<dd>'gc5Base'</dd>\n",
       "\t<dt>Gap</dt>\n",
       "\t\t<dd>'gap'</dd>\n",
       "\t<dt>Human Chain/Net</dt>\n",
       "\t\t<dd>'chainNetHg18'</dd>\n",
       "\t<dt>Human Proteins</dt>\n",
       "\t\t<dd>'blastHg18KG'</dd>\n",
       "\t<dt>Lamprey Chain/Net</dt>\n",
       "\t\t<dd>'chainNetPetMar1'</dd>\n",
       "\t<dt>Lancelet ESTs</dt>\n",
       "\t\t<dd>'est'</dd>\n",
       "\t<dt>Lancelet mRNAs</dt>\n",
       "\t\t<dd>'mrna'</dd>\n",
       "\t<dt>Mouse Chain/Net</dt>\n",
       "\t\t<dd>'chainNetMm9'</dd>\n",
       "\t<dt>Other RefSeq</dt>\n",
       "\t\t<dd>'xenoRefGene'</dd>\n",
       "\t<dt>Other mRNAs</dt>\n",
       "\t\t<dd>'xenoMrna'</dd>\n",
       "\t<dt>Scaffolds</dt>\n",
       "\t\t<dd>'gold'</dd>\n",
       "\t<dt>Simple Repeats</dt>\n",
       "\t\t<dd>'simpleRepeat'</dd>\n",
       "\t<dt>Spliced ESTs</dt>\n",
       "\t\t<dd>'intronEst'</dd>\n",
       "\t<dt>UniProt</dt>\n",
       "\t\t<dd>'uniprot'</dd>\n",
       "\t<dt>WM + SDust</dt>\n",
       "\t\t<dd>'windowmaskerSdust'</dd>\n",
       "</dl>\n"
      ],
      "text/latex": [
       "\\begin{description*}\n",
       "\\item[AUGUSTUS] 'augustusGene'\n",
       "\\item[Chicken Chain/Net] 'chainNetGalGal3'\n",
       "\\item[Conservation] 'cons5way'\n",
       "\\item[GC Percent] 'gc5Base'\n",
       "\\item[Gap] 'gap'\n",
       "\\item[Human Chain/Net] 'chainNetHg18'\n",
       "\\item[Human Proteins] 'blastHg18KG'\n",
       "\\item[Lamprey Chain/Net] 'chainNetPetMar1'\n",
       "\\item[Lancelet ESTs] 'est'\n",
       "\\item[Lancelet mRNAs] 'mrna'\n",
       "\\item[Mouse Chain/Net] 'chainNetMm9'\n",
       "\\item[Other RefSeq] 'xenoRefGene'\n",
       "\\item[Other mRNAs] 'xenoMrna'\n",
       "\\item[Scaffolds] 'gold'\n",
       "\\item[Simple Repeats] 'simpleRepeat'\n",
       "\\item[Spliced ESTs] 'intronEst'\n",
       "\\item[UniProt] 'uniprot'\n",
       "\\item[WM + SDust] 'windowmaskerSdust'\n",
       "\\end{description*}\n"
      ],
      "text/markdown": [
       "AUGUSTUS\n",
       ":   'augustusGene'Chicken Chain/Net\n",
       ":   'chainNetGalGal3'Conservation\n",
       ":   'cons5way'GC Percent\n",
       ":   'gc5Base'Gap\n",
       ":   'gap'Human Chain/Net\n",
       ":   'chainNetHg18'Human Proteins\n",
       ":   'blastHg18KG'Lamprey Chain/Net\n",
       ":   'chainNetPetMar1'Lancelet ESTs\n",
       ":   'est'Lancelet mRNAs\n",
       ":   'mrna'Mouse Chain/Net\n",
       ":   'chainNetMm9'Other RefSeq\n",
       ":   'xenoRefGene'Other mRNAs\n",
       ":   'xenoMrna'Scaffolds\n",
       ":   'gold'Simple Repeats\n",
       ":   'simpleRepeat'Spliced ESTs\n",
       ":   'intronEst'UniProt\n",
       ":   'uniprot'WM + SDust\n",
       ":   'windowmaskerSdust'\n",
       "\n"
      ],
      "text/plain": [
       "           AUGUSTUS   Chicken Chain/Net        Conservation          GC Percent \n",
       "     \"augustusGene\"   \"chainNetGalGal3\"          \"cons5way\"           \"gc5Base\" \n",
       "                Gap     Human Chain/Net      Human Proteins   Lamprey Chain/Net \n",
       "              \"gap\"      \"chainNetHg18\"       \"blastHg18KG\"   \"chainNetPetMar1\" \n",
       "      Lancelet ESTs      Lancelet mRNAs     Mouse Chain/Net        Other RefSeq \n",
       "              \"est\"              \"mrna\"       \"chainNetMm9\"       \"xenoRefGene\" \n",
       "        Other mRNAs           Scaffolds      Simple Repeats        Spliced ESTs \n",
       "         \"xenoMrna\"              \"gold\"      \"simpleRepeat\"         \"intronEst\" \n",
       "            UniProt          WM + SDust \n",
       "          \"uniprot\" \"windowmaskerSdust\" "
      ]
     },
     "metadata": {},
     "output_type": "display_data"
    }
   ],
   "source": [
    "tracknames"
   ]
  },
  {
   "cell_type": "code",
   "execution_count": 52,
   "metadata": {},
   "outputs": [],
   "source": [
    "track_ids <- c(\"CpG Islands\", \"NCBI RefSeq\", \"RefSeq Genes\", \"RepeatMasker\")"
   ]
  },
  {
   "cell_type": "code",
   "execution_count": 18,
   "metadata": {},
   "outputs": [
    {
     "data": {
      "image/png": "[encoded data removed]",
      "text/plain": [
       "plot without title"
      ]
     },
     "metadata": {
      "image/png": {
       "height": 420,
       "width": 420
      }
     },
     "output_type": "display_data"
    }
   ],
   "source": [
    "ggplot(annot_full, aes(x = class)) + geom_bar() + theme_bw() + theme(axis.text.x = element_text(angle = 90, size = 15))"
   ]
  },
  {
   "cell_type": "code",
   "execution_count": 19,
   "metadata": {
    "collapsed": true,
    "jupyter": {
     "outputs_hidden": true
    }
   },
   "outputs": [
    {
     "name": "stdout",
     "output_type": "stream",
     "text": [
      "[1] \"X. tropicalis\"\n"
     ]
    },
    {
     "name": "stderr",
     "output_type": "stream",
     "text": [
      "Warning message in dir.create(dir_out):\n",
      "“'/scratch/lab_bock/shared/projects/compEpi/validation/insilicoDigest//data/tracks/X. tropicalis' already exists”\n"
     ]
    },
    {
     "name": "stdout",
     "output_type": "stream",
     "text": [
      "[1] \"RefSeq Genes unavaliable for X. tropicalis xenTro9\"\n",
      "[1] \"xenTro9\"\n",
      "[1] \"African clawed frog\"\n"
     ]
    },
    {
     "name": "stderr",
     "output_type": "stream",
     "text": [
      "Warning message in dir.create(dir_out):\n",
      "“'/scratch/lab_bock/shared/projects/compEpi/validation/insilicoDigest//data/tracks/African clawed frog' already exists”\n"
     ]
    },
    {
     "name": "stdout",
     "output_type": "stream",
     "text": [
      "[1] \"RefSeq Genes unavaliable for African clawed frog xenLae2\"\n",
      "[1] \"xenLae2\"\n",
      "[1] \"Tibetan frog\"\n"
     ]
    },
    {
     "name": "stderr",
     "output_type": "stream",
     "text": [
      "Warning message in dir.create(dir_out):\n",
      "“'/scratch/lab_bock/shared/projects/compEpi/validation/insilicoDigest//data/tracks/Tibetan frog' already exists”\n"
     ]
    },
    {
     "name": "stdout",
     "output_type": "stream",
     "text": [
      "[1] \"RefSeq Genes unavaliable for Tibetan frog nanPar1\"\n",
      "[1] \"nanPar1\"\n",
      "[1] \"American alligator\"\n"
     ]
    },
    {
     "name": "stderr",
     "output_type": "stream",
     "text": [
      "Warning message in dir.create(dir_out):\n",
      "“'/scratch/lab_bock/shared/projects/compEpi/validation/insilicoDigest//data/tracks/American alligator' already exists”\n"
     ]
    },
    {
     "name": "stdout",
     "output_type": "stream",
     "text": [
      "[1] \"RefSeq Genes unavaliable for American alligator allMis1\"\n",
      "[1] \"allMis1\"\n",
      "[1] \"Garter snake\"\n"
     ]
    },
    {
     "name": "stderr",
     "output_type": "stream",
     "text": [
      "Warning message in dir.create(dir_out):\n",
      "“'/scratch/lab_bock/shared/projects/compEpi/validation/insilicoDigest//data/tracks/Garter snake' already exists”\n"
     ]
    },
    {
     "name": "stdout",
     "output_type": "stream",
     "text": [
      "[1] \"RefSeq Genes unavaliable for Garter snake thaSir1\"\n",
      "[1] \"thaSir1\"\n",
      "[1] \"Lizard\"\n",
      "[1] \"RefSeq Genes unavaliable for Lizard anoCar2\"\n",
      "[1] \"anoCar2\"\n",
      "[1] \"Painted turtle\"\n",
      "[1] \"NCBI RefSeq unavaliable for Painted turtle chrPic1\"\n",
      "[1] \"RefSeq Genes unavaliable for Painted turtle chrPic1\"\n",
      "[1] \"chrPic1\"\n",
      "[1] \"Chicken\"\n",
      "[1] \"RefSeq Genes unavaliable for Chicken galGal6\"\n",
      "[1] \"galGal6\"\n",
      "[1] \"Zebra finch\"\n",
      "[1] \"RefSeq Genes unavaliable for Zebra finch taeGut2\"\n",
      "[1] \"taeGut2\"\n",
      "[1] \"Medium ground finch\"\n",
      "[1] \"RefSeq Genes unavaliable for Medium ground finch geoFor1\"\n",
      "[1] \"geoFor1\"\n",
      "[1] \"Budgeriger\"\n",
      "[1] \"RefSeq Genes unavaliable for Budgeriger melUnd1\"\n",
      "[1] \"melUnd1\"\n",
      "[1] \"Golden eagle\"\n",
      "[1] \"NCBI RefSeq unavaliable for Golden eagle aquChr2\"\n",
      "[1] \"RefSeq Genes unavaliable for Golden eagle aquChr2\"\n",
      "[1] \"aquChr2\"\n",
      "[1] \"Tasmanian devil\"\n",
      "[1] \"RefSeq Genes unavaliable for Tasmanian devil sarHar1\"\n",
      "[1] \"sarHar1\"\n",
      "[1] \"Opossum\"\n",
      "[1] \"NCBI RefSeq unavaliable for Opossum monDom5\"\n",
      "[1] \"monDom5\"\n",
      "[1] \"Cow\"\n",
      "[1] \"RefSeq Genes unavaliable for Cow bosTau9\"\n",
      "[1] \"bosTau9\"\n",
      "[1] \"Cat\"\n",
      "[1] \"RefSeq Genes unavaliable for Cat felCat9\"\n",
      "[1] \"felCat9\"\n",
      "[1] \"Dog\"\n",
      "[1] \"RefSeq Genes unavaliable for Dog canFam3\"\n",
      "[1] \"canFam3\"\n",
      "[1] \"Ferret\"\n",
      "[1] \"RefSeq Genes unavaliable for Ferret musFur1\"\n",
      "[1] \"musFur1\"\n",
      "[1] \"Gibbon\"\n",
      "[1] \"NCBI RefSeq unavaliable for Gibbon nomLeu3\"\n",
      "[1] \"RefSeq Genes unavaliable for Gibbon nomLeu3\"\n",
      "[1] \"nomLeu3\"\n",
      "[1] \"Gorilla\"\n",
      "[1] \"RefSeq Genes unavaliable for Gorilla gorGor6\"\n",
      "[1] \"gorGor6\"\n",
      "[1] \"Chimp\"\n",
      "[1] \"RefSeq Genes unavaliable for Chimp panTro6\"\n",
      "[1] \"panTro6\"\n",
      "[1] \"Bonobo\"\n",
      "[1] \"RefSeq Genes unavaliable for Bonobo panPan2\"\n",
      "[1] \"panPan2\"\n",
      "[1] \"Green Monkey\"\n",
      "[1] \"RefSeq Genes unavaliable for Green Monkey chlSab2\"\n",
      "[1] \"chlSab2\"\n",
      "[1] \"Megabat\"\n",
      "[1] \"NCBI RefSeq unavaliable for Megabat pteVam1\"\n",
      "[1] \"RefSeq Genes unavaliable for Megabat pteVam1\"\n",
      "[1] \"pteVam1\"\n",
      "[1] \"Microbat\"\n",
      "[1] \"RefSeq Genes unavaliable for Microbat myoLuc2\"\n",
      "[1] \"myoLuc2\"\n",
      "[1] \"Naked mole rat\"\n",
      "[1] \"RefSeq Genes unavaliable for Naked mole rat hetGla2\"\n",
      "[1] \"hetGla2\"\n",
      "[1] \"Orangutan\"\n",
      "[1] \"RefSeq Genes unavaliable for Orangutan ponAbe3\"\n",
      "[1] \"RepeatMasker unavaliable for Orangutan ponAbe3\"\n",
      "[1] \"ponAbe3\"\n",
      "[1] \"Pig\"\n",
      "[1] \"NCBI RefSeq unavaliable for Pig susScr11\"\n",
      "[1] \"susScr11\"\n",
      "[1] \"Rhesus\"\n",
      "[1] \"RefSeq Genes unavaliable for Rhesus rheMac10\"\n",
      "[1] \"rheMac10\"\n",
      "[1] \"Rabbit\"\n",
      "[1] \"RefSeq Genes unavaliable for Rabbit oryCun2\"\n",
      "[1] \"oryCun2\"\n",
      "[1] \"Sheep\"\n",
      "[1] \"RefSeq Genes unavaliable for Sheep oviAri4\"\n",
      "[1] \"oviAri4\"\n",
      "[1] \"Squirrel\"\n",
      "[1] \"RefSeq Genes unavaliable for Squirrel speTri2\"\n",
      "[1] \"speTri2\"\n",
      "[1] \"Squirrel monkey\"\n",
      "[1] \"RefSeq Genes unavaliable for Squirrel monkey saiBol1\"\n",
      "[1] \"saiBol1\"\n",
      "[1] \"Shrew\"\n",
      "[1] \"RefSeq Genes unavaliable for Shrew sorAra2\"\n",
      "[1] \"sorAra2\"\n",
      "[1] \"Tree shrew\"\n",
      "[1] \"NCBI RefSeq unavaliable for Tree shrew tupBel1\"\n",
      "[1] \"RefSeq Genes unavaliable for Tree shrew tupBel1\"\n",
      "[1] \"tupBel1\"\n",
      "[1] \"Wallaby\"\n",
      "[1] \"CpG Islands unavaliable for Wallaby macEug2\"\n",
      "[1] \"NCBI RefSeq unavaliable for Wallaby macEug2\"\n",
      "[1] \"RefSeq Genes unavaliable for Wallaby macEug2\"\n",
      "[1] \"macEug2\"\n",
      "[1] \"White rhinoceros\"\n",
      "[1] \"RefSeq Genes unavaliable for White rhinoceros cerSim1\"\n",
      "[1] \"cerSim1\"\n"
     ]
    }
   ],
   "source": [
    "for (i in 11:NROW(annot_full)){\n",
    "    print(as.character(annot_full[i,]$species))\n",
    "    #where to save tracks\n",
    "    dir_out <- file.path(output_dir, \"data\", \"tracks\", annot_full[i,]$species)\n",
    "    dir.create(dir_out)\n",
    "    \n",
    "    #new rtracklayer seccion\n",
    "    mySession <- browserSession()\n",
    "    genome(mySession) <- annot_full[i,]$ucsc_genome\n",
    "    \n",
    "    ##UCSC browser available tracks\n",
    "    UCSCnames <- trackNames(ucscTableQuery(mySession))\n",
    "    \n",
    "    for (id in track_ids){\n",
    "        if (!id %in% names(UCSCnames)) print(paste0(id, \" unavaliable for \", as.character(annot_full[i,]$species), \" \", annot_full[i,]$ucsc_genome))\n",
    "        else{\n",
    "            my_track <- track(ucscTableQuery(mySession, track=UCSCnames[id]))\n",
    "            export.bed(my_track, file.path(dir_out, paste0(annot_full[i,]$ucsc_genome, \"_\", UCSCnames[id],\".bed\")))\n",
    "        }\n",
    "    }\n",
    "    \n",
    "   \n",
    "    print(annot_full[i,]$ucsc_genome)\n",
    "}"
   ]
  },
  {
   "cell_type": "code",
   "execution_count": 49,
   "metadata": {},
   "outputs": [],
   "source": [
    "download_track <- function(organism, genome, track_id, output_dir){\n",
    "   mySession <- browserSession()\n",
    "   genome(mySession) <- genome\n",
    "    \n",
    "   dir_out <- file.path(output_dir, \"data\", \"tracks\", organism)\n",
    "    dir.create(dir_out)\n",
    "   my_track <- track(ucscTableQuery(mySession, track=track_id))\n",
    "   export.bed(my_track, file.path(dir_out, paste0(genome, \"_\", track_id,\".bed\")))\n",
    "   \n",
    "}"
   ]
  },
  {
   "cell_type": "markdown",
   "metadata": {},
   "source": [
    "For some species the required genomes are not avaliable - we have to download the alternative tracks\n",
    "\n",
    "### Lancelet"
   ]
  },
  {
   "cell_type": "code",
   "execution_count": 7,
   "metadata": {},
   "outputs": [
    {
     "data": {
      "text/html": [
       "<dl class=dl-horizontal>\n",
       "\t<dt>AUGUSTUS</dt>\n",
       "\t\t<dd>'augustusGene'</dd>\n",
       "\t<dt>Chicken Chain/Net</dt>\n",
       "\t\t<dd>'chainNetGalGal3'</dd>\n",
       "\t<dt>Conservation</dt>\n",
       "\t\t<dd>'cons5way'</dd>\n",
       "\t<dt>GC Percent</dt>\n",
       "\t\t<dd>'gc5Base'</dd>\n",
       "\t<dt>Gap</dt>\n",
       "\t\t<dd>'gap'</dd>\n",
       "\t<dt>Human Chain/Net</dt>\n",
       "\t\t<dd>'chainNetHg18'</dd>\n",
       "\t<dt>Human Proteins</dt>\n",
       "\t\t<dd>'blastHg18KG'</dd>\n",
       "\t<dt>Lamprey Chain/Net</dt>\n",
       "\t\t<dd>'chainNetPetMar1'</dd>\n",
       "\t<dt>Lancelet ESTs</dt>\n",
       "\t\t<dd>'est'</dd>\n",
       "\t<dt>Lancelet mRNAs</dt>\n",
       "\t\t<dd>'mrna'</dd>\n",
       "\t<dt>Mouse Chain/Net</dt>\n",
       "\t\t<dd>'chainNetMm9'</dd>\n",
       "\t<dt>Other RefSeq</dt>\n",
       "\t\t<dd>'xenoRefGene'</dd>\n",
       "\t<dt>Other mRNAs</dt>\n",
       "\t\t<dd>'xenoMrna'</dd>\n",
       "\t<dt>Scaffolds</dt>\n",
       "\t\t<dd>'gold'</dd>\n",
       "\t<dt>Simple Repeats</dt>\n",
       "\t\t<dd>'simpleRepeat'</dd>\n",
       "\t<dt>Spliced ESTs</dt>\n",
       "\t\t<dd>'intronEst'</dd>\n",
       "\t<dt>UniProt</dt>\n",
       "\t\t<dd>'uniprot'</dd>\n",
       "\t<dt>WM + SDust</dt>\n",
       "\t\t<dd>'windowmaskerSdust'</dd>\n",
       "</dl>\n"
      ],
      "text/latex": [
       "\\begin{description*}\n",
       "\\item[AUGUSTUS] 'augustusGene'\n",
       "\\item[Chicken Chain/Net] 'chainNetGalGal3'\n",
       "\\item[Conservation] 'cons5way'\n",
       "\\item[GC Percent] 'gc5Base'\n",
       "\\item[Gap] 'gap'\n",
       "\\item[Human Chain/Net] 'chainNetHg18'\n",
       "\\item[Human Proteins] 'blastHg18KG'\n",
       "\\item[Lamprey Chain/Net] 'chainNetPetMar1'\n",
       "\\item[Lancelet ESTs] 'est'\n",
       "\\item[Lancelet mRNAs] 'mrna'\n",
       "\\item[Mouse Chain/Net] 'chainNetMm9'\n",
       "\\item[Other RefSeq] 'xenoRefGene'\n",
       "\\item[Other mRNAs] 'xenoMrna'\n",
       "\\item[Scaffolds] 'gold'\n",
       "\\item[Simple Repeats] 'simpleRepeat'\n",
       "\\item[Spliced ESTs] 'intronEst'\n",
       "\\item[UniProt] 'uniprot'\n",
       "\\item[WM + SDust] 'windowmaskerSdust'\n",
       "\\end{description*}\n"
      ],
      "text/markdown": [
       "AUGUSTUS\n",
       ":   'augustusGene'Chicken Chain/Net\n",
       ":   'chainNetGalGal3'Conservation\n",
       ":   'cons5way'GC Percent\n",
       ":   'gc5Base'Gap\n",
       ":   'gap'Human Chain/Net\n",
       ":   'chainNetHg18'Human Proteins\n",
       ":   'blastHg18KG'Lamprey Chain/Net\n",
       ":   'chainNetPetMar1'Lancelet ESTs\n",
       ":   'est'Lancelet mRNAs\n",
       ":   'mrna'Mouse Chain/Net\n",
       ":   'chainNetMm9'Other RefSeq\n",
       ":   'xenoRefGene'Other mRNAs\n",
       ":   'xenoMrna'Scaffolds\n",
       ":   'gold'Simple Repeats\n",
       ":   'simpleRepeat'Spliced ESTs\n",
       ":   'intronEst'UniProt\n",
       ":   'uniprot'WM + SDust\n",
       ":   'windowmaskerSdust'\n",
       "\n"
      ],
      "text/plain": [
       "           AUGUSTUS   Chicken Chain/Net        Conservation          GC Percent \n",
       "     \"augustusGene\"   \"chainNetGalGal3\"          \"cons5way\"           \"gc5Base\" \n",
       "                Gap     Human Chain/Net      Human Proteins   Lamprey Chain/Net \n",
       "              \"gap\"      \"chainNetHg18\"       \"blastHg18KG\"   \"chainNetPetMar1\" \n",
       "      Lancelet ESTs      Lancelet mRNAs     Mouse Chain/Net        Other RefSeq \n",
       "              \"est\"              \"mrna\"       \"chainNetMm9\"       \"xenoRefGene\" \n",
       "        Other mRNAs           Scaffolds      Simple Repeats        Spliced ESTs \n",
       "         \"xenoMrna\"              \"gold\"      \"simpleRepeat\"         \"intronEst\" \n",
       "            UniProt          WM + SDust \n",
       "          \"uniprot\" \"windowmaskerSdust\" "
      ]
     },
     "metadata": {},
     "output_type": "display_data"
    }
   ],
   "source": [
    "mySession <- browserSession()\n",
    "genome(mySession) <- \"braFlo1\"\n",
    "UCSCnames <- trackNames(ucscTableQuery(mySession))\n",
    "UCSCnames"
   ]
  },
  {
   "cell_type": "code",
   "execution_count": 12,
   "metadata": {},
   "outputs": [],
   "source": [
    "download_track(\"Lancelet\", \"braFlo1\", \"xenoRefGene\", output_dir)"
   ]
  },
  {
   "cell_type": "code",
   "execution_count": 15,
   "metadata": {},
   "outputs": [],
   "source": [
    "download_track(\"Lancelet\", \"braFlo1\", \"simpleRepeat\", output_dir)"
   ]
  },
  {
   "cell_type": "markdown",
   "metadata": {},
   "source": [
    "### Sea Hare"
   ]
  },
  {
   "cell_type": "code",
   "execution_count": 14,
   "metadata": {},
   "outputs": [
    {
     "data": {
      "text/html": [
       "<dl class=dl-horizontal>\n",
       "\t<dt>Assembly</dt>\n",
       "\t\t<dd>'gold'</dd>\n",
       "\t<dt>CpG Islands</dt>\n",
       "\t\t<dd>'cpgIslandExt'</dd>\n",
       "\t<dt>GC Percent</dt>\n",
       "\t\t<dd>'gc5Base'</dd>\n",
       "\t<dt>Gap</dt>\n",
       "\t\t<dd>'gap'</dd>\n",
       "\t<dt>Human Proteins</dt>\n",
       "\t\t<dd>'blastHg18KG'</dd>\n",
       "\t<dt>Interrupted Rpts</dt>\n",
       "\t\t<dd>'nestedRepeats'</dd>\n",
       "\t<dt>Microsatellite</dt>\n",
       "\t\t<dd>'microsat'</dd>\n",
       "\t<dt>Other RefSeq</dt>\n",
       "\t\t<dd>'xenoRefGene'</dd>\n",
       "\t<dt>Quality Scores</dt>\n",
       "\t\t<dd>'quality'</dd>\n",
       "\t<dt>RepeatMasker</dt>\n",
       "\t\t<dd>'rmsk'</dd>\n",
       "\t<dt>Sea hare ESTs</dt>\n",
       "\t\t<dd>'est'</dd>\n",
       "\t<dt>Sea hare mRNAs</dt>\n",
       "\t\t<dd>'mrna'</dd>\n",
       "\t<dt>Simple Repeats</dt>\n",
       "\t\t<dd>'simpleRepeat'</dd>\n",
       "\t<dt>Spliced ESTs</dt>\n",
       "\t\t<dd>'intronEst'</dd>\n",
       "\t<dt>UniProt</dt>\n",
       "\t\t<dd>'uniprot'</dd>\n",
       "\t<dt>Unmasked CpG</dt>\n",
       "\t\t<dd>'cpgIslandExtUnmasked'</dd>\n",
       "</dl>\n"
      ],
      "text/latex": [
       "\\begin{description*}\n",
       "\\item[Assembly] 'gold'\n",
       "\\item[CpG Islands] 'cpgIslandExt'\n",
       "\\item[GC Percent] 'gc5Base'\n",
       "\\item[Gap] 'gap'\n",
       "\\item[Human Proteins] 'blastHg18KG'\n",
       "\\item[Interrupted Rpts] 'nestedRepeats'\n",
       "\\item[Microsatellite] 'microsat'\n",
       "\\item[Other RefSeq] 'xenoRefGene'\n",
       "\\item[Quality Scores] 'quality'\n",
       "\\item[RepeatMasker] 'rmsk'\n",
       "\\item[Sea hare ESTs] 'est'\n",
       "\\item[Sea hare mRNAs] 'mrna'\n",
       "\\item[Simple Repeats] 'simpleRepeat'\n",
       "\\item[Spliced ESTs] 'intronEst'\n",
       "\\item[UniProt] 'uniprot'\n",
       "\\item[Unmasked CpG] 'cpgIslandExtUnmasked'\n",
       "\\end{description*}\n"
      ],
      "text/markdown": [
       "Assembly\n",
       ":   'gold'CpG Islands\n",
       ":   'cpgIslandExt'GC Percent\n",
       ":   'gc5Base'Gap\n",
       ":   'gap'Human Proteins\n",
       ":   'blastHg18KG'Interrupted Rpts\n",
       ":   'nestedRepeats'Microsatellite\n",
       ":   'microsat'Other RefSeq\n",
       ":   'xenoRefGene'Quality Scores\n",
       ":   'quality'RepeatMasker\n",
       ":   'rmsk'Sea hare ESTs\n",
       ":   'est'Sea hare mRNAs\n",
       ":   'mrna'Simple Repeats\n",
       ":   'simpleRepeat'Spliced ESTs\n",
       ":   'intronEst'UniProt\n",
       ":   'uniprot'Unmasked CpG\n",
       ":   'cpgIslandExtUnmasked'\n",
       "\n"
      ],
      "text/plain": [
       "              Assembly            CpG Islands             GC Percent \n",
       "                \"gold\"         \"cpgIslandExt\"              \"gc5Base\" \n",
       "                   Gap         Human Proteins       Interrupted Rpts \n",
       "                 \"gap\"          \"blastHg18KG\"        \"nestedRepeats\" \n",
       "        Microsatellite           Other RefSeq         Quality Scores \n",
       "            \"microsat\"          \"xenoRefGene\"              \"quality\" \n",
       "          RepeatMasker          Sea hare ESTs         Sea hare mRNAs \n",
       "                \"rmsk\"                  \"est\"                 \"mrna\" \n",
       "        Simple Repeats           Spliced ESTs                UniProt \n",
       "        \"simpleRepeat\"            \"intronEst\"              \"uniprot\" \n",
       "          Unmasked CpG \n",
       "\"cpgIslandExtUnmasked\" "
      ]
     },
     "metadata": {},
     "output_type": "display_data"
    }
   ],
   "source": [
    "mySession <- browserSession()\n",
    "genome(mySession) <- \"aplCal1\"\n",
    "UCSCnames <- trackNames(ucscTableQuery(mySession))\n",
    "UCSCnames"
   ]
  },
  {
   "cell_type": "code",
   "execution_count": 16,
   "metadata": {},
   "outputs": [],
   "source": [
    "download_track(\"Sea Hare\", \"aplCal1\", \"xenoRefGene\", output_dir)"
   ]
  },
  {
   "cell_type": "markdown",
   "metadata": {},
   "source": [
    "### Lamprey\n",
    "\n",
    "Changed the genome assembly to 2"
   ]
  },
  {
   "cell_type": "code",
   "execution_count": 30,
   "metadata": {},
   "outputs": [
    {
     "data": {
      "text/html": [
       "<dl class=dl-horizontal>\n",
       "\t<dt>AUGUSTUS</dt>\n",
       "\t\t<dd>'augustusGene'</dd>\n",
       "\t<dt>Assembly</dt>\n",
       "\t\t<dd>'gold'</dd>\n",
       "\t<dt>Chicken Chain/Net</dt>\n",
       "\t\t<dd>'chainNetGalGal4'</dd>\n",
       "\t<dt>Chromosome Band (Ideogram)</dt>\n",
       "\t\t<dd>'cytoBandIdeo'</dd>\n",
       "\t<dt>Conservation</dt>\n",
       "\t\t<dd>'cons7way'</dd>\n",
       "\t<dt>CpG Islands</dt>\n",
       "\t\t<dd>'cpgIslandExt'</dd>\n",
       "\t<dt>Ensembl Genes</dt>\n",
       "\t\t<dd>'ensGene'</dd>\n",
       "\t<dt>GC Percent</dt>\n",
       "\t\t<dd>'gc5BaseBw'</dd>\n",
       "\t<dt>Gap</dt>\n",
       "\t\t<dd>'gap'</dd>\n",
       "\t<dt>Genscan Genes</dt>\n",
       "\t\t<dd>'genscan'</dd>\n",
       "\t<dt>Human Chain/Net</dt>\n",
       "\t\t<dd>'chainNetHg19'</dd>\n",
       "\t<dt>INSDC</dt>\n",
       "\t\t<dd>'ucscToINSDC'</dd>\n",
       "\t<dt>Interrupted Rpts</dt>\n",
       "\t\t<dd>'nestedRepeats'</dd>\n",
       "\t<dt>Lamprey ESTs</dt>\n",
       "\t\t<dd>'est'</dd>\n",
       "\t<dt>Lamprey Genes</dt>\n",
       "\t\t<dd>'lampreyGene'</dd>\n",
       "\t<dt>Lamprey mRNAs</dt>\n",
       "\t\t<dd>'mrna'</dd>\n",
       "\t<dt>Lancelet Chain/Net</dt>\n",
       "\t\t<dd>'chainNetBraFlo2'</dd>\n",
       "\t<dt>Medaka Chain/Net</dt>\n",
       "\t\t<dd>'chainNetOryLat2'</dd>\n",
       "\t<dt>Microsatellite</dt>\n",
       "\t\t<dd>'microsat'</dd>\n",
       "\t<dt>Mouse Chain/Net</dt>\n",
       "\t\t<dd>'chainNetMm10'</dd>\n",
       "\t<dt>Opossum Chain/Net</dt>\n",
       "\t\t<dd>'chainNetMonDom5'</dd>\n",
       "\t<dt>Other RefSeq</dt>\n",
       "\t\t<dd>'xenoRefGene'</dd>\n",
       "\t<dt>RepeatMasker</dt>\n",
       "\t\t<dd>'rmsk'</dd>\n",
       "\t<dt>Simple Repeats</dt>\n",
       "\t\t<dd>'simpleRepeat'</dd>\n",
       "\t<dt>Spliced ESTs</dt>\n",
       "\t\t<dd>'intronEst'</dd>\n",
       "\t<dt>TransMap ESTs</dt>\n",
       "\t\t<dd>'transMapEstV5'</dd>\n",
       "\t<dt>TransMap Ensembl</dt>\n",
       "\t\t<dd>'transMapEnsemblV5'</dd>\n",
       "\t<dt>TransMap RNA</dt>\n",
       "\t\t<dd>'transMapRnaV5'</dd>\n",
       "\t<dt>TransMap RefGene</dt>\n",
       "\t\t<dd>'transMapRefSeqV5'</dd>\n",
       "\t<dt>Unmasked CpG</dt>\n",
       "\t\t<dd>'cpgIslandExtUnmasked'</dd>\n",
       "\t<dt>WM + SDust</dt>\n",
       "\t\t<dd>'windowmaskerSdust'</dd>\n",
       "</dl>\n"
      ],
      "text/latex": [
       "\\begin{description*}\n",
       "\\item[AUGUSTUS] 'augustusGene'\n",
       "\\item[Assembly] 'gold'\n",
       "\\item[Chicken Chain/Net] 'chainNetGalGal4'\n",
       "\\item[Chromosome Band (Ideogram)] 'cytoBandIdeo'\n",
       "\\item[Conservation] 'cons7way'\n",
       "\\item[CpG Islands] 'cpgIslandExt'\n",
       "\\item[Ensembl Genes] 'ensGene'\n",
       "\\item[GC Percent] 'gc5BaseBw'\n",
       "\\item[Gap] 'gap'\n",
       "\\item[Genscan Genes] 'genscan'\n",
       "\\item[Human Chain/Net] 'chainNetHg19'\n",
       "\\item[INSDC] 'ucscToINSDC'\n",
       "\\item[Interrupted Rpts] 'nestedRepeats'\n",
       "\\item[Lamprey ESTs] 'est'\n",
       "\\item[Lamprey Genes] 'lampreyGene'\n",
       "\\item[Lamprey mRNAs] 'mrna'\n",
       "\\item[Lancelet Chain/Net] 'chainNetBraFlo2'\n",
       "\\item[Medaka Chain/Net] 'chainNetOryLat2'\n",
       "\\item[Microsatellite] 'microsat'\n",
       "\\item[Mouse Chain/Net] 'chainNetMm10'\n",
       "\\item[Opossum Chain/Net] 'chainNetMonDom5'\n",
       "\\item[Other RefSeq] 'xenoRefGene'\n",
       "\\item[RepeatMasker] 'rmsk'\n",
       "\\item[Simple Repeats] 'simpleRepeat'\n",
       "\\item[Spliced ESTs] 'intronEst'\n",
       "\\item[TransMap ESTs] 'transMapEstV5'\n",
       "\\item[TransMap Ensembl] 'transMapEnsemblV5'\n",
       "\\item[TransMap RNA] 'transMapRnaV5'\n",
       "\\item[TransMap RefGene] 'transMapRefSeqV5'\n",
       "\\item[Unmasked CpG] 'cpgIslandExtUnmasked'\n",
       "\\item[WM + SDust] 'windowmaskerSdust'\n",
       "\\end{description*}\n"
      ],
      "text/markdown": [
       "AUGUSTUS\n",
       ":   'augustusGene'Assembly\n",
       ":   'gold'Chicken Chain/Net\n",
       ":   'chainNetGalGal4'Chromosome Band (Ideogram)\n",
       ":   'cytoBandIdeo'Conservation\n",
       ":   'cons7way'CpG Islands\n",
       ":   'cpgIslandExt'Ensembl Genes\n",
       ":   'ensGene'GC Percent\n",
       ":   'gc5BaseBw'Gap\n",
       ":   'gap'Genscan Genes\n",
       ":   'genscan'Human Chain/Net\n",
       ":   'chainNetHg19'INSDC\n",
       ":   'ucscToINSDC'Interrupted Rpts\n",
       ":   'nestedRepeats'Lamprey ESTs\n",
       ":   'est'Lamprey Genes\n",
       ":   'lampreyGene'Lamprey mRNAs\n",
       ":   'mrna'Lancelet Chain/Net\n",
       ":   'chainNetBraFlo2'Medaka Chain/Net\n",
       ":   'chainNetOryLat2'Microsatellite\n",
       ":   'microsat'Mouse Chain/Net\n",
       ":   'chainNetMm10'Opossum Chain/Net\n",
       ":   'chainNetMonDom5'Other RefSeq\n",
       ":   'xenoRefGene'RepeatMasker\n",
       ":   'rmsk'Simple Repeats\n",
       ":   'simpleRepeat'Spliced ESTs\n",
       ":   'intronEst'TransMap ESTs\n",
       ":   'transMapEstV5'TransMap Ensembl\n",
       ":   'transMapEnsemblV5'TransMap RNA\n",
       ":   'transMapRnaV5'TransMap RefGene\n",
       ":   'transMapRefSeqV5'Unmasked CpG\n",
       ":   'cpgIslandExtUnmasked'WM + SDust\n",
       ":   'windowmaskerSdust'\n",
       "\n"
      ],
      "text/plain": [
       "                  AUGUSTUS                   Assembly \n",
       "            \"augustusGene\"                     \"gold\" \n",
       "         Chicken Chain/Net Chromosome Band (Ideogram) \n",
       "         \"chainNetGalGal4\"             \"cytoBandIdeo\" \n",
       "              Conservation                CpG Islands \n",
       "                \"cons7way\"             \"cpgIslandExt\" \n",
       "             Ensembl Genes                 GC Percent \n",
       "                 \"ensGene\"                \"gc5BaseBw\" \n",
       "                       Gap              Genscan Genes \n",
       "                     \"gap\"                  \"genscan\" \n",
       "           Human Chain/Net                      INSDC \n",
       "            \"chainNetHg19\"              \"ucscToINSDC\" \n",
       "          Interrupted Rpts               Lamprey ESTs \n",
       "           \"nestedRepeats\"                      \"est\" \n",
       "             Lamprey Genes              Lamprey mRNAs \n",
       "             \"lampreyGene\"                     \"mrna\" \n",
       "        Lancelet Chain/Net           Medaka Chain/Net \n",
       "         \"chainNetBraFlo2\"          \"chainNetOryLat2\" \n",
       "            Microsatellite            Mouse Chain/Net \n",
       "                \"microsat\"             \"chainNetMm10\" \n",
       "         Opossum Chain/Net               Other RefSeq \n",
       "         \"chainNetMonDom5\"              \"xenoRefGene\" \n",
       "              RepeatMasker             Simple Repeats \n",
       "                    \"rmsk\"             \"simpleRepeat\" \n",
       "              Spliced ESTs              TransMap ESTs \n",
       "               \"intronEst\"            \"transMapEstV5\" \n",
       "          TransMap Ensembl               TransMap RNA \n",
       "       \"transMapEnsemblV5\"            \"transMapRnaV5\" \n",
       "          TransMap RefGene               Unmasked CpG \n",
       "        \"transMapRefSeqV5\"     \"cpgIslandExtUnmasked\" \n",
       "                WM + SDust \n",
       "       \"windowmaskerSdust\" "
      ]
     },
     "metadata": {},
     "output_type": "display_data"
    }
   ],
   "source": [
    "mySession <- browserSession()\n",
    "genome(mySession) <- \"petMar2\"\n",
    "UCSCnames <- trackNames(ucscTableQuery(mySession))\n",
    "UCSCnames"
   ]
  },
  {
   "cell_type": "code",
   "execution_count": 31,
   "metadata": {},
   "outputs": [],
   "source": [
    "download_track(\"Lamprey\", \"petMar2\", \"lampreyGene\", output_dir)"
   ]
  },
  {
   "cell_type": "code",
   "execution_count": 32,
   "metadata": {},
   "outputs": [],
   "source": [
    "download_track(\"Lamprey\", \"petMar2\", \"cpgIslandExt\", output_dir)"
   ]
  },
  {
   "cell_type": "code",
   "execution_count": 33,
   "metadata": {},
   "outputs": [],
   "source": [
    "download_track(\"Lamprey\", \"petMar2\", \"rmsk\", output_dir)"
   ]
  },
  {
   "cell_type": "code",
   "execution_count": 48,
   "metadata": {
    "collapsed": true,
    "jupyter": {
     "outputs_hidden": true
    }
   },
   "outputs": [
    {
     "data": {
      "text/html": [
       "<style>\n",
       ".dl-inline {width: auto; margin:0; padding: 0}\n",
       ".dl-inline>dt, .dl-inline>dd {float: none; width: auto; display: inline-block}\n",
       ".dl-inline>dt::after {content: \":\\0020\"; padding-right: .5ex}\n",
       ".dl-inline>dt:not(:first-of-type) {padding-left: .5ex}\n",
       "</style><dl class=dl-inline><dt>1000 Genomes Trios</dt><dd>'tgpTrios'</dd><dt>1000G Ph3 Vars</dt><dd>'tgpPhase3'</dd><dt>AUGUSTUS</dt><dd>'augustusGene'</dd><dt>Affy GNF1H</dt><dd>'affyGnf1h'</dd><dt>Affy U133</dt><dd>'affyU133'</dd><dt>Affy U95</dt><dd>'affyU95'</dd><dt>All GENCODE V22</dt><dd>'wgEncodeGencodeV22'</dd><dt>All GENCODE V23</dt><dd>'wgEncodeGencodeV23'</dd><dt>All GENCODE V24</dt><dd>'wgEncodeGencodeV24'</dd><dt>All GENCODE V25</dt><dd>'wgEncodeGencodeV25'</dd><dt>All GENCODE V26</dt><dd>'wgEncodeGencodeV26'</dd><dt>All GENCODE V27</dt><dd>'wgEncodeGencodeV27'</dd><dt>All GENCODE V28</dt><dd>'wgEncodeGencodeV28'</dd><dt>All GENCODE V29</dt><dd>'wgEncodeGencodeV29'</dd><dt>All GENCODE V31</dt><dd>'wgEncodeGencodeV31'</dd><dt>All GENCODE V33</dt><dd>'wgEncodeGencodeV33'</dd><dt>All GENCODE V34</dt><dd>'wgEncodeGencodeV34'</dd><dt>All SNPs(141)</dt><dd>'snp141'</dd><dt>All SNPs(142)</dt><dd>'snp142'</dd><dt>All SNPs(144)</dt><dd>'snp144'</dd><dt>All SNPs(146)</dt><dd>'snp146'</dd><dt>All SNPs(147)</dt><dd>'snp147'</dd><dt>All SNPs(150)</dt><dd>'snp150'</dd><dt>All SNPs(151)</dt><dd>'snp151'</dd><dt>Alt Haplotypes</dt><dd>'altSeqLiftOverPsl'</dd><dt>Assembly</dt><dd>'gold'</dd><dt>Bismap</dt><dd>'bismap'</dd><dt>CCDS</dt><dd>'ccdsGene'</dd><dt>COVID GWAS v3</dt><dd>'covidHgiGwas'</dd><dt>COVID GWAS v4</dt><dd>'covidHgiGwasR4Pval'</dd><dt>CRISPR Targets</dt><dd>'crisprAllTargets'</dd><dt>Cancer Gene Expr</dt><dd>'tcgaGeneExpr'</dd><dt>Cancer Transc Expr</dt><dd>'tcgaTranscExpr'</dd><dt>Centromeres</dt><dd>'centromeres'</dd><dt>Chromosome Band</dt><dd>'cytoBand'</dd><dt>Chromosome Band (Ideogram)</dt><dd>'cytoBandIdeo'</dd><dt>ClinGen</dt><dd>'clinGenComp'</dd><dt>ClinGen CNVs</dt><dd>'iscaComposite'</dd><dt>ClinVar Variants</dt><dd>'clinvar'</dd><dt>Clone Ends</dt><dd>'cloneEndSuper'</dd><dt>Common SNPs(141)</dt><dd>'snp141Common'</dd><dt>Common SNPs(142)</dt><dd>'snp142Common'</dd><dt>Common SNPs(144)</dt><dd>'snp144Common'</dd><dt>Common SNPs(146)</dt><dd>'snp146Common'</dd><dt>Common SNPs(147)</dt><dd>'snp147Common'</dd><dt>Common SNPs(150)</dt><dd>'snp150Common'</dd><dt>Common SNPs(151)</dt><dd>'snp151Common'</dd><dt>Cons 20 Mammals</dt><dd>'cons20way'</dd><dt>Cons 30 Primates</dt><dd>'cons30way'</dd><dt>Cons 7 Verts</dt><dd>'cons7way'</dd><dt>Conservation</dt><dd>'cons100way'</dd><dt>Coriell CNVs</dt><dd>'coriellDelDup'</dd><dt>CpG Islands</dt><dd>'cpgIslandExt'</dd><dt>DGV Struct Var</dt><dd>'dgvPlus'</dd><dt>DNase Clusters</dt><dd>'wgEncodeRegDnaseClustered'</dd><dt>DNase HS</dt><dd>'wgEncodeRegDnase'</dd><dt>DNase Signal</dt><dd>'wgEncodeRegDnaseWig'</dd><dt>Development Delay</dt><dd>'cnvDevDelay'</dd><dt>ENCODE cCREs</dt><dd>'encodeCcreCombined'</dd><dt>EPDnew Promoters</dt><dd>'epdNew'</dd><dt>FISH Clones</dt><dd>'fishClones'</dd><dt>Fix Patches</dt><dd>'fixSeqLiftOverPsl'</dd><dt>Flagged SNPs(141)</dt><dd>'snp141Flagged'</dd><dt>Flagged SNPs(142)</dt><dd>'snp142Flagged'</dd><dt>Flagged SNPs(144)</dt><dd>'snp144Flagged'</dd><dt>Flagged SNPs(146)</dt><dd>'snp146Flagged'</dd><dt>Flagged SNPs(147)</dt><dd>'snp147Flagged'</dd><dt>Flagged SNPs(150)</dt><dd>'snp150Flagged'</dd><dt>Flagged SNPs(151)</dt><dd>'snp151Flagged'</dd><dt>GC Percent</dt><dd>'gc5BaseBw'</dd><dt>GENCODE V20 (Ensembl 76)</dt><dd>'wgEncodeGencodeV20'</dd><dt>GENCODE v32</dt><dd>'knownGene'</dd><dt>GNF Atlas 2</dt><dd>'gnfAtlas2'</dd><dt>GRC Contigs</dt><dd>'ctgPos2'</dd><dt>GRC Incident</dt><dd>'grcIncidentDb'</dd><dt>GTEx Gene</dt><dd>'gtexGene'</dd><dt>GTEx Gene V8</dt><dd>'gtexGeneV8'</dd><dt>GTEx Transcript</dt><dd>'gtexTranscExpr'</dd><dt>GWAS Catalog</dt><dd>'gwasCatalog'</dd><dt>GWIPS-viz Riboseq</dt><dd>'gwipsvizRiboseq'</dd><dt>Gap</dt><dd>'gap'</dd><dt>Gene Interactions</dt><dd>'interactions'</dd><dt>GeneHancer</dt><dd>'geneHancer'</dd><dt>GeneReviews</dt><dd>'geneReviews'</dd><dt>Geneid Genes</dt><dd>'geneid'</dd><dt>Genome In a Bottle</dt><dd>'giab'</dd><dt>Genscan Genes</dt><dd>'genscan'</dd><dt>Hg19 Diff</dt><dd>'hg38ContigDiff'</dd><dt>Hg19 Mapping</dt><dd>'liftHg19'</dd><dt>Hi-C and Micro-C</dt><dd>'hicAndMicroC'</dd><dt>Human ESTs</dt><dd>'est'</dd><dt>Human mRNAs</dt><dd>'mrna'</dd><dt>IKMC Genes Mapped</dt><dd>'hgIkmc'</dd><dt>INSDC</dt><dd>'ucscToINSDC'</dd><dt>Interrupted Rpts</dt><dd>'nestedRepeats'</dd><dt>LRG Regions</dt><dd>'lrg'</dd><dt>LRG Transcripts</dt><dd>'lrgTranscriptAli'</dd><dt>Layered H3K27Ac</dt><dd>'wgEncodeRegMarkH3k27ac'</dd><dt>Layered H3K4Me1</dt><dd>'wgEncodeRegMarkH3k4me1'</dd><dt>Layered H3K4Me3</dt><dd>'wgEncodeRegMarkH3k4me3'</dd><dt>MANE select v0.92</dt><dd>'mane'</dd><dt>MGC Genes</dt><dd>'mgcFullMrna'</dd><dt>Mastermind Variants</dt><dd>'mastermind'</dd><dt>Microsatellite</dt><dd>'microsat'</dd><dt>Mult. SNPs(141)</dt><dd>'snp141Mult'</dd><dt>Mult. SNPs(142)</dt><dd>'snp142Mult'</dd><dt>Mult. SNPs(144)</dt><dd>'snp144Mult'</dd><dt>Mult. SNPs(146)</dt><dd>'snp146Mult'</dd><dt>Mult. SNPs(147)</dt><dd>'snp147Mult'</dd><dt>Mult. SNPs(150)</dt><dd>'snp150Mult'</dd><dt>Mult. SNPs(151)</dt><dd>'snp151Mult'</dd><dt>NCBI RefSeq</dt><dd>'refSeqComposite'</dd><dt>OMIM Alleles</dt><dd>'omimAvSnp'</dd><dt>OMIM Cyto Loci</dt><dd>'omimLocation'</dd><dt>OMIM Genes</dt><dd>'omimGene2'</dd><dt>ORFeome Clones</dt><dd>'orfeomeMrna'</dd><dt>ORegAnno</dt><dd>'oreganno'</dd><dt>Old UCSC Genes</dt><dd>'knownGeneOld11'</dd><dt>Other ESTs</dt><dd>'xenoEst'</dd><dt>Other RefSeq</dt><dd>'xenoRefGene'</dd><dt>Other mRNAs</dt><dd>'xenoMrna'</dd><dt>Pfam in UCSC Gene</dt><dd>'ucscGenePfam'</dd><dt>Placental Chain/Net</dt><dd>'placentalChainNet'</dd><dt>Platinum Genomes</dt><dd>'platinumGenomes'</dd><dt>Primate Chain/Net</dt><dd>'primateChainNet'</dd><dt>Rare Harmful Vars</dt><dd>'covidMuts'</dd><dt>RefSeq Acc</dt><dd>'ucscToRefSeq'</dd><dt>RefSeq Func Elems</dt><dd>'refSeqFuncElems'</dd><dt>RepeatMasker</dt><dd>'rmsk'</dd><dt>RepeatMasker Viz.</dt><dd>'joinedRmsk'</dd><dt>RetroGenes V9</dt><dd>'ucscRetroAli9'</dd><dt>SGP Genes</dt><dd>'sgpGene'</dd><dt>SIB Alt-Splicing</dt><dd>'sibTxGraph'</dd><dt>SIB Genes</dt><dd>'sibGene'</dd><dt>SNPedia</dt><dd>'snpedia'</dd><dt>STS Markers</dt><dd>'stsMap'</dd><dt>Scaffolds</dt><dd>'scaffolds'</dd><dt>Segmental Dups</dt><dd>'genomicSuperDups'</dd><dt>Self Chain</dt><dd>'chainSelf'</dd><dt>Simple Repeats</dt><dd>'simpleRepeat'</dd><dt>Spliced ESTs</dt><dd>'intronEst'</dd><dt>TCGA Pan-Cancer</dt><dd>'gdcCancer'</dd><dt>TF ChIP</dt><dd>'encTfChipPk'</dd><dt>TF Clusters</dt><dd>'encRegTfbsClustered'</dd><dt>TransMap ESTs</dt><dd>'transMapEstV5'</dd><dt>TransMap Ensembl</dt><dd>'transMapEnsemblV5'</dd><dt>TransMap RNA</dt><dd>'transMapRnaV5'</dd><dt>TransMap RefGene</dt><dd>'transMapRefSeqV5'</dd><dt>Transcription</dt><dd>'wgEncodeRegTxn'</dd><dt>UCSC Alt Events</dt><dd>'knownAlt'</dd><dt>Umap</dt><dd>'umap'</dd><dt>UniProt</dt><dd>'uniprot'</dd><dt>UniProt Variants</dt><dd>'spMut'</dd><dt>Unmasked CpG</dt><dd>'cpgIslandExtUnmasked'</dd><dt>Vertebrate Chain/Net</dt><dd>'vertebrateChainNet'</dd><dt>WM + SDust</dt><dd>'windowmaskerSdust'</dd><dt>dbSNP 153</dt><dd>'dbSnp153Composite'</dd><dt>dbVar Common SV</dt><dd>'dbVar_common'</dd><dt>dbVar Conflict SV</dt><dd>'dbVar_conflict'</dd><dt>gnomAD v2</dt><dd>'gnomadVariantsV2'</dd><dt>gnomAD v3</dt><dd>'gnomadGenomesVariantsV3'</dd><dt>lincRNA RNA-Seq</dt><dd>'lincRNAsAllCellTypeTopView'</dd><dt>lincRNA TUCP</dt><dd>'lincRNAsTranscripts'</dd><dt>miRNA Tissue Atlas</dt><dd>'miRnaAtlas'</dd><dt>sno/miRNA</dt><dd>'wgRna'</dd><dt>tRNA Genes</dt><dd>'tRNAs'</dd></dl>\n"
      ],
      "text/latex": [
       "\\begin{description*}\n",
       "\\item[1000 Genomes Trios] 'tgpTrios'\n",
       "\\item[1000G Ph3 Vars] 'tgpPhase3'\n",
       "\\item[AUGUSTUS] 'augustusGene'\n",
       "\\item[Affy GNF1H] 'affyGnf1h'\n",
       "\\item[Affy U133] 'affyU133'\n",
       "\\item[Affy U95] 'affyU95'\n",
       "\\item[All GENCODE V22] 'wgEncodeGencodeV22'\n",
       "\\item[All GENCODE V23] 'wgEncodeGencodeV23'\n",
       "\\item[All GENCODE V24] 'wgEncodeGencodeV24'\n",
       "\\item[All GENCODE V25] 'wgEncodeGencodeV25'\n",
       "\\item[All GENCODE V26] 'wgEncodeGencodeV26'\n",
       "\\item[All GENCODE V27] 'wgEncodeGencodeV27'\n",
       "\\item[All GENCODE V28] 'wgEncodeGencodeV28'\n",
       "\\item[All GENCODE V29] 'wgEncodeGencodeV29'\n",
       "\\item[All GENCODE V31] 'wgEncodeGencodeV31'\n",
       "\\item[All GENCODE V33] 'wgEncodeGencodeV33'\n",
       "\\item[All GENCODE V34] 'wgEncodeGencodeV34'\n",
       "\\item[All SNPs(141)] 'snp141'\n",
       "\\item[All SNPs(142)] 'snp142'\n",
       "\\item[All SNPs(144)] 'snp144'\n",
       "\\item[All SNPs(146)] 'snp146'\n",
       "\\item[All SNPs(147)] 'snp147'\n",
       "\\item[All SNPs(150)] 'snp150'\n",
       "\\item[All SNPs(151)] 'snp151'\n",
       "\\item[Alt Haplotypes] 'altSeqLiftOverPsl'\n",
       "\\item[Assembly] 'gold'\n",
       "\\item[Bismap] 'bismap'\n",
       "\\item[CCDS] 'ccdsGene'\n",
       "\\item[COVID GWAS v3] 'covidHgiGwas'\n",
       "\\item[COVID GWAS v4] 'covidHgiGwasR4Pval'\n",
       "\\item[CRISPR Targets] 'crisprAllTargets'\n",
       "\\item[Cancer Gene Expr] 'tcgaGeneExpr'\n",
       "\\item[Cancer Transc Expr] 'tcgaTranscExpr'\n",
       "\\item[Centromeres] 'centromeres'\n",
       "\\item[Chromosome Band] 'cytoBand'\n",
       "\\item[Chromosome Band (Ideogram)] 'cytoBandIdeo'\n",
       "\\item[ClinGen] 'clinGenComp'\n",
       "\\item[ClinGen CNVs] 'iscaComposite'\n",
       "\\item[ClinVar Variants] 'clinvar'\n",
       "\\item[Clone Ends] 'cloneEndSuper'\n",
       "\\item[Common SNPs(141)] 'snp141Common'\n",
       "\\item[Common SNPs(142)] 'snp142Common'\n",
       "\\item[Common SNPs(144)] 'snp144Common'\n",
       "\\item[Common SNPs(146)] 'snp146Common'\n",
       "\\item[Common SNPs(147)] 'snp147Common'\n",
       "\\item[Common SNPs(150)] 'snp150Common'\n",
       "\\item[Common SNPs(151)] 'snp151Common'\n",
       "\\item[Cons 20 Mammals] 'cons20way'\n",
       "\\item[Cons 30 Primates] 'cons30way'\n",
       "\\item[Cons 7 Verts] 'cons7way'\n",
       "\\item[Conservation] 'cons100way'\n",
       "\\item[Coriell CNVs] 'coriellDelDup'\n",
       "\\item[CpG Islands] 'cpgIslandExt'\n",
       "\\item[DGV Struct Var] 'dgvPlus'\n",
       "\\item[DNase Clusters] 'wgEncodeRegDnaseClustered'\n",
       "\\item[DNase HS] 'wgEncodeRegDnase'\n",
       "\\item[DNase Signal] 'wgEncodeRegDnaseWig'\n",
       "\\item[Development Delay] 'cnvDevDelay'\n",
       "\\item[ENCODE cCREs] 'encodeCcreCombined'\n",
       "\\item[EPDnew Promoters] 'epdNew'\n",
       "\\item[FISH Clones] 'fishClones'\n",
       "\\item[Fix Patches] 'fixSeqLiftOverPsl'\n",
       "\\item[Flagged SNPs(141)] 'snp141Flagged'\n",
       "\\item[Flagged SNPs(142)] 'snp142Flagged'\n",
       "\\item[Flagged SNPs(144)] 'snp144Flagged'\n",
       "\\item[Flagged SNPs(146)] 'snp146Flagged'\n",
       "\\item[Flagged SNPs(147)] 'snp147Flagged'\n",
       "\\item[Flagged SNPs(150)] 'snp150Flagged'\n",
       "\\item[Flagged SNPs(151)] 'snp151Flagged'\n",
       "\\item[GC Percent] 'gc5BaseBw'\n",
       "\\item[GENCODE V20 (Ensembl 76)] 'wgEncodeGencodeV20'\n",
       "\\item[GENCODE v32] 'knownGene'\n",
       "\\item[GNF Atlas 2] 'gnfAtlas2'\n",
       "\\item[GRC Contigs] 'ctgPos2'\n",
       "\\item[GRC Incident] 'grcIncidentDb'\n",
       "\\item[GTEx Gene] 'gtexGene'\n",
       "\\item[GTEx Gene V8] 'gtexGeneV8'\n",
       "\\item[GTEx Transcript] 'gtexTranscExpr'\n",
       "\\item[GWAS Catalog] 'gwasCatalog'\n",
       "\\item[GWIPS-viz Riboseq] 'gwipsvizRiboseq'\n",
       "\\item[Gap] 'gap'\n",
       "\\item[Gene Interactions] 'interactions'\n",
       "\\item[GeneHancer] 'geneHancer'\n",
       "\\item[GeneReviews] 'geneReviews'\n",
       "\\item[Geneid Genes] 'geneid'\n",
       "\\item[Genome In a Bottle] 'giab'\n",
       "\\item[Genscan Genes] 'genscan'\n",
       "\\item[Hg19 Diff] 'hg38ContigDiff'\n",
       "\\item[Hg19 Mapping] 'liftHg19'\n",
       "\\item[Hi-C and Micro-C] 'hicAndMicroC'\n",
       "\\item[Human ESTs] 'est'\n",
       "\\item[Human mRNAs] 'mrna'\n",
       "\\item[IKMC Genes Mapped] 'hgIkmc'\n",
       "\\item[INSDC] 'ucscToINSDC'\n",
       "\\item[Interrupted Rpts] 'nestedRepeats'\n",
       "\\item[LRG Regions] 'lrg'\n",
       "\\item[LRG Transcripts] 'lrgTranscriptAli'\n",
       "\\item[Layered H3K27Ac] 'wgEncodeRegMarkH3k27ac'\n",
       "\\item[Layered H3K4Me1] 'wgEncodeRegMarkH3k4me1'\n",
       "\\item[Layered H3K4Me3] 'wgEncodeRegMarkH3k4me3'\n",
       "\\item[MANE select v0.92] 'mane'\n",
       "\\item[MGC Genes] 'mgcFullMrna'\n",
       "\\item[Mastermind Variants] 'mastermind'\n",
       "\\item[Microsatellite] 'microsat'\n",
       "\\item[Mult. SNPs(141)] 'snp141Mult'\n",
       "\\item[Mult. SNPs(142)] 'snp142Mult'\n",
       "\\item[Mult. SNPs(144)] 'snp144Mult'\n",
       "\\item[Mult. SNPs(146)] 'snp146Mult'\n",
       "\\item[Mult. SNPs(147)] 'snp147Mult'\n",
       "\\item[Mult. SNPs(150)] 'snp150Mult'\n",
       "\\item[Mult. SNPs(151)] 'snp151Mult'\n",
       "\\item[NCBI RefSeq] 'refSeqComposite'\n",
       "\\item[OMIM Alleles] 'omimAvSnp'\n",
       "\\item[OMIM Cyto Loci] 'omimLocation'\n",
       "\\item[OMIM Genes] 'omimGene2'\n",
       "\\item[ORFeome Clones] 'orfeomeMrna'\n",
       "\\item[ORegAnno] 'oreganno'\n",
       "\\item[Old UCSC Genes] 'knownGeneOld11'\n",
       "\\item[Other ESTs] 'xenoEst'\n",
       "\\item[Other RefSeq] 'xenoRefGene'\n",
       "\\item[Other mRNAs] 'xenoMrna'\n",
       "\\item[Pfam in UCSC Gene] 'ucscGenePfam'\n",
       "\\item[Placental Chain/Net] 'placentalChainNet'\n",
       "\\item[Platinum Genomes] 'platinumGenomes'\n",
       "\\item[Primate Chain/Net] 'primateChainNet'\n",
       "\\item[Rare Harmful Vars] 'covidMuts'\n",
       "\\item[RefSeq Acc] 'ucscToRefSeq'\n",
       "\\item[RefSeq Func Elems] 'refSeqFuncElems'\n",
       "\\item[RepeatMasker] 'rmsk'\n",
       "\\item[RepeatMasker Viz.] 'joinedRmsk'\n",
       "\\item[RetroGenes V9] 'ucscRetroAli9'\n",
       "\\item[SGP Genes] 'sgpGene'\n",
       "\\item[SIB Alt-Splicing] 'sibTxGraph'\n",
       "\\item[SIB Genes] 'sibGene'\n",
       "\\item[SNPedia] 'snpedia'\n",
       "\\item[STS Markers] 'stsMap'\n",
       "\\item[Scaffolds] 'scaffolds'\n",
       "\\item[Segmental Dups] 'genomicSuperDups'\n",
       "\\item[Self Chain] 'chainSelf'\n",
       "\\item[Simple Repeats] 'simpleRepeat'\n",
       "\\item[Spliced ESTs] 'intronEst'\n",
       "\\item[TCGA Pan-Cancer] 'gdcCancer'\n",
       "\\item[TF ChIP] 'encTfChipPk'\n",
       "\\item[TF Clusters] 'encRegTfbsClustered'\n",
       "\\item[TransMap ESTs] 'transMapEstV5'\n",
       "\\item[TransMap Ensembl] 'transMapEnsemblV5'\n",
       "\\item[TransMap RNA] 'transMapRnaV5'\n",
       "\\item[TransMap RefGene] 'transMapRefSeqV5'\n",
       "\\item[Transcription] 'wgEncodeRegTxn'\n",
       "\\item[UCSC Alt Events] 'knownAlt'\n",
       "\\item[Umap] 'umap'\n",
       "\\item[UniProt] 'uniprot'\n",
       "\\item[UniProt Variants] 'spMut'\n",
       "\\item[Unmasked CpG] 'cpgIslandExtUnmasked'\n",
       "\\item[Vertebrate Chain/Net] 'vertebrateChainNet'\n",
       "\\item[WM + SDust] 'windowmaskerSdust'\n",
       "\\item[dbSNP 153] 'dbSnp153Composite'\n",
       "\\item[dbVar Common SV] 'dbVar\\_common'\n",
       "\\item[dbVar Conflict SV] 'dbVar\\_conflict'\n",
       "\\item[gnomAD v2] 'gnomadVariantsV2'\n",
       "\\item[gnomAD v3] 'gnomadGenomesVariantsV3'\n",
       "\\item[lincRNA RNA-Seq] 'lincRNAsAllCellTypeTopView'\n",
       "\\item[lincRNA TUCP] 'lincRNAsTranscripts'\n",
       "\\item[miRNA Tissue Atlas] 'miRnaAtlas'\n",
       "\\item[sno/miRNA] 'wgRna'\n",
       "\\item[tRNA Genes] 'tRNAs'\n",
       "\\end{description*}\n"
      ],
      "text/markdown": [
       "1000 Genomes Trios\n",
       ":   'tgpTrios'1000G Ph3 Vars\n",
       ":   'tgpPhase3'AUGUSTUS\n",
       ":   'augustusGene'Affy GNF1H\n",
       ":   'affyGnf1h'Affy U133\n",
       ":   'affyU133'Affy U95\n",
       ":   'affyU95'All GENCODE V22\n",
       ":   'wgEncodeGencodeV22'All GENCODE V23\n",
       ":   'wgEncodeGencodeV23'All GENCODE V24\n",
       ":   'wgEncodeGencodeV24'All GENCODE V25\n",
       ":   'wgEncodeGencodeV25'All GENCODE V26\n",
       ":   'wgEncodeGencodeV26'All GENCODE V27\n",
       ":   'wgEncodeGencodeV27'All GENCODE V28\n",
       ":   'wgEncodeGencodeV28'All GENCODE V29\n",
       ":   'wgEncodeGencodeV29'All GENCODE V31\n",
       ":   'wgEncodeGencodeV31'All GENCODE V33\n",
       ":   'wgEncodeGencodeV33'All GENCODE V34\n",
       ":   'wgEncodeGencodeV34'All SNPs(141)\n",
       ":   'snp141'All SNPs(142)\n",
       ":   'snp142'All SNPs(144)\n",
       ":   'snp144'All SNPs(146)\n",
       ":   'snp146'All SNPs(147)\n",
       ":   'snp147'All SNPs(150)\n",
       ":   'snp150'All SNPs(151)\n",
       ":   'snp151'Alt Haplotypes\n",
       ":   'altSeqLiftOverPsl'Assembly\n",
       ":   'gold'Bismap\n",
       ":   'bismap'CCDS\n",
       ":   'ccdsGene'COVID GWAS v3\n",
       ":   'covidHgiGwas'COVID GWAS v4\n",
       ":   'covidHgiGwasR4Pval'CRISPR Targets\n",
       ":   'crisprAllTargets'Cancer Gene Expr\n",
       ":   'tcgaGeneExpr'Cancer Transc Expr\n",
       ":   'tcgaTranscExpr'Centromeres\n",
       ":   'centromeres'Chromosome Band\n",
       ":   'cytoBand'Chromosome Band (Ideogram)\n",
       ":   'cytoBandIdeo'ClinGen\n",
       ":   'clinGenComp'ClinGen CNVs\n",
       ":   'iscaComposite'ClinVar Variants\n",
       ":   'clinvar'Clone Ends\n",
       ":   'cloneEndSuper'Common SNPs(141)\n",
       ":   'snp141Common'Common SNPs(142)\n",
       ":   'snp142Common'Common SNPs(144)\n",
       ":   'snp144Common'Common SNPs(146)\n",
       ":   'snp146Common'Common SNPs(147)\n",
       ":   'snp147Common'Common SNPs(150)\n",
       ":   'snp150Common'Common SNPs(151)\n",
       ":   'snp151Common'Cons 20 Mammals\n",
       ":   'cons20way'Cons 30 Primates\n",
       ":   'cons30way'Cons 7 Verts\n",
       ":   'cons7way'Conservation\n",
       ":   'cons100way'Coriell CNVs\n",
       ":   'coriellDelDup'CpG Islands\n",
       ":   'cpgIslandExt'DGV Struct Var\n",
       ":   'dgvPlus'DNase Clusters\n",
       ":   'wgEncodeRegDnaseClustered'DNase HS\n",
       ":   'wgEncodeRegDnase'DNase Signal\n",
       ":   'wgEncodeRegDnaseWig'Development Delay\n",
       ":   'cnvDevDelay'ENCODE cCREs\n",
       ":   'encodeCcreCombined'EPDnew Promoters\n",
       ":   'epdNew'FISH Clones\n",
       ":   'fishClones'Fix Patches\n",
       ":   'fixSeqLiftOverPsl'Flagged SNPs(141)\n",
       ":   'snp141Flagged'Flagged SNPs(142)\n",
       ":   'snp142Flagged'Flagged SNPs(144)\n",
       ":   'snp144Flagged'Flagged SNPs(146)\n",
       ":   'snp146Flagged'Flagged SNPs(147)\n",
       ":   'snp147Flagged'Flagged SNPs(150)\n",
       ":   'snp150Flagged'Flagged SNPs(151)\n",
       ":   'snp151Flagged'GC Percent\n",
       ":   'gc5BaseBw'GENCODE V20 (Ensembl 76)\n",
       ":   'wgEncodeGencodeV20'GENCODE v32\n",
       ":   'knownGene'GNF Atlas 2\n",
       ":   'gnfAtlas2'GRC Contigs\n",
       ":   'ctgPos2'GRC Incident\n",
       ":   'grcIncidentDb'GTEx Gene\n",
       ":   'gtexGene'GTEx Gene V8\n",
       ":   'gtexGeneV8'GTEx Transcript\n",
       ":   'gtexTranscExpr'GWAS Catalog\n",
       ":   'gwasCatalog'GWIPS-viz Riboseq\n",
       ":   'gwipsvizRiboseq'Gap\n",
       ":   'gap'Gene Interactions\n",
       ":   'interactions'GeneHancer\n",
       ":   'geneHancer'GeneReviews\n",
       ":   'geneReviews'Geneid Genes\n",
       ":   'geneid'Genome In a Bottle\n",
       ":   'giab'Genscan Genes\n",
       ":   'genscan'Hg19 Diff\n",
       ":   'hg38ContigDiff'Hg19 Mapping\n",
       ":   'liftHg19'Hi-C and Micro-C\n",
       ":   'hicAndMicroC'Human ESTs\n",
       ":   'est'Human mRNAs\n",
       ":   'mrna'IKMC Genes Mapped\n",
       ":   'hgIkmc'INSDC\n",
       ":   'ucscToINSDC'Interrupted Rpts\n",
       ":   'nestedRepeats'LRG Regions\n",
       ":   'lrg'LRG Transcripts\n",
       ":   'lrgTranscriptAli'Layered H3K27Ac\n",
       ":   'wgEncodeRegMarkH3k27ac'Layered H3K4Me1\n",
       ":   'wgEncodeRegMarkH3k4me1'Layered H3K4Me3\n",
       ":   'wgEncodeRegMarkH3k4me3'MANE select v0.92\n",
       ":   'mane'MGC Genes\n",
       ":   'mgcFullMrna'Mastermind Variants\n",
       ":   'mastermind'Microsatellite\n",
       ":   'microsat'Mult. SNPs(141)\n",
       ":   'snp141Mult'Mult. SNPs(142)\n",
       ":   'snp142Mult'Mult. SNPs(144)\n",
       ":   'snp144Mult'Mult. SNPs(146)\n",
       ":   'snp146Mult'Mult. SNPs(147)\n",
       ":   'snp147Mult'Mult. SNPs(150)\n",
       ":   'snp150Mult'Mult. SNPs(151)\n",
       ":   'snp151Mult'NCBI RefSeq\n",
       ":   'refSeqComposite'OMIM Alleles\n",
       ":   'omimAvSnp'OMIM Cyto Loci\n",
       ":   'omimLocation'OMIM Genes\n",
       ":   'omimGene2'ORFeome Clones\n",
       ":   'orfeomeMrna'ORegAnno\n",
       ":   'oreganno'Old UCSC Genes\n",
       ":   'knownGeneOld11'Other ESTs\n",
       ":   'xenoEst'Other RefSeq\n",
       ":   'xenoRefGene'Other mRNAs\n",
       ":   'xenoMrna'Pfam in UCSC Gene\n",
       ":   'ucscGenePfam'Placental Chain/Net\n",
       ":   'placentalChainNet'Platinum Genomes\n",
       ":   'platinumGenomes'Primate Chain/Net\n",
       ":   'primateChainNet'Rare Harmful Vars\n",
       ":   'covidMuts'RefSeq Acc\n",
       ":   'ucscToRefSeq'RefSeq Func Elems\n",
       ":   'refSeqFuncElems'RepeatMasker\n",
       ":   'rmsk'RepeatMasker Viz.\n",
       ":   'joinedRmsk'RetroGenes V9\n",
       ":   'ucscRetroAli9'SGP Genes\n",
       ":   'sgpGene'SIB Alt-Splicing\n",
       ":   'sibTxGraph'SIB Genes\n",
       ":   'sibGene'SNPedia\n",
       ":   'snpedia'STS Markers\n",
       ":   'stsMap'Scaffolds\n",
       ":   'scaffolds'Segmental Dups\n",
       ":   'genomicSuperDups'Self Chain\n",
       ":   'chainSelf'Simple Repeats\n",
       ":   'simpleRepeat'Spliced ESTs\n",
       ":   'intronEst'TCGA Pan-Cancer\n",
       ":   'gdcCancer'TF ChIP\n",
       ":   'encTfChipPk'TF Clusters\n",
       ":   'encRegTfbsClustered'TransMap ESTs\n",
       ":   'transMapEstV5'TransMap Ensembl\n",
       ":   'transMapEnsemblV5'TransMap RNA\n",
       ":   'transMapRnaV5'TransMap RefGene\n",
       ":   'transMapRefSeqV5'Transcription\n",
       ":   'wgEncodeRegTxn'UCSC Alt Events\n",
       ":   'knownAlt'Umap\n",
       ":   'umap'UniProt\n",
       ":   'uniprot'UniProt Variants\n",
       ":   'spMut'Unmasked CpG\n",
       ":   'cpgIslandExtUnmasked'Vertebrate Chain/Net\n",
       ":   'vertebrateChainNet'WM + SDust\n",
       ":   'windowmaskerSdust'dbSNP 153\n",
       ":   'dbSnp153Composite'dbVar Common SV\n",
       ":   'dbVar_common'dbVar Conflict SV\n",
       ":   'dbVar_conflict'gnomAD v2\n",
       ":   'gnomadVariantsV2'gnomAD v3\n",
       ":   'gnomadGenomesVariantsV3'lincRNA RNA-Seq\n",
       ":   'lincRNAsAllCellTypeTopView'lincRNA TUCP\n",
       ":   'lincRNAsTranscripts'miRNA Tissue Atlas\n",
       ":   'miRnaAtlas'sno/miRNA\n",
       ":   'wgRna'tRNA Genes\n",
       ":   'tRNAs'\n",
       "\n"
      ],
      "text/plain": [
       "          1000 Genomes Trios               1000G Ph3 Vars \n",
       "                  \"tgpTrios\"                  \"tgpPhase3\" \n",
       "                    AUGUSTUS                   Affy GNF1H \n",
       "              \"augustusGene\"                  \"affyGnf1h\" \n",
       "                   Affy U133                     Affy U95 \n",
       "                  \"affyU133\"                    \"affyU95\" \n",
       "             All GENCODE V22              All GENCODE V23 \n",
       "        \"wgEncodeGencodeV22\"         \"wgEncodeGencodeV23\" \n",
       "             All GENCODE V24              All GENCODE V25 \n",
       "        \"wgEncodeGencodeV24\"         \"wgEncodeGencodeV25\" \n",
       "             All GENCODE V26              All GENCODE V27 \n",
       "        \"wgEncodeGencodeV26\"         \"wgEncodeGencodeV27\" \n",
       "             All GENCODE V28              All GENCODE V29 \n",
       "        \"wgEncodeGencodeV28\"         \"wgEncodeGencodeV29\" \n",
       "             All GENCODE V31              All GENCODE V33 \n",
       "        \"wgEncodeGencodeV31\"         \"wgEncodeGencodeV33\" \n",
       "             All GENCODE V34                All SNPs(141) \n",
       "        \"wgEncodeGencodeV34\"                     \"snp141\" \n",
       "               All SNPs(142)                All SNPs(144) \n",
       "                    \"snp142\"                     \"snp144\" \n",
       "               All SNPs(146)                All SNPs(147) \n",
       "                    \"snp146\"                     \"snp147\" \n",
       "               All SNPs(150)                All SNPs(151) \n",
       "                    \"snp150\"                     \"snp151\" \n",
       "              Alt Haplotypes                     Assembly \n",
       "         \"altSeqLiftOverPsl\"                       \"gold\" \n",
       "                      Bismap                         CCDS \n",
       "                    \"bismap\"                   \"ccdsGene\" \n",
       "               COVID GWAS v3                COVID GWAS v4 \n",
       "              \"covidHgiGwas\"         \"covidHgiGwasR4Pval\" \n",
       "              CRISPR Targets             Cancer Gene Expr \n",
       "          \"crisprAllTargets\"               \"tcgaGeneExpr\" \n",
       "          Cancer Transc Expr                  Centromeres \n",
       "            \"tcgaTranscExpr\"                \"centromeres\" \n",
       "             Chromosome Band   Chromosome Band (Ideogram) \n",
       "                  \"cytoBand\"               \"cytoBandIdeo\" \n",
       "                     ClinGen                 ClinGen CNVs \n",
       "               \"clinGenComp\"              \"iscaComposite\" \n",
       "            ClinVar Variants                   Clone Ends \n",
       "                   \"clinvar\"              \"cloneEndSuper\" \n",
       "            Common SNPs(141)             Common SNPs(142) \n",
       "              \"snp141Common\"               \"snp142Common\" \n",
       "            Common SNPs(144)             Common SNPs(146) \n",
       "              \"snp144Common\"               \"snp146Common\" \n",
       "            Common SNPs(147)             Common SNPs(150) \n",
       "              \"snp147Common\"               \"snp150Common\" \n",
       "            Common SNPs(151)              Cons 20 Mammals \n",
       "              \"snp151Common\"                  \"cons20way\" \n",
       "            Cons 30 Primates                 Cons 7 Verts \n",
       "                 \"cons30way\"                   \"cons7way\" \n",
       "                Conservation                 Coriell CNVs \n",
       "                \"cons100way\"              \"coriellDelDup\" \n",
       "                 CpG Islands               DGV Struct Var \n",
       "              \"cpgIslandExt\"                    \"dgvPlus\" \n",
       "              DNase Clusters                     DNase HS \n",
       " \"wgEncodeRegDnaseClustered\"           \"wgEncodeRegDnase\" \n",
       "                DNase Signal            Development Delay \n",
       "       \"wgEncodeRegDnaseWig\"                \"cnvDevDelay\" \n",
       "                ENCODE cCREs             EPDnew Promoters \n",
       "        \"encodeCcreCombined\"                     \"epdNew\" \n",
       "                 FISH Clones                  Fix Patches \n",
       "                \"fishClones\"          \"fixSeqLiftOverPsl\" \n",
       "           Flagged SNPs(141)            Flagged SNPs(142) \n",
       "             \"snp141Flagged\"              \"snp142Flagged\" \n",
       "           Flagged SNPs(144)            Flagged SNPs(146) \n",
       "             \"snp144Flagged\"              \"snp146Flagged\" \n",
       "           Flagged SNPs(147)            Flagged SNPs(150) \n",
       "             \"snp147Flagged\"              \"snp150Flagged\" \n",
       "           Flagged SNPs(151)                   GC Percent \n",
       "             \"snp151Flagged\"                  \"gc5BaseBw\" \n",
       "    GENCODE V20 (Ensembl 76)                  GENCODE v32 \n",
       "        \"wgEncodeGencodeV20\"                  \"knownGene\" \n",
       "                 GNF Atlas 2                  GRC Contigs \n",
       "                 \"gnfAtlas2\"                    \"ctgPos2\" \n",
       "                GRC Incident                    GTEx Gene \n",
       "             \"grcIncidentDb\"                   \"gtexGene\" \n",
       "                GTEx Gene V8              GTEx Transcript \n",
       "                \"gtexGeneV8\"             \"gtexTranscExpr\" \n",
       "                GWAS Catalog            GWIPS-viz Riboseq \n",
       "               \"gwasCatalog\"            \"gwipsvizRiboseq\" \n",
       "                         Gap            Gene Interactions \n",
       "                       \"gap\"               \"interactions\" \n",
       "                  GeneHancer                  GeneReviews \n",
       "                \"geneHancer\"                \"geneReviews\" \n",
       "                Geneid Genes           Genome In a Bottle \n",
       "                    \"geneid\"                       \"giab\" \n",
       "               Genscan Genes                    Hg19 Diff \n",
       "                   \"genscan\"             \"hg38ContigDiff\" \n",
       "                Hg19 Mapping             Hi-C and Micro-C \n",
       "                  \"liftHg19\"               \"hicAndMicroC\" \n",
       "                  Human ESTs                  Human mRNAs \n",
       "                       \"est\"                       \"mrna\" \n",
       "           IKMC Genes Mapped                        INSDC \n",
       "                    \"hgIkmc\"                \"ucscToINSDC\" \n",
       "            Interrupted Rpts                  LRG Regions \n",
       "             \"nestedRepeats\"                        \"lrg\" \n",
       "             LRG Transcripts              Layered H3K27Ac \n",
       "          \"lrgTranscriptAli\"     \"wgEncodeRegMarkH3k27ac\" \n",
       "             Layered H3K4Me1              Layered H3K4Me3 \n",
       "    \"wgEncodeRegMarkH3k4me1\"     \"wgEncodeRegMarkH3k4me3\" \n",
       "           MANE select v0.92                    MGC Genes \n",
       "                      \"mane\"                \"mgcFullMrna\" \n",
       "         Mastermind Variants               Microsatellite \n",
       "                \"mastermind\"                   \"microsat\" \n",
       "             Mult. SNPs(141)              Mult. SNPs(142) \n",
       "                \"snp141Mult\"                 \"snp142Mult\" \n",
       "             Mult. SNPs(144)              Mult. SNPs(146) \n",
       "                \"snp144Mult\"                 \"snp146Mult\" \n",
       "             Mult. SNPs(147)              Mult. SNPs(150) \n",
       "                \"snp147Mult\"                 \"snp150Mult\" \n",
       "             Mult. SNPs(151)                  NCBI RefSeq \n",
       "                \"snp151Mult\"            \"refSeqComposite\" \n",
       "                OMIM Alleles               OMIM Cyto Loci \n",
       "                 \"omimAvSnp\"               \"omimLocation\" \n",
       "                  OMIM Genes               ORFeome Clones \n",
       "                 \"omimGene2\"                \"orfeomeMrna\" \n",
       "                    ORegAnno               Old UCSC Genes \n",
       "                  \"oreganno\"             \"knownGeneOld11\" \n",
       "                  Other ESTs                 Other RefSeq \n",
       "                   \"xenoEst\"                \"xenoRefGene\" \n",
       "                 Other mRNAs            Pfam in UCSC Gene \n",
       "                  \"xenoMrna\"               \"ucscGenePfam\" \n",
       "         Placental Chain/Net             Platinum Genomes \n",
       "         \"placentalChainNet\"            \"platinumGenomes\" \n",
       "           Primate Chain/Net            Rare Harmful Vars \n",
       "           \"primateChainNet\"                  \"covidMuts\" \n",
       "                  RefSeq Acc            RefSeq Func Elems \n",
       "              \"ucscToRefSeq\"            \"refSeqFuncElems\" \n",
       "                RepeatMasker            RepeatMasker Viz. \n",
       "                      \"rmsk\"                 \"joinedRmsk\" \n",
       "               RetroGenes V9                    SGP Genes \n",
       "             \"ucscRetroAli9\"                    \"sgpGene\" \n",
       "            SIB Alt-Splicing                    SIB Genes \n",
       "                \"sibTxGraph\"                    \"sibGene\" \n",
       "                     SNPedia                  STS Markers \n",
       "                   \"snpedia\"                     \"stsMap\" \n",
       "                   Scaffolds               Segmental Dups \n",
       "                 \"scaffolds\"           \"genomicSuperDups\" \n",
       "                  Self Chain               Simple Repeats \n",
       "                 \"chainSelf\"               \"simpleRepeat\" \n",
       "                Spliced ESTs              TCGA Pan-Cancer \n",
       "                 \"intronEst\"                  \"gdcCancer\" \n",
       "                     TF ChIP                  TF Clusters \n",
       "               \"encTfChipPk\"        \"encRegTfbsClustered\" \n",
       "               TransMap ESTs             TransMap Ensembl \n",
       "             \"transMapEstV5\"          \"transMapEnsemblV5\" \n",
       "                TransMap RNA             TransMap RefGene \n",
       "             \"transMapRnaV5\"           \"transMapRefSeqV5\" \n",
       "               Transcription              UCSC Alt Events \n",
       "            \"wgEncodeRegTxn\"                   \"knownAlt\" \n",
       "                        Umap                      UniProt \n",
       "                      \"umap\"                    \"uniprot\" \n",
       "            UniProt Variants                 Unmasked CpG \n",
       "                     \"spMut\"       \"cpgIslandExtUnmasked\" \n",
       "        Vertebrate Chain/Net                   WM + SDust \n",
       "        \"vertebrateChainNet\"          \"windowmaskerSdust\" \n",
       "                   dbSNP 153              dbVar Common SV \n",
       "         \"dbSnp153Composite\"               \"dbVar_common\" \n",
       "           dbVar Conflict SV                    gnomAD v2 \n",
       "            \"dbVar_conflict\"           \"gnomadVariantsV2\" \n",
       "                   gnomAD v3              lincRNA RNA-Seq \n",
       "   \"gnomadGenomesVariantsV3\" \"lincRNAsAllCellTypeTopView\" \n",
       "                lincRNA TUCP           miRNA Tissue Atlas \n",
       "       \"lincRNAsTranscripts\"                 \"miRnaAtlas\" \n",
       "                   sno/miRNA                   tRNA Genes \n",
       "                     \"wgRna\"                      \"tRNAs\" "
      ]
     },
     "metadata": {},
     "output_type": "display_data"
    }
   ],
   "source": [
    "mySession <- browserSession()\n",
    "genome(mySession) <- \"hg38\"\n",
    "UCSCnames <- trackNames(ucscTableQuery(mySession))\n",
    "UCSCnames"
   ]
  },
  {
   "cell_type": "code",
   "execution_count": 51,
   "metadata": {},
   "outputs": [],
   "source": [
    "download_track(\"Human\", \"hg38\", \"rmsk\", output_dir)"
   ]
  },
  {
   "cell_type": "code",
   "execution_count": 54,
   "metadata": {},
   "outputs": [
    {
     "data": {
      "text/html": [
       "<style>\n",
       ".dl-inline {width: auto; margin:0; padding: 0}\n",
       ".dl-inline>dt, .dl-inline>dd {float: none; width: auto; display: inline-block}\n",
       ".dl-inline>dt::after {content: \":\\0020\"; padding-right: .5ex}\n",
       ".dl-inline>dt:not(:first-of-type) {padding-left: .5ex}\n",
       "</style><dl class=dl-inline><dt>CpG Islands</dt><dd>'cpgIslandExt'</dd><dt>NCBI RefSeq</dt><dd>'refSeqComposite'</dd><dt>3</dt><dd>NA</dd><dt>RepeatMasker</dt><dd>'rmsk'</dd></dl>\n"
      ],
      "text/latex": [
       "\\begin{description*}\n",
       "\\item[CpG Islands] 'cpgIslandExt'\n",
       "\\item[NCBI RefSeq] 'refSeqComposite'\n",
       "\\item[3] NA\n",
       "\\item[RepeatMasker] 'rmsk'\n",
       "\\end{description*}\n"
      ],
      "text/markdown": [
       "CpG Islands\n",
       ":   'cpgIslandExt'NCBI RefSeq\n",
       ":   'refSeqComposite'3\n",
       ":   NARepeatMasker\n",
       ":   'rmsk'\n",
       "\n"
      ],
      "text/plain": [
       "      CpG Islands       NCBI RefSeq              <NA>      RepeatMasker \n",
       "   \"cpgIslandExt\" \"refSeqComposite\"                NA            \"rmsk\" "
      ]
     },
     "metadata": {},
     "output_type": "display_data"
    }
   ],
   "source": [
    "UCSCnames[track_ids]"
   ]
  },
  {
   "cell_type": "code",
   "execution_count": 55,
   "metadata": {},
   "outputs": [
    {
     "name": "stderr",
     "output_type": "stream",
     "text": [
      "Warning message in dir.create(dir_out):\n",
      "“'/scratch/lab_bock/shared/projects/compEpi/validation/insilicoDigest//data/tracks/Human' already exists”\n"
     ]
    }
   ],
   "source": [
    "download_track(\"Human\", \"hg38\", \"refSeqComposite\", output_dir)"
   ]
  },
  {
   "cell_type": "code",
   "execution_count": 57,
   "metadata": {},
   "outputs": [
    {
     "name": "stderr",
     "output_type": "stream",
     "text": [
      "Warning message in dir.create(dir_out):\n",
      "“'/scratch/lab_bock/shared/projects/compEpi/validation/insilicoDigest//data/tracks/Human' already exists”\n"
     ]
    }
   ],
   "source": [
    "download_track(\"Human\", \"hg38\", \"cpgIslandExt\", output_dir)"
   ]
  },
  {
   "cell_type": "markdown",
   "metadata": {},
   "source": [
    "UCSCnameslantic cod"
   ]
  },
  {
   "cell_type": "code",
   "execution_count": 20,
   "metadata": {},
   "outputs": [
    {
     "data": {
      "text/html": [
       "<dl class=dl-horizontal>\n",
       "\t<dt>AUGUSTUS</dt>\n",
       "\t\t<dd>'augustusGene'</dd>\n",
       "\t<dt>Assembly</dt>\n",
       "\t\t<dd>'gold'</dd>\n",
       "\t<dt>Atlantic cod ESTs</dt>\n",
       "\t\t<dd>'est'</dd>\n",
       "\t<dt>Atlantic cod mRNAs</dt>\n",
       "\t\t<dd>'mrna'</dd>\n",
       "\t<dt>Chromosome Band (Ideogram)</dt>\n",
       "\t\t<dd>'cytoBandIdeo'</dd>\n",
       "\t<dt>CpG Islands</dt>\n",
       "\t\t<dd>'cpgIslandExt'</dd>\n",
       "\t<dt>Ensembl Assembly</dt>\n",
       "\t\t<dd>'ensemblGeneScaffold'</dd>\n",
       "\t<dt>Ensembl Genes</dt>\n",
       "\t\t<dd>'ensGene'</dd>\n",
       "\t<dt>Fugu Chain/Net</dt>\n",
       "\t\t<dd>'chainNetFr3'</dd>\n",
       "\t<dt>GC Percent</dt>\n",
       "\t\t<dd>'gc5BaseBw'</dd>\n",
       "\t<dt>Gap</dt>\n",
       "\t\t<dd>'gap'</dd>\n",
       "\t<dt>Genscan Genes</dt>\n",
       "\t\t<dd>'genscan'</dd>\n",
       "\t<dt>INSDC</dt>\n",
       "\t\t<dd>'ucscToINSDC'</dd>\n",
       "\t<dt>Interrupted Rpts</dt>\n",
       "\t\t<dd>'nestedRepeats'</dd>\n",
       "\t<dt>Microsatellite</dt>\n",
       "\t\t<dd>'microsat'</dd>\n",
       "\t<dt>Mouse Chain/Net</dt>\n",
       "\t\t<dd>'chainNetMm10'</dd>\n",
       "\t<dt>Other RefSeq</dt>\n",
       "\t\t<dd>'xenoRefGene'</dd>\n",
       "\t<dt>RepeatMasker</dt>\n",
       "\t\t<dd>'rmsk'</dd>\n",
       "\t<dt>Simple Repeats</dt>\n",
       "\t\t<dd>'simpleRepeat'</dd>\n",
       "\t<dt>Spliced ESTs</dt>\n",
       "\t\t<dd>'intronEst'</dd>\n",
       "\t<dt>TransMap ESTs</dt>\n",
       "\t\t<dd>'transMapEstV5'</dd>\n",
       "\t<dt>TransMap Ensembl</dt>\n",
       "\t\t<dd>'transMapEnsemblV5'</dd>\n",
       "\t<dt>TransMap RNA</dt>\n",
       "\t\t<dd>'transMapRnaV5'</dd>\n",
       "\t<dt>TransMap RefGene</dt>\n",
       "\t\t<dd>'transMapRefSeqV5'</dd>\n",
       "\t<dt>UniProt</dt>\n",
       "\t\t<dd>'uniprot'</dd>\n",
       "\t<dt>Unmasked CpG</dt>\n",
       "\t\t<dd>'cpgIslandExtUnmasked'</dd>\n",
       "\t<dt>WM + SDust</dt>\n",
       "\t\t<dd>'windowmaskerSdust'</dd>\n",
       "</dl>\n"
      ],
      "text/latex": [
       "\\begin{description*}\n",
       "\\item[AUGUSTUS] 'augustusGene'\n",
       "\\item[Assembly] 'gold'\n",
       "\\item[Atlantic cod ESTs] 'est'\n",
       "\\item[Atlantic cod mRNAs] 'mrna'\n",
       "\\item[Chromosome Band (Ideogram)] 'cytoBandIdeo'\n",
       "\\item[CpG Islands] 'cpgIslandExt'\n",
       "\\item[Ensembl Assembly] 'ensemblGeneScaffold'\n",
       "\\item[Ensembl Genes] 'ensGene'\n",
       "\\item[Fugu Chain/Net] 'chainNetFr3'\n",
       "\\item[GC Percent] 'gc5BaseBw'\n",
       "\\item[Gap] 'gap'\n",
       "\\item[Genscan Genes] 'genscan'\n",
       "\\item[INSDC] 'ucscToINSDC'\n",
       "\\item[Interrupted Rpts] 'nestedRepeats'\n",
       "\\item[Microsatellite] 'microsat'\n",
       "\\item[Mouse Chain/Net] 'chainNetMm10'\n",
       "\\item[Other RefSeq] 'xenoRefGene'\n",
       "\\item[RepeatMasker] 'rmsk'\n",
       "\\item[Simple Repeats] 'simpleRepeat'\n",
       "\\item[Spliced ESTs] 'intronEst'\n",
       "\\item[TransMap ESTs] 'transMapEstV5'\n",
       "\\item[TransMap Ensembl] 'transMapEnsemblV5'\n",
       "\\item[TransMap RNA] 'transMapRnaV5'\n",
       "\\item[TransMap RefGene] 'transMapRefSeqV5'\n",
       "\\item[UniProt] 'uniprot'\n",
       "\\item[Unmasked CpG] 'cpgIslandExtUnmasked'\n",
       "\\item[WM + SDust] 'windowmaskerSdust'\n",
       "\\end{description*}\n"
      ],
      "text/markdown": [
       "AUGUSTUS\n",
       ":   'augustusGene'Assembly\n",
       ":   'gold'Atlantic cod ESTs\n",
       ":   'est'Atlantic cod mRNAs\n",
       ":   'mrna'Chromosome Band (Ideogram)\n",
       ":   'cytoBandIdeo'CpG Islands\n",
       ":   'cpgIslandExt'Ensembl Assembly\n",
       ":   'ensemblGeneScaffold'Ensembl Genes\n",
       ":   'ensGene'Fugu Chain/Net\n",
       ":   'chainNetFr3'GC Percent\n",
       ":   'gc5BaseBw'Gap\n",
       ":   'gap'Genscan Genes\n",
       ":   'genscan'INSDC\n",
       ":   'ucscToINSDC'Interrupted Rpts\n",
       ":   'nestedRepeats'Microsatellite\n",
       ":   'microsat'Mouse Chain/Net\n",
       ":   'chainNetMm10'Other RefSeq\n",
       ":   'xenoRefGene'RepeatMasker\n",
       ":   'rmsk'Simple Repeats\n",
       ":   'simpleRepeat'Spliced ESTs\n",
       ":   'intronEst'TransMap ESTs\n",
       ":   'transMapEstV5'TransMap Ensembl\n",
       ":   'transMapEnsemblV5'TransMap RNA\n",
       ":   'transMapRnaV5'TransMap RefGene\n",
       ":   'transMapRefSeqV5'UniProt\n",
       ":   'uniprot'Unmasked CpG\n",
       ":   'cpgIslandExtUnmasked'WM + SDust\n",
       ":   'windowmaskerSdust'\n",
       "\n"
      ],
      "text/plain": [
       "                  AUGUSTUS                   Assembly \n",
       "            \"augustusGene\"                     \"gold\" \n",
       "         Atlantic cod ESTs         Atlantic cod mRNAs \n",
       "                     \"est\"                     \"mrna\" \n",
       "Chromosome Band (Ideogram)                CpG Islands \n",
       "            \"cytoBandIdeo\"             \"cpgIslandExt\" \n",
       "          Ensembl Assembly              Ensembl Genes \n",
       "     \"ensemblGeneScaffold\"                  \"ensGene\" \n",
       "            Fugu Chain/Net                 GC Percent \n",
       "             \"chainNetFr3\"                \"gc5BaseBw\" \n",
       "                       Gap              Genscan Genes \n",
       "                     \"gap\"                  \"genscan\" \n",
       "                     INSDC           Interrupted Rpts \n",
       "             \"ucscToINSDC\"            \"nestedRepeats\" \n",
       "            Microsatellite            Mouse Chain/Net \n",
       "                \"microsat\"             \"chainNetMm10\" \n",
       "              Other RefSeq               RepeatMasker \n",
       "             \"xenoRefGene\"                     \"rmsk\" \n",
       "            Simple Repeats               Spliced ESTs \n",
       "            \"simpleRepeat\"                \"intronEst\" \n",
       "             TransMap ESTs           TransMap Ensembl \n",
       "           \"transMapEstV5\"        \"transMapEnsemblV5\" \n",
       "              TransMap RNA           TransMap RefGene \n",
       "           \"transMapRnaV5\"         \"transMapRefSeqV5\" \n",
       "                   UniProt               Unmasked CpG \n",
       "                 \"uniprot\"     \"cpgIslandExtUnmasked\" \n",
       "                WM + SDust \n",
       "       \"windowmaskerSdust\" "
      ]
     },
     "metadata": {},
     "output_type": "display_data"
    }
   ],
   "source": [
    "mySession <- browserSession()\n",
    "genome(mySession) <- \"gadMor1\"\n",
    "UCSCnames <- trackNames(ucscTableQuery(mySession))\n",
    "UCSCnames"
   ]
  },
  {
   "cell_type": "code",
   "execution_count": 21,
   "metadata": {},
   "outputs": [],
   "source": [
    "download_track(\"Atlantic cod\", \"gadMor1\", \"ensGene\", output_dir)"
   ]
  },
  {
   "cell_type": "code",
   "execution_count": 22,
   "metadata": {},
   "outputs": [],
   "source": [
    "download_track(\"Painted turtle\", \"chrPic1\", \"genscan\", output_dir)"
   ]
  },
  {
   "cell_type": "code",
   "execution_count": 23,
   "metadata": {},
   "outputs": [],
   "source": [
    "download_track(\"Golden eagle\", \"aquChr2\", \"genscan\", output_dir)"
   ]
  },
  {
   "cell_type": "code",
   "execution_count": 24,
   "metadata": {},
   "outputs": [],
   "source": [
    "download_track(\"Gibbon\", \"nomLeu3\", \"ensGene\", output_dir)"
   ]
  },
  {
   "cell_type": "code",
   "execution_count": 25,
   "metadata": {},
   "outputs": [],
   "source": [
    "download_track(\"Megabat\", \"pteVam1\", \"ensGene\", output_dir)"
   ]
  },
  {
   "cell_type": "code",
   "execution_count": 26,
   "metadata": {},
   "outputs": [],
   "source": [
    "download_track(\"Orangutan\", \"ponAbe3\", \"simpleRepeat\", output_dir)"
   ]
  },
  {
   "cell_type": "code",
   "execution_count": 27,
   "metadata": {},
   "outputs": [],
   "source": [
    "download_track(\"Tree shrew\", \"tupBel1\", \"ensGene\", output_dir)"
   ]
  },
  {
   "cell_type": "code",
   "execution_count": 28,
   "metadata": {},
   "outputs": [],
   "source": [
    "download_track(\"Wallaby\", \"macEug2\", \"genscan\", output_dir)"
   ]
  },
  {
   "cell_type": "markdown",
   "metadata": {},
   "source": [
    "Summary:"
   ]
  },
  {
   "cell_type": "code",
   "execution_count": 12,
   "metadata": {},
   "outputs": [],
   "source": [
    "df_full =read.table(\"../meta/validation_species_resources.csv\", sep = \";\", header = 1 )"
   ]
  },
  {
   "cell_type": "code",
   "execution_count": 13,
   "metadata": {},
   "outputs": [
    {
     "data": {
      "text/html": [
       "<table>\n",
       "<caption>A data.frame: 6 × 9</caption>\n",
       "<thead>\n",
       "\t<tr><th></th><th scope=col>species</th><th scope=col>ucsc_genome</th><th scope=col>class</th><th scope=col>scientific_name</th><th scope=col>date</th><th scope=col>name</th><th scope=col>BSlibrary</th><th scope=col>genome_id</th><th scope=col>provider</th></tr>\n",
       "\t<tr><th></th><th scope=col>&lt;chr&gt;</th><th scope=col>&lt;chr&gt;</th><th scope=col>&lt;chr&gt;</th><th scope=col>&lt;chr&gt;</th><th scope=col>&lt;chr&gt;</th><th scope=col>&lt;chr&gt;</th><th scope=col>&lt;chr&gt;</th><th scope=col>&lt;chr&gt;</th><th scope=col>&lt;chr&gt;</th></tr>\n",
       "</thead>\n",
       "<tbody>\n",
       "\t<tr><th scope=row>1</th><td>Mouse      </td><td>mm10    </td><td>Mammalia   </td><td>Mus musculus         </td><td>Dec. 2011</td><td>Genome Reference Consortium GRCm38</td><td>BSgenome.Mmusculus.UCSC.mm10    </td><td>Mmusculus </td><td>UCSC</td></tr>\n",
       "\t<tr><th scope=row>2</th><td>Zebrafish  </td><td>danRer11</td><td>Actinopteri</td><td>Danio rerio          </td><td>May 2017 </td><td>Genome Reference Consortium GRCz11</td><td>BSgenome.Drerio.UCSC.danRer11   </td><td>Drerio    </td><td>UCSC</td></tr>\n",
       "\t<tr><th scope=row>3</th><td>Chicken    </td><td>galGal6 </td><td>Aves       </td><td>Gallus gallus        </td><td>Mar. 2018</td><td>GRCg6 Gallus-gallus-6.0           </td><td>BSgenome.Ggallus.UCSC.galGal6   </td><td>Ggallus   </td><td>UCSC</td></tr>\n",
       "\t<tr><th scope=row>4</th><td>Zebra finch</td><td>taeGut2 </td><td>Aves       </td><td>Taeniopygia guttata  </td><td>Feb. 2013</td><td>WashU taeGut324                   </td><td>BSgenome.Tguttata.UCSC.taeGut2  </td><td>Tguttata  </td><td>UCSC</td></tr>\n",
       "\t<tr><th scope=row>5</th><td>Opossum    </td><td>monDom5 </td><td>Marsupiala </td><td>Monodelphis domestica</td><td>Oct. 2006</td><td>Broad Institute release MonDom5   </td><td>BSgenome.Mdomestica.UCSC.monDom5</td><td>Mdomestica</td><td>UCSC</td></tr>\n",
       "\t<tr><th scope=row>6</th><td>Cow        </td><td>bosTau9 </td><td>Mammalia   </td><td>Bos taurus           </td><td>Apr. 2018</td><td>USDA ARS                          </td><td>BSgenome.Btaurus.UCSC.bosTau9   </td><td>Btaurus   </td><td>UCSC</td></tr>\n",
       "</tbody>\n",
       "</table>\n"
      ],
      "text/latex": [
       "A data.frame: 6 × 9\n",
       "\\begin{tabular}{r|lllllllll}\n",
       "  & species & ucsc\\_genome & class & scientific\\_name & date & name & BSlibrary & genome\\_id & provider\\\\\n",
       "  & <chr> & <chr> & <chr> & <chr> & <chr> & <chr> & <chr> & <chr> & <chr>\\\\\n",
       "\\hline\n",
       "\t1 & Mouse       & mm10     & Mammalia    & Mus musculus          & Dec. 2011 & Genome Reference Consortium GRCm38 & BSgenome.Mmusculus.UCSC.mm10     & Mmusculus  & UCSC\\\\\n",
       "\t2 & Zebrafish   & danRer11 & Actinopteri & Danio rerio           & May 2017  & Genome Reference Consortium GRCz11 & BSgenome.Drerio.UCSC.danRer11    & Drerio     & UCSC\\\\\n",
       "\t3 & Chicken     & galGal6  & Aves        & Gallus gallus         & Mar. 2018 & GRCg6 Gallus-gallus-6.0            & BSgenome.Ggallus.UCSC.galGal6    & Ggallus    & UCSC\\\\\n",
       "\t4 & Zebra finch & taeGut2  & Aves        & Taeniopygia guttata   & Feb. 2013 & WashU taeGut324                    & BSgenome.Tguttata.UCSC.taeGut2   & Tguttata   & UCSC\\\\\n",
       "\t5 & Opossum     & monDom5  & Marsupiala  & Monodelphis domestica & Oct. 2006 & Broad Institute release MonDom5    & BSgenome.Mdomestica.UCSC.monDom5 & Mdomestica & UCSC\\\\\n",
       "\t6 & Cow         & bosTau9  & Mammalia    & Bos taurus            & Apr. 2018 & USDA ARS                           & BSgenome.Btaurus.UCSC.bosTau9    & Btaurus    & UCSC\\\\\n",
       "\\end{tabular}\n"
      ],
      "text/markdown": [
       "\n",
       "A data.frame: 6 × 9\n",
       "\n",
       "| <!--/--> | species &lt;chr&gt; | ucsc_genome &lt;chr&gt; | class &lt;chr&gt; | scientific_name &lt;chr&gt; | date &lt;chr&gt; | name &lt;chr&gt; | BSlibrary &lt;chr&gt; | genome_id &lt;chr&gt; | provider &lt;chr&gt; |\n",
       "|---|---|---|---|---|---|---|---|---|---|\n",
       "| 1 | Mouse       | mm10     | Mammalia    | Mus musculus          | Dec. 2011 | Genome Reference Consortium GRCm38 | BSgenome.Mmusculus.UCSC.mm10     | Mmusculus  | UCSC |\n",
       "| 2 | Zebrafish   | danRer11 | Actinopteri | Danio rerio           | May 2017  | Genome Reference Consortium GRCz11 | BSgenome.Drerio.UCSC.danRer11    | Drerio     | UCSC |\n",
       "| 3 | Chicken     | galGal6  | Aves        | Gallus gallus         | Mar. 2018 | GRCg6 Gallus-gallus-6.0            | BSgenome.Ggallus.UCSC.galGal6    | Ggallus    | UCSC |\n",
       "| 4 | Zebra finch | taeGut2  | Aves        | Taeniopygia guttata   | Feb. 2013 | WashU taeGut324                    | BSgenome.Tguttata.UCSC.taeGut2   | Tguttata   | UCSC |\n",
       "| 5 | Opossum     | monDom5  | Marsupiala  | Monodelphis domestica | Oct. 2006 | Broad Institute release MonDom5    | BSgenome.Mdomestica.UCSC.monDom5 | Mdomestica | UCSC |\n",
       "| 6 | Cow         | bosTau9  | Mammalia    | Bos taurus            | Apr. 2018 | USDA ARS                           | BSgenome.Btaurus.UCSC.bosTau9    | Btaurus    | UCSC |\n",
       "\n"
      ],
      "text/plain": [
       "  species     ucsc_genome class       scientific_name       date     \n",
       "1 Mouse       mm10        Mammalia    Mus musculus          Dec. 2011\n",
       "2 Zebrafish   danRer11    Actinopteri Danio rerio           May 2017 \n",
       "3 Chicken     galGal6     Aves        Gallus gallus         Mar. 2018\n",
       "4 Zebra finch taeGut2     Aves        Taeniopygia guttata   Feb. 2013\n",
       "5 Opossum     monDom5     Marsupiala  Monodelphis domestica Oct. 2006\n",
       "6 Cow         bosTau9     Mammalia    Bos taurus            Apr. 2018\n",
       "  name                               BSlibrary                       \n",
       "1 Genome Reference Consortium GRCm38 BSgenome.Mmusculus.UCSC.mm10    \n",
       "2 Genome Reference Consortium GRCz11 BSgenome.Drerio.UCSC.danRer11   \n",
       "3 GRCg6 Gallus-gallus-6.0            BSgenome.Ggallus.UCSC.galGal6   \n",
       "4 WashU taeGut324                    BSgenome.Tguttata.UCSC.taeGut2  \n",
       "5 Broad Institute release MonDom5    BSgenome.Mdomestica.UCSC.monDom5\n",
       "6 USDA ARS                           BSgenome.Btaurus.UCSC.bosTau9   \n",
       "  genome_id  provider\n",
       "1 Mmusculus  UCSC    \n",
       "2 Drerio     UCSC    \n",
       "3 Ggallus    UCSC    \n",
       "4 Tguttata   UCSC    \n",
       "5 Mdomestica UCSC    \n",
       "6 Btaurus    UCSC    "
      ]
     },
     "metadata": {},
     "output_type": "display_data"
    }
   ],
   "source": [
    "head(df_full)"
   ]
  },
  {
   "cell_type": "code",
   "execution_count": 33,
   "metadata": {},
   "outputs": [],
   "source": [
    "get_tracks <- function(sp_list){\n",
    "tracks <- list.files(file.path(output_dir, \"data\", \"tracks\", sp_list))\n",
    "s <- paste0(as.character(sapply(tracks, function(x) strsplit(gsub(\"*_\", \"\",x),  \"\\\\.\")[[1]][1])), \n",
    "                                collapse = \",\")\n",
    "return(s)}"
   ]
  },
  {
   "cell_type": "code",
   "execution_count": 34,
   "metadata": {},
   "outputs": [
    {
     "data": {
      "text/html": [
       "'danRer11cpgIslandExt,danRer11refSeqComposite,danRer11rmsk'"
      ],
      "text/latex": [
       "'danRer11cpgIslandExt,danRer11refSeqComposite,danRer11rmsk'"
      ],
      "text/markdown": [
       "'danRer11cpgIslandExt,danRer11refSeqComposite,danRer11rmsk'"
      ],
      "text/plain": [
       "[1] \"danRer11cpgIslandExt,danRer11refSeqComposite,danRer11rmsk\""
      ]
     },
     "metadata": {},
     "output_type": "display_data"
    }
   ],
   "source": [
    "get_tracks(df_full$species[[2]])"
   ]
  },
  {
   "cell_type": "code",
   "execution_count": 36,
   "metadata": {},
   "outputs": [],
   "source": [
    "df_full[\"tracks_UCSC\"] <- sapply(df_full$species, get_tracks)"
   ]
  },
  {
   "cell_type": "code",
   "execution_count": 38,
   "metadata": {},
   "outputs": [],
   "source": [
    "write.table(df_full, \"../meta//validation_species_resources_forST.csv\", sep = \";\", row.names = F, quote = F)"
   ]
  },
  {
   "cell_type": "markdown",
   "metadata": {},
   "source": [
    "### Validate the chrom sizes:"
   ]
  },
  {
   "cell_type": "markdown",
   "metadata": {},
   "source": [
    "Reading the annotation dataframe:"
   ]
  },
  {
   "cell_type": "code",
   "execution_count": 25,
   "metadata": {},
   "outputs": [
    {
     "data": {
      "text/html": [
       "<table>\n",
       "<thead><tr><th scope=col>species</th><th scope=col>ucsc_genome</th><th scope=col>class</th><th scope=col>scientific_name</th><th scope=col>date</th><th scope=col>name</th><th scope=col>BSlibrary</th><th scope=col>genome_id</th><th scope=col>provider</th></tr></thead>\n",
       "<tbody>\n",
       "\t<tr><td>Human                             </td><td>hg38                              </td><td>Mammalia                          </td><td>Homo sapiens                      </td><td>Dec. 2013                         </td><td>Genome Reference Consortium GRCm38</td><td>BSgenome.Hsapiens.UCSC.hg38       </td><td>Hsapiens                          </td><td>UCSC                              </td></tr>\n",
       "\t<tr><td>Mouse                             </td><td>mm10                              </td><td>Mammalia                          </td><td>Mus musculus                      </td><td>Dec. 2011                         </td><td>Genome Reference Consortium GRCm38</td><td>BSgenome.Mmusculus.UCSC.mm10      </td><td>Mmusculus                         </td><td>UCSC                              </td></tr>\n",
       "\t<tr><td>Zebrafish                         </td><td>danRer11                          </td><td>Actinopteri                       </td><td>Danio rerio                       </td><td>May 2017                          </td><td>Genome Reference Consortium GRCz11</td><td>BSgenome.Drerio.UCSC.danRer11     </td><td>Drerio                            </td><td>UCSC                              </td></tr>\n",
       "\t<tr><td>Chicken                           </td><td>galGal6                           </td><td>Aves                              </td><td>Gallus gallus                     </td><td>Mar. 2018                         </td><td>GRCg6 Gallus-gallus-6.0           </td><td>BSgenome.Ggallus.UCSC.galGal6     </td><td>Ggallus                           </td><td>UCSC                              </td></tr>\n",
       "\t<tr><td>Zebra finch                       </td><td>taeGut2                           </td><td>Aves                              </td><td>Taeniopygia guttata               </td><td>Feb. 2013                         </td><td>WashU taeGut324                   </td><td>BSgenome.Tguttata.UCSC.taeGut2    </td><td>Tguttata                          </td><td>UCSC                              </td></tr>\n",
       "\t<tr><td>Opossum                           </td><td>monDom5                           </td><td>Marsupiala                        </td><td>Monodelphis domestica             </td><td>Oct. 2006                         </td><td>Broad Institute release MonDom5   </td><td>BSgenome.Mdomestica.UCSC.monDom5  </td><td>Mdomestica                        </td><td>UCSC                              </td></tr>\n",
       "</tbody>\n",
       "</table>\n"
      ],
      "text/latex": [
       "\\begin{tabular}{r|lllllllll}\n",
       " species & ucsc\\_genome & class & scientific\\_name & date & name & BSlibrary & genome\\_id & provider\\\\\n",
       "\\hline\n",
       "\t Human                              & hg38                               & Mammalia                           & Homo sapiens                       & Dec. 2013                          & Genome Reference Consortium GRCm38 & BSgenome.Hsapiens.UCSC.hg38        & Hsapiens                           & UCSC                              \\\\\n",
       "\t Mouse                              & mm10                               & Mammalia                           & Mus musculus                       & Dec. 2011                          & Genome Reference Consortium GRCm38 & BSgenome.Mmusculus.UCSC.mm10       & Mmusculus                          & UCSC                              \\\\\n",
       "\t Zebrafish                          & danRer11                           & Actinopteri                        & Danio rerio                        & May 2017                           & Genome Reference Consortium GRCz11 & BSgenome.Drerio.UCSC.danRer11      & Drerio                             & UCSC                              \\\\\n",
       "\t Chicken                            & galGal6                            & Aves                               & Gallus gallus                      & Mar. 2018                          & GRCg6 Gallus-gallus-6.0            & BSgenome.Ggallus.UCSC.galGal6      & Ggallus                            & UCSC                              \\\\\n",
       "\t Zebra finch                        & taeGut2                            & Aves                               & Taeniopygia guttata                & Feb. 2013                          & WashU taeGut324                    & BSgenome.Tguttata.UCSC.taeGut2     & Tguttata                           & UCSC                              \\\\\n",
       "\t Opossum                            & monDom5                            & Marsupiala                         & Monodelphis domestica              & Oct. 2006                          & Broad Institute release MonDom5    & BSgenome.Mdomestica.UCSC.monDom5   & Mdomestica                         & UCSC                              \\\\\n",
       "\\end{tabular}\n"
      ],
      "text/markdown": [
       "\n",
       "| species | ucsc_genome | class | scientific_name | date | name | BSlibrary | genome_id | provider |\n",
       "|---|---|---|---|---|---|---|---|---|\n",
       "| Human                              | hg38                               | Mammalia                           | Homo sapiens                       | Dec. 2013                          | Genome Reference Consortium GRCm38 | BSgenome.Hsapiens.UCSC.hg38        | Hsapiens                           | UCSC                               |\n",
       "| Mouse                              | mm10                               | Mammalia                           | Mus musculus                       | Dec. 2011                          | Genome Reference Consortium GRCm38 | BSgenome.Mmusculus.UCSC.mm10       | Mmusculus                          | UCSC                               |\n",
       "| Zebrafish                          | danRer11                           | Actinopteri                        | Danio rerio                        | May 2017                           | Genome Reference Consortium GRCz11 | BSgenome.Drerio.UCSC.danRer11      | Drerio                             | UCSC                               |\n",
       "| Chicken                            | galGal6                            | Aves                               | Gallus gallus                      | Mar. 2018                          | GRCg6 Gallus-gallus-6.0            | BSgenome.Ggallus.UCSC.galGal6      | Ggallus                            | UCSC                               |\n",
       "| Zebra finch                        | taeGut2                            | Aves                               | Taeniopygia guttata                | Feb. 2013                          | WashU taeGut324                    | BSgenome.Tguttata.UCSC.taeGut2     | Tguttata                           | UCSC                               |\n",
       "| Opossum                            | monDom5                            | Marsupiala                         | Monodelphis domestica              | Oct. 2006                          | Broad Institute release MonDom5    | BSgenome.Mdomestica.UCSC.monDom5   | Mdomestica                         | UCSC                               |\n",
       "\n"
      ],
      "text/plain": [
       "  species     ucsc_genome class       scientific_name       date     \n",
       "1 Human       hg38        Mammalia    Homo sapiens          Dec. 2013\n",
       "2 Mouse       mm10        Mammalia    Mus musculus          Dec. 2011\n",
       "3 Zebrafish   danRer11    Actinopteri Danio rerio           May 2017 \n",
       "4 Chicken     galGal6     Aves        Gallus gallus         Mar. 2018\n",
       "5 Zebra finch taeGut2     Aves        Taeniopygia guttata   Feb. 2013\n",
       "6 Opossum     monDom5     Marsupiala  Monodelphis domestica Oct. 2006\n",
       "  name                               BSlibrary                       \n",
       "1 Genome Reference Consortium GRCm38 BSgenome.Hsapiens.UCSC.hg38     \n",
       "2 Genome Reference Consortium GRCm38 BSgenome.Mmusculus.UCSC.mm10    \n",
       "3 Genome Reference Consortium GRCz11 BSgenome.Drerio.UCSC.danRer11   \n",
       "4 GRCg6 Gallus-gallus-6.0            BSgenome.Ggallus.UCSC.galGal6   \n",
       "5 WashU taeGut324                    BSgenome.Tguttata.UCSC.taeGut2  \n",
       "6 Broad Institute release MonDom5    BSgenome.Mdomestica.UCSC.monDom5\n",
       "  genome_id  provider\n",
       "1 Hsapiens   UCSC    \n",
       "2 Mmusculus  UCSC    \n",
       "3 Drerio     UCSC    \n",
       "4 Ggallus    UCSC    \n",
       "5 Tguttata   UCSC    \n",
       "6 Mdomestica UCSC    "
      ]
     },
     "metadata": {},
     "output_type": "display_data"
    }
   ],
   "source": [
    "df_full <- read.table(\"../meta//validation_species_resources.csv\", sep = \";\", header = 1)\n",
    "head(df_full)"
   ]
  },
  {
   "cell_type": "markdown",
   "metadata": {},
   "source": [
    "For each of the genomes we are going to download the file with the chrom sizes, and evaluate the number of \"short\" chromosomes that are in the genome"
   ]
  },
  {
   "cell_type": "code",
   "execution_count": 65,
   "metadata": {},
   "outputs": [],
   "source": [
    "chrLengthStats = data.table()"
   ]
  },
  {
   "cell_type": "code",
   "execution_count": 67,
   "metadata": {
    "collapsed": true,
    "jupyter": {
     "outputs_hidden": true
    }
   },
   "outputs": [
    {
     "name": "stdout",
     "output_type": "stream",
     "text": [
      "[1] Human\n",
      "48 Levels: African clawed frog American alligator Atlantic cod ... Zebrafish\n",
      "[1] Mouse\n",
      "48 Levels: African clawed frog American alligator Atlantic cod ... Zebrafish\n",
      "[1] Zebrafish\n",
      "48 Levels: African clawed frog American alligator Atlantic cod ... Zebrafish\n",
      "[1] Chicken\n",
      "48 Levels: African clawed frog American alligator Atlantic cod ... Zebrafish\n",
      "[1] Zebra finch\n",
      "48 Levels: African clawed frog American alligator Atlantic cod ... Zebrafish\n",
      "[1] Opossum\n",
      "48 Levels: African clawed frog American alligator Atlantic cod ... Zebrafish\n",
      "[1] Cow\n",
      "48 Levels: African clawed frog American alligator Atlantic cod ... Zebrafish\n",
      "[1] Dog\n",
      "48 Levels: African clawed frog American alligator Atlantic cod ... Zebrafish\n",
      "[1] Ferret\n",
      "48 Levels: African clawed frog American alligator Atlantic cod ... Zebrafish\n",
      "[1] Chimp\n",
      "48 Levels: African clawed frog American alligator Atlantic cod ... Zebrafish\n",
      "[1] Pig\n",
      "48 Levels: African clawed frog American alligator Atlantic cod ... Zebrafish\n",
      "[1] Rhesus\n",
      "48 Levels: African clawed frog American alligator Atlantic cod ... Zebrafish\n",
      "[1] Lancelet\n",
      "48 Levels: African clawed frog American alligator Atlantic cod ... Zebrafish\n",
      "[1] Sea Hare\n",
      "48 Levels: African clawed frog American alligator Atlantic cod ... Zebrafish\n",
      "[1] Lamprey\n",
      "48 Levels: African clawed frog American alligator Atlantic cod ... Zebrafish\n",
      "[1] Elephant shark\n",
      "48 Levels: African clawed frog American alligator Atlantic cod ... Zebrafish\n",
      "[1] Atlantic cod\n",
      "48 Levels: African clawed frog American alligator Atlantic cod ... Zebrafish\n",
      "[1] Nile tilapia\n",
      "48 Levels: African clawed frog American alligator Atlantic cod ... Zebrafish\n",
      "[1] Fugu\n",
      "48 Levels: African clawed frog American alligator Atlantic cod ... Zebrafish\n",
      "[1] Coelacanth\n",
      "48 Levels: African clawed frog American alligator Atlantic cod ... Zebrafish\n",
      "[1] Tropical clawed frog\n",
      "48 Levels: African clawed frog American alligator Atlantic cod ... Zebrafish\n",
      "[1] African clawed frog\n",
      "48 Levels: African clawed frog American alligator Atlantic cod ... Zebrafish\n",
      "[1] Tibetan frog\n",
      "48 Levels: African clawed frog American alligator Atlantic cod ... Zebrafish\n",
      "[1] American alligator\n",
      "48 Levels: African clawed frog American alligator Atlantic cod ... Zebrafish\n",
      "[1] Garter snake\n",
      "48 Levels: African clawed frog American alligator Atlantic cod ... Zebrafish\n",
      "[1] Lizard\n",
      "48 Levels: African clawed frog American alligator Atlantic cod ... Zebrafish\n",
      "[1] Painted turtle\n",
      "48 Levels: African clawed frog American alligator Atlantic cod ... Zebrafish\n",
      "[1] Medium ground finch\n",
      "48 Levels: African clawed frog American alligator Atlantic cod ... Zebrafish\n",
      "[1] Budgeriger\n",
      "48 Levels: African clawed frog American alligator Atlantic cod ... Zebrafish\n",
      "[1] Golden eagle\n",
      "48 Levels: African clawed frog American alligator Atlantic cod ... Zebrafish\n",
      "[1] Tasmanian devil\n",
      "48 Levels: African clawed frog American alligator Atlantic cod ... Zebrafish\n",
      "[1] Cat\n",
      "48 Levels: African clawed frog American alligator Atlantic cod ... Zebrafish\n",
      "[1] Gibbon\n",
      "48 Levels: African clawed frog American alligator Atlantic cod ... Zebrafish\n",
      "[1] Gorilla\n",
      "48 Levels: African clawed frog American alligator Atlantic cod ... Zebrafish\n",
      "[1] Bonobo\n",
      "48 Levels: African clawed frog American alligator Atlantic cod ... Zebrafish\n",
      "[1] Green Monkey\n",
      "48 Levels: African clawed frog American alligator Atlantic cod ... Zebrafish\n",
      "[1] Megabat\n",
      "48 Levels: African clawed frog American alligator Atlantic cod ... Zebrafish\n",
      "[1] Microbat\n",
      "48 Levels: African clawed frog American alligator Atlantic cod ... Zebrafish\n",
      "[1] Naked mole rat\n",
      "48 Levels: African clawed frog American alligator Atlantic cod ... Zebrafish\n",
      "[1] Orangutan\n",
      "48 Levels: African clawed frog American alligator Atlantic cod ... Zebrafish\n",
      "[1] Rabbit\n",
      "48 Levels: African clawed frog American alligator Atlantic cod ... Zebrafish\n",
      "[1] Sheep\n",
      "48 Levels: African clawed frog American alligator Atlantic cod ... Zebrafish\n",
      "[1] Squirrel\n",
      "48 Levels: African clawed frog American alligator Atlantic cod ... Zebrafish\n",
      "[1] Squirrel monkey\n",
      "48 Levels: African clawed frog American alligator Atlantic cod ... Zebrafish\n",
      "[1] Shrew\n",
      "48 Levels: African clawed frog American alligator Atlantic cod ... Zebrafish\n",
      "[1] Tree shrew\n",
      "48 Levels: African clawed frog American alligator Atlantic cod ... Zebrafish\n",
      "[1] Wallaby\n",
      "48 Levels: African clawed frog American alligator Atlantic cod ... Zebrafish\n",
      "[1] White rhinoceros\n",
      "48 Levels: African clawed frog American alligator Atlantic cod ... Zebrafish\n"
     ]
    }
   ],
   "source": [
    "for (i in 1:NROW(df_full)){\n",
    "    url = paste0(\"http://hgdownload.soe.ucsc.edu/goldenPath/\", df_full$ucsc_genome[[i]], \"/bigZips/\", df_full$ucsc_genome[[i]], \".chrom.sizes\")\n",
    "    df <- fread(url)\n",
    "    colnames(df) <- c(\"chrN\", \"chrSize\")\n",
    "    \n",
    "    N <- colSums(df[, 2])\n",
    "    \n",
    "    if(NROW(df) > 100) N_100 <- colSums(df[order(-chrSize)][c(1:100), 2])\n",
    "    else N_100 = N\n",
    "    \n",
    "    ans_row <- data.frame(\"Name\" = as.character(df_full$species[[i]]),\"genome\" = as.character(df_full$ucsc_genome[[i]]), \"nchr\" = NROW(df), \n",
    "                          \"chrSumLength\" = N, \"chrSumLength_100\" = N_100)\n",
    "    #print(ans_row)\n",
    "    print(df_full$species[[i]])\n",
    "    chrLengthStats <- rbind(chrLengthStats, ans_row)\n",
    "}"
   ]
  },
  {
   "cell_type": "code",
   "execution_count": 68,
   "metadata": {
    "collapsed": true,
    "jupyter": {
     "outputs_hidden": true
    }
   },
   "outputs": [
    {
     "data": {
      "text/html": [
       "<table>\n",
       "<thead><tr><th scope=col>Name</th><th scope=col>genome</th><th scope=col>nchr</th><th scope=col>chrSumLength</th><th scope=col>chrSumLength_100</th></tr></thead>\n",
       "<tbody>\n",
       "\t<tr><td>Human               </td><td>hg38                </td><td>   455              </td><td>3209286105          </td><td>3171759732          </td></tr>\n",
       "\t<tr><td>Mouse               </td><td>mm10                </td><td>    66              </td><td>2730871774          </td><td>2730871774          </td></tr>\n",
       "\t<tr><td>Zebrafish           </td><td>danRer11            </td><td>  1923              </td><td>1679203469          </td><td>1390091111          </td></tr>\n",
       "\t<tr><td>Chicken             </td><td>galGal6             </td><td>   464              </td><td>1065365425          </td><td>1062298020          </td></tr>\n",
       "\t<tr><td>Zebra finch         </td><td>taeGut2             </td><td> 37096              </td><td>1232135591          </td><td>1047003328          </td></tr>\n",
       "\t<tr><td>Opossum             </td><td>monDom5             </td><td>    11              </td><td>3605631728          </td><td>3605631728          </td></tr>\n",
       "\t<tr><td>Cow                 </td><td>bosTau9             </td><td>  2211              </td><td>2715853792          </td><td>2657896138          </td></tr>\n",
       "\t<tr><td>Dog                 </td><td>canFam3             </td><td>  3268              </td><td>2410976875          </td><td>2356725059          </td></tr>\n",
       "\t<tr><td>Ferret              </td><td>musFur1             </td><td>  7741              </td><td>2410758013          </td><td>1458360456          </td></tr>\n",
       "\t<tr><td>Chimp               </td><td>panTro6             </td><td>  4346              </td><td>3050398082          </td><td>2888958340          </td></tr>\n",
       "\t<tr><td>Pig                 </td><td>susScr11            </td><td>   613              </td><td>2501912388          </td><td>2475593126          </td></tr>\n",
       "\t<tr><td>Rhesus              </td><td>rheMac10            </td><td>  2939              </td><td>2971331530          </td><td>2877905456          </td></tr>\n",
       "\t<tr><td>Lancelet            </td><td>braFlo1             </td><td>     2              </td><td> 926386587          </td><td> 926386587          </td></tr>\n",
       "\t<tr><td>Sea Hare            </td><td>aplCal1             </td><td>  8767              </td><td> 715806041          </td><td>  89582376          </td></tr>\n",
       "\t<tr><td>Lamprey             </td><td>petMar2             </td><td> 25006              </td><td> 885550958          </td><td> 109348046          </td></tr>\n",
       "\t<tr><td>Elephant shark      </td><td>calMil1             </td><td> 21204              </td><td> 974498586          </td><td> 638515969          </td></tr>\n",
       "\t<tr><td>Atlantic cod        </td><td>gadMor1             </td><td>427428              </td><td> 824327835          </td><td> 199448216          </td></tr>\n",
       "\t<tr><td>Nile tilapia        </td><td>oreNil2             </td><td>  5678              </td><td> 927696114          </td><td> 784022008          </td></tr>\n",
       "\t<tr><td>Fugu                </td><td>fr3                 </td><td>  6835              </td><td> 391484715          </td><td> 308944832          </td></tr>\n",
       "\t<tr><td>Coelacanth          </td><td>latCha1             </td><td> 22819              </td><td>2860591921          </td><td> 375225220          </td></tr>\n",
       "\t<tr><td>Tropical clawed frog</td><td>xenTro9             </td><td>  6822              </td><td>1440398454          </td><td>1343881952          </td></tr>\n",
       "\t<tr><td>African clawed frog </td><td>xenLae2             </td><td>108033              </td><td>2718433805          </td><td>2645391720          </td></tr>\n",
       "\t<tr><td>Tibetan frog        </td><td>nanPar1             </td><td> 25187              </td><td>2053849526          </td><td> 337425731          </td></tr>\n",
       "\t<tr><td>American alligator  </td><td>allMis1             </td><td> 14645              </td><td>2174259888          </td><td> 200330421          </td></tr>\n",
       "\t<tr><td>Garter snake        </td><td>thaSir1             </td><td>  7930              </td><td>1424897867          </td><td> 196576440          </td></tr>\n",
       "\t<tr><td>Lizard              </td><td>anoCar2             </td><td>  6457              </td><td>1799143587          </td><td>1342092644          </td></tr>\n",
       "\t<tr><td>Painted turtle      </td><td>chrPic1             </td><td> 80984              </td><td>2589745704          </td><td>1017560360          </td></tr>\n",
       "\t<tr><td>Medium ground finch </td><td>geoFor1             </td><td> 27239              </td><td>1065292181          </td><td> 706642168          </td></tr>\n",
       "\t<tr><td>Budgeriger          </td><td>melUnd1             </td><td> 25212              </td><td>1117373619          </td><td> 916424259          </td></tr>\n",
       "\t<tr><td>Golden eagle        </td><td>aquChr2             </td><td>  1141              </td><td>1192725744          </td><td> 968623067          </td></tr>\n",
       "\t<tr><td>Tasmanian devil     </td><td>sarHar1             </td><td> 35974              </td><td>3174693010          </td><td> 448039337          </td></tr>\n",
       "\t<tr><td>Cat                 </td><td>felCat9             </td><td>  4508              </td><td>2521863845          </td><td>2466876021          </td></tr>\n",
       "\t<tr><td>Gibbon              </td><td>nomLeu3             </td><td> 17492              </td><td>2962077449          </td><td>2827681089          </td></tr>\n",
       "\t<tr><td>Gorilla             </td><td>gorGor6             </td><td>  5486              </td><td>3044872214          </td><td>2810559693          </td></tr>\n",
       "\t<tr><td>Bonobo              </td><td>panPan2             </td><td> 10274              </td><td>3286643896          </td><td>3258583518          </td></tr>\n",
       "\t<tr><td>Green Monkey        </td><td>chlSab2             </td><td>  2004              </td><td>2789656328          </td><td>2774810371          </td></tr>\n",
       "\t<tr><td>Megabat             </td><td>pteVam1             </td><td> 96944              </td><td>1996076410          </td><td>  64264133          </td></tr>\n",
       "\t<tr><td>Microbat            </td><td>myoLuc2             </td><td> 11654              </td><td>2034575300          </td><td> 993500656          </td></tr>\n",
       "\t<tr><td>Naked mole rat      </td><td>hetGla2             </td><td>  4229              </td><td>2618204639          </td><td>2085625605          </td></tr>\n",
       "\t<tr><td>Orangutan           </td><td>ponAbe3             </td><td>  5261              </td><td>3065052215          </td><td>2876814468          </td></tr>\n",
       "\t<tr><td>Rabbit              </td><td>oryCun2             </td><td>  3242              </td><td>2737490501          </td><td>2496087104          </td></tr>\n",
       "\t<tr><td>Sheep               </td><td>oviAri4             </td><td>  5466              </td><td>2615516299          </td><td>2588893310          </td></tr>\n",
       "\t<tr><td>Squirrel            </td><td>speTri2             </td><td> 12483              </td><td>2478393770          </td><td>1396094084          </td></tr>\n",
       "\t<tr><td>Squirrel monkey     </td><td>saiBol1             </td><td>  2685              </td><td>2608572064          </td><td>2088596900          </td></tr>\n",
       "\t<tr><td>Shrew               </td><td>sorAra2             </td><td> 12845              </td><td>2423158183          </td><td>1993014356          </td></tr>\n",
       "\t<tr><td>Tree shrew          </td><td>tupBel1             </td><td>150851              </td><td>3660774957          </td><td>  70380856          </td></tr>\n",
       "\t<tr><td>Wallaby             </td><td>macEug2             </td><td>277711              </td><td>3075184024          </td><td>  23864414          </td></tr>\n",
       "\t<tr><td>White rhinoceros    </td><td>cerSim1             </td><td>  3087              </td><td>2464367180          </td><td>2255613433          </td></tr>\n",
       "</tbody>\n",
       "</table>\n"
      ],
      "text/latex": [
       "\\begin{tabular}{r|lllll}\n",
       " Name & genome & nchr & chrSumLength & chrSumLength\\_100\\\\\n",
       "\\hline\n",
       "\t Human                & hg38                 &    455               & 3209286105           & 3171759732          \\\\\n",
       "\t Mouse                & mm10                 &     66               & 2730871774           & 2730871774          \\\\\n",
       "\t Zebrafish            & danRer11             &   1923               & 1679203469           & 1390091111          \\\\\n",
       "\t Chicken              & galGal6              &    464               & 1065365425           & 1062298020          \\\\\n",
       "\t Zebra finch          & taeGut2              &  37096               & 1232135591           & 1047003328          \\\\\n",
       "\t Opossum              & monDom5              &     11               & 3605631728           & 3605631728          \\\\\n",
       "\t Cow                  & bosTau9              &   2211               & 2715853792           & 2657896138          \\\\\n",
       "\t Dog                  & canFam3              &   3268               & 2410976875           & 2356725059          \\\\\n",
       "\t Ferret               & musFur1              &   7741               & 2410758013           & 1458360456          \\\\\n",
       "\t Chimp                & panTro6              &   4346               & 3050398082           & 2888958340          \\\\\n",
       "\t Pig                  & susScr11             &    613               & 2501912388           & 2475593126          \\\\\n",
       "\t Rhesus               & rheMac10             &   2939               & 2971331530           & 2877905456          \\\\\n",
       "\t Lancelet             & braFlo1              &      2               &  926386587           &  926386587          \\\\\n",
       "\t Sea Hare             & aplCal1              &   8767               &  715806041           &   89582376          \\\\\n",
       "\t Lamprey              & petMar2              &  25006               &  885550958           &  109348046          \\\\\n",
       "\t Elephant shark       & calMil1              &  21204               &  974498586           &  638515969          \\\\\n",
       "\t Atlantic cod         & gadMor1              & 427428               &  824327835           &  199448216          \\\\\n",
       "\t Nile tilapia         & oreNil2              &   5678               &  927696114           &  784022008          \\\\\n",
       "\t Fugu                 & fr3                  &   6835               &  391484715           &  308944832          \\\\\n",
       "\t Coelacanth           & latCha1              &  22819               & 2860591921           &  375225220          \\\\\n",
       "\t Tropical clawed frog & xenTro9              &   6822               & 1440398454           & 1343881952          \\\\\n",
       "\t African clawed frog  & xenLae2              & 108033               & 2718433805           & 2645391720          \\\\\n",
       "\t Tibetan frog         & nanPar1              &  25187               & 2053849526           &  337425731          \\\\\n",
       "\t American alligator   & allMis1              &  14645               & 2174259888           &  200330421          \\\\\n",
       "\t Garter snake         & thaSir1              &   7930               & 1424897867           &  196576440          \\\\\n",
       "\t Lizard               & anoCar2              &   6457               & 1799143587           & 1342092644          \\\\\n",
       "\t Painted turtle       & chrPic1              &  80984               & 2589745704           & 1017560360          \\\\\n",
       "\t Medium ground finch  & geoFor1              &  27239               & 1065292181           &  706642168          \\\\\n",
       "\t Budgeriger           & melUnd1              &  25212               & 1117373619           &  916424259          \\\\\n",
       "\t Golden eagle         & aquChr2              &   1141               & 1192725744           &  968623067          \\\\\n",
       "\t Tasmanian devil      & sarHar1              &  35974               & 3174693010           &  448039337          \\\\\n",
       "\t Cat                  & felCat9              &   4508               & 2521863845           & 2466876021          \\\\\n",
       "\t Gibbon               & nomLeu3              &  17492               & 2962077449           & 2827681089          \\\\\n",
       "\t Gorilla              & gorGor6              &   5486               & 3044872214           & 2810559693          \\\\\n",
       "\t Bonobo               & panPan2              &  10274               & 3286643896           & 3258583518          \\\\\n",
       "\t Green Monkey         & chlSab2              &   2004               & 2789656328           & 2774810371          \\\\\n",
       "\t Megabat              & pteVam1              &  96944               & 1996076410           &   64264133          \\\\\n",
       "\t Microbat             & myoLuc2              &  11654               & 2034575300           &  993500656          \\\\\n",
       "\t Naked mole rat       & hetGla2              &   4229               & 2618204639           & 2085625605          \\\\\n",
       "\t Orangutan            & ponAbe3              &   5261               & 3065052215           & 2876814468          \\\\\n",
       "\t Rabbit               & oryCun2              &   3242               & 2737490501           & 2496087104          \\\\\n",
       "\t Sheep                & oviAri4              &   5466               & 2615516299           & 2588893310          \\\\\n",
       "\t Squirrel             & speTri2              &  12483               & 2478393770           & 1396094084          \\\\\n",
       "\t Squirrel monkey      & saiBol1              &   2685               & 2608572064           & 2088596900          \\\\\n",
       "\t Shrew                & sorAra2              &  12845               & 2423158183           & 1993014356          \\\\\n",
       "\t Tree shrew           & tupBel1              & 150851               & 3660774957           &   70380856          \\\\\n",
       "\t Wallaby              & macEug2              & 277711               & 3075184024           &   23864414          \\\\\n",
       "\t White rhinoceros     & cerSim1              &   3087               & 2464367180           & 2255613433          \\\\\n",
       "\\end{tabular}\n"
      ],
      "text/markdown": [
       "\n",
       "| Name | genome | nchr | chrSumLength | chrSumLength_100 |\n",
       "|---|---|---|---|---|\n",
       "| Human                | hg38                 |    455               | 3209286105           | 3171759732           |\n",
       "| Mouse                | mm10                 |     66               | 2730871774           | 2730871774           |\n",
       "| Zebrafish            | danRer11             |   1923               | 1679203469           | 1390091111           |\n",
       "| Chicken              | galGal6              |    464               | 1065365425           | 1062298020           |\n",
       "| Zebra finch          | taeGut2              |  37096               | 1232135591           | 1047003328           |\n",
       "| Opossum              | monDom5              |     11               | 3605631728           | 3605631728           |\n",
       "| Cow                  | bosTau9              |   2211               | 2715853792           | 2657896138           |\n",
       "| Dog                  | canFam3              |   3268               | 2410976875           | 2356725059           |\n",
       "| Ferret               | musFur1              |   7741               | 2410758013           | 1458360456           |\n",
       "| Chimp                | panTro6              |   4346               | 3050398082           | 2888958340           |\n",
       "| Pig                  | susScr11             |    613               | 2501912388           | 2475593126           |\n",
       "| Rhesus               | rheMac10             |   2939               | 2971331530           | 2877905456           |\n",
       "| Lancelet             | braFlo1              |      2               |  926386587           |  926386587           |\n",
       "| Sea Hare             | aplCal1              |   8767               |  715806041           |   89582376           |\n",
       "| Lamprey              | petMar2              |  25006               |  885550958           |  109348046           |\n",
       "| Elephant shark       | calMil1              |  21204               |  974498586           |  638515969           |\n",
       "| Atlantic cod         | gadMor1              | 427428               |  824327835           |  199448216           |\n",
       "| Nile tilapia         | oreNil2              |   5678               |  927696114           |  784022008           |\n",
       "| Fugu                 | fr3                  |   6835               |  391484715           |  308944832           |\n",
       "| Coelacanth           | latCha1              |  22819               | 2860591921           |  375225220           |\n",
       "| Tropical clawed frog | xenTro9              |   6822               | 1440398454           | 1343881952           |\n",
       "| African clawed frog  | xenLae2              | 108033               | 2718433805           | 2645391720           |\n",
       "| Tibetan frog         | nanPar1              |  25187               | 2053849526           |  337425731           |\n",
       "| American alligator   | allMis1              |  14645               | 2174259888           |  200330421           |\n",
       "| Garter snake         | thaSir1              |   7930               | 1424897867           |  196576440           |\n",
       "| Lizard               | anoCar2              |   6457               | 1799143587           | 1342092644           |\n",
       "| Painted turtle       | chrPic1              |  80984               | 2589745704           | 1017560360           |\n",
       "| Medium ground finch  | geoFor1              |  27239               | 1065292181           |  706642168           |\n",
       "| Budgeriger           | melUnd1              |  25212               | 1117373619           |  916424259           |\n",
       "| Golden eagle         | aquChr2              |   1141               | 1192725744           |  968623067           |\n",
       "| Tasmanian devil      | sarHar1              |  35974               | 3174693010           |  448039337           |\n",
       "| Cat                  | felCat9              |   4508               | 2521863845           | 2466876021           |\n",
       "| Gibbon               | nomLeu3              |  17492               | 2962077449           | 2827681089           |\n",
       "| Gorilla              | gorGor6              |   5486               | 3044872214           | 2810559693           |\n",
       "| Bonobo               | panPan2              |  10274               | 3286643896           | 3258583518           |\n",
       "| Green Monkey         | chlSab2              |   2004               | 2789656328           | 2774810371           |\n",
       "| Megabat              | pteVam1              |  96944               | 1996076410           |   64264133           |\n",
       "| Microbat             | myoLuc2              |  11654               | 2034575300           |  993500656           |\n",
       "| Naked mole rat       | hetGla2              |   4229               | 2618204639           | 2085625605           |\n",
       "| Orangutan            | ponAbe3              |   5261               | 3065052215           | 2876814468           |\n",
       "| Rabbit               | oryCun2              |   3242               | 2737490501           | 2496087104           |\n",
       "| Sheep                | oviAri4              |   5466               | 2615516299           | 2588893310           |\n",
       "| Squirrel             | speTri2              |  12483               | 2478393770           | 1396094084           |\n",
       "| Squirrel monkey      | saiBol1              |   2685               | 2608572064           | 2088596900           |\n",
       "| Shrew                | sorAra2              |  12845               | 2423158183           | 1993014356           |\n",
       "| Tree shrew           | tupBel1              | 150851               | 3660774957           |   70380856           |\n",
       "| Wallaby              | macEug2              | 277711               | 3075184024           |   23864414           |\n",
       "| White rhinoceros     | cerSim1              |   3087               | 2464367180           | 2255613433           |\n",
       "\n"
      ],
      "text/plain": [
       "   Name                 genome   nchr   chrSumLength chrSumLength_100\n",
       "1  Human                hg38        455 3209286105   3171759732      \n",
       "2  Mouse                mm10         66 2730871774   2730871774      \n",
       "3  Zebrafish            danRer11   1923 1679203469   1390091111      \n",
       "4  Chicken              galGal6     464 1065365425   1062298020      \n",
       "5  Zebra finch          taeGut2   37096 1232135591   1047003328      \n",
       "6  Opossum              monDom5      11 3605631728   3605631728      \n",
       "7  Cow                  bosTau9    2211 2715853792   2657896138      \n",
       "8  Dog                  canFam3    3268 2410976875   2356725059      \n",
       "9  Ferret               musFur1    7741 2410758013   1458360456      \n",
       "10 Chimp                panTro6    4346 3050398082   2888958340      \n",
       "11 Pig                  susScr11    613 2501912388   2475593126      \n",
       "12 Rhesus               rheMac10   2939 2971331530   2877905456      \n",
       "13 Lancelet             braFlo1       2  926386587    926386587      \n",
       "14 Sea Hare             aplCal1    8767  715806041     89582376      \n",
       "15 Lamprey              petMar2   25006  885550958    109348046      \n",
       "16 Elephant shark       calMil1   21204  974498586    638515969      \n",
       "17 Atlantic cod         gadMor1  427428  824327835    199448216      \n",
       "18 Nile tilapia         oreNil2    5678  927696114    784022008      \n",
       "19 Fugu                 fr3        6835  391484715    308944832      \n",
       "20 Coelacanth           latCha1   22819 2860591921    375225220      \n",
       "21 Tropical clawed frog xenTro9    6822 1440398454   1343881952      \n",
       "22 African clawed frog  xenLae2  108033 2718433805   2645391720      \n",
       "23 Tibetan frog         nanPar1   25187 2053849526    337425731      \n",
       "24 American alligator   allMis1   14645 2174259888    200330421      \n",
       "25 Garter snake         thaSir1    7930 1424897867    196576440      \n",
       "26 Lizard               anoCar2    6457 1799143587   1342092644      \n",
       "27 Painted turtle       chrPic1   80984 2589745704   1017560360      \n",
       "28 Medium ground finch  geoFor1   27239 1065292181    706642168      \n",
       "29 Budgeriger           melUnd1   25212 1117373619    916424259      \n",
       "30 Golden eagle         aquChr2    1141 1192725744    968623067      \n",
       "31 Tasmanian devil      sarHar1   35974 3174693010    448039337      \n",
       "32 Cat                  felCat9    4508 2521863845   2466876021      \n",
       "33 Gibbon               nomLeu3   17492 2962077449   2827681089      \n",
       "34 Gorilla              gorGor6    5486 3044872214   2810559693      \n",
       "35 Bonobo               panPan2   10274 3286643896   3258583518      \n",
       "36 Green Monkey         chlSab2    2004 2789656328   2774810371      \n",
       "37 Megabat              pteVam1   96944 1996076410     64264133      \n",
       "38 Microbat             myoLuc2   11654 2034575300    993500656      \n",
       "39 Naked mole rat       hetGla2    4229 2618204639   2085625605      \n",
       "40 Orangutan            ponAbe3    5261 3065052215   2876814468      \n",
       "41 Rabbit               oryCun2    3242 2737490501   2496087104      \n",
       "42 Sheep                oviAri4    5466 2615516299   2588893310      \n",
       "43 Squirrel             speTri2   12483 2478393770   1396094084      \n",
       "44 Squirrel monkey      saiBol1    2685 2608572064   2088596900      \n",
       "45 Shrew                sorAra2   12845 2423158183   1993014356      \n",
       "46 Tree shrew           tupBel1  150851 3660774957     70380856      \n",
       "47 Wallaby              macEug2  277711 3075184024     23864414      \n",
       "48 White rhinoceros     cerSim1    3087 2464367180   2255613433      "
      ]
     },
     "metadata": {},
     "output_type": "display_data"
    }
   ],
   "source": [
    "chrLengthStats"
   ]
  },
  {
   "cell_type": "code",
   "execution_count": 73,
   "metadata": {},
   "outputs": [
    {
     "data": {
      "text/html": [
       "<table>\n",
       "<thead><tr><th scope=col>Name</th><th scope=col>genome</th><th scope=col>nchr</th><th scope=col>chrSumLength</th><th scope=col>chrSumLength_100</th></tr></thead>\n",
       "<tbody>\n",
       "\t<tr><td>Zebra finch        </td><td>taeGut2            </td><td> 37096             </td><td>1232135591         </td><td>1047003328         </td></tr>\n",
       "\t<tr><td>Lamprey            </td><td>petMar2            </td><td> 25006             </td><td> 885550958         </td><td> 109348046         </td></tr>\n",
       "\t<tr><td>Elephant shark     </td><td>calMil1            </td><td> 21204             </td><td> 974498586         </td><td> 638515969         </td></tr>\n",
       "\t<tr><td>Atlantic cod       </td><td>gadMor1            </td><td>427428             </td><td> 824327835         </td><td> 199448216         </td></tr>\n",
       "\t<tr><td>Coelacanth         </td><td>latCha1            </td><td> 22819             </td><td>2860591921         </td><td> 375225220         </td></tr>\n",
       "\t<tr><td>African clawed frog</td><td>xenLae2            </td><td>108033             </td><td>2718433805         </td><td>2645391720         </td></tr>\n",
       "\t<tr><td>Tibetan frog       </td><td>nanPar1            </td><td> 25187             </td><td>2053849526         </td><td> 337425731         </td></tr>\n",
       "\t<tr><td>American alligator </td><td>allMis1            </td><td> 14645             </td><td>2174259888         </td><td> 200330421         </td></tr>\n",
       "\t<tr><td>Painted turtle     </td><td>chrPic1            </td><td> 80984             </td><td>2589745704         </td><td>1017560360         </td></tr>\n",
       "\t<tr><td>Medium ground finch</td><td>geoFor1            </td><td> 27239             </td><td>1065292181         </td><td> 706642168         </td></tr>\n",
       "\t<tr><td>Budgeriger         </td><td>melUnd1            </td><td> 25212             </td><td>1117373619         </td><td> 916424259         </td></tr>\n",
       "\t<tr><td>Tasmanian devil    </td><td>sarHar1            </td><td> 35974             </td><td>3174693010         </td><td> 448039337         </td></tr>\n",
       "\t<tr><td>Gibbon             </td><td>nomLeu3            </td><td> 17492             </td><td>2962077449         </td><td>2827681089         </td></tr>\n",
       "\t<tr><td>Bonobo             </td><td>panPan2            </td><td> 10274             </td><td>3286643896         </td><td>3258583518         </td></tr>\n",
       "\t<tr><td>Megabat            </td><td>pteVam1            </td><td> 96944             </td><td>1996076410         </td><td>  64264133         </td></tr>\n",
       "\t<tr><td>Microbat           </td><td>myoLuc2            </td><td> 11654             </td><td>2034575300         </td><td> 993500656         </td></tr>\n",
       "\t<tr><td>Squirrel           </td><td>speTri2            </td><td> 12483             </td><td>2478393770         </td><td>1396094084         </td></tr>\n",
       "\t<tr><td>Shrew              </td><td>sorAra2            </td><td> 12845             </td><td>2423158183         </td><td>1993014356         </td></tr>\n",
       "\t<tr><td>Tree shrew         </td><td>tupBel1            </td><td>150851             </td><td>3660774957         </td><td>  70380856         </td></tr>\n",
       "\t<tr><td>Wallaby            </td><td>macEug2            </td><td>277711             </td><td>3075184024         </td><td>  23864414         </td></tr>\n",
       "</tbody>\n",
       "</table>\n"
      ],
      "text/latex": [
       "\\begin{tabular}{r|lllll}\n",
       " Name & genome & nchr & chrSumLength & chrSumLength\\_100\\\\\n",
       "\\hline\n",
       "\t Zebra finch         & taeGut2             &  37096              & 1232135591          & 1047003328         \\\\\n",
       "\t Lamprey             & petMar2             &  25006              &  885550958          &  109348046         \\\\\n",
       "\t Elephant shark      & calMil1             &  21204              &  974498586          &  638515969         \\\\\n",
       "\t Atlantic cod        & gadMor1             & 427428              &  824327835          &  199448216         \\\\\n",
       "\t Coelacanth          & latCha1             &  22819              & 2860591921          &  375225220         \\\\\n",
       "\t African clawed frog & xenLae2             & 108033              & 2718433805          & 2645391720         \\\\\n",
       "\t Tibetan frog        & nanPar1             &  25187              & 2053849526          &  337425731         \\\\\n",
       "\t American alligator  & allMis1             &  14645              & 2174259888          &  200330421         \\\\\n",
       "\t Painted turtle      & chrPic1             &  80984              & 2589745704          & 1017560360         \\\\\n",
       "\t Medium ground finch & geoFor1             &  27239              & 1065292181          &  706642168         \\\\\n",
       "\t Budgeriger          & melUnd1             &  25212              & 1117373619          &  916424259         \\\\\n",
       "\t Tasmanian devil     & sarHar1             &  35974              & 3174693010          &  448039337         \\\\\n",
       "\t Gibbon              & nomLeu3             &  17492              & 2962077449          & 2827681089         \\\\\n",
       "\t Bonobo              & panPan2             &  10274              & 3286643896          & 3258583518         \\\\\n",
       "\t Megabat             & pteVam1             &  96944              & 1996076410          &   64264133         \\\\\n",
       "\t Microbat            & myoLuc2             &  11654              & 2034575300          &  993500656         \\\\\n",
       "\t Squirrel            & speTri2             &  12483              & 2478393770          & 1396094084         \\\\\n",
       "\t Shrew               & sorAra2             &  12845              & 2423158183          & 1993014356         \\\\\n",
       "\t Tree shrew          & tupBel1             & 150851              & 3660774957          &   70380856         \\\\\n",
       "\t Wallaby             & macEug2             & 277711              & 3075184024          &   23864414         \\\\\n",
       "\\end{tabular}\n"
      ],
      "text/markdown": [
       "\n",
       "| Name | genome | nchr | chrSumLength | chrSumLength_100 |\n",
       "|---|---|---|---|---|\n",
       "| Zebra finch         | taeGut2             |  37096              | 1232135591          | 1047003328          |\n",
       "| Lamprey             | petMar2             |  25006              |  885550958          |  109348046          |\n",
       "| Elephant shark      | calMil1             |  21204              |  974498586          |  638515969          |\n",
       "| Atlantic cod        | gadMor1             | 427428              |  824327835          |  199448216          |\n",
       "| Coelacanth          | latCha1             |  22819              | 2860591921          |  375225220          |\n",
       "| African clawed frog | xenLae2             | 108033              | 2718433805          | 2645391720          |\n",
       "| Tibetan frog        | nanPar1             |  25187              | 2053849526          |  337425731          |\n",
       "| American alligator  | allMis1             |  14645              | 2174259888          |  200330421          |\n",
       "| Painted turtle      | chrPic1             |  80984              | 2589745704          | 1017560360          |\n",
       "| Medium ground finch | geoFor1             |  27239              | 1065292181          |  706642168          |\n",
       "| Budgeriger          | melUnd1             |  25212              | 1117373619          |  916424259          |\n",
       "| Tasmanian devil     | sarHar1             |  35974              | 3174693010          |  448039337          |\n",
       "| Gibbon              | nomLeu3             |  17492              | 2962077449          | 2827681089          |\n",
       "| Bonobo              | panPan2             |  10274              | 3286643896          | 3258583518          |\n",
       "| Megabat             | pteVam1             |  96944              | 1996076410          |   64264133          |\n",
       "| Microbat            | myoLuc2             |  11654              | 2034575300          |  993500656          |\n",
       "| Squirrel            | speTri2             |  12483              | 2478393770          | 1396094084          |\n",
       "| Shrew               | sorAra2             |  12845              | 2423158183          | 1993014356          |\n",
       "| Tree shrew          | tupBel1             | 150851              | 3660774957          |   70380856          |\n",
       "| Wallaby             | macEug2             | 277711              | 3075184024          |   23864414          |\n",
       "\n"
      ],
      "text/plain": [
       "   Name                genome  nchr   chrSumLength chrSumLength_100\n",
       "1  Zebra finch         taeGut2  37096 1232135591   1047003328      \n",
       "2  Lamprey             petMar2  25006  885550958    109348046      \n",
       "3  Elephant shark      calMil1  21204  974498586    638515969      \n",
       "4  Atlantic cod        gadMor1 427428  824327835    199448216      \n",
       "5  Coelacanth          latCha1  22819 2860591921    375225220      \n",
       "6  African clawed frog xenLae2 108033 2718433805   2645391720      \n",
       "7  Tibetan frog        nanPar1  25187 2053849526    337425731      \n",
       "8  American alligator  allMis1  14645 2174259888    200330421      \n",
       "9  Painted turtle      chrPic1  80984 2589745704   1017560360      \n",
       "10 Medium ground finch geoFor1  27239 1065292181    706642168      \n",
       "11 Budgeriger          melUnd1  25212 1117373619    916424259      \n",
       "12 Tasmanian devil     sarHar1  35974 3174693010    448039337      \n",
       "13 Gibbon              nomLeu3  17492 2962077449   2827681089      \n",
       "14 Bonobo              panPan2  10274 3286643896   3258583518      \n",
       "15 Megabat             pteVam1  96944 1996076410     64264133      \n",
       "16 Microbat            myoLuc2  11654 2034575300    993500656      \n",
       "17 Squirrel            speTri2  12483 2478393770   1396094084      \n",
       "18 Shrew               sorAra2  12845 2423158183   1993014356      \n",
       "19 Tree shrew          tupBel1 150851 3660774957     70380856      \n",
       "20 Wallaby             macEug2 277711 3075184024     23864414      "
      ]
     },
     "metadata": {},
     "output_type": "display_data"
    }
   ],
   "source": [
    "chrLengthStats[nchr > 10000]"
   ]
  },
  {
   "cell_type": "code",
   "execution_count": 78,
   "metadata": {},
   "outputs": [],
   "source": [
    "write.table(chrLengthStats, file.path(output_dir, \"chromSizeStats.tsv\"), sep = \"\\t\", quote = F)"
   ]
  }
 ],
 "metadata": {
  "kernelspec": {
   "display_name": "R_compEpi",
   "language": "R",
   "name": "r_compepi"
  },
  "language_info": {
   "codemirror_mode": "r",
   "file_extension": ".r",
   "mimetype": "text/x-r-source",
   "name": "R",
   "pygments_lexer": "r",
   "version": "3.6.3"
  }
 },
 "nbformat": 4,
 "nbformat_minor": 4
}
