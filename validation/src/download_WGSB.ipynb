{
 "cells": [
  {
   "cell_type": "code",
   "execution_count": 1,
   "id": "261ad1c0",
   "metadata": {
    "tags": []
   },
   "outputs": [
    {
     "name": "stderr",
     "output_type": "stream",
     "text": [
      "Loading required package: Biobase\n",
      "\n",
      "Loading required package: BiocGenerics\n",
      "\n",
      "Loading required package: parallel\n",
      "\n",
      "\n",
      "Attaching package: ‘BiocGenerics’\n",
      "\n",
      "\n",
      "The following objects are masked from ‘package:parallel’:\n",
      "\n",
      "    clusterApply, clusterApplyLB, clusterCall, clusterEvalQ,\n",
      "    clusterExport, clusterMap, parApply, parCapply, parLapply,\n",
      "    parLapplyLB, parRapply, parSapply, parSapplyLB\n",
      "\n",
      "\n",
      "The following objects are masked from ‘package:stats’:\n",
      "\n",
      "    IQR, mad, sd, var, xtabs\n",
      "\n",
      "\n",
      "The following objects are masked from ‘package:base’:\n",
      "\n",
      "    anyDuplicated, append, as.data.frame, basename, cbind, colnames,\n",
      "    dirname, do.call, duplicated, eval, evalq, Filter, Find, get, grep,\n",
      "    grepl, intersect, is.unsorted, lapply, Map, mapply, match, mget,\n",
      "    order, paste, pmax, pmax.int, pmin, pmin.int, Position, rank,\n",
      "    rbind, Reduce, rownames, sapply, setdiff, sort, table, tapply,\n",
      "    union, unique, unsplit, which, which.max, which.min\n",
      "\n",
      "\n",
      "Welcome to Bioconductor\n",
      "\n",
      "    Vignettes contain introductory material; view with\n",
      "    'browseVignettes()'. To cite Bioconductor, see\n",
      "    'citation(\"Biobase\")', and for packages 'citation(\"pkgname\")'.\n",
      "\n",
      "\n",
      "Setting options('download.file.method.GEOquery'='auto')\n",
      "\n",
      "Setting options('GEOquery.inmemory.gpl'=FALSE)\n",
      "\n"
     ]
    }
   ],
   "source": [
    "library(GEOquery)"
   ]
  },
  {
   "cell_type": "code",
   "execution_count": 16,
   "id": "6702839c",
   "metadata": {
    "tags": []
   },
   "outputs": [
    {
     "name": "stderr",
     "output_type": "stream",
     "text": [
      "\n",
      "Attaching package: ‘data.table’\n",
      "\n",
      "\n",
      "The following objects are masked from ‘package:dplyr’:\n",
      "\n",
      "    between, first, last\n",
      "\n",
      "\n"
     ]
    }
   ],
   "source": [
    "library(dplyr)\n",
    "library(data.table)"
   ]
  },
  {
   "cell_type": "code",
   "execution_count": 3,
   "id": "2e67339e",
   "metadata": {},
   "outputs": [],
   "source": [
    "#Function, that downloads the annotation table based on the gse_query:\n",
    "get_gse_df <- function(gse_query){\n",
    "    gse <- getGEO(gse_query)\n",
    "    gse <- gse[[1]]\n",
    "    df <- pData(gse)\n",
    "    \n",
    "    return(df)\n",
    "}"
   ]
  },
  {
   "cell_type": "code",
   "execution_count": 4,
   "id": "7392b5c3",
   "metadata": {},
   "outputs": [],
   "source": [
    "##function how to handle 2 bedgraph files (ratio and coverage)\n",
    "download_coverage_and_ratio_bedgraph <- function(path_cov, path_ratio, dir_to_save, id_to_save){\n",
    "    ####ratio\n",
    "    ##download\n",
    "    cmd = paste0(\"wget \", path_ratio, \" -P \", dir_to_save)\n",
    "    system(cmd)\n",
    "    ##unzip\n",
    "    id <- strsplit(as.character(path_ratio), \"/\")[[1]]\n",
    "    id_ratio <- id[length(id)]\n",
    "    cmd =  paste0(\"gunzip \", dir_to_save, id_ratio)\n",
    "    system(cmd)\n",
    "    ####coverage\n",
    "    ##download\n",
    "    cmd = paste0(\"wget \", path_cov, \" -P \", dir_to_save)\n",
    "    system(cmd)\n",
    "    ##unzip\n",
    "    id <- strsplit(as.character(path_cov), \"/\")[[1]]\n",
    "    id_cov <- id[length(id)]\n",
    "    cmd =  paste0(\"gunzip \", dir_to_save, id_cov)\n",
    "    system(cmd)\n",
    "    \n",
    "    ##merge\n",
    "    df_cov <- read.table(paste0(dir_to_save, gsub(\".gz\", \"\", id_cov)), skip = 1, sep = \"\\t\")\n",
    "    colnames(df_cov) <- c(\"chr\", \"start\", \"end\", \"cov\")\n",
    "    \n",
    "    df_ratio <- read.table(paste0(dir_to_save, gsub(\".gz\", \"\", id_ratio)), skip = 1, sep = \"\\t\")\n",
    "    colnames(df_ratio) <- c(\"chr\", \"start\", \"end\", \"ratio\")\n",
    "    \n",
    "    df <- full_join(df_ratio, df_cov)\n",
    "    write.table(df, paste0(dir_to_save, id_to_save,\".tsv\"), sep = \"\\t\", row.names = F, quote = F)\n",
    "    \n",
    "    print(\"done\")\n",
    "    \n",
    "}"
   ]
  },
  {
   "cell_type": "code",
   "execution_count": 5,
   "id": "5b4b0117",
   "metadata": {},
   "outputs": [],
   "source": [
    "download_cpg_report <- function(path, dir_to_save){\n",
    "     ##download\n",
    "    cmd = paste0(\"wget \", path, \" -P \", dir_to_save)\n",
    "    system(cmd)\n",
    "    ##unzip\n",
    "    id <- strsplit(as.character(path), \"/\")[[1]]\n",
    "    id<- id[length(id)]\n",
    "    cmd =  paste0(\"gunzip \", dir_to_save, id)\n",
    "    system(cmd)\n",
    "}"
   ]
  },
  {
   "cell_type": "markdown",
   "id": "e60639c8",
   "metadata": {},
   "source": [
    "## Gallus gallus time series dataset"
   ]
  },
  {
   "cell_type": "code",
   "execution_count": 6,
   "id": "61881dfd",
   "metadata": {
    "collapsed": true,
    "jupyter": {
     "outputs_hidden": true
    },
    "tags": []
   },
   "outputs": [
    {
     "name": "stderr",
     "output_type": "stream",
     "text": [
      "Found 1 file(s)\n",
      "\n",
      "GSE146620_series_matrix.txt.gz\n",
      "\n",
      "Using locally cached version: /tmp/Rtmp5XEq1S/GSE146620_series_matrix.txt.gz\n",
      "\n",
      "\n",
      "\u001b[36m──\u001b[39m \u001b[1m\u001b[1mColumn specification\u001b[1m\u001b[22m \u001b[36m────────────────────────────────────────────────────────\u001b[39m\n",
      "cols(\n",
      "  .default = col_character()\n",
      ")\n",
      "\u001b[36mℹ\u001b[39m Use \u001b[30m\u001b[47m\u001b[30m\u001b[47m`spec()`\u001b[47m\u001b[30m\u001b[49m\u001b[39m for the full column specifications.\n",
      "\n",
      "\n",
      "Using locally cached version of GPL24517 found here:\n",
      "/tmp/Rtmp5XEq1S/GPL24517.soft \n",
      "\n"
     ]
    }
   ],
   "source": [
    "df_gallus <- get_gse_df(\"GSE146620\")"
   ]
  },
  {
   "cell_type": "code",
   "execution_count": 7,
   "id": "f18eab68",
   "metadata": {
    "collapsed": true,
    "jupyter": {
     "outputs_hidden": true
    },
    "tags": []
   },
   "outputs": [
    {
     "data": {
      "text/html": [
       "<table class=\"dataframe\">\n",
       "<caption>A data.frame: 6 × 44</caption>\n",
       "<thead>\n",
       "\t<tr><th></th><th scope=col>title</th><th scope=col>geo_accession</th><th scope=col>status</th><th scope=col>submission_date</th><th scope=col>last_update_date</th><th scope=col>type</th><th scope=col>channel_count</th><th scope=col>source_name_ch1</th><th scope=col>organism_ch1</th><th scope=col>characteristics_ch1</th><th scope=col>⋯</th><th scope=col>library_source</th><th scope=col>library_strategy</th><th scope=col>relation</th><th scope=col>relation.1</th><th scope=col>supplementary_file_1</th><th scope=col>supplementary_file_2</th><th scope=col>age:ch1</th><th scope=col>disease state:ch1</th><th scope=col>tissue:ch1</th><th scope=col>treatment:ch1</th></tr>\n",
       "\t<tr><th></th><th scope=col>&lt;fct&gt;</th><th scope=col>&lt;chr&gt;</th><th scope=col>&lt;fct&gt;</th><th scope=col>&lt;fct&gt;</th><th scope=col>&lt;fct&gt;</th><th scope=col>&lt;fct&gt;</th><th scope=col>&lt;fct&gt;</th><th scope=col>&lt;fct&gt;</th><th scope=col>&lt;fct&gt;</th><th scope=col>&lt;fct&gt;</th><th scope=col>⋯</th><th scope=col>&lt;fct&gt;</th><th scope=col>&lt;fct&gt;</th><th scope=col>&lt;fct&gt;</th><th scope=col>&lt;fct&gt;</th><th scope=col>&lt;fct&gt;</th><th scope=col>&lt;fct&gt;</th><th scope=col>&lt;chr&gt;</th><th scope=col>&lt;chr&gt;</th><th scope=col>&lt;chr&gt;</th><th scope=col>&lt;chr&gt;</th></tr>\n",
       "</thead>\n",
       "<tbody>\n",
       "\t<tr><th scope=row>GSM4399753</th><td>Breast_1_d3 </td><td>GSM4399753</td><td>Public on Nov 30 2020</td><td>Mar 09 2020</td><td>Dec 01 2020</td><td>SRA</td><td>1</td><td>breast tissue</td><td>Gallus gallus</td><td>treatment: No treatment</td><td>⋯</td><td>genomic</td><td>Bisulfite-Seq</td><td>BioSample: https://www.ncbi.nlm.nih.gov/biosample/SAMN14333161</td><td>SRA: https://www.ncbi.nlm.nih.gov/sra?term=SRX7885080</td><td>ftp://ftp.ncbi.nlm.nih.gov/geo/samples/GSM4399nnn/GSM4399753/suppl/GSM4399753_Breast_1_d3_cov.bedgraph.gz </td><td>ftp://ftp.ncbi.nlm.nih.gov/geo/samples/GSM4399nnn/GSM4399753/suppl/GSM4399753_Breast_1_d3_ratio.bedgraph.gz </td><td>3 days after birth </td><td>healthy</td><td>breast tissue</td><td>No treatment</td></tr>\n",
       "\t<tr><th scope=row>GSM4399754</th><td>Breast_1_d15</td><td>GSM4399754</td><td>Public on Nov 30 2020</td><td>Mar 09 2020</td><td>Dec 01 2020</td><td>SRA</td><td>1</td><td>breast tissue</td><td>Gallus gallus</td><td>treatment: No treatment</td><td>⋯</td><td>genomic</td><td>Bisulfite-Seq</td><td>BioSample: https://www.ncbi.nlm.nih.gov/biosample/SAMN14333160</td><td>SRA: https://www.ncbi.nlm.nih.gov/sra?term=SRX7885086</td><td>ftp://ftp.ncbi.nlm.nih.gov/geo/samples/GSM4399nnn/GSM4399754/suppl/GSM4399754_Breast_1_d15_cov.bedgraph.gz</td><td>ftp://ftp.ncbi.nlm.nih.gov/geo/samples/GSM4399nnn/GSM4399754/suppl/GSM4399754_Breast_1_d15_ratio.bedgraph.gz</td><td>15 days after birth</td><td>healthy</td><td>breast tissue</td><td>No treatment</td></tr>\n",
       "\t<tr><th scope=row>GSM4399755</th><td>Breast_1_d28</td><td>GSM4399755</td><td>Public on Nov 30 2020</td><td>Mar 09 2020</td><td>Dec 01 2020</td><td>SRA</td><td>1</td><td>breast tissue</td><td>Gallus gallus</td><td>treatment: No treatment</td><td>⋯</td><td>genomic</td><td>Bisulfite-Seq</td><td>BioSample: https://www.ncbi.nlm.nih.gov/biosample/SAMN14333159</td><td>SRA: https://www.ncbi.nlm.nih.gov/sra?term=SRX7885087</td><td>ftp://ftp.ncbi.nlm.nih.gov/geo/samples/GSM4399nnn/GSM4399755/suppl/GSM4399755_Breast_1_d28_cov.bedgraph.gz</td><td>ftp://ftp.ncbi.nlm.nih.gov/geo/samples/GSM4399nnn/GSM4399755/suppl/GSM4399755_Breast_1_d28_ratio.bedgraph.gz</td><td>28 days after birth</td><td>healthy</td><td>breast tissue</td><td>No treatment</td></tr>\n",
       "\t<tr><th scope=row>GSM4399756</th><td>Breast_1_d34</td><td>GSM4399756</td><td>Public on Nov 30 2020</td><td>Mar 09 2020</td><td>Dec 01 2020</td><td>SRA</td><td>1</td><td>breast tissue</td><td>Gallus gallus</td><td>treatment: No treatment</td><td>⋯</td><td>genomic</td><td>Bisulfite-Seq</td><td>BioSample: https://www.ncbi.nlm.nih.gov/biosample/SAMN14333158</td><td>SRA: https://www.ncbi.nlm.nih.gov/sra?term=SRX7885088</td><td>ftp://ftp.ncbi.nlm.nih.gov/geo/samples/GSM4399nnn/GSM4399756/suppl/GSM4399756_Breast_1_d34_cov.bedgraph.gz</td><td>ftp://ftp.ncbi.nlm.nih.gov/geo/samples/GSM4399nnn/GSM4399756/suppl/GSM4399756_Breast_1_d34_ratio.bedgraph.gz</td><td>34 days after birth</td><td>healthy</td><td>breast tissue</td><td>No treatment</td></tr>\n",
       "\t<tr><th scope=row>GSM4399757</th><td>Breast_2_d3 </td><td>GSM4399757</td><td>Public on Nov 30 2020</td><td>Mar 09 2020</td><td>Dec 01 2020</td><td>SRA</td><td>1</td><td>breast tissue</td><td>Gallus gallus</td><td>treatment: No treatment</td><td>⋯</td><td>genomic</td><td>Bisulfite-Seq</td><td>BioSample: https://www.ncbi.nlm.nih.gov/biosample/SAMN14333157</td><td>SRA: https://www.ncbi.nlm.nih.gov/sra?term=SRX7885089</td><td>ftp://ftp.ncbi.nlm.nih.gov/geo/samples/GSM4399nnn/GSM4399757/suppl/GSM4399757_Breast_2_d3_cov.bedgraph.gz </td><td>ftp://ftp.ncbi.nlm.nih.gov/geo/samples/GSM4399nnn/GSM4399757/suppl/GSM4399757_Breast_2_d3_ratio.bedgraph.gz </td><td>3 days after birth </td><td>healthy</td><td>breast tissue</td><td>No treatment</td></tr>\n",
       "\t<tr><th scope=row>GSM4399758</th><td>Breast_2_d15</td><td>GSM4399758</td><td>Public on Nov 30 2020</td><td>Mar 09 2020</td><td>Dec 01 2020</td><td>SRA</td><td>1</td><td>breast tissue</td><td>Gallus gallus</td><td>treatment: No treatment</td><td>⋯</td><td>genomic</td><td>Bisulfite-Seq</td><td>BioSample: https://www.ncbi.nlm.nih.gov/biosample/SAMN14333156</td><td>SRA: https://www.ncbi.nlm.nih.gov/sra?term=SRX7885090</td><td>ftp://ftp.ncbi.nlm.nih.gov/geo/samples/GSM4399nnn/GSM4399758/suppl/GSM4399758_Breast_2_d15_cov.bedgraph.gz</td><td>ftp://ftp.ncbi.nlm.nih.gov/geo/samples/GSM4399nnn/GSM4399758/suppl/GSM4399758_Breast_2_d15_ratio.bedgraph.gz</td><td>15 days after birth</td><td>healthy</td><td>breast tissue</td><td>No treatment</td></tr>\n",
       "</tbody>\n",
       "</table>\n"
      ],
      "text/latex": [
       "A data.frame: 6 × 44\n",
       "\\begin{tabular}{r|lllllllllllllllllllll}\n",
       "  & title & geo\\_accession & status & submission\\_date & last\\_update\\_date & type & channel\\_count & source\\_name\\_ch1 & organism\\_ch1 & characteristics\\_ch1 & ⋯ & library\\_source & library\\_strategy & relation & relation.1 & supplementary\\_file\\_1 & supplementary\\_file\\_2 & age:ch1 & disease state:ch1 & tissue:ch1 & treatment:ch1\\\\\n",
       "  & <fct> & <chr> & <fct> & <fct> & <fct> & <fct> & <fct> & <fct> & <fct> & <fct> & ⋯ & <fct> & <fct> & <fct> & <fct> & <fct> & <fct> & <chr> & <chr> & <chr> & <chr>\\\\\n",
       "\\hline\n",
       "\tGSM4399753 & Breast\\_1\\_d3  & GSM4399753 & Public on Nov 30 2020 & Mar 09 2020 & Dec 01 2020 & SRA & 1 & breast tissue & Gallus gallus & treatment: No treatment & ⋯ & genomic & Bisulfite-Seq & BioSample: https://www.ncbi.nlm.nih.gov/biosample/SAMN14333161 & SRA: https://www.ncbi.nlm.nih.gov/sra?term=SRX7885080 & ftp://ftp.ncbi.nlm.nih.gov/geo/samples/GSM4399nnn/GSM4399753/suppl/GSM4399753\\_Breast\\_1\\_d3\\_cov.bedgraph.gz  & ftp://ftp.ncbi.nlm.nih.gov/geo/samples/GSM4399nnn/GSM4399753/suppl/GSM4399753\\_Breast\\_1\\_d3\\_ratio.bedgraph.gz  & 3 days after birth  & healthy & breast tissue & No treatment\\\\\n",
       "\tGSM4399754 & Breast\\_1\\_d15 & GSM4399754 & Public on Nov 30 2020 & Mar 09 2020 & Dec 01 2020 & SRA & 1 & breast tissue & Gallus gallus & treatment: No treatment & ⋯ & genomic & Bisulfite-Seq & BioSample: https://www.ncbi.nlm.nih.gov/biosample/SAMN14333160 & SRA: https://www.ncbi.nlm.nih.gov/sra?term=SRX7885086 & ftp://ftp.ncbi.nlm.nih.gov/geo/samples/GSM4399nnn/GSM4399754/suppl/GSM4399754\\_Breast\\_1\\_d15\\_cov.bedgraph.gz & ftp://ftp.ncbi.nlm.nih.gov/geo/samples/GSM4399nnn/GSM4399754/suppl/GSM4399754\\_Breast\\_1\\_d15\\_ratio.bedgraph.gz & 15 days after birth & healthy & breast tissue & No treatment\\\\\n",
       "\tGSM4399755 & Breast\\_1\\_d28 & GSM4399755 & Public on Nov 30 2020 & Mar 09 2020 & Dec 01 2020 & SRA & 1 & breast tissue & Gallus gallus & treatment: No treatment & ⋯ & genomic & Bisulfite-Seq & BioSample: https://www.ncbi.nlm.nih.gov/biosample/SAMN14333159 & SRA: https://www.ncbi.nlm.nih.gov/sra?term=SRX7885087 & ftp://ftp.ncbi.nlm.nih.gov/geo/samples/GSM4399nnn/GSM4399755/suppl/GSM4399755\\_Breast\\_1\\_d28\\_cov.bedgraph.gz & ftp://ftp.ncbi.nlm.nih.gov/geo/samples/GSM4399nnn/GSM4399755/suppl/GSM4399755\\_Breast\\_1\\_d28\\_ratio.bedgraph.gz & 28 days after birth & healthy & breast tissue & No treatment\\\\\n",
       "\tGSM4399756 & Breast\\_1\\_d34 & GSM4399756 & Public on Nov 30 2020 & Mar 09 2020 & Dec 01 2020 & SRA & 1 & breast tissue & Gallus gallus & treatment: No treatment & ⋯ & genomic & Bisulfite-Seq & BioSample: https://www.ncbi.nlm.nih.gov/biosample/SAMN14333158 & SRA: https://www.ncbi.nlm.nih.gov/sra?term=SRX7885088 & ftp://ftp.ncbi.nlm.nih.gov/geo/samples/GSM4399nnn/GSM4399756/suppl/GSM4399756\\_Breast\\_1\\_d34\\_cov.bedgraph.gz & ftp://ftp.ncbi.nlm.nih.gov/geo/samples/GSM4399nnn/GSM4399756/suppl/GSM4399756\\_Breast\\_1\\_d34\\_ratio.bedgraph.gz & 34 days after birth & healthy & breast tissue & No treatment\\\\\n",
       "\tGSM4399757 & Breast\\_2\\_d3  & GSM4399757 & Public on Nov 30 2020 & Mar 09 2020 & Dec 01 2020 & SRA & 1 & breast tissue & Gallus gallus & treatment: No treatment & ⋯ & genomic & Bisulfite-Seq & BioSample: https://www.ncbi.nlm.nih.gov/biosample/SAMN14333157 & SRA: https://www.ncbi.nlm.nih.gov/sra?term=SRX7885089 & ftp://ftp.ncbi.nlm.nih.gov/geo/samples/GSM4399nnn/GSM4399757/suppl/GSM4399757\\_Breast\\_2\\_d3\\_cov.bedgraph.gz  & ftp://ftp.ncbi.nlm.nih.gov/geo/samples/GSM4399nnn/GSM4399757/suppl/GSM4399757\\_Breast\\_2\\_d3\\_ratio.bedgraph.gz  & 3 days after birth  & healthy & breast tissue & No treatment\\\\\n",
       "\tGSM4399758 & Breast\\_2\\_d15 & GSM4399758 & Public on Nov 30 2020 & Mar 09 2020 & Dec 01 2020 & SRA & 1 & breast tissue & Gallus gallus & treatment: No treatment & ⋯ & genomic & Bisulfite-Seq & BioSample: https://www.ncbi.nlm.nih.gov/biosample/SAMN14333156 & SRA: https://www.ncbi.nlm.nih.gov/sra?term=SRX7885090 & ftp://ftp.ncbi.nlm.nih.gov/geo/samples/GSM4399nnn/GSM4399758/suppl/GSM4399758\\_Breast\\_2\\_d15\\_cov.bedgraph.gz & ftp://ftp.ncbi.nlm.nih.gov/geo/samples/GSM4399nnn/GSM4399758/suppl/GSM4399758\\_Breast\\_2\\_d15\\_ratio.bedgraph.gz & 15 days after birth & healthy & breast tissue & No treatment\\\\\n",
       "\\end{tabular}\n"
      ],
      "text/markdown": [
       "\n",
       "A data.frame: 6 × 44\n",
       "\n",
       "| <!--/--> | title &lt;fct&gt; | geo_accession &lt;chr&gt; | status &lt;fct&gt; | submission_date &lt;fct&gt; | last_update_date &lt;fct&gt; | type &lt;fct&gt; | channel_count &lt;fct&gt; | source_name_ch1 &lt;fct&gt; | organism_ch1 &lt;fct&gt; | characteristics_ch1 &lt;fct&gt; | ⋯ ⋯ | library_source &lt;fct&gt; | library_strategy &lt;fct&gt; | relation &lt;fct&gt; | relation.1 &lt;fct&gt; | supplementary_file_1 &lt;fct&gt; | supplementary_file_2 &lt;fct&gt; | age:ch1 &lt;chr&gt; | disease state:ch1 &lt;chr&gt; | tissue:ch1 &lt;chr&gt; | treatment:ch1 &lt;chr&gt; |\n",
       "|---|---|---|---|---|---|---|---|---|---|---|---|---|---|---|---|---|---|---|---|---|---|\n",
       "| GSM4399753 | Breast_1_d3  | GSM4399753 | Public on Nov 30 2020 | Mar 09 2020 | Dec 01 2020 | SRA | 1 | breast tissue | Gallus gallus | treatment: No treatment | ⋯ | genomic | Bisulfite-Seq | BioSample: https://www.ncbi.nlm.nih.gov/biosample/SAMN14333161 | SRA: https://www.ncbi.nlm.nih.gov/sra?term=SRX7885080 | ftp://ftp.ncbi.nlm.nih.gov/geo/samples/GSM4399nnn/GSM4399753/suppl/GSM4399753_Breast_1_d3_cov.bedgraph.gz  | ftp://ftp.ncbi.nlm.nih.gov/geo/samples/GSM4399nnn/GSM4399753/suppl/GSM4399753_Breast_1_d3_ratio.bedgraph.gz  | 3 days after birth  | healthy | breast tissue | No treatment |\n",
       "| GSM4399754 | Breast_1_d15 | GSM4399754 | Public on Nov 30 2020 | Mar 09 2020 | Dec 01 2020 | SRA | 1 | breast tissue | Gallus gallus | treatment: No treatment | ⋯ | genomic | Bisulfite-Seq | BioSample: https://www.ncbi.nlm.nih.gov/biosample/SAMN14333160 | SRA: https://www.ncbi.nlm.nih.gov/sra?term=SRX7885086 | ftp://ftp.ncbi.nlm.nih.gov/geo/samples/GSM4399nnn/GSM4399754/suppl/GSM4399754_Breast_1_d15_cov.bedgraph.gz | ftp://ftp.ncbi.nlm.nih.gov/geo/samples/GSM4399nnn/GSM4399754/suppl/GSM4399754_Breast_1_d15_ratio.bedgraph.gz | 15 days after birth | healthy | breast tissue | No treatment |\n",
       "| GSM4399755 | Breast_1_d28 | GSM4399755 | Public on Nov 30 2020 | Mar 09 2020 | Dec 01 2020 | SRA | 1 | breast tissue | Gallus gallus | treatment: No treatment | ⋯ | genomic | Bisulfite-Seq | BioSample: https://www.ncbi.nlm.nih.gov/biosample/SAMN14333159 | SRA: https://www.ncbi.nlm.nih.gov/sra?term=SRX7885087 | ftp://ftp.ncbi.nlm.nih.gov/geo/samples/GSM4399nnn/GSM4399755/suppl/GSM4399755_Breast_1_d28_cov.bedgraph.gz | ftp://ftp.ncbi.nlm.nih.gov/geo/samples/GSM4399nnn/GSM4399755/suppl/GSM4399755_Breast_1_d28_ratio.bedgraph.gz | 28 days after birth | healthy | breast tissue | No treatment |\n",
       "| GSM4399756 | Breast_1_d34 | GSM4399756 | Public on Nov 30 2020 | Mar 09 2020 | Dec 01 2020 | SRA | 1 | breast tissue | Gallus gallus | treatment: No treatment | ⋯ | genomic | Bisulfite-Seq | BioSample: https://www.ncbi.nlm.nih.gov/biosample/SAMN14333158 | SRA: https://www.ncbi.nlm.nih.gov/sra?term=SRX7885088 | ftp://ftp.ncbi.nlm.nih.gov/geo/samples/GSM4399nnn/GSM4399756/suppl/GSM4399756_Breast_1_d34_cov.bedgraph.gz | ftp://ftp.ncbi.nlm.nih.gov/geo/samples/GSM4399nnn/GSM4399756/suppl/GSM4399756_Breast_1_d34_ratio.bedgraph.gz | 34 days after birth | healthy | breast tissue | No treatment |\n",
       "| GSM4399757 | Breast_2_d3  | GSM4399757 | Public on Nov 30 2020 | Mar 09 2020 | Dec 01 2020 | SRA | 1 | breast tissue | Gallus gallus | treatment: No treatment | ⋯ | genomic | Bisulfite-Seq | BioSample: https://www.ncbi.nlm.nih.gov/biosample/SAMN14333157 | SRA: https://www.ncbi.nlm.nih.gov/sra?term=SRX7885089 | ftp://ftp.ncbi.nlm.nih.gov/geo/samples/GSM4399nnn/GSM4399757/suppl/GSM4399757_Breast_2_d3_cov.bedgraph.gz  | ftp://ftp.ncbi.nlm.nih.gov/geo/samples/GSM4399nnn/GSM4399757/suppl/GSM4399757_Breast_2_d3_ratio.bedgraph.gz  | 3 days after birth  | healthy | breast tissue | No treatment |\n",
       "| GSM4399758 | Breast_2_d15 | GSM4399758 | Public on Nov 30 2020 | Mar 09 2020 | Dec 01 2020 | SRA | 1 | breast tissue | Gallus gallus | treatment: No treatment | ⋯ | genomic | Bisulfite-Seq | BioSample: https://www.ncbi.nlm.nih.gov/biosample/SAMN14333156 | SRA: https://www.ncbi.nlm.nih.gov/sra?term=SRX7885090 | ftp://ftp.ncbi.nlm.nih.gov/geo/samples/GSM4399nnn/GSM4399758/suppl/GSM4399758_Breast_2_d15_cov.bedgraph.gz | ftp://ftp.ncbi.nlm.nih.gov/geo/samples/GSM4399nnn/GSM4399758/suppl/GSM4399758_Breast_2_d15_ratio.bedgraph.gz | 15 days after birth | healthy | breast tissue | No treatment |\n",
       "\n"
      ],
      "text/plain": [
       "           title        geo_accession status                submission_date\n",
       "GSM4399753 Breast_1_d3  GSM4399753    Public on Nov 30 2020 Mar 09 2020    \n",
       "GSM4399754 Breast_1_d15 GSM4399754    Public on Nov 30 2020 Mar 09 2020    \n",
       "GSM4399755 Breast_1_d28 GSM4399755    Public on Nov 30 2020 Mar 09 2020    \n",
       "GSM4399756 Breast_1_d34 GSM4399756    Public on Nov 30 2020 Mar 09 2020    \n",
       "GSM4399757 Breast_2_d3  GSM4399757    Public on Nov 30 2020 Mar 09 2020    \n",
       "GSM4399758 Breast_2_d15 GSM4399758    Public on Nov 30 2020 Mar 09 2020    \n",
       "           last_update_date type channel_count source_name_ch1 organism_ch1 \n",
       "GSM4399753 Dec 01 2020      SRA  1             breast tissue   Gallus gallus\n",
       "GSM4399754 Dec 01 2020      SRA  1             breast tissue   Gallus gallus\n",
       "GSM4399755 Dec 01 2020      SRA  1             breast tissue   Gallus gallus\n",
       "GSM4399756 Dec 01 2020      SRA  1             breast tissue   Gallus gallus\n",
       "GSM4399757 Dec 01 2020      SRA  1             breast tissue   Gallus gallus\n",
       "GSM4399758 Dec 01 2020      SRA  1             breast tissue   Gallus gallus\n",
       "           characteristics_ch1     ⋯ library_source library_strategy\n",
       "GSM4399753 treatment: No treatment ⋯ genomic        Bisulfite-Seq   \n",
       "GSM4399754 treatment: No treatment ⋯ genomic        Bisulfite-Seq   \n",
       "GSM4399755 treatment: No treatment ⋯ genomic        Bisulfite-Seq   \n",
       "GSM4399756 treatment: No treatment ⋯ genomic        Bisulfite-Seq   \n",
       "GSM4399757 treatment: No treatment ⋯ genomic        Bisulfite-Seq   \n",
       "GSM4399758 treatment: No treatment ⋯ genomic        Bisulfite-Seq   \n",
       "           relation                                                      \n",
       "GSM4399753 BioSample: https://www.ncbi.nlm.nih.gov/biosample/SAMN14333161\n",
       "GSM4399754 BioSample: https://www.ncbi.nlm.nih.gov/biosample/SAMN14333160\n",
       "GSM4399755 BioSample: https://www.ncbi.nlm.nih.gov/biosample/SAMN14333159\n",
       "GSM4399756 BioSample: https://www.ncbi.nlm.nih.gov/biosample/SAMN14333158\n",
       "GSM4399757 BioSample: https://www.ncbi.nlm.nih.gov/biosample/SAMN14333157\n",
       "GSM4399758 BioSample: https://www.ncbi.nlm.nih.gov/biosample/SAMN14333156\n",
       "           relation.1                                           \n",
       "GSM4399753 SRA: https://www.ncbi.nlm.nih.gov/sra?term=SRX7885080\n",
       "GSM4399754 SRA: https://www.ncbi.nlm.nih.gov/sra?term=SRX7885086\n",
       "GSM4399755 SRA: https://www.ncbi.nlm.nih.gov/sra?term=SRX7885087\n",
       "GSM4399756 SRA: https://www.ncbi.nlm.nih.gov/sra?term=SRX7885088\n",
       "GSM4399757 SRA: https://www.ncbi.nlm.nih.gov/sra?term=SRX7885089\n",
       "GSM4399758 SRA: https://www.ncbi.nlm.nih.gov/sra?term=SRX7885090\n",
       "           supplementary_file_1                                                                                      \n",
       "GSM4399753 ftp://ftp.ncbi.nlm.nih.gov/geo/samples/GSM4399nnn/GSM4399753/suppl/GSM4399753_Breast_1_d3_cov.bedgraph.gz \n",
       "GSM4399754 ftp://ftp.ncbi.nlm.nih.gov/geo/samples/GSM4399nnn/GSM4399754/suppl/GSM4399754_Breast_1_d15_cov.bedgraph.gz\n",
       "GSM4399755 ftp://ftp.ncbi.nlm.nih.gov/geo/samples/GSM4399nnn/GSM4399755/suppl/GSM4399755_Breast_1_d28_cov.bedgraph.gz\n",
       "GSM4399756 ftp://ftp.ncbi.nlm.nih.gov/geo/samples/GSM4399nnn/GSM4399756/suppl/GSM4399756_Breast_1_d34_cov.bedgraph.gz\n",
       "GSM4399757 ftp://ftp.ncbi.nlm.nih.gov/geo/samples/GSM4399nnn/GSM4399757/suppl/GSM4399757_Breast_2_d3_cov.bedgraph.gz \n",
       "GSM4399758 ftp://ftp.ncbi.nlm.nih.gov/geo/samples/GSM4399nnn/GSM4399758/suppl/GSM4399758_Breast_2_d15_cov.bedgraph.gz\n",
       "           supplementary_file_2                                                                                        \n",
       "GSM4399753 ftp://ftp.ncbi.nlm.nih.gov/geo/samples/GSM4399nnn/GSM4399753/suppl/GSM4399753_Breast_1_d3_ratio.bedgraph.gz \n",
       "GSM4399754 ftp://ftp.ncbi.nlm.nih.gov/geo/samples/GSM4399nnn/GSM4399754/suppl/GSM4399754_Breast_1_d15_ratio.bedgraph.gz\n",
       "GSM4399755 ftp://ftp.ncbi.nlm.nih.gov/geo/samples/GSM4399nnn/GSM4399755/suppl/GSM4399755_Breast_1_d28_ratio.bedgraph.gz\n",
       "GSM4399756 ftp://ftp.ncbi.nlm.nih.gov/geo/samples/GSM4399nnn/GSM4399756/suppl/GSM4399756_Breast_1_d34_ratio.bedgraph.gz\n",
       "GSM4399757 ftp://ftp.ncbi.nlm.nih.gov/geo/samples/GSM4399nnn/GSM4399757/suppl/GSM4399757_Breast_2_d3_ratio.bedgraph.gz \n",
       "GSM4399758 ftp://ftp.ncbi.nlm.nih.gov/geo/samples/GSM4399nnn/GSM4399758/suppl/GSM4399758_Breast_2_d15_ratio.bedgraph.gz\n",
       "           age:ch1             disease state:ch1 tissue:ch1    treatment:ch1\n",
       "GSM4399753 3 days after birth  healthy           breast tissue No treatment \n",
       "GSM4399754 15 days after birth healthy           breast tissue No treatment \n",
       "GSM4399755 28 days after birth healthy           breast tissue No treatment \n",
       "GSM4399756 34 days after birth healthy           breast tissue No treatment \n",
       "GSM4399757 3 days after birth  healthy           breast tissue No treatment \n",
       "GSM4399758 15 days after birth healthy           breast tissue No treatment "
      ]
     },
     "metadata": {},
     "output_type": "display_data"
    }
   ],
   "source": [
    "head(df_gallus)"
   ]
  },
  {
   "cell_type": "markdown",
   "id": "aaac7263",
   "metadata": {},
   "source": [
    "in this case we have to prefilter the table, as we don't need most of the samples"
   ]
  },
  {
   "cell_type": "code",
   "execution_count": 8,
   "id": "f5c60fa9",
   "metadata": {
    "collapsed": true,
    "jupyter": {
     "outputs_hidden": true
    },
    "tags": []
   },
   "outputs": [
    {
     "data": {
      "text/html": [
       "<style>\n",
       ".list-inline {list-style: none; margin:0; padding: 0}\n",
       ".list-inline>li {display: inline-block}\n",
       ".list-inline>li:not(:last-child)::after {content: \"\\00b7\"; padding: 0 .5ex}\n",
       "</style>\n",
       "<ol class=list-inline><li>breast tissue</li><li>ileum tissue</li><li>jejunum tissue</li><li>spleen tissue</li></ol>\n",
       "\n",
       "<details>\n",
       "\t<summary style=display:list-item;cursor:pointer>\n",
       "\t\t<strong>Levels</strong>:\n",
       "\t</summary>\n",
       "\t<style>\n",
       "\t.list-inline {list-style: none; margin:0; padding: 0}\n",
       "\t.list-inline>li {display: inline-block}\n",
       "\t.list-inline>li:not(:last-child)::after {content: \"\\00b7\"; padding: 0 .5ex}\n",
       "\t</style>\n",
       "\t<ol class=list-inline><li>'breast tissue'</li><li>'ileum tissue'</li><li>'jejunum tissue'</li><li>'spleen tissue'</li></ol>\n",
       "</details>"
      ],
      "text/latex": [
       "\\begin{enumerate*}\n",
       "\\item breast tissue\n",
       "\\item ileum tissue\n",
       "\\item jejunum tissue\n",
       "\\item spleen tissue\n",
       "\\end{enumerate*}\n",
       "\n",
       "\\emph{Levels}: \\begin{enumerate*}\n",
       "\\item 'breast tissue'\n",
       "\\item 'ileum tissue'\n",
       "\\item 'jejunum tissue'\n",
       "\\item 'spleen tissue'\n",
       "\\end{enumerate*}\n"
      ],
      "text/markdown": [
       "1. breast tissue\n",
       "2. ileum tissue\n",
       "3. jejunum tissue\n",
       "4. spleen tissue\n",
       "\n",
       "\n",
       "\n",
       "**Levels**: 1. 'breast tissue'\n",
       "2. 'ileum tissue'\n",
       "3. 'jejunum tissue'\n",
       "4. 'spleen tissue'\n",
       "\n",
       "\n"
      ],
      "text/plain": [
       "[1] breast tissue  ileum tissue   jejunum tissue spleen tissue \n",
       "Levels: breast tissue ileum tissue jejunum tissue spleen tissue"
      ]
     },
     "metadata": {},
     "output_type": "display_data"
    }
   ],
   "source": [
    "unique(df_gallus$source_name_ch1)"
   ]
  },
  {
   "cell_type": "code",
   "execution_count": 10,
   "id": "7ca57bdb",
   "metadata": {},
   "outputs": [
    {
     "data": {
      "text/html": [
       "<style>\n",
       ".list-inline {list-style: none; margin:0; padding: 0}\n",
       ".list-inline>li {display: inline-block}\n",
       ".list-inline>li:not(:last-child)::after {content: \"\\00b7\"; padding: 0 .5ex}\n",
       "</style>\n",
       "<ol class=list-inline><li>'healthy'</li><li>'inflamed'</li></ol>\n"
      ],
      "text/latex": [
       "\\begin{enumerate*}\n",
       "\\item 'healthy'\n",
       "\\item 'inflamed'\n",
       "\\end{enumerate*}\n"
      ],
      "text/markdown": [
       "1. 'healthy'\n",
       "2. 'inflamed'\n",
       "\n",
       "\n"
      ],
      "text/plain": [
       "[1] \"healthy\"  \"inflamed\""
      ]
     },
     "metadata": {},
     "output_type": "display_data"
    }
   ],
   "source": [
    "unique(df_gallus$`disease state:ch1`)"
   ]
  },
  {
   "cell_type": "code",
   "execution_count": 12,
   "id": "d3955dd9",
   "metadata": {},
   "outputs": [],
   "source": [
    "df_gallus <- df_gallus[df_gallus$`disease state:ch1`=='healthy',]\n",
    "df_gallus$age_days <- sapply(df_gallus$`age:ch1`, function(x) strsplit(x, \" \")[[1]][1])"
   ]
  },
  {
   "cell_type": "code",
   "execution_count": 16,
   "id": "8b88275c",
   "metadata": {},
   "outputs": [],
   "source": [
    "df_gallus$age_days <- as.numeric(df_gallus$age_days)"
   ]
  },
  {
   "cell_type": "code",
   "execution_count": 19,
   "id": "c454a61f",
   "metadata": {},
   "outputs": [],
   "source": [
    "df_gallus <- df_gallus  %>% group_by(source_name_ch1) %>% filter(age_days == max(age_days))"
   ]
  },
  {
   "cell_type": "code",
   "execution_count": null,
   "id": "a18caf11",
   "metadata": {},
   "outputs": [],
   "source": []
  },
  {
   "cell_type": "code",
   "execution_count": 69,
   "id": "7db4c1d1",
   "metadata": {},
   "outputs": [],
   "source": [
    "dir_to_save = paste0(\"../../resources/WGBS_public/\", gsub(\" \", \"_\", df_gallus[2, ]$organism_ch1), \"/\", gsub(\" \", \"_\",df_gallus[2, ]$source_name_ch1), \"/\")"
   ]
  },
  {
   "cell_type": "code",
   "execution_count": 70,
   "id": "bf2442aa",
   "metadata": {},
   "outputs": [
    {
     "name": "stderr",
     "output_type": "stream",
     "text": [
      "Warning message in dir.create(dir_to_save, recursive = T):\n",
      "“'../../resources/WGBS_public/Gallus_gallus/breast_tissue' already exists”\n"
     ]
    }
   ],
   "source": [
    "dir.create(dir_to_save, recursive = T)"
   ]
  },
  {
   "cell_type": "code",
   "execution_count": 72,
   "id": "4c825f96",
   "metadata": {},
   "outputs": [],
   "source": [
    "id_to_save <-  df_gallus[2, ]$title"
   ]
  },
  {
   "cell_type": "code",
   "execution_count": 76,
   "id": "6a4a0975",
   "metadata": {},
   "outputs": [
    {
     "name": "stderr",
     "output_type": "stream",
     "text": [
      "Joining, by = c(\"chr\", \"start\", \"end\")\n",
      "\n"
     ]
    },
    {
     "name": "stdout",
     "output_type": "stream",
     "text": [
      "[1] \"done\"\n"
     ]
    }
   ],
   "source": [
    "download_coverage_and_ratio_bedgraph(df_gallus[2, ]$supplementary_file_1, df_gallus[2, ]$supplementary_file_2, dir_to_save, id_to_save)"
   ]
  },
  {
   "cell_type": "code",
   "execution_count": 78,
   "id": "6c4b03e4",
   "metadata": {
    "collapsed": true,
    "jupyter": {
     "outputs_hidden": true
    },
    "tags": []
   },
   "outputs": [
    {
     "name": "stderr",
     "output_type": "stream",
     "text": [
      "Warning message in dir.create(dir_to_save, recursive = T):\n",
      "“'../../resources/WGBS_public/Gallus_gallus/breast_tissue' already exists”\n"
     ]
    },
    {
     "name": "stdout",
     "output_type": "stream",
     "text": [
      "         V12 \n",
      "Breast_3_d34 \n",
      "51 Levels: Breast_1_d15 Breast_1_d28 Breast_1_d3 Breast_1_d34 ... Spleen_3_d34\n"
     ]
    },
    {
     "name": "stderr",
     "output_type": "stream",
     "text": [
      "Joining, by = c(\"chr\", \"start\", \"end\")\n",
      "\n"
     ]
    },
    {
     "name": "stdout",
     "output_type": "stream",
     "text": [
      "[1] \"done\"\n",
      "      V19 \n",
      "Ile_1_d34 \n",
      "51 Levels: Breast_1_d15 Breast_1_d28 Breast_1_d3 Breast_1_d34 ... Spleen_3_d34\n"
     ]
    },
    {
     "name": "stderr",
     "output_type": "stream",
     "text": [
      "Joining, by = c(\"chr\", \"start\", \"end\")\n",
      "\n"
     ]
    },
    {
     "name": "stdout",
     "output_type": "stream",
     "text": [
      "[1] \"done\"\n"
     ]
    },
    {
     "name": "stderr",
     "output_type": "stream",
     "text": [
      "Warning message in dir.create(dir_to_save, recursive = T):\n",
      "“'../../resources/WGBS_public/Gallus_gallus/ileum_tissue' already exists”\n"
     ]
    },
    {
     "name": "stdout",
     "output_type": "stream",
     "text": [
      "      V22 \n",
      "Ile_2_d34 \n",
      "51 Levels: Breast_1_d15 Breast_1_d28 Breast_1_d3 Breast_1_d34 ... Spleen_3_d34\n"
     ]
    },
    {
     "name": "stderr",
     "output_type": "stream",
     "text": [
      "Joining, by = c(\"chr\", \"start\", \"end\")\n",
      "\n"
     ]
    },
    {
     "name": "stdout",
     "output_type": "stream",
     "text": [
      "[1] \"done\"\n"
     ]
    },
    {
     "name": "stderr",
     "output_type": "stream",
     "text": [
      "Warning message in dir.create(dir_to_save, recursive = T):\n",
      "“'../../resources/WGBS_public/Gallus_gallus/ileum_tissue' already exists”\n"
     ]
    },
    {
     "name": "stdout",
     "output_type": "stream",
     "text": [
      "      V25 \n",
      "Ile_3_d34 \n",
      "51 Levels: Breast_1_d15 Breast_1_d28 Breast_1_d3 Breast_1_d34 ... Spleen_3_d34\n"
     ]
    },
    {
     "name": "stderr",
     "output_type": "stream",
     "text": [
      "Joining, by = c(\"chr\", \"start\", \"end\")\n",
      "\n"
     ]
    },
    {
     "name": "stdout",
     "output_type": "stream",
     "text": [
      "[1] \"done\"\n",
      "               V30 \n",
      "Jejunum_1_d35_cont \n",
      "51 Levels: Breast_1_d15 Breast_1_d28 Breast_1_d3 Breast_1_d34 ... Spleen_3_d34\n"
     ]
    },
    {
     "name": "stderr",
     "output_type": "stream",
     "text": [
      "Joining, by = c(\"chr\", \"start\", \"end\")\n",
      "\n"
     ]
    },
    {
     "name": "stdout",
     "output_type": "stream",
     "text": [
      "[1] \"done\"\n"
     ]
    },
    {
     "name": "stderr",
     "output_type": "stream",
     "text": [
      "Warning message in dir.create(dir_to_save, recursive = T):\n",
      "“'../../resources/WGBS_public/Gallus_gallus/jejunum_tissue' already exists”\n"
     ]
    },
    {
     "name": "stdout",
     "output_type": "stream",
     "text": [
      "               V36 \n",
      "Jejunum_2_d35_cont \n",
      "51 Levels: Breast_1_d15 Breast_1_d28 Breast_1_d3 Breast_1_d34 ... Spleen_3_d34\n"
     ]
    },
    {
     "name": "stderr",
     "output_type": "stream",
     "text": [
      "Joining, by = c(\"chr\", \"start\", \"end\")\n",
      "\n"
     ]
    },
    {
     "name": "stdout",
     "output_type": "stream",
     "text": [
      "[1] \"done\"\n"
     ]
    },
    {
     "name": "stderr",
     "output_type": "stream",
     "text": [
      "Warning message in dir.create(dir_to_save, recursive = T):\n",
      "“'../../resources/WGBS_public/Gallus_gallus/jejunum_tissue' already exists”\n"
     ]
    },
    {
     "name": "stdout",
     "output_type": "stream",
     "text": [
      "               V42 \n",
      "Jejunum_3_d35_cont \n",
      "51 Levels: Breast_1_d15 Breast_1_d28 Breast_1_d3 Breast_1_d34 ... Spleen_3_d34\n"
     ]
    },
    {
     "name": "stderr",
     "output_type": "stream",
     "text": [
      "Joining, by = c(\"chr\", \"start\", \"end\")\n",
      "\n"
     ]
    },
    {
     "name": "stdout",
     "output_type": "stream",
     "text": [
      "[1] \"done\"\n",
      "         V46 \n",
      "Spleen_1_d34 \n",
      "51 Levels: Breast_1_d15 Breast_1_d28 Breast_1_d3 Breast_1_d34 ... Spleen_3_d34\n"
     ]
    },
    {
     "name": "stderr",
     "output_type": "stream",
     "text": [
      "Joining, by = c(\"chr\", \"start\", \"end\")\n",
      "\n"
     ]
    },
    {
     "name": "stdout",
     "output_type": "stream",
     "text": [
      "[1] \"done\"\n"
     ]
    },
    {
     "name": "stderr",
     "output_type": "stream",
     "text": [
      "Warning message in dir.create(dir_to_save, recursive = T):\n",
      "“'../../resources/WGBS_public/Gallus_gallus/spleen_tissue' already exists”\n"
     ]
    },
    {
     "name": "stdout",
     "output_type": "stream",
     "text": [
      "         V49 \n",
      "Spleen_2_d34 \n",
      "51 Levels: Breast_1_d15 Breast_1_d28 Breast_1_d3 Breast_1_d34 ... Spleen_3_d34\n"
     ]
    },
    {
     "name": "stderr",
     "output_type": "stream",
     "text": [
      "Joining, by = c(\"chr\", \"start\", \"end\")\n",
      "\n"
     ]
    },
    {
     "name": "stdout",
     "output_type": "stream",
     "text": [
      "[1] \"done\"\n"
     ]
    },
    {
     "name": "stderr",
     "output_type": "stream",
     "text": [
      "Warning message in dir.create(dir_to_save, recursive = T):\n",
      "“'../../resources/WGBS_public/Gallus_gallus/spleen_tissue' already exists”\n"
     ]
    },
    {
     "name": "stdout",
     "output_type": "stream",
     "text": [
      "         V52 \n",
      "Spleen_3_d34 \n",
      "51 Levels: Breast_1_d15 Breast_1_d28 Breast_1_d3 Breast_1_d34 ... Spleen_3_d34\n"
     ]
    },
    {
     "name": "stderr",
     "output_type": "stream",
     "text": [
      "Joining, by = c(\"chr\", \"start\", \"end\")\n",
      "\n"
     ]
    },
    {
     "name": "stdout",
     "output_type": "stream",
     "text": [
      "[1] \"done\"\n"
     ]
    }
   ],
   "source": [
    "for (i in c(3:NROW(df_gallus))){\n",
    "    dir_to_save = paste0(\"../../resources/WGBS_public/\", gsub(\" \", \"_\", df_gallus[i, ]$organism_ch1), \"/\", gsub(\" \", \"_\",df_gallus[i, ]$source_name_ch1), \"/\")\n",
    "    dir.create(dir_to_save, recursive = T)\n",
    "    id_to_save <-  df_gallus[i, ]$title\n",
    "    print(id_to_save)\n",
    "    download_coverage_and_ratio_bedgraph(df_gallus[i, ]$supplementary_file_1, df_gallus[i, ]$supplementary_file_2, dir_to_save, id_to_save)  \n",
    "} "
   ]
  },
  {
   "cell_type": "markdown",
   "id": "4d3ce16b",
   "metadata": {},
   "source": [
    "## Cow"
   ]
  },
  {
   "cell_type": "code",
   "execution_count": 79,
   "id": "71c93fba",
   "metadata": {},
   "outputs": [
    {
     "name": "stderr",
     "output_type": "stream",
     "text": [
      "Found 1 file(s)\n",
      "\n",
      "GSE147087_series_matrix.txt.gz\n",
      "\n",
      "\n",
      "\u001b[36m──\u001b[39m \u001b[1m\u001b[1mColumn specification\u001b[1m\u001b[22m \u001b[36m────────────────────────────────────────────────────────\u001b[39m\n",
      "cols(\n",
      "  .default = col_character()\n",
      ")\n",
      "\u001b[36mℹ\u001b[39m Use \u001b[30m\u001b[47m\u001b[30m\u001b[47m`spec()`\u001b[47m\u001b[30m\u001b[49m\u001b[39m for the full column specifications.\n",
      "\n",
      "\n",
      "File stored at: \n",
      "\n",
      "/tmp/Rtmp5XEq1S/GPL24230.soft\n",
      "\n"
     ]
    }
   ],
   "source": [
    "df_cow <- get_gse_df(\"GSE147087\")"
   ]
  },
  {
   "cell_type": "code",
   "execution_count": 80,
   "id": "b022d99b",
   "metadata": {
    "collapsed": true,
    "jupyter": {
     "outputs_hidden": true
    },
    "tags": []
   },
   "outputs": [
    {
     "data": {
      "text/html": [
       "<table class=\"dataframe\">\n",
       "<caption>A data.frame: 25 × 45</caption>\n",
       "<thead>\n",
       "\t<tr><th></th><th scope=col>title</th><th scope=col>geo_accession</th><th scope=col>status</th><th scope=col>submission_date</th><th scope=col>last_update_date</th><th scope=col>type</th><th scope=col>channel_count</th><th scope=col>source_name_ch1</th><th scope=col>organism_ch1</th><th scope=col>characteristics_ch1</th><th scope=col>⋯</th><th scope=col>library_selection</th><th scope=col>library_source</th><th scope=col>library_strategy</th><th scope=col>relation</th><th scope=col>relation.1</th><th scope=col>relation.2</th><th scope=col>supplementary_file_1</th><th scope=col>breed:ch1</th><th scope=col>Sex:ch1</th><th scope=col>tissue:ch1</th></tr>\n",
       "\t<tr><th></th><th scope=col>&lt;fct&gt;</th><th scope=col>&lt;chr&gt;</th><th scope=col>&lt;fct&gt;</th><th scope=col>&lt;fct&gt;</th><th scope=col>&lt;fct&gt;</th><th scope=col>&lt;fct&gt;</th><th scope=col>&lt;fct&gt;</th><th scope=col>&lt;fct&gt;</th><th scope=col>&lt;fct&gt;</th><th scope=col>&lt;fct&gt;</th><th scope=col>⋯</th><th scope=col>&lt;fct&gt;</th><th scope=col>&lt;fct&gt;</th><th scope=col>&lt;fct&gt;</th><th scope=col>&lt;fct&gt;</th><th scope=col>&lt;fct&gt;</th><th scope=col>&lt;fct&gt;</th><th scope=col>&lt;fct&gt;</th><th scope=col>&lt;chr&gt;</th><th scope=col>&lt;chr&gt;</th><th scope=col>&lt;chr&gt;</th></tr>\n",
       "</thead>\n",
       "<tbody>\n",
       "\t<tr><th scope=row>GSM4238269</th><td>Holstein, Adipose_1_WGBS  </td><td>GSM4238269</td><td>Public on Apr 30 2020</td><td>Dec 30 2019</td><td>Apr 30 2020</td><td>SRA</td><td>1</td><td>Adipose </td><td>Bos taurus</td><td>tissue: Adipose </td><td>⋯</td><td>RANDOM</td><td>genomic</td><td>Bisulfite-Seq</td><td>BioSample: https://www.ncbi.nlm.nih.gov/biosample/SAMN13699103</td><td>SRA: https://www.ncbi.nlm.nih.gov/sra?term=SRX8001109</td><td>SRA: https://www.ncbi.nlm.nih.gov/sra?term=SRX7478295</td><td>ftp://ftp.ncbi.nlm.nih.gov/geo/samples/GSM4238nnn/GSM4238269/suppl/GSM4238269_Adipose_3842_1.fq.gz_bismark_bt2_pe.deduplicated.CpG_report.txt.gz                 </td><td>Holstein</td><td>F</td><td>Adipose </td></tr>\n",
       "\t<tr><th scope=row>GSM4238270</th><td>Holstein, Adipose_2_WGBS  </td><td>GSM4238270</td><td>Public on Apr 30 2020</td><td>Dec 30 2019</td><td>Apr 30 2020</td><td>SRA</td><td>1</td><td>Adipose </td><td>Bos taurus</td><td>tissue: Adipose </td><td>⋯</td><td>RANDOM</td><td>genomic</td><td>Bisulfite-Seq</td><td>BioSample: https://www.ncbi.nlm.nih.gov/biosample/SAMN13699102</td><td>SRA: https://www.ncbi.nlm.nih.gov/sra?term=SRX8001110</td><td>SRA: https://www.ncbi.nlm.nih.gov/sra?term=SRX7478296</td><td>ftp://ftp.ncbi.nlm.nih.gov/geo/samples/GSM4238nnn/GSM4238270/suppl/GSM4238270_Adipose_3886_1.fq.gz_bismark_bt2_pe.deduplicated.CpG_report.txt.gz                 </td><td>Holstein</td><td>F</td><td>Adipose </td></tr>\n",
       "\t<tr><th scope=row>GSM4238271</th><td>Holstein, Blood_1_WGBS    </td><td>GSM4238271</td><td>Public on Apr 30 2020</td><td>Dec 30 2019</td><td>Apr 30 2020</td><td>SRA</td><td>1</td><td>Blood   </td><td>Bos taurus</td><td>tissue: Blood   </td><td>⋯</td><td>RANDOM</td><td>genomic</td><td>Bisulfite-Seq</td><td>BioSample: https://www.ncbi.nlm.nih.gov/biosample/SAMN13699101</td><td>SRA: https://www.ncbi.nlm.nih.gov/sra?term=SRX8001111</td><td>SRA: https://www.ncbi.nlm.nih.gov/sra?term=SRX7478297</td><td>ftp://ftp.ncbi.nlm.nih.gov/geo/samples/GSM4238nnn/GSM4238271/suppl/GSM4238271_Blood_4091_1.fq.gz_bismark_bt2_pe.deduplicated.CpG_report.txt.gz                   </td><td>Holstein</td><td>F</td><td>Blood   </td></tr>\n",
       "\t<tr><th scope=row>GSM4238272</th><td>Holstein, Blood_2_WGBS    </td><td>GSM4238272</td><td>Public on Apr 30 2020</td><td>Dec 30 2019</td><td>Apr 30 2020</td><td>SRA</td><td>1</td><td>Blood   </td><td>Bos taurus</td><td>tissue: Blood   </td><td>⋯</td><td>RANDOM</td><td>genomic</td><td>Bisulfite-Seq</td><td>BioSample: https://www.ncbi.nlm.nih.gov/biosample/SAMN13699100</td><td>SRA: https://www.ncbi.nlm.nih.gov/sra?term=SRX8001112</td><td>SRA: https://www.ncbi.nlm.nih.gov/sra?term=SRX7478298</td><td>ftp://ftp.ncbi.nlm.nih.gov/geo/samples/GSM4238nnn/GSM4238272/suppl/GSM4238272_Blood_4254_1.fq.gz_bismark_bt2_pe.deduplicated.CpG_report.txt.gz                   </td><td>Holstein</td><td>F</td><td>Blood   </td></tr>\n",
       "\t<tr><th scope=row>GSM4238273</th><td>Holstein, Heart_1_WGBS    </td><td>GSM4238273</td><td>Public on Apr 30 2020</td><td>Dec 30 2019</td><td>Apr 30 2020</td><td>SRA</td><td>1</td><td>Heart   </td><td>Bos taurus</td><td>tissue: Heart   </td><td>⋯</td><td>RANDOM</td><td>genomic</td><td>Bisulfite-Seq</td><td>BioSample: https://www.ncbi.nlm.nih.gov/biosample/SAMN13699099</td><td>SRA: https://www.ncbi.nlm.nih.gov/sra?term=SRX8001113</td><td>SRA: https://www.ncbi.nlm.nih.gov/sra?term=SRX7478299</td><td>ftp://ftp.ncbi.nlm.nih.gov/geo/samples/GSM4238nnn/GSM4238273/suppl/GSM4238273_Heart_3842_1.fq.gz_bismark_bt2_pe.deduplicated.CpG_report.txt.gz                   </td><td>Holstein</td><td>F</td><td>Heart   </td></tr>\n",
       "\t<tr><th scope=row>GSM4238274</th><td>Holstein, Ileum_1_WGBS    </td><td>GSM4238274</td><td>Public on Apr 30 2020</td><td>Dec 30 2019</td><td>Apr 30 2020</td><td>SRA</td><td>1</td><td>Ileum   </td><td>Bos taurus</td><td>tissue: Ileum   </td><td>⋯</td><td>RANDOM</td><td>genomic</td><td>Bisulfite-Seq</td><td>BioSample: https://www.ncbi.nlm.nih.gov/biosample/SAMN13699098</td><td>SRA: https://www.ncbi.nlm.nih.gov/sra?term=SRX8001114</td><td>SRA: https://www.ncbi.nlm.nih.gov/sra?term=SRX7478300</td><td>ftp://ftp.ncbi.nlm.nih.gov/geo/samples/GSM4238nnn/GSM4238274/suppl/GSM4238274_Ileum_3842_1.fq.gz_bismark_bt2_pe.deduplicated.CpG_report.txt.gz                   </td><td>Holstein</td><td>F</td><td>Ileum   </td></tr>\n",
       "\t<tr><th scope=row>GSM4238275</th><td>Holstein, Kidney_1_WGBS   </td><td>GSM4238275</td><td>Public on Apr 30 2020</td><td>Dec 30 2019</td><td>Apr 30 2020</td><td>SRA</td><td>1</td><td>Kidney  </td><td>Bos taurus</td><td>tissue: Kidney  </td><td>⋯</td><td>RANDOM</td><td>genomic</td><td>Bisulfite-Seq</td><td>BioSample: https://www.ncbi.nlm.nih.gov/biosample/SAMN13699097</td><td>SRA: https://www.ncbi.nlm.nih.gov/sra?term=SRX8001115</td><td>SRA: https://www.ncbi.nlm.nih.gov/sra?term=SRX7478301</td><td>ftp://ftp.ncbi.nlm.nih.gov/geo/samples/GSM4238nnn/GSM4238275/suppl/GSM4238275_Kidney_3842_1.fq.gz_bismark_bt2_pe.deduplicated.CpG_report.txt.gz                  </td><td>Holstein</td><td>F</td><td>Kidney  </td></tr>\n",
       "\t<tr><th scope=row>GSM4238276</th><td>Holstein, Ldorsi_1_WGBS   </td><td>GSM4238276</td><td>Public on Apr 30 2020</td><td>Dec 30 2019</td><td>Apr 30 2020</td><td>SRA</td><td>1</td><td>Ldorsi  </td><td>Bos taurus</td><td>tissue: Ldorsi  </td><td>⋯</td><td>RANDOM</td><td>genomic</td><td>Bisulfite-Seq</td><td>BioSample: https://www.ncbi.nlm.nih.gov/biosample/SAMN13699096</td><td>SRA: https://www.ncbi.nlm.nih.gov/sra?term=SRX8001116</td><td>SRA: https://www.ncbi.nlm.nih.gov/sra?term=SRX7478302</td><td>ftp://ftp.ncbi.nlm.nih.gov/geo/samples/GSM4238nnn/GSM4238276/suppl/GSM4238276_Muscle_Ldorsi3842_1.fq.gz_bismark_bt2_pe.deduplicated.CpG_report.txt.gz            </td><td>Holstein</td><td>F</td><td>Ldorsi  </td></tr>\n",
       "\t<tr><th scope=row>GSM4238277</th><td>Holstein, Ldorsi_2_WGBS   </td><td>GSM4238277</td><td>Public on Apr 30 2020</td><td>Dec 30 2019</td><td>Apr 30 2020</td><td>SRA</td><td>1</td><td>Ldorsi  </td><td>Bos taurus</td><td>tissue: Ldorsi  </td><td>⋯</td><td>RANDOM</td><td>genomic</td><td>Bisulfite-Seq</td><td>BioSample: https://www.ncbi.nlm.nih.gov/biosample/SAMN13699095</td><td>SRA: https://www.ncbi.nlm.nih.gov/sra?term=SRX8001117</td><td>SRA: https://www.ncbi.nlm.nih.gov/sra?term=SRX7478303</td><td>ftp://ftp.ncbi.nlm.nih.gov/geo/samples/GSM4238nnn/GSM4238277/suppl/GSM4238277_Muscle_Ldorsi3886_1.fq.gz_bismark_bt2_pe.deduplicated.CpG_report.txt.gz            </td><td>Holstein</td><td>F</td><td>Ldorsi  </td></tr>\n",
       "\t<tr><th scope=row>GSM4238278</th><td>Holstein, Liver_1_WGBS    </td><td>GSM4238278</td><td>Public on Apr 30 2020</td><td>Dec 30 2019</td><td>Apr 30 2020</td><td>SRA</td><td>1</td><td>Liver   </td><td>Bos taurus</td><td>tissue: Liver   </td><td>⋯</td><td>RANDOM</td><td>genomic</td><td>Bisulfite-Seq</td><td>BioSample: https://www.ncbi.nlm.nih.gov/biosample/SAMN13699094</td><td>SRA: https://www.ncbi.nlm.nih.gov/sra?term=SRX8001118</td><td>SRA: https://www.ncbi.nlm.nih.gov/sra?term=SRX7478304</td><td>ftp://ftp.ncbi.nlm.nih.gov/geo/samples/GSM4238nnn/GSM4238278/suppl/GSM4238278_Liver_3842_1.fq.gz_bismark_bt2_pe.deduplicated.CpG_report.txt.gz                   </td><td>Holstein</td><td>F</td><td>Liver   </td></tr>\n",
       "\t<tr><th scope=row>GSM4238279</th><td>Holstein, Lung_1_WGBS     </td><td>GSM4238279</td><td>Public on Apr 30 2020</td><td>Dec 30 2019</td><td>Apr 30 2020</td><td>SRA</td><td>1</td><td>Lung    </td><td>Bos taurus</td><td>tissue: Lung    </td><td>⋯</td><td>RANDOM</td><td>genomic</td><td>Bisulfite-Seq</td><td>BioSample: https://www.ncbi.nlm.nih.gov/biosample/SAMN13699093</td><td>SRA: https://www.ncbi.nlm.nih.gov/sra?term=SRX8001119</td><td>SRA: https://www.ncbi.nlm.nih.gov/sra?term=SRX7478305</td><td>ftp://ftp.ncbi.nlm.nih.gov/geo/samples/GSM4238nnn/GSM4238279/suppl/GSM4238279_Lung_3842_1.fq.gz_bismark_bt2_pe.deduplicated.CpG_report.txt.gz                    </td><td>Holstein</td><td>F</td><td>Lung    </td></tr>\n",
       "\t<tr><th scope=row>GSM4238280</th><td>Holstein, Lung_2_WGBS     </td><td>GSM4238280</td><td>Public on Apr 30 2020</td><td>Dec 30 2019</td><td>Apr 30 2020</td><td>SRA</td><td>1</td><td>Lung    </td><td>Bos taurus</td><td>tissue: Lung    </td><td>⋯</td><td>RANDOM</td><td>genomic</td><td>Bisulfite-Seq</td><td>BioSample: https://www.ncbi.nlm.nih.gov/biosample/SAMN13699092</td><td>SRA: https://www.ncbi.nlm.nih.gov/sra?term=SRX8001120</td><td>SRA: https://www.ncbi.nlm.nih.gov/sra?term=SRX7478306</td><td>ftp://ftp.ncbi.nlm.nih.gov/geo/samples/GSM4238nnn/GSM4238280/suppl/GSM4238280_Lung_3886_1.fq.gz_bismark_bt2_pe.deduplicated.CpG_report.txt.gz                    </td><td>Holstein</td><td>F</td><td>Lung    </td></tr>\n",
       "\t<tr><th scope=row>GSM4238281</th><td>Holstein, Ovary_1_WGBS    </td><td>GSM4238281</td><td>Public on Apr 30 2020</td><td>Dec 30 2019</td><td>Apr 30 2020</td><td>SRA</td><td>1</td><td>Ovary   </td><td>Bos taurus</td><td>tissue: Ovary   </td><td>⋯</td><td>RANDOM</td><td>genomic</td><td>Bisulfite-Seq</td><td>BioSample: https://www.ncbi.nlm.nih.gov/biosample/SAMN13699091</td><td>SRA: https://www.ncbi.nlm.nih.gov/sra?term=SRX8001121</td><td>SRA: https://www.ncbi.nlm.nih.gov/sra?term=SRX7478307</td><td>ftp://ftp.ncbi.nlm.nih.gov/geo/samples/GSM4238nnn/GSM4238281/suppl/GSM4238281_Ovary_3842_1.fq.gz_bismark_bt2_pe.deduplicated.CpG_report.txt.gz                   </td><td>Holstein</td><td>F</td><td>Ovary   </td></tr>\n",
       "\t<tr><th scope=row>GSM4238282</th><td>Holstein, Rumen_1_WGBS    </td><td>GSM4238282</td><td>Public on Apr 30 2020</td><td>Dec 30 2019</td><td>Apr 30 2020</td><td>SRA</td><td>1</td><td>Rumen   </td><td>Bos taurus</td><td>tissue: Rumen   </td><td>⋯</td><td>RANDOM</td><td>genomic</td><td>Bisulfite-Seq</td><td>BioSample: https://www.ncbi.nlm.nih.gov/biosample/SAMN13699090</td><td>SRA: https://www.ncbi.nlm.nih.gov/sra?term=SRX8001122</td><td>SRA: https://www.ncbi.nlm.nih.gov/sra?term=SRX7478308</td><td>ftp://ftp.ncbi.nlm.nih.gov/geo/samples/GSM4238nnn/GSM4238282/suppl/GSM4238282_Rumen_3842_1.fq.gz_bismark_bt2_pe.deduplicated.CpG_report.txt.gz                   </td><td>Holstein</td><td>F</td><td>Rumen   </td></tr>\n",
       "\t<tr><th scope=row>GSM4238283</th><td>Holstein, Rumen_2_WGBS    </td><td>GSM4238283</td><td>Public on Apr 30 2020</td><td>Dec 30 2019</td><td>Apr 30 2020</td><td>SRA</td><td>1</td><td>Rumen   </td><td>Bos taurus</td><td>tissue: Rumen   </td><td>⋯</td><td>RANDOM</td><td>genomic</td><td>Bisulfite-Seq</td><td>BioSample: https://www.ncbi.nlm.nih.gov/biosample/SAMN13699089</td><td>SRA: https://www.ncbi.nlm.nih.gov/sra?term=SRX8001123</td><td>SRA: https://www.ncbi.nlm.nih.gov/sra?term=SRX7478309</td><td>ftp://ftp.ncbi.nlm.nih.gov/geo/samples/GSM4238nnn/GSM4238283/suppl/GSM4238283_Rumen_3886_1.fq.gz_bismark_bt2_pe.deduplicated.CpG_report.txt.gz                   </td><td>Holstein</td><td>F</td><td>Rumen   </td></tr>\n",
       "\t<tr><th scope=row>GSM4238284</th><td>Holstein, Spleen_1_WGBS   </td><td>GSM4238284</td><td>Public on Apr 30 2020</td><td>Dec 30 2019</td><td>Apr 30 2020</td><td>SRA</td><td>1</td><td>Spleen  </td><td>Bos taurus</td><td>tissue: Spleen  </td><td>⋯</td><td>RANDOM</td><td>genomic</td><td>Bisulfite-Seq</td><td>BioSample: https://www.ncbi.nlm.nih.gov/biosample/SAMN13699088</td><td>SRA: https://www.ncbi.nlm.nih.gov/sra?term=SRX8001124</td><td>SRA: https://www.ncbi.nlm.nih.gov/sra?term=SRX7478310</td><td>ftp://ftp.ncbi.nlm.nih.gov/geo/samples/GSM4238nnn/GSM4238284/suppl/GSM4238284_Spleen_3886_1.fq.gz_bismark_bt2_pe.deduplicated.CpG_report.txt.gz                  </td><td>Holstein</td><td>F</td><td>Spleen  </td></tr>\n",
       "\t<tr><th scope=row>GSM4238285</th><td>Holstein, Uterus_1_WGBS   </td><td>GSM4238285</td><td>Public on Apr 30 2020</td><td>Dec 30 2019</td><td>Apr 30 2020</td><td>SRA</td><td>1</td><td>Uterus  </td><td>Bos taurus</td><td>tissue: Uterus  </td><td>⋯</td><td>RANDOM</td><td>genomic</td><td>Bisulfite-Seq</td><td>BioSample: https://www.ncbi.nlm.nih.gov/biosample/SAMN13699087</td><td>SRA: https://www.ncbi.nlm.nih.gov/sra?term=SRX8001125</td><td>SRA: https://www.ncbi.nlm.nih.gov/sra?term=SRX7478311</td><td>ftp://ftp.ncbi.nlm.nih.gov/geo/samples/GSM4238nnn/GSM4238285/suppl/GSM4238285_Uterus_3842_1.fq.gz_bismark_bt2_pe.deduplicated.CpG_report.txt.gz                  </td><td>Holstein</td><td>F</td><td>Uterus  </td></tr>\n",
       "\t<tr><th scope=row>GSM4238286</th><td>Holstein, Placenta_1_WGBS </td><td>GSM4238286</td><td>Public on Apr 30 2020</td><td>Dec 30 2019</td><td>Apr 30 2020</td><td>SRA</td><td>1</td><td>Placenta</td><td>Bos taurus</td><td>tissue: Placenta</td><td>⋯</td><td>RANDOM</td><td>genomic</td><td>Bisulfite-Seq</td><td>BioSample: https://www.ncbi.nlm.nih.gov/biosample/SAMN13699086</td><td>SRA: https://www.ncbi.nlm.nih.gov/sra?term=SRX8001126</td><td>SRA: https://www.ncbi.nlm.nih.gov/sra?term=SRX7478312</td><td>ftp://ftp.ncbi.nlm.nih.gov/geo/samples/GSM4238nnn/GSM4238286/suppl/GSM4238286_Placenta_D4271_1_val_1_bismark_bt2_pe.deduplicated.CpG_report.txt.CpG_report.txt.gz</td><td>Holstein</td><td>F</td><td>Placenta</td></tr>\n",
       "\t<tr><th scope=row>GSM4238287</th><td>Holstein, Placenta_2_WGBS </td><td>GSM4238287</td><td>Public on Apr 30 2020</td><td>Dec 30 2019</td><td>Apr 30 2020</td><td>SRA</td><td>1</td><td>Placenta</td><td>Bos taurus</td><td>tissue: Placenta</td><td>⋯</td><td>RANDOM</td><td>genomic</td><td>Bisulfite-Seq</td><td>BioSample: https://www.ncbi.nlm.nih.gov/biosample/SAMN13699085</td><td>SRA: https://www.ncbi.nlm.nih.gov/sra?term=SRX8001102</td><td>SRA: https://www.ncbi.nlm.nih.gov/sra?term=SRX7478313</td><td>ftp://ftp.ncbi.nlm.nih.gov/geo/samples/GSM4238nnn/GSM4238287/suppl/GSM4238287_Placenta_D4035_1_val_1_bismark_bt2_pe.deduplicated.CpG_report.txt.CpG_report.txt.gz</td><td>Holstein</td><td>F</td><td>Placenta</td></tr>\n",
       "\t<tr><th scope=row>GSM4416578</th><td>Hereford, Adipose_Dt, WGBS</td><td>GSM4416578</td><td>Public on Apr 30 2020</td><td>Mar 17 2020</td><td>Apr 30 2020</td><td>SRA</td><td>1</td><td>Adipose </td><td>Bos taurus</td><td>tissue: Adipose </td><td>⋯</td><td>RANDOM</td><td>genomic</td><td>Bisulfite-Seq</td><td>BioSample: https://www.ncbi.nlm.nih.gov/biosample/SAMN14389500</td><td>SRA: https://www.ncbi.nlm.nih.gov/sra?term=SRX8001103</td><td>SRA: https://www.ncbi.nlm.nih.gov/sra?term=SRX7924368</td><td>ftp://ftp.ncbi.nlm.nih.gov/geo/samples/GSM4416nnn/GSM4416578/suppl/GSM4416578_Adipose_DtFat_1_val_1_bismark_bt2_pe.deduplicated.CpG_report.txt.CpG_report.txt.gz </td><td>Hereford</td><td>F</td><td>Adipose </td></tr>\n",
       "\t<tr><th scope=row>GSM4416579</th><td>Hereford, Heart_Dt, WGBS  </td><td>GSM4416579</td><td>Public on Apr 30 2020</td><td>Mar 17 2020</td><td>Apr 30 2020</td><td>SRA</td><td>1</td><td>Heart   </td><td>Bos taurus</td><td>tissue: Adipose </td><td>⋯</td><td>RANDOM</td><td>genomic</td><td>Bisulfite-Seq</td><td>BioSample: https://www.ncbi.nlm.nih.gov/biosample/SAMN14389499</td><td>SRA: https://www.ncbi.nlm.nih.gov/sra?term=SRX8001104</td><td>SRA: https://www.ncbi.nlm.nih.gov/sra?term=SRX7924369</td><td>ftp://ftp.ncbi.nlm.nih.gov/geo/samples/GSM4416nnn/GSM4416579/suppl/GSM4416579_Heart_DtHeart_1_val_1_bismark_bt2_pe.deduplicated.CpG_report.txt.CpG_report.txt.gz </td><td>Hereford</td><td>F</td><td>Adipose </td></tr>\n",
       "\t<tr><th scope=row>GSM4416580</th><td>Hereford, Jejun_Do, WGBS  </td><td>GSM4416580</td><td>Public on Apr 30 2020</td><td>Mar 17 2020</td><td>Apr 30 2020</td><td>SRA</td><td>1</td><td>Jejunum </td><td>Bos taurus</td><td>tissue: Blood   </td><td>⋯</td><td>RANDOM</td><td>genomic</td><td>Bisulfite-Seq</td><td>BioSample: https://www.ncbi.nlm.nih.gov/biosample/SAMN14389498</td><td>SRA: https://www.ncbi.nlm.nih.gov/sra?term=SRX8001105</td><td>SRA: https://www.ncbi.nlm.nih.gov/sra?term=SRX7924370</td><td>ftp://ftp.ncbi.nlm.nih.gov/geo/samples/GSM4416nnn/GSM4416580/suppl/GSM4416580_Jejun_DoJejun_1_val_1_bismark_bt2_pe.deduplicated.CpG_report.txt.CpG_report.txt.gz </td><td>Hereford</td><td>M</td><td>Blood   </td></tr>\n",
       "\t<tr><th scope=row>GSM4416581</th><td>Hereford, Jejun_Dt, WGBS  </td><td>GSM4416581</td><td>Public on Apr 30 2020</td><td>Mar 17 2020</td><td>Apr 30 2020</td><td>SRA</td><td>1</td><td>Jejunum </td><td>Bos taurus</td><td>tissue: Blood   </td><td>⋯</td><td>RANDOM</td><td>genomic</td><td>Bisulfite-Seq</td><td>BioSample: https://www.ncbi.nlm.nih.gov/biosample/SAMN14389497</td><td>SRA: https://www.ncbi.nlm.nih.gov/sra?term=SRX8001106</td><td>SRA: https://www.ncbi.nlm.nih.gov/sra?term=SRX7924371</td><td>ftp://ftp.ncbi.nlm.nih.gov/geo/samples/GSM4416nnn/GSM4416581/suppl/GSM4416581_Jejun_DtJejun_1_val_1_bismark_bt2_pe.deduplicated.CpG_report.txt.CpG_report.txt.gz </td><td>Hereford</td><td>F</td><td>Blood   </td></tr>\n",
       "\t<tr><th scope=row>GSM4416582</th><td>Hereford, Kidney_Dt, WGBS </td><td>GSM4416582</td><td>Public on Apr 30 2020</td><td>Mar 17 2020</td><td>Apr 30 2020</td><td>SRA</td><td>1</td><td>Kidney  </td><td>Bos taurus</td><td>tissue: Heart   </td><td>⋯</td><td>RANDOM</td><td>genomic</td><td>Bisulfite-Seq</td><td>BioSample: https://www.ncbi.nlm.nih.gov/biosample/SAMN14389496</td><td>SRA: https://www.ncbi.nlm.nih.gov/sra?term=SRX8001107</td><td>SRA: https://www.ncbi.nlm.nih.gov/sra?term=SRX7924372</td><td>ftp://ftp.ncbi.nlm.nih.gov/geo/samples/GSM4416nnn/GSM4416582/suppl/GSM4416582_Kidney_DtKid_1_val_1_bismark_bt2_pe.deduplicated.CpG_report.txt.CpG_report.txt.gz  </td><td>Hereford</td><td>F</td><td>Heart   </td></tr>\n",
       "\t<tr><th scope=row>GSM4416583</th><td>Hereford, Liver_Do, WGBS  </td><td>GSM4416583</td><td>Public on Apr 30 2020</td><td>Mar 17 2020</td><td>Apr 30 2020</td><td>SRA</td><td>1</td><td>Liver   </td><td>Bos taurus</td><td>tissue: Ileum   </td><td>⋯</td><td>RANDOM</td><td>genomic</td><td>Bisulfite-Seq</td><td>BioSample: https://www.ncbi.nlm.nih.gov/biosample/SAMN14389495</td><td>SRA: https://www.ncbi.nlm.nih.gov/sra?term=SRX8001108</td><td>SRA: https://www.ncbi.nlm.nih.gov/sra?term=SRX7924373</td><td>ftp://ftp.ncbi.nlm.nih.gov/geo/samples/GSM4416nnn/GSM4416583/suppl/GSM4416583_Liver_DoLiver_1_val_1_bismark_bt2_pe.deduplicated.CpG_report.txt.CpG_report.txt.gz </td><td>Hereford</td><td>M</td><td>Ileum   </td></tr>\n",
       "</tbody>\n",
       "</table>\n"
      ],
      "text/latex": [
       "A data.frame: 25 × 45\n",
       "\\begin{tabular}{r|lllllllllllllllllllll}\n",
       "  & title & geo\\_accession & status & submission\\_date & last\\_update\\_date & type & channel\\_count & source\\_name\\_ch1 & organism\\_ch1 & characteristics\\_ch1 & ⋯ & library\\_selection & library\\_source & library\\_strategy & relation & relation.1 & relation.2 & supplementary\\_file\\_1 & breed:ch1 & Sex:ch1 & tissue:ch1\\\\\n",
       "  & <fct> & <chr> & <fct> & <fct> & <fct> & <fct> & <fct> & <fct> & <fct> & <fct> & ⋯ & <fct> & <fct> & <fct> & <fct> & <fct> & <fct> & <fct> & <chr> & <chr> & <chr>\\\\\n",
       "\\hline\n",
       "\tGSM4238269 & Holstein, Adipose\\_1\\_WGBS   & GSM4238269 & Public on Apr 30 2020 & Dec 30 2019 & Apr 30 2020 & SRA & 1 & Adipose  & Bos taurus & tissue: Adipose  & ⋯ & RANDOM & genomic & Bisulfite-Seq & BioSample: https://www.ncbi.nlm.nih.gov/biosample/SAMN13699103 & SRA: https://www.ncbi.nlm.nih.gov/sra?term=SRX8001109 & SRA: https://www.ncbi.nlm.nih.gov/sra?term=SRX7478295 & ftp://ftp.ncbi.nlm.nih.gov/geo/samples/GSM4238nnn/GSM4238269/suppl/GSM4238269\\_Adipose\\_3842\\_1.fq.gz\\_bismark\\_bt2\\_pe.deduplicated.CpG\\_report.txt.gz                  & Holstein & F & Adipose \\\\\n",
       "\tGSM4238270 & Holstein, Adipose\\_2\\_WGBS   & GSM4238270 & Public on Apr 30 2020 & Dec 30 2019 & Apr 30 2020 & SRA & 1 & Adipose  & Bos taurus & tissue: Adipose  & ⋯ & RANDOM & genomic & Bisulfite-Seq & BioSample: https://www.ncbi.nlm.nih.gov/biosample/SAMN13699102 & SRA: https://www.ncbi.nlm.nih.gov/sra?term=SRX8001110 & SRA: https://www.ncbi.nlm.nih.gov/sra?term=SRX7478296 & ftp://ftp.ncbi.nlm.nih.gov/geo/samples/GSM4238nnn/GSM4238270/suppl/GSM4238270\\_Adipose\\_3886\\_1.fq.gz\\_bismark\\_bt2\\_pe.deduplicated.CpG\\_report.txt.gz                  & Holstein & F & Adipose \\\\\n",
       "\tGSM4238271 & Holstein, Blood\\_1\\_WGBS     & GSM4238271 & Public on Apr 30 2020 & Dec 30 2019 & Apr 30 2020 & SRA & 1 & Blood    & Bos taurus & tissue: Blood    & ⋯ & RANDOM & genomic & Bisulfite-Seq & BioSample: https://www.ncbi.nlm.nih.gov/biosample/SAMN13699101 & SRA: https://www.ncbi.nlm.nih.gov/sra?term=SRX8001111 & SRA: https://www.ncbi.nlm.nih.gov/sra?term=SRX7478297 & ftp://ftp.ncbi.nlm.nih.gov/geo/samples/GSM4238nnn/GSM4238271/suppl/GSM4238271\\_Blood\\_4091\\_1.fq.gz\\_bismark\\_bt2\\_pe.deduplicated.CpG\\_report.txt.gz                    & Holstein & F & Blood   \\\\\n",
       "\tGSM4238272 & Holstein, Blood\\_2\\_WGBS     & GSM4238272 & Public on Apr 30 2020 & Dec 30 2019 & Apr 30 2020 & SRA & 1 & Blood    & Bos taurus & tissue: Blood    & ⋯ & RANDOM & genomic & Bisulfite-Seq & BioSample: https://www.ncbi.nlm.nih.gov/biosample/SAMN13699100 & SRA: https://www.ncbi.nlm.nih.gov/sra?term=SRX8001112 & SRA: https://www.ncbi.nlm.nih.gov/sra?term=SRX7478298 & ftp://ftp.ncbi.nlm.nih.gov/geo/samples/GSM4238nnn/GSM4238272/suppl/GSM4238272\\_Blood\\_4254\\_1.fq.gz\\_bismark\\_bt2\\_pe.deduplicated.CpG\\_report.txt.gz                    & Holstein & F & Blood   \\\\\n",
       "\tGSM4238273 & Holstein, Heart\\_1\\_WGBS     & GSM4238273 & Public on Apr 30 2020 & Dec 30 2019 & Apr 30 2020 & SRA & 1 & Heart    & Bos taurus & tissue: Heart    & ⋯ & RANDOM & genomic & Bisulfite-Seq & BioSample: https://www.ncbi.nlm.nih.gov/biosample/SAMN13699099 & SRA: https://www.ncbi.nlm.nih.gov/sra?term=SRX8001113 & SRA: https://www.ncbi.nlm.nih.gov/sra?term=SRX7478299 & ftp://ftp.ncbi.nlm.nih.gov/geo/samples/GSM4238nnn/GSM4238273/suppl/GSM4238273\\_Heart\\_3842\\_1.fq.gz\\_bismark\\_bt2\\_pe.deduplicated.CpG\\_report.txt.gz                    & Holstein & F & Heart   \\\\\n",
       "\tGSM4238274 & Holstein, Ileum\\_1\\_WGBS     & GSM4238274 & Public on Apr 30 2020 & Dec 30 2019 & Apr 30 2020 & SRA & 1 & Ileum    & Bos taurus & tissue: Ileum    & ⋯ & RANDOM & genomic & Bisulfite-Seq & BioSample: https://www.ncbi.nlm.nih.gov/biosample/SAMN13699098 & SRA: https://www.ncbi.nlm.nih.gov/sra?term=SRX8001114 & SRA: https://www.ncbi.nlm.nih.gov/sra?term=SRX7478300 & ftp://ftp.ncbi.nlm.nih.gov/geo/samples/GSM4238nnn/GSM4238274/suppl/GSM4238274\\_Ileum\\_3842\\_1.fq.gz\\_bismark\\_bt2\\_pe.deduplicated.CpG\\_report.txt.gz                    & Holstein & F & Ileum   \\\\\n",
       "\tGSM4238275 & Holstein, Kidney\\_1\\_WGBS    & GSM4238275 & Public on Apr 30 2020 & Dec 30 2019 & Apr 30 2020 & SRA & 1 & Kidney   & Bos taurus & tissue: Kidney   & ⋯ & RANDOM & genomic & Bisulfite-Seq & BioSample: https://www.ncbi.nlm.nih.gov/biosample/SAMN13699097 & SRA: https://www.ncbi.nlm.nih.gov/sra?term=SRX8001115 & SRA: https://www.ncbi.nlm.nih.gov/sra?term=SRX7478301 & ftp://ftp.ncbi.nlm.nih.gov/geo/samples/GSM4238nnn/GSM4238275/suppl/GSM4238275\\_Kidney\\_3842\\_1.fq.gz\\_bismark\\_bt2\\_pe.deduplicated.CpG\\_report.txt.gz                   & Holstein & F & Kidney  \\\\\n",
       "\tGSM4238276 & Holstein, Ldorsi\\_1\\_WGBS    & GSM4238276 & Public on Apr 30 2020 & Dec 30 2019 & Apr 30 2020 & SRA & 1 & Ldorsi   & Bos taurus & tissue: Ldorsi   & ⋯ & RANDOM & genomic & Bisulfite-Seq & BioSample: https://www.ncbi.nlm.nih.gov/biosample/SAMN13699096 & SRA: https://www.ncbi.nlm.nih.gov/sra?term=SRX8001116 & SRA: https://www.ncbi.nlm.nih.gov/sra?term=SRX7478302 & ftp://ftp.ncbi.nlm.nih.gov/geo/samples/GSM4238nnn/GSM4238276/suppl/GSM4238276\\_Muscle\\_Ldorsi3842\\_1.fq.gz\\_bismark\\_bt2\\_pe.deduplicated.CpG\\_report.txt.gz             & Holstein & F & Ldorsi  \\\\\n",
       "\tGSM4238277 & Holstein, Ldorsi\\_2\\_WGBS    & GSM4238277 & Public on Apr 30 2020 & Dec 30 2019 & Apr 30 2020 & SRA & 1 & Ldorsi   & Bos taurus & tissue: Ldorsi   & ⋯ & RANDOM & genomic & Bisulfite-Seq & BioSample: https://www.ncbi.nlm.nih.gov/biosample/SAMN13699095 & SRA: https://www.ncbi.nlm.nih.gov/sra?term=SRX8001117 & SRA: https://www.ncbi.nlm.nih.gov/sra?term=SRX7478303 & ftp://ftp.ncbi.nlm.nih.gov/geo/samples/GSM4238nnn/GSM4238277/suppl/GSM4238277\\_Muscle\\_Ldorsi3886\\_1.fq.gz\\_bismark\\_bt2\\_pe.deduplicated.CpG\\_report.txt.gz             & Holstein & F & Ldorsi  \\\\\n",
       "\tGSM4238278 & Holstein, Liver\\_1\\_WGBS     & GSM4238278 & Public on Apr 30 2020 & Dec 30 2019 & Apr 30 2020 & SRA & 1 & Liver    & Bos taurus & tissue: Liver    & ⋯ & RANDOM & genomic & Bisulfite-Seq & BioSample: https://www.ncbi.nlm.nih.gov/biosample/SAMN13699094 & SRA: https://www.ncbi.nlm.nih.gov/sra?term=SRX8001118 & SRA: https://www.ncbi.nlm.nih.gov/sra?term=SRX7478304 & ftp://ftp.ncbi.nlm.nih.gov/geo/samples/GSM4238nnn/GSM4238278/suppl/GSM4238278\\_Liver\\_3842\\_1.fq.gz\\_bismark\\_bt2\\_pe.deduplicated.CpG\\_report.txt.gz                    & Holstein & F & Liver   \\\\\n",
       "\tGSM4238279 & Holstein, Lung\\_1\\_WGBS      & GSM4238279 & Public on Apr 30 2020 & Dec 30 2019 & Apr 30 2020 & SRA & 1 & Lung     & Bos taurus & tissue: Lung     & ⋯ & RANDOM & genomic & Bisulfite-Seq & BioSample: https://www.ncbi.nlm.nih.gov/biosample/SAMN13699093 & SRA: https://www.ncbi.nlm.nih.gov/sra?term=SRX8001119 & SRA: https://www.ncbi.nlm.nih.gov/sra?term=SRX7478305 & ftp://ftp.ncbi.nlm.nih.gov/geo/samples/GSM4238nnn/GSM4238279/suppl/GSM4238279\\_Lung\\_3842\\_1.fq.gz\\_bismark\\_bt2\\_pe.deduplicated.CpG\\_report.txt.gz                     & Holstein & F & Lung    \\\\\n",
       "\tGSM4238280 & Holstein, Lung\\_2\\_WGBS      & GSM4238280 & Public on Apr 30 2020 & Dec 30 2019 & Apr 30 2020 & SRA & 1 & Lung     & Bos taurus & tissue: Lung     & ⋯ & RANDOM & genomic & Bisulfite-Seq & BioSample: https://www.ncbi.nlm.nih.gov/biosample/SAMN13699092 & SRA: https://www.ncbi.nlm.nih.gov/sra?term=SRX8001120 & SRA: https://www.ncbi.nlm.nih.gov/sra?term=SRX7478306 & ftp://ftp.ncbi.nlm.nih.gov/geo/samples/GSM4238nnn/GSM4238280/suppl/GSM4238280\\_Lung\\_3886\\_1.fq.gz\\_bismark\\_bt2\\_pe.deduplicated.CpG\\_report.txt.gz                     & Holstein & F & Lung    \\\\\n",
       "\tGSM4238281 & Holstein, Ovary\\_1\\_WGBS     & GSM4238281 & Public on Apr 30 2020 & Dec 30 2019 & Apr 30 2020 & SRA & 1 & Ovary    & Bos taurus & tissue: Ovary    & ⋯ & RANDOM & genomic & Bisulfite-Seq & BioSample: https://www.ncbi.nlm.nih.gov/biosample/SAMN13699091 & SRA: https://www.ncbi.nlm.nih.gov/sra?term=SRX8001121 & SRA: https://www.ncbi.nlm.nih.gov/sra?term=SRX7478307 & ftp://ftp.ncbi.nlm.nih.gov/geo/samples/GSM4238nnn/GSM4238281/suppl/GSM4238281\\_Ovary\\_3842\\_1.fq.gz\\_bismark\\_bt2\\_pe.deduplicated.CpG\\_report.txt.gz                    & Holstein & F & Ovary   \\\\\n",
       "\tGSM4238282 & Holstein, Rumen\\_1\\_WGBS     & GSM4238282 & Public on Apr 30 2020 & Dec 30 2019 & Apr 30 2020 & SRA & 1 & Rumen    & Bos taurus & tissue: Rumen    & ⋯ & RANDOM & genomic & Bisulfite-Seq & BioSample: https://www.ncbi.nlm.nih.gov/biosample/SAMN13699090 & SRA: https://www.ncbi.nlm.nih.gov/sra?term=SRX8001122 & SRA: https://www.ncbi.nlm.nih.gov/sra?term=SRX7478308 & ftp://ftp.ncbi.nlm.nih.gov/geo/samples/GSM4238nnn/GSM4238282/suppl/GSM4238282\\_Rumen\\_3842\\_1.fq.gz\\_bismark\\_bt2\\_pe.deduplicated.CpG\\_report.txt.gz                    & Holstein & F & Rumen   \\\\\n",
       "\tGSM4238283 & Holstein, Rumen\\_2\\_WGBS     & GSM4238283 & Public on Apr 30 2020 & Dec 30 2019 & Apr 30 2020 & SRA & 1 & Rumen    & Bos taurus & tissue: Rumen    & ⋯ & RANDOM & genomic & Bisulfite-Seq & BioSample: https://www.ncbi.nlm.nih.gov/biosample/SAMN13699089 & SRA: https://www.ncbi.nlm.nih.gov/sra?term=SRX8001123 & SRA: https://www.ncbi.nlm.nih.gov/sra?term=SRX7478309 & ftp://ftp.ncbi.nlm.nih.gov/geo/samples/GSM4238nnn/GSM4238283/suppl/GSM4238283\\_Rumen\\_3886\\_1.fq.gz\\_bismark\\_bt2\\_pe.deduplicated.CpG\\_report.txt.gz                    & Holstein & F & Rumen   \\\\\n",
       "\tGSM4238284 & Holstein, Spleen\\_1\\_WGBS    & GSM4238284 & Public on Apr 30 2020 & Dec 30 2019 & Apr 30 2020 & SRA & 1 & Spleen   & Bos taurus & tissue: Spleen   & ⋯ & RANDOM & genomic & Bisulfite-Seq & BioSample: https://www.ncbi.nlm.nih.gov/biosample/SAMN13699088 & SRA: https://www.ncbi.nlm.nih.gov/sra?term=SRX8001124 & SRA: https://www.ncbi.nlm.nih.gov/sra?term=SRX7478310 & ftp://ftp.ncbi.nlm.nih.gov/geo/samples/GSM4238nnn/GSM4238284/suppl/GSM4238284\\_Spleen\\_3886\\_1.fq.gz\\_bismark\\_bt2\\_pe.deduplicated.CpG\\_report.txt.gz                   & Holstein & F & Spleen  \\\\\n",
       "\tGSM4238285 & Holstein, Uterus\\_1\\_WGBS    & GSM4238285 & Public on Apr 30 2020 & Dec 30 2019 & Apr 30 2020 & SRA & 1 & Uterus   & Bos taurus & tissue: Uterus   & ⋯ & RANDOM & genomic & Bisulfite-Seq & BioSample: https://www.ncbi.nlm.nih.gov/biosample/SAMN13699087 & SRA: https://www.ncbi.nlm.nih.gov/sra?term=SRX8001125 & SRA: https://www.ncbi.nlm.nih.gov/sra?term=SRX7478311 & ftp://ftp.ncbi.nlm.nih.gov/geo/samples/GSM4238nnn/GSM4238285/suppl/GSM4238285\\_Uterus\\_3842\\_1.fq.gz\\_bismark\\_bt2\\_pe.deduplicated.CpG\\_report.txt.gz                   & Holstein & F & Uterus  \\\\\n",
       "\tGSM4238286 & Holstein, Placenta\\_1\\_WGBS  & GSM4238286 & Public on Apr 30 2020 & Dec 30 2019 & Apr 30 2020 & SRA & 1 & Placenta & Bos taurus & tissue: Placenta & ⋯ & RANDOM & genomic & Bisulfite-Seq & BioSample: https://www.ncbi.nlm.nih.gov/biosample/SAMN13699086 & SRA: https://www.ncbi.nlm.nih.gov/sra?term=SRX8001126 & SRA: https://www.ncbi.nlm.nih.gov/sra?term=SRX7478312 & ftp://ftp.ncbi.nlm.nih.gov/geo/samples/GSM4238nnn/GSM4238286/suppl/GSM4238286\\_Placenta\\_D4271\\_1\\_val\\_1\\_bismark\\_bt2\\_pe.deduplicated.CpG\\_report.txt.CpG\\_report.txt.gz & Holstein & F & Placenta\\\\\n",
       "\tGSM4238287 & Holstein, Placenta\\_2\\_WGBS  & GSM4238287 & Public on Apr 30 2020 & Dec 30 2019 & Apr 30 2020 & SRA & 1 & Placenta & Bos taurus & tissue: Placenta & ⋯ & RANDOM & genomic & Bisulfite-Seq & BioSample: https://www.ncbi.nlm.nih.gov/biosample/SAMN13699085 & SRA: https://www.ncbi.nlm.nih.gov/sra?term=SRX8001102 & SRA: https://www.ncbi.nlm.nih.gov/sra?term=SRX7478313 & ftp://ftp.ncbi.nlm.nih.gov/geo/samples/GSM4238nnn/GSM4238287/suppl/GSM4238287\\_Placenta\\_D4035\\_1\\_val\\_1\\_bismark\\_bt2\\_pe.deduplicated.CpG\\_report.txt.CpG\\_report.txt.gz & Holstein & F & Placenta\\\\\n",
       "\tGSM4416578 & Hereford, Adipose\\_Dt, WGBS & GSM4416578 & Public on Apr 30 2020 & Mar 17 2020 & Apr 30 2020 & SRA & 1 & Adipose  & Bos taurus & tissue: Adipose  & ⋯ & RANDOM & genomic & Bisulfite-Seq & BioSample: https://www.ncbi.nlm.nih.gov/biosample/SAMN14389500 & SRA: https://www.ncbi.nlm.nih.gov/sra?term=SRX8001103 & SRA: https://www.ncbi.nlm.nih.gov/sra?term=SRX7924368 & ftp://ftp.ncbi.nlm.nih.gov/geo/samples/GSM4416nnn/GSM4416578/suppl/GSM4416578\\_Adipose\\_DtFat\\_1\\_val\\_1\\_bismark\\_bt2\\_pe.deduplicated.CpG\\_report.txt.CpG\\_report.txt.gz  & Hereford & F & Adipose \\\\\n",
       "\tGSM4416579 & Hereford, Heart\\_Dt, WGBS   & GSM4416579 & Public on Apr 30 2020 & Mar 17 2020 & Apr 30 2020 & SRA & 1 & Heart    & Bos taurus & tissue: Adipose  & ⋯ & RANDOM & genomic & Bisulfite-Seq & BioSample: https://www.ncbi.nlm.nih.gov/biosample/SAMN14389499 & SRA: https://www.ncbi.nlm.nih.gov/sra?term=SRX8001104 & SRA: https://www.ncbi.nlm.nih.gov/sra?term=SRX7924369 & ftp://ftp.ncbi.nlm.nih.gov/geo/samples/GSM4416nnn/GSM4416579/suppl/GSM4416579\\_Heart\\_DtHeart\\_1\\_val\\_1\\_bismark\\_bt2\\_pe.deduplicated.CpG\\_report.txt.CpG\\_report.txt.gz  & Hereford & F & Adipose \\\\\n",
       "\tGSM4416580 & Hereford, Jejun\\_Do, WGBS   & GSM4416580 & Public on Apr 30 2020 & Mar 17 2020 & Apr 30 2020 & SRA & 1 & Jejunum  & Bos taurus & tissue: Blood    & ⋯ & RANDOM & genomic & Bisulfite-Seq & BioSample: https://www.ncbi.nlm.nih.gov/biosample/SAMN14389498 & SRA: https://www.ncbi.nlm.nih.gov/sra?term=SRX8001105 & SRA: https://www.ncbi.nlm.nih.gov/sra?term=SRX7924370 & ftp://ftp.ncbi.nlm.nih.gov/geo/samples/GSM4416nnn/GSM4416580/suppl/GSM4416580\\_Jejun\\_DoJejun\\_1\\_val\\_1\\_bismark\\_bt2\\_pe.deduplicated.CpG\\_report.txt.CpG\\_report.txt.gz  & Hereford & M & Blood   \\\\\n",
       "\tGSM4416581 & Hereford, Jejun\\_Dt, WGBS   & GSM4416581 & Public on Apr 30 2020 & Mar 17 2020 & Apr 30 2020 & SRA & 1 & Jejunum  & Bos taurus & tissue: Blood    & ⋯ & RANDOM & genomic & Bisulfite-Seq & BioSample: https://www.ncbi.nlm.nih.gov/biosample/SAMN14389497 & SRA: https://www.ncbi.nlm.nih.gov/sra?term=SRX8001106 & SRA: https://www.ncbi.nlm.nih.gov/sra?term=SRX7924371 & ftp://ftp.ncbi.nlm.nih.gov/geo/samples/GSM4416nnn/GSM4416581/suppl/GSM4416581\\_Jejun\\_DtJejun\\_1\\_val\\_1\\_bismark\\_bt2\\_pe.deduplicated.CpG\\_report.txt.CpG\\_report.txt.gz  & Hereford & F & Blood   \\\\\n",
       "\tGSM4416582 & Hereford, Kidney\\_Dt, WGBS  & GSM4416582 & Public on Apr 30 2020 & Mar 17 2020 & Apr 30 2020 & SRA & 1 & Kidney   & Bos taurus & tissue: Heart    & ⋯ & RANDOM & genomic & Bisulfite-Seq & BioSample: https://www.ncbi.nlm.nih.gov/biosample/SAMN14389496 & SRA: https://www.ncbi.nlm.nih.gov/sra?term=SRX8001107 & SRA: https://www.ncbi.nlm.nih.gov/sra?term=SRX7924372 & ftp://ftp.ncbi.nlm.nih.gov/geo/samples/GSM4416nnn/GSM4416582/suppl/GSM4416582\\_Kidney\\_DtKid\\_1\\_val\\_1\\_bismark\\_bt2\\_pe.deduplicated.CpG\\_report.txt.CpG\\_report.txt.gz   & Hereford & F & Heart   \\\\\n",
       "\tGSM4416583 & Hereford, Liver\\_Do, WGBS   & GSM4416583 & Public on Apr 30 2020 & Mar 17 2020 & Apr 30 2020 & SRA & 1 & Liver    & Bos taurus & tissue: Ileum    & ⋯ & RANDOM & genomic & Bisulfite-Seq & BioSample: https://www.ncbi.nlm.nih.gov/biosample/SAMN14389495 & SRA: https://www.ncbi.nlm.nih.gov/sra?term=SRX8001108 & SRA: https://www.ncbi.nlm.nih.gov/sra?term=SRX7924373 & ftp://ftp.ncbi.nlm.nih.gov/geo/samples/GSM4416nnn/GSM4416583/suppl/GSM4416583\\_Liver\\_DoLiver\\_1\\_val\\_1\\_bismark\\_bt2\\_pe.deduplicated.CpG\\_report.txt.CpG\\_report.txt.gz  & Hereford & M & Ileum   \\\\\n",
       "\\end{tabular}\n"
      ],
      "text/markdown": [
       "\n",
       "A data.frame: 25 × 45\n",
       "\n",
       "| <!--/--> | title &lt;fct&gt; | geo_accession &lt;chr&gt; | status &lt;fct&gt; | submission_date &lt;fct&gt; | last_update_date &lt;fct&gt; | type &lt;fct&gt; | channel_count &lt;fct&gt; | source_name_ch1 &lt;fct&gt; | organism_ch1 &lt;fct&gt; | characteristics_ch1 &lt;fct&gt; | ⋯ ⋯ | library_selection &lt;fct&gt; | library_source &lt;fct&gt; | library_strategy &lt;fct&gt; | relation &lt;fct&gt; | relation.1 &lt;fct&gt; | relation.2 &lt;fct&gt; | supplementary_file_1 &lt;fct&gt; | breed:ch1 &lt;chr&gt; | Sex:ch1 &lt;chr&gt; | tissue:ch1 &lt;chr&gt; |\n",
       "|---|---|---|---|---|---|---|---|---|---|---|---|---|---|---|---|---|---|---|---|---|---|\n",
       "| GSM4238269 | Holstein, Adipose_1_WGBS   | GSM4238269 | Public on Apr 30 2020 | Dec 30 2019 | Apr 30 2020 | SRA | 1 | Adipose  | Bos taurus | tissue: Adipose  | ⋯ | RANDOM | genomic | Bisulfite-Seq | BioSample: https://www.ncbi.nlm.nih.gov/biosample/SAMN13699103 | SRA: https://www.ncbi.nlm.nih.gov/sra?term=SRX8001109 | SRA: https://www.ncbi.nlm.nih.gov/sra?term=SRX7478295 | ftp://ftp.ncbi.nlm.nih.gov/geo/samples/GSM4238nnn/GSM4238269/suppl/GSM4238269_Adipose_3842_1.fq.gz_bismark_bt2_pe.deduplicated.CpG_report.txt.gz                  | Holstein | F | Adipose  |\n",
       "| GSM4238270 | Holstein, Adipose_2_WGBS   | GSM4238270 | Public on Apr 30 2020 | Dec 30 2019 | Apr 30 2020 | SRA | 1 | Adipose  | Bos taurus | tissue: Adipose  | ⋯ | RANDOM | genomic | Bisulfite-Seq | BioSample: https://www.ncbi.nlm.nih.gov/biosample/SAMN13699102 | SRA: https://www.ncbi.nlm.nih.gov/sra?term=SRX8001110 | SRA: https://www.ncbi.nlm.nih.gov/sra?term=SRX7478296 | ftp://ftp.ncbi.nlm.nih.gov/geo/samples/GSM4238nnn/GSM4238270/suppl/GSM4238270_Adipose_3886_1.fq.gz_bismark_bt2_pe.deduplicated.CpG_report.txt.gz                  | Holstein | F | Adipose  |\n",
       "| GSM4238271 | Holstein, Blood_1_WGBS     | GSM4238271 | Public on Apr 30 2020 | Dec 30 2019 | Apr 30 2020 | SRA | 1 | Blood    | Bos taurus | tissue: Blood    | ⋯ | RANDOM | genomic | Bisulfite-Seq | BioSample: https://www.ncbi.nlm.nih.gov/biosample/SAMN13699101 | SRA: https://www.ncbi.nlm.nih.gov/sra?term=SRX8001111 | SRA: https://www.ncbi.nlm.nih.gov/sra?term=SRX7478297 | ftp://ftp.ncbi.nlm.nih.gov/geo/samples/GSM4238nnn/GSM4238271/suppl/GSM4238271_Blood_4091_1.fq.gz_bismark_bt2_pe.deduplicated.CpG_report.txt.gz                    | Holstein | F | Blood    |\n",
       "| GSM4238272 | Holstein, Blood_2_WGBS     | GSM4238272 | Public on Apr 30 2020 | Dec 30 2019 | Apr 30 2020 | SRA | 1 | Blood    | Bos taurus | tissue: Blood    | ⋯ | RANDOM | genomic | Bisulfite-Seq | BioSample: https://www.ncbi.nlm.nih.gov/biosample/SAMN13699100 | SRA: https://www.ncbi.nlm.nih.gov/sra?term=SRX8001112 | SRA: https://www.ncbi.nlm.nih.gov/sra?term=SRX7478298 | ftp://ftp.ncbi.nlm.nih.gov/geo/samples/GSM4238nnn/GSM4238272/suppl/GSM4238272_Blood_4254_1.fq.gz_bismark_bt2_pe.deduplicated.CpG_report.txt.gz                    | Holstein | F | Blood    |\n",
       "| GSM4238273 | Holstein, Heart_1_WGBS     | GSM4238273 | Public on Apr 30 2020 | Dec 30 2019 | Apr 30 2020 | SRA | 1 | Heart    | Bos taurus | tissue: Heart    | ⋯ | RANDOM | genomic | Bisulfite-Seq | BioSample: https://www.ncbi.nlm.nih.gov/biosample/SAMN13699099 | SRA: https://www.ncbi.nlm.nih.gov/sra?term=SRX8001113 | SRA: https://www.ncbi.nlm.nih.gov/sra?term=SRX7478299 | ftp://ftp.ncbi.nlm.nih.gov/geo/samples/GSM4238nnn/GSM4238273/suppl/GSM4238273_Heart_3842_1.fq.gz_bismark_bt2_pe.deduplicated.CpG_report.txt.gz                    | Holstein | F | Heart    |\n",
       "| GSM4238274 | Holstein, Ileum_1_WGBS     | GSM4238274 | Public on Apr 30 2020 | Dec 30 2019 | Apr 30 2020 | SRA | 1 | Ileum    | Bos taurus | tissue: Ileum    | ⋯ | RANDOM | genomic | Bisulfite-Seq | BioSample: https://www.ncbi.nlm.nih.gov/biosample/SAMN13699098 | SRA: https://www.ncbi.nlm.nih.gov/sra?term=SRX8001114 | SRA: https://www.ncbi.nlm.nih.gov/sra?term=SRX7478300 | ftp://ftp.ncbi.nlm.nih.gov/geo/samples/GSM4238nnn/GSM4238274/suppl/GSM4238274_Ileum_3842_1.fq.gz_bismark_bt2_pe.deduplicated.CpG_report.txt.gz                    | Holstein | F | Ileum    |\n",
       "| GSM4238275 | Holstein, Kidney_1_WGBS    | GSM4238275 | Public on Apr 30 2020 | Dec 30 2019 | Apr 30 2020 | SRA | 1 | Kidney   | Bos taurus | tissue: Kidney   | ⋯ | RANDOM | genomic | Bisulfite-Seq | BioSample: https://www.ncbi.nlm.nih.gov/biosample/SAMN13699097 | SRA: https://www.ncbi.nlm.nih.gov/sra?term=SRX8001115 | SRA: https://www.ncbi.nlm.nih.gov/sra?term=SRX7478301 | ftp://ftp.ncbi.nlm.nih.gov/geo/samples/GSM4238nnn/GSM4238275/suppl/GSM4238275_Kidney_3842_1.fq.gz_bismark_bt2_pe.deduplicated.CpG_report.txt.gz                   | Holstein | F | Kidney   |\n",
       "| GSM4238276 | Holstein, Ldorsi_1_WGBS    | GSM4238276 | Public on Apr 30 2020 | Dec 30 2019 | Apr 30 2020 | SRA | 1 | Ldorsi   | Bos taurus | tissue: Ldorsi   | ⋯ | RANDOM | genomic | Bisulfite-Seq | BioSample: https://www.ncbi.nlm.nih.gov/biosample/SAMN13699096 | SRA: https://www.ncbi.nlm.nih.gov/sra?term=SRX8001116 | SRA: https://www.ncbi.nlm.nih.gov/sra?term=SRX7478302 | ftp://ftp.ncbi.nlm.nih.gov/geo/samples/GSM4238nnn/GSM4238276/suppl/GSM4238276_Muscle_Ldorsi3842_1.fq.gz_bismark_bt2_pe.deduplicated.CpG_report.txt.gz             | Holstein | F | Ldorsi   |\n",
       "| GSM4238277 | Holstein, Ldorsi_2_WGBS    | GSM4238277 | Public on Apr 30 2020 | Dec 30 2019 | Apr 30 2020 | SRA | 1 | Ldorsi   | Bos taurus | tissue: Ldorsi   | ⋯ | RANDOM | genomic | Bisulfite-Seq | BioSample: https://www.ncbi.nlm.nih.gov/biosample/SAMN13699095 | SRA: https://www.ncbi.nlm.nih.gov/sra?term=SRX8001117 | SRA: https://www.ncbi.nlm.nih.gov/sra?term=SRX7478303 | ftp://ftp.ncbi.nlm.nih.gov/geo/samples/GSM4238nnn/GSM4238277/suppl/GSM4238277_Muscle_Ldorsi3886_1.fq.gz_bismark_bt2_pe.deduplicated.CpG_report.txt.gz             | Holstein | F | Ldorsi   |\n",
       "| GSM4238278 | Holstein, Liver_1_WGBS     | GSM4238278 | Public on Apr 30 2020 | Dec 30 2019 | Apr 30 2020 | SRA | 1 | Liver    | Bos taurus | tissue: Liver    | ⋯ | RANDOM | genomic | Bisulfite-Seq | BioSample: https://www.ncbi.nlm.nih.gov/biosample/SAMN13699094 | SRA: https://www.ncbi.nlm.nih.gov/sra?term=SRX8001118 | SRA: https://www.ncbi.nlm.nih.gov/sra?term=SRX7478304 | ftp://ftp.ncbi.nlm.nih.gov/geo/samples/GSM4238nnn/GSM4238278/suppl/GSM4238278_Liver_3842_1.fq.gz_bismark_bt2_pe.deduplicated.CpG_report.txt.gz                    | Holstein | F | Liver    |\n",
       "| GSM4238279 | Holstein, Lung_1_WGBS      | GSM4238279 | Public on Apr 30 2020 | Dec 30 2019 | Apr 30 2020 | SRA | 1 | Lung     | Bos taurus | tissue: Lung     | ⋯ | RANDOM | genomic | Bisulfite-Seq | BioSample: https://www.ncbi.nlm.nih.gov/biosample/SAMN13699093 | SRA: https://www.ncbi.nlm.nih.gov/sra?term=SRX8001119 | SRA: https://www.ncbi.nlm.nih.gov/sra?term=SRX7478305 | ftp://ftp.ncbi.nlm.nih.gov/geo/samples/GSM4238nnn/GSM4238279/suppl/GSM4238279_Lung_3842_1.fq.gz_bismark_bt2_pe.deduplicated.CpG_report.txt.gz                     | Holstein | F | Lung     |\n",
       "| GSM4238280 | Holstein, Lung_2_WGBS      | GSM4238280 | Public on Apr 30 2020 | Dec 30 2019 | Apr 30 2020 | SRA | 1 | Lung     | Bos taurus | tissue: Lung     | ⋯ | RANDOM | genomic | Bisulfite-Seq | BioSample: https://www.ncbi.nlm.nih.gov/biosample/SAMN13699092 | SRA: https://www.ncbi.nlm.nih.gov/sra?term=SRX8001120 | SRA: https://www.ncbi.nlm.nih.gov/sra?term=SRX7478306 | ftp://ftp.ncbi.nlm.nih.gov/geo/samples/GSM4238nnn/GSM4238280/suppl/GSM4238280_Lung_3886_1.fq.gz_bismark_bt2_pe.deduplicated.CpG_report.txt.gz                     | Holstein | F | Lung     |\n",
       "| GSM4238281 | Holstein, Ovary_1_WGBS     | GSM4238281 | Public on Apr 30 2020 | Dec 30 2019 | Apr 30 2020 | SRA | 1 | Ovary    | Bos taurus | tissue: Ovary    | ⋯ | RANDOM | genomic | Bisulfite-Seq | BioSample: https://www.ncbi.nlm.nih.gov/biosample/SAMN13699091 | SRA: https://www.ncbi.nlm.nih.gov/sra?term=SRX8001121 | SRA: https://www.ncbi.nlm.nih.gov/sra?term=SRX7478307 | ftp://ftp.ncbi.nlm.nih.gov/geo/samples/GSM4238nnn/GSM4238281/suppl/GSM4238281_Ovary_3842_1.fq.gz_bismark_bt2_pe.deduplicated.CpG_report.txt.gz                    | Holstein | F | Ovary    |\n",
       "| GSM4238282 | Holstein, Rumen_1_WGBS     | GSM4238282 | Public on Apr 30 2020 | Dec 30 2019 | Apr 30 2020 | SRA | 1 | Rumen    | Bos taurus | tissue: Rumen    | ⋯ | RANDOM | genomic | Bisulfite-Seq | BioSample: https://www.ncbi.nlm.nih.gov/biosample/SAMN13699090 | SRA: https://www.ncbi.nlm.nih.gov/sra?term=SRX8001122 | SRA: https://www.ncbi.nlm.nih.gov/sra?term=SRX7478308 | ftp://ftp.ncbi.nlm.nih.gov/geo/samples/GSM4238nnn/GSM4238282/suppl/GSM4238282_Rumen_3842_1.fq.gz_bismark_bt2_pe.deduplicated.CpG_report.txt.gz                    | Holstein | F | Rumen    |\n",
       "| GSM4238283 | Holstein, Rumen_2_WGBS     | GSM4238283 | Public on Apr 30 2020 | Dec 30 2019 | Apr 30 2020 | SRA | 1 | Rumen    | Bos taurus | tissue: Rumen    | ⋯ | RANDOM | genomic | Bisulfite-Seq | BioSample: https://www.ncbi.nlm.nih.gov/biosample/SAMN13699089 | SRA: https://www.ncbi.nlm.nih.gov/sra?term=SRX8001123 | SRA: https://www.ncbi.nlm.nih.gov/sra?term=SRX7478309 | ftp://ftp.ncbi.nlm.nih.gov/geo/samples/GSM4238nnn/GSM4238283/suppl/GSM4238283_Rumen_3886_1.fq.gz_bismark_bt2_pe.deduplicated.CpG_report.txt.gz                    | Holstein | F | Rumen    |\n",
       "| GSM4238284 | Holstein, Spleen_1_WGBS    | GSM4238284 | Public on Apr 30 2020 | Dec 30 2019 | Apr 30 2020 | SRA | 1 | Spleen   | Bos taurus | tissue: Spleen   | ⋯ | RANDOM | genomic | Bisulfite-Seq | BioSample: https://www.ncbi.nlm.nih.gov/biosample/SAMN13699088 | SRA: https://www.ncbi.nlm.nih.gov/sra?term=SRX8001124 | SRA: https://www.ncbi.nlm.nih.gov/sra?term=SRX7478310 | ftp://ftp.ncbi.nlm.nih.gov/geo/samples/GSM4238nnn/GSM4238284/suppl/GSM4238284_Spleen_3886_1.fq.gz_bismark_bt2_pe.deduplicated.CpG_report.txt.gz                   | Holstein | F | Spleen   |\n",
       "| GSM4238285 | Holstein, Uterus_1_WGBS    | GSM4238285 | Public on Apr 30 2020 | Dec 30 2019 | Apr 30 2020 | SRA | 1 | Uterus   | Bos taurus | tissue: Uterus   | ⋯ | RANDOM | genomic | Bisulfite-Seq | BioSample: https://www.ncbi.nlm.nih.gov/biosample/SAMN13699087 | SRA: https://www.ncbi.nlm.nih.gov/sra?term=SRX8001125 | SRA: https://www.ncbi.nlm.nih.gov/sra?term=SRX7478311 | ftp://ftp.ncbi.nlm.nih.gov/geo/samples/GSM4238nnn/GSM4238285/suppl/GSM4238285_Uterus_3842_1.fq.gz_bismark_bt2_pe.deduplicated.CpG_report.txt.gz                   | Holstein | F | Uterus   |\n",
       "| GSM4238286 | Holstein, Placenta_1_WGBS  | GSM4238286 | Public on Apr 30 2020 | Dec 30 2019 | Apr 30 2020 | SRA | 1 | Placenta | Bos taurus | tissue: Placenta | ⋯ | RANDOM | genomic | Bisulfite-Seq | BioSample: https://www.ncbi.nlm.nih.gov/biosample/SAMN13699086 | SRA: https://www.ncbi.nlm.nih.gov/sra?term=SRX8001126 | SRA: https://www.ncbi.nlm.nih.gov/sra?term=SRX7478312 | ftp://ftp.ncbi.nlm.nih.gov/geo/samples/GSM4238nnn/GSM4238286/suppl/GSM4238286_Placenta_D4271_1_val_1_bismark_bt2_pe.deduplicated.CpG_report.txt.CpG_report.txt.gz | Holstein | F | Placenta |\n",
       "| GSM4238287 | Holstein, Placenta_2_WGBS  | GSM4238287 | Public on Apr 30 2020 | Dec 30 2019 | Apr 30 2020 | SRA | 1 | Placenta | Bos taurus | tissue: Placenta | ⋯ | RANDOM | genomic | Bisulfite-Seq | BioSample: https://www.ncbi.nlm.nih.gov/biosample/SAMN13699085 | SRA: https://www.ncbi.nlm.nih.gov/sra?term=SRX8001102 | SRA: https://www.ncbi.nlm.nih.gov/sra?term=SRX7478313 | ftp://ftp.ncbi.nlm.nih.gov/geo/samples/GSM4238nnn/GSM4238287/suppl/GSM4238287_Placenta_D4035_1_val_1_bismark_bt2_pe.deduplicated.CpG_report.txt.CpG_report.txt.gz | Holstein | F | Placenta |\n",
       "| GSM4416578 | Hereford, Adipose_Dt, WGBS | GSM4416578 | Public on Apr 30 2020 | Mar 17 2020 | Apr 30 2020 | SRA | 1 | Adipose  | Bos taurus | tissue: Adipose  | ⋯ | RANDOM | genomic | Bisulfite-Seq | BioSample: https://www.ncbi.nlm.nih.gov/biosample/SAMN14389500 | SRA: https://www.ncbi.nlm.nih.gov/sra?term=SRX8001103 | SRA: https://www.ncbi.nlm.nih.gov/sra?term=SRX7924368 | ftp://ftp.ncbi.nlm.nih.gov/geo/samples/GSM4416nnn/GSM4416578/suppl/GSM4416578_Adipose_DtFat_1_val_1_bismark_bt2_pe.deduplicated.CpG_report.txt.CpG_report.txt.gz  | Hereford | F | Adipose  |\n",
       "| GSM4416579 | Hereford, Heart_Dt, WGBS   | GSM4416579 | Public on Apr 30 2020 | Mar 17 2020 | Apr 30 2020 | SRA | 1 | Heart    | Bos taurus | tissue: Adipose  | ⋯ | RANDOM | genomic | Bisulfite-Seq | BioSample: https://www.ncbi.nlm.nih.gov/biosample/SAMN14389499 | SRA: https://www.ncbi.nlm.nih.gov/sra?term=SRX8001104 | SRA: https://www.ncbi.nlm.nih.gov/sra?term=SRX7924369 | ftp://ftp.ncbi.nlm.nih.gov/geo/samples/GSM4416nnn/GSM4416579/suppl/GSM4416579_Heart_DtHeart_1_val_1_bismark_bt2_pe.deduplicated.CpG_report.txt.CpG_report.txt.gz  | Hereford | F | Adipose  |\n",
       "| GSM4416580 | Hereford, Jejun_Do, WGBS   | GSM4416580 | Public on Apr 30 2020 | Mar 17 2020 | Apr 30 2020 | SRA | 1 | Jejunum  | Bos taurus | tissue: Blood    | ⋯ | RANDOM | genomic | Bisulfite-Seq | BioSample: https://www.ncbi.nlm.nih.gov/biosample/SAMN14389498 | SRA: https://www.ncbi.nlm.nih.gov/sra?term=SRX8001105 | SRA: https://www.ncbi.nlm.nih.gov/sra?term=SRX7924370 | ftp://ftp.ncbi.nlm.nih.gov/geo/samples/GSM4416nnn/GSM4416580/suppl/GSM4416580_Jejun_DoJejun_1_val_1_bismark_bt2_pe.deduplicated.CpG_report.txt.CpG_report.txt.gz  | Hereford | M | Blood    |\n",
       "| GSM4416581 | Hereford, Jejun_Dt, WGBS   | GSM4416581 | Public on Apr 30 2020 | Mar 17 2020 | Apr 30 2020 | SRA | 1 | Jejunum  | Bos taurus | tissue: Blood    | ⋯ | RANDOM | genomic | Bisulfite-Seq | BioSample: https://www.ncbi.nlm.nih.gov/biosample/SAMN14389497 | SRA: https://www.ncbi.nlm.nih.gov/sra?term=SRX8001106 | SRA: https://www.ncbi.nlm.nih.gov/sra?term=SRX7924371 | ftp://ftp.ncbi.nlm.nih.gov/geo/samples/GSM4416nnn/GSM4416581/suppl/GSM4416581_Jejun_DtJejun_1_val_1_bismark_bt2_pe.deduplicated.CpG_report.txt.CpG_report.txt.gz  | Hereford | F | Blood    |\n",
       "| GSM4416582 | Hereford, Kidney_Dt, WGBS  | GSM4416582 | Public on Apr 30 2020 | Mar 17 2020 | Apr 30 2020 | SRA | 1 | Kidney   | Bos taurus | tissue: Heart    | ⋯ | RANDOM | genomic | Bisulfite-Seq | BioSample: https://www.ncbi.nlm.nih.gov/biosample/SAMN14389496 | SRA: https://www.ncbi.nlm.nih.gov/sra?term=SRX8001107 | SRA: https://www.ncbi.nlm.nih.gov/sra?term=SRX7924372 | ftp://ftp.ncbi.nlm.nih.gov/geo/samples/GSM4416nnn/GSM4416582/suppl/GSM4416582_Kidney_DtKid_1_val_1_bismark_bt2_pe.deduplicated.CpG_report.txt.CpG_report.txt.gz   | Hereford | F | Heart    |\n",
       "| GSM4416583 | Hereford, Liver_Do, WGBS   | GSM4416583 | Public on Apr 30 2020 | Mar 17 2020 | Apr 30 2020 | SRA | 1 | Liver    | Bos taurus | tissue: Ileum    | ⋯ | RANDOM | genomic | Bisulfite-Seq | BioSample: https://www.ncbi.nlm.nih.gov/biosample/SAMN14389495 | SRA: https://www.ncbi.nlm.nih.gov/sra?term=SRX8001108 | SRA: https://www.ncbi.nlm.nih.gov/sra?term=SRX7924373 | ftp://ftp.ncbi.nlm.nih.gov/geo/samples/GSM4416nnn/GSM4416583/suppl/GSM4416583_Liver_DoLiver_1_val_1_bismark_bt2_pe.deduplicated.CpG_report.txt.CpG_report.txt.gz  | Hereford | M | Ileum    |\n",
       "\n"
      ],
      "text/plain": [
       "           title                      geo_accession status               \n",
       "GSM4238269 Holstein, Adipose_1_WGBS   GSM4238269    Public on Apr 30 2020\n",
       "GSM4238270 Holstein, Adipose_2_WGBS   GSM4238270    Public on Apr 30 2020\n",
       "GSM4238271 Holstein, Blood_1_WGBS     GSM4238271    Public on Apr 30 2020\n",
       "GSM4238272 Holstein, Blood_2_WGBS     GSM4238272    Public on Apr 30 2020\n",
       "GSM4238273 Holstein, Heart_1_WGBS     GSM4238273    Public on Apr 30 2020\n",
       "GSM4238274 Holstein, Ileum_1_WGBS     GSM4238274    Public on Apr 30 2020\n",
       "GSM4238275 Holstein, Kidney_1_WGBS    GSM4238275    Public on Apr 30 2020\n",
       "GSM4238276 Holstein, Ldorsi_1_WGBS    GSM4238276    Public on Apr 30 2020\n",
       "GSM4238277 Holstein, Ldorsi_2_WGBS    GSM4238277    Public on Apr 30 2020\n",
       "GSM4238278 Holstein, Liver_1_WGBS     GSM4238278    Public on Apr 30 2020\n",
       "GSM4238279 Holstein, Lung_1_WGBS      GSM4238279    Public on Apr 30 2020\n",
       "GSM4238280 Holstein, Lung_2_WGBS      GSM4238280    Public on Apr 30 2020\n",
       "GSM4238281 Holstein, Ovary_1_WGBS     GSM4238281    Public on Apr 30 2020\n",
       "GSM4238282 Holstein, Rumen_1_WGBS     GSM4238282    Public on Apr 30 2020\n",
       "GSM4238283 Holstein, Rumen_2_WGBS     GSM4238283    Public on Apr 30 2020\n",
       "GSM4238284 Holstein, Spleen_1_WGBS    GSM4238284    Public on Apr 30 2020\n",
       "GSM4238285 Holstein, Uterus_1_WGBS    GSM4238285    Public on Apr 30 2020\n",
       "GSM4238286 Holstein, Placenta_1_WGBS  GSM4238286    Public on Apr 30 2020\n",
       "GSM4238287 Holstein, Placenta_2_WGBS  GSM4238287    Public on Apr 30 2020\n",
       "GSM4416578 Hereford, Adipose_Dt, WGBS GSM4416578    Public on Apr 30 2020\n",
       "GSM4416579 Hereford, Heart_Dt, WGBS   GSM4416579    Public on Apr 30 2020\n",
       "GSM4416580 Hereford, Jejun_Do, WGBS   GSM4416580    Public on Apr 30 2020\n",
       "GSM4416581 Hereford, Jejun_Dt, WGBS   GSM4416581    Public on Apr 30 2020\n",
       "GSM4416582 Hereford, Kidney_Dt, WGBS  GSM4416582    Public on Apr 30 2020\n",
       "GSM4416583 Hereford, Liver_Do, WGBS   GSM4416583    Public on Apr 30 2020\n",
       "           submission_date last_update_date type channel_count source_name_ch1\n",
       "GSM4238269 Dec 30 2019     Apr 30 2020      SRA  1             Adipose        \n",
       "GSM4238270 Dec 30 2019     Apr 30 2020      SRA  1             Adipose        \n",
       "GSM4238271 Dec 30 2019     Apr 30 2020      SRA  1             Blood          \n",
       "GSM4238272 Dec 30 2019     Apr 30 2020      SRA  1             Blood          \n",
       "GSM4238273 Dec 30 2019     Apr 30 2020      SRA  1             Heart          \n",
       "GSM4238274 Dec 30 2019     Apr 30 2020      SRA  1             Ileum          \n",
       "GSM4238275 Dec 30 2019     Apr 30 2020      SRA  1             Kidney         \n",
       "GSM4238276 Dec 30 2019     Apr 30 2020      SRA  1             Ldorsi         \n",
       "GSM4238277 Dec 30 2019     Apr 30 2020      SRA  1             Ldorsi         \n",
       "GSM4238278 Dec 30 2019     Apr 30 2020      SRA  1             Liver          \n",
       "GSM4238279 Dec 30 2019     Apr 30 2020      SRA  1             Lung           \n",
       "GSM4238280 Dec 30 2019     Apr 30 2020      SRA  1             Lung           \n",
       "GSM4238281 Dec 30 2019     Apr 30 2020      SRA  1             Ovary          \n",
       "GSM4238282 Dec 30 2019     Apr 30 2020      SRA  1             Rumen          \n",
       "GSM4238283 Dec 30 2019     Apr 30 2020      SRA  1             Rumen          \n",
       "GSM4238284 Dec 30 2019     Apr 30 2020      SRA  1             Spleen         \n",
       "GSM4238285 Dec 30 2019     Apr 30 2020      SRA  1             Uterus         \n",
       "GSM4238286 Dec 30 2019     Apr 30 2020      SRA  1             Placenta       \n",
       "GSM4238287 Dec 30 2019     Apr 30 2020      SRA  1             Placenta       \n",
       "GSM4416578 Mar 17 2020     Apr 30 2020      SRA  1             Adipose        \n",
       "GSM4416579 Mar 17 2020     Apr 30 2020      SRA  1             Heart          \n",
       "GSM4416580 Mar 17 2020     Apr 30 2020      SRA  1             Jejunum        \n",
       "GSM4416581 Mar 17 2020     Apr 30 2020      SRA  1             Jejunum        \n",
       "GSM4416582 Mar 17 2020     Apr 30 2020      SRA  1             Kidney         \n",
       "GSM4416583 Mar 17 2020     Apr 30 2020      SRA  1             Liver          \n",
       "           organism_ch1 characteristics_ch1 ⋯ library_selection library_source\n",
       "GSM4238269 Bos taurus   tissue: Adipose     ⋯ RANDOM            genomic       \n",
       "GSM4238270 Bos taurus   tissue: Adipose     ⋯ RANDOM            genomic       \n",
       "GSM4238271 Bos taurus   tissue: Blood       ⋯ RANDOM            genomic       \n",
       "GSM4238272 Bos taurus   tissue: Blood       ⋯ RANDOM            genomic       \n",
       "GSM4238273 Bos taurus   tissue: Heart       ⋯ RANDOM            genomic       \n",
       "GSM4238274 Bos taurus   tissue: Ileum       ⋯ RANDOM            genomic       \n",
       "GSM4238275 Bos taurus   tissue: Kidney      ⋯ RANDOM            genomic       \n",
       "GSM4238276 Bos taurus   tissue: Ldorsi      ⋯ RANDOM            genomic       \n",
       "GSM4238277 Bos taurus   tissue: Ldorsi      ⋯ RANDOM            genomic       \n",
       "GSM4238278 Bos taurus   tissue: Liver       ⋯ RANDOM            genomic       \n",
       "GSM4238279 Bos taurus   tissue: Lung        ⋯ RANDOM            genomic       \n",
       "GSM4238280 Bos taurus   tissue: Lung        ⋯ RANDOM            genomic       \n",
       "GSM4238281 Bos taurus   tissue: Ovary       ⋯ RANDOM            genomic       \n",
       "GSM4238282 Bos taurus   tissue: Rumen       ⋯ RANDOM            genomic       \n",
       "GSM4238283 Bos taurus   tissue: Rumen       ⋯ RANDOM            genomic       \n",
       "GSM4238284 Bos taurus   tissue: Spleen      ⋯ RANDOM            genomic       \n",
       "GSM4238285 Bos taurus   tissue: Uterus      ⋯ RANDOM            genomic       \n",
       "GSM4238286 Bos taurus   tissue: Placenta    ⋯ RANDOM            genomic       \n",
       "GSM4238287 Bos taurus   tissue: Placenta    ⋯ RANDOM            genomic       \n",
       "GSM4416578 Bos taurus   tissue: Adipose     ⋯ RANDOM            genomic       \n",
       "GSM4416579 Bos taurus   tissue: Adipose     ⋯ RANDOM            genomic       \n",
       "GSM4416580 Bos taurus   tissue: Blood       ⋯ RANDOM            genomic       \n",
       "GSM4416581 Bos taurus   tissue: Blood       ⋯ RANDOM            genomic       \n",
       "GSM4416582 Bos taurus   tissue: Heart       ⋯ RANDOM            genomic       \n",
       "GSM4416583 Bos taurus   tissue: Ileum       ⋯ RANDOM            genomic       \n",
       "           library_strategy\n",
       "GSM4238269 Bisulfite-Seq   \n",
       "GSM4238270 Bisulfite-Seq   \n",
       "GSM4238271 Bisulfite-Seq   \n",
       "GSM4238272 Bisulfite-Seq   \n",
       "GSM4238273 Bisulfite-Seq   \n",
       "GSM4238274 Bisulfite-Seq   \n",
       "GSM4238275 Bisulfite-Seq   \n",
       "GSM4238276 Bisulfite-Seq   \n",
       "GSM4238277 Bisulfite-Seq   \n",
       "GSM4238278 Bisulfite-Seq   \n",
       "GSM4238279 Bisulfite-Seq   \n",
       "GSM4238280 Bisulfite-Seq   \n",
       "GSM4238281 Bisulfite-Seq   \n",
       "GSM4238282 Bisulfite-Seq   \n",
       "GSM4238283 Bisulfite-Seq   \n",
       "GSM4238284 Bisulfite-Seq   \n",
       "GSM4238285 Bisulfite-Seq   \n",
       "GSM4238286 Bisulfite-Seq   \n",
       "GSM4238287 Bisulfite-Seq   \n",
       "GSM4416578 Bisulfite-Seq   \n",
       "GSM4416579 Bisulfite-Seq   \n",
       "GSM4416580 Bisulfite-Seq   \n",
       "GSM4416581 Bisulfite-Seq   \n",
       "GSM4416582 Bisulfite-Seq   \n",
       "GSM4416583 Bisulfite-Seq   \n",
       "           relation                                                      \n",
       "GSM4238269 BioSample: https://www.ncbi.nlm.nih.gov/biosample/SAMN13699103\n",
       "GSM4238270 BioSample: https://www.ncbi.nlm.nih.gov/biosample/SAMN13699102\n",
       "GSM4238271 BioSample: https://www.ncbi.nlm.nih.gov/biosample/SAMN13699101\n",
       "GSM4238272 BioSample: https://www.ncbi.nlm.nih.gov/biosample/SAMN13699100\n",
       "GSM4238273 BioSample: https://www.ncbi.nlm.nih.gov/biosample/SAMN13699099\n",
       "GSM4238274 BioSample: https://www.ncbi.nlm.nih.gov/biosample/SAMN13699098\n",
       "GSM4238275 BioSample: https://www.ncbi.nlm.nih.gov/biosample/SAMN13699097\n",
       "GSM4238276 BioSample: https://www.ncbi.nlm.nih.gov/biosample/SAMN13699096\n",
       "GSM4238277 BioSample: https://www.ncbi.nlm.nih.gov/biosample/SAMN13699095\n",
       "GSM4238278 BioSample: https://www.ncbi.nlm.nih.gov/biosample/SAMN13699094\n",
       "GSM4238279 BioSample: https://www.ncbi.nlm.nih.gov/biosample/SAMN13699093\n",
       "GSM4238280 BioSample: https://www.ncbi.nlm.nih.gov/biosample/SAMN13699092\n",
       "GSM4238281 BioSample: https://www.ncbi.nlm.nih.gov/biosample/SAMN13699091\n",
       "GSM4238282 BioSample: https://www.ncbi.nlm.nih.gov/biosample/SAMN13699090\n",
       "GSM4238283 BioSample: https://www.ncbi.nlm.nih.gov/biosample/SAMN13699089\n",
       "GSM4238284 BioSample: https://www.ncbi.nlm.nih.gov/biosample/SAMN13699088\n",
       "GSM4238285 BioSample: https://www.ncbi.nlm.nih.gov/biosample/SAMN13699087\n",
       "GSM4238286 BioSample: https://www.ncbi.nlm.nih.gov/biosample/SAMN13699086\n",
       "GSM4238287 BioSample: https://www.ncbi.nlm.nih.gov/biosample/SAMN13699085\n",
       "GSM4416578 BioSample: https://www.ncbi.nlm.nih.gov/biosample/SAMN14389500\n",
       "GSM4416579 BioSample: https://www.ncbi.nlm.nih.gov/biosample/SAMN14389499\n",
       "GSM4416580 BioSample: https://www.ncbi.nlm.nih.gov/biosample/SAMN14389498\n",
       "GSM4416581 BioSample: https://www.ncbi.nlm.nih.gov/biosample/SAMN14389497\n",
       "GSM4416582 BioSample: https://www.ncbi.nlm.nih.gov/biosample/SAMN14389496\n",
       "GSM4416583 BioSample: https://www.ncbi.nlm.nih.gov/biosample/SAMN14389495\n",
       "           relation.1                                           \n",
       "GSM4238269 SRA: https://www.ncbi.nlm.nih.gov/sra?term=SRX8001109\n",
       "GSM4238270 SRA: https://www.ncbi.nlm.nih.gov/sra?term=SRX8001110\n",
       "GSM4238271 SRA: https://www.ncbi.nlm.nih.gov/sra?term=SRX8001111\n",
       "GSM4238272 SRA: https://www.ncbi.nlm.nih.gov/sra?term=SRX8001112\n",
       "GSM4238273 SRA: https://www.ncbi.nlm.nih.gov/sra?term=SRX8001113\n",
       "GSM4238274 SRA: https://www.ncbi.nlm.nih.gov/sra?term=SRX8001114\n",
       "GSM4238275 SRA: https://www.ncbi.nlm.nih.gov/sra?term=SRX8001115\n",
       "GSM4238276 SRA: https://www.ncbi.nlm.nih.gov/sra?term=SRX8001116\n",
       "GSM4238277 SRA: https://www.ncbi.nlm.nih.gov/sra?term=SRX8001117\n",
       "GSM4238278 SRA: https://www.ncbi.nlm.nih.gov/sra?term=SRX8001118\n",
       "GSM4238279 SRA: https://www.ncbi.nlm.nih.gov/sra?term=SRX8001119\n",
       "GSM4238280 SRA: https://www.ncbi.nlm.nih.gov/sra?term=SRX8001120\n",
       "GSM4238281 SRA: https://www.ncbi.nlm.nih.gov/sra?term=SRX8001121\n",
       "GSM4238282 SRA: https://www.ncbi.nlm.nih.gov/sra?term=SRX8001122\n",
       "GSM4238283 SRA: https://www.ncbi.nlm.nih.gov/sra?term=SRX8001123\n",
       "GSM4238284 SRA: https://www.ncbi.nlm.nih.gov/sra?term=SRX8001124\n",
       "GSM4238285 SRA: https://www.ncbi.nlm.nih.gov/sra?term=SRX8001125\n",
       "GSM4238286 SRA: https://www.ncbi.nlm.nih.gov/sra?term=SRX8001126\n",
       "GSM4238287 SRA: https://www.ncbi.nlm.nih.gov/sra?term=SRX8001102\n",
       "GSM4416578 SRA: https://www.ncbi.nlm.nih.gov/sra?term=SRX8001103\n",
       "GSM4416579 SRA: https://www.ncbi.nlm.nih.gov/sra?term=SRX8001104\n",
       "GSM4416580 SRA: https://www.ncbi.nlm.nih.gov/sra?term=SRX8001105\n",
       "GSM4416581 SRA: https://www.ncbi.nlm.nih.gov/sra?term=SRX8001106\n",
       "GSM4416582 SRA: https://www.ncbi.nlm.nih.gov/sra?term=SRX8001107\n",
       "GSM4416583 SRA: https://www.ncbi.nlm.nih.gov/sra?term=SRX8001108\n",
       "           relation.2                                           \n",
       "GSM4238269 SRA: https://www.ncbi.nlm.nih.gov/sra?term=SRX7478295\n",
       "GSM4238270 SRA: https://www.ncbi.nlm.nih.gov/sra?term=SRX7478296\n",
       "GSM4238271 SRA: https://www.ncbi.nlm.nih.gov/sra?term=SRX7478297\n",
       "GSM4238272 SRA: https://www.ncbi.nlm.nih.gov/sra?term=SRX7478298\n",
       "GSM4238273 SRA: https://www.ncbi.nlm.nih.gov/sra?term=SRX7478299\n",
       "GSM4238274 SRA: https://www.ncbi.nlm.nih.gov/sra?term=SRX7478300\n",
       "GSM4238275 SRA: https://www.ncbi.nlm.nih.gov/sra?term=SRX7478301\n",
       "GSM4238276 SRA: https://www.ncbi.nlm.nih.gov/sra?term=SRX7478302\n",
       "GSM4238277 SRA: https://www.ncbi.nlm.nih.gov/sra?term=SRX7478303\n",
       "GSM4238278 SRA: https://www.ncbi.nlm.nih.gov/sra?term=SRX7478304\n",
       "GSM4238279 SRA: https://www.ncbi.nlm.nih.gov/sra?term=SRX7478305\n",
       "GSM4238280 SRA: https://www.ncbi.nlm.nih.gov/sra?term=SRX7478306\n",
       "GSM4238281 SRA: https://www.ncbi.nlm.nih.gov/sra?term=SRX7478307\n",
       "GSM4238282 SRA: https://www.ncbi.nlm.nih.gov/sra?term=SRX7478308\n",
       "GSM4238283 SRA: https://www.ncbi.nlm.nih.gov/sra?term=SRX7478309\n",
       "GSM4238284 SRA: https://www.ncbi.nlm.nih.gov/sra?term=SRX7478310\n",
       "GSM4238285 SRA: https://www.ncbi.nlm.nih.gov/sra?term=SRX7478311\n",
       "GSM4238286 SRA: https://www.ncbi.nlm.nih.gov/sra?term=SRX7478312\n",
       "GSM4238287 SRA: https://www.ncbi.nlm.nih.gov/sra?term=SRX7478313\n",
       "GSM4416578 SRA: https://www.ncbi.nlm.nih.gov/sra?term=SRX7924368\n",
       "GSM4416579 SRA: https://www.ncbi.nlm.nih.gov/sra?term=SRX7924369\n",
       "GSM4416580 SRA: https://www.ncbi.nlm.nih.gov/sra?term=SRX7924370\n",
       "GSM4416581 SRA: https://www.ncbi.nlm.nih.gov/sra?term=SRX7924371\n",
       "GSM4416582 SRA: https://www.ncbi.nlm.nih.gov/sra?term=SRX7924372\n",
       "GSM4416583 SRA: https://www.ncbi.nlm.nih.gov/sra?term=SRX7924373\n",
       "           supplementary_file_1                                                                                                                                             \n",
       "GSM4238269 ftp://ftp.ncbi.nlm.nih.gov/geo/samples/GSM4238nnn/GSM4238269/suppl/GSM4238269_Adipose_3842_1.fq.gz_bismark_bt2_pe.deduplicated.CpG_report.txt.gz                 \n",
       "GSM4238270 ftp://ftp.ncbi.nlm.nih.gov/geo/samples/GSM4238nnn/GSM4238270/suppl/GSM4238270_Adipose_3886_1.fq.gz_bismark_bt2_pe.deduplicated.CpG_report.txt.gz                 \n",
       "GSM4238271 ftp://ftp.ncbi.nlm.nih.gov/geo/samples/GSM4238nnn/GSM4238271/suppl/GSM4238271_Blood_4091_1.fq.gz_bismark_bt2_pe.deduplicated.CpG_report.txt.gz                   \n",
       "GSM4238272 ftp://ftp.ncbi.nlm.nih.gov/geo/samples/GSM4238nnn/GSM4238272/suppl/GSM4238272_Blood_4254_1.fq.gz_bismark_bt2_pe.deduplicated.CpG_report.txt.gz                   \n",
       "GSM4238273 ftp://ftp.ncbi.nlm.nih.gov/geo/samples/GSM4238nnn/GSM4238273/suppl/GSM4238273_Heart_3842_1.fq.gz_bismark_bt2_pe.deduplicated.CpG_report.txt.gz                   \n",
       "GSM4238274 ftp://ftp.ncbi.nlm.nih.gov/geo/samples/GSM4238nnn/GSM4238274/suppl/GSM4238274_Ileum_3842_1.fq.gz_bismark_bt2_pe.deduplicated.CpG_report.txt.gz                   \n",
       "GSM4238275 ftp://ftp.ncbi.nlm.nih.gov/geo/samples/GSM4238nnn/GSM4238275/suppl/GSM4238275_Kidney_3842_1.fq.gz_bismark_bt2_pe.deduplicated.CpG_report.txt.gz                  \n",
       "GSM4238276 ftp://ftp.ncbi.nlm.nih.gov/geo/samples/GSM4238nnn/GSM4238276/suppl/GSM4238276_Muscle_Ldorsi3842_1.fq.gz_bismark_bt2_pe.deduplicated.CpG_report.txt.gz            \n",
       "GSM4238277 ftp://ftp.ncbi.nlm.nih.gov/geo/samples/GSM4238nnn/GSM4238277/suppl/GSM4238277_Muscle_Ldorsi3886_1.fq.gz_bismark_bt2_pe.deduplicated.CpG_report.txt.gz            \n",
       "GSM4238278 ftp://ftp.ncbi.nlm.nih.gov/geo/samples/GSM4238nnn/GSM4238278/suppl/GSM4238278_Liver_3842_1.fq.gz_bismark_bt2_pe.deduplicated.CpG_report.txt.gz                   \n",
       "GSM4238279 ftp://ftp.ncbi.nlm.nih.gov/geo/samples/GSM4238nnn/GSM4238279/suppl/GSM4238279_Lung_3842_1.fq.gz_bismark_bt2_pe.deduplicated.CpG_report.txt.gz                    \n",
       "GSM4238280 ftp://ftp.ncbi.nlm.nih.gov/geo/samples/GSM4238nnn/GSM4238280/suppl/GSM4238280_Lung_3886_1.fq.gz_bismark_bt2_pe.deduplicated.CpG_report.txt.gz                    \n",
       "GSM4238281 ftp://ftp.ncbi.nlm.nih.gov/geo/samples/GSM4238nnn/GSM4238281/suppl/GSM4238281_Ovary_3842_1.fq.gz_bismark_bt2_pe.deduplicated.CpG_report.txt.gz                   \n",
       "GSM4238282 ftp://ftp.ncbi.nlm.nih.gov/geo/samples/GSM4238nnn/GSM4238282/suppl/GSM4238282_Rumen_3842_1.fq.gz_bismark_bt2_pe.deduplicated.CpG_report.txt.gz                   \n",
       "GSM4238283 ftp://ftp.ncbi.nlm.nih.gov/geo/samples/GSM4238nnn/GSM4238283/suppl/GSM4238283_Rumen_3886_1.fq.gz_bismark_bt2_pe.deduplicated.CpG_report.txt.gz                   \n",
       "GSM4238284 ftp://ftp.ncbi.nlm.nih.gov/geo/samples/GSM4238nnn/GSM4238284/suppl/GSM4238284_Spleen_3886_1.fq.gz_bismark_bt2_pe.deduplicated.CpG_report.txt.gz                  \n",
       "GSM4238285 ftp://ftp.ncbi.nlm.nih.gov/geo/samples/GSM4238nnn/GSM4238285/suppl/GSM4238285_Uterus_3842_1.fq.gz_bismark_bt2_pe.deduplicated.CpG_report.txt.gz                  \n",
       "GSM4238286 ftp://ftp.ncbi.nlm.nih.gov/geo/samples/GSM4238nnn/GSM4238286/suppl/GSM4238286_Placenta_D4271_1_val_1_bismark_bt2_pe.deduplicated.CpG_report.txt.CpG_report.txt.gz\n",
       "GSM4238287 ftp://ftp.ncbi.nlm.nih.gov/geo/samples/GSM4238nnn/GSM4238287/suppl/GSM4238287_Placenta_D4035_1_val_1_bismark_bt2_pe.deduplicated.CpG_report.txt.CpG_report.txt.gz\n",
       "GSM4416578 ftp://ftp.ncbi.nlm.nih.gov/geo/samples/GSM4416nnn/GSM4416578/suppl/GSM4416578_Adipose_DtFat_1_val_1_bismark_bt2_pe.deduplicated.CpG_report.txt.CpG_report.txt.gz \n",
       "GSM4416579 ftp://ftp.ncbi.nlm.nih.gov/geo/samples/GSM4416nnn/GSM4416579/suppl/GSM4416579_Heart_DtHeart_1_val_1_bismark_bt2_pe.deduplicated.CpG_report.txt.CpG_report.txt.gz \n",
       "GSM4416580 ftp://ftp.ncbi.nlm.nih.gov/geo/samples/GSM4416nnn/GSM4416580/suppl/GSM4416580_Jejun_DoJejun_1_val_1_bismark_bt2_pe.deduplicated.CpG_report.txt.CpG_report.txt.gz \n",
       "GSM4416581 ftp://ftp.ncbi.nlm.nih.gov/geo/samples/GSM4416nnn/GSM4416581/suppl/GSM4416581_Jejun_DtJejun_1_val_1_bismark_bt2_pe.deduplicated.CpG_report.txt.CpG_report.txt.gz \n",
       "GSM4416582 ftp://ftp.ncbi.nlm.nih.gov/geo/samples/GSM4416nnn/GSM4416582/suppl/GSM4416582_Kidney_DtKid_1_val_1_bismark_bt2_pe.deduplicated.CpG_report.txt.CpG_report.txt.gz  \n",
       "GSM4416583 ftp://ftp.ncbi.nlm.nih.gov/geo/samples/GSM4416nnn/GSM4416583/suppl/GSM4416583_Liver_DoLiver_1_val_1_bismark_bt2_pe.deduplicated.CpG_report.txt.CpG_report.txt.gz \n",
       "           breed:ch1 Sex:ch1 tissue:ch1\n",
       "GSM4238269 Holstein  F       Adipose   \n",
       "GSM4238270 Holstein  F       Adipose   \n",
       "GSM4238271 Holstein  F       Blood     \n",
       "GSM4238272 Holstein  F       Blood     \n",
       "GSM4238273 Holstein  F       Heart     \n",
       "GSM4238274 Holstein  F       Ileum     \n",
       "GSM4238275 Holstein  F       Kidney    \n",
       "GSM4238276 Holstein  F       Ldorsi    \n",
       "GSM4238277 Holstein  F       Ldorsi    \n",
       "GSM4238278 Holstein  F       Liver     \n",
       "GSM4238279 Holstein  F       Lung      \n",
       "GSM4238280 Holstein  F       Lung      \n",
       "GSM4238281 Holstein  F       Ovary     \n",
       "GSM4238282 Holstein  F       Rumen     \n",
       "GSM4238283 Holstein  F       Rumen     \n",
       "GSM4238284 Holstein  F       Spleen    \n",
       "GSM4238285 Holstein  F       Uterus    \n",
       "GSM4238286 Holstein  F       Placenta  \n",
       "GSM4238287 Holstein  F       Placenta  \n",
       "GSM4416578 Hereford  F       Adipose   \n",
       "GSM4416579 Hereford  F       Adipose   \n",
       "GSM4416580 Hereford  M       Blood     \n",
       "GSM4416581 Hereford  F       Blood     \n",
       "GSM4416582 Hereford  F       Heart     \n",
       "GSM4416583 Hereford  M       Ileum     "
      ]
     },
     "metadata": {},
     "output_type": "display_data"
    }
   ],
   "source": [
    "df_cow"
   ]
  },
  {
   "cell_type": "code",
   "execution_count": 83,
   "id": "327e13e4",
   "metadata": {},
   "outputs": [
    {
     "data": {
      "text/html": [
       "25"
      ],
      "text/latex": [
       "25"
      ],
      "text/markdown": [
       "25"
      ],
      "text/plain": [
       "[1] 25"
      ]
     },
     "metadata": {},
     "output_type": "display_data"
    }
   ],
   "source": [
    "NROW(df_cow)"
   ]
  },
  {
   "cell_type": "code",
   "execution_count": 82,
   "id": "387e0f7c",
   "metadata": {},
   "outputs": [
    {
     "name": "stderr",
     "output_type": "stream",
     "text": [
      "Warning message in dir.create(dir_to_save, recursive = T):\n",
      "“'../../resources/WGBS_public/Bos_taurus/Adipose' already exists”\n",
      "Warning message in dir.create(dir_to_save, recursive = T):\n",
      "“'../../resources/WGBS_public/Bos_taurus/Blood' already exists”\n",
      "Warning message in dir.create(dir_to_save, recursive = T):\n",
      "“'../../resources/WGBS_public/Bos_taurus/Ldorsi' already exists”\n",
      "Warning message in dir.create(dir_to_save, recursive = T):\n",
      "“'../../resources/WGBS_public/Bos_taurus/Lung' already exists”\n",
      "Warning message in dir.create(dir_to_save, recursive = T):\n",
      "“'../../resources/WGBS_public/Bos_taurus/Rumen' already exists”\n",
      "Warning message in dir.create(dir_to_save, recursive = T):\n",
      "“'../../resources/WGBS_public/Bos_taurus/Placenta' already exists”\n",
      "Warning message in dir.create(dir_to_save, recursive = T):\n",
      "“'../../resources/WGBS_public/Bos_taurus/Adipose' already exists”\n",
      "Warning message in dir.create(dir_to_save, recursive = T):\n",
      "“'../../resources/WGBS_public/Bos_taurus/Heart' already exists”\n",
      "Warning message in dir.create(dir_to_save, recursive = T):\n",
      "“'../../resources/WGBS_public/Bos_taurus/Jejunum' already exists”\n",
      "Warning message in dir.create(dir_to_save, recursive = T):\n",
      "“'../../resources/WGBS_public/Bos_taurus/Kidney' already exists”\n",
      "Warning message in dir.create(dir_to_save, recursive = T):\n",
      "“'../../resources/WGBS_public/Bos_taurus/Liver' already exists”\n"
     ]
    }
   ],
   "source": [
    "for (i in c(1:NROW(df_cow))){\n",
    "    dir_to_save = paste0(\"../../resources/WGBS_public/\", gsub(\" \", \"_\", df_cow[i, ]$organism_ch1), \"/\", gsub(\" \", \"_\",df_cow[i, ]$source_name_ch1), \"/\")\n",
    "    dir.create(dir_to_save, recursive = T)\n",
    "    download_cpg_report(df_cow[i, ]$supplementary_file_1, dir_to_save)  \n",
    "} "
   ]
  },
  {
   "cell_type": "markdown",
   "id": "bf71a290",
   "metadata": {},
   "source": [
    "## Mouse"
   ]
  },
  {
   "cell_type": "code",
   "execution_count": 84,
   "id": "ace1e1ba",
   "metadata": {
    "collapsed": true,
    "jupyter": {
     "outputs_hidden": true
    },
    "tags": []
   },
   "outputs": [
    {
     "name": "stderr",
     "output_type": "stream",
     "text": [
      "Found 1 file(s)\n",
      "\n",
      "GSE42836_series_matrix.txt.gz\n",
      "\n",
      "\n",
      "\u001b[36m──\u001b[39m \u001b[1m\u001b[1mColumn specification\u001b[1m\u001b[22m \u001b[36m────────────────────────────────────────────────────────\u001b[39m\n",
      "cols(\n",
      "  ID_REF = \u001b[31mcol_character()\u001b[39m,\n",
      "  GSM1051150 = \u001b[31mcol_character()\u001b[39m,\n",
      "  GSM1051151 = \u001b[31mcol_character()\u001b[39m,\n",
      "  GSM1051152 = \u001b[31mcol_character()\u001b[39m,\n",
      "  GSM1051153 = \u001b[31mcol_character()\u001b[39m,\n",
      "  GSM1051154 = \u001b[31mcol_character()\u001b[39m,\n",
      "  GSM1051155 = \u001b[31mcol_character()\u001b[39m,\n",
      "  GSM1051156 = \u001b[31mcol_character()\u001b[39m,\n",
      "  GSM1051157 = \u001b[31mcol_character()\u001b[39m,\n",
      "  GSM1051158 = \u001b[31mcol_character()\u001b[39m,\n",
      "  GSM1051159 = \u001b[31mcol_character()\u001b[39m,\n",
      "  GSM1051160 = \u001b[31mcol_character()\u001b[39m,\n",
      "  GSM1051161 = \u001b[31mcol_character()\u001b[39m,\n",
      "  GSM1051162 = \u001b[31mcol_character()\u001b[39m,\n",
      "  GSM1051163 = \u001b[31mcol_character()\u001b[39m,\n",
      "  GSM1051164 = \u001b[31mcol_character()\u001b[39m,\n",
      "  GSM1051165 = \u001b[31mcol_character()\u001b[39m,\n",
      "  GSM1051166 = \u001b[31mcol_character()\u001b[39m\n",
      ")\n",
      "\n",
      "\n",
      "File stored at: \n",
      "\n",
      "/tmp/Rtmp5XEq1S/GPL13112.soft\n",
      "\n"
     ]
    },
    {
     "data": {
      "text/html": [
       "<table class=\"dataframe\">\n",
       "<caption>A data.frame: 17 × 38</caption>\n",
       "<thead>\n",
       "\t<tr><th></th><th scope=col>title</th><th scope=col>geo_accession</th><th scope=col>status</th><th scope=col>submission_date</th><th scope=col>last_update_date</th><th scope=col>type</th><th scope=col>channel_count</th><th scope=col>source_name_ch1</th><th scope=col>organism_ch1</th><th scope=col>characteristics_ch1</th><th scope=col>⋯</th><th scope=col>instrument_model</th><th scope=col>library_selection</th><th scope=col>library_source</th><th scope=col>library_strategy</th><th scope=col>relation</th><th scope=col>relation.1</th><th scope=col>supplementary_file_1</th><th scope=col>developmental stage:ch1</th><th scope=col>strain:ch1</th><th scope=col>tissue:ch1</th></tr>\n",
       "\t<tr><th></th><th scope=col>&lt;fct&gt;</th><th scope=col>&lt;chr&gt;</th><th scope=col>&lt;fct&gt;</th><th scope=col>&lt;fct&gt;</th><th scope=col>&lt;fct&gt;</th><th scope=col>&lt;fct&gt;</th><th scope=col>&lt;fct&gt;</th><th scope=col>&lt;fct&gt;</th><th scope=col>&lt;fct&gt;</th><th scope=col>&lt;fct&gt;</th><th scope=col>⋯</th><th scope=col>&lt;fct&gt;</th><th scope=col>&lt;fct&gt;</th><th scope=col>&lt;fct&gt;</th><th scope=col>&lt;fct&gt;</th><th scope=col>&lt;fct&gt;</th><th scope=col>&lt;fct&gt;</th><th scope=col>&lt;fct&gt;</th><th scope=col>&lt;chr&gt;</th><th scope=col>&lt;chr&gt;</th><th scope=col>&lt;chr&gt;</th></tr>\n",
       "</thead>\n",
       "<tbody>\n",
       "\t<tr><th scope=row>GSM1051150</th><td>mouse bone marrow   </td><td>GSM1051150</td><td>Public on Sep 01 2013</td><td>Dec 10 2012</td><td>May 15 2019</td><td>SRA</td><td>1</td><td>mouse bone marrow   </td><td>Mus musculus</td><td>strain: C57Bl/6</td><td>⋯</td><td>Illumina HiSeq 2000</td><td>RANDOM</td><td>genomic</td><td>Bisulfite-Seq</td><td>SRA: https://www.ncbi.nlm.nih.gov/sra?term=SRX209448</td><td>BioSample: https://www.ncbi.nlm.nih.gov/biosample/SAMN01830647</td><td>ftp://ftp.ncbi.nlm.nih.gov/geo/samples/GSM1051nnn/GSM1051150/suppl/GSM1051150_bone_marrow.CpG.calls.txt.gz   </td><td>adult</td><td>C57Bl/6</td><td>bone marrow   </td></tr>\n",
       "\t<tr><th scope=row>GSM1051151</th><td>mouse cerebellum    </td><td>GSM1051151</td><td>Public on Sep 01 2013</td><td>Dec 10 2012</td><td>May 15 2019</td><td>SRA</td><td>1</td><td>mouse cerebellum    </td><td>Mus musculus</td><td>strain: C57Bl/6</td><td>⋯</td><td>Illumina HiSeq 2000</td><td>RANDOM</td><td>genomic</td><td>Bisulfite-Seq</td><td>SRA: https://www.ncbi.nlm.nih.gov/sra?term=SRX209449</td><td>BioSample: https://www.ncbi.nlm.nih.gov/biosample/SAMN01830648</td><td>ftp://ftp.ncbi.nlm.nih.gov/geo/samples/GSM1051nnn/GSM1051151/suppl/GSM1051151_cerebellum.CpG.calls.txt.gz    </td><td>adult</td><td>C57Bl/6</td><td>cerebellum    </td></tr>\n",
       "\t<tr><th scope=row>GSM1051152</th><td>mouse colon         </td><td>GSM1051152</td><td>Public on Sep 01 2013</td><td>Dec 10 2012</td><td>May 15 2019</td><td>SRA</td><td>1</td><td>mouse colon         </td><td>Mus musculus</td><td>strain: C57Bl/6</td><td>⋯</td><td>Illumina HiSeq 2000</td><td>RANDOM</td><td>genomic</td><td>Bisulfite-Seq</td><td>SRA: https://www.ncbi.nlm.nih.gov/sra?term=SRX209450</td><td>BioSample: https://www.ncbi.nlm.nih.gov/biosample/SAMN01830649</td><td>ftp://ftp.ncbi.nlm.nih.gov/geo/samples/GSM1051nnn/GSM1051152/suppl/GSM1051152_colon.CpG.calls.txt.gz         </td><td>adult</td><td>C57Bl/6</td><td>colon         </td></tr>\n",
       "\t<tr><th scope=row>GSM1051153</th><td>mouse cortex        </td><td>GSM1051153</td><td>Public on Sep 01 2013</td><td>Dec 10 2012</td><td>May 15 2019</td><td>SRA</td><td>1</td><td>mouse cortex        </td><td>Mus musculus</td><td>strain: C57Bl/6</td><td>⋯</td><td>Illumina HiSeq 2000</td><td>RANDOM</td><td>genomic</td><td>Bisulfite-Seq</td><td>SRA: https://www.ncbi.nlm.nih.gov/sra?term=SRX209451</td><td>BioSample: https://www.ncbi.nlm.nih.gov/biosample/SAMN01830650</td><td>ftp://ftp.ncbi.nlm.nih.gov/geo/samples/GSM1051nnn/GSM1051153/suppl/GSM1051153_cortex.CpG.calls.txt.gz        </td><td>adult</td><td>C57Bl/6</td><td>cortex        </td></tr>\n",
       "\t<tr><th scope=row>GSM1051154</th><td>mouse heart         </td><td>GSM1051154</td><td>Public on Sep 01 2013</td><td>Dec 10 2012</td><td>May 15 2019</td><td>SRA</td><td>1</td><td>mouse heart         </td><td>Mus musculus</td><td>strain: C57Bl/6</td><td>⋯</td><td>Illumina HiSeq 2000</td><td>RANDOM</td><td>genomic</td><td>Bisulfite-Seq</td><td>SRA: https://www.ncbi.nlm.nih.gov/sra?term=SRX209452</td><td>BioSample: https://www.ncbi.nlm.nih.gov/biosample/SAMN01830651</td><td>ftp://ftp.ncbi.nlm.nih.gov/geo/samples/GSM1051nnn/GSM1051154/suppl/GSM1051154_heart.CpG.calls.txt.gz         </td><td>adult</td><td>C57Bl/6</td><td>heart         </td></tr>\n",
       "\t<tr><th scope=row>GSM1051155</th><td>mouse intestine     </td><td>GSM1051155</td><td>Public on Sep 01 2013</td><td>Dec 10 2012</td><td>May 15 2019</td><td>SRA</td><td>1</td><td>mouse intestine     </td><td>Mus musculus</td><td>strain: C57Bl/6</td><td>⋯</td><td>Illumina HiSeq 2000</td><td>RANDOM</td><td>genomic</td><td>Bisulfite-Seq</td><td>SRA: https://www.ncbi.nlm.nih.gov/sra?term=SRX209453</td><td>BioSample: https://www.ncbi.nlm.nih.gov/biosample/SAMN01830652</td><td>ftp://ftp.ncbi.nlm.nih.gov/geo/samples/GSM1051nnn/GSM1051155/suppl/GSM1051155_intestine.CpG.calls.txt.gz     </td><td>adult</td><td>C57Bl/6</td><td>intestine     </td></tr>\n",
       "\t<tr><th scope=row>GSM1051156</th><td>mouse kidney        </td><td>GSM1051156</td><td>Public on Sep 01 2013</td><td>Dec 10 2012</td><td>May 15 2019</td><td>SRA</td><td>1</td><td>mouse kidney        </td><td>Mus musculus</td><td>strain: C57Bl/6</td><td>⋯</td><td>Illumina HiSeq 2000</td><td>RANDOM</td><td>genomic</td><td>Bisulfite-Seq</td><td>SRA: https://www.ncbi.nlm.nih.gov/sra?term=SRX209454</td><td>BioSample: https://www.ncbi.nlm.nih.gov/biosample/SAMN01830653</td><td>ftp://ftp.ncbi.nlm.nih.gov/geo/samples/GSM1051nnn/GSM1051156/suppl/GSM1051156_kidney.CpG.calls.txt.gz        </td><td>adult</td><td>C57Bl/6</td><td>kidney        </td></tr>\n",
       "\t<tr><th scope=row>GSM1051157</th><td>mouse liver         </td><td>GSM1051157</td><td>Public on Sep 01 2013</td><td>Dec 10 2012</td><td>May 15 2019</td><td>SRA</td><td>1</td><td>mouse liver         </td><td>Mus musculus</td><td>strain: C57Bl/6</td><td>⋯</td><td>Illumina HiSeq 2000</td><td>RANDOM</td><td>genomic</td><td>Bisulfite-Seq</td><td>SRA: https://www.ncbi.nlm.nih.gov/sra?term=SRX209455</td><td>BioSample: https://www.ncbi.nlm.nih.gov/biosample/SAMN01830654</td><td>ftp://ftp.ncbi.nlm.nih.gov/geo/samples/GSM1051nnn/GSM1051157/suppl/GSM1051157_liver.CpG.calls.txt.gz         </td><td>adult</td><td>C57Bl/6</td><td>liver         </td></tr>\n",
       "\t<tr><th scope=row>GSM1051158</th><td>mouse lung          </td><td>GSM1051158</td><td>Public on Sep 01 2013</td><td>Dec 10 2012</td><td>May 15 2019</td><td>SRA</td><td>1</td><td>mouse lung          </td><td>Mus musculus</td><td>strain: C57Bl/6</td><td>⋯</td><td>Illumina HiSeq 2000</td><td>RANDOM</td><td>genomic</td><td>Bisulfite-Seq</td><td>SRA: https://www.ncbi.nlm.nih.gov/sra?term=SRX209456</td><td>BioSample: https://www.ncbi.nlm.nih.gov/biosample/SAMN01830655</td><td>ftp://ftp.ncbi.nlm.nih.gov/geo/samples/GSM1051nnn/GSM1051158/suppl/GSM1051158_lung.CpG.calls.txt.gz          </td><td>adult</td><td>C57Bl/6</td><td>lung          </td></tr>\n",
       "\t<tr><th scope=row>GSM1051159</th><td>mouse olfactory bulb</td><td>GSM1051159</td><td>Public on Sep 01 2013</td><td>Dec 10 2012</td><td>May 15 2019</td><td>SRA</td><td>1</td><td>mouse olfactory bulb</td><td>Mus musculus</td><td>strain: C57Bl/6</td><td>⋯</td><td>Illumina HiSeq 2000</td><td>RANDOM</td><td>genomic</td><td>Bisulfite-Seq</td><td>SRA: https://www.ncbi.nlm.nih.gov/sra?term=SRX209457</td><td>BioSample: https://www.ncbi.nlm.nih.gov/biosample/SAMN01830656</td><td>ftp://ftp.ncbi.nlm.nih.gov/geo/samples/GSM1051nnn/GSM1051159/suppl/GSM1051159_olfactory_bulb.CpG.calls.txt.gz</td><td>adult</td><td>C57Bl/6</td><td>olfactory bulb</td></tr>\n",
       "\t<tr><th scope=row>GSM1051160</th><td>mouse pancreas      </td><td>GSM1051160</td><td>Public on Sep 01 2013</td><td>Dec 10 2012</td><td>May 15 2019</td><td>SRA</td><td>1</td><td>mouse pancreas      </td><td>Mus musculus</td><td>strain: C57Bl/6</td><td>⋯</td><td>Illumina HiSeq 2000</td><td>RANDOM</td><td>genomic</td><td>Bisulfite-Seq</td><td>SRA: https://www.ncbi.nlm.nih.gov/sra?term=SRX209458</td><td>BioSample: https://www.ncbi.nlm.nih.gov/biosample/SAMN01830657</td><td>ftp://ftp.ncbi.nlm.nih.gov/geo/samples/GSM1051nnn/GSM1051160/suppl/GSM1051160_pancreas.CpG.calls.txt.gz      </td><td>adult</td><td>C57Bl/6</td><td>pancreas      </td></tr>\n",
       "\t<tr><th scope=row>GSM1051161</th><td>mouse placenta      </td><td>GSM1051161</td><td>Public on Sep 01 2013</td><td>Dec 10 2012</td><td>May 15 2019</td><td>SRA</td><td>1</td><td>mouse placenta      </td><td>Mus musculus</td><td>strain: C57Bl/6</td><td>⋯</td><td>Illumina HiSeq 2000</td><td>RANDOM</td><td>genomic</td><td>Bisulfite-Seq</td><td>SRA: https://www.ncbi.nlm.nih.gov/sra?term=SRX209459</td><td>BioSample: https://www.ncbi.nlm.nih.gov/biosample/SAMN01830658</td><td>ftp://ftp.ncbi.nlm.nih.gov/geo/samples/GSM1051nnn/GSM1051161/suppl/GSM1051161_placenta.CpG.calls.txt.gz      </td><td>adult</td><td>C57Bl/6</td><td>placenta      </td></tr>\n",
       "\t<tr><th scope=row>GSM1051162</th><td>mouse skin          </td><td>GSM1051162</td><td>Public on Sep 01 2013</td><td>Dec 10 2012</td><td>May 15 2019</td><td>SRA</td><td>1</td><td>mouse skin          </td><td>Mus musculus</td><td>strain: C57Bl/6</td><td>⋯</td><td>Illumina HiSeq 2000</td><td>RANDOM</td><td>genomic</td><td>Bisulfite-Seq</td><td>SRA: https://www.ncbi.nlm.nih.gov/sra?term=SRX209460</td><td>BioSample: https://www.ncbi.nlm.nih.gov/biosample/SAMN01830659</td><td>ftp://ftp.ncbi.nlm.nih.gov/geo/samples/GSM1051nnn/GSM1051162/suppl/GSM1051162_skin.CpG.calls.txt.gz          </td><td>adult</td><td>C57Bl/6</td><td>skin          </td></tr>\n",
       "\t<tr><th scope=row>GSM1051163</th><td>mouse spleen        </td><td>GSM1051163</td><td>Public on Sep 01 2013</td><td>Dec 10 2012</td><td>May 15 2019</td><td>SRA</td><td>1</td><td>mouse spleen        </td><td>Mus musculus</td><td>strain: C57Bl/6</td><td>⋯</td><td>Illumina HiSeq 2000</td><td>RANDOM</td><td>genomic</td><td>Bisulfite-Seq</td><td>SRA: https://www.ncbi.nlm.nih.gov/sra?term=SRX209461</td><td>BioSample: https://www.ncbi.nlm.nih.gov/biosample/SAMN01830660</td><td>ftp://ftp.ncbi.nlm.nih.gov/geo/samples/GSM1051nnn/GSM1051163/suppl/GSM1051163_spleen.CpG.calls.txt.gz        </td><td>adult</td><td>C57Bl/6</td><td>spleen        </td></tr>\n",
       "\t<tr><th scope=row>GSM1051164</th><td>mouse stomach       </td><td>GSM1051164</td><td>Public on Sep 01 2013</td><td>Dec 10 2012</td><td>May 15 2019</td><td>SRA</td><td>1</td><td>mouse stomach       </td><td>Mus musculus</td><td>strain: C57Bl/6</td><td>⋯</td><td>Illumina HiSeq 2000</td><td>RANDOM</td><td>genomic</td><td>Bisulfite-Seq</td><td>SRA: https://www.ncbi.nlm.nih.gov/sra?term=SRX209462</td><td>BioSample: https://www.ncbi.nlm.nih.gov/biosample/SAMN01830661</td><td>ftp://ftp.ncbi.nlm.nih.gov/geo/samples/GSM1051nnn/GSM1051164/suppl/GSM1051164_stomach.CpG.calls.txt.gz       </td><td>adult</td><td>C57Bl/6</td><td>stomach       </td></tr>\n",
       "\t<tr><th scope=row>GSM1051165</th><td>mouse thymus        </td><td>GSM1051165</td><td>Public on Sep 01 2013</td><td>Dec 10 2012</td><td>May 15 2019</td><td>SRA</td><td>1</td><td>mouse thymus        </td><td>Mus musculus</td><td>strain: C57Bl/6</td><td>⋯</td><td>Illumina HiSeq 2000</td><td>RANDOM</td><td>genomic</td><td>Bisulfite-Seq</td><td>SRA: https://www.ncbi.nlm.nih.gov/sra?term=SRX209463</td><td>BioSample: https://www.ncbi.nlm.nih.gov/biosample/SAMN01830662</td><td>ftp://ftp.ncbi.nlm.nih.gov/geo/samples/GSM1051nnn/GSM1051165/suppl/GSM1051165_thymus.CpG.calls.txt.gz        </td><td>adult</td><td>C57Bl/6</td><td>thymus        </td></tr>\n",
       "\t<tr><th scope=row>GSM1051166</th><td>mouse uterus        </td><td>GSM1051166</td><td>Public on Sep 01 2013</td><td>Dec 10 2012</td><td>May 15 2019</td><td>SRA</td><td>1</td><td>mouse uterus        </td><td>Mus musculus</td><td>strain: C57Bl/6</td><td>⋯</td><td>Illumina HiSeq 2000</td><td>RANDOM</td><td>genomic</td><td>Bisulfite-Seq</td><td>SRA: https://www.ncbi.nlm.nih.gov/sra?term=SRX209464</td><td>BioSample: https://www.ncbi.nlm.nih.gov/biosample/SAMN01830663</td><td>ftp://ftp.ncbi.nlm.nih.gov/geo/samples/GSM1051nnn/GSM1051166/suppl/GSM1051166_uterus.CpG.calls.txt.gz        </td><td>adult</td><td>C57Bl/6</td><td>uterus        </td></tr>\n",
       "</tbody>\n",
       "</table>\n"
      ],
      "text/latex": [
       "A data.frame: 17 × 38\n",
       "\\begin{tabular}{r|lllllllllllllllllllll}\n",
       "  & title & geo\\_accession & status & submission\\_date & last\\_update\\_date & type & channel\\_count & source\\_name\\_ch1 & organism\\_ch1 & characteristics\\_ch1 & ⋯ & instrument\\_model & library\\_selection & library\\_source & library\\_strategy & relation & relation.1 & supplementary\\_file\\_1 & developmental stage:ch1 & strain:ch1 & tissue:ch1\\\\\n",
       "  & <fct> & <chr> & <fct> & <fct> & <fct> & <fct> & <fct> & <fct> & <fct> & <fct> & ⋯ & <fct> & <fct> & <fct> & <fct> & <fct> & <fct> & <fct> & <chr> & <chr> & <chr>\\\\\n",
       "\\hline\n",
       "\tGSM1051150 & mouse bone marrow    & GSM1051150 & Public on Sep 01 2013 & Dec 10 2012 & May 15 2019 & SRA & 1 & mouse bone marrow    & Mus musculus & strain: C57Bl/6 & ⋯ & Illumina HiSeq 2000 & RANDOM & genomic & Bisulfite-Seq & SRA: https://www.ncbi.nlm.nih.gov/sra?term=SRX209448 & BioSample: https://www.ncbi.nlm.nih.gov/biosample/SAMN01830647 & ftp://ftp.ncbi.nlm.nih.gov/geo/samples/GSM1051nnn/GSM1051150/suppl/GSM1051150\\_bone\\_marrow.CpG.calls.txt.gz    & adult & C57Bl/6 & bone marrow   \\\\\n",
       "\tGSM1051151 & mouse cerebellum     & GSM1051151 & Public on Sep 01 2013 & Dec 10 2012 & May 15 2019 & SRA & 1 & mouse cerebellum     & Mus musculus & strain: C57Bl/6 & ⋯ & Illumina HiSeq 2000 & RANDOM & genomic & Bisulfite-Seq & SRA: https://www.ncbi.nlm.nih.gov/sra?term=SRX209449 & BioSample: https://www.ncbi.nlm.nih.gov/biosample/SAMN01830648 & ftp://ftp.ncbi.nlm.nih.gov/geo/samples/GSM1051nnn/GSM1051151/suppl/GSM1051151\\_cerebellum.CpG.calls.txt.gz     & adult & C57Bl/6 & cerebellum    \\\\\n",
       "\tGSM1051152 & mouse colon          & GSM1051152 & Public on Sep 01 2013 & Dec 10 2012 & May 15 2019 & SRA & 1 & mouse colon          & Mus musculus & strain: C57Bl/6 & ⋯ & Illumina HiSeq 2000 & RANDOM & genomic & Bisulfite-Seq & SRA: https://www.ncbi.nlm.nih.gov/sra?term=SRX209450 & BioSample: https://www.ncbi.nlm.nih.gov/biosample/SAMN01830649 & ftp://ftp.ncbi.nlm.nih.gov/geo/samples/GSM1051nnn/GSM1051152/suppl/GSM1051152\\_colon.CpG.calls.txt.gz          & adult & C57Bl/6 & colon         \\\\\n",
       "\tGSM1051153 & mouse cortex         & GSM1051153 & Public on Sep 01 2013 & Dec 10 2012 & May 15 2019 & SRA & 1 & mouse cortex         & Mus musculus & strain: C57Bl/6 & ⋯ & Illumina HiSeq 2000 & RANDOM & genomic & Bisulfite-Seq & SRA: https://www.ncbi.nlm.nih.gov/sra?term=SRX209451 & BioSample: https://www.ncbi.nlm.nih.gov/biosample/SAMN01830650 & ftp://ftp.ncbi.nlm.nih.gov/geo/samples/GSM1051nnn/GSM1051153/suppl/GSM1051153\\_cortex.CpG.calls.txt.gz         & adult & C57Bl/6 & cortex        \\\\\n",
       "\tGSM1051154 & mouse heart          & GSM1051154 & Public on Sep 01 2013 & Dec 10 2012 & May 15 2019 & SRA & 1 & mouse heart          & Mus musculus & strain: C57Bl/6 & ⋯ & Illumina HiSeq 2000 & RANDOM & genomic & Bisulfite-Seq & SRA: https://www.ncbi.nlm.nih.gov/sra?term=SRX209452 & BioSample: https://www.ncbi.nlm.nih.gov/biosample/SAMN01830651 & ftp://ftp.ncbi.nlm.nih.gov/geo/samples/GSM1051nnn/GSM1051154/suppl/GSM1051154\\_heart.CpG.calls.txt.gz          & adult & C57Bl/6 & heart         \\\\\n",
       "\tGSM1051155 & mouse intestine      & GSM1051155 & Public on Sep 01 2013 & Dec 10 2012 & May 15 2019 & SRA & 1 & mouse intestine      & Mus musculus & strain: C57Bl/6 & ⋯ & Illumina HiSeq 2000 & RANDOM & genomic & Bisulfite-Seq & SRA: https://www.ncbi.nlm.nih.gov/sra?term=SRX209453 & BioSample: https://www.ncbi.nlm.nih.gov/biosample/SAMN01830652 & ftp://ftp.ncbi.nlm.nih.gov/geo/samples/GSM1051nnn/GSM1051155/suppl/GSM1051155\\_intestine.CpG.calls.txt.gz      & adult & C57Bl/6 & intestine     \\\\\n",
       "\tGSM1051156 & mouse kidney         & GSM1051156 & Public on Sep 01 2013 & Dec 10 2012 & May 15 2019 & SRA & 1 & mouse kidney         & Mus musculus & strain: C57Bl/6 & ⋯ & Illumina HiSeq 2000 & RANDOM & genomic & Bisulfite-Seq & SRA: https://www.ncbi.nlm.nih.gov/sra?term=SRX209454 & BioSample: https://www.ncbi.nlm.nih.gov/biosample/SAMN01830653 & ftp://ftp.ncbi.nlm.nih.gov/geo/samples/GSM1051nnn/GSM1051156/suppl/GSM1051156\\_kidney.CpG.calls.txt.gz         & adult & C57Bl/6 & kidney        \\\\\n",
       "\tGSM1051157 & mouse liver          & GSM1051157 & Public on Sep 01 2013 & Dec 10 2012 & May 15 2019 & SRA & 1 & mouse liver          & Mus musculus & strain: C57Bl/6 & ⋯ & Illumina HiSeq 2000 & RANDOM & genomic & Bisulfite-Seq & SRA: https://www.ncbi.nlm.nih.gov/sra?term=SRX209455 & BioSample: https://www.ncbi.nlm.nih.gov/biosample/SAMN01830654 & ftp://ftp.ncbi.nlm.nih.gov/geo/samples/GSM1051nnn/GSM1051157/suppl/GSM1051157\\_liver.CpG.calls.txt.gz          & adult & C57Bl/6 & liver         \\\\\n",
       "\tGSM1051158 & mouse lung           & GSM1051158 & Public on Sep 01 2013 & Dec 10 2012 & May 15 2019 & SRA & 1 & mouse lung           & Mus musculus & strain: C57Bl/6 & ⋯ & Illumina HiSeq 2000 & RANDOM & genomic & Bisulfite-Seq & SRA: https://www.ncbi.nlm.nih.gov/sra?term=SRX209456 & BioSample: https://www.ncbi.nlm.nih.gov/biosample/SAMN01830655 & ftp://ftp.ncbi.nlm.nih.gov/geo/samples/GSM1051nnn/GSM1051158/suppl/GSM1051158\\_lung.CpG.calls.txt.gz           & adult & C57Bl/6 & lung          \\\\\n",
       "\tGSM1051159 & mouse olfactory bulb & GSM1051159 & Public on Sep 01 2013 & Dec 10 2012 & May 15 2019 & SRA & 1 & mouse olfactory bulb & Mus musculus & strain: C57Bl/6 & ⋯ & Illumina HiSeq 2000 & RANDOM & genomic & Bisulfite-Seq & SRA: https://www.ncbi.nlm.nih.gov/sra?term=SRX209457 & BioSample: https://www.ncbi.nlm.nih.gov/biosample/SAMN01830656 & ftp://ftp.ncbi.nlm.nih.gov/geo/samples/GSM1051nnn/GSM1051159/suppl/GSM1051159\\_olfactory\\_bulb.CpG.calls.txt.gz & adult & C57Bl/6 & olfactory bulb\\\\\n",
       "\tGSM1051160 & mouse pancreas       & GSM1051160 & Public on Sep 01 2013 & Dec 10 2012 & May 15 2019 & SRA & 1 & mouse pancreas       & Mus musculus & strain: C57Bl/6 & ⋯ & Illumina HiSeq 2000 & RANDOM & genomic & Bisulfite-Seq & SRA: https://www.ncbi.nlm.nih.gov/sra?term=SRX209458 & BioSample: https://www.ncbi.nlm.nih.gov/biosample/SAMN01830657 & ftp://ftp.ncbi.nlm.nih.gov/geo/samples/GSM1051nnn/GSM1051160/suppl/GSM1051160\\_pancreas.CpG.calls.txt.gz       & adult & C57Bl/6 & pancreas      \\\\\n",
       "\tGSM1051161 & mouse placenta       & GSM1051161 & Public on Sep 01 2013 & Dec 10 2012 & May 15 2019 & SRA & 1 & mouse placenta       & Mus musculus & strain: C57Bl/6 & ⋯ & Illumina HiSeq 2000 & RANDOM & genomic & Bisulfite-Seq & SRA: https://www.ncbi.nlm.nih.gov/sra?term=SRX209459 & BioSample: https://www.ncbi.nlm.nih.gov/biosample/SAMN01830658 & ftp://ftp.ncbi.nlm.nih.gov/geo/samples/GSM1051nnn/GSM1051161/suppl/GSM1051161\\_placenta.CpG.calls.txt.gz       & adult & C57Bl/6 & placenta      \\\\\n",
       "\tGSM1051162 & mouse skin           & GSM1051162 & Public on Sep 01 2013 & Dec 10 2012 & May 15 2019 & SRA & 1 & mouse skin           & Mus musculus & strain: C57Bl/6 & ⋯ & Illumina HiSeq 2000 & RANDOM & genomic & Bisulfite-Seq & SRA: https://www.ncbi.nlm.nih.gov/sra?term=SRX209460 & BioSample: https://www.ncbi.nlm.nih.gov/biosample/SAMN01830659 & ftp://ftp.ncbi.nlm.nih.gov/geo/samples/GSM1051nnn/GSM1051162/suppl/GSM1051162\\_skin.CpG.calls.txt.gz           & adult & C57Bl/6 & skin          \\\\\n",
       "\tGSM1051163 & mouse spleen         & GSM1051163 & Public on Sep 01 2013 & Dec 10 2012 & May 15 2019 & SRA & 1 & mouse spleen         & Mus musculus & strain: C57Bl/6 & ⋯ & Illumina HiSeq 2000 & RANDOM & genomic & Bisulfite-Seq & SRA: https://www.ncbi.nlm.nih.gov/sra?term=SRX209461 & BioSample: https://www.ncbi.nlm.nih.gov/biosample/SAMN01830660 & ftp://ftp.ncbi.nlm.nih.gov/geo/samples/GSM1051nnn/GSM1051163/suppl/GSM1051163\\_spleen.CpG.calls.txt.gz         & adult & C57Bl/6 & spleen        \\\\\n",
       "\tGSM1051164 & mouse stomach        & GSM1051164 & Public on Sep 01 2013 & Dec 10 2012 & May 15 2019 & SRA & 1 & mouse stomach        & Mus musculus & strain: C57Bl/6 & ⋯ & Illumina HiSeq 2000 & RANDOM & genomic & Bisulfite-Seq & SRA: https://www.ncbi.nlm.nih.gov/sra?term=SRX209462 & BioSample: https://www.ncbi.nlm.nih.gov/biosample/SAMN01830661 & ftp://ftp.ncbi.nlm.nih.gov/geo/samples/GSM1051nnn/GSM1051164/suppl/GSM1051164\\_stomach.CpG.calls.txt.gz        & adult & C57Bl/6 & stomach       \\\\\n",
       "\tGSM1051165 & mouse thymus         & GSM1051165 & Public on Sep 01 2013 & Dec 10 2012 & May 15 2019 & SRA & 1 & mouse thymus         & Mus musculus & strain: C57Bl/6 & ⋯ & Illumina HiSeq 2000 & RANDOM & genomic & Bisulfite-Seq & SRA: https://www.ncbi.nlm.nih.gov/sra?term=SRX209463 & BioSample: https://www.ncbi.nlm.nih.gov/biosample/SAMN01830662 & ftp://ftp.ncbi.nlm.nih.gov/geo/samples/GSM1051nnn/GSM1051165/suppl/GSM1051165\\_thymus.CpG.calls.txt.gz         & adult & C57Bl/6 & thymus        \\\\\n",
       "\tGSM1051166 & mouse uterus         & GSM1051166 & Public on Sep 01 2013 & Dec 10 2012 & May 15 2019 & SRA & 1 & mouse uterus         & Mus musculus & strain: C57Bl/6 & ⋯ & Illumina HiSeq 2000 & RANDOM & genomic & Bisulfite-Seq & SRA: https://www.ncbi.nlm.nih.gov/sra?term=SRX209464 & BioSample: https://www.ncbi.nlm.nih.gov/biosample/SAMN01830663 & ftp://ftp.ncbi.nlm.nih.gov/geo/samples/GSM1051nnn/GSM1051166/suppl/GSM1051166\\_uterus.CpG.calls.txt.gz         & adult & C57Bl/6 & uterus        \\\\\n",
       "\\end{tabular}\n"
      ],
      "text/markdown": [
       "\n",
       "A data.frame: 17 × 38\n",
       "\n",
       "| <!--/--> | title &lt;fct&gt; | geo_accession &lt;chr&gt; | status &lt;fct&gt; | submission_date &lt;fct&gt; | last_update_date &lt;fct&gt; | type &lt;fct&gt; | channel_count &lt;fct&gt; | source_name_ch1 &lt;fct&gt; | organism_ch1 &lt;fct&gt; | characteristics_ch1 &lt;fct&gt; | ⋯ ⋯ | instrument_model &lt;fct&gt; | library_selection &lt;fct&gt; | library_source &lt;fct&gt; | library_strategy &lt;fct&gt; | relation &lt;fct&gt; | relation.1 &lt;fct&gt; | supplementary_file_1 &lt;fct&gt; | developmental stage:ch1 &lt;chr&gt; | strain:ch1 &lt;chr&gt; | tissue:ch1 &lt;chr&gt; |\n",
       "|---|---|---|---|---|---|---|---|---|---|---|---|---|---|---|---|---|---|---|---|---|---|\n",
       "| GSM1051150 | mouse bone marrow    | GSM1051150 | Public on Sep 01 2013 | Dec 10 2012 | May 15 2019 | SRA | 1 | mouse bone marrow    | Mus musculus | strain: C57Bl/6 | ⋯ | Illumina HiSeq 2000 | RANDOM | genomic | Bisulfite-Seq | SRA: https://www.ncbi.nlm.nih.gov/sra?term=SRX209448 | BioSample: https://www.ncbi.nlm.nih.gov/biosample/SAMN01830647 | ftp://ftp.ncbi.nlm.nih.gov/geo/samples/GSM1051nnn/GSM1051150/suppl/GSM1051150_bone_marrow.CpG.calls.txt.gz    | adult | C57Bl/6 | bone marrow    |\n",
       "| GSM1051151 | mouse cerebellum     | GSM1051151 | Public on Sep 01 2013 | Dec 10 2012 | May 15 2019 | SRA | 1 | mouse cerebellum     | Mus musculus | strain: C57Bl/6 | ⋯ | Illumina HiSeq 2000 | RANDOM | genomic | Bisulfite-Seq | SRA: https://www.ncbi.nlm.nih.gov/sra?term=SRX209449 | BioSample: https://www.ncbi.nlm.nih.gov/biosample/SAMN01830648 | ftp://ftp.ncbi.nlm.nih.gov/geo/samples/GSM1051nnn/GSM1051151/suppl/GSM1051151_cerebellum.CpG.calls.txt.gz     | adult | C57Bl/6 | cerebellum     |\n",
       "| GSM1051152 | mouse colon          | GSM1051152 | Public on Sep 01 2013 | Dec 10 2012 | May 15 2019 | SRA | 1 | mouse colon          | Mus musculus | strain: C57Bl/6 | ⋯ | Illumina HiSeq 2000 | RANDOM | genomic | Bisulfite-Seq | SRA: https://www.ncbi.nlm.nih.gov/sra?term=SRX209450 | BioSample: https://www.ncbi.nlm.nih.gov/biosample/SAMN01830649 | ftp://ftp.ncbi.nlm.nih.gov/geo/samples/GSM1051nnn/GSM1051152/suppl/GSM1051152_colon.CpG.calls.txt.gz          | adult | C57Bl/6 | colon          |\n",
       "| GSM1051153 | mouse cortex         | GSM1051153 | Public on Sep 01 2013 | Dec 10 2012 | May 15 2019 | SRA | 1 | mouse cortex         | Mus musculus | strain: C57Bl/6 | ⋯ | Illumina HiSeq 2000 | RANDOM | genomic | Bisulfite-Seq | SRA: https://www.ncbi.nlm.nih.gov/sra?term=SRX209451 | BioSample: https://www.ncbi.nlm.nih.gov/biosample/SAMN01830650 | ftp://ftp.ncbi.nlm.nih.gov/geo/samples/GSM1051nnn/GSM1051153/suppl/GSM1051153_cortex.CpG.calls.txt.gz         | adult | C57Bl/6 | cortex         |\n",
       "| GSM1051154 | mouse heart          | GSM1051154 | Public on Sep 01 2013 | Dec 10 2012 | May 15 2019 | SRA | 1 | mouse heart          | Mus musculus | strain: C57Bl/6 | ⋯ | Illumina HiSeq 2000 | RANDOM | genomic | Bisulfite-Seq | SRA: https://www.ncbi.nlm.nih.gov/sra?term=SRX209452 | BioSample: https://www.ncbi.nlm.nih.gov/biosample/SAMN01830651 | ftp://ftp.ncbi.nlm.nih.gov/geo/samples/GSM1051nnn/GSM1051154/suppl/GSM1051154_heart.CpG.calls.txt.gz          | adult | C57Bl/6 | heart          |\n",
       "| GSM1051155 | mouse intestine      | GSM1051155 | Public on Sep 01 2013 | Dec 10 2012 | May 15 2019 | SRA | 1 | mouse intestine      | Mus musculus | strain: C57Bl/6 | ⋯ | Illumina HiSeq 2000 | RANDOM | genomic | Bisulfite-Seq | SRA: https://www.ncbi.nlm.nih.gov/sra?term=SRX209453 | BioSample: https://www.ncbi.nlm.nih.gov/biosample/SAMN01830652 | ftp://ftp.ncbi.nlm.nih.gov/geo/samples/GSM1051nnn/GSM1051155/suppl/GSM1051155_intestine.CpG.calls.txt.gz      | adult | C57Bl/6 | intestine      |\n",
       "| GSM1051156 | mouse kidney         | GSM1051156 | Public on Sep 01 2013 | Dec 10 2012 | May 15 2019 | SRA | 1 | mouse kidney         | Mus musculus | strain: C57Bl/6 | ⋯ | Illumina HiSeq 2000 | RANDOM | genomic | Bisulfite-Seq | SRA: https://www.ncbi.nlm.nih.gov/sra?term=SRX209454 | BioSample: https://www.ncbi.nlm.nih.gov/biosample/SAMN01830653 | ftp://ftp.ncbi.nlm.nih.gov/geo/samples/GSM1051nnn/GSM1051156/suppl/GSM1051156_kidney.CpG.calls.txt.gz         | adult | C57Bl/6 | kidney         |\n",
       "| GSM1051157 | mouse liver          | GSM1051157 | Public on Sep 01 2013 | Dec 10 2012 | May 15 2019 | SRA | 1 | mouse liver          | Mus musculus | strain: C57Bl/6 | ⋯ | Illumina HiSeq 2000 | RANDOM | genomic | Bisulfite-Seq | SRA: https://www.ncbi.nlm.nih.gov/sra?term=SRX209455 | BioSample: https://www.ncbi.nlm.nih.gov/biosample/SAMN01830654 | ftp://ftp.ncbi.nlm.nih.gov/geo/samples/GSM1051nnn/GSM1051157/suppl/GSM1051157_liver.CpG.calls.txt.gz          | adult | C57Bl/6 | liver          |\n",
       "| GSM1051158 | mouse lung           | GSM1051158 | Public on Sep 01 2013 | Dec 10 2012 | May 15 2019 | SRA | 1 | mouse lung           | Mus musculus | strain: C57Bl/6 | ⋯ | Illumina HiSeq 2000 | RANDOM | genomic | Bisulfite-Seq | SRA: https://www.ncbi.nlm.nih.gov/sra?term=SRX209456 | BioSample: https://www.ncbi.nlm.nih.gov/biosample/SAMN01830655 | ftp://ftp.ncbi.nlm.nih.gov/geo/samples/GSM1051nnn/GSM1051158/suppl/GSM1051158_lung.CpG.calls.txt.gz           | adult | C57Bl/6 | lung           |\n",
       "| GSM1051159 | mouse olfactory bulb | GSM1051159 | Public on Sep 01 2013 | Dec 10 2012 | May 15 2019 | SRA | 1 | mouse olfactory bulb | Mus musculus | strain: C57Bl/6 | ⋯ | Illumina HiSeq 2000 | RANDOM | genomic | Bisulfite-Seq | SRA: https://www.ncbi.nlm.nih.gov/sra?term=SRX209457 | BioSample: https://www.ncbi.nlm.nih.gov/biosample/SAMN01830656 | ftp://ftp.ncbi.nlm.nih.gov/geo/samples/GSM1051nnn/GSM1051159/suppl/GSM1051159_olfactory_bulb.CpG.calls.txt.gz | adult | C57Bl/6 | olfactory bulb |\n",
       "| GSM1051160 | mouse pancreas       | GSM1051160 | Public on Sep 01 2013 | Dec 10 2012 | May 15 2019 | SRA | 1 | mouse pancreas       | Mus musculus | strain: C57Bl/6 | ⋯ | Illumina HiSeq 2000 | RANDOM | genomic | Bisulfite-Seq | SRA: https://www.ncbi.nlm.nih.gov/sra?term=SRX209458 | BioSample: https://www.ncbi.nlm.nih.gov/biosample/SAMN01830657 | ftp://ftp.ncbi.nlm.nih.gov/geo/samples/GSM1051nnn/GSM1051160/suppl/GSM1051160_pancreas.CpG.calls.txt.gz       | adult | C57Bl/6 | pancreas       |\n",
       "| GSM1051161 | mouse placenta       | GSM1051161 | Public on Sep 01 2013 | Dec 10 2012 | May 15 2019 | SRA | 1 | mouse placenta       | Mus musculus | strain: C57Bl/6 | ⋯ | Illumina HiSeq 2000 | RANDOM | genomic | Bisulfite-Seq | SRA: https://www.ncbi.nlm.nih.gov/sra?term=SRX209459 | BioSample: https://www.ncbi.nlm.nih.gov/biosample/SAMN01830658 | ftp://ftp.ncbi.nlm.nih.gov/geo/samples/GSM1051nnn/GSM1051161/suppl/GSM1051161_placenta.CpG.calls.txt.gz       | adult | C57Bl/6 | placenta       |\n",
       "| GSM1051162 | mouse skin           | GSM1051162 | Public on Sep 01 2013 | Dec 10 2012 | May 15 2019 | SRA | 1 | mouse skin           | Mus musculus | strain: C57Bl/6 | ⋯ | Illumina HiSeq 2000 | RANDOM | genomic | Bisulfite-Seq | SRA: https://www.ncbi.nlm.nih.gov/sra?term=SRX209460 | BioSample: https://www.ncbi.nlm.nih.gov/biosample/SAMN01830659 | ftp://ftp.ncbi.nlm.nih.gov/geo/samples/GSM1051nnn/GSM1051162/suppl/GSM1051162_skin.CpG.calls.txt.gz           | adult | C57Bl/6 | skin           |\n",
       "| GSM1051163 | mouse spleen         | GSM1051163 | Public on Sep 01 2013 | Dec 10 2012 | May 15 2019 | SRA | 1 | mouse spleen         | Mus musculus | strain: C57Bl/6 | ⋯ | Illumina HiSeq 2000 | RANDOM | genomic | Bisulfite-Seq | SRA: https://www.ncbi.nlm.nih.gov/sra?term=SRX209461 | BioSample: https://www.ncbi.nlm.nih.gov/biosample/SAMN01830660 | ftp://ftp.ncbi.nlm.nih.gov/geo/samples/GSM1051nnn/GSM1051163/suppl/GSM1051163_spleen.CpG.calls.txt.gz         | adult | C57Bl/6 | spleen         |\n",
       "| GSM1051164 | mouse stomach        | GSM1051164 | Public on Sep 01 2013 | Dec 10 2012 | May 15 2019 | SRA | 1 | mouse stomach        | Mus musculus | strain: C57Bl/6 | ⋯ | Illumina HiSeq 2000 | RANDOM | genomic | Bisulfite-Seq | SRA: https://www.ncbi.nlm.nih.gov/sra?term=SRX209462 | BioSample: https://www.ncbi.nlm.nih.gov/biosample/SAMN01830661 | ftp://ftp.ncbi.nlm.nih.gov/geo/samples/GSM1051nnn/GSM1051164/suppl/GSM1051164_stomach.CpG.calls.txt.gz        | adult | C57Bl/6 | stomach        |\n",
       "| GSM1051165 | mouse thymus         | GSM1051165 | Public on Sep 01 2013 | Dec 10 2012 | May 15 2019 | SRA | 1 | mouse thymus         | Mus musculus | strain: C57Bl/6 | ⋯ | Illumina HiSeq 2000 | RANDOM | genomic | Bisulfite-Seq | SRA: https://www.ncbi.nlm.nih.gov/sra?term=SRX209463 | BioSample: https://www.ncbi.nlm.nih.gov/biosample/SAMN01830662 | ftp://ftp.ncbi.nlm.nih.gov/geo/samples/GSM1051nnn/GSM1051165/suppl/GSM1051165_thymus.CpG.calls.txt.gz         | adult | C57Bl/6 | thymus         |\n",
       "| GSM1051166 | mouse uterus         | GSM1051166 | Public on Sep 01 2013 | Dec 10 2012 | May 15 2019 | SRA | 1 | mouse uterus         | Mus musculus | strain: C57Bl/6 | ⋯ | Illumina HiSeq 2000 | RANDOM | genomic | Bisulfite-Seq | SRA: https://www.ncbi.nlm.nih.gov/sra?term=SRX209464 | BioSample: https://www.ncbi.nlm.nih.gov/biosample/SAMN01830663 | ftp://ftp.ncbi.nlm.nih.gov/geo/samples/GSM1051nnn/GSM1051166/suppl/GSM1051166_uterus.CpG.calls.txt.gz         | adult | C57Bl/6 | uterus         |\n",
       "\n"
      ],
      "text/plain": [
       "           title                geo_accession status               \n",
       "GSM1051150 mouse bone marrow    GSM1051150    Public on Sep 01 2013\n",
       "GSM1051151 mouse cerebellum     GSM1051151    Public on Sep 01 2013\n",
       "GSM1051152 mouse colon          GSM1051152    Public on Sep 01 2013\n",
       "GSM1051153 mouse cortex         GSM1051153    Public on Sep 01 2013\n",
       "GSM1051154 mouse heart          GSM1051154    Public on Sep 01 2013\n",
       "GSM1051155 mouse intestine      GSM1051155    Public on Sep 01 2013\n",
       "GSM1051156 mouse kidney         GSM1051156    Public on Sep 01 2013\n",
       "GSM1051157 mouse liver          GSM1051157    Public on Sep 01 2013\n",
       "GSM1051158 mouse lung           GSM1051158    Public on Sep 01 2013\n",
       "GSM1051159 mouse olfactory bulb GSM1051159    Public on Sep 01 2013\n",
       "GSM1051160 mouse pancreas       GSM1051160    Public on Sep 01 2013\n",
       "GSM1051161 mouse placenta       GSM1051161    Public on Sep 01 2013\n",
       "GSM1051162 mouse skin           GSM1051162    Public on Sep 01 2013\n",
       "GSM1051163 mouse spleen         GSM1051163    Public on Sep 01 2013\n",
       "GSM1051164 mouse stomach        GSM1051164    Public on Sep 01 2013\n",
       "GSM1051165 mouse thymus         GSM1051165    Public on Sep 01 2013\n",
       "GSM1051166 mouse uterus         GSM1051166    Public on Sep 01 2013\n",
       "           submission_date last_update_date type channel_count\n",
       "GSM1051150 Dec 10 2012     May 15 2019      SRA  1            \n",
       "GSM1051151 Dec 10 2012     May 15 2019      SRA  1            \n",
       "GSM1051152 Dec 10 2012     May 15 2019      SRA  1            \n",
       "GSM1051153 Dec 10 2012     May 15 2019      SRA  1            \n",
       "GSM1051154 Dec 10 2012     May 15 2019      SRA  1            \n",
       "GSM1051155 Dec 10 2012     May 15 2019      SRA  1            \n",
       "GSM1051156 Dec 10 2012     May 15 2019      SRA  1            \n",
       "GSM1051157 Dec 10 2012     May 15 2019      SRA  1            \n",
       "GSM1051158 Dec 10 2012     May 15 2019      SRA  1            \n",
       "GSM1051159 Dec 10 2012     May 15 2019      SRA  1            \n",
       "GSM1051160 Dec 10 2012     May 15 2019      SRA  1            \n",
       "GSM1051161 Dec 10 2012     May 15 2019      SRA  1            \n",
       "GSM1051162 Dec 10 2012     May 15 2019      SRA  1            \n",
       "GSM1051163 Dec 10 2012     May 15 2019      SRA  1            \n",
       "GSM1051164 Dec 10 2012     May 15 2019      SRA  1            \n",
       "GSM1051165 Dec 10 2012     May 15 2019      SRA  1            \n",
       "GSM1051166 Dec 10 2012     May 15 2019      SRA  1            \n",
       "           source_name_ch1      organism_ch1 characteristics_ch1 ⋯\n",
       "GSM1051150 mouse bone marrow    Mus musculus strain: C57Bl/6     ⋯\n",
       "GSM1051151 mouse cerebellum     Mus musculus strain: C57Bl/6     ⋯\n",
       "GSM1051152 mouse colon          Mus musculus strain: C57Bl/6     ⋯\n",
       "GSM1051153 mouse cortex         Mus musculus strain: C57Bl/6     ⋯\n",
       "GSM1051154 mouse heart          Mus musculus strain: C57Bl/6     ⋯\n",
       "GSM1051155 mouse intestine      Mus musculus strain: C57Bl/6     ⋯\n",
       "GSM1051156 mouse kidney         Mus musculus strain: C57Bl/6     ⋯\n",
       "GSM1051157 mouse liver          Mus musculus strain: C57Bl/6     ⋯\n",
       "GSM1051158 mouse lung           Mus musculus strain: C57Bl/6     ⋯\n",
       "GSM1051159 mouse olfactory bulb Mus musculus strain: C57Bl/6     ⋯\n",
       "GSM1051160 mouse pancreas       Mus musculus strain: C57Bl/6     ⋯\n",
       "GSM1051161 mouse placenta       Mus musculus strain: C57Bl/6     ⋯\n",
       "GSM1051162 mouse skin           Mus musculus strain: C57Bl/6     ⋯\n",
       "GSM1051163 mouse spleen         Mus musculus strain: C57Bl/6     ⋯\n",
       "GSM1051164 mouse stomach        Mus musculus strain: C57Bl/6     ⋯\n",
       "GSM1051165 mouse thymus         Mus musculus strain: C57Bl/6     ⋯\n",
       "GSM1051166 mouse uterus         Mus musculus strain: C57Bl/6     ⋯\n",
       "           instrument_model    library_selection library_source\n",
       "GSM1051150 Illumina HiSeq 2000 RANDOM            genomic       \n",
       "GSM1051151 Illumina HiSeq 2000 RANDOM            genomic       \n",
       "GSM1051152 Illumina HiSeq 2000 RANDOM            genomic       \n",
       "GSM1051153 Illumina HiSeq 2000 RANDOM            genomic       \n",
       "GSM1051154 Illumina HiSeq 2000 RANDOM            genomic       \n",
       "GSM1051155 Illumina HiSeq 2000 RANDOM            genomic       \n",
       "GSM1051156 Illumina HiSeq 2000 RANDOM            genomic       \n",
       "GSM1051157 Illumina HiSeq 2000 RANDOM            genomic       \n",
       "GSM1051158 Illumina HiSeq 2000 RANDOM            genomic       \n",
       "GSM1051159 Illumina HiSeq 2000 RANDOM            genomic       \n",
       "GSM1051160 Illumina HiSeq 2000 RANDOM            genomic       \n",
       "GSM1051161 Illumina HiSeq 2000 RANDOM            genomic       \n",
       "GSM1051162 Illumina HiSeq 2000 RANDOM            genomic       \n",
       "GSM1051163 Illumina HiSeq 2000 RANDOM            genomic       \n",
       "GSM1051164 Illumina HiSeq 2000 RANDOM            genomic       \n",
       "GSM1051165 Illumina HiSeq 2000 RANDOM            genomic       \n",
       "GSM1051166 Illumina HiSeq 2000 RANDOM            genomic       \n",
       "           library_strategy\n",
       "GSM1051150 Bisulfite-Seq   \n",
       "GSM1051151 Bisulfite-Seq   \n",
       "GSM1051152 Bisulfite-Seq   \n",
       "GSM1051153 Bisulfite-Seq   \n",
       "GSM1051154 Bisulfite-Seq   \n",
       "GSM1051155 Bisulfite-Seq   \n",
       "GSM1051156 Bisulfite-Seq   \n",
       "GSM1051157 Bisulfite-Seq   \n",
       "GSM1051158 Bisulfite-Seq   \n",
       "GSM1051159 Bisulfite-Seq   \n",
       "GSM1051160 Bisulfite-Seq   \n",
       "GSM1051161 Bisulfite-Seq   \n",
       "GSM1051162 Bisulfite-Seq   \n",
       "GSM1051163 Bisulfite-Seq   \n",
       "GSM1051164 Bisulfite-Seq   \n",
       "GSM1051165 Bisulfite-Seq   \n",
       "GSM1051166 Bisulfite-Seq   \n",
       "           relation                                            \n",
       "GSM1051150 SRA: https://www.ncbi.nlm.nih.gov/sra?term=SRX209448\n",
       "GSM1051151 SRA: https://www.ncbi.nlm.nih.gov/sra?term=SRX209449\n",
       "GSM1051152 SRA: https://www.ncbi.nlm.nih.gov/sra?term=SRX209450\n",
       "GSM1051153 SRA: https://www.ncbi.nlm.nih.gov/sra?term=SRX209451\n",
       "GSM1051154 SRA: https://www.ncbi.nlm.nih.gov/sra?term=SRX209452\n",
       "GSM1051155 SRA: https://www.ncbi.nlm.nih.gov/sra?term=SRX209453\n",
       "GSM1051156 SRA: https://www.ncbi.nlm.nih.gov/sra?term=SRX209454\n",
       "GSM1051157 SRA: https://www.ncbi.nlm.nih.gov/sra?term=SRX209455\n",
       "GSM1051158 SRA: https://www.ncbi.nlm.nih.gov/sra?term=SRX209456\n",
       "GSM1051159 SRA: https://www.ncbi.nlm.nih.gov/sra?term=SRX209457\n",
       "GSM1051160 SRA: https://www.ncbi.nlm.nih.gov/sra?term=SRX209458\n",
       "GSM1051161 SRA: https://www.ncbi.nlm.nih.gov/sra?term=SRX209459\n",
       "GSM1051162 SRA: https://www.ncbi.nlm.nih.gov/sra?term=SRX209460\n",
       "GSM1051163 SRA: https://www.ncbi.nlm.nih.gov/sra?term=SRX209461\n",
       "GSM1051164 SRA: https://www.ncbi.nlm.nih.gov/sra?term=SRX209462\n",
       "GSM1051165 SRA: https://www.ncbi.nlm.nih.gov/sra?term=SRX209463\n",
       "GSM1051166 SRA: https://www.ncbi.nlm.nih.gov/sra?term=SRX209464\n",
       "           relation.1                                                    \n",
       "GSM1051150 BioSample: https://www.ncbi.nlm.nih.gov/biosample/SAMN01830647\n",
       "GSM1051151 BioSample: https://www.ncbi.nlm.nih.gov/biosample/SAMN01830648\n",
       "GSM1051152 BioSample: https://www.ncbi.nlm.nih.gov/biosample/SAMN01830649\n",
       "GSM1051153 BioSample: https://www.ncbi.nlm.nih.gov/biosample/SAMN01830650\n",
       "GSM1051154 BioSample: https://www.ncbi.nlm.nih.gov/biosample/SAMN01830651\n",
       "GSM1051155 BioSample: https://www.ncbi.nlm.nih.gov/biosample/SAMN01830652\n",
       "GSM1051156 BioSample: https://www.ncbi.nlm.nih.gov/biosample/SAMN01830653\n",
       "GSM1051157 BioSample: https://www.ncbi.nlm.nih.gov/biosample/SAMN01830654\n",
       "GSM1051158 BioSample: https://www.ncbi.nlm.nih.gov/biosample/SAMN01830655\n",
       "GSM1051159 BioSample: https://www.ncbi.nlm.nih.gov/biosample/SAMN01830656\n",
       "GSM1051160 BioSample: https://www.ncbi.nlm.nih.gov/biosample/SAMN01830657\n",
       "GSM1051161 BioSample: https://www.ncbi.nlm.nih.gov/biosample/SAMN01830658\n",
       "GSM1051162 BioSample: https://www.ncbi.nlm.nih.gov/biosample/SAMN01830659\n",
       "GSM1051163 BioSample: https://www.ncbi.nlm.nih.gov/biosample/SAMN01830660\n",
       "GSM1051164 BioSample: https://www.ncbi.nlm.nih.gov/biosample/SAMN01830661\n",
       "GSM1051165 BioSample: https://www.ncbi.nlm.nih.gov/biosample/SAMN01830662\n",
       "GSM1051166 BioSample: https://www.ncbi.nlm.nih.gov/biosample/SAMN01830663\n",
       "           supplementary_file_1                                                                                         \n",
       "GSM1051150 ftp://ftp.ncbi.nlm.nih.gov/geo/samples/GSM1051nnn/GSM1051150/suppl/GSM1051150_bone_marrow.CpG.calls.txt.gz   \n",
       "GSM1051151 ftp://ftp.ncbi.nlm.nih.gov/geo/samples/GSM1051nnn/GSM1051151/suppl/GSM1051151_cerebellum.CpG.calls.txt.gz    \n",
       "GSM1051152 ftp://ftp.ncbi.nlm.nih.gov/geo/samples/GSM1051nnn/GSM1051152/suppl/GSM1051152_colon.CpG.calls.txt.gz         \n",
       "GSM1051153 ftp://ftp.ncbi.nlm.nih.gov/geo/samples/GSM1051nnn/GSM1051153/suppl/GSM1051153_cortex.CpG.calls.txt.gz        \n",
       "GSM1051154 ftp://ftp.ncbi.nlm.nih.gov/geo/samples/GSM1051nnn/GSM1051154/suppl/GSM1051154_heart.CpG.calls.txt.gz         \n",
       "GSM1051155 ftp://ftp.ncbi.nlm.nih.gov/geo/samples/GSM1051nnn/GSM1051155/suppl/GSM1051155_intestine.CpG.calls.txt.gz     \n",
       "GSM1051156 ftp://ftp.ncbi.nlm.nih.gov/geo/samples/GSM1051nnn/GSM1051156/suppl/GSM1051156_kidney.CpG.calls.txt.gz        \n",
       "GSM1051157 ftp://ftp.ncbi.nlm.nih.gov/geo/samples/GSM1051nnn/GSM1051157/suppl/GSM1051157_liver.CpG.calls.txt.gz         \n",
       "GSM1051158 ftp://ftp.ncbi.nlm.nih.gov/geo/samples/GSM1051nnn/GSM1051158/suppl/GSM1051158_lung.CpG.calls.txt.gz          \n",
       "GSM1051159 ftp://ftp.ncbi.nlm.nih.gov/geo/samples/GSM1051nnn/GSM1051159/suppl/GSM1051159_olfactory_bulb.CpG.calls.txt.gz\n",
       "GSM1051160 ftp://ftp.ncbi.nlm.nih.gov/geo/samples/GSM1051nnn/GSM1051160/suppl/GSM1051160_pancreas.CpG.calls.txt.gz      \n",
       "GSM1051161 ftp://ftp.ncbi.nlm.nih.gov/geo/samples/GSM1051nnn/GSM1051161/suppl/GSM1051161_placenta.CpG.calls.txt.gz      \n",
       "GSM1051162 ftp://ftp.ncbi.nlm.nih.gov/geo/samples/GSM1051nnn/GSM1051162/suppl/GSM1051162_skin.CpG.calls.txt.gz          \n",
       "GSM1051163 ftp://ftp.ncbi.nlm.nih.gov/geo/samples/GSM1051nnn/GSM1051163/suppl/GSM1051163_spleen.CpG.calls.txt.gz        \n",
       "GSM1051164 ftp://ftp.ncbi.nlm.nih.gov/geo/samples/GSM1051nnn/GSM1051164/suppl/GSM1051164_stomach.CpG.calls.txt.gz       \n",
       "GSM1051165 ftp://ftp.ncbi.nlm.nih.gov/geo/samples/GSM1051nnn/GSM1051165/suppl/GSM1051165_thymus.CpG.calls.txt.gz        \n",
       "GSM1051166 ftp://ftp.ncbi.nlm.nih.gov/geo/samples/GSM1051nnn/GSM1051166/suppl/GSM1051166_uterus.CpG.calls.txt.gz        \n",
       "           developmental stage:ch1 strain:ch1 tissue:ch1    \n",
       "GSM1051150 adult                   C57Bl/6    bone marrow   \n",
       "GSM1051151 adult                   C57Bl/6    cerebellum    \n",
       "GSM1051152 adult                   C57Bl/6    colon         \n",
       "GSM1051153 adult                   C57Bl/6    cortex        \n",
       "GSM1051154 adult                   C57Bl/6    heart         \n",
       "GSM1051155 adult                   C57Bl/6    intestine     \n",
       "GSM1051156 adult                   C57Bl/6    kidney        \n",
       "GSM1051157 adult                   C57Bl/6    liver         \n",
       "GSM1051158 adult                   C57Bl/6    lung          \n",
       "GSM1051159 adult                   C57Bl/6    olfactory bulb\n",
       "GSM1051160 adult                   C57Bl/6    pancreas      \n",
       "GSM1051161 adult                   C57Bl/6    placenta      \n",
       "GSM1051162 adult                   C57Bl/6    skin          \n",
       "GSM1051163 adult                   C57Bl/6    spleen        \n",
       "GSM1051164 adult                   C57Bl/6    stomach       \n",
       "GSM1051165 adult                   C57Bl/6    thymus        \n",
       "GSM1051166 adult                   C57Bl/6    uterus        "
      ]
     },
     "metadata": {},
     "output_type": "display_data"
    }
   ],
   "source": [
    "df <- get_gse_df(\"GSE42836\")\n",
    "df"
   ]
  },
  {
   "cell_type": "code",
   "execution_count": 86,
   "id": "b18c8e6c",
   "metadata": {},
   "outputs": [],
   "source": [
    "for (i in c(1:NROW(df))){\n",
    "    dir_to_save = paste0(\"../../resources/WGBS_public/\", gsub(\" \", \"_\", df[i, ]$organism_ch1), \"/\", gsub(\" \", \"_\",df[i, ]$source_name_ch1), \"/\")\n",
    "    dir.create(dir_to_save, recursive = T)\n",
    "    download_cpg_report(df[i, ]$supplementary_file_1, dir_to_save)  \n",
    "} "
   ]
  },
  {
   "cell_type": "markdown",
   "id": "2a48cdf2",
   "metadata": {},
   "source": [
    "## Lancet 1"
   ]
  },
  {
   "cell_type": "code",
   "execution_count": 88,
   "id": "93dcb7a0",
   "metadata": {},
   "outputs": [
    {
     "name": "stderr",
     "output_type": "stream",
     "text": [
      "Found 2 file(s)\n",
      "\n",
      "GSE102144-GPL23852_series_matrix.txt.gz\n",
      "\n",
      "\n",
      "\u001b[36m──\u001b[39m \u001b[1m\u001b[1mColumn specification\u001b[1m\u001b[22m \u001b[36m────────────────────────────────────────────────────────\u001b[39m\n",
      "cols(\n",
      "  ID_REF = \u001b[31mcol_character()\u001b[39m,\n",
      "  GSM2728827 = \u001b[31mcol_character()\u001b[39m,\n",
      "  GSM2728828 = \u001b[31mcol_character()\u001b[39m,\n",
      "  GSM2728829 = \u001b[31mcol_character()\u001b[39m,\n",
      "  GSM2728830 = \u001b[31mcol_character()\u001b[39m\n",
      ")\n",
      "\n",
      "\n",
      "File stored at: \n",
      "\n",
      "/tmp/Rtmp5XEq1S/GPL23852.soft\n",
      "\n",
      "GSE102144-GPL25186_series_matrix.txt.gz\n",
      "\n",
      "\n",
      "\u001b[36m──\u001b[39m \u001b[1m\u001b[1mColumn specification\u001b[1m\u001b[22m \u001b[36m────────────────────────────────────────────────────────\u001b[39m\n",
      "cols(\n",
      "  ID_REF = \u001b[31mcol_character()\u001b[39m,\n",
      "  GSM3190302 = \u001b[31mcol_character()\u001b[39m,\n",
      "  GSM3190303 = \u001b[31mcol_character()\u001b[39m,\n",
      "  GSM3190304 = \u001b[31mcol_character()\u001b[39m,\n",
      "  GSM3190305 = \u001b[31mcol_character()\u001b[39m,\n",
      "  GSM3190306 = \u001b[31mcol_character()\u001b[39m,\n",
      "  GSM3190307 = \u001b[31mcol_character()\u001b[39m\n",
      ")\n",
      "\n",
      "\n",
      "File stored at: \n",
      "\n",
      "/tmp/Rtmp5XEq1S/GPL25186.soft\n",
      "\n"
     ]
    }
   ],
   "source": [
    "df <- get_gse_df(\"GSE102144\")"
   ]
  },
  {
   "cell_type": "code",
   "execution_count": 90,
   "id": "f246b892",
   "metadata": {},
   "outputs": [],
   "source": [
    "df <- df[df[\"developmental stage:ch1\"] == \"adult\",]"
   ]
  },
  {
   "cell_type": "code",
   "execution_count": 94,
   "id": "04e680a6",
   "metadata": {},
   "outputs": [],
   "source": [
    "dir_to_save = paste0(\"../../resources/WGBS_public/\", gsub(\" \", \"_\", df[1, ]$organism_ch1),\"_1\", \"/\", gsub(\" \", \"_\",df[1, ]$source_name_ch1), \"/\")\n",
    "\n",
    "dir.create(dir_to_save, recursive = T)\n",
    "\n",
    "download_cpg_report(df[1, ]$supplementary_file_1, dir_to_save)   "
   ]
  },
  {
   "cell_type": "markdown",
   "id": "526ec388",
   "metadata": {},
   "source": [
    "## Multi-species study \n",
    "a bit different, as there is more than "
   ]
  },
  {
   "cell_type": "code",
   "execution_count": 10,
   "id": "c9b4395d",
   "metadata": {
    "collapsed": true,
    "jupyter": {
     "outputs_hidden": true
    },
    "tags": []
   },
   "outputs": [
    {
     "name": "stderr",
     "output_type": "stream",
     "text": [
      "Found 9 file(s)\n",
      "\n",
      "GSE141609-GPL13725_series_matrix.txt.gz\n",
      "\n",
      "Using locally cached version: /tmp/Rtmpg8tL1S/GSE141609-GPL13725_series_matrix.txt.gz\n",
      "\n",
      "\n",
      "\u001b[36m──\u001b[39m \u001b[1m\u001b[1mColumn specification\u001b[1m\u001b[22m \u001b[36m────────────────────────────────────────────────────────\u001b[39m\n",
      "cols(\n",
      "  ID_REF = \u001b[31mcol_character()\u001b[39m,\n",
      "  GSM4209497 = \u001b[31mcol_character()\u001b[39m,\n",
      "  GSM4209501 = \u001b[31mcol_character()\u001b[39m\n",
      ")\n",
      "\n",
      "\n",
      "Using locally cached version of GPL13725 found here:\n",
      "/tmp/Rtmpg8tL1S/GPL13725.soft \n",
      "\n",
      "GSE141609-GPL18171_series_matrix.txt.gz\n",
      "\n",
      "Using locally cached version: /tmp/Rtmpg8tL1S/GSE141609-GPL18171_series_matrix.txt.gz\n",
      "\n",
      "\n",
      "\u001b[36m──\u001b[39m \u001b[1m\u001b[1mColumn specification\u001b[1m\u001b[22m \u001b[36m────────────────────────────────────────────────────────\u001b[39m\n",
      "cols(\n",
      "  ID_REF = \u001b[31mcol_character()\u001b[39m,\n",
      "  GSM4209494 = \u001b[31mcol_character()\u001b[39m\n",
      ")\n",
      "\n",
      "\n",
      "Using locally cached version of GPL18171 found here:\n",
      "/tmp/Rtmpg8tL1S/GPL18171.soft \n",
      "\n",
      "GSE141609-GPL21476_series_matrix.txt.gz\n",
      "\n",
      "Using locally cached version: /tmp/Rtmpg8tL1S/GSE141609-GPL21476_series_matrix.txt.gz\n",
      "\n",
      "\n",
      "\u001b[36m──\u001b[39m \u001b[1m\u001b[1mColumn specification\u001b[1m\u001b[22m \u001b[36m────────────────────────────────────────────────────────\u001b[39m\n",
      "cols(\n",
      "  ID_REF = \u001b[31mcol_character()\u001b[39m,\n",
      "  GSM4209493 = \u001b[31mcol_character()\u001b[39m\n",
      ")\n",
      "\n",
      "\n",
      "Using locally cached version of GPL21476 found here:\n",
      "/tmp/Rtmpg8tL1S/GPL21476.soft \n",
      "\n",
      "GSE141609-GPL27874_series_matrix.txt.gz\n",
      "\n",
      "Using locally cached version: /tmp/Rtmpg8tL1S/GSE141609-GPL27874_series_matrix.txt.gz\n",
      "\n",
      "\n",
      "\u001b[36m──\u001b[39m \u001b[1m\u001b[1mColumn specification\u001b[1m\u001b[22m \u001b[36m────────────────────────────────────────────────────────\u001b[39m\n",
      "cols(\n",
      "  ID_REF = \u001b[31mcol_character()\u001b[39m,\n",
      "  GSM4209491 = \u001b[31mcol_character()\u001b[39m\n",
      ")\n",
      "\n",
      "\n",
      "Using locally cached version of GPL27874 found here:\n",
      "/tmp/Rtmpg8tL1S/GPL27874.soft \n",
      "\n",
      "GSE141609-GPL27875_series_matrix.txt.gz\n",
      "\n",
      "Using locally cached version: /tmp/Rtmpg8tL1S/GSE141609-GPL27875_series_matrix.txt.gz\n",
      "\n",
      "\n",
      "\u001b[36m──\u001b[39m \u001b[1m\u001b[1mColumn specification\u001b[1m\u001b[22m \u001b[36m────────────────────────────────────────────────────────\u001b[39m\n",
      "cols(\n",
      "  ID_REF = \u001b[31mcol_character()\u001b[39m,\n",
      "  GSM4209492 = \u001b[31mcol_character()\u001b[39m\n",
      ")\n",
      "\n",
      "\n",
      "Using locally cached version of GPL27875 found here:\n",
      "/tmp/Rtmpg8tL1S/GPL27875.soft \n",
      "\n",
      "GSE141609-GPL27876_series_matrix.txt.gz\n",
      "\n",
      "Using locally cached version: /tmp/Rtmpg8tL1S/GSE141609-GPL27876_series_matrix.txt.gz\n",
      "\n",
      "\n",
      "\u001b[36m──\u001b[39m \u001b[1m\u001b[1mColumn specification\u001b[1m\u001b[22m \u001b[36m────────────────────────────────────────────────────────\u001b[39m\n",
      "cols(\n",
      "  ID_REF = \u001b[31mcol_character()\u001b[39m,\n",
      "  GSM4209495 = \u001b[31mcol_character()\u001b[39m\n",
      ")\n",
      "\n",
      "\n",
      "Using locally cached version of GPL27876 found here:\n",
      "/tmp/Rtmpg8tL1S/GPL27876.soft \n",
      "\n",
      "GSE141609-GPL27877_series_matrix.txt.gz\n",
      "\n",
      "Using locally cached version: /tmp/Rtmpg8tL1S/GSE141609-GPL27877_series_matrix.txt.gz\n",
      "\n",
      "\n",
      "\u001b[36m──\u001b[39m \u001b[1m\u001b[1mColumn specification\u001b[1m\u001b[22m \u001b[36m────────────────────────────────────────────────────────\u001b[39m\n",
      "cols(\n",
      "  ID_REF = \u001b[31mcol_character()\u001b[39m,\n",
      "  GSM4209496 = \u001b[31mcol_character()\u001b[39m\n",
      ")\n",
      "\n",
      "\n",
      "Using locally cached version of GPL27877 found here:\n",
      "/tmp/Rtmpg8tL1S/GPL27877.soft \n",
      "\n",
      "GSE141609-GPL27878_series_matrix.txt.gz\n",
      "\n",
      "Using locally cached version: /tmp/Rtmpg8tL1S/GSE141609-GPL27878_series_matrix.txt.gz\n",
      "\n",
      "\n",
      "\u001b[36m──\u001b[39m \u001b[1m\u001b[1mColumn specification\u001b[1m\u001b[22m \u001b[36m────────────────────────────────────────────────────────\u001b[39m\n",
      "cols(\n",
      "  ID_REF = \u001b[31mcol_character()\u001b[39m,\n",
      "  GSM4209498 = \u001b[31mcol_character()\u001b[39m,\n",
      "  GSM4209499 = \u001b[31mcol_character()\u001b[39m\n",
      ")\n",
      "\n",
      "\n",
      "Using locally cached version of GPL27878 found here:\n",
      "/tmp/Rtmpg8tL1S/GPL27878.soft \n",
      "\n",
      "GSE141609-GPL27879_series_matrix.txt.gz\n",
      "\n",
      "Using locally cached version: /tmp/Rtmpg8tL1S/GSE141609-GPL27879_series_matrix.txt.gz\n",
      "\n",
      "\n",
      "\u001b[36m──\u001b[39m \u001b[1m\u001b[1mColumn specification\u001b[1m\u001b[22m \u001b[36m────────────────────────────────────────────────────────\u001b[39m\n",
      "cols(\n",
      "  ID_REF = \u001b[31mcol_character()\u001b[39m,\n",
      "  GSM4209500 = \u001b[31mcol_character()\u001b[39m\n",
      ")\n",
      "\n",
      "\n",
      "Using locally cached version of GPL27879 found here:\n",
      "/tmp/Rtmpg8tL1S/GPL27879.soft \n",
      "\n"
     ]
    }
   ],
   "source": [
    " gse <- getGEO(\"GSE141609\")"
   ]
  },
  {
   "cell_type": "code",
   "execution_count": 14,
   "id": "73c305e7",
   "metadata": {},
   "outputs": [
    {
     "data": {
      "text/html": [
       "9"
      ],
      "text/latex": [
       "9"
      ],
      "text/markdown": [
       "9"
      ],
      "text/plain": [
       "[1] 9"
      ]
     },
     "metadata": {},
     "output_type": "display_data"
    }
   ],
   "source": [
    "length(gse)"
   ]
  },
  {
   "cell_type": "code",
   "execution_count": 17,
   "id": "6ec17ba3",
   "metadata": {},
   "outputs": [],
   "source": [
    "df = data.table()\n",
    "for (i in c(1:9)){\n",
    "    df_temp <- pData(gse[[i]])\n",
    "    df <- rbind(df, df_temp)\n",
    "}"
   ]
  },
  {
   "cell_type": "code",
   "execution_count": null,
   "id": "9b2479eb",
   "metadata": {},
   "outputs": [],
   "source": []
  },
  {
   "cell_type": "code",
   "execution_count": null,
   "id": "c63c0997",
   "metadata": {},
   "outputs": [],
   "source": [
    "\n",
    "    gse <- gse[[1]]\n",
    "    df <- pData(gse)"
   ]
  },
  {
   "cell_type": "code",
   "execution_count": 19,
   "id": "b75b531e",
   "metadata": {},
   "outputs": [],
   "source": [
    "df <- df[df$library_strategy == \"Bisulfite-Seq\",]"
   ]
  },
  {
   "cell_type": "code",
   "execution_count": 20,
   "id": "ad78566f",
   "metadata": {},
   "outputs": [
    {
     "data": {
      "text/html": [
       "<table class=\"dataframe\">\n",
       "<caption>A data.table: 10 × 44</caption>\n",
       "<thead>\n",
       "\t<tr><th scope=col>title</th><th scope=col>geo_accession</th><th scope=col>status</th><th scope=col>submission_date</th><th scope=col>last_update_date</th><th scope=col>type</th><th scope=col>channel_count</th><th scope=col>source_name_ch1</th><th scope=col>organism_ch1</th><th scope=col>characteristics_ch1</th><th scope=col>⋯</th><th scope=col>contact_country</th><th scope=col>data_row_count</th><th scope=col>instrument_model</th><th scope=col>library_selection</th><th scope=col>library_source</th><th scope=col>library_strategy</th><th scope=col>relation</th><th scope=col>relation.1</th><th scope=col>supplementary_file_1</th><th scope=col>source:ch1</th></tr>\n",
       "\t<tr><th scope=col>&lt;fct&gt;</th><th scope=col>&lt;chr&gt;</th><th scope=col>&lt;fct&gt;</th><th scope=col>&lt;fct&gt;</th><th scope=col>&lt;fct&gt;</th><th scope=col>&lt;fct&gt;</th><th scope=col>&lt;fct&gt;</th><th scope=col>&lt;fct&gt;</th><th scope=col>&lt;fct&gt;</th><th scope=col>&lt;fct&gt;</th><th scope=col>⋯</th><th scope=col>&lt;fct&gt;</th><th scope=col>&lt;fct&gt;</th><th scope=col>&lt;fct&gt;</th><th scope=col>&lt;fct&gt;</th><th scope=col>&lt;fct&gt;</th><th scope=col>&lt;fct&gt;</th><th scope=col>&lt;fct&gt;</th><th scope=col>&lt;fct&gt;</th><th scope=col>&lt;fct&gt;</th><th scope=col>&lt;chr&gt;</th></tr>\n",
       "</thead>\n",
       "<tbody>\n",
       "\t<tr><td>mC_brain_queen_honeybee         </td><td>GSM4209497</td><td>Public on Oct 26 2020</td><td>Dec 06 2019</td><td>Oct 27 2020</td><td>SRA</td><td>1</td><td>brain                </td><td>Apis mellifera           </td><td>source: Reared at UWA, Australia    </td><td>⋯</td><td>Australia</td><td>0</td><td>Illumina Genome Analyzer IIx</td><td>RANDOM</td><td>genomic</td><td>Bisulfite-Seq</td><td>BioSample: https://www.ncbi.nlm.nih.gov/biosample/SAMN13508509</td><td>SRA: https://www.ncbi.nlm.nih.gov/sra?term=SRX7285996</td><td>ftp://ftp.ncbi.nlm.nih.gov/geo/samples/GSM4209nnn/GSM4209497/suppl/GSM4209497_mC_brain_queen_honeybee.CGmap.gz         </td><td>Reared at UWA, Australia    </td></tr>\n",
       "\t<tr><td>mC_forebrain_zebrafish          </td><td>GSM4209494</td><td>Public on Oct 26 2020</td><td>Dec 06 2019</td><td>Oct 27 2020</td><td>SRA</td><td>1</td><td>forebrain            </td><td>Danio rerio              </td><td>source: Mix AB/Tubingen             </td><td>⋯</td><td>Australia</td><td>0</td><td>Illumina HiSeq 1500         </td><td>RANDOM</td><td>genomic</td><td>Bisulfite-Seq</td><td>BioSample: https://www.ncbi.nlm.nih.gov/biosample/SAMN13508512</td><td>SRA: https://www.ncbi.nlm.nih.gov/sra?term=SRX7285993</td><td>ftp://ftp.ncbi.nlm.nih.gov/geo/samples/GSM4209nnn/GSM4209494/suppl/GSM4209494_mC_forebrain_zebrafish.CGmap.gz          </td><td>Mix AB/Tubingen             </td></tr>\n",
       "\t<tr><td>mC_brain_chicken                </td><td>GSM4209493</td><td>Public on Oct 26 2020</td><td>Dec 06 2019</td><td>Oct 27 2020</td><td>SRA</td><td>1</td><td>brain                </td><td>Gallus gallus            </td><td>source: Collected in Seville, Spain </td><td>⋯</td><td>Australia</td><td>0</td><td>Illumina HiSeq 1500         </td><td>RANDOM</td><td>genomic</td><td>Bisulfite-Seq</td><td>BioSample: https://www.ncbi.nlm.nih.gov/biosample/SAMN13508513</td><td>SRA: https://www.ncbi.nlm.nih.gov/sra?term=SRX7285992</td><td>ftp://ftp.ncbi.nlm.nih.gov/geo/samples/GSM4209nnn/GSM4209493/suppl/GSM4209493_mC_brain_chicken.CGmap.gz                </td><td>Collected in Seville, Spain </td></tr>\n",
       "\t<tr><td>mC_brain_opossum                </td><td>GSM4209491</td><td>Public on Oct 26 2020</td><td>Dec 06 2019</td><td>Oct 27 2020</td><td>SRA</td><td>1</td><td>brain                </td><td>Monodelphis domestica    </td><td>source: Frozen sample               </td><td>⋯</td><td>Australia</td><td>0</td><td>Illumina HiSeq 1500         </td><td>RANDOM</td><td>genomic</td><td>Bisulfite-Seq</td><td>BioSample: https://www.ncbi.nlm.nih.gov/biosample/SAMN13508515</td><td>SRA: https://www.ncbi.nlm.nih.gov/sra?term=SRX7285990</td><td>ftp://ftp.ncbi.nlm.nih.gov/geo/samples/GSM4209nnn/GSM4209491/suppl/GSM4209491_mC_brain_opossum.CGmap.gz                </td><td>Frozen sample               </td></tr>\n",
       "\t<tr><td>mC_brain_platypus               </td><td>GSM4209492</td><td>Public on Oct 26 2020</td><td>Dec 06 2019</td><td>Oct 27 2020</td><td>SRA</td><td>1</td><td>frontal cortex       </td><td>Ornithorhynchus anatinus </td><td>source: Frozen sample               </td><td>⋯</td><td>Australia</td><td>0</td><td>Illumina HiSeq 1500         </td><td>RANDOM</td><td>genomic</td><td>Bisulfite-Seq</td><td>BioSample: https://www.ncbi.nlm.nih.gov/biosample/SAMN13508514</td><td>SRA: https://www.ncbi.nlm.nih.gov/sra?term=SRX7285991</td><td>ftp://ftp.ncbi.nlm.nih.gov/geo/samples/GSM4209nnn/GSM4209492/suppl/GSM4209492_mC_brain_platypus.CGmap.gz               </td><td>Frozen sample               </td></tr>\n",
       "\t<tr><td>mC_brain_elephant_shark         </td><td>GSM4209495</td><td>Public on Oct 26 2020</td><td>Dec 06 2019</td><td>Oct 27 2020</td><td>SRA</td><td>1</td><td>brain                </td><td>Callorhinchus milii      </td><td>source: Frozen sample               </td><td>⋯</td><td>Australia</td><td>0</td><td>Illumina HiSeq 1500         </td><td>RANDOM</td><td>genomic</td><td>Bisulfite-Seq</td><td>BioSample: https://www.ncbi.nlm.nih.gov/biosample/SAMN13508511</td><td>SRA: https://www.ncbi.nlm.nih.gov/sra?term=SRX7285994</td><td>ftp://ftp.ncbi.nlm.nih.gov/geo/samples/GSM4209nnn/GSM4209495/suppl/GSM4209495_mC_brain_elephant_shark.CGmap.gz         </td><td>Frozen sample               </td></tr>\n",
       "\t<tr><td>mC_brain_arctic_lamprey         </td><td>GSM4209496</td><td>Public on Oct 26 2020</td><td>Dec 06 2019</td><td>Oct 27 2020</td><td>SRA</td><td>1</td><td>brain                </td><td>Lethenteron camtschaticum</td><td>source: Frozen sample               </td><td>⋯</td><td>Australia</td><td>0</td><td>Illumina HiSeq 1500         </td><td>RANDOM</td><td>genomic</td><td>Bisulfite-Seq</td><td>BioSample: https://www.ncbi.nlm.nih.gov/biosample/SAMN13508510</td><td>SRA: https://www.ncbi.nlm.nih.gov/sra?term=SRX7285995</td><td>ftp://ftp.ncbi.nlm.nih.gov/geo/samples/GSM4209nnn/GSM4209496/suppl/GSM4209496_mC_brain_arctic_lamprey.CGmap.gz         </td><td>Frozen sample               </td></tr>\n",
       "\t<tr><td>mC_brain_octopus_supraesophageal</td><td>GSM4209498</td><td>Public on Oct 26 2020</td><td>Dec 06 2019</td><td>Oct 27 2020</td><td>SRA</td><td>1</td><td>Supraesophageal brain</td><td>Octopus bimaculoides     </td><td>source: Ragsdale laboratory, Chicago</td><td>⋯</td><td>Australia</td><td>0</td><td>Illumina HiSeq 1500         </td><td>RANDOM</td><td>genomic</td><td>Bisulfite-Seq</td><td>BioSample: https://www.ncbi.nlm.nih.gov/biosample/SAMN13508508</td><td>SRA: https://www.ncbi.nlm.nih.gov/sra?term=SRX7285997</td><td>ftp://ftp.ncbi.nlm.nih.gov/geo/samples/GSM4209nnn/GSM4209498/suppl/GSM4209498_mC_brain_octopus_supraesophageal.CGmap.gz</td><td>Ragsdale laboratory, Chicago</td></tr>\n",
       "\t<tr><td>mC_brain_octopus_subesophageal  </td><td>GSM4209499</td><td>Public on Oct 26 2020</td><td>Dec 06 2019</td><td>Oct 27 2020</td><td>SRA</td><td>1</td><td>Subesophageal brain  </td><td>Octopus bimaculoides     </td><td>source: Ragsdale laboratory, Chicago</td><td>⋯</td><td>Australia</td><td>0</td><td>Illumina HiSeq 1500         </td><td>RANDOM</td><td>genomic</td><td>Bisulfite-Seq</td><td>BioSample: https://www.ncbi.nlm.nih.gov/biosample/SAMN13508507</td><td>SRA: https://www.ncbi.nlm.nih.gov/sra?term=SRX7285998</td><td>ftp://ftp.ncbi.nlm.nih.gov/geo/samples/GSM4209nnn/GSM4209499/suppl/GSM4209499_mC_brain_octopus_subesophageal.CGmap.gz  </td><td>Ragsdale laboratory, Chicago</td></tr>\n",
       "\t<tr><td>mC_NeuralTube_amphioxus         </td><td>GSM4209500</td><td>Public on Oct 26 2020</td><td>Dec 06 2019</td><td>Oct 27 2020</td><td>SRA</td><td>1</td><td>Neural tube          </td><td>Branchiostoma lanceolatum</td><td>source: Collected in Banyuls, France</td><td>⋯</td><td>Australia</td><td>0</td><td>Illumina NovaSeq 6000       </td><td>RANDOM</td><td>genomic</td><td>Bisulfite-Seq</td><td>BioSample: https://www.ncbi.nlm.nih.gov/biosample/SAMN13508506</td><td>SRA: https://www.ncbi.nlm.nih.gov/sra?term=SRX7285999</td><td>ftp://ftp.ncbi.nlm.nih.gov/geo/samples/GSM4209nnn/GSM4209500/suppl/GSM4209500_mC_NeuralTube_amphioxus.CGmap.gz         </td><td>Collected in Banyuls, France</td></tr>\n",
       "</tbody>\n",
       "</table>\n"
      ],
      "text/latex": [
       "A data.table: 10 × 44\n",
       "\\begin{tabular}{lllllllllllllllllllll}\n",
       " title & geo\\_accession & status & submission\\_date & last\\_update\\_date & type & channel\\_count & source\\_name\\_ch1 & organism\\_ch1 & characteristics\\_ch1 & ⋯ & contact\\_country & data\\_row\\_count & instrument\\_model & library\\_selection & library\\_source & library\\_strategy & relation & relation.1 & supplementary\\_file\\_1 & source:ch1\\\\\n",
       " <fct> & <chr> & <fct> & <fct> & <fct> & <fct> & <fct> & <fct> & <fct> & <fct> & ⋯ & <fct> & <fct> & <fct> & <fct> & <fct> & <fct> & <fct> & <fct> & <fct> & <chr>\\\\\n",
       "\\hline\n",
       "\t mC\\_brain\\_queen\\_honeybee          & GSM4209497 & Public on Oct 26 2020 & Dec 06 2019 & Oct 27 2020 & SRA & 1 & brain                 & Apis mellifera            & source: Reared at UWA, Australia     & ⋯ & Australia & 0 & Illumina Genome Analyzer IIx & RANDOM & genomic & Bisulfite-Seq & BioSample: https://www.ncbi.nlm.nih.gov/biosample/SAMN13508509 & SRA: https://www.ncbi.nlm.nih.gov/sra?term=SRX7285996 & ftp://ftp.ncbi.nlm.nih.gov/geo/samples/GSM4209nnn/GSM4209497/suppl/GSM4209497\\_mC\\_brain\\_queen\\_honeybee.CGmap.gz          & Reared at UWA, Australia    \\\\\n",
       "\t mC\\_forebrain\\_zebrafish           & GSM4209494 & Public on Oct 26 2020 & Dec 06 2019 & Oct 27 2020 & SRA & 1 & forebrain             & Danio rerio               & source: Mix AB/Tubingen              & ⋯ & Australia & 0 & Illumina HiSeq 1500          & RANDOM & genomic & Bisulfite-Seq & BioSample: https://www.ncbi.nlm.nih.gov/biosample/SAMN13508512 & SRA: https://www.ncbi.nlm.nih.gov/sra?term=SRX7285993 & ftp://ftp.ncbi.nlm.nih.gov/geo/samples/GSM4209nnn/GSM4209494/suppl/GSM4209494\\_mC\\_forebrain\\_zebrafish.CGmap.gz           & Mix AB/Tubingen             \\\\\n",
       "\t mC\\_brain\\_chicken                 & GSM4209493 & Public on Oct 26 2020 & Dec 06 2019 & Oct 27 2020 & SRA & 1 & brain                 & Gallus gallus             & source: Collected in Seville, Spain  & ⋯ & Australia & 0 & Illumina HiSeq 1500          & RANDOM & genomic & Bisulfite-Seq & BioSample: https://www.ncbi.nlm.nih.gov/biosample/SAMN13508513 & SRA: https://www.ncbi.nlm.nih.gov/sra?term=SRX7285992 & ftp://ftp.ncbi.nlm.nih.gov/geo/samples/GSM4209nnn/GSM4209493/suppl/GSM4209493\\_mC\\_brain\\_chicken.CGmap.gz                 & Collected in Seville, Spain \\\\\n",
       "\t mC\\_brain\\_opossum                 & GSM4209491 & Public on Oct 26 2020 & Dec 06 2019 & Oct 27 2020 & SRA & 1 & brain                 & Monodelphis domestica     & source: Frozen sample                & ⋯ & Australia & 0 & Illumina HiSeq 1500          & RANDOM & genomic & Bisulfite-Seq & BioSample: https://www.ncbi.nlm.nih.gov/biosample/SAMN13508515 & SRA: https://www.ncbi.nlm.nih.gov/sra?term=SRX7285990 & ftp://ftp.ncbi.nlm.nih.gov/geo/samples/GSM4209nnn/GSM4209491/suppl/GSM4209491\\_mC\\_brain\\_opossum.CGmap.gz                 & Frozen sample               \\\\\n",
       "\t mC\\_brain\\_platypus                & GSM4209492 & Public on Oct 26 2020 & Dec 06 2019 & Oct 27 2020 & SRA & 1 & frontal cortex        & Ornithorhynchus anatinus  & source: Frozen sample                & ⋯ & Australia & 0 & Illumina HiSeq 1500          & RANDOM & genomic & Bisulfite-Seq & BioSample: https://www.ncbi.nlm.nih.gov/biosample/SAMN13508514 & SRA: https://www.ncbi.nlm.nih.gov/sra?term=SRX7285991 & ftp://ftp.ncbi.nlm.nih.gov/geo/samples/GSM4209nnn/GSM4209492/suppl/GSM4209492\\_mC\\_brain\\_platypus.CGmap.gz                & Frozen sample               \\\\\n",
       "\t mC\\_brain\\_elephant\\_shark          & GSM4209495 & Public on Oct 26 2020 & Dec 06 2019 & Oct 27 2020 & SRA & 1 & brain                 & Callorhinchus milii       & source: Frozen sample                & ⋯ & Australia & 0 & Illumina HiSeq 1500          & RANDOM & genomic & Bisulfite-Seq & BioSample: https://www.ncbi.nlm.nih.gov/biosample/SAMN13508511 & SRA: https://www.ncbi.nlm.nih.gov/sra?term=SRX7285994 & ftp://ftp.ncbi.nlm.nih.gov/geo/samples/GSM4209nnn/GSM4209495/suppl/GSM4209495\\_mC\\_brain\\_elephant\\_shark.CGmap.gz          & Frozen sample               \\\\\n",
       "\t mC\\_brain\\_arctic\\_lamprey          & GSM4209496 & Public on Oct 26 2020 & Dec 06 2019 & Oct 27 2020 & SRA & 1 & brain                 & Lethenteron camtschaticum & source: Frozen sample                & ⋯ & Australia & 0 & Illumina HiSeq 1500          & RANDOM & genomic & Bisulfite-Seq & BioSample: https://www.ncbi.nlm.nih.gov/biosample/SAMN13508510 & SRA: https://www.ncbi.nlm.nih.gov/sra?term=SRX7285995 & ftp://ftp.ncbi.nlm.nih.gov/geo/samples/GSM4209nnn/GSM4209496/suppl/GSM4209496\\_mC\\_brain\\_arctic\\_lamprey.CGmap.gz          & Frozen sample               \\\\\n",
       "\t mC\\_brain\\_octopus\\_supraesophageal & GSM4209498 & Public on Oct 26 2020 & Dec 06 2019 & Oct 27 2020 & SRA & 1 & Supraesophageal brain & Octopus bimaculoides      & source: Ragsdale laboratory, Chicago & ⋯ & Australia & 0 & Illumina HiSeq 1500          & RANDOM & genomic & Bisulfite-Seq & BioSample: https://www.ncbi.nlm.nih.gov/biosample/SAMN13508508 & SRA: https://www.ncbi.nlm.nih.gov/sra?term=SRX7285997 & ftp://ftp.ncbi.nlm.nih.gov/geo/samples/GSM4209nnn/GSM4209498/suppl/GSM4209498\\_mC\\_brain\\_octopus\\_supraesophageal.CGmap.gz & Ragsdale laboratory, Chicago\\\\\n",
       "\t mC\\_brain\\_octopus\\_subesophageal   & GSM4209499 & Public on Oct 26 2020 & Dec 06 2019 & Oct 27 2020 & SRA & 1 & Subesophageal brain   & Octopus bimaculoides      & source: Ragsdale laboratory, Chicago & ⋯ & Australia & 0 & Illumina HiSeq 1500          & RANDOM & genomic & Bisulfite-Seq & BioSample: https://www.ncbi.nlm.nih.gov/biosample/SAMN13508507 & SRA: https://www.ncbi.nlm.nih.gov/sra?term=SRX7285998 & ftp://ftp.ncbi.nlm.nih.gov/geo/samples/GSM4209nnn/GSM4209499/suppl/GSM4209499\\_mC\\_brain\\_octopus\\_subesophageal.CGmap.gz   & Ragsdale laboratory, Chicago\\\\\n",
       "\t mC\\_NeuralTube\\_amphioxus          & GSM4209500 & Public on Oct 26 2020 & Dec 06 2019 & Oct 27 2020 & SRA & 1 & Neural tube           & Branchiostoma lanceolatum & source: Collected in Banyuls, France & ⋯ & Australia & 0 & Illumina NovaSeq 6000        & RANDOM & genomic & Bisulfite-Seq & BioSample: https://www.ncbi.nlm.nih.gov/biosample/SAMN13508506 & SRA: https://www.ncbi.nlm.nih.gov/sra?term=SRX7285999 & ftp://ftp.ncbi.nlm.nih.gov/geo/samples/GSM4209nnn/GSM4209500/suppl/GSM4209500\\_mC\\_NeuralTube\\_amphioxus.CGmap.gz          & Collected in Banyuls, France\\\\\n",
       "\\end{tabular}\n"
      ],
      "text/markdown": [
       "\n",
       "A data.table: 10 × 44\n",
       "\n",
       "| title &lt;fct&gt; | geo_accession &lt;chr&gt; | status &lt;fct&gt; | submission_date &lt;fct&gt; | last_update_date &lt;fct&gt; | type &lt;fct&gt; | channel_count &lt;fct&gt; | source_name_ch1 &lt;fct&gt; | organism_ch1 &lt;fct&gt; | characteristics_ch1 &lt;fct&gt; | ⋯ ⋯ | contact_country &lt;fct&gt; | data_row_count &lt;fct&gt; | instrument_model &lt;fct&gt; | library_selection &lt;fct&gt; | library_source &lt;fct&gt; | library_strategy &lt;fct&gt; | relation &lt;fct&gt; | relation.1 &lt;fct&gt; | supplementary_file_1 &lt;fct&gt; | source:ch1 &lt;chr&gt; |\n",
       "|---|---|---|---|---|---|---|---|---|---|---|---|---|---|---|---|---|---|---|---|---|\n",
       "| mC_brain_queen_honeybee          | GSM4209497 | Public on Oct 26 2020 | Dec 06 2019 | Oct 27 2020 | SRA | 1 | brain                 | Apis mellifera            | source: Reared at UWA, Australia     | ⋯ | Australia | 0 | Illumina Genome Analyzer IIx | RANDOM | genomic | Bisulfite-Seq | BioSample: https://www.ncbi.nlm.nih.gov/biosample/SAMN13508509 | SRA: https://www.ncbi.nlm.nih.gov/sra?term=SRX7285996 | ftp://ftp.ncbi.nlm.nih.gov/geo/samples/GSM4209nnn/GSM4209497/suppl/GSM4209497_mC_brain_queen_honeybee.CGmap.gz          | Reared at UWA, Australia     |\n",
       "| mC_forebrain_zebrafish           | GSM4209494 | Public on Oct 26 2020 | Dec 06 2019 | Oct 27 2020 | SRA | 1 | forebrain             | Danio rerio               | source: Mix AB/Tubingen              | ⋯ | Australia | 0 | Illumina HiSeq 1500          | RANDOM | genomic | Bisulfite-Seq | BioSample: https://www.ncbi.nlm.nih.gov/biosample/SAMN13508512 | SRA: https://www.ncbi.nlm.nih.gov/sra?term=SRX7285993 | ftp://ftp.ncbi.nlm.nih.gov/geo/samples/GSM4209nnn/GSM4209494/suppl/GSM4209494_mC_forebrain_zebrafish.CGmap.gz           | Mix AB/Tubingen              |\n",
       "| mC_brain_chicken                 | GSM4209493 | Public on Oct 26 2020 | Dec 06 2019 | Oct 27 2020 | SRA | 1 | brain                 | Gallus gallus             | source: Collected in Seville, Spain  | ⋯ | Australia | 0 | Illumina HiSeq 1500          | RANDOM | genomic | Bisulfite-Seq | BioSample: https://www.ncbi.nlm.nih.gov/biosample/SAMN13508513 | SRA: https://www.ncbi.nlm.nih.gov/sra?term=SRX7285992 | ftp://ftp.ncbi.nlm.nih.gov/geo/samples/GSM4209nnn/GSM4209493/suppl/GSM4209493_mC_brain_chicken.CGmap.gz                 | Collected in Seville, Spain  |\n",
       "| mC_brain_opossum                 | GSM4209491 | Public on Oct 26 2020 | Dec 06 2019 | Oct 27 2020 | SRA | 1 | brain                 | Monodelphis domestica     | source: Frozen sample                | ⋯ | Australia | 0 | Illumina HiSeq 1500          | RANDOM | genomic | Bisulfite-Seq | BioSample: https://www.ncbi.nlm.nih.gov/biosample/SAMN13508515 | SRA: https://www.ncbi.nlm.nih.gov/sra?term=SRX7285990 | ftp://ftp.ncbi.nlm.nih.gov/geo/samples/GSM4209nnn/GSM4209491/suppl/GSM4209491_mC_brain_opossum.CGmap.gz                 | Frozen sample                |\n",
       "| mC_brain_platypus                | GSM4209492 | Public on Oct 26 2020 | Dec 06 2019 | Oct 27 2020 | SRA | 1 | frontal cortex        | Ornithorhynchus anatinus  | source: Frozen sample                | ⋯ | Australia | 0 | Illumina HiSeq 1500          | RANDOM | genomic | Bisulfite-Seq | BioSample: https://www.ncbi.nlm.nih.gov/biosample/SAMN13508514 | SRA: https://www.ncbi.nlm.nih.gov/sra?term=SRX7285991 | ftp://ftp.ncbi.nlm.nih.gov/geo/samples/GSM4209nnn/GSM4209492/suppl/GSM4209492_mC_brain_platypus.CGmap.gz                | Frozen sample                |\n",
       "| mC_brain_elephant_shark          | GSM4209495 | Public on Oct 26 2020 | Dec 06 2019 | Oct 27 2020 | SRA | 1 | brain                 | Callorhinchus milii       | source: Frozen sample                | ⋯ | Australia | 0 | Illumina HiSeq 1500          | RANDOM | genomic | Bisulfite-Seq | BioSample: https://www.ncbi.nlm.nih.gov/biosample/SAMN13508511 | SRA: https://www.ncbi.nlm.nih.gov/sra?term=SRX7285994 | ftp://ftp.ncbi.nlm.nih.gov/geo/samples/GSM4209nnn/GSM4209495/suppl/GSM4209495_mC_brain_elephant_shark.CGmap.gz          | Frozen sample                |\n",
       "| mC_brain_arctic_lamprey          | GSM4209496 | Public on Oct 26 2020 | Dec 06 2019 | Oct 27 2020 | SRA | 1 | brain                 | Lethenteron camtschaticum | source: Frozen sample                | ⋯ | Australia | 0 | Illumina HiSeq 1500          | RANDOM | genomic | Bisulfite-Seq | BioSample: https://www.ncbi.nlm.nih.gov/biosample/SAMN13508510 | SRA: https://www.ncbi.nlm.nih.gov/sra?term=SRX7285995 | ftp://ftp.ncbi.nlm.nih.gov/geo/samples/GSM4209nnn/GSM4209496/suppl/GSM4209496_mC_brain_arctic_lamprey.CGmap.gz          | Frozen sample                |\n",
       "| mC_brain_octopus_supraesophageal | GSM4209498 | Public on Oct 26 2020 | Dec 06 2019 | Oct 27 2020 | SRA | 1 | Supraesophageal brain | Octopus bimaculoides      | source: Ragsdale laboratory, Chicago | ⋯ | Australia | 0 | Illumina HiSeq 1500          | RANDOM | genomic | Bisulfite-Seq | BioSample: https://www.ncbi.nlm.nih.gov/biosample/SAMN13508508 | SRA: https://www.ncbi.nlm.nih.gov/sra?term=SRX7285997 | ftp://ftp.ncbi.nlm.nih.gov/geo/samples/GSM4209nnn/GSM4209498/suppl/GSM4209498_mC_brain_octopus_supraesophageal.CGmap.gz | Ragsdale laboratory, Chicago |\n",
       "| mC_brain_octopus_subesophageal   | GSM4209499 | Public on Oct 26 2020 | Dec 06 2019 | Oct 27 2020 | SRA | 1 | Subesophageal brain   | Octopus bimaculoides      | source: Ragsdale laboratory, Chicago | ⋯ | Australia | 0 | Illumina HiSeq 1500          | RANDOM | genomic | Bisulfite-Seq | BioSample: https://www.ncbi.nlm.nih.gov/biosample/SAMN13508507 | SRA: https://www.ncbi.nlm.nih.gov/sra?term=SRX7285998 | ftp://ftp.ncbi.nlm.nih.gov/geo/samples/GSM4209nnn/GSM4209499/suppl/GSM4209499_mC_brain_octopus_subesophageal.CGmap.gz   | Ragsdale laboratory, Chicago |\n",
       "| mC_NeuralTube_amphioxus          | GSM4209500 | Public on Oct 26 2020 | Dec 06 2019 | Oct 27 2020 | SRA | 1 | Neural tube           | Branchiostoma lanceolatum | source: Collected in Banyuls, France | ⋯ | Australia | 0 | Illumina NovaSeq 6000        | RANDOM | genomic | Bisulfite-Seq | BioSample: https://www.ncbi.nlm.nih.gov/biosample/SAMN13508506 | SRA: https://www.ncbi.nlm.nih.gov/sra?term=SRX7285999 | ftp://ftp.ncbi.nlm.nih.gov/geo/samples/GSM4209nnn/GSM4209500/suppl/GSM4209500_mC_NeuralTube_amphioxus.CGmap.gz          | Collected in Banyuls, France |\n",
       "\n"
      ],
      "text/plain": [
       "   title                            geo_accession status               \n",
       "1  mC_brain_queen_honeybee          GSM4209497    Public on Oct 26 2020\n",
       "2  mC_forebrain_zebrafish           GSM4209494    Public on Oct 26 2020\n",
       "3  mC_brain_chicken                 GSM4209493    Public on Oct 26 2020\n",
       "4  mC_brain_opossum                 GSM4209491    Public on Oct 26 2020\n",
       "5  mC_brain_platypus                GSM4209492    Public on Oct 26 2020\n",
       "6  mC_brain_elephant_shark          GSM4209495    Public on Oct 26 2020\n",
       "7  mC_brain_arctic_lamprey          GSM4209496    Public on Oct 26 2020\n",
       "8  mC_brain_octopus_supraesophageal GSM4209498    Public on Oct 26 2020\n",
       "9  mC_brain_octopus_subesophageal   GSM4209499    Public on Oct 26 2020\n",
       "10 mC_NeuralTube_amphioxus          GSM4209500    Public on Oct 26 2020\n",
       "   submission_date last_update_date type channel_count source_name_ch1      \n",
       "1  Dec 06 2019     Oct 27 2020      SRA  1             brain                \n",
       "2  Dec 06 2019     Oct 27 2020      SRA  1             forebrain            \n",
       "3  Dec 06 2019     Oct 27 2020      SRA  1             brain                \n",
       "4  Dec 06 2019     Oct 27 2020      SRA  1             brain                \n",
       "5  Dec 06 2019     Oct 27 2020      SRA  1             frontal cortex       \n",
       "6  Dec 06 2019     Oct 27 2020      SRA  1             brain                \n",
       "7  Dec 06 2019     Oct 27 2020      SRA  1             brain                \n",
       "8  Dec 06 2019     Oct 27 2020      SRA  1             Supraesophageal brain\n",
       "9  Dec 06 2019     Oct 27 2020      SRA  1             Subesophageal brain  \n",
       "10 Dec 06 2019     Oct 27 2020      SRA  1             Neural tube          \n",
       "   organism_ch1              characteristics_ch1                  ⋯\n",
       "1  Apis mellifera            source: Reared at UWA, Australia     ⋯\n",
       "2  Danio rerio               source: Mix AB/Tubingen              ⋯\n",
       "3  Gallus gallus             source: Collected in Seville, Spain  ⋯\n",
       "4  Monodelphis domestica     source: Frozen sample                ⋯\n",
       "5  Ornithorhynchus anatinus  source: Frozen sample                ⋯\n",
       "6  Callorhinchus milii       source: Frozen sample                ⋯\n",
       "7  Lethenteron camtschaticum source: Frozen sample                ⋯\n",
       "8  Octopus bimaculoides      source: Ragsdale laboratory, Chicago ⋯\n",
       "9  Octopus bimaculoides      source: Ragsdale laboratory, Chicago ⋯\n",
       "10 Branchiostoma lanceolatum source: Collected in Banyuls, France ⋯\n",
       "   contact_country data_row_count instrument_model            \n",
       "1  Australia       0              Illumina Genome Analyzer IIx\n",
       "2  Australia       0              Illumina HiSeq 1500         \n",
       "3  Australia       0              Illumina HiSeq 1500         \n",
       "4  Australia       0              Illumina HiSeq 1500         \n",
       "5  Australia       0              Illumina HiSeq 1500         \n",
       "6  Australia       0              Illumina HiSeq 1500         \n",
       "7  Australia       0              Illumina HiSeq 1500         \n",
       "8  Australia       0              Illumina HiSeq 1500         \n",
       "9  Australia       0              Illumina HiSeq 1500         \n",
       "10 Australia       0              Illumina NovaSeq 6000       \n",
       "   library_selection library_source library_strategy\n",
       "1  RANDOM            genomic        Bisulfite-Seq   \n",
       "2  RANDOM            genomic        Bisulfite-Seq   \n",
       "3  RANDOM            genomic        Bisulfite-Seq   \n",
       "4  RANDOM            genomic        Bisulfite-Seq   \n",
       "5  RANDOM            genomic        Bisulfite-Seq   \n",
       "6  RANDOM            genomic        Bisulfite-Seq   \n",
       "7  RANDOM            genomic        Bisulfite-Seq   \n",
       "8  RANDOM            genomic        Bisulfite-Seq   \n",
       "9  RANDOM            genomic        Bisulfite-Seq   \n",
       "10 RANDOM            genomic        Bisulfite-Seq   \n",
       "   relation                                                      \n",
       "1  BioSample: https://www.ncbi.nlm.nih.gov/biosample/SAMN13508509\n",
       "2  BioSample: https://www.ncbi.nlm.nih.gov/biosample/SAMN13508512\n",
       "3  BioSample: https://www.ncbi.nlm.nih.gov/biosample/SAMN13508513\n",
       "4  BioSample: https://www.ncbi.nlm.nih.gov/biosample/SAMN13508515\n",
       "5  BioSample: https://www.ncbi.nlm.nih.gov/biosample/SAMN13508514\n",
       "6  BioSample: https://www.ncbi.nlm.nih.gov/biosample/SAMN13508511\n",
       "7  BioSample: https://www.ncbi.nlm.nih.gov/biosample/SAMN13508510\n",
       "8  BioSample: https://www.ncbi.nlm.nih.gov/biosample/SAMN13508508\n",
       "9  BioSample: https://www.ncbi.nlm.nih.gov/biosample/SAMN13508507\n",
       "10 BioSample: https://www.ncbi.nlm.nih.gov/biosample/SAMN13508506\n",
       "   relation.1                                           \n",
       "1  SRA: https://www.ncbi.nlm.nih.gov/sra?term=SRX7285996\n",
       "2  SRA: https://www.ncbi.nlm.nih.gov/sra?term=SRX7285993\n",
       "3  SRA: https://www.ncbi.nlm.nih.gov/sra?term=SRX7285992\n",
       "4  SRA: https://www.ncbi.nlm.nih.gov/sra?term=SRX7285990\n",
       "5  SRA: https://www.ncbi.nlm.nih.gov/sra?term=SRX7285991\n",
       "6  SRA: https://www.ncbi.nlm.nih.gov/sra?term=SRX7285994\n",
       "7  SRA: https://www.ncbi.nlm.nih.gov/sra?term=SRX7285995\n",
       "8  SRA: https://www.ncbi.nlm.nih.gov/sra?term=SRX7285997\n",
       "9  SRA: https://www.ncbi.nlm.nih.gov/sra?term=SRX7285998\n",
       "10 SRA: https://www.ncbi.nlm.nih.gov/sra?term=SRX7285999\n",
       "   supplementary_file_1                                                                                                   \n",
       "1  ftp://ftp.ncbi.nlm.nih.gov/geo/samples/GSM4209nnn/GSM4209497/suppl/GSM4209497_mC_brain_queen_honeybee.CGmap.gz         \n",
       "2  ftp://ftp.ncbi.nlm.nih.gov/geo/samples/GSM4209nnn/GSM4209494/suppl/GSM4209494_mC_forebrain_zebrafish.CGmap.gz          \n",
       "3  ftp://ftp.ncbi.nlm.nih.gov/geo/samples/GSM4209nnn/GSM4209493/suppl/GSM4209493_mC_brain_chicken.CGmap.gz                \n",
       "4  ftp://ftp.ncbi.nlm.nih.gov/geo/samples/GSM4209nnn/GSM4209491/suppl/GSM4209491_mC_brain_opossum.CGmap.gz                \n",
       "5  ftp://ftp.ncbi.nlm.nih.gov/geo/samples/GSM4209nnn/GSM4209492/suppl/GSM4209492_mC_brain_platypus.CGmap.gz               \n",
       "6  ftp://ftp.ncbi.nlm.nih.gov/geo/samples/GSM4209nnn/GSM4209495/suppl/GSM4209495_mC_brain_elephant_shark.CGmap.gz         \n",
       "7  ftp://ftp.ncbi.nlm.nih.gov/geo/samples/GSM4209nnn/GSM4209496/suppl/GSM4209496_mC_brain_arctic_lamprey.CGmap.gz         \n",
       "8  ftp://ftp.ncbi.nlm.nih.gov/geo/samples/GSM4209nnn/GSM4209498/suppl/GSM4209498_mC_brain_octopus_supraesophageal.CGmap.gz\n",
       "9  ftp://ftp.ncbi.nlm.nih.gov/geo/samples/GSM4209nnn/GSM4209499/suppl/GSM4209499_mC_brain_octopus_subesophageal.CGmap.gz  \n",
       "10 ftp://ftp.ncbi.nlm.nih.gov/geo/samples/GSM4209nnn/GSM4209500/suppl/GSM4209500_mC_NeuralTube_amphioxus.CGmap.gz         \n",
       "   source:ch1                  \n",
       "1  Reared at UWA, Australia    \n",
       "2  Mix AB/Tubingen             \n",
       "3  Collected in Seville, Spain \n",
       "4  Frozen sample               \n",
       "5  Frozen sample               \n",
       "6  Frozen sample               \n",
       "7  Frozen sample               \n",
       "8  Ragsdale laboratory, Chicago\n",
       "9  Ragsdale laboratory, Chicago\n",
       "10 Collected in Banyuls, France"
      ]
     },
     "metadata": {},
     "output_type": "display_data"
    }
   ],
   "source": [
    "df"
   ]
  },
  {
   "cell_type": "code",
   "execution_count": 21,
   "id": "99520b0d",
   "metadata": {},
   "outputs": [],
   "source": [
    "for (i in c(1:NROW(df))){\n",
    "    dir_to_save = paste0(\"../../resources/WGBS_public/\", gsub(\" \", \"_\", df[i, ]$organism_ch1), \"/\", gsub(\" \", \"_\",df[i, ]$source_name_ch1), \"/\")\n",
    "    dir.create(dir_to_save, recursive = T)\n",
    "    download_cpg_report(df[i, ]$supplementary_file_1, dir_to_save)  \n",
    "} "
   ]
  },
  {
   "cell_type": "markdown",
   "id": "cf6e74ca",
   "metadata": {},
   "source": [
    "### big koala dataset"
   ]
  },
  {
   "cell_type": "code",
   "execution_count": 22,
   "id": "2285988e",
   "metadata": {},
   "outputs": [
    {
     "name": "stderr",
     "output_type": "stream",
     "text": [
      "Found 1 file(s)\n",
      "\n",
      "GSE149600_series_matrix.txt.gz\n",
      "\n",
      "\n",
      "\u001b[36m──\u001b[39m \u001b[1m\u001b[1mColumn specification\u001b[1m\u001b[22m \u001b[36m────────────────────────────────────────────────────────\u001b[39m\n",
      "cols(\n",
      "  ID_REF = \u001b[31mcol_character()\u001b[39m,\n",
      "  GSM4505500 = \u001b[31mcol_character()\u001b[39m,\n",
      "  GSM4505501 = \u001b[31mcol_character()\u001b[39m,\n",
      "  GSM4505502 = \u001b[31mcol_character()\u001b[39m,\n",
      "  GSM4505503 = \u001b[31mcol_character()\u001b[39m,\n",
      "  GSM4505504 = \u001b[31mcol_character()\u001b[39m,\n",
      "  GSM4505505 = \u001b[31mcol_character()\u001b[39m,\n",
      "  GSM4505506 = \u001b[31mcol_character()\u001b[39m,\n",
      "  GSM4505507 = \u001b[31mcol_character()\u001b[39m,\n",
      "  GSM4505508 = \u001b[31mcol_character()\u001b[39m,\n",
      "  GSM4505509 = \u001b[31mcol_character()\u001b[39m\n",
      ")\n",
      "\n",
      "\n",
      "File stored at: \n",
      "\n",
      "/tmp/Rtmpg8tL1S/GPL26281.soft\n",
      "\n"
     ]
    }
   ],
   "source": [
    "df <- get_gse_df(\"GSE149600\")"
   ]
  },
  {
   "cell_type": "code",
   "execution_count": 23,
   "id": "000ab2ee",
   "metadata": {},
   "outputs": [
    {
     "data": {
      "text/html": [
       "<table class=\"dataframe\">\n",
       "<caption>A data.frame: 10 × 41</caption>\n",
       "<thead>\n",
       "\t<tr><th></th><th scope=col>title</th><th scope=col>geo_accession</th><th scope=col>status</th><th scope=col>submission_date</th><th scope=col>last_update_date</th><th scope=col>type</th><th scope=col>channel_count</th><th scope=col>source_name_ch1</th><th scope=col>organism_ch1</th><th scope=col>characteristics_ch1</th><th scope=col>⋯</th><th scope=col>instrument_model</th><th scope=col>library_selection</th><th scope=col>library_source</th><th scope=col>library_strategy</th><th scope=col>relation</th><th scope=col>relation.1</th><th scope=col>supplementary_file_1</th><th scope=col>australian museum registration:ch1</th><th scope=col>Sex:ch1</th><th scope=col>tissue:ch1</th></tr>\n",
       "\t<tr><th></th><th scope=col>&lt;fct&gt;</th><th scope=col>&lt;chr&gt;</th><th scope=col>&lt;fct&gt;</th><th scope=col>&lt;fct&gt;</th><th scope=col>&lt;fct&gt;</th><th scope=col>&lt;fct&gt;</th><th scope=col>&lt;fct&gt;</th><th scope=col>&lt;fct&gt;</th><th scope=col>&lt;fct&gt;</th><th scope=col>&lt;fct&gt;</th><th scope=col>⋯</th><th scope=col>&lt;fct&gt;</th><th scope=col>&lt;fct&gt;</th><th scope=col>&lt;fct&gt;</th><th scope=col>&lt;fct&gt;</th><th scope=col>&lt;fct&gt;</th><th scope=col>&lt;fct&gt;</th><th scope=col>&lt;fct&gt;</th><th scope=col>&lt;chr&gt;</th><th scope=col>&lt;chr&gt;</th><th scope=col>&lt;chr&gt;</th></tr>\n",
       "</thead>\n",
       "<tbody>\n",
       "\t<tr><th scope=row>GSM4505500</th><td>koala_WGBS_PC_brain           </td><td>GSM4505500</td><td>Public on Feb 27 2021</td><td>Apr 29 2020</td><td>Mar 01 2021</td><td>SRA</td><td>1</td><td>Right hemisphere cerebral lobe</td><td>Phascolarctos cinereus</td><td>Sex: female</td><td>⋯</td><td>Illumina NovaSeq 6000</td><td>RANDOM</td><td>genomic</td><td>Bisulfite-Seq</td><td>BioSample: https://www.ncbi.nlm.nih.gov/biosample/SAMN14771362</td><td>SRA: https://www.ncbi.nlm.nih.gov/sra?term=SRX8207654</td><td>ftp://ftp.ncbi.nlm.nih.gov/geo/samples/GSM4505nnn/GSM4505500/suppl/GSM4505500_WGM145_01_S1_brain_PC_CpG_report.txt.gz           </td><td>M.45022</td><td>female</td><td>brain          </td></tr>\n",
       "\t<tr><th scope=row>GSM4505501</th><td>koala_WGBS_Ben_brain          </td><td>GSM4505501</td><td>Public on Feb 27 2021</td><td>Apr 29 2020</td><td>Mar 02 2021</td><td>SRA</td><td>1</td><td>Right hemisphere cerebral lobe</td><td>Phascolarctos cinereus</td><td>Sex: male  </td><td>⋯</td><td>Illumina NovaSeq 6000</td><td>RANDOM</td><td>genomic</td><td>Bisulfite-Seq</td><td>BioSample: https://www.ncbi.nlm.nih.gov/biosample/SAMN14771360</td><td>SRA: https://www.ncbi.nlm.nih.gov/sra?term=SRX8207655</td><td>ftp://ftp.ncbi.nlm.nih.gov/geo/samples/GSM4505nnn/GSM4505501/suppl/GSM4505501_WGM145_04_S2_brain_Ben_CpG_report.txt.gz          </td><td>M.47723</td><td>male  </td><td>brain          </td></tr>\n",
       "\t<tr><th scope=row>GSM4505502</th><td>koala_WGBS_PC_kidney          </td><td>GSM4505502</td><td>Public on Feb 27 2021</td><td>Apr 29 2020</td><td>Mar 02 2021</td><td>SRA</td><td>1</td><td>kidney                        </td><td>Phascolarctos cinereus</td><td>Sex: female</td><td>⋯</td><td>Illumina NovaSeq 6000</td><td>RANDOM</td><td>genomic</td><td>Bisulfite-Seq</td><td>BioSample: https://www.ncbi.nlm.nih.gov/biosample/SAMN14771359</td><td>SRA: https://www.ncbi.nlm.nih.gov/sra?term=SRX8207656</td><td>ftp://ftp.ncbi.nlm.nih.gov/geo/samples/GSM4505nnn/GSM4505502/suppl/GSM4505502_WGM145_06_S3_kidney_PC_CpG_report.txt.gz          </td><td>M.45022</td><td>female</td><td>kidney         </td></tr>\n",
       "\t<tr><th scope=row>GSM4505503</th><td>koala_WGBS_Ben_kidney         </td><td>GSM4505503</td><td>Public on Feb 27 2021</td><td>Apr 29 2020</td><td>Mar 02 2021</td><td>SRA</td><td>1</td><td>kidney                        </td><td>Phascolarctos cinereus</td><td>Sex: male  </td><td>⋯</td><td>Illumina NovaSeq 6000</td><td>RANDOM</td><td>genomic</td><td>Bisulfite-Seq</td><td>BioSample: https://www.ncbi.nlm.nih.gov/biosample/SAMN14771357</td><td>SRA: https://www.ncbi.nlm.nih.gov/sra?term=SRX8207657</td><td>ftp://ftp.ncbi.nlm.nih.gov/geo/samples/GSM4505nnn/GSM4505503/suppl/GSM4505503_WGM145_08_S4_kidney_Ben_CpG_report.txt.gz         </td><td>M.47723</td><td>male  </td><td>kidney         </td></tr>\n",
       "\t<tr><th scope=row>GSM4505504</th><td>koala_WGBS_PC_lung            </td><td>GSM4505504</td><td>Public on Feb 27 2021</td><td>Apr 29 2020</td><td>Mar 02 2021</td><td>SRA</td><td>1</td><td>lung                          </td><td>Phascolarctos cinereus</td><td>Sex: female</td><td>⋯</td><td>Illumina NovaSeq 6000</td><td>RANDOM</td><td>genomic</td><td>Bisulfite-Seq</td><td>BioSample: https://www.ncbi.nlm.nih.gov/biosample/SAMN14771355</td><td>SRA: https://www.ncbi.nlm.nih.gov/sra?term=SRX8207658</td><td>ftp://ftp.ncbi.nlm.nih.gov/geo/samples/GSM4505nnn/GSM4505504/suppl/GSM4505504_WGM145_09_S5_lung_PC_CpG_report.txt.gz            </td><td>M.45022</td><td>female</td><td>lung           </td></tr>\n",
       "\t<tr><th scope=row>GSM4505505</th><td>koala_WGBS_Ben_lung           </td><td>GSM4505505</td><td>Public on Feb 27 2021</td><td>Apr 29 2020</td><td>Mar 02 2021</td><td>SRA</td><td>1</td><td>lung                          </td><td>Phascolarctos cinereus</td><td>Sex: male  </td><td>⋯</td><td>Illumina NovaSeq 6000</td><td>RANDOM</td><td>genomic</td><td>Bisulfite-Seq</td><td>BioSample: https://www.ncbi.nlm.nih.gov/biosample/SAMN14771353</td><td>SRA: https://www.ncbi.nlm.nih.gov/sra?term=SRX8207659</td><td>ftp://ftp.ncbi.nlm.nih.gov/geo/samples/GSM4505nnn/GSM4505505/suppl/GSM4505505_WGM145_12_S6_lung_Ben_CpG_report.txt.gz           </td><td>M.47723</td><td>male  </td><td>lung           </td></tr>\n",
       "\t<tr><th scope=row>GSM4505506</th><td>koala_WGBS_PC_skeletal_muscle </td><td>GSM4505506</td><td>Public on Feb 27 2021</td><td>Apr 29 2020</td><td>Mar 02 2021</td><td>SRA</td><td>1</td><td>skeletal muscle               </td><td>Phascolarctos cinereus</td><td>Sex: female</td><td>⋯</td><td>Illumina NovaSeq 6000</td><td>RANDOM</td><td>genomic</td><td>Bisulfite-Seq</td><td>BioSample: https://www.ncbi.nlm.nih.gov/biosample/SAMN14771351</td><td>SRA: https://www.ncbi.nlm.nih.gov/sra?term=SRX8207660</td><td>ftp://ftp.ncbi.nlm.nih.gov/geo/samples/GSM4505nnn/GSM4505506/suppl/GSM4505506_WGM145_14_S7_skeletal_muscle_PC_CpG_report.txt.gz </td><td>M.45022</td><td>female</td><td>skeletal muscle</td></tr>\n",
       "\t<tr><th scope=row>GSM4505507</th><td>koala_WGBS_Ben_skeletal_muscle</td><td>GSM4505507</td><td>Public on Feb 27 2021</td><td>Apr 29 2020</td><td>Mar 02 2021</td><td>SRA</td><td>1</td><td>skeletal muscle               </td><td>Phascolarctos cinereus</td><td>Sex: male  </td><td>⋯</td><td>Illumina NovaSeq 6000</td><td>RANDOM</td><td>genomic</td><td>Bisulfite-Seq</td><td>BioSample: https://www.ncbi.nlm.nih.gov/biosample/SAMN14771349</td><td>SRA: https://www.ncbi.nlm.nih.gov/sra?term=SRX8207661</td><td>ftp://ftp.ncbi.nlm.nih.gov/geo/samples/GSM4505nnn/GSM4505507/suppl/GSM4505507_WGM145_16_S8_skeletal_muscle_Ben_CpG_report.txt.gz</td><td>M.47723</td><td>male  </td><td>skeletal muscle</td></tr>\n",
       "\t<tr><th scope=row>GSM4505508</th><td>koala_WGBS_PC_pancreas        </td><td>GSM4505508</td><td>Public on Feb 27 2021</td><td>Apr 29 2020</td><td>Mar 02 2021</td><td>SRA</td><td>1</td><td>pancreas                      </td><td>Phascolarctos cinereus</td><td>Sex: female</td><td>⋯</td><td>Illumina NovaSeq 6000</td><td>RANDOM</td><td>genomic</td><td>Bisulfite-Seq</td><td>BioSample: https://www.ncbi.nlm.nih.gov/biosample/SAMN14771347</td><td>SRA: https://www.ncbi.nlm.nih.gov/sra?term=SRX8207662</td><td>ftp://ftp.ncbi.nlm.nih.gov/geo/samples/GSM4505nnn/GSM4505508/suppl/GSM4505508_WGM145_19_S9_pancreas_PC_CpG_report.txt.gz        </td><td>M.45022</td><td>female</td><td>pancreas       </td></tr>\n",
       "\t<tr><th scope=row>GSM4505509</th><td>koala_WGBS_Ben_pancreas       </td><td>GSM4505509</td><td>Public on Feb 27 2021</td><td>Apr 29 2020</td><td>Mar 02 2021</td><td>SRA</td><td>1</td><td>pancreas                      </td><td>Phascolarctos cinereus</td><td>Sex: male  </td><td>⋯</td><td>Illumina NovaSeq 6000</td><td>RANDOM</td><td>genomic</td><td>Bisulfite-Seq</td><td>BioSample: https://www.ncbi.nlm.nih.gov/biosample/SAMN14771346</td><td>SRA: https://www.ncbi.nlm.nih.gov/sra?term=SRX8207663</td><td>ftp://ftp.ncbi.nlm.nih.gov/geo/samples/GSM4505nnn/GSM4505509/suppl/GSM4505509_WGM145_20_S10_pancreas_Ben_CpG_report.txt.gz      </td><td>M.47723</td><td>male  </td><td>pancreas       </td></tr>\n",
       "</tbody>\n",
       "</table>\n"
      ],
      "text/latex": [
       "A data.frame: 10 × 41\n",
       "\\begin{tabular}{r|lllllllllllllllllllll}\n",
       "  & title & geo\\_accession & status & submission\\_date & last\\_update\\_date & type & channel\\_count & source\\_name\\_ch1 & organism\\_ch1 & characteristics\\_ch1 & ⋯ & instrument\\_model & library\\_selection & library\\_source & library\\_strategy & relation & relation.1 & supplementary\\_file\\_1 & australian museum registration:ch1 & Sex:ch1 & tissue:ch1\\\\\n",
       "  & <fct> & <chr> & <fct> & <fct> & <fct> & <fct> & <fct> & <fct> & <fct> & <fct> & ⋯ & <fct> & <fct> & <fct> & <fct> & <fct> & <fct> & <fct> & <chr> & <chr> & <chr>\\\\\n",
       "\\hline\n",
       "\tGSM4505500 & koala\\_WGBS\\_PC\\_brain            & GSM4505500 & Public on Feb 27 2021 & Apr 29 2020 & Mar 01 2021 & SRA & 1 & Right hemisphere cerebral lobe & Phascolarctos cinereus & Sex: female & ⋯ & Illumina NovaSeq 6000 & RANDOM & genomic & Bisulfite-Seq & BioSample: https://www.ncbi.nlm.nih.gov/biosample/SAMN14771362 & SRA: https://www.ncbi.nlm.nih.gov/sra?term=SRX8207654 & ftp://ftp.ncbi.nlm.nih.gov/geo/samples/GSM4505nnn/GSM4505500/suppl/GSM4505500\\_WGM145\\_01\\_S1\\_brain\\_PC\\_CpG\\_report.txt.gz            & M.45022 & female & brain          \\\\\n",
       "\tGSM4505501 & koala\\_WGBS\\_Ben\\_brain           & GSM4505501 & Public on Feb 27 2021 & Apr 29 2020 & Mar 02 2021 & SRA & 1 & Right hemisphere cerebral lobe & Phascolarctos cinereus & Sex: male   & ⋯ & Illumina NovaSeq 6000 & RANDOM & genomic & Bisulfite-Seq & BioSample: https://www.ncbi.nlm.nih.gov/biosample/SAMN14771360 & SRA: https://www.ncbi.nlm.nih.gov/sra?term=SRX8207655 & ftp://ftp.ncbi.nlm.nih.gov/geo/samples/GSM4505nnn/GSM4505501/suppl/GSM4505501\\_WGM145\\_04\\_S2\\_brain\\_Ben\\_CpG\\_report.txt.gz           & M.47723 & male   & brain          \\\\\n",
       "\tGSM4505502 & koala\\_WGBS\\_PC\\_kidney           & GSM4505502 & Public on Feb 27 2021 & Apr 29 2020 & Mar 02 2021 & SRA & 1 & kidney                         & Phascolarctos cinereus & Sex: female & ⋯ & Illumina NovaSeq 6000 & RANDOM & genomic & Bisulfite-Seq & BioSample: https://www.ncbi.nlm.nih.gov/biosample/SAMN14771359 & SRA: https://www.ncbi.nlm.nih.gov/sra?term=SRX8207656 & ftp://ftp.ncbi.nlm.nih.gov/geo/samples/GSM4505nnn/GSM4505502/suppl/GSM4505502\\_WGM145\\_06\\_S3\\_kidney\\_PC\\_CpG\\_report.txt.gz           & M.45022 & female & kidney         \\\\\n",
       "\tGSM4505503 & koala\\_WGBS\\_Ben\\_kidney          & GSM4505503 & Public on Feb 27 2021 & Apr 29 2020 & Mar 02 2021 & SRA & 1 & kidney                         & Phascolarctos cinereus & Sex: male   & ⋯ & Illumina NovaSeq 6000 & RANDOM & genomic & Bisulfite-Seq & BioSample: https://www.ncbi.nlm.nih.gov/biosample/SAMN14771357 & SRA: https://www.ncbi.nlm.nih.gov/sra?term=SRX8207657 & ftp://ftp.ncbi.nlm.nih.gov/geo/samples/GSM4505nnn/GSM4505503/suppl/GSM4505503\\_WGM145\\_08\\_S4\\_kidney\\_Ben\\_CpG\\_report.txt.gz          & M.47723 & male   & kidney         \\\\\n",
       "\tGSM4505504 & koala\\_WGBS\\_PC\\_lung             & GSM4505504 & Public on Feb 27 2021 & Apr 29 2020 & Mar 02 2021 & SRA & 1 & lung                           & Phascolarctos cinereus & Sex: female & ⋯ & Illumina NovaSeq 6000 & RANDOM & genomic & Bisulfite-Seq & BioSample: https://www.ncbi.nlm.nih.gov/biosample/SAMN14771355 & SRA: https://www.ncbi.nlm.nih.gov/sra?term=SRX8207658 & ftp://ftp.ncbi.nlm.nih.gov/geo/samples/GSM4505nnn/GSM4505504/suppl/GSM4505504\\_WGM145\\_09\\_S5\\_lung\\_PC\\_CpG\\_report.txt.gz             & M.45022 & female & lung           \\\\\n",
       "\tGSM4505505 & koala\\_WGBS\\_Ben\\_lung            & GSM4505505 & Public on Feb 27 2021 & Apr 29 2020 & Mar 02 2021 & SRA & 1 & lung                           & Phascolarctos cinereus & Sex: male   & ⋯ & Illumina NovaSeq 6000 & RANDOM & genomic & Bisulfite-Seq & BioSample: https://www.ncbi.nlm.nih.gov/biosample/SAMN14771353 & SRA: https://www.ncbi.nlm.nih.gov/sra?term=SRX8207659 & ftp://ftp.ncbi.nlm.nih.gov/geo/samples/GSM4505nnn/GSM4505505/suppl/GSM4505505\\_WGM145\\_12\\_S6\\_lung\\_Ben\\_CpG\\_report.txt.gz            & M.47723 & male   & lung           \\\\\n",
       "\tGSM4505506 & koala\\_WGBS\\_PC\\_skeletal\\_muscle  & GSM4505506 & Public on Feb 27 2021 & Apr 29 2020 & Mar 02 2021 & SRA & 1 & skeletal muscle                & Phascolarctos cinereus & Sex: female & ⋯ & Illumina NovaSeq 6000 & RANDOM & genomic & Bisulfite-Seq & BioSample: https://www.ncbi.nlm.nih.gov/biosample/SAMN14771351 & SRA: https://www.ncbi.nlm.nih.gov/sra?term=SRX8207660 & ftp://ftp.ncbi.nlm.nih.gov/geo/samples/GSM4505nnn/GSM4505506/suppl/GSM4505506\\_WGM145\\_14\\_S7\\_skeletal\\_muscle\\_PC\\_CpG\\_report.txt.gz  & M.45022 & female & skeletal muscle\\\\\n",
       "\tGSM4505507 & koala\\_WGBS\\_Ben\\_skeletal\\_muscle & GSM4505507 & Public on Feb 27 2021 & Apr 29 2020 & Mar 02 2021 & SRA & 1 & skeletal muscle                & Phascolarctos cinereus & Sex: male   & ⋯ & Illumina NovaSeq 6000 & RANDOM & genomic & Bisulfite-Seq & BioSample: https://www.ncbi.nlm.nih.gov/biosample/SAMN14771349 & SRA: https://www.ncbi.nlm.nih.gov/sra?term=SRX8207661 & ftp://ftp.ncbi.nlm.nih.gov/geo/samples/GSM4505nnn/GSM4505507/suppl/GSM4505507\\_WGM145\\_16\\_S8\\_skeletal\\_muscle\\_Ben\\_CpG\\_report.txt.gz & M.47723 & male   & skeletal muscle\\\\\n",
       "\tGSM4505508 & koala\\_WGBS\\_PC\\_pancreas         & GSM4505508 & Public on Feb 27 2021 & Apr 29 2020 & Mar 02 2021 & SRA & 1 & pancreas                       & Phascolarctos cinereus & Sex: female & ⋯ & Illumina NovaSeq 6000 & RANDOM & genomic & Bisulfite-Seq & BioSample: https://www.ncbi.nlm.nih.gov/biosample/SAMN14771347 & SRA: https://www.ncbi.nlm.nih.gov/sra?term=SRX8207662 & ftp://ftp.ncbi.nlm.nih.gov/geo/samples/GSM4505nnn/GSM4505508/suppl/GSM4505508\\_WGM145\\_19\\_S9\\_pancreas\\_PC\\_CpG\\_report.txt.gz         & M.45022 & female & pancreas       \\\\\n",
       "\tGSM4505509 & koala\\_WGBS\\_Ben\\_pancreas        & GSM4505509 & Public on Feb 27 2021 & Apr 29 2020 & Mar 02 2021 & SRA & 1 & pancreas                       & Phascolarctos cinereus & Sex: male   & ⋯ & Illumina NovaSeq 6000 & RANDOM & genomic & Bisulfite-Seq & BioSample: https://www.ncbi.nlm.nih.gov/biosample/SAMN14771346 & SRA: https://www.ncbi.nlm.nih.gov/sra?term=SRX8207663 & ftp://ftp.ncbi.nlm.nih.gov/geo/samples/GSM4505nnn/GSM4505509/suppl/GSM4505509\\_WGM145\\_20\\_S10\\_pancreas\\_Ben\\_CpG\\_report.txt.gz       & M.47723 & male   & pancreas       \\\\\n",
       "\\end{tabular}\n"
      ],
      "text/markdown": [
       "\n",
       "A data.frame: 10 × 41\n",
       "\n",
       "| <!--/--> | title &lt;fct&gt; | geo_accession &lt;chr&gt; | status &lt;fct&gt; | submission_date &lt;fct&gt; | last_update_date &lt;fct&gt; | type &lt;fct&gt; | channel_count &lt;fct&gt; | source_name_ch1 &lt;fct&gt; | organism_ch1 &lt;fct&gt; | characteristics_ch1 &lt;fct&gt; | ⋯ ⋯ | instrument_model &lt;fct&gt; | library_selection &lt;fct&gt; | library_source &lt;fct&gt; | library_strategy &lt;fct&gt; | relation &lt;fct&gt; | relation.1 &lt;fct&gt; | supplementary_file_1 &lt;fct&gt; | australian museum registration:ch1 &lt;chr&gt; | Sex:ch1 &lt;chr&gt; | tissue:ch1 &lt;chr&gt; |\n",
       "|---|---|---|---|---|---|---|---|---|---|---|---|---|---|---|---|---|---|---|---|---|---|\n",
       "| GSM4505500 | koala_WGBS_PC_brain            | GSM4505500 | Public on Feb 27 2021 | Apr 29 2020 | Mar 01 2021 | SRA | 1 | Right hemisphere cerebral lobe | Phascolarctos cinereus | Sex: female | ⋯ | Illumina NovaSeq 6000 | RANDOM | genomic | Bisulfite-Seq | BioSample: https://www.ncbi.nlm.nih.gov/biosample/SAMN14771362 | SRA: https://www.ncbi.nlm.nih.gov/sra?term=SRX8207654 | ftp://ftp.ncbi.nlm.nih.gov/geo/samples/GSM4505nnn/GSM4505500/suppl/GSM4505500_WGM145_01_S1_brain_PC_CpG_report.txt.gz            | M.45022 | female | brain           |\n",
       "| GSM4505501 | koala_WGBS_Ben_brain           | GSM4505501 | Public on Feb 27 2021 | Apr 29 2020 | Mar 02 2021 | SRA | 1 | Right hemisphere cerebral lobe | Phascolarctos cinereus | Sex: male   | ⋯ | Illumina NovaSeq 6000 | RANDOM | genomic | Bisulfite-Seq | BioSample: https://www.ncbi.nlm.nih.gov/biosample/SAMN14771360 | SRA: https://www.ncbi.nlm.nih.gov/sra?term=SRX8207655 | ftp://ftp.ncbi.nlm.nih.gov/geo/samples/GSM4505nnn/GSM4505501/suppl/GSM4505501_WGM145_04_S2_brain_Ben_CpG_report.txt.gz           | M.47723 | male   | brain           |\n",
       "| GSM4505502 | koala_WGBS_PC_kidney           | GSM4505502 | Public on Feb 27 2021 | Apr 29 2020 | Mar 02 2021 | SRA | 1 | kidney                         | Phascolarctos cinereus | Sex: female | ⋯ | Illumina NovaSeq 6000 | RANDOM | genomic | Bisulfite-Seq | BioSample: https://www.ncbi.nlm.nih.gov/biosample/SAMN14771359 | SRA: https://www.ncbi.nlm.nih.gov/sra?term=SRX8207656 | ftp://ftp.ncbi.nlm.nih.gov/geo/samples/GSM4505nnn/GSM4505502/suppl/GSM4505502_WGM145_06_S3_kidney_PC_CpG_report.txt.gz           | M.45022 | female | kidney          |\n",
       "| GSM4505503 | koala_WGBS_Ben_kidney          | GSM4505503 | Public on Feb 27 2021 | Apr 29 2020 | Mar 02 2021 | SRA | 1 | kidney                         | Phascolarctos cinereus | Sex: male   | ⋯ | Illumina NovaSeq 6000 | RANDOM | genomic | Bisulfite-Seq | BioSample: https://www.ncbi.nlm.nih.gov/biosample/SAMN14771357 | SRA: https://www.ncbi.nlm.nih.gov/sra?term=SRX8207657 | ftp://ftp.ncbi.nlm.nih.gov/geo/samples/GSM4505nnn/GSM4505503/suppl/GSM4505503_WGM145_08_S4_kidney_Ben_CpG_report.txt.gz          | M.47723 | male   | kidney          |\n",
       "| GSM4505504 | koala_WGBS_PC_lung             | GSM4505504 | Public on Feb 27 2021 | Apr 29 2020 | Mar 02 2021 | SRA | 1 | lung                           | Phascolarctos cinereus | Sex: female | ⋯ | Illumina NovaSeq 6000 | RANDOM | genomic | Bisulfite-Seq | BioSample: https://www.ncbi.nlm.nih.gov/biosample/SAMN14771355 | SRA: https://www.ncbi.nlm.nih.gov/sra?term=SRX8207658 | ftp://ftp.ncbi.nlm.nih.gov/geo/samples/GSM4505nnn/GSM4505504/suppl/GSM4505504_WGM145_09_S5_lung_PC_CpG_report.txt.gz             | M.45022 | female | lung            |\n",
       "| GSM4505505 | koala_WGBS_Ben_lung            | GSM4505505 | Public on Feb 27 2021 | Apr 29 2020 | Mar 02 2021 | SRA | 1 | lung                           | Phascolarctos cinereus | Sex: male   | ⋯ | Illumina NovaSeq 6000 | RANDOM | genomic | Bisulfite-Seq | BioSample: https://www.ncbi.nlm.nih.gov/biosample/SAMN14771353 | SRA: https://www.ncbi.nlm.nih.gov/sra?term=SRX8207659 | ftp://ftp.ncbi.nlm.nih.gov/geo/samples/GSM4505nnn/GSM4505505/suppl/GSM4505505_WGM145_12_S6_lung_Ben_CpG_report.txt.gz            | M.47723 | male   | lung            |\n",
       "| GSM4505506 | koala_WGBS_PC_skeletal_muscle  | GSM4505506 | Public on Feb 27 2021 | Apr 29 2020 | Mar 02 2021 | SRA | 1 | skeletal muscle                | Phascolarctos cinereus | Sex: female | ⋯ | Illumina NovaSeq 6000 | RANDOM | genomic | Bisulfite-Seq | BioSample: https://www.ncbi.nlm.nih.gov/biosample/SAMN14771351 | SRA: https://www.ncbi.nlm.nih.gov/sra?term=SRX8207660 | ftp://ftp.ncbi.nlm.nih.gov/geo/samples/GSM4505nnn/GSM4505506/suppl/GSM4505506_WGM145_14_S7_skeletal_muscle_PC_CpG_report.txt.gz  | M.45022 | female | skeletal muscle |\n",
       "| GSM4505507 | koala_WGBS_Ben_skeletal_muscle | GSM4505507 | Public on Feb 27 2021 | Apr 29 2020 | Mar 02 2021 | SRA | 1 | skeletal muscle                | Phascolarctos cinereus | Sex: male   | ⋯ | Illumina NovaSeq 6000 | RANDOM | genomic | Bisulfite-Seq | BioSample: https://www.ncbi.nlm.nih.gov/biosample/SAMN14771349 | SRA: https://www.ncbi.nlm.nih.gov/sra?term=SRX8207661 | ftp://ftp.ncbi.nlm.nih.gov/geo/samples/GSM4505nnn/GSM4505507/suppl/GSM4505507_WGM145_16_S8_skeletal_muscle_Ben_CpG_report.txt.gz | M.47723 | male   | skeletal muscle |\n",
       "| GSM4505508 | koala_WGBS_PC_pancreas         | GSM4505508 | Public on Feb 27 2021 | Apr 29 2020 | Mar 02 2021 | SRA | 1 | pancreas                       | Phascolarctos cinereus | Sex: female | ⋯ | Illumina NovaSeq 6000 | RANDOM | genomic | Bisulfite-Seq | BioSample: https://www.ncbi.nlm.nih.gov/biosample/SAMN14771347 | SRA: https://www.ncbi.nlm.nih.gov/sra?term=SRX8207662 | ftp://ftp.ncbi.nlm.nih.gov/geo/samples/GSM4505nnn/GSM4505508/suppl/GSM4505508_WGM145_19_S9_pancreas_PC_CpG_report.txt.gz         | M.45022 | female | pancreas        |\n",
       "| GSM4505509 | koala_WGBS_Ben_pancreas        | GSM4505509 | Public on Feb 27 2021 | Apr 29 2020 | Mar 02 2021 | SRA | 1 | pancreas                       | Phascolarctos cinereus | Sex: male   | ⋯ | Illumina NovaSeq 6000 | RANDOM | genomic | Bisulfite-Seq | BioSample: https://www.ncbi.nlm.nih.gov/biosample/SAMN14771346 | SRA: https://www.ncbi.nlm.nih.gov/sra?term=SRX8207663 | ftp://ftp.ncbi.nlm.nih.gov/geo/samples/GSM4505nnn/GSM4505509/suppl/GSM4505509_WGM145_20_S10_pancreas_Ben_CpG_report.txt.gz       | M.47723 | male   | pancreas        |\n",
       "\n"
      ],
      "text/plain": [
       "           title                          geo_accession status               \n",
       "GSM4505500 koala_WGBS_PC_brain            GSM4505500    Public on Feb 27 2021\n",
       "GSM4505501 koala_WGBS_Ben_brain           GSM4505501    Public on Feb 27 2021\n",
       "GSM4505502 koala_WGBS_PC_kidney           GSM4505502    Public on Feb 27 2021\n",
       "GSM4505503 koala_WGBS_Ben_kidney          GSM4505503    Public on Feb 27 2021\n",
       "GSM4505504 koala_WGBS_PC_lung             GSM4505504    Public on Feb 27 2021\n",
       "GSM4505505 koala_WGBS_Ben_lung            GSM4505505    Public on Feb 27 2021\n",
       "GSM4505506 koala_WGBS_PC_skeletal_muscle  GSM4505506    Public on Feb 27 2021\n",
       "GSM4505507 koala_WGBS_Ben_skeletal_muscle GSM4505507    Public on Feb 27 2021\n",
       "GSM4505508 koala_WGBS_PC_pancreas         GSM4505508    Public on Feb 27 2021\n",
       "GSM4505509 koala_WGBS_Ben_pancreas        GSM4505509    Public on Feb 27 2021\n",
       "           submission_date last_update_date type channel_count\n",
       "GSM4505500 Apr 29 2020     Mar 01 2021      SRA  1            \n",
       "GSM4505501 Apr 29 2020     Mar 02 2021      SRA  1            \n",
       "GSM4505502 Apr 29 2020     Mar 02 2021      SRA  1            \n",
       "GSM4505503 Apr 29 2020     Mar 02 2021      SRA  1            \n",
       "GSM4505504 Apr 29 2020     Mar 02 2021      SRA  1            \n",
       "GSM4505505 Apr 29 2020     Mar 02 2021      SRA  1            \n",
       "GSM4505506 Apr 29 2020     Mar 02 2021      SRA  1            \n",
       "GSM4505507 Apr 29 2020     Mar 02 2021      SRA  1            \n",
       "GSM4505508 Apr 29 2020     Mar 02 2021      SRA  1            \n",
       "GSM4505509 Apr 29 2020     Mar 02 2021      SRA  1            \n",
       "           source_name_ch1                organism_ch1          \n",
       "GSM4505500 Right hemisphere cerebral lobe Phascolarctos cinereus\n",
       "GSM4505501 Right hemisphere cerebral lobe Phascolarctos cinereus\n",
       "GSM4505502 kidney                         Phascolarctos cinereus\n",
       "GSM4505503 kidney                         Phascolarctos cinereus\n",
       "GSM4505504 lung                           Phascolarctos cinereus\n",
       "GSM4505505 lung                           Phascolarctos cinereus\n",
       "GSM4505506 skeletal muscle                Phascolarctos cinereus\n",
       "GSM4505507 skeletal muscle                Phascolarctos cinereus\n",
       "GSM4505508 pancreas                       Phascolarctos cinereus\n",
       "GSM4505509 pancreas                       Phascolarctos cinereus\n",
       "           characteristics_ch1 ⋯ instrument_model      library_selection\n",
       "GSM4505500 Sex: female         ⋯ Illumina NovaSeq 6000 RANDOM           \n",
       "GSM4505501 Sex: male           ⋯ Illumina NovaSeq 6000 RANDOM           \n",
       "GSM4505502 Sex: female         ⋯ Illumina NovaSeq 6000 RANDOM           \n",
       "GSM4505503 Sex: male           ⋯ Illumina NovaSeq 6000 RANDOM           \n",
       "GSM4505504 Sex: female         ⋯ Illumina NovaSeq 6000 RANDOM           \n",
       "GSM4505505 Sex: male           ⋯ Illumina NovaSeq 6000 RANDOM           \n",
       "GSM4505506 Sex: female         ⋯ Illumina NovaSeq 6000 RANDOM           \n",
       "GSM4505507 Sex: male           ⋯ Illumina NovaSeq 6000 RANDOM           \n",
       "GSM4505508 Sex: female         ⋯ Illumina NovaSeq 6000 RANDOM           \n",
       "GSM4505509 Sex: male           ⋯ Illumina NovaSeq 6000 RANDOM           \n",
       "           library_source library_strategy\n",
       "GSM4505500 genomic        Bisulfite-Seq   \n",
       "GSM4505501 genomic        Bisulfite-Seq   \n",
       "GSM4505502 genomic        Bisulfite-Seq   \n",
       "GSM4505503 genomic        Bisulfite-Seq   \n",
       "GSM4505504 genomic        Bisulfite-Seq   \n",
       "GSM4505505 genomic        Bisulfite-Seq   \n",
       "GSM4505506 genomic        Bisulfite-Seq   \n",
       "GSM4505507 genomic        Bisulfite-Seq   \n",
       "GSM4505508 genomic        Bisulfite-Seq   \n",
       "GSM4505509 genomic        Bisulfite-Seq   \n",
       "           relation                                                      \n",
       "GSM4505500 BioSample: https://www.ncbi.nlm.nih.gov/biosample/SAMN14771362\n",
       "GSM4505501 BioSample: https://www.ncbi.nlm.nih.gov/biosample/SAMN14771360\n",
       "GSM4505502 BioSample: https://www.ncbi.nlm.nih.gov/biosample/SAMN14771359\n",
       "GSM4505503 BioSample: https://www.ncbi.nlm.nih.gov/biosample/SAMN14771357\n",
       "GSM4505504 BioSample: https://www.ncbi.nlm.nih.gov/biosample/SAMN14771355\n",
       "GSM4505505 BioSample: https://www.ncbi.nlm.nih.gov/biosample/SAMN14771353\n",
       "GSM4505506 BioSample: https://www.ncbi.nlm.nih.gov/biosample/SAMN14771351\n",
       "GSM4505507 BioSample: https://www.ncbi.nlm.nih.gov/biosample/SAMN14771349\n",
       "GSM4505508 BioSample: https://www.ncbi.nlm.nih.gov/biosample/SAMN14771347\n",
       "GSM4505509 BioSample: https://www.ncbi.nlm.nih.gov/biosample/SAMN14771346\n",
       "           relation.1                                           \n",
       "GSM4505500 SRA: https://www.ncbi.nlm.nih.gov/sra?term=SRX8207654\n",
       "GSM4505501 SRA: https://www.ncbi.nlm.nih.gov/sra?term=SRX8207655\n",
       "GSM4505502 SRA: https://www.ncbi.nlm.nih.gov/sra?term=SRX8207656\n",
       "GSM4505503 SRA: https://www.ncbi.nlm.nih.gov/sra?term=SRX8207657\n",
       "GSM4505504 SRA: https://www.ncbi.nlm.nih.gov/sra?term=SRX8207658\n",
       "GSM4505505 SRA: https://www.ncbi.nlm.nih.gov/sra?term=SRX8207659\n",
       "GSM4505506 SRA: https://www.ncbi.nlm.nih.gov/sra?term=SRX8207660\n",
       "GSM4505507 SRA: https://www.ncbi.nlm.nih.gov/sra?term=SRX8207661\n",
       "GSM4505508 SRA: https://www.ncbi.nlm.nih.gov/sra?term=SRX8207662\n",
       "GSM4505509 SRA: https://www.ncbi.nlm.nih.gov/sra?term=SRX8207663\n",
       "           supplementary_file_1                                                                                                            \n",
       "GSM4505500 ftp://ftp.ncbi.nlm.nih.gov/geo/samples/GSM4505nnn/GSM4505500/suppl/GSM4505500_WGM145_01_S1_brain_PC_CpG_report.txt.gz           \n",
       "GSM4505501 ftp://ftp.ncbi.nlm.nih.gov/geo/samples/GSM4505nnn/GSM4505501/suppl/GSM4505501_WGM145_04_S2_brain_Ben_CpG_report.txt.gz          \n",
       "GSM4505502 ftp://ftp.ncbi.nlm.nih.gov/geo/samples/GSM4505nnn/GSM4505502/suppl/GSM4505502_WGM145_06_S3_kidney_PC_CpG_report.txt.gz          \n",
       "GSM4505503 ftp://ftp.ncbi.nlm.nih.gov/geo/samples/GSM4505nnn/GSM4505503/suppl/GSM4505503_WGM145_08_S4_kidney_Ben_CpG_report.txt.gz         \n",
       "GSM4505504 ftp://ftp.ncbi.nlm.nih.gov/geo/samples/GSM4505nnn/GSM4505504/suppl/GSM4505504_WGM145_09_S5_lung_PC_CpG_report.txt.gz            \n",
       "GSM4505505 ftp://ftp.ncbi.nlm.nih.gov/geo/samples/GSM4505nnn/GSM4505505/suppl/GSM4505505_WGM145_12_S6_lung_Ben_CpG_report.txt.gz           \n",
       "GSM4505506 ftp://ftp.ncbi.nlm.nih.gov/geo/samples/GSM4505nnn/GSM4505506/suppl/GSM4505506_WGM145_14_S7_skeletal_muscle_PC_CpG_report.txt.gz \n",
       "GSM4505507 ftp://ftp.ncbi.nlm.nih.gov/geo/samples/GSM4505nnn/GSM4505507/suppl/GSM4505507_WGM145_16_S8_skeletal_muscle_Ben_CpG_report.txt.gz\n",
       "GSM4505508 ftp://ftp.ncbi.nlm.nih.gov/geo/samples/GSM4505nnn/GSM4505508/suppl/GSM4505508_WGM145_19_S9_pancreas_PC_CpG_report.txt.gz        \n",
       "GSM4505509 ftp://ftp.ncbi.nlm.nih.gov/geo/samples/GSM4505nnn/GSM4505509/suppl/GSM4505509_WGM145_20_S10_pancreas_Ben_CpG_report.txt.gz      \n",
       "           australian museum registration:ch1 Sex:ch1 tissue:ch1     \n",
       "GSM4505500 M.45022                            female  brain          \n",
       "GSM4505501 M.47723                            male    brain          \n",
       "GSM4505502 M.45022                            female  kidney         \n",
       "GSM4505503 M.47723                            male    kidney         \n",
       "GSM4505504 M.45022                            female  lung           \n",
       "GSM4505505 M.47723                            male    lung           \n",
       "GSM4505506 M.45022                            female  skeletal muscle\n",
       "GSM4505507 M.47723                            male    skeletal muscle\n",
       "GSM4505508 M.45022                            female  pancreas       \n",
       "GSM4505509 M.47723                            male    pancreas       "
      ]
     },
     "metadata": {},
     "output_type": "display_data"
    }
   ],
   "source": [
    "df"
   ]
  },
  {
   "cell_type": "code",
   "execution_count": 25,
   "id": "4b503516",
   "metadata": {},
   "outputs": [
    {
     "name": "stderr",
     "output_type": "stream",
     "text": [
      "Warning message in dir.create(dir_to_save, recursive = T):\n",
      "“'../../resources/WGBS_public/Phascolarctos_cinereus/Right_hemisphere_cerebral_lobe' already exists”\n",
      "Warning message in dir.create(dir_to_save, recursive = T):\n",
      "“'../../resources/WGBS_public/Phascolarctos_cinereus/kidney' already exists”\n",
      "Warning message in dir.create(dir_to_save, recursive = T):\n",
      "“'../../resources/WGBS_public/Phascolarctos_cinereus/lung' already exists”\n",
      "Warning message in dir.create(dir_to_save, recursive = T):\n",
      "“'../../resources/WGBS_public/Phascolarctos_cinereus/skeletal_muscle' already exists”\n",
      "Warning message in dir.create(dir_to_save, recursive = T):\n",
      "“'../../resources/WGBS_public/Phascolarctos_cinereus/pancreas' already exists”\n"
     ]
    }
   ],
   "source": [
    "for (i in c(1:NROW(df))){\n",
    "    dir_to_save = paste0(\"../../resources/WGBS_public/\", gsub(\" \", \"_\", df[i, ]$organism_ch1), \"/\", gsub(\" \", \"_\",df[i, ]$source_name_ch1), \"/\")\n",
    "    dir.create(dir_to_save, recursive = T)\n",
    "    download_cpg_report(df[i, ]$supplementary_file_1, dir_to_save)  \n",
    "} "
   ]
  },
  {
   "cell_type": "markdown",
   "id": "b80bbad9",
   "metadata": {},
   "source": [
    "## oyster"
   ]
  },
  {
   "cell_type": "code",
   "execution_count": 26,
   "id": "8dc848d8",
   "metadata": {},
   "outputs": [
    {
     "name": "stderr",
     "output_type": "stream",
     "text": [
      "Found 1 file(s)\n",
      "\n",
      "GSE40302_series_matrix.txt.gz\n",
      "\n",
      "\n",
      "\u001b[36m──\u001b[39m \u001b[1m\u001b[1mColumn specification\u001b[1m\u001b[22m \u001b[36m────────────────────────────────────────────────────────\u001b[39m\n",
      "cols(\n",
      "  ID_REF = \u001b[31mcol_character()\u001b[39m,\n",
      "  GSM991064 = \u001b[31mcol_character()\u001b[39m,\n",
      "  GSM991065 = \u001b[31mcol_character()\u001b[39m\n",
      ")\n",
      "\n",
      "\n",
      "File stored at: \n",
      "\n",
      "/tmp/Rtmpg8tL1S/GPL13986.soft\n",
      "\n"
     ]
    }
   ],
   "source": [
    "df <- get_gse_df(\"GSE40302\")"
   ]
  },
  {
   "cell_type": "code",
   "execution_count": 27,
   "id": "793ecc91",
   "metadata": {},
   "outputs": [
    {
     "data": {
      "text/html": [
       "<table class=\"dataframe\">\n",
       "<caption>A data.frame: 2 × 45</caption>\n",
       "<thead>\n",
       "\t<tr><th></th><th scope=col>title</th><th scope=col>geo_accession</th><th scope=col>status</th><th scope=col>submission_date</th><th scope=col>last_update_date</th><th scope=col>type</th><th scope=col>channel_count</th><th scope=col>source_name_ch1</th><th scope=col>organism_ch1</th><th scope=col>characteristics_ch1</th><th scope=col>⋯</th><th scope=col>library_source</th><th scope=col>library_strategy</th><th scope=col>relation</th><th scope=col>relation.1</th><th scope=col>relation.2</th><th scope=col>supplementary_file_1</th><th scope=col>gender:ch1</th><th scope=col>individual type:ch1</th><th scope=col>sample type:ch1</th><th scope=col>tissue:ch1</th></tr>\n",
       "\t<tr><th></th><th scope=col>&lt;fct&gt;</th><th scope=col>&lt;chr&gt;</th><th scope=col>&lt;fct&gt;</th><th scope=col>&lt;fct&gt;</th><th scope=col>&lt;fct&gt;</th><th scope=col>&lt;fct&gt;</th><th scope=col>&lt;fct&gt;</th><th scope=col>&lt;fct&gt;</th><th scope=col>&lt;fct&gt;</th><th scope=col>&lt;fct&gt;</th><th scope=col>⋯</th><th scope=col>&lt;fct&gt;</th><th scope=col>&lt;fct&gt;</th><th scope=col>&lt;fct&gt;</th><th scope=col>&lt;fct&gt;</th><th scope=col>&lt;fct&gt;</th><th scope=col>&lt;fct&gt;</th><th scope=col>&lt;chr&gt;</th><th scope=col>&lt;chr&gt;</th><th scope=col>&lt;chr&gt;</th><th scope=col>&lt;chr&gt;</th></tr>\n",
       "</thead>\n",
       "<tbody>\n",
       "\t<tr><th scope=row>GSM991064</th><td>Inbred</td><td>GSM991064</td><td>Public on Dec 18 2014</td><td>Aug 22 2012</td><td>May 15 2019</td><td>SRA</td><td>1</td><td>mantle of the inbred individual</td><td>Crassostrea gigas</td><td>individual type: inbred</td><td>⋯</td><td>genomic</td><td>Bisulfite-Seq</td><td>SRA: https://www.ncbi.nlm.nih.gov/sra?term=SRX180559</td><td>SRA: https://www.ncbi.nlm.nih.gov/sra?term=SRX180560</td><td>BioSample: https://www.ncbi.nlm.nih.gov/biosample/SAMN01125790</td><td>ftp://ftp.ncbi.nlm.nih.gov/geo/samples/GSM991nnn/GSM991064/suppl/GSM991064_Inbred.Cdepth.txt.gz</td><td>female</td><td>inbred</td><td>reference</td><td>mantle</td></tr>\n",
       "\t<tr><th scope=row>GSM991065</th><td>Wild  </td><td>GSM991065</td><td>Public on Dec 18 2014</td><td>Aug 22 2012</td><td>May 15 2019</td><td>SRA</td><td>1</td><td>mantle of the wild individual  </td><td>Crassostrea gigas</td><td>individual type: wild  </td><td>⋯</td><td>genomic</td><td>Bisulfite-Seq</td><td>SRA: https://www.ncbi.nlm.nih.gov/sra?term=SRX180561</td><td>SRA: https://www.ncbi.nlm.nih.gov/sra?term=SRX180562</td><td>BioSample: https://www.ncbi.nlm.nih.gov/biosample/SAMN01125791</td><td>ftp://ftp.ncbi.nlm.nih.gov/geo/samples/GSM991nnn/GSM991065/suppl/GSM991065_Wild.Cdepth.txt.gz  </td><td>NA    </td><td>wild  </td><td>NA       </td><td>mantle</td></tr>\n",
       "</tbody>\n",
       "</table>\n"
      ],
      "text/latex": [
       "A data.frame: 2 × 45\n",
       "\\begin{tabular}{r|lllllllllllllllllllll}\n",
       "  & title & geo\\_accession & status & submission\\_date & last\\_update\\_date & type & channel\\_count & source\\_name\\_ch1 & organism\\_ch1 & characteristics\\_ch1 & ⋯ & library\\_source & library\\_strategy & relation & relation.1 & relation.2 & supplementary\\_file\\_1 & gender:ch1 & individual type:ch1 & sample type:ch1 & tissue:ch1\\\\\n",
       "  & <fct> & <chr> & <fct> & <fct> & <fct> & <fct> & <fct> & <fct> & <fct> & <fct> & ⋯ & <fct> & <fct> & <fct> & <fct> & <fct> & <fct> & <chr> & <chr> & <chr> & <chr>\\\\\n",
       "\\hline\n",
       "\tGSM991064 & Inbred & GSM991064 & Public on Dec 18 2014 & Aug 22 2012 & May 15 2019 & SRA & 1 & mantle of the inbred individual & Crassostrea gigas & individual type: inbred & ⋯ & genomic & Bisulfite-Seq & SRA: https://www.ncbi.nlm.nih.gov/sra?term=SRX180559 & SRA: https://www.ncbi.nlm.nih.gov/sra?term=SRX180560 & BioSample: https://www.ncbi.nlm.nih.gov/biosample/SAMN01125790 & ftp://ftp.ncbi.nlm.nih.gov/geo/samples/GSM991nnn/GSM991064/suppl/GSM991064\\_Inbred.Cdepth.txt.gz & female & inbred & reference & mantle\\\\\n",
       "\tGSM991065 & Wild   & GSM991065 & Public on Dec 18 2014 & Aug 22 2012 & May 15 2019 & SRA & 1 & mantle of the wild individual   & Crassostrea gigas & individual type: wild   & ⋯ & genomic & Bisulfite-Seq & SRA: https://www.ncbi.nlm.nih.gov/sra?term=SRX180561 & SRA: https://www.ncbi.nlm.nih.gov/sra?term=SRX180562 & BioSample: https://www.ncbi.nlm.nih.gov/biosample/SAMN01125791 & ftp://ftp.ncbi.nlm.nih.gov/geo/samples/GSM991nnn/GSM991065/suppl/GSM991065\\_Wild.Cdepth.txt.gz   & NA     & wild   & NA        & mantle\\\\\n",
       "\\end{tabular}\n"
      ],
      "text/markdown": [
       "\n",
       "A data.frame: 2 × 45\n",
       "\n",
       "| <!--/--> | title &lt;fct&gt; | geo_accession &lt;chr&gt; | status &lt;fct&gt; | submission_date &lt;fct&gt; | last_update_date &lt;fct&gt; | type &lt;fct&gt; | channel_count &lt;fct&gt; | source_name_ch1 &lt;fct&gt; | organism_ch1 &lt;fct&gt; | characteristics_ch1 &lt;fct&gt; | ⋯ ⋯ | library_source &lt;fct&gt; | library_strategy &lt;fct&gt; | relation &lt;fct&gt; | relation.1 &lt;fct&gt; | relation.2 &lt;fct&gt; | supplementary_file_1 &lt;fct&gt; | gender:ch1 &lt;chr&gt; | individual type:ch1 &lt;chr&gt; | sample type:ch1 &lt;chr&gt; | tissue:ch1 &lt;chr&gt; |\n",
       "|---|---|---|---|---|---|---|---|---|---|---|---|---|---|---|---|---|---|---|---|---|---|\n",
       "| GSM991064 | Inbred | GSM991064 | Public on Dec 18 2014 | Aug 22 2012 | May 15 2019 | SRA | 1 | mantle of the inbred individual | Crassostrea gigas | individual type: inbred | ⋯ | genomic | Bisulfite-Seq | SRA: https://www.ncbi.nlm.nih.gov/sra?term=SRX180559 | SRA: https://www.ncbi.nlm.nih.gov/sra?term=SRX180560 | BioSample: https://www.ncbi.nlm.nih.gov/biosample/SAMN01125790 | ftp://ftp.ncbi.nlm.nih.gov/geo/samples/GSM991nnn/GSM991064/suppl/GSM991064_Inbred.Cdepth.txt.gz | female | inbred | reference | mantle |\n",
       "| GSM991065 | Wild   | GSM991065 | Public on Dec 18 2014 | Aug 22 2012 | May 15 2019 | SRA | 1 | mantle of the wild individual   | Crassostrea gigas | individual type: wild   | ⋯ | genomic | Bisulfite-Seq | SRA: https://www.ncbi.nlm.nih.gov/sra?term=SRX180561 | SRA: https://www.ncbi.nlm.nih.gov/sra?term=SRX180562 | BioSample: https://www.ncbi.nlm.nih.gov/biosample/SAMN01125791 | ftp://ftp.ncbi.nlm.nih.gov/geo/samples/GSM991nnn/GSM991065/suppl/GSM991065_Wild.Cdepth.txt.gz   | NA     | wild   | NA        | mantle |\n",
       "\n"
      ],
      "text/plain": [
       "          title  geo_accession status                submission_date\n",
       "GSM991064 Inbred GSM991064     Public on Dec 18 2014 Aug 22 2012    \n",
       "GSM991065 Wild   GSM991065     Public on Dec 18 2014 Aug 22 2012    \n",
       "          last_update_date type channel_count source_name_ch1                \n",
       "GSM991064 May 15 2019      SRA  1             mantle of the inbred individual\n",
       "GSM991065 May 15 2019      SRA  1             mantle of the wild individual  \n",
       "          organism_ch1      characteristics_ch1     ⋯ library_source\n",
       "GSM991064 Crassostrea gigas individual type: inbred ⋯ genomic       \n",
       "GSM991065 Crassostrea gigas individual type: wild   ⋯ genomic       \n",
       "          library_strategy relation                                            \n",
       "GSM991064 Bisulfite-Seq    SRA: https://www.ncbi.nlm.nih.gov/sra?term=SRX180559\n",
       "GSM991065 Bisulfite-Seq    SRA: https://www.ncbi.nlm.nih.gov/sra?term=SRX180561\n",
       "          relation.1                                          \n",
       "GSM991064 SRA: https://www.ncbi.nlm.nih.gov/sra?term=SRX180560\n",
       "GSM991065 SRA: https://www.ncbi.nlm.nih.gov/sra?term=SRX180562\n",
       "          relation.2                                                    \n",
       "GSM991064 BioSample: https://www.ncbi.nlm.nih.gov/biosample/SAMN01125790\n",
       "GSM991065 BioSample: https://www.ncbi.nlm.nih.gov/biosample/SAMN01125791\n",
       "          supplementary_file_1                                                                           \n",
       "GSM991064 ftp://ftp.ncbi.nlm.nih.gov/geo/samples/GSM991nnn/GSM991064/suppl/GSM991064_Inbred.Cdepth.txt.gz\n",
       "GSM991065 ftp://ftp.ncbi.nlm.nih.gov/geo/samples/GSM991nnn/GSM991065/suppl/GSM991065_Wild.Cdepth.txt.gz  \n",
       "          gender:ch1 individual type:ch1 sample type:ch1 tissue:ch1\n",
       "GSM991064 female     inbred              reference       mantle    \n",
       "GSM991065 NA         wild                NA              mantle    "
      ]
     },
     "metadata": {},
     "output_type": "display_data"
    }
   ],
   "source": [
    "df"
   ]
  },
  {
   "cell_type": "code",
   "execution_count": 28,
   "id": "b6b26416",
   "metadata": {},
   "outputs": [],
   "source": [
    "for (i in c(1:NROW(df))){\n",
    "    dir_to_save = paste0(\"../../resources/WGBS_public/\", gsub(\" \", \"_\", df[i, ]$organism_ch1), \"/\", df[i, \"tissue:ch1\"],\"_\", gsub(\" \", \"_\",df[i, ]$source_name_ch1), \"/\")\n",
    "    dir.create(dir_to_save, recursive = T)\n",
    "    download_cpg_report(df[i, ]$supplementary_file_1, dir_to_save)  \n",
    "} "
   ]
  },
  {
   "cell_type": "code",
   "execution_count": null,
   "id": "9de053d7",
   "metadata": {},
   "outputs": [],
   "source": []
  }
 ],
 "metadata": {
  "kernelspec": {
   "display_name": "R_crossSp_361",
   "language": "R",
   "name": "r_crosssp"
  },
  "language_info": {
   "codemirror_mode": "r",
   "file_extension": ".r",
   "mimetype": "text/x-r-source",
   "name": "R",
   "pygments_lexer": "r",
   "version": "3.6.1"
  }
 },
 "nbformat": 4,
 "nbformat_minor": 5
}
