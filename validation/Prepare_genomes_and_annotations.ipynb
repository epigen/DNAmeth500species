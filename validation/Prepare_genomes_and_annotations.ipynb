{
 "cells": [
  {
   "cell_type": "code",
   "execution_count": 1,
   "metadata": {
    "collapsed": true,
    "jupyter": {
     "outputs_hidden": true
    }
   },
   "outputs": [
    {
     "name": "stderr",
     "output_type": "stream",
     "text": [
      "Loading required package: BiocGenerics\n",
      "\n",
      "Loading required package: parallel\n",
      "\n",
      "\n",
      "Attaching package: ‘BiocGenerics’\n",
      "\n",
      "\n",
      "The following objects are masked from ‘package:parallel’:\n",
      "\n",
      "    clusterApply, clusterApplyLB, clusterCall, clusterEvalQ,\n",
      "    clusterExport, clusterMap, parApply, parCapply, parLapply,\n",
      "    parLapplyLB, parRapply, parSapply, parSapplyLB\n",
      "\n",
      "\n",
      "The following objects are masked from ‘package:stats’:\n",
      "\n",
      "    IQR, mad, sd, var, xtabs\n",
      "\n",
      "\n",
      "The following objects are masked from ‘package:base’:\n",
      "\n",
      "    anyDuplicated, append, as.data.frame, basename, cbind, colnames,\n",
      "    dirname, do.call, duplicated, eval, evalq, Filter, Find, get, grep,\n",
      "    grepl, intersect, is.unsorted, lapply, Map, mapply, match, mget,\n",
      "    order, paste, pmax, pmax.int, pmin, pmin.int, Position, rank,\n",
      "    rbind, Reduce, rownames, sapply, setdiff, sort, table, tapply,\n",
      "    union, unique, unsplit, which, which.max, which.min\n",
      "\n",
      "\n",
      "Loading required package: S4Vectors\n",
      "\n",
      "Loading required package: stats4\n",
      "\n",
      "\n",
      "Attaching package: ‘S4Vectors’\n",
      "\n",
      "\n",
      "The following object is masked from ‘package:base’:\n",
      "\n",
      "    expand.grid\n",
      "\n",
      "\n",
      "Loading required package: IRanges\n",
      "\n",
      "Loading required package: XVector\n",
      "\n",
      "Warning message:\n",
      "“no function found corresponding to methods exports from ‘XVector’ for: ‘concatenateObjects’”\n",
      "Warning message:\n",
      "“multiple methods tables found for ‘type’”\n",
      "\n",
      "Attaching package: ‘Biostrings’\n",
      "\n",
      "\n",
      "The following object is masked from ‘package:BiocGenerics’:\n",
      "\n",
      "    type\n",
      "\n",
      "\n",
      "The following object is masked from ‘package:base’:\n",
      "\n",
      "    strsplit\n",
      "\n",
      "\n",
      "Loading required package: GenomicRanges\n",
      "\n",
      "Loading required package: GenomeInfoDb\n",
      "\n",
      "Warning message:\n",
      "“replacing previous import ‘BiocGenerics::dims’ by ‘Biobase::dims’ when loading ‘SummarizedExperiment’”\n",
      "Warning message:\n",
      "“multiple methods tables found for ‘type’”\n",
      "Warning message:\n",
      "“multiple methods tables found for ‘lengths’”\n",
      "Warning message:\n",
      "“multiple methods tables found for ‘rowSums’”\n",
      "Warning message:\n",
      "“multiple methods tables found for ‘colSums’”\n",
      "Warning message:\n",
      "“multiple methods tables found for ‘rowMeans’”\n",
      "Warning message:\n",
      "“multiple methods tables found for ‘colMeans’”\n",
      "Warning message:\n",
      "“multiple methods tables found for ‘splitAsList’”\n",
      "Warning message:\n",
      "“replacing previous import ‘BiocGenerics::type’ by ‘DelayedArray::type’ when loading ‘SummarizedExperiment’”\n",
      "Warning message:\n",
      "“replacing previous import ‘BiocGenerics::type’ by ‘Biostrings::type’ when loading ‘GenomicAlignments’”\n",
      "Warning message:\n",
      "“no function found corresponding to methods exports from ‘GenomicAlignments’ for: ‘concatenateObjects’”\n"
     ]
    }
   ],
   "source": [
    "library(Biostrings)\n",
    "library(rtracklayer)"
   ]
  },
  {
   "cell_type": "markdown",
   "metadata": {},
   "source": [
    "## Set of species to analyse:"
   ]
  },
  {
   "cell_type": "code",
   "execution_count": 4,
   "metadata": {},
   "outputs": [
    {
     "name": "stderr",
     "output_type": "stream",
     "text": [
      "Warning message in read.table(file = file, header = header, sep = sep, quote = quote, :\n",
      "“incomplete final line found by readTableHeader on 'validation_species.txt'”\n"
     ]
    },
    {
     "data": {
      "text/html": [
       "<table>\n",
       "<thead><tr><th scope=col>species</th><th scope=col>BSlibrary</th><th scope=col>genome_id</th><th scope=col>species_id</th></tr></thead>\n",
       "<tbody>\n",
       "\t<tr><td>Mouse                       </td><td>BSgenome.Mmusculus.UCSC.mm10</td><td>Mmusculus                   </td><td>MUS                         </td></tr>\n",
       "\t<tr><td>Zebrafish                   </td><td>BSgenome.Drerio.UCSC.danRer7</td><td>Drerio                      </td><td>                            </td></tr>\n",
       "</tbody>\n",
       "</table>\n"
      ],
      "text/latex": [
       "\\begin{tabular}{r|llll}\n",
       " species & BSlibrary & genome\\_id & species\\_id\\\\\n",
       "\\hline\n",
       "\t Mouse                        & BSgenome.Mmusculus.UCSC.mm10 & Mmusculus                    & MUS                         \\\\\n",
       "\t Zebrafish                    & BSgenome.Drerio.UCSC.danRer7 & Drerio                       &                             \\\\\n",
       "\\end{tabular}\n"
      ],
      "text/markdown": [
       "\n",
       "| species | BSlibrary | genome_id | species_id |\n",
       "|---|---|---|---|\n",
       "| Mouse                        | BSgenome.Mmusculus.UCSC.mm10 | Mmusculus                    | MUS                          |\n",
       "| Zebrafish                    | BSgenome.Drerio.UCSC.danRer7 | Drerio                       |                              |\n",
       "\n"
      ],
      "text/plain": [
       "  species   BSlibrary                    genome_id species_id\n",
       "1 Mouse     BSgenome.Mmusculus.UCSC.mm10 Mmusculus MUS       \n",
       "2 Zebrafish BSgenome.Drerio.UCSC.danRer7 Drerio              "
      ]
     },
     "metadata": {},
     "output_type": "display_data"
    }
   ],
   "source": [
    "df <- read.csv(\"validation_species.txt\", sep = \";\")\n",
    "head(df)"
   ]
  },
  {
   "cell_type": "code",
   "execution_count": null,
   "metadata": {},
   "outputs": [],
   "source": [
    "Uploading the needed packages and including "
   ]
  },
  {
   "cell_type": "code",
   "execution_count": null,
   "metadata": {},
   "outputs": [
    {
     "name": "stdout",
     "output_type": "stream",
     "text": [
      "[1] \"bla\"\n",
      "[1] \"installing missing package\"\n"
     ]
    },
    {
     "name": "stderr",
     "output_type": "stream",
     "text": [
      "Bioconductor version 3.10 (BiocManager 1.30.10), R 3.6.1 (2019-07-05)\n",
      "\n",
      "Installing package(s) 'BSgenome.Drerio.UCSC.danRer7'\n",
      "\n"
     ]
    }
   ],
   "source": [
    "for (BSlibrary in df$BSlibrary) {\n",
    "    result <- tryCatch({\n",
    "    library(BSlibrary, character.only = TRUE)\n",
    "        }, warning = function(w) {\n",
    "    print(\"some warnings there\")\n",
    "        }, error = function(e) {\n",
    "        print(\"installing missing package\")\n",
    "        BiocManager::install(BiocManager::install(BSlibrary, character.only = TRUE))\n",
    "        library(BSlibrary, character.only = TRUE)\n",
    "    }, finally = {\n",
    "    print(\"bla\")\n",
    "    })\n",
    "    }"
   ]
  },
  {
   "cell_type": "code",
   "execution_count": 20,
   "metadata": {},
   "outputs": [
    {
     "name": "stdout",
     "output_type": "stream",
     "text": [
      "[1] \"no library\"\n",
      "[1] \"bla\"\n"
     ]
    }
   ],
   "source": [
    "tryCatch({ibrary(BSlibrary, character.only = TRUE)\n",
    "        }, warning = function(w) {\n",
    "    print(\"some warnings there\")\n",
    "        }, error = function(e) {\n",
    "        print(\"no library\")\n",
    "    }, finally = {\n",
    "    print(\"bla\")\n",
    "    })"
   ]
  },
  {
   "cell_type": "code",
   "execution_count": 17,
   "metadata": {},
   "outputs": [
    {
     "data": {
      "text/html": [
       "'BSgenome.Drerio.UCSC.danRer7'"
      ],
      "text/latex": [
       "'BSgenome.Drerio.UCSC.danRer7'"
      ],
      "text/markdown": [
       "'BSgenome.Drerio.UCSC.danRer7'"
      ],
      "text/plain": [
       "[1] \"BSgenome.Drerio.UCSC.danRer7\""
      ]
     },
     "metadata": {},
     "output_type": "display_data"
    }
   ],
   "source": [
    "BSlibrary"
   ]
  },
  {
   "cell_type": "code",
   "execution_count": 14,
   "metadata": {},
   "outputs": [
    {
     "ename": "ERROR",
     "evalue": "Error in BiocManager::install(df$BSlibrary): is.character(pkgs) is not TRUE\n",
     "output_type": "error",
     "traceback": [
      "Error in BiocManager::install(df$BSlibrary): is.character(pkgs) is not TRUE\nTraceback:\n",
      "1. BiocManager::install(df$BSlibrary)",
      "2. stopifnot(is.character(pkgs), !anyNA(pkgs), .install_validate_dots(...), \n .     length(site_repository) <= 1L, is.character(site_repository), \n .     !any(is.na(site_repository)), is.logical(update), length(update) == \n .         1L, !is.na(update), is.logical(ask), length(ask) == 1L, \n .     !is.na(ask), is.logical(checkBuilt), length(checkBuilt) == \n .         1L, !is.na(checkBuilt), length(version) == 1L || inherits(version, \n .         \"version_sentinel\"))"
     ]
    }
   ],
   "source": [
    "BiocManager::install()"
   ]
  }
 ],
 "metadata": {
  "kernelspec": {
   "display_name": "R",
   "language": "R",
   "name": "ir"
  },
  "language_info": {
   "codemirror_mode": "r",
   "file_extension": ".r",
   "mimetype": "text/x-r-source",
   "name": "R",
   "pygments_lexer": "r",
   "version": "3.6.1"
  }
 },
 "nbformat": 4,
 "nbformat_minor": 4
}
